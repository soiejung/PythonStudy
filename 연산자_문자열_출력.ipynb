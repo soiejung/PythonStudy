{
  "nbformat": 4,
  "nbformat_minor": 0,
  "metadata": {
    "colab": {
      "provenance": [],
      "include_colab_link": true
    },
    "kernelspec": {
      "name": "python3",
      "display_name": "Python 3"
    },
    "language_info": {
      "name": "python"
    }
  },
  "cells": [
    {
      "cell_type": "markdown",
      "metadata": {
        "id": "view-in-github",
        "colab_type": "text"
      },
      "source": [
        "<a href=\"https://colab.research.google.com/github/soiejung/PythonStudy/blob/main/%EC%97%B0%EC%82%B0%EC%9E%90_%EB%AC%B8%EC%9E%90%EC%97%B4_%EC%B6%9C%EB%A0%A5.ipynb\" target=\"_parent\"><img src=\"https://colab.research.google.com/assets/colab-badge.svg\" alt=\"Open In Colab\"/></a>"
      ]
    },
    {
      "cell_type": "markdown",
      "source": [
        "# 0. 복습\n"
      ],
      "metadata": {
        "id": "6rlvkqRz63D4"
      }
    },
    {
      "cell_type": "markdown",
      "source": [
        "- while 과 for가 있다\n",
        "\n",
        "- 무한반복을 피하기 위해서\n",
        "\n",
        "1)\n",
        "    시작하는 조건\n",
        "\n",
        "    while 명제:\n",
        "        실행문\n",
        "        언젠가 명제를 거짓으로 만들 조건\n",
        "\n",
        "\n",
        "\n",
        "2)\n",
        "\n",
        "    while True:\n",
        "        if  조건:\n",
        "            break\n",
        "\n",
        "\n",
        "3)\n",
        "\n",
        "    flag = True # True와 False로 전체 흐름을 제어하는 변수\n",
        "\n",
        "    while flag:\n",
        "        if 조건:\n",
        "            flag = False\n",
        "\n",
        "\n",
        "\n",
        "\n",
        "\n",
        "2. for\n",
        "\n",
        "\n",
        "    for _ in iterable한집합자료형:\n",
        "        _ 를 가지고 반복을 계속할 실행문\n",
        "\n",
        "\n",
        "    for _ in 매핑형 집합자료형:\n",
        "        순서를 맘대로 꺼내올 수 없음\n",
        "\n",
        "\n",
        "- break(해당 명령어를 만나는 순간 반복문 바깥으로 빠져나옴: 완전 종료)\n",
        "- continue(해당 명령어를 만나는 순간 아래에 있는 실행문들을 한번만 무시)\n",
        "\n",
        "- break, continue 밑에 있는 실행문은 무시된다"
      ],
      "metadata": {
        "id": "DHOAvdg1ZXSW"
      }
    },
    {
      "cell_type": "markdown",
      "source": [
        "1-1. 아래의 리스트를 for문과 인덱싱을 활용하여 output과 같이 출력해보세요.\n",
        "~~~\n",
        "list1 = ['가', '나', '다', '라', '마', '바']\n",
        "~~~\n"
      ],
      "metadata": {
        "id": "uj4kT0J3HQXV"
      }
    },
    {
      "cell_type": "markdown",
      "source": [
        "output:\n",
        "~~~\n",
        "가 나\n",
        "나 다\n",
        "다 라\n",
        "라 마\n",
        "마 바\n",
        "~~~"
      ],
      "metadata": {
        "id": "oI9BpNCwHQXW"
      }
    },
    {
      "cell_type": "code",
      "source": [
        "list1 = ['가', '나', '다', '라', '마', '바']"
      ],
      "metadata": {
        "id": "JEBGi9NQbAUZ"
      },
      "execution_count": null,
      "outputs": []
    },
    {
      "cell_type": "code",
      "source": [
        "for lis in list1:\n",
        "    print(lis)"
      ],
      "metadata": {
        "colab": {
          "base_uri": "https://localhost:8080/"
        },
        "id": "mIVB9h7TbBsQ",
        "outputId": "9a64ec0a-3884-47df-b9cd-124de831dd74"
      },
      "execution_count": null,
      "outputs": [
        {
          "output_type": "stream",
          "name": "stdout",
          "text": [
            "가\n",
            "나\n",
            "다\n",
            "라\n",
            "마\n",
            "바\n"
          ]
        }
      ]
    },
    {
      "cell_type": "code",
      "source": [
        "len(list1)"
      ],
      "metadata": {
        "colab": {
          "base_uri": "https://localhost:8080/"
        },
        "id": "SibXLrWlccxg",
        "outputId": "5384ea0c-ae7d-49f6-87c6-935169f68a65"
      },
      "execution_count": null,
      "outputs": [
        {
          "output_type": "execute_result",
          "data": {
            "text/plain": [
              "6"
            ]
          },
          "metadata": {},
          "execution_count": 15
        }
      ]
    },
    {
      "cell_type": "code",
      "source": [
        "# 가 나\n",
        "# 나 다 - 익숙하지 않으면 앞의 두 줄만 직접 만들어보세요\n",
        "print(list1[0], list1[1])\n",
        "print(list1[1], list1[2])"
      ],
      "metadata": {
        "colab": {
          "base_uri": "https://localhost:8080/"
        },
        "id": "5DBra-gdbqYr",
        "outputId": "3bcc4c97-eb87-4f32-c120-41eff931ebb7"
      },
      "execution_count": null,
      "outputs": [
        {
          "output_type": "stream",
          "name": "stdout",
          "text": [
            "가 나\n",
            "나 다\n"
          ]
        }
      ]
    },
    {
      "cell_type": "code",
      "source": [
        "for i in range(len(list1)-1): # IndexError: list index out of range\n",
        "    print(i, list1[i], list1[i+1])"
      ],
      "metadata": {
        "colab": {
          "base_uri": "https://localhost:8080/"
        },
        "id": "BAATrrOebYD8",
        "outputId": "35aaa103-6d33-4b64-b97e-2b96284eed64"
      },
      "execution_count": null,
      "outputs": [
        {
          "output_type": "stream",
          "name": "stdout",
          "text": [
            "0 가 나\n",
            "1 나 다\n",
            "2 다 라\n",
            "3 라 마\n",
            "4 마 바\n"
          ]
        }
      ]
    },
    {
      "cell_type": "markdown",
      "source": [
        "1-2. 아래의 리스트를 for문과 인덱싱을 활용하여 output과 같이 출력해보세요.\n",
        "~~~\n",
        "list1 = ['가', '나', '다', '라', '마', '바']\n",
        "~~~\n",
        "output:\n",
        "~~~\n",
        "바 마\n",
        "마 라\n",
        "라 다\n",
        "다 나\n",
        "나 가\n",
        "~~~"
      ],
      "metadata": {
        "id": "qWh2okcLHQXW"
      }
    },
    {
      "cell_type": "code",
      "source": [
        "list1"
      ],
      "metadata": {
        "colab": {
          "base_uri": "https://localhost:8080/"
        },
        "id": "qxjO3EK8cy_E",
        "outputId": "0997f956-d8f1-4f63-c4ab-945c71bbf663"
      },
      "execution_count": null,
      "outputs": [
        {
          "output_type": "execute_result",
          "data": {
            "text/plain": [
              "['가', '나', '다', '라', '마', '바']"
            ]
          },
          "metadata": {},
          "execution_count": 17
        }
      ]
    },
    {
      "cell_type": "code",
      "source": [
        "# 바 마\n",
        "# 마 라 - 익숙하지 않으면 앞의 두 줄만 직접 만들어보세요\n",
        "print(list1[-1], list1[-2])\n",
        "print(list1[-2], list1[-3])"
      ],
      "metadata": {
        "colab": {
          "base_uri": "https://localhost:8080/"
        },
        "id": "g7UkoL5lcvu-",
        "outputId": "827b53de-5f1c-4a75-fc6b-04431142d755"
      },
      "execution_count": null,
      "outputs": [
        {
          "output_type": "stream",
          "name": "stdout",
          "text": [
            "바 마\n",
            "마 라\n"
          ]
        }
      ]
    },
    {
      "cell_type": "code",
      "source": [
        "for i in range(1, len(list1)): # IndexError: list index out of range\n",
        "    print(-i, list1[-i], list1[-(i+1)])"
      ],
      "metadata": {
        "id": "EFJbCkm3HQXW",
        "colab": {
          "base_uri": "https://localhost:8080/"
        },
        "outputId": "76e98085-4f8a-4846-aed3-52a5450597f5"
      },
      "execution_count": null,
      "outputs": [
        {
          "output_type": "stream",
          "name": "stdout",
          "text": [
            "-1 바 마\n",
            "-2 마 라\n",
            "-3 라 다\n",
            "-4 다 나\n",
            "-5 나 가\n"
          ]
        }
      ]
    },
    {
      "cell_type": "code",
      "source": [
        "for i in range(len(list1)-1): # IndexError: list index out of range\n",
        "    print(i, list1[len(list1)-1-i], list1[len(list1)-2-i])"
      ],
      "metadata": {
        "colab": {
          "base_uri": "https://localhost:8080/"
        },
        "id": "pjwqDJ_rdQ6c",
        "outputId": "f115dda8-4b83-41df-afb6-74b90b72156e"
      },
      "execution_count": null,
      "outputs": [
        {
          "output_type": "stream",
          "name": "stdout",
          "text": [
            "0 바 마\n",
            "1 마 라\n",
            "2 라 다\n",
            "3 다 나\n",
            "4 나 가\n"
          ]
        }
      ]
    },
    {
      "cell_type": "markdown",
      "source": [
        "2차원 리스트\n",
        "\n",
        "2-1. 아래의 그림을 참조하여 한층에 2가구씩 사는 아파트를 2차원리스트 dong에 담아보세요.\n",
        "\n",
        "dong\n",
        "~~~\n",
        "101호|102호\n",
        "201호|202호\n",
        "301호|302호\n",
        "401호|402호\n",
        "\n",
        "~~~\n"
      ],
      "metadata": {
        "id": "JdI_hV7cHQXX"
      }
    },
    {
      "cell_type": "code",
      "source": [
        "dong = [[\"101호\", \"102호\"], [\"201호\", \"202호\"], [\"301호\", \"302호\"], [\"401호\", \"402호\"]]"
      ],
      "metadata": {
        "id": "EYhOpvM7HQXX"
      },
      "execution_count": null,
      "outputs": []
    },
    {
      "cell_type": "code",
      "source": [
        "print(dong[1][1])"
      ],
      "metadata": {
        "colab": {
          "base_uri": "https://localhost:8080/"
        },
        "id": "dKo8BZYSeP4G",
        "outputId": "200f67ca-cc89-4e06-9992-8a58810e88cc"
      },
      "execution_count": null,
      "outputs": [
        {
          "output_type": "stream",
          "name": "stdout",
          "text": [
            "202호\n"
          ]
        }
      ]
    },
    {
      "cell_type": "code",
      "source": [
        "dong = []\n",
        "\n",
        "for i in range(1,5):\n",
        "  dong.append([])\n",
        "  for j in range(1,3):\n",
        "    s = str(i*100+j)+\"호\"\n",
        "    dong[i-1].append(s)\n",
        "print(dong)"
      ],
      "metadata": {
        "id": "2w2WIY8TegHf"
      },
      "execution_count": null,
      "outputs": []
    },
    {
      "cell_type": "code",
      "source": [
        "dong"
      ],
      "metadata": {
        "colab": {
          "base_uri": "https://localhost:8080/"
        },
        "id": "_FwPw3z2fF8n",
        "outputId": "7a40816b-5531-48e7-d5e1-154ce6d80be0"
      },
      "execution_count": null,
      "outputs": [
        {
          "output_type": "execute_result",
          "data": {
            "text/plain": [
              "[['101호', '102호'], ['201호', '202호'], ['301호', '302호'], ['401호', '402호']]"
            ]
          },
          "metadata": {},
          "execution_count": 33
        }
      ]
    },
    {
      "cell_type": "markdown",
      "source": [
        "2-1. dong 변수에서 3층만 찾아 출력해보세요."
      ],
      "metadata": {
        "id": "ZX79ZwK5LQIA"
      }
    },
    {
      "cell_type": "code",
      "source": [
        "dong[2]"
      ],
      "metadata": {
        "id": "8w7xJd-q-D3B",
        "colab": {
          "base_uri": "https://localhost:8080/"
        },
        "outputId": "994457c5-19f0-4237-9cad-51b250cb30bc"
      },
      "execution_count": null,
      "outputs": [
        {
          "output_type": "execute_result",
          "data": {
            "text/plain": [
              "['301호', '302호']"
            ]
          },
          "metadata": {},
          "execution_count": 34
        }
      ]
    },
    {
      "cell_type": "markdown",
      "source": [
        "2-2. dong 변수에서 102호만 찾아 출력해보세요."
      ],
      "metadata": {
        "id": "lvHzFREYLTFw"
      }
    },
    {
      "cell_type": "code",
      "source": [
        "dong[0][1]"
      ],
      "metadata": {
        "id": "ML9Gt9tDLSpL",
        "colab": {
          "base_uri": "https://localhost:8080/",
          "height": 35
        },
        "outputId": "b0b388e1-6936-4f5a-a6e6-42920bab4b5d"
      },
      "execution_count": null,
      "outputs": [
        {
          "output_type": "execute_result",
          "data": {
            "text/plain": [
              "'102호'"
            ],
            "application/vnd.google.colaboratory.intrinsic+json": {
              "type": "string"
            }
          },
          "metadata": {},
          "execution_count": 35
        }
      ]
    },
    {
      "cell_type": "markdown",
      "source": [
        "2-3. for문을 활용하여 dong 변수에서 2호 라인을 전부 찾아 출력해주세요."
      ],
      "metadata": {
        "id": "UCvp7RtIHQXX"
      }
    },
    {
      "cell_type": "code",
      "source": [
        "print(dong[0][1])\n",
        "print(dong[1][1])"
      ],
      "metadata": {
        "id": "f1FV_fr0HQXX",
        "colab": {
          "base_uri": "https://localhost:8080/"
        },
        "outputId": "1dbff0ad-714a-4ebf-c82a-56cd0b568f52"
      },
      "execution_count": null,
      "outputs": [
        {
          "output_type": "stream",
          "name": "stdout",
          "text": [
            "102호\n",
            "202호\n"
          ]
        }
      ]
    },
    {
      "cell_type": "code",
      "source": [
        "for i in range(len(dong)): # TypeError: 'list' object cannot be interpreted as an integer\n",
        "    print(i, dong[i][1])"
      ],
      "metadata": {
        "colab": {
          "base_uri": "https://localhost:8080/"
        },
        "id": "DQFJf4oxfgFM",
        "outputId": "d688329f-8ebf-41ad-e301-87532b19b67a"
      },
      "execution_count": null,
      "outputs": [
        {
          "output_type": "stream",
          "name": "stdout",
          "text": [
            "0 102호\n",
            "1 202호\n",
            "2 302호\n",
            "3 402호\n"
          ]
        }
      ]
    },
    {
      "cell_type": "markdown",
      "source": [
        "2-4. 리스트에 저장된 데이터를 아래와 같이 출력해주세요.\n",
        "~~~\n",
        "401호\n",
        "402호\n",
        "301호\n",
        "302호\n",
        "201호\n",
        "202호\n",
        "101호\n",
        "102호\n",
        "~~~"
      ],
      "metadata": {
        "id": "QoyOZLPFHQXX"
      }
    },
    {
      "cell_type": "code",
      "source": [
        "print(dong[-i][j])\n",
        "print(dong[-i][j])"
      ],
      "metadata": {
        "id": "3eVHPtF6MfHK",
        "colab": {
          "base_uri": "https://localhost:8080/"
        },
        "outputId": "f78b2fd0-31ac-4463-ebea-950a19d9f05f"
      },
      "execution_count": null,
      "outputs": [
        {
          "output_type": "stream",
          "name": "stdout",
          "text": [
            "401호\n",
            "402호\n",
            "301호\n",
            "302호\n"
          ]
        }
      ]
    },
    {
      "cell_type": "code",
      "source": [
        "len(dong[0])"
      ],
      "metadata": {
        "colab": {
          "base_uri": "https://localhost:8080/"
        },
        "id": "RQMW8u6YgWNi",
        "outputId": "4d9aecd3-07de-4f09-9467-e4c15c7551b5"
      },
      "execution_count": null,
      "outputs": [
        {
          "output_type": "execute_result",
          "data": {
            "text/plain": [
              "2"
            ]
          },
          "metadata": {},
          "execution_count": 43
        }
      ]
    },
    {
      "cell_type": "code",
      "source": [
        "\n",
        "for i in range(len(dong)-1, -1, -1): # 층의 인덱스\n",
        "    for j in range(len(dong[i])): # 호의 인덱스\n",
        "        print(i, j, dong[i][j])"
      ],
      "metadata": {
        "colab": {
          "base_uri": "https://localhost:8080/"
        },
        "id": "dY7pWhMRf5IG",
        "outputId": "3a40ee31-daaa-4288-da85-2e2b2a6bdddf"
      },
      "execution_count": null,
      "outputs": [
        {
          "output_type": "stream",
          "name": "stdout",
          "text": [
            "3 0 401호\n",
            "3 1 402호\n",
            "2 0 301호\n",
            "2 1 302호\n",
            "1 0 201호\n",
            "1 1 202호\n",
            "0 0 101호\n",
            "0 1 102호\n"
          ]
        }
      ]
    },
    {
      "cell_type": "markdown",
      "source": [
        "2-5. 리스트에 저장된 데이터를 아래와 같이 출력해주세요.\n",
        "~~~\n",
        "402호\n",
        "401호\n",
        "302호\n",
        "301호\n",
        "202호\n",
        "201호\n",
        "102호\n",
        "101호\n",
        "~~~"
      ],
      "metadata": {
        "id": "rK7xqxCLHQXY"
      }
    },
    {
      "cell_type": "code",
      "source": [
        "for i in range(len(dong)-1, -1, -1): # 층의 인덱스\n",
        "    for j in range(len(dong[i]))[::-1]: # 호의 인덱스\n",
        "        print(i, j, dong[i][j])"
      ],
      "metadata": {
        "id": "J93wtoY-HQXY",
        "colab": {
          "base_uri": "https://localhost:8080/"
        },
        "outputId": "c1169125-1b66-4852-9600-d336f76607ca"
      },
      "execution_count": null,
      "outputs": [
        {
          "output_type": "stream",
          "name": "stdout",
          "text": [
            "3 1 402호\n",
            "3 0 401호\n",
            "2 1 302호\n",
            "2 0 301호\n",
            "1 1 202호\n",
            "1 0 201호\n",
            "0 1 102호\n",
            "0 0 101호\n"
          ]
        }
      ]
    },
    {
      "cell_type": "code",
      "source": [
        "for row in dong[len(dong)::-1]: # range, in 변수명, 슬라이싱을 통해서도 값을 가져올 수 있습니다\n",
        "    for col in row[len(row)::-1]:\n",
        "        print(col)"
      ],
      "metadata": {
        "colab": {
          "base_uri": "https://localhost:8080/"
        },
        "id": "SXkFM3zyhUSG",
        "outputId": "54d3a6d3-58ec-4477-eaa6-814bcccf50bf"
      },
      "execution_count": null,
      "outputs": [
        {
          "output_type": "stream",
          "name": "stdout",
          "text": [
            "402호\n",
            "401호\n",
            "302호\n",
            "301호\n",
            "202호\n",
            "201호\n",
            "102호\n",
            "101호\n"
          ]
        }
      ]
    },
    {
      "cell_type": "markdown",
      "source": [
        "2-6. 리스트에 저장된 데이터를 아래와 같이 출력해주세요.\n",
        "\n",
        "~~~\n",
        "101호\n",
        "-----\n",
        "102호\n",
        "-----\n",
        "201호\n",
        "-----\n",
        "202호\n",
        "-----\n",
        "301호\n",
        "-----\n",
        "302호\n",
        "-----\n",
        "401호\n",
        "-----\n",
        "402호\n",
        "-----\n",
        "~~~"
      ],
      "metadata": {
        "id": "Y-vdg248HQXY"
      }
    },
    {
      "cell_type": "code",
      "source": [
        "dong"
      ],
      "metadata": {
        "colab": {
          "base_uri": "https://localhost:8080/"
        },
        "id": "iyDynI8KhpSS",
        "outputId": "fb304b5f-ad33-4005-80e9-eb629a74dc8c"
      },
      "execution_count": null,
      "outputs": [
        {
          "output_type": "execute_result",
          "data": {
            "text/plain": [
              "[['101호', '102호'], ['201호', '202호'], ['301호', '302호'], ['401호', '402호']]"
            ]
          },
          "metadata": {},
          "execution_count": 54
        }
      ]
    },
    {
      "cell_type": "code",
      "source": [
        "for i in range(len(dong)): # 층의 인덱스\n",
        "    for j in range(len(dong[i])): # 호의 인덱스\n",
        "        print(i, j, dong[i][j])\n",
        "        print('-----')"
      ],
      "metadata": {
        "colab": {
          "base_uri": "https://localhost:8080/"
        },
        "id": "XO6Q8yjdh--s",
        "outputId": "5f734c91-dda2-4bb0-a0e4-998a026a7a82"
      },
      "execution_count": null,
      "outputs": [
        {
          "output_type": "stream",
          "name": "stdout",
          "text": [
            "0 0 101호\n",
            "-----\n",
            "0 1 102호\n",
            "-----\n",
            "1 0 201호\n",
            "-----\n",
            "1 1 202호\n",
            "-----\n",
            "2 0 301호\n",
            "-----\n",
            "2 1 302호\n",
            "-----\n",
            "3 0 401호\n",
            "-----\n",
            "3 1 402호\n",
            "-----\n"
          ]
        }
      ]
    },
    {
      "cell_type": "code",
      "source": [
        "print(dong[i]][j])\n",
        "print('-----')\n",
        "print(dong[i][j])\n",
        "print('-----')"
      ],
      "metadata": {
        "id": "tMpg86M8HQXY",
        "colab": {
          "base_uri": "https://localhost:8080/"
        },
        "outputId": "2f519232-5bbc-49ca-8100-180604938d45"
      },
      "execution_count": null,
      "outputs": [
        {
          "output_type": "stream",
          "name": "stdout",
          "text": [
            "101호\n",
            "-----\n",
            "102호\n",
            "-----\n"
          ]
        }
      ]
    },
    {
      "cell_type": "markdown",
      "source": [
        "2-7. 리스트에 저장된 데이터를 아래와 같이 출력해주세요.\n",
        "~~~\n",
        "101호\n",
        "102호\n",
        "-----\n",
        "201호\n",
        "202호\n",
        "-----\n",
        "301호\n",
        "302호\n",
        "-----\n",
        "401호\n",
        "402호\n",
        "-----\n",
        "~~~"
      ],
      "metadata": {
        "id": "jJGEikTdHQXY"
      }
    },
    {
      "cell_type": "code",
      "source": [
        "for i in range(len(dong)): # 층의 인덱스\n",
        "    for j in range(len(dong[i])): # 호의 인덱스\n",
        "        print(i, j, dong[i][j])\n",
        "    print('-----')"
      ],
      "metadata": {
        "id": "_iwZuv1MHQXY",
        "colab": {
          "base_uri": "https://localhost:8080/"
        },
        "outputId": "e3a54b56-6859-43ad-8f13-ab5470ea4393"
      },
      "execution_count": null,
      "outputs": [
        {
          "output_type": "stream",
          "name": "stdout",
          "text": [
            "0 0 101호\n",
            "0 1 102호\n",
            "-----\n",
            "1 0 201호\n",
            "1 1 202호\n",
            "-----\n",
            "2 0 301호\n",
            "2 1 302호\n",
            "-----\n",
            "3 0 401호\n",
            "3 1 402호\n",
            "-----\n"
          ]
        }
      ]
    },
    {
      "cell_type": "markdown",
      "source": [
        "3. 아래의 그림을 참조하여 한층에 2가구씩 사는 아파트를 1호, 2호라는 호수를 키값으로 갖는 딕셔너리 dong1에 담아보세요.\n",
        "\n",
        "dong1\n",
        "~~~\n",
        "1호  | 2호\n",
        "----------\n",
        "101호|102호\n",
        "201호|202호\n",
        "301호|302호\n",
        "401호|402호\n",
        "\n",
        "~~~"
      ],
      "metadata": {
        "id": "23mKRpWlHQXY"
      }
    },
    {
      "cell_type": "code",
      "source": [
        "dong1 = {'1호':['101호', '201호', '301호', '401호'], \\\n",
        "         '2호':['102호', '202호', '302호', '402호']}"
      ],
      "metadata": {
        "id": "7w2VTJMoHQXY"
      },
      "execution_count": null,
      "outputs": []
    },
    {
      "cell_type": "code",
      "source": [
        "dong1"
      ],
      "metadata": {
        "colab": {
          "base_uri": "https://localhost:8080/"
        },
        "id": "n1cJ0AyEi-TW",
        "outputId": "31c7ce4f-24ea-40d8-b2fb-ed55d952679f"
      },
      "execution_count": null,
      "outputs": [
        {
          "output_type": "execute_result",
          "data": {
            "text/plain": [
              "{'1호': ['101호', '201호', '301호', '401호'],\n",
              " '2호': ['102호', '202호', '302호', '402호']}"
            ]
          },
          "metadata": {},
          "execution_count": 61
        }
      ]
    },
    {
      "cell_type": "markdown",
      "source": [
        "3-1. dong1 변수에서 3층만 찾아 출력해보세요."
      ],
      "metadata": {
        "id": "Lk1eNfKEHQXY"
      }
    },
    {
      "cell_type": "code",
      "source": [
        "print(dong1['1호'][2])\n",
        "print(dong1['2호'][2])"
      ],
      "metadata": {
        "id": "FsGqOTVsHQXZ",
        "colab": {
          "base_uri": "https://localhost:8080/"
        },
        "outputId": "0a6d948a-b7f2-4b1b-9e69-0838e404224e"
      },
      "execution_count": null,
      "outputs": [
        {
          "output_type": "stream",
          "name": "stdout",
          "text": [
            "301호\n",
            "302호\n"
          ]
        }
      ]
    },
    {
      "cell_type": "code",
      "source": [
        "for x in dong1:\n",
        "    print(dong1[x][2])"
      ],
      "metadata": {
        "colab": {
          "base_uri": "https://localhost:8080/"
        },
        "id": "DaX8tVHyjYTA",
        "outputId": "7325952b-f859-498f-b851-83aa7d2dc1fc"
      },
      "execution_count": null,
      "outputs": [
        {
          "output_type": "stream",
          "name": "stdout",
          "text": [
            "301호\n",
            "302호\n"
          ]
        }
      ]
    },
    {
      "cell_type": "code",
      "source": [
        "for i in range(len(dong1)):\n",
        "    print(dong1[str(i+1)+'호'][2]) # 임의의 연산을 반복문 안에서 해서 값을 변경해 사용하기도 합니다"
      ],
      "metadata": {
        "colab": {
          "base_uri": "https://localhost:8080/"
        },
        "id": "gJq2_vk0jpKD",
        "outputId": "48419bc5-93ea-4ce2-8c5e-b03dbdf2febe"
      },
      "execution_count": null,
      "outputs": [
        {
          "output_type": "stream",
          "name": "stdout",
          "text": [
            "301호\n",
            "302호\n"
          ]
        }
      ]
    },
    {
      "cell_type": "markdown",
      "source": [
        "3-2. dong1 변수에서 102호만 찾아 출력해보세요."
      ],
      "metadata": {
        "id": "gF_kxh8H5oLc"
      }
    },
    {
      "cell_type": "code",
      "source": [
        "dong1['2호'][0]"
      ],
      "metadata": {
        "id": "quOOsHD-5oLc",
        "colab": {
          "base_uri": "https://localhost:8080/",
          "height": 35
        },
        "outputId": "1cb54fdf-aea1-440b-a09f-16b5cf1b2647"
      },
      "execution_count": null,
      "outputs": [
        {
          "output_type": "execute_result",
          "data": {
            "text/plain": [
              "'102호'"
            ],
            "application/vnd.google.colaboratory.intrinsic+json": {
              "type": "string"
            }
          },
          "metadata": {},
          "execution_count": 69
        }
      ]
    },
    {
      "cell_type": "markdown",
      "source": [
        "3-3. dong1 변수에서 2호라인을 전부 찾아 출력해주세요."
      ],
      "metadata": {
        "id": "18Dx5Q56HQXZ"
      }
    },
    {
      "cell_type": "code",
      "source": [
        "dong1['2호']"
      ],
      "metadata": {
        "id": "3YKnLwujHQXZ",
        "colab": {
          "base_uri": "https://localhost:8080/"
        },
        "outputId": "8d357217-479c-43aa-f3d8-4f212f637631"
      },
      "execution_count": null,
      "outputs": [
        {
          "output_type": "execute_result",
          "data": {
            "text/plain": [
              "['102호', '202호', '302호', '402호']"
            ]
          },
          "metadata": {},
          "execution_count": 70
        }
      ]
    },
    {
      "cell_type": "code",
      "source": [
        "for ho in dong1['2호']:\n",
        "    print(ho)\n"
      ],
      "metadata": {
        "colab": {
          "base_uri": "https://localhost:8080/"
        },
        "id": "50t4ho_LnAL5",
        "outputId": "9b5a1191-2679-4e26-ad93-eab84e19d641"
      },
      "execution_count": null,
      "outputs": [
        {
          "output_type": "stream",
          "name": "stdout",
          "text": [
            "102호\n",
            "202호\n",
            "302호\n",
            "402호\n"
          ]
        }
      ]
    },
    {
      "cell_type": "code",
      "source": [
        "dir(dong1['2호'])"
      ],
      "metadata": {
        "colab": {
          "base_uri": "https://localhost:8080/"
        },
        "id": "07o4XPmonHDP",
        "outputId": "7d8a56ab-a099-4a2d-9fc2-81b8d913aed1"
      },
      "execution_count": null,
      "outputs": [
        {
          "output_type": "execute_result",
          "data": {
            "text/plain": [
              "['__add__',\n",
              " '__class__',\n",
              " '__class_getitem__',\n",
              " '__contains__',\n",
              " '__delattr__',\n",
              " '__delitem__',\n",
              " '__dir__',\n",
              " '__doc__',\n",
              " '__eq__',\n",
              " '__format__',\n",
              " '__ge__',\n",
              " '__getattribute__',\n",
              " '__getitem__',\n",
              " '__gt__',\n",
              " '__hash__',\n",
              " '__iadd__',\n",
              " '__imul__',\n",
              " '__init__',\n",
              " '__init_subclass__',\n",
              " '__iter__',\n",
              " '__le__',\n",
              " '__len__',\n",
              " '__lt__',\n",
              " '__mul__',\n",
              " '__ne__',\n",
              " '__new__',\n",
              " '__reduce__',\n",
              " '__reduce_ex__',\n",
              " '__repr__',\n",
              " '__reversed__',\n",
              " '__rmul__',\n",
              " '__setattr__',\n",
              " '__setitem__',\n",
              " '__sizeof__',\n",
              " '__str__',\n",
              " '__subclasshook__',\n",
              " 'append',\n",
              " 'clear',\n",
              " 'copy',\n",
              " 'count',\n",
              " 'extend',\n",
              " 'index',\n",
              " 'insert',\n",
              " 'pop',\n",
              " 'remove',\n",
              " 'reverse',\n",
              " 'sort']"
            ]
          },
          "metadata": {},
          "execution_count": 72
        }
      ]
    },
    {
      "cell_type": "markdown",
      "source": [
        "3-4. for문을 사용하여 아래와 같이 dong1 변수의 전체 호수를 출력해주세요.\n",
        "```\n",
        "['101호', '201호', '301호', '401호']\n",
        "['102호', '202호', '302호', '402호']\n",
        "```"
      ],
      "metadata": {
        "id": "wG3pmw1rHQXZ"
      }
    },
    {
      "cell_type": "code",
      "source": [
        "for _ in dong1.values():\n",
        "    print(_)"
      ],
      "metadata": {
        "id": "Gufqzu6gNyaR",
        "colab": {
          "base_uri": "https://localhost:8080/"
        },
        "outputId": "f01ea35a-710e-486f-8ed5-19b100022696"
      },
      "execution_count": null,
      "outputs": [
        {
          "output_type": "stream",
          "name": "stdout",
          "text": [
            "['101호', '201호', '301호', '401호']\n",
            "['102호', '202호', '302호', '402호']\n"
          ]
        }
      ]
    },
    {
      "cell_type": "code",
      "source": [
        "for k, v in dong1.items():\n",
        "    print(k, v[0], v[1], v[2], v[3])\n",
        ""
      ],
      "metadata": {
        "colab": {
          "base_uri": "https://localhost:8080/"
        },
        "id": "KQ2E3MP2nfl_",
        "outputId": "8692ad92-0a93-44fd-9eed-16e641e9ec19"
      },
      "execution_count": null,
      "outputs": [
        {
          "output_type": "stream",
          "name": "stdout",
          "text": [
            "1호 101호 201호 301호 401호\n",
            "2호 102호 202호 302호 402호\n"
          ]
        }
      ]
    },
    {
      "cell_type": "code",
      "source": [
        "a, b, *c = ['101호', '201호', '301호', '401호']"
      ],
      "metadata": {
        "id": "NoEsYtdQnokI"
      },
      "execution_count": null,
      "outputs": []
    },
    {
      "cell_type": "code",
      "source": [
        "a, b, c"
      ],
      "metadata": {
        "colab": {
          "base_uri": "https://localhost:8080/"
        },
        "id": "AmNki0YDnwTH",
        "outputId": "7b2d8ef9-9dd9-431b-f944-0445ad1bf560"
      },
      "execution_count": null,
      "outputs": [
        {
          "output_type": "execute_result",
          "data": {
            "text/plain": [
              "('101호', '201호', ['301호', '401호'])"
            ]
          },
          "metadata": {},
          "execution_count": 80
        }
      ]
    },
    {
      "cell_type": "code",
      "source": [
        "gagu = [ [ ['짱구', '짱구엄마' , '짱구아빠', '짱아'],['훈이', '훈이엄마' , '훈이아빠'] ] ]"
      ],
      "metadata": {
        "id": "HLC9wxUzOCc5"
      },
      "execution_count": null,
      "outputs": []
    },
    {
      "cell_type": "markdown",
      "source": [
        "#### 1. 가족별로 출력하기"
      ],
      "metadata": {
        "id": "0_o_R8tKPCoL"
      }
    },
    {
      "cell_type": "code",
      "source": [
        "# 1. 가족별로 출력하기\n",
        "for gag in gagu:\n",
        "    for i in range(len(gag)):\n",
        "        print(gag[i])"
      ],
      "metadata": {
        "id": "hhU-Yy63PDby",
        "colab": {
          "base_uri": "https://localhost:8080/"
        },
        "outputId": "5925f770-0e2d-4d4b-8d95-5408bfa6b615"
      },
      "execution_count": null,
      "outputs": [
        {
          "output_type": "stream",
          "name": "stdout",
          "text": [
            "['짱구', '짱구엄마', '짱구아빠', '짱아']\n",
            "['훈이', '훈이엄마', '훈이아빠']\n"
          ]
        }
      ]
    },
    {
      "cell_type": "code",
      "source": [
        "# 2. 아빠들만 출력하기"
      ],
      "metadata": {
        "id": "_XbigH5r99o2"
      },
      "execution_count": null,
      "outputs": []
    },
    {
      "cell_type": "markdown",
      "source": [
        "### 2. 아빠들만 출력하기"
      ],
      "metadata": {
        "id": "e8OdkQP4578G"
      }
    },
    {
      "cell_type": "code",
      "source": [
        "print(gagu[0][0][2])\n",
        "print(gagu[0][1][2])"
      ],
      "metadata": {
        "id": "ci1cUDkS52OU",
        "colab": {
          "base_uri": "https://localhost:8080/"
        },
        "outputId": "50e591e7-ddab-4b4a-f534-04350133d292"
      },
      "execution_count": null,
      "outputs": [
        {
          "output_type": "stream",
          "name": "stdout",
          "text": [
            "짱구아빠\n",
            "훈이아빠\n"
          ]
        }
      ]
    },
    {
      "cell_type": "code",
      "source": [
        "'아빠' in gagu[0][1][2]"
      ],
      "metadata": {
        "colab": {
          "base_uri": "https://localhost:8080/"
        },
        "id": "BxRQKiGKpUDq",
        "outputId": "d8ce9c75-9ed1-4950-bf6c-61ef55bf5056"
      },
      "execution_count": null,
      "outputs": [
        {
          "output_type": "execute_result",
          "data": {
            "text/plain": [
              "True"
            ]
          },
          "metadata": {},
          "execution_count": 97
        }
      ]
    },
    {
      "cell_type": "code",
      "source": [
        "for i in range(len(gagu[0])):\n",
        "    for j in range(len(gagu[0][i])):\n",
        "        if '아빠' in gagu[0][i][j]:\n",
        "            print(gagu[0][i][j])"
      ],
      "metadata": {
        "colab": {
          "base_uri": "https://localhost:8080/"
        },
        "id": "3uloEjt_pQUF",
        "outputId": "240aac8a-254f-4d60-a557-7a04adf6b21d"
      },
      "execution_count": null,
      "outputs": [
        {
          "output_type": "stream",
          "name": "stdout",
          "text": [
            "짱구아빠\n",
            "훈이아빠\n"
          ]
        }
      ]
    },
    {
      "cell_type": "code",
      "source": [
        " gagu[0]"
      ],
      "metadata": {
        "colab": {
          "base_uri": "https://localhost:8080/"
        },
        "id": "euSxoFSKpiOC",
        "outputId": "68e69e02-9061-4bf3-8a1e-5780fb331165"
      },
      "execution_count": null,
      "outputs": [
        {
          "output_type": "execute_result",
          "data": {
            "text/plain": [
              "[['짱구', '짱구엄마', '짱구아빠', '짱아'], ['훈이', '훈이엄마', '훈이아빠']]"
            ]
          },
          "metadata": {},
          "execution_count": 98
        }
      ]
    },
    {
      "cell_type": "code",
      "source": [
        "for i in gagu[0]:\n",
        "  print(i[2])"
      ],
      "metadata": {
        "colab": {
          "base_uri": "https://localhost:8080/"
        },
        "id": "r_AwP9aApfHK",
        "outputId": "c65a8fb5-83f3-43a8-c667-b26eb0c0e1c1"
      },
      "execution_count": null,
      "outputs": [
        {
          "output_type": "stream",
          "name": "stdout",
          "text": [
            "짱구아빠\n",
            "훈이아빠\n"
          ]
        }
      ]
    },
    {
      "cell_type": "code",
      "source": [
        "# 3. apt 변수명 딕셔너리에 '1호'에는 짱구네가족, '2호'에는 훈이네가족 각각 담기\n",
        "# 4, kind 변수명 딕셔너리에 떡잎유치원 > 1호, 2호 > 가족들 담기"
      ],
      "metadata": {
        "id": "brXQ2aev-Flb"
      },
      "execution_count": null,
      "outputs": []
    },
    {
      "cell_type": "markdown",
      "source": [
        "### 3. apt 변수명 딕셔너리에 '1호'에는 짱구네가족, '2호'에는 훈이네가족 각각 담기"
      ],
      "metadata": {
        "id": "l70wEaoH6LK9"
      }
    },
    {
      "cell_type": "code",
      "source": [
        "apt = {'1호':gagu[0][0], '2호':gagu[0][1]}"
      ],
      "metadata": {
        "id": "jW_O6xwWp7nq"
      },
      "execution_count": null,
      "outputs": []
    },
    {
      "cell_type": "code",
      "source": [
        "apt"
      ],
      "metadata": {
        "id": "g-M_ROzI56Di",
        "colab": {
          "base_uri": "https://localhost:8080/"
        },
        "outputId": "105dfca9-6882-4a1c-af30-69d71f8673d7"
      },
      "execution_count": null,
      "outputs": [
        {
          "output_type": "execute_result",
          "data": {
            "text/plain": [
              "{'1호': ['짱구', '짱구엄마', '짱구아빠', '짱아'], '2호': ['훈이', '훈이엄마', '훈이아빠']}"
            ]
          },
          "metadata": {},
          "execution_count": 103
        }
      ]
    },
    {
      "cell_type": "code",
      "source": [
        "apt = {}\n",
        "for i in range(len(gagu[0])):\n",
        "    apt.setdefault(str(i+1)+'호', gagu[0][i])"
      ],
      "metadata": {
        "id": "p1OJ6HAE-RFD"
      },
      "execution_count": null,
      "outputs": []
    },
    {
      "cell_type": "code",
      "source": [
        "apt # 임시 변수"
      ],
      "metadata": {
        "colab": {
          "base_uri": "https://localhost:8080/"
        },
        "id": "pnkTh6XbqtYg",
        "outputId": "b520e156-74b5-40c6-fb2a-ebcc435ef9e5"
      },
      "execution_count": null,
      "outputs": [
        {
          "output_type": "execute_result",
          "data": {
            "text/plain": [
              "{'1호': ['짱구', '짱구엄마', '짱구아빠', '짱아'], '2호': ['훈이', '훈이엄마', '훈이아빠']}"
            ]
          },
          "metadata": {},
          "execution_count": 109
        }
      ]
    },
    {
      "cell_type": "markdown",
      "source": [
        "#### 4. kind 변수명 딕셔너리에 떡잎유치원 > 1호, 2호 > 가족들 담기"
      ],
      "metadata": {
        "id": "ZmPouhZL6eNS"
      }
    },
    {
      "cell_type": "code",
      "source": [
        "kind = { '떡잎유치원': apt }"
      ],
      "metadata": {
        "id": "uFvbG7o86cMN"
      },
      "execution_count": null,
      "outputs": []
    },
    {
      "cell_type": "code",
      "source": [
        "kind['떡잎유치원']"
      ],
      "metadata": {
        "id": "cMJJvctv7Cwn",
        "colab": {
          "base_uri": "https://localhost:8080/"
        },
        "outputId": "ed01be53-f703-4d84-9f22-db2b94eb6cdc"
      },
      "execution_count": null,
      "outputs": [
        {
          "output_type": "execute_result",
          "data": {
            "text/plain": [
              "{'1호': ['짱구', '짱구엄마', '짱구아빠', '짱아'], '2호': ['훈이', '훈이엄마', '훈이아빠']}"
            ]
          },
          "metadata": {},
          "execution_count": 112
        }
      ]
    },
    {
      "cell_type": "code",
      "source": [],
      "metadata": {
        "id": "la7jdqYb_lCC"
      },
      "execution_count": null,
      "outputs": []
    },
    {
      "cell_type": "markdown",
      "source": [
        "### 5. input()으로 이름을 받고 이름 리스트에 해당하는 이름이 있는 경우 이름이 있음을  없음을 출력한다.\n",
        "\n",
        "- for문에서 이름이 있는지 없는지 확인을 하고요. 있으면 True, 없으면 False를 특정 변수(flag)에 저장합니다\n",
        "- if 문으로 flag가 True이면 '이름이 있습니다', False이면 '이름이 없습니다'를 출력하도록 해주세요\n",
        "\n",
        "```\n",
        "names = ['짱구', \"짱아\", \"철이\", \"훈이\"]\n",
        "```\n",
        "```\n",
        "이름 입력 : 짱아\n",
        "명단에 있습니다\n",
        "\n",
        "이름 입력 : 미란씨\n",
        "명단에 없습니다\n",
        "```"
      ],
      "metadata": {
        "id": "nj6nQGIg5XDy"
      }
    },
    {
      "cell_type": "code",
      "source": [
        "names = ['짱구', \"짱아\", \"철이\", \"훈이\"]"
      ],
      "metadata": {
        "id": "l6g4OO4eCjyZ"
      },
      "execution_count": null,
      "outputs": []
    },
    {
      "cell_type": "code",
      "source": [
        "flag=False\n",
        "\n",
        "if input(\"이름 입력 : \") in names:\n",
        "    flag=True\n",
        "\n",
        "if flag:\n",
        "    print(\"명단에 있습니다.\")\n",
        "else:\n",
        "    print(\"명단에 없습니다.\")"
      ],
      "metadata": {
        "colab": {
          "base_uri": "https://localhost:8080/"
        },
        "id": "VDW92YhqsUpa",
        "outputId": "fb5d5469-c964-4254-9b98-8d7dc5d7d172"
      },
      "execution_count": null,
      "outputs": [
        {
          "output_type": "stream",
          "name": "stdout",
          "text": [
            "이름 입력 : 미란씨\n",
            "명단에 없습니다.\n"
          ]
        }
      ]
    },
    {
      "cell_type": "code",
      "source": [
        "names = ['짱구','짱아','철이','훈이']\n",
        "input_ = input('이름 입력: ')\n",
        "flag = False\n",
        "# 기왕이면 False에서 시작해서\n",
        "# 조건을 만족할 때 True가 되도록 만들어주는 것을 권장합니다\n",
        "\n",
        "for name in names:\n",
        "  if input_ == name:\n",
        "    flag = True\n",
        "\n",
        "if flag:\n",
        "  print('이름이 있습니다.')\n",
        "else:\n",
        "  print('이름이 없습니다.')"
      ],
      "metadata": {
        "colab": {
          "base_uri": "https://localhost:8080/"
        },
        "id": "9zASZ1dIsVNE",
        "outputId": "c9b2ac39-5051-47ef-8810-65edba8e1a37"
      },
      "execution_count": null,
      "outputs": [
        {
          "output_type": "stream",
          "name": "stdout",
          "text": [
            "이름 입력: 미란씨\n",
            "이름이 없습니다.\n"
          ]
        }
      ]
    },
    {
      "cell_type": "code",
      "source": [
        "names = ['짱구', \"짱아\", \"철이\", \"훈이\"]\n",
        "name = str(input('이름을 입력하세요 : '))\n",
        "\n",
        "flag = True\n",
        "\n",
        "while flag :\n",
        "    if name in names:\n",
        "        print('이름이 있습니다')\n",
        "        break\n",
        "    else :\n",
        "        print('이름이 없습니다')\n",
        "        flag = False"
      ],
      "metadata": {
        "colab": {
          "base_uri": "https://localhost:8080/"
        },
        "id": "OT0p9jIYsXka",
        "outputId": "a8402f7f-435a-472e-96d3-1822634813ac"
      },
      "execution_count": null,
      "outputs": [
        {
          "output_type": "stream",
          "name": "stdout",
          "text": [
            "이름을 입력하세요 : 미란씨\n",
            "이름이 없습니다\n"
          ]
        }
      ]
    },
    {
      "cell_type": "markdown",
      "source": [
        "flag : bool 값을 저장하는 매개변수 이름으로 약속처럼 사용합니다.\n",
        "- 기왕이면 처음에 False로 시작해주시는 것이 좋은 프로그래밍이다 라고 얘기들을 합니다"
      ],
      "metadata": {
        "id": "1KBXDu2KDjG1"
      }
    },
    {
      "cell_type": "markdown",
      "source": [
        "#### 6. while문과 input() 메소드를 사용하여 숫자를 입력받은 후 그 숫자가 10 이상인 경우에는 'OK'가, 10 미만인 경우에는 'TRY AGAIN'이 출력되고 다시 입력창이 뜨도록 프로그래밍해주세요.\n",
        "```\n",
        "while 조건식:\n",
        "    실행문들1\n",
        "else:\n",
        "    실행문들2\n",
        "```"
      ],
      "metadata": {
        "id": "cMSrXre90nSQ"
      }
    },
    {
      "cell_type": "code",
      "source": [
        "# while - 반복의 횟수가 정해져있지 않은 경우 많이 사용\n",
        "# 바깥에 반복을 끝낼 수 있는 무언가... 조건을 심어줘야 한다\n",
        "# if break 문을 걸어줘야 한다\n",
        "\n",
        "while True:\n",
        "    num = input('숫자 입력: ')\n",
        "\n",
        "    if int(num) >= 10:\n",
        "        print('OK!')\n",
        "        break\n",
        "    else:\n",
        "        print('Try Again')\n",
        "\n",
        "# for (시작, 끝) - 반복의 횟수가 정해져 있는 경우에 많이 사용\n"
      ],
      "metadata": {
        "id": "pByTTamYWkTJ",
        "colab": {
          "base_uri": "https://localhost:8080/"
        },
        "outputId": "41a90e59-f573-4575-8e64-70d9ee88d7ad"
      },
      "execution_count": null,
      "outputs": [
        {
          "output_type": "stream",
          "name": "stdout",
          "text": [
            "숫자 입력: 1\n",
            "Try Again\n",
            "숫자 입력: 9\n",
            "Try Again\n",
            "숫자 입력: 5\n",
            "Try Again\n",
            "숫자 입력: 10\n",
            "OK!\n"
          ]
        }
      ]
    },
    {
      "cell_type": "code",
      "source": [
        "while True:\n",
        "    num = input('숫자 입력: ')\n",
        "\n",
        "    if int(num) >= 10:\n",
        "        print('OK!')\n",
        "        break\n",
        "    print('Try Again')"
      ],
      "metadata": {
        "colab": {
          "base_uri": "https://localhost:8080/"
        },
        "id": "d08rV-fpueZ0",
        "outputId": "f88c3982-c67b-464e-83d0-d05319212d64"
      },
      "execution_count": null,
      "outputs": [
        {
          "output_type": "stream",
          "name": "stdout",
          "text": [
            "숫자 입력: 5\n",
            "Try Again\n",
            "숫자 입력: 4\n",
            "Try Again\n",
            "숫자 입력: 10\n",
            "OK!\n"
          ]
        }
      ]
    },
    {
      "cell_type": "markdown",
      "source": [
        "#### 7. 한영사전 만들기 II\n",
        "- 사용자가 입력한 과일이\n",
        "- fruits 딕셔너리의 key값에 있을 경우 해당 key의 value 값을,\n",
        "- 없을 경우 '사전에 없는 단어입니다'를 출력 후 다시 입력창이 뜨도록 프로그래밍해주세요.\n",
        "- 사용자가 사전에 있는 과일 이름을 입력하면 프로그램은 자동 종료됩니다."
      ],
      "metadata": {
        "id": "_9Vm7mLSDiak"
      }
    },
    {
      "cell_type": "code",
      "source": [
        "fruits = {'사과': 'Apple', '키위':'Kiwi'}\n",
        "\n",
        "while True:\n",
        "    input_ = input('과일명 입력: ')\n",
        "    if input_ in fruits:\n",
        "        print(fruits[input_])\n",
        "        break\n",
        "    print('사전에 없는 단어입니다')\n"
      ],
      "metadata": {
        "colab": {
          "base_uri": "https://localhost:8080/"
        },
        "id": "DG0hdhjBuq9S",
        "outputId": "f7d8ccbc-6f52-4243-be85-4aa5d93cb9d7"
      },
      "execution_count": null,
      "outputs": [
        {
          "output_type": "stream",
          "name": "stdout",
          "text": [
            "과일명 입력: 사가\n",
            "사전에 없는 단어입니다\n",
            "과일명 입력: 호두\n",
            "사전에 없는 단어입니다\n",
            "과일명 입력: 사과\n",
            "Apple\n"
          ]
        }
      ]
    },
    {
      "cell_type": "code",
      "source": [],
      "metadata": {
        "id": "p_JFJQ1yDbgt"
      },
      "execution_count": null,
      "outputs": []
    },
    {
      "cell_type": "markdown",
      "source": [
        "## 위까지 다 하신 분은 엑셀시트에 복습완료 체크해주세요\n",
        "\n",
        "## 심화. 다 하신 분만 하세요!! 반복문 for, while\n",
        "- 금요일에는 중첩 반복문으로 무엇을 할 수 있는지 살짝 살펴보았습니다.\n",
        "- 고정되지 않은 값을 반복시킬 때도 많이 쓰거든요.\n",
        "- 그래서 아래 문제들은 중첩 반복문으로 풀어보겠습니다\n",
        "- *, ' '(공백)을 i, j에 넣어서 직접 작성해보세요.\n",
        "\n",
        "\n",
        "# 별찍기 1 : 별"
      ],
      "metadata": {
        "id": "yefCXQXi18Tv"
      }
    },
    {
      "cell_type": "markdown",
      "source": [
        "```\n",
        "*\n",
        "**\n",
        "***\n",
        "****\n",
        "*****\n"
      ],
      "metadata": {
        "id": "feZ9YQy018Tv"
      }
    },
    {
      "cell_type": "code",
      "source": [],
      "metadata": {
        "id": "V_kJrm6Y18Tw"
      },
      "execution_count": null,
      "outputs": []
    },
    {
      "cell_type": "markdown",
      "source": [
        "### 별찍기 2 : 가로가 더 긴 별\n",
        "```\n",
        "*\n",
        "***\n",
        "*****\n",
        "*******\n",
        "*********\n",
        "```"
      ],
      "metadata": {
        "id": "NCkZT4jd18Tw"
      }
    },
    {
      "cell_type": "code",
      "source": [],
      "metadata": {
        "id": "oZMG3PdR18Tw"
      },
      "execution_count": null,
      "outputs": []
    },
    {
      "cell_type": "markdown",
      "source": [
        "### 별찍기 3 - 공백이 앞에 있는 별\n",
        "```\n",
        "     *\n",
        "    **\n",
        "   ***\n",
        "  ****\n",
        " *****\n",
        " ```"
      ],
      "metadata": {
        "id": "UOL-PPXg18Tw"
      }
    },
    {
      "cell_type": "code",
      "source": [],
      "metadata": {
        "id": "cqTaPSIKDzJp"
      },
      "execution_count": null,
      "outputs": []
    },
    {
      "cell_type": "code",
      "source": [],
      "metadata": {
        "id": "eFZUHNQE18Tw"
      },
      "execution_count": null,
      "outputs": []
    },
    {
      "cell_type": "markdown",
      "source": [
        "```\n",
        "*****\n",
        "****\n",
        "***\n",
        "**\n",
        "*\n",
        "```"
      ],
      "metadata": {
        "id": "mHLkeqkz18Tw"
      }
    },
    {
      "cell_type": "markdown",
      "source": [
        "#### 거꾸로 + 공백 삼각형 출력\n",
        "\n",
        "```\n",
        "*****\n",
        " ****\n",
        "  ***\n",
        "   **\n",
        "    *\n",
        "```\n",
        "\n"
      ],
      "metadata": {
        "id": "RW1OZU8m18Tx"
      }
    },
    {
      "cell_type": "code",
      "source": [],
      "metadata": {
        "id": "NNei9XvK18Tx"
      },
      "execution_count": null,
      "outputs": []
    },
    {
      "cell_type": "code",
      "source": [],
      "metadata": {
        "id": "eBg_UUPvoz0_"
      },
      "execution_count": null,
      "outputs": []
    },
    {
      "cell_type": "markdown",
      "source": [
        "#### 별찍기 5 - 정삼각형처럼 보이는 별찍기\n",
        "````\n",
        "    *\n",
        "   ***\n",
        "  *****\n",
        " *******\n",
        "*********\n"
      ],
      "metadata": {
        "id": "kNsY6DXa18Ty"
      }
    },
    {
      "cell_type": "code",
      "source": [],
      "metadata": {
        "id": "k_s9w2u-18Ty"
      },
      "execution_count": null,
      "outputs": []
    },
    {
      "cell_type": "code",
      "source": [],
      "metadata": {
        "id": "gw6cebBniY7n"
      },
      "execution_count": null,
      "outputs": []
    },
    {
      "cell_type": "code",
      "source": [],
      "metadata": {
        "id": "yfhSamXe18Ty"
      },
      "execution_count": null,
      "outputs": []
    },
    {
      "cell_type": "markdown",
      "source": [
        "# 1. 수업"
      ],
      "metadata": {
        "id": "6zIDhjavH8yp"
      }
    },
    {
      "cell_type": "code",
      "source": [
        "for i in range(1, 10):\n",
        "    print(i, '단')\n",
        "    for j in range(1, 10):\n",
        "        print(i, 'X', j, '=', i * j)\n",
        "    print('- 끝')"
      ],
      "metadata": {
        "colab": {
          "base_uri": "https://localhost:8080/"
        },
        "id": "gA0U3WNvwKpj",
        "outputId": "a9b3ab0d-fb18-4aee-f14b-3dfc6f770f37"
      },
      "execution_count": null,
      "outputs": [
        {
          "output_type": "stream",
          "name": "stdout",
          "text": [
            "1 단\n",
            "1 X 1 = 1\n",
            "1 X 2 = 2\n",
            "1 X 3 = 3\n",
            "1 X 4 = 4\n",
            "1 X 5 = 5\n",
            "1 X 6 = 6\n",
            "1 X 7 = 7\n",
            "1 X 8 = 8\n",
            "1 X 9 = 9\n",
            "- 끝\n",
            "2 단\n",
            "2 X 1 = 2\n",
            "2 X 2 = 4\n",
            "2 X 3 = 6\n",
            "2 X 4 = 8\n",
            "2 X 5 = 10\n",
            "2 X 6 = 12\n",
            "2 X 7 = 14\n",
            "2 X 8 = 16\n",
            "2 X 9 = 18\n",
            "- 끝\n",
            "3 단\n",
            "3 X 1 = 3\n",
            "3 X 2 = 6\n",
            "3 X 3 = 9\n",
            "3 X 4 = 12\n",
            "3 X 5 = 15\n",
            "3 X 6 = 18\n",
            "3 X 7 = 21\n",
            "3 X 8 = 24\n",
            "3 X 9 = 27\n",
            "- 끝\n",
            "4 단\n",
            "4 X 1 = 4\n",
            "4 X 2 = 8\n",
            "4 X 3 = 12\n",
            "4 X 4 = 16\n",
            "4 X 5 = 20\n",
            "4 X 6 = 24\n",
            "4 X 7 = 28\n",
            "4 X 8 = 32\n",
            "4 X 9 = 36\n",
            "- 끝\n",
            "5 단\n",
            "5 X 1 = 5\n",
            "5 X 2 = 10\n",
            "5 X 3 = 15\n",
            "5 X 4 = 20\n",
            "5 X 5 = 25\n",
            "5 X 6 = 30\n",
            "5 X 7 = 35\n",
            "5 X 8 = 40\n",
            "5 X 9 = 45\n",
            "- 끝\n",
            "6 단\n",
            "6 X 1 = 6\n",
            "6 X 2 = 12\n",
            "6 X 3 = 18\n",
            "6 X 4 = 24\n",
            "6 X 5 = 30\n",
            "6 X 6 = 36\n",
            "6 X 7 = 42\n",
            "6 X 8 = 48\n",
            "6 X 9 = 54\n",
            "- 끝\n",
            "7 단\n",
            "7 X 1 = 7\n",
            "7 X 2 = 14\n",
            "7 X 3 = 21\n",
            "7 X 4 = 28\n",
            "7 X 5 = 35\n",
            "7 X 6 = 42\n",
            "7 X 7 = 49\n",
            "7 X 8 = 56\n",
            "7 X 9 = 63\n",
            "- 끝\n",
            "8 단\n",
            "8 X 1 = 8\n",
            "8 X 2 = 16\n",
            "8 X 3 = 24\n",
            "8 X 4 = 32\n",
            "8 X 5 = 40\n",
            "8 X 6 = 48\n",
            "8 X 7 = 56\n",
            "8 X 8 = 64\n",
            "8 X 9 = 72\n",
            "- 끝\n",
            "9 단\n",
            "9 X 1 = 9\n",
            "9 X 2 = 18\n",
            "9 X 3 = 27\n",
            "9 X 4 = 36\n",
            "9 X 5 = 45\n",
            "9 X 6 = 54\n",
            "9 X 7 = 63\n",
            "9 X 8 = 72\n",
            "9 X 9 = 81\n",
            "- 끝\n"
          ]
        }
      ]
    },
    {
      "cell_type": "code",
      "source": [
        "print(1, 2, 3, 4, sep='😊', end='\\t')\n",
        "print(1, 2, 3, 4, sep='😊', end='\\t')"
      ],
      "metadata": {
        "colab": {
          "base_uri": "https://localhost:8080/"
        },
        "id": "CYKehijfwL_D",
        "outputId": "963dddc1-97be-4244-b85b-1d8442a8dbfb"
      },
      "execution_count": null,
      "outputs": [
        {
          "output_type": "stream",
          "name": "stdout",
          "text": [
            "1😊2😊3😊4\t1😊2😊3😊4\t"
          ]
        }
      ]
    },
    {
      "cell_type": "code",
      "source": [
        "# 구구단 가로출력\n",
        "for i in range(1, 10):\n",
        "    for j in range(2, 10):\n",
        "        print(j, 'X', i, '=', j * i, end='\\t')\n",
        "\n",
        "    # print 함수는 end='\\n'가 기본값이기 때문에\n",
        "    # 따로 print('\\n')을 하지 않음\n",
        "    print()"
      ],
      "metadata": {
        "colab": {
          "base_uri": "https://localhost:8080/"
        },
        "id": "kIIlxGNC3hlj",
        "outputId": "801bf298-7b09-4259-c47d-506061746d40"
      },
      "execution_count": null,
      "outputs": [
        {
          "output_type": "stream",
          "name": "stdout",
          "text": [
            "2 X 1 = 2\t3 X 1 = 3\t4 X 1 = 4\t5 X 1 = 5\t6 X 1 = 6\t7 X 1 = 7\t8 X 1 = 8\t9 X 1 = 9\t\n",
            "2 X 2 = 4\t3 X 2 = 6\t4 X 2 = 8\t5 X 2 = 10\t6 X 2 = 12\t7 X 2 = 14\t8 X 2 = 16\t9 X 2 = 18\t\n",
            "2 X 3 = 6\t3 X 3 = 9\t4 X 3 = 12\t5 X 3 = 15\t6 X 3 = 18\t7 X 3 = 21\t8 X 3 = 24\t9 X 3 = 27\t\n",
            "2 X 4 = 8\t3 X 4 = 12\t4 X 4 = 16\t5 X 4 = 20\t6 X 4 = 24\t7 X 4 = 28\t8 X 4 = 32\t9 X 4 = 36\t\n",
            "2 X 5 = 10\t3 X 5 = 15\t4 X 5 = 20\t5 X 5 = 25\t6 X 5 = 30\t7 X 5 = 35\t8 X 5 = 40\t9 X 5 = 45\t\n",
            "2 X 6 = 12\t3 X 6 = 18\t4 X 6 = 24\t5 X 6 = 30\t6 X 6 = 36\t7 X 6 = 42\t8 X 6 = 48\t9 X 6 = 54\t\n",
            "2 X 7 = 14\t3 X 7 = 21\t4 X 7 = 28\t5 X 7 = 35\t6 X 7 = 42\t7 X 7 = 49\t8 X 7 = 56\t9 X 7 = 63\t\n",
            "2 X 8 = 16\t3 X 8 = 24\t4 X 8 = 32\t5 X 8 = 40\t6 X 8 = 48\t7 X 8 = 56\t8 X 8 = 64\t9 X 8 = 72\t\n",
            "2 X 9 = 18\t3 X 9 = 27\t4 X 9 = 36\t5 X 9 = 45\t6 X 9 = 54\t7 X 9 = 63\t8 X 9 = 72\t9 X 9 = 81\t\n"
          ]
        }
      ]
    },
    {
      "cell_type": "markdown",
      "source": [
        "## 그러면 while 문으로도 중첩이 가능할까??"
      ],
      "metadata": {
        "id": "LpKssRe7myf4"
      }
    },
    {
      "cell_type": "code",
      "source": [
        "# 무한반복이 필요하면 while문을 밖에 넣고 안에 for문을 쓰는 것도 가능할 거에요\n",
        "# 중첩이 되어서 복잡하다 느껴질 뿐이지 사실 원리는 똑같습니다.\n",
        "# 구구단을 while문으로 출력\n",
        "# 2~9단 반환\n",
        "\n",
        "# 조건을 끝내게 할 실마리\n",
        "i = 2\n",
        "while i < 10:\n",
        "    j = 1\n",
        "    # 1~9 곱하는 수 반환\n",
        "    while j < 10:\n",
        "        print(i, 'X', j, '=', i * j)\n",
        "        j += 1\n",
        "    i += 1\n",
        "    print()\n",
        "\n",
        ""
      ],
      "metadata": {
        "id": "SzscIgnfp9Rm",
        "colab": {
          "base_uri": "https://localhost:8080/"
        },
        "outputId": "e022b85b-9f1a-45ee-c078-4cdab49bc648"
      },
      "execution_count": null,
      "outputs": [
        {
          "output_type": "stream",
          "name": "stdout",
          "text": [
            "2 X 1 = 2\n",
            "2 X 2 = 4\n",
            "2 X 3 = 6\n",
            "2 X 4 = 8\n",
            "2 X 5 = 10\n",
            "2 X 6 = 12\n",
            "2 X 7 = 14\n",
            "2 X 8 = 16\n",
            "2 X 9 = 18\n",
            "\n",
            "3 X 1 = 3\n",
            "3 X 2 = 6\n",
            "3 X 3 = 9\n",
            "3 X 4 = 12\n",
            "3 X 5 = 15\n",
            "3 X 6 = 18\n",
            "3 X 7 = 21\n",
            "3 X 8 = 24\n",
            "3 X 9 = 27\n",
            "\n",
            "4 X 1 = 4\n",
            "4 X 2 = 8\n",
            "4 X 3 = 12\n",
            "4 X 4 = 16\n",
            "4 X 5 = 20\n",
            "4 X 6 = 24\n",
            "4 X 7 = 28\n",
            "4 X 8 = 32\n",
            "4 X 9 = 36\n",
            "\n",
            "5 X 1 = 5\n",
            "5 X 2 = 10\n",
            "5 X 3 = 15\n",
            "5 X 4 = 20\n",
            "5 X 5 = 25\n",
            "5 X 6 = 30\n",
            "5 X 7 = 35\n",
            "5 X 8 = 40\n",
            "5 X 9 = 45\n",
            "\n",
            "6 X 1 = 6\n",
            "6 X 2 = 12\n",
            "6 X 3 = 18\n",
            "6 X 4 = 24\n",
            "6 X 5 = 30\n",
            "6 X 6 = 36\n",
            "6 X 7 = 42\n",
            "6 X 8 = 48\n",
            "6 X 9 = 54\n",
            "\n",
            "7 X 1 = 7\n",
            "7 X 2 = 14\n",
            "7 X 3 = 21\n",
            "7 X 4 = 28\n",
            "7 X 5 = 35\n",
            "7 X 6 = 42\n",
            "7 X 7 = 49\n",
            "7 X 8 = 56\n",
            "7 X 9 = 63\n",
            "\n",
            "8 X 1 = 8\n",
            "8 X 2 = 16\n",
            "8 X 3 = 24\n",
            "8 X 4 = 32\n",
            "8 X 5 = 40\n",
            "8 X 6 = 48\n",
            "8 X 7 = 56\n",
            "8 X 8 = 64\n",
            "8 X 9 = 72\n",
            "\n",
            "9 X 1 = 9\n",
            "9 X 2 = 18\n",
            "9 X 3 = 27\n",
            "9 X 4 = 36\n",
            "9 X 5 = 45\n",
            "9 X 6 = 54\n",
            "9 X 7 = 63\n",
            "9 X 8 = 72\n",
            "9 X 9 = 81\n",
            "\n"
          ]
        }
      ]
    },
    {
      "cell_type": "markdown",
      "source": [
        "# 1. 수업"
      ],
      "metadata": {
        "id": "II-GtGJbMUWo"
      }
    },
    {
      "cell_type": "markdown",
      "source": [
        "# 비교 연산자와 논리 연산자\n",
        "\n",
        "- 제어문 (반복문, 분기문)에 아주 중요한 역할을 하기 때문에\n",
        "- 파이썬에서는 비교 연산자와 논리 연산자의 판단 결과로 True, False를 사용\n",
        "- 사용할 때는 구분하지 않겠지만 얘들은 작동방식이 달라요.\n",
        "- 그 작동한 결과를 bool타입으로 출력합니다. flag라는 변수명 주로 사용하는데 (sum, count, cnt처럼 약속일 뿐입니다 )\n"
      ],
      "metadata": {
        "id": "4bACujKNghhv"
      }
    },
    {
      "cell_type": "markdown",
      "source": [
        "### 비교 연산자\n",
        "- <,>,<=,>=,==,!= : 값 자체를 비교\n",
        "- is, is not : 변수라는 객체 주소를 비교\n",
        "- id(변수명) : 해당 변수의 주소값 어디인지 반환합니다."
      ],
      "metadata": {
        "id": "5LoZti--g9sR"
      }
    },
    {
      "cell_type": "code",
      "source": [
        "li = ['사과', '포도', ['킹스베리딸기', '산딸기']]"
      ],
      "metadata": {
        "id": "OPeF6w2SQaad"
      },
      "execution_count": null,
      "outputs": []
    },
    {
      "cell_type": "code",
      "source": [
        "1 == '1' # 비교 연산자 : 값과 자료형을 비교 하는 연산자"
      ],
      "metadata": {
        "id": "hQzjVvJMQbvw",
        "colab": {
          "base_uri": "https://localhost:8080/"
        },
        "outputId": "2fe337ef-bfa7-4464-80db-8a73a6f00113"
      },
      "execution_count": null,
      "outputs": [
        {
          "output_type": "execute_result",
          "data": {
            "text/plain": [
              "False"
            ]
          },
          "metadata": {},
          "execution_count": 137
        }
      ]
    },
    {
      "cell_type": "code",
      "source": [
        "li2 = li"
      ],
      "metadata": {
        "id": "O7j9yCQ8QdKP"
      },
      "execution_count": null,
      "outputs": []
    },
    {
      "cell_type": "code",
      "source": [
        "id(li2), id(li)"
      ],
      "metadata": {
        "id": "QzIKexw_gXl0",
        "colab": {
          "base_uri": "https://localhost:8080/"
        },
        "outputId": "c0f8cfb2-2131-42ec-a400-616b6bc0c875"
      },
      "execution_count": null,
      "outputs": [
        {
          "output_type": "execute_result",
          "data": {
            "text/plain": [
              "(140316725893504, 140316725893504)"
            ]
          },
          "metadata": {},
          "execution_count": 140
        }
      ]
    },
    {
      "cell_type": "code",
      "source": [
        "li2 is li"
      ],
      "metadata": {
        "id": "8a-Zg-DEhYQk",
        "colab": {
          "base_uri": "https://localhost:8080/"
        },
        "outputId": "fa5bfc6d-6595-4808-e0a0-ecbb314f6c21"
      },
      "execution_count": null,
      "outputs": [
        {
          "output_type": "execute_result",
          "data": {
            "text/plain": [
              "True"
            ]
          },
          "metadata": {},
          "execution_count": 141
        }
      ]
    },
    {
      "cell_type": "code",
      "source": [
        "import copy\n",
        "li3 = copy.deepcopy(li)"
      ],
      "metadata": {
        "id": "odpfB4ZChb3g"
      },
      "execution_count": null,
      "outputs": []
    },
    {
      "cell_type": "code",
      "source": [
        "li3, li"
      ],
      "metadata": {
        "id": "1y163YHVhhUt",
        "colab": {
          "base_uri": "https://localhost:8080/"
        },
        "outputId": "36c229e0-d203-4eee-a917-e44e14245894"
      },
      "execution_count": null,
      "outputs": [
        {
          "output_type": "execute_result",
          "data": {
            "text/plain": [
              "(['사과', '포도', ['킹스베리딸기', '산딸기']], ['사과', '포도', ['킹스베리딸기', '산딸기']])"
            ]
          },
          "metadata": {},
          "execution_count": 143
        }
      ]
    },
    {
      "cell_type": "code",
      "source": [
        "id(li3) == id(li)"
      ],
      "metadata": {
        "id": "CbJ4lN6ohwIt",
        "colab": {
          "base_uri": "https://localhost:8080/"
        },
        "outputId": "d29ca50b-437f-4bc8-d57f-61d5662ec3e5"
      },
      "execution_count": null,
      "outputs": [
        {
          "output_type": "execute_result",
          "data": {
            "text/plain": [
              "False"
            ]
          },
          "metadata": {},
          "execution_count": 145
        }
      ]
    },
    {
      "cell_type": "code",
      "source": [
        "li3 is li # 변수들의 주소를 비교해서 같으면 True,\n",
        "# 다르면 False를 결과로 리턴합니다"
      ],
      "metadata": {
        "id": "o8n-oMCXhxDs",
        "colab": {
          "base_uri": "https://localhost:8080/"
        },
        "outputId": "cfa53d16-94a7-4ba3-8165-7c1f9d8ef721"
      },
      "execution_count": null,
      "outputs": [
        {
          "output_type": "execute_result",
          "data": {
            "text/plain": [
              "False"
            ]
          },
          "metadata": {},
          "execution_count": 146
        }
      ]
    },
    {
      "cell_type": "code",
      "source": [
        "# 자주 쓰는 숫자나 명령어는 인터프리터가 계속 간직 중\n",
        "# -5~256까지의 숫자, True, False 같은 값들\n",
        "a = 1"
      ],
      "metadata": {
        "id": "BWbkLYKiiUOb"
      },
      "execution_count": null,
      "outputs": []
    },
    {
      "cell_type": "code",
      "source": [
        "a is 1"
      ],
      "metadata": {
        "id": "3vILD9S2inKJ",
        "colab": {
          "base_uri": "https://localhost:8080/"
        },
        "outputId": "013c0b39-d916-4799-c6a3-51702620ae56"
      },
      "execution_count": null,
      "outputs": [
        {
          "output_type": "stream",
          "name": "stderr",
          "text": [
            "<>:1: SyntaxWarning: \"is\" with a literal. Did you mean \"==\"?\n",
            "<>:1: SyntaxWarning: \"is\" with a literal. Did you mean \"==\"?\n",
            "<ipython-input-152-9a4f168196e7>:1: SyntaxWarning: \"is\" with a literal. Did you mean \"==\"?\n",
            "  a is 1\n"
          ]
        },
        {
          "output_type": "execute_result",
          "data": {
            "text/plain": [
              "True"
            ]
          },
          "metadata": {},
          "execution_count": 152
        }
      ]
    },
    {
      "cell_type": "code",
      "source": [
        "b = 1.0"
      ],
      "metadata": {
        "id": "St39Hpxa2i2n"
      },
      "execution_count": null,
      "outputs": []
    },
    {
      "cell_type": "code",
      "source": [
        "b is 1.0"
      ],
      "metadata": {
        "colab": {
          "base_uri": "https://localhost:8080/"
        },
        "id": "Xh0yXzzm2j3s",
        "outputId": "21e1319c-d9a9-4de9-8d34-ccd1a7fb25e7"
      },
      "execution_count": null,
      "outputs": [
        {
          "output_type": "stream",
          "name": "stderr",
          "text": [
            "<>:1: SyntaxWarning: \"is\" with a literal. Did you mean \"==\"?\n",
            "<>:1: SyntaxWarning: \"is\" with a literal. Did you mean \"==\"?\n",
            "<ipython-input-154-9d2eca0b91fe>:1: SyntaxWarning: \"is\" with a literal. Did you mean \"==\"?\n",
            "  b is 1.0\n"
          ]
        },
        {
          "output_type": "execute_result",
          "data": {
            "text/plain": [
              "False"
            ]
          },
          "metadata": {},
          "execution_count": 154
        }
      ]
    },
    {
      "cell_type": "code",
      "source": [
        "b == 1.0"
      ],
      "metadata": {
        "colab": {
          "base_uri": "https://localhost:8080/"
        },
        "id": "o6ONDwee21i2",
        "outputId": "92a6cef0-fe5d-440a-c5f4-85d0369c2183"
      },
      "execution_count": null,
      "outputs": [
        {
          "output_type": "execute_result",
          "data": {
            "text/plain": [
              "True"
            ]
          },
          "metadata": {},
          "execution_count": 155
        }
      ]
    },
    {
      "cell_type": "markdown",
      "source": [
        "- 'is' : 동일성(Identity)를 비교\n",
        "- '==' : 동등성(Equality)를 비교 합니다.\n",
        "- None, True, False, 0, 1 같은 많이 쓰이는 애들은 최초에 저장된 장소가 있고 어디서 저 값을 호출하든 항상 똑같은 메모리 주소를 가집니다."
      ],
      "metadata": {
        "id": "xGUQG3uOqpOF"
      }
    },
    {
      "cell_type": "markdown",
      "source": [
        "## 논리연산자\n",
        "\n",
        "- not, and, or 순으로 우선 판단\n",
        "- 단락평가를 한다\n",
        "    - short-circuit evalution\n",
        "    - 첫번째 값으로 결과가 확인하면 두번째 값은 평가하지 않는 방법"
      ],
      "metadata": {
        "id": "uBdMrEyXq7XT"
      }
    },
    {
      "cell_type": "code",
      "source": [
        "not (1 is 1.0)\n",
        "           # 1\n",
        "(not False)\n",
        "            # 2"
      ],
      "metadata": {
        "id": "pmz8REdm3Z1Z",
        "colab": {
          "base_uri": "https://localhost:8080/"
        },
        "outputId": "089f427e-c0b7-4d9d-c9f6-bdccb8689910"
      },
      "execution_count": null,
      "outputs": [
        {
          "output_type": "stream",
          "name": "stderr",
          "text": [
            "<>:1: SyntaxWarning: \"is not\" with a literal. Did you mean \"!=\"?\n",
            "<>:1: SyntaxWarning: \"is not\" with a literal. Did you mean \"!=\"?\n",
            "<ipython-input-161-b4bf5bb1d071>:1: SyntaxWarning: \"is not\" with a literal. Did you mean \"!=\"?\n",
            "  not 1 is 1.0\n"
          ]
        },
        {
          "output_type": "execute_result",
          "data": {
            "text/plain": [
              "True"
            ]
          },
          "metadata": {},
          "execution_count": 161
        }
      ]
    },
    {
      "cell_type": "code",
      "source": [
        "True or 'Hello'"
      ],
      "metadata": {
        "id": "9CvWxY8xqOvA",
        "colab": {
          "base_uri": "https://localhost:8080/"
        },
        "outputId": "88bf5e5e-06c4-4c61-e4c0-1ebafc3e2e59"
      },
      "execution_count": null,
      "outputs": [
        {
          "output_type": "execute_result",
          "data": {
            "text/plain": [
              "True"
            ]
          },
          "metadata": {},
          "execution_count": 162
        }
      ]
    },
    {
      "cell_type": "code",
      "source": [
        "'Hello' or True"
      ],
      "metadata": {
        "id": "optr65oDrc_l",
        "colab": {
          "base_uri": "https://localhost:8080/",
          "height": 35
        },
        "outputId": "71fa09d4-4d9d-45bf-ee69-4f9f363f41d4"
      },
      "execution_count": null,
      "outputs": [
        {
          "output_type": "execute_result",
          "data": {
            "text/plain": [
              "'Hello'"
            ],
            "application/vnd.google.colaboratory.intrinsic+json": {
              "type": "string"
            }
          },
          "metadata": {},
          "execution_count": 163
        }
      ]
    },
    {
      "cell_type": "code",
      "source": [
        "False or 'Hello'"
      ],
      "metadata": {
        "id": "m2Iv8Z2dsROW",
        "colab": {
          "base_uri": "https://localhost:8080/",
          "height": 35
        },
        "outputId": "5df939ba-4fef-41b2-d43e-d242253934b3"
      },
      "execution_count": null,
      "outputs": [
        {
          "output_type": "execute_result",
          "data": {
            "text/plain": [
              "'Hello'"
            ],
            "application/vnd.google.colaboratory.intrinsic+json": {
              "type": "string"
            }
          },
          "metadata": {},
          "execution_count": 164
        }
      ]
    },
    {
      "cell_type": "code",
      "source": [
        "'Hello' or False"
      ],
      "metadata": {
        "colab": {
          "base_uri": "https://localhost:8080/",
          "height": 35
        },
        "id": "TQjAZaIN3-wb",
        "outputId": "ec1f6dcc-bd85-4692-979c-3afd1db652a8"
      },
      "execution_count": null,
      "outputs": [
        {
          "output_type": "execute_result",
          "data": {
            "text/plain": [
              "'Hello'"
            ],
            "application/vnd.google.colaboratory.intrinsic+json": {
              "type": "string"
            }
          },
          "metadata": {},
          "execution_count": 166
        }
      ]
    },
    {
      "cell_type": "code",
      "source": [
        "False and 'Hello'"
      ],
      "metadata": {
        "id": "a5d0MprYsyJE",
        "colab": {
          "base_uri": "https://localhost:8080/"
        },
        "outputId": "d29227f0-e35a-4b87-95b5-931824db6364"
      },
      "execution_count": null,
      "outputs": [
        {
          "output_type": "execute_result",
          "data": {
            "text/plain": [
              "False"
            ]
          },
          "metadata": {},
          "execution_count": 165
        }
      ]
    },
    {
      "cell_type": "markdown",
      "source": [
        "## and : 두 값이 모두 참이어야 참\n",
        "- 첫번째 값이 거짓이면 두번째는 확인도 안 하고 거짓으로 결정해버립니다 (단락평가)"
      ],
      "metadata": {
        "id": "8XGp56q2s_-O"
      }
    },
    {
      "cell_type": "markdown",
      "source": [
        "# or : 두 값 중 하나만 참\n",
        "    - 첫번째 값이 참이면 두번째 값은 확인하지 않고 바로 참으로 결정해버립니다."
      ],
      "metadata": {
        "id": "obdyGia9tbFY"
      }
    },
    {
      "cell_type": "markdown",
      "source": [
        "# not : 논릿값의 반대\n",
        "- not True: False\n",
        "- not False : True"
      ],
      "metadata": {
        "id": "eHBTvBppt173"
      }
    },
    {
      "cell_type": "code",
      "source": [
        "# not > and > or 순으로 우선순위\n",
        "(((not True) and False) or (not False))"
      ],
      "metadata": {
        "id": "IHRsMDqutwy8",
        "colab": {
          "base_uri": "https://localhost:8080/"
        },
        "outputId": "60109a71-f44e-435a-d727-cbeca800432a"
      },
      "execution_count": null,
      "outputs": [
        {
          "output_type": "execute_result",
          "data": {
            "text/plain": [
              "True"
            ]
          },
          "metadata": {},
          "execution_count": 167
        }
      ]
    },
    {
      "cell_type": "code",
      "source": [
        "False and False or True"
      ],
      "metadata": {
        "colab": {
          "base_uri": "https://localhost:8080/"
        },
        "id": "b3XWEpqX4ahk",
        "outputId": "e3be84a6-b790-46bd-9a36-9de73d52d969"
      },
      "execution_count": null,
      "outputs": [
        {
          "output_type": "execute_result",
          "data": {
            "text/plain": [
              "True"
            ]
          },
          "metadata": {},
          "execution_count": 168
        }
      ]
    },
    {
      "cell_type": "code",
      "source": [
        "False or True\n",
        "# (False and False) or True"
      ],
      "metadata": {
        "colab": {
          "base_uri": "https://localhost:8080/"
        },
        "id": "E2l2bgt34noK",
        "outputId": "796ee6a5-c759-4e58-eda9-22a806033e1a"
      },
      "execution_count": null,
      "outputs": [
        {
          "output_type": "execute_result",
          "data": {
            "text/plain": [
              "True"
            ]
          },
          "metadata": {},
          "execution_count": 169
        }
      ]
    },
    {
      "cell_type": "code",
      "source": [
        "True"
      ],
      "metadata": {
        "colab": {
          "base_uri": "https://localhost:8080/"
        },
        "id": "V-1B05B_4sRe",
        "outputId": "75e9d99d-8144-4b97-b762-b571c833a754"
      },
      "execution_count": null,
      "outputs": [
        {
          "output_type": "execute_result",
          "data": {
            "text/plain": [
              "True"
            ]
          },
          "metadata": {},
          "execution_count": 170
        }
      ]
    },
    {
      "cell_type": "markdown",
      "source": [
        "# 비교연산자 + 논리연산자\n",
        "-  비교 연산자(is, is not, ==, !=, <, >, <=, >=)를 먼저 판단하고 논리 연산자(not, and, or)를 판단"
      ],
      "metadata": {
        "id": "itqtDqhuxHeW"
      }
    },
    {
      "cell_type": "code",
      "source": [
        "1 == 1 and 1 != 2\n",
        "#   T  and   T\n",
        "#   T 확인 후 뒤는 보지도 않고 멈춤"
      ],
      "metadata": {
        "id": "_AHLWPVuxRMn",
        "colab": {
          "base_uri": "https://localhost:8080/"
        },
        "outputId": "1f91dcbb-6c55-4672-b8d9-b70c2bc92f92"
      },
      "execution_count": null,
      "outputs": [
        {
          "output_type": "execute_result",
          "data": {
            "text/plain": [
              "True"
            ]
          },
          "metadata": {},
          "execution_count": 171
        }
      ]
    },
    {
      "cell_type": "markdown",
      "source": [
        "# 문자열 메소드\n",
        "## 문자열 (str) 에 자주 사용하는 메소드들이 있습니다.\n",
        "\n",
        "- 문자들의 순서 있는 집합\n",
        "- 여러줄로 이뤄진 문자열 표현도 가능 - 단일, 쌍따옴표 표현\n",
        "- print 함수 사용시 특수 기호로 처리 가능 : \\r(문자열 앞단에 선언)\n",
        "- str() : 문자열로 형변환\n",
        "- 문자열 반복\n",
        "- 문자열 출력\n",
        "- 문자열 indexing\n",
        "- 문자열 slice : 문자열의 일부 추출\n",
        "- 문자열의 내장 함수 이해하기\n",
        "- 유니코드 문자열 : 전 세계 언어의 문자를 정의하기 위한 국제 표준 코드\n",
        "- python3 부턴 모든 문자열을 유니코드로 처리\n",
        "- 파이썬에서 제공하는 문자열과 관련된 기능들은 진짜 많습니다.\n",
        "- [파이썬 공식 문자열 레퍼런스](https://docs.python.org/ko/3/library/stdtypes.html#text-sequence-type-str)\n",
        "- 자주 사용되는 문자열 메소드\n",
        "\n",
        "  - split()\n",
        "  - replace()\n",
        "  - strip()\n",
        "  - join()\n",
        "  - format()\n",
        "\n"
      ],
      "metadata": {
        "id": "tNSXvsxuG4j2"
      }
    },
    {
      "cell_type": "code",
      "source": [
        "str1 = '안녕하세요'"
      ],
      "metadata": {
        "id": "3C6s47ZyG6Nc"
      },
      "execution_count": null,
      "outputs": []
    },
    {
      "cell_type": "code",
      "source": [
        "str1[0]"
      ],
      "metadata": {
        "id": "eRXocgp9H6rc",
        "colab": {
          "base_uri": "https://localhost:8080/",
          "height": 35
        },
        "outputId": "4b6ade37-5ee4-427e-90b3-09357a9a5e5b"
      },
      "execution_count": null,
      "outputs": [
        {
          "output_type": "execute_result",
          "data": {
            "text/plain": [
              "'안'"
            ],
            "application/vnd.google.colaboratory.intrinsic+json": {
              "type": "string"
            }
          },
          "metadata": {},
          "execution_count": 173
        }
      ]
    },
    {
      "cell_type": "code",
      "source": [
        "str1[-1]"
      ],
      "metadata": {
        "id": "QHkMy9teH7-e",
        "colab": {
          "base_uri": "https://localhost:8080/",
          "height": 35
        },
        "outputId": "92d1d0d4-1346-44cb-f2a8-a622d7bb52c3"
      },
      "execution_count": null,
      "outputs": [
        {
          "output_type": "execute_result",
          "data": {
            "text/plain": [
              "'요'"
            ],
            "application/vnd.google.colaboratory.intrinsic+json": {
              "type": "string"
            }
          },
          "metadata": {},
          "execution_count": 174
        }
      ]
    },
    {
      "cell_type": "code",
      "source": [
        "str1[1:3]"
      ],
      "metadata": {
        "id": "nfbKbC_fIAGl",
        "colab": {
          "base_uri": "https://localhost:8080/",
          "height": 35
        },
        "outputId": "fde00e30-248d-47c4-c0e1-4bd1b36905f8"
      },
      "execution_count": null,
      "outputs": [
        {
          "output_type": "execute_result",
          "data": {
            "text/plain": [
              "'녕하'"
            ],
            "application/vnd.google.colaboratory.intrinsic+json": {
              "type": "string"
            }
          },
          "metadata": {},
          "execution_count": 177
        }
      ]
    },
    {
      "cell_type": "code",
      "source": [
        "dir(str1)"
      ],
      "metadata": {
        "id": "PQ4pfZTYIAsX",
        "colab": {
          "base_uri": "https://localhost:8080/"
        },
        "outputId": "69265f68-a793-414a-adba-44c41773323b"
      },
      "execution_count": null,
      "outputs": [
        {
          "output_type": "execute_result",
          "data": {
            "text/plain": [
              "['__add__',\n",
              " '__class__',\n",
              " '__contains__',\n",
              " '__delattr__',\n",
              " '__dir__',\n",
              " '__doc__',\n",
              " '__eq__',\n",
              " '__format__',\n",
              " '__ge__',\n",
              " '__getattribute__',\n",
              " '__getitem__',\n",
              " '__getnewargs__',\n",
              " '__gt__',\n",
              " '__hash__',\n",
              " '__init__',\n",
              " '__init_subclass__',\n",
              " '__iter__',\n",
              " '__le__',\n",
              " '__len__',\n",
              " '__lt__',\n",
              " '__mod__',\n",
              " '__mul__',\n",
              " '__ne__',\n",
              " '__new__',\n",
              " '__reduce__',\n",
              " '__reduce_ex__',\n",
              " '__repr__',\n",
              " '__rmod__',\n",
              " '__rmul__',\n",
              " '__setattr__',\n",
              " '__sizeof__',\n",
              " '__str__',\n",
              " '__subclasshook__',\n",
              " 'capitalize',\n",
              " 'casefold',\n",
              " 'center',\n",
              " 'count',\n",
              " 'encode',\n",
              " 'endswith',\n",
              " 'expandtabs',\n",
              " 'find',\n",
              " 'format',\n",
              " 'format_map',\n",
              " 'index',\n",
              " 'isalnum',\n",
              " 'isalpha',\n",
              " 'isascii',\n",
              " 'isdecimal',\n",
              " 'isdigit',\n",
              " 'isidentifier',\n",
              " 'islower',\n",
              " 'isnumeric',\n",
              " 'isprintable',\n",
              " 'isspace',\n",
              " 'istitle',\n",
              " 'isupper',\n",
              " 'join',\n",
              " 'ljust',\n",
              " 'lower',\n",
              " 'lstrip',\n",
              " 'maketrans',\n",
              " 'partition',\n",
              " 'removeprefix',\n",
              " 'removesuffix',\n",
              " 'replace',\n",
              " 'rfind',\n",
              " 'rindex',\n",
              " 'rjust',\n",
              " 'rpartition',\n",
              " 'rsplit',\n",
              " 'rstrip',\n",
              " 'split',\n",
              " 'splitlines',\n",
              " 'startswith',\n",
              " 'strip',\n",
              " 'swapcase',\n",
              " 'title',\n",
              " 'translate',\n",
              " 'upper',\n",
              " 'zfill']"
            ]
          },
          "metadata": {},
          "execution_count": 178
        }
      ]
    },
    {
      "cell_type": "markdown",
      "source": [
        "### split\n",
        "- 문자열.split(t,n)\n",
        "- 문자열에서 t 기준으로 n만큼 분리한 문자열 리스트를 반환해주세요\n"
      ],
      "metadata": {
        "id": "CxJ19nIPJPvf"
      }
    },
    {
      "cell_type": "code",
      "source": [
        "type(str1.split())"
      ],
      "metadata": {
        "id": "gUlpG3FjLHPA",
        "colab": {
          "base_uri": "https://localhost:8080/"
        },
        "outputId": "21554191-05ad-40bc-ca6d-693c99198062"
      },
      "execution_count": null,
      "outputs": [
        {
          "output_type": "execute_result",
          "data": {
            "text/plain": [
              "list"
            ]
          },
          "metadata": {},
          "execution_count": 180
        }
      ]
    },
    {
      "cell_type": "code",
      "source": [
        "str1 = '안녕 안녕 안녕하세요'"
      ],
      "metadata": {
        "id": "QEGGM60wJJo2"
      },
      "execution_count": null,
      "outputs": []
    },
    {
      "cell_type": "code",
      "source": [
        "str1.split()"
      ],
      "metadata": {
        "id": "xNAavNljJhju",
        "colab": {
          "base_uri": "https://localhost:8080/"
        },
        "outputId": "461146d3-ad4e-4e1c-f42f-a2d3e4017cbe"
      },
      "execution_count": null,
      "outputs": [
        {
          "output_type": "execute_result",
          "data": {
            "text/plain": [
              "['안녕', '안녕', '안녕하세요']"
            ]
          },
          "metadata": {},
          "execution_count": 182
        }
      ]
    },
    {
      "cell_type": "code",
      "source": [
        "'1,2,3'.split(',')"
      ],
      "metadata": {
        "id": "2BBDQjra3VhI",
        "colab": {
          "base_uri": "https://localhost:8080/"
        },
        "outputId": "9bc70679-5b7b-4540-bc84-a91209286ba6"
      },
      "execution_count": null,
      "outputs": [
        {
          "output_type": "execute_result",
          "data": {
            "text/plain": [
              "['1', '2', '3']"
            ]
          },
          "metadata": {},
          "execution_count": 183
        }
      ]
    },
    {
      "cell_type": "code",
      "source": [
        "'1,2,3'.split(',', maxsplit=1)"
      ],
      "metadata": {
        "id": "D_s2-xtbJoiN",
        "colab": {
          "base_uri": "https://localhost:8080/"
        },
        "outputId": "9f574f8c-9234-4580-c0bf-89c1580a98b4"
      },
      "execution_count": null,
      "outputs": [
        {
          "output_type": "execute_result",
          "data": {
            "text/plain": [
              "['1', '2,3']"
            ]
          },
          "metadata": {},
          "execution_count": 184
        }
      ]
    },
    {
      "cell_type": "code",
      "source": [
        "'1,2,,3,'.split(',')"
      ],
      "metadata": {
        "id": "Fwti7PW332fA",
        "colab": {
          "base_uri": "https://localhost:8080/"
        },
        "outputId": "3a10c334-0bc1-4869-87b9-9deacc198dc5"
      },
      "execution_count": null,
      "outputs": [
        {
          "output_type": "execute_result",
          "data": {
            "text/plain": [
              "['1', '2', '', '3', '']"
            ]
          },
          "metadata": {},
          "execution_count": 185
        }
      ]
    },
    {
      "cell_type": "markdown",
      "source": [
        "```"
      ],
      "metadata": {
        "id": "1N-EL-t3KxEt"
      }
    },
    {
      "cell_type": "code",
      "source": [
        "'1,2,3'.split(',', 1)\n",
        "\n"
      ],
      "metadata": {
        "id": "TK1KbFujKvNp",
        "colab": {
          "base_uri": "https://localhost:8080/"
        },
        "outputId": "0742a9a3-1c1d-47d8-b8ca-5a8c7d446711"
      },
      "execution_count": null,
      "outputs": [
        {
          "output_type": "execute_result",
          "data": {
            "text/plain": [
              "['1', '2,3']"
            ]
          },
          "metadata": {},
          "execution_count": 186
        }
      ]
    },
    {
      "cell_type": "code",
      "source": [
        "# 전달 하려는 매개변수의 이름을 같이 입력하면,\n",
        "# 순서가 바뀌어도 상관이 없습니다.\n",
        "'1,2,3'.split(maxsplit=1, sep=',')"
      ],
      "metadata": {
        "id": "TAxMWzS84nEP",
        "colab": {
          "base_uri": "https://localhost:8080/"
        },
        "outputId": "69e47de9-b839-4e8b-83f8-2749c826149c"
      },
      "execution_count": null,
      "outputs": [
        {
          "output_type": "execute_result",
          "data": {
            "text/plain": [
              "['1', '2,3']"
            ]
          },
          "metadata": {},
          "execution_count": 187
        }
      ]
    },
    {
      "cell_type": "markdown",
      "source": [
        "```\n",
        "['사과', '귤', '오렌지', '포도']\n",
        "['사과', '귤*오렌지*포도']\n",
        "['사과', '귤', '오렌지*포도']\n",
        "```\n"
      ],
      "metadata": {
        "id": "sZvWdSDzLJuO"
      }
    },
    {
      "cell_type": "code",
      "source": [
        "'사과*귤*오렌지*포도'.split('*')"
      ],
      "metadata": {
        "id": "KIs8tPrzKkQV",
        "colab": {
          "base_uri": "https://localhost:8080/"
        },
        "outputId": "2463229d-0d7d-4764-caf5-f7cf75c7b00e"
      },
      "execution_count": null,
      "outputs": [
        {
          "output_type": "execute_result",
          "data": {
            "text/plain": [
              "['사과', '귤', '오렌지', '포도']"
            ]
          },
          "metadata": {},
          "execution_count": 192
        }
      ]
    },
    {
      "cell_type": "code",
      "source": [
        "'사과*귤*오렌지*포도'.split('*',1)"
      ],
      "metadata": {
        "id": "iIkCRo_-LUHw",
        "colab": {
          "base_uri": "https://localhost:8080/"
        },
        "outputId": "41706811-da19-45ae-a6e0-e8ee09b6e043"
      },
      "execution_count": null,
      "outputs": [
        {
          "output_type": "execute_result",
          "data": {
            "text/plain": [
              "['사과', '귤*오렌지*포도']"
            ]
          },
          "metadata": {},
          "execution_count": 193
        }
      ]
    },
    {
      "cell_type": "code",
      "source": [
        "'사과*귤*오렌지*포도'.split(maxsplit=2, sep='*')"
      ],
      "metadata": {
        "id": "IleBaa3dLiFE",
        "colab": {
          "base_uri": "https://localhost:8080/"
        },
        "outputId": "0349c62b-3583-438d-84e7-f3b1e1cea1ac"
      },
      "execution_count": null,
      "outputs": [
        {
          "output_type": "execute_result",
          "data": {
            "text/plain": [
              "['사과', '귤', '오렌지*포도']"
            ]
          },
          "metadata": {},
          "execution_count": 194
        }
      ]
    },
    {
      "cell_type": "code",
      "source": [
        "for _ in '사과*귤*오렌지*포도'.split(sep='*'):\n",
        "    print(_)"
      ],
      "metadata": {
        "id": "bvBmM7lBLniv",
        "colab": {
          "base_uri": "https://localhost:8080/"
        },
        "outputId": "10ed41a1-18af-4281-dd98-1ba9c2861748"
      },
      "execution_count": null,
      "outputs": [
        {
          "output_type": "stream",
          "name": "stdout",
          "text": [
            "사과\n",
            "귤\n",
            "오렌지\n",
            "포도\n"
          ]
        }
      ]
    },
    {
      "cell_type": "markdown",
      "source": [
        "## replace\n",
        "- 문자열 치환\n",
        "  - 조건에 맞는 문자열을 치환\n",
        "  - 메모장에서 바꾸기 기능과 같은 기능 입니다.\n",
        "\n",
        "```\n",
        "str.replace(old, new[, count])\n",
        "```"
      ],
      "metadata": {
        "id": "kOfYfb1kMpN-"
      }
    },
    {
      "cell_type": "code",
      "source": [
        "str1 = '안녕 나는 연지 아빠야'"
      ],
      "metadata": {
        "id": "wHVni1hSQyjg"
      },
      "execution_count": null,
      "outputs": []
    },
    {
      "cell_type": "code",
      "source": [
        "str1.replace('연지', '연재')"
      ],
      "metadata": {
        "colab": {
          "base_uri": "https://localhost:8080/",
          "height": 35
        },
        "id": "c_lNnK0dQ3t8",
        "outputId": "a1562bfb-e37d-4e80-d367-f343698e9019"
      },
      "execution_count": null,
      "outputs": [
        {
          "output_type": "execute_result",
          "data": {
            "text/plain": [
              "'안녕 나는 연재 아빠야'"
            ],
            "application/vnd.google.colaboratory.intrinsic+json": {
              "type": "string"
            }
          },
          "metadata": {},
          "execution_count": 198
        }
      ]
    },
    {
      "cell_type": "code",
      "source": [
        "str1"
      ],
      "metadata": {
        "colab": {
          "base_uri": "https://localhost:8080/",
          "height": 35
        },
        "id": "pDxKVVo0RLVl",
        "outputId": "3c0a6484-a19a-4990-fc79-71dceecd957d"
      },
      "execution_count": null,
      "outputs": [
        {
          "output_type": "execute_result",
          "data": {
            "text/plain": [
              "'안녕 나는 연지 아빠야'"
            ],
            "application/vnd.google.colaboratory.intrinsic+json": {
              "type": "string"
            }
          },
          "metadata": {},
          "execution_count": 199
        }
      ]
    },
    {
      "cell_type": "code",
      "source": [
        "str2 = str1.replace(' ', '/', 2)"
      ],
      "metadata": {
        "id": "uddgcKOvRRPL"
      },
      "execution_count": null,
      "outputs": []
    },
    {
      "cell_type": "code",
      "source": [
        "str2"
      ],
      "metadata": {
        "colab": {
          "base_uri": "https://localhost:8080/",
          "height": 35
        },
        "id": "UBqAKqZ3Riqn",
        "outputId": "d70c588f-ca49-4054-c717-971e7a46b339"
      },
      "execution_count": null,
      "outputs": [
        {
          "output_type": "execute_result",
          "data": {
            "text/plain": [
              "'안녕/나는/연지 아빠야'"
            ],
            "application/vnd.google.colaboratory.intrinsic+json": {
              "type": "string"
            }
          },
          "metadata": {},
          "execution_count": 204
        }
      ]
    },
    {
      "cell_type": "code",
      "source": [
        "str2.replace(' ', '/')"
      ],
      "metadata": {
        "colab": {
          "base_uri": "https://localhost:8080/",
          "height": 35
        },
        "id": "cD_VsH29Rewv",
        "outputId": "e72988c1-b471-493c-9e6d-9974965e0359"
      },
      "execution_count": null,
      "outputs": [
        {
          "output_type": "execute_result",
          "data": {
            "text/plain": [
              "'안녕/나는/연지/아빠야'"
            ],
            "application/vnd.google.colaboratory.intrinsic+json": {
              "type": "string"
            }
          },
          "metadata": {},
          "execution_count": 209
        }
      ]
    },
    {
      "cell_type": "code",
      "source": [
        "# 공지\n",
        "\n",
        "# 오늘부터 당분간 매주 금요일에 수업 이해도 등\n",
        "# 수업에 대한 설문조사가 단톡방에 올라갑니다\n",
        "# 금요일 6시 내에 작성해주시면 됩니다."
      ],
      "metadata": {
        "id": "u-osynU5MlOt"
      },
      "execution_count": null,
      "outputs": []
    },
    {
      "cell_type": "markdown",
      "source": [
        "## strip\n",
        "- 문자열의 앞, 뒤에 존재하는 화이트 스페이스를 전부 제거\n",
        "  - 문자열의 마지막에 뉴라인의 존재 여부\n",
        "  - 불필요한 문자들은 전부 제거 할 수 있다.\n",
        "  - 문자열 중간에 있는 화이트 스페이스는 제거되지 않습니다\n",
        "\n",
        "- 메소드의 원형\n",
        "```\n",
        "str.strip([chars])\n",
        "```"
      ],
      "metadata": {
        "id": "36af_rQ1NZns"
      }
    },
    {
      "cell_type": "code",
      "source": [
        "st2 = '           hello          '"
      ],
      "metadata": {
        "id": "0ZXB7YtLNRXW"
      },
      "execution_count": null,
      "outputs": []
    },
    {
      "cell_type": "code",
      "source": [
        "st2.strip()"
      ],
      "metadata": {
        "id": "daKprYbnNsst",
        "colab": {
          "base_uri": "https://localhost:8080/",
          "height": 35
        },
        "outputId": "09328bf2-1c0d-484c-b1cb-954276f21afe"
      },
      "execution_count": null,
      "outputs": [
        {
          "output_type": "execute_result",
          "data": {
            "text/plain": [
              "'hello'"
            ],
            "application/vnd.google.colaboratory.intrinsic+json": {
              "type": "string"
            }
          },
          "metadata": {},
          "execution_count": 211
        }
      ]
    },
    {
      "cell_type": "code",
      "source": [
        "st2.lstrip()"
      ],
      "metadata": {
        "id": "H-6oofzANvqO",
        "colab": {
          "base_uri": "https://localhost:8080/",
          "height": 35
        },
        "outputId": "7962c50e-269c-4885-ede5-406ff4492892"
      },
      "execution_count": null,
      "outputs": [
        {
          "output_type": "execute_result",
          "data": {
            "text/plain": [
              "'hello          '"
            ],
            "application/vnd.google.colaboratory.intrinsic+json": {
              "type": "string"
            }
          },
          "metadata": {},
          "execution_count": 214
        }
      ]
    },
    {
      "cell_type": "code",
      "source": [
        "st2.rstrip()"
      ],
      "metadata": {
        "id": "FMxOpEDhN3GW",
        "colab": {
          "base_uri": "https://localhost:8080/",
          "height": 35
        },
        "outputId": "7c1d01d5-c4db-40c7-a4b7-5c54889d144c"
      },
      "execution_count": null,
      "outputs": [
        {
          "output_type": "execute_result",
          "data": {
            "text/plain": [
              "'           hello'"
            ],
            "application/vnd.google.colaboratory.intrinsic+json": {
              "type": "string"
            }
          },
          "metadata": {},
          "execution_count": 215
        }
      ]
    },
    {
      "cell_type": "code",
      "source": [
        "actors = '로미오&줄리엣1010'\n",
        "actors1 = '로미오1010&줄리엣'"
      ],
      "metadata": {
        "id": "VWnnUgxdN_9d"
      },
      "execution_count": null,
      "outputs": []
    },
    {
      "cell_type": "code",
      "source": [
        "actors.strip('1010')"
      ],
      "metadata": {
        "id": "LCqMP_HcOJM2",
        "colab": {
          "base_uri": "https://localhost:8080/",
          "height": 35
        },
        "outputId": "39f8a954-542d-4c14-a825-773f08f75842"
      },
      "execution_count": null,
      "outputs": [
        {
          "output_type": "execute_result",
          "data": {
            "text/plain": [
              "'로미오&줄리엣'"
            ],
            "application/vnd.google.colaboratory.intrinsic+json": {
              "type": "string"
            }
          },
          "metadata": {},
          "execution_count": 217
        }
      ]
    },
    {
      "cell_type": "code",
      "source": [
        "actors1.strip('1010') # 앞뒤에 있는 특정 문자열, 공백만 제거할 수 있다"
      ],
      "metadata": {
        "id": "yX28UYTeOxjX",
        "colab": {
          "base_uri": "https://localhost:8080/",
          "height": 35
        },
        "outputId": "218a587b-0a46-4d3b-e7e3-9d943f3f0d9f"
      },
      "execution_count": null,
      "outputs": [
        {
          "output_type": "execute_result",
          "data": {
            "text/plain": [
              "'로미오1010&줄리엣'"
            ],
            "application/vnd.google.colaboratory.intrinsic+json": {
              "type": "string"
            }
          },
          "metadata": {},
          "execution_count": 218
        }
      ]
    },
    {
      "cell_type": "code",
      "source": [
        "actors1.split('1010')"
      ],
      "metadata": {
        "id": "SXMSw0dVHqzx",
        "colab": {
          "base_uri": "https://localhost:8080/"
        },
        "outputId": "f55ef51a-7665-4f7d-ed9e-a666307e99da"
      },
      "execution_count": null,
      "outputs": [
        {
          "output_type": "execute_result",
          "data": {
            "text/plain": [
              "['로미오', '&줄리엣']"
            ]
          },
          "metadata": {},
          "execution_count": 219
        }
      ]
    },
    {
      "cell_type": "markdown",
      "source": [
        "# join\n",
        "- 여러개 문자열을 하나의 문자열로 합쳐서 새 문자열을 돌려줍니다\n",
        "    - 여러개 문자열이 이터러블 객체여야 합니다.\n",
        "\n",
        "```\n",
        "    str.join(iterable)\n",
        "```"
      ],
      "metadata": {
        "id": "IQwfi_zkNfHk"
      }
    },
    {
      "cell_type": "code",
      "source": [
        "actors1"
      ],
      "metadata": {
        "colab": {
          "base_uri": "https://localhost:8080/",
          "height": 35
        },
        "id": "HzRAwt7gTddQ",
        "outputId": "c54d74f9-739b-47f7-ca57-9f0d8cb3ce0e"
      },
      "execution_count": null,
      "outputs": [
        {
          "output_type": "execute_result",
          "data": {
            "text/plain": [
              "'로미오1010&줄리엣'"
            ],
            "application/vnd.google.colaboratory.intrinsic+json": {
              "type": "string"
            }
          },
          "metadata": {},
          "execution_count": 220
        }
      ]
    },
    {
      "cell_type": "code",
      "source": [
        "temp = actors1.split('1010')"
      ],
      "metadata": {
        "id": "95GYrcjdTc0q"
      },
      "execution_count": null,
      "outputs": []
    },
    {
      "cell_type": "code",
      "source": [
        "temp"
      ],
      "metadata": {
        "colab": {
          "base_uri": "https://localhost:8080/"
        },
        "id": "qpR0Kn5GTpWL",
        "outputId": "be63495d-ed03-4bd1-aad9-cb5a8b87c330"
      },
      "execution_count": null,
      "outputs": [
        {
          "output_type": "execute_result",
          "data": {
            "text/plain": [
              "['로미오', '&줄리엣']"
            ]
          },
          "metadata": {},
          "execution_count": 224
        }
      ]
    },
    {
      "cell_type": "code",
      "source": [
        "''.join(temp)"
      ],
      "metadata": {
        "colab": {
          "base_uri": "https://localhost:8080/",
          "height": 35
        },
        "id": "5lJehU3wThj-",
        "outputId": "aa0474bd-d653-4e88-d81a-5bab4c79104f"
      },
      "execution_count": null,
      "outputs": [
        {
          "output_type": "execute_result",
          "data": {
            "text/plain": [
              "'로미오&줄리엣'"
            ],
            "application/vnd.google.colaboratory.intrinsic+json": {
              "type": "string"
            }
          },
          "metadata": {},
          "execution_count": 228
        }
      ]
    },
    {
      "cell_type": "code",
      "source": [
        "a = ['짱구', '짱아', '장구엄마', '짱구아빠']"
      ],
      "metadata": {
        "id": "thrmXrWZM8tl"
      },
      "execution_count": null,
      "outputs": []
    },
    {
      "cell_type": "code",
      "source": [
        "' '.join(a)"
      ],
      "metadata": {
        "id": "ZzP3Ih0SHABl",
        "colab": {
          "base_uri": "https://localhost:8080/",
          "height": 35
        },
        "outputId": "e990168e-dce2-4013-a8e1-7b50c7959f7e"
      },
      "execution_count": null,
      "outputs": [
        {
          "output_type": "execute_result",
          "data": {
            "text/plain": [
              "'짱구 짱아 장구엄마 짱구아빠'"
            ],
            "application/vnd.google.colaboratory.intrinsic+json": {
              "type": "string"
            }
          },
          "metadata": {},
          "execution_count": 227
        }
      ]
    },
    {
      "cell_type": "code",
      "source": [
        "dict1 = {'a':123, 'b':456}"
      ],
      "metadata": {
        "id": "lAquNVvNHex-"
      },
      "execution_count": null,
      "outputs": []
    },
    {
      "cell_type": "code",
      "source": [
        "' '.join(dict1) # key를 중심으로 합쳐짐"
      ],
      "metadata": {
        "id": "kwjLYtr_HlYU",
        "colab": {
          "base_uri": "https://localhost:8080/",
          "height": 35
        },
        "outputId": "b4eafc0c-60c6-4400-cb24-6d4c70d4a279"
      },
      "execution_count": null,
      "outputs": [
        {
          "output_type": "execute_result",
          "data": {
            "text/plain": [
              "'a b'"
            ],
            "application/vnd.google.colaboratory.intrinsic+json": {
              "type": "string"
            }
          },
          "metadata": {},
          "execution_count": 230
        }
      ]
    },
    {
      "cell_type": "code",
      "source": [
        "' '.join(dict1.values()) # int라서 str용 함수는 쓸 수 없음"
      ],
      "metadata": {
        "id": "JnKE3WDd8SCj",
        "colab": {
          "base_uri": "https://localhost:8080/",
          "height": 174
        },
        "outputId": "aaab2222-a401-4071-d6a3-8bb405ee91a0"
      },
      "execution_count": null,
      "outputs": [
        {
          "output_type": "error",
          "ename": "TypeError",
          "evalue": "ignored",
          "traceback": [
            "\u001b[0;31m---------------------------------------------------------------------------\u001b[0m",
            "\u001b[0;31mTypeError\u001b[0m                                 Traceback (most recent call last)",
            "\u001b[0;32m<ipython-input-231-313ab11aa4ef>\u001b[0m in \u001b[0;36m<cell line: 1>\u001b[0;34m()\u001b[0m\n\u001b[0;32m----> 1\u001b[0;31m \u001b[0;34m' '\u001b[0m\u001b[0;34m.\u001b[0m\u001b[0mjoin\u001b[0m\u001b[0;34m(\u001b[0m\u001b[0mdict1\u001b[0m\u001b[0;34m.\u001b[0m\u001b[0mvalues\u001b[0m\u001b[0;34m(\u001b[0m\u001b[0;34m)\u001b[0m\u001b[0;34m)\u001b[0m\u001b[0;34m\u001b[0m\u001b[0;34m\u001b[0m\u001b[0m\n\u001b[0m",
            "\u001b[0;31mTypeError\u001b[0m: sequence item 0: expected str instance, int found"
          ]
        }
      ]
    },
    {
      "cell_type": "code",
      "source": [
        "''.join(str(list(dict1.values())))\n",
        "# 대부분의 문자열 관련 함수들은 자료형이 다르면 쓸 수 없습니다"
      ],
      "metadata": {
        "colab": {
          "base_uri": "https://localhost:8080/",
          "height": 35
        },
        "id": "ReIc8xTnViby",
        "outputId": "67baffee-e8b2-48b3-e6ef-4ae3bd9a95aa"
      },
      "execution_count": null,
      "outputs": [
        {
          "output_type": "execute_result",
          "data": {
            "text/plain": [
              "'[123, 456]'"
            ],
            "application/vnd.google.colaboratory.intrinsic+json": {
              "type": "string"
            }
          },
          "metadata": {},
          "execution_count": 242
        }
      ]
    },
    {
      "cell_type": "code",
      "source": [
        "''.join(str(list(dict1.values()))).strip('[').strip(']').replace(',','')\n",
        "# 대부분의 문자열 관련 함수들은 자료형이 다르면 쓸 수 없습니다"
      ],
      "metadata": {
        "colab": {
          "base_uri": "https://localhost:8080/",
          "height": 35
        },
        "id": "KhdNwRZSWnjb",
        "outputId": "2f42c080-41b6-47f4-b3e2-3013f0064566"
      },
      "execution_count": null,
      "outputs": [
        {
          "output_type": "execute_result",
          "data": {
            "text/plain": [
              "'123 456'"
            ],
            "application/vnd.google.colaboratory.intrinsic+json": {
              "type": "string"
            }
          },
          "metadata": {},
          "execution_count": 244
        }
      ]
    },
    {
      "cell_type": "code",
      "source": [
        "' '.join(dict1.values())"
      ],
      "metadata": {
        "colab": {
          "base_uri": "https://localhost:8080/",
          "height": 174
        },
        "id": "DDPBkwh3VaYY",
        "outputId": "36f0504a-3d22-495d-888d-6c11241fbf35"
      },
      "execution_count": null,
      "outputs": [
        {
          "output_type": "error",
          "ename": "TypeError",
          "evalue": "ignored",
          "traceback": [
            "\u001b[0;31m---------------------------------------------------------------------------\u001b[0m",
            "\u001b[0;31mTypeError\u001b[0m                                 Traceback (most recent call last)",
            "\u001b[0;32m<ipython-input-235-313ab11aa4ef>\u001b[0m in \u001b[0;36m<cell line: 1>\u001b[0;34m()\u001b[0m\n\u001b[0;32m----> 1\u001b[0;31m \u001b[0;34m' '\u001b[0m\u001b[0;34m.\u001b[0m\u001b[0mjoin\u001b[0m\u001b[0;34m(\u001b[0m\u001b[0mdict1\u001b[0m\u001b[0;34m.\u001b[0m\u001b[0mvalues\u001b[0m\u001b[0;34m(\u001b[0m\u001b[0;34m)\u001b[0m\u001b[0;34m)\u001b[0m\u001b[0;34m\u001b[0m\u001b[0;34m\u001b[0m\u001b[0m\n\u001b[0m",
            "\u001b[0;31mTypeError\u001b[0m: sequence item 0: expected str instance, int found"
          ]
        }
      ]
    },
    {
      "cell_type": "code",
      "source": [
        "dict1 = {'a':123, 'b':456}\n",
        "' '.join(map(str,dict1.values()))"
      ],
      "metadata": {
        "id": "2MrIU6VU8mIu",
        "colab": {
          "base_uri": "https://localhost:8080/",
          "height": 35
        },
        "outputId": "05d6e1ea-09c3-413e-f3be-006067137b8b"
      },
      "execution_count": null,
      "outputs": [
        {
          "output_type": "execute_result",
          "data": {
            "text/plain": [
              "'123 456'"
            ],
            "application/vnd.google.colaboratory.intrinsic+json": {
              "type": "string"
            }
          },
          "metadata": {},
          "execution_count": 232
        }
      ]
    },
    {
      "cell_type": "code",
      "source": [
        "dict1 = {'a':123, 'b':456}\n",
        "tmp = []\n",
        "for v in dict1.values():\n",
        "    tmp.append(str(v))\n",
        "' '.join(tmp)"
      ],
      "metadata": {
        "id": "wKRSp-uwXRPa"
      },
      "execution_count": null,
      "outputs": []
    },
    {
      "cell_type": "code",
      "source": [
        "# 텍스트데이터를 다루실 때 데이터에서 인사이트를 얻어내려면 거쳐야 되는 과정이 많습니다"
      ],
      "metadata": {
        "id": "aTO6_1Ew8pTG"
      },
      "execution_count": null,
      "outputs": []
    },
    {
      "cell_type": "markdown",
      "source": [
        "아래의 가사는 퍼렐 윌리엄스의 'happy'가사 입니다. 소괄호()는 공백이 없이 ''(작은따옴표 두개 - 빈 문자열)로, 엔터를 의미하는 이스케이핑 문자열이 있는 부분의 문자열은 한 칸 공백으로 변경해 string이라는 변수명에 저장해주세요. (반복문 없이)\n",
        "```\n",
        "It might seem crazy what I am 'bout to say\n",
        "Sunshine she's here, you can take a break\n",
        "I'm a hot air balloon that could go to space\n",
        "With the air, like I don't care, baby by the way\n",
        "Huh (Because I'm happy)\n",
        "Clap along if you feel like a room without a roof\n",
        "(Because I'm happy)\n",
        "Clap along if you feel like happiness is the truth\n",
        "(Because I'm happy)\n",
        "Clap along if you know what happiness is to you\n",
        "(Because I'm happy)\n",
        "Clap along if you feel like that's what you wanna do\n",
        "Here come bad news talking this and that (Yeah)\n",
        "Well give me all you got, don't hold back (Yeah)\n",
        "Well I should probably warn you I'll be just fine (Yeah)\n",
        "No offence to you don't waste your time\n",
        "Here's why\n",
        "Clap along if you feel like a room without a roof\n",
        "(Because I'm happy)\n",
        "Clap along if you feel like happiness is the truth\n",
        "(Because I'm happy)\n",
        "Clap along if you know what happiness is to you\n",
        "(Because I'm happy)\n",
        "Clap along if you feel like that's what you wanna do\n",
        "Uh, bring me down\n",
        "Can't nothing, bring me down\n",
        "My level's too high to bring me down\n",
        "Can't nothing, bring me down, I said\n",
        "Bring me down, can't nothing\n",
        "Bring me down\n",
        "My level's too high to bring me down\n",
        "Can't nothing, bring me down, I said\n",
        "Clap along if you feel like a room without a roof\n",
        "(Because I'm happy)\n",
        "Clap along if you feel like happiness is the truth\n",
        "(Because I'm happy)\n",
        "Clap along if you know what happiness is to you\n",
        "(Because I'm happy)\n",
        "Clap along if you feel like that's what you wanna do\n",
        "Clap along if you feel like a room without a roof\n",
        "(Because I'm happy)\n",
        "Clap along if you feel like happiness is the truth\n",
        "(Because I'm happy)\n",
        "Clap along if you know what happiness is to you\n",
        "(Because I'm happy)\n",
        "Clap along if you feel like that's what you wanna do\n",
        "Uh, bring me down (Happy, happy, happy, happy)\n",
        "Can't nothing (Happy, happy, happy, happy)\n",
        "Bring me down, my level's too high\n",
        "To bring me down (Happy, happy, happy, happy)\n",
        "Can't nothing (Happy, happy, happy, happy)\n",
        "Bring me down, I said\n",
        "Clap along if you feel like a room without a roof\n",
        "(Because I'm happy)\n",
        "Clap along if you feel like happiness is the truth\n",
        "(Because I'm happy)\n",
        "Clap along if you know what happiness is to you (ayy, ayy, ayy)\n",
        "(Because I'm happy)\n",
        "Clap along if you feel like that's what you wanna do\n",
        "Clap along if you feel like a room without a roof\n",
        "(Because I'm happy)\n",
        "Clap along if you feel like happiness is the truth\n",
        "(Because I'm happy)\n",
        "Clap along if you know what happiness is to you (hey)\n",
        "(Because I'm happy)\n",
        "Clap along if you feel like that's what you wanna do\n",
        "Come on\n"
      ],
      "metadata": {
        "id": "vBudtunR3kBP"
      }
    },
    {
      "cell_type": "code",
      "source": [
        "string = \"\"\"It might seem crazy what I am 'bout to say\n",
        "Sunshine she's here, you can take a break\n",
        "I'm a hot air balloon that could go to space\n",
        "With the air, like I don't care, baby by the way\n",
        "Huh (Because I'm happy)\n",
        "Clap along if you feel like a room without a roof\n",
        "(Because I'm happy)\n",
        "Clap along if you feel like happiness is the truth\n",
        "(Because I'm happy)\n",
        "Clap along if you know what happiness is to you\n",
        "(Because I'm happy)\n",
        "Clap along if you feel like that's what you wanna do\n",
        "Here come bad news talking this and that (Yeah)\n",
        "Well give me all you got, don't hold back (Yeah)\n",
        "Well I should probably warn you I'll be just fine (Yeah)\n",
        "No offence to you don't waste your time\n",
        "Here's why\n",
        "Clap along if you feel like a room without a roof\n",
        "(Because I'm happy)\n",
        "Clap along if you feel like happiness is the truth\n",
        "(Because I'm happy)\n",
        "Clap along if you know what happiness is to you\n",
        "(Because I'm happy)\n",
        "Clap along if you feel like that's what you wanna do\n",
        "Uh, bring me down\n",
        "Can't nothing, bring me down\n",
        "My level's too high to bring me down\n",
        "Can't nothing, bring me down, I said\n",
        "Bring me down, can't nothing\n",
        "Bring me down\n",
        "My level's too high to bring me down\n",
        "Can't nothing, bring me down, I said\n",
        "Clap along if you feel like a room without a roof\n",
        "(Because I'm happy)\n",
        "Clap along if you feel like happiness is the truth\n",
        "(Because I'm happy)\n",
        "Clap along if you know what happiness is to you\n",
        "(Because I'm happy)\n",
        "Clap along if you feel like that's what you wanna do\n",
        "Clap along if you feel like a room without a roof\n",
        "(Because I'm happy)\n",
        "Clap along if you feel like happiness is the truth\n",
        "(Because I'm happy)\n",
        "Clap along if you know what happiness is to you\n",
        "(Because I'm happy)\n",
        "Clap along if you feel like that's what you wanna do\n",
        "Uh, bring me down (Happy, happy, happy, happy)\n",
        "Can't nothing (Happy, happy, happy, happy)\n",
        "Bring me down, my level's too high\n",
        "To bring me down (Happy, happy, happy, happy)\n",
        "Can't nothing (Happy, happy, happy, happy)\n",
        "Bring me down, I said\n",
        "Clap along if you feel like a room without a roof\n",
        "(Because I'm happy)\n",
        "Clap along if you feel like happiness is the truth\n",
        "(Because I'm happy)\n",
        "Clap along if you know what happiness is to you (ayy, ayy, ayy)\n",
        "(Because I'm happy)\n",
        "Clap along if you feel like that's what you wanna do\n",
        "Clap along if you feel like a room without a roof\n",
        "(Because I'm happy)\n",
        "Clap along if you feel like happiness is the truth\n",
        "(Because I'm happy)\n",
        "Clap along if you know what happiness is to you (hey)\n",
        "(Because I'm happy)\n",
        "Clap along if you feel like that's what you wanna do\n",
        "Come on\"\"\" # 멀티라인 따옴표"
      ],
      "metadata": {
        "id": "Lrxf9VKQ92FY"
      },
      "execution_count": null,
      "outputs": []
    },
    {
      "cell_type": "code",
      "source": [
        "string"
      ],
      "metadata": {
        "id": "nDQ7ui3pFdEN",
        "colab": {
          "base_uri": "https://localhost:8080/",
          "height": 237
        },
        "outputId": "dd2414a7-4acf-488f-b9e3-20e5359291c1"
      },
      "execution_count": null,
      "outputs": [
        {
          "output_type": "execute_result",
          "data": {
            "text/plain": [
              "\"It might seem crazy what I am 'bout to say\\nSunshine she's here, you can take a break\\nI'm a hot air balloon that could go to space\\nWith the air, like I don't care, baby by the way\\nHuh (Because I'm happy)\\nClap along if you feel like a room without a roof\\n(Because I'm happy)\\nClap along if you feel like happiness is the truth\\n(Because I'm happy)\\nClap along if you know what happiness is to you\\n(Because I'm happy)\\nClap along if you feel like that's what you wanna do\\nHere come bad news talking this and that (Yeah)\\nWell give me all you got, don't hold back (Yeah)\\nWell I should probably warn you I'll be just fine (Yeah)\\nNo offence to you don't waste your time\\nHere's why\\nClap along if you feel like a room without a roof\\n(Because I'm happy)\\nClap along if you feel like happiness is the truth\\n(Because I'm happy)\\nClap along if you know what happiness is to you\\n(Because I'm happy)\\nClap along if you feel like that's what you wanna do\\nUh, bring me down\\nCan't nothing, bring me down\\nMy level's too high to bring me down\\nCan't nothing, bring me down, I said\\nBring me down, can't nothing\\nBring me down\\nMy level's too high to bring me down\\nCan't nothing, bring me down, I said\\nClap along if you feel like a room without a roof\\n(Because I'm happy)\\nClap along if you feel like happiness is the truth\\n(Because I'm happy)\\nClap along if you know what happiness is to you\\n(Because I'm happy)\\nClap along if you feel like that's what you wanna do\\nClap along if you feel like a room without a roof\\n(Because I'm happy)\\nClap along if you feel like happiness is the truth\\n(Because I'm happy)\\nClap along if you know what happiness is to you\\n(Because I'm happy)\\nClap along if you feel like that's what you wanna do\\nUh, bring me down (Happy, happy, happy, happy)\\nCan't nothing (Happy, happy, happy, happy)\\nBring me down, my level's too high\\nTo bring me down (Happy, happy, happy, happy)\\nCan't nothing (Happy, happy, happy, happy)\\nBring me down, I said\\nClap along if you feel like a room without a roof\\n(Because I'm happy)\\nClap along if you feel like happiness is the truth\\n(Because I'm happy)\\nClap along if you know what happiness is to you (ayy, ayy, ayy)\\n(Because I'm happy)\\nClap along if you feel like that's what you wanna do\\nClap along if you feel like a room without a roof\\n(Because I'm happy)\\nClap along if you feel like happiness is the truth\\n(Because I'm happy)\\nClap along if you know what happiness is to you (hey)\\n(Because I'm happy)\\nClap along if you feel like that's what you wanna do\\nCome on\""
            ],
            "application/vnd.google.colaboratory.intrinsic+json": {
              "type": "string"
            }
          },
          "metadata": {},
          "execution_count": 381
        }
      ]
    },
    {
      "cell_type": "code",
      "source": [
        "happy = string.split()"
      ],
      "metadata": {
        "id": "w2kFRNa3Zs0p"
      },
      "execution_count": null,
      "outputs": []
    },
    {
      "cell_type": "code",
      "source": [
        "# ' 가 있는 애들을 찾아서 생략되기 전의 온전한 단어로 바꿔야 할 것이고\n",
        "# '가 들어있는 단어들을 화면에 출력해보세요\n",
        "\n",
        "# 'bout, 'm, 's, 'll, 't\n",
        "for happ in happy:\n",
        "    if \"'\" in happ:\n",
        "        print(happ)"
      ],
      "metadata": {
        "id": "rom8_xHnF4jF",
        "colab": {
          "base_uri": "https://localhost:8080/"
        },
        "outputId": "65a74518-6b15-42ca-869e-3dba7e8c2c6b"
      },
      "execution_count": null,
      "outputs": [
        {
          "output_type": "stream",
          "name": "stdout",
          "text": [
            "'bout\n",
            "she's\n",
            "I'm\n",
            "don't\n",
            "I'm\n",
            "I'm\n",
            "I'm\n",
            "I'm\n",
            "that's\n",
            "don't\n",
            "I'll\n",
            "don't\n",
            "Here's\n",
            "I'm\n",
            "I'm\n",
            "I'm\n",
            "that's\n",
            "Can't\n",
            "level's\n",
            "Can't\n",
            "can't\n",
            "level's\n",
            "Can't\n",
            "I'm\n",
            "I'm\n",
            "I'm\n",
            "that's\n",
            "I'm\n",
            "I'm\n",
            "I'm\n",
            "that's\n",
            "Can't\n",
            "level's\n",
            "Can't\n",
            "I'm\n",
            "I'm\n",
            "I'm\n",
            "that's\n",
            "I'm\n",
            "I'm\n",
            "I'm\n",
            "that's\n"
          ]
        }
      ]
    },
    {
      "cell_type": "code",
      "source": [
        "# 함수가 여러개 실행됩니다\n",
        "# chaining 기법\n",
        "# 왼쪽 1번 함수의 결과를 2번 함수가 받아서 처리\n",
        "# 2번 함수가 받아서 3번 함수가 처리.....\n",
        "# 너무 길어지면 가독성이 좋지 않지만 2, 3개 정도는 허용합니다\n",
        "# 'bout, 'm, 's, 'll, 't\n",
        "string1 = string.replace(\"\\n\", \" \").replace(\"'ll\", \"will\").replace(\"'t\", \" not\") \\\n",
        "        .replace(\"'bout\", \"about\").replace(\"'m\", \" am\").replace('\\'s', ' is') \\\n",
        "        .replace('(', ' ').replace(')', ' ').replace('.', ' ').replace(',', ' ')\n",
        "\n",
        "string"
      ],
      "metadata": {
        "colab": {
          "base_uri": "https://localhost:8080/",
          "height": 237
        },
        "id": "-sUvgM6Jdpm2",
        "outputId": "821f54e8-5dcb-49c7-9aa8-133a1b552e54"
      },
      "execution_count": null,
      "outputs": [
        {
          "output_type": "execute_result",
          "data": {
            "text/plain": [
              "\"It might seem crazy what I am 'bout to say\\nSunshine she's here, you can take a break\\nI'm a hot air balloon that could go to space\\nWith the air, like I don't care, baby by the way\\nHuh (Because I'm happy)\\nClap along if you feel like a room without a roof\\n(Because I'm happy)\\nClap along if you feel like happiness is the truth\\n(Because I'm happy)\\nClap along if you know what happiness is to you\\n(Because I'm happy)\\nClap along if you feel like that's what you wanna do\\nHere come bad news talking this and that (Yeah)\\nWell give me all you got, don't hold back (Yeah)\\nWell I should probably warn you I'll be just fine (Yeah)\\nNo offence to you don't waste your time\\nHere's why\\nClap along if you feel like a room without a roof\\n(Because I'm happy)\\nClap along if you feel like happiness is the truth\\n(Because I'm happy)\\nClap along if you know what happiness is to you\\n(Because I'm happy)\\nClap along if you feel like that's what you wanna do\\nUh, bring me down\\nCan't nothing, bring me down\\nMy level's too high to bring me down\\nCan't nothing, bring me down, I said\\nBring me down, can't nothing\\nBring me down\\nMy level's too high to bring me down\\nCan't nothing, bring me down, I said\\nClap along if you feel like a room without a roof\\n(Because I'm happy)\\nClap along if you feel like happiness is the truth\\n(Because I'm happy)\\nClap along if you know what happiness is to you\\n(Because I'm happy)\\nClap along if you feel like that's what you wanna do\\nClap along if you feel like a room without a roof\\n(Because I'm happy)\\nClap along if you feel like happiness is the truth\\n(Because I'm happy)\\nClap along if you know what happiness is to you\\n(Because I'm happy)\\nClap along if you feel like that's what you wanna do\\nUh, bring me down (Happy, happy, happy, happy)\\nCan't nothing (Happy, happy, happy, happy)\\nBring me down, my level's too high\\nTo bring me down (Happy, happy, happy, happy)\\nCan't nothing (Happy, happy, happy, happy)\\nBring me down, I said\\nClap along if you feel like a room without a roof\\n(Because I'm happy)\\nClap along if you feel like happiness is the truth\\n(Because I'm happy)\\nClap along if you know what happiness is to you (ayy, ayy, ayy)\\n(Because I'm happy)\\nClap along if you feel like that's what you wanna do\\nClap along if you feel like a room without a roof\\n(Because I'm happy)\\nClap along if you feel like happiness is the truth\\n(Because I'm happy)\\nClap along if you know what happiness is to you (hey)\\n(Because I'm happy)\\nClap along if you feel like that's what you wanna do\\nCome on\""
            ],
            "application/vnd.google.colaboratory.intrinsic+json": {
              "type": "string"
            }
          },
          "metadata": {},
          "execution_count": 281
        }
      ]
    },
    {
      "cell_type": "code",
      "source": [
        "string1"
      ],
      "metadata": {
        "colab": {
          "base_uri": "https://localhost:8080/",
          "height": 237
        },
        "id": "T6KuS0uMdwR0",
        "outputId": "023d762c-41f8-475f-b88d-0090d5661335"
      },
      "execution_count": null,
      "outputs": [
        {
          "output_type": "execute_result",
          "data": {
            "text/plain": [
              "'It might seem crazy what I am about to say Sunshine she is here  you can take a break I am a hot air balloon that could go to space With the air  like I don not care  baby by the way Huh  Because I am happy  Clap along if you feel like a room without a roof  Because I am happy  Clap along if you feel like happiness is the truth  Because I am happy  Clap along if you know what happiness is to you  Because I am happy  Clap along if you feel like that is what you wanna do Here come bad news talking this and that  Yeah  Well give me all you got  don not hold back  Yeah  Well I should probably warn you Iwill be just fine  Yeah  No offence to you don not waste your time Here is why Clap along if you feel like a room without a roof  Because I am happy  Clap along if you feel like happiness is the truth  Because I am happy  Clap along if you know what happiness is to you  Because I am happy  Clap along if you feel like that is what you wanna do Uh  bring me down Can not nothing  bring me down My level is too high to bring me down Can not nothing  bring me down  I said Bring me down  can not nothing Bring me down My level is too high to bring me down Can not nothing  bring me down  I said Clap along if you feel like a room without a roof  Because I am happy  Clap along if you feel like happiness is the truth  Because I am happy  Clap along if you know what happiness is to you  Because I am happy  Clap along if you feel like that is what you wanna do Clap along if you feel like a room without a roof  Because I am happy  Clap along if you feel like happiness is the truth  Because I am happy  Clap along if you know what happiness is to you  Because I am happy  Clap along if you feel like that is what you wanna do Uh  bring me down  Happy  happy  happy  happy  Can not nothing  Happy  happy  happy  happy  Bring me down  my level is too high To bring me down  Happy  happy  happy  happy  Can not nothing  Happy  happy  happy  happy  Bring me down  I said Clap along if you feel like a room without a roof  Because I am happy  Clap along if you feel like happiness is the truth  Because I am happy  Clap along if you know what happiness is to you  ayy  ayy  ayy   Because I am happy  Clap along if you feel like that is what you wanna do Clap along if you feel like a room without a roof  Because I am happy  Clap along if you feel like happiness is the truth  Because I am happy  Clap along if you know what happiness is to you  hey   Because I am happy  Clap along if you feel like that is what you wanna do Come on'"
            ],
            "application/vnd.google.colaboratory.intrinsic+json": {
              "type": "string"
            }
          },
          "metadata": {},
          "execution_count": 282
        }
      ]
    },
    {
      "cell_type": "code",
      "source": [
        "# ( ) . 이런 종류의 문장부호도 고민해야 할 겁니다"
      ],
      "metadata": {
        "id": "nM5bNVS-GitM"
      },
      "execution_count": null,
      "outputs": []
    },
    {
      "cell_type": "markdown",
      "source": [
        "#### 위에서 정제한 string1을 공백 단위로 분리하여 happy라는 리스트에 저장해주세요."
      ],
      "metadata": {
        "id": "t_cKgIEQ4mba"
      }
    },
    {
      "cell_type": "code",
      "source": [
        "happy = string1.split()"
      ],
      "metadata": {
        "id": "0H8gDhiqdSdD"
      },
      "execution_count": null,
      "outputs": []
    },
    {
      "cell_type": "markdown",
      "source": [
        "## happy 리스트에 저장된 전체 가사를 join을 이용해서 string1이라는 문자열 변수로 저장 후 출력해주세요. 구분자는 space"
      ],
      "metadata": {
        "id": "n2zBc9xDOL2u"
      }
    },
    {
      "cell_type": "code",
      "source": [
        "string1 = ' '.join(happy)\n",
        "string1"
      ],
      "metadata": {
        "id": "NgGoUMgbOJdB",
        "colab": {
          "base_uri": "https://localhost:8080/",
          "height": 237
        },
        "outputId": "dd9547c3-955c-43ca-b7cf-6a3ec72ddae4"
      },
      "execution_count": null,
      "outputs": [
        {
          "output_type": "execute_result",
          "data": {
            "text/plain": [
              "'It might seem crazy what I am about to say Sunshine she is here you can take a break I am a hot air balloon that could go to space With the air like I don not care baby by the way Huh Because I am happy Clap along if you feel like a room without a roof Because I am happy Clap along if you feel like happiness is the truth Because I am happy Clap along if you know what happiness is to you Because I am happy Clap along if you feel like that is what you wanna do Here come bad news talking this and that Yeah Well give me all you got don not hold back Yeah Well I should probably warn you Iwill be just fine Yeah No offence to you don not waste your time Here is why Clap along if you feel like a room without a roof Because I am happy Clap along if you feel like happiness is the truth Because I am happy Clap along if you know what happiness is to you Because I am happy Clap along if you feel like that is what you wanna do Uh bring me down Can not nothing bring me down My level is too high to bring me down Can not nothing bring me down I said Bring me down can not nothing Bring me down My level is too high to bring me down Can not nothing bring me down I said Clap along if you feel like a room without a roof Because I am happy Clap along if you feel like happiness is the truth Because I am happy Clap along if you know what happiness is to you Because I am happy Clap along if you feel like that is what you wanna do Clap along if you feel like a room without a roof Because I am happy Clap along if you feel like happiness is the truth Because I am happy Clap along if you know what happiness is to you Because I am happy Clap along if you feel like that is what you wanna do Uh bring me down Happy happy happy happy Can not nothing Happy happy happy happy Bring me down my level is too high To bring me down Happy happy happy happy Can not nothing Happy happy happy happy Bring me down I said Clap along if you feel like a room without a roof Because I am happy Clap along if you feel like happiness is the truth Because I am happy Clap along if you know what happiness is to you ayy ayy ayy Because I am happy Clap along if you feel like that is what you wanna do Clap along if you feel like a room without a roof Because I am happy Clap along if you feel like happiness is the truth Because I am happy Clap along if you know what happiness is to you hey Because I am happy Clap along if you feel like that is what you wanna do Come on'"
            ],
            "application/vnd.google.colaboratory.intrinsic+json": {
              "type": "string"
            }
          },
          "metadata": {},
          "execution_count": 284
        }
      ]
    },
    {
      "cell_type": "code",
      "source": [
        "string.upper().count('HAPPY')"
      ],
      "metadata": {
        "colab": {
          "base_uri": "https://localhost:8080/"
        },
        "id": "j2cQmp4HhWe7",
        "outputId": "d2d078e7-0d38-4609-aa24-17e0cccaa8d5"
      },
      "execution_count": null,
      "outputs": [
        {
          "output_type": "execute_result",
          "data": {
            "text/plain": [
              "35"
            ]
          },
          "metadata": {},
          "execution_count": 292
        }
      ]
    },
    {
      "cell_type": "code",
      "source": [
        "string.lower().count('happy')"
      ],
      "metadata": {
        "colab": {
          "base_uri": "https://localhost:8080/"
        },
        "id": "Y9-4ksJyhOO4",
        "outputId": "4328768d-f945-44e9-ad2c-f8ee918de4f0"
      },
      "execution_count": null,
      "outputs": [
        {
          "output_type": "execute_result",
          "data": {
            "text/plain": [
              "35"
            ]
          },
          "metadata": {},
          "execution_count": 290
        }
      ]
    },
    {
      "cell_type": "code",
      "source": [
        "string1 = string.lower()\n",
        "string1.count(\"happy\")"
      ],
      "metadata": {
        "id": "zgKOS-PhHkj-"
      },
      "execution_count": null,
      "outputs": []
    },
    {
      "cell_type": "code",
      "source": [
        "# list로 하나 가지고 있고, string으로 하나 가지고 있습니다"
      ],
      "metadata": {
        "id": "DWvbqL8bH3P9"
      },
      "execution_count": null,
      "outputs": []
    },
    {
      "cell_type": "code",
      "source": [
        "# 이 노래에 happy라는 단어가 몇 개 나오는지 찾아서 알려주세요\n",
        "string.count('happy')"
      ],
      "metadata": {
        "colab": {
          "base_uri": "https://localhost:8080/"
        },
        "id": "rf2cSQKnHpD3",
        "outputId": "a8d94578-6ddb-4377-f474-a794a5a9c558"
      },
      "execution_count": null,
      "outputs": [
        {
          "output_type": "execute_result",
          "data": {
            "text/plain": [
              "31"
            ]
          },
          "metadata": {},
          "execution_count": 286
        }
      ]
    },
    {
      "cell_type": "code",
      "source": [
        "string.count('Happy')"
      ],
      "metadata": {
        "id": "KH09SUayIA-0",
        "colab": {
          "base_uri": "https://localhost:8080/"
        },
        "outputId": "15dd9350-f230-4abc-edbb-a25006627a3e"
      },
      "execution_count": null,
      "outputs": [
        {
          "output_type": "execute_result",
          "data": {
            "text/plain": [
              "4"
            ]
          },
          "metadata": {},
          "execution_count": 287
        }
      ]
    },
    {
      "cell_type": "code",
      "source": [
        "happy = string1.split()\n",
        "count = 0\n",
        "\n",
        "for i in happy:\n",
        "  if i == 'happy':\n",
        "    count += 1\n",
        "\n",
        "  if i == 'Happy':\n",
        "    count += 1\n",
        "\n",
        "print(count)"
      ],
      "metadata": {
        "id": "OhnHkTIAITi5",
        "colab": {
          "base_uri": "https://localhost:8080/"
        },
        "outputId": "8d355fa2-8af1-490b-b566-1a754aa45c23"
      },
      "execution_count": null,
      "outputs": [
        {
          "output_type": "stream",
          "name": "stdout",
          "text": [
            "35\n"
          ]
        }
      ]
    },
    {
      "cell_type": "markdown",
      "source": [
        "- 파이썬에는 collections이라는 별도의 모듈이 존재합니다.\n",
        "- 딕셔너리를 좀더 잘 활용하게 만들어주는 모듈이라고 생각하시면 됩니다."
      ],
      "metadata": {
        "id": "05C6nPKqJQt3"
      }
    },
    {
      "cell_type": "code",
      "source": [
        "from collections import Counter"
      ],
      "metadata": {
        "id": "Uiyyaja7JNaA"
      },
      "execution_count": null,
      "outputs": []
    },
    {
      "cell_type": "code",
      "source": [
        "Counter(happy).most_common(15)"
      ],
      "metadata": {
        "id": "fXHak9fAJiSE",
        "colab": {
          "base_uri": "https://localhost:8080/"
        },
        "outputId": "1655456d-1c0e-4629-d5c3-eff771ee28bb"
      },
      "execution_count": null,
      "outputs": [
        {
          "output_type": "execute_result",
          "data": {
            "text/plain": [
              "[('you', 40),\n",
              " ('happy', 31),\n",
              " ('I', 26),\n",
              " ('Clap', 24),\n",
              " ('along', 24),\n",
              " ('if', 24),\n",
              " ('is', 23),\n",
              " ('am', 21),\n",
              " ('like', 19),\n",
              " ('Because', 19),\n",
              " ('feel', 18),\n",
              " ('a', 14),\n",
              " ('what', 13),\n",
              " ('me', 13),\n",
              " ('happiness', 12)]"
            ]
          },
          "metadata": {},
          "execution_count": 299
        }
      ]
    },
    {
      "cell_type": "code",
      "source": [
        "string1.lower().split()"
      ],
      "metadata": {
        "colab": {
          "base_uri": "https://localhost:8080/"
        },
        "id": "d_Belr5ijJrR",
        "outputId": "6111d020-8b7f-4fd5-d5f2-096d3c1752a2"
      },
      "execution_count": null,
      "outputs": [
        {
          "output_type": "execute_result",
          "data": {
            "text/plain": [
              "['it',\n",
              " 'might',\n",
              " 'seem',\n",
              " 'crazy',\n",
              " 'what',\n",
              " 'i',\n",
              " 'am',\n",
              " 'about',\n",
              " 'to',\n",
              " 'say',\n",
              " 'sunshine',\n",
              " 'she',\n",
              " 'is',\n",
              " 'here',\n",
              " 'you',\n",
              " 'can',\n",
              " 'take',\n",
              " 'a',\n",
              " 'break',\n",
              " 'i',\n",
              " 'am',\n",
              " 'a',\n",
              " 'hot',\n",
              " 'air',\n",
              " 'balloon',\n",
              " 'that',\n",
              " 'could',\n",
              " 'go',\n",
              " 'to',\n",
              " 'space',\n",
              " 'with',\n",
              " 'the',\n",
              " 'air',\n",
              " 'like',\n",
              " 'i',\n",
              " 'don',\n",
              " 'not',\n",
              " 'care',\n",
              " 'baby',\n",
              " 'by',\n",
              " 'the',\n",
              " 'way',\n",
              " 'huh',\n",
              " 'because',\n",
              " 'i',\n",
              " 'am',\n",
              " 'happy',\n",
              " 'clap',\n",
              " 'along',\n",
              " 'if',\n",
              " 'you',\n",
              " 'feel',\n",
              " 'like',\n",
              " 'a',\n",
              " 'room',\n",
              " 'without',\n",
              " 'a',\n",
              " 'roof',\n",
              " 'because',\n",
              " 'i',\n",
              " 'am',\n",
              " 'happy',\n",
              " 'clap',\n",
              " 'along',\n",
              " 'if',\n",
              " 'you',\n",
              " 'feel',\n",
              " 'like',\n",
              " 'happiness',\n",
              " 'is',\n",
              " 'the',\n",
              " 'truth',\n",
              " 'because',\n",
              " 'i',\n",
              " 'am',\n",
              " 'happy',\n",
              " 'clap',\n",
              " 'along',\n",
              " 'if',\n",
              " 'you',\n",
              " 'know',\n",
              " 'what',\n",
              " 'happiness',\n",
              " 'is',\n",
              " 'to',\n",
              " 'you',\n",
              " 'because',\n",
              " 'i',\n",
              " 'am',\n",
              " 'happy',\n",
              " 'clap',\n",
              " 'along',\n",
              " 'if',\n",
              " 'you',\n",
              " 'feel',\n",
              " 'like',\n",
              " 'that',\n",
              " 'is',\n",
              " 'what',\n",
              " 'you',\n",
              " 'wanna',\n",
              " 'do',\n",
              " 'here',\n",
              " 'come',\n",
              " 'bad',\n",
              " 'news',\n",
              " 'talking',\n",
              " 'this',\n",
              " 'and',\n",
              " 'that',\n",
              " 'yeah',\n",
              " 'well',\n",
              " 'give',\n",
              " 'me',\n",
              " 'all',\n",
              " 'you',\n",
              " 'got',\n",
              " 'don',\n",
              " 'not',\n",
              " 'hold',\n",
              " 'back',\n",
              " 'yeah',\n",
              " 'well',\n",
              " 'i',\n",
              " 'should',\n",
              " 'probably',\n",
              " 'warn',\n",
              " 'you',\n",
              " 'iwill',\n",
              " 'be',\n",
              " 'just',\n",
              " 'fine',\n",
              " 'yeah',\n",
              " 'no',\n",
              " 'offence',\n",
              " 'to',\n",
              " 'you',\n",
              " 'don',\n",
              " 'not',\n",
              " 'waste',\n",
              " 'your',\n",
              " 'time',\n",
              " 'here',\n",
              " 'is',\n",
              " 'why',\n",
              " 'clap',\n",
              " 'along',\n",
              " 'if',\n",
              " 'you',\n",
              " 'feel',\n",
              " 'like',\n",
              " 'a',\n",
              " 'room',\n",
              " 'without',\n",
              " 'a',\n",
              " 'roof',\n",
              " 'because',\n",
              " 'i',\n",
              " 'am',\n",
              " 'happy',\n",
              " 'clap',\n",
              " 'along',\n",
              " 'if',\n",
              " 'you',\n",
              " 'feel',\n",
              " 'like',\n",
              " 'happiness',\n",
              " 'is',\n",
              " 'the',\n",
              " 'truth',\n",
              " 'because',\n",
              " 'i',\n",
              " 'am',\n",
              " 'happy',\n",
              " 'clap',\n",
              " 'along',\n",
              " 'if',\n",
              " 'you',\n",
              " 'know',\n",
              " 'what',\n",
              " 'happiness',\n",
              " 'is',\n",
              " 'to',\n",
              " 'you',\n",
              " 'because',\n",
              " 'i',\n",
              " 'am',\n",
              " 'happy',\n",
              " 'clap',\n",
              " 'along',\n",
              " 'if',\n",
              " 'you',\n",
              " 'feel',\n",
              " 'like',\n",
              " 'that',\n",
              " 'is',\n",
              " 'what',\n",
              " 'you',\n",
              " 'wanna',\n",
              " 'do',\n",
              " 'uh',\n",
              " 'bring',\n",
              " 'me',\n",
              " 'down',\n",
              " 'can',\n",
              " 'not',\n",
              " 'nothing',\n",
              " 'bring',\n",
              " 'me',\n",
              " 'down',\n",
              " 'my',\n",
              " 'level',\n",
              " 'is',\n",
              " 'too',\n",
              " 'high',\n",
              " 'to',\n",
              " 'bring',\n",
              " 'me',\n",
              " 'down',\n",
              " 'can',\n",
              " 'not',\n",
              " 'nothing',\n",
              " 'bring',\n",
              " 'me',\n",
              " 'down',\n",
              " 'i',\n",
              " 'said',\n",
              " 'bring',\n",
              " 'me',\n",
              " 'down',\n",
              " 'can',\n",
              " 'not',\n",
              " 'nothing',\n",
              " 'bring',\n",
              " 'me',\n",
              " 'down',\n",
              " 'my',\n",
              " 'level',\n",
              " 'is',\n",
              " 'too',\n",
              " 'high',\n",
              " 'to',\n",
              " 'bring',\n",
              " 'me',\n",
              " 'down',\n",
              " 'can',\n",
              " 'not',\n",
              " 'nothing',\n",
              " 'bring',\n",
              " 'me',\n",
              " 'down',\n",
              " 'i',\n",
              " 'said',\n",
              " 'clap',\n",
              " 'along',\n",
              " 'if',\n",
              " 'you',\n",
              " 'feel',\n",
              " 'like',\n",
              " 'a',\n",
              " 'room',\n",
              " 'without',\n",
              " 'a',\n",
              " 'roof',\n",
              " 'because',\n",
              " 'i',\n",
              " 'am',\n",
              " 'happy',\n",
              " 'clap',\n",
              " 'along',\n",
              " 'if',\n",
              " 'you',\n",
              " 'feel',\n",
              " 'like',\n",
              " 'happiness',\n",
              " 'is',\n",
              " 'the',\n",
              " 'truth',\n",
              " 'because',\n",
              " 'i',\n",
              " 'am',\n",
              " 'happy',\n",
              " 'clap',\n",
              " 'along',\n",
              " 'if',\n",
              " 'you',\n",
              " 'know',\n",
              " 'what',\n",
              " 'happiness',\n",
              " 'is',\n",
              " 'to',\n",
              " 'you',\n",
              " 'because',\n",
              " 'i',\n",
              " 'am',\n",
              " 'happy',\n",
              " 'clap',\n",
              " 'along',\n",
              " 'if',\n",
              " 'you',\n",
              " 'feel',\n",
              " 'like',\n",
              " 'that',\n",
              " 'is',\n",
              " 'what',\n",
              " 'you',\n",
              " 'wanna',\n",
              " 'do',\n",
              " 'clap',\n",
              " 'along',\n",
              " 'if',\n",
              " 'you',\n",
              " 'feel',\n",
              " 'like',\n",
              " 'a',\n",
              " 'room',\n",
              " 'without',\n",
              " 'a',\n",
              " 'roof',\n",
              " 'because',\n",
              " 'i',\n",
              " 'am',\n",
              " 'happy',\n",
              " 'clap',\n",
              " 'along',\n",
              " 'if',\n",
              " 'you',\n",
              " 'feel',\n",
              " 'like',\n",
              " 'happiness',\n",
              " 'is',\n",
              " 'the',\n",
              " 'truth',\n",
              " 'because',\n",
              " 'i',\n",
              " 'am',\n",
              " 'happy',\n",
              " 'clap',\n",
              " 'along',\n",
              " 'if',\n",
              " 'you',\n",
              " 'know',\n",
              " 'what',\n",
              " 'happiness',\n",
              " 'is',\n",
              " 'to',\n",
              " 'you',\n",
              " 'because',\n",
              " 'i',\n",
              " 'am',\n",
              " 'happy',\n",
              " 'clap',\n",
              " 'along',\n",
              " 'if',\n",
              " 'you',\n",
              " 'feel',\n",
              " 'like',\n",
              " 'that',\n",
              " 'is',\n",
              " 'what',\n",
              " 'you',\n",
              " 'wanna',\n",
              " 'do',\n",
              " 'uh',\n",
              " 'bring',\n",
              " 'me',\n",
              " 'down',\n",
              " 'happy',\n",
              " 'happy',\n",
              " 'happy',\n",
              " 'happy',\n",
              " 'can',\n",
              " 'not',\n",
              " 'nothing',\n",
              " 'happy',\n",
              " 'happy',\n",
              " 'happy',\n",
              " 'happy',\n",
              " 'bring',\n",
              " 'me',\n",
              " 'down',\n",
              " 'my',\n",
              " 'level',\n",
              " 'is',\n",
              " 'too',\n",
              " 'high',\n",
              " 'to',\n",
              " 'bring',\n",
              " 'me',\n",
              " 'down',\n",
              " 'happy',\n",
              " 'happy',\n",
              " 'happy',\n",
              " 'happy',\n",
              " 'can',\n",
              " 'not',\n",
              " 'nothing',\n",
              " 'happy',\n",
              " 'happy',\n",
              " 'happy',\n",
              " 'happy',\n",
              " 'bring',\n",
              " 'me',\n",
              " 'down',\n",
              " 'i',\n",
              " 'said',\n",
              " 'clap',\n",
              " 'along',\n",
              " 'if',\n",
              " 'you',\n",
              " 'feel',\n",
              " 'like',\n",
              " 'a',\n",
              " 'room',\n",
              " 'without',\n",
              " 'a',\n",
              " 'roof',\n",
              " 'because',\n",
              " 'i',\n",
              " 'am',\n",
              " 'happy',\n",
              " 'clap',\n",
              " 'along',\n",
              " 'if',\n",
              " 'you',\n",
              " 'feel',\n",
              " 'like',\n",
              " 'happiness',\n",
              " 'is',\n",
              " 'the',\n",
              " 'truth',\n",
              " 'because',\n",
              " 'i',\n",
              " 'am',\n",
              " 'happy',\n",
              " 'clap',\n",
              " 'along',\n",
              " 'if',\n",
              " 'you',\n",
              " 'know',\n",
              " 'what',\n",
              " 'happiness',\n",
              " 'is',\n",
              " 'to',\n",
              " 'you',\n",
              " 'ayy',\n",
              " 'ayy',\n",
              " 'ayy',\n",
              " 'because',\n",
              " 'i',\n",
              " 'am',\n",
              " 'happy',\n",
              " 'clap',\n",
              " 'along',\n",
              " 'if',\n",
              " 'you',\n",
              " 'feel',\n",
              " 'like',\n",
              " 'that',\n",
              " 'is',\n",
              " 'what',\n",
              " 'you',\n",
              " 'wanna',\n",
              " 'do',\n",
              " 'clap',\n",
              " 'along',\n",
              " 'if',\n",
              " 'you',\n",
              " 'feel',\n",
              " 'like',\n",
              " 'a',\n",
              " 'room',\n",
              " 'without',\n",
              " 'a',\n",
              " 'roof',\n",
              " 'because',\n",
              " 'i',\n",
              " 'am',\n",
              " 'happy',\n",
              " 'clap',\n",
              " 'along',\n",
              " 'if',\n",
              " 'you',\n",
              " 'feel',\n",
              " 'like',\n",
              " 'happiness',\n",
              " 'is',\n",
              " 'the',\n",
              " 'truth',\n",
              " 'because',\n",
              " 'i',\n",
              " 'am',\n",
              " 'happy',\n",
              " 'clap',\n",
              " 'along',\n",
              " 'if',\n",
              " 'you',\n",
              " 'know',\n",
              " 'what',\n",
              " 'happiness',\n",
              " 'is',\n",
              " 'to',\n",
              " 'you',\n",
              " 'hey',\n",
              " 'because',\n",
              " 'i',\n",
              " 'am',\n",
              " 'happy',\n",
              " 'clap',\n",
              " 'along',\n",
              " 'if',\n",
              " 'you',\n",
              " 'feel',\n",
              " 'like',\n",
              " 'that',\n",
              " 'is',\n",
              " 'what',\n",
              " 'you',\n",
              " 'wanna',\n",
              " 'do',\n",
              " 'come',\n",
              " 'on']"
            ]
          },
          "metadata": {},
          "execution_count": 303
        }
      ]
    },
    {
      "cell_type": "code",
      "source": [
        "Counter(string1.lower().split()).most_common()"
      ],
      "metadata": {
        "id": "0F-SBbo9J6g6",
        "colab": {
          "base_uri": "https://localhost:8080/"
        },
        "outputId": "e60577e5-d1c4-4134-c7c8-ec9d6bd493c9"
      },
      "execution_count": null,
      "outputs": [
        {
          "output_type": "execute_result",
          "data": {
            "text/plain": [
              "[('you', 40),\n",
              " ('happy', 35),\n",
              " ('i', 26),\n",
              " ('clap', 24),\n",
              " ('along', 24),\n",
              " ('if', 24),\n",
              " ('is', 23),\n",
              " ('am', 21),\n",
              " ('like', 19),\n",
              " ('because', 19),\n",
              " ('feel', 18),\n",
              " ('a', 14),\n",
              " ('what', 13),\n",
              " ('me', 13),\n",
              " ('to', 12),\n",
              " ('happiness', 12),\n",
              " ('bring', 12),\n",
              " ('down', 12),\n",
              " ('not', 9),\n",
              " ('that', 8),\n",
              " ('the', 8),\n",
              " ('can', 7),\n",
              " ('room', 6),\n",
              " ('without', 6),\n",
              " ('roof', 6),\n",
              " ('truth', 6),\n",
              " ('know', 6),\n",
              " ('wanna', 6),\n",
              " ('do', 6),\n",
              " ('nothing', 6),\n",
              " ('here', 3),\n",
              " ('don', 3),\n",
              " ('yeah', 3),\n",
              " ('my', 3),\n",
              " ('level', 3),\n",
              " ('too', 3),\n",
              " ('high', 3),\n",
              " ('said', 3),\n",
              " ('ayy', 3),\n",
              " ('air', 2),\n",
              " ('come', 2),\n",
              " ('well', 2),\n",
              " ('uh', 2),\n",
              " ('it', 1),\n",
              " ('might', 1),\n",
              " ('seem', 1),\n",
              " ('crazy', 1),\n",
              " ('about', 1),\n",
              " ('say', 1),\n",
              " ('sunshine', 1),\n",
              " ('she', 1),\n",
              " ('take', 1),\n",
              " ('break', 1),\n",
              " ('hot', 1),\n",
              " ('balloon', 1),\n",
              " ('could', 1),\n",
              " ('go', 1),\n",
              " ('space', 1),\n",
              " ('with', 1),\n",
              " ('care', 1),\n",
              " ('baby', 1),\n",
              " ('by', 1),\n",
              " ('way', 1),\n",
              " ('huh', 1),\n",
              " ('bad', 1),\n",
              " ('news', 1),\n",
              " ('talking', 1),\n",
              " ('this', 1),\n",
              " ('and', 1),\n",
              " ('give', 1),\n",
              " ('all', 1),\n",
              " ('got', 1),\n",
              " ('hold', 1),\n",
              " ('back', 1),\n",
              " ('should', 1),\n",
              " ('probably', 1),\n",
              " ('warn', 1),\n",
              " ('iwill', 1),\n",
              " ('be', 1),\n",
              " ('just', 1),\n",
              " ('fine', 1),\n",
              " ('no', 1),\n",
              " ('offence', 1),\n",
              " ('waste', 1),\n",
              " ('your', 1),\n",
              " ('time', 1),\n",
              " ('why', 1),\n",
              " ('hey', 1),\n",
              " ('on', 1)]"
            ]
          },
          "metadata": {},
          "execution_count": 304
        }
      ]
    },
    {
      "cell_type": "code",
      "source": [],
      "metadata": {
        "id": "NFSHUstnJp0-"
      },
      "execution_count": null,
      "outputs": []
    },
    {
      "cell_type": "markdown",
      "source": [
        "우리가 지금 사용하는 문자열 관련 함수들은 문자열이 iterable 객체라는 것을 활용하고 있는 겁니다."
      ],
      "metadata": {
        "id": "fAKKROkqQDWx"
      }
    },
    {
      "cell_type": "code",
      "source": [
        "str1 = 'IT AI AI Engineering Engineer deer'"
      ],
      "metadata": {
        "id": "tHGVxUacL667"
      },
      "execution_count": null,
      "outputs": []
    },
    {
      "cell_type": "code",
      "source": [
        "str1[::-1]"
      ],
      "metadata": {
        "id": "tzrAhr1GLXNN",
        "colab": {
          "base_uri": "https://localhost:8080/",
          "height": 35
        },
        "outputId": "994f863c-bb8b-4e8a-dc70-3b1e6e5b6c3e"
      },
      "execution_count": null,
      "outputs": [
        {
          "output_type": "execute_result",
          "data": {
            "text/plain": [
              "'reed reenignE gnireenignE IA IA TI'"
            ],
            "application/vnd.google.colaboratory.intrinsic+json": {
              "type": "string"
            }
          },
          "metadata": {},
          "execution_count": 306
        }
      ]
    },
    {
      "cell_type": "code",
      "source": [
        "str1[::-1].replace(' ', '') # 거꾸로 출력하되 공백없이 출력해보세요"
      ],
      "metadata": {
        "id": "x6X2y7FrKAsW",
        "colab": {
          "base_uri": "https://localhost:8080/",
          "height": 35
        },
        "outputId": "9ad8e0c2-d959-4f0d-9ef2-db0989961e0e"
      },
      "execution_count": null,
      "outputs": [
        {
          "output_type": "execute_result",
          "data": {
            "text/plain": [
              "'reedreenignEgnireenignEIAIATI'"
            ],
            "application/vnd.google.colaboratory.intrinsic+json": {
              "type": "string"
            }
          },
          "metadata": {},
          "execution_count": 307
        }
      ]
    },
    {
      "cell_type": "markdown",
      "source": [
        "# find\n",
        "\n",
        "```\n",
        "str.find('찾을 문자', 시작인덱스, 끝인덱스)\n",
        "```\n",
        "- 문자열에 포함된 첫번째 요소의 index 값 반환\n",
        "- 찾고자 하는 특정 문자열이 여러 개인 경우에는 최초 발견한 원소의 시작위치만 알려준다. (여러개 찾을 때는 re 모듈의 finditer 활용)"
      ],
      "metadata": {
        "id": "e_dM-XkBSWfk"
      }
    },
    {
      "cell_type": "code",
      "source": [
        "str1"
      ],
      "metadata": {
        "colab": {
          "base_uri": "https://localhost:8080/",
          "height": 35
        },
        "id": "JqbH-iGCmZVC",
        "outputId": "496c864a-aab0-4496-f93c-848b10cdee55"
      },
      "execution_count": null,
      "outputs": [
        {
          "output_type": "execute_result",
          "data": {
            "text/plain": [
              "'IT AI AI Engineering Engineer deer'"
            ],
            "application/vnd.google.colaboratory.intrinsic+json": {
              "type": "string"
            }
          },
          "metadata": {},
          "execution_count": 309
        }
      ]
    },
    {
      "cell_type": "code",
      "source": [
        "str1.find('AI')"
      ],
      "metadata": {
        "id": "DkmYtRdNSOgB",
        "colab": {
          "base_uri": "https://localhost:8080/"
        },
        "outputId": "30e8f311-24f6-4e87-e900-92246dccdd2f"
      },
      "execution_count": null,
      "outputs": [
        {
          "output_type": "execute_result",
          "data": {
            "text/plain": [
              "3"
            ]
          },
          "metadata": {},
          "execution_count": 308
        }
      ]
    },
    {
      "cell_type": "code",
      "source": [
        "str1.find('AI', 4)"
      ],
      "metadata": {
        "id": "pC6SRuSJShZz",
        "colab": {
          "base_uri": "https://localhost:8080/"
        },
        "outputId": "19472084-2560-4cf1-e722-dca055cd5368"
      },
      "execution_count": null,
      "outputs": [
        {
          "output_type": "execute_result",
          "data": {
            "text/plain": [
              "6"
            ]
          },
          "metadata": {},
          "execution_count": 311
        }
      ]
    },
    {
      "cell_type": "code",
      "source": [
        "str1.find('Engineer', 30) # 값이 해당하는 시작인덱스, 끝인덱스 범위 내에 없으면\n",
        "# -1을 출력합니다\n",
        ""
      ],
      "metadata": {
        "id": "1CSabNM7Snyp",
        "colab": {
          "base_uri": "https://localhost:8080/"
        },
        "outputId": "a7d2f425-ce36-4500-efbe-34a13b478f63"
      },
      "execution_count": null,
      "outputs": [
        {
          "output_type": "execute_result",
          "data": {
            "text/plain": [
              "-1"
            ]
          },
          "metadata": {},
          "execution_count": 313
        }
      ]
    },
    {
      "cell_type": "markdown",
      "source": [
        "# 정규식(Regular Expression)\n",
        "```\n",
        " \"특정 조건 또는 패턴\"을 치환하는 과정을 쉽게 처리할 수 있는 방법\n",
        "```\n",
        "\n",
        "- match() : 문자열의 첫 시작부터 정규식과 매치되는지 조사한다.\n",
        "- search() :\t문자열 전체를 검색하여 정규식과 매치되는지 조사한다.\n",
        "- findall()\t: 정규식과 매치되는 모든 문자열(substring)을 리스트로 돌려준다.\n",
        "- finditer() : 정규식과 매치되는 모든 문자열(substring)을 반복 가능한 객체로 돌려준다.\n",
        "https://docs.python.org/ko/3/library/re.html?highlight=re#module-re"
      ],
      "metadata": {
        "id": "2AuGPlfZXIY4"
      }
    },
    {
      "cell_type": "markdown",
      "source": [
        "re 패키지를 사용하는 법은 2가지가 있다\n",
        "```\n",
        "p = re.complie('패턴')\n",
        "p.method(데이터)\n",
        "```"
      ],
      "metadata": {
        "id": "eT4FSJ9kuj_C"
      }
    },
    {
      "cell_type": "code",
      "source": [
        "import re\n",
        "\n",
        "p = re.compile('ha*') # range처럼 무엇을 찾을 것인지 패턴을 준비만 하고 있는 상태"
      ],
      "metadata": {
        "id": "MTAFOYCjuxY4"
      },
      "execution_count": null,
      "outputs": []
    },
    {
      "cell_type": "code",
      "source": [
        "# match() : 문자열의 첫 시작부터 정규식과 매치되는지 조사한다.\n",
        "p = re.compile('ha*')\n",
        "p.match(string)"
      ],
      "metadata": {
        "id": "jCWzht34g9I3"
      },
      "execution_count": null,
      "outputs": []
    },
    {
      "cell_type": "code",
      "source": [
        "# search() : 문자열 전체를 검색하여 정규식과 매치되는지 조사한다.\n",
        "p.search(string)"
      ],
      "metadata": {
        "id": "21TfZLishZ2P",
        "colab": {
          "base_uri": "https://localhost:8080/"
        },
        "outputId": "9e3c49e4-e4f5-4014-fc96-15f6f79af44c"
      },
      "execution_count": null,
      "outputs": [
        {
          "output_type": "execute_result",
          "data": {
            "text/plain": [
              "<re.Match object; span=(6, 7), match='h'>"
            ]
          },
          "metadata": {},
          "execution_count": 331
        }
      ]
    },
    {
      "cell_type": "code",
      "source": [
        "# findall() : 정규식과 매치되는 모든 문자열(substring)을 리스트로 돌려준다.\n",
        "p.findall(string) # 리스트로 돌려줌"
      ],
      "metadata": {
        "id": "KBRP3ET2hFNU",
        "colab": {
          "base_uri": "https://localhost:8080/"
        },
        "outputId": "f756aa09-f349-4878-bfef-8c78b12dbde6"
      },
      "execution_count": null,
      "outputs": [
        {
          "output_type": "execute_result",
          "data": {
            "text/plain": [
              "['h',\n",
              " 'ha',\n",
              " 'h',\n",
              " 'h',\n",
              " 'h',\n",
              " 'h',\n",
              " 'ha',\n",
              " 'h',\n",
              " 'h',\n",
              " 'h',\n",
              " 'h',\n",
              " 'ha',\n",
              " 'h',\n",
              " 'ha',\n",
              " 'ha',\n",
              " 'h',\n",
              " 'h',\n",
              " 'ha',\n",
              " 'ha',\n",
              " 'ha',\n",
              " 'ha',\n",
              " 'ha',\n",
              " 'ha',\n",
              " 'h',\n",
              " 'ha',\n",
              " 'h',\n",
              " 'h',\n",
              " 'h',\n",
              " 'h',\n",
              " 'h',\n",
              " 'h',\n",
              " 'h',\n",
              " 'ha',\n",
              " 'ha',\n",
              " 'h',\n",
              " 'h',\n",
              " 'ha',\n",
              " 'ha',\n",
              " 'ha',\n",
              " 'ha',\n",
              " 'ha',\n",
              " 'ha',\n",
              " 'h',\n",
              " 'h',\n",
              " 'h',\n",
              " 'h',\n",
              " 'h',\n",
              " 'h',\n",
              " 'h',\n",
              " 'h',\n",
              " 'h',\n",
              " 'h',\n",
              " 'ha',\n",
              " 'ha',\n",
              " 'h',\n",
              " 'h',\n",
              " 'ha',\n",
              " 'ha',\n",
              " 'ha',\n",
              " 'ha',\n",
              " 'ha',\n",
              " 'ha',\n",
              " 'h',\n",
              " 'ha',\n",
              " 'ha',\n",
              " 'h',\n",
              " 'h',\n",
              " 'ha',\n",
              " 'ha',\n",
              " 'ha',\n",
              " 'ha',\n",
              " 'ha',\n",
              " 'ha',\n",
              " 'h',\n",
              " 'ha',\n",
              " 'ha',\n",
              " 'ha',\n",
              " 'h',\n",
              " 'ha',\n",
              " 'ha',\n",
              " 'ha',\n",
              " 'h',\n",
              " 'h',\n",
              " 'ha',\n",
              " 'ha',\n",
              " 'ha',\n",
              " 'h',\n",
              " 'ha',\n",
              " 'ha',\n",
              " 'ha',\n",
              " 'h',\n",
              " 'ha',\n",
              " 'ha',\n",
              " 'h',\n",
              " 'h',\n",
              " 'ha',\n",
              " 'ha',\n",
              " 'ha',\n",
              " 'ha',\n",
              " 'ha',\n",
              " 'ha',\n",
              " 'h',\n",
              " 'ha',\n",
              " 'ha',\n",
              " 'h',\n",
              " 'h',\n",
              " 'ha',\n",
              " 'ha',\n",
              " 'ha',\n",
              " 'h',\n",
              " 'ha',\n",
              " 'ha',\n",
              " 'ha']"
            ]
          },
          "metadata": {},
          "execution_count": 332
        }
      ]
    },
    {
      "cell_type": "code",
      "source": [
        "# finditer() : 정규식과 매치되는 모든 문자열(substring)을 반복 가능한 객체로 돌려준다.\n",
        "p.finditer(string) # 용량을 아끼기 위해서 range처럼 findall()의 결과를 실행할 준비 중"
      ],
      "metadata": {
        "id": "M5Yt_QnYhz8s",
        "colab": {
          "base_uri": "https://localhost:8080/"
        },
        "outputId": "6279c707-3fd6-4ceb-987d-18b587237803"
      },
      "execution_count": null,
      "outputs": [
        {
          "output_type": "execute_result",
          "data": {
            "text/plain": [
              "<callable_iterator at 0x7f9e089082b0>"
            ]
          },
          "metadata": {},
          "execution_count": 333
        }
      ]
    },
    {
      "cell_type": "code",
      "source": [
        "list(p.finditer(string))"
      ],
      "metadata": {
        "id": "oQnXKa9AhsvK",
        "colab": {
          "base_uri": "https://localhost:8080/"
        },
        "outputId": "c452ce1c-d22f-4432-86de-c337275168ec"
      },
      "execution_count": null,
      "outputs": [
        {
          "output_type": "execute_result",
          "data": {
            "text/plain": [
              "[<re.Match object; span=(6, 7), match='h'>,\n",
              " <re.Match object; span=(21, 23), match='ha'>,\n",
              " <re.Match object; span=(47, 48), match='h'>,\n",
              " <re.Match object; span=(53, 54), match='h'>,\n",
              " <re.Match object; span=(58, 59), match='h'>,\n",
              " <re.Match object; span=(91, 92), match='h'>,\n",
              " <re.Match object; span=(108, 110), match='ha'>,\n",
              " <re.Match object; span=(133, 134), match='h'>,\n",
              " <re.Match object; span=(136, 137), match='h'>,\n",
              " <re.Match object; span=(172, 173), match='h'>,\n",
              " <re.Match object; span=(181, 182), match='h'>,\n",
              " <re.Match object; span=(196, 198), match='ha'>,\n",
              " <re.Match object; span=(241, 242), match='h'>,\n",
              " <re.Match object; span=(266, 268), match='ha'>,\n",
              " <re.Match object; span=(301, 303), match='ha'>,\n",
              " <re.Match object; span=(315, 316), match='h'>,\n",
              " <re.Match object; span=(322, 323), match='h'>,\n",
              " <re.Match object; span=(337, 339), match='ha'>,\n",
              " <re.Match object; span=(368, 370), match='ha'>,\n",
              " <re.Match object; span=(372, 374), match='ha'>,\n",
              " <re.Match object; span=(405, 407), match='ha'>,\n",
              " <re.Match object; span=(441, 443), match='ha'>,\n",
              " <re.Match object; span=(448, 450), match='ha'>,\n",
              " <re.Match object; span=(493, 494), match='h'>,\n",
              " <re.Match object; span=(502, 504), match='ha'>,\n",
              " <re.Match object; span=(510, 511), match='h'>,\n",
              " <re.Match object; span=(545, 546), match='h'>,\n",
              " <re.Match object; span=(559, 560), match='h'>,\n",
              " <re.Match object; span=(570, 571), match='h'>,\n",
              " <re.Match object; span=(616, 617), match='h'>,\n",
              " <re.Match object; span=(667, 668), match='h'>,\n",
              " <re.Match object; span=(708, 709), match='h'>,\n",
              " <re.Match object; span=(733, 735), match='ha'>,\n",
              " <re.Match object; span=(768, 770), match='ha'>,\n",
              " <re.Match object; span=(782, 783), match='h'>,\n",
              " <re.Match object; span=(789, 790), match='h'>,\n",
              " <re.Match object; span=(804, 806), match='ha'>,\n",
              " <re.Match object; span=(835, 837), match='ha'>,\n",
              " <re.Match object; span=(839, 841), match='ha'>,\n",
              " <re.Match object; span=(872, 874), match='ha'>,\n",
              " <re.Match object; span=(908, 910), match='ha'>,\n",
              " <re.Match object; span=(915, 917), match='ha'>,\n",
              " <re.Match object; span=(933, 934), match='h'>,\n",
              " <re.Match object; span=(959, 960), match='h'>,\n",
              " <re.Match object; span=(994, 995), match='h'>,\n",
              " <re.Match object; span=(997, 998), match='h'>,\n",
              " <re.Match object; span=(1025, 1026), match='h'>,\n",
              " <re.Match object; span=(1077, 1078), match='h'>,\n",
              " <re.Match object; span=(1111, 1112), match='h'>,\n",
              " <re.Match object; span=(1114, 1115), match='h'>,\n",
              " <re.Match object; span=(1142, 1143), match='h'>,\n",
              " <re.Match object; span=(1208, 1209), match='h'>,\n",
              " <re.Match object; span=(1233, 1235), match='ha'>,\n",
              " <re.Match object; span=(1268, 1270), match='ha'>,\n",
              " <re.Match object; span=(1282, 1283), match='h'>,\n",
              " <re.Match object; span=(1289, 1290), match='h'>,\n",
              " <re.Match object; span=(1304, 1306), match='ha'>,\n",
              " <re.Match object; span=(1335, 1337), match='ha'>,\n",
              " <re.Match object; span=(1339, 1341), match='ha'>,\n",
              " <re.Match object; span=(1372, 1374), match='ha'>,\n",
              " <re.Match object; span=(1408, 1410), match='ha'>,\n",
              " <re.Match object; span=(1415, 1417), match='ha'>,\n",
              " <re.Match object; span=(1470, 1471), match='h'>,\n",
              " <re.Match object; span=(1495, 1497), match='ha'>,\n",
              " <re.Match object; span=(1530, 1532), match='ha'>,\n",
              " <re.Match object; span=(1544, 1545), match='h'>,\n",
              " <re.Match object; span=(1551, 1552), match='h'>,\n",
              " <re.Match object; span=(1566, 1568), match='ha'>,\n",
              " <re.Match object; span=(1597, 1599), match='ha'>,\n",
              " <re.Match object; span=(1601, 1603), match='ha'>,\n",
              " <re.Match object; span=(1634, 1636), match='ha'>,\n",
              " <re.Match object; span=(1670, 1672), match='ha'>,\n",
              " <re.Match object; span=(1677, 1679), match='ha'>,\n",
              " <re.Match object; span=(1695, 1696), match='h'>,\n",
              " <re.Match object; span=(1720, 1722), match='ha'>,\n",
              " <re.Match object; span=(1727, 1729), match='ha'>,\n",
              " <re.Match object; span=(1734, 1736), match='ha'>,\n",
              " <re.Match object; span=(1750, 1751), match='h'>,\n",
              " <re.Match object; span=(1763, 1765), match='ha'>,\n",
              " <re.Match object; span=(1770, 1772), match='ha'>,\n",
              " <re.Match object; span=(1777, 1779), match='ha'>,\n",
              " <re.Match object; span=(1814, 1815), match='h'>,\n",
              " <re.Match object; span=(1817, 1818), match='h'>,\n",
              " <re.Match object; span=(1844, 1846), match='ha'>,\n",
              " <re.Match object; span=(1851, 1853), match='ha'>,\n",
              " <re.Match object; span=(1858, 1860), match='ha'>,\n",
              " <re.Match object; span=(1874, 1875), match='h'>,\n",
              " <re.Match object; span=(1887, 1889), match='ha'>,\n",
              " <re.Match object; span=(1894, 1896), match='ha'>,\n",
              " <re.Match object; span=(1901, 1903), match='ha'>,\n",
              " <re.Match object; span=(1968, 1969), match='h'>,\n",
              " <re.Match object; span=(1993, 1995), match='ha'>,\n",
              " <re.Match object; span=(2028, 2030), match='ha'>,\n",
              " <re.Match object; span=(2042, 2043), match='h'>,\n",
              " <re.Match object; span=(2049, 2050), match='h'>,\n",
              " <re.Match object; span=(2064, 2066), match='ha'>,\n",
              " <re.Match object; span=(2095, 2097), match='ha'>,\n",
              " <re.Match object; span=(2099, 2101), match='ha'>,\n",
              " <re.Match object; span=(2148, 2150), match='ha'>,\n",
              " <re.Match object; span=(2184, 2186), match='ha'>,\n",
              " <re.Match object; span=(2191, 2193), match='ha'>,\n",
              " <re.Match object; span=(2246, 2247), match='h'>,\n",
              " <re.Match object; span=(2271, 2273), match='ha'>,\n",
              " <re.Match object; span=(2306, 2308), match='ha'>,\n",
              " <re.Match object; span=(2320, 2321), match='h'>,\n",
              " <re.Match object; span=(2327, 2328), match='h'>,\n",
              " <re.Match object; span=(2342, 2344), match='ha'>,\n",
              " <re.Match object; span=(2373, 2375), match='ha'>,\n",
              " <re.Match object; span=(2377, 2379), match='ha'>,\n",
              " <re.Match object; span=(2398, 2399), match='h'>,\n",
              " <re.Match object; span=(2416, 2418), match='ha'>,\n",
              " <re.Match object; span=(2452, 2454), match='ha'>,\n",
              " <re.Match object; span=(2459, 2461), match='ha'>]"
            ]
          },
          "metadata": {},
          "execution_count": 334
        }
      ]
    },
    {
      "cell_type": "code",
      "source": [
        "len(list(p.finditer(string)))"
      ],
      "metadata": {
        "id": "H_U190slu0TC",
        "colab": {
          "base_uri": "https://localhost:8080/"
        },
        "outputId": "e194371f-072f-4057-a8f7-7b7fb9e28d9d"
      },
      "execution_count": null,
      "outputs": [
        {
          "output_type": "execute_result",
          "data": {
            "text/plain": [
              "113"
            ]
          },
          "metadata": {},
          "execution_count": 326
        }
      ]
    },
    {
      "cell_type": "code",
      "source": [],
      "metadata": {
        "id": "-cb-6s2EUklm"
      },
      "execution_count": null,
      "outputs": []
    },
    {
      "cell_type": "code",
      "source": [],
      "metadata": {
        "id": "FJ1RuvXMp5bk"
      },
      "execution_count": null,
      "outputs": []
    },
    {
      "cell_type": "markdown",
      "source": [
        "### [문자 클래스]\n",
        "\n",
        "1. [abc] - a, b, c중 한 개의 문자와 매치\n",
        "  - a : 매치여부 OK\n",
        "  - apple : ok\n",
        "  - double : no\n",
        "\n",
        "2. \\d   : 숫자와 매치, [0-9]와 동일\n",
        "\n",
        "3. \\D : 숫자가 아닌 것과 매치 [^0-9]와 동일\n",
        "\n",
        "4. \\s : whitespace 문자와 매치\n",
        "\n",
        "5. \\S : whitespace 문자가 아닌것과 매치,\n",
        "\n",
        "6. \\w : 문자 + 숫자와 매치, [a-zA-Z0-9가-힣]와 동일\n",
        "\n",
        "7.\n",
        " : 문자+숫자가 아닌 문자와 매치. [^a-zA-Z0-9가-힣]와 동일\n",
        "\n",
        "\n",
        "\n",
        "8. a.b : a와 b 사이에 줄바꿈 문자를 제외한 모든 문자 허용\n",
        "\n",
        "9. a[.]b : a와 b 사이에 dot 문자만 허용\n",
        "\n",
        "10. ca*t  : a 문자가 0번 이상 반복 허용\n",
        "\n",
        "11. ca+t :  a 문자가 1번 이상 반복 허용\n",
        "\n",
        "12. ca?t : a 문자가 없거나, 1번만 허용\n",
        "\n",
        "13. ca{3}t : a 문자가 3번 반복되면 매치\n",
        "\n",
        "14. ca{2, 3}t : a 문자가 2~3번 반복되면 매치"
      ],
      "metadata": {
        "id": "40asXt_6kUrU"
      }
    },
    {
      "cell_type": "code",
      "source": [
        "import re\n",
        "\n",
        "# 1. 컴파일\n",
        "# p = re.compile('[허용가능한문자들을넣거나]')\n",
        "# p = re.compile('\\d, \\w 등등 []넣는 문자들을 의미하는 약어를 넣거나  ')\n",
        "str1 = 'abIT aIT IT it AI AI Engineering Engineer deer 한글 010-1234-5678 😊❤ aa👌 '\n",
        "\n",
        "# 영문자인 모든것\n",
        "p = re.compile('[a-z]')\n",
        "p.findall(str1)"
      ],
      "metadata": {
        "id": "iDv93MU0k3oD"
      },
      "execution_count": null,
      "outputs": []
    },
    {
      "cell_type": "code",
      "source": [
        "p = re.compile('[a-z]')\n",
        "p.search(str1)"
      ],
      "metadata": {
        "id": "-jFqO4u9qATx",
        "colab": {
          "base_uri": "https://localhost:8080/"
        },
        "outputId": "dac2ad36-4518-4eac-ba59-72a4477e50c0"
      },
      "execution_count": null,
      "outputs": [
        {
          "output_type": "execute_result",
          "data": {
            "text/plain": [
              "<re.Match object; span=(0, 1), match='a'>"
            ]
          },
          "metadata": {},
          "execution_count": 340
        }
      ]
    },
    {
      "cell_type": "code",
      "source": [
        "p = re.compile('[a-z]')\n",
        "p.match(str1)"
      ],
      "metadata": {
        "id": "Tffh-otJnwGw",
        "colab": {
          "base_uri": "https://localhost:8080/"
        },
        "outputId": "cefc9bb1-7ff1-4385-8a5d-66490147222a"
      },
      "execution_count": null,
      "outputs": [
        {
          "output_type": "execute_result",
          "data": {
            "text/plain": [
              "<re.Match object; span=(0, 1), match='a'>"
            ]
          },
          "metadata": {},
          "execution_count": 341
        }
      ]
    },
    {
      "cell_type": "code",
      "source": [
        "p = re.compile('[a-z]')\n",
        "p.finditer(str1)"
      ],
      "metadata": {
        "id": "_GA5fNTZnqJo",
        "colab": {
          "base_uri": "https://localhost:8080/"
        },
        "outputId": "b30a42ef-3f17-4d19-ddf9-0237e2336a3f"
      },
      "execution_count": null,
      "outputs": [
        {
          "output_type": "execute_result",
          "data": {
            "text/plain": [
              "<callable_iterator at 0x7f9e3600a050>"
            ]
          },
          "metadata": {},
          "execution_count": 342
        }
      ]
    },
    {
      "cell_type": "code",
      "source": [
        "list(p.finditer(str1))"
      ],
      "metadata": {
        "id": "0je_y7iZrgfu",
        "colab": {
          "base_uri": "https://localhost:8080/"
        },
        "outputId": "fc3bf36f-2600-46ad-93fc-5d1334c41145"
      },
      "execution_count": null,
      "outputs": [
        {
          "output_type": "execute_result",
          "data": {
            "text/plain": [
              "[<re.Match object; span=(0, 1), match='a'>,\n",
              " <re.Match object; span=(1, 2), match='b'>,\n",
              " <re.Match object; span=(5, 6), match='a'>,\n",
              " <re.Match object; span=(12, 13), match='i'>,\n",
              " <re.Match object; span=(13, 14), match='t'>,\n",
              " <re.Match object; span=(22, 23), match='n'>,\n",
              " <re.Match object; span=(23, 24), match='g'>,\n",
              " <re.Match object; span=(24, 25), match='i'>,\n",
              " <re.Match object; span=(25, 26), match='n'>,\n",
              " <re.Match object; span=(26, 27), match='e'>,\n",
              " <re.Match object; span=(27, 28), match='e'>,\n",
              " <re.Match object; span=(28, 29), match='r'>,\n",
              " <re.Match object; span=(29, 30), match='i'>,\n",
              " <re.Match object; span=(30, 31), match='n'>,\n",
              " <re.Match object; span=(31, 32), match='g'>,\n",
              " <re.Match object; span=(34, 35), match='n'>,\n",
              " <re.Match object; span=(35, 36), match='g'>,\n",
              " <re.Match object; span=(36, 37), match='i'>,\n",
              " <re.Match object; span=(37, 38), match='n'>,\n",
              " <re.Match object; span=(38, 39), match='e'>,\n",
              " <re.Match object; span=(39, 40), match='e'>,\n",
              " <re.Match object; span=(40, 41), match='r'>,\n",
              " <re.Match object; span=(42, 43), match='d'>,\n",
              " <re.Match object; span=(43, 44), match='e'>,\n",
              " <re.Match object; span=(44, 45), match='e'>,\n",
              " <re.Match object; span=(45, 46), match='r'>,\n",
              " <re.Match object; span=(67, 68), match='a'>,\n",
              " <re.Match object; span=(68, 69), match='a'>]"
            ]
          },
          "metadata": {},
          "execution_count": 343
        }
      ]
    },
    {
      "cell_type": "code",
      "source": [
        "str1"
      ],
      "metadata": {
        "colab": {
          "base_uri": "https://localhost:8080/",
          "height": 35
        },
        "id": "d21-j8qdz4MW",
        "outputId": "4d693203-cbf3-4b00-8f2b-cdaf155d5c01"
      },
      "execution_count": null,
      "outputs": [
        {
          "output_type": "execute_result",
          "data": {
            "text/plain": [
              "'abIT aIT IT it AI AI Engineering Engineer deer 한글 010-1234-5678 😊❤ aa👌 '"
            ],
            "application/vnd.google.colaboratory.intrinsic+json": {
              "type": "string"
            }
          },
          "metadata": {},
          "execution_count": 345
        }
      ]
    },
    {
      "cell_type": "code",
      "source": [
        "# 영문자인 모든것 몇글자이건 상관없이\n",
        "p = re.compile('[a-z]+')\n",
        "p.findall(str1)"
      ],
      "metadata": {
        "id": "33Pnr5JnlnLA",
        "colab": {
          "base_uri": "https://localhost:8080/"
        },
        "outputId": "467712e9-b4d4-4ca5-f63d-c6c660caa281"
      },
      "execution_count": null,
      "outputs": [
        {
          "output_type": "execute_result",
          "data": {
            "text/plain": [
              "['ab', 'a', 'it', 'ngineering', 'ngineer', 'deer', 'aa']"
            ]
          },
          "metadata": {},
          "execution_count": 344
        }
      ]
    },
    {
      "cell_type": "code",
      "source": [
        "p = re.compile('[a-z]?') # 0개 또는 1개 단위\n",
        "p.findall(str1)"
      ],
      "metadata": {
        "id": "e_dBR5SvqFqs"
      },
      "execution_count": null,
      "outputs": []
    },
    {
      "cell_type": "code",
      "source": [
        "p = re.compile('[a-z]*') # 0개 또는 1개 이상의 단위\n",
        "p.findall(str1)"
      ],
      "metadata": {
        "id": "5tq8Oecj2EP-",
        "colab": {
          "base_uri": "https://localhost:8080/"
        },
        "outputId": "1107c496-9aae-483b-8f23-bb867b10a3a4"
      },
      "execution_count": null,
      "outputs": [
        {
          "output_type": "execute_result",
          "data": {
            "text/plain": [
              "['ab',\n",
              " '',\n",
              " '',\n",
              " '',\n",
              " 'a',\n",
              " '',\n",
              " '',\n",
              " '',\n",
              " '',\n",
              " '',\n",
              " '',\n",
              " 'it',\n",
              " '',\n",
              " '',\n",
              " '',\n",
              " '',\n",
              " '',\n",
              " '',\n",
              " '',\n",
              " '',\n",
              " 'ngineering',\n",
              " '',\n",
              " '',\n",
              " 'ngineer',\n",
              " '',\n",
              " 'deer',\n",
              " '',\n",
              " '',\n",
              " '',\n",
              " '',\n",
              " '',\n",
              " '',\n",
              " '',\n",
              " '',\n",
              " '',\n",
              " '',\n",
              " '',\n",
              " '',\n",
              " '',\n",
              " '',\n",
              " '',\n",
              " '',\n",
              " '',\n",
              " '',\n",
              " '',\n",
              " '',\n",
              " '',\n",
              " 'aa',\n",
              " '',\n",
              " '',\n",
              " '']"
            ]
          },
          "metadata": {},
          "execution_count": 347
        }
      ]
    },
    {
      "cell_type": "code",
      "source": [
        "# 영문자인 모든것 몇글자이건 상관없이\n",
        "p = re.compile('[^a-z]+') # [] 안의 ^ 는 not을 의미합니다\n",
        "p.findall(str1)"
      ],
      "metadata": {
        "id": "jS-fWD4cmGlb",
        "colab": {
          "base_uri": "https://localhost:8080/"
        },
        "outputId": "3c6270d1-8878-4133-d25c-f4350fd22b71"
      },
      "execution_count": null,
      "outputs": [
        {
          "output_type": "execute_result",
          "data": {
            "text/plain": [
              "['IT ', 'IT IT ', ' AI AI E', ' E', ' ', ' 한글 010-1234-5678 😊❤ ', '👌 ']"
            ]
          },
          "metadata": {},
          "execution_count": 348
        }
      ]
    },
    {
      "cell_type": "code",
      "source": [
        "str1"
      ],
      "metadata": {
        "colab": {
          "base_uri": "https://localhost:8080/",
          "height": 35
        },
        "id": "tHJ1OF1N0Ysd",
        "outputId": "dac66558-7bfb-4bbd-8623-2a4252a6c1c2"
      },
      "execution_count": null,
      "outputs": [
        {
          "output_type": "execute_result",
          "data": {
            "text/plain": [
              "'abIT aIT IT it AI AI Engineering Engineer deer 한글 010-1234-5678 😊❤ aa👌 '"
            ],
            "application/vnd.google.colaboratory.intrinsic+json": {
              "type": "string"
            }
          },
          "metadata": {},
          "execution_count": 350
        }
      ]
    },
    {
      "cell_type": "code",
      "source": [
        "p = re.compile('[a-z][a-zA-Z]+') # [] 밖의 ^ 는 '~로 시작하는' 을 의미합니다\n",
        "p.findall(str1)"
      ],
      "metadata": {
        "id": "baxiOCjQ2Ixu",
        "colab": {
          "base_uri": "https://localhost:8080/"
        },
        "outputId": "d0193743-e0f9-4f8a-ae08-d1d78f166562"
      },
      "execution_count": null,
      "outputs": [
        {
          "output_type": "execute_result",
          "data": {
            "text/plain": [
              "['abIT', 'aIT', 'it', 'ngineering', 'ngineer', 'deer', 'aa']"
            ]
          },
          "metadata": {},
          "execution_count": 352
        }
      ]
    },
    {
      "cell_type": "code",
      "source": [
        "p = re.compile('[a-zA-Z가-힣]+') # [] 밖의 ^ 는 '~로 시작하는' 을 의미합니다\n",
        "p.findall(str1)"
      ],
      "metadata": {
        "colab": {
          "base_uri": "https://localhost:8080/"
        },
        "id": "kEW2Chjz4RF2",
        "outputId": "f99d2f4e-a7ee-416b-f6e5-6e2f4f46a84a"
      },
      "execution_count": null,
      "outputs": [
        {
          "output_type": "execute_result",
          "data": {
            "text/plain": [
              "['abIT',\n",
              " 'aIT',\n",
              " 'IT',\n",
              " 'it',\n",
              " 'AI',\n",
              " 'AI',\n",
              " 'Engineering',\n",
              " 'Engineer',\n",
              " 'deer',\n",
              " '한글',\n",
              " 'aa']"
            ]
          },
          "metadata": {},
          "execution_count": 354
        }
      ]
    },
    {
      "cell_type": "code",
      "source": [
        "str1"
      ],
      "metadata": {
        "colab": {
          "base_uri": "https://localhost:8080/",
          "height": 35
        },
        "id": "ZTG-YaoK4e94",
        "outputId": "280db4c4-27d9-46b7-c0af-406705480c36"
      },
      "execution_count": null,
      "outputs": [
        {
          "output_type": "execute_result",
          "data": {
            "text/plain": [
              "'abIT aIT IT it AI AI Engineering Engineer deer 한글 010-1234-5678 😊❤ aa👌 '"
            ],
            "application/vnd.google.colaboratory.intrinsic+json": {
              "type": "string"
            }
          },
          "metadata": {},
          "execution_count": 355
        }
      ]
    },
    {
      "cell_type": "code",
      "source": [
        "# ignore case, global(전역), multiline(여러줄에서 패턴 찾기)\n",
        "p = re.compile('engineer', re.IGNORECASE) # 패턴을 넣을 때 re.~~ 라는 파라미터를 주시면\n",
        "p.findall(str1)"
      ],
      "metadata": {
        "id": "fEWQO0jVqQ0A",
        "colab": {
          "base_uri": "https://localhost:8080/"
        },
        "outputId": "8285d517-2b47-4f5f-c3ac-d96f23cafa00"
      },
      "execution_count": null,
      "outputs": [
        {
          "output_type": "execute_result",
          "data": {
            "text/plain": [
              "['Engineer', 'Engineer']"
            ]
          },
          "metadata": {},
          "execution_count": 360
        }
      ]
    },
    {
      "cell_type": "code",
      "source": [
        "string = '123456-1234567'"
      ],
      "metadata": {
        "id": "21301Y-jmcA8"
      },
      "execution_count": null,
      "outputs": []
    },
    {
      "cell_type": "code",
      "source": [
        "# 탐색 후 변경까지 하는 re.sub 함수도 있습니다\n",
        "string = input('주민번호 입력')\n",
        "\n",
        "re.sub(r'[0-9]{6}-[0-9]{7}', '[0-9]{6}-*******', string) # 최초패턴, 변경할 패턴, 변경할 변수명\n",
        "\n",
        "# p = re.compile('[0-9]{6}-[0-9]{7}')\n",
        "# p.search(string)\n"
      ],
      "metadata": {
        "id": "d-yqFoJcw9uP",
        "colab": {
          "base_uri": "https://localhost:8080/",
          "height": 54
        },
        "outputId": "5efb89e7-ee7e-4e9e-967c-179292105ffb"
      },
      "execution_count": null,
      "outputs": [
        {
          "name": "stdout",
          "output_type": "stream",
          "text": [
            "주민번호 입력123456-1234567\n"
          ]
        },
        {
          "output_type": "execute_result",
          "data": {
            "text/plain": [
              "'[0-9]{6}-*******'"
            ],
            "application/vnd.google.colaboratory.intrinsic+json": {
              "type": "string"
            }
          },
          "metadata": {},
          "execution_count": 371
        }
      ]
    },
    {
      "cell_type": "code",
      "source": [
        "re.sub(r'\\sAND\\s', ' & ', 'Baked Beans And Spam', flags=re.IGNORECASE)"
      ],
      "metadata": {
        "id": "lLcVIqSsqKOt",
        "colab": {
          "base_uri": "https://localhost:8080/",
          "height": 35
        },
        "outputId": "3b8b5ce3-3e07-44e1-d3d0-f47efbb820f7"
      },
      "execution_count": null,
      "outputs": [
        {
          "output_type": "execute_result",
          "data": {
            "text/plain": [
              "'Baked Beans & Spam'"
            ],
            "application/vnd.google.colaboratory.intrinsic+json": {
              "type": "string"
            }
          },
          "metadata": {},
          "execution_count": 370
        }
      ]
    },
    {
      "cell_type": "code",
      "source": [
        "# match() : 문자열의 첫 시작부터 정규식과 매치되는지 조사한다.\n",
        "# search() : 문자열 전체를 검색하여 정규식과 매치되는지 조사한다.\n",
        "# findall() : 정규식과 매치되는 모든 문자열(substring)을 리스트로 돌려준다.\n",
        "# finditer() : 정규식과 매치되는 모든 문자열(substring)을 반복 가능한 객체로 돌려준다\n",
        "# 찾고(앞의 4가지 검색용 함수) -> 찾은 애를 변경할 때 - sub()\n",
        "p = re.compile('[0-9]{6}-[0-9]{7}') # 패턴을 만들어준다\n",
        "\n",
        "string = input('주민번호를 입력하세요')\n",
        "# 패턴에 맞는 값인지 확인한다\n",
        "if p.match(string): # 패턴이 일치하는지 확인 후\n",
        "    print(re.sub('-\\d{7}', '-*******', string)) # 일치하는 패턴 중 일부를 원하는 형식으로 변경해 출력\n",
        "else:\n",
        "    print('입력을 잘못 하셨습니다')\n"
      ],
      "metadata": {
        "id": "RVt3IS1ctazy",
        "colab": {
          "base_uri": "https://localhost:8080/"
        },
        "outputId": "a48b9c99-095d-401d-ce85-c8867c3ca9df"
      },
      "execution_count": null,
      "outputs": [
        {
          "output_type": "stream",
          "name": "stdout",
          "text": [
            "주민번호를 입력하세요123456-1234567\n",
            "123456-*******\n"
          ]
        }
      ]
    },
    {
      "cell_type": "code",
      "source": [
        "# raw string : *, ?, ! ^, $, [], (), {}, /, \\ - 메타문자\n",
        "# 이 메타문자를 보존하기 위해 \\* 이스케이핑 문자가 탄생됨\n",
        "# str 앞에 r이 붙어있으면 이스케이핑문자를 그대로 출력하겠다\n",
        "print(r'C:\\Users\\Playdata\\Desktop\\capture')\n"
      ],
      "metadata": {
        "colab": {
          "base_uri": "https://localhost:8080/"
        },
        "id": "nHpEpkOR8hJl",
        "outputId": "c655e218-5ed2-4cd0-be01-a3be0babe1ff"
      },
      "execution_count": null,
      "outputs": [
        {
          "output_type": "stream",
          "name": "stdout",
          "text": [
            "C:\\Users\\Playdata\\Desktop\\capture\n"
          ]
        }
      ]
    },
    {
      "cell_type": "code",
      "source": [
        "re.sub(r\"!\", \" ! \", \"안녕하세요!\").split() # 특수문자를 분리하기 위한 명렁어"
      ],
      "metadata": {
        "colab": {
          "base_uri": "https://localhost:8080/"
        },
        "id": "M2r9uXav9kV9",
        "outputId": "66ebe9b5-e82f-4d09-f0fd-414996ab76ab"
      },
      "execution_count": null,
      "outputs": [
        {
          "output_type": "execute_result",
          "data": {
            "text/plain": [
              "['안녕하세요', '!']"
            ]
          },
          "metadata": {},
          "execution_count": 374
        }
      ]
    },
    {
      "cell_type": "code",
      "source": [
        "re.sub(\"!\", \" ! \", \"안녕하세요!\").split() # 특수문자를 분리하기 위한 명렁어"
      ],
      "metadata": {
        "colab": {
          "base_uri": "https://localhost:8080/"
        },
        "id": "_QRyi0aK9ox8",
        "outputId": "b1c34dd7-bb4b-45f8-b2f0-cbe6692d0462"
      },
      "execution_count": null,
      "outputs": [
        {
          "output_type": "execute_result",
          "data": {
            "text/plain": [
              "['안녕하세요', '!']"
            ]
          },
          "metadata": {},
          "execution_count": 375
        }
      ]
    },
    {
      "cell_type": "code",
      "source": [
        "print(r'안녕\\b')"
      ],
      "metadata": {
        "colab": {
          "base_uri": "https://localhost:8080/"
        },
        "id": "0Cj8-OTE9riK",
        "outputId": "dc9d4fd0-802e-4784-ee1a-c031e60388f9"
      },
      "execution_count": null,
      "outputs": [
        {
          "output_type": "stream",
          "name": "stdout",
          "text": [
            "안녕\\b\n"
          ]
        }
      ]
    },
    {
      "cell_type": "code",
      "source": [
        "print('안녕\\b')"
      ],
      "metadata": {
        "colab": {
          "base_uri": "https://localhost:8080/"
        },
        "id": "1RR1hS7q9wQf",
        "outputId": "f12e3fdf-b840-4aea-bf18-6c776caca7f4"
      },
      "execution_count": null,
      "outputs": [
        {
          "output_type": "stream",
          "name": "stdout",
          "text": [
            "안녕\b\n"
          ]
        }
      ]
    },
    {
      "cell_type": "code",
      "source": [
        "import re\n",
        "\n",
        "def clean_str(string):\n",
        "    string = re.sub(r\"[^가-힣A-Za-z0-9(),!?\\'\\`]\", \" \", string) # 이모지\n",
        "    string = re.sub(r\"\\'s\", \" \\'s\", string)\n",
        "    string = re.sub(r\"\\'ve\", \" \\'ve\", string)\n",
        "    string = re.sub(r\"n\\'t\", \" n\\'t\", string)\n",
        "    string = re.sub(r\"\\'re\", \" \\'re\", string)\n",
        "    string = re.sub(r\"\\'d\", \" \\'d\", string)\n",
        "    string = re.sub(r\"\\'ll\", \" \\'ll\", string)\n",
        "    string = re.sub(r\",\", \" , \", string)\n",
        "    string = re.sub(r\"!\", \" ! \", string)\n",
        "    string = re.sub(r\"\\(\", \" \\( \", string)\n",
        "    string = re.sub(r\"\\)\", \" \\) \", string)\n",
        "    string = re.sub(r\"\\?\", \" \\? \", string)\n",
        "    string = re.sub(r\"\\s{2,}\", \" \", string)\n",
        "    string = re.sub(r\"\\'{2,}\", \"\\'\", string)\n",
        "    string = re.sub(r\"\\'\", \"\", string)\n",
        "\n",
        "    return string.lower()"
      ],
      "metadata": {
        "id": "z_h12XWY8buR"
      },
      "execution_count": null,
      "outputs": []
    },
    {
      "cell_type": "code",
      "source": [
        "clean_str(string)"
      ],
      "metadata": {
        "colab": {
          "base_uri": "https://localhost:8080/",
          "height": 237
        },
        "id": "cetUKYZ1-VOd",
        "outputId": "dafd081c-3244-4175-ad33-1d3a7d92bd66"
      },
      "execution_count": null,
      "outputs": [
        {
          "output_type": "execute_result",
          "data": {
            "text/plain": [
              "'it might seem crazy what i am bout to say sunshine she s here , you can take a break im a hot air balloon that could go to space with the air , like i do nt care , baby by the way huh \\\\( because im happy \\\\) clap along if you feel like a room without a roof \\\\( because im happy \\\\) clap along if you feel like happiness is the truth \\\\( because im happy \\\\) clap along if you know what happiness is to you \\\\( because im happy \\\\) clap along if you feel like that s what you wanna do here come bad news talking this and that \\\\( yeah \\\\) well give me all you got , do nt hold back \\\\( yeah \\\\) well i should probably warn you i ll be just fine \\\\( yeah \\\\) no offence to you do nt waste your time here s why clap along if you feel like a room without a roof \\\\( because im happy \\\\) clap along if you feel like happiness is the truth \\\\( because im happy \\\\) clap along if you know what happiness is to you \\\\( because im happy \\\\) clap along if you feel like that s what you wanna do uh , bring me down ca nt nothing , bring me down my level s too high to bring me down ca nt nothing , bring me down , i said bring me down , ca nt nothing bring me down my level s too high to bring me down ca nt nothing , bring me down , i said clap along if you feel like a room without a roof \\\\( because im happy \\\\) clap along if you feel like happiness is the truth \\\\( because im happy \\\\) clap along if you know what happiness is to you \\\\( because im happy \\\\) clap along if you feel like that s what you wanna do clap along if you feel like a room without a roof \\\\( because im happy \\\\) clap along if you feel like happiness is the truth \\\\( because im happy \\\\) clap along if you know what happiness is to you \\\\( because im happy \\\\) clap along if you feel like that s what you wanna do uh , bring me down \\\\( happy , happy , happy , happy \\\\) ca nt nothing \\\\( happy , happy , happy , happy \\\\) bring me down , my level s too high to bring me down \\\\( happy , happy , happy , happy \\\\) ca nt nothing \\\\( happy , happy , happy , happy \\\\) bring me down , i said clap along if you feel like a room without a roof \\\\( because im happy \\\\) clap along if you feel like happiness is the truth \\\\( because im happy \\\\) clap along if you know what happiness is to you \\\\( ayy , ayy , ayy \\\\) \\\\( because im happy \\\\) clap along if you feel like that s what you wanna do clap along if you feel like a room without a roof \\\\( because im happy \\\\) clap along if you feel like happiness is the truth \\\\( because im happy \\\\) clap along if you know what happiness is to you \\\\( hey \\\\) \\\\( because im happy \\\\) clap along if you feel like that s what you wanna do come on'"
            ],
            "application/vnd.google.colaboratory.intrinsic+json": {
              "type": "string"
            }
          },
          "metadata": {},
          "execution_count": 383
        }
      ]
    },
    {
      "cell_type": "code",
      "source": [
        "string"
      ],
      "metadata": {
        "colab": {
          "base_uri": "https://localhost:8080/",
          "height": 35
        },
        "id": "M2-5_s46-HGv",
        "outputId": "b05fc310-f5c5-494b-a5df-ce3d629a1e2c"
      },
      "execution_count": null,
      "outputs": [
        {
          "output_type": "execute_result",
          "data": {
            "text/plain": [
              "'123456-1234567'"
            ],
            "application/vnd.google.colaboratory.intrinsic+json": {
              "type": "string"
            }
          },
          "metadata": {},
          "execution_count": 379
        }
      ]
    }
  ]
}