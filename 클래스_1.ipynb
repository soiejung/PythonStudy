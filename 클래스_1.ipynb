{
  "nbformat": 4,
  "nbformat_minor": 0,
  "metadata": {
    "colab": {
      "provenance": [],
      "include_colab_link": true
    },
    "kernelspec": {
      "name": "python3",
      "display_name": "Python 3"
    },
    "language_info": {
      "name": "python"
    }
  },
  "cells": [
    {
      "cell_type": "markdown",
      "metadata": {
        "id": "view-in-github",
        "colab_type": "text"
      },
      "source": [
        "<a href=\"https://colab.research.google.com/github/soiejung/PythonStudy/blob/main/%ED%81%B4%EB%9E%98%EC%8A%A4_1.ipynb\" target=\"_parent\"><img src=\"https://colab.research.google.com/assets/colab-badge.svg\" alt=\"Open In Colab\"/></a>"
      ]
    },
    {
      "cell_type": "markdown",
      "source": [
        "# 0. 함수, 함수형문법, 모듈과패키지 복습\n"
      ],
      "metadata": {
        "id": "zVCBKyyuZSDU"
      }
    },
    {
      "cell_type": "markdown",
      "source": [
        "1. 문자열 하나를 입력받아 앞에는 www, 뒤에는 .com을 붙여 인터넷 주소를 반환하는 url 함수를 정의해보세요.\n",
        "\n",
        "예)google을 입력하면 www.google.com이 나오도록"
      ],
      "metadata": {
        "id": "H7ucxVbtTfFE"
      }
    },
    {
      "cell_type": "code",
      "source": [
        "def url(string):\n",
        "    return 'www.'+string+\".com\""
      ],
      "metadata": {
        "id": "eNxPse7I_v5m"
      },
      "execution_count": null,
      "outputs": []
    },
    {
      "cell_type": "code",
      "source": [
        "url('google')"
      ],
      "metadata": {
        "id": "gBTm6Tm_JfSG",
        "colab": {
          "base_uri": "https://localhost:8080/",
          "height": 35
        },
        "outputId": "5a6e7999-b43c-4c37-9c0d-6f4e6c9b113a"
      },
      "execution_count": null,
      "outputs": [
        {
          "output_type": "execute_result",
          "data": {
            "text/plain": [
              "'www.google.com'"
            ],
            "application/vnd.google.colaboratory.intrinsic+json": {
              "type": "string"
            }
          },
          "metadata": {},
          "execution_count": 2
        }
      ]
    },
    {
      "cell_type": "code",
      "source": [
        "url('naver')"
      ],
      "metadata": {
        "id": "pP3H1YOXT1FD",
        "colab": {
          "base_uri": "https://localhost:8080/",
          "height": 35
        },
        "outputId": "1ba83f96-f809-4a69-cce8-b6f26c6a29e6"
      },
      "execution_count": null,
      "outputs": [
        {
          "output_type": "execute_result",
          "data": {
            "text/plain": [
              "'www.naver.com'"
            ],
            "application/vnd.google.colaboratory.intrinsic+json": {
              "type": "string"
            }
          },
          "metadata": {},
          "execution_count": 3
        }
      ]
    },
    {
      "cell_type": "code",
      "source": [
        "def url(string):\n",
        "    string = 'www.'+string+\".com\" # string이라는 지역변수 안에 'www.'+string+\".com\"를 집어넣음\n",
        "    return string # 지역변수를 밖으로 끌어낼 수 있게 return"
      ],
      "metadata": {
        "id": "TdmehxMi9f65"
      },
      "execution_count": null,
      "outputs": []
    },
    {
      "cell_type": "code",
      "source": [
        "url('naver')"
      ],
      "metadata": {
        "colab": {
          "base_uri": "https://localhost:8080/",
          "height": 35
        },
        "id": "WLlO1uR39mn3",
        "outputId": "c8d97577-6d8c-4126-9592-2780d1e52642"
      },
      "execution_count": null,
      "outputs": [
        {
          "output_type": "execute_result",
          "data": {
            "text/plain": [
              "'www.naver.com'"
            ],
            "application/vnd.google.colaboratory.intrinsic+json": {
              "type": "string"
            }
          },
          "metadata": {},
          "execution_count": 5
        }
      ]
    },
    {
      "cell_type": "markdown",
      "source": [
        "2. 콤마가 포함된 문자열 숫자를 입력받아 정수로 변환하는 string_to_int 함수를 정의해보세요."
      ],
      "metadata": {
        "id": "mheghMrrUJlR"
      }
    },
    {
      "cell_type": "markdown",
      "source": [
        "Input:\n",
        "```\n",
        "strint_to_int('1,000,000')\n",
        "```\n"
      ],
      "metadata": {
        "id": "r_nc-2b_3sS_"
      }
    },
    {
      "cell_type": "code",
      "source": [
        "def strint_to_int(string):\n",
        "    return int(string.replace(\",\",''))"
      ],
      "metadata": {
        "id": "j3ICwjemT21M"
      },
      "execution_count": null,
      "outputs": []
    },
    {
      "cell_type": "code",
      "source": [
        "strint_to_int('1,000,000')"
      ],
      "metadata": {
        "colab": {
          "base_uri": "https://localhost:8080/"
        },
        "id": "vD9v53o4-K6Z",
        "outputId": "6e360bae-17f8-43b2-efa0-c705f141fcd2"
      },
      "execution_count": null,
      "outputs": [
        {
          "output_type": "execute_result",
          "data": {
            "text/plain": [
              "1000000"
            ]
          },
          "metadata": {},
          "execution_count": 11
        }
      ]
    },
    {
      "cell_type": "code",
      "source": [
        "int(string.replace(\",\",''))"
      ],
      "metadata": {
        "id": "G32doN3Zqlqs",
        "colab": {
          "base_uri": "https://localhost:8080/"
        },
        "outputId": "c5564909-0480-42cb-c7b1-45bc381a985f"
      },
      "execution_count": null,
      "outputs": [
        {
          "output_type": "execute_result",
          "data": {
            "text/plain": [
              "1000000"
            ]
          },
          "metadata": {},
          "execution_count": 8
        }
      ]
    },
    {
      "cell_type": "markdown",
      "source": [
        "3. 반복문, map, lambda를 <b>각각 활용하여 다음 input을 output으로 출력해주세요\n",
        "\n",
        "input\n",
        "```\n",
        "li1 = [5, 4, 3, 2, 1]\n",
        "```\n",
        "\n",
        "output\n",
        "```\n",
        "[10, 8, 6, 4, 2]\n",
        "```\n"
      ],
      "metadata": {
        "id": "yM39G0VmAzRk"
      }
    },
    {
      "cell_type": "code",
      "source": [
        "li1 = [5, 4, 3, 2, 1]\n",
        "\n",
        "list_tmp = [] # 바깥에 빈 리스트 만듦\n",
        "\n",
        "for li in li1:\n",
        "    list_tmp.append(li*2)\n",
        "\n",
        "list_tmp"
      ],
      "metadata": {
        "id": "Zbf4_mK5A0dJ",
        "colab": {
          "base_uri": "https://localhost:8080/"
        },
        "outputId": "72d27b6b-3074-406e-f188-56aa9caf7208"
      },
      "execution_count": null,
      "outputs": [
        {
          "output_type": "execute_result",
          "data": {
            "text/plain": [
              "[10, 8, 6, 4, 2]"
            ]
          },
          "metadata": {},
          "execution_count": 12
        }
      ]
    },
    {
      "cell_type": "code",
      "source": [
        "li1 = [5, 4, 3, 2, 1]\n",
        "\n",
        "list_tmp = [li*2 for li in li1] # 바깥에 빈 리스트 만듦\n",
        "\n",
        "# :\n",
        "#     list_tmp.append()\n",
        "\n",
        "list_tmp"
      ],
      "metadata": {
        "id": "DdIpcbxyequ2",
        "colab": {
          "base_uri": "https://localhost:8080/"
        },
        "outputId": "e0423e1f-c78e-405a-942a-cd8d81269604"
      },
      "execution_count": null,
      "outputs": [
        {
          "output_type": "execute_result",
          "data": {
            "text/plain": [
              "[10, 8, 6, 4, 2]"
            ]
          },
          "metadata": {},
          "execution_count": 13
        }
      ]
    },
    {
      "cell_type": "code",
      "source": [
        "tuple(li*2 for li in li1)"
      ],
      "metadata": {
        "id": "bxVk15tte5Nq",
        "colab": {
          "base_uri": "https://localhost:8080/"
        },
        "outputId": "ff40e702-6f18-40f1-affa-a3d92ca5dd0c"
      },
      "execution_count": null,
      "outputs": [
        {
          "output_type": "execute_result",
          "data": {
            "text/plain": [
              "(10, 8, 6, 4, 2)"
            ]
          },
          "metadata": {},
          "execution_count": 14
        }
      ]
    },
    {
      "cell_type": "code",
      "source": [
        "{li*2 for li in li1}"
      ],
      "metadata": {
        "id": "nmGnd-p1fAhg",
        "colab": {
          "base_uri": "https://localhost:8080/"
        },
        "outputId": "f3c3c4c1-7442-4ca7-a8cb-12afa360ff8a"
      },
      "execution_count": null,
      "outputs": [
        {
          "output_type": "execute_result",
          "data": {
            "text/plain": [
              "{2, 4, 6, 8, 10}"
            ]
          },
          "metadata": {},
          "execution_count": 15
        }
      ]
    },
    {
      "cell_type": "code",
      "source": [
        "li"
      ],
      "metadata": {
        "colab": {
          "base_uri": "https://localhost:8080/"
        },
        "id": "LpZJeOqf_qYu",
        "outputId": "376ec359-d10a-4923-cf39-3fa2f08856ec"
      },
      "execution_count": null,
      "outputs": [
        {
          "output_type": "execute_result",
          "data": {
            "text/plain": [
              "1"
            ]
          },
          "metadata": {},
          "execution_count": 18
        }
      ]
    },
    {
      "cell_type": "code",
      "source": [
        "(lambda x : x*2)(li1) # li1이 두번 출력됨"
      ],
      "metadata": {
        "colab": {
          "base_uri": "https://localhost:8080/"
        },
        "id": "9BjyzGU4_fnX",
        "outputId": "d16ed9be-e854-46fb-c6d4-8a36eec964d5"
      },
      "execution_count": null,
      "outputs": [
        {
          "output_type": "execute_result",
          "data": {
            "text/plain": [
              "[5, 4, 3, 2, 1, 5, 4, 3, 2, 1]"
            ]
          },
          "metadata": {},
          "execution_count": 19
        }
      ]
    },
    {
      "cell_type": "code",
      "source": [
        "li1"
      ],
      "metadata": {
        "colab": {
          "base_uri": "https://localhost:8080/"
        },
        "id": "FjSfFk4NAKoQ",
        "outputId": "0bd017f1-bf9a-4d5b-d1e5-d365389d6a1c"
      },
      "execution_count": null,
      "outputs": [
        {
          "output_type": "execute_result",
          "data": {
            "text/plain": [
              "[5, 4, 3, 2, 1]"
            ]
          },
          "metadata": {},
          "execution_count": 20
        }
      ]
    },
    {
      "cell_type": "code",
      "source": [
        "list(map(lambda x : x*2, li1))"
      ],
      "metadata": {
        "colab": {
          "base_uri": "https://localhost:8080/"
        },
        "id": "c0dgxPnmABik",
        "outputId": "9e00a180-e466-4c47-e168-2839dea65ccc"
      },
      "execution_count": null,
      "outputs": [
        {
          "output_type": "execute_result",
          "data": {
            "text/plain": [
              "[10, 8, 6, 4, 2]"
            ]
          },
          "metadata": {},
          "execution_count": 22
        }
      ]
    },
    {
      "cell_type": "markdown",
      "source": [
        "4. 반복문, list comprehension, filter, map, lambda를 등등 중 일부를 활용하여 다음 input을 output으로 출력해주세요.\n",
        "\n",
        "input\n",
        "```\n",
        "li1 = [-8, 5, 1, 12, -1, -87, 12]\n",
        "```\n",
        "\n",
        "output  - 순서는 괘념치 마세요!!\n",
        "```\n",
        "[1, 12, 5]\n",
        "```"
      ],
      "metadata": {
        "id": "Gx4OmlFCBSuV"
      }
    },
    {
      "cell_type": "code",
      "source": [
        "li1 = [-8, 5, 1, 12, -1, -87, 12]  # 양수, 12가 두번 있는데 1번만 나오고 있음"
      ],
      "metadata": {
        "id": "el0ajhL1fzKF"
      },
      "execution_count": null,
      "outputs": []
    },
    {
      "cell_type": "code",
      "source": [
        "li2 = []\n",
        "for li in li1:\n",
        "  if li > 0 and li not in li2:\n",
        "    li2.append(li)\n",
        "li2"
      ],
      "metadata": {
        "colab": {
          "base_uri": "https://localhost:8080/"
        },
        "id": "on810W9RA37h",
        "outputId": "9ec60d89-0c0c-45de-d72d-b7b3424fc6f4"
      },
      "execution_count": null,
      "outputs": [
        {
          "output_type": "execute_result",
          "data": {
            "text/plain": [
              "[5, 1, 12]"
            ]
          },
          "metadata": {},
          "execution_count": 25
        }
      ]
    },
    {
      "cell_type": "code",
      "source": [
        "li2=[i for i in li1 if i>=0]\n",
        "li2_=list(set(li2))\n",
        "li2_"
      ],
      "metadata": {
        "colab": {
          "base_uri": "https://localhost:8080/"
        },
        "id": "g_-8AJUcA8tK",
        "outputId": "2a3a04e2-0032-4f18-cb54-ae9fde334166"
      },
      "execution_count": null,
      "outputs": [
        {
          "output_type": "execute_result",
          "data": {
            "text/plain": [
              "[1, 12, 5]"
            ]
          },
          "metadata": {},
          "execution_count": 26
        }
      ]
    },
    {
      "cell_type": "code",
      "source": [
        "output = list(set(filter(biggerthan0, li1)))\n",
        "print(output)"
      ],
      "metadata": {
        "id": "LFbUBC53Lgkc",
        "colab": {
          "base_uri": "https://localhost:8080/"
        },
        "outputId": "eb837d9e-452c-4560-a8a5-c133330fd2bf"
      },
      "execution_count": null,
      "outputs": [
        {
          "output_type": "stream",
          "name": "stdout",
          "text": [
            "[1, 12, 5]\n"
          ]
        }
      ]
    },
    {
      "cell_type": "code",
      "source": [
        "def biggerthan0(a):\n",
        "  if a >=0:\n",
        "    return a"
      ],
      "metadata": {
        "id": "Qm-3mJdLBZlV"
      },
      "execution_count": null,
      "outputs": []
    },
    {
      "cell_type": "code",
      "source": [
        "set(filter(biggerthan0, li1))"
      ],
      "metadata": {
        "colab": {
          "base_uri": "https://localhost:8080/"
        },
        "id": "pfuq-rGABX5P",
        "outputId": "53a9f731-298a-47dc-feac-756816403418"
      },
      "execution_count": null,
      "outputs": [
        {
          "output_type": "execute_result",
          "data": {
            "text/plain": [
              "{1, 5, 12}"
            ]
          },
          "metadata": {},
          "execution_count": 33
        }
      ]
    },
    {
      "cell_type": "code",
      "source": [
        "list(set(filter(lambda x: x>0, li1)))"
      ],
      "metadata": {
        "id": "EkSbTGRILvIv"
      },
      "execution_count": null,
      "outputs": []
    },
    {
      "cell_type": "markdown",
      "source": [
        "5. 남이 만들어놓은 모듈을 가져다 쓸때는 어떻게 해야 할까요? 직접 timezone라는 모듈을 가져와서 사용하면서 확인해보겠습니다.\n",
        "- 모듈 가져와서 사용하기 연습\n",
        "- 공식문서 + 기타 참고\n",
        "- http://pythonstudy.xyz/python/article/17-%EB%AA%A8%EB%93%88-Module\n",
        "\n",
        "```\n",
        "from pytz import timezone\n",
        "import datetime\n",
        "\n",
        "datetime.datetime.now(timezone('Asia/Seoul'))\n",
        "```\n",
        "\n",
        "5-1. datetime\n",
        "datetime 모듈을 사용해서 현재 시간을 화면에 출력해보세요.\n",
        "- 참조 : https://docs.python.org/ko/3/library/datetime.html?highlight=datetime#module-datetime"
      ],
      "metadata": {
        "id": "46SSVwNIYqHy"
      }
    },
    {
      "cell_type": "code",
      "source": [
        "from pytz import timezone  # timezone이라는 현재 표준시간대를 알려주는 또다른 모듈\n",
        "import datetime  # 시간 사용을 위한 파이썬 내장모듈\n",
        "\n",
        "datetime.datetime.now(timezone('Asia/Seoul')).isoformat(timespec='minutes')\n",
        "# timestamp - log에 같이 저장을 해서 고유값처럼 사용하는 경우들이 많습니다"
      ],
      "metadata": {
        "colab": {
          "base_uri": "https://localhost:8080/",
          "height": 35
        },
        "outputId": "14b281a9-48b9-4934-f28a-1c9c40516e4a",
        "id": "KTVVP4PtYqHz"
      },
      "execution_count": null,
      "outputs": [
        {
          "output_type": "execute_result",
          "data": {
            "text/plain": [
              "'2023-05-03T09:40+09:00'"
            ],
            "application/vnd.google.colaboratory.intrinsic+json": {
              "type": "string"
            }
          },
          "metadata": {},
          "execution_count": 39
        }
      ]
    },
    {
      "cell_type": "code",
      "source": [
        "import datetime\n",
        "\n",
        "datetime.datetime.now()"
      ],
      "metadata": {
        "colab": {
          "base_uri": "https://localhost:8080/"
        },
        "id": "DD-p49-MDCxB",
        "outputId": "0c3a18f0-c39d-486f-c27a-58b17bde0ea9"
      },
      "execution_count": null,
      "outputs": [
        {
          "output_type": "execute_result",
          "data": {
            "text/plain": [
              "datetime.datetime(2023, 5, 3, 0, 39, 11, 379541)"
            ]
          },
          "metadata": {},
          "execution_count": 37
        }
      ]
    },
    {
      "cell_type": "code",
      "source": [
        "now = datetime.datetime.now(timezone('Asia/Seoul'))  # 실행했을 때의 시간이 now 객체에 저장이 됩니다"
      ],
      "metadata": {
        "id": "KyR8mv3FYqH0"
      },
      "execution_count": null,
      "outputs": []
    },
    {
      "cell_type": "code",
      "source": [
        "now"
      ],
      "metadata": {
        "colab": {
          "base_uri": "https://localhost:8080/"
        },
        "id": "GoXbddFPECld",
        "outputId": "ac69b99f-3fcc-40b1-8d4d-e398d095277c"
      },
      "execution_count": null,
      "outputs": [
        {
          "output_type": "execute_result",
          "data": {
            "text/plain": [
              "datetime.datetime(2023, 5, 3, 9, 43, 10, 120431, tzinfo=<DstTzInfo 'Asia/Seoul' KST+9:00:00 STD>)"
            ]
          },
          "metadata": {},
          "execution_count": 41
        }
      ]
    },
    {
      "cell_type": "code",
      "source": [
        "import numpy as np\n",
        "\n",
        "a = np.array([1,2,3])\n",
        "type(a)"
      ],
      "metadata": {
        "colab": {
          "base_uri": "https://localhost:8080/"
        },
        "id": "gdkKZGeIEfiX",
        "outputId": "aea2bed1-a1fa-4469-978b-33448e65283c"
      },
      "execution_count": null,
      "outputs": [
        {
          "output_type": "execute_result",
          "data": {
            "text/plain": [
              "numpy.ndarray"
            ]
          },
          "metadata": {},
          "execution_count": 45
        }
      ]
    },
    {
      "cell_type": "code",
      "source": [
        "now"
      ],
      "metadata": {
        "colab": {
          "base_uri": "https://localhost:8080/"
        },
        "id": "W_P6FcuxEHlc",
        "outputId": "fd1cab6a-e7e5-412b-b619-65a03c9475b5"
      },
      "execution_count": null,
      "outputs": [
        {
          "output_type": "execute_result",
          "data": {
            "text/plain": [
              "datetime.datetime(2023, 5, 3, 9, 44, 56, 896385, tzinfo=<DstTzInfo 'Asia/Seoul' KST+9:00:00 STD>)"
            ]
          },
          "metadata": {},
          "execution_count": 44
        }
      ]
    },
    {
      "cell_type": "code",
      "source": [
        "dir(now)"
      ],
      "metadata": {
        "colab": {
          "base_uri": "https://localhost:8080/"
        },
        "id": "WP4zMdvEE0tA",
        "outputId": "7fb76fbb-a3b2-40c1-ad9d-74b23d9d9618"
      },
      "execution_count": null,
      "outputs": [
        {
          "output_type": "execute_result",
          "data": {
            "text/plain": [
              "['__add__',\n",
              " '__class__',\n",
              " '__delattr__',\n",
              " '__dir__',\n",
              " '__doc__',\n",
              " '__eq__',\n",
              " '__format__',\n",
              " '__ge__',\n",
              " '__getattribute__',\n",
              " '__gt__',\n",
              " '__hash__',\n",
              " '__init__',\n",
              " '__init_subclass__',\n",
              " '__le__',\n",
              " '__lt__',\n",
              " '__ne__',\n",
              " '__new__',\n",
              " '__radd__',\n",
              " '__reduce__',\n",
              " '__reduce_ex__',\n",
              " '__repr__',\n",
              " '__rsub__',\n",
              " '__setattr__',\n",
              " '__sizeof__',\n",
              " '__str__',\n",
              " '__sub__',\n",
              " '__subclasshook__',\n",
              " 'astimezone',\n",
              " 'combine',\n",
              " 'ctime',\n",
              " 'date',\n",
              " 'day',\n",
              " 'dst',\n",
              " 'fold',\n",
              " 'fromisocalendar',\n",
              " 'fromisoformat',\n",
              " 'fromordinal',\n",
              " 'fromtimestamp',\n",
              " 'hour',\n",
              " 'isocalendar',\n",
              " 'isoformat',\n",
              " 'isoweekday',\n",
              " 'max',\n",
              " 'microsecond',\n",
              " 'min',\n",
              " 'minute',\n",
              " 'month',\n",
              " 'now',\n",
              " 'replace',\n",
              " 'resolution',\n",
              " 'second',\n",
              " 'strftime',\n",
              " 'strptime',\n",
              " 'time',\n",
              " 'timestamp',\n",
              " 'timetuple',\n",
              " 'timetz',\n",
              " 'today',\n",
              " 'toordinal',\n",
              " 'tzinfo',\n",
              " 'tzname',\n",
              " 'utcfromtimestamp',\n",
              " 'utcnow',\n",
              " 'utcoffset',\n",
              " 'utctimetuple',\n",
              " 'weekday',\n",
              " 'year']"
            ]
          },
          "metadata": {},
          "execution_count": 46
        }
      ]
    },
    {
      "cell_type": "code",
      "source": [
        "now"
      ],
      "metadata": {
        "colab": {
          "base_uri": "https://localhost:8080/"
        },
        "id": "BKkh8c4WEex-",
        "outputId": "24afa2a8-0285-45b0-e74f-2cf8709cefa1"
      },
      "execution_count": null,
      "outputs": [
        {
          "output_type": "execute_result",
          "data": {
            "text/plain": [
              "datetime.datetime(2023, 5, 3, 9, 44, 56, 896385, tzinfo=<DstTzInfo 'Asia/Seoul' KST+9:00:00 STD>)"
            ]
          },
          "metadata": {},
          "execution_count": 48
        }
      ]
    },
    {
      "cell_type": "code",
      "source": [
        "now.date()"
      ],
      "metadata": {
        "colab": {
          "base_uri": "https://localhost:8080/"
        },
        "id": "24fMVagFIYrb",
        "outputId": "5823a730-07e0-497a-a711-5d33626ccd40"
      },
      "execution_count": null,
      "outputs": [
        {
          "output_type": "execute_result",
          "data": {
            "text/plain": [
              "datetime.date(2023, 5, 3)"
            ]
          },
          "metadata": {},
          "execution_count": 53
        }
      ]
    },
    {
      "cell_type": "code",
      "source": [
        "now.date()"
      ],
      "metadata": {
        "id": "dpjKZIt4YqH0",
        "colab": {
          "base_uri": "https://localhost:8080/"
        },
        "outputId": "77acea82-2c81-4a7c-b521-470b9f321a7b"
      },
      "execution_count": null,
      "outputs": [
        {
          "output_type": "execute_result",
          "data": {
            "text/plain": [
              "datetime.date(2023, 5, 3)"
            ]
          },
          "metadata": {},
          "execution_count": 47
        }
      ]
    },
    {
      "cell_type": "code",
      "source": [
        "now.year"
      ],
      "metadata": {
        "id": "nasU-GN8E_bP",
        "outputId": "da79c02d-6484-4278-eb7a-779a55206b7d",
        "colab": {
          "base_uri": "https://localhost:8080/"
        }
      },
      "execution_count": null,
      "outputs": [
        {
          "output_type": "execute_result",
          "data": {
            "text/plain": [
              "2023"
            ]
          },
          "metadata": {},
          "execution_count": 50
        }
      ]
    },
    {
      "cell_type": "code",
      "source": [
        "now.month"
      ],
      "metadata": {
        "id": "1kVYZD64FBCX",
        "outputId": "c386a98d-f347-4636-e081-149b94a3f482",
        "colab": {
          "base_uri": "https://localhost:8080/"
        }
      },
      "execution_count": null,
      "outputs": [
        {
          "output_type": "execute_result",
          "data": {
            "text/plain": [
              "5"
            ]
          },
          "metadata": {},
          "execution_count": 51
        }
      ]
    },
    {
      "cell_type": "code",
      "source": [
        "now.year, now.month, now.day, now.hour, now.minute"
      ],
      "metadata": {
        "colab": {
          "base_uri": "https://localhost:8080/"
        },
        "outputId": "0282f33c-3244-42f8-e671-4c08d08a37e0",
        "id": "AnPc1TJhYqH1"
      },
      "execution_count": null,
      "outputs": [
        {
          "output_type": "execute_result",
          "data": {
            "text/plain": [
              "(2023, 5, 3, 9, 44)"
            ]
          },
          "metadata": {},
          "execution_count": 49
        }
      ]
    },
    {
      "cell_type": "code",
      "source": [
        "now.date() # 오늘 날짜까지는 꺼내옴 근데 여기에 날짜를 더하거나 빼는 건 어떻게 해야 할까?"
      ],
      "metadata": {
        "id": "gcV9vefvYqH1",
        "colab": {
          "base_uri": "https://localhost:8080/"
        },
        "outputId": "1126cd62-a747-4724-f94c-533be90dd78d"
      },
      "execution_count": null,
      "outputs": [
        {
          "output_type": "execute_result",
          "data": {
            "text/plain": [
              "datetime.date(2023, 5, 3)"
            ]
          },
          "metadata": {},
          "execution_count": 54
        }
      ]
    },
    {
      "cell_type": "markdown",
      "source": [
        "5-2. datetime 모듈의 timedelta를 사용해서 오늘로부터 30일, 25일, 20일, 15일, 10일, 5일 전의 날짜를 화면에 출력해보세요."
      ],
      "metadata": {
        "id": "BSLde-nGYqH2"
      }
    },
    {
      "cell_type": "code",
      "source": [
        "from datetime import timedelta\n",
        "delta = timedelta(\n",
        "    days=50,\n",
        "    seconds=27,\n",
        "    microseconds=10,\n",
        "    milliseconds=29000,\n",
        "    minutes=5,\n",
        "    hours=8,\n",
        "    weeks=2 # 14일\n",
        ")\n",
        "# Only days, seconds, and microseconds remain\n",
        "delta # 시간 단위를 알아서 변환해서 날짜끼리 덧셈 혹은 뺄셈 연산을 하도록 하는 객체"
      ],
      "metadata": {
        "id": "dT-w3tOgYqH2",
        "colab": {
          "base_uri": "https://localhost:8080/"
        },
        "outputId": "b6aa11ee-2610-4928-80fb-85add67578dc"
      },
      "execution_count": null,
      "outputs": [
        {
          "output_type": "execute_result",
          "data": {
            "text/plain": [
              "datetime.timedelta(days=64, seconds=29156, microseconds=10)"
            ]
          },
          "metadata": {},
          "execution_count": 55
        }
      ]
    },
    {
      "cell_type": "code",
      "source": [
        "delta = timedelta(days=40)"
      ],
      "metadata": {
        "id": "ZWcWnXMQYqH2"
      },
      "execution_count": null,
      "outputs": []
    },
    {
      "cell_type": "code",
      "source": [
        "now - delta"
      ],
      "metadata": {
        "id": "wI5MlXulYqH2",
        "colab": {
          "base_uri": "https://localhost:8080/"
        },
        "outputId": "059cfb3f-e2f4-42f4-dd37-31d17eefdbe9"
      },
      "execution_count": null,
      "outputs": [
        {
          "output_type": "execute_result",
          "data": {
            "text/plain": [
              "datetime.datetime(2023, 3, 24, 9, 44, 56, 896385, tzinfo=<DstTzInfo 'Asia/Seoul' KST+9:00:00 STD>)"
            ]
          },
          "metadata": {},
          "execution_count": 57
        }
      ]
    },
    {
      "cell_type": "code",
      "source": [
        "now"
      ],
      "metadata": {
        "colab": {
          "base_uri": "https://localhost:8080/",
          "height": 35
        },
        "id": "b5TeoCrLMa6F",
        "outputId": "4357a596-28b8-4792-9018-433e3baf4f5e"
      },
      "execution_count": null,
      "outputs": [
        {
          "output_type": "execute_result",
          "data": {
            "text/plain": [
              "'10:14:58'"
            ],
            "application/vnd.google.colaboratory.intrinsic+json": {
              "type": "string"
            }
          },
          "metadata": {},
          "execution_count": 70
        }
      ]
    },
    {
      "cell_type": "code",
      "source": [
        "now = datetime.datetime.now()\n",
        "\n",
        "for day in range(30, 0, -5):\n",
        "    delta = timedelta(days=day)\n",
        "    date = now - delta\n",
        "    # print(date.date()) # 년 월 일이 모두 표기되는데\n",
        "    # print(f'{date.year}-{date.month}-{date.day}')\n",
        "    print(date.strftime('%b-%d-%Y %A %W'))"
      ],
      "metadata": {
        "id": "TlylzWPqYqH2",
        "colab": {
          "base_uri": "https://localhost:8080/"
        },
        "outputId": "e3ab09cb-3e0c-42ef-a1a0-ff925ba630e5"
      },
      "execution_count": null,
      "outputs": [
        {
          "output_type": "stream",
          "name": "stdout",
          "text": [
            "Apr-03-2023 Monday 14\n",
            "Apr-08-2023 Saturday 14\n",
            "Apr-13-2023 Thursday 15\n",
            "Apr-18-2023 Tuesday 16\n",
            "Apr-23-2023 Sunday 16\n",
            "Apr-28-2023 Friday 17\n"
          ]
        }
      ]
    },
    {
      "cell_type": "markdown",
      "source": [
        "5-3. 현재시간을 얻어온 후 다음과 같은 포맷으로 시간을 출력해보세요. datetime모듈의 strftime 함수(메서드)를 사용하세요.\n",
        "\n",
        "~~~\n",
        "18:35:01\n",
        "~~~"
      ],
      "metadata": {
        "id": "SyPFB4fsYqH2"
      }
    },
    {
      "cell_type": "code",
      "source": [
        "import datetime\n",
        "\n",
        "now = datetime.datetime.now(timezone('Asia/Seoul')).strftime('%X')"
      ],
      "metadata": {
        "id": "NlAdCzDmYqH3"
      },
      "execution_count": null,
      "outputs": []
    },
    {
      "cell_type": "code",
      "source": [
        "now"
      ],
      "metadata": {
        "colab": {
          "base_uri": "https://localhost:8080/",
          "height": 35
        },
        "id": "L5mvqkrmKqyO",
        "outputId": "97d4517b-8cb7-4daf-8ad0-3236290d8db0"
      },
      "execution_count": null,
      "outputs": [
        {
          "output_type": "execute_result",
          "data": {
            "text/plain": [
              "'10:14:58'"
            ],
            "application/vnd.google.colaboratory.intrinsic+json": {
              "type": "string"
            }
          },
          "metadata": {},
          "execution_count": 68
        }
      ]
    },
    {
      "cell_type": "markdown",
      "source": [
        "5-4. datetime.datetime.strptime 메서드를 사용하면 문자열 형식의 시간을 datetime.datetime 타입의 시간 값으로 만들어줍니다. \"2021-01-10\"의 문자열을 시간 타입으로 변환해보세요."
      ],
      "metadata": {
        "id": "MLyuENJmYqH3"
      }
    },
    {
      "cell_type": "code",
      "source": [
        "delta"
      ],
      "metadata": {
        "colab": {
          "base_uri": "https://localhost:8080/"
        },
        "id": "L8gNVRv0Ncw5",
        "outputId": "0803b0dd-19d5-4a6b-b1c8-e921c7c8c3db"
      },
      "execution_count": null,
      "outputs": [
        {
          "output_type": "execute_result",
          "data": {
            "text/plain": [
              "datetime.timedelta(days=5)"
            ]
          },
          "metadata": {},
          "execution_count": 76
        }
      ]
    },
    {
      "cell_type": "code",
      "source": [
        "datetime.datetime.strptime(\"2021-01-10\", \"%Y-%M-%d\") # 문자열로 되어있는 날짜를 우리가 연산할 수 있는 datetime 객체로 변환하려면?\n"
      ],
      "metadata": {
        "id": "P9k6lm3UYqH3",
        "colab": {
          "base_uri": "https://localhost:8080/"
        },
        "outputId": "c502f992-6cc1-4095-8379-9e012ae3e152"
      },
      "execution_count": null,
      "outputs": [
        {
          "output_type": "execute_result",
          "data": {
            "text/plain": [
              "datetime.datetime(2021, 1, 10, 0, 1)"
            ]
          },
          "metadata": {},
          "execution_count": 79
        }
      ]
    },
    {
      "cell_type": "code",
      "source": [
        "datetime.datetime.strptime('2021/01/10','%Y/%m/%d')"
      ],
      "metadata": {
        "colab": {
          "base_uri": "https://localhost:8080/"
        },
        "id": "UnqX216dOjVJ",
        "outputId": "3c685e85-561c-435b-fcd3-2230070f2048"
      },
      "execution_count": null,
      "outputs": [
        {
          "output_type": "execute_result",
          "data": {
            "text/plain": [
              "datetime.datetime(2021, 1, 10, 0, 0)"
            ]
          },
          "metadata": {},
          "execution_count": 83
        }
      ]
    },
    {
      "cell_type": "code",
      "source": [
        "input_ = datetime.datetime.strptime('2021-01-10','%Y-%m-%d') \\\n",
        "        - datetime.timedelta(days=1461)\n",
        "input_"
      ],
      "metadata": {
        "id": "KjHk3jdCYqH3",
        "colab": {
          "base_uri": "https://localhost:8080/"
        },
        "outputId": "d2d682ff-9f81-4b1e-ad0a-f1b5867ee508"
      },
      "execution_count": null,
      "outputs": [
        {
          "output_type": "execute_result",
          "data": {
            "text/plain": [
              "datetime.datetime(2017, 1, 10, 0, 0)"
            ]
          },
          "metadata": {},
          "execution_count": 80
        }
      ]
    },
    {
      "cell_type": "code",
      "source": [],
      "metadata": {
        "id": "OuRCMovWYqH3"
      },
      "execution_count": null,
      "outputs": []
    },
    {
      "cell_type": "markdown",
      "source": [
        "5-5. 태어난 날짜를 입력받고, 해당 날짜로부터 몇일이 지났는지를 출력하는 함수 after_birth()를 프로그래밍해주세요.\n",
        "\n",
        "~~~\n",
        "태어난 날짜를 입력하세요 (YYYY-MM-DD) : 1987-03-15\n",
        "태어난지 12956일 되었습니다\n",
        "~~~"
      ],
      "metadata": {
        "id": "_weYmDMhYqH3"
      }
    },
    {
      "cell_type": "code",
      "source": [
        "from datetime import datetime\n",
        "\n",
        "def after_birth():\n",
        "  birth = input('태어난 날짜를 입력하세요 (YYYY-MM-DD): ' )\n",
        "  birth = datetime.strptime(birth, '%Y-%m-%d')\n",
        "  today = datetime.now()\n",
        "  print(birth)\n",
        "  print(today)\n",
        "  print(birth-today)\n",
        "  print(f'태어난지 {(today-birth).days}일 되셨습니다')"
      ],
      "metadata": {
        "id": "-9o7_Z4UYqH3"
      },
      "execution_count": null,
      "outputs": []
    },
    {
      "cell_type": "code",
      "source": [
        "after_birth()"
      ],
      "metadata": {
        "colab": {
          "base_uri": "https://localhost:8080/"
        },
        "id": "N9K1cOhnP6Wi",
        "outputId": "3397fdc4-624d-4f8b-dfec-f8e4a9aed04b"
      },
      "execution_count": null,
      "outputs": [
        {
          "output_type": "stream",
          "name": "stdout",
          "text": [
            "태어난 날짜를 입력하세요 (YYYY-MM-DD): 1999-01-01\n",
            "1999-01-01 00:00:00\n",
            "2023-05-03 01:40:04.465599\n",
            "-8889 days, 22:19:55.534401\n",
            "태어난지 8888일 되셨습니다\n"
          ]
        }
      ]
    },
    {
      "cell_type": "code",
      "source": [
        "def after_birth():\n",
        "  input_ = input('태어난 날짜를 입력하세요 (YYYY-MM-DD) : ')\n",
        "  birth = datetime.strptime(input_, '%Y-%M-%d')\n",
        "  now = datetime.now(timezone('Asia/Seoul')).date()\n",
        "  now  = datetime.strptime(str(now), '%Y-%M-%d')\n",
        "  print( '태어난지 {}일 되었습니다'.format((now-birth).days))"
      ],
      "metadata": {
        "id": "IU9woc1dYqH3"
      },
      "execution_count": null,
      "outputs": []
    },
    {
      "cell_type": "code",
      "source": [
        "after_birth()"
      ],
      "metadata": {
        "colab": {
          "base_uri": "https://localhost:8080/"
        },
        "id": "p4GWNAGZQXpM",
        "outputId": "9f43dbfa-3946-4272-d63f-411fb3805396"
      },
      "execution_count": null,
      "outputs": [
        {
          "output_type": "stream",
          "name": "stdout",
          "text": [
            "태어난 날짜를 입력하세요 (YYYY-MM-DD) : 1999-03-11\n",
            "태어난지 8758일 되었습니다\n"
          ]
        }
      ]
    },
    {
      "cell_type": "code",
      "source": [
        "def after_birth():\n",
        "    try:\n",
        "        day=input(\"태어난 날짜를 입력하세요 (YYYY-MM-DD) : \")\n",
        "        birth_day = datetime.strptime(day,\"%Y-%m-%d\")\n",
        "        now = datetime.now()\n",
        "        print(f'태어난지 {(now-birth_day).days}일 되었습니다')\n",
        "    except:\n",
        "        print(\"잘못 입력했음\")\n",
        "\n",
        "after_birth()"
      ],
      "metadata": {
        "colab": {
          "base_uri": "https://localhost:8080/"
        },
        "id": "74aJsX0yQcuG",
        "outputId": "4e37a111-2aa7-4422-807f-0e18ac36794b"
      },
      "execution_count": null,
      "outputs": [
        {
          "output_type": "stream",
          "name": "stdout",
          "text": [
            "태어난 날짜를 입력하세요 (YYYY-MM-DD) : 1999-03-01\n",
            "태어난지 8829일 되었습니다\n"
          ]
        }
      ]
    },
    {
      "cell_type": "code",
      "source": [
        "from datetime import datetime as dt\n",
        "\n",
        "def after_birth():\n",
        "  input_ = input('태어난 날짜를 입력하세요 (YYYY-MM-DD) : ')\n",
        "  birth = dt.strptime(input_, '%Y-%M-%d')\n",
        "  now = dt.now(timezone('Asia/Seoul')).date()\n",
        "  now  = dt.strptime(str(now), '%Y-%M-%d')\n",
        "  print( '태어난지 {}일 되었습니다'.format((now-birth).days))"
      ],
      "metadata": {
        "id": "V1ijK-HmRde3"
      },
      "execution_count": null,
      "outputs": []
    },
    {
      "cell_type": "code",
      "source": [
        "def after_birth():\n",
        "  input_ = input('태어난 날짜를 입력하세요 (YYYY-MM-DD) : ')\n",
        "  birth = dt.strptime(input_, '%Y-%M-%d')\n",
        "  now = dt.now(timezone('Asia/Seoul')).date()\n",
        "  now  = dt.strptime(str(now), '%Y-%M-%d')\n",
        "  print( '태어난지 {}일 되었습니다'.format((now-birth).days))"
      ],
      "metadata": {
        "id": "fJd6zZDXRixZ"
      },
      "execution_count": null,
      "outputs": []
    },
    {
      "cell_type": "markdown",
      "source": [
        "6. 두 숫자 입력받아서 더 큰 값을 출력하는 max_output(a, b)를 만들어주시고, 할 수 있는 만큼 에러 처리를 해 주세요."
      ],
      "metadata": {
        "id": "vrEFIoaMYqH3"
      }
    },
    {
      "cell_type": "markdown",
      "source": [
        "#\n",
        "```\n",
        "try: 긴가민가한 소스코드 넣어줌\n",
        "except : 기본형\n",
        "else: 잘 처리된 경우 실행\n",
        "finally: 뭐가 됐든 실행\n",
        "```\n"
      ],
      "metadata": {
        "id": "PQJpglLIYqH4"
      }
    },
    {
      "cell_type": "code",
      "source": [
        "def max_ouput() :\n",
        "    try :\n",
        "            a = int(input('a값 입력 : '))\n",
        "            b = int(input('b값 입력 : '))\n",
        "            return max(a,b)\n",
        "    except (ValueError, TypeError, NameError) as e:\n",
        "        print('숫자를 입력해주세요')\n",
        "    except :\n",
        "        print('강제종료')\n",
        "\n",
        "max_ouput()"
      ],
      "metadata": {
        "id": "Quw_qcYRYqH4",
        "colab": {
          "base_uri": "https://localhost:8080/"
        },
        "outputId": "c0522013-d588-4bdf-f0be-df9ddeabdafe"
      },
      "execution_count": null,
      "outputs": [
        {
          "name": "stdout",
          "output_type": "stream",
          "text": [
            "강제종료\n",
            "a값 입력 : fghdsgsdg\n"
          ]
        }
      ]
    },
    {
      "cell_type": "code",
      "source": [
        "def max_output():\n",
        "    a = int(input('값1 입력'))\n",
        "    b = int(input('값2 입력'))\n",
        "    print(max(a, b))\n",
        "\n",
        "try:\n",
        "    max_output()\n",
        "except (ValueError, NameError, TypeError) as e: # 처리할수 있는 하위 에러 먼저 처리\n",
        "    print('값을 잘못 입력하셨습니다')\n",
        "    print(e)\n",
        "except Exception as e: # 상위 에러 처리\n",
        "    print('예외 상황', e)\n",
        "else: # 명령이 잘 수행된 경우\n",
        "    print('명령구문 잘 수행하였습니다 OK')\n",
        "finally: # 명령이 잘 되건 안되건 무조건\n",
        "    print('에러가 있든 없든 이 결과는 실행됩니다') # 파일이나 DB를 닫을 때"
      ],
      "metadata": {
        "id": "8F1I2IJPYqH4",
        "colab": {
          "base_uri": "https://localhost:8080/"
        },
        "outputId": "1c719a7f-dad3-4b97-dfdb-1132b633c8b3"
      },
      "execution_count": null,
      "outputs": [
        {
          "output_type": "stream",
          "name": "stdout",
          "text": [
            "값1 입력가\n",
            "예외 상황 invalid literal for int() with base 10: '가'\n",
            "에러가 있든 없든 이 결과는 실행됩니다\n"
          ]
        }
      ]
    },
    {
      "cell_type": "markdown",
      "source": [
        "7. 아래 코드에서 발생할 예외를 예측하고, try, except 구문으로 해당 예외를 처리해주세요.\n",
        "```\n",
        "alist = [\"a\", \"1\", \"c\"]\n",
        "blist = [\"b\", \"2\", \"d\"]\n",
        "for a, b in enumerate(zip(alist, blist)): print(b[a])\n",
        "```"
      ],
      "metadata": {
        "id": "9BzFKhtHH-tW"
      }
    },
    {
      "cell_type": "code",
      "source": [
        "alist = [\"a\", \"1\", \"c\"]\n",
        "blist = [\"b\", \"2\", \"d\"]\n",
        "\n",
        "try:\n",
        "    input()\n",
        "    for a, b in enumerate(zip(alist, blist)): print(b[a])\n",
        "\n",
        "except IndexError:\n",
        "    print('인덱스 에러입니다')\n",
        "except Exception:\n",
        "    print('뭔지 모를 예외상황')\n",
        "    #tuple index out of range"
      ],
      "metadata": {
        "id": "C0BDxDCQZ4qI",
        "colab": {
          "base_uri": "https://localhost:8080/"
        },
        "outputId": "edd6569c-e6fa-4642-b3f0-1a433687b548"
      },
      "execution_count": null,
      "outputs": [
        {
          "output_type": "stream",
          "name": "stdout",
          "text": [
            "\u0004\n",
            "뭔지 모를 예외상황\n"
          ]
        }
      ]
    },
    {
      "cell_type": "code",
      "source": [
        "IndexError.mro()"
      ],
      "metadata": {
        "id": "MFSo4BuaKi8f",
        "colab": {
          "base_uri": "https://localhost:8080/"
        },
        "outputId": "f5e3ef08-7e60-4cdc-8cf5-f1f2b3e80cad"
      },
      "execution_count": null,
      "outputs": [
        {
          "output_type": "execute_result",
          "data": {
            "text/plain": [
              "[IndexError, LookupError, Exception, BaseException, object]"
            ]
          },
          "metadata": {},
          "execution_count": 110
        }
      ]
    },
    {
      "cell_type": "markdown",
      "source": [
        "8. 아래 코드에서 발생할 예외를 예측하고, try, except 구문으로 해당 예외를 처리해주세요.\n",
        "\n",
        "- 그리고 에러 없이 잘 실행되었으면 '실행이 완료되었습니다',\n",
        "- 실행이 완료되든 완료되지 않든 '종료되었습니다'라는 문구가 함께 출력되도록 처리해주세요.\n",
        "\n",
        "```\n",
        "    for i in range(1, 7):\n",
        "        result = 7 // i\n",
        "        print(result)\n",
        "```"
      ],
      "metadata": {
        "id": "WnKdLAENIQ-O"
      }
    },
    {
      "cell_type": "code",
      "source": [
        "try:\n",
        "    for i in range(7):\n",
        "        result = 7 // i\n",
        "        print(result)\n",
        "except ZeroDivisionError as e:\n",
        "    print(e, '0으로는 나눌 수 없습니다!!!')\n",
        "except Exception as e:\n",
        "    print(e)\n",
        "else:\n",
        "    print('프로그램이 잘 실행됐습니다.')\n",
        "finally:\n",
        "    print('종료되었습니다')"
      ],
      "metadata": {
        "id": "JGzig57tlPZa",
        "colab": {
          "base_uri": "https://localhost:8080/"
        },
        "outputId": "cd6c6778-7de7-4ff3-c707-a4a83764862e"
      },
      "execution_count": null,
      "outputs": [
        {
          "output_type": "stream",
          "name": "stdout",
          "text": [
            "integer division or modulo by zero 0으로는 나눌 수 없습니다!!!\n",
            "종료되었습니다\n"
          ]
        }
      ]
    },
    {
      "cell_type": "code",
      "source": [],
      "metadata": {
        "id": "9cwetqJRIjCH"
      },
      "execution_count": null,
      "outputs": []
    },
    {
      "cell_type": "markdown",
      "source": [
        "9. 아래 코드에서 발생할 예외를 예측하고, try, except 구문으로 해당 예외를 처리해주세요.\n",
        "\n",
        "```\n",
        " f = open('testex.txt', 'r')\n",
        " ```"
      ],
      "metadata": {
        "id": "rU6_hGTjL-rh"
      }
    },
    {
      "cell_type": "code",
      "source": [
        "%%writefile testex.txt\n",
        "\n",
        "안녕하세요\n",
        "오늘은\n",
        "\n",
        "    점심메뉴가 무엇인가요"
      ],
      "metadata": {
        "id": "ZHbKQaueL-Jr",
        "colab": {
          "base_uri": "https://localhost:8080/"
        },
        "outputId": "035a2492-0df7-4898-b45b-56ff37cbd496"
      },
      "execution_count": null,
      "outputs": [
        {
          "output_type": "stream",
          "name": "stdout",
          "text": [
            "Writing testex.txt\n"
          ]
        }
      ]
    },
    {
      "cell_type": "code",
      "source": [
        "try:\n",
        "    f = open('testex.txt', 'r') # FileNotFoundError\n",
        "    print(f.readlines())\n",
        "except FileNotFoundError:\n",
        "    print('파일이 없습니다')\n",
        "except Exception:\n",
        "    print('뭔지 모를 예외상황')"
      ],
      "metadata": {
        "id": "BIkKPreicQlY",
        "colab": {
          "base_uri": "https://localhost:8080/"
        },
        "outputId": "341f1b6c-21f5-4509-9e40-9d6b6be1729c"
      },
      "execution_count": null,
      "outputs": [
        {
          "output_type": "stream",
          "name": "stdout",
          "text": [
            "['\\n', '안녕하세요\\n', '오늘은\\n', '\\n', '    점심메뉴가 무엇인가요\\n']\n"
          ]
        }
      ]
    },
    {
      "cell_type": "code",
      "source": [
        "try:\n",
        "# 1. 파일을 읽어옵니다\n",
        "# 2. 파일이 있으면 - 파일의 내용을 출력합니다.\n",
        "    f = open('testex.txt', 'r')\n",
        "    sentences = f.readlines()\n",
        "    for sentence in sentences:\n",
        "        print(sentence, end='')\n",
        "except FileNotFoundError as e:\n",
        "    print('해당하는 내용이 없습니다 ', e)\n",
        "#    파일이 없으면 - 해당하는 내용이 없습니다 라는 메시지를 출력합니다\n",
        "else:\n",
        "    # 3. 파일이 있었으면 마지막 문장입니다. 를 출력합니다.\n",
        "    print('동작이 잘 수행되었습니다. 이 문장은 마지막 문장입니다')\n",
        "finally:\n",
        "# 4. 파일이 있으면 파일을 닫습니다.\n",
        "    if 'f' in globals():\n",
        "        f.close()\n",
        "        print('파일 닫힘')\n",
        "    else:\n",
        "        print('해당하는 파일이 없습니다')\n"
      ],
      "metadata": {
        "colab": {
          "base_uri": "https://localhost:8080/"
        },
        "id": "9HKtK_U9XAzS",
        "outputId": "3f1d89cf-e704-4190-ba8c-9062b3b7c8d2"
      },
      "execution_count": null,
      "outputs": [
        {
          "output_type": "stream",
          "name": "stdout",
          "text": [
            "\n",
            "안녕하세요\n",
            "오늘은\n",
            "\n",
            "    점심메뉴가 무엇인가요\n",
            "동작이 잘 수행되었습니다. 이 문장은 마지막 문장입니다\n",
            "파일 닫힘\n"
          ]
        }
      ]
    },
    {
      "cell_type": "markdown",
      "source": [
        "# 얘는 class 수업 후에 열어보세요!!!!!\n"
      ],
      "metadata": {
        "id": "FakcnliQ5TvN"
      }
    },
    {
      "cell_type": "markdown",
      "source": [
        "- 일부러 에러를 일으키기도 합니다.\n",
        "\n",
        "  raise 라는 구문을 사용하면 되는데요\n",
        "\n",
        "  - 원래 있던 에러 외에 사용자가 묶어서 처리하기 위해서 특별한 에러를 만들고 싶을 떄 (에러가 아닌 애를 에러 처리 하고 싶을 떄)\n",
        "  - 각각의 에러틑 하나의 클래스(묶음)으로 만들어져 있고, 그 묶음은 Exception이라는 상위 클래스를 상속받는다.\n",
        "  - Exception이라는 클래스를 상속받는 새 에러 묶음을 만들어서 처리한다."
      ],
      "metadata": {
        "id": "7Tkootc764X2"
      }
    },
    {
      "cell_type": "code",
      "source": [
        "3/-2"
      ],
      "metadata": {
        "colab": {
          "base_uri": "https://localhost:8080/"
        },
        "id": "q_eQYXnQCTWu",
        "outputId": "e40f11ee-d6a0-411f-afa4-ae62444d50ff"
      },
      "execution_count": null,
      "outputs": [
        {
          "output_type": "execute_result",
          "data": {
            "text/plain": [
              "-1.5"
            ]
          },
          "metadata": {},
          "execution_count": 179
        }
      ]
    },
    {
      "cell_type": "code",
      "source": [
        "# 양수로만 값을 받아서 나누고 싶은데 자꾸 음수 넣는 사람이 있어요\n",
        "# 음수일 때는 에러 -> except로 넘겨버리는 거에요\n",
        "\n",
        "# 새로 에러를 만들고 싶을 때는 해당 클래스를 만들어줘야 합니다.\n",
        "class NegativeDivisionError(Exception):\n",
        "    def __init__(self, value):\n",
        "        self.value = value\n",
        "\n",
        "def PositiveDivide(a, b):\n",
        "    if (b<0):\n",
        "        raise NegativeDivisionError(b) # 사용자가 임의로 에러를 만들어서 에러의 클래스까지 따로 만들어서 처리\n",
        "    return a / b\n",
        "\n",
        "try:\n",
        "    ex = PositiveDivide(3,'가')\n",
        "except ZeroDivisionError as e:\n",
        "        print( e, 'ZeroDivisionError' )\n",
        "except NegativeDivisionError as e: # NegativeDivisionError: -11\n",
        "        print( e, 'NegativeDivisionError' )\n",
        "except Exception as e:\n",
        "    print( e, 'Exception' )\n",
        "\n"
      ],
      "metadata": {
        "colab": {
          "base_uri": "https://localhost:8080/"
        },
        "id": "T_BQIOIm5P4n",
        "outputId": "7da42548-f2fa-478e-ad5f-440a0d91d42e"
      },
      "execution_count": null,
      "outputs": [
        {
          "output_type": "stream",
          "name": "stdout",
          "text": [
            "'<' not supported between instances of 'str' and 'int' Exception\n"
          ]
        }
      ]
    },
    {
      "cell_type": "code",
      "source": [
        "NegativeDivisionError.mro()"
      ],
      "metadata": {
        "id": "6hrC48Vw6Dtv",
        "colab": {
          "base_uri": "https://localhost:8080/"
        },
        "outputId": "9c66e306-2d54-4e58-8109-eceed177634c"
      },
      "execution_count": null,
      "outputs": [
        {
          "output_type": "execute_result",
          "data": {
            "text/plain": [
              "[__main__.NegativeDivisionError, Exception, BaseException, object]"
            ]
          },
          "metadata": {},
          "execution_count": 175
        }
      ]
    },
    {
      "cell_type": "markdown",
      "source": [
        "### 시간 측정"
      ],
      "metadata": {
        "id": "6Id9OTsGHJGc"
      }
    },
    {
      "cell_type": "code",
      "source": [
        "%%time\n",
        "\n",
        "li = [1,2,3,4,5]\n",
        "list(filter(lambda x : x > 2, li))\n",
        "# 주피터랩에서 한 코드셀의 실행속도를 측정해주는 모듈"
      ],
      "metadata": {
        "colab": {
          "base_uri": "https://localhost:8080/"
        },
        "id": "Elv6_5GUHOUT",
        "outputId": "6e706966-a6b9-4ee5-97a2-8489e457defc"
      },
      "execution_count": null,
      "outputs": [
        {
          "output_type": "stream",
          "name": "stdout",
          "text": [
            "CPU times: user 62 µs, sys: 6 µs, total: 68 µs\n",
            "Wall time: 73.4 µs\n"
          ]
        },
        {
          "output_type": "execute_result",
          "data": {
            "text/plain": [
              "[3, 4, 5]"
            ]
          },
          "metadata": {},
          "execution_count": 120
        }
      ]
    },
    {
      "cell_type": "code",
      "source": [
        "from tqdm import tqdm  # 진행바를 만들어주는 모듈\n",
        "\n",
        "for i in tqdm(range(1000000)):\n",
        "    pass\n",
        "    # print(i)"
      ],
      "metadata": {
        "id": "zn8s4bK6HK3B",
        "colab": {
          "base_uri": "https://localhost:8080/"
        },
        "outputId": "d0603bff-4d37-4d00-af57-4ecadc00ba4c"
      },
      "execution_count": null,
      "outputs": [
        {
          "output_type": "stream",
          "name": "stderr",
          "text": [
            "100%|██████████| 1000000/1000000 [00:00<00:00, 4116502.11it/s]\n"
          ]
        }
      ]
    },
    {
      "cell_type": "markdown",
      "source": [
        "#  처리되지 않는 예외\n",
        "- 예외라고 다 처리할 수는 없습니다.\n",
        "- 컴파일 에러\n",
        "    - 파이썬은 컴파일이 아니라 인터프리트 과정에서 발생하는 에러가 있고\n",
        "    - REPL Read -> Evaluation 사이에 (번역)할 때 발생하는 에러\n",
        "    - 문법적인 오류는 이 과정에서 발생하기 때문에\n",
        "    - 예외처리가 되지 않습니다.\n",
        "\n",
        "- 런타임 에러\n",
        "    - 프로그램 실행 중(프로세스) 상태에서 발생하는 에러\n",
        "    - 번역은 끝난 상태(문법 ok) 실행하는 도중에 문제가 발생하는 경우\n",
        "    - Evaluation 중에 발생하는 거죠.\n"
      ],
      "metadata": {
        "id": "VjZjKNDv4JAK"
      }
    },
    {
      "cell_type": "code",
      "source": [
        "try:\n",
        "    print('hell)\n",
        "except:\n",
        "    print('에러')"
      ],
      "metadata": {
        "id": "fjy4DPC130ok",
        "colab": {
          "base_uri": "https://localhost:8080/",
          "height": 137
        },
        "outputId": "d60fe4d9-5d17-4640-8151-72e1bfc3a6e2"
      },
      "execution_count": null,
      "outputs": [
        {
          "output_type": "error",
          "ename": "SyntaxError",
          "evalue": "ignored",
          "traceback": [
            "\u001b[0;36m  File \u001b[0;32m\"<ipython-input-127-49ad05ff99f8>\"\u001b[0;36m, line \u001b[0;32m2\u001b[0m\n\u001b[0;31m    print('hell)\u001b[0m\n\u001b[0m          ^\u001b[0m\n\u001b[0;31mSyntaxError\u001b[0m\u001b[0;31m:\u001b[0m unterminated string literal (detected at line 2)\n"
          ]
        }
      ]
    },
    {
      "cell_type": "markdown",
      "source": [
        "\n",
        "# 객체지향 프로그래밍\n",
        "- OOP (Object Oriented Programming)\n",
        "- 언어는 언어이고 OOP는 개발 방법론 중에 하나일 뿐입니다.\n",
        "    - 소프트웨어를 관리하고 개발하는 전체 과정에 대한 얘기\n",
        "    - 객체지향은 개념(기술, 정의)일 분입니다.\n",
        "    - 소프트웨어 공학\n",
        "        - 기획 -> 요구사항분석 -> 설계 -> 개발 -> 배포 -> 유지보수\n",
        "        - 클래스나 객체는 소프트웨어를 기획하고, 만들고, 관리하는 방법일 뿐입니다.\n",
        "\n",
        "\n",
        "        - 파이썬에만 있지 않습니다.\n",
        "        - 파이썬은 완벽한 객체지향 언어도 아닙니다. __ -> 숨어있는것으로 한다 라고 약속했다고\n",
        "\n",
        "<img src=\"https://t1.daumcdn.net/cfile/tistory/993D2F415DFF07E522\">\n",
        "https://t1.daumcdn.net/cfile/tistory/993D2F415DFF07E522\n",
        "\n",
        "\n",
        "TV를 보는 사람\n",
        " - TV - 켜다 / 사람 - 보다 / 소파 -  기대게 해줌\n",
        "\n",
        "TV를 옮기는 사람\n",
        "- TV - 50KG / 사람 - 들다 / 소파 - 필요없음\n",
        "\n",
        "\n",
        "```\n",
        "- TV (객체1)\n",
        "    - 동작(기능) = 메소드, 함수\n",
        "        - 켜다\n",
        "        - 끄다\n",
        "        - 소리를 키우다\n",
        "        - 채널을 돌리다\n",
        "\n",
        "    - 속성 = 데이터\n",
        "        - LED\n",
        "        - 50KG\n",
        "        - 검은색\n",
        "\n",
        "- 사람 (객체2)\n",
        "  - 먹다\n",
        "  - 보다\n",
        "  - 듣다\n",
        "  - 프로그래밍하다\n",
        "  - 성별\n",
        "  - 몸무게 NKG\n",
        "\n",
        "- 소파 (객체3)\n",
        "   - 흰색\n",
        "   - 100KG\n",
        "```\n",
        "\n",
        "\n",
        "# 클래스\n",
        "    - 함수, 변수 등을 미리 만들어놓되 좀더 큰 주제로 묶은 범위\n",
        "    - 사용자가 정의하는 새로운 타입\n",
        "    - int, bool, str, float, list, tuple, range .... -> 파이썬에서 미리 만들어둔 클래스들입니다.\n",
        "    - 이렇게 파이썬이 자체 제공하는 클래스(사람들이 자주 사용하는 클래스) 외에도 사용자가 직접 타입을 지정할 수 있습니다.\n",
        "    -> 새로운 클래스를 만들어서\n",
        "\n",
        "    - 파이썬은 클래스가 아닌 게 없습니다 - 함수도 클래스로 정의되어 있습니다.\n",
        "\n",
        "```\n",
        "class ClassName:\n",
        "    클래스 블록\n",
        "```\n",
        "\n",
        "- 클래스 외에 모든 변수, 함수명은 snake_case를 권장합니다.\n",
        "- 클래스는 첫 글자부터 대문자로 시작해서 띄어쓰기 대신 대문자를 사용하는 CamelCase를 권장합니다.\n",
        "- 안 해도 동작은 하지만 약속입니다.\n",
        "    - 클래스는 함수, 변수를 담는 존재기 때문에 크게 간다\n",
        "    - int, float, list 왜 소문자냐면 잘 알려져 있는 파이썬의 기본 클래스이기 때문에 그냥 소문자로 표현합니다.\n",
        "\n",
        "# 객체\n",
        "\n",
        "- object 또는 instance\n",
        "- 변수의 확장된 형태\n",
        "    - 클래스도 객체로 다뤄지긴 합니다\n",
        "- 클래스는 정의\n",
        "- 객체는 클래스를 통해 만들어진 애들도 객체라고 부릅니다.\n",
        "\n",
        "```\n",
        "__main__.Person              at        0x7fd9a2167e50\n",
        "________________                       _______________\n",
        "객체의 타입(어떤 클래스인지)        객체의 주소\n",
        "```\n",
        "\n",
        "### 비교. 함수와 메소드\n",
        "- 엄격하게 구분해서\n",
        "- 객체 안에 만들어진 함수는 메소드\n",
        "- 근데 파이썬에는 혼용해서 많이 쓰입니다. 걍 '함수'\n",
        "\n",
        "# 객체와 인스턴스\n",
        "\n",
        "- 클래스로 만든 객체를 인스턴스라고 부릅니다.\n",
        "- 우영우 = Person() 이렇게 만든 우영우는 우영우만 따로 불리울 때는 객체 라고 부르고요\n",
        "\n",
        "- 인스턴스는 **클래스와 객체의 관계**를 설명할 때 주로 쓰여요.\n",
        "- 우영우는 Person의 인스턴스라고 부릅니다.\n",
        "\n",
        "- 우영우만 부를 때는 '우영우는 객체' 라고 부르고\n",
        "- Person과의 관계를 부를 때는 '우영우는 Person의 인스턴스'라고 보통 부릅니다.\n",
        "\n",
        "\n",
        "```\n",
        "클래스는 설계도 객체는 설계도로 지은집\n",
        "\n",
        "집과 설계도의 관계를 설명할 때는\n",
        "- 집은 설계도의 인스턴스\n",
        "```"
      ],
      "metadata": {
        "id": "DL46sYZfsbB9"
      }
    },
    {
      "cell_type": "code",
      "source": [
        "class Person:\n"
      ],
      "metadata": {
        "id": "s8RbVD3zalWO"
      },
      "execution_count": null,
      "outputs": []
    },
    {
      "cell_type": "code",
      "source": [
        "a = '김연지'"
      ],
      "metadata": {
        "id": "Jfx73m3OmfZ7"
      },
      "execution_count": null,
      "outputs": []
    },
    {
      "cell_type": "code",
      "source": [
        "type(a) # 사람들이 많이 쓰는 '클래스'를 미리 만들어놓은 것"
      ],
      "metadata": {
        "colab": {
          "base_uri": "https://localhost:8080/"
        },
        "id": "KYUXn_GiaGJ7",
        "outputId": "05d4057c-4ea1-498b-d94e-604bbcd6f219"
      },
      "execution_count": null,
      "outputs": [
        {
          "output_type": "execute_result",
          "data": {
            "text/plain": [
              "str"
            ]
          },
          "metadata": {},
          "execution_count": 130
        }
      ]
    },
    {
      "cell_type": "code",
      "source": [
        "dir(a)"
      ],
      "metadata": {
        "id": "AOWFWGxCwErt",
        "colab": {
          "base_uri": "https://localhost:8080/"
        },
        "outputId": "64b34be3-7ab8-4f92-8cf2-0add5fb65a13"
      },
      "execution_count": null,
      "outputs": [
        {
          "output_type": "execute_result",
          "data": {
            "text/plain": [
              "['__add__',\n",
              " '__class__',\n",
              " '__contains__',\n",
              " '__delattr__',\n",
              " '__dir__',\n",
              " '__doc__',\n",
              " '__eq__',\n",
              " '__format__',\n",
              " '__ge__',\n",
              " '__getattribute__',\n",
              " '__getitem__',\n",
              " '__getnewargs__',\n",
              " '__gt__',\n",
              " '__hash__',\n",
              " '__init__',\n",
              " '__init_subclass__',\n",
              " '__iter__',\n",
              " '__le__',\n",
              " '__len__',\n",
              " '__lt__',\n",
              " '__mod__',\n",
              " '__mul__',\n",
              " '__ne__',\n",
              " '__new__',\n",
              " '__reduce__',\n",
              " '__reduce_ex__',\n",
              " '__repr__',\n",
              " '__rmod__',\n",
              " '__rmul__',\n",
              " '__setattr__',\n",
              " '__sizeof__',\n",
              " '__str__',\n",
              " '__subclasshook__',\n",
              " 'capitalize',\n",
              " 'casefold',\n",
              " 'center',\n",
              " 'count',\n",
              " 'encode',\n",
              " 'endswith',\n",
              " 'expandtabs',\n",
              " 'find',\n",
              " 'format',\n",
              " 'format_map',\n",
              " 'index',\n",
              " 'isalnum',\n",
              " 'isalpha',\n",
              " 'isascii',\n",
              " 'isdecimal',\n",
              " 'isdigit',\n",
              " 'isidentifier',\n",
              " 'islower',\n",
              " 'isnumeric',\n",
              " 'isprintable',\n",
              " 'isspace',\n",
              " 'istitle',\n",
              " 'isupper',\n",
              " 'join',\n",
              " 'ljust',\n",
              " 'lower',\n",
              " 'lstrip',\n",
              " 'maketrans',\n",
              " 'partition',\n",
              " 'removeprefix',\n",
              " 'removesuffix',\n",
              " 'replace',\n",
              " 'rfind',\n",
              " 'rindex',\n",
              " 'rjust',\n",
              " 'rpartition',\n",
              " 'rsplit',\n",
              " 'rstrip',\n",
              " 'split',\n",
              " 'splitlines',\n",
              " 'startswith',\n",
              " 'strip',\n",
              " 'swapcase',\n",
              " 'title',\n",
              " 'translate',\n",
              " 'upper',\n",
              " 'zfill']"
            ]
          },
          "metadata": {},
          "execution_count": 129
        }
      ]
    },
    {
      "cell_type": "code",
      "source": [
        "class Person:\n",
        "    name = '김연지' # 클래스 변수\n",
        "    age = 20\n",
        "\n",
        "    def introduce(): # 클래스 함수\n",
        "        print('안녕하세요!')"
      ],
      "metadata": {
        "id": "HNIi5c-Rz-Lw"
      },
      "execution_count": null,
      "outputs": []
    },
    {
      "cell_type": "code",
      "source": [
        "Person"
      ],
      "metadata": {
        "colab": {
          "base_uri": "https://localhost:8080/"
        },
        "id": "5zJQLSKLb0Vf",
        "outputId": "d55c2959-3085-48cd-ee3e-722a75a02918"
      },
      "execution_count": null,
      "outputs": [
        {
          "output_type": "execute_result",
          "data": {
            "text/plain": [
              "__main__.Person"
            ]
          },
          "metadata": {},
          "execution_count": 8
        }
      ]
    },
    {
      "cell_type": "code",
      "source": [
        "신짱구 = Person()"
      ],
      "metadata": {
        "id": "Ys9zPkG1z_vU"
      },
      "execution_count": null,
      "outputs": []
    },
    {
      "cell_type": "code",
      "source": [
        "신짱구.name"
      ],
      "metadata": {
        "id": "QOQtn7tSyMw2",
        "colab": {
          "base_uri": "https://localhost:8080/",
          "height": 35
        },
        "outputId": "d9ee3625-f454-4b71-bd8e-9d0864479af9"
      },
      "execution_count": null,
      "outputs": [
        {
          "output_type": "execute_result",
          "data": {
            "text/plain": [
              "'김연지'"
            ],
            "application/vnd.google.colaboratory.intrinsic+json": {
              "type": "string"
            }
          },
          "metadata": {},
          "execution_count": 10
        }
      ]
    },
    {
      "cell_type": "code",
      "source": [
        "신짱구.age"
      ],
      "metadata": {
        "id": "88AUvcev0COz",
        "colab": {
          "base_uri": "https://localhost:8080/"
        },
        "outputId": "7ab9ed8a-85c0-4e7c-ec16-ce836f2e04c4"
      },
      "execution_count": null,
      "outputs": [
        {
          "output_type": "execute_result",
          "data": {
            "text/plain": [
              "20"
            ]
          },
          "metadata": {},
          "execution_count": 9
        }
      ]
    },
    {
      "cell_type": "code",
      "source": [
        "신짱구.introduce() # 함수는 가져올 때 무언가가 필요하다!\n",
        "# 클래스 함수는 인스턴스를 통해 불러올 수 없다"
      ],
      "metadata": {
        "colab": {
          "base_uri": "https://localhost:8080/",
          "height": 172
        },
        "id": "L9zVPqoScOi4",
        "outputId": "0796636d-44fa-4b7e-922b-72a85ca83dba"
      },
      "execution_count": null,
      "outputs": [
        {
          "output_type": "error",
          "ename": "TypeError",
          "evalue": "ignored",
          "traceback": [
            "\u001b[0;31m---------------------------------------------------------------------------\u001b[0m",
            "\u001b[0;31mTypeError\u001b[0m                                 Traceback (most recent call last)",
            "\u001b[0;32m<ipython-input-11-84573b036adc>\u001b[0m in \u001b[0;36m<cell line: 1>\u001b[0;34m()\u001b[0m\n\u001b[0;32m----> 1\u001b[0;31m \u001b[0m신짱구\u001b[0m\u001b[0;34m.\u001b[0m\u001b[0mintroduce\u001b[0m\u001b[0;34m(\u001b[0m\u001b[0;34m)\u001b[0m\u001b[0;34m\u001b[0m\u001b[0;34m\u001b[0m\u001b[0m\n\u001b[0m",
            "\u001b[0;31mTypeError\u001b[0m: Person.introduce() takes 0 positional arguments but 1 was given"
          ]
        }
      ]
    },
    {
      "cell_type": "code",
      "source": [
        "type(신짱구)"
      ],
      "metadata": {
        "colab": {
          "base_uri": "https://localhost:8080/"
        },
        "id": "eyTAD3_NcXZ3",
        "outputId": "22e8f70e-4320-49d6-af55-4ac4ca68f89a"
      },
      "execution_count": null,
      "outputs": [
        {
          "output_type": "execute_result",
          "data": {
            "text/plain": [
              "__main__.Person"
            ]
          },
          "metadata": {},
          "execution_count": 12
        }
      ]
    },
    {
      "cell_type": "code",
      "source": [
        "신짱구.name = '신짱구'"
      ],
      "metadata": {
        "id": "GTAHd9b9sWEq"
      },
      "execution_count": null,
      "outputs": []
    },
    {
      "cell_type": "code",
      "source": [
        "신짱구.name"
      ],
      "metadata": {
        "id": "KZhwQDcPxiAU",
        "colab": {
          "base_uri": "https://localhost:8080/",
          "height": 35
        },
        "outputId": "7c555afb-3b6d-4604-dbbe-be0da0e03ed5"
      },
      "execution_count": null,
      "outputs": [
        {
          "output_type": "execute_result",
          "data": {
            "text/plain": [
              "'신짱구'"
            ],
            "application/vnd.google.colaboratory.intrinsic+json": {
              "type": "string"
            }
          },
          "metadata": {},
          "execution_count": 14
        }
      ]
    },
    {
      "cell_type": "code",
      "source": [
        "Person.name"
      ],
      "metadata": {
        "id": "thgU8-7zyK90",
        "colab": {
          "base_uri": "https://localhost:8080/",
          "height": 35
        },
        "outputId": "c6cb5907-0252-447f-f07d-a0019a0adc2b"
      },
      "execution_count": null,
      "outputs": [
        {
          "output_type": "execute_result",
          "data": {
            "text/plain": [
              "'김연지'"
            ],
            "application/vnd.google.colaboratory.intrinsic+json": {
              "type": "string"
            }
          },
          "metadata": {},
          "execution_count": 15
        }
      ]
    },
    {
      "cell_type": "code",
      "source": [
        "id(Person), id(신짱구) # 신짱구는 Person Class를 통해 만들어진 별도의 인스턴스"
      ],
      "metadata": {
        "id": "calj6q6H0hwS",
        "colab": {
          "base_uri": "https://localhost:8080/"
        },
        "outputId": "62fa8414-1707-48c4-e456-e186ed146d79"
      },
      "execution_count": null,
      "outputs": [
        {
          "output_type": "execute_result",
          "data": {
            "text/plain": [
              "(140243097387824, 140242809388240)"
            ]
          },
          "metadata": {},
          "execution_count": 16
        }
      ]
    },
    {
      "cell_type": "code",
      "source": [
        "신짱아 = Person()"
      ],
      "metadata": {
        "id": "ZLuQn1ln0mga"
      },
      "execution_count": null,
      "outputs": []
    },
    {
      "cell_type": "code",
      "source": [
        "신짱아 # 인스턴스(경우) at 0x7f8cd2d5fac0"
      ],
      "metadata": {
        "colab": {
          "base_uri": "https://localhost:8080/"
        },
        "id": "KUdnH9C1e_H-",
        "outputId": "abd219c3-31cd-4135-8ee2-a305e0f80ede"
      },
      "execution_count": null,
      "outputs": [
        {
          "output_type": "execute_result",
          "data": {
            "text/plain": [
              "<__main__.Person at 0x7f8cd2d5fac0>"
            ]
          },
          "metadata": {},
          "execution_count": 18
        }
      ]
    },
    {
      "cell_type": "code",
      "source": [
        "신짱구"
      ],
      "metadata": {
        "colab": {
          "base_uri": "https://localhost:8080/"
        },
        "id": "q4UiKXRwe-4W",
        "outputId": "dfaa7cf7-548b-4632-fe34-d56dd2781e25"
      },
      "execution_count": null,
      "outputs": [
        {
          "output_type": "execute_result",
          "data": {
            "text/plain": [
              "<__main__.Person at 0x7f8cd2d5fcd0>"
            ]
          },
          "metadata": {},
          "execution_count": 19
        }
      ]
    },
    {
      "cell_type": "code",
      "source": [
        "Person"
      ],
      "metadata": {
        "colab": {
          "base_uri": "https://localhost:8080/"
        },
        "id": "TlEx1koUfDz-",
        "outputId": "a2202213-57f6-40d0-860a-27de2ef8e7a9"
      },
      "execution_count": null,
      "outputs": [
        {
          "output_type": "execute_result",
          "data": {
            "text/plain": [
              "__main__.Person"
            ]
          },
          "metadata": {},
          "execution_count": 20
        }
      ]
    },
    {
      "cell_type": "code",
      "source": [
        "신짱아.name = '신짱아'"
      ],
      "metadata": {
        "id": "IgKDe5N8fHN9"
      },
      "execution_count": null,
      "outputs": []
    },
    {
      "cell_type": "code",
      "source": [
        "신짱아.name"
      ],
      "metadata": {
        "colab": {
          "base_uri": "https://localhost:8080/",
          "height": 35
        },
        "id": "dsqTIEwVfUp5",
        "outputId": "2eede4c9-ae62-45e8-c15a-a8bbe1ca6d1c"
      },
      "execution_count": null,
      "outputs": [
        {
          "output_type": "execute_result",
          "data": {
            "text/plain": [
              "'신짱아'"
            ],
            "application/vnd.google.colaboratory.intrinsic+json": {
              "type": "string"
            }
          },
          "metadata": {},
          "execution_count": 22
        }
      ]
    },
    {
      "cell_type": "code",
      "source": [
        "신짱구.name # 인스턴스 변수"
      ],
      "metadata": {
        "colab": {
          "base_uri": "https://localhost:8080/",
          "height": 35
        },
        "id": "A2HbX9-vfVmI",
        "outputId": "e9ebebab-2ad2-4347-c744-c59ba60852d6"
      },
      "execution_count": null,
      "outputs": [
        {
          "output_type": "execute_result",
          "data": {
            "text/plain": [
              "'신짱구'"
            ],
            "application/vnd.google.colaboratory.intrinsic+json": {
              "type": "string"
            }
          },
          "metadata": {},
          "execution_count": 23
        }
      ]
    },
    {
      "cell_type": "code",
      "source": [
        "Person.name # 클래스 변수"
      ],
      "metadata": {
        "colab": {
          "base_uri": "https://localhost:8080/",
          "height": 35
        },
        "id": "4fRHLsyBfW-1",
        "outputId": "3d8329fa-5802-4387-9786-ea1af2ef4cd9"
      },
      "execution_count": null,
      "outputs": [
        {
          "output_type": "execute_result",
          "data": {
            "text/plain": [
              "'김연지'"
            ],
            "application/vnd.google.colaboratory.intrinsic+json": {
              "type": "string"
            }
          },
          "metadata": {},
          "execution_count": 24
        }
      ]
    },
    {
      "cell_type": "code",
      "source": [
        "Person.name = '무명씨'"
      ],
      "metadata": {
        "id": "GMhj6xyJfYNL"
      },
      "execution_count": null,
      "outputs": []
    },
    {
      "cell_type": "code",
      "source": [
        "Person.name"
      ],
      "metadata": {
        "colab": {
          "base_uri": "https://localhost:8080/",
          "height": 35
        },
        "id": "8MZDk-P6foTI",
        "outputId": "de3f8a6d-8828-44bc-aa78-2064b1381439"
      },
      "execution_count": null,
      "outputs": [
        {
          "output_type": "execute_result",
          "data": {
            "text/plain": [
              "'무명씨'"
            ],
            "application/vnd.google.colaboratory.intrinsic+json": {
              "type": "string"
            }
          },
          "metadata": {},
          "execution_count": 26
        }
      ]
    },
    {
      "cell_type": "code",
      "source": [
        "신짱구.name"
      ],
      "metadata": {
        "colab": {
          "base_uri": "https://localhost:8080/",
          "height": 35
        },
        "id": "cZV8vr_UfpVP",
        "outputId": "071798b2-3090-4f55-fc00-3417c6c1f443"
      },
      "execution_count": null,
      "outputs": [
        {
          "output_type": "execute_result",
          "data": {
            "text/plain": [
              "'신짱구'"
            ],
            "application/vnd.google.colaboratory.intrinsic+json": {
              "type": "string"
            }
          },
          "metadata": {},
          "execution_count": 27
        }
      ]
    },
    {
      "cell_type": "code",
      "source": [
        "신짱아.name"
      ],
      "metadata": {
        "colab": {
          "base_uri": "https://localhost:8080/",
          "height": 35
        },
        "id": "T7EegjYkfqZa",
        "outputId": "a6e9b2b8-4fb7-401d-979a-1a443dd654a6"
      },
      "execution_count": null,
      "outputs": [
        {
          "output_type": "execute_result",
          "data": {
            "text/plain": [
              "'신짱아'"
            ],
            "application/vnd.google.colaboratory.intrinsic+json": {
              "type": "string"
            }
          },
          "metadata": {},
          "execution_count": 28
        }
      ]
    },
    {
      "cell_type": "code",
      "source": [
        "신형만 = Person()"
      ],
      "metadata": {
        "id": "jcV0NoVsfsoK"
      },
      "execution_count": null,
      "outputs": []
    },
    {
      "cell_type": "code",
      "source": [
        "신형만.name"
      ],
      "metadata": {
        "colab": {
          "base_uri": "https://localhost:8080/",
          "height": 35
        },
        "id": "RjNZTSNUfvxI",
        "outputId": "8a6963a0-1c2f-4d0a-d634-3fcf00c1f312"
      },
      "execution_count": null,
      "outputs": [
        {
          "output_type": "execute_result",
          "data": {
            "text/plain": [
              "'무명씨'"
            ],
            "application/vnd.google.colaboratory.intrinsic+json": {
              "type": "string"
            }
          },
          "metadata": {},
          "execution_count": 30
        }
      ]
    },
    {
      "cell_type": "code",
      "source": [
        "Person.introduce() # 클래스 함수는 클래스를 통해 불러올 수 있다."
      ],
      "metadata": {
        "id": "yjLQOCHnfxvl"
      },
      "execution_count": null,
      "outputs": []
    },
    {
      "cell_type": "code",
      "source": [
        "class Person:\n",
        "    name = '김연지' # 클래스 변수\n",
        "    age = 20\n",
        "\n",
        "    def introduce(): # 클래스 함수\n",
        "        print('안녕하세요!')\n",
        "\n",
        "    def introduce1(self): # 인스턴스 함수\n",
        "        print('안녕하세요!')"
      ],
      "metadata": {
        "id": "oQMxIpEtkgjw"
      },
      "execution_count": null,
      "outputs": []
    },
    {
      "cell_type": "code",
      "source": [
        "신짱구 = Person()"
      ],
      "metadata": {
        "id": "eEb9AGBrkgg8"
      },
      "execution_count": null,
      "outputs": []
    },
    {
      "cell_type": "code",
      "source": [
        "신짱구.introduce()"
      ],
      "metadata": {
        "colab": {
          "base_uri": "https://localhost:8080/",
          "height": 172
        },
        "id": "gspJcZdLkgeZ",
        "outputId": "9cf080a0-4ea5-480f-f6a2-d5d6042a0f4a"
      },
      "execution_count": null,
      "outputs": [
        {
          "output_type": "error",
          "ename": "TypeError",
          "evalue": "ignored",
          "traceback": [
            "\u001b[0;31m---------------------------------------------------------------------------\u001b[0m",
            "\u001b[0;31mTypeError\u001b[0m                                 Traceback (most recent call last)",
            "\u001b[0;32m<ipython-input-33-84573b036adc>\u001b[0m in \u001b[0;36m<cell line: 1>\u001b[0;34m()\u001b[0m\n\u001b[0;32m----> 1\u001b[0;31m \u001b[0m신짱구\u001b[0m\u001b[0;34m.\u001b[0m\u001b[0mintroduce\u001b[0m\u001b[0;34m(\u001b[0m\u001b[0;34m)\u001b[0m\u001b[0;34m\u001b[0m\u001b[0;34m\u001b[0m\u001b[0m\n\u001b[0m",
            "\u001b[0;31mTypeError\u001b[0m: Person.introduce() takes 0 positional arguments but 1 was given"
          ]
        }
      ]
    },
    {
      "cell_type": "code",
      "source": [
        "신짱구.introduce1()"
      ],
      "metadata": {
        "colab": {
          "base_uri": "https://localhost:8080/"
        },
        "id": "l6X_ss6ykgcE",
        "outputId": "a6be62cc-aa09-4c95-b85e-342c9aeb987a"
      },
      "execution_count": null,
      "outputs": [
        {
          "output_type": "stream",
          "name": "stdout",
          "text": [
            "안녕하세요!\n"
          ]
        }
      ]
    },
    {
      "cell_type": "markdown",
      "source": [
        "# 우리가 지금까지 만들어온 변수들과 a는 같은 원리로 만들어집니다.\n",
        "- 일반적으로 객체 지향 프로그래밍에서는 변수를 하나의 객체로 취급합니다\n",
        "- 변수와 객체는 같은 뜻으로 많이 쓰입니다."
      ],
      "metadata": {
        "id": "4802N7QxyAdd"
      }
    },
    {
      "cell_type": "code",
      "source": [
        "신형만 = Person()"
      ],
      "metadata": {
        "id": "AF5snKN4kgZd"
      },
      "execution_count": null,
      "outputs": []
    },
    {
      "cell_type": "code",
      "source": [
        "신형만"
      ],
      "metadata": {
        "colab": {
          "base_uri": "https://localhost:8080/"
        },
        "id": "fS3cLnvikgUb",
        "outputId": "bcecda6c-73d4-421c-8e14-b140efbf4031"
      },
      "execution_count": null,
      "outputs": [
        {
          "output_type": "execute_result",
          "data": {
            "text/plain": [
              "<__main__.Person at 0x7f8cd2d5f070>"
            ]
          },
          "metadata": {},
          "execution_count": 36
        }
      ]
    },
    {
      "cell_type": "code",
      "source": [
        "신짱구"
      ],
      "metadata": {
        "colab": {
          "base_uri": "https://localhost:8080/"
        },
        "id": "TedFTaN4kgMK",
        "outputId": "86d4669d-886e-4a42-e030-23e05137c88b"
      },
      "execution_count": null,
      "outputs": [
        {
          "output_type": "execute_result",
          "data": {
            "text/plain": [
              "<__main__.Person at 0x7f8cd2d5fa00>"
            ]
          },
          "metadata": {},
          "execution_count": 37
        }
      ]
    },
    {
      "cell_type": "markdown",
      "source": [
        "얕은 복사 vs 깊은 복사\n",
        "- 리스트로 객체고 새로 정의한 Person도 객체이기 때문에\n",
        "- 동작방식은 동일합니다."
      ],
      "metadata": {
        "id": "GUVp-5OQ0tJc"
      }
    },
    {
      "cell_type": "code",
      "source": [
        "신짱아 = 신형만"
      ],
      "metadata": {
        "id": "Ytdkj9HK0osv"
      },
      "execution_count": null,
      "outputs": []
    },
    {
      "cell_type": "code",
      "source": [
        "dir(신짱아)"
      ],
      "metadata": {
        "id": "xOzi7K2802Go",
        "colab": {
          "base_uri": "https://localhost:8080/"
        },
        "outputId": "d011801f-5222-4fed-981d-a9234fa13efb"
      },
      "execution_count": null,
      "outputs": [
        {
          "output_type": "execute_result",
          "data": {
            "text/plain": [
              "['__class__',\n",
              " '__delattr__',\n",
              " '__dict__',\n",
              " '__dir__',\n",
              " '__doc__',\n",
              " '__eq__',\n",
              " '__format__',\n",
              " '__ge__',\n",
              " '__getattribute__',\n",
              " '__gt__',\n",
              " '__hash__',\n",
              " '__init__',\n",
              " '__init_subclass__',\n",
              " '__le__',\n",
              " '__lt__',\n",
              " '__module__',\n",
              " '__ne__',\n",
              " '__new__',\n",
              " '__reduce__',\n",
              " '__reduce_ex__',\n",
              " '__repr__',\n",
              " '__setattr__',\n",
              " '__sizeof__',\n",
              " '__str__',\n",
              " '__subclasshook__',\n",
              " '__weakref__',\n",
              " 'age',\n",
              " 'introduce',\n",
              " 'introduce1',\n",
              " 'name']"
            ]
          },
          "metadata": {},
          "execution_count": 39
        }
      ]
    },
    {
      "cell_type": "code",
      "source": [
        "신짱아 is 신형만"
      ],
      "metadata": {
        "id": "YyJ1v7Gs06NS",
        "colab": {
          "base_uri": "https://localhost:8080/"
        },
        "outputId": "aa9b0dc1-11f0-40f0-9d5c-026178313ce3"
      },
      "execution_count": null,
      "outputs": [
        {
          "output_type": "execute_result",
          "data": {
            "text/plain": [
              "True"
            ]
          },
          "metadata": {},
          "execution_count": 40
        }
      ]
    },
    {
      "cell_type": "code",
      "source": [
        "dir(신형만)"
      ],
      "metadata": {
        "colab": {
          "base_uri": "https://localhost:8080/"
        },
        "id": "yeLUIhy_lmvB",
        "outputId": "3850a476-b980-4bd9-f44e-ea6d0c49b0ca"
      },
      "execution_count": null,
      "outputs": [
        {
          "output_type": "execute_result",
          "data": {
            "text/plain": [
              "['__class__',\n",
              " '__delattr__',\n",
              " '__dict__',\n",
              " '__dir__',\n",
              " '__doc__',\n",
              " '__eq__',\n",
              " '__format__',\n",
              " '__ge__',\n",
              " '__getattribute__',\n",
              " '__gt__',\n",
              " '__hash__',\n",
              " '__init__',\n",
              " '__init_subclass__',\n",
              " '__le__',\n",
              " '__lt__',\n",
              " '__module__',\n",
              " '__ne__',\n",
              " '__new__',\n",
              " '__reduce__',\n",
              " '__reduce_ex__',\n",
              " '__repr__',\n",
              " '__setattr__',\n",
              " '__sizeof__',\n",
              " '__str__',\n",
              " '__subclasshook__',\n",
              " '__weakref__',\n",
              " 'age',\n",
              " 'introduce',\n",
              " 'introduce1',\n",
              " 'name']"
            ]
          },
          "metadata": {},
          "execution_count": 41
        }
      ]
    },
    {
      "cell_type": "code",
      "source": [
        "dir(신짱구)"
      ],
      "metadata": {
        "colab": {
          "base_uri": "https://localhost:8080/"
        },
        "id": "P5b2ezVmlntn",
        "outputId": "da1ffbb3-0388-487d-f150-ce3f0773dde2"
      },
      "execution_count": null,
      "outputs": [
        {
          "output_type": "execute_result",
          "data": {
            "text/plain": [
              "['__class__',\n",
              " '__delattr__',\n",
              " '__dict__',\n",
              " '__dir__',\n",
              " '__doc__',\n",
              " '__eq__',\n",
              " '__format__',\n",
              " '__ge__',\n",
              " '__getattribute__',\n",
              " '__gt__',\n",
              " '__hash__',\n",
              " '__init__',\n",
              " '__init_subclass__',\n",
              " '__le__',\n",
              " '__lt__',\n",
              " '__module__',\n",
              " '__ne__',\n",
              " '__new__',\n",
              " '__reduce__',\n",
              " '__reduce_ex__',\n",
              " '__repr__',\n",
              " '__setattr__',\n",
              " '__sizeof__',\n",
              " '__str__',\n",
              " '__subclasshook__',\n",
              " '__weakref__',\n",
              " 'age',\n",
              " 'introduce',\n",
              " 'introduce1',\n",
              " 'name']"
            ]
          },
          "metadata": {},
          "execution_count": 42
        }
      ]
    },
    {
      "cell_type": "markdown",
      "source": [
        "파이썬에서는 모두 주소 기준으로 구분되기 때문에\n",
        "\n",
        "    - 변수, 함수, 클래스, 객체 모두 다 메모리 주소(위치) 기준으로 구분\n",
        "    - 같아 보이는 객체도 주소가 다르면 다른 객체\n",
        "    - 달라보이는 객체도 주소가 같으면 같은 객체 입니다."
      ],
      "metadata": {
        "id": "lJ0HAwwH1Kic"
      }
    },
    {
      "cell_type": "code",
      "source": [
        "#def 함수명():\n",
        "#    실행문\n",
        "\n",
        "#class 클래스명:\n",
        "#    클래스 변수\n",
        "#    인스턴스 변수\n",
        "#    클래스 함수\n",
        "#    인스턴스 함수\n",
        "\n",
        "# 클래스명()"
      ],
      "metadata": {
        "id": "_KEfFhcdl8Kc"
      },
      "execution_count": null,
      "outputs": []
    },
    {
      "cell_type": "markdown",
      "source": [
        "- 클래스는 함수랑 동일한 개념\n",
        "    - 함수를 정의하고(def 함수명() ) 호출하면 실행 (메모리 생성)\n",
        "    - 클래스를 정의하고 (class 클래스명) 클래스 대한 메모리(객체)를 생성\n",
        "\n",
        "- '호출'하면 객체를 생성할 수 있습니다.\n",
        "- 함수는 실행이 끝나면 메모리를 반환하고 종료 (지역변수가 없어지듯)\n",
        "- 객체는 클래스를 통해 만들고 나면 종료되지 않습니다. 임의로 삭제하기 전에는 계속 남아있습니다.\n",
        "\n",
        "- 메모리에 남아있는 모든 것 : 객체\n",
        "- 파이썬은 모든 것이 객체"
      ],
      "metadata": {
        "id": "XY8sgXeU4hz_"
      }
    },
    {
      "cell_type": "markdown",
      "source": [
        "# 클래스의 구조\n",
        "- 속성과 기능으로 정의될 수 있습니다.\n",
        "    - 클래스 내부에 정의되는 변수 : 클래스의 속성\n",
        "    - 클래스 내부에 정의되는 함수 : 클래스의 기능\n",
        "\n",
        "- 한 클래스에는 여러개의 속성과 기능을 담을 수 있습니다.\n",
        "    - Person\n",
        "        - 사람이 가지고 있는 특성 : 이름, 나이, 국적, 성별, .....\n",
        "        - 사람이 가지고 있는 기능 : 먹다, 마시다, 자다, 깨다, 일하다, 놀다, ....\n",
        "\n",
        "    - 리스트 라는 클래스:\n",
        "        - 속성: 원소.. [ 1. 1. 1....]\n",
        "        - 기능: append, extend, insert, reverse....\n",
        "\n",
        "- 클래스 내에 정의횐 함수 : 메소드\n",
        "    - 표현만 다르고 동작은 똑같습니다.\n",
        "\n",
        "- 클래스 내에 정의된 변수\n",
        "    - 클래스 변수 - 클래스 내에서 정의되는 변수\n",
        "    - 객체 변수 - 객체 내에서 정의되는 변수"
      ],
      "metadata": {
        "id": "sS4HfDJo5J2v"
      }
    },
    {
      "cell_type": "code",
      "source": [
        "class Person:\n",
        "    name = '김연지' # 클래스 변수\n",
        "    age = 20\n",
        "\n",
        "    @classmethod\n",
        "    def introduce(cls): # 클래스 함수\n",
        "        print(f'안녕하세요! {cls.name} 입니다')\n",
        "\n",
        "    def introduce1(self): # 인스턴스 함수\n",
        "                          # 지금 만들어지는 객체의 메모리 주소를 전달하는 명령어\n",
        "        #print(f'안녕하세요!{name} 입니다') # 각 인스턴스의 이름을 같이 출력하려면 어떻게 프로그래밍을 해야 할까요?\n",
        "        # 지역변수로서의 name을 의미한다.\n",
        "        print(f'안녕하세요!{self.name} 입니다')\n"
      ],
      "metadata": {
        "id": "hIzQuwOP5JSc"
      },
      "execution_count": null,
      "outputs": []
    },
    {
      "cell_type": "code",
      "source": [
        "신짱구 = Person()"
      ],
      "metadata": {
        "id": "ieiGjvohouwv"
      },
      "execution_count": null,
      "outputs": []
    },
    {
      "cell_type": "code",
      "source": [
        "신짱구.name = '신짱구'"
      ],
      "metadata": {
        "id": "fDhezpOgo6rw"
      },
      "execution_count": null,
      "outputs": []
    },
    {
      "cell_type": "code",
      "source": [
        "신짱구.introduce1()"
      ],
      "metadata": {
        "id": "_NKbTnaR5Dm4",
        "colab": {
          "base_uri": "https://localhost:8080/"
        },
        "outputId": "fe2cb9be-8260-4ab6-f99e-89572dbb19ae"
      },
      "execution_count": null,
      "outputs": [
        {
          "output_type": "stream",
          "name": "stdout",
          "text": [
            "안녕하세요!신짱구 입니다\n"
          ]
        }
      ]
    },
    {
      "cell_type": "code",
      "source": [
        "Person.introduce1() # 인스턴스 함수를 클래스에서 실행하려고 했더니 self가 없다"
      ],
      "metadata": {
        "colab": {
          "base_uri": "https://localhost:8080/",
          "height": 172
        },
        "id": "np-9Uf2XokGh",
        "outputId": "ad61266e-8fea-484f-9121-25a1776afbd7"
      },
      "execution_count": null,
      "outputs": [
        {
          "output_type": "error",
          "ename": "TypeError",
          "evalue": "ignored",
          "traceback": [
            "\u001b[0;31m---------------------------------------------------------------------------\u001b[0m",
            "\u001b[0;31mTypeError\u001b[0m                                 Traceback (most recent call last)",
            "\u001b[0;32m<ipython-input-113-3068016d3eb0>\u001b[0m in \u001b[0;36m<cell line: 1>\u001b[0;34m()\u001b[0m\n\u001b[0;32m----> 1\u001b[0;31m \u001b[0mPerson\u001b[0m\u001b[0;34m.\u001b[0m\u001b[0mintroduce1\u001b[0m\u001b[0;34m(\u001b[0m\u001b[0;34m)\u001b[0m \u001b[0;31m# 인스턴스 함수를 클래스에서 실행하려고 했더니 self가 없다\u001b[0m\u001b[0;34m\u001b[0m\u001b[0;34m\u001b[0m\u001b[0m\n\u001b[0m",
            "\u001b[0;31mTypeError\u001b[0m: Person.introduce1() missing 1 required positional argument: 'self'"
          ]
        }
      ]
    },
    {
      "cell_type": "code",
      "source": [
        "Person.introduce()"
      ],
      "metadata": {
        "colab": {
          "base_uri": "https://localhost:8080/"
        },
        "id": "6_Anc8n5qO2a",
        "outputId": "c1278dc4-17ad-47e6-c19b-7966afb4d152"
      },
      "execution_count": null,
      "outputs": [
        {
          "output_type": "stream",
          "name": "stdout",
          "text": [
            "안녕하세요! 김연지 입니다\n"
          ]
        }
      ]
    },
    {
      "cell_type": "code",
      "source": [
        "신짱구.introduce() # class의 name 변수를 참조해서 결과를 출력하고 있음"
      ],
      "metadata": {
        "colab": {
          "base_uri": "https://localhost:8080/"
        },
        "id": "cYcCaUc4rUL_",
        "outputId": "2cdc3c37-65ac-4bdc-b618-a4764ec3d10f"
      },
      "execution_count": null,
      "outputs": [
        {
          "output_type": "stream",
          "name": "stdout",
          "text": [
            "안녕하세요! 무명씨 입니다\n"
          ]
        }
      ]
    },
    {
      "cell_type": "code",
      "source": [
        "신짱구.name"
      ],
      "metadata": {
        "colab": {
          "base_uri": "https://localhost:8080/",
          "height": 35
        },
        "id": "yzFVd0IXrXDH",
        "outputId": "cff1a795-91c3-419c-d02f-202d6a11d8ad"
      },
      "execution_count": null,
      "outputs": [
        {
          "output_type": "execute_result",
          "data": {
            "text/plain": [
              "'신짱구'"
            ],
            "application/vnd.google.colaboratory.intrinsic+json": {
              "type": "string"
            }
          },
          "metadata": {},
          "execution_count": 118
        }
      ]
    },
    {
      "cell_type": "code",
      "source": [
        "Person.name = '무명씨'"
      ],
      "metadata": {
        "id": "SA4Qoor6s_OW"
      },
      "execution_count": null,
      "outputs": []
    },
    {
      "cell_type": "markdown",
      "source": [
        "# 객체(인스턴스) 변수\n",
        "    - 객체가 없으면 속성도 넣을 수 없습니다\n",
        "        - 객체가 생성된 후에 넣을 수 있습니다.\n",
        "    - 같은 타입이라고 해도 객체/객체 간에 객체변수를 서로 공유하지 않습니다.\n",
        "\n",
        "    - 객체 고유의 변수\n",
        "    - 함수 고유 메모리 생성되는 변수 - 지역변수이듯\n",
        "    - 객체 고유 메모리에 생성되는 변수 - 객체변수\n"
      ],
      "metadata": {
        "id": "k2hTBbge6q_7"
      }
    },
    {
      "cell_type": "code",
      "source": [
        "신짱아 = Person()"
      ],
      "metadata": {
        "id": "nhyyGn6E58jO"
      },
      "execution_count": null,
      "outputs": []
    },
    {
      "cell_type": "code",
      "source": [
        "type(신짱아)"
      ],
      "metadata": {
        "id": "PFk1Hibs7Rv0",
        "colab": {
          "base_uri": "https://localhost:8080/"
        },
        "outputId": "4af1838b-e7c5-4a58-ffc7-ab6eb70d83e3"
      },
      "execution_count": null,
      "outputs": [
        {
          "output_type": "execute_result",
          "data": {
            "text/plain": [
              "__main__.Person"
            ]
          },
          "metadata": {},
          "execution_count": 123
        }
      ]
    },
    {
      "cell_type": "code",
      "source": [
        "id(신짱구.name) is id(신짱아.name) # False"
      ],
      "metadata": {
        "id": "hox4L6587W38",
        "colab": {
          "base_uri": "https://localhost:8080/"
        },
        "outputId": "8069ba10-6f2d-41c2-be3d-be3115bf06d7"
      },
      "execution_count": null,
      "outputs": [
        {
          "output_type": "execute_result",
          "data": {
            "text/plain": [
              "False"
            ]
          },
          "metadata": {},
          "execution_count": 125
        }
      ]
    },
    {
      "cell_type": "markdown",
      "source": [
        "# 클래스 변수\n",
        "    - 객체와는 무관한 변수\n",
        "        - 객체 없이도 참조 가능한 변수\n",
        "    - 클래스 내부에 정의를 하면 클래스 메소드\n",
        "    - 공유변수\n",
        "        - 모든 객체가 하나의 동일한 클래스 변수를 참조"
      ],
      "metadata": {
        "id": "GZb0SfyI7-Nm"
      }
    },
    {
      "cell_type": "code",
      "source": [
        "Person.name"
      ],
      "metadata": {
        "id": "MZ4X9bLz9CXd",
        "colab": {
          "base_uri": "https://localhost:8080/",
          "height": 35
        },
        "outputId": "ffcffd29-2aa7-448f-c61e-e325b8a90d13"
      },
      "execution_count": null,
      "outputs": [
        {
          "output_type": "execute_result",
          "data": {
            "text/plain": [
              "'무명씨'"
            ],
            "application/vnd.google.colaboratory.intrinsic+json": {
              "type": "string"
            }
          },
          "metadata": {},
          "execution_count": 126
        }
      ]
    },
    {
      "cell_type": "code",
      "source": [
        "Person.nation = '한국'"
      ],
      "metadata": {
        "id": "Gid-tvLN71WQ"
      },
      "execution_count": null,
      "outputs": []
    },
    {
      "cell_type": "code",
      "source": [
        "dir(Person)"
      ],
      "metadata": {
        "id": "il3G7f9g8x5M",
        "colab": {
          "base_uri": "https://localhost:8080/"
        },
        "outputId": "e2fac4ce-3851-4f67-d761-7bec08ff871d"
      },
      "execution_count": null,
      "outputs": [
        {
          "output_type": "execute_result",
          "data": {
            "text/plain": [
              "['__class__',\n",
              " '__delattr__',\n",
              " '__dict__',\n",
              " '__dir__',\n",
              " '__doc__',\n",
              " '__eq__',\n",
              " '__format__',\n",
              " '__ge__',\n",
              " '__getattribute__',\n",
              " '__gt__',\n",
              " '__hash__',\n",
              " '__init__',\n",
              " '__init_subclass__',\n",
              " '__le__',\n",
              " '__lt__',\n",
              " '__module__',\n",
              " '__ne__',\n",
              " '__new__',\n",
              " '__reduce__',\n",
              " '__reduce_ex__',\n",
              " '__repr__',\n",
              " '__setattr__',\n",
              " '__sizeof__',\n",
              " '__str__',\n",
              " '__subclasshook__',\n",
              " '__weakref__',\n",
              " 'age',\n",
              " 'introduce',\n",
              " 'introduce1',\n",
              " 'name',\n",
              " 'nation']"
            ]
          },
          "metadata": {},
          "execution_count": 128
        }
      ]
    },
    {
      "cell_type": "code",
      "source": [
        "신짱구.nation # ?? 클래스 변수를 이미 만들어진 인스턴스를 통해 접근할 수 있구나"
      ],
      "metadata": {
        "id": "6OfRsjE2_Xby",
        "colab": {
          "base_uri": "https://localhost:8080/",
          "height": 35
        },
        "outputId": "dad9ab7b-e7d1-4211-da25-596f437300ab"
      },
      "execution_count": null,
      "outputs": [
        {
          "output_type": "execute_result",
          "data": {
            "text/plain": [
              "'한국'"
            ],
            "application/vnd.google.colaboratory.intrinsic+json": {
              "type": "string"
            }
          },
          "metadata": {},
          "execution_count": 130
        }
      ]
    },
    {
      "cell_type": "code",
      "source": [
        "신짱구.nation = '미국' # 인스턴스를 통해서 클래스 변수에 접근하고 값을 변경"
      ],
      "metadata": {
        "id": "Mkrp4mkI84Bk"
      },
      "execution_count": null,
      "outputs": []
    },
    {
      "cell_type": "code",
      "source": [
        "신짱구.nation"
      ],
      "metadata": {
        "id": "wMg0FnR59IxE",
        "colab": {
          "base_uri": "https://localhost:8080/",
          "height": 35
        },
        "outputId": "bf5dd11b-0d60-4f38-b139-be9eb1709500"
      },
      "execution_count": null,
      "outputs": [
        {
          "output_type": "execute_result",
          "data": {
            "text/plain": [
              "'미국'"
            ],
            "application/vnd.google.colaboratory.intrinsic+json": {
              "type": "string"
            }
          },
          "metadata": {},
          "execution_count": 133
        }
      ]
    },
    {
      "cell_type": "code",
      "source": [
        "Person.nation"
      ],
      "metadata": {
        "id": "EwPeKIM-_h3R",
        "colab": {
          "base_uri": "https://localhost:8080/",
          "height": 35
        },
        "outputId": "8862871b-a277-4314-db9d-f387a815396f"
      },
      "execution_count": null,
      "outputs": [
        {
          "output_type": "execute_result",
          "data": {
            "text/plain": [
              "'한국'"
            ],
            "application/vnd.google.colaboratory.intrinsic+json": {
              "type": "string"
            }
          },
          "metadata": {},
          "execution_count": 134
        }
      ]
    },
    {
      "cell_type": "code",
      "source": [
        "dir(신짱아)"
      ],
      "metadata": {
        "id": "qi75H1Z2_kPx",
        "colab": {
          "base_uri": "https://localhost:8080/"
        },
        "outputId": "d02a65a8-6448-4eab-f2f1-f5fa25c5127c"
      },
      "execution_count": null,
      "outputs": [
        {
          "output_type": "execute_result",
          "data": {
            "text/plain": [
              "['__class__',\n",
              " '__delattr__',\n",
              " '__dict__',\n",
              " '__dir__',\n",
              " '__doc__',\n",
              " '__eq__',\n",
              " '__format__',\n",
              " '__ge__',\n",
              " '__getattribute__',\n",
              " '__gt__',\n",
              " '__hash__',\n",
              " '__init__',\n",
              " '__init_subclass__',\n",
              " '__le__',\n",
              " '__lt__',\n",
              " '__module__',\n",
              " '__ne__',\n",
              " '__new__',\n",
              " '__reduce__',\n",
              " '__reduce_ex__',\n",
              " '__repr__',\n",
              " '__setattr__',\n",
              " '__sizeof__',\n",
              " '__str__',\n",
              " '__subclasshook__',\n",
              " '__weakref__',\n",
              " 'age',\n",
              " 'introduce',\n",
              " 'introduce1',\n",
              " 'name',\n",
              " 'nation']"
            ]
          },
          "metadata": {},
          "execution_count": 135
        }
      ]
    },
    {
      "cell_type": "code",
      "source": [
        "신짱아.nation"
      ],
      "metadata": {
        "id": "-oIVEeiB_moz",
        "colab": {
          "base_uri": "https://localhost:8080/",
          "height": 35
        },
        "outputId": "548c8d41-0070-4a7e-bdb9-678b798f7691"
      },
      "execution_count": null,
      "outputs": [
        {
          "output_type": "execute_result",
          "data": {
            "text/plain": [
              "'한국'"
            ],
            "application/vnd.google.colaboratory.intrinsic+json": {
              "type": "string"
            }
          },
          "metadata": {},
          "execution_count": 136
        }
      ]
    },
    {
      "cell_type": "code",
      "source": [
        "class Person:\n",
        "    name = '김연지' # 클래스 변수\n",
        "    age = 20\n",
        "    nation = '한국'\n",
        "    taste = {'음식':['김치','딸기'], '좋아하는색깔':'빨강'}\n",
        "\n",
        "    @classmethod\n",
        "    def introduce(cls): # 클래스 함수\n",
        "        print(f'안녕하세요! {cls.name}입니다!!')\n",
        "\n",
        "    def introduce1(self): # 인스턴스 함수\n",
        "        print(self)\n",
        "        print(f'안녕하세요! {self.name}입니다')\n",
        "\n",
        "신짱구 = Person()\n",
        "신짱구.name = '신짱구'\n",
        "신짱구.introduce1()"
      ],
      "metadata": {
        "colab": {
          "base_uri": "https://localhost:8080/"
        },
        "id": "7c9NXSu2CfRu",
        "outputId": "bfb6a184-a736-47e1-ceb3-c7fd2beb6516"
      },
      "execution_count": null,
      "outputs": [
        {
          "output_type": "stream",
          "name": "stdout",
          "text": [
            "<__main__.Person object at 0x7f8cf3346fb0>\n",
            "안녕하세요! 신짱구입니다\n"
          ]
        }
      ]
    },
    {
      "cell_type": "code",
      "source": [
        "신짱구.taste"
      ],
      "metadata": {
        "colab": {
          "base_uri": "https://localhost:8080/"
        },
        "id": "nayvOGnvCfPc",
        "outputId": "c6dba665-990e-4fac-e82c-ca27cd471b40"
      },
      "execution_count": null,
      "outputs": [
        {
          "output_type": "execute_result",
          "data": {
            "text/plain": [
              "{'음식': ['김치', '딸기'], '좋아하는색깔': '빨강'}"
            ]
          },
          "metadata": {},
          "execution_count": 138
        }
      ]
    },
    {
      "cell_type": "code",
      "source": [
        "Person.taste"
      ],
      "metadata": {
        "colab": {
          "base_uri": "https://localhost:8080/"
        },
        "id": "AHb8eCG1CfNG",
        "outputId": "24e0720b-609f-4864-be40-5f5eeefddfb2"
      },
      "execution_count": null,
      "outputs": [
        {
          "output_type": "execute_result",
          "data": {
            "text/plain": [
              "{'음식': ['김치', '딸기'], '좋아하는색깔': '빨강'}"
            ]
          },
          "metadata": {},
          "execution_count": 139
        }
      ]
    },
    {
      "cell_type": "code",
      "source": [
        "신짱구.taste['음식'][0] = '파스타'"
      ],
      "metadata": {
        "id": "6JotH5cQCfKd"
      },
      "execution_count": null,
      "outputs": []
    },
    {
      "cell_type": "code",
      "source": [
        "신짱구.taste"
      ],
      "metadata": {
        "colab": {
          "base_uri": "https://localhost:8080/"
        },
        "id": "_iV_Sf9HDFI_",
        "outputId": "51cf3848-a39b-4f0d-99f5-fd9923ec07bf"
      },
      "execution_count": null,
      "outputs": [
        {
          "output_type": "execute_result",
          "data": {
            "text/plain": [
              "{'음식': ['파스타', '딸기'], '좋아하는색깔': '빨강'}"
            ]
          },
          "metadata": {},
          "execution_count": 141
        }
      ]
    },
    {
      "cell_type": "code",
      "source": [
        "Person.taste\n",
        "# '객체지향언어' 를 표방하는 언어들은 클래스 변수는 클래스를 통해서만 접근하도록\n",
        "# 막고 있습니다\n",
        "# 근데 파이썬은 '언어'일 뿐이라는 가치를 표방하기 때문에\n",
        "# 완전히 객체지향을 구현할 수 없게 되어있습니다\n",
        "# 인스턴스를 통해 클래스 변수에 접근해서 값을 변경해버리면\n",
        "# 클래스변수가 바뀝니다\n",
        "# 이미 지어놓은 빌딩의 구조를 바꾼다고 설계도가 바뀌어버린 거에요\n",
        "# 왜? 얕은 복사 때문에\n",
        "\n",
        "# 여러분이 클래스를 사용하실 때 되도록 인스턴스를 통해서는 접근하지 않도록\n",
        "# 암묵적으로 같이 일하는 사람들끼리 규칙을 만들어야 합니다."
      ],
      "metadata": {
        "colab": {
          "base_uri": "https://localhost:8080/"
        },
        "id": "kbomBY5JDFGW",
        "outputId": "18c0c9e2-07c5-4d30-b036-c8914534e9bc"
      },
      "execution_count": null,
      "outputs": [
        {
          "output_type": "execute_result",
          "data": {
            "text/plain": [
              "{'음식': ['파스타', '딸기'], '좋아하는색깔': '빨강'}"
            ]
          },
          "metadata": {},
          "execution_count": 142
        }
      ]
    },
    {
      "cell_type": "markdown",
      "source": [
        "# 파이썬은 객체를 통해서 클래스 변수에 대한 참조가 가능합니다."
      ],
      "metadata": {
        "id": "pjZ9ZGUX9UY1"
      }
    },
    {
      "cell_type": "markdown",
      "source": [
        "a라고 변수명을 지정하지 않았을 뿐 아래 2개 동작을 순차 실행한 것과 같습니다."
      ],
      "metadata": {
        "id": "lBMzMib6GmMA"
      }
    },
    {
      "cell_type": "code",
      "source": [],
      "metadata": {
        "id": "3OtoU8ERDw8V"
      },
      "execution_count": null,
      "outputs": []
    },
    {
      "cell_type": "code",
      "source": [],
      "metadata": {
        "id": "WJJXzmRWE3d9"
      },
      "execution_count": null,
      "outputs": []
    },
    {
      "cell_type": "markdown",
      "source": [
        "그래서 클래스 변수는 그대로"
      ],
      "metadata": {
        "id": "H1VK2dTsGrh9"
      }
    },
    {
      "cell_type": "code",
      "source": [],
      "metadata": {
        "id": "V-Td_RMKD0Mx"
      },
      "execution_count": null,
      "outputs": []
    },
    {
      "cell_type": "markdown",
      "source": [
        "이래서 클래스 변수에 객체 변수를 통해 접근하면 문제가 생깁니다!"
      ],
      "metadata": {
        "id": "01K6mFmfGuqB"
      }
    },
    {
      "cell_type": "markdown",
      "source": [
        "클래스 변수는 클래스를 통해서만 접근하도록 합니다.\n",
        "- 객체를 통해서 클래스 변수를 참조해야 하는 상황은 없죠.\n",
        "- 파이썬이 허용한다고 해도 사용하지 않는 것이 좋습니다.\n",
        "- 클래스 변수는 클래스를 통해 참조하고\n",
        "- 객체 변수는 객체 변수를 통해 참조하도록 프로그래밍 하셔야 합니다."
      ],
      "metadata": {
        "id": "LGzmG_3KAKgF"
      }
    },
    {
      "cell_type": "markdown",
      "source": [
        "# 메소드(방법)\n",
        "- 클래스 안에 넣은 함수\n",
        "- 클래스 내에서 정의된 함수와 구분하기 위해 다르게 부릅니다\n",
        "- 함수로서의 특징은 동일합니다."
      ],
      "metadata": {
        "id": "UIf42m5NAu7s"
      }
    },
    {
      "cell_type": "code",
      "source": [
        "신짱구.introduce1() # 특정 클래스(자료형)에서만 사용 가능한 동작을 만드는 함수"
      ],
      "metadata": {
        "id": "Ra_Pxmto-B1h",
        "colab": {
          "base_uri": "https://localhost:8080/"
        },
        "outputId": "7c3d90c4-98ed-4ab8-bebb-478f7c56bbb1"
      },
      "execution_count": null,
      "outputs": [
        {
          "output_type": "stream",
          "name": "stdout",
          "text": [
            "<__main__.Person object at 0x7f8cf3346fb0>\n",
            "안녕하세요! 신짱구입니다\n"
          ]
        }
      ]
    },
    {
      "cell_type": "code",
      "source": [
        "print('hello') # 동작을 만드는 함수"
      ],
      "metadata": {
        "id": "SQDsqWw_VPjN",
        "colab": {
          "base_uri": "https://localhost:8080/"
        },
        "outputId": "0c5e3485-1464-4942-95cb-27290d1b5b33"
      },
      "execution_count": null,
      "outputs": [
        {
          "output_type": "stream",
          "name": "stdout",
          "text": [
            "hello\n"
          ]
        }
      ]
    },
    {
      "cell_type": "code",
      "source": [
        "sorted([5,2,3,4])"
      ],
      "metadata": {
        "id": "u0lGvXSPVTRO",
        "colab": {
          "base_uri": "https://localhost:8080/"
        },
        "outputId": "53a36096-7e49-4a43-ab22-dd5fbcd332ec"
      },
      "execution_count": null,
      "outputs": [
        {
          "output_type": "execute_result",
          "data": {
            "text/plain": [
              "[2, 3, 4, 5]"
            ]
          },
          "metadata": {},
          "execution_count": 150
        }
      ]
    },
    {
      "cell_type": "code",
      "source": [
        "introduce1()"
      ],
      "metadata": {
        "id": "DNwGxtHtVgGI",
        "colab": {
          "base_uri": "https://localhost:8080/",
          "height": 172
        },
        "outputId": "ecf12c62-c4d8-40c7-ac72-991c432e50d9"
      },
      "execution_count": null,
      "outputs": [
        {
          "output_type": "error",
          "ename": "NameError",
          "evalue": "ignored",
          "traceback": [
            "\u001b[0;31m---------------------------------------------------------------------------\u001b[0m",
            "\u001b[0;31mNameError\u001b[0m                                 Traceback (most recent call last)",
            "\u001b[0;32m<ipython-input-147-4d06d80a7769>\u001b[0m in \u001b[0;36m<cell line: 1>\u001b[0;34m()\u001b[0m\n\u001b[0;32m----> 1\u001b[0;31m \u001b[0mintroduce1\u001b[0m\u001b[0;34m(\u001b[0m\u001b[0;34m)\u001b[0m\u001b[0;34m\u001b[0m\u001b[0;34m\u001b[0m\u001b[0m\n\u001b[0m",
            "\u001b[0;31mNameError\u001b[0m: name 'introduce1' is not defined"
          ]
        }
      ]
    },
    {
      "cell_type": "code",
      "source": [
        "'사과나무'.find('무')"
      ],
      "metadata": {
        "id": "wiQNlJqoBDCU",
        "colab": {
          "base_uri": "https://localhost:8080/"
        },
        "outputId": "63509186-2d39-4706-ffaa-52d028ce960b"
      },
      "execution_count": null,
      "outputs": [
        {
          "output_type": "execute_result",
          "data": {
            "text/plain": [
              "3"
            ]
          },
          "metadata": {},
          "execution_count": 151
        }
      ]
    },
    {
      "cell_type": "code",
      "source": [
        "str.find('사과나무', '무')"
      ],
      "metadata": {
        "id": "uhdPkJFsVmzl",
        "colab": {
          "base_uri": "https://localhost:8080/"
        },
        "outputId": "7a1ba062-e832-47d0-e932-75afaff27590"
      },
      "execution_count": null,
      "outputs": [
        {
          "output_type": "execute_result",
          "data": {
            "text/plain": [
              "3"
            ]
          },
          "metadata": {},
          "execution_count": 152
        }
      ]
    },
    {
      "cell_type": "code",
      "source": [],
      "metadata": {
        "id": "HRjRtgIgWBsK"
      },
      "execution_count": null,
      "outputs": []
    },
    {
      "cell_type": "code",
      "source": [],
      "metadata": {
        "id": "VC4o5rz0WEi4"
      },
      "execution_count": null,
      "outputs": []
    },
    {
      "cell_type": "markdown",
      "source": [
        "# 파이썬의 얕은복사 때문에 생기는 클래스-객체 사이의 접근 혼란을 막기 위해서 사용하는 방법들"
      ],
      "metadata": {
        "id": "BbmCMnXbWQ_U"
      }
    },
    {
      "cell_type": "markdown",
      "source": [
        "# self?\n",
        "- 객체 자기 자신을 의미합니다.- 클래스에서 찍어냈지만 클래스에서 분리된 객체 자기 자신\n",
        "    - 객체 자기 자신?\n",
        "    - 함수가 호출이 되면 함수를 실행 -> 메모리에 생성\n",
        "    - 메소드(클래스 안에 만든 함수)는 어디서 실행될까요?\n",
        "        - 객체가 먼저 만들어져야 메소드를 호출 -> 실행 -> 메모리에 생성\n",
        "        - 객체가 생성되는 시점과 메소드가 호출이 되어 메모리에 만들어지는 시점이 다르게 됩니다.\n",
        "    - 메소드를 호출할 때, 어느 객체가 호출했는지 파악해서\n",
        "    - 파라메터를 통해서 객체를 전달 - self\n",
        "    - 인터프리터가 자동으로 전달합니다.\n",
        "\n",
        "- 메소드는 반드시 첫번째 파라메터로 self 를 정의해줘야 클래스 안에 들어있는 여러 객체들 중 누가 호출당해서 메소드를 실행해야 하는지 파악할 수 있습니다.\n",
        "\n",
        "- 메소드는 self를 통해서 호출한 객체를 구분합니다.\n"
      ],
      "metadata": {
        "id": "hF8hLijEBTFt"
      }
    },
    {
      "cell_type": "code",
      "source": [
        "from os import name\n",
        "class Person:\n",
        "    name = '김연지' # 클래스 변수\n",
        "    age = 20\n",
        "    nation = '한국'\n",
        "    taste = {'음식':['김치','딸기'], '좋아하는색깔':'빨강'}\n",
        "\n",
        "    # 인스턴스 변수 - 클래스에서 만들어지고 나면 인스턴스만의 고유한 값이 되는 변수\n",
        "    def __init__(self, name, age, taste):\n",
        "        self.name = name\n",
        "        self.age = age\n",
        "        self.taste = taste\n",
        "\n",
        "\n",
        "    @classmethod\n",
        "    def introduce(cls): # 클래스 함수\n",
        "        print(f'안녕하세요! {cls.name}입니다!!')\n",
        "\n",
        "    def introduce1(self): # 인스턴스 함수\n",
        "        print(self)\n",
        "        print(f'안녕하세요! {self.name}입니다')"
      ],
      "metadata": {
        "id": "SUKWy51nGx1V"
      },
      "execution_count": null,
      "outputs": []
    },
    {
      "cell_type": "code",
      "source": [
        "신짱구 = Person('신짱구', 30, {'음식':['김치','딸기'], '좋아하는색깔':'빨강'})\n",
        "신짱구.name = '신짱구'\n",
        "신짱구.introduce1()"
      ],
      "metadata": {
        "id": "HUvwNCi9YGhH",
        "colab": {
          "base_uri": "https://localhost:8080/"
        },
        "outputId": "a089423e-ca33-45fb-8957-50a8939d5ab8"
      },
      "execution_count": null,
      "outputs": [
        {
          "output_type": "stream",
          "name": "stdout",
          "text": [
            "<__main__.Person object at 0x7f8cc5ce3d00>\n",
            "안녕하세요! 신짱구입니다\n"
          ]
        }
      ]
    },
    {
      "cell_type": "code",
      "source": [
        "dir(신짱구)"
      ],
      "metadata": {
        "id": "z8vZ5fOsYTug",
        "colab": {
          "base_uri": "https://localhost:8080/"
        },
        "outputId": "fc794765-cd81-4006-b8a8-076cbeeae4ff"
      },
      "execution_count": null,
      "outputs": [
        {
          "output_type": "execute_result",
          "data": {
            "text/plain": [
              "['__class__',\n",
              " '__delattr__',\n",
              " '__dict__',\n",
              " '__dir__',\n",
              " '__doc__',\n",
              " '__eq__',\n",
              " '__format__',\n",
              " '__ge__',\n",
              " '__getattribute__',\n",
              " '__gt__',\n",
              " '__hash__',\n",
              " '__init__',\n",
              " '__init_subclass__',\n",
              " '__le__',\n",
              " '__lt__',\n",
              " '__module__',\n",
              " '__ne__',\n",
              " '__new__',\n",
              " '__reduce__',\n",
              " '__reduce_ex__',\n",
              " '__repr__',\n",
              " '__setattr__',\n",
              " '__sizeof__',\n",
              " '__str__',\n",
              " '__subclasshook__',\n",
              " '__weakref__',\n",
              " 'age',\n",
              " 'introduce',\n",
              " 'introduce1',\n",
              " 'name',\n",
              " 'nation',\n",
              " 'taste']"
            ]
          },
          "metadata": {},
          "execution_count": 159
        }
      ]
    },
    {
      "cell_type": "code",
      "source": [
        "신짱구.age"
      ],
      "metadata": {
        "id": "KYCvR3dsYmLP",
        "colab": {
          "base_uri": "https://localhost:8080/"
        },
        "outputId": "39c25ed8-0907-42a1-acdc-96fdffbc88e1"
      },
      "execution_count": null,
      "outputs": [
        {
          "output_type": "execute_result",
          "data": {
            "text/plain": [
              "30"
            ]
          },
          "metadata": {},
          "execution_count": 160
        }
      ]
    },
    {
      "cell_type": "code",
      "source": [
        "신짱구.taste"
      ],
      "metadata": {
        "id": "g3AVoW2dYVuw",
        "colab": {
          "base_uri": "https://localhost:8080/"
        },
        "outputId": "34472e7c-4108-41ce-885d-21613472213d"
      },
      "execution_count": null,
      "outputs": [
        {
          "output_type": "execute_result",
          "data": {
            "text/plain": [
              "{'음식': ['김치', '딸기'], '좋아하는색깔': '빨강'}"
            ]
          },
          "metadata": {},
          "execution_count": 161
        }
      ]
    },
    {
      "cell_type": "code",
      "source": [
        "Person.taste"
      ],
      "metadata": {
        "id": "tpeYbDAPYh92",
        "colab": {
          "base_uri": "https://localhost:8080/"
        },
        "outputId": "66b8d316-40e5-497e-a5b3-629dba30012f"
      },
      "execution_count": null,
      "outputs": [
        {
          "output_type": "execute_result",
          "data": {
            "text/plain": [
              "{'음식': ['김치', '딸기'], '좋아하는색깔': '빨강'}"
            ]
          },
          "metadata": {},
          "execution_count": 162
        }
      ]
    },
    {
      "cell_type": "code",
      "source": [
        "신짱구.taste['음식'][1] = '포도' # 클래스 변수와 무관한 인스턴스 변수라면"
      ],
      "metadata": {
        "id": "454JnUP2Yjuv"
      },
      "execution_count": null,
      "outputs": []
    },
    {
      "cell_type": "code",
      "source": [
        "신짱구.taste"
      ],
      "metadata": {
        "colab": {
          "base_uri": "https://localhost:8080/"
        },
        "id": "NsRck9tuISmZ",
        "outputId": "125e0598-3670-4d9e-c051-23cb8f5422e1"
      },
      "execution_count": null,
      "outputs": [
        {
          "output_type": "execute_result",
          "data": {
            "text/plain": [
              "{'음식': ['김치', '포도'], '좋아하는색깔': '빨강'}"
            ]
          },
          "metadata": {},
          "execution_count": 164
        }
      ]
    },
    {
      "cell_type": "code",
      "source": [
        "Person.taste"
      ],
      "metadata": {
        "colab": {
          "base_uri": "https://localhost:8080/"
        },
        "id": "1SYYuSD1IVhE",
        "outputId": "4fc3ec5c-8752-46f3-995e-8fd6422a50c7"
      },
      "execution_count": null,
      "outputs": [
        {
          "output_type": "execute_result",
          "data": {
            "text/plain": [
              "{'음식': ['김치', '딸기'], '좋아하는색깔': '빨강'}"
            ]
          },
          "metadata": {},
          "execution_count": 165
        }
      ]
    },
    {
      "cell_type": "code",
      "source": [
        "from os import name\n",
        "class Person:\n",
        "    name = '김연지' # 클래스 변수(모든 인스턴스가 공유)\n",
        "    age = 20\n",
        "    nation = '한국'\n",
        "    taste = {'음식':['김치','딸기'], '좋아하는색깔':'빨강'}\n",
        "\n",
        "    # 인스턴스 변수 - 클래스에서 만들어지고 나면 인스턴스만의 고유한 값이 되는 변수\n",
        "    def __init__(self):\n",
        "        self.name = ''\n",
        "        self.age = ''\n",
        "        self.taste = ''\n",
        "\n",
        "\n",
        "    @classmethod\n",
        "    def introduce(cls): # 클래스 함수\n",
        "        print(f'안녕하세요! {cls.name}입니다!!')\n",
        "\n",
        "    def introduce1(self): # 인스턴스 함수\n",
        "        print(self)\n",
        "        print(f'안녕하세요! {self.name}입니다')"
      ],
      "metadata": {
        "id": "JUtXvq_rIW2D"
      },
      "execution_count": null,
      "outputs": []
    },
    {
      "cell_type": "code",
      "source": [
        "김연지 = Person()"
      ],
      "metadata": {
        "id": "mOaup4WqY-M4"
      },
      "execution_count": null,
      "outputs": []
    },
    {
      "cell_type": "code",
      "source": [
        "김연지.name"
      ],
      "metadata": {
        "id": "DiVDnmCYZvy4",
        "colab": {
          "base_uri": "https://localhost:8080/",
          "height": 35
        },
        "outputId": "99820495-163b-412b-a4fa-14b8d55b16d0"
      },
      "execution_count": null,
      "outputs": [
        {
          "output_type": "execute_result",
          "data": {
            "text/plain": [
              "''"
            ],
            "application/vnd.google.colaboratory.intrinsic+json": {
              "type": "string"
            }
          },
          "metadata": {},
          "execution_count": 168
        }
      ]
    },
    {
      "cell_type": "code",
      "source": [
        "김연지.age"
      ],
      "metadata": {
        "id": "9roZxUylal-R",
        "colab": {
          "base_uri": "https://localhost:8080/",
          "height": 35
        },
        "outputId": "202dac11-32d2-437a-95fa-a97c2c0353a2"
      },
      "execution_count": null,
      "outputs": [
        {
          "output_type": "execute_result",
          "data": {
            "text/plain": [
              "''"
            ],
            "application/vnd.google.colaboratory.intrinsic+json": {
              "type": "string"
            }
          },
          "metadata": {},
          "execution_count": 169
        }
      ]
    },
    {
      "cell_type": "code",
      "source": [
        "김연지.taste"
      ],
      "metadata": {
        "id": "Vv9Lf8cXaoow",
        "colab": {
          "base_uri": "https://localhost:8080/",
          "height": 35
        },
        "outputId": "e8ae418f-6f47-4682-fae7-758f232947e4"
      },
      "execution_count": null,
      "outputs": [
        {
          "output_type": "execute_result",
          "data": {
            "text/plain": [
              "''"
            ],
            "application/vnd.google.colaboratory.intrinsic+json": {
              "type": "string"
            }
          },
          "metadata": {},
          "execution_count": 170
        }
      ]
    },
    {
      "cell_type": "code",
      "source": [
        "Person.nation # 클래스 변수는 클래스를 통해서 접근하는 것을 권장한다."
      ],
      "metadata": {
        "id": "TtcWZVDjayNo",
        "colab": {
          "base_uri": "https://localhost:8080/",
          "height": 35
        },
        "outputId": "a878766e-2ade-4b05-b3f3-8fe7cabd571a"
      },
      "execution_count": null,
      "outputs": [
        {
          "output_type": "execute_result",
          "data": {
            "text/plain": [
              "'한국'"
            ],
            "application/vnd.google.colaboratory.intrinsic+json": {
              "type": "string"
            }
          },
          "metadata": {},
          "execution_count": 173
        }
      ]
    },
    {
      "cell_type": "code",
      "source": [
        "from os import name\n",
        "class Person:\n",
        "    nation = '한국'\n",
        "\n",
        "\n",
        "    # 인스턴스 변수 - 클래스에서 만들어지고 나면 인스턴스만의 고유한 값이 되는 변수\n",
        "    def __init__(self):\n",
        "        self.name = ''\n",
        "        self.age = ''\n",
        "        self.taste = ''\n",
        "        self.nation = Person.nation\n",
        "\n",
        "\n",
        "    @classmethod\n",
        "    def introduce(cls): # 클래스 함수\n",
        "        print(f'안녕하세요! {cls.name}입니다!!')\n",
        "\n",
        "    def introduce1(self): # 인스턴스 함수\n",
        "        print(self)\n",
        "        print(f'안녕하세요! {self.name}입니다')"
      ],
      "metadata": {
        "id": "-M_ZUyZzbENo"
      },
      "execution_count": null,
      "outputs": []
    },
    {
      "cell_type": "code",
      "source": [
        "김연지 = Person()"
      ],
      "metadata": {
        "id": "obbmzHiQbGBo"
      },
      "execution_count": null,
      "outputs": []
    },
    {
      "cell_type": "code",
      "source": [
        "김연지.nation # 클래스 변수 아니고 인스턴스 변수임"
      ],
      "metadata": {
        "colab": {
          "base_uri": "https://localhost:8080/",
          "height": 35
        },
        "id": "YIHGbbDMO4wx",
        "outputId": "adbd9087-da29-45ab-a090-c774314ccd1a"
      },
      "execution_count": null,
      "outputs": [
        {
          "output_type": "execute_result",
          "data": {
            "text/plain": [
              "'한국'"
            ],
            "application/vnd.google.colaboratory.intrinsic+json": {
              "type": "string"
            }
          },
          "metadata": {},
          "execution_count": 179
        }
      ]
    },
    {
      "cell_type": "markdown",
      "source": [
        "같은 표현\n",
        "- 객체.속성 이랑 self.속성은 같은 뜻을 의마합니다. (self = id주소니까요)\n",
        "    - 객체를 통해서 속성(변수)에 대한 참조를 하는 것과\n",
        "    - 메소드 내에서 self로 속성(변수)에 대한 참조를 하는 것은 결국 같습니다."
      ],
      "metadata": {
        "id": "Y7WpzXW8ZRs6"
      }
    },
    {
      "cell_type": "markdown",
      "source": [
        "- self 이외에 파라미터가 필요한 경우라면?\n",
        "- 나머지는 입력값을 전달받습니다."
      ],
      "metadata": {
        "id": "htQRLFghaUbn"
      }
    },
    {
      "cell_type": "markdown",
      "source": [
        "## 실습. Car라는 클래스를 만들어주세요.\n",
        "- 그리고 morning이라는 인스턴스를 하나 만들어주세요\n",
        "- mormning이라는 인스턴스는 '정기검사를 받으셔야 합니다'라는 안내메시지가 출력되는 check라는 메소드를 실행할 수 있습니다."
      ],
      "metadata": {
        "id": "JIz4FGMsbiZf"
      }
    },
    {
      "cell_type": "code",
      "source": [
        "# car_num검사차량(클래스변수) - 인스턴스가 하나 생성될 때마다 1씩 값이 추가될 것\n",
        "\n",
        "# car_name 차종(str), displacement 배기량(int), is_kor 국산차여부(bool), color 희망색깔(1,2,3순위,list)\n",
        "\n",
        "# 인스턴스함수 : '차종'은 정기검사를 받으셔야 합니다!\n"
      ],
      "metadata": {
        "id": "X2s1fr2tbGtp"
      },
      "execution_count": null,
      "outputs": []
    },
    {
      "cell_type": "code",
      "source": [
        "class Car:\n",
        "\n",
        "    car_num = 0\n",
        "\n",
        "    def __init__(self):\n",
        "        self.car_name=''\n",
        "        self.displacement = ''\n",
        "        self.is_kor = ''\n",
        "        self.color = ''\n",
        "        self.num = Car.car_num\n",
        "        Car.car_num += 1\n",
        "\n",
        "    def check(self):\n",
        "        print(f'{self.car_name}은 정기검사를 받으셔야 합니다!')"
      ],
      "metadata": {
        "id": "C6GwAUXwcxPw"
      },
      "execution_count": null,
      "outputs": []
    },
    {
      "cell_type": "code",
      "source": [
        "morning = Car()"
      ],
      "metadata": {
        "id": "kwQBzZBvdnJw"
      },
      "execution_count": null,
      "outputs": []
    },
    {
      "cell_type": "code",
      "source": [
        "morning.car_name = '모닝'\n",
        "morning.displacement = 1000\n",
        "morning.is_kor = True\n",
        "morning.color = ['black', 'blue', 'red']"
      ],
      "metadata": {
        "id": "g7SepWXmd-Tw"
      },
      "execution_count": null,
      "outputs": []
    },
    {
      "cell_type": "code",
      "source": [
        "morning.car_name"
      ],
      "metadata": {
        "colab": {
          "base_uri": "https://localhost:8080/",
          "height": 35
        },
        "id": "K79XcTecUhVk",
        "outputId": "d24dc9d9-a719-4b9e-bd46-3e9569c124ae"
      },
      "execution_count": null,
      "outputs": [
        {
          "output_type": "execute_result",
          "data": {
            "text/plain": [
              "'모닝'"
            ],
            "application/vnd.google.colaboratory.intrinsic+json": {
              "type": "string"
            }
          },
          "metadata": {},
          "execution_count": 231
        }
      ]
    },
    {
      "cell_type": "code",
      "source": [
        "morning.displacement"
      ],
      "metadata": {
        "colab": {
          "base_uri": "https://localhost:8080/"
        },
        "id": "KMdoChkEUhNu",
        "outputId": "30886d6b-9931-45a1-c58d-6938b198f409"
      },
      "execution_count": null,
      "outputs": [
        {
          "output_type": "execute_result",
          "data": {
            "text/plain": [
              "1000"
            ]
          },
          "metadata": {},
          "execution_count": 232
        }
      ]
    },
    {
      "cell_type": "code",
      "source": [
        "morning.is_kor"
      ],
      "metadata": {
        "colab": {
          "base_uri": "https://localhost:8080/"
        },
        "id": "isLDUfHdUhGN",
        "outputId": "77f4d87d-997c-4431-b499-03390968b016"
      },
      "execution_count": null,
      "outputs": [
        {
          "output_type": "execute_result",
          "data": {
            "text/plain": [
              "True"
            ]
          },
          "metadata": {},
          "execution_count": 233
        }
      ]
    },
    {
      "cell_type": "code",
      "source": [
        "morning.color"
      ],
      "metadata": {
        "colab": {
          "base_uri": "https://localhost:8080/"
        },
        "id": "B90PpTZrUlE0",
        "outputId": "06ea4b1d-27ea-4efa-a49b-be54e8df31b8"
      },
      "execution_count": null,
      "outputs": [
        {
          "output_type": "execute_result",
          "data": {
            "text/plain": [
              "['black', 'blue', 'red']"
            ]
          },
          "metadata": {},
          "execution_count": 235
        }
      ]
    },
    {
      "cell_type": "code",
      "source": [
        "morning.check()"
      ],
      "metadata": {
        "id": "DK2k9uYMeCpQ",
        "colab": {
          "base_uri": "https://localhost:8080/"
        },
        "outputId": "3af2300e-4e5a-4a27-fcc8-ea722eae4dfc"
      },
      "execution_count": null,
      "outputs": [
        {
          "output_type": "stream",
          "name": "stdout",
          "text": [
            "모닝은 정기검사를 받으셔야 합니다!\n"
          ]
        }
      ]
    },
    {
      "cell_type": "code",
      "source": [
        "Car.car_num"
      ],
      "metadata": {
        "id": "ynyL4BNQeLl_",
        "colab": {
          "base_uri": "https://localhost:8080/"
        },
        "outputId": "1a0a5564-e685-49b8-d353-10b6d628882c"
      },
      "execution_count": null,
      "outputs": [
        {
          "output_type": "execute_result",
          "data": {
            "text/plain": [
              "1"
            ]
          },
          "metadata": {},
          "execution_count": 230
        }
      ]
    },
    {
      "cell_type": "markdown",
      "source": [
        "## 생성자를 통한 객체변수의 초기화"
      ],
      "metadata": {
        "id": "CehFZ1mCg0kJ"
      }
    },
    {
      "cell_type": "markdown",
      "source": [
        "# 생성자를 통해 매개변수를 정의하고 전달"
      ],
      "metadata": {
        "id": "fuIOMz8sm1DA"
      }
    },
    {
      "cell_type": "code",
      "source": [
        "class Car:\n",
        "\n",
        "    car_num = 0\n",
        "\n",
        "    def __init__(self, car_name, displacement, is_kor, color):\n",
        "        self.car_name= car_name\n",
        "        self.displacement = displacement\n",
        "        self.is_kor = is_kor\n",
        "        self.color = color\n",
        "        self.num = Car.car_num\n",
        "        Car.car_num += 1\n",
        "\n",
        "    def check(self):\n",
        "        print(f'{self.car_name}은 정기검사를 받으셔야 합니다!')"
      ],
      "metadata": {
        "id": "O1xPZmi6U8La"
      },
      "execution_count": null,
      "outputs": []
    },
    {
      "cell_type": "code",
      "source": [
        "morning = Car('모닝', 3000, True, ['빨', '파', '노'])"
      ],
      "metadata": {
        "id": "VCbjUUoSU8HV"
      },
      "execution_count": null,
      "outputs": []
    },
    {
      "cell_type": "code",
      "source": [
        "morning.check()"
      ],
      "metadata": {
        "colab": {
          "base_uri": "https://localhost:8080/"
        },
        "id": "pzk6gQHBU8Df",
        "outputId": "0204102f-b1b5-4398-bf17-1c1b531d521f"
      },
      "execution_count": null,
      "outputs": [
        {
          "output_type": "stream",
          "name": "stdout",
          "text": [
            "모닝은 정기검사를 받으셔야 합니다!\n"
          ]
        }
      ]
    },
    {
      "cell_type": "code",
      "source": [
        "morning.car_name"
      ],
      "metadata": {
        "colab": {
          "base_uri": "https://localhost:8080/",
          "height": 35
        },
        "id": "ZcOmuimsU8A6",
        "outputId": "50bb2fe5-4859-414a-da0c-00c7a568f384"
      },
      "execution_count": null,
      "outputs": [
        {
          "output_type": "execute_result",
          "data": {
            "text/plain": [
              "'모닝'"
            ],
            "application/vnd.google.colaboratory.intrinsic+json": {
              "type": "string"
            }
          },
          "metadata": {},
          "execution_count": 240
        }
      ]
    },
    {
      "cell_type": "code",
      "source": [
        "morning.displacement"
      ],
      "metadata": {
        "colab": {
          "base_uri": "https://localhost:8080/"
        },
        "id": "0zYD-aP1U7-j",
        "outputId": "9c2db32f-6c21-43d0-be52-5b8cd15198cb"
      },
      "execution_count": null,
      "outputs": [
        {
          "output_type": "execute_result",
          "data": {
            "text/plain": [
              "3000"
            ]
          },
          "metadata": {},
          "execution_count": 241
        }
      ]
    },
    {
      "cell_type": "code",
      "source": [
        "morning.is_kor"
      ],
      "metadata": {
        "colab": {
          "base_uri": "https://localhost:8080/"
        },
        "id": "zto8B3X-U76E",
        "outputId": "d7e58a46-b216-44e4-8cf9-5c6a121cb7ea"
      },
      "execution_count": null,
      "outputs": [
        {
          "output_type": "execute_result",
          "data": {
            "text/plain": [
              "True"
            ]
          },
          "metadata": {},
          "execution_count": 243
        }
      ]
    },
    {
      "cell_type": "code",
      "source": [
        "morning.color"
      ],
      "metadata": {
        "colab": {
          "base_uri": "https://localhost:8080/"
        },
        "id": "vArTBH-MU74B",
        "outputId": "2147bc6c-6a1b-4454-f70f-8fab533ccd2b"
      },
      "execution_count": null,
      "outputs": [
        {
          "output_type": "execute_result",
          "data": {
            "text/plain": [
              "['빨', '파', '노']"
            ]
          },
          "metadata": {},
          "execution_count": 244
        }
      ]
    },
    {
      "cell_type": "code",
      "source": [
        "volvo = Car('볼보', 6000, False, ['검', '녹', '빨'])"
      ],
      "metadata": {
        "id": "fhPlYYH3V0RB"
      },
      "execution_count": null,
      "outputs": []
    },
    {
      "cell_type": "code",
      "source": [
        "volvo.num"
      ],
      "metadata": {
        "colab": {
          "base_uri": "https://localhost:8080/"
        },
        "id": "bOj5X8iMV0q1",
        "outputId": "1628acdc-fe9d-42b1-9be7-e544bd4041a9"
      },
      "execution_count": null,
      "outputs": [
        {
          "output_type": "execute_result",
          "data": {
            "text/plain": [
              "1"
            ]
          },
          "metadata": {},
          "execution_count": 246
        }
      ]
    },
    {
      "cell_type": "code",
      "source": [
        "class Car:\n",
        "\n",
        "    car_num = 0\n",
        "\n",
        "    def __init__(self, car_name, displacement, is_kor, color):\n",
        "        if isinstance(car_name, str):\n",
        "            self.car_name= car_name\n",
        "            self.displacement = displacement\n",
        "            self.is_kor = is_kor\n",
        "            self.color = color\n",
        "            self.num = Car.car_num\n",
        "            Car.car_num += 1\n",
        "        else:\n",
        "            print('차종이 str이 아닌 다른 자료형으로 입력됐습니다.')\n",
        "\n",
        "\n",
        "\n",
        "    def check(self):\n",
        "        print(f'{self.car_name}은 정기검사를 받으셔야 합니다!')"
      ],
      "metadata": {
        "id": "3lCS8n6_WUW5"
      },
      "execution_count": null,
      "outputs": []
    },
    {
      "cell_type": "code",
      "source": [
        "morning = Car(['모닝'], 3000, True, ['빨', '파',' 검'])"
      ],
      "metadata": {
        "colab": {
          "base_uri": "https://localhost:8080/"
        },
        "id": "eXkpOd_MWUUM",
        "outputId": "6b4a7996-b090-4fad-e91f-1a316ff564e3"
      },
      "execution_count": null,
      "outputs": [
        {
          "output_type": "stream",
          "name": "stdout",
          "text": [
            "차종이 str이 아닌 다른 자료형으로 입력됐습니다.\n"
          ]
        }
      ]
    },
    {
      "cell_type": "markdown",
      "source": [
        "- 본인의 드림카를 인스턴스 명으로 하여 여러 속성을 출력해주세요"
      ],
      "metadata": {
        "id": "2jMUDUxeFt2Y"
      }
    },
    {
      "cell_type": "code",
      "source": [
        "# Car 라는 클래스를 만듭니다\n",
        "# 여러분이 가지고 싶은 차의 이름, 색깔, 회사, 배기량 등을 입력받아서\n",
        "# 해당 차의 정보를 출력해보세요\n",
        "# start() '출발합니다.'\n",
        "# end() '~~차가 운행을 종료합니다.'"
      ],
      "metadata": {
        "id": "LCSLfFmnWyje"
      },
      "execution_count": null,
      "outputs": []
    },
    {
      "cell_type": "code",
      "source": [
        "class Car:\n",
        "\n",
        "    def __init__(self, car_name, color, company, displacement):\n",
        "        self.car_name = car_name\n",
        "        self.color = color\n",
        "        self.company = company\n",
        "        self.displacement = displacement\n",
        "\n",
        "    def start(self):\n",
        "        print('출발합니다.')\n",
        "\n",
        "    def end(self):\n",
        "        print(f'{self.car_name}차가 운행을 종료합니다.')\n"
      ],
      "metadata": {
        "id": "-yp9xZeoWyhR"
      },
      "execution_count": null,
      "outputs": []
    },
    {
      "cell_type": "code",
      "source": [
        "want_car = Car('s클래스', '검정', '벤츠', 3000)\n",
        "want_car.car_name, want_car.color, want_car.company, want_car.displacement"
      ],
      "metadata": {
        "colab": {
          "base_uri": "https://localhost:8080/"
        },
        "id": "piCtPfoDWyYJ",
        "outputId": "3f888f68-1687-4571-95b7-b1c3be025f34"
      },
      "execution_count": null,
      "outputs": [
        {
          "output_type": "execute_result",
          "data": {
            "text/plain": [
              "('s클래스', '검정', '벤츠', 3000)"
            ]
          },
          "metadata": {},
          "execution_count": 263
        }
      ]
    },
    {
      "cell_type": "code",
      "source": [
        "want_car.start()\n",
        "want_car.end()"
      ],
      "metadata": {
        "colab": {
          "base_uri": "https://localhost:8080/"
        },
        "id": "zF1J9DnHYCKE",
        "outputId": "3bffad95-34ce-4f67-b56b-8aeba4ac6504"
      },
      "execution_count": null,
      "outputs": [
        {
          "output_type": "stream",
          "name": "stdout",
          "text": [
            "출발합니다.\n",
            "s클래스차가 운행을 종료합니다.\n"
          ]
        }
      ]
    },
    {
      "cell_type": "markdown",
      "source": [
        "# 특별한 메소드들\n",
        "- 매직 메소드\n",
        "    - 특별한 의미를 가지고 있는 미리 정의된 메소드들이 있습니다.\n",
        "    - 메소드 이름 앞뒤에 __(더블언더바, 던더, 더블언더스코어)가 붙어있는 메소드\n",
        "    - 던더 메소드"
      ],
      "metadata": {
        "id": "TpR6HC_leY1D"
      }
    },
    {
      "cell_type": "code",
      "source": [
        "1 + 1"
      ],
      "metadata": {
        "id": "X2U-dnkueQTf",
        "colab": {
          "base_uri": "https://localhost:8080/"
        },
        "outputId": "f187d69f-73f7-46b2-a868-f3d40cb15004"
      },
      "execution_count": null,
      "outputs": [
        {
          "output_type": "execute_result",
          "data": {
            "text/plain": [
              "2"
            ]
          },
          "metadata": {},
          "execution_count": 266
        }
      ]
    },
    {
      "cell_type": "code",
      "source": [
        "want_car + want_car # TypeError: unsupported operand type(s) for +: 'Car' and 'Car'"
      ],
      "metadata": {
        "id": "QXsLW0tZe3xJ",
        "colab": {
          "base_uri": "https://localhost:8080/",
          "height": 172
        },
        "outputId": "d7d2585c-5089-48a1-99f4-9bc238e9c5a9"
      },
      "execution_count": null,
      "outputs": [
        {
          "output_type": "error",
          "ename": "TypeError",
          "evalue": "ignored",
          "traceback": [
            "\u001b[0;31m---------------------------------------------------------------------------\u001b[0m",
            "\u001b[0;31mTypeError\u001b[0m                                 Traceback (most recent call last)",
            "\u001b[0;32m<ipython-input-268-14c51a5ef6b2>\u001b[0m in \u001b[0;36m<cell line: 1>\u001b[0;34m()\u001b[0m\n\u001b[0;32m----> 1\u001b[0;31m \u001b[0mwant_car\u001b[0m \u001b[0;34m+\u001b[0m \u001b[0mwant_car\u001b[0m\u001b[0;34m\u001b[0m\u001b[0;34m\u001b[0m\u001b[0m\n\u001b[0m",
            "\u001b[0;31mTypeError\u001b[0m: unsupported operand type(s) for +: 'Car' and 'Car'"
          ]
        }
      ]
    },
    {
      "cell_type": "code",
      "source": [
        "str1 = '가나다'"
      ],
      "metadata": {
        "id": "NT-tHvhye58H"
      },
      "execution_count": null,
      "outputs": []
    },
    {
      "cell_type": "code",
      "source": [
        "dir(str1)"
      ],
      "metadata": {
        "colab": {
          "base_uri": "https://localhost:8080/"
        },
        "id": "PRbCqYBDgWE8",
        "outputId": "8b7e0ef5-117e-41c5-8a98-4b053b13856c"
      },
      "execution_count": null,
      "outputs": [
        {
          "output_type": "execute_result",
          "data": {
            "text/plain": [
              "['__add__',\n",
              " '__class__',\n",
              " '__contains__',\n",
              " '__delattr__',\n",
              " '__dir__',\n",
              " '__doc__',\n",
              " '__eq__',\n",
              " '__format__',\n",
              " '__ge__',\n",
              " '__getattribute__',\n",
              " '__getitem__',\n",
              " '__getnewargs__',\n",
              " '__gt__',\n",
              " '__hash__',\n",
              " '__init__',\n",
              " '__init_subclass__',\n",
              " '__iter__',\n",
              " '__le__',\n",
              " '__len__',\n",
              " '__lt__',\n",
              " '__mod__',\n",
              " '__mul__',\n",
              " '__ne__',\n",
              " '__new__',\n",
              " '__reduce__',\n",
              " '__reduce_ex__',\n",
              " '__repr__',\n",
              " '__rmod__',\n",
              " '__rmul__',\n",
              " '__setattr__',\n",
              " '__sizeof__',\n",
              " '__str__',\n",
              " '__subclasshook__',\n",
              " 'capitalize',\n",
              " 'casefold',\n",
              " 'center',\n",
              " 'count',\n",
              " 'encode',\n",
              " 'endswith',\n",
              " 'expandtabs',\n",
              " 'find',\n",
              " 'format',\n",
              " 'format_map',\n",
              " 'index',\n",
              " 'isalnum',\n",
              " 'isalpha',\n",
              " 'isascii',\n",
              " 'isdecimal',\n",
              " 'isdigit',\n",
              " 'isidentifier',\n",
              " 'islower',\n",
              " 'isnumeric',\n",
              " 'isprintable',\n",
              " 'isspace',\n",
              " 'istitle',\n",
              " 'isupper',\n",
              " 'join',\n",
              " 'ljust',\n",
              " 'lower',\n",
              " 'lstrip',\n",
              " 'maketrans',\n",
              " 'partition',\n",
              " 'removeprefix',\n",
              " 'removesuffix',\n",
              " 'replace',\n",
              " 'rfind',\n",
              " 'rindex',\n",
              " 'rjust',\n",
              " 'rpartition',\n",
              " 'rsplit',\n",
              " 'rstrip',\n",
              " 'split',\n",
              " 'splitlines',\n",
              " 'startswith',\n",
              " 'strip',\n",
              " 'swapcase',\n",
              " 'title',\n",
              " 'translate',\n",
              " 'upper',\n",
              " 'zfill']"
            ]
          },
          "metadata": {},
          "execution_count": 272
        }
      ]
    },
    {
      "cell_type": "code",
      "source": [
        "dir(want_car)"
      ],
      "metadata": {
        "colab": {
          "base_uri": "https://localhost:8080/"
        },
        "id": "DeHQhDQtgYYc",
        "outputId": "0b4f0fe8-ce3a-4dad-8f7f-78c16387fa8d"
      },
      "execution_count": null,
      "outputs": [
        {
          "output_type": "execute_result",
          "data": {
            "text/plain": [
              "['__class__',\n",
              " '__delattr__',\n",
              " '__dict__',\n",
              " '__dir__',\n",
              " '__doc__',\n",
              " '__eq__',\n",
              " '__format__',\n",
              " '__ge__',\n",
              " '__getattribute__',\n",
              " '__gt__',\n",
              " '__hash__',\n",
              " '__init__',\n",
              " '__init_subclass__',\n",
              " '__le__',\n",
              " '__lt__',\n",
              " '__module__',\n",
              " '__ne__',\n",
              " '__new__',\n",
              " '__reduce__',\n",
              " '__reduce_ex__',\n",
              " '__repr__',\n",
              " '__setattr__',\n",
              " '__sizeof__',\n",
              " '__str__',\n",
              " '__subclasshook__',\n",
              " '__weakref__',\n",
              " 'car_name',\n",
              " 'color',\n",
              " 'company',\n",
              " 'displacement',\n",
              " 'end',\n",
              " 'start']"
            ]
          },
          "metadata": {},
          "execution_count": 273
        }
      ]
    },
    {
      "cell_type": "markdown",
      "source": [
        "# 생성자\n",
        "- Constructor  : `__init__`\n",
        "- 객체가 생성될 때, 인터프리터에 의해서 자동으로 호출되는 메소드\n",
        "\n",
        "- 객체변수의 초기화\n",
        "    - 객체가 생성될 때 모든 만들어질 객체가 기본으로 이정도는 동일한 속성으로 가지고 가게 하고 싶다면\n",
        "        - Person 타입의 객체들은 모두 name이라는 속성을 가져야 합니다.\n",
        "        - 객체변수는 미리 정의할 수는 없어요\n",
        "        - 객체를 만들면서 정의를 해야 합니다\n",
        "        - 생성자는 언제 실행되냐?\n",
        "            - 객체가 실행될 때\n",
        "            - 생성자가 실행된다는 것 객체가 갓 만들어졌다 라는 것을 의미합니다.\n",
        "            - 생성자를 통해 객체변수에 초기화할 수 있다"
      ],
      "metadata": {
        "id": "UB0TRBwkfGZO"
      }
    },
    {
      "cell_type": "code",
      "source": [
        "class Car:\n",
        "\n",
        "    def __init__(self, car_name, color, company, displacement):\n",
        "        self.car_name = car_name\n",
        "        self.color = color\n",
        "        self.company = company\n",
        "        self.displacement = displacement\n",
        "\n",
        "    def __add__(self, other):\n",
        "        print(self.car_name + other.car_name)\n",
        "        print(self.displacement * other.displacement)\n",
        "\n",
        "    def start(self):\n",
        "        print('출발합니다.')\n",
        "\n",
        "    def end(self):\n",
        "        print(f'{self.car_name}차가 운행을 종료합니다.')\n"
      ],
      "metadata": {
        "id": "ECE35C4Oe-SQ"
      },
      "execution_count": null,
      "outputs": []
    },
    {
      "cell_type": "code",
      "source": [
        "모닝 = Car(displacement=300, company='기아', color='파랑', car_name='모닝')"
      ],
      "metadata": {
        "id": "FMdMc6aegR7K"
      },
      "execution_count": null,
      "outputs": []
    },
    {
      "cell_type": "code",
      "source": [
        "소나타 = Car(displacement=3000, company='기아', color='파랑', car_name='소나타')"
      ],
      "metadata": {
        "id": "SsMzpwgBgqEB"
      },
      "execution_count": null,
      "outputs": []
    },
    {
      "cell_type": "code",
      "source": [
        "모닝 + 소나타"
      ],
      "metadata": {
        "id": "mBk0iJhQgULY",
        "colab": {
          "base_uri": "https://localhost:8080/"
        },
        "outputId": "8cd6750b-cff3-4f12-b685-829aa363920e"
      },
      "execution_count": null,
      "outputs": [
        {
          "output_type": "stream",
          "name": "stdout",
          "text": [
            "모닝소나타\n",
            "900000\n"
          ]
        }
      ]
    },
    {
      "cell_type": "code",
      "source": [
        "dir('1') # __eq__ : ==, __ge__ : >=, __gt__: >, __le__: <=, __lt__: <\n",
        "# __str__: 해당 인스턴스를 호출했을 때 어떤 문자열을 출력할 것인지를 정하는 던더메소드"
      ],
      "metadata": {
        "id": "IR3dppDega2Z",
        "colab": {
          "base_uri": "https://localhost:8080/"
        },
        "outputId": "1761f498-8ff8-446d-c043-fd5d28f3a384"
      },
      "execution_count": null,
      "outputs": [
        {
          "output_type": "execute_result",
          "data": {
            "text/plain": [
              "['__add__',\n",
              " '__class__',\n",
              " '__contains__',\n",
              " '__delattr__',\n",
              " '__dir__',\n",
              " '__doc__',\n",
              " '__eq__',\n",
              " '__format__',\n",
              " '__ge__',\n",
              " '__getattribute__',\n",
              " '__getitem__',\n",
              " '__getnewargs__',\n",
              " '__gt__',\n",
              " '__hash__',\n",
              " '__init__',\n",
              " '__init_subclass__',\n",
              " '__iter__',\n",
              " '__le__',\n",
              " '__len__',\n",
              " '__lt__',\n",
              " '__mod__',\n",
              " '__mul__',\n",
              " '__ne__',\n",
              " '__new__',\n",
              " '__reduce__',\n",
              " '__reduce_ex__',\n",
              " '__repr__',\n",
              " '__rmod__',\n",
              " '__rmul__',\n",
              " '__setattr__',\n",
              " '__sizeof__',\n",
              " '__str__',\n",
              " '__subclasshook__',\n",
              " 'capitalize',\n",
              " 'casefold',\n",
              " 'center',\n",
              " 'count',\n",
              " 'encode',\n",
              " 'endswith',\n",
              " 'expandtabs',\n",
              " 'find',\n",
              " 'format',\n",
              " 'format_map',\n",
              " 'index',\n",
              " 'isalnum',\n",
              " 'isalpha',\n",
              " 'isascii',\n",
              " 'isdecimal',\n",
              " 'isdigit',\n",
              " 'isidentifier',\n",
              " 'islower',\n",
              " 'isnumeric',\n",
              " 'isprintable',\n",
              " 'isspace',\n",
              " 'istitle',\n",
              " 'isupper',\n",
              " 'join',\n",
              " 'ljust',\n",
              " 'lower',\n",
              " 'lstrip',\n",
              " 'maketrans',\n",
              " 'partition',\n",
              " 'removeprefix',\n",
              " 'removesuffix',\n",
              " 'replace',\n",
              " 'rfind',\n",
              " 'rindex',\n",
              " 'rjust',\n",
              " 'rpartition',\n",
              " 'rsplit',\n",
              " 'rstrip',\n",
              " 'split',\n",
              " 'splitlines',\n",
              " 'startswith',\n",
              " 'strip',\n",
              " 'swapcase',\n",
              " 'title',\n",
              " 'translate',\n",
              " 'upper',\n",
              " 'zfill']"
            ]
          },
          "metadata": {},
          "execution_count": 284
        }
      ]
    },
    {
      "cell_type": "markdown",
      "source": [
        "# 연산자"
      ],
      "metadata": {
        "id": "vkZWOI0hpAEL"
      }
    },
    {
      "cell_type": "code",
      "source": [
        "#Car는\n",
        "#> 기호를 통해 배기량이 어느 차가 더 큰지를 비교할 수 있습니다.\n",
        "#소나타 > 모닝\n",
        "#소나타가 결과로 나오도록"
      ],
      "metadata": {
        "id": "mNOew7efgdbY"
      },
      "execution_count": null,
      "outputs": []
    },
    {
      "cell_type": "code",
      "source": [
        "class Car:\n",
        "\n",
        "    def __init__(self, car_name, color, company, displacement):\n",
        "        self.car_name = car_name\n",
        "        self.color = color\n",
        "        self.company = company\n",
        "        self.displacement = displacement\n",
        "\n",
        "    def __add__(self, other):\n",
        "        print(self.car_name + other.car_name)\n",
        "        print(self.displacement * other.displacement)\n",
        "\n",
        "    def start(self):\n",
        "        print('출발합니다.')\n",
        "\n",
        "    def end(self):\n",
        "        print(f'{self.car_name}차가 운행을 종료합니다.')\n",
        "\n",
        "    def __gt__(self, other):\n",
        "\n",
        "        if self.displacement > other.displacement:\n",
        "            print(self.car_name)\n",
        "        else:\n",
        "            print(self.other.car_name)"
      ],
      "metadata": {
        "id": "1zFbjzd8hAAp"
      },
      "execution_count": null,
      "outputs": []
    },
    {
      "cell_type": "code",
      "source": [
        "모닝 = Car(displacement=300, company='기아', color='파랑', car_name='모닝')"
      ],
      "metadata": {
        "id": "xnExxoe7hCQQ"
      },
      "execution_count": null,
      "outputs": []
    },
    {
      "cell_type": "code",
      "source": [
        "소나타 = Car(displacement=3000, company='기아', color='파랑', car_name='소나타')"
      ],
      "metadata": {
        "id": "NjdvXJtFhVIh"
      },
      "execution_count": null,
      "outputs": []
    },
    {
      "cell_type": "code",
      "source": [
        "소나타 > 모닝"
      ],
      "metadata": {
        "id": "il2vitYzhYfi",
        "colab": {
          "base_uri": "https://localhost:8080/"
        },
        "outputId": "dbac61e9-1b05-4264-957f-9259ed55fc5a"
      },
      "execution_count": null,
      "outputs": [
        {
          "output_type": "stream",
          "name": "stdout",
          "text": [
            "소나타\n"
          ]
        }
      ]
    },
    {
      "cell_type": "markdown",
      "source": [
        "# 함수\n",
        "- 파이썬에서는 함수도 객체다\n",
        "    - function 클래스로 만들어진 객체\n",
        "    - function () 붙여서 호출하게 되어있는데\n",
        "    - 이것도 매직메소드의 하나입니다."
      ],
      "metadata": {
        "id": "L0pdHC-YvVA5"
      }
    },
    {
      "cell_type": "code",
      "source": [
        "class Function:\n",
        "    pass"
      ],
      "metadata": {
        "id": "BhzPN7kSvL8W"
      },
      "execution_count": null,
      "outputs": []
    },
    {
      "cell_type": "code",
      "source": [
        "a = Function()"
      ],
      "metadata": {
        "id": "NVG4YcHkvkF7"
      },
      "execution_count": null,
      "outputs": []
    },
    {
      "cell_type": "code",
      "source": [
        "a"
      ],
      "metadata": {
        "id": "CpYQbkSNwGSj",
        "colab": {
          "base_uri": "https://localhost:8080/"
        },
        "outputId": "924b02ec-5cf7-4c27-ffba-6dd006f5df1c"
      },
      "execution_count": null,
      "outputs": [
        {
          "output_type": "execute_result",
          "data": {
            "text/plain": [
              "<__main__.Function at 0x7f8cc5cb2050>"
            ]
          },
          "metadata": {},
          "execution_count": 295
        }
      ]
    },
    {
      "cell_type": "code",
      "source": [
        "dir(a)"
      ],
      "metadata": {
        "id": "RD2L2VOIwOIp",
        "colab": {
          "base_uri": "https://localhost:8080/"
        },
        "outputId": "07d5468c-0aa5-413f-ab31-f4bcfd613407"
      },
      "execution_count": null,
      "outputs": [
        {
          "output_type": "execute_result",
          "data": {
            "text/plain": [
              "['__class__',\n",
              " '__delattr__',\n",
              " '__dict__',\n",
              " '__dir__',\n",
              " '__doc__',\n",
              " '__eq__',\n",
              " '__format__',\n",
              " '__ge__',\n",
              " '__getattribute__',\n",
              " '__gt__',\n",
              " '__hash__',\n",
              " '__init__',\n",
              " '__init_subclass__',\n",
              " '__le__',\n",
              " '__lt__',\n",
              " '__module__',\n",
              " '__ne__',\n",
              " '__new__',\n",
              " '__reduce__',\n",
              " '__reduce_ex__',\n",
              " '__repr__',\n",
              " '__setattr__',\n",
              " '__sizeof__',\n",
              " '__str__',\n",
              " '__subclasshook__',\n",
              " '__weakref__']"
            ]
          },
          "metadata": {},
          "execution_count": 296
        }
      ]
    },
    {
      "cell_type": "code",
      "source": [
        "class Function:\n",
        "\n",
        "    def __call__(self):\n",
        "        print('함수가 호출되었습니다')"
      ],
      "metadata": {
        "id": "w0Rdgqvrvmpi"
      },
      "execution_count": null,
      "outputs": []
    },
    {
      "cell_type": "code",
      "source": [
        "b = Function()"
      ],
      "metadata": {
        "id": "knTpGcmYmy9r"
      },
      "execution_count": null,
      "outputs": []
    },
    {
      "cell_type": "code",
      "source": [
        "b"
      ],
      "metadata": {
        "colab": {
          "base_uri": "https://localhost:8080/"
        },
        "id": "gSYfEliGm1Bp",
        "outputId": "94efa3d0-cc95-4ec2-d817-919cf021bd0d"
      },
      "execution_count": null,
      "outputs": [
        {
          "output_type": "execute_result",
          "data": {
            "text/plain": [
              "<__main__.Function at 0x7f8cc5bdace0>"
            ]
          },
          "metadata": {},
          "execution_count": 301
        }
      ]
    },
    {
      "cell_type": "code",
      "source": [
        "dir(b)"
      ],
      "metadata": {
        "colab": {
          "base_uri": "https://localhost:8080/"
        },
        "id": "B6KeirHam1nQ",
        "outputId": "4db9567c-4f25-4dae-f125-14855b8c3f32"
      },
      "execution_count": null,
      "outputs": [
        {
          "output_type": "execute_result",
          "data": {
            "text/plain": [
              "['__call__',\n",
              " '__class__',\n",
              " '__delattr__',\n",
              " '__dict__',\n",
              " '__dir__',\n",
              " '__doc__',\n",
              " '__eq__',\n",
              " '__format__',\n",
              " '__ge__',\n",
              " '__getattribute__',\n",
              " '__gt__',\n",
              " '__hash__',\n",
              " '__init__',\n",
              " '__init_subclass__',\n",
              " '__le__',\n",
              " '__lt__',\n",
              " '__module__',\n",
              " '__ne__',\n",
              " '__new__',\n",
              " '__reduce__',\n",
              " '__reduce_ex__',\n",
              " '__repr__',\n",
              " '__setattr__',\n",
              " '__sizeof__',\n",
              " '__str__',\n",
              " '__subclasshook__',\n",
              " '__weakref__']"
            ]
          },
          "metadata": {},
          "execution_count": 303
        }
      ]
    },
    {
      "cell_type": "code",
      "source": [
        "a() # TypeError: 'Function' object is not callable"
      ],
      "metadata": {
        "colab": {
          "base_uri": "https://localhost:8080/",
          "height": 172
        },
        "id": "a747QLqDm83i",
        "outputId": "fbe1d263-e8d8-4186-a154-7237c170744b"
      },
      "execution_count": null,
      "outputs": [
        {
          "output_type": "error",
          "ename": "TypeError",
          "evalue": "ignored",
          "traceback": [
            "\u001b[0;31m---------------------------------------------------------------------------\u001b[0m",
            "\u001b[0;31mTypeError\u001b[0m                                 Traceback (most recent call last)",
            "\u001b[0;32m<ipython-input-305-ce17510efa51>\u001b[0m in \u001b[0;36m<cell line: 1>\u001b[0;34m()\u001b[0m\n\u001b[0;32m----> 1\u001b[0;31m \u001b[0ma\u001b[0m\u001b[0;34m(\u001b[0m\u001b[0;34m)\u001b[0m \u001b[0;31m# TypeError: 'Function' object is not callable\u001b[0m\u001b[0;34m\u001b[0m\u001b[0;34m\u001b[0m\u001b[0m\n\u001b[0m",
            "\u001b[0;31mTypeError\u001b[0m: 'Function' object is not callable"
          ]
        }
      ]
    },
    {
      "cell_type": "code",
      "source": [
        "b()"
      ],
      "metadata": {
        "colab": {
          "base_uri": "https://localhost:8080/"
        },
        "id": "Sn4W0Y15m9dX",
        "outputId": "5eb737a1-82c6-48f0-9b16-4f532e3f4fd0"
      },
      "execution_count": null,
      "outputs": [
        {
          "output_type": "stream",
          "name": "stdout",
          "text": [
            "함수가 호출되었습니다\n"
          ]
        }
      ]
    },
    {
      "cell_type": "markdown",
      "source": [
        "#### 파이썬의 매직 메소드들\n",
        "- 더 다양한 형태의 매직 메소드들이 있습니다.\n",
        "  - 수업시간에는 더 깊게 확인하지는 않지만, 관심이 있으신 분들은 읽어 보시길 바랍니다.\n",
        "  - [데이터 모델](https://docs.python.org/ko/3.7/reference/datamodel.html#special-method-names)"
      ],
      "metadata": {
        "id": "rG1u9tOFwimE"
      }
    },
    {
      "cell_type": "code",
      "source": [
        "TypeError.mro() # 최상위 클래스 : object"
      ],
      "metadata": {
        "colab": {
          "base_uri": "https://localhost:8080/"
        },
        "id": "CoJ0o0pnmyNI",
        "outputId": "982ae9f3-be28-43b0-f980-65137a203b89"
      },
      "execution_count": null,
      "outputs": [
        {
          "output_type": "execute_result",
          "data": {
            "text/plain": [
              "[TypeError, Exception, BaseException, object]"
            ]
          },
          "metadata": {},
          "execution_count": 307
        }
      ]
    },
    {
      "cell_type": "markdown",
      "source": [
        "# StaticMethod / ClassMethod\n",
        "- 객체와 상관없이 참조 가능한 변수(클래스 변수)\n",
        "- 객체와 상관없이 참조 가능한 메소드\n",
        "    - 클래스 변수는 객체와 상관없이 참조 가능\n",
        "    - 메소드는 객체를 통해서만 호출 가능합니다\n",
        "        - 메소드를 통해서 클래스 변수를 참조하려면 반드시 객체가 필요한 상황이 발생했죠\n",
        "- 객체가 아닌 클래스를 통해서 호출할 수 있는 메소드"
      ],
      "metadata": {
        "id": "oFE8Hukmw9bu"
      }
    },
    {
      "cell_type": "markdown",
      "source": [
        "# 클래스의 특징\n",
        "- 여러개의 변수와 함수를 하나의 타입으로 묶어놓은 것\n",
        "- Person이라는 타입에 name, age, nation, method(), method1(), method2() 까지가 현상태\n",
        "\n",
        "- 비슷한 특징을 가진 애들을 묶어놓으면 관리가 편해지는 장점을 얻을 수 있습니다.\n",
        "\n",
        "\n",
        "- 이렇게 묶어놓으면 발생하는 특징들(객체 지향 프로그래밍의 특징을 얻을 수 있다)\n",
        "    - 은닉성(캡슐화) : 클래스 안에 있어서 인스턴스로는 확인할 수 없게 보호하는 장치\n",
        "    - 상속: 클래스를 재사용할 수 있음\n",
        "    - 다형성\n",
        "        - 붕어빵 : 슈크림, 피자, 팥, 쑥...\n",
        "        - 하나의 타입 안에 다른 타입도 담을 수 있는 것\n",
        "        - 오버로딩, 오버라이딩\n",
        "\n",
        "    - 파이썬은 완벽한 객체지향을 제공하지 못합니다\n",
        "\n",
        "# 은닉성\n",
        "    - 클래스 안에 있어서 인스턴스로는 확인할 수 없게 보호하는 장치\n",
        "        - 외부에서 참조 불가하게 비공개화\n",
        "        - 속성이 정의는 되어있지만 외부에서 확일할 수 없는 메소드로 만드는 방식으로\n",
        "        - 파이썬은 비공개로 할 수 있는 방법이 없습니다\n",
        "        - 공개하고 싶지 않은 속성(기능) 이름 앞에 _를 붙이도록 약속하고 있습니다.\n",
        "        - 이름 앞에 _언더바가 붙어있으면 참조하지 않음. 해당 클래스 안에서만 씀. 이라고 약속할 뿐이에요."
      ],
      "metadata": {
        "id": "CBg4jM-n0GfC"
      }
    },
    {
      "cell_type": "code",
      "source": [],
      "metadata": {
        "id": "zIvDO9_Xz6lL"
      },
      "execution_count": null,
      "outputs": []
    },
    {
      "cell_type": "code",
      "source": [],
      "metadata": {
        "id": "IPMUhYjK1Brc"
      },
      "execution_count": null,
      "outputs": []
    },
    {
      "cell_type": "code",
      "source": [],
      "metadata": {
        "id": "Yu_cYlcl1HRA"
      },
      "execution_count": null,
      "outputs": []
    },
    {
      "cell_type": "code",
      "source": [],
      "metadata": {
        "id": "JFDoiSYY2akq"
      },
      "execution_count": null,
      "outputs": []
    },
    {
      "cell_type": "code",
      "source": [],
      "metadata": {
        "id": "cNeLMn3y2f9N"
      },
      "execution_count": null,
      "outputs": []
    },
    {
      "cell_type": "code",
      "source": [],
      "metadata": {
        "id": "kjyLJBtI2h_j"
      },
      "execution_count": null,
      "outputs": []
    },
    {
      "cell_type": "code",
      "source": [],
      "metadata": {
        "id": "ztfAbVTC2mLq"
      },
      "execution_count": null,
      "outputs": []
    },
    {
      "cell_type": "markdown",
      "source": [
        "# 은닉성을 약속한 속성에 어떻게 접근을 해야하는가?\n",
        "- 그럼에도 불구하고 공개해야 할 속성들이 있기 때문에\n",
        "    - getter setter를 따로 만들어서\n",
        "    - 메소드의 내부 속성에 대한 참조를 제공\n",
        "    - 메소드가 없으면, 참조하지 않는 것으로 약속합니다.\n",
        "\n",
        "- 파이썬에서 getter, setter 처리하는 방법\n",
        "    - 매직메소드를 다시 정의해서 getter와 setter의 동작을 다시 정의합니다.\n",
        "    - 데코레이터를 통해 getter와 setter를 정의할 수 있습니다.\n",
        "    - 파이썬에서 말하는 은닉성"
      ],
      "metadata": {
        "id": "z_QtVG_K3DRi"
      }
    },
    {
      "cell_type": "code",
      "source": [],
      "metadata": {
        "id": "rRUfDlP_2vYS"
      },
      "execution_count": null,
      "outputs": []
    },
    {
      "cell_type": "code",
      "source": [],
      "metadata": {
        "id": "OkGnvQyz35qz"
      },
      "execution_count": null,
      "outputs": []
    },
    {
      "cell_type": "code",
      "source": [],
      "metadata": {
        "id": "RddSHKD03_6y"
      },
      "execution_count": null,
      "outputs": []
    },
    {
      "cell_type": "code",
      "source": [],
      "metadata": {
        "id": "mHSYTKyR39pU"
      },
      "execution_count": null,
      "outputs": []
    },
    {
      "cell_type": "code",
      "source": [],
      "metadata": {
        "id": "Rasj3ySj4Xyl"
      },
      "execution_count": null,
      "outputs": []
    },
    {
      "cell_type": "markdown",
      "source": [
        "### 실습 - age를 수정은 할 수 없고 볼 수만 있는 메소드를 하나 만들어 주세요. outer_age"
      ],
      "metadata": {
        "id": "luFmrUqP4_pt"
      }
    },
    {
      "cell_type": "code",
      "source": [],
      "metadata": {
        "id": "xaXdNjCt4ac-"
      },
      "execution_count": null,
      "outputs": []
    },
    {
      "cell_type": "code",
      "source": [],
      "metadata": {
        "id": "6YKreMRk91Pe"
      },
      "execution_count": null,
      "outputs": []
    },
    {
      "cell_type": "code",
      "source": [],
      "metadata": {
        "id": "aLpfIRzM94Fl"
      },
      "execution_count": null,
      "outputs": []
    },
    {
      "cell_type": "code",
      "source": [],
      "metadata": {
        "id": "Kztgh-F_98N2"
      },
      "execution_count": null,
      "outputs": []
    },
    {
      "cell_type": "code",
      "source": [],
      "metadata": {
        "id": "SjMvP_aj-5V0"
      },
      "execution_count": null,
      "outputs": []
    },
    {
      "cell_type": "code",
      "source": [],
      "metadata": {
        "id": "a2KUDNGH-7ja"
      },
      "execution_count": null,
      "outputs": []
    },
    {
      "cell_type": "code",
      "source": [],
      "metadata": {
        "id": "eN_toEjw-99f"
      },
      "execution_count": null,
      "outputs": []
    },
    {
      "cell_type": "code",
      "source": [],
      "metadata": {
        "id": "Swfmknc8_ENL"
      },
      "execution_count": null,
      "outputs": []
    },
    {
      "cell_type": "code",
      "source": [],
      "metadata": {
        "id": "_-lpbebn_Gdv"
      },
      "execution_count": null,
      "outputs": []
    },
    {
      "cell_type": "markdown",
      "metadata": {
        "id": "KiH6A5PwaFmB"
      },
      "source": [
        "### 맹글링(Mangling)\n",
        "- 속성(변수)의 이름을 변경하는 기능\n",
        "- 충돌을 방지하고자 나온 기능\n",
        "  - 상속할 때, 여러 클래스에서 정의된 속성 이름들이 같은 이름을 사용하는 경우\n",
        "  - 맹글링을 이용한 충돌을 방지할 수 있는 거죠\n",
        "- 속성 이름앞에 `__`를 붙여주면 됩니다.\n",
        "  - 속성 이름이 자동으로 바뀝니다.\n",
        "  - `_클래스이름__속성이름`의 형태로 바뀝니다."
      ]
    },
    {
      "cell_type": "code",
      "metadata": {
        "id": "1oNPv3w-a1Uv"
      },
      "source": [],
      "execution_count": null,
      "outputs": []
    },
    {
      "cell_type": "markdown",
      "source": [
        "# 상속 (inherit)\n",
        "- 클래스의 재사용성을 확대한 개념\n",
        "    - 잘 정의된 클래스가 있으면 다시 물려받아서 그대로 재사용\n",
        "\n",
        "- 클래스들의 관계\n",
        " - is-a 관계 (상속)\n",
        " - has-a 관계 (다른 클래스의 객체를 속성으로 갖는 경우)\n",
        "\n",
        "\n",
        "- 상속을 이용하면 클래스가 점점 확장\n",
        "    - 모든 학생은 사람 o\n",
        "    - 모든 사람은 학생 x\n",
        "    - is-a (Student **is a** Person)\n",
        "        - 학생은 사람이니까 사람이 갖는 속성이나 기능을 동일하게 사용할 수 있죠\n",
        "        - 학생 클래스를 만들 때 새로 정의하지 말고 사람 클래스를 물려받아서(상속받아서) 그대로 사용하고 나머지 추가 학생의 속성, 기능만 구현해주면 편합니다.\n",
        "\n",
        "\n"
      ],
      "metadata": {
        "id": "Xcxru7UhBYKx"
      }
    },
    {
      "cell_type": "code",
      "source": [],
      "metadata": {
        "id": "dz2mOi7cBr3r"
      },
      "execution_count": null,
      "outputs": []
    },
    {
      "cell_type": "code",
      "source": [],
      "metadata": {
        "id": "txZ5rxDuDv1W"
      },
      "execution_count": null,
      "outputs": []
    },
    {
      "cell_type": "code",
      "source": [],
      "metadata": {
        "id": "na9ggdI8CwF9"
      },
      "execution_count": null,
      "outputs": []
    },
    {
      "cell_type": "code",
      "source": [],
      "metadata": {
        "id": "Ul3-cOtcC1IF"
      },
      "execution_count": null,
      "outputs": []
    },
    {
      "cell_type": "code",
      "source": [],
      "metadata": {
        "id": "wTTFtTu0C7hp"
      },
      "execution_count": null,
      "outputs": []
    },
    {
      "cell_type": "code",
      "source": [],
      "metadata": {
        "id": "8Wl5_-7jC_X8"
      },
      "execution_count": null,
      "outputs": []
    },
    {
      "cell_type": "code",
      "source": [],
      "metadata": {
        "id": "7cTIaEPIDB6_"
      },
      "execution_count": null,
      "outputs": []
    },
    {
      "cell_type": "code",
      "source": [],
      "metadata": {
        "id": "feKpuFDTDF3W"
      },
      "execution_count": null,
      "outputs": []
    },
    {
      "cell_type": "code",
      "source": [],
      "metadata": {
        "id": "bl8zEudlDRo8"
      },
      "execution_count": null,
      "outputs": []
    },
    {
      "cell_type": "code",
      "source": [],
      "metadata": {
        "id": "RY60foUqD-_N"
      },
      "execution_count": null,
      "outputs": []
    },
    {
      "cell_type": "code",
      "source": [],
      "metadata": {
        "id": "oGinZnbEEAes"
      },
      "execution_count": null,
      "outputs": []
    },
    {
      "cell_type": "code",
      "source": [],
      "metadata": {
        "id": "26YEdI6GEDv3"
      },
      "execution_count": null,
      "outputs": []
    },
    {
      "cell_type": "code",
      "source": [],
      "metadata": {
        "id": "r7lLz0QYEHGu"
      },
      "execution_count": null,
      "outputs": []
    },
    {
      "cell_type": "markdown",
      "source": [
        "Person - 상위클래스(부모클래스, 기반클래스)\n",
        "Student - 하위클래스(자식클래스, 파생클래스)\n",
        "\n",
        "# 다형성 (Polymorphism)\n",
        "    - 오버로딩\n",
        "        - 클래스 내의 하나의 메소드가 여러개의 기능을 처리\n",
        "        - 파이썬은 오버로딩이 안 됩니다\n",
        "        - 연산자 오버로딩이라고 매직 메소드를 이용해서 눈속임\n",
        "\n",
        "    - 오버라이딩\n",
        "        - 메소드를 재정의(덮어쓴다)\n",
        "            - 메소드 뿐 아니라 속성도 오버라이팅\n",
        "        - 부모한테 물려받은 메소드를 그대로 사용하지 않겠다는 의미\n",
        "            - 자식 클래스에서 부모에게 있던 메소드를 고쳐쓰는 법\n",
        "            - 상속이 되어야만 재정의 할 수 있다\n",
        "            - 상속받은 메소드와 동일한 이름이어야 한다"
      ],
      "metadata": {
        "id": "QSUyteqnEdqq"
      }
    },
    {
      "cell_type": "code",
      "source": [],
      "metadata": {
        "id": "9_KVqm8EEJMd"
      },
      "execution_count": null,
      "outputs": []
    },
    {
      "cell_type": "code",
      "source": [],
      "metadata": {
        "id": "IwJd0LOCFdXl"
      },
      "execution_count": null,
      "outputs": []
    },
    {
      "cell_type": "code",
      "source": [],
      "metadata": {
        "id": "wTNgEL36FhgM"
      },
      "execution_count": null,
      "outputs": []
    },
    {
      "cell_type": "code",
      "source": [],
      "metadata": {
        "id": "PtAtpCPEFiuU"
      },
      "execution_count": null,
      "outputs": []
    },
    {
      "cell_type": "markdown",
      "source": [
        "- 재정의 하는데, 부모 클래스의 메소드를 사용하고 싶다?\n",
        "    - 자식클래스에서 직접 호출하도록 재정의해주시면 됩니다."
      ],
      "metadata": {
        "id": "OcmiuEuDFn9n"
      }
    },
    {
      "cell_type": "code",
      "source": [],
      "metadata": {
        "id": "dWSw3V74FkQu"
      },
      "execution_count": null,
      "outputs": []
    },
    {
      "cell_type": "code",
      "source": [],
      "metadata": {
        "id": "YQ1ccNDHF8T6"
      },
      "execution_count": null,
      "outputs": []
    },
    {
      "cell_type": "code",
      "source": [],
      "metadata": {
        "id": "ydJP0Rl2F9vU"
      },
      "execution_count": null,
      "outputs": []
    },
    {
      "cell_type": "code",
      "source": [],
      "metadata": {
        "id": "7fmStqPbF_ik"
      },
      "execution_count": null,
      "outputs": []
    },
    {
      "cell_type": "code",
      "source": [],
      "metadata": {
        "id": "zQb5kCR4Gk1L"
      },
      "execution_count": null,
      "outputs": []
    },
    {
      "cell_type": "code",
      "source": [],
      "metadata": {
        "id": "Jt_amXZPGm0j"
      },
      "execution_count": null,
      "outputs": []
    },
    {
      "cell_type": "markdown",
      "source": [
        "# 생성자 오버라이딩\n",
        "- 생성자도 상속이 됩니다\n",
        "- 자식클래스에서 추가해야 할 속성이 있어요\n",
        "    - 부모 그대로 사용할 수 없죠"
      ],
      "metadata": {
        "id": "jNRvzRHbG4UZ"
      }
    },
    {
      "cell_type": "code",
      "source": [],
      "metadata": {
        "id": "jqyLdV0QGoTt"
      },
      "execution_count": null,
      "outputs": []
    },
    {
      "cell_type": "code",
      "source": [],
      "metadata": {
        "id": "a5iZldQ6HSHX"
      },
      "execution_count": null,
      "outputs": []
    },
    {
      "cell_type": "code",
      "source": [],
      "metadata": {
        "id": "GQIhTbo3HTu3"
      },
      "execution_count": null,
      "outputs": []
    },
    {
      "cell_type": "markdown",
      "source": [
        "class method와 static method의 차이점"
      ],
      "metadata": {
        "id": "9G5FvpjYHfcG"
      }
    },
    {
      "cell_type": "code",
      "source": [],
      "metadata": {
        "id": "z79CkWwRHW6N"
      },
      "execution_count": null,
      "outputs": []
    },
    {
      "cell_type": "code",
      "source": [],
      "metadata": {
        "id": "XirbM3c5H5e9"
      },
      "execution_count": null,
      "outputs": []
    },
    {
      "cell_type": "code",
      "source": [],
      "metadata": {
        "id": "xuhTCatYH8ps"
      },
      "execution_count": null,
      "outputs": []
    },
    {
      "cell_type": "code",
      "source": [],
      "metadata": {
        "id": "5sgPpFq9IEQU"
      },
      "execution_count": null,
      "outputs": []
    },
    {
      "cell_type": "code",
      "source": [],
      "metadata": {
        "id": "7qOkeDzsIHFm"
      },
      "execution_count": null,
      "outputs": []
    },
    {
      "cell_type": "markdown",
      "source": [
        "### 다중상속\n",
        "- 하나의 클래스가 아닌, 하나 이상의 클래스를 상속하는 것이 가능\n",
        "  - 사실 문제가 아주아주 많은 기능\n",
        "  - C++, python, ...\n",
        "  - Java는 다중상속을 지원하지 않습니다.\n",
        "\n",
        "- 반드시, 다중상속을 해야만 하는 경우는 없다\n",
        "  - 피하려면, 피할 수 있다는 얘기 입니다.\n",
        "  - 만약에, 다중상속이 아니면 안되겠는데? 라는 상황이 발생한다면, 설계가 잘못된 경우\n",
        "\n"
      ],
      "metadata": {
        "id": "0Fy2wKfAITH4"
      }
    },
    {
      "cell_type": "code",
      "source": [],
      "metadata": {
        "id": "Iz4lzKVPIJOD"
      },
      "execution_count": null,
      "outputs": []
    },
    {
      "cell_type": "code",
      "source": [],
      "metadata": {
        "id": "FZhTn1JTIklN"
      },
      "execution_count": null,
      "outputs": []
    },
    {
      "cell_type": "code",
      "source": [],
      "metadata": {
        "id": "H6tKRjzDIs_P"
      },
      "execution_count": null,
      "outputs": []
    },
    {
      "cell_type": "code",
      "source": [],
      "metadata": {
        "id": "6IiirNX3Iz5w"
      },
      "execution_count": null,
      "outputs": []
    },
    {
      "cell_type": "code",
      "source": [],
      "metadata": {
        "id": "qzhZD7jHI9IN"
      },
      "execution_count": null,
      "outputs": []
    },
    {
      "cell_type": "markdown",
      "source": [
        "# 다중상속을 어쩔 수 없이 해야할 때는 맹글링을 사용합니다."
      ],
      "metadata": {
        "id": "qj9fMinbJNmP"
      }
    },
    {
      "cell_type": "code",
      "source": [
        "a = 1"
      ],
      "metadata": {
        "id": "EXlRQ0wOJIsd"
      },
      "execution_count": null,
      "outputs": []
    },
    {
      "cell_type": "code",
      "source": [
        "id(a)"
      ],
      "metadata": {
        "id": "Scf6EBxWJRZM",
        "colab": {
          "base_uri": "https://localhost:8080/"
        },
        "outputId": "4bd6a0fd-388d-4ba4-9e6c-fc437cc3dc34"
      },
      "execution_count": null,
      "outputs": [
        {
          "output_type": "execute_result",
          "data": {
            "text/plain": [
              "11256064"
            ]
          },
          "metadata": {},
          "execution_count": 2
        }
      ]
    },
    {
      "cell_type": "code",
      "source": [
        "a = '가나'"
      ],
      "metadata": {
        "id": "shy869iKJTqg"
      },
      "execution_count": null,
      "outputs": []
    },
    {
      "cell_type": "code",
      "source": [
        "id(a)"
      ],
      "metadata": {
        "id": "ZYtZfftzJVyd",
        "colab": {
          "base_uri": "https://localhost:8080/"
        },
        "outputId": "3dcafc15-02d1-4d9d-9648-e839cfa67b75"
      },
      "execution_count": null,
      "outputs": [
        {
          "output_type": "execute_result",
          "data": {
            "text/plain": [
              "140620132922832"
            ]
          },
          "metadata": {},
          "execution_count": 4
        }
      ]
    },
    {
      "cell_type": "code",
      "source": [
        "b = [1,2]"
      ],
      "metadata": {
        "id": "WNR_2itrbGZD"
      },
      "execution_count": null,
      "outputs": []
    },
    {
      "cell_type": "code",
      "source": [
        "id(b[0]), id(b[1])"
      ],
      "metadata": {
        "colab": {
          "base_uri": "https://localhost:8080/"
        },
        "id": "JLsJhLYUbGOC",
        "outputId": "98594fbe-7fbe-48f7-e6a5-b5f4429ce355"
      },
      "execution_count": null,
      "outputs": [
        {
          "output_type": "execute_result",
          "data": {
            "text/plain": [
              "(11256064, 11256096)"
            ]
          },
          "metadata": {},
          "execution_count": 6
        }
      ]
    },
    {
      "cell_type": "code",
      "source": [
        "b[1] = 3"
      ],
      "metadata": {
        "id": "Vnuv42ZVbLzD"
      },
      "execution_count": null,
      "outputs": []
    },
    {
      "cell_type": "code",
      "source": [
        "id(b[0]), id(b[1])"
      ],
      "metadata": {
        "id": "B7bNQUSlbN77",
        "outputId": "ea077a3a-dacd-4149-ac07-efe39ed1b4d9",
        "colab": {
          "base_uri": "https://localhost:8080/"
        }
      },
      "execution_count": null,
      "outputs": [
        {
          "output_type": "execute_result",
          "data": {
            "text/plain": [
              "(11256064, 11256128)"
            ]
          },
          "metadata": {},
          "execution_count": 8
        }
      ]
    },
    {
      "cell_type": "markdown",
      "source": [
        "파이썬의 다중상속\n",
        "  - 파이썬은 우선순위를 둬서 해결\n",
        "  - 모든 문제가 해결되지는 않습니다.\n",
        "  - 가장 큰 문제는 복잡도에 있습니다.\n",
        "    - 클래스들간의 관계가 매우 복잡해지고\n",
        "    - 복잡해지면, 버그가 발생할 확률이 높아지고, 유지보수도 어렵게 됩니다."
      ],
      "metadata": {
        "id": "cWhGbtXaJblI"
      }
    },
    {
      "cell_type": "code",
      "source": [],
      "metadata": {
        "id": "h9J0IQDIJXxN"
      },
      "execution_count": null,
      "outputs": []
    }
  ]
}