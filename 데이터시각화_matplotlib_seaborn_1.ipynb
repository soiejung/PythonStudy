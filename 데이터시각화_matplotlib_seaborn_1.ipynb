{
  "nbformat": 4,
  "nbformat_minor": 0,
  "metadata": {
    "colab": {
      "provenance": [],
      "collapsed_sections": [
        "aZu0Ho1xlMk-",
        "ZLIO2zJH05Pj",
        "4aRteKRBgbkE",
        "nGgn6b_hSfFg",
        "Gjk2WIi-SPEi",
        "-XESOm8bmSGT",
        "3uYMkCBN3-lr",
        "PB_yGz2FTgS2",
        "QB_3xegVTqQB"
      ],
      "include_colab_link": true
    },
    "kernelspec": {
      "name": "python3",
      "display_name": "Python 3"
    },
    "language_info": {
      "name": "python"
    }
  },
  "cells": [
    {
      "cell_type": "markdown",
      "metadata": {
        "id": "view-in-github",
        "colab_type": "text"
      },
      "source": [
        "<a href=\"https://colab.research.google.com/github/soiejung/PythonStudy/blob/main/%EB%8D%B0%EC%9D%B4%ED%84%B0%EC%8B%9C%EA%B0%81%ED%99%94_matplotlib_seaborn_1.ipynb\" target=\"_parent\"><img src=\"https://colab.research.google.com/assets/colab-badge.svg\" alt=\"Open In Colab\"/></a>"
      ]
    },
    {
      "cell_type": "markdown",
      "metadata": {
        "id": "xqU9c1x0L6hc"
      },
      "source": [
        "\n",
        "# 데이터 시각화\n",
        "\n",
        "## 기본 환경 설정"
      ]
    },
    {
      "cell_type": "code",
      "metadata": {
        "id": "YysreD6cT-Tz",
        "colab": {
          "base_uri": "https://localhost:8080/"
        },
        "outputId": "1888d1c4-f3cf-4e77-cb86-81437dba4dee"
      },
      "source": [
        "# 코랩에서 한글 폰트 깨지는 현상 해결을 위해 한국어 폰트들을 설치합니다\n",
        "!sudo apt-get install -y fonts-nanum # 매직메소드\n",
        "!sudo fc-cache -fv\n",
        "!rm ~/.cache/matplotlib -rf\n",
        "# 이후 런타임 재시작해주세요"
      ],
      "execution_count": null,
      "outputs": [
        {
          "output_type": "stream",
          "name": "stdout",
          "text": [
            "Reading package lists... Done\n",
            "Building dependency tree       \n",
            "Reading state information... Done\n",
            "The following package was automatically installed and is no longer required:\n",
            "  libnvidia-common-460\n",
            "Use 'sudo apt autoremove' to remove it.\n",
            "The following NEW packages will be installed:\n",
            "  fonts-nanum\n",
            "0 upgraded, 1 newly installed, 0 to remove and 29 not upgraded.\n",
            "Need to get 9,604 kB of archives.\n",
            "After this operation, 29.5 MB of additional disk space will be used.\n",
            "Get:1 http://archive.ubuntu.com/ubuntu bionic/universe amd64 fonts-nanum all 20170925-1 [9,604 kB]\n",
            "Fetched 9,604 kB in 0s (20.3 MB/s)\n",
            "debconf: unable to initialize frontend: Dialog\n",
            "debconf: (No usable dialog-like program is installed, so the dialog based frontend cannot be used. at /usr/share/perl5/Debconf/FrontEnd/Dialog.pm line 76, <> line 1.)\n",
            "debconf: falling back to frontend: Readline\n",
            "debconf: unable to initialize frontend: Readline\n",
            "debconf: (This frontend requires a controlling tty.)\n",
            "debconf: falling back to frontend: Teletype\n",
            "dpkg-preconfigure: unable to re-open stdin: \n",
            "Selecting previously unselected package fonts-nanum.\n",
            "(Reading database ... 123942 files and directories currently installed.)\n",
            "Preparing to unpack .../fonts-nanum_20170925-1_all.deb ...\n",
            "Unpacking fonts-nanum (20170925-1) ...\n",
            "Setting up fonts-nanum (20170925-1) ...\n",
            "Processing triggers for fontconfig (2.12.6-0ubuntu2) ...\n",
            "/usr/share/fonts: caching, new cache contents: 0 fonts, 1 dirs\n",
            "/usr/share/fonts/truetype: caching, new cache contents: 0 fonts, 3 dirs\n",
            "/usr/share/fonts/truetype/humor-sans: caching, new cache contents: 1 fonts, 0 dirs\n",
            "/usr/share/fonts/truetype/liberation: caching, new cache contents: 16 fonts, 0 dirs\n",
            "/usr/share/fonts/truetype/nanum: caching, new cache contents: 10 fonts, 0 dirs\n",
            "/usr/local/share/fonts: caching, new cache contents: 0 fonts, 0 dirs\n",
            "/root/.local/share/fonts: skipping, no such directory\n",
            "/root/.fonts: skipping, no such directory\n",
            "/var/cache/fontconfig: cleaning cache directory\n",
            "/root/.cache/fontconfig: not cleaning non-existent cache directory\n",
            "/root/.fontconfig: not cleaning non-existent cache directory\n",
            "fc-cache: succeeded\n"
          ]
        }
      ]
    },
    {
      "cell_type": "markdown",
      "metadata": {
        "id": "iuc_CxWsma1E"
      },
      "source": [
        "# 1. Matplotlib\n",
        "\n",
        "- 파이썬의 대표적인 과학 계산용 그래프 라이브러리\n",
        "- 판다스에 연계된 시각화 도구\n",
        "- 논문용으로 많이 쓰임\n",
        "-  다양한 운영체제와 그래픽 백엔드에서 동작\n",
        "\n",
        "[Matplotlib](http://matplotlib.org/)\n",
        "\n",
        "[documentation](http://matplotlib.org/api/pyplot_api.html)\n",
        "\n",
        "[examples](http://matplotlib.org/gallery.html#statistics)"
      ]
    },
    {
      "cell_type": "code",
      "metadata": {
        "id": "-ToE-F2oX3IQ"
      },
      "source": [
        "# %matplotlib inline  # 버전이 낮은 노트북에서 그래프가 바로 뜨지 않을 때 사용 % 쉘메소드\n",
        "\n",
        "import matplotlib as mpl  # 기본 설정 만지는 용도\n",
        "import matplotlib.pyplot as plt  # 그래프 그리는 용도\n",
        "import matplotlib.font_manager as fm # 폰트 관련 용도"
      ],
      "execution_count": null,
      "outputs": []
    },
    {
      "cell_type": "code",
      "metadata": {
        "id": "uo8uhoPOXs_4",
        "colab": {
          "base_uri": "https://localhost:8080/"
        },
        "outputId": "91daf61c-6f0e-4e65-ed70-0313569a2888"
      },
      "source": [
        "# 현재 설치된 폰트 확인해보기\n",
        "sys_font=fm.findSystemFonts()\n",
        "print(f\"sys_font number: {len(sys_font)}\")\n",
        "print(sys_font)\n",
        "\n",
        "nanum_font = [f for f in sys_font if 'Nanum' in f]\n",
        "print(f\"nanum_font number: {len(nanum_font)}\")"
      ],
      "execution_count": null,
      "outputs": [
        {
          "output_type": "stream",
          "name": "stdout",
          "text": [
            "sys_font number: 27\n",
            "['/usr/share/fonts/truetype/liberation/LiberationSansNarrow-BoldItalic.ttf', '/usr/share/fonts/truetype/liberation/LiberationSerif-Regular.ttf', '/usr/share/fonts/truetype/nanum/NanumGothic.ttf', '/usr/share/fonts/truetype/humor-sans/Humor-Sans.ttf', '/usr/share/fonts/truetype/nanum/NanumSquareRoundB.ttf', '/usr/share/fonts/truetype/liberation/LiberationSans-Italic.ttf', '/usr/share/fonts/truetype/nanum/NanumMyeongjoBold.ttf', '/usr/share/fonts/truetype/liberation/LiberationSans-BoldItalic.ttf', '/usr/share/fonts/truetype/nanum/NanumBarunGothicBold.ttf', '/usr/share/fonts/truetype/nanum/NanumSquareB.ttf', '/usr/share/fonts/truetype/liberation/LiberationMono-Regular.ttf', '/usr/share/fonts/truetype/liberation/LiberationSansNarrow-Bold.ttf', '/usr/share/fonts/truetype/liberation/LiberationSans-Bold.ttf', '/usr/share/fonts/truetype/liberation/LiberationSans-Regular.ttf', '/usr/share/fonts/truetype/nanum/NanumMyeongjo.ttf', '/usr/share/fonts/truetype/liberation/LiberationSerif-BoldItalic.ttf', '/usr/share/fonts/truetype/liberation/LiberationMono-Italic.ttf', '/usr/share/fonts/truetype/nanum/NanumGothicBold.ttf', '/usr/share/fonts/truetype/nanum/NanumBarunGothic.ttf', '/usr/share/fonts/truetype/nanum/NanumSquareR.ttf', '/usr/share/fonts/truetype/liberation/LiberationSerif-Bold.ttf', '/usr/share/fonts/truetype/liberation/LiberationMono-BoldItalic.ttf', '/usr/share/fonts/truetype/nanum/NanumSquareRoundR.ttf', '/usr/share/fonts/truetype/liberation/LiberationSansNarrow-Regular.ttf', '/usr/share/fonts/truetype/liberation/LiberationSansNarrow-Italic.ttf', '/usr/share/fonts/truetype/liberation/LiberationMono-Bold.ttf', '/usr/share/fonts/truetype/liberation/LiberationSerif-Italic.ttf']\n",
            "nanum_font number: 10\n"
          ]
        }
      ]
    },
    {
      "cell_type": "code",
      "source": [
        "nanum_font"
      ],
      "metadata": {
        "colab": {
          "base_uri": "https://localhost:8080/"
        },
        "id": "JLfuBbTDFibN",
        "outputId": "830d03cb-82bc-4f34-f400-e8b67a8bd695"
      },
      "execution_count": null,
      "outputs": [
        {
          "output_type": "execute_result",
          "data": {
            "text/plain": [
              "['/usr/share/fonts/truetype/nanum/NanumGothic.ttf',\n",
              " '/usr/share/fonts/truetype/nanum/NanumSquareRoundB.ttf',\n",
              " '/usr/share/fonts/truetype/nanum/NanumMyeongjoBold.ttf',\n",
              " '/usr/share/fonts/truetype/nanum/NanumBarunGothicBold.ttf',\n",
              " '/usr/share/fonts/truetype/nanum/NanumSquareB.ttf',\n",
              " '/usr/share/fonts/truetype/nanum/NanumMyeongjo.ttf',\n",
              " '/usr/share/fonts/truetype/nanum/NanumGothicBold.ttf',\n",
              " '/usr/share/fonts/truetype/nanum/NanumBarunGothic.ttf',\n",
              " '/usr/share/fonts/truetype/nanum/NanumSquareR.ttf',\n",
              " '/usr/share/fonts/truetype/nanum/NanumSquareRoundR.ttf']"
            ]
          },
          "metadata": {},
          "execution_count": 4
        }
      ]
    },
    {
      "cell_type": "code",
      "metadata": {
        "id": "S4f26QtNLy8C"
      },
      "source": [
        "# 시각화도 결국...\n"
      ],
      "execution_count": null,
      "outputs": []
    },
    {
      "cell_type": "code",
      "metadata": {
        "id": "AhuXtmEZUCiX"
      },
      "source": [
        "# 한글 폰트 설정\n",
        "plt.rc('font', family='NanumGothic')\n",
        "# - 기호 깨짐 현상 방지를 위한 설정\n",
        "plt.rc('axes', unicode_minus=False)"
      ],
      "execution_count": null,
      "outputs": []
    },
    {
      "cell_type": "markdown",
      "metadata": {
        "id": "P9Svx1Dhnkf5"
      },
      "source": [
        "## 1. 도화지 그리기\n",
        "- 플롯(plot)은 그림(figure)와 축(axes)으로 구성되어 있습니다.\n",
        "    - plt.figure: 축과 그래픽, 텍스트, 레이블을 표시하는 모든 객체를 포함하는 컨테이너\n",
        "    - plt.axes: 눈금과 레이블이 있는 테두리 박스로 시각화를 형성하는 플롯 요소 포함"
      ]
    },
    {
      "cell_type": "code",
      "metadata": {
        "id": "RF3V6yDdoSg3"
      },
      "source": [],
      "execution_count": null,
      "outputs": []
    },
    {
      "cell_type": "code",
      "metadata": {
        "id": "J_brfbbmpbj9"
      },
      "source": [
        "x = [0, 2, 4, 6, 8]\n",
        "y = [1, 2, 3, 4, 5]"
      ],
      "execution_count": null,
      "outputs": []
    },
    {
      "cell_type": "code",
      "metadata": {
        "id": "07D1n2WorZGZ"
      },
      "source": [],
      "execution_count": null,
      "outputs": []
    },
    {
      "cell_type": "code",
      "source": [],
      "metadata": {
        "id": "38n0ZOR5qCDu"
      },
      "execution_count": null,
      "outputs": []
    },
    {
      "cell_type": "markdown",
      "metadata": {
        "id": "mGaZSNw70Glk"
      },
      "source": [
        "## 2. Marker, Linestyle, Color\n",
        "- marker : https://matplotlib.org/stable/api/markers_api.html"
      ]
    },
    {
      "cell_type": "code",
      "metadata": {
        "id": "2Qs8m1yfyQxZ"
      },
      "source": [],
      "execution_count": null,
      "outputs": []
    },
    {
      "cell_type": "code",
      "metadata": {
        "id": "xcK8mLe_0Wj0"
      },
      "source": [],
      "execution_count": null,
      "outputs": []
    },
    {
      "cell_type": "markdown",
      "metadata": {
        "id": "5wZV0QYDz3CU"
      },
      "source": [
        "- linestyle\n",
        "    - '-' : solid\n",
        "    - '--' : dashed\n",
        "    - '-.' : 'dashdot\n",
        "    - ':' : dotted\n",
        "\n",
        "\n",
        "- 예시 - np.random.randn(30).cumsum()"
      ]
    },
    {
      "cell_type": "code",
      "metadata": {
        "id": "bEoC8GbN0-mo"
      },
      "source": [],
      "execution_count": null,
      "outputs": []
    },
    {
      "cell_type": "code",
      "metadata": {
        "id": "hPwbN3VE1PlJ"
      },
      "source": [],
      "execution_count": null,
      "outputs": []
    },
    {
      "cell_type": "markdown",
      "metadata": {
        "id": "aG4oxNhQ1e9t"
      },
      "source": [
        "- Color : https://matplotlib.org/stable/gallery/color/named_colors.html"
      ]
    },
    {
      "cell_type": "code",
      "metadata": {
        "id": "BzKZ43qo1vnb"
      },
      "source": [],
      "execution_count": null,
      "outputs": []
    },
    {
      "cell_type": "code",
      "metadata": {
        "id": "-iaPfrE211rx"
      },
      "source": [],
      "execution_count": null,
      "outputs": []
    },
    {
      "cell_type": "code",
      "source": [],
      "metadata": {
        "id": "q-mUJ3q0sdXk"
      },
      "execution_count": null,
      "outputs": []
    },
    {
      "cell_type": "markdown",
      "metadata": {
        "id": "6VJZeWEF18sQ"
      },
      "source": [
        "## 3. 축과 레이블"
      ]
    },
    {
      "cell_type": "markdown",
      "metadata": {
        "id": "FyHM8_j570vc"
      },
      "source": [
        "- 축(axis)"
      ]
    },
    {
      "cell_type": "code",
      "metadata": {
        "id": "K0pcofhksatg"
      },
      "source": [],
      "execution_count": null,
      "outputs": []
    },
    {
      "cell_type": "code",
      "metadata": {
        "id": "d03mGygl4PCs"
      },
      "source": [],
      "execution_count": null,
      "outputs": []
    },
    {
      "cell_type": "code",
      "metadata": {
        "id": "w86YUVsK4xj4"
      },
      "source": [],
      "execution_count": null,
      "outputs": []
    },
    {
      "cell_type": "code",
      "metadata": {
        "id": "haWbWrun40Lj"
      },
      "source": [],
      "execution_count": null,
      "outputs": []
    },
    {
      "cell_type": "markdown",
      "metadata": {
        "id": "diFceGto7usX"
      },
      "source": [
        "- 레이블 Label\n"
      ]
    },
    {
      "cell_type": "code",
      "metadata": {
        "id": "WB2KbhzE47rs"
      },
      "source": [],
      "execution_count": null,
      "outputs": []
    },
    {
      "cell_type": "code",
      "metadata": {
        "id": "PS6QLimk5JX5"
      },
      "source": [],
      "execution_count": null,
      "outputs": []
    },
    {
      "cell_type": "code",
      "metadata": {
        "id": "sqZK8f5k5XRW"
      },
      "source": [],
      "execution_count": null,
      "outputs": []
    },
    {
      "cell_type": "code",
      "source": [],
      "metadata": {
        "id": "gu6huxHFuj1s"
      },
      "execution_count": null,
      "outputs": []
    },
    {
      "cell_type": "markdown",
      "metadata": {
        "id": "yo24g5M8J3ao"
      },
      "source": [
        "## 5. 폰트\n",
        "- 폰트 관리자(Font Manager)를 통해 외부에서 지정 후 사용"
      ]
    },
    {
      "cell_type": "code",
      "metadata": {
        "id": "FJOGVv6fJ5HP"
      },
      "source": [
        "set([f.name for f in mpl.font_manager.fontManager.ttflist])"
      ],
      "execution_count": null,
      "outputs": []
    },
    {
      "cell_type": "code",
      "metadata": {
        "id": "vlfBRiH2KBeY"
      },
      "source": [],
      "execution_count": null,
      "outputs": []
    },
    {
      "cell_type": "code",
      "metadata": {
        "id": "H7FBNT2MQNaO"
      },
      "source": [],
      "execution_count": null,
      "outputs": []
    },
    {
      "cell_type": "code",
      "source": [],
      "metadata": {
        "id": "IpkQ4ztTCWSf"
      },
      "execution_count": null,
      "outputs": []
    },
    {
      "cell_type": "code",
      "source": [],
      "metadata": {
        "id": "mKulPDUJCKPE"
      },
      "execution_count": null,
      "outputs": []
    },
    {
      "cell_type": "markdown",
      "source": [
        "## 텍스트 관련 속성\n",
        "https://matplotlib.org/stable/tutorials/text/text_props.html\n",
        "```\n",
        "- alpha : 텍스트의 투명도\n",
        "    0.0 ~ 1.0 (float)\n",
        "\n",
        "- color : 텍스트의 색상\n",
        "\n",
        "- rotation : 텍스트의 회전각\n",
        "    [angle in degrees | ‘vertical’ | ‘horizontal’ ]\n",
        "\n",
        "- family : 텍스트의 글꼴\n",
        "    [FONTNAME | ‘serif’ | ‘sans-serif’ | ‘cursive’ | ‘fantasy’ | ‘monospace’ ]\n",
        "\n",
        "- size : 텍스트의 크기\n",
        "    [size in points | ‘xx-small’ | ‘x-small’ | ‘small’ | ‘medium’ | ‘large’ | ‘x-large’ | ‘xx-large’ ]\n",
        "\n",
        "- weight : 텍스트의 굵기\n",
        "    [a numeric value in range 0-1000 | ‘ultralight’ | ‘light’ | ‘normal’ | ‘regular’ | ‘book’ | ‘medium’ | ‘roman’ | ‘semibold’ | ‘demibold’ | ‘demi’ | ‘bold’ | ‘heavy’ | ‘extra bold’ | ‘black’ ]\n",
        "```"
      ],
      "metadata": {
        "id": "lt_gbiMSwC9d"
      }
    },
    {
      "cell_type": "markdown",
      "metadata": {
        "id": "t8ogQM82-T-D"
      },
      "source": [
        "## Matplotlib로 그린 다양한 그래프 확인\n",
        "\n",
        "- 출처 : 구글 콜랩\n",
        "https://colab.research.google.com/notebooks/charts.ipynb"
      ]
    },
    {
      "cell_type": "markdown",
      "metadata": {
        "id": "WALI8x49GUpe"
      },
      "source": [
        "### Line Plots"
      ]
    },
    {
      "cell_type": "code",
      "metadata": {
        "id": "08RTGn_xE3MP"
      },
      "source": [
        "\n",
        "x  = [1, 2, 3, 4, 5, 6, 7, 8, 9]\n",
        "y1 = [1, 3, 5, 3, 1, 3, 5, 3, 1]\n",
        "y2 = [2, 4, 6, 4, 2, 4, 6, 4, 2]"
      ],
      "execution_count": null,
      "outputs": []
    },
    {
      "cell_type": "markdown",
      "metadata": {
        "id": "sIZLTZ0pdo0Z"
      },
      "source": [
        "### Bar Plots"
      ]
    },
    {
      "cell_type": "code",
      "metadata": {
        "id": "bZv4MenQpYOF"
      },
      "source": [
        "import matplotlib.pyplot as plt\n",
        "\n",
        "# Look at index 4 and 6, which demonstrate overlapping cases.\n",
        "x1 = [1, 3, 4, 5, 6, 7, 9]\n",
        "y1 = [4, 7, 2, 4, 7, 8, 3]\n",
        "\n",
        "x2 = [2, 4, 6, 8, 10]\n",
        "y2 = [5, 6, 2, 6, 2]\n",
        "\n",
        "# Colors: https://matplotlib.org/api/colors_api.html\n",
        "\n",
        "plt.bar(x1, y1, label=\"Blue Bar\", color='b')\n",
        "plt.bar(x2, y2, label=\"Green Bar\", color='g')\n",
        "plt.plot()\n",
        "\n",
        "plt.xlabel(\"bar number\")\n",
        "plt.ylabel(\"bar height\")\n",
        "plt.title(\"Bar Chart Example\")\n",
        "plt.legend()\n",
        "plt.show()"
      ],
      "execution_count": null,
      "outputs": []
    },
    {
      "cell_type": "markdown",
      "metadata": {
        "id": "YQO2Lw8Xdu7x"
      },
      "source": [
        "### Histograms\n",
        "- bin : 구간, 간격"
      ]
    },
    {
      "cell_type": "code",
      "metadata": {
        "cellView": "both",
        "id": "SZ-DMbnPMbMY"
      },
      "source": [
        "import matplotlib.pyplot as plt\n",
        "import numpy as np\n",
        "\n",
        "# Use numpy to generate a bunch of random data in a bell curve around 5.\n",
        "n = 5 + np.random.randn(1000)\n",
        "\n",
        "m = [m for m in range(len(n))]\n",
        "plt.bar(m, n)\n",
        "plt.title(\"Raw Data\")\n",
        "plt.show()\n",
        "\n",
        "plt.hist(n, bins=20) # bins 히스토그램의 구간\n",
        "plt.title(\"Histogram\")\n",
        "plt.show()\n",
        "\n",
        "plt.hist(n, cumulative=True, bins=20) # cumulative - 누적그래프\n",
        "plt.title(\"Cumulative Histogram\")\n",
        "plt.show()"
      ],
      "execution_count": null,
      "outputs": []
    },
    {
      "cell_type": "markdown",
      "metadata": {
        "id": "9-CelVUmdz8r"
      },
      "source": [
        "### Scatter Plots\n",
        "- 산점도"
      ]
    },
    {
      "cell_type": "code",
      "metadata": {
        "id": "79C7jc9mv-Ji"
      },
      "source": [
        "import matplotlib.pyplot as plt\n",
        "\n",
        "x1 = [2, 3, 4]\n",
        "y1 = [5, 5, 5]\n",
        "\n",
        "x2 = [1, 2, 3, 4, 5]\n",
        "y2 = [2, 3, 2, 3, 4]\n",
        "y3 = [6, 8, 7, 8, 7]\n",
        "\n",
        "# Markers: https://matplotlib.org/api/markers_api.html\n",
        "\n",
        "plt.scatter(x1, y1)\n",
        "plt.scatter(x2, y2, marker='v', color='r')\n",
        "plt.scatter(x2, y3, marker='^', color='m')\n",
        "plt.title('Scatter Plot Example')\n",
        "plt.show()"
      ],
      "execution_count": null,
      "outputs": []
    },
    {
      "cell_type": "markdown",
      "metadata": {
        "id": "nlk-Sk0Nd82p"
      },
      "source": [
        "### Stack Plots"
      ]
    },
    {
      "cell_type": "code",
      "metadata": {
        "id": "5sxEM0pJzpgr"
      },
      "source": [
        "import matplotlib.pyplot as plt\n",
        "\n",
        "idxes = [ 1,  2,  3,  4,  5,  6,  7,  8,  9]\n",
        "arr1  = [23, 40, 28, 43,  8, 44, 43, 18, 17]\n",
        "arr2  = [17, 30, 22, 14, 17, 17, 29, 22, 30]\n",
        "arr3  = [15, 31, 18, 22, 18, 19, 13, 32, 39]\n",
        "\n",
        "# Adding legend for stack plots is tricky.\n",
        "plt.plot([], [], color='r', label = 'D 1')\n",
        "plt.plot([], [], color='g', label = 'D 2')\n",
        "plt.plot([], [], color='b', label = 'D 3')\n",
        "\n",
        "plt.stackplot(idxes, arr1, arr2, arr3, colors= ['r', 'g', 'b'])\n",
        "plt.title('Stack Plot Example')\n",
        "plt.legend()\n",
        "plt.show()"
      ],
      "execution_count": null,
      "outputs": []
    },
    {
      "cell_type": "markdown",
      "metadata": {
        "id": "C0LOohpqeCjx"
      },
      "source": [
        "### Pie Charts"
      ]
    },
    {
      "cell_type": "code",
      "metadata": {
        "id": "ZdEG-d4g4U6v"
      },
      "source": [
        "import matplotlib.pyplot as plt\n",
        "\n",
        "labels = 'S1', 'S2', 'S3'\n",
        "sections = [56, 66, 24]\n",
        "colors = ['c', 'g', 'y']\n",
        "\n",
        "plt.pie(sections, labels=labels, colors=colors,\n",
        "        startangle=120,\n",
        "        explode = (0, 0.1, 0), # 틈새\n",
        "        autopct = '%1.2f%%' # autopercent - 소수점 둘째짜리까지 비율을 계산해 출력해다오\n",
        "        )\n",
        "\n",
        "plt.axis('equal') # Try commenting this out.\n",
        "plt.title('Pie Chart Example')\n",
        "plt.show()"
      ],
      "execution_count": null,
      "outputs": []
    },
    {
      "cell_type": "markdown",
      "metadata": {
        "id": "sX97x87MTyIf"
      },
      "source": [
        "### fill_between and alpha"
      ]
    },
    {
      "cell_type": "code",
      "metadata": {
        "id": "BCUl8mTMT4sN"
      },
      "source": [
        "import matplotlib.pyplot as plt\n",
        "import numpy as np\n",
        "\n",
        "ys = 200 + np.random.randn(100)\n",
        "x = [x for x in range(len(ys))]\n",
        "\n",
        "plt.plot(x, ys, '-')\n",
        "plt.fill_between(x, ys, 195, where=(ys > 195),facecolor='g', alpha=0.6) # 195, where=(ys > 195) : xlim(195, ~ )와 같은 명령어\n",
        "\n",
        "plt.title(\"Fills and Alpha Example\")\n",
        "plt.show()"
      ],
      "execution_count": null,
      "outputs": []
    },
    {
      "cell_type": "markdown",
      "metadata": {
        "id": "jONspxyzeT4Y"
      },
      "source": [
        "### Subplotting using Subplot2grid"
      ]
    },
    {
      "cell_type": "code",
      "metadata": {
        "id": "JF-dVGj3ExQm"
      },
      "source": [
        "import matplotlib.pyplot as plt\n",
        "import numpy as np\n",
        "\n",
        "def random_plots():\n",
        "  xs = []\n",
        "  ys = []\n",
        "\n",
        "  for i in range(20):\n",
        "    x = i\n",
        "    y = np.random.randint(10)\n",
        "\n",
        "    xs.append(x)\n",
        "    ys.append(y)\n",
        "\n",
        "  return xs, ys\n",
        "\n",
        "fig = plt.figure()\n",
        "ax1 = plt.subplot2grid((5, 2), (0, 0), rowspan=1, colspan=2)\n",
        "ax2 = plt.subplot2grid((5, 2), (1, 0), rowspan=3, colspan=2)\n",
        "ax3 = plt.subplot2grid((5, 2), (4, 0), rowspan=1, colspan=1)\n",
        "ax4 = plt.subplot2grid((5, 2), (4, 1), rowspan=1, colspan=1)\n",
        "\n",
        "x, y = random_plots()\n",
        "ax1.plot(x, y)\n",
        "\n",
        "x, y = random_plots()\n",
        "ax2.plot(x, y)\n",
        "\n",
        "x, y = random_plots()\n",
        "ax3.plot(x, y)\n",
        "\n",
        "x, y = random_plots()\n",
        "ax4.plot(x, y)\n",
        "\n",
        "plt.tight_layout()\n",
        "plt.show()"
      ],
      "execution_count": null,
      "outputs": []
    },
    {
      "cell_type": "markdown",
      "metadata": {
        "id": "Xn0jLwr8evoR"
      },
      "source": [
        "## 3D Graphs"
      ]
    },
    {
      "cell_type": "markdown",
      "metadata": {
        "id": "DrRCtocXe9SB"
      },
      "source": [
        "### 3D Scatter Plots"
      ]
    },
    {
      "cell_type": "code",
      "metadata": {
        "id": "Eo2bdDQ5GZ76"
      },
      "source": [
        "import matplotlib.pyplot as plt\n",
        "import numpy as np\n",
        "from mpl_toolkits.mplot3d import axes3d\n",
        "\n",
        "fig = plt.figure()\n",
        "ax = fig.add_subplot(111, projection = '3d')\n",
        "\n",
        "x1 = [1, 2, 3, 4, 5, 6, 7, 8, 9, 10]\n",
        "y1 = np.random.randint(10, size=10)\n",
        "z1 = np.random.randint(10, size=10)\n",
        "\n",
        "x2 = [-1, -2, -3, -4, -5, -6, -7, -8, -9, -10]\n",
        "y2 = np.random.randint(-10, 0, size=10)\n",
        "z2 = np.random.randint(10, size=10)\n",
        "\n",
        "ax.scatter(x1, y1, z1, c='b', marker='o', label='blue')\n",
        "ax.scatter(x2, y2, z2, c='g', marker='D', label='green')\n",
        "\n",
        "ax.set_xlabel('x axis')\n",
        "ax.set_ylabel('y axis')\n",
        "ax.set_zlabel('z axis')\n",
        "plt.title(\"3D Scatter Plot Example\")\n",
        "plt.legend()\n",
        "plt.tight_layout()\n",
        "plt.show()"
      ],
      "execution_count": null,
      "outputs": []
    },
    {
      "cell_type": "markdown",
      "metadata": {
        "id": "MXVPkFpTfCE-"
      },
      "source": [
        "### 3D Bar Plots"
      ]
    },
    {
      "cell_type": "code",
      "metadata": {
        "id": "YGi1XPCrGsQz"
      },
      "source": [
        "import matplotlib.pyplot as plt\n",
        "import numpy as np\n",
        "\n",
        "fig = plt.figure()\n",
        "ax = fig.add_subplot(111, projection = '3d')\n",
        "\n",
        "x = [1, 2, 3, 4, 5, 6, 7, 8, 9, 10]\n",
        "y = np.random.randint(10, size=10)\n",
        "z = np.zeros(10)\n",
        "\n",
        "dx = np.ones(10)\n",
        "dy = np.ones(10)\n",
        "dz = [1, 2, 3, 4, 5, 6, 7, 8, 9, 10]\n",
        "\n",
        "ax.bar3d(x, y, z, dx, dy, dz, color='g')\n",
        "\n",
        "ax.set_xlabel('x axis')\n",
        "ax.set_ylabel('y axis')\n",
        "ax.set_zlabel('z axis')\n",
        "plt.title(\"3D Bar Chart Example\")\n",
        "plt.tight_layout()\n",
        "plt.show()"
      ],
      "execution_count": null,
      "outputs": []
    },
    {
      "cell_type": "markdown",
      "metadata": {
        "id": "Xbey0KVpfIbQ"
      },
      "source": [
        "### Wireframe Plots"
      ]
    },
    {
      "cell_type": "code",
      "metadata": {
        "id": "60f2SO4jIfQz"
      },
      "source": [
        "import matplotlib.pyplot as plt\n",
        "\n",
        "fig = plt.figure()\n",
        "ax = fig.add_subplot(111, projection = '3d')\n",
        "\n",
        "x, y, z = axes3d.get_test_data()\n",
        "\n",
        "ax.plot_wireframe(x, y, z, rstride = 2, cstride = 2)\n",
        "\n",
        "plt.title(\"Wireframe Plot Example\")\n",
        "plt.tight_layout()\n",
        "plt.show()"
      ],
      "execution_count": null,
      "outputs": []
    },
    {
      "cell_type": "markdown",
      "metadata": {
        "id": "SSEmQCg4ObaE"
      },
      "source": [
        "# 2. Seaborn\n",
        "- Matplotlib을 기반으로 다양한 색상 테마와 통계용 차트 등의 기능을 추가한 시각화 패키지\n",
        "- 기본적인 시각화 기능은 Matplotlib 패키지에 의존하며 통계 기능은 Statsmodels 패키지에 의존한다.\n",
        "- 함수가 쉬우며 직관적으로 결과를 확인할 수 있다.\n",
        "\n",
        "[Seaborn](http://seaborn.pydata.org)\n",
        "\n",
        "<img src=\"https://blog.kakaocdn.net/dn/qxvT2/btqHJixzvms/0WNuSBlA4TEotrDToRuFoK/img.png\">\n",
        "\n",
        "- 출처 : https://wikidocs.net/86290"
      ]
    },
    {
      "cell_type": "code",
      "source": [],
      "metadata": {
        "id": "Si2IKp6c3I1d"
      },
      "execution_count": null,
      "outputs": []
    },
    {
      "cell_type": "code",
      "metadata": {
        "id": "YhqCN4zN83mS"
      },
      "source": [
        "% reset -f"
      ],
      "execution_count": null,
      "outputs": []
    },
    {
      "cell_type": "code",
      "metadata": {
        "id": "Jbot231yR03l"
      },
      "source": [],
      "execution_count": null,
      "outputs": []
    },
    {
      "cell_type": "markdown",
      "metadata": {
        "id": "nXb7OoShWBx_"
      },
      "source": [
        "## 0) 환경설정"
      ]
    },
    {
      "cell_type": "code",
      "metadata": {
        "id": "jXQkAtyvEsti"
      },
      "source": [
        "import matplotlib.pyplot as plt  # 그래프 그리는 용도\n",
        "import matplotlib.font_manager as fm  # 폰트 관련 용도\n",
        "import seaborn as sns\n",
        "%matplotlib inline\n",
        "\n",
        "# 현재 설치된 폰트 확인해보기\n",
        "sys_font=fm.findSystemFonts()\n",
        "print(f\"sys_font number: {len(sys_font)}\")\n",
        "print(sys_font)\n",
        "\n",
        "nanum_font = [f for f in sys_font if 'Nanum' in f]\n",
        "print(f\"nanum_font number: {len(nanum_font)}\")\n"
      ],
      "execution_count": null,
      "outputs": []
    },
    {
      "cell_type": "code",
      "metadata": {
        "id": "z__z7whpNt04"
      },
      "source": [
        "# 한글 폰트 설정\n",
        "plt.rc('font', family='NanumGothic')\n",
        "# - 기호 깨짐 현상 방지를 위한 설정\n",
        "plt.rc('axes', unicode_minus=False)"
      ],
      "execution_count": null,
      "outputs": []
    },
    {
      "cell_type": "markdown",
      "metadata": {
        "id": "nCz2nrDvSnSM"
      },
      "source": [
        "## 1) EDA가 필요한 이유"
      ]
    },
    {
      "cell_type": "code",
      "metadata": {
        "id": "kyaH7ogRFQWc"
      },
      "source": [],
      "execution_count": null,
      "outputs": []
    },
    {
      "cell_type": "code",
      "metadata": {
        "id": "AJtr1UPLFGy7"
      },
      "source": [],
      "execution_count": null,
      "outputs": []
    },
    {
      "cell_type": "code",
      "metadata": {
        "id": "75YbottwFMEk"
      },
      "source": [],
      "execution_count": null,
      "outputs": []
    },
    {
      "cell_type": "code",
      "metadata": {
        "id": "_2sXOru6JlO3"
      },
      "source": [],
      "execution_count": null,
      "outputs": []
    },
    {
      "cell_type": "code",
      "metadata": {
        "id": "d6sjMyuGJ5EU"
      },
      "source": [],
      "execution_count": null,
      "outputs": []
    },
    {
      "cell_type": "code",
      "metadata": {
        "id": "lEdPYa6OKFct"
      },
      "source": [],
      "execution_count": null,
      "outputs": []
    },
    {
      "cell_type": "code",
      "metadata": {
        "id": "lJm3JHdzLAlX"
      },
      "source": [],
      "execution_count": null,
      "outputs": []
    },
    {
      "cell_type": "code",
      "source": [
        "# df['dataset'] 가  I ['I', 'II', 'III', 'IV'] df1, df2, df3, df4 에 각각 저장해주세요\n",
        "# info, describe 등등 확인도 해주세요"
      ],
      "metadata": {
        "id": "XKGJFYY64ZIp"
      },
      "execution_count": null,
      "outputs": []
    },
    {
      "cell_type": "code",
      "metadata": {
        "id": "pQplSthOK-dE"
      },
      "source": [],
      "execution_count": null,
      "outputs": []
    },
    {
      "cell_type": "code",
      "source": [],
      "metadata": {
        "id": "IZSo_fIQ6zx3"
      },
      "execution_count": null,
      "outputs": []
    },
    {
      "cell_type": "code",
      "source": [],
      "metadata": {
        "id": "8h9Rhysp62M9"
      },
      "execution_count": null,
      "outputs": []
    },
    {
      "cell_type": "code",
      "source": [],
      "metadata": {
        "id": "d_Uj1vxt651m"
      },
      "execution_count": null,
      "outputs": []
    },
    {
      "cell_type": "code",
      "source": [],
      "metadata": {
        "id": "wubxSotN69JQ"
      },
      "execution_count": null,
      "outputs": []
    },
    {
      "cell_type": "code",
      "source": [],
      "metadata": {
        "id": "sTf468jv7QOm"
      },
      "execution_count": null,
      "outputs": []
    },
    {
      "cell_type": "code",
      "source": [],
      "metadata": {
        "id": "ysnuPABt7VOX"
      },
      "execution_count": null,
      "outputs": []
    },
    {
      "cell_type": "code",
      "source": [],
      "metadata": {
        "id": "grU5gy6F7Yxs"
      },
      "execution_count": null,
      "outputs": []
    },
    {
      "cell_type": "code",
      "source": [],
      "metadata": {
        "id": "9kvu1LYb7dZ6"
      },
      "execution_count": null,
      "outputs": []
    },
    {
      "cell_type": "code",
      "source": [],
      "metadata": {
        "id": "hyYp69M97ltx"
      },
      "execution_count": null,
      "outputs": []
    },
    {
      "cell_type": "code",
      "source": [],
      "metadata": {
        "id": "4rS6LV1z8e4i"
      },
      "execution_count": null,
      "outputs": []
    },
    {
      "cell_type": "code",
      "source": [],
      "metadata": {
        "id": "XPpSFfrp8m2i"
      },
      "execution_count": null,
      "outputs": []
    },
    {
      "cell_type": "code",
      "source": [],
      "metadata": {
        "id": "uVZcNion8s-q"
      },
      "execution_count": null,
      "outputs": []
    },
    {
      "cell_type": "markdown",
      "metadata": {
        "id": "CixQPct6etsq"
      },
      "source": [
        "### I. Seaborn 기본 함수\n",
        "- 스타일 지정\n",
        "#### 가. sns.set()\n",
        "  - 환경변수 설정 함수 : set 함수는 스타일, 팔레트, 글꼴, 글꼴 크기 등 앞으로 그리게 되는 모든 플롯의 그림에 영향을 준다.\n",
        "  - seaborn.set(context, style, palette, font, font_scale, color_code, rc)\n",
        "\n",
        "  - Parameter\n",
        "    - context: 배율조정\n",
        "    - style: {None, 'darkgrid', 'whitegrid', 'dark', 'white', 'ticks'} 중 하나\n",
        "\n",
        "  #### 나. set_style\n",
        "    - 틱스타일만 변경\n",
        "\n",
        "\n",
        "https://seaborn.pydata.org/tutorial/color_palettes.html\n",
        "\n",
        "https://seaborn.pydata.org/tutorial/aesthetics.html?highlight=style"
      ]
    },
    {
      "cell_type": "code",
      "source": [],
      "metadata": {
        "id": "4OG_PhLw8dgz"
      },
      "execution_count": null,
      "outputs": []
    },
    {
      "cell_type": "markdown",
      "metadata": {
        "id": "0HdttTRGQ4s9"
      },
      "source": [
        "## 2) lmplot (Logistic Model Plot)"
      ]
    },
    {
      "cell_type": "code",
      "source": [],
      "metadata": {
        "id": "MPqdcLAX7-WS"
      },
      "execution_count": null,
      "outputs": []
    },
    {
      "cell_type": "code",
      "source": [],
      "metadata": {
        "id": "apeZoRb5PZ5x"
      },
      "execution_count": null,
      "outputs": []
    },
    {
      "cell_type": "code",
      "metadata": {
        "id": "wZvild60MVXG"
      },
      "source": [],
      "execution_count": null,
      "outputs": []
    },
    {
      "cell_type": "code",
      "source": [],
      "metadata": {
        "id": "mRD_CgyIOBPZ"
      },
      "execution_count": null,
      "outputs": []
    },
    {
      "cell_type": "code",
      "metadata": {
        "id": "c1YJznNWMdJ4"
      },
      "source": [],
      "execution_count": null,
      "outputs": []
    },
    {
      "cell_type": "code",
      "metadata": {
        "id": "cbIX0SzGFEMz"
      },
      "source": [],
      "execution_count": null,
      "outputs": []
    },
    {
      "cell_type": "code",
      "metadata": {
        "id": "VW0FbncqMBpu"
      },
      "source": [],
      "execution_count": null,
      "outputs": []
    },
    {
      "cell_type": "code",
      "metadata": {
        "id": "OYlFQgFmbfvo"
      },
      "source": [],
      "execution_count": null,
      "outputs": []
    },
    {
      "cell_type": "code",
      "metadata": {
        "id": "qZQHoSHdbljj"
      },
      "source": [],
      "execution_count": null,
      "outputs": []
    },
    {
      "cell_type": "code",
      "source": [],
      "metadata": {
        "id": "eOiZrZp7O6Zw"
      },
      "execution_count": null,
      "outputs": []
    },
    {
      "cell_type": "code",
      "metadata": {
        "id": "Me57fSTkjrgx"
      },
      "source": [],
      "execution_count": null,
      "outputs": []
    },
    {
      "cell_type": "code",
      "metadata": {
        "id": "ShL-Ut9MbypU"
      },
      "source": [],
      "execution_count": null,
      "outputs": []
    },
    {
      "cell_type": "code",
      "metadata": {
        "id": "AnUjZU6Yb3Gc"
      },
      "source": [],
      "execution_count": null,
      "outputs": []
    },
    {
      "cell_type": "code",
      "metadata": {
        "id": "W3MXt0y9j4Ch"
      },
      "source": [],
      "execution_count": null,
      "outputs": []
    },
    {
      "cell_type": "markdown",
      "metadata": {
        "id": "eGCDNXRsmh4G"
      },
      "source": [
        "## 3) Barplot\n",
        "- 범주형 자료에 대한 카운팅, Category나 class에 대한 비교\n",
        "- 순위형 자료에 대해 카운팅할 때\n",
        "- 여러 범주형 변수에 대한 Overlay를 확인 가능\n",
        "\n",
        "http://seaborn.pydata.org/examples/palette_choices.html"
      ]
    },
    {
      "cell_type": "code",
      "metadata": {
        "id": "1kirGBn-kgKc"
      },
      "source": [
        "import numpy as np\n",
        "import seaborn as sns"
      ],
      "execution_count": null,
      "outputs": []
    },
    {
      "cell_type": "code",
      "metadata": {
        "id": "QcqXdoFpQOP2"
      },
      "source": [],
      "execution_count": null,
      "outputs": []
    },
    {
      "cell_type": "code",
      "metadata": {
        "id": "vOCy_xTgm3Zw"
      },
      "source": [
        "# Generate some sequential data\n",
        "x = np.array(list(\"ABCDEFGHIJ\"))\n",
        "y1 = np.arange(1, 11)\n",
        "\n",
        "print(x)\n",
        "print(y1)"
      ],
      "execution_count": null,
      "outputs": []
    },
    {
      "cell_type": "code",
      "metadata": {
        "id": "QjvCbeGhurCD"
      },
      "source": [
        "sns.barplot(x=x, y=y1, palette=\"rocket\")"
      ],
      "execution_count": null,
      "outputs": []
    },
    {
      "cell_type": "code",
      "metadata": {
        "id": "FBViNCt5vVCf"
      },
      "source": [
        "sns.barplot(x=x, y=y1, palette=\"rocket\"\n",
        "            ).axhline(6, color=\"g\")"
      ],
      "execution_count": null,
      "outputs": []
    },
    {
      "cell_type": "code",
      "metadata": {
        "id": "OkuBwFtdmy26"
      },
      "source": [
        "# Set up the matplotlib figure\n",
        "f, (ax1, ax2, ax3) = plt.subplots(3, 1, figsize=(7, 5), sharex=True) # 3개의 서브플롯으로 된 도화지를 그리겠다\n",
        "\n",
        "sns.barplot(x=x, y=y1, palette=\"rocket\", ax=ax1) # ax=ax1 : 첫번째 그래프 의미\n",
        "ax1.axhline(0, color=\"k\", clip_on=False) # 수평선 그린다\n",
        "ax1.set_ylabel(\"Sequential\") # 서브플롯일 때 ylabel 지정해주는 옵션\n",
        "# Center the data to make it diverging\n",
        "y2 = y1 - 5.5\n",
        "sns.barplot(x=x, y=y2, palette=\"vlag\", ax=ax2)\n",
        "ax2.axhline(0, color=\"k\", clip_on=False)\n",
        "ax2.set_ylabel(\"Diverging\")\n",
        "\n",
        "# Randomly reorder the data to make it qualitative\n",
        "y3 = rs.choice(y1, len(y1), replace=False)\n",
        "sns.barplot(x=x, y=y3, palette=\"deep\", ax=ax3)\n",
        "ax3.axhline(0, color=\"k\", clip_on=False)\n",
        "ax3.set_ylabel(\"Qualitative\")\n",
        "\n",
        "# Finalize the plot\n",
        "sns.despine(bottom=True) # 축/테두리 제거\n",
        "plt.setp(f.axes, yticks=[])\n",
        "plt.tight_layout(h_pad=2)"
      ],
      "execution_count": null,
      "outputs": []
    },
    {
      "cell_type": "markdown",
      "metadata": {
        "id": "aZu0Ho1xlMk-"
      },
      "source": [
        "---\n",
        "\n",
        "#### 가. 서브플롯 그리기\n",
        "- 전체도화지, (변수명1, 변수명2) = plt.subplots(세로개수, 가로개수)\n",
        "\n",
        "- f, (ax1, ax2, ax3) = plt.subplots(3, 1, figsize=(7, 5), sharex=True)\n",
        "\n",
        "#### 나. Despine (축/테두리 제거)\n",
        "  - spine(축/테두리)을 직접 정의한다.\n",
        "  - left, right, top, bottom.\n",
        "  - plot을 지정한 후, 그 뒤에 sns.despine()이라고 지정하면 테두리를 제거\n",
        "  - 아무것도 넣지 않으면 top, right 두 개가 제거됨.\n",
        "---"
      ]
    },
    {
      "cell_type": "markdown",
      "metadata": {
        "id": "aDZyCk51ynLn"
      },
      "source": [
        "## 4) Line Plot\n",
        "- 주로 사용되는 시계열 데이터의 가장 특징적인 요소는 트렌드(Trend), 즉 경향성으로 장기간에 걸쳐 진행되는 변화 또는 트렌드를 추적하는 데 주로 사용된다.\n",
        "- 시간 데이터는 분절형과 연속형으로 나눌 수 있다. 분절형은 데이터의 특정 시점 또는 시간으로 구간을 나눈 것.\n",
        "- 설명 변수의 시간 흐름에 따른 각 지표의 관계를 규명\n",
        "- 지표 간 정보를 바탕으로 미래의 시나리오 예측\n",
        "\n",
        "https://seaborn.pydata.org/generated/seaborn.lineplot.html?highlight=lineplot#seaborn.lineplot"
      ]
    },
    {
      "cell_type": "code",
      "metadata": {
        "id": "Z4z9SrnKrgFO"
      },
      "source": [],
      "execution_count": null,
      "outputs": []
    },
    {
      "cell_type": "code",
      "metadata": {
        "id": "J1c8fk1rroDJ"
      },
      "source": [],
      "execution_count": null,
      "outputs": []
    },
    {
      "cell_type": "code",
      "metadata": {
        "id": "i84AD-sLrpkN"
      },
      "source": [],
      "execution_count": null,
      "outputs": []
    },
    {
      "cell_type": "code",
      "source": [],
      "metadata": {
        "id": "V8QZi-AaUTDy"
      },
      "execution_count": null,
      "outputs": []
    },
    {
      "cell_type": "code",
      "source": [],
      "metadata": {
        "id": "y1cbyhcHUeZq"
      },
      "execution_count": null,
      "outputs": []
    },
    {
      "cell_type": "code",
      "source": [],
      "metadata": {
        "id": "qBKgc02zUoXc"
      },
      "execution_count": null,
      "outputs": []
    },
    {
      "cell_type": "code",
      "source": [],
      "metadata": {
        "id": "A8G16h_GUr5g"
      },
      "execution_count": null,
      "outputs": []
    },
    {
      "cell_type": "code",
      "source": [],
      "metadata": {
        "id": "AvVuNZSGUu1x"
      },
      "execution_count": null,
      "outputs": []
    },
    {
      "cell_type": "code",
      "source": [],
      "metadata": {
        "id": "xcDGQ9wZVViz"
      },
      "execution_count": null,
      "outputs": []
    },
    {
      "cell_type": "code",
      "source": [],
      "metadata": {
        "id": "f2e9YOVMWEzc"
      },
      "execution_count": null,
      "outputs": []
    },
    {
      "cell_type": "code",
      "metadata": {
        "id": "d4RCc0Cyy5Fz"
      },
      "source": [],
      "execution_count": null,
      "outputs": []
    },
    {
      "cell_type": "code",
      "metadata": {
        "id": "bgl6c9Cxz4TN"
      },
      "source": [],
      "execution_count": null,
      "outputs": []
    },
    {
      "cell_type": "markdown",
      "metadata": {
        "id": "ZLIO2zJH05Pj"
      },
      "source": [
        "## 5) Scatter Plot\n",
        "연속형 데이터 vs 연속형 데이터\n",
        "- 연속형 x에 대한 연속형 y값의 지표를 시각화\n",
        "- 회귀분석이나 상관분석, 정규성 검정에 반드시 확인하는 그래프\n",
        "\n",
        "https://seaborn.pydata.org/generated/seaborn.scatterplot.html#seaborn.scatterplot"
      ]
    },
    {
      "cell_type": "code",
      "metadata": {
        "id": "_mJ2s0gV1Gbu"
      },
      "source": [],
      "execution_count": null,
      "outputs": []
    },
    {
      "cell_type": "code",
      "source": [],
      "metadata": {
        "id": "Mj-Evm5ZWqwb"
      },
      "execution_count": null,
      "outputs": []
    },
    {
      "cell_type": "markdown",
      "metadata": {
        "id": "v2swH5zI2rgg"
      },
      "source": [
        "실습 : tips 데이터셋을 이용하여 total_bill과 tip의 관계를 scatterplot으로 표현하세요. hue는 size로 지정하세요."
      ]
    },
    {
      "cell_type": "code",
      "metadata": {
        "id": "h2YY6MqA2pyL"
      },
      "source": [],
      "execution_count": null,
      "outputs": []
    },
    {
      "cell_type": "markdown",
      "metadata": {
        "id": "4aRteKRBgbkE"
      },
      "source": [
        "---\n",
        "### 참고. Count Plot & Dist. Plot\n",
        "- 데이터 타입에 따라 시각화의 방법과 종류가 달라짐\n",
        "- 가장 먼저 단일변수에 대한 시각화를 실시함\n",
        "- 데이터의 타입이 명목형일 경우, Count plot을 확인함\n",
        "  * Count plot: 범주형 데이터의 각 항목의 개수를 시각화\n",
        "- 데이터의 타입이 연속형일 경우, 확률분포와 Histogram을 확인함\n",
        "  * Histogram: 변수의 범위를 동일한 크기의 구간으로 나눈 다음, 각 구간마다 몇 개의 변수 값이 존재하는지 시각화\n",
        "  * 확률분포도(Probability distribution): 확률변수가 특정 값을 가질 확률을 시각화"
      ]
    },
    {
      "cell_type": "markdown",
      "metadata": {
        "id": "ZcJwQprNSoCE"
      },
      "source": [
        "## 6) Count Plot\n",
        "- 각 카테고리 값별로 데이터가 얼마나 있는지 표시\n",
        "- 데이터프레임에만 사용"
      ]
    },
    {
      "cell_type": "code",
      "metadata": {
        "id": "FIy97CP8rsrf"
      },
      "source": [],
      "execution_count": null,
      "outputs": []
    },
    {
      "cell_type": "code",
      "metadata": {
        "id": "lblf3QfDSuRf"
      },
      "source": [],
      "execution_count": null,
      "outputs": []
    },
    {
      "cell_type": "markdown",
      "metadata": {
        "id": "nGgn6b_hSfFg"
      },
      "source": [
        "## 7)  distplot\n",
        "- histplot과 유사\n",
        "- 러그와 커널 밀도 표시 기능\n",
        "\n",
        "https://seaborn.pydata.org/generated/seaborn.distplot.html?highlight=distplot#seaborn.distplot"
      ]
    },
    {
      "cell_type": "code",
      "metadata": {
        "id": "vVUvzWQMSP4l"
      },
      "source": [],
      "execution_count": null,
      "outputs": []
    },
    {
      "cell_type": "code",
      "metadata": {
        "id": "n7_Zj20Hsfg6"
      },
      "source": [],
      "execution_count": null,
      "outputs": []
    },
    {
      "cell_type": "code",
      "metadata": {
        "id": "f_H1BcNetMc1"
      },
      "source": [],
      "execution_count": null,
      "outputs": []
    },
    {
      "cell_type": "code",
      "source": [],
      "metadata": {
        "id": "8Ie3g7HQbNXg"
      },
      "execution_count": null,
      "outputs": []
    },
    {
      "cell_type": "code",
      "source": [],
      "metadata": {
        "id": "_B9e-3spX922"
      },
      "execution_count": null,
      "outputs": []
    },
    {
      "cell_type": "markdown",
      "metadata": {
        "id": "Gjk2WIi-SPEi"
      },
      "source": [
        "## 8) kdeplot\n",
        "- 커널 밀도(kernel density)는 커널이라는 함수를 겹치는 방법으로 히스토그램보다 부드러운 형태의 분포 곡선을 보여주는 방법\n",
        "\n",
        "https://seaborn.pydata.org/generated/seaborn.kdeplot.html?highlight=kdeplot#seaborn.kdeplot"
      ]
    },
    {
      "cell_type": "code",
      "metadata": {
        "id": "O9JN5Q9AR_mw"
      },
      "source": [],
      "execution_count": null,
      "outputs": []
    },
    {
      "cell_type": "markdown",
      "metadata": {
        "id": "-XESOm8bmSGT"
      },
      "source": [
        "## 9) Box Plot\n",
        "- Five-number Summary: 5가지 주요 통계량이 시각적으로 표현됨\n",
        "- 여러 그룹 간 데이터를 비교할 때 유용\n",
        "- 데이터의 신뢰구간과 이상치를 빠르게 확인할 수 있음\n",
        "\n",
        "https://seaborn.pydata.org/examples/grouped_boxplot.html\n",
        "\n",
        "<img src=\"https://t1.daumcdn.net/cfile/tistory/99D3C43359C2943722\">"
      ]
    },
    {
      "cell_type": "code",
      "source": [
        "tips.head()"
      ],
      "metadata": {
        "id": "ILNXUhhfc2QS"
      },
      "execution_count": null,
      "outputs": []
    },
    {
      "cell_type": "code",
      "metadata": {
        "id": "XiBSOJ1ymQdB"
      },
      "source": [],
      "execution_count": null,
      "outputs": []
    },
    {
      "cell_type": "code",
      "metadata": {
        "id": "mXoGwafnnqjN"
      },
      "source": [],
      "execution_count": null,
      "outputs": []
    },
    {
      "cell_type": "code",
      "source": [],
      "metadata": {
        "id": "pWKzGf0lcbCL"
      },
      "execution_count": null,
      "outputs": []
    },
    {
      "cell_type": "markdown",
      "metadata": {
        "id": "3uYMkCBN3-lr"
      },
      "source": [
        "## 10) Violin Plot\n",
        "\n",
        "- 박스 플롯과 동일하게 일변량, 연속형 데이터의 분포를 설명하기 위해 사용되는 그래프\n",
        "-  커널 밀도 곡선(Kernel Density Curve)와 박스 플롯을 합친 형태.\n",
        "- 카테고리값에 따른 각 분포의 실제 데이터 또는 전체 형상을 보여준다.\n",
        "\n",
        "http://seaborn.pydata.org/examples/grouped_violinplots.html"
      ]
    },
    {
      "cell_type": "code",
      "metadata": {
        "id": "Y3pUo8Q9391s"
      },
      "source": [],
      "execution_count": null,
      "outputs": []
    },
    {
      "cell_type": "code",
      "metadata": {
        "id": "dYsALZse4Ue5"
      },
      "source": [],
      "execution_count": null,
      "outputs": []
    },
    {
      "cell_type": "code",
      "metadata": {
        "id": "1hJo1k5MOxgO"
      },
      "source": [],
      "execution_count": null,
      "outputs": []
    },
    {
      "cell_type": "code",
      "metadata": {
        "id": "1JJgmcW2Ozyh"
      },
      "source": [],
      "execution_count": null,
      "outputs": []
    },
    {
      "cell_type": "markdown",
      "metadata": {
        "id": "YjO78BLp4aIx"
      },
      "source": [
        " 실습 : tips 데이터셋을 활용하여 요일에 따른 성별과 팁의 상관관계를 Violin Plot으로 그려보세요."
      ]
    },
    {
      "cell_type": "code",
      "metadata": {
        "id": "_hMEnSOt4nfO"
      },
      "source": [],
      "execution_count": null,
      "outputs": []
    },
    {
      "cell_type": "markdown",
      "metadata": {
        "id": "zn0Mkc-15J_s"
      },
      "source": [
        "실습 : tips 데이터셋을 활용하여 식사시간에 따른 흡연여부와 팁의 상관관계를 Violin Plot으로 그려보세요."
      ]
    },
    {
      "cell_type": "code",
      "metadata": {
        "id": "-jr6SiJi5PDs"
      },
      "source": [],
      "execution_count": null,
      "outputs": []
    },
    {
      "cell_type": "code",
      "metadata": {
        "id": "ATCDlzRCOZX1"
      },
      "source": [],
      "execution_count": null,
      "outputs": []
    },
    {
      "cell_type": "markdown",
      "metadata": {
        "id": "PB_yGz2FTgS2"
      },
      "source": [
        "## 11) Heatmap\n",
        "- 열을 의미하는 Heat과 지도라는 의미의 Map을 합쳐 데이터를 색상으로 표현하주는 그래프\n",
        "- 상관관계 분석 등에 많이 활용된다\n",
        "\n",
        "\n",
        "\n",
        "http://seaborn.pydata.org/examples/spreadsheet_heatmap.html"
      ]
    },
    {
      "cell_type": "code",
      "metadata": {
        "id": "8qPMod27Sv4_"
      },
      "source": [],
      "execution_count": null,
      "outputs": []
    },
    {
      "cell_type": "code",
      "source": [],
      "metadata": {
        "id": "zUB2cO_ZgdWR"
      },
      "execution_count": null,
      "outputs": []
    },
    {
      "cell_type": "code",
      "source": [],
      "metadata": {
        "id": "dUSVFfTmgb-x"
      },
      "execution_count": null,
      "outputs": []
    },
    {
      "cell_type": "code",
      "source": [],
      "metadata": {
        "id": "I2WhNmUogO2o"
      },
      "execution_count": null,
      "outputs": []
    },
    {
      "cell_type": "code",
      "metadata": {
        "id": "Fk-I2HBe6h1c"
      },
      "source": [],
      "execution_count": null,
      "outputs": []
    },
    {
      "cell_type": "code",
      "source": [],
      "metadata": {
        "id": "kgOPrXJIhQyp"
      },
      "execution_count": null,
      "outputs": []
    },
    {
      "cell_type": "code",
      "metadata": {
        "id": "3PojZ6zI5BuW"
      },
      "source": [],
      "execution_count": null,
      "outputs": []
    },
    {
      "cell_type": "code",
      "metadata": {
        "id": "NTnYVxyb5DMj"
      },
      "source": [],
      "execution_count": null,
      "outputs": []
    },
    {
      "cell_type": "code",
      "metadata": {
        "id": "7FwQiGle6sET"
      },
      "source": [],
      "execution_count": null,
      "outputs": []
    },
    {
      "cell_type": "code",
      "metadata": {
        "id": "nri4un5I6yUI"
      },
      "source": [],
      "execution_count": null,
      "outputs": []
    },
    {
      "cell_type": "markdown",
      "metadata": {
        "id": "QB_3xegVTqQB"
      },
      "source": [
        "## 12) Pair Plot\n",
        "- 3차원 이상의 데이터일 때 그리드(grid) 형태로 각 데이터 열의 조합에 대해 스캐터 플롯을 그린다.\n",
        "- 같은 데이터가 만나는 대각선 영역에는 해당 데이터의 히스토그램을 그린다."
      ]
    },
    {
      "cell_type": "code",
      "metadata": {
        "id": "BUaHfqKLTYW-"
      },
      "source": [],
      "execution_count": null,
      "outputs": []
    },
    {
      "cell_type": "code",
      "metadata": {
        "id": "dV01jtwqTpQp"
      },
      "source": [],
      "execution_count": null,
      "outputs": []
    },
    {
      "cell_type": "code",
      "metadata": {
        "id": "tcIiGvlwTv_Q"
      },
      "source": [],
      "execution_count": null,
      "outputs": []
    }
  ]
}