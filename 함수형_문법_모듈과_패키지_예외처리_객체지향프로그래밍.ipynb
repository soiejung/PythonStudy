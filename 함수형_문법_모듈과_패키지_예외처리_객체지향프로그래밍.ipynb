{
  "nbformat": 4,
  "nbformat_minor": 0,
  "metadata": {
    "colab": {
      "provenance": [],
      "include_colab_link": true
    },
    "kernelspec": {
      "name": "python3",
      "display_name": "Python 3"
    },
    "language_info": {
      "name": "python"
    }
  },
  "cells": [
    {
      "cell_type": "markdown",
      "metadata": {
        "id": "view-in-github",
        "colab_type": "text"
      },
      "source": [
        "<a href=\"https://colab.research.google.com/github/soiejung/PythonStudy/blob/main/%ED%95%A8%EC%88%98%ED%98%95_%EB%AC%B8%EB%B2%95_%EB%AA%A8%EB%93%88%EA%B3%BC_%ED%8C%A8%ED%82%A4%EC%A7%80_%EC%98%88%EC%99%B8%EC%B2%98%EB%A6%AC_%EA%B0%9D%EC%B2%B4%EC%A7%80%ED%96%A5%ED%94%84%EB%A1%9C%EA%B7%B8%EB%9E%98%EB%B0%8D.ipynb\" target=\"_parent\"><img src=\"https://colab.research.google.com/assets/colab-badge.svg\" alt=\"Open In Colab\"/></a>"
      ]
    },
    {
      "cell_type": "markdown",
      "source": [
        "# 0. 복습"
      ],
      "metadata": {
        "id": "mbQruNWBUJUJ"
      }
    },
    {
      "cell_type": "markdown",
      "source": [
        "1. 아래 코드의 실행결과를 예측하고 혹 에러가 발생한다면 발생하는 이유에 대해 생각해보세요.\n",
        "\n",
        "1-1.\n",
        "~~~\n",
        "hello()\n",
        "def hello():\n",
        "    print(\"Good Morning!\")\n",
        "~~~"
      ],
      "metadata": {
        "id": "DDCUiaRvN3Zk"
      }
    },
    {
      "cell_type": "code",
      "source": [
        "hello() # 함수를 정의하기도 전에 호출했기 때문에 에러 발생\n",
        "def hello():\n",
        "    print(\"Good Morning!\")"
      ],
      "metadata": {
        "id": "swKK7Sq6N3Zl"
      },
      "execution_count": null,
      "outputs": []
    },
    {
      "cell_type": "markdown",
      "source": [
        "1-2.\n",
        "```\n",
        "def func(a) :\n",
        "    print(a)\n",
        "func()\n",
        "```"
      ],
      "metadata": {
        "id": "16AcngP5N3Zl"
      }
    },
    {
      "cell_type": "code",
      "source": [
        "def func(a) :\n",
        "    print(a)\n",
        "func() # 아규먼트를 입력하지 않았기 때문에 에러 발생"
      ],
      "metadata": {
        "id": "JqfLatusN3Zl"
      },
      "execution_count": null,
      "outputs": []
    },
    {
      "cell_type": "markdown",
      "source": [
        "1-3.\n",
        "~~~\n",
        "def func(a, b) :\n",
        "    print(a * b / 2)\n",
        "\n",
        "함수(\"a\", 3)\n",
        "~~~"
      ],
      "metadata": {
        "id": "mI6IZmWdN3Zl"
      }
    },
    {
      "cell_type": "code",
      "source": [
        "def func(a, b) :\n",
        "    print(a * b / 2)\n",
        "\n",
        "함수(\"a\", 3) # 정의한 함수 이름으로 호출해야 함"
      ],
      "metadata": {
        "id": "kdP50YyuN3Zl"
      },
      "execution_count": null,
      "outputs": []
    },
    {
      "cell_type": "markdown",
      "source": [
        "2. if문을 활용하여 사용자로부터 시간을 입력받고 해당 시각이 정각인지를 판별하여 리턴하는 함수 on_time()을 프로그래밍해주세요.\n",
        "```\n",
        ">> 현재시간:02:00\n",
        "정각입니다.\n",
        ">> 현재시간:03:10\n",
        "정각이 아닙니다\n",
        "```"
      ],
      "metadata": {
        "id": "_uahTmKVN3Zl"
      }
    },
    {
      "cell_type": "code",
      "source": [
        "def on_time():\n",
        "    time = input('현재시간:')\n",
        "    if ':00' in time:\n",
        "        print('정각입니다.')\n",
        "    else:\n",
        "        print('정각이 아닙니다.')\n",
        "\n",
        "on_time()"
      ],
      "metadata": {
        "id": "nQATvbm2N3Zm"
      },
      "execution_count": null,
      "outputs": []
    },
    {
      "cell_type": "markdown",
      "source": [
        "3. 다음과 같이 8개의 값이 저장된 myPlaylist 리스트가 있을 때, 언패킹 방식을 사용하여 처음 2개를 제외한 나머지 값을 extra_song 변수에 바인딩해주세요."
      ],
      "metadata": {
        "id": "_atPUtudN3Zm"
      }
    },
    {
      "cell_type": "markdown",
      "source": [
        "~~~\n",
        "myPlaylist = ['나플라', '이센스', '제이콜', '나스', '찬스더래퍼', '세븐틴', 'EXO', 'NCT']\n",
        "~~~"
      ],
      "metadata": {
        "id": "WNEHMpzxN3Zm"
      }
    },
    {
      "cell_type": "code",
      "source": [
        "myPlaylist = ['나플라', '이센스', '제이콜', '나스', '찬스더래퍼', '세븐틴', 'EXO', 'NCT']"
      ],
      "metadata": {
        "id": "g7010jAcN3Zm"
      },
      "execution_count": null,
      "outputs": []
    },
    {
      "cell_type": "code",
      "source": [
        "def play(list_):\n",
        "    extra_song = list_[2::]\n",
        "    print(extra_song)"
      ],
      "metadata": {
        "id": "nnmVL18_N3Zm"
      },
      "execution_count": null,
      "outputs": []
    },
    {
      "cell_type": "code",
      "source": [
        "play(myPlaylist)"
      ],
      "metadata": {
        "id": "Qd9e0SAuN3Zm"
      },
      "execution_count": null,
      "outputs": []
    },
    {
      "cell_type": "markdown",
      "metadata": {
        "id": "uoiIFZAFN3Zn"
      },
      "source": [
        "4. 아래 코드의 실행 결과를 예측해보시고 생각했던 것과 결과값이 같은지 확인해보세요.\n",
        "\n",
        "~~~\n",
        "def hello() :\n",
        "    print(\"Good Morning!\")\n",
        "    print(\"Hello\")\n",
        "hello()\n",
        "print(\"Hi\")\n",
        "hello()\n",
        "\n",
        "~~~"
      ]
    },
    {
      "cell_type": "code",
      "execution_count": null,
      "metadata": {
        "id": "p0qj1iTwN3Zn"
      },
      "outputs": [],
      "source": [
        "def hello() :\n",
        "    print(\"Good Morning!\")\n",
        "    print(\"Hello\")\n",
        "hello()\n",
        "print(\"Hi\")\n",
        "hello()"
      ]
    },
    {
      "cell_type": "markdown",
      "source": [
        "5. 하나의 리스트를 입력받아 짝수만 화면에 출력하는 even 함수를 정의하고 출력해보세요.\n",
        "\n",
        "```\n",
        "예시리스트 : [2,3,4,5,6,7,8,111]\n",
        "```"
      ],
      "metadata": {
        "id": "8Tw7rmYzN3Zn"
      }
    },
    {
      "cell_type": "code",
      "source": [
        "def even(list_):\n",
        "\n",
        "    for l in list_:\n",
        "        if l % 2 == 0:\n",
        "            print(l)"
      ],
      "metadata": {
        "id": "z2GU2DjIN3Zn"
      },
      "execution_count": null,
      "outputs": []
    },
    {
      "cell_type": "code",
      "source": [
        "even([2,3,4,5,6,7,8,111])"
      ],
      "metadata": {
        "id": "y2TRAyD2N3Zn"
      },
      "execution_count": null,
      "outputs": []
    },
    {
      "cell_type": "code",
      "source": [],
      "metadata": {
        "id": "-P2AVn7zN3Zn"
      },
      "execution_count": null,
      "outputs": []
    },
    {
      "cell_type": "markdown",
      "source": [
        "6. 입력 문자열을 한 줄에 세글자씩 출력하는 letters(string) 함수를 작성하고 아래 문자열을 넣어 실행해보세요.\n",
        "\n",
        "~~~\n",
        "'신짱구신짱아이센스'\n",
        "~~~"
      ],
      "metadata": {
        "id": "rV7mHrNpN3Zo"
      }
    },
    {
      "cell_type": "code",
      "source": [
        "def letters(str_):\n",
        "\n",
        "    row = int(len(str_)/3)\n",
        "    for k in range(3):\n",
        "        print(str_[k*3:k*3+3])\n"
      ],
      "metadata": {
        "id": "ULeYWP2NN3Zo"
      },
      "execution_count": null,
      "outputs": []
    },
    {
      "cell_type": "code",
      "source": [
        "letters('신짱구신짱아이센스')"
      ],
      "metadata": {
        "id": "VI9Ha2WoN3Zo",
        "colab": {
          "base_uri": "https://localhost:8080/"
        },
        "outputId": "6306388d-5690-4d61-9b44-f4cd5239b328"
      },
      "execution_count": null,
      "outputs": [
        {
          "output_type": "stream",
          "name": "stdout",
          "text": [
            "신짱구\n",
            "신짱아\n",
            "이센스\n"
          ]
        }
      ]
    },
    {
      "cell_type": "markdown",
      "source": [
        "7. 입력 문자열과 한 줄에 출력할 글자수를 인자로 받는 letters(string, int) 함수를 작성하고 아래 문자열을 넣어 두글자씩 실행해보세요.\n",
        "- 음수는 제외, 0도 제외\n",
        "\n",
        "~~~\n",
        "윈터이즈커밍\n",
        "~~~"
      ],
      "metadata": {
        "id": "EvdlXp5cN3Zp"
      }
    },
    {
      "cell_type": "code",
      "source": [
        "def letters(str_,int_):\n",
        "    for i in range(int_+1):\n",
        "        print(str_[i*int_:i*int_+int_])"
      ],
      "metadata": {
        "id": "BE2HoB6iN3Zp"
      },
      "execution_count": null,
      "outputs": []
    },
    {
      "cell_type": "code",
      "source": [
        "letters('윈터이즈커밍', 2)"
      ],
      "metadata": {
        "id": "1GfNsXrYN3Zp"
      },
      "execution_count": null,
      "outputs": []
    },
    {
      "cell_type": "markdown",
      "source": [
        "8. 이름과 나이를 입력받아서 딕셔너리 형식으로 반환하는 함수 person_info()를 만들어주세요.\n",
        "\n",
        "person_info()\n",
        "- input()"
      ],
      "metadata": {
        "id": "0pXzChk9N3Zp"
      }
    },
    {
      "cell_type": "code",
      "source": [
        "def person_info():\n",
        "    name = input('이름을 입력해주세요: ')\n",
        "    age = input('나이를 입력해주세요: ')\n",
        "\n",
        "    return {name:age}"
      ],
      "metadata": {
        "id": "LxSYx2oNN3Zp"
      },
      "execution_count": null,
      "outputs": []
    },
    {
      "cell_type": "code",
      "source": [
        "dic = person_info()\n",
        "print(dic)"
      ],
      "metadata": {
        "id": "16ooXzSCvnHj"
      },
      "execution_count": null,
      "outputs": []
    },
    {
      "cell_type": "markdown",
      "source": [
        "9. 좋아하는 숫자 (개수제한 없음)와 name, age를 파라메터로 입력받고 딕셔너리 형태로  함수 person_info1()을 만들어주세요.\n",
        "\n",
        "Input:\n",
        "```\n",
        "person_info11(3,7,9, name='kim', age='22')\n",
        "```\n",
        "\n",
        "Output:\n",
        "```\n",
        "{'age': '22', 'favorNums': (3, 7, 9), 'name': 'kim'}\n",
        "```"
      ],
      "metadata": {
        "id": "rV_jhquuN3Zp"
      }
    },
    {
      "cell_type": "code",
      "source": [
        "def person_info1(*num, name, age):\n",
        "\n",
        "    return {'age':age, 'favorNums': num, 'name': name}\n"
      ],
      "metadata": {
        "id": "BnrABE_GN3Zp"
      },
      "execution_count": null,
      "outputs": []
    },
    {
      "cell_type": "code",
      "source": [
        "dic1 = person_info1(3,7,9, name='kim', age = '22')\n",
        "print(dic1)"
      ],
      "metadata": {
        "id": "u5V9nEa8N3Zq"
      },
      "execution_count": null,
      "outputs": []
    },
    {
      "cell_type": "code",
      "source": [
        "(lambda x,y : x+y)(3,7)"
      ],
      "metadata": {
        "colab": {
          "base_uri": "https://localhost:8080/"
        },
        "id": "H15LUMjS8kcF",
        "outputId": "4adba049-1871-4593-d5d9-c67cf757827e"
      },
      "execution_count": null,
      "outputs": [
        {
          "output_type": "execute_result",
          "data": {
            "text/plain": [
              "10"
            ]
          },
          "metadata": {},
          "execution_count": 3
        }
      ]
    },
    {
      "cell_type": "markdown",
      "source": [
        "# 1. 수업"
      ],
      "metadata": {
        "id": "VDU6O9iqYGMT"
      }
    },
    {
      "cell_type": "markdown",
      "source": [
        "# 함수형 문법\n",
        "\n",
        "- 파이썬은 언어일 뿐, 그 언어를 어떤 스타일로 구현하는지 개발자 몫입니다.\n",
        "- 프로그래밍에도 다양한 스타일이 있는데요\n",
        "\n",
        "\n",
        "### 1. 절차형(Procedure) 프로그래밍\n",
        "    - 내가 원하는 결과를 도출하기 위한 순서(절차) 중심으로 프로그래밍하는 방법\n",
        "    - 소스코드를 함수 단위로 관리합니다\n",
        "        - 언제든 호출할 수 있죠 -> 재사용성이 증가합니다\n",
        "        - 소스코드의 양도 줄어듭니다\n",
        "        - 관리도 편해집니다\n",
        "    - 파이썬은 함수만 이용해서 코딩을 할 수도 있습니다.\n",
        "\n",
        "\n",
        "\n",
        "### 2. 객체지향 프로그래밍\n",
        "    - 함수 단위로 소스코드를 작성해서 해결이 안되는 문제들이 있습니다.\n",
        "    - 함수보다 더 큰 바구니, 비슷한 주제 중심으로 변수나 함수를 묶어서 관리하는 객체지향 프로그래밍이 두각을 나타냈습니다.\n",
        "\n",
        "```\n",
        "TV를 보는 사람\n",
        "  TV - 켜다\n",
        "  사람 - 보다\n",
        "  소파 -  기대게 해줌\n",
        "\n",
        "TV를 옮기는 사람\n",
        " TV - 50KG\n",
        " 사람 - 들다\n",
        " 소파 - 필요없음\n",
        "\n",
        "- TV (객체)\n",
        "   - 켜다\n",
        "   - 끄다\n",
        "   - 소리를 키우다\n",
        "   - 채널을 돌리다\n",
        "   - LED\n",
        "   - 50KG\n",
        "   - 검은색\n",
        "\n",
        "- 사람\n",
        "  - 먹다\n",
        "  - 보다\n",
        "  - 듣다\n",
        "  - 프로그래밍하다\n",
        "  - 성별\n",
        "  - 몸무게 NKG\n",
        "\n",
        "- 소파\n",
        "   - 흰색\n",
        "   - 100KG\n",
        "```\n",
        "    - 해당 객체의 속성, 동작(메소드)를 주제 단위로 묶어놓고 속성/동작을 관리하기 위해서 클래스 라는 개념이 도입됐습니다.\n",
        "\n",
        "### 3. 함수형 프로그래밍\n",
        "\n",
        " <img src=\"http://www.tcpschool.com/lectures/img_codingmath_16.png\">\n",
        "\n",
        "    - 코드를 작성하는 새로운 방법\n",
        "    - 함수형 언어들은 반복문이 없습니다\n",
        "    - 반복이 필요하다면 - 재귀를 이용해서 표현\n",
        "\n",
        "- 기존 문법:\n",
        "  어떤 집합 X에 대해서 Y를 정의할 때 관계를 나타내는 것이 함수\n",
        "  - 프로그래밍 언어로는 완벽하게 표현할 수 없어서 버그가 발생합니다\n",
        "\n",
        "- 기존의 프로그래밍 방법에는 반복문이 반드시 사용되어야 하는데 -> out of range 에러부터....\n",
        "- 불필요한 코드도 생기고\n",
        "- 통계적으로 10줄당 1개의 버그가 있대요\n",
        "\n",
        "- 그래서 파이썬은 함수형 언어의 일부 기능을 제공합니다.\n",
        "- 람다 대표적인 함수형 언어의 기능을 제공하는 방법입니다"
      ],
      "metadata": {
        "id": "bzrte8fJkCi4"
      }
    },
    {
      "cell_type": "code",
      "source": [
        "# 주어.동사(목적어)\n",
        "# 객체의 주제(클래스), 그 클래스에서만 쓸 수 있는 함수(파라미터 혹은 자료)\n",
        "str1 = '사과나무'\n",
        "# 작은따옴표로 데이터를 감싸준다 -> str 자료형의 객체로 데이터를 받는다\n",
        "# -> str 자료형에만 쓸 수 있는 함수, 변수들을 가지게 된다"
      ],
      "metadata": {
        "id": "MsR66rvRhRji",
        "colab": {
          "base_uri": "https://localhost:8080/"
        },
        "outputId": "a24ccca6-620e-4ec0-f70e-3cac3e8a6b7c"
      },
      "execution_count": null,
      "outputs": [
        {
          "output_type": "execute_result",
          "data": {
            "text/plain": [
              "3"
            ]
          },
          "metadata": {},
          "execution_count": 5
        }
      ]
    },
    {
      "cell_type": "code",
      "source": [
        "# sum_ 처럼 어딘가에 공간을 만들어 놓지 않으면 쓸 수 없다.\n",
        "# 어딘가 만든다 라는 것도 시간, 메모리를 사용하는 일이다ㅏ.\n",
        "# 그래서 만들어놓고 안 쓰는 것, 혹은 만들어서 쓰느라 걸리는 시간, 메모리를 줄이기 위한 방법\n",
        "# 절차형 프로그래밍의 순서를 조금 더 작은 규모로 사용하는 방법 - 함수형 프로그래밍"
      ],
      "metadata": {
        "id": "W1SvTZYjpmch"
      },
      "execution_count": null,
      "outputs": []
    },
    {
      "cell_type": "markdown",
      "source": [
        "## List Comprehension\n",
        "Comprehension  - 이해력, 포함, 내포\n",
        "\n",
        "- 기존 List를 사용해서 간단히 다른 리스트를 만드는 기법\n",
        "- for + append 보다 속도가 빠릅니다.\n",
        "    - for문은 실행할때마다 메모리 재할당이 발생\n",
        "    - 대부분 프로그램이 느려지는 이유는 재할당 때문입니다.\n",
        "\n",
        "\n",
        "```\n",
        "[(변수에 적용할 수식) for (변수) in (for문이 돌아가는 범위)]\n",
        "```\n",
        "\n"
      ],
      "metadata": {
        "id": "hOj2pxZCp7TJ"
      }
    },
    {
      "cell_type": "code",
      "source": [
        "# 1~5까지 값이 들어있는 list1을 반복문으로 하나 만들어주세요\n",
        "list1=[]\n",
        "for i in range(1,6):\n",
        "    list1.append(i)\n",
        "list1"
      ],
      "metadata": {
        "id": "j7mTRbzWpjwM",
        "colab": {
          "base_uri": "https://localhost:8080/"
        },
        "outputId": "a2594711-50d7-42fb-e317-66c441043860"
      },
      "execution_count": null,
      "outputs": [
        {
          "output_type": "execute_result",
          "data": {
            "text/plain": [
              "[1, 2, 3, 4, 5]"
            ]
          },
          "metadata": {},
          "execution_count": 11
        }
      ]
    },
    {
      "cell_type": "code",
      "source": [
        "list1 = [i for i in range(1,6)]\n",
        "list1"
      ],
      "metadata": {
        "id": "tZcYFvPYqrX1",
        "colab": {
          "base_uri": "https://localhost:8080/"
        },
        "outputId": "5331a348-81d3-4c50-e4d4-b9c2de85a167"
      },
      "execution_count": null,
      "outputs": [
        {
          "output_type": "execute_result",
          "data": {
            "text/plain": [
              "[1, 2, 3, 4, 5]"
            ]
          },
          "metadata": {},
          "execution_count": 12
        }
      ]
    },
    {
      "cell_type": "code",
      "source": [],
      "metadata": {
        "id": "uq_hlAX8qvcC"
      },
      "execution_count": null,
      "outputs": []
    },
    {
      "cell_type": "markdown",
      "source": [
        "## for 문을 활용해서 0~11 사이에 2의 배수만 들어있는 리스트 result를 만들어주세요."
      ],
      "metadata": {
        "id": "xAj9yTh8q637"
      }
    },
    {
      "cell_type": "code",
      "source": [
        "result = []\n",
        "\n",
        "for i in range(0,12):\n",
        "    if i %2 == 0:\n",
        "        result.append(i)\n",
        "result"
      ],
      "metadata": {
        "id": "jDgyiWZ8q6Pq",
        "colab": {
          "base_uri": "https://localhost:8080/"
        },
        "outputId": "53251156-497f-4f39-c271-48cd2bd86e25"
      },
      "execution_count": null,
      "outputs": [
        {
          "output_type": "execute_result",
          "data": {
            "text/plain": [
              "[0, 2, 4, 6, 8, 10]"
            ]
          },
          "metadata": {},
          "execution_count": 13
        }
      ]
    },
    {
      "cell_type": "markdown",
      "source": [
        "## 위의 for문을 List Comprehension으로 만들어주세요"
      ],
      "metadata": {
        "id": "Yf5-mqV8rhfa"
      }
    },
    {
      "cell_type": "code",
      "source": [
        "# List Comprehension에는 조건문도 넣을 수 있다.\n",
        "\n",
        "result = [i for i in range(0,12) if i %2 == 0]\n",
        "result"
      ],
      "metadata": {
        "id": "C74qAYKTq2Mx",
        "colab": {
          "base_uri": "https://localhost:8080/"
        },
        "outputId": "42ae0331-5faa-4664-e004-af37cb3a985c"
      },
      "execution_count": null,
      "outputs": [
        {
          "output_type": "execute_result",
          "data": {
            "text/plain": [
              "[0, 2, 4, 6, 8, 10]"
            ]
          },
          "metadata": {},
          "execution_count": 20
        }
      ]
    },
    {
      "cell_type": "markdown",
      "source": [
        "## 실습. 얘를 리스트컴프리헨션 내의 이중 for문으로 바꿔주세요."
      ],
      "metadata": {
        "id": "6URE8Obluw3a"
      }
    },
    {
      "cell_type": "code",
      "source": [
        "num = '12345'\n",
        "word = 'ABCDE'\n",
        "\n",
        "result = [i+k for i in num for k in word]\n",
        "# 변수에 적용할 수식 for 외부 반복문 for 내부 반복문\n",
        "result"
      ],
      "metadata": {
        "colab": {
          "base_uri": "https://localhost:8080/"
        },
        "id": "XXpcG1INJ5VH",
        "outputId": "206fbe73-c418-46bd-b8b4-8bfd3fe6b47d"
      },
      "execution_count": null,
      "outputs": [
        {
          "output_type": "execute_result",
          "data": {
            "text/plain": [
              "['1A',\n",
              " '1B',\n",
              " '1C',\n",
              " '1D',\n",
              " '1E',\n",
              " '2A',\n",
              " '2B',\n",
              " '2C',\n",
              " '2D',\n",
              " '2E',\n",
              " '3A',\n",
              " '3B',\n",
              " '3C',\n",
              " '3D',\n",
              " '3E',\n",
              " '4A',\n",
              " '4B',\n",
              " '4C',\n",
              " '4D',\n",
              " '4E',\n",
              " '5A',\n",
              " '5B',\n",
              " '5C',\n",
              " '5D',\n",
              " '5E']"
            ]
          },
          "metadata": {},
          "execution_count": 24
        }
      ]
    },
    {
      "cell_type": "code",
      "source": [
        "# 겹치는 문자 제외\n",
        "case_1 = ['A','B','C','D']\n",
        "case_2 = ['1','2','A']\n",
        "\n",
        "for word in case_1:\n",
        "    for num in case_2:\n",
        "        if word != num:\n",
        "            result.append(word+num)\n",
        "\n",
        "result"
      ],
      "metadata": {
        "id": "YemVKBH_uoK9",
        "colab": {
          "base_uri": "https://localhost:8080/"
        },
        "outputId": "d361bfb6-75d2-4e7a-bb48-c97cf7431c06"
      },
      "execution_count": null,
      "outputs": [
        {
          "output_type": "execute_result",
          "data": {
            "text/plain": [
              "['1A',\n",
              " '1B',\n",
              " '1C',\n",
              " '1D',\n",
              " '1E',\n",
              " '2A',\n",
              " '2B',\n",
              " '2C',\n",
              " '2D',\n",
              " '2E',\n",
              " '3A',\n",
              " '3B',\n",
              " '3C',\n",
              " '3D',\n",
              " '3E',\n",
              " '4A',\n",
              " '4B',\n",
              " '4C',\n",
              " '4D',\n",
              " '4E',\n",
              " '5A',\n",
              " '5B',\n",
              " '5C',\n",
              " '5D',\n",
              " '5E',\n",
              " 'A1',\n",
              " 'A2',\n",
              " 'A3',\n",
              " 'B1',\n",
              " 'B2',\n",
              " 'B3',\n",
              " 'C1',\n",
              " 'C2',\n",
              " 'C3',\n",
              " 'D1',\n",
              " 'D2',\n",
              " 'D3',\n",
              " 'A1',\n",
              " 'A2',\n",
              " 'A3',\n",
              " 'B1',\n",
              " 'B2',\n",
              " 'B3',\n",
              " 'C1',\n",
              " 'C2',\n",
              " 'C3',\n",
              " 'D1',\n",
              " 'D2',\n",
              " 'D3',\n",
              " 'A1',\n",
              " 'A2',\n",
              " 'A3',\n",
              " 'B1',\n",
              " 'B2',\n",
              " 'B3',\n",
              " 'C1',\n",
              " 'C2',\n",
              " 'C3',\n",
              " 'D1',\n",
              " 'D2',\n",
              " 'D3',\n",
              " 'A1',\n",
              " 'A2',\n",
              " 'A3',\n",
              " 'B1',\n",
              " 'B2',\n",
              " 'B3',\n",
              " 'C1',\n",
              " 'C2',\n",
              " 'C3',\n",
              " 'D1',\n",
              " 'D2',\n",
              " 'D3',\n",
              " 'A1',\n",
              " 'A2',\n",
              " 'A3',\n",
              " 'B1',\n",
              " 'B2',\n",
              " 'B3',\n",
              " 'C1',\n",
              " 'C2',\n",
              " 'C3',\n",
              " 'D1',\n",
              " 'D2',\n",
              " 'D3',\n",
              " '1A',\n",
              " '2A',\n",
              " '3A',\n",
              " '1B',\n",
              " '2B',\n",
              " '3B',\n",
              " '1C',\n",
              " '2C',\n",
              " '3C',\n",
              " '1D',\n",
              " '2D',\n",
              " '3D',\n",
              " '1A',\n",
              " '2A',\n",
              " '3A',\n",
              " '1B',\n",
              " '2B',\n",
              " '3B',\n",
              " '1C',\n",
              " '2C',\n",
              " '3C',\n",
              " '1D',\n",
              " '2D',\n",
              " '3D',\n",
              " '1A',\n",
              " '2A',\n",
              " '1B',\n",
              " '2B',\n",
              " 'AB',\n",
              " '1C',\n",
              " '2C',\n",
              " 'AC',\n",
              " '1D',\n",
              " '2D',\n",
              " 'AD',\n",
              " 'A1',\n",
              " 'A2',\n",
              " 'B1',\n",
              " 'B2',\n",
              " 'BA',\n",
              " 'C1',\n",
              " 'C2',\n",
              " 'CA',\n",
              " 'D1',\n",
              " 'D2',\n",
              " 'DA']"
            ]
          },
          "metadata": {},
          "execution_count": 33
        }
      ]
    },
    {
      "cell_type": "code",
      "source": [
        "case_1 = ['A','B','C','D']\n",
        "case_2 = ['1','2','A']\n",
        "\n",
        "result = tuple(word+num for word in case_1 for num in case_2 if word != num)\n",
        "result"
      ],
      "metadata": {
        "colab": {
          "base_uri": "https://localhost:8080/"
        },
        "id": "BGBBNqtkPTdV",
        "outputId": "84193e6e-90e9-4958-c8a9-4ead4cf0952f"
      },
      "execution_count": null,
      "outputs": [
        {
          "output_type": "execute_result",
          "data": {
            "text/plain": [
              "('A1', 'A2', 'B1', 'B2', 'BA', 'C1', 'C2', 'CA', 'D1', 'D2', 'DA')"
            ]
          },
          "metadata": {},
          "execution_count": 35
        }
      ]
    },
    {
      "cell_type": "code",
      "source": [
        "result = {_ : str(_+1) for _ in range(10)}\n",
        "result"
      ],
      "metadata": {
        "colab": {
          "base_uri": "https://localhost:8080/"
        },
        "id": "gjK3-ZK1P3SZ",
        "outputId": "398934de-aae4-4846-87c6-5f8dd32703b8"
      },
      "execution_count": null,
      "outputs": [
        {
          "output_type": "execute_result",
          "data": {
            "text/plain": [
              "{0: '1',\n",
              " 1: '2',\n",
              " 2: '3',\n",
              " 3: '4',\n",
              " 4: '5',\n",
              " 5: '6',\n",
              " 6: '7',\n",
              " 7: '8',\n",
              " 8: '9',\n",
              " 9: '10'}"
            ]
          },
          "metadata": {},
          "execution_count": 38
        }
      ]
    },
    {
      "cell_type": "markdown",
      "source": [
        "- 초기화된 리스트가 필요한 경우"
      ],
      "metadata": {
        "id": "4gSJumPFxe9X"
      }
    },
    {
      "cell_type": "code",
      "source": [
        "result = [ 0 for _ in range(10)]"
      ],
      "metadata": {
        "id": "so6JaUH8w-BZ"
      },
      "execution_count": null,
      "outputs": []
    },
    {
      "cell_type": "code",
      "source": [
        "result"
      ],
      "metadata": {
        "colab": {
          "base_uri": "https://localhost:8080/"
        },
        "id": "iHMXJ_VbxleL",
        "outputId": "45355463-2d5b-456f-9eca-38abc2d385e3"
      },
      "execution_count": null,
      "outputs": [
        {
          "output_type": "execute_result",
          "data": {
            "text/plain": [
              "[0, 0, 0, 0, 0, 0, 0, 0, 0, 0]"
            ]
          },
          "metadata": {},
          "execution_count": 40
        }
      ]
    },
    {
      "cell_type": "code",
      "source": [
        "[0] * 10"
      ],
      "metadata": {
        "colab": {
          "base_uri": "https://localhost:8080/"
        },
        "id": "6S_PrKa2xpnC",
        "outputId": "39763497-511a-47a7-98c8-6e7295701fbb"
      },
      "execution_count": null,
      "outputs": [
        {
          "output_type": "execute_result",
          "data": {
            "text/plain": [
              "[0, 0, 0, 0, 0, 0, 0, 0, 0, 0]"
            ]
          },
          "metadata": {},
          "execution_count": 41
        }
      ]
    },
    {
      "cell_type": "markdown",
      "source": [
        "# Map\n",
        "- 시퀀스 자료형 각 요소에 동일한 함수를 적용할 때\n",
        "- 실행시점에 값을 생성하기 때문에 메모리 효율적\n",
        "\n",
        "```\n",
        "map(function_name, list_data)\n",
        "```"
      ],
      "metadata": {
        "id": "C0y89kbmx1jF"
      }
    },
    {
      "cell_type": "code",
      "source": [
        "li = [1,2,3,4,5]"
      ],
      "metadata": {
        "id": "A0UUTxMXRHs7"
      },
      "execution_count": null,
      "outputs": []
    },
    {
      "cell_type": "code",
      "source": [
        "def multiply(x):\n",
        "    return x**2"
      ],
      "metadata": {
        "id": "-XRzOZdCxxhC"
      },
      "execution_count": null,
      "outputs": []
    },
    {
      "cell_type": "code",
      "source": [
        "list(map(multiply, li)) # 콜백 - 함수가 함수를 호출하는 경우"
      ],
      "metadata": {
        "id": "YslO6BjYyWSH",
        "colab": {
          "base_uri": "https://localhost:8080/"
        },
        "outputId": "e46ccb43-d2ae-490d-8a6f-72e37873a541"
      },
      "execution_count": null,
      "outputs": [
        {
          "output_type": "execute_result",
          "data": {
            "text/plain": [
              "[1, 4, 9, 16, 25]"
            ]
          },
          "metadata": {},
          "execution_count": 49
        }
      ]
    },
    {
      "cell_type": "code",
      "source": [
        "li"
      ],
      "metadata": {
        "colab": {
          "base_uri": "https://localhost:8080/"
        },
        "id": "xupP5P34RxdM",
        "outputId": "2bb11055-ab7b-4756-cca9-b0939a1e8c82"
      },
      "execution_count": null,
      "outputs": [
        {
          "output_type": "execute_result",
          "data": {
            "text/plain": [
              "[1, 2, 3, 4, 5]"
            ]
          },
          "metadata": {},
          "execution_count": 51
        }
      ]
    },
    {
      "cell_type": "code",
      "source": [
        "li2 = [10, 20, 30, 40, 50]"
      ],
      "metadata": {
        "id": "DlqVGZlMR0nW"
      },
      "execution_count": null,
      "outputs": []
    },
    {
      "cell_type": "code",
      "source": [
        "list(map(lambda x,y : x*y, li, li2))"
      ],
      "metadata": {
        "colab": {
          "base_uri": "https://localhost:8080/"
        },
        "id": "WDCNGd1wR2If",
        "outputId": "9626edb9-3a52-4cf8-cc69-8b519703c441"
      },
      "execution_count": null,
      "outputs": [
        {
          "output_type": "execute_result",
          "data": {
            "text/plain": [
              "[10, 40, 90, 160, 250]"
            ]
          },
          "metadata": {},
          "execution_count": 53
        }
      ]
    },
    {
      "cell_type": "code",
      "source": [
        "list(map(lambda x: x**2, li))"
      ],
      "metadata": {
        "id": "CVyc1sL5ybML",
        "colab": {
          "base_uri": "https://localhost:8080/"
        },
        "outputId": "43894d9f-7c35-4286-d700-08c94e1f96ad"
      },
      "execution_count": null,
      "outputs": [
        {
          "output_type": "execute_result",
          "data": {
            "text/plain": [
              "[1, 4, 9, 16, 25]"
            ]
          },
          "metadata": {},
          "execution_count": 48
        }
      ]
    },
    {
      "cell_type": "markdown",
      "source": [
        "## 실습. plus, minus, multiply, divide 함수를 ex라는 List에 각각 적용하기"
      ],
      "metadata": {
        "id": "u44Nhz9DUbDJ"
      }
    },
    {
      "cell_type": "code",
      "source": [
        "def plus(x,y):\n",
        "    return x + y\n",
        "\n",
        "def minus(x,y):\n",
        "    return x - y\n",
        "\n",
        "def multiply(x,y):\n",
        "    return x * y\n",
        "\n",
        "def divide(x,y):\n",
        "    return x/y\n"
      ],
      "metadata": {
        "id": "s2GKgueOzdmK",
        "colab": {
          "base_uri": "https://localhost:8080/"
        },
        "outputId": "c07cd3fb-ea0b-43cf-c110-7c87e9f28056"
      },
      "execution_count": null,
      "outputs": [
        {
          "output_type": "execute_result",
          "data": {
            "text/plain": [
              "[11, 22, 33, 44, 55]"
            ]
          },
          "metadata": {},
          "execution_count": 54
        }
      ]
    },
    {
      "cell_type": "code",
      "source": [
        "ex = list(map(plus, li, li2))\n",
        "ex"
      ],
      "metadata": {
        "id": "rmUKB9-IzVRz",
        "colab": {
          "base_uri": "https://localhost:8080/"
        },
        "outputId": "a2ef19a4-03a2-40fd-c9b0-4163d6a56ede"
      },
      "execution_count": null,
      "outputs": [
        {
          "output_type": "execute_result",
          "data": {
            "text/plain": [
              "[11, 22, 33, 44, 55]"
            ]
          },
          "metadata": {},
          "execution_count": 56
        }
      ]
    },
    {
      "cell_type": "code",
      "source": [
        "ex = list(map(minus, li, li2))\n",
        "ex"
      ],
      "metadata": {
        "colab": {
          "base_uri": "https://localhost:8080/"
        },
        "id": "SxHSHhnvTL4U",
        "outputId": "58099851-f005-4e73-eeed-8a4ab0b59ace"
      },
      "execution_count": null,
      "outputs": [
        {
          "output_type": "execute_result",
          "data": {
            "text/plain": [
              "[-9, -18, -27, -36, -45]"
            ]
          },
          "metadata": {},
          "execution_count": 57
        }
      ]
    },
    {
      "cell_type": "code",
      "source": [
        "ex = list(map(multiply, li, li2))\n",
        "ex"
      ],
      "metadata": {
        "colab": {
          "base_uri": "https://localhost:8080/"
        },
        "id": "5CbeY3DTTOXk",
        "outputId": "b9f1d3c7-648e-422d-e401-cd3ba431f31c"
      },
      "execution_count": null,
      "outputs": [
        {
          "output_type": "execute_result",
          "data": {
            "text/plain": [
              "[10, 40, 90, 160, 250]"
            ]
          },
          "metadata": {},
          "execution_count": 58
        }
      ]
    },
    {
      "cell_type": "code",
      "source": [
        "ex = list(map(divide, li2, li))\n",
        "ex"
      ],
      "metadata": {
        "colab": {
          "base_uri": "https://localhost:8080/"
        },
        "id": "F5Z7ipvWTQwL",
        "outputId": "ffaf8e47-5c10-48bf-975d-b05fb4eba5b3"
      },
      "execution_count": null,
      "outputs": [
        {
          "output_type": "execute_result",
          "data": {
            "text/plain": [
              "[10.0, 10.0, 10.0, 10.0, 10.0]"
            ]
          },
          "metadata": {},
          "execution_count": 60
        }
      ]
    },
    {
      "cell_type": "code",
      "source": [
        "# 코드가 어떻게 생겼는지 보고 싶다면\n",
        "import inspect\n",
        "\n",
        "print(inspect.getsource(minus))"
      ],
      "metadata": {
        "colab": {
          "base_uri": "https://localhost:8080/"
        },
        "id": "OQlnQRnpVWCi",
        "outputId": "e134e536-b18e-4684-94a9-eef6ac374e41"
      },
      "execution_count": null,
      "outputs": [
        {
          "output_type": "stream",
          "name": "stdout",
          "text": [
            "def minus(x,y):\n",
            "    return x - y\n",
            "\n"
          ]
        }
      ]
    },
    {
      "cell_type": "code",
      "source": [
        "list(map(str, li, li2))"
      ],
      "metadata": {
        "colab": {
          "base_uri": "https://localhost:8080/",
          "height": 172
        },
        "id": "91DCPAljVZNK",
        "outputId": "d8e5abb3-1a81-4bff-c9cb-eba1d7925cae"
      },
      "execution_count": null,
      "outputs": [
        {
          "output_type": "error",
          "ename": "TypeError",
          "evalue": "ignored",
          "traceback": [
            "\u001b[0;31m---------------------------------------------------------------------------\u001b[0m",
            "\u001b[0;31mTypeError\u001b[0m                                 Traceback (most recent call last)",
            "\u001b[0;32m<ipython-input-62-06c6413ed4c0>\u001b[0m in \u001b[0;36m<cell line: 1>\u001b[0;34m()\u001b[0m\n\u001b[0;32m----> 1\u001b[0;31m \u001b[0mlist\u001b[0m\u001b[0;34m(\u001b[0m\u001b[0mmap\u001b[0m\u001b[0;34m(\u001b[0m\u001b[0mstr\u001b[0m\u001b[0;34m,\u001b[0m \u001b[0mli\u001b[0m\u001b[0;34m,\u001b[0m \u001b[0mli2\u001b[0m\u001b[0;34m)\u001b[0m\u001b[0;34m)\u001b[0m\u001b[0;34m\u001b[0m\u001b[0;34m\u001b[0m\u001b[0m\n\u001b[0m",
            "\u001b[0;31mTypeError\u001b[0m: str() argument 'encoding' must be str, not int"
          ]
        }
      ]
    },
    {
      "cell_type": "markdown",
      "source": [
        "#  filter\n",
        "- 이터러블의 각 요소에 대해 function이 참인 것만 반환하는 요소의 이터레이터\n",
        "\n",
        "```\n",
        "filter(function, iterable)\n",
        "```"
      ],
      "metadata": {
        "id": "BfcOsIsXVB8K"
      }
    },
    {
      "cell_type": "code",
      "source": [
        "def even(i):\n",
        "    if i % 2 == 0:\n",
        "        return i"
      ],
      "metadata": {
        "id": "taL1Jb6LVfne"
      },
      "execution_count": null,
      "outputs": []
    },
    {
      "cell_type": "code",
      "source": [
        "list(map(even, li))"
      ],
      "metadata": {
        "colab": {
          "base_uri": "https://localhost:8080/"
        },
        "outputId": "a24199e1-ec75-4b1b-ca98-418d38a297ba",
        "id": "LenRxD8zVfne"
      },
      "execution_count": null,
      "outputs": [
        {
          "output_type": "execute_result",
          "data": {
            "text/plain": [
              "[None, 2, None, 4, None]"
            ]
          },
          "metadata": {},
          "execution_count": 64
        }
      ]
    },
    {
      "cell_type": "code",
      "source": [
        "list(filter(even, li))"
      ],
      "metadata": {
        "id": "B57SWuVLVO_c",
        "outputId": "99edb5b6-c9e3-40fd-9e53-d857a0ec5bc5",
        "colab": {
          "base_uri": "https://localhost:8080/"
        }
      },
      "execution_count": null,
      "outputs": [
        {
          "output_type": "execute_result",
          "data": {
            "text/plain": [
              "[2, 4]"
            ]
          },
          "metadata": {},
          "execution_count": 65
        }
      ]
    },
    {
      "cell_type": "markdown",
      "source": [
        "## 리스트 컴프리헨션으로 30까지 리스트 만들어주시고\n",
        "## 3의배수만 필터로 걸러내주세요."
      ],
      "metadata": {
        "id": "ubMfuh0AVfKP"
      }
    },
    {
      "cell_type": "code",
      "source": [
        "li_ = list(i for i in range(31))"
      ],
      "metadata": {
        "id": "a1KpI6yHVa7l"
      },
      "execution_count": null,
      "outputs": []
    },
    {
      "cell_type": "code",
      "source": [
        "def three(i):\n",
        "    if i % 3 == 0:\n",
        "        return i"
      ],
      "metadata": {
        "id": "9Ue-MFejWvgl"
      },
      "execution_count": null,
      "outputs": []
    },
    {
      "cell_type": "code",
      "source": [
        "list(map(three,li_))"
      ],
      "metadata": {
        "id": "Sc7sl5ZyW3s-",
        "colab": {
          "base_uri": "https://localhost:8080/"
        },
        "outputId": "c4f2a7ad-9817-4e3d-fead-2b2f43b17e1d"
      },
      "execution_count": null,
      "outputs": [
        {
          "output_type": "execute_result",
          "data": {
            "text/plain": [
              "[0,\n",
              " None,\n",
              " None,\n",
              " 3,\n",
              " None,\n",
              " None,\n",
              " 6,\n",
              " None,\n",
              " None,\n",
              " 9,\n",
              " None,\n",
              " None,\n",
              " 12,\n",
              " None,\n",
              " None,\n",
              " 15,\n",
              " None,\n",
              " None,\n",
              " 18,\n",
              " None,\n",
              " None,\n",
              " 21,\n",
              " None,\n",
              " None,\n",
              " 24,\n",
              " None,\n",
              " None,\n",
              " 27,\n",
              " None,\n",
              " None,\n",
              " 30]"
            ]
          },
          "metadata": {},
          "execution_count": 70
        }
      ]
    },
    {
      "cell_type": "code",
      "source": [
        "list(filter(three,li_))"
      ],
      "metadata": {
        "colab": {
          "base_uri": "https://localhost:8080/"
        },
        "id": "r-yrniNTV2RT",
        "outputId": "15c0e248-de9f-42ea-8781-10ae3f6c4113"
      },
      "execution_count": null,
      "outputs": [
        {
          "output_type": "execute_result",
          "data": {
            "text/plain": [
              "[3, 6, 9, 12, 15, 18, 21, 24, 27, 30]"
            ]
          },
          "metadata": {},
          "execution_count": 71
        }
      ]
    },
    {
      "cell_type": "code",
      "source": [
        "li1_ = [i for i in range(1,31)]\n",
        "list(filter(lambda x:x%3==0, li1_))"
      ],
      "metadata": {
        "colab": {
          "base_uri": "https://localhost:8080/"
        },
        "id": "I-sdV0qTWdfY",
        "outputId": "1ca129c1-b6e6-4a4f-91b5-87d17d38d60d"
      },
      "execution_count": null,
      "outputs": [
        {
          "output_type": "execute_result",
          "data": {
            "text/plain": [
              "[3, 6, 9, 12, 15, 18, 21, 24, 27, 30]"
            ]
          },
          "metadata": {},
          "execution_count": 73
        }
      ]
    },
    {
      "cell_type": "code",
      "source": [
        "# 3 또는 5의 배수만 리스트에 담기\n",
        "list(filter(lambda x: x%3==0 or x%5==0, li1_))"
      ],
      "metadata": {
        "colab": {
          "base_uri": "https://localhost:8080/"
        },
        "id": "6F6HNONmWp53",
        "outputId": "8e1906c6-f654-4e9d-fc8e-c5fe858468b3"
      },
      "execution_count": null,
      "outputs": [
        {
          "output_type": "execute_result",
          "data": {
            "text/plain": [
              "[3, 5, 6, 9, 10, 12, 15, 18, 20, 21, 24, 25, 27, 30]"
            ]
          },
          "metadata": {},
          "execution_count": 74
        }
      ]
    },
    {
      "cell_type": "markdown",
      "source": [
        "# Enumerate & Zip\n",
        "- Enumerate(열거하다)\n",
        "    - 리스트의 요소를 추출할 때 번호를 붙여서 추출해 줍니다\n",
        "```\n",
        "enumerate(변수명)\n",
        "```\n",
        "\n",
        "- Zip (잠그다)\n",
        "    - 두개의 리스트를 병렬적으로 추출함\n",
        "```\n",
        "zip(list, list)\n",
        "```"
      ],
      "metadata": {
        "id": "AX4ToblhXVHg"
      }
    },
    {
      "cell_type": "code",
      "source": [
        "list(enumerate(li)) # 인덱스 번호를 함께 보기 위해 많이 사용합니다."
      ],
      "metadata": {
        "id": "BCSlE3D7XIR1",
        "colab": {
          "base_uri": "https://localhost:8080/"
        },
        "outputId": "ed16cee5-b4cb-491b-b1f8-5b464e2aeeed"
      },
      "execution_count": null,
      "outputs": [
        {
          "output_type": "execute_result",
          "data": {
            "text/plain": [
              "[(0, 1), (1, 2), (2, 3), (3, 4), (4, 5)]"
            ]
          },
          "metadata": {},
          "execution_count": 76
        }
      ]
    },
    {
      "cell_type": "code",
      "source": [
        "list1 = ['사과', '바나나', '딸기', '포도', '키위']"
      ],
      "metadata": {
        "id": "sjX5PJjQY4cW"
      },
      "execution_count": null,
      "outputs": []
    },
    {
      "cell_type": "code",
      "source": [
        "list(enumerate(list1))"
      ],
      "metadata": {
        "id": "ZaNxdJd1ZATF",
        "colab": {
          "base_uri": "https://localhost:8080/"
        },
        "outputId": "e5e7fd21-bbec-44e2-a91c-bc522f578e45"
      },
      "execution_count": null,
      "outputs": [
        {
          "output_type": "execute_result",
          "data": {
            "text/plain": [
              "[(0, '사과'), (1, '바나나'), (2, '딸기'), (3, '포도'), (4, '키위')]"
            ]
          },
          "metadata": {},
          "execution_count": 78
        }
      ]
    },
    {
      "cell_type": "code",
      "source": [
        "for idx, val in enumerate(list1):\n",
        "    print(idx, val)"
      ],
      "metadata": {
        "id": "bvzbEdvBZbuA",
        "colab": {
          "base_uri": "https://localhost:8080/"
        },
        "outputId": "134822e5-8cd2-448f-a2ef-57f9063ea462"
      },
      "execution_count": null,
      "outputs": [
        {
          "output_type": "stream",
          "name": "stdout",
          "text": [
            "0 사과\n",
            "1 바나나\n",
            "2 딸기\n",
            "3 포도\n",
            "4 키위\n"
          ]
        }
      ]
    },
    {
      "cell_type": "code",
      "source": [
        "for val in enumerate(list1):\n",
        "    print(val[0], val[1])"
      ],
      "metadata": {
        "id": "Xiqi-uVHZML3",
        "colab": {
          "base_uri": "https://localhost:8080/"
        },
        "outputId": "c29dfc85-3f7b-4f4b-9696-3d01709a379e"
      },
      "execution_count": null,
      "outputs": [
        {
          "output_type": "stream",
          "name": "stdout",
          "text": [
            "0 사과\n",
            "1 바나나\n",
            "2 딸기\n",
            "3 포도\n",
            "4 키위\n"
          ]
        }
      ]
    },
    {
      "cell_type": "code",
      "source": [
        "[print(idx, val) for idx, val in enumerate(list1)]\n",
        "# [None, None, None, None, None] -> 인터프리터가 개발자에게 알려주는 결과일 뿐 실제 사용화면에서는 보이지 않음."
      ],
      "metadata": {
        "id": "Vgo8UtEtZQqV",
        "colab": {
          "base_uri": "https://localhost:8080/"
        },
        "outputId": "d6d977ff-ccd5-4d03-c415-fd4abc26cdf3"
      },
      "execution_count": null,
      "outputs": [
        {
          "output_type": "stream",
          "name": "stdout",
          "text": [
            "0 사과\n",
            "1 바나나\n",
            "2 딸기\n",
            "3 포도\n",
            "4 키위\n"
          ]
        },
        {
          "output_type": "execute_result",
          "data": {
            "text/plain": [
              "[None, None, None, None, None]"
            ]
          },
          "metadata": {},
          "execution_count": 82
        }
      ]
    },
    {
      "cell_type": "markdown",
      "source": [
        "- Zip (잠그다)\n",
        "    - 두개 이상의 리스트를 병렬적으로 추출함\n",
        "```\n",
        "zip(list, list)\n",
        "```"
      ],
      "metadata": {
        "id": "akKUSN6bZk6T"
      }
    },
    {
      "cell_type": "code",
      "source": [
        "alist = ['사과', '바나나', '딸기']\n",
        "blist = ['Apple', 'Banana', 'Strawberry']"
      ],
      "metadata": {
        "id": "b3vq-iy9ZXIW"
      },
      "execution_count": null,
      "outputs": []
    },
    {
      "cell_type": "code",
      "source": [
        "list(zip(alist, blist))"
      ],
      "metadata": {
        "id": "fhWVJiuNZrI1",
        "colab": {
          "base_uri": "https://localhost:8080/"
        },
        "outputId": "4eee5913-0293-4f48-de56-bb609adf8a03"
      },
      "execution_count": null,
      "outputs": [
        {
          "output_type": "execute_result",
          "data": {
            "text/plain": [
              "[('사과', 'Apple'), ('바나나', 'Banana'), ('딸기', 'Strawberry')]"
            ]
          },
          "metadata": {},
          "execution_count": 84
        }
      ]
    },
    {
      "cell_type": "code",
      "source": [
        "for val in zip(alist, blist):\n",
        "    print(val[0], val[1])"
      ],
      "metadata": {
        "colab": {
          "base_uri": "https://localhost:8080/"
        },
        "id": "zBGl2priaWbp",
        "outputId": "d3cc58bf-1c5a-404c-bef7-8653f5e00eee"
      },
      "execution_count": null,
      "outputs": [
        {
          "output_type": "stream",
          "name": "stdout",
          "text": [
            "사과 Apple\n",
            "바나나 Banana\n",
            "딸기 Strawberry\n"
          ]
        }
      ]
    },
    {
      "cell_type": "code",
      "source": [
        "for val1, (v0,v1) in enumerate(zip(alist, blist)):\n",
        "    print(val1+1,v0,v1)"
      ],
      "metadata": {
        "colab": {
          "base_uri": "https://localhost:8080/"
        },
        "id": "o2MkLPc0aNtw",
        "outputId": "0056dcf8-da4b-4ec3-eca1-cce41b7ddf69"
      },
      "execution_count": null,
      "outputs": [
        {
          "output_type": "stream",
          "name": "stdout",
          "text": [
            "1 사과 Apple\n",
            "2 바나나 Banana\n",
            "3 딸기 Strawberry\n"
          ]
        }
      ]
    },
    {
      "cell_type": "code",
      "source": [
        "[print(val1+1, v0, v1) for val1, (v0, v1) in enumerate(zip(alist, blist))]"
      ],
      "metadata": {
        "colab": {
          "base_uri": "https://localhost:8080/"
        },
        "id": "xHnj1G6Patmg",
        "outputId": "a6d87f1b-cc19-4659-8fd7-8e9049764450"
      },
      "execution_count": null,
      "outputs": [
        {
          "output_type": "stream",
          "name": "stdout",
          "text": [
            "1 사과 Apple\n",
            "2 바나나 Banana\n",
            "3 딸기 Strawberry\n"
          ]
        },
        {
          "output_type": "execute_result",
          "data": {
            "text/plain": [
              "[None, None, None]"
            ]
          },
          "metadata": {},
          "execution_count": 92
        }
      ]
    },
    {
      "cell_type": "markdown",
      "source": [
        "Output:\n",
        "```\n",
        "0 사과 Apple\n",
        "1 바나나 Banana\n",
        "2 딸기 Strawberry\n",
        "```"
      ],
      "metadata": {
        "id": "iTStfQaUZ792"
      }
    },
    {
      "cell_type": "code",
      "source": [
        "alist = ['사과', '바나나', '딸기']\n",
        "blist = ['Apple', 'Banana', 'Strawberry']\n",
        "clist = [100, 200, 300, 400]\n",
        "# 여러개로 나뉘어져 있는 각 시퀀스 자료형을 묶어서 사용할 때 zip을 이용\n",
        "# 문제는 시퀀스 길이가 서로 다를 경우\n",
        "# 가장 짧은 길이 기준으로 동작하기 때문에\n",
        "# 손실되는 자료가 있을 수 있음"
      ],
      "metadata": {
        "id": "P672A48IdDjS"
      },
      "execution_count": null,
      "outputs": []
    },
    {
      "cell_type": "code",
      "source": [
        "for i in zip(alist,blist,clist):\n",
        "    print(i[0], i[1], i[2])"
      ],
      "metadata": {
        "id": "Oy6yysVnccBL",
        "colab": {
          "base_uri": "https://localhost:8080/"
        },
        "outputId": "fcbca624-f63a-432f-8ac3-150c00f5bce1"
      },
      "execution_count": null,
      "outputs": [
        {
          "output_type": "stream",
          "name": "stdout",
          "text": [
            "사과 Apple 100\n",
            "바나나 Banana 200\n",
            "딸기 Strawberry 300\n"
          ]
        }
      ]
    },
    {
      "cell_type": "markdown",
      "source": [
        "실습. 아래의 Input이 Output처럼 출력되도록 해 주세요.\n",
        "\n",
        "Input:\n",
        "```\n",
        "subjects = ['math', 'history', 'english', 'computer engineering']\n",
        "scores = [90, 80, 95, 100]\n",
        "```\n",
        "\n",
        "### Output:\n",
        "```\n",
        " {'math': 90, 'history': 80, 'english': 95, 'computer engineering': 100}\n",
        " ```"
      ],
      "metadata": {
        "id": "Bl9YpyI7luC8"
      }
    },
    {
      "cell_type": "code",
      "source": [
        "subjects = ['math', 'history', 'english', 'computer engineering']\n",
        "scores = [90, 80, 95, 100]"
      ],
      "metadata": {
        "id": "1tbGge2nlkTR"
      },
      "execution_count": null,
      "outputs": []
    },
    {
      "cell_type": "code",
      "source": [
        "dic_={key:value for key, value in zip(subjects, scores)}\n",
        "\n",
        "dic_"
      ],
      "metadata": {
        "id": "_wImlnrznsdJ",
        "colab": {
          "base_uri": "https://localhost:8080/"
        },
        "outputId": "e7677763-6917-4241-c4cb-66c6065b9ee7"
      },
      "execution_count": null,
      "outputs": [
        {
          "output_type": "execute_result",
          "data": {
            "text/plain": [
              "{'math': 90, 'history': 80, 'english': 95, 'computer engineering': 100}"
            ]
          },
          "metadata": {},
          "execution_count": 120
        }
      ]
    },
    {
      "cell_type": "markdown",
      "source": [
        "실습2. 아래의 Input이 Output처럼 출력되도록 해 주세요.\n",
        "\n",
        "Input:\n",
        "```\n",
        "score_tuples = [('math', 90), ('history', 80), ('english', 95), ('computer engineering', 100)]\n",
        "```\n",
        "\n",
        "### Output:\n",
        "```\n",
        " {'math': 90, 'history': 80, 'english': 95, 'computer engineering': 100}\n",
        " ```"
      ],
      "metadata": {
        "id": "Xk5TU638lzk9"
      }
    },
    {
      "cell_type": "code",
      "source": [
        "score_tuples = [('math', 90), ('history', 80), ('english', 95), ('computer engineering', 100)]"
      ],
      "metadata": {
        "id": "30FQs7JPnwLj"
      },
      "execution_count": null,
      "outputs": []
    },
    {
      "cell_type": "code",
      "source": [
        "dict(score_tuples)"
      ],
      "metadata": {
        "id": "Rk-tLiD6nv1f",
        "colab": {
          "base_uri": "https://localhost:8080/"
        },
        "outputId": "0504cd94-5317-440b-ba7d-330fc0e1bb27"
      },
      "execution_count": null,
      "outputs": [
        {
          "output_type": "execute_result",
          "data": {
            "text/plain": [
              "{'math': 90, 'history': 80, 'english': 95, 'computer engineering': 100}"
            ]
          },
          "metadata": {},
          "execution_count": 123
        }
      ]
    },
    {
      "cell_type": "markdown",
      "source": [
        "# Reduce\n",
        "\n",
        "- reduce는 반복 가능한 객체의 각 요소를 지정된 함수로 처리한 뒤 이전 결과와 **누적해서 반환**\n",
        "- reduce는 파이썬 3부터 내장 함수가 아님\n",
        "- functools 모듈에서 reduce 함수를 가져와야 함\n",
        "```\n",
        "reduce(function, iterable, initializer=None)\n",
        "```"
      ],
      "metadata": {
        "id": "RG_3yY5ltOKi"
      }
    },
    {
      "cell_type": "code",
      "source": [
        "from functools import reduce"
      ],
      "metadata": {
        "id": "flf65t_TnmXP"
      },
      "execution_count": null,
      "outputs": []
    },
    {
      "cell_type": "code",
      "source": [
        "array2dim = [[x]*x for x in range(5)]"
      ],
      "metadata": {
        "id": "YzoBhgWFuBFX"
      },
      "execution_count": null,
      "outputs": []
    },
    {
      "cell_type": "code",
      "source": [
        "array2dim"
      ],
      "metadata": {
        "id": "NHhJ7mzXuLJg",
        "colab": {
          "base_uri": "https://localhost:8080/"
        },
        "outputId": "374d1e5e-48e7-4051-b65b-ba11f4be13c2"
      },
      "execution_count": null,
      "outputs": [
        {
          "output_type": "execute_result",
          "data": {
            "text/plain": [
              "[[], [1], [2, 2], [3, 3, 3], [4, 4, 4, 4]]"
            ]
          },
          "metadata": {},
          "execution_count": 131
        }
      ]
    },
    {
      "cell_type": "code",
      "source": [
        "reduce(lambda x, y: x+y, array2dim)"
      ],
      "metadata": {
        "colab": {
          "base_uri": "https://localhost:8080/"
        },
        "id": "02RwW2dIhyju",
        "outputId": "f5e83417-a674-4b75-87b5-ee6890ff733e"
      },
      "execution_count": null,
      "outputs": [
        {
          "output_type": "execute_result",
          "data": {
            "text/plain": [
              "[1, 2, 2, 3, 3, 3, 4, 4, 4, 4]"
            ]
          },
          "metadata": {},
          "execution_count": 133
        }
      ]
    },
    {
      "cell_type": "markdown",
      "source": [
        "## 0에서 10까지를 더하는 for 반복문을 만들어주세요."
      ],
      "metadata": {
        "id": "CwJqVFKFu4pk"
      }
    },
    {
      "cell_type": "code",
      "source": [
        "sum_ = 0\n",
        "for i in range(11):\n",
        "    sum_ += i\n",
        "\n",
        "sum_"
      ],
      "metadata": {
        "id": "c0K0GKStudnH",
        "colab": {
          "base_uri": "https://localhost:8080/"
        },
        "outputId": "9ab65e5b-8ff9-4435-d918-4f0ffdd605c9"
      },
      "execution_count": null,
      "outputs": [
        {
          "output_type": "execute_result",
          "data": {
            "text/plain": [
              "55"
            ]
          },
          "metadata": {},
          "execution_count": 134
        }
      ]
    },
    {
      "cell_type": "code",
      "source": [
        "reduce(lambda x, y: x+y, range(11))"
      ],
      "metadata": {
        "id": "CKFBKaO-xBrw",
        "colab": {
          "base_uri": "https://localhost:8080/"
        },
        "outputId": "ae937a26-38c9-4466-b8fd-447ff0879e06"
      },
      "execution_count": null,
      "outputs": [
        {
          "output_type": "execute_result",
          "data": {
            "text/plain": [
              "55"
            ]
          },
          "metadata": {},
          "execution_count": 135
        }
      ]
    },
    {
      "cell_type": "code",
      "source": [
        "reduce(lambda x, y: x+y, range(11), 10) # 세번째 파라미터 10: 초기값"
      ],
      "metadata": {
        "id": "Z0b_TV5HxTvc",
        "colab": {
          "base_uri": "https://localhost:8080/"
        },
        "outputId": "1847c889-4988-4d09-b471-48cec08ae99f"
      },
      "execution_count": null,
      "outputs": [
        {
          "output_type": "execute_result",
          "data": {
            "text/plain": [
              "65"
            ]
          },
          "metadata": {},
          "execution_count": 137
        }
      ]
    },
    {
      "cell_type": "code",
      "source": [
        "reduce(lambda x, y: x+y, range(11), '가') # TypeError: can only concatenate str (not \"int\") to str"
      ],
      "metadata": {
        "id": "2aDkHWPwyhVO",
        "colab": {
          "base_uri": "https://localhost:8080/",
          "height": 262
        },
        "outputId": "2188b958-26c9-415f-99cb-f2451f948215"
      },
      "execution_count": null,
      "outputs": [
        {
          "output_type": "error",
          "ename": "TypeError",
          "evalue": "ignored",
          "traceback": [
            "\u001b[0;31m---------------------------------------------------------------------------\u001b[0m",
            "\u001b[0;31mTypeError\u001b[0m                                 Traceback (most recent call last)",
            "\u001b[0;32m<ipython-input-139-5ec951efa209>\u001b[0m in \u001b[0;36m<cell line: 1>\u001b[0;34m()\u001b[0m\n\u001b[0;32m----> 1\u001b[0;31m \u001b[0mreduce\u001b[0m\u001b[0;34m(\u001b[0m\u001b[0;32mlambda\u001b[0m \u001b[0mx\u001b[0m\u001b[0;34m,\u001b[0m \u001b[0my\u001b[0m\u001b[0;34m:\u001b[0m \u001b[0mx\u001b[0m\u001b[0;34m+\u001b[0m\u001b[0my\u001b[0m\u001b[0;34m,\u001b[0m \u001b[0mrange\u001b[0m\u001b[0;34m(\u001b[0m\u001b[0;36m11\u001b[0m\u001b[0;34m)\u001b[0m\u001b[0;34m,\u001b[0m \u001b[0;34m'가'\u001b[0m\u001b[0;34m)\u001b[0m \u001b[0;31m# TypeError: can only concatenate str (not \"int\") to str\u001b[0m\u001b[0;34m\u001b[0m\u001b[0;34m\u001b[0m\u001b[0m\n\u001b[0m",
            "\u001b[0;32m<ipython-input-139-5ec951efa209>\u001b[0m in \u001b[0;36m<lambda>\u001b[0;34m(x, y)\u001b[0m\n\u001b[0;32m----> 1\u001b[0;31m \u001b[0mreduce\u001b[0m\u001b[0;34m(\u001b[0m\u001b[0;32mlambda\u001b[0m \u001b[0mx\u001b[0m\u001b[0;34m,\u001b[0m \u001b[0my\u001b[0m\u001b[0;34m:\u001b[0m \u001b[0mx\u001b[0m\u001b[0;34m+\u001b[0m\u001b[0my\u001b[0m\u001b[0;34m,\u001b[0m \u001b[0mrange\u001b[0m\u001b[0;34m(\u001b[0m\u001b[0;36m11\u001b[0m\u001b[0;34m)\u001b[0m\u001b[0;34m,\u001b[0m \u001b[0;34m'가'\u001b[0m\u001b[0;34m)\u001b[0m \u001b[0;31m# TypeError: can only concatenate str (not \"int\") to str\u001b[0m\u001b[0;34m\u001b[0m\u001b[0;34m\u001b[0m\u001b[0m\n\u001b[0m",
            "\u001b[0;31mTypeError\u001b[0m: can only concatenate str (not \"int\") to str"
          ]
        }
      ]
    },
    {
      "cell_type": "code",
      "source": [
        "reduce(lambda x, y: x*y, range(1,11))"
      ],
      "metadata": {
        "id": "tBUNsqxkyxs6",
        "colab": {
          "base_uri": "https://localhost:8080/"
        },
        "outputId": "65ba5e2b-afaf-4a47-f0b0-45a619e81ba4"
      },
      "execution_count": null,
      "outputs": [
        {
          "output_type": "execute_result",
          "data": {
            "text/plain": [
              "3628800"
            ]
          },
          "metadata": {},
          "execution_count": 140
        }
      ]
    },
    {
      "cell_type": "code",
      "source": [
        "test2 = [{'name' : 'a', 'age' : 1}, {'name' : 'b', 'age' : 2}, {'name' : 'c', 'age' : 3}]"
      ],
      "metadata": {
        "id": "p9Orjc5wybBx"
      },
      "execution_count": null,
      "outputs": []
    },
    {
      "cell_type": "code",
      "source": [
        "# test2에 들어있는 사람들의 평균 나이를 구해주세요\n",
        "reduce(lambda x,y: x+y['age'],test2, 0) / 3 # x+y를 한 최종 결과를 3으로 나눈 값\n",
        "# 같은 차원에 있는 값이 아니라 자료에서 차원을 더 파고 들어가서 어떤 연산을 해야할 때\n",
        "# x 자리에 특정 초기값을 덧대기 위해서도 사용한다."
      ],
      "metadata": {
        "id": "a9MgR4X5zxN4",
        "colab": {
          "base_uri": "https://localhost:8080/"
        },
        "outputId": "721d8f1d-861a-4cd7-ac83-67800dd3cc5e"
      },
      "execution_count": null,
      "outputs": [
        {
          "output_type": "execute_result",
          "data": {
            "text/plain": [
              "2.0"
            ]
          },
          "metadata": {},
          "execution_count": 149
        }
      ]
    },
    {
      "cell_type": "code",
      "source": [
        "reduce(lambda x,y: (x+y['age'])/3,test2, 0) # 위와 다른 결과가 나옴 (x+y)/3 을 3번 누적해서 더한 값"
      ],
      "metadata": {
        "id": "E0H6GAXg04ki",
        "colab": {
          "base_uri": "https://localhost:8080/"
        },
        "outputId": "624c1686-823b-4689-deb3-bd7d89cd32fd"
      },
      "execution_count": null,
      "outputs": [
        {
          "output_type": "execute_result",
          "data": {
            "text/plain": [
              "1.2592592592592593"
            ]
          },
          "metadata": {},
          "execution_count": 150
        }
      ]
    },
    {
      "cell_type": "markdown",
      "source": [
        "- 파이썬은 함수형 언어가 아닙니다\n",
        "- 함수형 프로그래밍을 파이썬으로 하는 법을 한 번 살펴봤을 뿐이고요"
      ],
      "metadata": {
        "id": "wiSTPh4f1Cw7"
      }
    },
    {
      "cell_type": "code",
      "source": [
        "'사과나무'.find('부')\n",
        "# 주제 중심으로 만들어 놓고, 동작을 부른다 가 아니라\n",
        "list(map(str,li))\n",
        "# 바로 파이선의 내장 함수를 부른다"
      ],
      "metadata": {
        "colab": {
          "base_uri": "https://localhost:8080/"
        },
        "id": "Xvw4zqvb4VNw",
        "outputId": "4949bca3-d3c3-44f4-a5fd-a72c89345637"
      },
      "execution_count": null,
      "outputs": [
        {
          "output_type": "execute_result",
          "data": {
            "text/plain": [
              "['1', '2', '3', '4', '5']"
            ]
          },
          "metadata": {},
          "execution_count": 152
        }
      ]
    },
    {
      "cell_type": "markdown",
      "source": [
        "- 함수를 만드는 이유\n",
        "    - 똑같은 코드 여러번 치기 싫어서\n",
        "    - 동작 단위로 움직임을 관리하려고\n",
        "\n",
        "- 함수조차도 여러개가 되면 함수보다 더 큰 어떤 바구니에 담고 싶지 않을까요?\n",
        "\n",
        "- 여러개의 함수, 변수를 비슷한 상황 중심으로 저장해놓은 파일(py)을 모듈이라고 부릅니다.\n",
        "\n",
        "- 모듈(py) 파일을 여러개 모아놓은 폴더: 패키지라고 부릅니다.\n",
        "- 머신러닝 관련된 함수(결정트리, SVM, K-Mmens)\n",
        "    - 머신러닝 (패키지)\n",
        "        - 결정트리.py (모듈)\n",
        "            - 모델을 만드는 함수\n",
        "            - 모델에 몇개의 속성을 변경하는 함수\n",
        "        - SVM.py\n",
        "            - 모델을 만드는 함수\n",
        "            - 모델에 몇개의 속성을 변경하는 함수"
      ],
      "metadata": {
        "id": "OB9J86i54vXA"
      }
    },
    {
      "cell_type": "markdown",
      "source": [
        "# 모듈\n",
        "- 이미 만들어진 파이썬 소스파일(라이브러리)\n",
        "    - 파이썬은 모듈을 만들기 위한 추가 과정은 필요하지 않습니다.\n",
        "    - 파이썬 소스파일은 모듈로 사용할 수 있습니다.\n",
        "    - 재사용성을 위해서 그렇게 쓰고요\n",
        "\n",
        "    - ipynb파일로 저장되는 코랩, 주피터 파일들은 모듈이 될 수 없습니다.\n",
        "    - 모듈은 파이썬 언어로 쓰여진 py 확장자인 소스파일만 가능합니다.\n"
      ],
      "metadata": {
        "id": "-Xp0kmQw1sqp"
      }
    },
    {
      "cell_type": "code",
      "source": [
        "import copy\n",
        "\n",
        "li2 = copy.deepcopy(li)"
      ],
      "metadata": {
        "id": "WtOZWm2m1SfI"
      },
      "execution_count": null,
      "outputs": []
    },
    {
      "cell_type": "code",
      "source": [
        "# 덧셈 뺄셈 나눗셈 곱셈을 하는 함수들을 저장해 놓은 모듈\n",
        "%%writefile math1.py\n",
        "def add(a,b):\n",
        "    return a+b\n",
        "\n",
        "def subtract(a,b):\n",
        "    return a-b\n",
        "\n",
        "def multiply(a,b):\n",
        "    return a*b\n",
        "\n",
        "def divide(a,b):\n",
        "    return a/b"
      ],
      "metadata": {
        "id": "QYdm4w_s2m0Y",
        "colab": {
          "base_uri": "https://localhost:8080/"
        },
        "outputId": "346f10ef-1557-4cda-ff62-2a6d1fe8082c"
      },
      "execution_count": null,
      "outputs": [
        {
          "output_type": "stream",
          "name": "stdout",
          "text": [
            "Writing math1.py\n"
          ]
        }
      ]
    },
    {
      "cell_type": "code",
      "source": [
        "import math1 # math1.py라는 모듈을 가지고 오는 명령어\n",
        "\n",
        "math1.divide(1,3) #  math1.divide라는 함수를 가져다 쓰고 있음"
      ],
      "metadata": {
        "id": "_oLq9ais2vah",
        "colab": {
          "base_uri": "https://localhost:8080/"
        },
        "outputId": "e18a54b8-ed05-4294-fe9f-8ec25de8fef9"
      },
      "execution_count": null,
      "outputs": [
        {
          "output_type": "execute_result",
          "data": {
            "text/plain": [
              "0.3333333333333333"
            ]
          },
          "metadata": {},
          "execution_count": 159
        }
      ]
    },
    {
      "cell_type": "markdown",
      "source": [
        "# 모듈은 어디서 가져오는지??\n",
        "    - 파이썬 소스파일에서 가져옵니다\n",
        "    - 근데 어디있다고 알려는 줘야 합니다.\n",
        "    - 그래서 모듈은 위치를 미리 지정해놓습니다.\n",
        "    - 모듈은 항상 그 위치에서 가져오도록 만들어 놓습니다."
      ],
      "metadata": {
        "id": "dinbgO0V3KKs"
      }
    },
    {
      "cell_type": "code",
      "source": [
        "# 우리가 만든 py 파일이라면 우리가 저장한 경로에서 가지고 옵니다.\n",
        "# 파이썬의 내장 모듈이라면 파이썬이 설치할 때 저장해놓은 경로에서 가지고 옵니다.\n",
        "# 우리가 파이썬의 내장 모듈이름을 다 외우지는 못하므로\n",
        "# 가끔 이름이 겹치게 되는 경우도 있을 거에요\n",
        "# 파이썬 인터프리터가 필요한 경로들은 내부에서 리스트로 관리합니다.\n",
        "# 더 앞 인덱스 번호를 가지게 된 경로에 우선순위가 부여되겠죠\n",
        "# 근데 우리의 math.py는 왜 읽혀지지 않았을까?"
      ],
      "metadata": {
        "id": "8BhlvPpb3AvX"
      },
      "execution_count": null,
      "outputs": []
    },
    {
      "cell_type": "code",
      "source": [
        "import sys"
      ],
      "metadata": {
        "id": "DYVSJZlI3sDo"
      },
      "execution_count": null,
      "outputs": []
    },
    {
      "cell_type": "code",
      "source": [
        "sys.path"
      ],
      "metadata": {
        "id": "rO6-L2sS3yIh",
        "colab": {
          "base_uri": "https://localhost:8080/"
        },
        "outputId": "a295d600-4dc4-4ead-8e13-56ad9112b847"
      },
      "execution_count": null,
      "outputs": [
        {
          "output_type": "execute_result",
          "data": {
            "text/plain": [
              "['/content',\n",
              " '/env/python',\n",
              " '/usr/lib/python310.zip',\n",
              " '/usr/lib/python3.10',\n",
              " '/usr/lib/python3.10/lib-dynload',\n",
              " '',\n",
              " '/usr/local/lib/python3.10/dist-packages',\n",
              " '/usr/lib/python3/dist-packages',\n",
              " '/usr/local/lib/python3.10/dist-packages/IPython/extensions',\n",
              " '/root/.ipython']"
            ]
          },
          "metadata": {},
          "execution_count": 163
        }
      ]
    },
    {
      "cell_type": "code",
      "source": [
        "!pwd # 우리가 쓰고 있는 파일은 content라는 폴더 안에 저장되고 있다."
      ],
      "metadata": {
        "id": "TAbbmcOj3-Yw",
        "colab": {
          "base_uri": "https://localhost:8080/"
        },
        "outputId": "7be142da-d594-4be3-867f-a48221eaba30"
      },
      "execution_count": null,
      "outputs": [
        {
          "output_type": "stream",
          "name": "stdout",
          "text": [
            "/content\n"
          ]
        }
      ]
    },
    {
      "cell_type": "code",
      "source": [
        "# 모듈 전부를 가져다 쓰는 방법\n",
        "import math1\n",
        "\n",
        "math1.add(1,3)"
      ],
      "metadata": {
        "id": "M6MtcVFr3__P",
        "colab": {
          "base_uri": "https://localhost:8080/"
        },
        "outputId": "d340434e-cf47-405e-dc2a-e2b3debf2784"
      },
      "execution_count": null,
      "outputs": [
        {
          "output_type": "execute_result",
          "data": {
            "text/plain": [
              "4"
            ]
          },
          "metadata": {},
          "execution_count": 168
        }
      ]
    },
    {
      "cell_type": "code",
      "source": [
        "# 모듈에서 모든 함수/변수를 가져다 쓰되 어느 모듈 출신인지 생략하게 하는 방법\n",
        "from math1 import *\n",
        "\n",
        "add(1,3)"
      ],
      "metadata": {
        "colab": {
          "base_uri": "https://localhost:8080/"
        },
        "id": "xJ7hUEoo9PwP",
        "outputId": "dd3d3e11-b2ae-467e-8317-fcca3789490c"
      },
      "execution_count": null,
      "outputs": [
        {
          "output_type": "execute_result",
          "data": {
            "text/plain": [
              "4"
            ]
          },
          "metadata": {},
          "execution_count": 170
        }
      ]
    },
    {
      "cell_type": "code",
      "source": [
        "divide(1,3) # math1이라는 모듈에서 가져오고 있지만 어느 모듈에서 가져오고 있는지 안써도 된다."
      ],
      "metadata": {
        "id": "N53lzaod9hk_"
      },
      "execution_count": null,
      "outputs": []
    },
    {
      "cell_type": "code",
      "source": [
        "from copy import *\n",
        "\n",
        "li4 = deepcopy(li)"
      ],
      "metadata": {
        "id": "gqA9Pb7R9pA3"
      },
      "execution_count": null,
      "outputs": []
    },
    {
      "cell_type": "code",
      "source": [
        "# 모듈에서 특정 함수를 가져다 쓰는 방법\n",
        "from math1 import divide\n",
        "\n",
        "divide(1,3)"
      ],
      "metadata": {
        "colab": {
          "base_uri": "https://localhost:8080/"
        },
        "id": "-vWWNVZp9zhG",
        "outputId": "3d48b6f2-c55f-4347-a548-de21ad92cec5"
      },
      "execution_count": null,
      "outputs": [
        {
          "output_type": "execute_result",
          "data": {
            "text/plain": [
              "0.3333333333333333"
            ]
          },
          "metadata": {},
          "execution_count": 172
        }
      ]
    },
    {
      "cell_type": "code",
      "source": [
        "dir(math1)"
      ],
      "metadata": {
        "id": "TtLd8AeU4N2i",
        "colab": {
          "base_uri": "https://localhost:8080/"
        },
        "outputId": "43f85658-3611-43f9-aed4-502714f33d87"
      },
      "execution_count": null,
      "outputs": [
        {
          "output_type": "execute_result",
          "data": {
            "text/plain": [
              "['__builtins__',\n",
              " '__cached__',\n",
              " '__doc__',\n",
              " '__file__',\n",
              " '__loader__',\n",
              " '__name__',\n",
              " '__package__',\n",
              " '__spec__',\n",
              " 'add',\n",
              " 'divide',\n",
              " 'multiply',\n",
              " 'subtract']"
            ]
          },
          "metadata": {},
          "execution_count": 167
        }
      ]
    },
    {
      "cell_type": "code",
      "source": [
        "# 덧셈 뺄셈 나눗셈 곱셈을 하는 함수들을 저장해 놓은 모듈\n",
        "%%writefile math2.py\n",
        "def add2(a,b):\n",
        "    return a+b\n",
        "\n",
        "def subtract2(a,b):\n",
        "    return a-b\n",
        "\n",
        "def multiply2(a,b):\n",
        "    return a*b\n",
        "\n",
        "def divide2(a,b):\n",
        "    return a/b"
      ],
      "metadata": {
        "colab": {
          "base_uri": "https://localhost:8080/"
        },
        "id": "tIvj1XUb-GfP",
        "outputId": "57c0e614-cfa6-4f1e-b45e-8f1ea07b9583"
      },
      "execution_count": null,
      "outputs": [
        {
          "output_type": "stream",
          "name": "stdout",
          "text": [
            "Overwriting math2.py\n"
          ]
        }
      ]
    },
    {
      "cell_type": "code",
      "source": [
        "from math2 import divide2\n",
        "\n",
        "divide2(1,3)"
      ],
      "metadata": {
        "colab": {
          "base_uri": "https://localhost:8080/"
        },
        "id": "Fpx9CGjq-Jl-",
        "outputId": "0ba65475-91f8-4d0f-812f-2f29e21c169c"
      },
      "execution_count": null,
      "outputs": [
        {
          "output_type": "execute_result",
          "data": {
            "text/plain": [
              "0.3333333333333333"
            ]
          },
          "metadata": {},
          "execution_count": 196
        }
      ]
    },
    {
      "cell_type": "code",
      "source": [
        "multiply2(2,3)"
      ],
      "metadata": {
        "colab": {
          "base_uri": "https://localhost:8080/",
          "height": 172
        },
        "id": "sPNMlqXz-YYD",
        "outputId": "273b3ea6-071c-4b0c-c106-220e7c0f8ed4"
      },
      "execution_count": null,
      "outputs": [
        {
          "output_type": "error",
          "ename": "NameError",
          "evalue": "ignored",
          "traceback": [
            "\u001b[0;31m---------------------------------------------------------------------------\u001b[0m",
            "\u001b[0;31mNameError\u001b[0m                                 Traceback (most recent call last)",
            "\u001b[0;32m<ipython-input-197-b97a4249d069>\u001b[0m in \u001b[0;36m<cell line: 1>\u001b[0;34m()\u001b[0m\n\u001b[0;32m----> 1\u001b[0;31m \u001b[0mmultiply2\u001b[0m\u001b[0;34m(\u001b[0m\u001b[0;36m2\u001b[0m\u001b[0;34m,\u001b[0m\u001b[0;36m3\u001b[0m\u001b[0;34m)\u001b[0m\u001b[0;34m\u001b[0m\u001b[0;34m\u001b[0m\u001b[0m\n\u001b[0m",
            "\u001b[0;31mNameError\u001b[0m: name 'multiply2' is not defined"
          ]
        }
      ]
    },
    {
      "cell_type": "code",
      "source": [
        "add2(1,3)"
      ],
      "metadata": {
        "colab": {
          "base_uri": "https://localhost:8080/",
          "height": 172
        },
        "id": "v4NGzG6x-TOr",
        "outputId": "fe558df5-6b59-48ab-e6d4-00996bfce778"
      },
      "execution_count": null,
      "outputs": [
        {
          "output_type": "error",
          "ename": "NameError",
          "evalue": "ignored",
          "traceback": [
            "\u001b[0;31m---------------------------------------------------------------------------\u001b[0m",
            "\u001b[0;31mNameError\u001b[0m                                 Traceback (most recent call last)",
            "\u001b[0;32m<ipython-input-198-f4b293237ab9>\u001b[0m in \u001b[0;36m<cell line: 1>\u001b[0;34m()\u001b[0m\n\u001b[0;32m----> 1\u001b[0;31m \u001b[0madd2\u001b[0m\u001b[0;34m(\u001b[0m\u001b[0;36m1\u001b[0m\u001b[0;34m,\u001b[0m\u001b[0;36m3\u001b[0m\u001b[0;34m)\u001b[0m\u001b[0;34m\u001b[0m\u001b[0;34m\u001b[0m\u001b[0m\n\u001b[0m",
            "\u001b[0;31mNameError\u001b[0m: name 'add2' is not defined"
          ]
        }
      ]
    },
    {
      "cell_type": "code",
      "source": [
        "subtract2(3,4)"
      ],
      "metadata": {
        "colab": {
          "base_uri": "https://localhost:8080/",
          "height": 172
        },
        "id": "O6fx2dKc-VsK",
        "outputId": "9def9d52-5ae2-4524-a42b-4ca2ff078a20"
      },
      "execution_count": null,
      "outputs": [
        {
          "output_type": "error",
          "ename": "NameError",
          "evalue": "ignored",
          "traceback": [
            "\u001b[0;31m---------------------------------------------------------------------------\u001b[0m",
            "\u001b[0;31mNameError\u001b[0m                                 Traceback (most recent call last)",
            "\u001b[0;32m<ipython-input-199-8c39be1b64db>\u001b[0m in \u001b[0;36m<cell line: 1>\u001b[0;34m()\u001b[0m\n\u001b[0;32m----> 1\u001b[0;31m \u001b[0msubtract2\u001b[0m\u001b[0;34m(\u001b[0m\u001b[0;36m3\u001b[0m\u001b[0;34m,\u001b[0m\u001b[0;36m4\u001b[0m\u001b[0;34m)\u001b[0m\u001b[0;34m\u001b[0m\u001b[0;34m\u001b[0m\u001b[0m\n\u001b[0m",
            "\u001b[0;31mNameError\u001b[0m: name 'subtract2' is not defined"
          ]
        }
      ]
    },
    {
      "cell_type": "markdown",
      "source": [
        "새로운 경로를 path 에 추가\n",
        "- colab에서 사용할 수 있는 모듈, 패키지를 가져오는 방법\n",
        "- 가져오고 싶은 모듈이 들어있는 폴더 경로를 추가해주면 됩니다\n",
        "    - 파일 경로가 아닙니다\n",
        "    - 파일이 들어있는 폴더의 경로입니다"
      ],
      "metadata": {
        "id": "acTUobJvNwH5"
      }
    },
    {
      "cell_type": "code",
      "source": [
        "# py 파일을 여러개 묶어서 관리하는 상위 개념(폴더) - Package\n",
        "\n",
        "# my_package라는 폴더 안에\n",
        "# first_module 이라는 모듈을 만들고 hello 라는 함수를 만들어 주세요\n",
        "# hello()를 호출하면 '안녕하세요!'가 출력됩니다\n",
        "# second_module이라는 모듈을 만들고 PI = 3.14, 반지름이 a일때 원의 넓이를 구하는 circle(a) 함수를 만들어주세요\n"
      ],
      "metadata": {
        "id": "THaQN6qS495h"
      },
      "execution_count": null,
      "outputs": []
    },
    {
      "cell_type": "code",
      "source": [
        "%%writefile my_package/first_module.py\n",
        "\n",
        "def hello():\n",
        "    print('안녕하세요!')"
      ],
      "metadata": {
        "id": "-ewnmsHF6H7R",
        "colab": {
          "base_uri": "https://localhost:8080/"
        },
        "outputId": "5596efbd-962e-4ec8-b855-20de83a78cbf"
      },
      "execution_count": null,
      "outputs": [
        {
          "output_type": "stream",
          "name": "stdout",
          "text": [
            "Writing my_package/first_module.py\n"
          ]
        }
      ]
    },
    {
      "cell_type": "code",
      "source": [
        "%%writefile my_package/second_module.py\n",
        "\n",
        "# second_module이라는 모듈을 만들고 PI = 3.14,\n",
        "# 반지름이 a일때 원의 넓이를 구하는 circle(a) 함수를 만들어주세요\n",
        "\n",
        "PI = 3.14\n",
        "\n",
        "def circle(a):\n",
        "    return PI*a*a"
      ],
      "metadata": {
        "id": "VheVy4nG6lcB",
        "colab": {
          "base_uri": "https://localhost:8080/"
        },
        "outputId": "9662b613-8efe-43f7-9aa3-c3186f7c79b1"
      },
      "execution_count": null,
      "outputs": [
        {
          "output_type": "stream",
          "name": "stdout",
          "text": [
            "Overwriting my_package/second_module.py\n"
          ]
        }
      ]
    },
    {
      "cell_type": "markdown",
      "source": [
        "# 패키지\n",
        "\n",
        "    - 모듈(여러개 파일)을 하나로 묶어서 관리하는 것\n",
        "    - 파이썬 패키지는 폴더로 관리\n",
        "    - 같은 폴더에 있으면 패키지가 됩니다\n",
        "    - 패키지의 이름은 폴더의 이름이 됩니다.\n",
        "\n",
        "- 버전에 따라서 폴더를 패키지로 인식할 수도 있고 인식하지 않을 수도 있습니다. (3 이하 버전)\n",
        "    - 혹시 몰라서 호환용으로\n",
        "    - __init__.py 가 들어있으면 패키지로 파이썬이 인식을 합니다.\n",
        "    - 파일의 내용은 없어도 됩니다."
      ],
      "metadata": {
        "id": "8bX5PkHcVHeN"
      }
    },
    {
      "cell_type": "code",
      "source": [
        "import my_package # 패키지를 import해도 인식 못하고 있음"
      ],
      "metadata": {
        "id": "i-6vDAyHM3--"
      },
      "execution_count": null,
      "outputs": []
    },
    {
      "cell_type": "code",
      "source": [
        "# from 패키지명 import 모듈\n",
        "from my_package import first_module"
      ],
      "metadata": {
        "id": "-j9JC3LCPGWr"
      },
      "execution_count": null,
      "outputs": []
    },
    {
      "cell_type": "code",
      "source": [
        "first_module.hello() # 모듈명.함수"
      ],
      "metadata": {
        "id": "YN9VQEuQPg8r",
        "colab": {
          "base_uri": "https://localhost:8080/"
        },
        "outputId": "a763db08-645f-46a2-89b0-f0bf37398944"
      },
      "execution_count": null,
      "outputs": [
        {
          "output_type": "stream",
          "name": "stdout",
          "text": [
            "안녕하세요!\n"
          ]
        }
      ]
    },
    {
      "cell_type": "code",
      "source": [
        "# from 패키지명 import 모듈\n",
        "from my_package import second_module"
      ],
      "metadata": {
        "id": "MRo1AZQsRBQE"
      },
      "execution_count": null,
      "outputs": []
    },
    {
      "cell_type": "code",
      "source": [
        "second_module.PI"
      ],
      "metadata": {
        "id": "mDvBszs9REvk",
        "colab": {
          "base_uri": "https://localhost:8080/",
          "height": 172
        },
        "outputId": "299bf336-5a5a-4bac-e6ea-a8cf7df12905"
      },
      "execution_count": null,
      "outputs": [
        {
          "output_type": "error",
          "ename": "AttributeError",
          "evalue": "ignored",
          "traceback": [
            "\u001b[0;31m---------------------------------------------------------------------------\u001b[0m",
            "\u001b[0;31mAttributeError\u001b[0m                            Traceback (most recent call last)",
            "\u001b[0;32m<ipython-input-329-43c0a4e6b4e0>\u001b[0m in \u001b[0;36m<cell line: 1>\u001b[0;34m()\u001b[0m\n\u001b[0;32m----> 1\u001b[0;31m \u001b[0msecond_module\u001b[0m\u001b[0;34m.\u001b[0m\u001b[0mPI\u001b[0m\u001b[0;34m\u001b[0m\u001b[0;34m\u001b[0m\u001b[0m\n\u001b[0m",
            "\u001b[0;31mAttributeError\u001b[0m: module 'my_package.second_module' has no attribute 'PI'"
          ]
        }
      ]
    },
    {
      "cell_type": "markdown",
      "source": [
        "# 여차저차 모듈을 만들어 쓰지만 이름이 너무 긴 경우"
      ],
      "metadata": {
        "id": "i1En55LmReMl"
      }
    },
    {
      "cell_type": "code",
      "source": [
        "from my_package import second_module as sm\n",
        "# 패키지나 모듈명이 너무 길면 as 별칭으로 줄여서 부를 수 있습니다\n",
        "sm.PI"
      ],
      "metadata": {
        "id": "wyf6Ui7HRLZr",
        "colab": {
          "base_uri": "https://localhost:8080/",
          "height": 208
        },
        "outputId": "846cb89e-4fbc-4f09-f36d-a661bcfc1512"
      },
      "execution_count": null,
      "outputs": [
        {
          "output_type": "error",
          "ename": "AttributeError",
          "evalue": "ignored",
          "traceback": [
            "\u001b[0;31m---------------------------------------------------------------------------\u001b[0m",
            "\u001b[0;31mAttributeError\u001b[0m                            Traceback (most recent call last)",
            "\u001b[0;32m<ipython-input-330-65175f0ff8cb>\u001b[0m in \u001b[0;36m<cell line: 3>\u001b[0;34m()\u001b[0m\n\u001b[1;32m      1\u001b[0m \u001b[0;32mfrom\u001b[0m \u001b[0mmy_package\u001b[0m \u001b[0;32mimport\u001b[0m \u001b[0msecond_module\u001b[0m \u001b[0;32mas\u001b[0m \u001b[0msm\u001b[0m\u001b[0;34m\u001b[0m\u001b[0;34m\u001b[0m\u001b[0m\n\u001b[1;32m      2\u001b[0m \u001b[0;31m# 패키지나 모듈명이 너무 길면 as 별칭으로 줄여서 부를 수 있습니다\u001b[0m\u001b[0;34m\u001b[0m\u001b[0;34m\u001b[0m\u001b[0m\n\u001b[0;32m----> 3\u001b[0;31m \u001b[0msm\u001b[0m\u001b[0;34m.\u001b[0m\u001b[0mPI\u001b[0m\u001b[0;34m\u001b[0m\u001b[0;34m\u001b[0m\u001b[0m\n\u001b[0m",
            "\u001b[0;31mAttributeError\u001b[0m: module 'my_package.second_module' has no attribute 'PI'"
          ]
        }
      ]
    },
    {
      "cell_type": "code",
      "source": [
        "from my_package.second_module import PI\n",
        "\n",
        "PI"
      ],
      "metadata": {
        "colab": {
          "base_uri": "https://localhost:8080/",
          "height": 353
        },
        "id": "Bxl8vlX-FVjH",
        "outputId": "86beb81c-90a8-4cc2-b4a7-b3c756bbb7dc"
      },
      "execution_count": null,
      "outputs": [
        {
          "output_type": "error",
          "ename": "ImportError",
          "evalue": "ignored",
          "traceback": [
            "\u001b[0;31m---------------------------------------------------------------------------\u001b[0m",
            "\u001b[0;31mImportError\u001b[0m                               Traceback (most recent call last)",
            "\u001b[0;32m<ipython-input-331-1bb8f015243c>\u001b[0m in \u001b[0;36m<cell line: 1>\u001b[0;34m()\u001b[0m\n\u001b[0;32m----> 1\u001b[0;31m \u001b[0;32mfrom\u001b[0m \u001b[0mmy_package\u001b[0m\u001b[0;34m.\u001b[0m\u001b[0msecond_module\u001b[0m \u001b[0;32mimport\u001b[0m \u001b[0mPI\u001b[0m\u001b[0;34m\u001b[0m\u001b[0;34m\u001b[0m\u001b[0m\n\u001b[0m\u001b[1;32m      2\u001b[0m \u001b[0;34m\u001b[0m\u001b[0m\n\u001b[1;32m      3\u001b[0m \u001b[0mPI\u001b[0m\u001b[0;34m\u001b[0m\u001b[0;34m\u001b[0m\u001b[0m\n",
            "\u001b[0;31mImportError\u001b[0m: cannot import name 'PI' from 'my_package.second_module' (/content/my_package/second_module.py)",
            "",
            "\u001b[0;31m---------------------------------------------------------------------------\u001b[0;32m\nNOTE: If your import is failing due to a missing package, you can\nmanually install dependencies using either !pip or !apt.\n\nTo view examples of installing some common dependencies, click the\n\"Open Examples\" button below.\n\u001b[0;31m---------------------------------------------------------------------------\u001b[0m\n"
          ],
          "errorDetails": {
            "actions": [
              {
                "action": "open_url",
                "actionText": "Open Examples",
                "url": "/notebooks/snippets/importing_libraries.ipynb"
              }
            ]
          }
        }
      ]
    },
    {
      "cell_type": "code",
      "source": [
        "# 모듈명.함수(), 모듈명.변수 정도까지로 import해서 사용하시는 것을 권장"
      ],
      "metadata": {
        "id": "aorRFw0aFqN3"
      },
      "execution_count": null,
      "outputs": []
    },
    {
      "cell_type": "markdown",
      "source": [
        "# 파이썬 소스파일의 실행\n",
        "\n",
        "- 파이썬 인터프리터는 모듈도 따로 뭔가 할필요 없이 py이기만 하면 되고, 일반 실행파일도 py이기만 하면 됩니다.\n",
        "- 그럼 이 둘을 구분할 필요가 있지 않을까요??\n",
        "\n",
        "- 그래서 파이썬소스파일을 직접 실행하면\n",
        "- 참조(import)해서 실행할 때랑 자신을 직접 실행할 때랑 구분하는 방법이 있습니다.\n",
        "\n",
        "    1. 자신이 직접 실행할때\n",
        "        __name__ == \"__main__\"\n",
        "\n",
        "    2. 모듈로 쓰여서 실행할때\n",
        "        __name__ == 모듈명\n",
        "\n",
        "출력됩니다\n"
      ],
      "metadata": {
        "id": "QI-7L14VS9Xb"
      }
    },
    {
      "cell_type": "code",
      "source": [
        "dir(PI)"
      ],
      "metadata": {
        "colab": {
          "base_uri": "https://localhost:8080/",
          "height": 172
        },
        "id": "4S2iYYHMGGad",
        "outputId": "5e30ce9d-1886-4a8f-9f0a-60633926f6b0"
      },
      "execution_count": null,
      "outputs": [
        {
          "output_type": "error",
          "ename": "NameError",
          "evalue": "ignored",
          "traceback": [
            "\u001b[0;31m---------------------------------------------------------------------------\u001b[0m",
            "\u001b[0;31mNameError\u001b[0m                                 Traceback (most recent call last)",
            "\u001b[0;32m<ipython-input-332-74d5be9b06f2>\u001b[0m in \u001b[0;36m<cell line: 1>\u001b[0;34m()\u001b[0m\n\u001b[0;32m----> 1\u001b[0;31m \u001b[0mdir\u001b[0m\u001b[0;34m(\u001b[0m\u001b[0mPI\u001b[0m\u001b[0;34m)\u001b[0m\u001b[0;34m\u001b[0m\u001b[0;34m\u001b[0m\u001b[0m\n\u001b[0m",
            "\u001b[0;31mNameError\u001b[0m: name 'PI' is not defined"
          ]
        }
      ]
    },
    {
      "cell_type": "code",
      "source": [
        "age = '가나다'"
      ],
      "metadata": {
        "id": "D5N2e24BGMZd"
      },
      "execution_count": null,
      "outputs": []
    },
    {
      "cell_type": "code",
      "source": [
        "dir(age)"
      ],
      "metadata": {
        "colab": {
          "base_uri": "https://localhost:8080/"
        },
        "id": "I5gKv9hLGQUx",
        "outputId": "93bb7955-7ac5-485d-f1fc-b1151b164ead"
      },
      "execution_count": null,
      "outputs": [
        {
          "output_type": "execute_result",
          "data": {
            "text/plain": [
              "['__add__',\n",
              " '__class__',\n",
              " '__contains__',\n",
              " '__delattr__',\n",
              " '__dir__',\n",
              " '__doc__',\n",
              " '__eq__',\n",
              " '__format__',\n",
              " '__ge__',\n",
              " '__getattribute__',\n",
              " '__getitem__',\n",
              " '__getnewargs__',\n",
              " '__gt__',\n",
              " '__hash__',\n",
              " '__init__',\n",
              " '__init_subclass__',\n",
              " '__iter__',\n",
              " '__le__',\n",
              " '__len__',\n",
              " '__lt__',\n",
              " '__mod__',\n",
              " '__mul__',\n",
              " '__ne__',\n",
              " '__new__',\n",
              " '__reduce__',\n",
              " '__reduce_ex__',\n",
              " '__repr__',\n",
              " '__rmod__',\n",
              " '__rmul__',\n",
              " '__setattr__',\n",
              " '__sizeof__',\n",
              " '__str__',\n",
              " '__subclasshook__',\n",
              " 'capitalize',\n",
              " 'casefold',\n",
              " 'center',\n",
              " 'count',\n",
              " 'encode',\n",
              " 'endswith',\n",
              " 'expandtabs',\n",
              " 'find',\n",
              " 'format',\n",
              " 'format_map',\n",
              " 'index',\n",
              " 'isalnum',\n",
              " 'isalpha',\n",
              " 'isascii',\n",
              " 'isdecimal',\n",
              " 'isdigit',\n",
              " 'isidentifier',\n",
              " 'islower',\n",
              " 'isnumeric',\n",
              " 'isprintable',\n",
              " 'isspace',\n",
              " 'istitle',\n",
              " 'isupper',\n",
              " 'join',\n",
              " 'ljust',\n",
              " 'lower',\n",
              " 'lstrip',\n",
              " 'maketrans',\n",
              " 'partition',\n",
              " 'removeprefix',\n",
              " 'removesuffix',\n",
              " 'replace',\n",
              " 'rfind',\n",
              " 'rindex',\n",
              " 'rjust',\n",
              " 'rpartition',\n",
              " 'rsplit',\n",
              " 'rstrip',\n",
              " 'split',\n",
              " 'splitlines',\n",
              " 'startswith',\n",
              " 'strip',\n",
              " 'swapcase',\n",
              " 'title',\n",
              " 'translate',\n",
              " 'upper',\n",
              " 'zfill']"
            ]
          },
          "metadata": {},
          "execution_count": 334
        }
      ]
    },
    {
      "cell_type": "code",
      "source": [
        "import numpy as np\n",
        "\n",
        "a = np.ndarray([1,2,3])\n",
        "# 지금 ipynb파일에서 만들었지만, numpy의 ndarray라는 함수를 통해 만들어진 변수"
      ],
      "metadata": {
        "id": "QhqYjlZ0GWwH"
      },
      "execution_count": null,
      "outputs": []
    },
    {
      "cell_type": "code",
      "source": [
        "a"
      ],
      "metadata": {
        "colab": {
          "base_uri": "https://localhost:8080/"
        },
        "id": "UprtDu98Gm_r",
        "outputId": "1b85724c-3fe1-4b75-ef62-eed8e355341e"
      },
      "execution_count": null,
      "outputs": [
        {
          "output_type": "execute_result",
          "data": {
            "text/plain": [
              "array([[[3.4154782e-316, 0.0000000e+000, 0.0000000e+000],\n",
              "        [0.0000000e+000, 0.0000000e+000, 0.0000000e+000]]])"
            ]
          },
          "metadata": {},
          "execution_count": 339
        }
      ]
    },
    {
      "cell_type": "code",
      "source": [
        "type([1,2,3,4])"
      ],
      "metadata": {
        "colab": {
          "base_uri": "https://localhost:8080/"
        },
        "id": "69PbNR1WG4Gl",
        "outputId": "b0ca26a6-e388-436b-8c63-fe6b0cd960ae"
      },
      "execution_count": null,
      "outputs": [
        {
          "output_type": "execute_result",
          "data": {
            "text/plain": [
              "list"
            ]
          },
          "metadata": {},
          "execution_count": 340
        }
      ]
    },
    {
      "cell_type": "code",
      "source": [
        "type('가나다')"
      ],
      "metadata": {
        "colab": {
          "base_uri": "https://localhost:8080/"
        },
        "id": "UL5C8phDG6YC",
        "outputId": "9fa1025f-a51a-44d3-e41e-af3e678e4340"
      },
      "execution_count": null,
      "outputs": [
        {
          "output_type": "execute_result",
          "data": {
            "text/plain": [
              "str"
            ]
          },
          "metadata": {},
          "execution_count": 341
        }
      ]
    },
    {
      "cell_type": "code",
      "source": [
        "type(a) # numpy의 ndarray를 참조해서 만든 자료형 이라고 결과를 출력하는 것을 확인할 수 있습니다"
      ],
      "metadata": {
        "colab": {
          "base_uri": "https://localhost:8080/"
        },
        "id": "na1Wq9AnG2Br",
        "outputId": "eed7690f-cd5b-41e3-c15a-2957a8107212"
      },
      "execution_count": null,
      "outputs": [
        {
          "output_type": "execute_result",
          "data": {
            "text/plain": [
              "numpy.ndarray"
            ]
          },
          "metadata": {},
          "execution_count": 342
        }
      ]
    },
    {
      "cell_type": "code",
      "source": [
        "sys.modules"
      ],
      "metadata": {
        "colab": {
          "base_uri": "https://localhost:8080/"
        },
        "id": "TJuy5rjnIfNQ",
        "outputId": "60665251-c9ca-4ac4-e24f-5d78c58fb801"
      },
      "execution_count": null,
      "outputs": [
        {
          "output_type": "execute_result",
          "data": {
            "text/plain": [
              "{'sys': <module 'sys' (built-in)>,\n",
              " 'builtins': <module 'builtins' (built-in)>,\n",
              " '_frozen_importlib': <module '_frozen_importlib' (frozen)>,\n",
              " '_imp': <module '_imp' (built-in)>,\n",
              " '_thread': <module '_thread' (built-in)>,\n",
              " '_warnings': <module '_warnings' (built-in)>,\n",
              " '_weakref': <module '_weakref' (built-in)>,\n",
              " '_io': <module '_io' (built-in)>,\n",
              " 'marshal': <module 'marshal' (built-in)>,\n",
              " 'posix': <module 'posix' (built-in)>,\n",
              " '_frozen_importlib_external': <module '_frozen_importlib_external' (frozen)>,\n",
              " 'time': <module 'time' (built-in)>,\n",
              " 'zipimport': <module 'zipimport' (frozen)>,\n",
              " '_codecs': <module '_codecs' (built-in)>,\n",
              " 'codecs': <module 'codecs' from '/usr/lib/python3.10/codecs.py'>,\n",
              " 'encodings.aliases': <module 'encodings.aliases' from '/usr/lib/python3.10/encodings/aliases.py'>,\n",
              " 'encodings': <module 'encodings' from '/usr/lib/python3.10/encodings/__init__.py'>,\n",
              " 'encodings.utf_8': <module 'encodings.utf_8' from '/usr/lib/python3.10/encodings/utf_8.py'>,\n",
              " '_signal': <module '_signal' (built-in)>,\n",
              " '_abc': <module '_abc' (built-in)>,\n",
              " 'abc': <module 'abc' from '/usr/lib/python3.10/abc.py'>,\n",
              " 'io': <module 'io' from '/usr/lib/python3.10/io.py'>,\n",
              " '__main__': <module '__main__'>,\n",
              " 'types': <module 'types' from '/usr/lib/python3.10/types.py'>,\n",
              " 'enum': <module 'enum' from '/usr/lib/python3.10/enum.py'>,\n",
              " '_sre': <module '_sre' (built-in)>,\n",
              " 'sre_constants': <module 'sre_constants' from '/usr/lib/python3.10/sre_constants.py'>,\n",
              " 'sre_parse': <module 'sre_parse' from '/usr/lib/python3.10/sre_parse.py'>,\n",
              " 'sre_compile': <module 'sre_compile' from '/usr/lib/python3.10/sre_compile.py'>,\n",
              " '_collections_abc': <module '_collections_abc' from '/usr/lib/python3.10/_collections_abc.py'>,\n",
              " 'itertools': <module 'itertools' (built-in)>,\n",
              " 'keyword': <module 'keyword' from '/usr/lib/python3.10/keyword.py'>,\n",
              " '_operator': <module '_operator' (built-in)>,\n",
              " 'operator': <module 'operator' from '/usr/lib/python3.10/operator.py'>,\n",
              " 'reprlib': <module 'reprlib' from '/usr/lib/python3.10/reprlib.py'>,\n",
              " '_collections': <module '_collections' (built-in)>,\n",
              " 'collections': <module 'collections' from '/usr/lib/python3.10/collections/__init__.py'>,\n",
              " '_functools': <module '_functools' (built-in)>,\n",
              " 'functools': <module 'functools' from '/usr/lib/python3.10/functools.py'>,\n",
              " '_locale': <module '_locale' (built-in)>,\n",
              " 'copyreg': <module 'copyreg' from '/usr/lib/python3.10/copyreg.py'>,\n",
              " 're': <module 're' from '/usr/lib/python3.10/re.py'>,\n",
              " 'warnings': <module 'warnings' from '/usr/lib/python3.10/warnings.py'>,\n",
              " '_stat': <module '_stat' (built-in)>,\n",
              " 'stat': <module 'stat' from '/usr/lib/python3.10/stat.py'>,\n",
              " 'genericpath': <module 'genericpath' from '/usr/lib/python3.10/genericpath.py'>,\n",
              " 'posixpath': <module 'posixpath' from '/usr/lib/python3.10/posixpath.py'>,\n",
              " 'os.path': <module 'posixpath' from '/usr/lib/python3.10/posixpath.py'>,\n",
              " 'os': <module 'os' from '/usr/lib/python3.10/os.py'>,\n",
              " '_sitebuiltins': <module '_sitebuiltins' from '/usr/lib/python3.10/_sitebuiltins.py'>,\n",
              " 'importlib._bootstrap': <module '_frozen_importlib' (frozen)>,\n",
              " 'importlib._bootstrap_external': <module '_frozen_importlib_external' (frozen)>,\n",
              " 'importlib': <module 'importlib' from '/usr/lib/python3.10/importlib/__init__.py'>,\n",
              " 'importlib._abc': <module 'importlib._abc' from '/usr/lib/python3.10/importlib/_abc.py'>,\n",
              " 'contextlib': <module 'contextlib' from '/usr/lib/python3.10/contextlib.py'>,\n",
              " 'importlib.util': <module 'importlib.util' from '/usr/lib/python3.10/importlib/util.py'>,\n",
              " 'importlib.machinery': <module 'importlib.machinery' from '/usr/lib/python3.10/importlib/machinery.py'>,\n",
              " 'google': <module 'google' (<_frozen_importlib_external._NamespaceLoader object at 0x7fe60d882290>)>,\n",
              " 'google.cloud': <module 'google.cloud' (<_frozen_importlib_external._NamespaceLoader object at 0x7fe60d8819c0>)>,\n",
              " 'google.logging': <module 'google.logging' (<_frozen_importlib_external._NamespaceLoader object at 0x7fe60d883c10>)>,\n",
              " 'mpl_toolkits': <module 'mpl_toolkits' (<_frozen_importlib_external._NamespaceLoader object at 0x7fe60d880a60>)>,\n",
              " 'sphinxcontrib': <module 'sphinxcontrib' (<_frozen_importlib_external._NamespaceLoader object at 0x7fe60d880d60>)>,\n",
              " 'sitecustomize': <module 'sitecustomize' from '/usr/lib/python3.10/sitecustomize.py'>,\n",
              " 'site': <module 'site' from '/usr/lib/python3.10/site.py'>,\n",
              " 'runpy': <module 'runpy' from '/usr/lib/python3.10/runpy.py'>,\n",
              " 'ipykernel._version': <module 'ipykernel._version' from '/usr/local/lib/python3.10/dist-packages/ipykernel/_version.py'>,\n",
              " '_json': <module '_json' from '/usr/lib/python3.10/lib-dynload/_json.cpython-310-x86_64-linux-gnu.so'>,\n",
              " 'json.scanner': <module 'json.scanner' from '/usr/lib/python3.10/json/scanner.py'>,\n",
              " 'json.decoder': <module 'json.decoder' from '/usr/lib/python3.10/json/decoder.py'>,\n",
              " 'json.encoder': <module 'json.encoder' from '/usr/lib/python3.10/json/encoder.py'>,\n",
              " 'json': <module 'json' from '/usr/lib/python3.10/json/__init__.py'>,\n",
              " 'errno': <module 'errno' (built-in)>,\n",
              " 'signal': <module 'signal' from '/usr/lib/python3.10/signal.py'>,\n",
              " '_weakrefset': <module '_weakrefset' from '/usr/lib/python3.10/_weakrefset.py'>,\n",
              " 'threading': <module 'threading' from '/usr/lib/python3.10/threading.py'>,\n",
              " 'fcntl': <module 'fcntl' (built-in)>,\n",
              " '_posixsubprocess': <module '_posixsubprocess' (built-in)>,\n",
              " 'select': <module 'select' (built-in)>,\n",
              " 'collections.abc': <module 'collections.abc' from '/usr/lib/python3.10/collections/abc.py'>,\n",
              " 'math': <module 'math' (built-in)>,\n",
              " 'selectors': <module 'selectors' from '/usr/lib/python3.10/selectors.py'>,\n",
              " 'subprocess': <module 'subprocess' from '/usr/lib/python3.10/subprocess.py'>,\n",
              " 'IPython.core': <module 'IPython.core' from '/usr/local/lib/python3.10/dist-packages/IPython/core/__init__.py'>,\n",
              " 'IPython.core.getipython': <module 'IPython.core.getipython' from '/usr/local/lib/python3.10/dist-packages/IPython/core/getipython.py'>,\n",
              " 'IPython.core.release': <module 'IPython.core.release' from '/usr/local/lib/python3.10/dist-packages/IPython/core/release.py'>,\n",
              " 'atexit': <module 'atexit' (built-in)>,\n",
              " 'weakref': <module 'weakref' from '/usr/lib/python3.10/weakref.py'>,\n",
              " 'copy': <module 'copy' from '/usr/lib/python3.10/copy.py'>,\n",
              " 'fnmatch': <module 'fnmatch' from '/usr/lib/python3.10/fnmatch.py'>,\n",
              " 'glob': <module 'glob' from '/usr/lib/python3.10/glob.py'>,\n",
              " 'token': <module 'token' from '/usr/lib/python3.10/token.py'>,\n",
              " 'tokenize': <module 'tokenize' from '/usr/lib/python3.10/tokenize.py'>,\n",
              " 'linecache': <module 'linecache' from '/usr/lib/python3.10/linecache.py'>,\n",
              " 'traceback': <module 'traceback' from '/usr/lib/python3.10/traceback.py'>,\n",
              " '_string': <module '_string' (built-in)>,\n",
              " 'string': <module 'string' from '/usr/lib/python3.10/string.py'>,\n",
              " 'logging': <module 'logging' from '/usr/lib/python3.10/logging/__init__.py'>,\n",
              " 'zlib': <module 'zlib' (built-in)>,\n",
              " '_compression': <module '_compression' from '/usr/lib/python3.10/_compression.py'>,\n",
              " '_bz2': <module '_bz2' from '/usr/lib/python3.10/lib-dynload/_bz2.cpython-310-x86_64-linux-gnu.so'>,\n",
              " 'bz2': <module 'bz2' from '/usr/lib/python3.10/bz2.py'>,\n",
              " '_lzma': <module '_lzma' from '/usr/lib/python3.10/lib-dynload/_lzma.cpython-310-x86_64-linux-gnu.so'>,\n",
              " 'lzma': <module 'lzma' from '/usr/lib/python3.10/lzma.py'>,\n",
              " 'shutil': <module 'shutil' from '/usr/lib/python3.10/shutil.py'>,\n",
              " '_ast': <module '_ast' (built-in)>,\n",
              " 'ast': <module 'ast' from '/usr/lib/python3.10/ast.py'>,\n",
              " '_opcode': <module '_opcode' from '/usr/lib/python3.10/lib-dynload/_opcode.cpython-310-x86_64-linux-gnu.so'>,\n",
              " 'opcode': <module 'opcode' from '/usr/lib/python3.10/opcode.py'>,\n",
              " 'dis': <module 'dis' from '/usr/lib/python3.10/dis.py'>,\n",
              " 'inspect': <module 'inspect' from '/usr/lib/python3.10/inspect.py'>,\n",
              " 'typing.io': typing.io,\n",
              " 'typing.re': typing.re,\n",
              " 'typing': <module 'typing' from '/usr/lib/python3.10/typing.py'>,\n",
              " 'traitlets.utils': <module 'traitlets.utils' from '/usr/local/lib/python3.10/dist-packages/traitlets/utils/__init__.py'>,\n",
              " 'traitlets.utils.bunch': <module 'traitlets.utils.bunch' from '/usr/local/lib/python3.10/dist-packages/traitlets/utils/bunch.py'>,\n",
              " 'traitlets.utils.descriptions': <module 'traitlets.utils.descriptions' from '/usr/local/lib/python3.10/dist-packages/traitlets/utils/descriptions.py'>,\n",
              " 'traitlets.utils.getargspec': <module 'traitlets.utils.getargspec' from '/usr/local/lib/python3.10/dist-packages/traitlets/utils/getargspec.py'>,\n",
              " 'traitlets.utils.importstring': <module 'traitlets.utils.importstring' from '/usr/local/lib/python3.10/dist-packages/traitlets/utils/importstring.py'>,\n",
              " 'traitlets.utils.sentinel': <module 'traitlets.utils.sentinel' from '/usr/local/lib/python3.10/dist-packages/traitlets/utils/sentinel.py'>,\n",
              " 'traitlets.traitlets': <module 'traitlets.traitlets' from '/usr/local/lib/python3.10/dist-packages/traitlets/traitlets.py'>,\n",
              " 'traitlets._version': <module 'traitlets._version' from '/usr/local/lib/python3.10/dist-packages/traitlets/_version.py'>,\n",
              " 'traitlets.utils.decorators': <module 'traitlets.utils.decorators' from '/usr/local/lib/python3.10/dist-packages/traitlets/utils/decorators.py'>,\n",
              " 'traitlets': <module 'traitlets' from '/usr/local/lib/python3.10/dist-packages/traitlets/__init__.py'>,\n",
              " 'dataclasses': <module 'dataclasses' from '/usr/lib/python3.10/dataclasses.py'>,\n",
              " 'pprint': <module 'pprint' from '/usr/lib/python3.10/pprint.py'>,\n",
              " '_socket': <module '_socket' (built-in)>,\n",
              " 'array': <module 'array' (built-in)>,\n",
              " 'socket': <module 'socket' from '/usr/lib/python3.10/socket.py'>,\n",
              " '_struct': <module '_struct' (built-in)>,\n",
              " 'struct': <module 'struct' from '/usr/lib/python3.10/struct.py'>,\n",
              " '_compat_pickle': <module '_compat_pickle' from '/usr/lib/python3.10/_compat_pickle.py'>,\n",
              " '_pickle': <module '_pickle' (built-in)>,\n",
              " 'pickle': <module 'pickle' from '/usr/lib/python3.10/pickle.py'>,\n",
              " '_heapq': <module '_heapq' (built-in)>,\n",
              " 'heapq': <module 'heapq' from '/usr/lib/python3.10/heapq.py'>,\n",
              " '_queue': <module '_queue' from '/usr/lib/python3.10/lib-dynload/_queue.cpython-310-x86_64-linux-gnu.so'>,\n",
              " 'queue': <module 'queue' from '/usr/lib/python3.10/queue.py'>,\n",
              " 'logging.handlers': <module 'logging.handlers' from '/usr/lib/python3.10/logging/handlers.py'>,\n",
              " 'socketserver': <module 'socketserver' from '/usr/lib/python3.10/socketserver.py'>,\n",
              " 'logging.config': <module 'logging.config' from '/usr/lib/python3.10/logging/config.py'>,\n",
              " 'textwrap': <module 'textwrap' from '/usr/lib/python3.10/textwrap.py'>,\n",
              " 'traitlets.utils.text': <module 'traitlets.utils.text' from '/usr/local/lib/python3.10/dist-packages/traitlets/utils/text.py'>,\n",
              " 'gettext': <module 'gettext' from '/usr/lib/python3.10/gettext.py'>,\n",
              " 'argparse': <module 'argparse' from '/usr/lib/python3.10/argparse.py'>,\n",
              " 'traitlets.config.loader': <module 'traitlets.config.loader' from '/usr/local/lib/python3.10/dist-packages/traitlets/config/loader.py'>,\n",
              " 'traitlets.config.configurable': <module 'traitlets.config.configurable' from '/usr/local/lib/python3.10/dist-packages/traitlets/config/configurable.py'>,\n",
              " 'traitlets.utils.nested_update': <module 'traitlets.utils.nested_update' from '/usr/local/lib/python3.10/dist-packages/traitlets/utils/nested_update.py'>,\n",
              " 'traitlets.config.application': <module 'traitlets.config.application' from '/usr/local/lib/python3.10/dist-packages/traitlets/config/application.py'>,\n",
              " 'traitlets.config': <module 'traitlets.config' from '/usr/local/lib/python3.10/dist-packages/traitlets/config/__init__.py'>,\n",
              " 'pkgutil': <module 'pkgutil' from '/usr/lib/python3.10/pkgutil.py'>,\n",
              " 'platform': <module 'platform' from '/usr/lib/python3.10/platform.py'>,\n",
              " 'sysconfig': <module 'sysconfig' from '/usr/lib/python3.10/sysconfig.py'>,\n",
              " 'urllib': <module 'urllib' from '/usr/lib/python3.10/urllib/__init__.py'>,\n",
              " 'urllib.parse': <module 'urllib.parse' from '/usr/lib/python3.10/urllib/parse.py'>,\n",
              " '_sysconfigdata__x86_64-linux-gnu': <module '_sysconfigdata__x86_64-linux-gnu' from '/usr/lib/python3.10/_sysconfigdata__x86_64-linux-gnu.py'>,\n",
              " 'pydoc': <module 'pydoc' from '/usr/lib/python3.10/pydoc.py'>,\n",
              " 'bdb': <module 'bdb' from '/usr/lib/python3.10/bdb.py'>,\n",
              " 'IPython.utils': <module 'IPython.utils' from '/usr/local/lib/python3.10/dist-packages/IPython/utils/__init__.py'>,\n",
              " 'IPython.utils.ipstruct': <module 'IPython.utils.ipstruct' from '/usr/local/lib/python3.10/dist-packages/IPython/utils/ipstruct.py'>,\n",
              " 'IPython.utils.coloransi': <module 'IPython.utils.coloransi' from '/usr/local/lib/python3.10/dist-packages/IPython/utils/coloransi.py'>,\n",
              " 'pygments': <module 'pygments' from '/usr/local/lib/python3.10/dist-packages/pygments/__init__.py'>,\n",
              " 'IPython.utils.colorable': <module 'IPython.utils.colorable' from '/usr/local/lib/python3.10/dist-packages/IPython/utils/colorable.py'>,\n",
              " 'IPython.utils.PyColorize': <module 'IPython.utils.PyColorize' from '/usr/local/lib/python3.10/dist-packages/IPython/utils/PyColorize.py'>,\n",
              " 'locale': <module 'locale' from '/usr/lib/python3.10/locale.py'>,\n",
              " 'IPython.utils.encoding': <module 'IPython.utils.encoding' from '/usr/local/lib/python3.10/dist-packages/IPython/utils/encoding.py'>,\n",
              " 'IPython.utils.py3compat': <module 'IPython.utils.py3compat' from '/usr/local/lib/python3.10/dist-packages/IPython/utils/py3compat.py'>,\n",
              " 'IPython.core.excolors': <module 'IPython.core.excolors' from '/usr/local/lib/python3.10/dist-packages/IPython/core/excolors.py'>,\n",
              " 'IPython.testing': <module 'IPython.testing' from '/usr/local/lib/python3.10/dist-packages/IPython/testing/__init__.py'>,\n",
              " 'IPython.testing.skipdoctest': <module 'IPython.testing.skipdoctest' from '/usr/local/lib/python3.10/dist-packages/IPython/testing/skipdoctest.py'>,\n",
              " 'cmd': <module 'cmd' from '/usr/lib/python3.10/cmd.py'>,\n",
              " '__future__': <module '__future__' from '/usr/lib/python3.10/__future__.py'>,\n",
              " 'codeop': <module 'codeop' from '/usr/lib/python3.10/codeop.py'>,\n",
              " 'code': <module 'code' from '/usr/lib/python3.10/code.py'>,\n",
              " 'pdb': <module 'pdb' from '/usr/lib/python3.10/pdb.py'>,\n",
              " 'IPython.core.debugger': <module 'IPython.core.debugger' from '/usr/local/lib/python3.10/dist-packages/IPython/core/debugger.py'>,\n",
              " 'IPython.core.display_trap': <module 'IPython.core.display_trap' from '/usr/local/lib/python3.10/dist-packages/IPython/core/display_trap.py'>,\n",
              " '_bisect': <module '_bisect' (built-in)>,\n",
              " 'bisect': <module 'bisect' from '/usr/lib/python3.10/bisect.py'>,\n",
              " '_random': <module '_random' (built-in)>,\n",
              " '_sha512': <module '_sha512' (built-in)>,\n",
              " 'random': <module 'random' from '/usr/lib/python3.10/random.py'>,\n",
              " 'pexpect.exceptions': <module 'pexpect.exceptions' from '/usr/local/lib/python3.10/dist-packages/pexpect/exceptions.py'>,\n",
              " 'pexpect.utils': <module 'pexpect.utils' from '/usr/local/lib/python3.10/dist-packages/pexpect/utils.py'>,\n",
              " 'pexpect.expect': <module 'pexpect.expect' from '/usr/local/lib/python3.10/dist-packages/pexpect/expect.py'>,\n",
              " 'termios': <module 'termios' from '/usr/lib/python3.10/lib-dynload/termios.cpython-310-x86_64-linux-gnu.so'>,\n",
              " 'tty': <module 'tty' from '/usr/lib/python3.10/tty.py'>,\n",
              " 'pty': <module 'pty' from '/usr/lib/python3.10/pty.py'>,\n",
              " 'resource': <module 'resource' from '/usr/lib/python3.10/lib-dynload/resource.cpython-310-x86_64-linux-gnu.so'>,\n",
              " 'ptyprocess.util': <module 'ptyprocess.util' from '/usr/local/lib/python3.10/dist-packages/ptyprocess/util.py'>,\n",
              " 'ptyprocess.ptyprocess': <module 'ptyprocess.ptyprocess' from '/usr/local/lib/python3.10/dist-packages/ptyprocess/ptyprocess.py'>,\n",
              " 'ptyprocess': <module 'ptyprocess' from '/usr/local/lib/python3.10/dist-packages/ptyprocess/__init__.py'>,\n",
              " 'pexpect.spawnbase': <module 'pexpect.spawnbase' from '/usr/local/lib/python3.10/dist-packages/pexpect/spawnbase.py'>,\n",
              " 'pexpect.pty_spawn': <module 'pexpect.pty_spawn' from '/usr/local/lib/python3.10/dist-packages/pexpect/pty_spawn.py'>,\n",
              " 'pexpect.run': <module 'pexpect.run' from '/usr/local/lib/python3.10/dist-packages/pexpect/run.py'>,\n",
              " 'pexpect': <module 'pexpect' from '/usr/local/lib/python3.10/dist-packages/pexpect/__init__.py'>,\n",
              " 'shlex': <module 'shlex' from '/usr/lib/python3.10/shlex.py'>,\n",
              " 'IPython.utils._process_common': <module 'IPython.utils._process_common' from '/usr/local/lib/python3.10/dist-packages/IPython/utils/_process_common.py'>,\n",
              " 'IPython.utils._process_posix': <module 'IPython.utils._process_posix' from '/usr/local/lib/python3.10/dist-packages/IPython/utils/_process_posix.py'>,\n",
              " 'IPython.utils.process': <module 'IPython.utils.process' from '/usr/local/lib/python3.10/dist-packages/IPython/utils/process.py'>,\n",
              " 'IPython.utils.decorators': <module 'IPython.utils.decorators' from '/usr/local/lib/python3.10/dist-packages/IPython/utils/decorators.py'>,\n",
              " 'IPython.utils.path': <module 'IPython.utils.path' from '/usr/local/lib/python3.10/dist-packages/IPython/utils/path.py'>,\n",
              " 'IPython.utils.data': <module 'IPython.utils.data' from '/usr/local/lib/python3.10/dist-packages/IPython/utils/data.py'>,\n",
              " 'IPython.utils.terminal': <module 'IPython.utils.terminal' from '/usr/local/lib/python3.10/dist-packages/IPython/utils/terminal.py'>,\n",
              " 'IPython.core.ultratb': <module 'IPython.core.ultratb' from '/usr/local/lib/python3.10/dist-packages/IPython/core/ultratb.py'>,\n",
              " 'IPython.utils._sysinfo': <module 'IPython.utils._sysinfo' from '/usr/local/lib/python3.10/dist-packages/IPython/utils/_sysinfo.py'>,\n",
              " 'IPython.utils.sysinfo': <module 'IPython.utils.sysinfo' from '/usr/local/lib/python3.10/dist-packages/IPython/utils/sysinfo.py'>,\n",
              " 'IPython.core.crashhandler': <module 'IPython.core.crashhandler' from '/usr/local/lib/python3.10/dist-packages/IPython/core/crashhandler.py'>,\n",
              " 'tempfile': <module 'tempfile' from '/usr/lib/python3.10/tempfile.py'>,\n",
              " 'IPython.utils.importstring': <module 'IPython.utils.importstring' from '/usr/local/lib/python3.10/dist-packages/IPython/utils/importstring.py'>,\n",
              " 'IPython.paths': <module 'IPython.paths' from '/usr/local/lib/python3.10/dist-packages/IPython/paths.py'>,\n",
              " 'IPython.core.profiledir': <module 'IPython.core.profiledir' from '/usr/local/lib/python3.10/dist-packages/IPython/core/profiledir.py'>,\n",
              " 'IPython.core.application': <module 'IPython.core.application' from '/usr/local/lib/python3.10/dist-packages/IPython/core/application.py'>,\n",
              " 'IPython.terminal': <module 'IPython.terminal' from '/usr/local/lib/python3.10/dist-packages/IPython/terminal/__init__.py'>,\n",
              " '_hashlib': <module '_hashlib' from '/usr/lib/python3.10/lib-dynload/_hashlib.cpython-310-x86_64-linux-gnu.so'>,\n",
              " '_blake2': <module '_blake2' (built-in)>,\n",
              " 'hashlib': <module 'hashlib' from '/usr/lib/python3.10/hashlib.py'>,\n",
              " 'IPython.core.compilerop': <module 'IPython.core.compilerop' from '/usr/local/lib/python3.10/dist-packages/IPython/core/compilerop.py'>,\n",
              " 'IPython.core.error': <module 'IPython.core.error' from '/usr/local/lib/python3.10/dist-packages/IPython/core/error.py'>,\n",
              " 'ntpath': <module 'ntpath' from '/usr/lib/python3.10/ntpath.py'>,\n",
              " 'pathlib': <module 'pathlib' from '/usr/lib/python3.10/pathlib.py'>,\n",
              " 'IPython.utils.text': <module 'IPython.utils.text' from '/usr/local/lib/python3.10/dist-packages/IPython/utils/text.py'>,\n",
              " 'IPython.core.magic_arguments': <module 'IPython.core.magic_arguments' from '/usr/local/lib/python3.10/dist-packages/IPython/core/magic_arguments.py'>,\n",
              " 'getopt': <module 'getopt' from '/usr/lib/python3.10/getopt.py'>,\n",
              " 'binascii': <module 'binascii' (built-in)>,\n",
              " 'mimetypes': <module 'mimetypes' from '/usr/lib/python3.10/mimetypes.py'>,\n",
              " 'IPython.core.display': <module 'IPython.core.display' from '/usr/local/lib/python3.10/dist-packages/IPython/core/display.py'>,\n",
              " 'IPython.core.page': <module 'IPython.core.page' from '/usr/local/lib/python3.10/dist-packages/IPython/core/page.py'>,\n",
              " 'getpass': <module 'getpass' from '/usr/lib/python3.10/getpass.py'>,\n",
              " 'IPython.lib.security': <module 'IPython.lib.security' from '/usr/local/lib/python3.10/dist-packages/IPython/lib/security.py'>,\n",
              " 'IPython.lib': <module 'IPython.lib' from '/usr/local/lib/python3.10/dist-packages/IPython/lib/__init__.py'>,\n",
              " '_datetime': <module '_datetime' (built-in)>,\n",
              " 'datetime': <module 'datetime' from '/usr/lib/python3.10/datetime.py'>,\n",
              " 'IPython.lib.pretty': <module 'IPython.lib.pretty' from '/usr/local/lib/python3.10/dist-packages/IPython/lib/pretty.py'>,\n",
              " 'IPython.utils.openpy': <module 'IPython.utils.openpy' from '/usr/local/lib/python3.10/dist-packages/IPython/utils/openpy.py'>,\n",
              " 'IPython.utils.dir2': <module 'IPython.utils.dir2' from '/usr/local/lib/python3.10/dist-packages/IPython/utils/dir2.py'>,\n",
              " 'IPython.utils.wildcard': <module 'IPython.utils.wildcard' from '/usr/local/lib/python3.10/dist-packages/IPython/utils/wildcard.py'>,\n",
              " 'pygments.lexers._mapping': <module 'pygments.lexers._mapping' from '/usr/local/lib/python3.10/dist-packages/pygments/lexers/_mapping.py'>,\n",
              " 'pygments.modeline': <module 'pygments.modeline' from '/usr/local/lib/python3.10/dist-packages/pygments/modeline.py'>,\n",
              " 'pygments.plugin': <module 'pygments.plugin' from '/usr/local/lib/python3.10/dist-packages/pygments/plugin.py'>,\n",
              " 'pygments.util': <module 'pygments.util' from '/usr/local/lib/python3.10/dist-packages/pygments/util.py'>,\n",
              " 'pygments.lexers': <module 'pygments.lexers' from '/usr/local/lib/python3.10/dist-packages/pygments/lexers/__init__.py'>,\n",
              " 'pygments.filter': <module 'pygments.filter' from '/usr/local/lib/python3.10/dist-packages/pygments/filter.py'>,\n",
              " 'pygments.token': <module 'pygments.token' from '/usr/local/lib/python3.10/dist-packages/pygments/token.py'>,\n",
              " 'pygments.filters': <module 'pygments.filters' from '/usr/local/lib/python3.10/dist-packages/pygments/filters/__init__.py'>,\n",
              " 'pygments.regexopt': <module 'pygments.regexopt' from '/usr/local/lib/python3.10/dist-packages/pygments/regexopt.py'>,\n",
              " 'pygments.lexer': <module 'pygments.lexer' from '/usr/local/lib/python3.10/dist-packages/pygments/lexer.py'>,\n",
              " 'pygments.unistring': <module 'pygments.unistring' from '/usr/local/lib/python3.10/dist-packages/pygments/unistring.py'>,\n",
              " 'pygments.lexers.python': <module 'pygments.lexers.python' from '/usr/local/lib/python3.10/dist-packages/pygments/lexers/python.py'>,\n",
              " 'pygments.formatters._mapping': <module 'pygments.formatters._mapping' from '/usr/local/lib/python3.10/dist-packages/pygments/formatters/_mapping.py'>,\n",
              " 'pygments.formatters': <module 'pygments.formatters' from '/usr/local/lib/python3.10/dist-packages/pygments/formatters/__init__.py'>,\n",
              " 'pygments.styles': <module 'pygments.styles' from '/usr/local/lib/python3.10/dist-packages/pygments/styles/__init__.py'>,\n",
              " 'pygments.formatter': <module 'pygments.formatter' from '/usr/local/lib/python3.10/dist-packages/pygments/formatter.py'>,\n",
              " 'pygments.formatters.html': <module 'pygments.formatters.html' from '/usr/local/lib/python3.10/dist-packages/pygments/formatters/html.py'>,\n",
              " 'IPython.core.oinspect': <module 'IPython.core.oinspect' from '/usr/local/lib/python3.10/dist-packages/IPython/core/oinspect.py'>,\n",
              " 'IPython.core.inputtransformer2': <module 'IPython.core.inputtransformer2' from '/usr/local/lib/python3.10/dist-packages/IPython/core/inputtransformer2.py'>,\n",
              " 'decorator': <module 'decorator' from '/usr/local/lib/python3.10/dist-packages/decorator.py'>,\n",
              " 'IPython.core.magic': <module 'IPython.core.magic' from '/usr/local/lib/python3.10/dist-packages/IPython/core/magic.py'>,\n",
              " 'pickleshare': <module 'pickleshare' from '/usr/local/lib/python3.10/dist-packages/pickleshare.py'>,\n",
              " 'IPython.core.autocall': <module 'IPython.core.autocall' from '/usr/local/lib/python3.10/dist-packages/IPython/core/autocall.py'>,\n",
              " 'IPython.core.macro': <module 'IPython.core.macro' from '/usr/local/lib/python3.10/dist-packages/IPython/core/macro.py'>,\n",
              " 'IPython.core.splitinput': <module 'IPython.core.splitinput' from '/usr/local/lib/python3.10/dist-packages/IPython/core/splitinput.py'>,\n",
              " 'IPython.core.prefilter': <module 'IPython.core.prefilter' from '/usr/local/lib/python3.10/dist-packages/IPython/core/prefilter.py'>,\n",
              " 'IPython.core.alias': <module 'IPython.core.alias' from '/usr/local/lib/python3.10/dist-packages/IPython/core/alias.py'>,\n",
              " 'IPython.core.builtin_trap': <module 'IPython.core.builtin_trap' from '/usr/local/lib/python3.10/dist-packages/IPython/core/builtin_trap.py'>,\n",
              " 'backcall.backcall': <module 'backcall.backcall' from '/usr/local/lib/python3.10/dist-packages/backcall/backcall.py'>,\n",
              " 'backcall': <module 'backcall' from '/usr/local/lib/python3.10/dist-packages/backcall/__init__.py'>,\n",
              " 'IPython.core.events': <module 'IPython.core.events' from '/usr/local/lib/python3.10/dist-packages/IPython/core/events.py'>,\n",
              " 'IPython.core.displayhook': <module 'IPython.core.displayhook' from '/usr/local/lib/python3.10/dist-packages/IPython/core/displayhook.py'>,\n",
              " 'IPython.core.displaypub': <module 'IPython.core.displaypub' from '/usr/local/lib/python3.10/dist-packages/IPython/core/displaypub.py'>,\n",
              " 'IPython.core.extensions': <module 'IPython.core.extensions' from '/usr/local/lib/python3.10/dist-packages/IPython/core/extensions.py'>,\n",
              " 'IPython.utils.sentinel': <module 'IPython.utils.sentinel' from '/usr/local/lib/python3.10/dist-packages/IPython/utils/sentinel.py'>,\n",
              " 'IPython.core.formatters': <module 'IPython.core.formatters' from '/usr/local/lib/python3.10/dist-packages/IPython/core/formatters.py'>,\n",
              " '_sqlite3': <module '_sqlite3' from '/usr/lib/python3.10/lib-dynload/_sqlite3.cpython-310-x86_64-linux-gnu.so'>,\n",
              " 'sqlite3.dbapi2': <module 'sqlite3.dbapi2' from '/usr/lib/python3.10/sqlite3/dbapi2.py'>,\n",
              " 'sqlite3': <module 'sqlite3' from '/usr/lib/python3.10/sqlite3/__init__.py'>,\n",
              " 'IPython.core.history': <module 'IPython.core.history' from '/usr/local/lib/python3.10/dist-packages/IPython/core/history.py'>,\n",
              " 'IPython.core.logger': <module 'IPython.core.logger' from '/usr/local/lib/python3.10/dist-packages/IPython/core/logger.py'>,\n",
              " 'IPython.core.payload': <module 'IPython.core.payload' from '/usr/local/lib/python3.10/dist-packages/IPython/core/payload.py'>,\n",
              " 'IPython.core.usage': <module 'IPython.core.usage' from '/usr/local/lib/python3.10/dist-packages/IPython/core/usage.py'>,\n",
              " 'html.entities': <module 'html.entities' from '/usr/lib/python3.10/html/entities.py'>,\n",
              " 'html': <module 'html' from '/usr/lib/python3.10/html/__init__.py'>,\n",
              " 'IPython.lib.display': <module 'IPython.lib.display' from '/usr/local/lib/python3.10/dist-packages/IPython/lib/display.py'>,\n",
              " 'IPython.display': <module 'IPython.display' from '/usr/local/lib/python3.10/dist-packages/IPython/display.py'>,\n",
              " 'IPython.utils.capture': <module 'IPython.utils.capture' from '/usr/local/lib/python3.10/dist-packages/IPython/utils/capture.py'>,\n",
              " 'IPython.utils.io': <module 'IPython.utils.io' from '/usr/local/lib/python3.10/dist-packages/IPython/utils/io.py'>,\n",
              " 'IPython.core.hooks': <module 'IPython.core.hooks' from '/usr/local/lib/python3.10/dist-packages/IPython/core/hooks.py'>,\n",
              " 'IPython.utils.strdispatch': <module 'IPython.utils.strdispatch' from '/usr/local/lib/python3.10/dist-packages/IPython/utils/strdispatch.py'>,\n",
              " 'IPython.utils.syspathcontext': <module 'IPython.utils.syspathcontext' from '/usr/local/lib/python3.10/dist-packages/IPython/utils/syspathcontext.py'>,\n",
              " 'IPython.utils.tempdir': <module 'IPython.utils.tempdir' from '/usr/local/lib/python3.10/dist-packages/IPython/utils/tempdir.py'>,\n",
              " 'IPython.utils.contexts': <module 'IPython.utils.contexts' from '/usr/local/lib/python3.10/dist-packages/IPython/utils/contexts.py'>,\n",
              " 'concurrent': <module 'concurrent' from '/usr/lib/python3.10/concurrent/__init__.py'>,\n",
              " 'concurrent.futures._base': <module 'concurrent.futures._base' from '/usr/lib/python3.10/concurrent/futures/_base.py'>,\n",
              " 'concurrent.futures': <module 'concurrent.futures' from '/usr/lib/python3.10/concurrent/futures/__init__.py'>,\n",
              " '_ssl': <module '_ssl' from '/usr/lib/python3.10/lib-dynload/_ssl.cpython-310-x86_64-linux-gnu.so'>,\n",
              " 'base64': <module 'base64' from '/usr/lib/python3.10/base64.py'>,\n",
              " 'ssl': <module 'ssl' from '/usr/lib/python3.10/ssl.py'>,\n",
              " 'asyncio.constants': <module 'asyncio.constants' from '/usr/lib/python3.10/asyncio/constants.py'>,\n",
              " 'asyncio.format_helpers': <module 'asyncio.format_helpers' from '/usr/lib/python3.10/asyncio/format_helpers.py'>,\n",
              " 'asyncio.base_futures': <module 'asyncio.base_futures' from '/usr/lib/python3.10/asyncio/base_futures.py'>,\n",
              " 'asyncio.log': <module 'asyncio.log' from '/usr/lib/python3.10/asyncio/log.py'>,\n",
              " 'asyncio.coroutines': <module 'asyncio.coroutines' from '/usr/lib/python3.10/asyncio/coroutines.py'>,\n",
              " '_contextvars': <module '_contextvars' from '/usr/lib/python3.10/lib-dynload/_contextvars.cpython-310-x86_64-linux-gnu.so'>,\n",
              " 'contextvars': <module 'contextvars' from '/usr/lib/python3.10/contextvars.py'>,\n",
              " 'asyncio.exceptions': <module 'asyncio.exceptions' from '/usr/lib/python3.10/asyncio/exceptions.py'>,\n",
              " 'asyncio.base_tasks': <module 'asyncio.base_tasks' from '/usr/lib/python3.10/asyncio/base_tasks.py'>,\n",
              " '_asyncio': <module '_asyncio' from '/usr/lib/python3.10/lib-dynload/_asyncio.cpython-310-x86_64-linux-gnu.so'>,\n",
              " 'asyncio.events': <module 'asyncio.events' from '/usr/lib/python3.10/asyncio/events.py'>,\n",
              " 'asyncio.futures': <module 'asyncio.futures' from '/usr/lib/python3.10/asyncio/futures.py'>,\n",
              " 'asyncio.protocols': <module 'asyncio.protocols' from '/usr/lib/python3.10/asyncio/protocols.py'>,\n",
              " 'asyncio.transports': <module 'asyncio.transports' from '/usr/lib/python3.10/asyncio/transports.py'>,\n",
              " 'asyncio.sslproto': <module 'asyncio.sslproto' from '/usr/lib/python3.10/asyncio/sslproto.py'>,\n",
              " 'asyncio.mixins': <module 'asyncio.mixins' from '/usr/lib/python3.10/asyncio/mixins.py'>,\n",
              " 'asyncio.tasks': <module 'asyncio.tasks' from '/usr/lib/python3.10/asyncio/tasks.py'>,\n",
              " 'asyncio.locks': <module 'asyncio.locks' from '/usr/lib/python3.10/asyncio/locks.py'>,\n",
              " 'asyncio.staggered': <module 'asyncio.staggered' from '/usr/lib/python3.10/asyncio/staggered.py'>,\n",
              " 'asyncio.trsock': <module 'asyncio.trsock' from '/usr/lib/python3.10/asyncio/trsock.py'>,\n",
              " 'asyncio.base_events': <module 'asyncio.base_events' from '/usr/lib/python3.10/asyncio/base_events.py'>,\n",
              " 'asyncio.runners': <module 'asyncio.runners' from '/usr/lib/python3.10/asyncio/runners.py'>,\n",
              " 'asyncio.queues': <module 'asyncio.queues' from '/usr/lib/python3.10/asyncio/queues.py'>,\n",
              " 'asyncio.streams': <module 'asyncio.streams' from '/usr/lib/python3.10/asyncio/streams.py'>,\n",
              " 'asyncio.subprocess': <module 'asyncio.subprocess' from '/usr/lib/python3.10/asyncio/subprocess.py'>,\n",
              " 'asyncio.threads': <module 'asyncio.threads' from '/usr/lib/python3.10/asyncio/threads.py'>,\n",
              " 'asyncio.base_subprocess': <module 'asyncio.base_subprocess' from '/usr/lib/python3.10/asyncio/base_subprocess.py'>,\n",
              " 'asyncio.selector_events': <module 'asyncio.selector_events' from '/usr/lib/python3.10/asyncio/selector_events.py'>,\n",
              " 'asyncio.unix_events': <module 'asyncio.unix_events' from '/usr/lib/python3.10/asyncio/unix_events.py'>,\n",
              " 'asyncio': <module 'asyncio' from '/usr/lib/python3.10/asyncio/__init__.py'>,\n",
              " 'IPython.core.async_helpers': <module 'IPython.core.async_helpers' from '/usr/local/lib/python3.10/dist-packages/IPython/core/async_helpers.py'>,\n",
              " 'IPython.core.interactiveshell': <module 'IPython.core.interactiveshell' from '/usr/local/lib/python3.10/dist-packages/IPython/core/interactiveshell.py'>,\n",
              " 'prompt_toolkit.application.current': <module 'prompt_toolkit.application.current' from '/usr/local/lib/python3.10/dist-packages/prompt_toolkit/application/current.py'>,\n",
              " 'prompt_toolkit.eventloop.utils': <module 'prompt_toolkit.eventloop.utils' from '/usr/local/lib/python3.10/dist-packages/prompt_toolkit/eventloop/utils.py'>,\n",
              " 'prompt_toolkit.eventloop.async_generator': <module 'prompt_toolkit.eventloop.async_generator' from '/usr/local/lib/python3.10/dist-packages/prompt_toolkit/eventloop/async_generator.py'>,\n",
              " 'prompt_toolkit.eventloop.inputhook': <module 'prompt_toolkit.eventloop.inputhook' from '/usr/local/lib/python3.10/dist-packages/prompt_toolkit/eventloop/inputhook.py'>,\n",
              " 'prompt_toolkit.eventloop': <module 'prompt_toolkit.eventloop' from '/usr/local/lib/python3.10/dist-packages/prompt_toolkit/eventloop/__init__.py'>,\n",
              " 'prompt_toolkit.application.run_in_terminal': <module 'prompt_toolkit.application.run_in_terminal' from '/usr/local/lib/python3.10/dist-packages/prompt_toolkit/application/run_in_terminal.py'>,\n",
              " 'prompt_toolkit.selection': <module 'prompt_toolkit.selection' from '/usr/local/lib/python3.10/dist-packages/prompt_toolkit/selection.py'>,\n",
              " 'prompt_toolkit.clipboard.base': <module 'prompt_toolkit.clipboard.base' from '/usr/local/lib/python3.10/dist-packages/prompt_toolkit/clipboard/base.py'>,\n",
              " 'prompt_toolkit.clipboard.in_memory': <module 'prompt_toolkit.clipboard.in_memory' from '/usr/local/lib/python3.10/dist-packages/prompt_toolkit/clipboard/in_memory.py'>,\n",
              " 'prompt_toolkit.clipboard': <module 'prompt_toolkit.clipboard' from '/usr/local/lib/python3.10/dist-packages/prompt_toolkit/clipboard/__init__.py'>,\n",
              " 'prompt_toolkit.cache': <module 'prompt_toolkit.cache' from '/usr/local/lib/python3.10/dist-packages/prompt_toolkit/cache.py'>,\n",
              " 'prompt_toolkit.enums': <module 'prompt_toolkit.enums' from '/usr/local/lib/python3.10/dist-packages/prompt_toolkit/enums.py'>,\n",
              " 'prompt_toolkit.filters.base': <module 'prompt_toolkit.filters.base' from '/usr/local/lib/python3.10/dist-packages/prompt_toolkit/filters/base.py'>,\n",
              " 'prompt_toolkit.filters.app': <module 'prompt_toolkit.filters.app' from '/usr/local/lib/python3.10/dist-packages/prompt_toolkit/filters/app.py'>,\n",
              " 'prompt_toolkit.filters.cli': <module 'prompt_toolkit.filters.cli' from '/usr/local/lib/python3.10/dist-packages/prompt_toolkit/filters/cli.py'>,\n",
              " 'prompt_toolkit.filters.utils': <module 'prompt_toolkit.filters.utils' from '/usr/local/lib/python3.10/dist-packages/prompt_toolkit/filters/utils.py'>,\n",
              " 'prompt_toolkit.filters': <module 'prompt_toolkit.filters' from '/usr/local/lib/python3.10/dist-packages/prompt_toolkit/filters/__init__.py'>,\n",
              " 'prompt_toolkit.document': <module 'prompt_toolkit.document' from '/usr/local/lib/python3.10/dist-packages/prompt_toolkit/document.py'>,\n",
              " 'prompt_toolkit.auto_suggest': <module 'prompt_toolkit.auto_suggest' from '/usr/local/lib/python3.10/dist-packages/prompt_toolkit/auto_suggest.py'>,\n",
              " 'prompt_toolkit.keys': <module 'prompt_toolkit.keys' from '/usr/local/lib/python3.10/dist-packages/prompt_toolkit/keys.py'>,\n",
              " 'prompt_toolkit.key_binding.key_bindings': <module 'prompt_toolkit.key_binding.key_bindings' from '/usr/local/lib/python3.10/dist-packages/prompt_toolkit/key_binding/key_bindings.py'>,\n",
              " 'wcwidth.table_wide': <module 'wcwidth.table_wide' from '/usr/local/lib/python3.10/dist-packages/wcwidth/table_wide.py'>,\n",
              " 'wcwidth.table_zero': <module 'wcwidth.table_zero' from '/usr/local/lib/python3.10/dist-packages/wcwidth/table_zero.py'>,\n",
              " 'wcwidth.unicode_versions': <module 'wcwidth.unicode_versions' from '/usr/local/lib/python3.10/dist-packages/wcwidth/unicode_versions.py'>,\n",
              " 'wcwidth.wcwidth': <module 'wcwidth.wcwidth' from '/usr/local/lib/python3.10/dist-packages/wcwidth/wcwidth.py'>,\n",
              " 'wcwidth': <module 'wcwidth' from '/usr/local/lib/python3.10/dist-packages/wcwidth/__init__.py'>,\n",
              " 'prompt_toolkit.utils': <module 'prompt_toolkit.utils' from '/usr/local/lib/python3.10/dist-packages/prompt_toolkit/utils.py'>,\n",
              " 'prompt_toolkit.key_binding.key_processor': <module 'prompt_toolkit.key_binding.key_processor' from '/usr/local/lib/python3.10/dist-packages/prompt_toolkit/key_binding/key_processor.py'>,\n",
              " 'prompt_toolkit.key_binding': <module 'prompt_toolkit.key_binding' from '/usr/local/lib/python3.10/dist-packages/prompt_toolkit/key_binding/__init__.py'>,\n",
              " 'prompt_toolkit.key_binding.vi_state': <module 'prompt_toolkit.key_binding.vi_state' from '/usr/local/lib/python3.10/dist-packages/prompt_toolkit/key_binding/vi_state.py'>,\n",
              " 'prompt_toolkit.cursor_shapes': <module 'prompt_toolkit.cursor_shapes' from '/usr/local/lib/python3.10/dist-packages/prompt_toolkit/cursor_shapes.py'>,\n",
              " 'prompt_toolkit.data_structures': <module 'prompt_toolkit.data_structures' from '/usr/local/lib/python3.10/dist-packages/prompt_toolkit/data_structures.py'>,\n",
              " 'prompt_toolkit.styles.base': <module 'prompt_toolkit.styles.base' from '/usr/local/lib/python3.10/dist-packages/prompt_toolkit/styles/base.py'>,\n",
              " 'prompt_toolkit.styles.named_colors': <module 'prompt_toolkit.styles.named_colors' from '/usr/local/lib/python3.10/dist-packages/prompt_toolkit/styles/named_colors.py'>,\n",
              " 'prompt_toolkit.styles.style': <module 'prompt_toolkit.styles.style' from '/usr/local/lib/python3.10/dist-packages/prompt_toolkit/styles/style.py'>,\n",
              " 'prompt_toolkit.styles.defaults': <module 'prompt_toolkit.styles.defaults' from '/usr/local/lib/python3.10/dist-packages/prompt_toolkit/styles/defaults.py'>,\n",
              " 'prompt_toolkit.styles.pygments': <module 'prompt_toolkit.styles.pygments' from '/usr/local/lib/python3.10/dist-packages/prompt_toolkit/styles/pygments.py'>,\n",
              " 'colorsys': <module 'colorsys' from '/usr/lib/python3.10/colorsys.py'>,\n",
              " 'prompt_toolkit.styles.style_transformation': <module 'prompt_toolkit.styles.style_transformation' from '/usr/local/lib/python3.10/dist-packages/prompt_toolkit/styles/style_transformation.py'>,\n",
              " 'prompt_toolkit.styles': <module 'prompt_toolkit.styles' from '/usr/local/lib/python3.10/dist-packages/prompt_toolkit/styles/__init__.py'>,\n",
              " 'prompt_toolkit.output.color_depth': <module 'prompt_toolkit.output.color_depth' from '/usr/local/lib/python3.10/dist-packages/prompt_toolkit/output/color_depth.py'>,\n",
              " 'prompt_toolkit.output.base': <module 'prompt_toolkit.output.base' from '/usr/local/lib/python3.10/dist-packages/prompt_toolkit/output/base.py'>,\n",
              " 'prompt_toolkit.output.flush_stdout': <module 'prompt_toolkit.output.flush_stdout' from '/usr/local/lib/python3.10/dist-packages/prompt_toolkit/output/flush_stdout.py'>,\n",
              " 'prompt_toolkit.output.plain_text': <module 'prompt_toolkit.output.plain_text' from '/usr/local/lib/python3.10/dist-packages/prompt_toolkit/output/plain_text.py'>,\n",
              " 'prompt_toolkit.output.defaults': <module 'prompt_toolkit.output.defaults' from '/usr/local/lib/python3.10/dist-packages/prompt_toolkit/output/defaults.py'>,\n",
              " 'prompt_toolkit.output': <module 'prompt_toolkit.output' from '/usr/local/lib/python3.10/dist-packages/prompt_toolkit/output/__init__.py'>,\n",
              " 'prompt_toolkit.output.vt100': <module 'prompt_toolkit.output.vt100' from '/usr/local/lib/python3.10/dist-packages/prompt_toolkit/output/vt100.py'>,\n",
              " 'prompt_toolkit.mouse_events': <module 'prompt_toolkit.mouse_events' from '/usr/local/lib/python3.10/dist-packages/prompt_toolkit/mouse_events.py'>,\n",
              " 'prompt_toolkit.formatted_text.base': <module 'prompt_toolkit.formatted_text.base' from '/usr/local/lib/python3.10/dist-packages/prompt_toolkit/formatted_text/base.py'>,\n",
              " 'prompt_toolkit.formatted_text.ansi': <module 'prompt_toolkit.formatted_text.ansi' from '/usr/local/lib/python3.10/dist-packages/prompt_toolkit/formatted_text/ansi.py'>,\n",
              " 'xml': <module 'xml' from '/usr/lib/python3.10/xml/__init__.py'>,\n",
              " 'xml.dom.domreg': <module 'xml.dom.domreg' from '/usr/lib/python3.10/xml/dom/domreg.py'>,\n",
              " 'xml.dom': <module 'xml.dom' from '/usr/lib/python3.10/xml/dom/__init__.py'>,\n",
              " 'xml.dom.minicompat': <module 'xml.dom.minicompat' from '/usr/lib/python3.10/xml/dom/minicompat.py'>,\n",
              " 'xml.dom.NodeFilter': <module 'xml.dom.NodeFilter' from '/usr/lib/python3.10/xml/dom/NodeFilter.py'>,\n",
              " 'xml.dom.xmlbuilder': <module 'xml.dom.xmlbuilder' from '/usr/lib/python3.10/xml/dom/xmlbuilder.py'>,\n",
              " 'xml.dom.minidom': <module 'xml.dom.minidom' from '/usr/lib/python3.10/xml/dom/minidom.py'>,\n",
              " 'prompt_toolkit.formatted_text.html': <module 'prompt_toolkit.formatted_text.html' from '/usr/local/lib/python3.10/dist-packages/prompt_toolkit/formatted_text/html.py'>,\n",
              " 'prompt_toolkit.formatted_text.pygments': <module 'prompt_toolkit.formatted_text.pygments' from '/usr/local/lib/python3.10/dist-packages/prompt_toolkit/formatted_text/pygments.py'>,\n",
              " 'prompt_toolkit.formatted_text.utils': <module 'prompt_toolkit.formatted_text.utils' from '/usr/local/lib/python3.10/dist-packages/prompt_toolkit/formatted_text/utils.py'>,\n",
              " 'prompt_toolkit.formatted_text': <module 'prompt_toolkit.formatted_text' from '/usr/local/lib/python3.10/dist-packages/prompt_toolkit/formatted_text/__init__.py'>,\n",
              " 'prompt_toolkit.completion.base': <module 'prompt_toolkit.completion.base' from '/usr/local/lib/python3.10/dist-packages/prompt_toolkit/completion/base.py'>,\n",
              " 'prompt_toolkit.completion.deduplicate': <module 'prompt_toolkit.completion.deduplicate' from '/usr/local/lib/python3.10/dist-packages/prompt_toolkit/completion/deduplicate.py'>,\n",
              " 'prompt_toolkit.completion.filesystem': <module 'prompt_toolkit.completion.filesystem' from '/usr/local/lib/python3.10/dist-packages/prompt_toolkit/completion/filesystem.py'>,\n",
              " 'prompt_toolkit.completion.word_completer': <module 'prompt_toolkit.completion.word_completer' from '/usr/local/lib/python3.10/dist-packages/prompt_toolkit/completion/word_completer.py'>,\n",
              " 'prompt_toolkit.completion.fuzzy_completer': <module 'prompt_toolkit.completion.fuzzy_completer' from '/usr/local/lib/python3.10/dist-packages/prompt_toolkit/completion/fuzzy_completer.py'>,\n",
              " 'prompt_toolkit.completion.nested': <module 'prompt_toolkit.completion.nested' from '/usr/local/lib/python3.10/dist-packages/prompt_toolkit/completion/nested.py'>,\n",
              " 'prompt_toolkit.completion': <module 'prompt_toolkit.completion' from '/usr/local/lib/python3.10/dist-packages/prompt_toolkit/completion/__init__.py'>,\n",
              " 'prompt_toolkit.history': <module 'prompt_toolkit.history' from '/usr/local/lib/python3.10/dist-packages/prompt_toolkit/history.py'>,\n",
              " 'prompt_toolkit.search': <module 'prompt_toolkit.search' from '/usr/local/lib/python3.10/dist-packages/prompt_toolkit/search.py'>,\n",
              " 'prompt_toolkit.validation': <module 'prompt_toolkit.validation' from '/usr/local/lib/python3.10/dist-packages/prompt_toolkit/validation.py'>,\n",
              " 'prompt_toolkit.buffer': <module 'prompt_toolkit.buffer' from '/usr/local/lib/python3.10/dist-packages/prompt_toolkit/buffer.py'>,\n",
              " 'prompt_toolkit.input.base': <module 'prompt_toolkit.input.base' from '/usr/local/lib/python3.10/dist-packages/prompt_toolkit/input/base.py'>,\n",
              " 'prompt_toolkit.input.defaults': <module 'prompt_toolkit.input.defaults' from '/usr/local/lib/python3.10/dist-packages/prompt_toolkit/input/defaults.py'>,\n",
              " 'prompt_toolkit.input': <module 'prompt_toolkit.input' from '/usr/local/lib/python3.10/dist-packages/prompt_toolkit/input/__init__.py'>,\n",
              " 'prompt_toolkit.input.typeahead': <module 'prompt_toolkit.input.typeahead' from '/usr/local/lib/python3.10/dist-packages/prompt_toolkit/input/typeahead.py'>,\n",
              " 'prompt_toolkit.key_binding.bindings': <module 'prompt_toolkit.key_binding.bindings' from '/usr/local/lib/python3.10/dist-packages/prompt_toolkit/key_binding/bindings/__init__.py'>,\n",
              " 'prompt_toolkit.key_binding.bindings.scroll': <module 'prompt_toolkit.key_binding.bindings.scroll' from '/usr/local/lib/python3.10/dist-packages/prompt_toolkit/key_binding/bindings/scroll.py'>,\n",
              " 'prompt_toolkit.key_binding.bindings.page_navigation': <module 'prompt_toolkit.key_binding.bindings.page_navigation' from '/usr/local/lib/python3.10/dist-packages/prompt_toolkit/key_binding/bindings/page_navigation.py'>,\n",
              " 'prompt_toolkit.lexers.base': <module 'prompt_toolkit.lexers.base' from '/usr/local/lib/python3.10/dist-packages/prompt_toolkit/lexers/base.py'>,\n",
              " 'prompt_toolkit.lexers.pygments': <module 'prompt_toolkit.lexers.pygments' from '/usr/local/lib/python3.10/dist-packages/prompt_toolkit/lexers/pygments.py'>,\n",
              " 'prompt_toolkit.lexers': <module 'prompt_toolkit.lexers' from '/usr/local/lib/python3.10/dist-packages/prompt_toolkit/lexers/__init__.py'>,\n",
              " 'prompt_toolkit.layout.utils': <module 'prompt_toolkit.layout.utils' from '/usr/local/lib/python3.10/dist-packages/prompt_toolkit/layout/utils.py'>,\n",
              " 'prompt_toolkit.layout.processors': <module 'prompt_toolkit.layout.processors' from '/usr/local/lib/python3.10/dist-packages/prompt_toolkit/layout/processors.py'>,\n",
              " 'prompt_toolkit.layout.controls': <module 'prompt_toolkit.layout.controls' from '/usr/local/lib/python3.10/dist-packages/prompt_toolkit/layout/controls.py'>,\n",
              " 'prompt_toolkit.layout.dimension': <module 'prompt_toolkit.layout.dimension' from '/usr/local/lib/python3.10/dist-packages/prompt_toolkit/layout/dimension.py'>,\n",
              " 'prompt_toolkit.layout.margins': <module 'prompt_toolkit.layout.margins' from '/usr/local/lib/python3.10/dist-packages/prompt_toolkit/layout/margins.py'>,\n",
              " 'prompt_toolkit.layout.mouse_handlers': <module 'prompt_toolkit.layout.mouse_handlers' from '/usr/local/lib/python3.10/dist-packages/prompt_toolkit/layout/mouse_handlers.py'>,\n",
              " 'prompt_toolkit.layout.screen': <module 'prompt_toolkit.layout.screen' from '/usr/local/lib/python3.10/dist-packages/prompt_toolkit/layout/screen.py'>,\n",
              " 'prompt_toolkit.layout.containers': <module 'prompt_toolkit.layout.containers' from '/usr/local/lib/python3.10/dist-packages/prompt_toolkit/layout/containers.py'>,\n",
              " 'prompt_toolkit.layout.layout': <module 'prompt_toolkit.layout.layout' from '/usr/local/lib/python3.10/dist-packages/prompt_toolkit/layout/layout.py'>,\n",
              " 'prompt_toolkit.layout.menus': <module 'prompt_toolkit.layout.menus' from '/usr/local/lib/python3.10/dist-packages/prompt_toolkit/layout/menus.py'>,\n",
              " 'prompt_toolkit.layout.scrollable_pane': <module 'prompt_toolkit.layout.scrollable_pane' from '/usr/local/lib/python3.10/dist-packages/prompt_toolkit/layout/scrollable_pane.py'>,\n",
              " 'prompt_toolkit.layout': <module 'prompt_toolkit.layout' from '/usr/local/lib/python3.10/dist-packages/prompt_toolkit/layout/__init__.py'>,\n",
              " 'prompt_toolkit.key_binding.bindings.completion': <module 'prompt_toolkit.key_binding.bindings.completion' from '/usr/local/lib/python3.10/dist-packages/prompt_toolkit/key_binding/bindings/completion.py'>,\n",
              " 'prompt_toolkit.key_binding.bindings.named_commands': <module 'prompt_toolkit.key_binding.bindings.named_commands' from '/usr/local/lib/python3.10/dist-packages/prompt_toolkit/key_binding/bindings/named_commands.py'>,\n",
              " 'prompt_toolkit.key_binding.bindings.basic': <module 'prompt_toolkit.key_binding.bindings.basic' from '/usr/local/lib/python3.10/dist-packages/prompt_toolkit/key_binding/bindings/basic.py'>,\n",
              " 'prompt_toolkit.key_binding.bindings.cpr': <module 'prompt_toolkit.key_binding.bindings.cpr' from '/usr/local/lib/python3.10/dist-packages/prompt_toolkit/key_binding/bindings/cpr.py'>,\n",
              " 'prompt_toolkit.key_binding.bindings.emacs': <module 'prompt_toolkit.key_binding.bindings.emacs' from '/usr/local/lib/python3.10/dist-packages/prompt_toolkit/key_binding/bindings/emacs.py'>,\n",
              " 'prompt_toolkit.key_binding.bindings.mouse': <module 'prompt_toolkit.key_binding.bindings.mouse' from '/usr/local/lib/python3.10/dist-packages/prompt_toolkit/key_binding/bindings/mouse.py'>,\n",
              " 'prompt_toolkit.input.ansi_escape_sequences': <module 'prompt_toolkit.input.ansi_escape_sequences' from '/usr/local/lib/python3.10/dist-packages/prompt_toolkit/input/ansi_escape_sequences.py'>,\n",
              " 'prompt_toolkit.input.vt100_parser': <module 'prompt_toolkit.input.vt100_parser' from '/usr/local/lib/python3.10/dist-packages/prompt_toolkit/input/vt100_parser.py'>,\n",
              " 'prompt_toolkit.key_binding.digraphs': <module 'prompt_toolkit.key_binding.digraphs' from '/usr/local/lib/python3.10/dist-packages/prompt_toolkit/key_binding/digraphs.py'>,\n",
              " 'prompt_toolkit.key_binding.bindings.vi': <module 'prompt_toolkit.key_binding.bindings.vi' from '/usr/local/lib/python3.10/dist-packages/prompt_toolkit/key_binding/bindings/vi.py'>,\n",
              " 'prompt_toolkit.key_binding.defaults': <module 'prompt_toolkit.key_binding.defaults' from '/usr/local/lib/python3.10/dist-packages/prompt_toolkit/key_binding/defaults.py'>,\n",
              " 'prompt_toolkit.key_binding.emacs_state': <module 'prompt_toolkit.key_binding.emacs_state' from '/usr/local/lib/python3.10/dist-packages/prompt_toolkit/key_binding/emacs_state.py'>,\n",
              " 'prompt_toolkit.layout.dummy': <module 'prompt_toolkit.layout.dummy' from '/usr/local/lib/python3.10/dist-packages/prompt_toolkit/layout/dummy.py'>,\n",
              " 'prompt_toolkit.renderer': <module 'prompt_toolkit.renderer' from '/usr/local/lib/python3.10/dist-packages/prompt_toolkit/renderer.py'>,\n",
              " 'prompt_toolkit.application.application': <module 'prompt_toolkit.application.application' from '/usr/local/lib/python3.10/dist-packages/prompt_toolkit/application/application.py'>,\n",
              " 'prompt_toolkit.application.dummy': <module 'prompt_toolkit.application.dummy' from '/usr/local/lib/python3.10/dist-packages/prompt_toolkit/application/dummy.py'>,\n",
              " 'prompt_toolkit.application': <module 'prompt_toolkit.application' from '/usr/local/lib/python3.10/dist-packages/prompt_toolkit/application/__init__.py'>,\n",
              " 'prompt_toolkit.key_binding.bindings.focus': <module 'prompt_toolkit.key_binding.bindings.focus' from '/usr/local/lib/python3.10/dist-packages/prompt_toolkit/key_binding/bindings/focus.py'>,\n",
              " 'prompt_toolkit.widgets.toolbars': <module 'prompt_toolkit.widgets.toolbars' from '/usr/local/lib/python3.10/dist-packages/prompt_toolkit/widgets/toolbars.py'>,\n",
              " 'prompt_toolkit.widgets.base': <module 'prompt_toolkit.widgets.base' from '/usr/local/lib/python3.10/dist-packages/prompt_toolkit/widgets/base.py'>,\n",
              " 'prompt_toolkit.widgets.dialogs': <module 'prompt_toolkit.widgets.dialogs' from '/usr/local/lib/python3.10/dist-packages/prompt_toolkit/widgets/dialogs.py'>,\n",
              " 'prompt_toolkit.widgets.menus': <module 'prompt_toolkit.widgets.menus' from '/usr/local/lib/python3.10/dist-packages/prompt_toolkit/widgets/menus.py'>,\n",
              " 'prompt_toolkit.widgets': <module 'prompt_toolkit.widgets' from '/usr/local/lib/python3.10/dist-packages/prompt_toolkit/widgets/__init__.py'>,\n",
              " 'prompt_toolkit.shortcuts.dialogs': <module 'prompt_toolkit.shortcuts.dialogs' from '/usr/local/lib/python3.10/dist-packages/prompt_toolkit/shortcuts/dialogs.py'>,\n",
              " 'prompt_toolkit.shortcuts.progress_bar.formatters': <module 'prompt_toolkit.shortcuts.progress_bar.formatters' from '/usr/local/lib/python3.10/dist-packages/prompt_toolkit/shortcuts/progress_bar/formatters.py'>,\n",
              " 'prompt_toolkit.shortcuts.progress_bar.base': <module 'prompt_toolkit.shortcuts.progress_bar.base' from '/usr/local/lib/python3.10/dist-packages/prompt_toolkit/shortcuts/progress_bar/base.py'>,\n",
              " 'prompt_toolkit.shortcuts.progress_bar': <module 'prompt_toolkit.shortcuts.progress_bar' from '/usr/local/lib/python3.10/dist-packages/prompt_toolkit/shortcuts/progress_bar/__init__.py'>,\n",
              " 'prompt_toolkit.key_binding.bindings.auto_suggest': <module 'prompt_toolkit.key_binding.bindings.auto_suggest' from '/usr/local/lib/python3.10/dist-packages/prompt_toolkit/key_binding/bindings/auto_suggest.py'>,\n",
              " 'prompt_toolkit.key_binding.bindings.open_in_editor': <module 'prompt_toolkit.key_binding.bindings.open_in_editor' from '/usr/local/lib/python3.10/dist-packages/prompt_toolkit/key_binding/bindings/open_in_editor.py'>,\n",
              " 'prompt_toolkit.shortcuts.prompt': <module 'prompt_toolkit.shortcuts.prompt' from '/usr/local/lib/python3.10/dist-packages/prompt_toolkit/shortcuts/prompt.py'>,\n",
              " 'prompt_toolkit.shortcuts.utils': <module 'prompt_toolkit.shortcuts.utils' from '/usr/local/lib/python3.10/dist-packages/prompt_toolkit/shortcuts/utils.py'>,\n",
              " 'prompt_toolkit.shortcuts': <module 'prompt_toolkit.shortcuts' from '/usr/local/lib/python3.10/dist-packages/prompt_toolkit/shortcuts/__init__.py'>,\n",
              " 'prompt_toolkit': <module 'prompt_toolkit' from '/usr/local/lib/python3.10/dist-packages/prompt_toolkit/__init__.py'>,\n",
              " 'prompt_toolkit.patch_stdout': <module 'prompt_toolkit.patch_stdout' from '/usr/local/lib/python3.10/dist-packages/prompt_toolkit/patch_stdout.py'>,\n",
              " 'pygments.style': <module 'pygments.style' from '/usr/local/lib/python3.10/dist-packages/pygments/style.py'>,\n",
              " 'unicodedata': <module 'unicodedata' (built-in)>,\n",
              " 'IPython.core.latex_symbols': <module 'IPython.core.latex_symbols' from '/usr/local/lib/python3.10/dist-packages/IPython/core/latex_symbols.py'>,\n",
              " 'IPython.utils.generics': <module 'IPython.utils.generics' from '/usr/local/lib/python3.10/dist-packages/IPython/utils/generics.py'>,\n",
              " 'IPython.core.completer': <module 'IPython.core.completer' from '/usr/local/lib/python3.10/dist-packages/IPython/core/completer.py'>,\n",
              " 'IPython.terminal.ptutils': <module 'IPython.terminal.ptutils' from '/usr/local/lib/python3.10/dist-packages/IPython/terminal/ptutils.py'>,\n",
              " 'IPython.terminal.shortcuts': <module 'IPython.terminal.shortcuts' from '/usr/local/lib/python3.10/dist-packages/IPython/terminal/shortcuts.py'>,\n",
              " 'concurrent.futures.thread': <module 'concurrent.futures.thread' from '/usr/lib/python3.10/concurrent/futures/thread.py'>,\n",
              " 'IPython.terminal.debugger': <module 'IPython.terminal.debugger' from '/usr/local/lib/python3.10/dist-packages/IPython/terminal/debugger.py'>,\n",
              " 'IPython.lib.clipboard': <module 'IPython.lib.clipboard' from '/usr/local/lib/python3.10/dist-packages/IPython/lib/clipboard.py'>,\n",
              " 'IPython.terminal.magics': <module 'IPython.terminal.magics' from '/usr/local/lib/python3.10/dist-packages/IPython/terminal/magics.py'>,\n",
              " 'IPython.terminal.pt_inputhooks': <module 'IPython.terminal.pt_inputhooks' from '/usr/local/lib/python3.10/dist-packages/IPython/terminal/pt_inputhooks/__init__.py'>,\n",
              " 'IPython.terminal.prompts': <module 'IPython.terminal.prompts' from '/usr/local/lib/python3.10/dist-packages/IPython/terminal/prompts.py'>,\n",
              " 'IPython.terminal.interactiveshell': <module 'IPython.terminal.interactiveshell' from '/usr/local/lib/python3.10/dist-packages/IPython/terminal/interactiveshell.py'>,\n",
              " 'IPython.core.magics.auto': <module 'IPython.core.magics.auto' from '/usr/local/lib/python3.10/dist-packages/IPython/core/magics/auto.py'>,\n",
              " 'IPython.core.magics.basic': <module 'IPython.core.magics.basic' from '/usr/local/lib/python3.10/dist-packages/IPython/core/magics/basic.py'>,\n",
              " 'email': <module 'email' from '/usr/lib/python3.10/email/__init__.py'>,\n",
              " 'http': <module 'http' from '/usr/lib/python3.10/http/__init__.py'>,\n",
              " 'email.errors': <module 'email.errors' from '/usr/lib/python3.10/email/errors.py'>,\n",
              " 'email.quoprimime': <module 'email.quoprimime' from '/usr/lib/python3.10/email/quoprimime.py'>,\n",
              " 'email.base64mime': <module 'email.base64mime' from '/usr/lib/python3.10/email/base64mime.py'>,\n",
              " 'quopri': <module 'quopri' from '/usr/lib/python3.10/quopri.py'>,\n",
              " 'email.encoders': <module 'email.encoders' from '/usr/lib/python3.10/email/encoders.py'>,\n",
              " 'email.charset': <module 'email.charset' from '/usr/lib/python3.10/email/charset.py'>,\n",
              " 'email.header': <module 'email.header' from '/usr/lib/python3.10/email/header.py'>,\n",
              " 'calendar': <module 'calendar' from '/usr/lib/python3.10/calendar.py'>,\n",
              " 'email._parseaddr': <module 'email._parseaddr' from '/usr/lib/python3.10/email/_parseaddr.py'>,\n",
              " 'email.utils': <module 'email.utils' from '/usr/lib/python3.10/email/utils.py'>,\n",
              " 'email._policybase': <module 'email._policybase' from '/usr/lib/python3.10/email/_policybase.py'>,\n",
              " 'email.feedparser': <module 'email.feedparser' from '/usr/lib/python3.10/email/feedparser.py'>,\n",
              " 'email.parser': <module 'email.parser' from '/usr/lib/python3.10/email/parser.py'>,\n",
              " 'uu': <module 'uu' from '/usr/lib/python3.10/uu.py'>,\n",
              " 'email._encoded_words': <module 'email._encoded_words' from '/usr/lib/python3.10/email/_encoded_words.py'>,\n",
              " 'email.iterators': <module 'email.iterators' from '/usr/lib/python3.10/email/iterators.py'>,\n",
              " 'email.message': <module 'email.message' from '/usr/lib/python3.10/email/message.py'>,\n",
              " 'http.client': <module 'urllib3.packages.six.moves.http_client' (<urllib3.packages.six._SixMetaPathImporter object at 0x7fe5cfbeb1c0>)>,\n",
              " 'urllib.response': <module 'urllib.response' from '/usr/lib/python3.10/urllib/response.py'>,\n",
              " 'urllib.error': <module 'urllib.error' from '/usr/lib/python3.10/urllib/error.py'>,\n",
              " 'urllib.request': <module 'urllib.request' from '/usr/lib/python3.10/urllib/request.py'>,\n",
              " 'IPython.core.magics.code': <module 'IPython.core.magics.code' from '/usr/local/lib/python3.10/dist-packages/IPython/core/magics/code.py'>,\n",
              " 'IPython.core.magics.config': <module 'IPython.core.magics.config' from '/usr/local/lib/python3.10/dist-packages/IPython/core/magics/config.py'>,\n",
              " 'IPython.core.magics.display': <module 'IPython.core.magics.display' from '/usr/local/lib/python3.10/dist-packages/IPython/core/magics/display.py'>,\n",
              " 'gc': <module 'gc' (built-in)>,\n",
              " 'timeit': <module 'timeit' from '/usr/lib/python3.10/timeit.py'>,\n",
              " '_lsprof': <module '_lsprof' from '/usr/lib/python3.10/lib-dynload/_lsprof.cpython-310-x86_64-linux-gnu.so'>,\n",
              " 'profile': <module 'profile' from '/usr/lib/python3.10/profile.py'>,\n",
              " 'cProfile': <module 'cProfile' from '/usr/lib/python3.10/cProfile.py'>,\n",
              " 'pstats': <module 'pstats' from '/usr/lib/python3.10/pstats.py'>,\n",
              " 'IPython.utils.module_paths': <module 'IPython.utils.module_paths' from '/usr/local/lib/python3.10/dist-packages/IPython/utils/module_paths.py'>,\n",
              " 'IPython.utils.timing': <module 'IPython.utils.timing' from '/usr/local/lib/python3.10/dist-packages/IPython/utils/timing.py'>,\n",
              " 'IPython.core.magics.execution': <module 'IPython.core.magics.execution' from '/usr/local/lib/python3.10/dist-packages/IPython/core/magics/execution.py'>,\n",
              " 'IPython.core.magics.extension': <module 'IPython.core.magics.extension' from '/usr/local/lib/python3.10/dist-packages/IPython/core/magics/extension.py'>,\n",
              " 'IPython.core.magics.history': <module 'IPython.core.magics.history' from '/usr/local/lib/python3.10/dist-packages/IPython/core/magics/history.py'>,\n",
              " 'IPython.core.magics.logging': <module 'IPython.core.magics.logging' from '/usr/local/lib/python3.10/dist-packages/IPython/core/magics/logging.py'>,\n",
              " 'IPython.core.magics.namespace': <module 'IPython.core.magics.namespace' from '/usr/local/lib/python3.10/dist-packages/IPython/core/magics/namespace.py'>,\n",
              " 'IPython.core.magics.osm': <module 'IPython.core.magics.osm' from '/usr/local/lib/python3.10/dist-packages/IPython/core/magics/osm.py'>,\n",
              " 'IPython.core.magics.packaging': <module 'IPython.core.magics.packaging' from '/usr/local/lib/python3.10/dist-packages/IPython/core/magics/packaging.py'>,\n",
              " 'IPython.core.pylabtools': <module 'IPython.core.pylabtools' from '/usr/local/lib/python3.10/dist-packages/IPython/core/pylabtools.py'>,\n",
              " 'IPython.core.magics.pylab': <module 'IPython.core.magics.pylab' from '/usr/local/lib/python3.10/dist-packages/IPython/core/magics/pylab.py'>,\n",
              " 'IPython.lib.backgroundjobs': <module 'IPython.lib.backgroundjobs' from '/usr/local/lib/python3.10/dist-packages/IPython/lib/backgroundjobs.py'>,\n",
              " 'IPython.core.magics.script': <module 'IPython.core.magics.script' from '/usr/local/lib/python3.10/dist-packages/IPython/core/magics/script.py'>,\n",
              " 'IPython.core.magics': <module 'IPython.core.magics' from '/usr/local/lib/python3.10/dist-packages/IPython/core/magics/__init__.py'>,\n",
              " 'IPython.core.shellapp': <module 'IPython.core.shellapp' from '/usr/local/lib/python3.10/dist-packages/IPython/core/shellapp.py'>,\n",
              " 'IPython.extensions': <module 'IPython.extensions' from '/usr/local/lib/python3.10/dist-packages/IPython/extensions/__init__.py'>,\n",
              " 'IPython.extensions.storemagic': <module 'IPython.extensions.storemagic' from '/usr/local/lib/python3.10/dist-packages/IPython/extensions/storemagic.py'>,\n",
              " 'IPython.terminal.ipapp': <module 'IPython.terminal.ipapp' from '/usr/local/lib/python3.10/dist-packages/IPython/terminal/ipapp.py'>,\n",
              " 'IPython.terminal.embed': <module 'IPython.terminal.embed' from '/usr/local/lib/python3.10/dist-packages/IPython/terminal/embed.py'>,\n",
              " 'IPython.utils.frame': <module 'IPython.utils.frame' from '/usr/local/lib/python3.10/dist-packages/IPython/utils/frame.py'>,\n",
              " 'IPython': <module 'IPython' from '/usr/local/lib/python3.10/dist-packages/IPython/__init__.py'>,\n",
              " 'ipython_genutils._version': <module 'ipython_genutils._version' from '/usr/local/lib/python3.10/dist-packages/ipython_genutils/_version.py'>,\n",
              " 'ipython_genutils': <module 'ipython_genutils' from '/usr/local/lib/python3.10/dist-packages/ipython_genutils/__init__.py'>,\n",
              " 'ipython_genutils.encoding': <module 'ipython_genutils.encoding' from '/usr/local/lib/python3.10/dist-packages/ipython_genutils/encoding.py'>,\n",
              " 'ipython_genutils.py3compat': <module 'ipython_genutils.py3compat' from '/usr/local/lib/python3.10/dist-packages/ipython_genutils/py3compat.py'>,\n",
              " 'ipython_genutils.path': <module 'ipython_genutils.path' from '/usr/local/lib/python3.10/dist-packages/ipython_genutils/path.py'>,\n",
              " 'jupyter_client._version': <module 'jupyter_client._version' from '/usr/local/lib/python3.10/dist-packages/jupyter_client/_version.py'>,\n",
              " '_ctypes': <module '_ctypes' from '/usr/lib/python3.10/lib-dynload/_ctypes.cpython-310-x86_64-linux-gnu.so'>,\n",
              " 'ctypes._endian': <module 'ctypes._endian' from '/usr/lib/python3.10/ctypes/_endian.py'>,\n",
              " 'ctypes': <module 'ctypes' from '/usr/lib/python3.10/ctypes/__init__.py'>,\n",
              " 'zmq.backend.select': <module 'zmq.backend.select' from '/usr/local/lib/python3.10/dist-packages/zmq/backend/select.py'>,\n",
              " '_cython_0_29_32': <module '_cython_0_29_32'>,\n",
              " 'cython_runtime': <module 'cython_runtime'>,\n",
              " 'zmq.error': <module 'zmq.error' from '/usr/local/lib/python3.10/dist-packages/zmq/error.py'>,\n",
              " 'zmq.backend.cython.context': <module 'zmq.backend.cython.context' from '/usr/local/lib/python3.10/dist-packages/zmq/backend/cython/context.cpython-310-x86_64-linux-gnu.so'>,\n",
              " 'zmq.backend.cython.message': <module 'zmq.backend.cython.message' from '/usr/local/lib/python3.10/dist-packages/zmq/backend/cython/message.cpython-310-x86_64-linux-gnu.so'>,\n",
              " 'zmq.constants': <module 'zmq.constants' from '/usr/local/lib/python3.10/dist-packages/zmq/constants.py'>,\n",
              " 'zmq.backend.cython.socket': <module 'zmq.backend.cython.socket' from '/usr/local/lib/python3.10/dist-packages/zmq/backend/cython/socket.cpython-310-x86_64-linux-gnu.so'>,\n",
              " 'zmq.backend.cython._device': <module 'zmq.backend.cython._device' from '/usr/local/lib/python3.10/dist-packages/zmq/backend/cython/_device.cpython-310-x86_64-linux-gnu.so'>,\n",
              " 'zmq.backend.cython._poll': <module 'zmq.backend.cython._poll' from '/usr/local/lib/python3.10/dist-packages/zmq/backend/cython/_poll.cpython-310-x86_64-linux-gnu.so'>,\n",
              " 'zmq.backend.cython._proxy_steerable': <module 'zmq.backend.cython._proxy_steerable' from '/usr/local/lib/python3.10/dist-packages/zmq/backend/cython/_proxy_steerable.cpython-310-x86_64-linux-gnu.so'>,\n",
              " 'zmq.backend.cython._version': <module 'zmq.backend.cython._version' from '/usr/local/lib/python3.10/dist-packages/zmq/backend/cython/_version.cpython-310-x86_64-linux-gnu.so'>,\n",
              " 'zmq.backend.cython.error': <module 'zmq.backend.cython.error' from '/usr/local/lib/python3.10/dist-packages/zmq/backend/cython/error.cpython-310-x86_64-linux-gnu.so'>,\n",
              " 'zmq.backend.cython.utils': <module 'zmq.backend.cython.utils' from '/usr/local/lib/python3.10/dist-packages/zmq/backend/cython/utils.cpython-310-x86_64-linux-gnu.so'>,\n",
              " 'zmq.backend.cython': <module 'zmq.backend.cython' from '/usr/local/lib/python3.10/dist-packages/zmq/backend/cython/__init__.py'>,\n",
              " 'zmq.backend': <module 'zmq.backend' from '/usr/local/lib/python3.10/dist-packages/zmq/backend/__init__.py'>,\n",
              " 'zmq.sugar.attrsettr': <module 'zmq.sugar.attrsettr' from '/usr/local/lib/python3.10/dist-packages/zmq/sugar/attrsettr.py'>,\n",
              " 'zmq._typing': <module 'zmq._typing' from '/usr/local/lib/python3.10/dist-packages/zmq/_typing.py'>,\n",
              " 'zmq.utils': <module 'zmq.utils' from '/usr/local/lib/python3.10/dist-packages/zmq/utils/__init__.py'>,\n",
              " 'zmq.utils.jsonapi': <module 'zmq.utils.jsonapi' from '/usr/local/lib/python3.10/dist-packages/zmq/utils/jsonapi.py'>,\n",
              " 'zmq.sugar.poll': <module 'zmq.sugar.poll' from '/usr/local/lib/python3.10/dist-packages/zmq/sugar/poll.py'>,\n",
              " 'zmq.sugar.socket': <module 'zmq.sugar.socket' from '/usr/local/lib/python3.10/dist-packages/zmq/sugar/socket.py'>,\n",
              " 'zmq.sugar.context': <module 'zmq.sugar.context' from '/usr/local/lib/python3.10/dist-packages/zmq/sugar/context.py'>,\n",
              " 'zmq.sugar.frame': <module 'zmq.sugar.frame' from '/usr/local/lib/python3.10/dist-packages/zmq/sugar/frame.py'>,\n",
              " 'zmq.sugar.tracker': <module 'zmq.sugar.tracker' from '/usr/local/lib/python3.10/dist-packages/zmq/sugar/tracker.py'>,\n",
              " 'zmq.sugar.version': <module 'zmq.sugar.version' from '/usr/local/lib/python3.10/dist-packages/zmq/sugar/version.py'>,\n",
              " 'zmq.sugar.stopwatch': <module 'zmq.sugar.stopwatch' from '/usr/local/lib/python3.10/dist-packages/zmq/sugar/stopwatch.py'>,\n",
              " 'zmq.sugar': <module 'zmq.sugar' from '/usr/local/lib/python3.10/dist-packages/zmq/sugar/__init__.py'>,\n",
              " 'zmq': <module 'zmq' from '/usr/local/lib/python3.10/dist-packages/zmq/__init__.py'>,\n",
              " 'jupyter_client.localinterfaces': <module 'jupyter_client.localinterfaces' from '/usr/local/lib/python3.10/dist-packages/jupyter_client/localinterfaces.py'>,\n",
              " 'jupyter_core.version': <module 'jupyter_core.version' from '/usr/local/lib/python3.10/dist-packages/jupyter_core/version.py'>,\n",
              " 'jupyter_core': <module 'jupyter_core' from '/usr/local/lib/python3.10/dist-packages/jupyter_core/__init__.py'>,\n",
              " 'platformdirs.api': <module 'platformdirs.api' from '/usr/local/lib/python3.10/dist-packages/platformdirs/api.py'>,\n",
              " 'platformdirs.version': <module 'platformdirs.version' from '/usr/local/lib/python3.10/dist-packages/platformdirs/version.py'>,\n",
              " 'configparser': <module 'configparser' from '/usr/lib/python3.10/configparser.py'>,\n",
              " 'platformdirs.unix': <module 'platformdirs.unix' from '/usr/local/lib/python3.10/dist-packages/platformdirs/unix.py'>,\n",
              " 'platformdirs': <module 'platformdirs' from '/usr/local/lib/python3.10/dist-packages/platformdirs/__init__.py'>,\n",
              " 'jupyter_core.utils': <module 'jupyter_core.utils' from '/usr/local/lib/python3.10/dist-packages/jupyter_core/utils/__init__.py'>,\n",
              " 'jupyter_core.paths': <module 'jupyter_core.paths' from '/usr/local/lib/python3.10/dist-packages/jupyter_core/paths.py'>,\n",
              " 'jupyter_client.utils': <module 'jupyter_client.utils' from '/usr/local/lib/python3.10/dist-packages/jupyter_client/utils.py'>,\n",
              " 'jupyter_client.connect': <module 'jupyter_client.connect' from '/usr/local/lib/python3.10/dist-packages/jupyter_client/connect.py'>,\n",
              " 'traitlets.log': <module 'traitlets.log' from '/usr/local/lib/python3.10/dist-packages/traitlets/log.py'>,\n",
              " 'jupyter_client.launcher': <module 'jupyter_client.launcher' from '/usr/local/lib/python3.10/dist-packages/jupyter_client/launcher.py'>,\n",
              " 'jupyter_client.channelsabc': <module 'jupyter_client.channelsabc' from '/usr/local/lib/python3.10/dist-packages/jupyter_client/channelsabc.py'>,\n",
              " 'jupyter_client.channels': <module 'jupyter_client.channels' from '/usr/local/lib/python3.10/dist-packages/jupyter_client/channels.py'>,\n",
              " 'jupyter_client.clientabc': <module 'jupyter_client.clientabc' from '/usr/local/lib/python3.10/dist-packages/jupyter_client/clientabc.py'>,\n",
              " 'jupyter_client.client': <module 'jupyter_client.client' from '/usr/local/lib/python3.10/dist-packages/jupyter_client/client.py'>,\n",
              " 'jupyter_client.kernelspec': <module 'jupyter_client.kernelspec' from '/usr/local/lib/python3.10/dist-packages/jupyter_client/kernelspec.py'>,\n",
              " 'jupyter_client.managerabc': <module 'jupyter_client.managerabc' from '/usr/local/lib/python3.10/dist-packages/jupyter_client/managerabc.py'>,\n",
              " 'jupyter_client.manager': <module 'jupyter_client.manager' from '/usr/local/lib/python3.10/dist-packages/jupyter_client/manager.py'>,\n",
              " 'jupyter_client.blocking.channels': <module 'jupyter_client.blocking.channels' from '/usr/local/lib/python3.10/dist-packages/jupyter_client/blocking/channels.py'>,\n",
              " 'jupyter_client.blocking.client': <module 'jupyter_client.blocking.client' from '/usr/local/lib/python3.10/dist-packages/jupyter_client/blocking/client.py'>,\n",
              " 'jupyter_client.blocking': <module 'jupyter_client.blocking' from '/usr/local/lib/python3.10/dist-packages/jupyter_client/blocking/__init__.py'>,\n",
              " 'zmq._future': <module 'zmq._future' from '/usr/local/lib/python3.10/dist-packages/zmq/_future.py'>,\n",
              " 'zmq.asyncio': <module 'zmq.asyncio' from '/usr/local/lib/python3.10/dist-packages/zmq/asyncio.py'>,\n",
              " 'jupyter_client.asynchronous.channels': <module 'jupyter_client.asynchronous.channels' from '/usr/local/lib/python3.10/dist-packages/jupyter_client/asynchronous/channels.py'>,\n",
              " 'jupyter_client.asynchronous.client': <module 'jupyter_client.asynchronous.client' from '/usr/local/lib/python3.10/dist-packages/jupyter_client/asynchronous/client.py'>,\n",
              " 'jupyter_client.asynchronous': <module 'jupyter_client.asynchronous' from '/usr/local/lib/python3.10/dist-packages/jupyter_client/asynchronous/__init__.py'>,\n",
              " '_uuid': <module '_uuid' from '/usr/lib/python3.10/lib-dynload/_uuid.cpython-310-x86_64-linux-gnu.so'>,\n",
              " 'uuid': <module 'uuid' from '/usr/lib/python3.10/uuid.py'>,\n",
              " 'jupyter_client.multikernelmanager': <module 'jupyter_client.multikernelmanager' from '/usr/local/lib/python3.10/dist-packages/jupyter_client/multikernelmanager.py'>,\n",
              " 'jupyter_client': <module 'jupyter_client' from '/usr/local/lib/python3.10/dist-packages/jupyter_client/__init__.py'>,\n",
              " 'ipykernel.connect': <module 'ipykernel.connect' from '/usr/local/lib/python3.10/dist-packages/ipykernel/connect.py'>,\n",
              " 'ipykernel': <module 'ipykernel' from '/usr/local/lib/python3.10/dist-packages/ipykernel/__init__.py'>,\n",
              " 'tornado': <module 'tornado' from '/usr/local/lib/python3.10/dist-packages/tornado/__init__.py'>,\n",
              " 'numbers': <module 'numbers' from '/usr/lib/python3.10/numbers.py'>,\n",
              " 'tornado.speedups': <module 'tornado.speedups' from '/usr/local/lib/python3.10/dist-packages/tornado/speedups.abi3.so'>,\n",
              " 'tornado.util': <module 'tornado.util' from '/usr/local/lib/python3.10/dist-packages/tornado/util.py'>,\n",
              " 'tornado.escape': <module 'tornado.escape' from '/usr/local/lib/python3.10/dist-packages/tornado/escape.py'>,\n",
              " '_curses': <module '_curses' from '/usr/lib/python3.10/lib-dynload/_curses.cpython-310-x86_64-linux-gnu.so'>,\n",
              " 'curses': <module 'curses' from '/usr/lib/python3.10/curses/__init__.py'>,\n",
              " 'tornado.log': <module 'tornado.log' from '/usr/local/lib/python3.10/dist-packages/tornado/log.py'>,\n",
              " 'tornado.concurrent': <module 'tornado.concurrent' from '/usr/local/lib/python3.10/dist-packages/tornado/concurrent.py'>,\n",
              " 'tornado.ioloop': <module 'tornado.ioloop' from '/usr/local/lib/python3.10/dist-packages/tornado/ioloop.py'>,\n",
              " 'tornado.platform': <module 'tornado.platform' from '/usr/local/lib/python3.10/dist-packages/tornado/platform/__init__.py'>,\n",
              " 'tornado.gen': <module 'tornado.gen' from '/usr/local/lib/python3.10/dist-packages/tornado/gen.py'>,\n",
              " 'tornado.platform.asyncio': <module 'tornado.platform.asyncio' from '/usr/local/lib/python3.10/dist-packages/tornado/platform/asyncio.py'>,\n",
              " 'zmq.eventloop.ioloop': <module 'zmq.eventloop.ioloop' from '/usr/local/lib/python3.10/dist-packages/zmq/eventloop/ioloop.py'>,\n",
              " 'zmq.eventloop': <module 'zmq.eventloop' from '/usr/local/lib/python3.10/dist-packages/zmq/eventloop/__init__.py'>,\n",
              " 'zmq.eventloop.zmqstream': <module 'zmq.eventloop.zmqstream' from '/usr/local/lib/python3.10/dist-packages/zmq/eventloop/zmqstream.py'>,\n",
              " 'ipython_genutils.importstring': <module 'ipython_genutils.importstring' from '/usr/local/lib/python3.10/dist-packages/ipython_genutils/importstring.py'>,\n",
              " 'imp': <module 'imp' from '/usr/lib/python3.10/imp.py'>,\n",
              " 'hmac': <module 'hmac' from '/usr/lib/python3.10/hmac.py'>,\n",
              " 'dateutil._version': <module 'dateutil._version' from '/usr/local/lib/python3.10/dist-packages/dateutil/_version.py'>,\n",
              " 'dateutil': <module 'dateutil' from '/usr/local/lib/python3.10/dist-packages/dateutil/__init__.py'>,\n",
              " 'six': <module 'six' from '/usr/local/lib/python3.10/dist-packages/six.py'>,\n",
              " '_decimal': <module '_decimal' from '/usr/lib/python3.10/lib-dynload/_decimal.cpython-310-x86_64-linux-gnu.so'>,\n",
              " 'decimal': <module 'decimal' from '/usr/lib/python3.10/decimal.py'>,\n",
              " 'dateutil._common': <module 'dateutil._common' from '/usr/local/lib/python3.10/dist-packages/dateutil/_common.py'>,\n",
              " 'dateutil.relativedelta': <module 'dateutil.relativedelta' from '/usr/local/lib/python3.10/dist-packages/dateutil/relativedelta.py'>,\n",
              " 'six.moves': <module 'six.moves' (<six._SixMetaPathImporter object at 0x7fe60bd6a3e0>)>,\n",
              " 'dateutil.tz._common': <module 'dateutil.tz._common' from '/usr/local/lib/python3.10/dist-packages/dateutil/tz/_common.py'>,\n",
              " 'dateutil.tz._factories': <module 'dateutil.tz._factories' from '/usr/local/lib/python3.10/dist-packages/dateutil/tz/_factories.py'>,\n",
              " 'dateutil.tz.tz': <module 'dateutil.tz.tz' from '/usr/local/lib/python3.10/dist-packages/dateutil/tz/tz.py'>,\n",
              " 'dateutil.tz': <module 'dateutil.tz' from '/usr/local/lib/python3.10/dist-packages/dateutil/tz/__init__.py'>,\n",
              " 'dateutil.parser._parser': <module 'dateutil.parser._parser' from '/usr/local/lib/python3.10/dist-packages/dateutil/parser/_parser.py'>,\n",
              " 'dateutil.parser.isoparser': <module 'dateutil.parser.isoparser' from '/usr/local/lib/python3.10/dist-packages/dateutil/parser/isoparser.py'>,\n",
              " 'dateutil.parser': <module 'dateutil.parser' from '/usr/local/lib/python3.10/dist-packages/dateutil/parser/__init__.py'>,\n",
              " '_strptime': <module '_strptime' from '/usr/lib/python3.10/_strptime.py'>,\n",
              " 'jupyter_client.jsonutil': <module 'jupyter_client.jsonutil' from '/usr/local/lib/python3.10/dist-packages/jupyter_client/jsonutil.py'>,\n",
              " 'jupyter_client.adapter': <module 'jupyter_client.adapter' from '/usr/local/lib/python3.10/dist-packages/jupyter_client/adapter.py'>,\n",
              " 'jupyter_client.session': <module 'jupyter_client.session' from '/usr/local/lib/python3.10/dist-packages/jupyter_client/session.py'>,\n",
              " 'ipykernel.iostream': <module 'ipykernel.iostream' from '/usr/local/lib/python3.10/dist-packages/ipykernel/iostream.py'>,\n",
              " 'ipykernel.heartbeat': <module 'ipykernel.heartbeat' from '/usr/local/lib/python3.10/dist-packages/ipykernel/heartbeat.py'>,\n",
              " 'IPython.utils.tokenutil': <module 'IPython.utils.tokenutil' from '/usr/local/lib/python3.10/dist-packages/IPython/utils/tokenutil.py'>,\n",
              " 'tornado.locks': <module 'tornado.locks' from '/usr/local/lib/python3.10/dist-packages/tornado/locks.py'>,\n",
              " 'tornado.queues': <module 'tornado.queues' from '/usr/local/lib/python3.10/dist-packages/tornado/queues.py'>,\n",
              " 'ipykernel.jsonutil': <module 'ipykernel.jsonutil' from '/usr/local/lib/python3.10/dist-packages/ipykernel/jsonutil.py'>,\n",
              " 'ipykernel.kernelbase': <module 'ipykernel.kernelbase' from '/usr/local/lib/python3.10/dist-packages/ipykernel/kernelbase.py'>,\n",
              " 'ipykernel.comm.comm': <module 'ipykernel.comm.comm' from '/usr/local/lib/python3.10/dist-packages/ipykernel/comm/comm.py'>,\n",
              " 'ipykernel.comm.manager': <module 'ipykernel.comm.manager' from '/usr/local/lib/python3.10/dist-packages/ipykernel/comm/manager.py'>,\n",
              " 'ipykernel.comm': <module 'ipykernel.comm' from '/usr/local/lib/python3.10/dist-packages/ipykernel/comm/__init__.py'>,\n",
              " 'IPython.core.payloadpage': <module 'IPython.core.payloadpage' from '/usr/local/lib/python3.10/dist-packages/IPython/core/payloadpage.py'>,\n",
              " 'ipykernel.displayhook': <module 'ipykernel.displayhook' from '/usr/local/lib/python3.10/dist-packages/ipykernel/displayhook.py'>,\n",
              " 'ipykernel.codeutil': <module 'ipykernel.codeutil' from '/usr/local/lib/python3.10/dist-packages/ipykernel/codeutil.py'>,\n",
              " 'ipykernel.pickleutil': <module 'ipykernel.pickleutil' from '/usr/local/lib/python3.10/dist-packages/ipykernel/pickleutil.py'>,\n",
              " 'ipykernel.serialize': <module 'ipykernel.serialize' from '/usr/local/lib/python3.10/dist-packages/ipykernel/serialize.py'>,\n",
              " 'ipykernel.datapub': <module 'ipykernel.datapub' from '/usr/local/lib/python3.10/dist-packages/ipykernel/datapub.py'>,\n",
              " 'ipykernel.zmqshell': <module 'ipykernel.zmqshell' from '/usr/local/lib/python3.10/dist-packages/ipykernel/zmqshell.py'>,\n",
              " 'distutils': <module 'distutils' from '/usr/lib/python3.10/distutils/__init__.py'>,\n",
              " 'distutils.version': <module 'distutils.version' from '/usr/lib/python3.10/distutils/version.py'>,\n",
              " 'ipykernel.eventloops': <module 'ipykernel.eventloops' from '/usr/local/lib/python3.10/dist-packages/ipykernel/eventloops.py'>,\n",
              " 'ipykernel.ipkernel': <module 'ipykernel.ipkernel' from '/usr/local/lib/python3.10/dist-packages/ipykernel/ipkernel.py'>,\n",
              " 'ipykernel.parentpoller': <module 'ipykernel.parentpoller' from '/usr/local/lib/python3.10/dist-packages/ipykernel/parentpoller.py'>,\n",
              " 'ipykernel.kernelapp': <module 'ipykernel.kernelapp' from '/usr/local/lib/python3.10/dist-packages/ipykernel/kernelapp.py'>,\n",
              " 'google.colab._import_hooks._altair': <module 'google.colab._import_hooks._altair' from '/usr/local/lib/python3.10/dist-packages/google/colab/_import_hooks/_altair.py'>,\n",
              " 'google.colab._import_hooks._bokeh': <module 'google.colab._import_hooks._bokeh' from '/usr/local/lib/python3.10/dist-packages/google/colab/_import_hooks/_bokeh.py'>,\n",
              " 'google.colab._import_hooks._client_info': <module 'google.colab._import_hooks._client_info' from '/usr/local/lib/python3.10/dist-packages/google/colab/_import_hooks/_client_info.py'>,\n",
              " 'google.colab._import_hooks._cv2': <module 'google.colab._import_hooks._cv2' from '/usr/local/lib/python3.10/dist-packages/google/colab/_import_hooks/_cv2.py'>,\n",
              " 'google.colab._import_hooks._pydrive': <module 'google.colab._import_hooks._pydrive' from '/usr/local/lib/python3.10/dist-packages/google/colab/_import_hooks/_pydrive.py'>,\n",
              " 'google.colab._import_hooks': <module 'google.colab._import_hooks' from '/usr/local/lib/python3.10/dist-packages/google/colab/_import_hooks/__init__.py'>,\n",
              " 'google.colab._import_magics': <module 'google.colab._import_magics' from '/usr/local/lib/python3.10/dist-packages/google/colab/_import_magics.py'>,\n",
              " 'google.colab._installation_commands': <module 'google.colab._installation_commands' from '/usr/local/lib/python3.10/dist-packages/google/colab/_installation_commands.py'>,\n",
              " 'google.colab._interactive_table_helper': <module 'google.colab._interactive_table_helper' from '/usr/local/lib/python3.10/dist-packages/google/colab/_interactive_table_helper.py'>,\n",
              " 'IPython.utils.traitlets': <module 'IPython.utils.traitlets' from '/usr/local/lib/python3.10/dist-packages/IPython/utils/traitlets.py'>,\n",
              " 'google.colab.data_table': <module 'google.colab.data_table' from '/usr/local/lib/python3.10/dist-packages/google/colab/data_table.py'>,\n",
              " 'google.colab._ipython': <module 'google.colab._ipython' from '/usr/local/lib/python3.10/dist-packages/google/colab/_ipython.py'>,\n",
              " 'google.colab.errors': <module 'google.colab.errors' from '/usr/local/lib/python3.10/dist-packages/google/colab/errors.py'>,\n",
              " 'google.colab._message': <module 'google.colab._message' from '/usr/local/lib/python3.10/dist-packages/google/colab/_message.py'>,\n",
              " 'google.colab.output._js': <module 'google.colab.output._js' from '/usr/local/lib/python3.10/dist-packages/google/colab/output/_js.py'>,\n",
              " 'google.colab.output._publish': <module 'google.colab.output._publish' from '/usr/local/lib/python3.10/dist-packages/google/colab/output/_publish.py'>,\n",
              " 'google.colab.output._js_builder': <module 'google.colab.output._js_builder' from '/usr/local/lib/python3.10/dist-packages/google/colab/output/_js_builder.py'>,\n",
              " 'google.colab.output._area': <module 'google.colab.output._area' from '/usr/local/lib/python3.10/dist-packages/google/colab/output/_area.py'>,\n",
              " 'google.colab.output._tags': <module 'google.colab.output._tags' from '/usr/local/lib/python3.10/dist-packages/google/colab/output/_tags.py'>,\n",
              " 'google.colab.output._util': <module 'google.colab.output._util' from '/usr/local/lib/python3.10/dist-packages/google/colab/output/_util.py'>,\n",
              " 'google.colab.output._widgets': <module 'google.colab.output._widgets' from '/usr/local/lib/python3.10/dist-packages/google/colab/output/_widgets.py'>,\n",
              " 'google.colab.output': <module 'google.colab.output' from '/usr/local/lib/python3.10/dist-packages/google/colab/output/__init__.py'>,\n",
              " 'google.colab._interactive_table_hint_button': <module 'google.colab._interactive_table_hint_button' from '/usr/local/lib/python3.10/dist-packages/google/colab/_interactive_table_hint_button.py'>,\n",
              " 'google.colab._reprs': <module 'google.colab._reprs' from '/usr/local/lib/python3.10/dist-packages/google/colab/_reprs.py'>,\n",
              " 'google.colab._shell_customizations': <module 'google.colab._shell_customizations' from '/usr/local/lib/python3.10/dist-packages/google/colab/_shell_customizations.py'>,\n",
              " 'google.colab._system_commands': <module 'google.colab._system_commands' from '/usr/local/lib/python3.10/dist-packages/google/colab/_system_commands.py'>,\n",
              " 'google.colab._tensorflow_magics': <module 'google.colab._tensorflow_magics' from '/usr/local/lib/python3.10/dist-packages/google/colab/_tensorflow_magics.py'>,\n",
              " 'http.server': <module 'http.server' from '/usr/lib/python3.10/http/server.py'>,\n",
              " 'google.colab.files': <module 'google.colab.files' from '/usr/local/lib/python3.10/dist-packages/google/colab/files.py'>,\n",
              " 'google.colab.auth': <module 'google.colab.auth' from '/usr/local/lib/python3.10/dist-packages/google/colab/auth.py'>,\n",
              " 'pexpect.popen_spawn': <module 'pexpect.popen_spawn' from '/usr/local/lib/python3.10/dist-packages/pexpect/popen_spawn.py'>,\n",
              " 'pwd': <module 'pwd' (built-in)>,\n",
              " 'psutil._common': <module 'psutil._common' from '/usr/local/lib/python3.10/dist-packages/psutil/_common.py'>,\n",
              " 'psutil._compat': <module 'psutil._compat' from '/usr/local/lib/python3.10/dist-packages/psutil/_compat.py'>,\n",
              " 'psutil._psposix': <module 'psutil._psposix' from '/usr/local/lib/python3.10/dist-packages/psutil/_psposix.py'>,\n",
              " 'psutil._psutil_linux': <module 'psutil._psutil_linux' from '/usr/local/lib/python3.10/dist-packages/psutil/_psutil_linux.abi3.so'>,\n",
              " 'psutil._psutil_posix': <module 'psutil._psutil_posix' from '/usr/local/lib/python3.10/dist-packages/psutil/_psutil_posix.abi3.so'>,\n",
              " 'psutil._pslinux': <module 'psutil._pslinux' from '/usr/local/lib/python3.10/dist-packages/psutil/_pslinux.py'>,\n",
              " 'psutil': <module 'psutil' from '/usr/local/lib/python3.10/dist-packages/psutil/__init__.py'>,\n",
              " 'google.colab.drive': <module 'google.colab.drive' from '/usr/local/lib/python3.10/dist-packages/google/colab/drive.py'>,\n",
              " 'gzip': <module 'gzip' from '/usr/lib/python3.10/gzip.py'>,\n",
              " 'socks': <module 'socks' from '/usr/local/lib/python3.10/dist-packages/socks.py'>,\n",
              " 'pyparsing.util': <module 'pyparsing.util' from '/usr/local/lib/python3.10/dist-packages/pyparsing/util.py'>,\n",
              " 'pyparsing.unicode': <module 'pyparsing.unicode' from '/usr/local/lib/python3.10/dist-packages/pyparsing/unicode.py'>,\n",
              " 'pyparsing.exceptions': <module 'pyparsing.exceptions' from '/usr/local/lib/python3.10/dist-packages/pyparsing/exceptions.py'>,\n",
              " 'pyparsing.actions': <module 'pyparsing.actions' from '/usr/local/lib/python3.10/dist-packages/pyparsing/actions.py'>,\n",
              " 'pyparsing.results': <module 'pyparsing.results' from '/usr/local/lib/python3.10/dist-packages/pyparsing/results.py'>,\n",
              " 'pyparsing.core': <module 'pyparsing.core' from '/usr/local/lib/python3.10/dist-packages/pyparsing/core.py'>,\n",
              " 'pyparsing.helpers': <module 'pyparsing.helpers' from '/usr/local/lib/python3.10/dist-packages/pyparsing/helpers.py'>,\n",
              " 'pyparsing.testing': <module 'pyparsing.testing' from '/usr/local/lib/python3.10/dist-packages/pyparsing/testing.py'>,\n",
              " 'pyparsing.common': <module 'pyparsing.common' from '/usr/local/lib/python3.10/dist-packages/pyparsing/common.py'>,\n",
              " 'pyparsing': <module 'pyparsing' from '/usr/local/lib/python3.10/dist-packages/pyparsing/__init__.py'>,\n",
              " 'httplib2.error': <module 'httplib2.error' from '/usr/local/lib/python3.10/dist-packages/httplib2/error.py'>,\n",
              " 'httplib2.auth': <module 'httplib2.auth' from '/usr/local/lib/python3.10/dist-packages/httplib2/auth.py'>,\n",
              " 'httplib2.iri2uri': <module 'httplib2.iri2uri' from '/usr/local/lib/python3.10/dist-packages/httplib2/iri2uri.py'>,\n",
              " 'importlib.abc': <module 'importlib.abc' from '/usr/lib/python3.10/importlib/abc.py'>,\n",
              " 'importlib._adapters': <module 'importlib._adapters' from '/usr/lib/python3.10/importlib/_adapters.py'>,\n",
              " 'importlib._common': <module 'importlib._common' from '/usr/lib/python3.10/importlib/_common.py'>,\n",
              " 'importlib.resources': <module 'importlib.resources' from '/usr/lib/python3.10/importlib/resources.py'>,\n",
              " 'certifi.core': <module 'certifi.core' from '/usr/local/lib/python3.10/dist-packages/certifi/core.py'>,\n",
              " 'certifi': <module 'certifi' from '/usr/local/lib/python3.10/dist-packages/certifi/__init__.py'>,\n",
              " 'httplib2.certs': <module 'httplib2.certs' from '/usr/local/lib/python3.10/dist-packages/httplib2/certs.py'>,\n",
              " 'zipfile': <module 'zipfile' from '/usr/lib/python3.10/zipfile.py'>,\n",
              " 'importlib.readers': <module 'importlib.readers' from '/usr/lib/python3.10/importlib/readers.py'>,\n",
              " 'httplib2': <module 'httplib2' from '/usr/local/lib/python3.10/dist-packages/httplib2/__init__.py'>,\n",
              " 'google.colab.runtime': <module 'google.colab.runtime' from '/usr/local/lib/python3.10/dist-packages/google/colab/runtime.py'>,\n",
              " 'google.colab.snippets': <module 'google.colab.snippets' from '/usr/local/lib/python3.10/dist-packages/google/colab/snippets.py'>,\n",
              " 'google.colab.widgets._widget': <module 'google.colab.widgets._widget' from '/usr/local/lib/python3.10/dist-packages/google/colab/widgets/_widget.py'>,\n",
              " 'google.colab.widgets._grid': <module 'google.colab.widgets._grid' from '/usr/local/lib/python3.10/dist-packages/google/colab/widgets/_grid.py'>,\n",
              " 'google.colab.widgets._tabbar': <module 'google.colab.widgets._tabbar' from '/usr/local/lib/python3.10/dist-packages/google/colab/widgets/_tabbar.py'>,\n",
              " 'google.colab.widgets': <module 'google.colab.widgets' from '/usr/local/lib/python3.10/dist-packages/google/colab/widgets/__init__.py'>,\n",
              " 'google.colab': <module 'google.colab' from '/usr/local/lib/python3.10/dist-packages/google/colab/__init__.py'>,\n",
              " 'google.colab._history': <module 'google.colab._history' from '/usr/local/lib/python3.10/dist-packages/google/colab/_history.py'>,\n",
              " 'google.colab._inspector': <module 'google.colab._inspector' from '/usr/local/lib/python3.10/dist-packages/google/colab/_inspector.py'>,\n",
              " 'google.colab._pip': <module 'google.colab._pip' from '/usr/local/lib/python3.10/dist-packages/google/colab/_pip.py'>,\n",
              " 'IPython.core.inputtransformer': <module 'IPython.core.inputtransformer' from '/usr/local/lib/python3.10/dist-packages/IPython/core/inputtransformer.py'>,\n",
              " 'IPython.core.inputsplitter': <module 'IPython.core.inputsplitter' from '/usr/local/lib/python3.10/dist-packages/IPython/core/inputsplitter.py'>,\n",
              " 'google.colab._shell': <module 'google.colab._shell' from '/usr/local/lib/python3.10/dist-packages/google/colab/_shell.py'>,\n",
              " 'google.colab._kernel': <module 'google.colab._kernel' from '/usr/local/lib/python3.10/dist-packages/google/colab/_kernel.py'>,\n",
              " 'faulthandler': <module 'faulthandler' (built-in)>,\n",
              " 'IPython.core.completerlib': <module 'IPython.core.completerlib' from '/usr/local/lib/python3.10/dist-packages/IPython/core/completerlib.py'>,\n",
              " 'numpy._globals': <module 'numpy._globals' from '/usr/local/lib/python3.10/dist-packages/numpy/_globals.py'>,\n",
              " 'numpy.__config__': <module 'numpy.__config__' from '/usr/local/lib/python3.10/dist-packages/numpy/__config__.py'>,\n",
              " 'numpy._distributor_init': <module 'numpy._distributor_init' from '/usr/local/lib/python3.10/dist-packages/numpy/_distributor_init.py'>,\n",
              " 'numpy._version': <module 'numpy._version' from '/usr/local/lib/python3.10/dist-packages/numpy/_version.py'>,\n",
              " 'numpy.version': <module 'numpy.version' from '/usr/local/lib/python3.10/dist-packages/numpy/version.py'>,\n",
              " 'numpy.core._multiarray_umath': <module 'numpy.core._multiarray_umath' from '/usr/local/lib/python3.10/dist-packages/numpy/core/_multiarray_umath.cpython-310-x86_64-linux-gnu.so'>,\n",
              " 'numpy.compat._inspect': <module 'numpy.compat._inspect' from '/usr/local/lib/python3.10/dist-packages/numpy/compat/_inspect.py'>,\n",
              " 'numpy.compat.py3k': <module 'numpy.compat.py3k' from '/usr/local/lib/python3.10/dist-packages/numpy/compat/py3k.py'>,\n",
              " 'numpy.compat': <module 'numpy.compat' from '/usr/local/lib/python3.10/dist-packages/numpy/compat/__init__.py'>,\n",
              " 'numpy.core.overrides': <module 'numpy.core.overrides' from '/usr/local/lib/python3.10/dist-packages/numpy/core/overrides.py'>,\n",
              " 'numpy.core.multiarray': <module 'numpy.core.multiarray' from '/usr/local/lib/python3.10/dist-packages/numpy/core/multiarray.py'>,\n",
              " 'numpy.core.umath': <module 'numpy.core.umath' from '/usr/local/lib/python3.10/dist-packages/numpy/core/umath.py'>,\n",
              " 'numpy.core._string_helpers': <module 'numpy.core._string_helpers' from '/usr/local/lib/python3.10/dist-packages/numpy/core/_string_helpers.py'>,\n",
              " 'numpy.core._dtype': <module 'numpy.core._dtype' from '/usr/local/lib/python3.10/dist-packages/numpy/core/_dtype.py'>,\n",
              " 'numpy.core._type_aliases': <module 'numpy.core._type_aliases' from '/usr/local/lib/python3.10/dist-packages/numpy/core/_type_aliases.py'>,\n",
              " 'numpy.core.numerictypes': <module 'numpy.core.numerictypes' from '/usr/local/lib/python3.10/dist-packages/numpy/core/numerictypes.py'>,\n",
              " 'numpy.core._exceptions': <module 'numpy.core._exceptions' from '/usr/local/lib/python3.10/dist-packages/numpy/core/_exceptions.py'>,\n",
              " 'numpy.core._methods': <module 'numpy.core._methods' from '/usr/local/lib/python3.10/dist-packages/numpy/core/_methods.py'>,\n",
              " 'numpy.core.fromnumeric': <module 'numpy.core.fromnumeric' from '/usr/local/lib/python3.10/dist-packages/numpy/core/fromnumeric.py'>,\n",
              " 'numpy.core.shape_base': <module 'numpy.core.shape_base' from '/usr/local/lib/python3.10/dist-packages/numpy/core/shape_base.py'>,\n",
              " 'numpy.core._ufunc_config': <module 'numpy.core._ufunc_config' from '/usr/local/lib/python3.10/dist-packages/numpy/core/_ufunc_config.py'>,\n",
              " 'numpy.core.arrayprint': <module 'numpy.core.arrayprint' from '/usr/local/lib/python3.10/dist-packages/numpy/core/arrayprint.py'>,\n",
              " 'numpy.core._asarray': <module 'numpy.core._asarray' from '/usr/local/lib/python3.10/dist-packages/numpy/core/_asarray.py'>,\n",
              " 'numpy.core.numeric': <module 'numpy.core.numeric' from '/usr/local/lib/python3.10/dist-packages/numpy/core/numeric.py'>,\n",
              " 'numpy.core.defchararray': <module 'numpy.core.defchararray' from '/usr/local/lib/python3.10/dist-packages/numpy/core/defchararray.py'>,\n",
              " 'numpy.core.records': <module 'numpy.core.records' from '/usr/local/lib/python3.10/dist-packages/numpy/core/records.py'>,\n",
              " 'numpy.core.memmap': <module 'numpy.core.memmap' from '/usr/local/lib/python3.10/dist-packages/numpy/core/memmap.py'>,\n",
              " 'numpy.core.function_base': <module 'numpy.core.function_base' from '/usr/local/lib/python3.10/dist-packages/numpy/core/function_base.py'>,\n",
              " 'numpy.core._machar': <module 'numpy.core._machar' from '/usr/local/lib/python3.10/dist-packages/numpy/core/_machar.py'>,\n",
              " 'numpy.core.getlimits': <module 'numpy.core.getlimits' from '/usr/local/lib/python3.10/dist-packages/numpy/core/getlimits.py'>,\n",
              " 'numpy.core.einsumfunc': <module 'numpy.core.einsumfunc' from '/usr/local/lib/python3.10/dist-packages/numpy/core/einsumfunc.py'>,\n",
              " 'numpy.core._multiarray_tests': <module 'numpy.core._multiarray_tests' from '/usr/local/lib/python3.10/dist-packages/numpy/core/_multiarray_tests.cpython-310-x86_64-linux-gnu.so'>,\n",
              " 'numpy.core._add_newdocs': <module 'numpy.core._add_newdocs' from '/usr/local/lib/python3.10/dist-packages/numpy/core/_add_newdocs.py'>,\n",
              " 'numpy.core._add_newdocs_scalars': <module 'numpy.core._add_newdocs_scalars' from '/usr/local/lib/python3.10/dist-packages/numpy/core/_add_newdocs_scalars.py'>,\n",
              " 'numpy.core._dtype_ctypes': <module 'numpy.core._dtype_ctypes' from '/usr/local/lib/python3.10/dist-packages/numpy/core/_dtype_ctypes.py'>,\n",
              " 'numpy.core._internal': <module 'numpy.core._internal' from '/usr/local/lib/python3.10/dist-packages/numpy/core/_internal.py'>,\n",
              " 'numpy._pytesttester': <module 'numpy._pytesttester' from '/usr/local/lib/python3.10/dist-packages/numpy/_pytesttester.py'>,\n",
              " 'numpy.core': <module 'numpy.core' from '/usr/local/lib/python3.10/dist-packages/numpy/core/__init__.py'>,\n",
              " 'numpy.lib.mixins': <module 'numpy.lib.mixins' from '/usr/local/lib/python3.10/dist-packages/numpy/lib/mixins.py'>,\n",
              " 'numpy.lib.ufunclike': <module 'numpy.lib.ufunclike' from '/usr/local/lib/python3.10/dist-packages/numpy/lib/ufunclike.py'>,\n",
              " 'numpy.lib.type_check': <module 'numpy.lib.type_check' from '/usr/local/lib/python3.10/dist-packages/numpy/lib/type_check.py'>,\n",
              " 'numpy.lib.scimath': <module 'numpy.lib.scimath' from '/usr/local/lib/python3.10/dist-packages/numpy/lib/scimath.py'>,\n",
              " 'numpy.lib.stride_tricks': <module 'numpy.lib.stride_tricks' from '/usr/local/lib/python3.10/dist-packages/numpy/lib/stride_tricks.py'>,\n",
              " 'numpy.lib.twodim_base': <module 'numpy.lib.twodim_base' from '/usr/local/lib/python3.10/dist-packages/numpy/lib/twodim_base.py'>,\n",
              " 'numpy.linalg._umath_linalg': <module 'numpy.linalg._umath_linalg' from '/usr/local/lib/python3.10/dist-packages/numpy/linalg/_umath_linalg.cpython-310-x86_64-linux-gnu.so'>,\n",
              " 'numpy.linalg.linalg': <module 'numpy.linalg.linalg' from '/usr/local/lib/python3.10/dist-packages/numpy/linalg/linalg.py'>,\n",
              " 'numpy.linalg': <module 'numpy.linalg' from '/usr/local/lib/python3.10/dist-packages/numpy/linalg/__init__.py'>,\n",
              " 'numpy.matrixlib.defmatrix': <module 'numpy.matrixlib.defmatrix' from '/usr/local/lib/python3.10/dist-packages/numpy/matrixlib/defmatrix.py'>,\n",
              " 'numpy.matrixlib': <module 'numpy.matrixlib' from '/usr/local/lib/python3.10/dist-packages/numpy/matrixlib/__init__.py'>,\n",
              " 'numpy.lib.histograms': <module 'numpy.lib.histograms' from '/usr/local/lib/python3.10/dist-packages/numpy/lib/histograms.py'>,\n",
              " 'numpy.lib.function_base': <module 'numpy.lib.function_base' from '/usr/local/lib/python3.10/dist-packages/numpy/lib/function_base.py'>,\n",
              " 'numpy.lib.index_tricks': <module 'numpy.lib.index_tricks' from '/usr/local/lib/python3.10/dist-packages/numpy/lib/index_tricks.py'>,\n",
              " 'numpy.lib.nanfunctions': <module 'numpy.lib.nanfunctions' from '/usr/local/lib/python3.10/dist-packages/numpy/lib/nanfunctions.py'>,\n",
              " 'numpy.lib.shape_base': <module 'numpy.lib.shape_base' from '/usr/local/lib/python3.10/dist-packages/numpy/lib/shape_base.py'>,\n",
              " 'numpy.lib.polynomial': <module 'numpy.lib.polynomial' from '/usr/local/lib/python3.10/dist-packages/numpy/lib/polynomial.py'>,\n",
              " 'numpy.lib.utils': <module 'numpy.lib.utils' from '/usr/local/lib/python3.10/dist-packages/numpy/lib/utils.py'>,\n",
              " 'numpy.lib.arraysetops': <module 'numpy.lib.arraysetops' from '/usr/local/lib/python3.10/dist-packages/numpy/lib/arraysetops.py'>,\n",
              " 'numpy.lib.format': <module 'numpy.lib.format' from '/usr/local/lib/python3.10/dist-packages/numpy/lib/format.py'>,\n",
              " 'numpy.lib._datasource': <module 'numpy.lib._datasource' from '/usr/local/lib/python3.10/dist-packages/numpy/lib/_datasource.py'>,\n",
              " 'numpy.lib._iotools': <module 'numpy.lib._iotools' from '/usr/local/lib/python3.10/dist-packages/numpy/lib/_iotools.py'>,\n",
              " 'numpy.lib.npyio': <module 'numpy.lib.npyio' from '/usr/local/lib/python3.10/dist-packages/numpy/lib/npyio.py'>,\n",
              " 'numpy.lib.arrayterator': <module 'numpy.lib.arrayterator' from '/usr/local/lib/python3.10/dist-packages/numpy/lib/arrayterator.py'>,\n",
              " 'numpy.lib.arraypad': <module 'numpy.lib.arraypad' from '/usr/local/lib/python3.10/dist-packages/numpy/lib/arraypad.py'>,\n",
              " 'numpy.lib._version': <module 'numpy.lib._version' from '/usr/local/lib/python3.10/dist-packages/numpy/lib/_version.py'>,\n",
              " 'numpy.lib': <module 'numpy.lib' from '/usr/local/lib/python3.10/dist-packages/numpy/lib/__init__.py'>,\n",
              " 'numpy.fft._pocketfft_internal': <module 'numpy.fft._pocketfft_internal' from '/usr/local/lib/python3.10/dist-packages/numpy/fft/_pocketfft_internal.cpython-310-x86_64-linux-gnu.so'>,\n",
              " 'numpy.fft._pocketfft': <module 'numpy.fft._pocketfft' from '/usr/local/lib/python3.10/dist-packages/numpy/fft/_pocketfft.py'>,\n",
              " 'numpy.fft.helper': <module 'numpy.fft.helper' from '/usr/local/lib/python3.10/dist-packages/numpy/fft/helper.py'>,\n",
              " 'numpy.fft': <module 'numpy.fft' from '/usr/local/lib/python3.10/dist-packages/numpy/fft/__init__.py'>,\n",
              " 'numpy.polynomial.polyutils': <module 'numpy.polynomial.polyutils' from '/usr/local/lib/python3.10/dist-packages/numpy/polynomial/polyutils.py'>,\n",
              " 'numpy.polynomial._polybase': <module 'numpy.polynomial._polybase' from '/usr/local/lib/python3.10/dist-packages/numpy/polynomial/_polybase.py'>,\n",
              " 'numpy.polynomial.polynomial': <module 'numpy.polynomial.polynomial' from '/usr/local/lib/python3.10/dist-packages/numpy/polynomial/polynomial.py'>,\n",
              " 'numpy.polynomial.chebyshev': <module 'numpy.polynomial.chebyshev' from '/usr/local/lib/python3.10/dist-packages/numpy/polynomial/chebyshev.py'>,\n",
              " 'numpy.polynomial.legendre': <module 'numpy.polynomial.legendre' from '/usr/local/lib/python3.10/dist-packages/numpy/polynomial/legendre.py'>,\n",
              " 'numpy.polynomial.hermite': <module 'numpy.polynomial.hermite' from '/usr/local/lib/python3.10/dist-packages/numpy/polynomial/hermite.py'>,\n",
              " 'numpy.polynomial.hermite_e': <module 'numpy.polynomial.hermite_e' from '/usr/local/lib/python3.10/dist-packages/numpy/polynomial/hermite_e.py'>,\n",
              " 'numpy.polynomial.laguerre': <module 'numpy.polynomial.laguerre' from '/usr/local/lib/python3.10/dist-packages/numpy/polynomial/laguerre.py'>,\n",
              " 'numpy.polynomial': <module 'numpy.polynomial' from '/usr/local/lib/python3.10/dist-packages/numpy/polynomial/__init__.py'>,\n",
              " '_cython_0_29_30': <module '_cython_0_29_30'>,\n",
              " 'numpy.random._common': <module 'numpy.random._common' from '/usr/local/lib/python3.10/dist-packages/numpy/random/_common.cpython-310-x86_64-linux-gnu.so'>,\n",
              " 'secrets': <module 'secrets' from '/usr/lib/python3.10/secrets.py'>,\n",
              " 'numpy.random.bit_generator': <module 'numpy.random.bit_generator' from '/usr/local/lib/python3.10/dist-packages/numpy/random/bit_generator.cpython-310-x86_64-linux-gnu.so'>,\n",
              " 'numpy.random._bounded_integers': <module 'numpy.random._bounded_integers' from '/usr/local/lib/python3.10/dist-packages/numpy/random/_bounded_integers.cpython-310-x86_64-linux-gnu.so'>,\n",
              " 'numpy.random._mt19937': <module 'numpy.random._mt19937' from '/usr/local/lib/python3.10/dist-packages/numpy/random/_mt19937.cpython-310-x86_64-linux-gnu.so'>,\n",
              " 'numpy.random.mtrand': <module 'numpy.random.mtrand' from '/usr/local/lib/python3.10/dist-packages/numpy/random/mtrand.cpython-310-x86_64-linux-gnu.so'>,\n",
              " 'numpy.random._philox': <module 'numpy.random._philox' from '/usr/local/lib/python3.10/dist-packages/numpy/random/_philox.cpython-310-x86_64-linux-gnu.so'>,\n",
              " 'numpy.random._pcg64': <module 'numpy.random._pcg64' from '/usr/local/lib/python3.10/dist-packages/numpy/random/_pcg64.cpython-310-x86_64-linux-gnu.so'>,\n",
              " 'numpy.random._sfc64': <module 'numpy.random._sfc64' from '/usr/local/lib/python3.10/dist-packages/numpy/random/_sfc64.cpython-310-x86_64-linux-gnu.so'>,\n",
              " 'numpy.random._generator': <module 'numpy.random._generator' from '/usr/local/lib/python3.10/dist-packages/numpy/random/_generator.cpython-310-x86_64-linux-gnu.so'>,\n",
              " 'numpy.random._pickle': <module 'numpy.random._pickle' from '/usr/local/lib/python3.10/dist-packages/numpy/random/_pickle.py'>,\n",
              " 'numpy.random': <module 'numpy.random' from '/usr/local/lib/python3.10/dist-packages/numpy/random/__init__.py'>,\n",
              " 'numpy.ctypeslib': <module 'numpy.ctypeslib' from '/usr/local/lib/python3.10/dist-packages/numpy/ctypeslib.py'>,\n",
              " 'numpy.ma.core': <module 'numpy.ma.core' from '/usr/local/lib/python3.10/dist-packages/numpy/ma/core.py'>,\n",
              " 'numpy.ma.extras': <module 'numpy.ma.extras' from '/usr/local/lib/python3.10/dist-packages/numpy/ma/extras.py'>,\n",
              " 'numpy.ma': <module 'numpy.ma' from '/usr/local/lib/python3.10/dist-packages/numpy/ma/__init__.py'>,\n",
              " 'numpy': <module 'numpy' from '/usr/local/lib/python3.10/dist-packages/numpy/__init__.py'>,\n",
              " 'packaging': <module 'packaging' from '/usr/local/lib/python3.10/dist-packages/packaging/__init__.py'>,\n",
              " 'packaging._structures': <module 'packaging._structures' from '/usr/local/lib/python3.10/dist-packages/packaging/_structures.py'>,\n",
              " 'packaging.version': <module 'packaging.version' from '/usr/local/lib/python3.10/dist-packages/packaging/version.py'>,\n",
              " 'matplotlib._api.deprecation': <module 'matplotlib._api.deprecation' from '/usr/local/lib/python3.10/dist-packages/matplotlib/_api/deprecation.py'>,\n",
              " 'matplotlib._api': <module 'matplotlib._api' from '/usr/local/lib/python3.10/dist-packages/matplotlib/_api/__init__.py'>,\n",
              " 'matplotlib._version': <module 'matplotlib._version' from '/usr/local/lib/python3.10/dist-packages/matplotlib/_version.py'>,\n",
              " 'matplotlib._c_internal_utils': <module 'matplotlib._c_internal_utils' from '/usr/local/lib/python3.10/dist-packages/matplotlib/_c_internal_utils.cpython-310-x86_64-linux-gnu.so'>,\n",
              " 'matplotlib.cbook': <module 'matplotlib.cbook' from '/usr/local/lib/python3.10/dist-packages/matplotlib/cbook/__init__.py'>,\n",
              " 'matplotlib._docstring': <module 'matplotlib._docstring' from '/usr/local/lib/python3.10/dist-packages/matplotlib/_docstring.py'>,\n",
              " 'PIL._version': <module 'PIL._version' from '/usr/local/lib/python3.10/dist-packages/PIL/_version.py'>,\n",
              " 'PIL': <module 'PIL' from '/usr/local/lib/python3.10/dist-packages/PIL/__init__.py'>,\n",
              " 'xml.parsers': <module 'xml.parsers' from '/usr/lib/python3.10/xml/parsers/__init__.py'>,\n",
              " 'pyexpat.errors': <module 'pyexpat.errors'>,\n",
              " 'pyexpat.model': <module 'pyexpat.model'>,\n",
              " 'pyexpat': <module 'pyexpat' (built-in)>,\n",
              " 'xml.parsers.expat.model': <module 'pyexpat.model'>,\n",
              " 'xml.parsers.expat.errors': <module 'pyexpat.errors'>,\n",
              " 'xml.parsers.expat': <module 'xml.parsers.expat' from '/usr/lib/python3.10/xml/parsers/expat.py'>,\n",
              " 'defusedxml.common': <module 'defusedxml.common' from '/usr/local/lib/python3.10/dist-packages/defusedxml/common.py'>,\n",
              " 'defusedxml': <module 'defusedxml' from '/usr/local/lib/python3.10/dist-packages/defusedxml/__init__.py'>,\n",
              " 'xml.etree': <module 'xml.etree' from '/usr/lib/python3.10/xml/etree/__init__.py'>,\n",
              " 'xml.etree.ElementPath': <module 'xml.etree.ElementPath' from '/usr/lib/python3.10/xml/etree/ElementPath.py'>,\n",
              " '_elementtree': <module '_elementtree' (built-in)>,\n",
              " 'xml.etree.ElementTree': <module 'xml.etree.ElementTree' from '/usr/lib/python3.10/xml/etree/ElementTree.py'>,\n",
              " 'defusedxml.ElementTree': <module 'defusedxml.ElementTree' from '/usr/local/lib/python3.10/dist-packages/defusedxml/ElementTree.py'>,\n",
              " 'PIL.ImageMode': <module 'PIL.ImageMode' from '/usr/local/lib/python3.10/dist-packages/PIL/ImageMode.py'>,\n",
              " 'PIL.TiffTags': <module 'PIL.TiffTags' from '/usr/local/lib/python3.10/dist-packages/PIL/TiffTags.py'>,\n",
              " 'PIL._binary': <module 'PIL._binary' from '/usr/local/lib/python3.10/dist-packages/PIL/_binary.py'>,\n",
              " 'PIL._util': <module 'PIL._util' from '/usr/local/lib/python3.10/dist-packages/PIL/_util.py'>,\n",
              " 'PIL._imaging': <module 'PIL._imaging' from '/usr/local/lib/python3.10/dist-packages/PIL/_imaging.cpython-310-x86_64-linux-gnu.so'>,\n",
              " 'cffi.lock': <module 'cffi.lock' from '/usr/local/lib/python3.10/dist-packages/cffi/lock.py'>,\n",
              " 'cffi.error': <module 'cffi.error' from '/usr/local/lib/python3.10/dist-packages/cffi/error.py'>,\n",
              " 'cffi.model': <module 'cffi.model' from '/usr/local/lib/python3.10/dist-packages/cffi/model.py'>,\n",
              " 'cffi.api': <module 'cffi.api' from '/usr/local/lib/python3.10/dist-packages/cffi/api.py'>,\n",
              " 'cffi': <module 'cffi' from '/usr/local/lib/python3.10/dist-packages/cffi/__init__.py'>,\n",
              " 'PIL.Image': <module 'PIL.Image' from '/usr/local/lib/python3.10/dist-packages/PIL/Image.py'>,\n",
              " 'PIL.ImageChops': <module 'PIL.ImageChops' from '/usr/local/lib/python3.10/dist-packages/PIL/ImageChops.py'>,\n",
              " 'PIL.ImageFile': <module 'PIL.ImageFile' from '/usr/local/lib/python3.10/dist-packages/PIL/ImageFile.py'>,\n",
              " 'PIL.GimpGradientFile': <module 'PIL.GimpGradientFile' from '/usr/local/lib/python3.10/dist-packages/PIL/GimpGradientFile.py'>,\n",
              " 'PIL.GimpPaletteFile': <module 'PIL.GimpPaletteFile' from '/usr/local/lib/python3.10/dist-packages/PIL/GimpPaletteFile.py'>,\n",
              " 'PIL.ImageColor': <module 'PIL.ImageColor' from '/usr/local/lib/python3.10/dist-packages/PIL/ImageColor.py'>,\n",
              " 'PIL.PaletteFile': <module 'PIL.PaletteFile' from '/usr/local/lib/python3.10/dist-packages/PIL/PaletteFile.py'>,\n",
              " 'PIL.ImagePalette': <module 'PIL.ImagePalette' from '/usr/local/lib/python3.10/dist-packages/PIL/ImagePalette.py'>,\n",
              " 'PIL.ImageSequence': <module 'PIL.ImageSequence' from '/usr/local/lib/python3.10/dist-packages/PIL/ImageSequence.py'>,\n",
              " 'PIL.PngImagePlugin': <module 'PIL.PngImagePlugin' from '/usr/local/lib/python3.10/dist-packages/PIL/PngImagePlugin.py'>,\n",
              " 'matplotlib._cm': <module 'matplotlib._cm' from '/usr/local/lib/python3.10/dist-packages/matplotlib/_cm.py'>,\n",
              " 'matplotlib._path': <module 'matplotlib._path' from '/usr/local/lib/python3.10/dist-packages/matplotlib/_path.cpython-310-x86_64-linux-gnu.so'>,\n",
              " 'matplotlib.bezier': <module 'matplotlib.bezier' from '/usr/local/lib/python3.10/dist-packages/matplotlib/bezier.py'>,\n",
              " 'matplotlib.path': <module 'matplotlib.path' from '/usr/local/lib/python3.10/dist-packages/matplotlib/path.py'>,\n",
              " 'matplotlib.transforms': <module 'matplotlib.transforms' from '/usr/local/lib/python3.10/dist-packages/matplotlib/transforms.py'>,\n",
              " 'matplotlib.ticker': <module 'matplotlib.ticker' from '/usr/local/lib/python3.10/dist-packages/matplotlib/ticker.py'>,\n",
              " 'matplotlib.scale': <module 'matplotlib.scale' from '/usr/local/lib/python3.10/dist-packages/matplotlib/scale.py'>,\n",
              " 'matplotlib._color_data': <module 'matplotlib._color_data' from '/usr/local/lib/python3.10/dist-packages/matplotlib/_color_data.py'>,\n",
              " 'matplotlib.colors': <module 'matplotlib.colors' from '/usr/local/lib/python3.10/dist-packages/matplotlib/colors.py'>,\n",
              " 'matplotlib._fontconfig_pattern': <module 'matplotlib._fontconfig_pattern' from '/usr/local/lib/python3.10/dist-packages/matplotlib/_fontconfig_pattern.py'>,\n",
              " 'matplotlib._enums': <module 'matplotlib._enums' from '/usr/local/lib/python3.10/dist-packages/matplotlib/_enums.py'>,\n",
              " 'cycler': <module 'cycler' from '/usr/local/lib/python3.10/dist-packages/cycler.py'>,\n",
              " 'matplotlib.rcsetup': <module 'matplotlib.rcsetup' from '/usr/local/lib/python3.10/dist-packages/matplotlib/rcsetup.py'>,\n",
              " 'matplotlib.ft2font': <module 'matplotlib.ft2font' from '/usr/local/lib/python3.10/dist-packages/matplotlib/ft2font.cpython-310-x86_64-linux-gnu.so'>,\n",
              " 'kiwisolver._cext': <module 'kiwisolver._cext' from '/usr/local/lib/python3.10/dist-packages/kiwisolver/_cext.cpython-310-x86_64-linux-gnu.so'>,\n",
              " 'kiwisolver': <module 'kiwisolver' from '/usr/local/lib/python3.10/dist-packages/kiwisolver/__init__.py'>,\n",
              " 'matplotlib._cm_listed': <module 'matplotlib._cm_listed' from '/usr/local/lib/python3.10/dist-packages/matplotlib/_cm_listed.py'>,\n",
              " 'matplotlib.cm': <module 'matplotlib.cm' from '/usr/local/lib/python3.10/dist-packages/matplotlib/cm.py'>,\n",
              " 'matplotlib': <module 'matplotlib' from '/usr/local/lib/python3.10/dist-packages/matplotlib/__init__.py'>,\n",
              " 'matplotlib.backends': <module 'matplotlib.backends' from '/usr/local/lib/python3.10/dist-packages/matplotlib/backends/__init__.py'>,\n",
              " 'matplotlib._pylab_helpers': <module 'matplotlib._pylab_helpers' from '/usr/local/lib/python3.10/dist-packages/matplotlib/_pylab_helpers.py'>,\n",
              " 'matplotlib.backend_tools': <module 'matplotlib.backend_tools' from '/usr/local/lib/python3.10/dist-packages/matplotlib/backend_tools.py'>,\n",
              " 'matplotlib.artist': <module 'matplotlib.artist' from '/usr/local/lib/python3.10/dist-packages/matplotlib/artist.py'>,\n",
              " 'matplotlib._mathtext_data': <module 'matplotlib._mathtext_data' from '/usr/local/lib/python3.10/dist-packages/matplotlib/_mathtext_data.py'>,\n",
              " 'matplotlib._afm': <module 'matplotlib._afm' from '/usr/local/lib/python3.10/dist-packages/matplotlib/_afm.py'>,\n",
              " 'matplotlib.font_manager': <module 'matplotlib.font_manager' from '/usr/local/lib/python3.10/dist-packages/matplotlib/font_manager.py'>,\n",
              " 'matplotlib.hatch': <module 'matplotlib.hatch' from '/usr/local/lib/python3.10/dist-packages/matplotlib/hatch.py'>,\n",
              " 'matplotlib.markers': <module 'matplotlib.markers' from '/usr/local/lib/python3.10/dist-packages/matplotlib/markers.py'>,\n",
              " 'matplotlib.lines': <module 'matplotlib.lines' from '/usr/local/lib/python3.10/dist-packages/matplotlib/lines.py'>,\n",
              " 'matplotlib.patches': <module 'matplotlib.patches' from '/usr/local/lib/python3.10/dist-packages/matplotlib/patches.py'>,\n",
              " 'matplotlib._text_helpers': <module 'matplotlib._text_helpers' from '/usr/local/lib/python3.10/dist-packages/matplotlib/_text_helpers.py'>,\n",
              " 'matplotlib.dviread': <module 'matplotlib.dviread' from '/usr/local/lib/python3.10/dist-packages/matplotlib/dviread.py'>,\n",
              " 'matplotlib._mathtext': <module 'matplotlib._mathtext' from '/usr/local/lib/python3.10/dist-packages/matplotlib/_mathtext.py'>,\n",
              " 'matplotlib.mathtext': <module 'matplotlib.mathtext' from '/usr/local/lib/python3.10/dist-packages/matplotlib/mathtext.py'>,\n",
              " 'matplotlib.texmanager': <module 'matplotlib.texmanager' from '/usr/local/lib/python3.10/dist-packages/matplotlib/texmanager.py'>,\n",
              " 'matplotlib.textpath': <module 'matplotlib.textpath' from '/usr/local/lib/python3.10/dist-packages/matplotlib/textpath.py'>,\n",
              " 'matplotlib.text': <module 'matplotlib.text' from '/usr/local/lib/python3.10/dist-packages/matplotlib/text.py'>,\n",
              " 'matplotlib._tight_bbox': <module 'matplotlib._tight_bbox' from '/usr/local/lib/python3.10/dist-packages/matplotlib/_tight_bbox.py'>,\n",
              " 'matplotlib.collections': <module 'matplotlib.collections' from '/usr/local/lib/python3.10/dist-packages/matplotlib/collections.py'>,\n",
              " 'matplotlib.widgets': <module 'matplotlib.widgets' from '/usr/local/lib/python3.10/dist-packages/matplotlib/widgets.py'>,\n",
              " 'matplotlib.backend_managers': <module 'matplotlib.backend_managers' from '/usr/local/lib/python3.10/dist-packages/matplotlib/backend_managers.py'>,\n",
              " 'matplotlib.backend_bases': <module 'matplotlib.backend_bases' from '/usr/local/lib/python3.10/dist-packages/matplotlib/backend_bases.py'>,\n",
              " 'matplotlib.backends._backend_agg': <module 'matplotlib.backends._backend_agg' from '/usr/local/lib/python3.10/dist-packages/matplotlib/backends/_backend_agg.cpython-310-x86_64-linux-gnu.so'>,\n",
              " 'matplotlib.backends.backend_agg': <module 'matplotlib.backends.backend_agg' from '/usr/local/lib/python3.10/dist-packages/matplotlib/backends/backend_agg.py'>,\n",
              " 'matplotlib._blocking_input': <module 'matplotlib._blocking_input' from '/usr/local/lib/python3.10/dist-packages/matplotlib/_blocking_input.py'>,\n",
              " 'matplotlib._image': <module 'matplotlib._image' from '/usr/local/lib/python3.10/dist-packages/matplotlib/_image.cpython-310-x86_64-linux-gnu.so'>,\n",
              " 'matplotlib.image': <module 'matplotlib.image' from '/usr/local/lib/python3.10/dist-packages/matplotlib/image.py'>,\n",
              " 'matplotlib.offsetbox': <module 'matplotlib.offsetbox' from '/usr/local/lib/python3.10/dist-packages/matplotlib/offsetbox.py'>,\n",
              " 'matplotlib.units': <module 'matplotlib.units' from '/usr/local/lib/python3.10/dist-packages/matplotlib/units.py'>,\n",
              " 'matplotlib.axis': <module 'matplotlib.axis' from '/usr/local/lib/python3.10/dist-packages/matplotlib/axis.py'>,\n",
              " 'matplotlib._tight_layout': <module 'matplotlib._tight_layout' from '/usr/local/lib/python3.10/dist-packages/matplotlib/_tight_layout.py'>,\n",
              " 'matplotlib.gridspec': <module 'matplotlib.gridspec' from '/usr/local/lib/python3.10/dist-packages/matplotlib/gridspec.py'>,\n",
              " 'matplotlib.spines': <module 'matplotlib.spines' from '/usr/local/lib/python3.10/dist-packages/matplotlib/spines.py'>,\n",
              " 'matplotlib.table': <module 'matplotlib.table' from '/usr/local/lib/python3.10/dist-packages/matplotlib/table.py'>,\n",
              " 'matplotlib.axes._base': <module 'matplotlib.axes._base' from '/usr/local/lib/python3.10/dist-packages/matplotlib/axes/_base.py'>,\n",
              " 'matplotlib.category': <module 'matplotlib.category' from '/usr/local/lib/python3.10/dist-packages/matplotlib/category.py'>,\n",
              " 'matplotlib.contour': <module 'matplotlib.contour' from '/usr/local/lib/python3.10/dist-packages/matplotlib/contour.py'>,\n",
              " 'dateutil.rrule': <module 'dateutil.rrule' from '/usr/local/lib/python3.10/dist-packages/dateutil/rrule.py'>,\n",
              " 'matplotlib.dates': <module 'matplotlib.dates' from '/usr/local/lib/python3.10/dist-packages/matplotlib/dates.py'>,\n",
              " 'matplotlib.container': <module 'matplotlib.container' from '/usr/local/lib/python3.10/dist-packages/matplotlib/container.py'>,\n",
              " 'matplotlib.legend_handler': <module 'matplotlib.legend_handler' from '/usr/local/lib/python3.10/dist-packages/matplotlib/legend_handler.py'>,\n",
              " 'matplotlib.legend': <module 'matplotlib.legend' from '/usr/local/lib/python3.10/dist-packages/matplotlib/legend.py'>,\n",
              " 'matplotlib.mlab': <module 'matplotlib.mlab' from '/usr/local/lib/python3.10/dist-packages/matplotlib/mlab.py'>,\n",
              " 'matplotlib.quiver': <module 'matplotlib.quiver' from '/usr/local/lib/python3.10/dist-packages/matplotlib/quiver.py'>,\n",
              " 'matplotlib.stackplot': <module 'matplotlib.stackplot' from '/usr/local/lib/python3.10/dist-packages/matplotlib/stackplot.py'>,\n",
              " 'matplotlib.streamplot': <module 'matplotlib.streamplot' from '/usr/local/lib/python3.10/dist-packages/matplotlib/streamplot.py'>,\n",
              " 'matplotlib.tri._triangulation': <module 'matplotlib.tri._triangulation' from '/usr/local/lib/python3.10/dist-packages/matplotlib/tri/_triangulation.py'>,\n",
              " 'matplotlib.tri._tricontour': <module 'matplotlib.tri._tricontour' from '/usr/local/lib/python3.10/dist-packages/matplotlib/tri/_tricontour.py'>,\n",
              " 'matplotlib.tri._trifinder': <module 'matplotlib.tri._trifinder' from '/usr/local/lib/python3.10/dist-packages/matplotlib/tri/_trifinder.py'>,\n",
              " 'matplotlib.tri._tritools': <module 'matplotlib.tri._tritools' from '/usr/local/lib/python3.10/dist-packages/matplotlib/tri/_tritools.py'>,\n",
              " 'matplotlib.tri._triinterpolate': <module 'matplotlib.tri._triinterpolate' from '/usr/local/lib/python3.10/dist-packages/matplotlib/tri/_triinterpolate.py'>,\n",
              " 'matplotlib.tri._tripcolor': <module 'matplotlib.tri._tripcolor' from '/usr/local/lib/python3.10/dist-packages/matplotlib/tri/_tripcolor.py'>,\n",
              " 'matplotlib.tri._triplot': <module 'matplotlib.tri._triplot' from '/usr/local/lib/python3.10/dist-packages/matplotlib/tri/_triplot.py'>,\n",
              " 'matplotlib.tri._trirefine': <module 'matplotlib.tri._trirefine' from '/usr/local/lib/python3.10/dist-packages/matplotlib/tri/_trirefine.py'>,\n",
              " 'matplotlib.tri': <module 'matplotlib.tri' from '/usr/local/lib/python3.10/dist-packages/matplotlib/tri/__init__.py'>,\n",
              " 'matplotlib.axes._secondary_axes': <module 'matplotlib.axes._secondary_axes' from '/usr/local/lib/python3.10/dist-packages/matplotlib/axes/_secondary_axes.py'>,\n",
              " 'matplotlib.axes._axes': <module 'matplotlib.axes._axes' from '/usr/local/lib/python3.10/dist-packages/matplotlib/axes/_axes.py'>,\n",
              " 'matplotlib.axes': <module 'matplotlib.axes' from '/usr/local/lib/python3.10/dist-packages/matplotlib/axes/__init__.py'>,\n",
              " 'matplotlib.projections.geo': <module 'matplotlib.projections.geo' from '/usr/local/lib/python3.10/dist-packages/matplotlib/projections/geo.py'>,\n",
              " 'matplotlib.projections.polar': <module 'matplotlib.projections.polar' from '/usr/local/lib/python3.10/dist-packages/matplotlib/projections/polar.py'>,\n",
              " 'mpl_toolkits.mplot3d.proj3d': <module 'mpl_toolkits.mplot3d.proj3d' from '/usr/local/lib/python3.10/dist-packages/mpl_toolkits/mplot3d/proj3d.py'>,\n",
              " 'mpl_toolkits.mplot3d.art3d': <module 'mpl_toolkits.mplot3d.art3d' from '/usr/local/lib/python3.10/dist-packages/mpl_toolkits/mplot3d/art3d.py'>,\n",
              " 'mpl_toolkits.mplot3d.axis3d': <module 'mpl_toolkits.mplot3d.axis3d' from '/usr/local/lib/python3.10/dist-packages/mpl_toolkits/mplot3d/axis3d.py'>,\n",
              " 'mpl_toolkits.mplot3d.axes3d': <module 'mpl_toolkits.mplot3d.axes3d' from '/usr/local/lib/python3.10/dist-packages/mpl_toolkits/mplot3d/axes3d.py'>,\n",
              " 'mpl_toolkits.mplot3d': <module 'mpl_toolkits.mplot3d' from '/usr/local/lib/python3.10/dist-packages/mpl_toolkits/mplot3d/__init__.py'>,\n",
              " 'matplotlib.projections': <module 'matplotlib.projections' from '/usr/local/lib/python3.10/dist-packages/matplotlib/projections/__init__.py'>,\n",
              " 'matplotlib.colorbar': <module 'matplotlib.colorbar' from '/usr/local/lib/python3.10/dist-packages/matplotlib/colorbar.py'>,\n",
              " 'matplotlib._layoutgrid': <module 'matplotlib._layoutgrid' from '/usr/local/lib/python3.10/dist-packages/matplotlib/_layoutgrid.py'>,\n",
              " 'matplotlib._constrained_layout': <module 'matplotlib._constrained_layout' from '/usr/local/lib/python3.10/dist-packages/matplotlib/_constrained_layout.py'>,\n",
              " 'matplotlib.layout_engine': <module 'matplotlib.layout_engine' from '/usr/local/lib/python3.10/dist-packages/matplotlib/layout_engine.py'>,\n",
              " 'matplotlib.figure': <module 'matplotlib.figure' from '/usr/local/lib/python3.10/dist-packages/matplotlib/figure.py'>,\n",
              " 'matplotlib_inline.config': <module 'matplotlib_inline.config' from '/usr/local/lib/python3.10/dist-packages/matplotlib_inline/config.py'>,\n",
              " 'matplotlib_inline.backend_inline': <module 'matplotlib_inline.backend_inline' from '/usr/local/lib/python3.10/dist-packages/matplotlib_inline/backend_inline.py'>,\n",
              " 'matplotlib_inline': <module 'matplotlib_inline' from '/usr/local/lib/python3.10/dist-packages/matplotlib_inline/__init__.py'>,\n",
              " 'matplotlib.style.core': <module 'matplotlib.style.core' from '/usr/local/lib/python3.10/dist-packages/matplotlib/style/core.py'>,\n",
              " 'matplotlib.style': <module 'matplotlib.style' from '/usr/local/lib/python3.10/dist-packages/matplotlib/style/__init__.py'>,\n",
              " 'matplotlib.pyplot': <module 'matplotlib.pyplot' from '/usr/local/lib/python3.10/dist-packages/matplotlib/pyplot.py'>,\n",
              " 'storemagic': <module 'storemagic' from '/usr/local/lib/python3.10/dist-packages/IPython/extensions/storemagic.py'>,\n",
              " 'debugpy._version': <module 'debugpy._version' from '/usr/local/lib/python3.10/dist-packages/debugpy/_version.py'>,\n",
              " 'debugpy.public_api': <module 'debugpy.public_api' from '/usr/local/lib/python3.10/dist-packages/debugpy/public_api.py'>,\n",
              " 'debugpy': <module 'debugpy' from '/usr/local/lib/python3.10/dist-packages/debugpy/__init__.py'>,\n",
              " 'google.colab._debugpy_repr': <module 'google.colab._debugpy_repr' from '/usr/local/lib/python3.10/dist-packages/google/colab/_debugpy_repr.py'>,\n",
              " 'google.colab._variable_inspector': <module '__main__'>,\n",
              " 'portpicker': <module 'portpicker' from '/usr/local/lib/python3.10/dist-packages/portpicker.py'>,\n",
              " 'google.colab._debugpy': <module 'google.colab._debugpy' from '/usr/local/lib/python3.10/dist-packages/google/colab/_debugpy.py'>,\n",
              " 'debugpy._vendored._util': <module 'debugpy._vendored._util' from '/usr/local/lib/python3.10/dist-packages/debugpy/_vendored/_util.py'>,\n",
              " 'debugpy._vendored': <module 'debugpy._vendored' from '/usr/local/lib/python3.10/dist-packages/debugpy/_vendored/__init__.py'>,\n",
              " '_pydevd_bundle': <module '_pydevd_bundle' from '/usr/local/lib/python3.10/dist-packages/debugpy/_vendored/pydevd/_pydevd_bundle/__init__.py'>,\n",
              " 'encodings.ascii': <module 'encodings.ascii' from '/usr/lib/python3.10/encodings/ascii.py'>,\n",
              " 'encodings.latin_1': <module 'encodings.latin_1' from '/usr/lib/python3.10/encodings/latin_1.py'>,\n",
              " 'stringprep': <module 'stringprep' from '/usr/lib/python3.10/stringprep.py'>,\n",
              " 'encodings.idna': <module 'encodings.idna' from '/usr/lib/python3.10/encodings/idna.py'>,\n",
              " '_pydevd_bundle.pydevd_vm_type': <module '_pydevd_bundle.pydevd_vm_type' from '/usr/local/lib/python3.10/dist-packages/debugpy/_vendored/pydevd/_pydevd_bundle/pydevd_vm_type.py'>,\n",
              " '_pydev_bundle': <module '_pydev_bundle' from '/usr/local/lib/python3.10/dist-packages/debugpy/_vendored/pydevd/_pydev_bundle/__init__.py'>,\n",
              " 'xmlrpc': <module 'xmlrpc' from '/usr/lib/python3.10/xmlrpc/__init__.py'>,\n",
              " 'xmlrpc.client': <module 'xmlrpc.client' from '/usr/lib/python3.10/xmlrpc/client.py'>,\n",
              " 'xmlrpc.server': <module 'xmlrpc.server' from '/usr/lib/python3.10/xmlrpc/server.py'>,\n",
              " '_pydev_bundle._pydev_saved_modules': <module '_pydev_bundle._pydev_saved_modules' from '/usr/local/lib/python3.10/dist-packages/debugpy/_vendored/pydevd/_pydev_bundle/_pydev_saved_modules.py'>,\n",
              " '_pydevd_bundle.pydevd_constants': <module '_pydevd_bundle.pydevd_constants' from '/usr/local/lib/python3.10/dist-packages/debugpy/_vendored/pydevd/_pydevd_bundle/pydevd_constants.py'>,\n",
              " ...}"
            ]
          },
          "metadata": {},
          "execution_count": 343
        }
      ]
    },
    {
      "cell_type": "markdown",
      "source": [
        "## 실습. modules 패키지 안에 만들어 주시고   my_area2라는 모듈을 새로 만들어주세요.\n",
        "\n",
        "그 안에는\n",
        "\n",
        " triangle_area() (삼각형 넓이)\n",
        " squre_area2() (직사각형 넓이)\n",
        "\n",
        " 를 구하는 함수를 넣어주세요."
      ],
      "metadata": {
        "id": "uP2bbyZ7V0p4"
      }
    },
    {
      "cell_type": "code",
      "source": [
        "%%writefile modules/my_area2.py\n",
        "\n",
        "def triangle_area(a,b):\n",
        "    return a*b/2\n",
        "\n",
        "def squre_area2(a,b):\n",
        "    return a*b\n"
      ],
      "metadata": {
        "id": "NB5A17pda3Sb",
        "colab": {
          "base_uri": "https://localhost:8080/"
        },
        "outputId": "0d5c7161-2faf-412e-cfbb-6488418ac186"
      },
      "execution_count": null,
      "outputs": [
        {
          "output_type": "stream",
          "name": "stdout",
          "text": [
            "Writing modules/my_area2.py\n"
          ]
        }
      ]
    },
    {
      "cell_type": "code",
      "source": [
        "from modules import my_area2\n",
        "my_area2.triangle_area(1,3)\n",
        "\n",
        "my_area2.squre_area2(1,3)"
      ],
      "metadata": {
        "id": "ELHozPm7Y_xW",
        "colab": {
          "base_uri": "https://localhost:8080/"
        },
        "outputId": "56792d6b-7927-4a2f-eff9-ac6e7a79d797"
      },
      "execution_count": null,
      "outputs": [
        {
          "output_type": "execute_result",
          "data": {
            "text/plain": [
              "3"
            ]
          },
          "metadata": {},
          "execution_count": 350
        }
      ]
    },
    {
      "cell_type": "code",
      "source": [
        "# 이미 불러온 모듈을 수정한 후 import 했다고 해도\n",
        "# 그 모듈을 수정된 상태로 사용할 수 없다.\n",
        "# 인터프리터를 재실행 하기 전까지\n",
        "# 모듈을 만들 정도면 자주 수정하면 안되는 것"
      ],
      "metadata": {
        "id": "1apoKJEOYfou"
      },
      "execution_count": null,
      "outputs": []
    },
    {
      "cell_type": "code",
      "source": [
        "from modules import my_area2 as ma\n",
        "ma.squre_area2(1,3)"
      ],
      "metadata": {
        "id": "9kHbQ_lEYH1j",
        "colab": {
          "base_uri": "https://localhost:8080/"
        },
        "outputId": "6d966ac8-3da8-4f59-8e8a-2d823d167848"
      },
      "execution_count": null,
      "outputs": [
        {
          "output_type": "execute_result",
          "data": {
            "text/plain": [
              "3"
            ]
          },
          "metadata": {},
          "execution_count": 355
        }
      ]
    },
    {
      "cell_type": "code",
      "source": [
        "print('a'+1)\n",
        "# Error(예외 중 하나)가 나는 순간 서버는 중단됩니다. (프로그램이 종료됩니다.)\n",
        "# Error: can only concatenate str (not \"int\") to str"
      ],
      "metadata": {
        "id": "SCOLL4xuYXnV",
        "colab": {
          "base_uri": "https://localhost:8080/",
          "height": 172
        },
        "outputId": "c31b9028-da66-4f53-8173-4995ab16ad18"
      },
      "execution_count": null,
      "outputs": [
        {
          "output_type": "error",
          "ename": "TypeError",
          "evalue": "ignored",
          "traceback": [
            "\u001b[0;31m---------------------------------------------------------------------------\u001b[0m",
            "\u001b[0;31mTypeError\u001b[0m                                 Traceback (most recent call last)",
            "\u001b[0;32m<ipython-input-356-958c35d67f28>\u001b[0m in \u001b[0;36m<cell line: 1>\u001b[0;34m()\u001b[0m\n\u001b[0;32m----> 1\u001b[0;31m \u001b[0mprint\u001b[0m\u001b[0;34m(\u001b[0m\u001b[0;34m'a'\u001b[0m\u001b[0;34m+\u001b[0m\u001b[0;36m1\u001b[0m\u001b[0;34m)\u001b[0m\u001b[0;34m\u001b[0m\u001b[0;34m\u001b[0m\u001b[0m\n\u001b[0m",
            "\u001b[0;31mTypeError\u001b[0m: can only concatenate str (not \"int\") to str"
          ]
        }
      ]
    },
    {
      "cell_type": "markdown",
      "source": [],
      "metadata": {
        "id": "F_hFq8IoaKO1"
      }
    },
    {
      "cell_type": "markdown",
      "source": [
        "# 예외처리\n",
        "\n",
        "예외(exception)란?\n",
        "- 일반적으로 오류 혹은 에러 라고 불리웁니다.\n",
        "- 프로그램 실행 중에 예외가 발생하면 '비정상종료'가 되는데요\n",
        "- 비정상 종료를 막기 위해서 에러(예외)가 발생된 이후의 문장은 정상적으로 수행하도록 처리하는 방법을 우리는 예외처리 라고 부릅니다.\n",
        "\n",
        "\n",
        "```\n",
        "try:\n",
        "    예외가 발생할 가능성이 있는 코드\n",
        "except:\n",
        "    예외가 발생할 때 실행할 코드\n",
        "except:\n",
        "    예외가 발생할 때 실행할 코드\n",
        "except:\n",
        "    예외가 발생할 때 실행할 코드\n",
        "else:\n",
        "    잘 실행되면 실행할 코드\n",
        "finally:\n",
        "    되든 안되든 반드시 실행할 코드\n",
        "```"
      ],
      "metadata": {
        "id": "Ea5kU3wtcisR"
      }
    },
    {
      "cell_type": "markdown",
      "source": [
        "<img src = \"https://python.bakyeono.net/img/img-9-4.png\">\n",
        "- 참조 : https://python.bakyeono.net/chapter-9-4.html"
      ],
      "metadata": {
        "id": "9YZnprLyeCko"
      }
    },
    {
      "cell_type": "markdown",
      "source": [
        "- 코드를 작성하면서 발생할 수 있는 예외 처리 방법 2가지\n",
        "\n",
        "    1. LBYL(Look Before You Leap)\n",
        "    - 뛰기 전에 확인해라 : 에러가 나기 전에 잘 처리해라\n",
        "    - 코드 실행 전에 예외 발생 없게 미리 검증하고 실행하자\n",
        "    - 발생할 수 있는 모든 예외 상황에 미리 예측하자\n",
        "    - 현실적으로 불가능\n",
        "        - 완벽하게 예외를 예측하고, 전부 처리할 수 없습니다.\n",
        "        - 이게 가능하면 패치, 업데이트 할 필요도 없겠죠\n",
        "\n",
        "    2. EAFP(It's Easier Ask Forgiveness Than Permission)\n",
        "    - 허락보다 용서가 쉽다 : 나고 나면 그 다음으로 잘 넘어가도록 처리해라\n",
        "    - 일단 코드를 실행하고 예외가 발생하면 그때 처리해라\n",
        "    - 파이썬 표준에서는 EAFP 방법을 권장합니다."
      ],
      "metadata": {
        "id": "MmA2-pRUefXi"
      }
    },
    {
      "cell_type": "markdown",
      "source": [
        "# 전통적 방식의 예외처리"
      ],
      "metadata": {
        "id": "aeyN0VMnfsJm"
      }
    },
    {
      "cell_type": "code",
      "source": [
        "# 0 이상의 정수를 입력 받습니다.\n",
        "# 조건을 만족하면 True, 조건을 만족하지 않으면 '잘못 입력하셨습니다.'를 출력합니다.\n",
        "\n",
        "def positive_number():\n",
        "    num = input('0 이상의 정수를 입력하세요: ')\n",
        "\n",
        "    if num.isdigit():\n",
        "        return True\n",
        "\n",
        "    else:\n",
        "        print('잘못 입력하셨습니다.')"
      ],
      "metadata": {
        "id": "OT1lcnf4cZOn"
      },
      "execution_count": null,
      "outputs": []
    },
    {
      "cell_type": "code",
      "source": [
        "positive_number()\n",
        "# KeyboardInterrupt"
      ],
      "metadata": {
        "id": "7Dzfs8l0f3cm",
        "colab": {
          "base_uri": "https://localhost:8080/"
        },
        "outputId": "3c46c862-3fa2-489c-ff91-dbc83369e896"
      },
      "execution_count": null,
      "outputs": [
        {
          "output_type": "stream",
          "name": "stdout",
          "text": [
            "0 이상의 정수를 입력하세요: 1.23\n",
            "잘못 입력하셨습니다.\n"
          ]
        }
      ]
    },
    {
      "cell_type": "markdown",
      "source": [
        "이런 예외를 방지하려면 - 문자열이 10진수로 이루어진 경우에만 변환시키도록 해야됩니다.\n",
        "- 입력값 검증을 해야한다는 거죠"
      ],
      "metadata": {
        "id": "ZL99uZK6gCXF"
      }
    },
    {
      "cell_type": "code",
      "source": [
        "try:\n",
        "    num = input('0 이상의 정수를 입력하세요: ')\n",
        "    # TypeError: '>=' not supported between instances of 'str' and 'int'\n",
        "    if int(num) >= 0 :\n",
        "        print(True)\n",
        "    else:\n",
        "        print('잘못 입력하셨습니다')\n",
        "except TypeError:\n",
        "    print(\"TypeError: '>=' not supported between instances of 'str' and 'int'\")\n",
        "except ValueError:\n",
        "    print(\"ValueError: invalid literal for int() with base 10\")\n",
        "else:\n",
        "    print(f'input 값은 {num}입니다')\n",
        "finally: # 무조건 실행해\n",
        "    print(f'동작 완료')"
      ],
      "metadata": {
        "id": "aM728memgsKE",
        "colab": {
          "base_uri": "https://localhost:8080/"
        },
        "outputId": "05555c6a-ab7d-4453-cf03-d3fb7641aa17"
      },
      "execution_count": null,
      "outputs": [
        {
          "output_type": "stream",
          "name": "stdout",
          "text": [
            "0 이상의 정수를 입력하세요: 십\n",
            "ValueError: invalid literal for int() with base 10\n",
            "동작 완료\n"
          ]
        }
      ]
    },
    {
      "cell_type": "markdown",
      "source": [
        "elif 구문처럼 예외를 여러개 처리할 수도 있습니다."
      ],
      "metadata": {
        "id": "2tg4fvoymyRj"
      }
    },
    {
      "cell_type": "code",
      "source": [
        "try:\n",
        "    num = input('0 이상의 정수를 입력하세요: ')\n",
        "    # TypeError: '>=' not supported between instances of 'str' and 'int'\n",
        "    if int(num) >= 0 :\n",
        "        print(True)\n",
        "    else:\n",
        "        print('잘못 입력하셨습니다')\n",
        "except TypeError as e:\n",
        "    print(e)\n",
        "except ValueError as e:\n",
        "    print(e)\n",
        "\n",
        "except BaseException as e:\n",
        "    print(e)\n",
        "else:\n",
        "    print(f'input 값은 {num}입니다')\n",
        "finally: # 무조건 실행해\n",
        "    print(f'동작 완료')"
      ],
      "metadata": {
        "id": "8qA3xmF3f69U",
        "colab": {
          "base_uri": "https://localhost:8080/"
        },
        "outputId": "d25204d9-c768-41e2-e4a4-f2e982f2e963"
      },
      "execution_count": null,
      "outputs": [
        {
          "output_type": "stream",
          "name": "stdout",
          "text": [
            "Interrupted by user\n",
            "동작 완료\n"
          ]
        }
      ]
    },
    {
      "cell_type": "code",
      "source": [
        "# 서버 안에서 어떤 움직임이 있었는지를 기록해두는 파일 - log\n",
        "# 에러메시지를 로그파일에 저장해두면\n",
        "# 개발자가 로그를 바탕으로 프로그램을 개선할 수 있겠죠"
      ],
      "metadata": {
        "id": "6shDP6Oof-8A"
      },
      "execution_count": null,
      "outputs": []
    },
    {
      "cell_type": "code",
      "source": [
        "TypeError.mro()"
      ],
      "metadata": {
        "id": "uxvdHWf1gLWk",
        "colab": {
          "base_uri": "https://localhost:8080/"
        },
        "outputId": "10aa577f-dc1f-4929-b918-19aaf757f911"
      },
      "execution_count": null,
      "outputs": [
        {
          "output_type": "execute_result",
          "data": {
            "text/plain": [
              "[TypeError, Exception, BaseException, object]"
            ]
          },
          "metadata": {},
          "execution_count": 390
        }
      ]
    },
    {
      "cell_type": "code",
      "source": [
        "# str으로 된 정수를 입력하면 int로 거꾸로 반환해주는 convert(a)라는 함수를 만들고\n",
        "# 날 수 있는 에러를 고려해서 모두  try-except 구문으로 처리해보세요\n",
        "\n",
        "# 입력: '54321'\n",
        "# 출력: 12345"
      ],
      "metadata": {
        "id": "Pl8zvzjogMq8"
      },
      "execution_count": null,
      "outputs": []
    },
    {
      "cell_type": "code",
      "source": [
        "def convert(a):\n",
        "\n",
        "    try:\n",
        "        if type(a) == str and a.isdigit():\n",
        "            a = int(a[::-1])\n",
        "            print(f'변환 값은 {a}입니다.')\n",
        "        else:\n",
        "            print('str으로 된 정수를 입력해주세요')\n",
        "\n",
        "    except (TypeError, ValueError, NameError) as e:\n",
        "        print(e)\n",
        "    except BaseException as e:\n",
        "        print(e)\n",
        "\n",
        "    finally:\n",
        "        print('동작 완료')"
      ],
      "metadata": {
        "id": "KoTaYV_xgN-N"
      },
      "execution_count": null,
      "outputs": []
    },
    {
      "cell_type": "code",
      "source": [
        "try:\n",
        "    convert('54321')\n",
        "except BaseException as e:\n",
        "    print(e)"
      ],
      "metadata": {
        "id": "HNpRYGR4gQns",
        "colab": {
          "base_uri": "https://localhost:8080/"
        },
        "outputId": "1158cbc6-5467-4b2c-efe7-339462eb33ae"
      },
      "execution_count": null,
      "outputs": [
        {
          "output_type": "stream",
          "name": "stdout",
          "text": [
            "변환 값은 12345입니다.\n",
            "동작 완료\n"
          ]
        }
      ]
    },
    {
      "cell_type": "markdown",
      "source": [
        "# 어느 한가지 방법만 이용하지는 않습니다\n",
        "- 두 개 방식을 적절하게 응용해야 합니다.\n",
        "- try, except만으로 모든 예외를 처리할 수는 없습니다 ."
      ],
      "metadata": {
        "id": "z1h-8UuriX57"
      }
    },
    {
      "cell_type": "markdown",
      "source": [
        "# 예외별로 정확한 에러 메시지를 확인"
      ],
      "metadata": {
        "id": "hKr2_McAn2nj"
      }
    },
    {
      "cell_type": "code",
      "source": [],
      "metadata": {
        "id": "S8xjyDrgnDgo"
      },
      "execution_count": null,
      "outputs": []
    },
    {
      "cell_type": "code",
      "source": [],
      "metadata": {
        "id": "_LcH3LO_nO_N"
      },
      "execution_count": null,
      "outputs": []
    },
    {
      "cell_type": "code",
      "source": [],
      "metadata": {
        "id": "DGf0s1QpnRpl"
      },
      "execution_count": null,
      "outputs": []
    },
    {
      "cell_type": "markdown",
      "source": [
        "## 여러개의 예외를 하나로 묶어서 처리"
      ],
      "metadata": {
        "id": "aveCKkolnzWO"
      }
    },
    {
      "cell_type": "code",
      "source": [
        "def convert(a):\n",
        "    a = int((a)[::-1])\n",
        "    print(a)\n",
        "\n",
        "f1 = open('error.log', 'w')\n",
        "\n",
        "try: # 인터프리터는 try 구문 안에 있는 코드들이 실행하는 동안을 지켜봅니다\n",
        "    print(convert(가나다))\n",
        "except (TypeError,  ValueError, NameError) as e: # 유사한 종류의 에러를 묶어서 관리할 수 있습니다\n",
        "    print('뭐가됐건 사용자가 input을 잘못 입력했음')\n",
        "    print(e)\n",
        "except BaseException as e:\n",
        "    print(e)\n",
        "else:\n",
        "    print('잘 수행됨')\n",
        "finally:\n",
        "    print('동작 완료')"
      ],
      "metadata": {
        "id": "UJ9ffEoanWI2",
        "colab": {
          "base_uri": "https://localhost:8080/"
        },
        "outputId": "76d8e484-6b73-413a-cccd-1ff11a9f65d9"
      },
      "execution_count": null,
      "outputs": [
        {
          "output_type": "stream",
          "name": "stdout",
          "text": [
            "뭐가됐건 사용자가 input을 잘못 입력했음\n",
            "name '가나다' is not defined\n",
            "동작 완료\n"
          ]
        }
      ]
    },
    {
      "cell_type": "code",
      "source": [
        "f1 = open('error.log', 'w')\n",
        "f1.write('입력')"
      ],
      "metadata": {
        "id": "KwMo4Fuhnune",
        "colab": {
          "base_uri": "https://localhost:8080/"
        },
        "outputId": "a22bd5d3-1823-4315-fb0a-fc2369e20629"
      },
      "execution_count": null,
      "outputs": [
        {
          "output_type": "execute_result",
          "data": {
            "text/plain": [
              "2"
            ]
          },
          "metadata": {},
          "execution_count": 447
        }
      ]
    },
    {
      "cell_type": "code",
      "source": [
        "f1.close()"
      ],
      "metadata": {
        "id": "b4Q7tj_LnwFO"
      },
      "execution_count": null,
      "outputs": []
    },
    {
      "cell_type": "code",
      "source": [
        "def convert(a):\n",
        "    a = int((a)[::-1])\n",
        "    print(a)\n",
        "\n",
        "f1 = open('error.log', 'w')\n",
        "\n",
        "try: # 인터프리터는 try 구문 안에 있는 코드들이 실행하는 동안을 지켜봅니다\n",
        "    print(convert(가나다))\n",
        "except (TypeError,  ValueError, NameError) as e: # 유사한 종류의 에러를 묶어서 관리할 수 있습니다\n",
        "    print('값을 잘못 입력하셨어요! 다시 입력해주세요!')\n",
        "    print(e, file=f1)\n",
        "except BaseException as e:\n",
        "    print(e)\n",
        "else:\n",
        "    print('잘 수행됨')\n",
        "finally:\n",
        "    f1.close() # 명령이 잘 수행되건 수행되지 않건 log 파일을 닫아줌\n",
        "    print('동작 완료')"
      ],
      "metadata": {
        "colab": {
          "base_uri": "https://localhost:8080/"
        },
        "id": "La8yD0zAhkqJ",
        "outputId": "d8299645-07c0-4d33-9266-789f383204b9"
      },
      "execution_count": null,
      "outputs": [
        {
          "output_type": "stream",
          "name": "stdout",
          "text": [
            "값을 잘못 입력하셨어요! 다시 입력해주세요!\n",
            "동작 완료\n"
          ]
        }
      ]
    },
    {
      "cell_type": "markdown",
      "source": [
        "- 파이썬은 예외도 객체입니다\n",
        "    - 파이썬의 모든 예외 클래스들은 Exception 클래스를 상속받아서 정의가 됩니다\n",
        "\n",
        "- object 클래스는 모든 클래스의 최상위 클래스입니다.\n",
        "- 뭘 만들건 object라는 클래스를 상속해서 정의가 됩니다.\n"
      ],
      "metadata": {
        "id": "MbicUHLYoLZ_"
      }
    },
    {
      "cell_type": "markdown",
      "source": [
        "# 두 숫자 입력받아서 에러 처리"
      ],
      "metadata": {
        "id": "jjnff8MgtbN9"
      }
    },
    {
      "cell_type": "code",
      "source": [],
      "metadata": {
        "id": "dgrouId5rnoI"
      },
      "execution_count": null,
      "outputs": []
    },
    {
      "cell_type": "markdown",
      "source": [
        "# 상황 따라서 같은 입력값도 다른 에러로 처리가 되기 때문에 에러를 미리 발견하는 것은 쉽지 않습니다.\n",
        "# 프로그램이 해당 구문때문에 정지되는 걸 방지하기 위해서 사용하는 거죠"
      ],
      "metadata": {
        "id": "99-632pR0Uwa"
      }
    },
    {
      "cell_type": "code",
      "source": [],
      "metadata": {
        "id": "VNAMj3qrrrH-"
      },
      "execution_count": null,
      "outputs": []
    },
    {
      "cell_type": "markdown",
      "source": [
        "#\n",
        "```\n",
        "try: 긴가민가한 소스크드 넣어줌\n",
        " except : 기본형\n",
        " else: 잘 처리된 경우 실행\n",
        " finally: 뭐가 됐든 실행\n",
        "```\n"
      ],
      "metadata": {
        "id": "Cw63Ffhi1Pn7"
      }
    },
    {
      "cell_type": "markdown",
      "source": [
        "# 예외를 응용하는 경우\n",
        "\n",
        "- EOF 예외처리를 합니다.\n",
        "    - EOL : End of Line (\\n)\n",
        "    - EOF : End Of File\n",
        "        - 파일의 가장 마지막에 들어가는 문자\n",
        "        - 입력이 끝을 표현하는 경우\n",
        "\n",
        "    - 파이썬은 EOF을 처리하지 못합니다.\n",
        "        - 언어의 끝을 예외로 처리합니다.\n",
        "\n",
        "    - 종료를 의미하는 단축키\n",
        "        - 윈 : ctrl + z\n",
        "        - 리눅스, 맥 : ctrl + d\n"
      ],
      "metadata": {
        "id": "ayJHJGiL2Uvu"
      }
    },
    {
      "cell_type": "code",
      "source": [
        "while True:\n",
        "    try:\n",
        "        read = input('c:\\>')\n",
        "        print(read)\n",
        "    # x를 누르면 종료해주세요\n",
        "    except KeyboardInterrupt:\n",
        "        print('실행이 강제 종료1되었습니다')\n",
        "        break\n",
        "    except EOFError:\n",
        "        print('실행이 강제 종료2되었습니다')\n",
        "        break"
      ],
      "metadata": {
        "id": "hpRwgTs42pMf",
        "colab": {
          "base_uri": "https://localhost:8080/"
        },
        "outputId": "1e82d41a-5d0f-4609-864a-7231819845e9"
      },
      "execution_count": null,
      "outputs": [
        {
          "output_type": "stream",
          "name": "stdout",
          "text": [
            "c:\\>\u0004\n",
            "실행이 강제 종료2되었습니다\n"
          ]
        }
      ]
    },
    {
      "cell_type": "code",
      "source": [],
      "metadata": {
        "id": "Fiag-axe2vg_"
      },
      "execution_count": null,
      "outputs": []
    },
    {
      "cell_type": "markdown",
      "source": [
        "#  처리되지 않는 예외\n",
        "- 예외라고 다 처리할 수는 없습니다.\n",
        "- 컴파일 에러\n",
        "    - 파이썬은 컴파일이 아니라 인터프리트 과정에서 발생하는 에러가 있고\n",
        "    - REPL Read -> Evaluation 사이에 (번역)할 때 발생하는 에러\n",
        "    - 문법적인 오류는 이 과정에서 발생하기 때문에\n",
        "    - 예외처리가 되지 않습니다.\n",
        "\n",
        "- 런타임 에러\n",
        "    - 프로그램 실행 중(프로세스) 상태에서 발생하는 에러\n",
        "    - 번역은 끝난 상태(문법 ok) 실행하는 도중에 문제가 발생하는 경우\n",
        "    - Evaluation 중에 발생하는 거죠.\n"
      ],
      "metadata": {
        "id": "VjZjKNDv4JAK"
      }
    },
    {
      "cell_type": "code",
      "source": [],
      "metadata": {
        "id": "fjy4DPC130ok"
      },
      "execution_count": null,
      "outputs": []
    },
    {
      "cell_type": "code",
      "source": [],
      "metadata": {
        "id": "mZxMhZRm5Be3"
      },
      "execution_count": null,
      "outputs": []
    },
    {
      "cell_type": "markdown",
      "source": [
        "# 얘는 class 수업 후에 열어보세요!!!!!\n"
      ],
      "metadata": {
        "id": "FakcnliQ5TvN"
      }
    },
    {
      "cell_type": "markdown",
      "source": [
        "- 일부러 에러를 일으키기도 합니다.\n",
        "\n",
        "  raise 라는 구문을 사용하면 되는데요\n",
        "\n",
        "  - 원래 있던 에러 외에 사용자가 묶어서 처리하기 위해서 특별한 에러를 만들고 싶을 떄 (에러가 아닌 애를 에러 처리 하고 싶을 떄)\n",
        "  - 각각의 에러틑 하나의 클래스(묶음)으로 만들어져 있고, 그 묶음은 Exception이라는 상위 클래스를 상속받는다.\n",
        "  - Exception이라는 클래스를 상속받는 새 에러 묶음을 만들어서 처리한다."
      ],
      "metadata": {
        "id": "7Tkootc764X2"
      }
    },
    {
      "cell_type": "code",
      "source": [
        "# 양수로만 값을 받아서 나누고 싶은데 자꾸 음수 넣는 사람이 있어요\n",
        "# 음수일 때는 에러 -> except로 넘겨버리는 거에요\n",
        "\n",
        "# 새로 에러를 만들고 싶을 때는 해당 클래스를 만들어줘야 합니다.\n",
        "class NegativeDivisionError(Exception):\n",
        "    def __init__(self, value):\n",
        "        self.value = value\n",
        "\n",
        "def PositiveDivide(a, b):\n",
        "    if (b<0):\n",
        "        raise NegativeDivisionError(b) # 사용자가 임의로 에러를 만들어서 에러의 클래스까지 따로 만들어서 처리\n",
        "    return a / b\n",
        "\n",
        "try:\n",
        "    ex = PositiveDivide(3,-11)\n",
        "except ZeroDivisionError as e:\n",
        "        print( e )\n",
        "except NegativeDivisionError as e: # NegativeDivisionError: -11\n",
        "        print( e )\n",
        "except Exception as e:\n",
        "    print( e )\n",
        "\n"
      ],
      "metadata": {
        "colab": {
          "base_uri": "https://localhost:8080/"
        },
        "id": "T_BQIOIm5P4n",
        "outputId": "ea9c998d-2c9a-4788-a93a-9e6da9cc1c0f"
      },
      "execution_count": null,
      "outputs": [
        {
          "output_type": "stream",
          "name": "stdout",
          "text": [
            "-11\n"
          ]
        }
      ]
    },
    {
      "cell_type": "code",
      "source": [],
      "metadata": {
        "id": "6hrC48Vw6Dtv"
      },
      "execution_count": null,
      "outputs": []
    },
    {
      "cell_type": "code",
      "source": [],
      "metadata": {
        "id": "MoVM62aW2Eao"
      },
      "execution_count": null,
      "outputs": []
    },
    {
      "cell_type": "markdown",
      "source": [
        "5. 아래 코드에서 발생할 예외를 예측하고, try, except 구문으로 해당 예외를 처리해주세요.\n",
        "```\n",
        "alist = [\"a\", \"1\", \"c\"]\n",
        "blist = [\"b\", \"2\", \"d\"]\n",
        "for a, b in enumerate(zip(alist, blist)): print(b[a])\n",
        "```"
      ],
      "metadata": {
        "id": "9BzFKhtHH-tW"
      }
    },
    {
      "cell_type": "code",
      "source": [],
      "metadata": {
        "id": "MFSo4BuaKi8f"
      },
      "execution_count": null,
      "outputs": []
    },
    {
      "cell_type": "code",
      "source": [],
      "metadata": {
        "id": "JaVi1VfnkLfs"
      },
      "execution_count": null,
      "outputs": []
    },
    {
      "cell_type": "code",
      "source": [],
      "metadata": {
        "id": "FeOK_jQrkTaR"
      },
      "execution_count": null,
      "outputs": []
    },
    {
      "cell_type": "code",
      "source": [],
      "metadata": {
        "id": "pFvcrBkXkhxr"
      },
      "execution_count": null,
      "outputs": []
    },
    {
      "cell_type": "markdown",
      "source": [
        "6. 아래 코드에서 발생할 예외를 예측하고, try, except 구문으로 해당 예외를 처리해주세요.\n",
        "\n",
        "- 그리고 에러 없이 잘 실행되었으면 '실행이 완료되었습니다',\n",
        "- 실행이 완료되든 완료되지 않든 '종료되었습니다'라는 문구가 함께 출력되도록 처리해주세요.\n",
        "\n",
        "```\n",
        "    for i in range(1, 7):\n",
        "        result = 7 // i\n",
        "        print(result)\n",
        "```"
      ],
      "metadata": {
        "id": "WnKdLAENIQ-O"
      }
    },
    {
      "cell_type": "code",
      "source": [],
      "metadata": {
        "id": "JGzig57tlPZa"
      },
      "execution_count": null,
      "outputs": []
    },
    {
      "cell_type": "code",
      "source": [],
      "metadata": {
        "id": "9cwetqJRIjCH"
      },
      "execution_count": null,
      "outputs": []
    },
    {
      "cell_type": "markdown",
      "source": [
        "7. 아래 코드에서 발생할 예외를 예측하고, try, except 구문으로 해당 예외를 처리해주세요.\n",
        "\n",
        "```\n",
        " f = open('testex.txt', 'r')\n",
        " ```"
      ],
      "metadata": {
        "id": "rU6_hGTjL-rh"
      }
    },
    {
      "cell_type": "code",
      "source": [],
      "metadata": {
        "id": "ZHbKQaueL-Jr"
      },
      "execution_count": null,
      "outputs": []
    },
    {
      "cell_type": "code",
      "source": [],
      "metadata": {
        "id": "48VIyPV2lxey"
      },
      "execution_count": null,
      "outputs": []
    },
    {
      "cell_type": "markdown",
      "source": [],
      "metadata": {
        "id": "yIgHNL8uo7Ia"
      }
    },
    {
      "cell_type": "markdown",
      "source": [
        "\n",
        "# 객체지향 프로그래밍\n",
        "- OOP (Object Oriented Programming)\n",
        "- 언어는 언어이고 OOP는 개발 방법론 중에 하나일 뿐입니다.\n",
        "    - 소프트웨어를 관리하고 개발하는 전체 과정에 대한 얘기\n",
        "    - 객체지향은 개념(기술, 정의)일 분입니다.\n",
        "    - 소프트웨어 공학\n",
        "        - 기획 -> 요구사항분석 -> 설계 -> 개발 -> 베포 -> 유지보수\n",
        "        - 클래스나 객체는 소프트웨어를 기획하고, 만들고, 관리하는 방법일 뿐입니다.\n",
        "\n",
        "\n",
        "        - 파이썬에만 있지 않습니다.\n",
        "        - 파이썬은 완벽한 객체지향 언어도 아닙니다. __ -> 숨어있는것으로 한다 라고 약속했다고\n",
        "\n",
        "<img src=\"https://t1.daumcdn.net/cfile/tistory/993D2F415DFF07E522\">\n",
        "https://t1.daumcdn.net/cfile/tistory/993D2F415DFF07E522\n",
        "\n",
        "\n",
        "TV를 보는 사람\n",
        " - TV - 켜다 / 사람 - 보다 / 소파 -  기대게 해줌\n",
        "\n",
        "TV를 옮기는 사람\n",
        "- TV - 50KG / 사람 - 들다 / 소파 - 필요없음\n",
        "\n",
        "\n",
        "```\n",
        "- TV (객체1)\n",
        "    - 동작(기능) = 메소드, 함수\n",
        "        - 켜다\n",
        "        - 끄다\n",
        "        - 소리를 키우다\n",
        "        - 채널을 돌리다\n",
        "\n",
        "    - 속성 = 데이터\n",
        "        - LED\n",
        "        - 50KG\n",
        "        - 검은색\n",
        "\n",
        "- 사람 (객체2)\n",
        "  - 먹다\n",
        "  - 보다\n",
        "  - 듣다\n",
        "  - 프로그래밍하다\n",
        "  - 성별\n",
        "  - 몸무게 NKG\n",
        "\n",
        "- 소파 (객체3)\n",
        "   - 흰색\n",
        "   - 100KG\n",
        "```\n",
        "\n",
        "\n",
        "# 클래스\n",
        "    - 사용자가 정의하는 새로운 타입\n",
        "    - int, bool, str, float, list, tuple, range .... -> 파이썬에서 미리 만들어둔 클래스들입니다.\n",
        "    - 이렇게 파이썬이 자체 제공하는 클래스(사람들이 자주 사용하는 클래스) 외에도 사용자가 직접 타입을 지정할 수 있습니다.\n",
        "    -> 새로운 클래스를 만들어서\n",
        "\n",
        "    - 파이썬은 클래스가 아닌 게 없습니다 - 함수도 클래스로 정의되어 있습니다.\n",
        "\n",
        "```\n",
        "class ClassName:\n",
        "    클래스 블록\n",
        "```\n",
        "\n",
        "- 클래스 외에 모든 변수, 함수명은 snake_case를 권장합니다.\n",
        "- 클래스는 첫 글자부터 대문자로 시작해서 띄어쓰기 대신 대문자를 사용하는 CamelCase를 권장합니다.\n",
        "- 안 해도 동작은 하지만 약속입니다.\n",
        "    - 클래스는 함수, 변수를 담는 존재기 때문에 크게 간다\n",
        "    - int, float, list 왜 소문자냐면 잘 알려져 있는 파이썬의 기본 클래스이기 때문에 그냥 소문자로 표현합니다.\n",
        "\n",
        "# 객체\n",
        "\n",
        "- object 또는 instance\n",
        "- 변수의 확장된 형태\n",
        "    - 클래스도 객체로 다뤄지긴 합니다\n",
        "- 클래스는 정의\n",
        "- 객체는 클래스를 통해 만들어진 애들도 객체라고 부릅니다.\n",
        "\n",
        "```\n",
        "__main__.Person              at        0x7fd9a2167e50\n",
        "________________                       _______________\n",
        "객체의 타입(어떤 클래스인지)        객체의 주소\n",
        "```\n",
        "\n",
        "### 비교. 함수와 메소드\n",
        "- 엄격하게 구분해서\n",
        "- 객체 안에 만들어진 함수는 메소드\n",
        "- 근데 파이썬에는 혼용해서 많이 쓰입니다. 걍 '함수'\n",
        "\n",
        "# 객체와 인스턴스\n",
        "\n",
        "- 클래스로 만든 객체를 인스턴스라고 부릅니다.\n",
        "- 우영우 = Person() 이렇게 만든 우영우는 우영우만 따로 불리울 때는 객체 라고 부르고요\n",
        "\n",
        "- 인스턴스는 **클래스와 객체의 관계**를 설명할 때 주로 쓰여요.\n",
        "- 우영우는 Person의 인스턴스라고 부릅니다.\n",
        "\n",
        "- 우영우만 부를 때는 '우영우는 객체' 라고 부르고\n",
        "- Person과의 관계를 부를 때는 '우영우는 Person의 인스턴스'라고 보통 부릅니다.\n",
        "\n",
        "\n",
        "```\n",
        "클래스는 설계도 객체는 설계도로 지은집\n",
        "\n",
        "집과 설계도의 관계를 설명할 때는\n",
        "- 집은 설계도의 인스턴스\n",
        "```"
      ],
      "metadata": {
        "id": "DL46sYZfsbB9"
      }
    },
    {
      "cell_type": "code",
      "source": [],
      "metadata": {
        "id": "Jfx73m3OmfZ7"
      },
      "execution_count": null,
      "outputs": []
    },
    {
      "cell_type": "code",
      "source": [],
      "metadata": {
        "id": "AOWFWGxCwErt"
      },
      "execution_count": null,
      "outputs": []
    },
    {
      "cell_type": "code",
      "source": [],
      "metadata": {
        "id": "HNIi5c-Rz-Lw"
      },
      "execution_count": null,
      "outputs": []
    },
    {
      "cell_type": "code",
      "source": [],
      "metadata": {
        "id": "Ys9zPkG1z_vU"
      },
      "execution_count": null,
      "outputs": []
    },
    {
      "cell_type": "code",
      "source": [],
      "metadata": {
        "id": "QOQtn7tSyMw2"
      },
      "execution_count": null,
      "outputs": []
    },
    {
      "cell_type": "code",
      "source": [],
      "metadata": {
        "id": "88AUvcev0COz"
      },
      "execution_count": null,
      "outputs": []
    },
    {
      "cell_type": "markdown",
      "source": [
        "# 우리가 지금까지 만들어온 변수들과 a는 같은 원리로 만들어집니다.\n",
        "- 일반적으로 객체 지향 프로그래밍에서는 변수를 하나의 객체로 취급합니다\n",
        "- 변수와 객체는 같은 뜻으로 많이 쓰입니다."
      ],
      "metadata": {
        "id": "4802N7QxyAdd"
      }
    },
    {
      "cell_type": "code",
      "source": [],
      "metadata": {
        "id": "GTAHd9b9sWEq"
      },
      "execution_count": null,
      "outputs": []
    },
    {
      "cell_type": "code",
      "source": [],
      "metadata": {
        "id": "KZhwQDcPxiAU"
      },
      "execution_count": null,
      "outputs": []
    },
    {
      "cell_type": "code",
      "source": [],
      "metadata": {
        "id": "thgU8-7zyK90"
      },
      "execution_count": null,
      "outputs": []
    },
    {
      "cell_type": "code",
      "source": [],
      "metadata": {
        "id": "calj6q6H0hwS"
      },
      "execution_count": null,
      "outputs": []
    },
    {
      "cell_type": "code",
      "source": [],
      "metadata": {
        "id": "ZLuQn1ln0mga"
      },
      "execution_count": null,
      "outputs": []
    },
    {
      "cell_type": "markdown",
      "source": [
        "얕은 복사 vs 깊은 복사\n",
        "- 리스트로 객체고 새로 정의한 Person도 객체이기 때문에\n",
        "- 동작방식은 동일합니다."
      ],
      "metadata": {
        "id": "GUVp-5OQ0tJc"
      }
    },
    {
      "cell_type": "code",
      "source": [],
      "metadata": {
        "id": "Ytdkj9HK0osv"
      },
      "execution_count": null,
      "outputs": []
    },
    {
      "cell_type": "code",
      "source": [],
      "metadata": {
        "id": "xOzi7K2802Go"
      },
      "execution_count": null,
      "outputs": []
    },
    {
      "cell_type": "code",
      "source": [],
      "metadata": {
        "id": "YyJ1v7Gs06NS"
      },
      "execution_count": null,
      "outputs": []
    },
    {
      "cell_type": "code",
      "source": [],
      "metadata": {
        "id": "iXAzSgRG076_"
      },
      "execution_count": null,
      "outputs": []
    },
    {
      "cell_type": "code",
      "source": [],
      "metadata": {
        "id": "P6VcuiJ809tQ"
      },
      "execution_count": null,
      "outputs": []
    },
    {
      "cell_type": "markdown",
      "source": [
        "파이썬에서는 모두 주소 기준으로 구분되기 때문에\n",
        "\n",
        "    - 변수, 함수, 클래스, 객체 모두 다 메모리 주소(위치) 기준으로 구분\n",
        "    - 같아 보이는 객체도 주소가 다르면 다른 객체\n",
        "    - 달라보이는 객체도 주소가 같으면 같은 객체 입니다."
      ],
      "metadata": {
        "id": "lJ0HAwwH1Kic"
      }
    },
    {
      "cell_type": "code",
      "source": [],
      "metadata": {
        "id": "h4rS2c5T1T16"
      },
      "execution_count": null,
      "outputs": []
    },
    {
      "cell_type": "code",
      "source": [],
      "metadata": {
        "id": "4wuVfC5H1Y6m"
      },
      "execution_count": null,
      "outputs": []
    },
    {
      "cell_type": "code",
      "source": [],
      "metadata": {
        "id": "2pf3Gy9T1XlU"
      },
      "execution_count": null,
      "outputs": []
    },
    {
      "cell_type": "code",
      "source": [],
      "metadata": {
        "id": "suMVC4SR1pCz"
      },
      "execution_count": null,
      "outputs": []
    },
    {
      "cell_type": "code",
      "source": [],
      "metadata": {
        "id": "2oTiPeUu1qds"
      },
      "execution_count": null,
      "outputs": []
    },
    {
      "cell_type": "code",
      "source": [],
      "metadata": {
        "id": "8aUrFkBA1w80"
      },
      "execution_count": null,
      "outputs": []
    },
    {
      "cell_type": "markdown",
      "source": [
        "- 클래스는 함수랑 동일한 개념\n",
        "    - 함수를 정의하고(def 함수명() ) 호출하면 실행 (메모리 생성)\n",
        "    - 클래스를 정의하고 (class 클래스명) 클래스 대한 메모리(객체)를 생성\n",
        "\n",
        "- '호출'하면 객체를 생성할 수 있습니다.\n",
        "- 함수는 실행이 끝나면 메모리를 반환하고 종료 (지역변수가 없어지듯)\n",
        "- 객체는 클래스를 통해 만들고 나면 종료되지 않습니다. 임의로 삭제하기 전에는 계속 남아있습니다.\n",
        "\n",
        "- 메모리에 남아있는 모든 것 : 객체\n",
        "- 파이썬은 모든 것이 객체"
      ],
      "metadata": {
        "id": "XY8sgXeU4hz_"
      }
    },
    {
      "cell_type": "markdown",
      "source": [
        "# 클래스의 구조\n",
        "- 속성과 기능으로 정의될 수 있습니다.\n",
        "    - 클래스 내부에 정의되는 변수 : 클래스의 속성\n",
        "    - 클래스 내부에 정의되는 함수 : 클래스의 기능\n",
        "\n",
        "- 한 클래스에는 여러개의 속성과 기능을 담을 수 있습니다.\n",
        "    - Person\n",
        "        - 사람이 가지고 있는 특성 : 이름, 나이, 국적, 성별, .....\n",
        "        - 사람이 가지고 있는 기능 : 먹다, 마시다, 자다, 깨다, 일하다, 놀다, ....\n",
        "\n",
        "    - 리스트 라는 클래스:\n",
        "        - 속성: 원소.. [ 1. 1. 1....]\n",
        "        - 기능: append, extend, insert, reverse....\n",
        "\n",
        "- 클래스 내에 정의횐 함수 : 메소드\n",
        "    - 표현만 다르고 동작은 똑같습니다.\n",
        "\n",
        "- 클래스 내에 정의된 변수\n",
        "    - 클래스 변수 - 클래스 내에서 정의되는 변수\n",
        "    - 객체 변수 - 객체 내에서 정의되는 변수"
      ],
      "metadata": {
        "id": "sS4HfDJo5J2v"
      }
    },
    {
      "cell_type": "code",
      "source": [],
      "metadata": {
        "id": "hIzQuwOP5JSc"
      },
      "execution_count": null,
      "outputs": []
    },
    {
      "cell_type": "code",
      "source": [],
      "metadata": {
        "id": "_NKbTnaR5Dm4"
      },
      "execution_count": null,
      "outputs": []
    },
    {
      "cell_type": "markdown",
      "source": [
        "# 객체변수\n",
        "    - 객체가 없으면 속성도 넣을 수 없습니다\n",
        "        - 객체가 생성된 후에 넣을 수 있습니다.\n",
        "    - 같은 타입이라고 해도 객체/객체 간에 객체변수를 서로 공유하지 않습니다.\n",
        "\n",
        "    - 객체 고유의 변수\n",
        "    - 함수 고유 메모리 생성되는 변수 - 지역변수이듯\n",
        "    - 객체 고유 메모리에 생성되는 변수 - 객체변수\n"
      ],
      "metadata": {
        "id": "k2hTBbge6q_7"
      }
    },
    {
      "cell_type": "code",
      "source": [],
      "metadata": {
        "id": "nhyyGn6E58jO"
      },
      "execution_count": null,
      "outputs": []
    },
    {
      "cell_type": "code",
      "source": [],
      "metadata": {
        "id": "PFk1Hibs7Rv0"
      },
      "execution_count": null,
      "outputs": []
    },
    {
      "cell_type": "code",
      "source": [],
      "metadata": {
        "id": "hox4L6587W38"
      },
      "execution_count": null,
      "outputs": []
    },
    {
      "cell_type": "code",
      "source": [],
      "metadata": {
        "id": "KDuIV2_V8Emk"
      },
      "execution_count": null,
      "outputs": []
    },
    {
      "cell_type": "code",
      "source": [],
      "metadata": {
        "id": "7M4BEZJy8GlF"
      },
      "execution_count": null,
      "outputs": []
    },
    {
      "cell_type": "code",
      "source": [],
      "metadata": {
        "id": "a3yE95KE8LWz"
      },
      "execution_count": null,
      "outputs": []
    },
    {
      "cell_type": "code",
      "source": [],
      "metadata": {
        "id": "25Yzcqq87a1o"
      },
      "execution_count": null,
      "outputs": []
    },
    {
      "cell_type": "code",
      "source": [],
      "metadata": {
        "id": "t_wbbLlo70mU"
      },
      "execution_count": null,
      "outputs": []
    },
    {
      "cell_type": "markdown",
      "source": [
        "# 클래스 변수\n",
        "    - 객체와는 무관한 변수\n",
        "        - 객체 없이도 참조 가능한 변수\n",
        "    - 클래스 내부에 정의를 하면 클래스 메소드\n",
        "    - 공유변수\n",
        "        - 모든 객체가 하나의 동일한 클래스 변수를 참조"
      ],
      "metadata": {
        "id": "GZb0SfyI7-Nm"
      }
    },
    {
      "cell_type": "code",
      "source": [],
      "metadata": {
        "id": "MZ4X9bLz9CXd"
      },
      "execution_count": null,
      "outputs": []
    },
    {
      "cell_type": "code",
      "source": [],
      "metadata": {
        "id": "Gid-tvLN71WQ"
      },
      "execution_count": null,
      "outputs": []
    },
    {
      "cell_type": "code",
      "source": [],
      "metadata": {
        "id": "il3G7f9g8x5M"
      },
      "execution_count": null,
      "outputs": []
    },
    {
      "cell_type": "code",
      "source": [],
      "metadata": {
        "id": "6OfRsjE2_Xby"
      },
      "execution_count": null,
      "outputs": []
    },
    {
      "cell_type": "code",
      "source": [],
      "metadata": {
        "id": "Mkrp4mkI84Bk"
      },
      "execution_count": null,
      "outputs": []
    },
    {
      "cell_type": "code",
      "source": [],
      "metadata": {
        "id": "wMg0FnR59IxE"
      },
      "execution_count": null,
      "outputs": []
    },
    {
      "cell_type": "code",
      "source": [],
      "metadata": {
        "id": "EwPeKIM-_h3R"
      },
      "execution_count": null,
      "outputs": []
    },
    {
      "cell_type": "code",
      "source": [],
      "metadata": {
        "id": "qi75H1Z2_kPx"
      },
      "execution_count": null,
      "outputs": []
    },
    {
      "cell_type": "code",
      "source": [],
      "metadata": {
        "id": "-oIVEeiB_moz"
      },
      "execution_count": null,
      "outputs": []
    },
    {
      "cell_type": "markdown",
      "source": [
        "# 파이썬은 객체를 통해서 클래스 변수에 대한 참조가 가능합니다."
      ],
      "metadata": {
        "id": "pjZ9ZGUX9UY1"
      }
    },
    {
      "cell_type": "code",
      "source": [],
      "metadata": {
        "id": "w_-B3_Ww8-PU"
      },
      "execution_count": null,
      "outputs": []
    },
    {
      "cell_type": "code",
      "source": [],
      "metadata": {
        "id": "-r8wLwH-9ZiM"
      },
      "execution_count": null,
      "outputs": []
    },
    {
      "cell_type": "code",
      "source": [],
      "metadata": {
        "id": "llT2Bt5j_qOP"
      },
      "execution_count": null,
      "outputs": []
    },
    {
      "cell_type": "code",
      "source": [],
      "metadata": {
        "id": "SIiZkoY19dDl"
      },
      "execution_count": null,
      "outputs": []
    },
    {
      "cell_type": "code",
      "source": [],
      "metadata": {
        "id": "fLkXMwL1_ybT"
      },
      "execution_count": null,
      "outputs": []
    },
    {
      "cell_type": "code",
      "source": [],
      "metadata": {
        "id": "fIxHsEAG_zWb"
      },
      "execution_count": null,
      "outputs": []
    },
    {
      "cell_type": "code",
      "source": [],
      "metadata": {
        "id": "s94aGyGu9jRc"
      },
      "execution_count": null,
      "outputs": []
    },
    {
      "cell_type": "code",
      "source": [],
      "metadata": {
        "id": "Prd39shR9ob1"
      },
      "execution_count": null,
      "outputs": []
    },
    {
      "cell_type": "code",
      "source": [],
      "metadata": {
        "id": "d0mIT43gBEqd"
      },
      "execution_count": null,
      "outputs": []
    },
    {
      "cell_type": "code",
      "source": [],
      "metadata": {
        "id": "kGZK799FDedu"
      },
      "execution_count": null,
      "outputs": []
    },
    {
      "cell_type": "code",
      "source": [],
      "metadata": {
        "id": "nvKLmtNODnak"
      },
      "execution_count": null,
      "outputs": []
    },
    {
      "cell_type": "code",
      "source": [],
      "metadata": {
        "id": "Ol2kbkjdEcll"
      },
      "execution_count": null,
      "outputs": []
    },
    {
      "cell_type": "markdown",
      "source": [
        "a라고 변수명을 지정하지 않았을 뿐 아래 2개 동작을 순차 실행한 것과 같습니다."
      ],
      "metadata": {
        "id": "lBMzMib6GmMA"
      }
    },
    {
      "cell_type": "code",
      "source": [],
      "metadata": {
        "id": "3OtoU8ERDw8V"
      },
      "execution_count": null,
      "outputs": []
    },
    {
      "cell_type": "code",
      "source": [],
      "metadata": {
        "id": "WJJXzmRWE3d9"
      },
      "execution_count": null,
      "outputs": []
    },
    {
      "cell_type": "markdown",
      "source": [
        "그래서 클래스 변수는 그대로"
      ],
      "metadata": {
        "id": "H1VK2dTsGrh9"
      }
    },
    {
      "cell_type": "code",
      "source": [],
      "metadata": {
        "id": "V-Td_RMKD0Mx"
      },
      "execution_count": null,
      "outputs": []
    },
    {
      "cell_type": "markdown",
      "source": [
        "이래서 클래스 변수에 객체 변수를 통해 접근하면 문제가 생깁니다!"
      ],
      "metadata": {
        "id": "01K6mFmfGuqB"
      }
    },
    {
      "cell_type": "markdown",
      "source": [
        "클래스 변수는 클래스를 통해서만 접근하도록 합니다.\n",
        "- 객체를 통해서 클래스 변수를 참조해야 하는 상황은 없죠.\n",
        "- 파이썬이 허용한다고 해도 사용하지 않는 것이 좋습니다.\n",
        "- 클래스 변수는 클래스를 통해 참조하고\n",
        "- 객체 변수는 객체 변수를 통해 참조하도록 프로그래밍 하셔야 합니다."
      ],
      "metadata": {
        "id": "LGzmG_3KAKgF"
      }
    },
    {
      "cell_type": "code",
      "source": [],
      "metadata": {
        "id": "w8A6gAi5UCnR"
      },
      "execution_count": null,
      "outputs": []
    },
    {
      "cell_type": "code",
      "source": [],
      "metadata": {
        "id": "mI9bZdjEUGkx"
      },
      "execution_count": null,
      "outputs": []
    },
    {
      "cell_type": "code",
      "source": [],
      "metadata": {
        "id": "01Fo7DnuUItx"
      },
      "execution_count": null,
      "outputs": []
    },
    {
      "cell_type": "code",
      "source": [],
      "metadata": {
        "id": "mCMEmwq5UM5G"
      },
      "execution_count": null,
      "outputs": []
    },
    {
      "cell_type": "code",
      "source": [],
      "metadata": {
        "id": "-RPUZzfhUcXm"
      },
      "execution_count": null,
      "outputs": []
    },
    {
      "cell_type": "code",
      "source": [],
      "metadata": {
        "id": "3Jpac3IWUPWY"
      },
      "execution_count": null,
      "outputs": []
    },
    {
      "cell_type": "markdown",
      "source": [
        "# 메소드\n",
        "- 클래스 안에 넣은 함수\n",
        "- 클래스 내에서 정의된 함수와 구분하기 위해 다르게 부릅니다\n",
        "- 함수로서의 특징은 동일합니다."
      ],
      "metadata": {
        "id": "UIf42m5NAu7s"
      }
    },
    {
      "cell_type": "code",
      "source": [],
      "metadata": {
        "id": "Ra_Pxmto-B1h"
      },
      "execution_count": null,
      "outputs": []
    },
    {
      "cell_type": "code",
      "source": [],
      "metadata": {
        "id": "SQDsqWw_VPjN"
      },
      "execution_count": null,
      "outputs": []
    },
    {
      "cell_type": "code",
      "source": [],
      "metadata": {
        "id": "u0lGvXSPVTRO"
      },
      "execution_count": null,
      "outputs": []
    },
    {
      "cell_type": "code",
      "source": [],
      "metadata": {
        "id": "DNwGxtHtVgGI"
      },
      "execution_count": null,
      "outputs": []
    },
    {
      "cell_type": "code",
      "source": [],
      "metadata": {
        "id": "wiQNlJqoBDCU"
      },
      "execution_count": null,
      "outputs": []
    },
    {
      "cell_type": "code",
      "source": [],
      "metadata": {
        "id": "uhdPkJFsVmzl"
      },
      "execution_count": null,
      "outputs": []
    },
    {
      "cell_type": "code",
      "source": [],
      "metadata": {
        "id": "HRjRtgIgWBsK"
      },
      "execution_count": null,
      "outputs": []
    },
    {
      "cell_type": "code",
      "source": [],
      "metadata": {
        "id": "VC4o5rz0WEi4"
      },
      "execution_count": null,
      "outputs": []
    },
    {
      "cell_type": "markdown",
      "source": [
        "# 파이썬의 얕은복사 때문에 생기는 클래스-객체 사이의 접근 혼란을 막기 위해서 사용하는 방법들"
      ],
      "metadata": {
        "id": "BbmCMnXbWQ_U"
      }
    },
    {
      "cell_type": "markdown",
      "source": [
        "# self?\n",
        "- 객체 자기 자신을 의미합니다.- 클래스에서 찍어냈지만 클래스에서 분리된 객체 자기 자신\n",
        "    - 객체 자기 자신?\n",
        "    - 함수가 호출이 되면 함수를 실행 -> 메모리에 생성\n",
        "    - 메소드(클래스 안에 만든 함수)는 어디서 실행될까요?\n",
        "        - 객체가 먼저 만들어져야 메소드를 호출 -> 실행 -> 메모리에 생성\n",
        "        - 객체가 생성되는 시점과 메소드가 호출이 되어 메모리에 만들어지는 시점이 다르게 됩니다.\n",
        "    - 메소드를 호출할 때, 어느 객체가 호출했는지 파악해서\n",
        "    - 파라메터를 통해서 객체를 전달 - self\n",
        "    - 인터프리터가 자동으로 전달합니다.\n",
        "\n",
        "- 메소드는 반드시 첫번째 파라메터로 self 를 정의해줘야 클래스 안에 들어있는 여러 객체들 중 누가 호출당해서 메소드를 실행해야 하는지 파악할 수 있습니다.\n",
        "\n",
        "- 메소드는 self를 통해서 호출한 객체를 구분합니다.\n"
      ],
      "metadata": {
        "id": "hF8hLijEBTFt"
      }
    },
    {
      "cell_type": "code",
      "source": [],
      "metadata": {
        "id": "SUKWy51nGx1V"
      },
      "execution_count": null,
      "outputs": []
    },
    {
      "cell_type": "code",
      "source": [],
      "metadata": {
        "id": "HUvwNCi9YGhH"
      },
      "execution_count": null,
      "outputs": []
    },
    {
      "cell_type": "code",
      "source": [],
      "metadata": {
        "id": "z8vZ5fOsYTug"
      },
      "execution_count": null,
      "outputs": []
    },
    {
      "cell_type": "code",
      "source": [],
      "metadata": {
        "id": "KYCvR3dsYmLP"
      },
      "execution_count": null,
      "outputs": []
    },
    {
      "cell_type": "code",
      "source": [],
      "metadata": {
        "id": "g3AVoW2dYVuw"
      },
      "execution_count": null,
      "outputs": []
    },
    {
      "cell_type": "code",
      "source": [],
      "metadata": {
        "id": "tpeYbDAPYh92"
      },
      "execution_count": null,
      "outputs": []
    },
    {
      "cell_type": "code",
      "source": [],
      "metadata": {
        "id": "454JnUP2Yjuv"
      },
      "execution_count": null,
      "outputs": []
    },
    {
      "cell_type": "markdown",
      "source": [
        "같은 표현\n",
        "- 객체.속성 이랑 self.속성은 같은 뜻을 의마합니다. (self = id주소니까요)\n",
        "    - 객체를 통해서 속성(변수)에 대한 참조를 하는 것과\n",
        "    - 메소드 내에서 self로 속성(변수)에 대한 참조를 하는 것은 결국 같습니다."
      ],
      "metadata": {
        "id": "Y7WpzXW8ZRs6"
      }
    },
    {
      "cell_type": "markdown",
      "source": [
        "- self 이외에 파라미터가 필요한 경우라면?\n",
        "- 나머지는 입력값을 전달받습니다."
      ],
      "metadata": {
        "id": "htQRLFghaUbn"
      }
    },
    {
      "cell_type": "code",
      "source": [],
      "metadata": {
        "id": "mOaup4WqY-M4"
      },
      "execution_count": null,
      "outputs": []
    },
    {
      "cell_type": "code",
      "source": [],
      "metadata": {
        "id": "DiVDnmCYZvy4"
      },
      "execution_count": null,
      "outputs": []
    },
    {
      "cell_type": "code",
      "source": [],
      "metadata": {
        "id": "9roZxUylal-R"
      },
      "execution_count": null,
      "outputs": []
    },
    {
      "cell_type": "code",
      "source": [],
      "metadata": {
        "id": "Vv9Lf8cXaoow"
      },
      "execution_count": null,
      "outputs": []
    },
    {
      "cell_type": "code",
      "source": [],
      "metadata": {
        "id": "TtcWZVDjayNo"
      },
      "execution_count": null,
      "outputs": []
    },
    {
      "cell_type": "code",
      "source": [],
      "metadata": {
        "id": "-M_ZUyZzbENo"
      },
      "execution_count": null,
      "outputs": []
    },
    {
      "cell_type": "code",
      "source": [],
      "metadata": {
        "id": "obbmzHiQbGBo"
      },
      "execution_count": null,
      "outputs": []
    },
    {
      "cell_type": "markdown",
      "source": [
        "## 실습. Car라는 클래스를 만들어주세요.\n",
        "- 그리고 morning이라는 인스턴스를 하나 만들어주세요\n",
        "- mormning이라는 인스턴스는 '정기검사를 받으셔야 합니다'라는 안내메시지가 출력되는 check라는 메소드를 실행할 수 있습니다."
      ],
      "metadata": {
        "id": "JIz4FGMsbiZf"
      }
    },
    {
      "cell_type": "code",
      "source": [],
      "metadata": {
        "id": "X2s1fr2tbGtp"
      },
      "execution_count": null,
      "outputs": []
    },
    {
      "cell_type": "code",
      "source": [],
      "metadata": {
        "id": "C6GwAUXwcxPw"
      },
      "execution_count": null,
      "outputs": []
    },
    {
      "cell_type": "code",
      "source": [],
      "metadata": {
        "id": "kwQBzZBvdnJw"
      },
      "execution_count": null,
      "outputs": []
    },
    {
      "cell_type": "code",
      "source": [],
      "metadata": {
        "id": "g7SepWXmd-Tw"
      },
      "execution_count": null,
      "outputs": []
    },
    {
      "cell_type": "code",
      "source": [],
      "metadata": {
        "id": "DK2k9uYMeCpQ"
      },
      "execution_count": null,
      "outputs": []
    },
    {
      "cell_type": "code",
      "source": [],
      "metadata": {
        "id": "ynyL4BNQeLl_"
      },
      "execution_count": null,
      "outputs": []
    },
    {
      "cell_type": "markdown",
      "source": [
        "- 본인의 드림카를 인스턴스 명으로 하여 여러 속성을 출력해주세요"
      ],
      "metadata": {
        "id": "2jMUDUxeFt2Y"
      }
    },
    {
      "cell_type": "markdown",
      "source": [
        "# 특별한 메소드들\n",
        "- 매직 메소드\n",
        "    - 특별한 의미를 가지고 있는 미리 정의된 메소드들이 있습니다.\n",
        "    - 메소드 이름 앞뒤에 __(더블언더바, 던더, 더블언더스코어)가 붙어있는 메소드\n",
        "    - 던더 메소드"
      ],
      "metadata": {
        "id": "TpR6HC_leY1D"
      }
    },
    {
      "cell_type": "code",
      "source": [],
      "metadata": {
        "id": "X2U-dnkueQTf"
      },
      "execution_count": null,
      "outputs": []
    },
    {
      "cell_type": "code",
      "source": [],
      "metadata": {
        "id": "QXsLW0tZe3xJ"
      },
      "execution_count": null,
      "outputs": []
    },
    {
      "cell_type": "code",
      "source": [],
      "metadata": {
        "id": "NT-tHvhye58H"
      },
      "execution_count": null,
      "outputs": []
    },
    {
      "cell_type": "markdown",
      "source": [
        "# 생성자\n",
        "- Constructor  : `__init__`\n",
        "- 객체가 생성될 때, 인터프리터에 의해서 자동으로 호출되는 메소드\n",
        "\n",
        "- 객체변수의 초기화\n",
        "    - 객체가 생성될 때 모든 만들어질 객체가 기본으로 이정도는 동일한 속성으로 가지고 가게 하고 싶다면\n",
        "        - Person 타입의 객체들은 모두 name이라는 속성을 가져야 합니다.\n",
        "        - 객체변수는 미리 정의할 수는 없어요\n",
        "        - 객체를 만들면서 정의를 해야 합니다\n",
        "        - 생성자는 언제 실행되냐?\n",
        "            - 객체가 실행될 때\n",
        "            - 생성자가 실행된다는 것 객체가 갓 만들어졌다 라는 것을 의미합니다.\n",
        "            - 생성자를 통해 객체변수에 초기화할 수 있다"
      ],
      "metadata": {
        "id": "UB0TRBwkfGZO"
      }
    },
    {
      "cell_type": "code",
      "source": [],
      "metadata": {
        "id": "ECE35C4Oe-SQ"
      },
      "execution_count": null,
      "outputs": []
    },
    {
      "cell_type": "code",
      "source": [],
      "metadata": {
        "id": "FMdMc6aegR7K"
      },
      "execution_count": null,
      "outputs": []
    },
    {
      "cell_type": "code",
      "source": [],
      "metadata": {
        "id": "SsMzpwgBgqEB"
      },
      "execution_count": null,
      "outputs": []
    },
    {
      "cell_type": "code",
      "source": [],
      "metadata": {
        "id": "mBk0iJhQgULY"
      },
      "execution_count": null,
      "outputs": []
    },
    {
      "cell_type": "code",
      "source": [],
      "metadata": {
        "id": "IR3dppDega2Z"
      },
      "execution_count": null,
      "outputs": []
    },
    {
      "cell_type": "markdown",
      "source": [
        "## 생성자를 통한 객체변수의 초기화"
      ],
      "metadata": {
        "id": "CehFZ1mCg0kJ"
      }
    },
    {
      "cell_type": "code",
      "source": [],
      "metadata": {
        "id": "mNOew7efgdbY"
      },
      "execution_count": null,
      "outputs": []
    },
    {
      "cell_type": "code",
      "source": [],
      "metadata": {
        "id": "1zFbjzd8hAAp"
      },
      "execution_count": null,
      "outputs": []
    },
    {
      "cell_type": "code",
      "source": [],
      "metadata": {
        "id": "xnExxoe7hCQQ"
      },
      "execution_count": null,
      "outputs": []
    },
    {
      "cell_type": "code",
      "source": [],
      "metadata": {
        "id": "NjdvXJtFhVIh"
      },
      "execution_count": null,
      "outputs": []
    },
    {
      "cell_type": "code",
      "source": [],
      "metadata": {
        "id": "il2vitYzhYfi"
      },
      "execution_count": null,
      "outputs": []
    },
    {
      "cell_type": "code",
      "source": [],
      "metadata": {
        "id": "1-QEKh5thedw"
      },
      "execution_count": null,
      "outputs": []
    },
    {
      "cell_type": "markdown",
      "source": [
        "# 생성자를 통해 매개변수를 정의하고 전달"
      ],
      "metadata": {
        "id": "fuIOMz8sm1DA"
      }
    },
    {
      "cell_type": "code",
      "source": [],
      "metadata": {
        "id": "0VQPD8cHmapy"
      },
      "execution_count": null,
      "outputs": []
    },
    {
      "cell_type": "code",
      "source": [],
      "metadata": {
        "id": "cI02YWArhhjp"
      },
      "execution_count": null,
      "outputs": []
    },
    {
      "cell_type": "code",
      "source": [],
      "metadata": {
        "id": "_6E6WibWm5By"
      },
      "execution_count": null,
      "outputs": []
    },
    {
      "cell_type": "code",
      "source": [],
      "metadata": {
        "id": "BoSLOjyFoGsC"
      },
      "execution_count": null,
      "outputs": []
    },
    {
      "cell_type": "code",
      "source": [],
      "metadata": {
        "id": "0PoAAikNoKo_"
      },
      "execution_count": null,
      "outputs": []
    },
    {
      "cell_type": "code",
      "source": [],
      "metadata": {
        "id": "DWr0GjX6oM2X"
      },
      "execution_count": null,
      "outputs": []
    },
    {
      "cell_type": "code",
      "source": [],
      "metadata": {
        "id": "F_1KTyeppDJf"
      },
      "execution_count": null,
      "outputs": []
    },
    {
      "cell_type": "markdown",
      "source": [
        "# 연산자"
      ],
      "metadata": {
        "id": "vkZWOI0hpAEL"
      }
    },
    {
      "cell_type": "markdown",
      "source": [],
      "metadata": {
        "id": "pKyr54qlo_hB"
      }
    },
    {
      "cell_type": "code",
      "source": [],
      "metadata": {
        "id": "AAkC0YVNpUIb"
      },
      "execution_count": null,
      "outputs": []
    },
    {
      "cell_type": "code",
      "source": [],
      "metadata": {
        "id": "ZB4b9xNgph39"
      },
      "execution_count": null,
      "outputs": []
    },
    {
      "cell_type": "code",
      "source": [],
      "metadata": {
        "id": "SjAw1vzYpWbp"
      },
      "execution_count": null,
      "outputs": []
    },
    {
      "cell_type": "code",
      "source": [],
      "metadata": {
        "id": "MbOsdWZ-plbL"
      },
      "execution_count": null,
      "outputs": []
    },
    {
      "cell_type": "code",
      "source": [],
      "metadata": {
        "id": "ntxIX_NzF7KA"
      },
      "execution_count": null,
      "outputs": []
    },
    {
      "cell_type": "code",
      "source": [],
      "metadata": {
        "id": "Ki2k_Fj0poOx"
      },
      "execution_count": null,
      "outputs": []
    },
    {
      "cell_type": "code",
      "source": [],
      "metadata": {
        "id": "cXPVU5-apqC0"
      },
      "execution_count": null,
      "outputs": []
    },
    {
      "cell_type": "code",
      "source": [],
      "metadata": {
        "id": "o6CQXqy2qE8J"
      },
      "execution_count": null,
      "outputs": []
    },
    {
      "cell_type": "code",
      "source": [],
      "metadata": {
        "id": "xYVjgQIPqKt_"
      },
      "execution_count": null,
      "outputs": []
    },
    {
      "cell_type": "code",
      "source": [],
      "metadata": {
        "id": "iIo6ECZfqO0K"
      },
      "execution_count": null,
      "outputs": []
    },
    {
      "cell_type": "code",
      "source": [],
      "metadata": {
        "id": "DWPpfgydqGyq"
      },
      "execution_count": null,
      "outputs": []
    },
    {
      "cell_type": "code",
      "source": [],
      "metadata": {
        "id": "2jlddy_1qH3S"
      },
      "execution_count": null,
      "outputs": []
    },
    {
      "cell_type": "code",
      "source": [],
      "metadata": {
        "id": "Gj0wfFO_rLEx"
      },
      "execution_count": null,
      "outputs": []
    },
    {
      "cell_type": "code",
      "source": [],
      "metadata": {
        "id": "UuC_edA1u6Mj"
      },
      "execution_count": null,
      "outputs": []
    },
    {
      "cell_type": "code",
      "source": [],
      "metadata": {
        "id": "qXfqk9m5vKOS"
      },
      "execution_count": null,
      "outputs": []
    },
    {
      "cell_type": "markdown",
      "source": [
        "# 함수\n",
        "- 파이썬에서는 함수도 객체다\n",
        "    - function 클래스로 만들어진 객체\n",
        "    - function () 붙여서 호출하게 되어있는데\n",
        "    - 이것도 매직메소드의 하나입니다."
      ],
      "metadata": {
        "id": "L0pdHC-YvVA5"
      }
    },
    {
      "cell_type": "code",
      "source": [],
      "metadata": {
        "id": "BhzPN7kSvL8W"
      },
      "execution_count": null,
      "outputs": []
    },
    {
      "cell_type": "code",
      "source": [],
      "metadata": {
        "id": "NVG4YcHkvkF7"
      },
      "execution_count": null,
      "outputs": []
    },
    {
      "cell_type": "code",
      "source": [],
      "metadata": {
        "id": "CpYQbkSNwGSj"
      },
      "execution_count": null,
      "outputs": []
    },
    {
      "cell_type": "code",
      "source": [],
      "metadata": {
        "id": "RD2L2VOIwOIp"
      },
      "execution_count": null,
      "outputs": []
    },
    {
      "cell_type": "code",
      "source": [],
      "metadata": {
        "id": "w0Rdgqvrvmpi"
      },
      "execution_count": null,
      "outputs": []
    },
    {
      "cell_type": "markdown",
      "source": [
        "#### 파이썬의 매직 메소드들\n",
        "- 더 다양한 형태의 매직 메소드들이 있습니다.\n",
        "  - 수업시간에는 더 깊게 확인하지는 않지만, 관심이 있으신 분들은 읽어 보시길 바랍니다.\n",
        "  - [데이터 모델](https://docs.python.org/ko/3.7/reference/datamodel.html#special-method-names)"
      ],
      "metadata": {
        "id": "rG1u9tOFwimE"
      }
    },
    {
      "cell_type": "markdown",
      "source": [
        "# StaticMethod / ClassMethod\n",
        "- 객체와 상관없이 참조 가능한 변수(클래스 변수)\n",
        "- 객체와 상관없이 참조 가능한 메소드\n",
        "    - 클래스 변수는 객체와 상관없이 참조 가능\n",
        "    - 메소드는 객체를 통해서만 호출 가능합니다\n",
        "        - 메소드를 통해서 클래스 변수를 참조하려면 반드시 객체가 필요한 상황이 발생했죠\n",
        "- 객체가 아닌 클래스를 통해서 호출할 수 있는 메소드"
      ],
      "metadata": {
        "id": "oFE8Hukmw9bu"
      }
    },
    {
      "cell_type": "code",
      "source": [],
      "metadata": {
        "id": "M-__ERIfvqbL"
      },
      "execution_count": null,
      "outputs": []
    },
    {
      "cell_type": "code",
      "source": [],
      "metadata": {
        "id": "iqAlZP61xldy"
      },
      "execution_count": null,
      "outputs": []
    },
    {
      "cell_type": "code",
      "source": [],
      "metadata": {
        "id": "MoW4SZO4xoaj"
      },
      "execution_count": null,
      "outputs": []
    },
    {
      "cell_type": "code",
      "source": [],
      "metadata": {
        "id": "LWytxL7bxsF0"
      },
      "execution_count": null,
      "outputs": []
    },
    {
      "cell_type": "code",
      "source": [],
      "metadata": {
        "id": "2TisetYyx5ky"
      },
      "execution_count": null,
      "outputs": []
    },
    {
      "cell_type": "code",
      "source": [],
      "metadata": {
        "id": "kW33iqnjx816"
      },
      "execution_count": null,
      "outputs": []
    },
    {
      "cell_type": "markdown",
      "source": [
        "# 클래스의 특징\n",
        "- 여러개의 변수와 함수를 하나의 타입으로 묶어놓은 것\n",
        "- Person이라는 타입에 name, age, nation, method(), method1(), method2() 까지가 현상태\n",
        "\n",
        "- 비슷한 특징을 가진 애들을 묶어놓으면 관리가 편해지는 장점을 얻을 수 있습니다.\n",
        "\n",
        "\n",
        "- 이렇게 묶어놓으면 발생하는 특징들(객체 지향 프로그래밍의 특징을 얻을 수 있다)\n",
        "    - 은닉성(캡슐화) : 클래스 안에 있어서 인스턴스로는 확인할 수 없게 보호하는 장치\n",
        "    - 상속: 클래스를 재사용할 수 있음\n",
        "    - 다형성\n",
        "        - 붕어빵 : 슈크림, 피자, 팥, 쑥...\n",
        "        - 하나의 타입 안에 다른 타입도 담을 수 있는 것\n",
        "        - 오버로딩, 오버라이딩\n",
        "\n",
        "    - 파이썬은 완벽한 객체지향을 제공하지 못합니다\n",
        "\n",
        "# 은닉성\n",
        "    - 클래스 안에 있어서 인스턴스로는 확인할 수 없게 보호하는 장치\n",
        "        - 외부에서 참조 불가하게 비공개화\n",
        "        - 속성이 정의는 되어있지만 외부에서 확일할 수 없는 메소드로 만드는 방식으로\n",
        "        - 파이썬은 비공개로 할 수 있는 방법이 없습니다\n",
        "        - 공개하고 싶지 않은 속성(기능) 이름 앞에 _를 붙이도록 약속하고 있습니다.\n",
        "        - 이름 앞에 _언더바가 붙어있으면 참조하지 않음. 해당 클래스 안에서만 씀. 이라고 약속할 뿐이에요."
      ],
      "metadata": {
        "id": "CBg4jM-n0GfC"
      }
    },
    {
      "cell_type": "code",
      "source": [],
      "metadata": {
        "id": "zIvDO9_Xz6lL"
      },
      "execution_count": null,
      "outputs": []
    },
    {
      "cell_type": "code",
      "source": [],
      "metadata": {
        "id": "IPMUhYjK1Brc"
      },
      "execution_count": null,
      "outputs": []
    },
    {
      "cell_type": "code",
      "source": [],
      "metadata": {
        "id": "Yu_cYlcl1HRA"
      },
      "execution_count": null,
      "outputs": []
    },
    {
      "cell_type": "code",
      "source": [],
      "metadata": {
        "id": "JFDoiSYY2akq"
      },
      "execution_count": null,
      "outputs": []
    },
    {
      "cell_type": "code",
      "source": [],
      "metadata": {
        "id": "cNeLMn3y2f9N"
      },
      "execution_count": null,
      "outputs": []
    },
    {
      "cell_type": "code",
      "source": [],
      "metadata": {
        "id": "kjyLJBtI2h_j"
      },
      "execution_count": null,
      "outputs": []
    },
    {
      "cell_type": "code",
      "source": [],
      "metadata": {
        "id": "ztfAbVTC2mLq"
      },
      "execution_count": null,
      "outputs": []
    },
    {
      "cell_type": "markdown",
      "source": [
        "# 은닉성을 약속한 속성에 어떻게 접근을 해야하는가?\n",
        "- 그럼에도 불구하고 공개해야 할 속성들이 있기 때문에\n",
        "    - getter setter를 따로 만들어서\n",
        "    - 메소드의 내부 속성에 대한 참조를 제공\n",
        "    - 메소드가 없으면, 참조하지 않는 것으로 약속합니다.\n",
        "\n",
        "- 파이썬에서 getter, setter 처리하는 방법\n",
        "    - 매직메소드를 다시 정의해서 getter와 setter의 동작을 다시 정의합니다.\n",
        "    - 데코레이터를 통해 getter와 setter를 정의할 수 있습니다.\n",
        "    - 파이썬에서 말하는 은닉성"
      ],
      "metadata": {
        "id": "z_QtVG_K3DRi"
      }
    },
    {
      "cell_type": "code",
      "source": [],
      "metadata": {
        "id": "rRUfDlP_2vYS"
      },
      "execution_count": null,
      "outputs": []
    },
    {
      "cell_type": "code",
      "source": [],
      "metadata": {
        "id": "OkGnvQyz35qz"
      },
      "execution_count": null,
      "outputs": []
    },
    {
      "cell_type": "code",
      "source": [],
      "metadata": {
        "id": "RddSHKD03_6y"
      },
      "execution_count": null,
      "outputs": []
    },
    {
      "cell_type": "code",
      "source": [],
      "metadata": {
        "id": "mHSYTKyR39pU"
      },
      "execution_count": null,
      "outputs": []
    },
    {
      "cell_type": "code",
      "source": [],
      "metadata": {
        "id": "Rasj3ySj4Xyl"
      },
      "execution_count": null,
      "outputs": []
    },
    {
      "cell_type": "markdown",
      "source": [
        "### 실습 - age를 수정은 할 수 없고 볼 수만 있는 메소드를 하나 만들어 주세요. outer_age"
      ],
      "metadata": {
        "id": "luFmrUqP4_pt"
      }
    },
    {
      "cell_type": "code",
      "source": [],
      "metadata": {
        "id": "xaXdNjCt4ac-"
      },
      "execution_count": null,
      "outputs": []
    },
    {
      "cell_type": "code",
      "source": [],
      "metadata": {
        "id": "6YKreMRk91Pe"
      },
      "execution_count": null,
      "outputs": []
    },
    {
      "cell_type": "code",
      "source": [],
      "metadata": {
        "id": "aLpfIRzM94Fl"
      },
      "execution_count": null,
      "outputs": []
    },
    {
      "cell_type": "code",
      "source": [],
      "metadata": {
        "id": "Kztgh-F_98N2"
      },
      "execution_count": null,
      "outputs": []
    },
    {
      "cell_type": "code",
      "source": [],
      "metadata": {
        "id": "SjMvP_aj-5V0"
      },
      "execution_count": null,
      "outputs": []
    },
    {
      "cell_type": "code",
      "source": [],
      "metadata": {
        "id": "a2KUDNGH-7ja"
      },
      "execution_count": null,
      "outputs": []
    },
    {
      "cell_type": "code",
      "source": [],
      "metadata": {
        "id": "eN_toEjw-99f"
      },
      "execution_count": null,
      "outputs": []
    },
    {
      "cell_type": "code",
      "source": [],
      "metadata": {
        "id": "Swfmknc8_ENL"
      },
      "execution_count": null,
      "outputs": []
    },
    {
      "cell_type": "code",
      "source": [],
      "metadata": {
        "id": "_-lpbebn_Gdv"
      },
      "execution_count": null,
      "outputs": []
    },
    {
      "cell_type": "markdown",
      "metadata": {
        "id": "KiH6A5PwaFmB"
      },
      "source": [
        "### 맹글링(Mangling)\n",
        "- 속성(변수)의 이름을 변경하는 기능\n",
        "- 충돌을 방지하고자 나온 기능\n",
        "  - 상속할 때, 여러 클래스에서 정의된 속성 이름들이 같은 이름을 사용하는 경우\n",
        "  - 맹글링을 이용한 충돌을 방지할 수 있는 거죠\n",
        "- 속성 이름앞에 `__`를 붙여주면 됩니다.\n",
        "  - 속성 이름이 자동으로 바뀝니다.\n",
        "  - `_클래스이름__속성이름`의 형태로 바뀝니다."
      ]
    },
    {
      "cell_type": "code",
      "metadata": {
        "id": "1oNPv3w-a1Uv"
      },
      "source": [],
      "execution_count": null,
      "outputs": []
    },
    {
      "cell_type": "markdown",
      "source": [
        "# 상속 (inherit)\n",
        "- 클래스의 재사용성을 확대한 개념\n",
        "    - 잘 정의된 클래스가 있으면 다시 물려받아서 그대로 재사용\n",
        "\n",
        "- 클래스들의 관계\n",
        " - is-a 관계 (상속)\n",
        " - has-a 관계 (다른 클래스의 객체를 속성으로 갖는 경우)\n",
        "\n",
        "\n",
        "- 상속을 이용하면 클래스가 점점 확장\n",
        "    - 모든 학생은 사람 o\n",
        "    - 모든 사람은 학생 x\n",
        "    - is-a (Student **is a** Person)\n",
        "        - 학생은 사람이니까 사람이 갖는 속성이나 기능을 동일하게 사용할 수 있죠\n",
        "        - 학생 클래스를 만들 때 새로 정의하지 말고 사람 클래스를 물려받아서(상속받아서) 그대로 사용하고 나머지 추가 학생의 속성, 기능만 구현해주면 편합니다.\n",
        "\n",
        "\n"
      ],
      "metadata": {
        "id": "Xcxru7UhBYKx"
      }
    },
    {
      "cell_type": "code",
      "source": [],
      "metadata": {
        "id": "dz2mOi7cBr3r"
      },
      "execution_count": null,
      "outputs": []
    },
    {
      "cell_type": "code",
      "source": [],
      "metadata": {
        "id": "txZ5rxDuDv1W"
      },
      "execution_count": null,
      "outputs": []
    },
    {
      "cell_type": "code",
      "source": [],
      "metadata": {
        "id": "na9ggdI8CwF9"
      },
      "execution_count": null,
      "outputs": []
    },
    {
      "cell_type": "code",
      "source": [],
      "metadata": {
        "id": "Ul3-cOtcC1IF"
      },
      "execution_count": null,
      "outputs": []
    },
    {
      "cell_type": "code",
      "source": [],
      "metadata": {
        "id": "wTTFtTu0C7hp"
      },
      "execution_count": null,
      "outputs": []
    },
    {
      "cell_type": "code",
      "source": [],
      "metadata": {
        "id": "8Wl5_-7jC_X8"
      },
      "execution_count": null,
      "outputs": []
    },
    {
      "cell_type": "code",
      "source": [],
      "metadata": {
        "id": "7cTIaEPIDB6_"
      },
      "execution_count": null,
      "outputs": []
    },
    {
      "cell_type": "code",
      "source": [],
      "metadata": {
        "id": "feKpuFDTDF3W"
      },
      "execution_count": null,
      "outputs": []
    },
    {
      "cell_type": "code",
      "source": [],
      "metadata": {
        "id": "bl8zEudlDRo8"
      },
      "execution_count": null,
      "outputs": []
    },
    {
      "cell_type": "code",
      "source": [],
      "metadata": {
        "id": "RY60foUqD-_N"
      },
      "execution_count": null,
      "outputs": []
    },
    {
      "cell_type": "code",
      "source": [],
      "metadata": {
        "id": "oGinZnbEEAes"
      },
      "execution_count": null,
      "outputs": []
    },
    {
      "cell_type": "code",
      "source": [],
      "metadata": {
        "id": "26YEdI6GEDv3"
      },
      "execution_count": null,
      "outputs": []
    },
    {
      "cell_type": "code",
      "source": [],
      "metadata": {
        "id": "r7lLz0QYEHGu"
      },
      "execution_count": null,
      "outputs": []
    },
    {
      "cell_type": "markdown",
      "source": [
        "Person - 상위클래스(부모클래스, 기반클래스)\n",
        "Student - 하위클래스(자식클래스, 파생클래스)\n",
        "\n",
        "# 다형성 (Polymorphism)\n",
        "    - 오버로딩\n",
        "        - 클래스 내의 하나의 메소드가 여러개의 기능을 처리\n",
        "        - 파이썬은 오버로딩이 안 됩니다\n",
        "        - 연산자 오버로딩이라고 매직 메소드를 이용해서 눈속임\n",
        "\n",
        "    - 오버라이딩\n",
        "        - 메소드를 재정의(덮어쓴다)\n",
        "            - 메소드 뿐 아니라 속성도 오버라이팅\n",
        "        - 부모한테 물려받은 메소드를 그대로 사용하지 않겠다는 의미\n",
        "            - 자식 클래스에서 부모에게 있던 메소드를 고쳐쓰는 법\n",
        "            - 상속이 되어야만 재정의 할 수 있다\n",
        "            - 상속받은 메소드와 동일한 이름이어야 한다"
      ],
      "metadata": {
        "id": "QSUyteqnEdqq"
      }
    },
    {
      "cell_type": "code",
      "source": [],
      "metadata": {
        "id": "9_KVqm8EEJMd"
      },
      "execution_count": null,
      "outputs": []
    },
    {
      "cell_type": "code",
      "source": [],
      "metadata": {
        "id": "IwJd0LOCFdXl"
      },
      "execution_count": null,
      "outputs": []
    },
    {
      "cell_type": "code",
      "source": [],
      "metadata": {
        "id": "wTNgEL36FhgM"
      },
      "execution_count": null,
      "outputs": []
    },
    {
      "cell_type": "code",
      "source": [],
      "metadata": {
        "id": "PtAtpCPEFiuU"
      },
      "execution_count": null,
      "outputs": []
    },
    {
      "cell_type": "markdown",
      "source": [
        "- 재정의 하는데, 부모 클래스의 메소드를 사용하고 싶다?\n",
        "    - 자식클래스에서 직접 호출하도록 재정의해주시면 됩니다."
      ],
      "metadata": {
        "id": "OcmiuEuDFn9n"
      }
    },
    {
      "cell_type": "code",
      "source": [],
      "metadata": {
        "id": "dWSw3V74FkQu"
      },
      "execution_count": null,
      "outputs": []
    },
    {
      "cell_type": "code",
      "source": [],
      "metadata": {
        "id": "YQ1ccNDHF8T6"
      },
      "execution_count": null,
      "outputs": []
    },
    {
      "cell_type": "code",
      "source": [],
      "metadata": {
        "id": "ydJP0Rl2F9vU"
      },
      "execution_count": null,
      "outputs": []
    },
    {
      "cell_type": "code",
      "source": [],
      "metadata": {
        "id": "7fmStqPbF_ik"
      },
      "execution_count": null,
      "outputs": []
    },
    {
      "cell_type": "code",
      "source": [],
      "metadata": {
        "id": "zQb5kCR4Gk1L"
      },
      "execution_count": null,
      "outputs": []
    },
    {
      "cell_type": "code",
      "source": [],
      "metadata": {
        "id": "Jt_amXZPGm0j"
      },
      "execution_count": null,
      "outputs": []
    },
    {
      "cell_type": "markdown",
      "source": [
        "# 생성자 오버라이딩\n",
        "- 생성자도 상속이 됩니다\n",
        "- 자식클래스에서 추가해야 할 속성이 있어요\n",
        "    - 부모 그대로 사용할 수 없죠"
      ],
      "metadata": {
        "id": "jNRvzRHbG4UZ"
      }
    },
    {
      "cell_type": "code",
      "source": [],
      "metadata": {
        "id": "jqyLdV0QGoTt"
      },
      "execution_count": null,
      "outputs": []
    },
    {
      "cell_type": "code",
      "source": [],
      "metadata": {
        "id": "a5iZldQ6HSHX"
      },
      "execution_count": null,
      "outputs": []
    },
    {
      "cell_type": "code",
      "source": [],
      "metadata": {
        "id": "GQIhTbo3HTu3"
      },
      "execution_count": null,
      "outputs": []
    },
    {
      "cell_type": "markdown",
      "source": [
        "class method와 static method의 차이점"
      ],
      "metadata": {
        "id": "9G5FvpjYHfcG"
      }
    },
    {
      "cell_type": "code",
      "source": [],
      "metadata": {
        "id": "z79CkWwRHW6N"
      },
      "execution_count": null,
      "outputs": []
    },
    {
      "cell_type": "code",
      "source": [],
      "metadata": {
        "id": "XirbM3c5H5e9"
      },
      "execution_count": null,
      "outputs": []
    },
    {
      "cell_type": "code",
      "source": [],
      "metadata": {
        "id": "xuhTCatYH8ps"
      },
      "execution_count": null,
      "outputs": []
    },
    {
      "cell_type": "code",
      "source": [],
      "metadata": {
        "id": "5sgPpFq9IEQU"
      },
      "execution_count": null,
      "outputs": []
    },
    {
      "cell_type": "code",
      "source": [],
      "metadata": {
        "id": "7qOkeDzsIHFm"
      },
      "execution_count": null,
      "outputs": []
    },
    {
      "cell_type": "markdown",
      "source": [
        "### 다중상속\n",
        "- 하나의 클래스가 아닌, 하나 이상의 클래스를 상속하는 것이 가능\n",
        "  - 사실 문제가 아주아주 많은 기능\n",
        "  - C++, python, ...\n",
        "  - Java는 다중상속을 지원하지 않습니다.\n",
        "\n",
        "- 반드시, 다중상속을 해야만 하는 경우는 없다\n",
        "  - 피하려면, 피할 수 있다는 얘기 입니다.\n",
        "  - 만약에, 다중상속이 아니면 안되겠는데? 라는 상황이 발생한다면, 설계가 잘못된 경우\n",
        "\n"
      ],
      "metadata": {
        "id": "0Fy2wKfAITH4"
      }
    },
    {
      "cell_type": "code",
      "source": [],
      "metadata": {
        "id": "Iz4lzKVPIJOD"
      },
      "execution_count": null,
      "outputs": []
    },
    {
      "cell_type": "code",
      "source": [],
      "metadata": {
        "id": "FZhTn1JTIklN"
      },
      "execution_count": null,
      "outputs": []
    },
    {
      "cell_type": "code",
      "source": [],
      "metadata": {
        "id": "H6tKRjzDIs_P"
      },
      "execution_count": null,
      "outputs": []
    },
    {
      "cell_type": "code",
      "source": [],
      "metadata": {
        "id": "6IiirNX3Iz5w"
      },
      "execution_count": null,
      "outputs": []
    },
    {
      "cell_type": "code",
      "source": [],
      "metadata": {
        "id": "qzhZD7jHI9IN"
      },
      "execution_count": null,
      "outputs": []
    },
    {
      "cell_type": "markdown",
      "source": [
        "# 다중상속을 어쩔 수 없이 해야할 때는 맹글링을 사용합니다."
      ],
      "metadata": {
        "id": "qj9fMinbJNmP"
      }
    },
    {
      "cell_type": "code",
      "source": [
        "a = 1"
      ],
      "metadata": {
        "id": "EXlRQ0wOJIsd"
      },
      "execution_count": null,
      "outputs": []
    },
    {
      "cell_type": "code",
      "source": [
        "id(a)"
      ],
      "metadata": {
        "id": "Scf6EBxWJRZM",
        "colab": {
          "base_uri": "https://localhost:8080/"
        },
        "outputId": "4bd6a0fd-388d-4ba4-9e6c-fc437cc3dc34"
      },
      "execution_count": null,
      "outputs": [
        {
          "output_type": "execute_result",
          "data": {
            "text/plain": [
              "11256064"
            ]
          },
          "metadata": {},
          "execution_count": 2
        }
      ]
    },
    {
      "cell_type": "code",
      "source": [
        "a = '가나'"
      ],
      "metadata": {
        "id": "shy869iKJTqg"
      },
      "execution_count": null,
      "outputs": []
    },
    {
      "cell_type": "code",
      "source": [
        "id(a)"
      ],
      "metadata": {
        "id": "ZYtZfftzJVyd",
        "colab": {
          "base_uri": "https://localhost:8080/"
        },
        "outputId": "3dcafc15-02d1-4d9d-9648-e839cfa67b75"
      },
      "execution_count": null,
      "outputs": [
        {
          "output_type": "execute_result",
          "data": {
            "text/plain": [
              "140620132922832"
            ]
          },
          "metadata": {},
          "execution_count": 4
        }
      ]
    },
    {
      "cell_type": "code",
      "source": [
        "b = [1,2]"
      ],
      "metadata": {
        "id": "WNR_2itrbGZD"
      },
      "execution_count": null,
      "outputs": []
    },
    {
      "cell_type": "code",
      "source": [
        "id(b[0]), id(b[1])"
      ],
      "metadata": {
        "colab": {
          "base_uri": "https://localhost:8080/"
        },
        "id": "JLsJhLYUbGOC",
        "outputId": "98594fbe-7fbe-48f7-e6a5-b5f4429ce355"
      },
      "execution_count": null,
      "outputs": [
        {
          "output_type": "execute_result",
          "data": {
            "text/plain": [
              "(11256064, 11256096)"
            ]
          },
          "metadata": {},
          "execution_count": 6
        }
      ]
    },
    {
      "cell_type": "code",
      "source": [
        "b[1] = 3"
      ],
      "metadata": {
        "id": "Vnuv42ZVbLzD"
      },
      "execution_count": null,
      "outputs": []
    },
    {
      "cell_type": "code",
      "source": [
        "id(b[0]), id(b[1])"
      ],
      "metadata": {
        "id": "B7bNQUSlbN77",
        "outputId": "ea077a3a-dacd-4149-ac07-efe39ed1b4d9",
        "colab": {
          "base_uri": "https://localhost:8080/"
        }
      },
      "execution_count": null,
      "outputs": [
        {
          "output_type": "execute_result",
          "data": {
            "text/plain": [
              "(11256064, 11256128)"
            ]
          },
          "metadata": {},
          "execution_count": 8
        }
      ]
    },
    {
      "cell_type": "markdown",
      "source": [
        "파이썬의 다중상속\n",
        "  - 파이썬은 우선순위를 둬서 해결\n",
        "  - 모든 문제가 해결되지는 않습니다.\n",
        "  - 가장 큰 문제는 복잡도에 있습니다.\n",
        "    - 클래스들간의 관계가 매우 복잡해지고\n",
        "    - 복잡해지면, 버그가 발생할 확률이 높아지고, 유지보수도 어렵게 됩니다."
      ],
      "metadata": {
        "id": "cWhGbtXaJblI"
      }
    },
    {
      "cell_type": "code",
      "source": [],
      "metadata": {
        "id": "h9J0IQDIJXxN"
      },
      "execution_count": null,
      "outputs": []
    }
  ]
}