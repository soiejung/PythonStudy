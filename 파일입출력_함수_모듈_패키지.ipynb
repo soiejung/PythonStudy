{
  "nbformat": 4,
  "nbformat_minor": 0,
  "metadata": {
    "colab": {
      "provenance": [],
      "collapsed_sections": [
        "_fHHtdQlUQTM",
        "u44Nhz9DUbDJ",
        "BfcOsIsXVB8K",
        "ubMfuh0AVfKP",
        "AX4ToblhXVHg",
        "Bl9YpyI7luC8",
        "Xk5TU638lzk9",
        "RG_3yY5ltOKi",
        "CwJqVFKFu4pk",
        "-Xp0kmQw1sqp",
        "dinbgO0V3KKs",
        "8bX5PkHcVHeN",
        "i1En55LmReMl",
        "QI-7L14VS9Xb",
        "uP2bbyZ7V0p4"
      ],
      "include_colab_link": true
    },
    "kernelspec": {
      "name": "python3",
      "display_name": "Python 3"
    },
    "language_info": {
      "name": "python"
    }
  },
  "cells": [
    {
      "cell_type": "markdown",
      "metadata": {
        "id": "view-in-github",
        "colab_type": "text"
      },
      "source": [
        "<a href=\"https://colab.research.google.com/github/soiejung/PythonStudy/blob/main/%ED%8C%8C%EC%9D%BC%EC%9E%85%EC%B6%9C%EB%A0%A5_%ED%95%A8%EC%88%98_%EB%AA%A8%EB%93%88_%ED%8C%A8%ED%82%A4%EC%A7%80.ipynb\" target=\"_parent\"><img src=\"https://colab.research.google.com/assets/colab-badge.svg\" alt=\"Open In Colab\"/></a>"
      ]
    },
    {
      "cell_type": "markdown",
      "source": [
        "# 1. 수업"
      ],
      "metadata": {
        "id": "L6i-Tc2NyUty"
      }
    },
    {
      "cell_type": "markdown",
      "source": [
        "### [문자 클래스]\n",
        "\n",
        "1. [abc] - a, b, c중 한 개의 문자와 매치\n",
        "  - a : 매치여부 OK\n",
        "  - apple : ok\n",
        "  - double : no\n",
        "\n",
        "2. \\d   : 숫자와 매치, [0-9]와 동일\n",
        "\n",
        "3. \\D : 숫자가 아닌 것과 매치 [^0-9]와 동일\n",
        "\n",
        "4. \\s : whitespace 문자와 매치\n",
        "\n",
        "5. \\S : whitespace 문자가 아닌것과 매치,\n",
        "\n",
        "6. \\w : 문자 + 숫자와 매치, [a-zA-Z0-9]와 동일\n",
        "\n",
        "7. \\W : 문자+숫자가 아닌 문자와 매치. [^a-zA-Z0-9]와 동일\n",
        "\n",
        "\n",
        "\n",
        "8. a.b : a와 b 사이에 줄바꿈 문자를 제외한 모든 문자 허용\n",
        "\n",
        "9. a[.]b : a와 b 사이에 dot 문자만 허용\n",
        "\n",
        "10. ca*t  : a 문자가 0번 이상 반복 허용\n",
        "\n",
        "11. ca+t :  a 문자가 1번 이상 반복 허용\n",
        "\n",
        "12. ca?t : a 문자가 없거나, 1번만 허용\n",
        "\n",
        "13. ca{3}t : a 문자가 3번 반복되면 매치\n",
        "\n",
        "14. ca{2, 3}t : a 문자가 2~3번 반복되면 매치"
      ],
      "metadata": {
        "id": "Ws0fQ2xMiKny"
      }
    },
    {
      "cell_type": "code",
      "source": [
        "emails = ['python@mail.example.com', 'python+kr@example.com',              # 올바른 형식\n",
        "          'python-dojang@example.co.kr', 'python_10@example.info',         # 올바른 형식\n",
        "          'python.dojang@e-xample.com',                                    # 올바른 형식\n",
        "          '@example.com', 'python@example', 'python@example-com']          # 잘못된 형식"
      ],
      "metadata": {
        "id": "Z-bT95WW-kh2"
      },
      "execution_count": null,
      "outputs": []
    },
    {
      "cell_type": "code",
      "source": [
        "# match() : 문자열의 첫 시작부터 정규식과 매치되는지 조사한다.\n",
        "# search() : 문자열 전체를 검색하여 정규식과 매치되는지 조사한다.\n",
        "# findall() : 정규식과 매치되는 모든 문자열(substring)을 리스트로 돌려준다.\n",
        "# finditer() : 정규식과 매치되는 모든 문자열(substring)을 반복 가능한 객체로 돌려준다.\n",
        "\n",
        "import re\n",
        "\n",
        "p = re.compile('[0-9a-z+-_.]+[@]+[0-9a-z-]+[.]+[a-z.]+')\n",
        "\n",
        "for email in emails:\n",
        "    if p.match(email):\n",
        "        print(email)"
      ],
      "metadata": {
        "colab": {
          "base_uri": "https://localhost:8080/"
        },
        "id": "BWSNyKrLstdy",
        "outputId": "00f3be99-c66f-4e9c-f96d-bf39ae0daccd"
      },
      "execution_count": null,
      "outputs": [
        {
          "output_type": "stream",
          "name": "stdout",
          "text": [
            "python@mail.example.com\n",
            "python+kr@example.com\n",
            "python-dojang@example.co.kr\n",
            "python_10@example.info\n",
            "python.dojang@e-xample.com\n"
          ]
        }
      ]
    },
    {
      "cell_type": "code",
      "source": [
        "import re\n",
        "\n",
        "p = re.compile('\\S+[@]+\\S+[.]\\S+')\n",
        "\n",
        "for email in emails:\n",
        "    if p.match(email):\n",
        "        print(email)"
      ],
      "metadata": {
        "colab": {
          "base_uri": "https://localhost:8080/"
        },
        "id": "VfNG55TJuT85",
        "outputId": "8c24d1f9-815c-4dcd-caa2-e0c1e0332fde"
      },
      "execution_count": null,
      "outputs": [
        {
          "output_type": "stream",
          "name": "stdout",
          "text": [
            "python@mail.example.com\n",
            "python+kr@example.com\n",
            "python-dojang@example.co.kr\n",
            "python_10@example.info\n",
            "python.dojang@e-xample.com\n"
          ]
        }
      ]
    },
    {
      "cell_type": "code",
      "source": [
        "p.match(emails[0])"
      ],
      "metadata": {
        "colab": {
          "base_uri": "https://localhost:8080/"
        },
        "id": "0ri-jMW7tZOg",
        "outputId": "7f21583b-1f87-429e-fa4d-3e789aa0e68e"
      },
      "execution_count": null,
      "outputs": [
        {
          "output_type": "execute_result",
          "data": {
            "text/plain": [
              "<re.Match object; span=(0, 23), match='python@mail.example.com'>"
            ]
          },
          "metadata": {},
          "execution_count": 12
        }
      ]
    },
    {
      "cell_type": "code",
      "source": [
        "p.search(emails[0])"
      ],
      "metadata": {
        "colab": {
          "base_uri": "https://localhost:8080/"
        },
        "id": "4IpE5DNTtiZf",
        "outputId": "456a7904-7ac5-44d3-c93f-690549559cce"
      },
      "execution_count": null,
      "outputs": [
        {
          "output_type": "execute_result",
          "data": {
            "text/plain": [
              "<re.Match object; span=(0, 23), match='python@mail.example.com'>"
            ]
          },
          "metadata": {},
          "execution_count": 14
        }
      ]
    },
    {
      "cell_type": "code",
      "source": [
        "p.findall(emails[0])"
      ],
      "metadata": {
        "colab": {
          "base_uri": "https://localhost:8080/"
        },
        "id": "RBVDiBGHtxjK",
        "outputId": "b765a3fe-bff7-4db4-e0d6-0ca3fdf50daf"
      },
      "execution_count": null,
      "outputs": [
        {
          "output_type": "execute_result",
          "data": {
            "text/plain": [
              "['python@mail.example.com']"
            ]
          },
          "metadata": {},
          "execution_count": 15
        }
      ]
    },
    {
      "cell_type": "code",
      "source": [
        "list(p.finditer(emails[0]))"
      ],
      "metadata": {
        "colab": {
          "base_uri": "https://localhost:8080/"
        },
        "id": "FZ3L7Lgqt1V1",
        "outputId": "2b313606-0e66-400c-beb3-4afb60e20a2f"
      },
      "execution_count": null,
      "outputs": [
        {
          "output_type": "execute_result",
          "data": {
            "text/plain": [
              "[<re.Match object; span=(0, 23), match='python@mail.example.com'>]"
            ]
          },
          "metadata": {},
          "execution_count": 18
        }
      ]
    },
    {
      "cell_type": "code",
      "source": [
        "# ID@도메인주소.COM\n",
        "import re\n",
        "\n",
        "p = re.compile(r'[\\S]+@[\\S]+[.][\\S]+')\n",
        "for email in emails:\n",
        "    if p.match(email):\n",
        "        print(email)\n",
        "    else:\n",
        "        print('틀림', email)"
      ],
      "metadata": {
        "colab": {
          "base_uri": "https://localhost:8080/"
        },
        "id": "pVfit-KkiMtX",
        "outputId": "3d82889f-48c9-41ec-a95b-95656d1cfd75"
      },
      "execution_count": null,
      "outputs": [
        {
          "output_type": "stream",
          "name": "stdout",
          "text": [
            "python@mail.example.com\n",
            "python+kr@example.com\n",
            "python-dojang@example.co.kr\n",
            "python_10@example.info\n",
            "python.dojang@e-xample.com\n",
            "틀림 @example.com\n",
            "틀림 python@example\n",
            "틀림 python@example-com\n"
          ]
        }
      ]
    },
    {
      "cell_type": "code",
      "source": [
        "p = re.compile('^[a-zA-Z0-9+-_.]+@[a-zA-Z0-9-]+\\.[a-zA-Z0-9.]')\n",
        "\n",
        "for email in emails:\n",
        "    if len(p.findall(email)) == 1:\n",
        "        print(email)"
      ],
      "metadata": {
        "id": "9duujrnysL4r"
      },
      "execution_count": null,
      "outputs": []
    },
    {
      "cell_type": "markdown",
      "source": [
        "### 그루핑 패턴\n",
        "- 자주 사용하는 패턴은 별명을 지어 부를 수도 있습니다."
      ],
      "metadata": {
        "id": "uKIYLLTfjcR6"
      }
    },
    {
      "cell_type": "code",
      "source": [
        "p = re.compile(r\"(?P<name>\\w+)\\s+(?P<phone>\\d+[-]\\d+[-]\\d+)\")\n",
        "person_info = 'kim 010-1234-1234' #  010-1234-1234 kim\n",
        "p.sub(\"\\g<phone>    \\g<name>\", person_info)"
      ],
      "metadata": {
        "id": "Jg8LEEEKjWPX",
        "colab": {
          "base_uri": "https://localhost:8080/",
          "height": 35
        },
        "outputId": "50fc7be3-30c4-487e-b771-baa33e6c0c6b"
      },
      "execution_count": null,
      "outputs": [
        {
          "output_type": "execute_result",
          "data": {
            "text/plain": [
              "'010-1234-1234    kim'"
            ],
            "application/vnd.google.colaboratory.intrinsic+json": {
              "type": "string"
            }
          },
          "metadata": {},
          "execution_count": 27
        }
      ]
    },
    {
      "cell_type": "code",
      "source": [
        "p = re.compile(r\"(?P<name>\\w+)\\s+(?P<phone>\\d+[-]\\d+[-]\\d+)\")\n",
        "person_info = 'kim 010-1234-1234' #  010-1234-1234 kim\n",
        "p.sub(\"\\g<2>    \\g<1>\", person_info)  # 패턴의 순서로 그룹을 호출할 수도 있습니다"
      ],
      "metadata": {
        "id": "kkplrm6DjZ7x",
        "colab": {
          "base_uri": "https://localhost:8080/",
          "height": 35
        },
        "outputId": "4284f0cf-b586-402f-ffe7-85115162fbf6"
      },
      "execution_count": null,
      "outputs": [
        {
          "output_type": "execute_result",
          "data": {
            "text/plain": [
              "'010-1234-1234    kim'"
            ],
            "application/vnd.google.colaboratory.intrinsic+json": {
              "type": "string"
            }
          },
          "metadata": {},
          "execution_count": 28
        }
      ]
    },
    {
      "cell_type": "markdown",
      "source": [
        "# 출력 문자열 꾸미기\n",
        "- print(1, a)\n",
        "\n",
        "- 파이썬에서는 출력하고 싶은 문자열을 다양한 방법으로 꾸밀 수 있습니다.\n",
        "\n",
        "    1. f-string\n",
        "    2. format\n",
        "    3. %\n",
        "\n",
        "- 주로 아래의 방식으로 표기를 합니다.\n",
        "    (d - decimal(정수) / f - float(실수) / s - string(문자열))\n",
        "\n",
        "|데이터 예시| 출력 형식(formatting)\t|출력 결과|\t설명|\n",
        "|-----------|-----------|---------|-----|\n",
        "|10|3d|↔︎10|정수를 공백 포함해 세 자리로 표시 (↔︎은 공백 한 칸을 의미함)|\n",
        "|10|05d|00010|정수를 다섯 자리로 표시. 앞의 공백은 0으로 채움|\n",
        "|0.12345|.3f|0.123|실수를 소수점 셋째 자리까지 표시|\n",
        "|1234000|,|1,234,000|통화 표시처럼 끝에서 셋째 자리마다 ','를 표시|\n",
        "|0.1234|.1%|12.3%|숫자를 퍼센트(%)로 표시. 퍼센트 표시에서 소수점 자리 수는 '.' 다음 숫자로 표시|\n",
        "|12300000000|.2e|1.23e+10|숫자를 지수로 표시. 지수 표시에서 소수점 자리 수는 '.' 다음 숫자로 표시|\n"
      ],
      "metadata": {
        "id": "QMJ2qY-NVPC4"
      }
    },
    {
      "cell_type": "code",
      "source": [
        "print('The sum of 1 + 2 = 3')"
      ],
      "metadata": {
        "id": "XJ2a2Lxex97o",
        "colab": {
          "base_uri": "https://localhost:8080/"
        },
        "outputId": "0e383c2d-7c74-4f1d-d981-4681309228f2"
      },
      "execution_count": null,
      "outputs": [
        {
          "output_type": "stream",
          "name": "stdout",
          "text": [
            "The sum of 1 + 2 = 3\n"
          ]
        }
      ]
    },
    {
      "cell_type": "code",
      "source": [
        "print(1+2)"
      ],
      "metadata": {
        "id": "EHcgOTsPUuAB",
        "colab": {
          "base_uri": "https://localhost:8080/"
        },
        "outputId": "59ff5360-42bf-419d-9708-1a27696ac170"
      },
      "execution_count": null,
      "outputs": [
        {
          "output_type": "stream",
          "name": "stdout",
          "text": [
            "3\n"
          ]
        }
      ]
    },
    {
      "cell_type": "markdown",
      "source": [
        "- 개발자는 게으르니까 1+2 정도만 치면 3은 알아서 출력되게 하고 싶지 않았을까요?\n",
        "- 그런데 문자열 안에서는 연산을 할 수가 없습니다."
      ],
      "metadata": {
        "id": "PD12ehDAVo46"
      }
    },
    {
      "cell_type": "markdown",
      "source": [
        "## fstring\n",
        "- 문자열 앞에 f를 붙여주면 됩니다\n",
        "- 파이썬 3.6부터 사용 가능\n",
        "- 가장 최신 문법, 가장 간결하고 직관적인 표현법"
      ],
      "metadata": {
        "id": "Ca2CcuTuV1VS"
      }
    },
    {
      "cell_type": "code",
      "source": [
        "print(f'The sum of 1 + 2 = { 1 + 2 }')"
      ],
      "metadata": {
        "id": "Zv9VsTLLVzW5",
        "colab": {
          "base_uri": "https://localhost:8080/"
        },
        "outputId": "2a13e04c-d1ee-4daa-f1f9-d705fed9d299"
      },
      "execution_count": null,
      "outputs": [
        {
          "output_type": "stream",
          "name": "stdout",
          "text": [
            "The sum of 1 + 2 = 3\n"
          ]
        }
      ]
    },
    {
      "cell_type": "code",
      "source": [
        "a = 1\n",
        "b = 2\n",
        "print(f'The sum of {a} + {b} = { a+b }')"
      ],
      "metadata": {
        "id": "_vKIFtBiWO-F",
        "colab": {
          "base_uri": "https://localhost:8080/"
        },
        "outputId": "0796fc5c-4644-43f3-fb3b-97e62b55d752"
      },
      "execution_count": null,
      "outputs": [
        {
          "output_type": "stream",
          "name": "stdout",
          "text": [
            "The sum of 1 + 2 = 3\n"
          ]
        }
      ]
    },
    {
      "cell_type": "code",
      "source": [
        "a = 1\n",
        "b = 2\n",
        "print(F'The sum of {a} + {b} = { a+b }')"
      ],
      "metadata": {
        "id": "gEu9UZT4WKKy",
        "colab": {
          "base_uri": "https://localhost:8080/"
        },
        "outputId": "b4136208-1e84-41a1-ba35-02e0baa956c0"
      },
      "execution_count": null,
      "outputs": [
        {
          "output_type": "stream",
          "name": "stdout",
          "text": [
            "The sum of 1 + 2 = 3\n"
          ]
        }
      ]
    },
    {
      "cell_type": "code",
      "source": [
        "a = '하하하'\n",
        "b = 2\n",
        "print(f'The sum of {a} + {b} = { a*b }')"
      ],
      "metadata": {
        "id": "NR_aZFUFPkz9",
        "colab": {
          "base_uri": "https://localhost:8080/"
        },
        "outputId": "02b5fc88-c4ea-48c9-efeb-5f4dee3ac8f6"
      },
      "execution_count": null,
      "outputs": [
        {
          "output_type": "stream",
          "name": "stdout",
          "text": [
            "The sum of 하하하 + 2 = 하하하하하하\n"
          ]
        }
      ]
    },
    {
      "cell_type": "code",
      "source": [
        "a = 1.44\n",
        "b = 2\n",
        "print(f'The sum of {a} + {b:.2f} = { a*b }')"
      ],
      "metadata": {
        "id": "g10f5DHjWWbK",
        "colab": {
          "base_uri": "https://localhost:8080/"
        },
        "outputId": "9e3626ab-61c1-48b1-fde6-85a7a3759319"
      },
      "execution_count": null,
      "outputs": [
        {
          "output_type": "stream",
          "name": "stdout",
          "text": [
            "The sum of 1.44 + 2.00 = 2.88\n"
          ]
        }
      ]
    },
    {
      "cell_type": "code",
      "source": [
        "a = 1\n",
        "b = 2\n",
        "print(f'The sum of {a:04d} + {b:.2f} = { a*b }')"
      ],
      "metadata": {
        "id": "45XKX1FczCZJ",
        "colab": {
          "base_uri": "https://localhost:8080/"
        },
        "outputId": "fd22a11f-ec17-4ee4-c8bb-05ce1c5046e7"
      },
      "execution_count": null,
      "outputs": [
        {
          "output_type": "stream",
          "name": "stdout",
          "text": [
            "The sum of 0001 + 2.00 = 2\n"
          ]
        }
      ]
    },
    {
      "cell_type": "code",
      "source": [
        "a = 1242535363\n",
        "b = 2\n",
        "print(f'The sum of {a:,} + {b:.2f} = { a*b }')"
      ],
      "metadata": {
        "id": "z9NiE2SvWisR",
        "colab": {
          "base_uri": "https://localhost:8080/"
        },
        "outputId": "a9478e0d-9336-4b7d-9a66-96bb375e0761"
      },
      "execution_count": null,
      "outputs": [
        {
          "output_type": "stream",
          "name": "stdout",
          "text": [
            "The sum of 1,242,535,363 + 2.00 = 2485070726\n"
          ]
        }
      ]
    },
    {
      "cell_type": "code",
      "source": [
        "!python --version"
      ],
      "metadata": {
        "id": "B5aB1ZB6CXn1",
        "colab": {
          "base_uri": "https://localhost:8080/"
        },
        "outputId": "445c5f43-be96-4219-b8f1-cdfb29df69f6"
      },
      "execution_count": null,
      "outputs": [
        {
          "output_type": "stream",
          "name": "stdout",
          "text": [
            "Python 3.10.11\n"
          ]
        }
      ]
    },
    {
      "cell_type": "code",
      "source": [
        "a = '가나다라'\n",
        "\n",
        "print(f'결과: {a[::-1]}')"
      ],
      "metadata": {
        "id": "xD4pIEj7Wpkq",
        "colab": {
          "base_uri": "https://localhost:8080/"
        },
        "outputId": "8df174a8-46d1-4ff1-ad7f-1dd22fd9f2a0"
      },
      "execution_count": null,
      "outputs": [
        {
          "output_type": "stream",
          "name": "stdout",
          "text": [
            "결과: 라다나가\n"
          ]
        }
      ]
    },
    {
      "cell_type": "markdown",
      "source": [
        "- 주로 아래의 방식으로 표기를 합니다.\n",
        "    (d - decimal(정수) / f - float(실수) / s - string(문자열))\n",
        "\n",
        "|데이터 예시| 출력 형식(formatting)\t|출력 결과|\t설명|\n",
        "|-----------|-----------|---------|-----|\n",
        "|10|3d|↔︎10|정수를 공백 포함해 세 자리로 표시 (↔︎은 공백 한 칸을 의미함)|\n",
        "|10|05d|00010|정수를 다섯 자리로 표시. 앞의 공백은 0으로 채움|\n",
        "|0.12345|.3f|0.123|실수를 소수점 셋째 자리까지 표시|\n",
        "|1234000|,|1,234,000|통화 표시처럼 끝에서 셋째 자리마다 ','를 표시|\n",
        "|0.1234|.1%|12.3%|숫자를 퍼센트(%)로 표시. 퍼센트 표시에서 소수점 자리 수는 '.' 다음 숫자로 표시|\n",
        "|12300000000|.2e|1.23e+10|숫자를 지수로 표시. 지수 표시에서 소수점 자리 수는 '.' 다음 숫자로 표시|"
      ],
      "metadata": {
        "id": "Ockf4DecC5b5"
      }
    },
    {
      "cell_type": "code",
      "source": [
        "PI = 3.141\n",
        "r = 2\n",
        "\n",
        "print(f'파이: {round(PI, 2)}') # {표현내용}에 변수를 입력\n",
        "print(f'파이: {PI:.2f}') # {표현내용}에 변수를 입력\n",
        "print(f'반지름이 r인 원의 넓이: {r*r*PI:.3f}') # 반지름이 r인 원의 넓이를 소수점 셋째자리까지 출력해주시고\n",
        "print(f'반지름이 r인 원의 넓이: {r*r*PI:.0f}') # float이 decimal처럼 출력됩니다(원래 자료형을 거스를 순 없다)\n",
        "print(f'반지름이 r인 원의 넓이: {r**2*PI}') # r**2 : r의 거듭제곱\n",
        "print(F'36만원: {360000:,}')# 360000원을 세자리수마다 ,로 끊어서 출력해주세요\n"
      ],
      "metadata": {
        "id": "E-gk0n5GW_U7",
        "colab": {
          "base_uri": "https://localhost:8080/"
        },
        "outputId": "626c1e55-7842-4891-e1f8-925d2c4af221"
      },
      "execution_count": null,
      "outputs": [
        {
          "output_type": "stream",
          "name": "stdout",
          "text": [
            "파이: 3.14\n",
            "파이: 3.14\n",
            "반지름이 r인 원의 넓이: 12.564\n",
            "반지름이 r인 원의 넓이: 13\n",
            "반지름이 r인 원의 넓이: 12.564\n",
            "36만원: 360,000\n"
          ]
        }
      ]
    },
    {
      "cell_type": "code",
      "source": [
        "print(f'{0.1234:.1%}')"
      ],
      "metadata": {
        "colab": {
          "base_uri": "https://localhost:8080/"
        },
        "id": "NKemvVCp1zMU",
        "outputId": "49586173-3079-45a6-af31-bcc7642d4780"
      },
      "execution_count": null,
      "outputs": [
        {
          "output_type": "stream",
          "name": "stdout",
          "text": [
            "12.3%\n"
          ]
        }
      ]
    },
    {
      "cell_type": "code",
      "source": [
        "print(f'36만원: {0.360000:.2e}')"
      ],
      "metadata": {
        "id": "CRes6DeDXFBS",
        "colab": {
          "base_uri": "https://localhost:8080/"
        },
        "outputId": "7cdbe796-fe77-4a3f-e694-55d76715737b"
      },
      "execution_count": null,
      "outputs": [
        {
          "output_type": "stream",
          "name": "stdout",
          "text": [
            "36만원: 3.60e-01\n"
          ]
        }
      ]
    },
    {
      "cell_type": "code",
      "source": [
        "# 10\n",
        "print(f'36만원: {10:^5d} 만큼')"
      ],
      "metadata": {
        "id": "WFasPT1pfSYp",
        "colab": {
          "base_uri": "https://localhost:8080/"
        },
        "outputId": "4520c12c-a14a-4bf4-ce71-c14e41deab15"
      },
      "execution_count": null,
      "outputs": [
        {
          "output_type": "stream",
          "name": "stdout",
          "text": [
            "36만원:  10   만큼\n"
          ]
        }
      ]
    },
    {
      "cell_type": "code",
      "source": [
        "# 10\n",
        "print(f'36만원: {10:5d} 만큼')"
      ],
      "metadata": {
        "id": "_kKUARnWIhc4",
        "colab": {
          "base_uri": "https://localhost:8080/"
        },
        "outputId": "cb5c0541-723b-4ac8-9e1d-c6383d869b8d"
      },
      "execution_count": null,
      "outputs": [
        {
          "output_type": "stream",
          "name": "stdout",
          "text": [
            "36만원:    10 만큼\n"
          ]
        }
      ]
    },
    {
      "cell_type": "code",
      "source": [
        "# 10\n",
        "print(f'36만원: {10:_<5d} 만큼')"
      ],
      "metadata": {
        "id": "3vd_jfbOI2xA",
        "colab": {
          "base_uri": "https://localhost:8080/"
        },
        "outputId": "b702f009-1434-4855-f81a-4da1a4f0b890"
      },
      "execution_count": null,
      "outputs": [
        {
          "output_type": "stream",
          "name": "stdout",
          "text": [
            "36만원: 10___ 만큼\n"
          ]
        }
      ]
    },
    {
      "cell_type": "code",
      "source": [
        "# 10\n",
        "print(f'36만원: {10:*>5d} 만큼')"
      ],
      "metadata": {
        "id": "8RAudCShJOBL",
        "colab": {
          "base_uri": "https://localhost:8080/"
        },
        "outputId": "9c27947a-f248-4783-90e0-06164bdc0416"
      },
      "execution_count": null,
      "outputs": [
        {
          "output_type": "stream",
          "name": "stdout",
          "text": [
            "36만원: ***10 만큼\n"
          ]
        }
      ]
    },
    {
      "cell_type": "markdown",
      "source": [
        "# format\n",
        "- 문자열을 추가하거나 형식화하는데 사용하는 메소드입니다.\n",
        "- 파이썬3.1부터는 변수명/인덱스명을 생략 가능합니다\n",
        "\n",
        "```\n",
        "str.format(*args, **kwargs)\n",
        "```"
      ],
      "metadata": {
        "id": "Pk59M0sMXSJa"
      }
    },
    {
      "cell_type": "code",
      "source": [
        "a = '하하하'\n",
        "b = 2\n",
        "print('The sum of {} + {} = {}'.format(a, b, a*b))"
      ],
      "metadata": {
        "id": "_eypHWZiJ1BO",
        "colab": {
          "base_uri": "https://localhost:8080/"
        },
        "outputId": "8ef9724c-7330-4fed-cc4b-4425a4156bb0"
      },
      "execution_count": null,
      "outputs": [
        {
          "output_type": "stream",
          "name": "stdout",
          "text": [
            "The sum of 하하하 + 2 = 하하하하하하\n"
          ]
        }
      ]
    },
    {
      "cell_type": "code",
      "source": [
        "a = '하하하'\n",
        "b = 2\n",
        "print('The sum of {} + {} = {}'.format(a, b))"
      ],
      "metadata": {
        "id": "qKN0FiYmXMBT",
        "colab": {
          "base_uri": "https://localhost:8080/",
          "height": 209
        },
        "outputId": "8847583c-9b38-48a2-fe64-b8a4fe92655b"
      },
      "execution_count": null,
      "outputs": [
        {
          "output_type": "error",
          "ename": "IndexError",
          "evalue": "ignored",
          "traceback": [
            "\u001b[0;31m---------------------------------------------------------------------------\u001b[0m",
            "\u001b[0;31mIndexError\u001b[0m                                Traceback (most recent call last)",
            "\u001b[0;32m<ipython-input-71-439c8efb1928>\u001b[0m in \u001b[0;36m<cell line: 3>\u001b[0;34m()\u001b[0m\n\u001b[1;32m      1\u001b[0m \u001b[0ma\u001b[0m \u001b[0;34m=\u001b[0m \u001b[0;34m'하하하'\u001b[0m\u001b[0;34m\u001b[0m\u001b[0;34m\u001b[0m\u001b[0m\n\u001b[1;32m      2\u001b[0m \u001b[0mb\u001b[0m \u001b[0;34m=\u001b[0m \u001b[0;36m2\u001b[0m\u001b[0;34m\u001b[0m\u001b[0;34m\u001b[0m\u001b[0m\n\u001b[0;32m----> 3\u001b[0;31m \u001b[0mprint\u001b[0m\u001b[0;34m(\u001b[0m\u001b[0;34m'The sum of {} + {} = {}'\u001b[0m\u001b[0;34m.\u001b[0m\u001b[0mformat\u001b[0m\u001b[0;34m(\u001b[0m\u001b[0ma\u001b[0m\u001b[0;34m,\u001b[0m \u001b[0mb\u001b[0m\u001b[0;34m)\u001b[0m\u001b[0;34m)\u001b[0m\u001b[0;34m\u001b[0m\u001b[0;34m\u001b[0m\u001b[0m\n\u001b[0m",
            "\u001b[0;31mIndexError\u001b[0m: Replacement index 2 out of range for positional args tuple"
          ]
        }
      ]
    },
    {
      "cell_type": "code",
      "source": [
        "a = '하하하'\n",
        "b = 2\n",
        "# 튜플(순서가 있는 자료형)이기 때문에 순서대로 값을 부를 수 있습니다\n",
        "print('The sum of {2} + {0} = {1}'.format(a, b, a*b))"
      ],
      "metadata": {
        "id": "QJbUrvczKLMe",
        "colab": {
          "base_uri": "https://localhost:8080/"
        },
        "outputId": "65330774-c7a9-4ddf-d4ae-9ee7c76b502a"
      },
      "execution_count": null,
      "outputs": [
        {
          "output_type": "stream",
          "name": "stdout",
          "text": [
            "The sum of 하하하하하하 + 하하하 = 2\n"
          ]
        }
      ]
    },
    {
      "cell_type": "code",
      "source": [
        "a = '하하하'\n",
        "b = 2\n",
        "# 튜플(순서가 있는 자료형)이기 때문에 순서대로 값을 부를 수 있습니다\n",
        "print('The sum of {2} + {0} = {1:.2f}'.format(a, b, a*b))"
      ],
      "metadata": {
        "id": "XdUd-8oIXx8r",
        "colab": {
          "base_uri": "https://localhost:8080/"
        },
        "outputId": "e917ea14-f0b4-45ff-f15a-3a94f1f83049"
      },
      "execution_count": null,
      "outputs": [
        {
          "output_type": "stream",
          "name": "stdout",
          "text": [
            "The sum of 하하하하하하 + 하하하 = 2.00\n"
          ]
        }
      ]
    },
    {
      "cell_type": "code",
      "source": [
        "PI"
      ],
      "metadata": {
        "colab": {
          "base_uri": "https://localhost:8080/"
        },
        "id": "3cREdCim4BGD",
        "outputId": "160312da-53fc-43ca-f7e0-0fb7a63d8f30"
      },
      "execution_count": null,
      "outputs": [
        {
          "output_type": "execute_result",
          "data": {
            "text/plain": [
              "3.141"
            ]
          },
          "metadata": {},
          "execution_count": 75
        }
      ]
    },
    {
      "cell_type": "code",
      "source": [
        "print('파이: {:.2f}'.format(PI))\n",
        "print('파이: {:.3f}'.format(PI))\n",
        "print('반지름이 r인 원의 넓이: {}'.format(int(r*r*PI)))\n",
        "print('반지름이 r인 원의 넓이: {:.0f}'.format(r**2*PI))\n",
        "print('반지름이 r인 원의 넓이: {:.3f}'.format(r**2*PI))\n",
        "print('36만원: {:,}'.format(360000))\n",
        "print('36만원: {:^10d} 입니다'.format(360000)) # ^ 가운데 정렬\n",
        "print('36만원: {:<10d} 입니다'.format(360000)) # < 왼쪽 정렬\n",
        "print('36만원: {:>10d} 입니다'.format(360000)) # > 오른쪽 정렬\n",
        "print('36만원: {:^10s} 입니다'.format('삼십육만원')) # ^ 중앙 정렬\n",
        "print('36만원: {:^10.3s} 입니다'.format('삼십육만원')) # ^m.n(타입) m칸짜리 중앙정렬을 하겠다. 해당변수에서 n개만 출력하겠다\n",
        "print('36만원: {:!^10.3s} 입니다'.format('삼십육만원')) # ! ^m.n(타입): 빈칸을 '!'로 채워넣는 m칸짜리 중앙정렬을 하겠다. 해당변수에서 n개만 출력하겠다"
      ],
      "metadata": {
        "id": "K_U7o27XX4gi",
        "colab": {
          "base_uri": "https://localhost:8080/"
        },
        "outputId": "7fe30a2e-8c61-46f9-a960-05887fc5fc41"
      },
      "execution_count": null,
      "outputs": [
        {
          "output_type": "stream",
          "name": "stdout",
          "text": [
            "파이: 3.14\n",
            "파이: 3.141\n",
            "반지름이 r인 원의 넓이: 12\n",
            "반지름이 r인 원의 넓이: 13\n",
            "반지름이 r인 원의 넓이: 12.564\n",
            "36만원: 360,000\n",
            "36만원:   360000   입니다\n",
            "36만원: 360000     입니다\n",
            "36만원:     360000 입니다\n",
            "36만원:   삼십육만원    입니다\n",
            "36만원:    삼십육     입니다\n",
            "36만원: !!!삼십육!!!! 입니다\n"
          ]
        }
      ]
    },
    {
      "cell_type": "markdown",
      "source": [
        "# % 뒤 문자열 데이터를 출력하는 방법\n",
        "\n",
        "- %d - 정수 표현 - int / decimal (십진법)\n",
        "- %s - 문자 표현 - str\n",
        "- %f - 소수를 표현 - float\n",
        "- 호환은 되지만 데이터 손실이 있다"
      ],
      "metadata": {
        "id": "yWxbY9nahh_C"
      }
    },
    {
      "cell_type": "code",
      "source": [
        "a = 1.5432\n",
        "b = 2\n",
        "add = '글자'"
      ],
      "metadata": {
        "id": "W-e1VQys9lUR"
      },
      "execution_count": null,
      "outputs": []
    },
    {
      "cell_type": "code",
      "source": [
        "print('The sum of %f + %d = %s' % (a, b, add))"
      ],
      "metadata": {
        "id": "KyWTMzophQ3S",
        "colab": {
          "base_uri": "https://localhost:8080/"
        },
        "outputId": "0caa63c8-d302-42fe-d83b-fa65203ad6f4"
      },
      "execution_count": null,
      "outputs": [
        {
          "output_type": "stream",
          "name": "stdout",
          "text": [
            "The sum of 1.543200 + 2 = 글자\n"
          ]
        }
      ]
    },
    {
      "cell_type": "code",
      "source": [
        "print('The sum of %f + %f = %s' % (a, b, add))"
      ],
      "metadata": {
        "id": "5ptY68G4908V",
        "colab": {
          "base_uri": "https://localhost:8080/"
        },
        "outputId": "e36ef2c3-7801-4ec3-c036-e425526b741e"
      },
      "execution_count": null,
      "outputs": [
        {
          "output_type": "stream",
          "name": "stdout",
          "text": [
            "The sum of 1.543200 + 2.000000 = 글자\n"
          ]
        }
      ]
    },
    {
      "cell_type": "code",
      "source": [
        "print('The sum of %.4f + %.3d = %s' % (a, b, add))"
      ],
      "metadata": {
        "id": "YTNt-XxcAuvp",
        "colab": {
          "base_uri": "https://localhost:8080/"
        },
        "outputId": "9e222d20-8558-45f0-9e24-2f5e4e94fdf0"
      },
      "execution_count": null,
      "outputs": [
        {
          "output_type": "stream",
          "name": "stdout",
          "text": [
            "The sum of 1.5432 + 002 = 글자\n"
          ]
        }
      ]
    },
    {
      "cell_type": "markdown",
      "source": [
        "- 참고 : https://pyformat.info/"
      ],
      "metadata": {
        "id": "BSGpwKsemcRR"
      }
    },
    {
      "cell_type": "code",
      "source": [
        "'{:{}{sign}{}.{}}'.format(-2.7182818284, '>', 10, 3, sign='-')"
      ],
      "metadata": {
        "id": "2ZrnQItW-vJS",
        "colab": {
          "base_uri": "https://localhost:8080/",
          "height": 35
        },
        "outputId": "d33d9148-53e5-4e00-e255-f0ace7cbad5c"
      },
      "execution_count": null,
      "outputs": [
        {
          "output_type": "execute_result",
          "data": {
            "text/plain": [
              "'     -2.72'"
            ],
            "application/vnd.google.colaboratory.intrinsic+json": {
              "type": "string"
            }
          },
          "metadata": {},
          "execution_count": 83
        }
      ]
    },
    {
      "cell_type": "markdown",
      "source": [
        "# 0. 복습"
      ],
      "metadata": {
        "id": "G1DeVfkQNjLe"
      }
    },
    {
      "cell_type": "markdown",
      "source": [
        "1-1. input() 함수를 활용하여 hobby라는 문자열에 취미를 1개만 입력받아주세요. 사용자가 입력하지 않으면 화면에는 아무것도 뜨지 않고 hobby 변수에만 '취미없음'이 입력되도록 프로그래밍해주세요."
      ],
      "metadata": {
        "id": "YdELtE0tFYF_"
      }
    },
    {
      "cell_type": "code",
      "source": [
        "hobby = input() or '취미없음'   # 파이썬 인터프리터가 단락평가를 하는 점을 이용합니다"
      ],
      "metadata": {
        "id": "1rVTOyQ6FmVK",
        "colab": {
          "base_uri": "https://localhost:8080/"
        },
        "outputId": "828a5b89-9410-4d16-f33e-304e2514a46a"
      },
      "execution_count": null,
      "outputs": [
        {
          "name": "stdout",
          "output_type": "stream",
          "text": [
            "\n"
          ]
        }
      ]
    },
    {
      "cell_type": "code",
      "source": [
        "hobby"
      ],
      "metadata": {
        "colab": {
          "base_uri": "https://localhost:8080/",
          "height": 35
        },
        "id": "y7gS6f2R82RB",
        "outputId": "0df3f96c-6513-434e-e6e7-7349c25b6c51"
      },
      "execution_count": null,
      "outputs": [
        {
          "output_type": "execute_result",
          "data": {
            "text/plain": [
              "'취미없음'"
            ],
            "application/vnd.google.colaboratory.intrinsic+json": {
              "type": "string"
            }
          },
          "metadata": {},
          "execution_count": 90
        }
      ]
    },
    {
      "cell_type": "code",
      "source": [
        "bool(hobby)"
      ],
      "metadata": {
        "colab": {
          "base_uri": "https://localhost:8080/"
        },
        "id": "RYsPsTYr8-Ki",
        "outputId": "54a9f972-3244-4d5e-aa94-e8b5d667ea06"
      },
      "execution_count": null,
      "outputs": [
        {
          "output_type": "execute_result",
          "data": {
            "text/plain": [
              "False"
            ]
          },
          "metadata": {},
          "execution_count": 88
        }
      ]
    },
    {
      "cell_type": "markdown",
      "source": [
        "1-2. input()과 split() 함수를 활용하여 hobby라는 리스트에 취미를 2개 이상 입력받아주세요. 사용자는 취미를 '/'로 구분해 입력합니다.\n",
        "\n",
        "- 만약 사용자가 엔터를 누르면 사용자에게는 아무것도 뜨지 않고 종료됩니다. 이 경우 hobby에는 무엇이 저장되는지 확인해보세요."
      ],
      "metadata": {
        "id": "Zwf4RB4SDoOS"
      }
    },
    {
      "cell_type": "code",
      "source": [
        "# 함수를 연쇄적으로 사용\n",
        "hobby = input(' /로 구분해서 입력해주세요').split('/')"
      ],
      "metadata": {
        "id": "nZmpmGMKDkmq",
        "colab": {
          "base_uri": "https://localhost:8080/"
        },
        "outputId": "f0c00f05-d109-44e0-95fd-08c2c3818a52"
      },
      "execution_count": null,
      "outputs": [
        {
          "name": "stdout",
          "output_type": "stream",
          "text": [
            " /로 구분해서 입력해주세요책읽기/자전거타기\n"
          ]
        }
      ]
    },
    {
      "cell_type": "code",
      "source": [
        "hobby"
      ],
      "metadata": {
        "id": "r61L0TvDNxiK",
        "colab": {
          "base_uri": "https://localhost:8080/"
        },
        "outputId": "5eed6834-5e71-4d65-d7fa-756062dcec5d"
      },
      "execution_count": null,
      "outputs": [
        {
          "output_type": "execute_result",
          "data": {
            "text/plain": [
              "['책읽기', '자전거타기']"
            ]
          },
          "metadata": {},
          "execution_count": 95
        }
      ]
    },
    {
      "cell_type": "markdown",
      "source": [
        "2-1. 변수 answer에 'life is 42'를 바인딩하시고, 해당 변수를 전부 대문자로 출력하세요."
      ],
      "metadata": {
        "id": "HPuT1GJd9WFh"
      }
    },
    {
      "cell_type": "code",
      "source": [
        "answer = 'life is 42'"
      ],
      "metadata": {
        "id": "3NEMG1XSKcuX"
      },
      "execution_count": null,
      "outputs": []
    },
    {
      "cell_type": "code",
      "source": [
        "answer.upper()"
      ],
      "metadata": {
        "colab": {
          "base_uri": "https://localhost:8080/",
          "height": 35
        },
        "id": "Um8kZvob9rzm",
        "outputId": "a53e69ab-039c-4fea-9479-524dd577f2bb"
      },
      "execution_count": null,
      "outputs": [
        {
          "output_type": "execute_result",
          "data": {
            "text/plain": [
              "'LIFE IS 42'"
            ],
            "application/vnd.google.colaboratory.intrinsic+json": {
              "type": "string"
            }
          },
          "metadata": {},
          "execution_count": 99
        }
      ]
    },
    {
      "cell_type": "code",
      "source": [
        "answer"
      ],
      "metadata": {
        "colab": {
          "base_uri": "https://localhost:8080/",
          "height": 35
        },
        "id": "s5KLWmyp9ztS",
        "outputId": "79d9e5ed-ae75-40b5-ade8-ba9edbb598a6"
      },
      "execution_count": null,
      "outputs": [
        {
          "output_type": "execute_result",
          "data": {
            "text/plain": [
              "'life is 42'"
            ],
            "application/vnd.google.colaboratory.intrinsic+json": {
              "type": "string"
            }
          },
          "metadata": {},
          "execution_count": 100
        }
      ]
    },
    {
      "cell_type": "markdown",
      "source": [
        "2-2. 위의 변수를 전부 소문자로 출력해보세요."
      ],
      "metadata": {
        "id": "M3MS-3ZrKe4s"
      }
    },
    {
      "cell_type": "code",
      "source": [
        "answer.lower()"
      ],
      "metadata": {
        "id": "JelyDpObQaPW",
        "colab": {
          "base_uri": "https://localhost:8080/",
          "height": 35
        },
        "outputId": "0e3e4372-f0ca-4af5-8c43-add1070d4b03"
      },
      "execution_count": null,
      "outputs": [
        {
          "output_type": "execute_result",
          "data": {
            "text/plain": [
              "'life is 42'"
            ],
            "application/vnd.google.colaboratory.intrinsic+json": {
              "type": "string"
            }
          },
          "metadata": {},
          "execution_count": 101
        }
      ]
    },
    {
      "cell_type": "markdown",
      "source": [
        "2-3. 이번에는 capitalize 메소드를 사용하여 answer 변수에 들어있는 문장 앞 글자만 대문자가 되게 출력해보세요."
      ],
      "metadata": {
        "id": "EURA4o6cQbP_"
      }
    },
    {
      "cell_type": "code",
      "source": [
        "answer.capitalize()"
      ],
      "metadata": {
        "id": "E9ulYKM3RPbr",
        "colab": {
          "base_uri": "https://localhost:8080/",
          "height": 35
        },
        "outputId": "ec7a8a2c-3980-40ab-d9f5-96e0693783ba"
      },
      "execution_count": null,
      "outputs": [
        {
          "output_type": "execute_result",
          "data": {
            "text/plain": [
              "'Life is 42'"
            ],
            "application/vnd.google.colaboratory.intrinsic+json": {
              "type": "string"
            }
          },
          "metadata": {},
          "execution_count": 102
        }
      ]
    },
    {
      "cell_type": "code",
      "source": [
        "answer2 = 'life is 42. but my life is 1 2 3. '"
      ],
      "metadata": {
        "id": "jwX3-r2H98Af"
      },
      "execution_count": null,
      "outputs": []
    },
    {
      "cell_type": "code",
      "source": [
        "for answer in answer2.split('. '):\n",
        "    print(answer.capitalize())"
      ],
      "metadata": {
        "colab": {
          "base_uri": "https://localhost:8080/"
        },
        "id": "ChmFOD0V-ANA",
        "outputId": "57f46f12-8122-483c-c8d9-c90af0682e1f"
      },
      "execution_count": null,
      "outputs": [
        {
          "output_type": "stream",
          "name": "stdout",
          "text": [
            "Life is 42\n",
            "But my life is 1 2 3\n",
            "\n"
          ]
        }
      ]
    },
    {
      "cell_type": "markdown",
      "source": [
        "2-4. answer 변수에서 '42'라는 단어가 시작되는 인덱스번호를 찾아 출력해주세요."
      ],
      "metadata": {
        "id": "b0N19_E83dcH"
      }
    },
    {
      "cell_type": "code",
      "source": [
        "answer"
      ],
      "metadata": {
        "colab": {
          "base_uri": "https://localhost:8080/",
          "height": 35
        },
        "id": "JnZEwVc2-asy",
        "outputId": "2c1d6337-ddb3-46d3-a34a-60cc0878a139"
      },
      "execution_count": null,
      "outputs": [
        {
          "output_type": "execute_result",
          "data": {
            "text/plain": [
              "''"
            ],
            "application/vnd.google.colaboratory.intrinsic+json": {
              "type": "string"
            }
          },
          "metadata": {},
          "execution_count": 111
        }
      ]
    },
    {
      "cell_type": "code",
      "source": [
        "answer = 'life is 42. 4 2. 4 2 2.'"
      ],
      "metadata": {
        "id": "GjZENgv1-gYG"
      },
      "execution_count": null,
      "outputs": []
    },
    {
      "cell_type": "code",
      "source": [
        "answer.find('4 2')"
      ],
      "metadata": {
        "id": "EeeROUwM3cy-",
        "colab": {
          "base_uri": "https://localhost:8080/"
        },
        "outputId": "8854a293-3136-4d89-a818-de51c6466759"
      },
      "execution_count": null,
      "outputs": [
        {
          "output_type": "execute_result",
          "data": {
            "text/plain": [
              "12"
            ]
          },
          "metadata": {},
          "execution_count": 119
        }
      ]
    },
    {
      "cell_type": "code",
      "source": [
        "answer.find('-6')  # 값이 없으면 -1을 출력"
      ],
      "metadata": {
        "id": "qzsqplpBPAcg",
        "colab": {
          "base_uri": "https://localhost:8080/"
        },
        "outputId": "9910c01d-f03d-43f6-9b6d-0d90c55c9540"
      },
      "execution_count": null,
      "outputs": [
        {
          "output_type": "execute_result",
          "data": {
            "text/plain": [
              "-1"
            ]
          },
          "metadata": {},
          "execution_count": 120
        }
      ]
    },
    {
      "cell_type": "markdown",
      "source": [
        "2-5. answer 변수에서 '42' 대신 '60'으로 숫자를 변경해보세요."
      ],
      "metadata": {
        "id": "DUC8mdQ_PZSq"
      }
    },
    {
      "cell_type": "code",
      "source": [
        "answer.replace('42','60')"
      ],
      "metadata": {
        "id": "XYqkZZP8PYlx",
        "colab": {
          "base_uri": "https://localhost:8080/",
          "height": 35
        },
        "outputId": "db33c8a6-8ae8-44ce-b877-332c74929024"
      },
      "execution_count": null,
      "outputs": [
        {
          "output_type": "execute_result",
          "data": {
            "text/plain": [
              "'life is 60. 4 2. 4 2 2.'"
            ],
            "application/vnd.google.colaboratory.intrinsic+json": {
              "type": "string"
            }
          },
          "metadata": {},
          "execution_count": 121
        }
      ]
    },
    {
      "cell_type": "code",
      "source": [
        "answer"
      ],
      "metadata": {
        "id": "juExpUYDPemn",
        "colab": {
          "base_uri": "https://localhost:8080/",
          "height": 35
        },
        "outputId": "3678ad64-1c40-4e60-9f78-295c86e12119"
      },
      "execution_count": null,
      "outputs": [
        {
          "output_type": "execute_result",
          "data": {
            "text/plain": [
              "'life is 42. 4 2. 4 2 2.'"
            ],
            "application/vnd.google.colaboratory.intrinsic+json": {
              "type": "string"
            }
          },
          "metadata": {},
          "execution_count": 122
        }
      ]
    },
    {
      "cell_type": "code",
      "source": [
        "answer.replace('4 2','60')"
      ],
      "metadata": {
        "colab": {
          "base_uri": "https://localhost:8080/",
          "height": 35
        },
        "id": "iIQJc46G--sN",
        "outputId": "a8c9b1ab-26d2-4a23-9b96-8959fa58133c"
      },
      "execution_count": null,
      "outputs": [
        {
          "output_type": "execute_result",
          "data": {
            "text/plain": [
              "'life is 42. 60. 60 2.'"
            ],
            "application/vnd.google.colaboratory.intrinsic+json": {
              "type": "string"
            }
          },
          "metadata": {},
          "execution_count": 124
        }
      ]
    },
    {
      "cell_type": "markdown",
      "source": [
        "3. 아래 리스트의 각 동물이름의 첫 글자를 대문자로 변경해서 출력해보세요.\n",
        "~~~\n",
        "list1 = ['dog', 'cat', 'rabbit']\n",
        "~~~"
      ],
      "metadata": {
        "id": "X7YimfETqio1"
      }
    },
    {
      "cell_type": "code",
      "source": [
        "list1 = ['dog', 'cat', 'rabbit']\n",
        "\n",
        "for li in list1:\n",
        "    print(li.capitalize())"
      ],
      "metadata": {
        "id": "CiT9CI2FyzlJ",
        "colab": {
          "base_uri": "https://localhost:8080/"
        },
        "outputId": "1a45b917-4a66-4c1d-bbf8-e021cd7bb169"
      },
      "execution_count": null,
      "outputs": [
        {
          "output_type": "stream",
          "name": "stdout",
          "text": [
            "Dog\n",
            "Cat\n",
            "Rabbit\n"
          ]
        }
      ]
    },
    {
      "cell_type": "markdown",
      "source": [
        "4. input()으로 휴대폰 번호를 입력받고 숫자로 된 000-0000-0000의 형식이면 가장 뒷자리를 * 4개 로 변경하여 출력하고(010-0000-****), 입력 형식에 맞지 않으면 다시 입력받는 프로그램을 만들어주세요."
      ],
      "metadata": {
        "id": "2T2BiGiER5Yv"
      }
    },
    {
      "cell_type": "code",
      "source": [
        "# match(처음글자부터 일치하는지), search(전체 문자열 탐색), findall (리스트)\n",
        "# finditer(전체 문자열에서 탐색하여 반복 가능한 객체)\n",
        "import re\n",
        "                 # (010-1234)-(5678)\n",
        "p = re.compile('(?P<num1>[0-9]{3}-[0-9]{4})-(?P<num2>[0-9]{4})')\n",
        "\n",
        "# 반복문\n",
        "while True:\n",
        "    num = input('휴대전화 번호 입력')\n",
        "\n",
        "    if p.match(num):\n",
        "        print(p.sub('\\g<num1>-****', num))\n",
        "        break"
      ],
      "metadata": {
        "id": "-GA8UL2xq371",
        "colab": {
          "base_uri": "https://localhost:8080/"
        },
        "outputId": "69efdf58-fd5b-407e-ed3c-d81649c79e01"
      },
      "execution_count": null,
      "outputs": [
        {
          "output_type": "stream",
          "name": "stdout",
          "text": [
            "휴대전화 번호 입력011-1111-1111\n",
            "011-1111-****\n"
          ]
        }
      ]
    },
    {
      "cell_type": "code",
      "source": [
        "# match(처음글자부터 일치하는지), search(전체 문자열 탐색), findall (리스트)\n",
        "# finditer(전체 문자열에서 탐색하여 반복 가능한 객체)\n",
        "import re\n",
        "                 # (010-1234)-(5678)\n",
        "p = re.compile('([0-9]{3}-[0-9]{4})-([0-9]{4})')\n",
        "\n",
        "# 반복문\n",
        "while True:\n",
        "    num = input('휴대전화 번호 입력')\n",
        "\n",
        "    if p.match(num):\n",
        "        print(p.sub('\\g<1>-****', num))\n",
        "        break"
      ],
      "metadata": {
        "colab": {
          "base_uri": "https://localhost:8080/"
        },
        "id": "eGHElVVPDsxO",
        "outputId": "b1c754b4-64c1-4594-c9a6-fdbb44793fe8"
      },
      "execution_count": null,
      "outputs": [
        {
          "output_type": "stream",
          "name": "stdout",
          "text": [
            "휴대전화 번호 입력011-1111-1111\n",
            "011-1111-****\n"
          ]
        }
      ]
    },
    {
      "cell_type": "markdown",
      "source": [
        "5. 아래 파일 중 '파일명.확장자' 형태만 검출하는 정규식 표현을 만들어주세요."
      ],
      "metadata": {
        "id": "u-LcYzQCPlC-"
      }
    },
    {
      "cell_type": "code",
      "source": [
        "# . ^ $ * + ? { } [ ] \\ | ( ) : 메타문자 - 원래 그 문자가 가진 뜻이 아닌 특별한 용도로 사용하는 문자\n",
        "tests = [\"test.zip\", \"testzip\", \"python.py\", \"test.bat\"]\n",
        "\n",
        "p = re.compile('\\w+\\.\\w+')\n",
        "\n",
        "for test in tests:\n",
        "    print(p.match(test))"
      ],
      "metadata": {
        "id": "9QLvSeyyPlC-",
        "colab": {
          "base_uri": "https://localhost:8080/"
        },
        "outputId": "b0af4b17-f3a3-43ed-bb96-7a6eeb552c34"
      },
      "execution_count": null,
      "outputs": [
        {
          "output_type": "stream",
          "name": "stdout",
          "text": [
            "<re.Match object; span=(0, 8), match='test.zip'>\n",
            "None\n",
            "<re.Match object; span=(0, 9), match='python.py'>\n",
            "<re.Match object; span=(0, 8), match='test.bat'>\n"
          ]
        }
      ]
    },
    {
      "cell_type": "markdown",
      "source": [
        "# 문자열(텍스트 데이터)의 입/출력"
      ],
      "metadata": {
        "id": "d24KrnRFUhVx"
      }
    },
    {
      "cell_type": "markdown",
      "source": [
        "# 표준 출력\n",
        "- print() 는 파이썬의 표준 출력 함수입니다.\n",
        "    - 표준 출력 장비(모니터)로 출력을 보내주는 함수를 의미합니다.\n",
        "\n",
        "```\n",
        " print(value, ..., sep=' ', end='\\n', file=sys.stdout, flush=False)\n",
        "```\n",
        "\n",
        "텍스트 데이터인 경우\n",
        "- # w : 쓰기 모드, r: 읽기 모드, a: 추가 모드\n",
        "\n",
        "바이너리 데이터인 경우\n",
        "-  # wb : 쓰기 모드, rb: 읽기 모드, ab: 추가 모드\n",
        "\n"
      ],
      "metadata": {
        "id": "DA3tudF955_h"
      }
    },
    {
      "cell_type": "code",
      "source": [
        "# with open(파일명, 모드) as 파일을 가리키는 약어:\n",
        "with open('test.txt', 'w') as f1:\n",
        "    print('안녕하세요', file=f1)"
      ],
      "metadata": {
        "id": "Da5P07w96Q2m"
      },
      "execution_count": null,
      "outputs": []
    },
    {
      "cell_type": "code",
      "source": [
        "# with open(파일명, 모드) as 파일을 가리키는 약어:\n",
        "with open('test.txt', 'w') as f1:\n",
        "    print('김연지입니다', file=f1)"
      ],
      "metadata": {
        "id": "sWWs5_0-H6Nn"
      },
      "execution_count": null,
      "outputs": []
    },
    {
      "cell_type": "code",
      "source": [
        "# with open(파일명, 모드) as 파일을 가리키는 약어:\n",
        "# 들여쓰기 내부 실행문이 종료되는 순간 파일이 닫힌다\n",
        "with open('test.txt', 'a') as f1:\n",
        "    print('김연지입니다2', file=f1)"
      ],
      "metadata": {
        "id": "95DRRjD2CPlH"
      },
      "execution_count": null,
      "outputs": []
    },
    {
      "cell_type": "code",
      "source": [
        "# 파일을 여는 두번째 방법 open 함수를 이용한 변수 생성\n",
        "f2 = open('test2.txt', 'w')"
      ],
      "metadata": {
        "id": "vvaL1MaRCVUX"
      },
      "execution_count": null,
      "outputs": []
    },
    {
      "cell_type": "code",
      "source": [
        "f2"
      ],
      "metadata": {
        "id": "ydwcqw3ACe_X",
        "colab": {
          "base_uri": "https://localhost:8080/"
        },
        "outputId": "989f3ba3-de91-45fe-f7f5-d1338de61449"
      },
      "execution_count": null,
      "outputs": [
        {
          "output_type": "execute_result",
          "data": {
            "text/plain": [
              "<_io.TextIOWrapper name='test2.txt' mode='w' encoding='UTF-8'>"
            ]
          },
          "metadata": {},
          "execution_count": 138
        }
      ]
    },
    {
      "cell_type": "code",
      "source": [
        "f2.write('열한시 이십분')"
      ],
      "metadata": {
        "colab": {
          "base_uri": "https://localhost:8080/"
        },
        "id": "wtzkokZqG-Ss",
        "outputId": "87747763-1cff-4c99-f27f-8cfa70127652"
      },
      "execution_count": null,
      "outputs": [
        {
          "output_type": "execute_result",
          "data": {
            "text/plain": [
              "7"
            ]
          },
          "metadata": {},
          "execution_count": 139
        }
      ]
    },
    {
      "cell_type": "code",
      "source": [
        "f2.close()"
      ],
      "metadata": {
        "id": "9OQrxaKGC129"
      },
      "execution_count": null,
      "outputs": []
    },
    {
      "cell_type": "code",
      "source": [
        "f2 = open('test2.txt', 'a')"
      ],
      "metadata": {
        "id": "xWD6v4-y6Vok"
      },
      "execution_count": null,
      "outputs": []
    },
    {
      "cell_type": "code",
      "source": [
        "print('열한시 이십일분', file=f2)"
      ],
      "metadata": {
        "id": "-XXelm3L6nqS"
      },
      "execution_count": null,
      "outputs": []
    },
    {
      "cell_type": "code",
      "source": [
        "f2.close()"
      ],
      "metadata": {
        "id": "Ry1dtr6g63j8"
      },
      "execution_count": null,
      "outputs": []
    },
    {
      "cell_type": "code",
      "source": [
        "f2 = open('test2.txt', 'a')"
      ],
      "metadata": {
        "id": "h5pmJLzREQoY"
      },
      "execution_count": null,
      "outputs": []
    },
    {
      "cell_type": "code",
      "source": [
        "print('열한시 이십사분', file=f2, flush=True)"
      ],
      "metadata": {
        "id": "dMzetua0FqZl"
      },
      "execution_count": null,
      "outputs": []
    },
    {
      "cell_type": "code",
      "source": [
        "f2.close()"
      ],
      "metadata": {
        "id": "iT2ObhHdEmic"
      },
      "execution_count": null,
      "outputs": []
    },
    {
      "cell_type": "code",
      "source": [
        "# with open(파일명, 모드) as 파일을 가리키는 약어:\n",
        "with open('test.txt', 'w') as f1:\n",
        "    for i in range(5):\n",
        "        if i == 3:\n",
        "            print(i, '김연지입니다', file=f1)"
      ],
      "metadata": {
        "id": "jG8FGijwFG7c"
      },
      "execution_count": null,
      "outputs": []
    },
    {
      "cell_type": "markdown",
      "source": [
        "## 실습\n",
        "```\n",
        "짱구     개나리반      5세\n",
        "짱아     장미반        2세\n",
        "훈이     개나리반      5세\n",
        "```\n",
        "위 내용이 들어있는 jjanggu.csv 파일을 만들어주세요.\n",
        "구분자(sep)는 콤마, end=\\t (4칸씩)\n"
      ],
      "metadata": {
        "id": "tBG8nOC_L_er"
      }
    },
    {
      "cell_type": "code",
      "source": [
        "# comma saperated value의 약자로 쉼표 단위로 데이터를 끊어서 관리하는 자료형입니다.\n",
        "\n",
        "with open('jjanggu.csv', 'w') as f:\n",
        "    print('짱구,개나리반,5세', file=f)"
      ],
      "metadata": {
        "id": "wrjiatX9L_er"
      },
      "execution_count": null,
      "outputs": []
    },
    {
      "cell_type": "code",
      "source": [
        "with open('jjanggu.csv', 'a') as f:\n",
        "    print('짱아,장미반,2세', file=f)\n",
        "    print('훈이','개나리반','5세', file=f, sep=',')"
      ],
      "metadata": {
        "id": "vPvDvkr_L_er"
      },
      "execution_count": null,
      "outputs": []
    },
    {
      "cell_type": "code",
      "source": [
        "# 기본 인코딩 방식: utf-8 (웹 표준)\n",
        "# 윈도우, microsoft excel은 다른 인코딩 방식을 사용 - cp949 또는 euc-kr"
      ],
      "metadata": {
        "id": "2xsjcUfkPzLx"
      },
      "execution_count": null,
      "outputs": []
    },
    {
      "cell_type": "code",
      "source": [
        "with open('jjanggu.csv', 'w', encoding='cp949') as f:\n",
        "    # open 함수 안에 encoding 파라미터를 넣습니다\n",
        "    print('짱구,개나리반,5세', file=f)"
      ],
      "metadata": {
        "id": "iiouhY5rQEj2"
      },
      "execution_count": null,
      "outputs": []
    },
    {
      "cell_type": "markdown",
      "source": [
        "- 파일을 읽어오는 방법 ('r'모드)\n",
        "\n",
        "    - 기본"
      ],
      "metadata": {
        "id": "CbO8mJo7GFRc"
      }
    },
    {
      "cell_type": "code",
      "source": [
        "# string, iterator, list"
      ],
      "metadata": {
        "id": "6LJFAUdDLtlw"
      },
      "execution_count": null,
      "outputs": []
    },
    {
      "cell_type": "code",
      "source": [
        "f2 = open('jjanggu.csv', 'r', encoding='cp949')\n",
        "dir(f2)"
      ],
      "metadata": {
        "colab": {
          "base_uri": "https://localhost:8080/"
        },
        "id": "FMozdOMPLzfC",
        "outputId": "35895dfd-6b97-4713-80f5-6e386a15d626"
      },
      "execution_count": null,
      "outputs": [
        {
          "output_type": "execute_result",
          "data": {
            "text/plain": [
              "['_CHUNK_SIZE',\n",
              " '__class__',\n",
              " '__del__',\n",
              " '__delattr__',\n",
              " '__dict__',\n",
              " '__dir__',\n",
              " '__doc__',\n",
              " '__enter__',\n",
              " '__eq__',\n",
              " '__exit__',\n",
              " '__format__',\n",
              " '__ge__',\n",
              " '__getattribute__',\n",
              " '__gt__',\n",
              " '__hash__',\n",
              " '__init__',\n",
              " '__init_subclass__',\n",
              " '__iter__',\n",
              " '__le__',\n",
              " '__lt__',\n",
              " '__ne__',\n",
              " '__new__',\n",
              " '__next__',\n",
              " '__reduce__',\n",
              " '__reduce_ex__',\n",
              " '__repr__',\n",
              " '__setattr__',\n",
              " '__sizeof__',\n",
              " '__str__',\n",
              " '__subclasshook__',\n",
              " '_checkClosed',\n",
              " '_checkReadable',\n",
              " '_checkSeekable',\n",
              " '_checkWritable',\n",
              " '_finalizing',\n",
              " 'buffer',\n",
              " 'close',\n",
              " 'closed',\n",
              " 'detach',\n",
              " 'encoding',\n",
              " 'errors',\n",
              " 'fileno',\n",
              " 'flush',\n",
              " 'isatty',\n",
              " 'line_buffering',\n",
              " 'mode',\n",
              " 'name',\n",
              " 'newlines',\n",
              " 'read',\n",
              " 'readable',\n",
              " 'readline',\n",
              " 'readlines',\n",
              " 'reconfigure',\n",
              " 'seek',\n",
              " 'seekable',\n",
              " 'tell',\n",
              " 'truncate',\n",
              " 'writable',\n",
              " 'write',\n",
              " 'write_through',\n",
              " 'writelines']"
            ]
          },
          "metadata": {},
          "execution_count": 154
        }
      ]
    },
    {
      "cell_type": "code",
      "source": [
        "# 'read',\n",
        "#  'readable',\n",
        "#  'readline',\n",
        "#  'readlines',\n",
        "f2 = open('jjanggu.csv', 'r')\n",
        "f2.read() # 한줄씩 꺼내기 때문에"
      ],
      "metadata": {
        "id": "QX57YG3ERnxA",
        "colab": {
          "base_uri": "https://localhost:8080/",
          "height": 35
        },
        "outputId": "ad4fdc1d-b987-4470-8863-db399d062d8e"
      },
      "execution_count": null,
      "outputs": [
        {
          "output_type": "execute_result",
          "data": {
            "text/plain": [
              "'짱구,개나리반,5세\\n짱아,장미반,2세\\n훈이,개나리반,5세\\n'"
            ],
            "application/vnd.google.colaboratory.intrinsic+json": {
              "type": "string"
            }
          },
          "metadata": {},
          "execution_count": 162
        }
      ]
    },
    {
      "cell_type": "code",
      "source": [
        "f2.readable()"
      ],
      "metadata": {
        "colab": {
          "base_uri": "https://localhost:8080/"
        },
        "id": "qQ1vPYJnMAlV",
        "outputId": "49543149-0525-4b1e-e667-474aabbb09c5"
      },
      "execution_count": null,
      "outputs": [
        {
          "output_type": "execute_result",
          "data": {
            "text/plain": [
              "True"
            ]
          },
          "metadata": {},
          "execution_count": 163
        }
      ]
    },
    {
      "cell_type": "code",
      "source": [
        "f2 = open('jjanggu.csv', 'r')\n",
        "f2.readline()"
      ],
      "metadata": {
        "colab": {
          "base_uri": "https://localhost:8080/",
          "height": 35
        },
        "id": "zF0VziifMDcu",
        "outputId": "714f4d6b-4354-44ca-8fef-380500e8a568"
      },
      "execution_count": null,
      "outputs": [
        {
          "output_type": "execute_result",
          "data": {
            "text/plain": [
              "'짱구,개나리반,5세\\n'"
            ],
            "application/vnd.google.colaboratory.intrinsic+json": {
              "type": "string"
            }
          },
          "metadata": {},
          "execution_count": 165
        }
      ]
    },
    {
      "cell_type": "code",
      "source": [
        "f2.readline()"
      ],
      "metadata": {
        "colab": {
          "base_uri": "https://localhost:8080/",
          "height": 35
        },
        "id": "GhIPwKj3MljN",
        "outputId": "0f2f107a-9bf3-4925-a94f-f6093037a7c1"
      },
      "execution_count": null,
      "outputs": [
        {
          "output_type": "execute_result",
          "data": {
            "text/plain": [
              "'짱아,장미반,2세\\n'"
            ],
            "application/vnd.google.colaboratory.intrinsic+json": {
              "type": "string"
            }
          },
          "metadata": {},
          "execution_count": 166
        }
      ]
    },
    {
      "cell_type": "code",
      "source": [
        "f2.readline()"
      ],
      "metadata": {
        "colab": {
          "base_uri": "https://localhost:8080/",
          "height": 35
        },
        "id": "sz5rs2oSMnIs",
        "outputId": "314daf32-8e25-4ff4-cfd2-f980755e519c"
      },
      "execution_count": null,
      "outputs": [
        {
          "output_type": "execute_result",
          "data": {
            "text/plain": [
              "'훈이,개나리반,5세\\n'"
            ],
            "application/vnd.google.colaboratory.intrinsic+json": {
              "type": "string"
            }
          },
          "metadata": {},
          "execution_count": 167
        }
      ]
    },
    {
      "cell_type": "code",
      "source": [
        "f2.readline()"
      ],
      "metadata": {
        "colab": {
          "base_uri": "https://localhost:8080/",
          "height": 35
        },
        "id": "ArX03MJOMoLC",
        "outputId": "6d025b4c-86a6-4b85-b2ad-bd1c4117b0ee"
      },
      "execution_count": null,
      "outputs": [
        {
          "output_type": "execute_result",
          "data": {
            "text/plain": [
              "''"
            ],
            "application/vnd.google.colaboratory.intrinsic+json": {
              "type": "string"
            }
          },
          "metadata": {},
          "execution_count": 168
        }
      ]
    },
    {
      "cell_type": "code",
      "source": [
        "f2 = open('jjanggu.csv', 'r')\n",
        "f2.readlines()"
      ],
      "metadata": {
        "colab": {
          "base_uri": "https://localhost:8080/"
        },
        "id": "zWWVXu8uMJtf",
        "outputId": "d95fd626-2a84-470b-cc35-9e047b25059c"
      },
      "execution_count": null,
      "outputs": [
        {
          "output_type": "execute_result",
          "data": {
            "text/plain": [
              "['짱구,개나리반,5세\\n', '짱아,장미반,2세\\n', '훈이,개나리반,5세\\n']"
            ]
          },
          "metadata": {},
          "execution_count": 169
        }
      ]
    },
    {
      "cell_type": "code",
      "source": [
        "with open('jjanggu.csv', 'r') as f:\n",
        "    for line in f.readlines():\n",
        "        print(line, end='')\n"
      ],
      "metadata": {
        "id": "KCl-1rY6RkZB",
        "colab": {
          "base_uri": "https://localhost:8080/"
        },
        "outputId": "362003e1-5dc6-4f6f-d56d-824966bbe37c"
      },
      "execution_count": null,
      "outputs": [
        {
          "output_type": "stream",
          "name": "stdout",
          "text": [
            "짱구,개나리반,5세\n",
            "짱아,장미반,2세\n",
            "훈이,개나리반,5세\n"
          ]
        }
      ]
    },
    {
      "cell_type": "code",
      "source": [
        "with open('jjanggu.csv', 'r') as f:\n",
        "    print(f.read())\n"
      ],
      "metadata": {
        "id": "LpdbsFZKSd_U",
        "colab": {
          "base_uri": "https://localhost:8080/"
        },
        "outputId": "c1b0fa4b-8b47-4cac-e383-ebe3313ebcb4"
      },
      "execution_count": null,
      "outputs": [
        {
          "output_type": "stream",
          "name": "stdout",
          "text": [
            "짱구,개나리반,5세\n",
            "짱아,장미반,2세\n",
            "훈이,개나리반,5세\n",
            "\n"
          ]
        }
      ]
    },
    {
      "cell_type": "markdown",
      "source": [
        "실습1. 아래의 내용을 test.txt에 입력합니다. (공백 포함)\n",
        "```\n",
        "안녕하세요,\n",
        "             만나서 반갑습니다.\n",
        "```"
      ],
      "metadata": {
        "id": "GYC9leEVL_et"
      }
    },
    {
      "cell_type": "code",
      "source": [
        "with open('test.txt', 'w') as f:\n",
        "    print('''안녕하세요,\n",
        "             만나서 반갑습니다.''', file=f)"
      ],
      "metadata": {
        "id": "uhRSwu2GepFw"
      },
      "execution_count": null,
      "outputs": []
    },
    {
      "cell_type": "code",
      "source": [
        "with open('test.txt', 'w') as f:\n",
        "    f.write('''안녕하세요,\n",
        "             만나서 반갑습니다.\\n''')"
      ],
      "metadata": {
        "id": "ciHPRvEfrgXv"
      },
      "execution_count": null,
      "outputs": []
    },
    {
      "cell_type": "markdown",
      "source": [
        "실습2. '저는 겨울을 좋아합니다.'라는 문장을 파일에 추가해주시고요."
      ],
      "metadata": {
        "id": "dVLRy6Lpofn-"
      }
    },
    {
      "cell_type": "code",
      "source": [
        "\n",
        "with open('test.txt', 'a') as f:\n",
        "    f.write('''저는 겨울을 좋아합니다\\n''')"
      ],
      "metadata": {
        "id": "qqKriIDvpKHc"
      },
      "execution_count": null,
      "outputs": []
    },
    {
      "cell_type": "code",
      "source": [],
      "metadata": {
        "id": "B9ufFMpluK_2"
      },
      "execution_count": null,
      "outputs": []
    },
    {
      "cell_type": "code",
      "source": [
        "# read, realine, readlines , readable"
      ],
      "metadata": {
        "id": "mp9G8WPAsu5M"
      },
      "execution_count": null,
      "outputs": []
    },
    {
      "cell_type": "markdown",
      "source": [
        "실습3. readlines()를 활용하여 아래와 같이 출력합니다."
      ],
      "metadata": {
        "id": "lWZjF41jR9k9"
      }
    },
    {
      "cell_type": "markdown",
      "source": [
        "```\n",
        "안녕하세요.\n",
        "만나서 반갑습니다.\n",
        "저는 겨울을 좋아합니다.\n",
        "```"
      ],
      "metadata": {
        "id": "LLDS9V1_SWqj"
      }
    },
    {
      "cell_type": "code",
      "source": [
        "with open('test.txt', 'r') as f:\n",
        "    for line in f.readlines():\n",
        "        print(line.strip())"
      ],
      "metadata": {
        "id": "qWhEMHAwtiIo",
        "colab": {
          "base_uri": "https://localhost:8080/"
        },
        "outputId": "07998673-58bc-425d-98bf-7fff0a0a1076"
      },
      "execution_count": null,
      "outputs": [
        {
          "output_type": "stream",
          "name": "stdout",
          "text": [
            "안녕하세요,\n",
            "만나서 반갑습니다.\n",
            "저는 겨울을 좋아합니다\n"
          ]
        }
      ]
    },
    {
      "cell_type": "code",
      "source": [
        "with open('test.txt', 'r') as f: # 파일 열어놓은 상태일 뿐\n",
        "    while True:\n",
        "        line = f.readline()\n",
        "        if line == '':\n",
        "            break\n",
        "        print(line.lstrip(), end='')"
      ],
      "metadata": {
        "id": "ht368J1vW96q",
        "colab": {
          "base_uri": "https://localhost:8080/"
        },
        "outputId": "48202ba2-9e8b-4dfd-a2c9-c0e7d73e7a58"
      },
      "execution_count": null,
      "outputs": [
        {
          "output_type": "stream",
          "name": "stdout",
          "text": [
            "안녕하세요,\n",
            "만나서 반갑습니다.\n",
            "저는 겨울을 좋아합니다\n"
          ]
        }
      ]
    },
    {
      "cell_type": "code",
      "source": [
        "f1 = open('test.txt', 'r')"
      ],
      "metadata": {
        "id": "kwCaD8LNYv0M"
      },
      "execution_count": null,
      "outputs": []
    },
    {
      "cell_type": "code",
      "source": [
        "f1.readline()"
      ],
      "metadata": {
        "colab": {
          "base_uri": "https://localhost:8080/",
          "height": 35
        },
        "id": "pzXlJaO_UXO1",
        "outputId": "1bb4ff90-ada8-44e5-b3ef-af0e17465997"
      },
      "execution_count": null,
      "outputs": [
        {
          "output_type": "execute_result",
          "data": {
            "text/plain": [
              "''"
            ],
            "application/vnd.google.colaboratory.intrinsic+json": {
              "type": "string"
            }
          },
          "metadata": {},
          "execution_count": 196
        }
      ]
    },
    {
      "cell_type": "markdown",
      "source": [
        "- 혼자 쓰지 않는 한 파일을 열어서 입출력하고 나면 close() 메소드로 닫아주세요."
      ],
      "metadata": {
        "id": "99xFcfBsaClU"
      }
    },
    {
      "cell_type": "markdown",
      "source": [
        "- while - 언제 끝날지 모를 때 주로 사용\n",
        "- for - 특정 횟수를 반복해야 함을 알 때 주로 사용"
      ],
      "metadata": {
        "id": "fBNJpoUvVEMP"
      }
    },
    {
      "cell_type": "code",
      "source": [
        "f.close()"
      ],
      "metadata": {
        "id": "TbNiXqqpUVHR"
      },
      "execution_count": null,
      "outputs": []
    },
    {
      "cell_type": "markdown",
      "source": [
        "# flush"
      ],
      "metadata": {
        "id": "SGHV7z0da2EE"
      }
    },
    {
      "cell_type": "markdown",
      "source": [
        "- 스트림 객체로 바꿔서 출력을 해주고 있다 라는 뜻입니다.\n",
        "- 객체를 그때그때 잘라서 보낸다"
      ],
      "metadata": {
        "id": "GU30W-4va1-C"
      }
    },
    {
      "cell_type": "markdown",
      "source": [
        "- 인터프리터 문제 : 한줄씩 읽으면서 블록단위로 실행하고 있어서\n",
        "- 코랩(주피터) 확인할 수 없다"
      ],
      "metadata": {
        "id": "h1-M6mHNf8jN"
      }
    },
    {
      "cell_type": "code",
      "source": [],
      "metadata": {
        "id": "t7rVbNjTGBJr"
      },
      "execution_count": null,
      "outputs": []
    },
    {
      "cell_type": "code",
      "source": [
        "%%writefile flush_true.py\n",
        "# 매직메소드 - 코랩 바깥에 있는 리눅스 명령창에 명령어를 입력할 때 사용\n",
        "import time\n",
        "\n",
        "start_time = time.time()\n",
        "\n",
        "for i in range(15):\n",
        "    print(i, end=' ', flush=True)\n",
        "    time.sleep(1)\n",
        "\n",
        "end_time = time.time()\n",
        "elapsed_time = end_time - start_time\n",
        "print(elapsed_time)\n",
        "time.sleep(2)"
      ],
      "metadata": {
        "colab": {
          "base_uri": "https://localhost:8080/"
        },
        "id": "pBaLSdG7azlT",
        "outputId": "717f7e94-b625-4f42-e757-a10da57a5ce1"
      },
      "execution_count": null,
      "outputs": [
        {
          "output_type": "stream",
          "name": "stdout",
          "text": [
            "Writing flush_true.py\n"
          ]
        }
      ]
    },
    {
      "cell_type": "code",
      "source": [
        "%%writefile flush_false.py\n",
        "# 실행해보면 마지막에 쏟아집니다\n",
        "\n",
        "import time\n",
        "start_time = time.time()\n",
        "for i in range(15):\n",
        "    print(i,  end=' ', flush=False)\n",
        "    time.sleep(1)\n",
        "end_time = time.time()\n",
        "elapsed_time = end_time - start_time\n",
        "print(elapsed_time)\n",
        "time.sleep(2)"
      ],
      "metadata": {
        "colab": {
          "base_uri": "https://localhost:8080/"
        },
        "id": "5iK_8BZSa8cX",
        "outputId": "abad3f22-830c-45ee-cd98-9ef745c70d77"
      },
      "execution_count": null,
      "outputs": [
        {
          "output_type": "stream",
          "name": "stdout",
          "text": [
            "Writing flush_false.py\n"
          ]
        }
      ]
    },
    {
      "cell_type": "markdown",
      "source": [
        "# 함수 (function)\n",
        "\n",
        "- 수학적 의미의 함수 : 집합과 집합 사이의 관계를 표현\n",
        "- 프로그래밍 언어에서는 프로그램을 이루는 기본 단위\n",
        "- 수학적 의미의 함수의 개념을 차용한 형태입니다.\n",
        "\n",
        "- 함수는\n",
        "    - 똑같은 코드를 또 치고 싶지 않아서... (중복되는 명령어들을 줄일 수 있기 때문에 효율적 프로그래밍이 가능합니다)\n",
        "    - 여러 명령어를 집합시켜 놓습니다.\n",
        "    - 기능(동작) 단위로 분리시켜 코드를 관리하려고\n",
        "\n",
        "    : 유지보수에 편하잖아요\n",
        "\n",
        "\n",
        "```\n",
        "def 함수이름(파라미터, 파라메터, ...):\n",
        "    # 함수 블록\n",
        "```"
      ],
      "metadata": {
        "id": "dEjRcfAfhPqI"
      }
    },
    {
      "cell_type": "code",
      "source": [
        "a = '김연지' # '변수' 데이터를 메모리에 저장하기위한 방법  변수명 = 데이터"
      ],
      "metadata": {
        "id": "WbkFT10PdSYr"
      },
      "execution_count": null,
      "outputs": []
    },
    {
      "cell_type": "code",
      "source": [
        "def function():\n",
        "    print('함수 실행됨')\n",
        "    print('결과 없음')\n",
        "    print('화면에만 보임')"
      ],
      "metadata": {
        "id": "ji2EGhnP4Zd_"
      },
      "execution_count": null,
      "outputs": []
    },
    {
      "cell_type": "code",
      "source": [
        "function()"
      ],
      "metadata": {
        "id": "mcVXWU7F4mdX",
        "colab": {
          "base_uri": "https://localhost:8080/"
        },
        "outputId": "35b3504d-29b2-4332-c393-b61105ae92eb"
      },
      "execution_count": null,
      "outputs": [
        {
          "output_type": "stream",
          "name": "stdout",
          "text": [
            "함수 실행됨\n",
            "결과 없음\n",
            "화면에만 보임\n"
          ]
        }
      ]
    },
    {
      "cell_type": "code",
      "source": [
        "'사과나무'.find('무') # 우리가 만들지 않았는데 이미 함수를 사용하고 있었다"
      ],
      "metadata": {
        "id": "dQdyOYaMiA7l",
        "colab": {
          "base_uri": "https://localhost:8080/"
        },
        "outputId": "a801d4a7-29a9-4d38-e143-838ce135e4b5"
      },
      "execution_count": null,
      "outputs": [
        {
          "output_type": "execute_result",
          "data": {
            "text/plain": [
              "3"
            ]
          },
          "metadata": {},
          "execution_count": 213
        }
      ]
    },
    {
      "cell_type": "code",
      "source": [
        "dir(function())"
      ],
      "metadata": {
        "id": "7l9CyBGSiCdX",
        "colab": {
          "base_uri": "https://localhost:8080/"
        },
        "outputId": "82224e43-cd69-4e1a-8be2-960efe7755b2"
      },
      "execution_count": null,
      "outputs": [
        {
          "output_type": "stream",
          "name": "stdout",
          "text": [
            "함수 실행됨\n",
            "결과 없음\n",
            "화면에만 보임\n"
          ]
        },
        {
          "output_type": "execute_result",
          "data": {
            "text/plain": [
              "['__bool__',\n",
              " '__class__',\n",
              " '__delattr__',\n",
              " '__dir__',\n",
              " '__doc__',\n",
              " '__eq__',\n",
              " '__format__',\n",
              " '__ge__',\n",
              " '__getattribute__',\n",
              " '__gt__',\n",
              " '__hash__',\n",
              " '__init__',\n",
              " '__init_subclass__',\n",
              " '__le__',\n",
              " '__lt__',\n",
              " '__ne__',\n",
              " '__new__',\n",
              " '__reduce__',\n",
              " '__reduce_ex__',\n",
              " '__repr__',\n",
              " '__setattr__',\n",
              " '__sizeof__',\n",
              " '__str__',\n",
              " '__subclasshook__']"
            ]
          },
          "metadata": {},
          "execution_count": 214
        }
      ]
    },
    {
      "cell_type": "code",
      "source": [
        "dir(function) # 어딘가에 메모리 주소에 코드가 적혀있고 그 메모리주소를 부르기 위한 변수명일 뿐"
      ],
      "metadata": {
        "colab": {
          "base_uri": "https://localhost:8080/"
        },
        "id": "UlZOj7NaZ1if",
        "outputId": "daf8b8f9-5d00-4667-8a32-aab47bbc17ac"
      },
      "execution_count": null,
      "outputs": [
        {
          "output_type": "execute_result",
          "data": {
            "text/plain": [
              "['__annotations__',\n",
              " '__builtins__',\n",
              " '__call__',\n",
              " '__class__',\n",
              " '__closure__',\n",
              " '__code__',\n",
              " '__defaults__',\n",
              " '__delattr__',\n",
              " '__dict__',\n",
              " '__dir__',\n",
              " '__doc__',\n",
              " '__eq__',\n",
              " '__format__',\n",
              " '__ge__',\n",
              " '__get__',\n",
              " '__getattribute__',\n",
              " '__globals__',\n",
              " '__gt__',\n",
              " '__hash__',\n",
              " '__init__',\n",
              " '__init_subclass__',\n",
              " '__kwdefaults__',\n",
              " '__le__',\n",
              " '__lt__',\n",
              " '__module__',\n",
              " '__name__',\n",
              " '__ne__',\n",
              " '__new__',\n",
              " '__qualname__',\n",
              " '__reduce__',\n",
              " '__reduce_ex__',\n",
              " '__repr__',\n",
              " '__setattr__',\n",
              " '__sizeof__',\n",
              " '__str__',\n",
              " '__subclasshook__']"
            ]
          },
          "metadata": {},
          "execution_count": 215
        }
      ]
    },
    {
      "cell_type": "markdown",
      "source": [
        "## 다양한 형태의 함수들을 만들어보겠습니다.\n",
        "- 입력이 있는 함수를 정의\n"
      ],
      "metadata": {
        "id": "gdjTqHOIjDTC"
      }
    },
    {
      "cell_type": "code",
      "source": [
        "# 2개의 값을 받아서 더하는 함수를 만들어볼게요\n",
        "\n",
        "def add(a, b): # 파라미터: 함수를 만들 때 해당 자리를 의미하는 값\n",
        "    print(a+b)"
      ],
      "metadata": {
        "id": "C0UilUdfizrF"
      },
      "execution_count": null,
      "outputs": []
    },
    {
      "cell_type": "code",
      "source": [
        "add(2, 1)  # 아규먼트(인자): 함수를 만들어 놓고 쓸 때 그 자리에 대입하는 값"
      ],
      "metadata": {
        "id": "Gtfv21x0jWJs",
        "colab": {
          "base_uri": "https://localhost:8080/"
        },
        "outputId": "33433d28-0e9f-4210-ec78-893578963baa"
      },
      "execution_count": null,
      "outputs": [
        {
          "output_type": "stream",
          "name": "stdout",
          "text": [
            "3\n"
          ]
        }
      ]
    },
    {
      "cell_type": "code",
      "source": [
        "add('가', '나')"
      ],
      "metadata": {
        "id": "maMkknR4jXz8",
        "colab": {
          "base_uri": "https://localhost:8080/"
        },
        "outputId": "d88e67ee-4a97-4be3-c7e2-d4d2cc1835c6"
      },
      "execution_count": null,
      "outputs": [
        {
          "output_type": "stream",
          "name": "stdout",
          "text": [
            "가나\n"
          ]
        }
      ]
    },
    {
      "cell_type": "code",
      "source": [
        "add([1,2,3], [1,2])"
      ],
      "metadata": {
        "id": "WsJ4xdKRjZo1",
        "colab": {
          "base_uri": "https://localhost:8080/"
        },
        "outputId": "c403c98a-0570-4a9f-fa39-603ff27a0eee"
      },
      "execution_count": null,
      "outputs": [
        {
          "output_type": "stream",
          "name": "stdout",
          "text": [
            "[1, 2, 3, 1, 2]\n"
          ]
        }
      ]
    },
    {
      "cell_type": "code",
      "source": [
        "add([1,2,3], [1,2])"
      ],
      "metadata": {
        "id": "VBmBJ6xf5j_v"
      },
      "execution_count": null,
      "outputs": []
    },
    {
      "cell_type": "code",
      "source": [
        "add([1,2,3], [1,2], [1,2,3])\n",
        "# TypeError: add() takes 2 positional arguments but 3 were given"
      ],
      "metadata": {
        "id": "dUMQB1Hr5nZD",
        "colab": {
          "base_uri": "https://localhost:8080/",
          "height": 173
        },
        "outputId": "f29da124-29a5-479c-ed62-754db0be9907"
      },
      "execution_count": null,
      "outputs": [
        {
          "output_type": "error",
          "ename": "TypeError",
          "evalue": "ignored",
          "traceback": [
            "\u001b[0;31m---------------------------------------------------------------------------\u001b[0m",
            "\u001b[0;31mTypeError\u001b[0m                                 Traceback (most recent call last)",
            "\u001b[0;32m<ipython-input-221-61d8fc270d43>\u001b[0m in \u001b[0;36m<cell line: 1>\u001b[0;34m()\u001b[0m\n\u001b[0;32m----> 1\u001b[0;31m \u001b[0madd\u001b[0m\u001b[0;34m(\u001b[0m\u001b[0;34m[\u001b[0m\u001b[0;36m1\u001b[0m\u001b[0;34m,\u001b[0m\u001b[0;36m2\u001b[0m\u001b[0;34m,\u001b[0m\u001b[0;36m3\u001b[0m\u001b[0;34m]\u001b[0m\u001b[0;34m,\u001b[0m \u001b[0;34m[\u001b[0m\u001b[0;36m1\u001b[0m\u001b[0;34m,\u001b[0m\u001b[0;36m2\u001b[0m\u001b[0;34m]\u001b[0m\u001b[0;34m,\u001b[0m \u001b[0;34m[\u001b[0m\u001b[0;36m1\u001b[0m\u001b[0;34m,\u001b[0m\u001b[0;36m2\u001b[0m\u001b[0;34m,\u001b[0m\u001b[0;36m3\u001b[0m\u001b[0;34m]\u001b[0m\u001b[0;34m)\u001b[0m\u001b[0;34m\u001b[0m\u001b[0;34m\u001b[0m\u001b[0m\n\u001b[0m",
            "\u001b[0;31mTypeError\u001b[0m: add() takes 2 positional arguments but 3 were given"
          ]
        }
      ]
    },
    {
      "cell_type": "code",
      "source": [
        "add(1)\n",
        "# TypeError: add() missing 1 required positional argument: 'b'\n",
        "# TypeError: add() takes 2 positional arguments but 3 were given"
      ],
      "metadata": {
        "id": "8ukho0EG59U4",
        "colab": {
          "base_uri": "https://localhost:8080/",
          "height": 191
        },
        "outputId": "7a82371d-55f6-41b3-aca3-b97346ad4862"
      },
      "execution_count": null,
      "outputs": [
        {
          "output_type": "error",
          "ename": "TypeError",
          "evalue": "ignored",
          "traceback": [
            "\u001b[0;31m---------------------------------------------------------------------------\u001b[0m",
            "\u001b[0;31mTypeError\u001b[0m                                 Traceback (most recent call last)",
            "\u001b[0;32m<ipython-input-222-1696f8b67a11>\u001b[0m in \u001b[0;36m<cell line: 1>\u001b[0;34m()\u001b[0m\n\u001b[0;32m----> 1\u001b[0;31m \u001b[0madd\u001b[0m\u001b[0;34m(\u001b[0m\u001b[0;36m1\u001b[0m\u001b[0;34m)\u001b[0m\u001b[0;34m\u001b[0m\u001b[0;34m\u001b[0m\u001b[0m\n\u001b[0m\u001b[1;32m      2\u001b[0m \u001b[0;31m# TypeError: add() takes 2 positional arguments but 3 were given\u001b[0m\u001b[0;34m\u001b[0m\u001b[0;34m\u001b[0m\u001b[0m\n",
            "\u001b[0;31mTypeError\u001b[0m: add() missing 1 required positional argument: 'b'"
          ]
        }
      ]
    },
    {
      "cell_type": "code",
      "source": [
        "def add(total, tax): # 파라미터: 함수를 만들 때 해당 자리를 의미하는 값\n",
        "    print(total, tax)"
      ],
      "metadata": {
        "id": "kr4svw1f6EbB"
      },
      "execution_count": null,
      "outputs": []
    },
    {
      "cell_type": "code",
      "source": [
        "add(tax=0.1, total=100) # 파라메터=아규먼트 순으로 값을 넣어주면 알아서 자기 자리를 찾아서"
      ],
      "metadata": {
        "id": "GMrRGq0-6ICs",
        "colab": {
          "base_uri": "https://localhost:8080/"
        },
        "outputId": "ad68d93e-aa35-4d23-f482-1e1b8cb59c91"
      },
      "execution_count": null,
      "outputs": [
        {
          "output_type": "stream",
          "name": "stdout",
          "text": [
            "100 0.1\n"
          ]
        }
      ]
    },
    {
      "cell_type": "code",
      "source": [
        "'hell python'.split() # ' '가 기본값인 함수"
      ],
      "metadata": {
        "colab": {
          "base_uri": "https://localhost:8080/"
        },
        "id": "o4eAzA9qtr6w",
        "outputId": "1c0c51d8-0a46-4a0f-c5e8-944d6e402dbf"
      },
      "execution_count": null,
      "outputs": [
        {
          "output_type": "execute_result",
          "data": {
            "text/plain": [
              "['hell', 'python']"
            ]
          },
          "metadata": {},
          "execution_count": 226
        }
      ]
    },
    {
      "cell_type": "code",
      "source": [
        "# 2개의 값을 받아서 더하는 함수를 만들어볼게요\n",
        "\n",
        "# 아무것도 입력 안하면 기본값(디폴트 파라미터)이 이미 입력되어 있는 함수\n",
        "def add(a=0, b=1): # 파라미터: 함수를 만들 때 해당 자리를 의미하는 값\n",
        "    print(a+b)"
      ],
      "metadata": {
        "id": "Ey7iSysv6VWY"
      },
      "execution_count": null,
      "outputs": []
    },
    {
      "cell_type": "code",
      "source": [
        "add() # a=0, 1는 디폴트파라미터 사용해서 계산"
      ],
      "metadata": {
        "id": "Q2zh24NK6Z9y",
        "colab": {
          "base_uri": "https://localhost:8080/"
        },
        "outputId": "a1edd4b9-dea4-4cc1-d58c-c01572fc5f95"
      },
      "execution_count": null,
      "outputs": [
        {
          "output_type": "stream",
          "name": "stdout",
          "text": [
            "1\n"
          ]
        }
      ]
    },
    {
      "cell_type": "code",
      "source": [
        "add(2) # a=2, b는 디폴트파라미터인 1 계산"
      ],
      "metadata": {
        "id": "5_4J6LPh6cwa",
        "colab": {
          "base_uri": "https://localhost:8080/"
        },
        "outputId": "5308e080-1a2d-4cf5-dfd6-0bf1c9ff009b"
      },
      "execution_count": null,
      "outputs": [
        {
          "output_type": "stream",
          "name": "stdout",
          "text": [
            "3\n"
          ]
        }
      ]
    },
    {
      "cell_type": "code",
      "source": [
        "print(1,2,3,4,5,6, sep=\"*\")"
      ],
      "metadata": {
        "id": "zddhIPcG6mo6",
        "colab": {
          "base_uri": "https://localhost:8080/"
        },
        "outputId": "95d1317c-d155-4386-df58-a7a575d46aee"
      },
      "execution_count": null,
      "outputs": [
        {
          "output_type": "stream",
          "name": "stdout",
          "text": [
            "1*2*3*4*5*6\n"
          ]
        }
      ]
    },
    {
      "cell_type": "code",
      "source": [
        "a, b, *c = [1, 2, 3, 4, 5]"
      ],
      "metadata": {
        "id": "1a2RwS9p6ulp"
      },
      "execution_count": null,
      "outputs": []
    },
    {
      "cell_type": "code",
      "source": [
        "a, b, c"
      ],
      "metadata": {
        "id": "oT0gxYaM6xVR",
        "colab": {
          "base_uri": "https://localhost:8080/"
        },
        "outputId": "79a42290-bc7a-4a25-a365-fd54b47b3ba3"
      },
      "execution_count": null,
      "outputs": [
        {
          "output_type": "execute_result",
          "data": {
            "text/plain": [
              "(1, 2, [3, 4, 5])"
            ]
          },
          "metadata": {},
          "execution_count": 234
        }
      ]
    },
    {
      "cell_type": "code",
      "source": [
        "def add(*a, b=1): # 파라미터: 함수를 만들 때 해당 자리를 의미하는 값\n",
        "    print(f'a: {a}, b: {b}')"
      ],
      "metadata": {
        "id": "TZg3OMri60y1"
      },
      "execution_count": null,
      "outputs": []
    },
    {
      "cell_type": "code",
      "source": [
        "add([1, 2, 3, 4, 5, 6, 7, 8])"
      ],
      "metadata": {
        "id": "PoBnMVAK68H_",
        "colab": {
          "base_uri": "https://localhost:8080/"
        },
        "outputId": "6d5c1086-cd7b-4196-cedc-f4801389b459"
      },
      "execution_count": null,
      "outputs": [
        {
          "output_type": "stream",
          "name": "stdout",
          "text": [
            "a: ([1, 2, 3, 4, 5, 6, 7, 8],), b: 1\n"
          ]
        }
      ]
    },
    {
      "cell_type": "code",
      "source": [
        "add(1, 2, 3, 4, 5, 6, 7, 8, '가', '나')"
      ],
      "metadata": {
        "id": "QD6qem3b7GkH",
        "colab": {
          "base_uri": "https://localhost:8080/"
        },
        "outputId": "261eb285-de87-476f-e4e0-4113edc1a63c"
      },
      "execution_count": null,
      "outputs": [
        {
          "output_type": "stream",
          "name": "stdout",
          "text": [
            "a: (1, 2, 3, 4, 5, 6, 7, 8, '가', '나'), b: 1\n"
          ]
        }
      ]
    },
    {
      "cell_type": "code",
      "source": [
        "def add(b=1, *a): # 파라미터: 함수를 만들 때 해당 자리를 의미하는 값\n",
        "    print(f'a: {a}, b: {b}')"
      ],
      "metadata": {
        "id": "W6dWyXOV7MHH"
      },
      "execution_count": null,
      "outputs": []
    },
    {
      "cell_type": "code",
      "source": [
        "add(5, 4, 3, 2, 1)"
      ],
      "metadata": {
        "id": "SsBBvlnP7iGx",
        "colab": {
          "base_uri": "https://localhost:8080/"
        },
        "outputId": "d90434da-de4b-4942-ab32-98e4096b286e"
      },
      "execution_count": null,
      "outputs": [
        {
          "output_type": "stream",
          "name": "stdout",
          "text": [
            "a: (4, 3, 2, 1), b: 5\n"
          ]
        }
      ]
    },
    {
      "cell_type": "code",
      "source": [
        "def add(c=2, b=1, *a): # 파라미터: 함수를 만들 때 해당 자리를 의미하는 값\n",
        "    print(f'a: {a}, b: {b} c:{c}')"
      ],
      "metadata": {
        "id": "wSYatDUl74wv"
      },
      "execution_count": null,
      "outputs": []
    },
    {
      "cell_type": "code",
      "source": [
        "add(10, 9, 8, 7, 6, 5, 4, 3, 2)\n",
        "# a: (8, 7, 6, 5, 4, 3, 2), b: 9 c:10\n",
        "# 파라미터가 key, 아규먼트가 value\n",
        "# add{'a':*A, 'b':9, 'c':10}"
      ],
      "metadata": {
        "id": "xq9-Rl717-ZW",
        "colab": {
          "base_uri": "https://localhost:8080/",
          "height": 227
        },
        "outputId": "50f52db4-ef64-4114-be15-75c3e016881e"
      },
      "execution_count": null,
      "outputs": [
        {
          "output_type": "error",
          "ename": "TypeError",
          "evalue": "ignored",
          "traceback": [
            "\u001b[0;31m---------------------------------------------------------------------------\u001b[0m",
            "\u001b[0;31mTypeError\u001b[0m                                 Traceback (most recent call last)",
            "\u001b[0;32m<ipython-input-244-fcf34ce9b33d>\u001b[0m in \u001b[0;36m<cell line: 1>\u001b[0;34m()\u001b[0m\n\u001b[0;32m----> 1\u001b[0;31m \u001b[0madd\u001b[0m\u001b[0;34m(\u001b[0m\u001b[0;36m10\u001b[0m\u001b[0;34m,\u001b[0m \u001b[0;36m9\u001b[0m\u001b[0;34m,\u001b[0m \u001b[0;36m8\u001b[0m\u001b[0;34m,\u001b[0m \u001b[0;36m7\u001b[0m\u001b[0;34m,\u001b[0m \u001b[0;36m6\u001b[0m\u001b[0;34m,\u001b[0m \u001b[0;36m5\u001b[0m\u001b[0;34m,\u001b[0m \u001b[0;36m4\u001b[0m\u001b[0;34m,\u001b[0m \u001b[0;36m3\u001b[0m\u001b[0;34m,\u001b[0m \u001b[0;36m2\u001b[0m\u001b[0;34m)\u001b[0m\u001b[0;34m\u001b[0m\u001b[0;34m\u001b[0m\u001b[0m\n\u001b[0m\u001b[1;32m      2\u001b[0m \u001b[0;31m# a: (8, 7, 6, 5, 4, 3, 2), b: 9 c:10\u001b[0m\u001b[0;34m\u001b[0m\u001b[0;34m\u001b[0m\u001b[0m\n\u001b[1;32m      3\u001b[0m \u001b[0;31m# 파라미터가 key, 아규먼트가 value\u001b[0m\u001b[0;34m\u001b[0m\u001b[0;34m\u001b[0m\u001b[0m\n\u001b[1;32m      4\u001b[0m \u001b[0;31m# add\u001b[0m\u001b[0;34m\u001b[0m\u001b[0;34m\u001b[0m\u001b[0m\n",
            "\u001b[0;31mTypeError\u001b[0m: add() takes from 0 to 2 positional arguments but 9 were given"
          ]
        }
      ]
    },
    {
      "cell_type": "code",
      "source": [
        "def add(c=2, b=1, **a): # 파라미터: 함수를 만들 때 해당 자리를 의미하는 값\n",
        "    print(f'a: {a}, b: {b} c:{c}')"
      ],
      "metadata": {
        "id": "XJ5X7Eih76Jv"
      },
      "execution_count": null,
      "outputs": []
    },
    {
      "cell_type": "code",
      "source": [
        "add(first_argu=1, second_argu=2)"
      ],
      "metadata": {
        "id": "mPF5_Ld48DMR",
        "colab": {
          "base_uri": "https://localhost:8080/"
        },
        "outputId": "7ac31b18-b63e-4da8-9b95-1c1af987126f"
      },
      "execution_count": null,
      "outputs": [
        {
          "output_type": "stream",
          "name": "stdout",
          "text": [
            "a: {'first_argu': 1, 'second_argu': 2}, b: 1 c:2\n"
          ]
        }
      ]
    },
    {
      "cell_type": "markdown",
      "source": [
        "- 함수 2개 만들어보겠습니다.\n",
        "\n",
        "def minus : a, b를 뺀 결과를 출력하는 함수\n",
        "\n",
        "def multiply :  : a, b를 곱한 결과를 출력하는 함수"
      ],
      "metadata": {
        "id": "tyNfquh8jfs-"
      }
    },
    {
      "cell_type": "code",
      "source": [
        "def minus(a, b):\n",
        "    print(a-b)"
      ],
      "metadata": {
        "id": "ArLIusDhEvr8"
      },
      "execution_count": null,
      "outputs": []
    },
    {
      "cell_type": "code",
      "source": [
        " minus(5, 3) # 5-3"
      ],
      "metadata": {
        "id": "8fk8TCGqE0-e",
        "colab": {
          "base_uri": "https://localhost:8080/"
        },
        "outputId": "b6357a78-95ed-4999-b501-049d362826d2"
      },
      "execution_count": null,
      "outputs": [
        {
          "output_type": "stream",
          "name": "stdout",
          "text": [
            "2\n"
          ]
        }
      ]
    },
    {
      "cell_type": "code",
      "source": [
        " minus(b=5, a=3)  # 3-5"
      ],
      "metadata": {
        "id": "_nP72ai-E5r7",
        "colab": {
          "base_uri": "https://localhost:8080/"
        },
        "outputId": "a7a63f3f-82b3-49a0-95c7-4b4f26dd8934"
      },
      "execution_count": null,
      "outputs": [
        {
          "output_type": "stream",
          "name": "stdout",
          "text": [
            "-2\n"
          ]
        }
      ]
    },
    {
      "cell_type": "code",
      "source": [
        "def multiply(a, b):\n",
        "    print(a*b)"
      ],
      "metadata": {
        "id": "2-LI_7ISE7t0"
      },
      "execution_count": null,
      "outputs": []
    },
    {
      "cell_type": "code",
      "source": [
        " multiply(5, 4)"
      ],
      "metadata": {
        "id": "UIy2hOxaE-8B",
        "colab": {
          "base_uri": "https://localhost:8080/"
        },
        "outputId": "a82ca60e-30c1-40f3-97f2-5970135c67e6"
      },
      "execution_count": null,
      "outputs": [
        {
          "output_type": "stream",
          "name": "stdout",
          "text": [
            "20\n"
          ]
        }
      ]
    },
    {
      "cell_type": "code",
      "source": [
        "multiply(b=4, a=5)"
      ],
      "metadata": {
        "id": "_i_Uo2V4FCKd",
        "colab": {
          "base_uri": "https://localhost:8080/"
        },
        "outputId": "3eeac40b-c009-4154-b65b-9215e6d9389b"
      },
      "execution_count": null,
      "outputs": [
        {
          "output_type": "stream",
          "name": "stdout",
          "text": [
            "20\n"
          ]
        }
      ]
    },
    {
      "cell_type": "code",
      "source": [
        "a = '사과나무 아래에'.split()"
      ],
      "metadata": {
        "id": "RtH9a5CIxXjK"
      },
      "execution_count": null,
      "outputs": []
    },
    {
      "cell_type": "code",
      "source": [
        "a[0], a[1]"
      ],
      "metadata": {
        "colab": {
          "base_uri": "https://localhost:8080/"
        },
        "id": "rFN5t_sDxdBO",
        "outputId": "f865007d-35b0-4ea7-a6c4-9d65185c7fbe"
      },
      "execution_count": null,
      "outputs": [
        {
          "output_type": "execute_result",
          "data": {
            "text/plain": [
              "('사과나무', '아래에')"
            ]
          },
          "metadata": {},
          "execution_count": 256
        }
      ]
    },
    {
      "cell_type": "code",
      "source": [
        "result = multiply(5, 4)"
      ],
      "metadata": {
        "id": "XpILu4r-FFPI",
        "colab": {
          "base_uri": "https://localhost:8080/"
        },
        "outputId": "575a6168-0a8b-4cce-e120-ccadfb0d3730"
      },
      "execution_count": null,
      "outputs": [
        {
          "output_type": "stream",
          "name": "stdout",
          "text": [
            "20\n"
          ]
        }
      ]
    },
    {
      "cell_type": "code",
      "source": [
        "result"
      ],
      "metadata": {
        "id": "yidVGeOHxrIy"
      },
      "execution_count": null,
      "outputs": []
    },
    {
      "cell_type": "code",
      "source": [
        "result + 3 # TypeError: unsupported operand type(s) for +: 'NoneType' and 'int'"
      ],
      "metadata": {
        "colab": {
          "base_uri": "https://localhost:8080/",
          "height": 173
        },
        "id": "T6FTd4b2xifW",
        "outputId": "9af377ee-2098-486f-b6b4-807c345f53dc"
      },
      "execution_count": null,
      "outputs": [
        {
          "output_type": "error",
          "ename": "TypeError",
          "evalue": "ignored",
          "traceback": [
            "\u001b[0;31m---------------------------------------------------------------------------\u001b[0m",
            "\u001b[0;31mTypeError\u001b[0m                                 Traceback (most recent call last)",
            "\u001b[0;32m<ipython-input-258-d6b42358c16c>\u001b[0m in \u001b[0;36m<cell line: 1>\u001b[0;34m()\u001b[0m\n\u001b[0;32m----> 1\u001b[0;31m \u001b[0mresult\u001b[0m \u001b[0;34m+\u001b[0m \u001b[0;36m3\u001b[0m\u001b[0;34m\u001b[0m\u001b[0;34m\u001b[0m\u001b[0m\n\u001b[0m",
            "\u001b[0;31mTypeError\u001b[0m: unsupported operand type(s) for +: 'NoneType' and 'int'"
          ]
        }
      ]
    },
    {
      "cell_type": "code",
      "source": [
        "def multiply(a, b):\n",
        "    return (a*b) # 함수를 종료하면서 해당 결과를\n",
        "    # 메모리에 가지고 돌아가는(return) 명령어"
      ],
      "metadata": {
        "id": "uWJ3jL55x8x-"
      },
      "execution_count": null,
      "outputs": []
    },
    {
      "cell_type": "code",
      "source": [
        "a = multiply(1, 3)"
      ],
      "metadata": {
        "id": "yIBhaN8LyAEm"
      },
      "execution_count": null,
      "outputs": []
    },
    {
      "cell_type": "markdown",
      "source": [
        "<img src=\"https://t1.daumcdn.net/cfile/tistory/22333F3B57446B4F34\" width=300>"
      ],
      "metadata": {
        "id": "1AusuNm1n9gJ"
      }
    },
    {
      "cell_type": "markdown",
      "source": [
        "- 입력값은 어떻게 들어가고 있는 것일까??\n",
        "\n",
        "- 타입에 따른 입력값 전달\n",
        "    - 얕은복사랑 같은 방식으로 입력이 되고 있어요\n",
        "    - 구조화된 자료는 주소를 전달하거나, int/float/str 값을 전달하거나\n"
      ],
      "metadata": {
        "id": "UrekazfRpLP2"
      }
    },
    {
      "cell_type": "markdown",
      "source": [
        "실습. 파라메터로 리스트를 입력받아서\n",
        "        그 리스트를 거꾸로 뒤집어서 출력하는 함수를 만들어보겠습니다.함수 이름은 fun_reverse()"
      ],
      "metadata": {
        "id": "GI3gbLIUnD7B"
      }
    },
    {
      "cell_type": "code",
      "source": [
        "# print\n",
        "# return 시켜서 결과를 result 라는 변수에 넣고 무슨 값이 들어있나 확인해보세요"
      ],
      "metadata": {
        "id": "KYrEADvjJp53"
      },
      "execution_count": null,
      "outputs": []
    },
    {
      "cell_type": "code",
      "source": [
        "li # 원래의 데이터가\n",
        "\n",
        "def fun_reverse(list_): # list_ = li  - 함수 안에 들어갈 때는 얕은 복사로\n",
        "                        # 우리가 명명한 파라미터의 이름으로 불리우게 됩니다\n",
        "    print(list_[::-1])"
      ],
      "metadata": {
        "id": "3JW6E_NSKOBb"
      },
      "execution_count": null,
      "outputs": []
    },
    {
      "cell_type": "code",
      "source": [
        "li = [1,2,3,4,5]"
      ],
      "metadata": {
        "id": "EFbx5pLbzUSa"
      },
      "execution_count": null,
      "outputs": []
    },
    {
      "cell_type": "code",
      "source": [
        "fun_reverse(li)"
      ],
      "metadata": {
        "id": "9GKg4pGuKTJl",
        "colab": {
          "base_uri": "https://localhost:8080/"
        },
        "outputId": "c85cc494-4b65-4eb7-d91d-ff6019ebd7a5"
      },
      "execution_count": null,
      "outputs": [
        {
          "output_type": "stream",
          "name": "stdout",
          "text": [
            "[5, 4, 3, 2, 1]\n"
          ]
        }
      ]
    },
    {
      "cell_type": "code",
      "source": [
        "li2 = fun_reverse(li)"
      ],
      "metadata": {
        "id": "opX25sBWJzCu",
        "colab": {
          "base_uri": "https://localhost:8080/"
        },
        "outputId": "d228a9a2-8e7a-4bcd-fb7f-20a8308bc155"
      },
      "execution_count": null,
      "outputs": [
        {
          "output_type": "stream",
          "name": "stdout",
          "text": [
            "[5, 4, 3, 2, 1]\n"
          ]
        }
      ]
    },
    {
      "cell_type": "code",
      "source": [
        "li = [5, 4, 3, 2, 1]"
      ],
      "metadata": {
        "id": "qHDYlR5n1T2r"
      },
      "execution_count": null,
      "outputs": []
    },
    {
      "cell_type": "code",
      "source": [
        "def fun_reverse(list_):\n",
        "    return (list_[::-1])"
      ],
      "metadata": {
        "id": "jj6u03m6pn7f"
      },
      "execution_count": null,
      "outputs": []
    },
    {
      "cell_type": "code",
      "source": [
        "fun_reverse(li)"
      ],
      "metadata": {
        "id": "w5yk-Rw1p7oE",
        "colab": {
          "base_uri": "https://localhost:8080/"
        },
        "outputId": "48b4cdd1-78ea-48cb-cf25-989403e80c67"
      },
      "execution_count": null,
      "outputs": [
        {
          "output_type": "execute_result",
          "data": {
            "text/plain": [
              "[1, 2, 3, 4, 5]"
            ]
          },
          "metadata": {},
          "execution_count": 283
        }
      ]
    },
    {
      "cell_type": "code",
      "source": [
        "li = fun_reverse(li) # 직접 어디다 저장할지 지정하도록 만들어져 있다"
      ],
      "metadata": {
        "id": "uepb4hOZ1bGg"
      },
      "execution_count": null,
      "outputs": []
    },
    {
      "cell_type": "code",
      "source": [
        "del li"
      ],
      "metadata": {
        "id": "xfqbL8cA1Rfb"
      },
      "execution_count": null,
      "outputs": []
    },
    {
      "cell_type": "code",
      "source": [
        "li"
      ],
      "metadata": {
        "colab": {
          "base_uri": "https://localhost:8080/"
        },
        "id": "xYvNAQ7QzoKr",
        "outputId": "a967c81f-0e7a-41d2-de46-0338a8586203"
      },
      "execution_count": null,
      "outputs": [
        {
          "output_type": "execute_result",
          "data": {
            "text/plain": [
              "[1, 2, 3, 4, 5]"
            ]
          },
          "metadata": {},
          "execution_count": 274
        }
      ]
    },
    {
      "cell_type": "code",
      "source": [
        "def fun_reverse(list_):\n",
        "    return (list_[::-1])"
      ],
      "metadata": {
        "id": "tYNSC03o0hec"
      },
      "execution_count": null,
      "outputs": []
    },
    {
      "cell_type": "code",
      "source": [
        "def fun_reverse(list_):\n",
        "    return (id(list_),  list_[::-1])"
      ],
      "metadata": {
        "id": "hS6BxeuD0uLv"
      },
      "execution_count": null,
      "outputs": []
    },
    {
      "cell_type": "code",
      "source": [
        "fun_reverse(li)"
      ],
      "metadata": {
        "colab": {
          "base_uri": "https://localhost:8080/"
        },
        "id": "8gRcziNO0x68",
        "outputId": "2e1ee45b-0efd-4737-9cab-6c91458d5625"
      },
      "execution_count": null,
      "outputs": [
        {
          "output_type": "execute_result",
          "data": {
            "text/plain": [
              "(140120840033152, [5, 4, 3, 2, 1])"
            ]
          },
          "metadata": {},
          "execution_count": 276
        }
      ]
    },
    {
      "cell_type": "code",
      "source": [
        "id(li) #"
      ],
      "metadata": {
        "colab": {
          "base_uri": "https://localhost:8080/"
        },
        "id": "XoEuY14Q01ET",
        "outputId": "c66e58f0-ff28-4cbb-d6f7-a79be8433d34"
      },
      "execution_count": null,
      "outputs": [
        {
          "output_type": "execute_result",
          "data": {
            "text/plain": [
              "140120840033152"
            ]
          },
          "metadata": {},
          "execution_count": 277
        }
      ]
    },
    {
      "cell_type": "markdown",
      "source": [],
      "metadata": {
        "id": "J9FD_7Tp0uGX"
      }
    },
    {
      "cell_type": "markdown",
      "source": [
        "# 그냥 함수, 메소드(비파괴적인 함수, 파괴적인 힘수) - undestructive function, destructive function\n",
        "\n",
        "- 왜?\n",
        "- 91년에 나온 파이썬\n",
        "- 메모리 효율을 위해 많은 것을 양보함 (리스트 관련 함수는 파괴적 구현)\n",
        "만약 a 리스트에 10만개의 원소가 들어가 있다면?\n",
        "- a는 a대로, b는 또 a에 무언가를 더해서 메모리에 저장한다면?\n",
        "- 그래서 자신을 파괴(변형)시키고, 대신 다른 변수에 대입하려고 하면 None을 리턴하는 식으로 개발자에게 실수를 방지시킨다\n",
        "- 이후 나온 최신 언어들은 둘다 제공, numpy 등 이후 나온 데이터 관련 패키지들도 비파괴적 함수 제공\n",
        "\n",
        "\n"
      ],
      "metadata": {
        "id": "X51p5xPeqDz7"
      }
    },
    {
      "cell_type": "code",
      "source": [
        "a = 'Hello'"
      ],
      "metadata": {
        "id": "a5PAwj_4qgsQ"
      },
      "execution_count": null,
      "outputs": []
    },
    {
      "cell_type": "code",
      "source": [
        "a = a.upper()"
      ],
      "metadata": {
        "id": "XZoteODqQQ5T"
      },
      "execution_count": null,
      "outputs": []
    },
    {
      "cell_type": "code",
      "source": [
        "a"
      ],
      "metadata": {
        "colab": {
          "base_uri": "https://localhost:8080/",
          "height": 35
        },
        "id": "NwrPq9oa13zP",
        "outputId": "89ed43c3-0fdb-4f02-e1b6-f08317cc1624"
      },
      "execution_count": null,
      "outputs": [
        {
          "output_type": "execute_result",
          "data": {
            "text/plain": [
              "'HELLO'"
            ],
            "application/vnd.google.colaboratory.intrinsic+json": {
              "type": "string"
            }
          },
          "metadata": {},
          "execution_count": 288
        }
      ]
    },
    {
      "cell_type": "code",
      "source": [
        "li.append(5) # 원본의 배열에 변형을 가하는 함수(destructive function)\n",
        "# 원본이 변경되었기 때문에 우리에게 인터프리터가 바뀐 결과를 보여주지 않습니다."
      ],
      "metadata": {
        "id": "nLo1lBFp2Lh9"
      },
      "execution_count": null,
      "outputs": []
    },
    {
      "cell_type": "code",
      "source": [
        "li"
      ],
      "metadata": {
        "colab": {
          "base_uri": "https://localhost:8080/"
        },
        "id": "y_y5vIVI2Nsk",
        "outputId": "13a2008f-1bf2-4c65-9bb1-b8d99bb12af3"
      },
      "execution_count": null,
      "outputs": [
        {
          "output_type": "execute_result",
          "data": {
            "text/plain": [
              "[1, 2, 3, 4, 5, 5]"
            ]
          },
          "metadata": {},
          "execution_count": 290
        }
      ]
    },
    {
      "cell_type": "code",
      "source": [
        "'hELLO'.lower() # 원본의 배열에 변형을 가하지 않는 함수(undestructive function)들은\n",
        "# 원본을 변형했을 때 어떤 결과가 나올지 인터프리터가 우리에게 보여줍니다"
      ],
      "metadata": {
        "colab": {
          "base_uri": "https://localhost:8080/",
          "height": 35
        },
        "id": "3I7usID32Vet",
        "outputId": "379ca467-dd22-46fa-a3eb-be6d6f7cef2f"
      },
      "execution_count": null,
      "outputs": [
        {
          "output_type": "execute_result",
          "data": {
            "text/plain": [
              "'hello'"
            ],
            "application/vnd.google.colaboratory.intrinsic+json": {
              "type": "string"
            }
          },
          "metadata": {},
          "execution_count": 291
        }
      ]
    },
    {
      "cell_type": "markdown",
      "source": [
        "# 가변인자\n",
        "- 입력값이 몇개인지 정해져 있지 않은 경우\n",
        "\n",
        "```\n",
        "def 함수명(*인자):\n",
        "    실행문\n"
      ],
      "metadata": {
        "id": "5pe3dXSjaB31"
      }
    },
    {
      "cell_type": "code",
      "source": [
        "def 함수명(*value): # 파라메터 갯수가 정해져있지 않은 함수\n",
        "    print(value)"
      ],
      "metadata": {
        "id": "sPnIvRI7Z6nZ"
      },
      "execution_count": null,
      "outputs": []
    },
    {
      "cell_type": "code",
      "source": [
        "함수명(1,2,3,4) # (1, 2, 3, 4) 한묶음으로 value 라는 변수로 인식"
      ],
      "metadata": {
        "id": "l-48fL7naZlh",
        "colab": {
          "base_uri": "https://localhost:8080/"
        },
        "outputId": "9fd141ee-3417-4fbe-a8be-34edf3537c5f"
      },
      "execution_count": null,
      "outputs": [
        {
          "output_type": "stream",
          "name": "stdout",
          "text": [
            "(1, 2, 3, 4)\n"
          ]
        }
      ]
    },
    {
      "cell_type": "code",
      "source": [
        "def 함수명(*value): # 파라메터 갯수가 정해져있지 않은 함수\n",
        "    print(value[0], value[1])"
      ],
      "metadata": {
        "id": "nHMKn2OB3y3F"
      },
      "execution_count": null,
      "outputs": []
    },
    {
      "cell_type": "code",
      "source": [
        "함수명(1,2,3,4) # (1, 2, 3, 4) 한묶음으로 value 라는 변수로 인식"
      ],
      "metadata": {
        "colab": {
          "base_uri": "https://localhost:8080/"
        },
        "id": "XjVgZRP532KD",
        "outputId": "c93492b9-6251-4feb-a2f4-6ba6b3ab4458"
      },
      "execution_count": null,
      "outputs": [
        {
          "output_type": "stream",
          "name": "stdout",
          "text": [
            "1 2\n"
          ]
        }
      ]
    },
    {
      "cell_type": "code",
      "source": [
        "print('안녕 {} 나는 {}야'.format('!', '연지야'))"
      ],
      "metadata": {
        "id": "pr_x3AbKabpp",
        "colab": {
          "base_uri": "https://localhost:8080/"
        },
        "outputId": "62d910ca-e799-4de1-d275-96e27d844e47"
      },
      "execution_count": null,
      "outputs": [
        {
          "output_type": "stream",
          "name": "stdout",
          "text": [
            "안녕 ! 나는 연지야야\n"
          ]
        }
      ]
    },
    {
      "cell_type": "markdown",
      "source": [
        "- 파이썬에서 가변인자(패킹)은 튜플로 묶어서 전달이 되는구나\n",
        "- 튜플은 만들어 놓으면 순서를 바꿀 수 없죠. 파라메터도 들어간 순서대로 출력 되는 거\n",
        "- 그래서 튜플로 전달이 됩니다."
      ],
      "metadata": {
        "id": "xVkkOCo2asJ7"
      }
    },
    {
      "cell_type": "code",
      "source": [
        "def 함수명(*args): # 파라메터 갯수가 정해져있지 않은 함수\n",
        "    print(*args)"
      ],
      "metadata": {
        "id": "cKQB3fcKT4TD"
      },
      "execution_count": null,
      "outputs": []
    },
    {
      "cell_type": "code",
      "source": [
        "함수명(1,2,3,4,5)"
      ],
      "metadata": {
        "id": "_HlfE7VhUQRp",
        "colab": {
          "base_uri": "https://localhost:8080/"
        },
        "outputId": "9ad9fe59-aa73-4287-e9ba-0d6d0547ff8d"
      },
      "execution_count": null,
      "outputs": [
        {
          "output_type": "stream",
          "name": "stdout",
          "text": [
            "1 2 3 4 5\n"
          ]
        }
      ]
    },
    {
      "cell_type": "markdown",
      "source": [
        "# 변수 이름과 함께 전달할 때 사용합니다.\n",
        "- 변수이름을 key로 하는 딕셔너리 형태로 묶어서 전달되기 때문입니다."
      ],
      "metadata": {
        "id": "aWequUeXa9cS"
      }
    },
    {
      "cell_type": "code",
      "source": [
        "def 함수명(**kwargs): # 파라메터 갯수가 정해져있지 않은 함수\n",
        "    print(kwargs)"
      ],
      "metadata": {
        "id": "1Ux-BpP5ajVR"
      },
      "execution_count": null,
      "outputs": []
    },
    {
      "cell_type": "code",
      "source": [
        "함수명(a=1, b=True, c='사과')"
      ],
      "metadata": {
        "id": "dBoxQnrabII5",
        "colab": {
          "base_uri": "https://localhost:8080/"
        },
        "outputId": "cceffea5-9f19-4872-b77d-ff0f64ccab6b"
      },
      "execution_count": null,
      "outputs": [
        {
          "output_type": "stream",
          "name": "stdout",
          "text": [
            "{'a': 1, 'b': True, 'c': '사과'}\n"
          ]
        }
      ]
    },
    {
      "cell_type": "markdown",
      "source": [
        "# 두 방법을 함께 사용하는 것도 가능합니다."
      ],
      "metadata": {
        "id": "PBikKiPfbTeU"
      }
    },
    {
      "cell_type": "code",
      "source": [
        "def 함수명(*args, **kwargs): # 파라메터 갯수가 정해져있지 않은 함수\n",
        "    return (*args, kwargs)"
      ],
      "metadata": {
        "id": "o-NtWIlMbPi5"
      },
      "execution_count": null,
      "outputs": []
    },
    {
      "cell_type": "code",
      "source": [
        "함수명(1,2,True, 111, hello='python', bye='python2')"
      ],
      "metadata": {
        "id": "lrzeUYUWbjb8",
        "colab": {
          "base_uri": "https://localhost:8080/"
        },
        "outputId": "9d5502fe-5919-4f2d-fc58-5ca72579d202"
      },
      "execution_count": null,
      "outputs": [
        {
          "output_type": "execute_result",
          "data": {
            "text/plain": [
              "(1, 2, True, 111, {'hello': 'python', 'bye': 'python2'})"
            ]
          },
          "metadata": {},
          "execution_count": 13
        }
      ]
    },
    {
      "cell_type": "markdown",
      "source": [
        "  # 변수명 없이 전달하는 값 있음 (개수는 안 정해짐) + 변수명과 함께 전달하는 값 있음(개수는 안 정해짐)\n",
        "  -> 반대 경우도 가능합니다.\n",
        "  unpacking 이라고 부릅니다."
      ],
      "metadata": {
        "id": "P4U0vOX5cQTp"
      }
    },
    {
      "cell_type": "code",
      "source": [
        "a,b,*c = [1,2,3,4]"
      ],
      "metadata": {
        "id": "iZdI4CHjcLBa"
      },
      "execution_count": null,
      "outputs": []
    },
    {
      "cell_type": "code",
      "source": [
        "a,b,c"
      ],
      "metadata": {
        "id": "bawBROincckJ",
        "colab": {
          "base_uri": "https://localhost:8080/"
        },
        "outputId": "d31bfab0-b859-4eaf-be31-679fb22e6cce"
      },
      "execution_count": null,
      "outputs": [
        {
          "output_type": "execute_result",
          "data": {
            "text/plain": [
              "(1, 2, [3, 4])"
            ]
          },
          "metadata": {},
          "execution_count": 9
        }
      ]
    },
    {
      "cell_type": "code",
      "source": [
        "a,b,*c = [1,2,4,5]"
      ],
      "metadata": {
        "id": "MpkJTBfQcfb5"
      },
      "execution_count": null,
      "outputs": []
    },
    {
      "cell_type": "code",
      "source": [
        "def 함수명(*args, **kwargs): # 파라메터 갯수가 정해져있지 않은 함수\n",
        "    return (*args, kwargs) # return을 만나는 순간 함수는 바로 종료된다.\n",
        "    return 1 # 얘들은 영원히 실행될 일이 없다.\n",
        "    return True"
      ],
      "metadata": {
        "id": "9ay35B_kcmt5"
      },
      "execution_count": null,
      "outputs": []
    },
    {
      "cell_type": "code",
      "source": [
        "함수명(1,2,True, 111, hello='python', bye='python2')"
      ],
      "metadata": {
        "id": "2nBOj2CTcp-R",
        "colab": {
          "base_uri": "https://localhost:8080/"
        },
        "outputId": "02438c52-f6d0-47cf-8dfe-1f776d05c839"
      },
      "execution_count": null,
      "outputs": [
        {
          "output_type": "execute_result",
          "data": {
            "text/plain": [
              "(1, 2, True, 111, {'hello': 'python', 'bye': 'python2'})"
            ]
          },
          "metadata": {},
          "execution_count": 16
        }
      ]
    },
    {
      "cell_type": "code",
      "source": [
        "def test(a,b):\n",
        "    if a>b:\n",
        "        return 'a가 더 큼'\n",
        "        return '그 다음 줄' # 영영 실행되지 않을 거에요\n",
        "    else:\n",
        "        return 'b가 더 큼'\n"
      ],
      "metadata": {
        "id": "_AOH-0BMZkR3"
      },
      "execution_count": null,
      "outputs": []
    },
    {
      "cell_type": "code",
      "source": [
        "test(2,3)"
      ],
      "metadata": {
        "id": "5VrIDCx7X6Yx",
        "colab": {
          "base_uri": "https://localhost:8080/",
          "height": 35
        },
        "outputId": "5f89a488-6a58-4363-9257-8cc588e7d463"
      },
      "execution_count": null,
      "outputs": [
        {
          "output_type": "execute_result",
          "data": {
            "text/plain": [
              "'b가 더 큼'"
            ],
            "application/vnd.google.colaboratory.intrinsic+json": {
              "type": "string"
            }
          },
          "metadata": {},
          "execution_count": 18
        }
      ]
    },
    {
      "cell_type": "code",
      "source": [
        "def test(a,b):\n",
        "    if a>b:\n",
        "        return 'a가 더 큼' # 조기 리턴\n",
        "    return 'b가 더 큼'"
      ],
      "metadata": {
        "id": "xCYlPFL8X6Yy"
      },
      "execution_count": null,
      "outputs": []
    },
    {
      "cell_type": "code",
      "source": [
        "test(5,3)"
      ],
      "metadata": {
        "id": "WnjT1PjcagQn",
        "colab": {
          "base_uri": "https://localhost:8080/",
          "height": 35
        },
        "outputId": "95aaa237-1552-46fb-9c48-66b3fe6c1d3e"
      },
      "execution_count": null,
      "outputs": [
        {
          "output_type": "execute_result",
          "data": {
            "text/plain": [
              "'a가 더 큼'"
            ],
            "application/vnd.google.colaboratory.intrinsic+json": {
              "type": "string"
            }
          },
          "metadata": {},
          "execution_count": 22
        }
      ]
    },
    {
      "cell_type": "code",
      "source": [
        "test(3,5)"
      ],
      "metadata": {
        "id": "c0D1C65UZidM",
        "colab": {
          "base_uri": "https://localhost:8080/",
          "height": 35
        },
        "outputId": "6c9565ac-990e-4fb4-bc60-599810336a4d"
      },
      "execution_count": null,
      "outputs": [
        {
          "output_type": "execute_result",
          "data": {
            "text/plain": [
              "'b가 더 큼'"
            ],
            "application/vnd.google.colaboratory.intrinsic+json": {
              "type": "string"
            }
          },
          "metadata": {},
          "execution_count": 23
        }
      ]
    },
    {
      "cell_type": "code",
      "source": [
        "# func_reverse를 변경해주세요\n",
        "# list가 아닌 값이 들어오면 'list 자료형을 입력하세요'를 return\n",
        "# list가 들어오면 거꾸로 순서를 바꾸어서 리턴\n",
        "\n",
        "def fun_reverse(list_):\n",
        "    # 조건 - 자료형이 list인지 확인\n",
        "    if type(list_) == list:\n",
        "        return list_[::-1]\n",
        "    else:\n",
        "        return 'list 자료형을 입력하세요'"
      ],
      "metadata": {
        "id": "n0_4q3mBqyEk"
      },
      "execution_count": null,
      "outputs": []
    },
    {
      "cell_type": "code",
      "source": [
        "fun_reverse('가나다라')"
      ],
      "metadata": {
        "id": "GXz9sSHkq08D",
        "colab": {
          "base_uri": "https://localhost:8080/",
          "height": 35
        },
        "outputId": "a1b06f30-7321-4972-844e-eb58165b6ee5"
      },
      "execution_count": null,
      "outputs": [
        {
          "output_type": "execute_result",
          "data": {
            "text/plain": [
              "'list 자료형을 입력하세요'"
            ],
            "application/vnd.google.colaboratory.intrinsic+json": {
              "type": "string"
            }
          },
          "metadata": {},
          "execution_count": 29
        }
      ]
    },
    {
      "cell_type": "code",
      "source": [
        "fun_reverse([1,2,3,4])"
      ],
      "metadata": {
        "id": "HfNu1b1gcvZS",
        "colab": {
          "base_uri": "https://localhost:8080/"
        },
        "outputId": "2ff20ed7-2aa0-4a14-976d-6edfa2b07ec7"
      },
      "execution_count": null,
      "outputs": [
        {
          "output_type": "execute_result",
          "data": {
            "text/plain": [
              "[4, 3, 2, 1]"
            ]
          },
          "metadata": {},
          "execution_count": 30
        }
      ]
    },
    {
      "cell_type": "code",
      "source": [
        "li = [1,2,3,4]"
      ],
      "metadata": {
        "id": "aV6gggSi_Lns"
      },
      "execution_count": null,
      "outputs": []
    },
    {
      "cell_type": "code",
      "source": [
        "isinstance(li,list) # isinstance(변수형, 자료형)"
      ],
      "metadata": {
        "id": "TPess74Hc_3y",
        "colab": {
          "base_uri": "https://localhost:8080/"
        },
        "outputId": "610560ae-2497-4697-9674-d8f7dded9d2e"
      },
      "execution_count": null,
      "outputs": [
        {
          "output_type": "execute_result",
          "data": {
            "text/plain": [
              "True"
            ]
          },
          "metadata": {},
          "execution_count": 33
        }
      ]
    },
    {
      "cell_type": "code",
      "source": [
        "fun_reverse(li)"
      ],
      "metadata": {
        "id": "w1CRfFsFb1QP",
        "colab": {
          "base_uri": "https://localhost:8080/"
        },
        "outputId": "87c03a32-e9c4-4290-9c6a-21503951fac3"
      },
      "execution_count": null,
      "outputs": [
        {
          "output_type": "execute_result",
          "data": {
            "text/plain": [
              "[4, 3, 2, 1]"
            ]
          },
          "metadata": {},
          "execution_count": 35
        }
      ]
    },
    {
      "cell_type": "markdown",
      "source": [
        "\n",
        "실습. 아래 코드의 결과를 예측하고 실행결과가 일치하는지 확인해보세요.\n",
        "\n",
        "~~~\n",
        "def func0(num) :\n",
        "    return num * 2\n",
        "\n",
        "def func1(num) :\n",
        "    return func0(num + 2)\n",
        "\n",
        "def func2(num) :\n",
        "    num = num + 10\n",
        "    return func1(num)\n",
        "\n",
        "c = func2(2)\n",
        "print(c)\n",
        "~~~"
      ],
      "metadata": {
        "id": "xnXqQOh6yZf7"
      }
    },
    {
      "cell_type": "code",
      "source": [
        "def func0(num) :\n",
        "    return num * 2\n",
        "\n",
        "def func1(num) :\n",
        "    return func0(num + 2)\n",
        "\n",
        "def func2(num) :\n",
        "    num = num + 10\n",
        "    return func1(num)\n",
        "\n",
        "c = func2(2)\n",
        "print(c)"
      ],
      "metadata": {
        "id": "70eWrEGiPIap",
        "colab": {
          "base_uri": "https://localhost:8080/"
        },
        "outputId": "7cf76636-9dcc-4ef8-ff6f-0c9cf3ce1ae7"
      },
      "execution_count": null,
      "outputs": [
        {
          "output_type": "stream",
          "name": "stdout",
          "text": [
            "28\n"
          ]
        }
      ]
    },
    {
      "cell_type": "code",
      "execution_count": null,
      "metadata": {
        "id": "QPDodOFXWWeX"
      },
      "outputs": [],
      "source": [
        "# 함수 안에서 함수를 실행하는 경우 Callback 함수\n",
        "# 함수를 부르는 함수 - Caller, 함수 안에서 불리운 함수 - Callee"
      ]
    },
    {
      "cell_type": "markdown",
      "source": [
        "# 반환이 있는 함수\n",
        "    - 실행결과를 돌려주는 경우\n",
        "    - return을 사용합니다.\n",
        "    - 누구한테 돌려주냐? Caller에게 Callee가 돌려주는 겁니다.\n",
        "    - 함수 안에 함수가 있거나, 특정 클래스에서 클래스 바깥의 함수를 호출하거나 하면\n",
        "    - 함수 안에서만 사용 가능합니다\n",
        "    - return이 실행되면 함수는 바로 종료됩니다.\n"
      ],
      "metadata": {
        "id": "mzSPIwjZdbBX"
      }
    },
    {
      "cell_type": "code",
      "source": [
        "def function():\n",
        "    # return이 실행되면 함수는 바로 종료됩니다.\n",
        "    return func2(1)  # return 될 때 다른 함수를 호출하건 어쩌건 return을 만나는 순간 이 함수는 종료\n",
        "    return 2\n",
        "    return 3\n",
        "    return 4"
      ],
      "metadata": {
        "id": "xCl30rRddShZ"
      },
      "execution_count": null,
      "outputs": []
    },
    {
      "cell_type": "code",
      "source": [
        "function()"
      ],
      "metadata": {
        "id": "CUBfQynveF9S",
        "colab": {
          "base_uri": "https://localhost:8080/"
        },
        "outputId": "86c6819e-daeb-4a2a-daca-9a5f6ce73648"
      },
      "execution_count": null,
      "outputs": [
        {
          "output_type": "execute_result",
          "data": {
            "text/plain": [
              "26"
            ]
          },
          "metadata": {},
          "execution_count": 42
        }
      ]
    },
    {
      "cell_type": "code",
      "source": [
        "'''\n",
        "이 안에 입력하시면 주석처리됩니다\n",
        "'''"
      ],
      "metadata": {
        "id": "NqdNugBwe9Ay",
        "colab": {
          "base_uri": "https://localhost:8080/",
          "height": 35
        },
        "outputId": "409477c5-1368-4015-9761-d7c36b09b5ad"
      },
      "execution_count": null,
      "outputs": [
        {
          "output_type": "execute_result",
          "data": {
            "text/plain": [
              "'\\n이 안에 입력하시면 주석처리됩니다\\n'"
            ],
            "application/vnd.google.colaboratory.intrinsic+json": {
              "type": "string"
            }
          },
          "metadata": {},
          "execution_count": 3
        }
      ]
    },
    {
      "cell_type": "markdown",
      "source": [
        "# 파이썬의 메모리 구조\n",
        "![](https://velog.velcdn.com/images%2Fjinukix%2Fpost%2Ff71f41c8-d66e-4d45-af28-22766041c815%2F%EC%8A%A4%ED%81%AC%EB%A6%B0%EC%83%B7%202021-03-15%20%EC%98%A4%EC%A0%84%2011.53.19.png)\n",
        "- Text 영역(코드영역) : 실행할 프로그램의 코드가 저장됨\n",
        "- Data 영역: 전역 변수와 정적 변수를 저장. 프로그램 시작과 함께 할당/프로그램이 종료되면 소멸\n",
        "- Stack 영역 : 지역 변수와 매개변수를 저장. 함수를 호출하면 생성되고, 실행이 완료되면 소멸됨\n",
        "- Heap 영역 : 사용자의 동적 할당으로 생성되는 공간. 사용자가 공간 크기를 직접 관리"
      ],
      "metadata": {
        "id": "rEgaLXPVSTct"
      }
    },
    {
      "cell_type": "markdown",
      "source": [
        "# 함수 호출 구조\n",
        "- 함수는 언제 실행이 될까요?\n",
        "    - 호출을 해야 실행이 됩니다 : 함수명()\n",
        "    - 실행이 된다?\n",
        "        - 메모리에 함수를 위한 공간이 따로 만들어진다 라는 것을 의미합니다.\n",
        "        - 콜스택(호출스택)이라고 합니다.\n",
        "        - 함수는 함수가 사용하는 고유의 메모리 공간을 가집니다.\n",
        "\n",
        "\n",
        "- 함수는 언제 종료가 되나요?\n",
        "    - 함수는 블록 내에서 더 실행할 명령어가 없으면 종료됩니다.\n",
        "    - return을 만나면 종료됩니다.\n",
        "    - 함수가 종료된다?\n",
        "        - 함수가 사용했던 메모리가 존재하지 않게 된다는 뜻입니다.\n",
        "        - 종료하면서 사용했던 메모리를 반납하고 퇴장합니다.\n",
        "\n",
        "- 지역변수(Local Variable)\n",
        "    - 변수를 메모리 주소 대신이 사용하는 이름??\n",
        "    - 값을 저장하기 위해서 사용하는 메모리 위치가 두군데 있어요.\n",
        "        - 글로벌 메모리\n",
        "        - 로컬 메모리(함수가 사용하는 메모리)\n",
        "            - 함수 안에서만 변수를 정의하면 로컬 메모리에 생성이 되고 그 변수는 지역변수 라고 부릅니다.\n",
        "        - 함수가 실행되는 동안에만 유지\n",
        "            - 함수가 종료되면 참조할 수 없습니다\n",
        "            - 파라메터도 지역변수입니다.\n",
        "\n",
        "\n",
        "\n",
        "- continue, break, return\n",
        "    - continue break는 반복문 안에서 사용이 가능합니다.\n",
        "    - return은 함수 내에서만 사용합니다.\n",
        "\n"
      ],
      "metadata": {
        "id": "Nrti1VaTtIfN"
      }
    },
    {
      "cell_type": "code",
      "source": [
        "a = 'hello' # 전역변수 (Global Variable)\n",
        "def function(str_):\n",
        "    a = 'Hello' # 지역변수 (Local Variable)\n",
        "    print(a,str_)\n"
      ],
      "metadata": {
        "id": "GxnKXUYus7Ac"
      },
      "execution_count": null,
      "outputs": []
    },
    {
      "cell_type": "code",
      "source": [
        "function('신짱구')"
      ],
      "metadata": {
        "id": "1ZEJeE5Wuv_b",
        "colab": {
          "base_uri": "https://localhost:8080/"
        },
        "outputId": "16fd1a69-a964-42af-db89-5151884bd605"
      },
      "execution_count": null,
      "outputs": [
        {
          "output_type": "stream",
          "name": "stdout",
          "text": [
            "Hello 신짱구\n"
          ]
        }
      ]
    },
    {
      "cell_type": "code",
      "source": [
        "a"
      ],
      "metadata": {
        "id": "H1lQ4zveuygD",
        "colab": {
          "base_uri": "https://localhost:8080/",
          "height": 35
        },
        "outputId": "033e23d2-bb1d-41ce-b304-150f5bd680e7"
      },
      "execution_count": null,
      "outputs": [
        {
          "output_type": "execute_result",
          "data": {
            "text/plain": [
              "'hello'"
            ],
            "application/vnd.google.colaboratory.intrinsic+json": {
              "type": "string"
            }
          },
          "metadata": {},
          "execution_count": 48
        }
      ]
    },
    {
      "cell_type": "code",
      "source": [
        "a = 'hello' # 전역변수 (Global Variable)\n",
        "def function(str_):\n",
        "    hello = 'Hello' # 지역변수 (Local Variable)\n",
        "    return (a,str_)\n"
      ],
      "metadata": {
        "id": "YCvf3yXduzGL"
      },
      "execution_count": null,
      "outputs": []
    },
    {
      "cell_type": "code",
      "source": [
        "function('신짱구')"
      ],
      "metadata": {
        "id": "H1YGD7-qvNCL",
        "colab": {
          "base_uri": "https://localhost:8080/"
        },
        "outputId": "3e8103d9-f874-4494-e961-d64fe6f03bcc"
      },
      "execution_count": null,
      "outputs": [
        {
          "output_type": "execute_result",
          "data": {
            "text/plain": [
              "('hello', '신짱구')"
            ]
          },
          "metadata": {},
          "execution_count": 50
        }
      ]
    },
    {
      "cell_type": "code",
      "source": [
        "hello"
      ],
      "metadata": {
        "id": "QAfSGzh1vN88",
        "colab": {
          "base_uri": "https://localhost:8080/",
          "height": 172
        },
        "outputId": "24817831-de26-42b5-83a3-7230a81e02c6"
      },
      "execution_count": null,
      "outputs": [
        {
          "output_type": "error",
          "ename": "NameError",
          "evalue": "ignored",
          "traceback": [
            "\u001b[0;31m---------------------------------------------------------------------------\u001b[0m",
            "\u001b[0;31mNameError\u001b[0m                                 Traceback (most recent call last)",
            "\u001b[0;32m<ipython-input-51-f572d396fae9>\u001b[0m in \u001b[0;36m<cell line: 1>\u001b[0;34m()\u001b[0m\n\u001b[0;32m----> 1\u001b[0;31m \u001b[0mhello\u001b[0m\u001b[0;34m\u001b[0m\u001b[0;34m\u001b[0m\u001b[0m\n\u001b[0m",
            "\u001b[0;31mNameError\u001b[0m: name 'hello' is not defined"
          ]
        }
      ]
    },
    {
      "cell_type": "code",
      "source": [
        "a = 'hello' # 전역변수 (Global Variable)\n",
        "def function(str_):\n",
        "    global hello\n",
        "    hello = 'Hello' # 지역변수 (Local Variable)\n",
        "    return (a,str_)\n"
      ],
      "metadata": {
        "id": "rHGk0xmmvRyh"
      },
      "execution_count": null,
      "outputs": []
    },
    {
      "cell_type": "code",
      "source": [
        "function('신짱구') # 한번은 코드를 실행해야 함"
      ],
      "metadata": {
        "id": "4fNphZCPv8HM",
        "colab": {
          "base_uri": "https://localhost:8080/"
        },
        "outputId": "ed4bc1c4-a74b-4472-add9-f770c9f350d8"
      },
      "execution_count": null,
      "outputs": [
        {
          "output_type": "execute_result",
          "data": {
            "text/plain": [
              "('hello', '신짱구')"
            ]
          },
          "metadata": {},
          "execution_count": 59
        }
      ]
    },
    {
      "cell_type": "code",
      "source": [
        "hello # 전역변수로 저장이 되어있는 것 확인"
      ],
      "metadata": {
        "id": "GBLrRqFnA6d1",
        "colab": {
          "base_uri": "https://localhost:8080/",
          "height": 35
        },
        "outputId": "f19cfb7f-3231-49f0-a397-efc84fb40bd7"
      },
      "execution_count": null,
      "outputs": [
        {
          "output_type": "execute_result",
          "data": {
            "text/plain": [
              "'Hello'"
            ],
            "application/vnd.google.colaboratory.intrinsic+json": {
              "type": "string"
            }
          },
          "metadata": {},
          "execution_count": 60
        }
      ]
    },
    {
      "cell_type": "code",
      "source": [
        "# 고객 매출 담당 - price : 고객이 사는 가격\n",
        "# def customer_buying():\n",
        "    # price\n",
        "\n",
        "# 매입 관련된 함수 담당 - price : 회사가 사는 가격\n",
        "# def company_buying():\n",
        "    # price\n",
        "# 하나의 서버에서 두 함수를 쓴다면, 근데 전역변수/지역변수를 나누지 않는다면\n",
        "# 헬게이트가 벌어집니다\n",
        "\n",
        "# 코드를 동작 단위로 관리하기 위해서 - 각 동작이 꼬이지 않게 하기 위해\n",
        "# 함수 안의 변수들은 지역변수로 관리하고\n",
        "# 상위 들여쓰기 단위에서 사용하는 변수들은 전역변수로 관리합니다"
      ],
      "metadata": {
        "id": "9sEQ_AeHDtQu"
      },
      "execution_count": null,
      "outputs": []
    },
    {
      "cell_type": "markdown",
      "source": [
        "### 전역변수 지역변수를 나누는 이유는\n",
        "- 전역변수가 위험하기 때문\n",
        "\n",
        "- 10만줄이 넘어가는 코드가 한 파일에 있다면, 그리고 여러 개발자가 작업하고 있다면?\n",
        "- 변수명이 의도치 않게 겹치는 경우도 있을 것이고\n",
        "- 대부분 자기가 맡은 api 안에서 지역변수를 사용하고 있을 거에요.\n",
        "- 전역변수가 지역변수의 자리를 침범한다면 (지역변수가 전역변수의 자리를 침범한다면)\n",
        "- 프로그램이 꼬이는 경우도 있겠죠\n",
        "\n",
        "- 그래서 함수 안에서는 변수명이 같으면 지역변수가 우선하고요. 지역변수와 전역변수를 분리해 메모리에 저장합니다."
      ],
      "metadata": {
        "id": "YkD4m4wJDdJ4"
      }
    },
    {
      "cell_type": "code",
      "source": [
        "locals()"
      ],
      "metadata": {
        "id": "277vqHRfDcN3",
        "colab": {
          "base_uri": "https://localhost:8080/"
        },
        "outputId": "75644f69-0b84-44f9-8d66-514ea41e2da3"
      },
      "execution_count": null,
      "outputs": [
        {
          "output_type": "execute_result",
          "data": {
            "text/plain": [
              "{'__name__': '__main__',\n",
              " '__doc__': 'Automatically created module for IPython interactive environment',\n",
              " '__package__': None,\n",
              " '__loader__': None,\n",
              " '__spec__': None,\n",
              " '__builtin__': <module 'builtins' (built-in)>,\n",
              " '__builtins__': <module 'builtins' (built-in)>,\n",
              " '_ih': ['',\n",
              "  'def 함수명(*args, **kwargs): # 파라메터 갯수가 정해져있지 않은 함수\\n    print(*args, **kwargs)',\n",
              "  \"함수(1,2,True, 111, hello='python', bye='p')\",\n",
              "  \"함수(1,2,True, 111, hello='python', bye='p')\",\n",
              "  \"함수명(1,2,True, 111, hello='python', bye='p')\",\n",
              "  \"함수(1,2,True, 111, {hello='python', bye='p'})\",\n",
              "  \"함수(1,2,True, 111, hello='python', bye='p')\",\n",
              "  \"함수명(1,2,True, 111, hello='python', bye='p')\",\n",
              "  'a,b,*c = [1,2,3,4]',\n",
              "  'a,b,c',\n",
              "  'a,b,*c = [1,2,4,5]',\n",
              "  \"함수명(1,2,True, 111, hello='python', bye='python2')\",\n",
              "  'def 함수명(*args, **kwargs): # 파라메터 갯수가 정해져있지 않은 함수\\n    return (*args, kwargs)',\n",
              "  \"함수명(1,2,True, 111, hello='python', bye='python2')\",\n",
              "  'def 함수명(*args, **kwargs): # 파라메터 갯수가 정해져있지 않은 함수\\n    return (*args, kwargs)\\n    return 1\\n    return True',\n",
              "  'def 함수명(*args, **kwargs): # 파라메터 갯수가 정해져있지 않은 함수\\n    return (*args, kwargs)\\n    return 1\\n    return True',\n",
              "  \"함수명(1,2,True, 111, hello='python', bye='python2')\",\n",
              "  \"def test(a,b):\\n    if a>b:\\n        return 'a가 더 큼'\\n    else:\\n        return 'b가 더 큼'\",\n",
              "  'test(2,3)',\n",
              "  \"def test(a,b):\\n    if a>b:\\n        return 'a가 더 큼'\\n    return 'b가 더 큼'\",\n",
              "  'test(5,3)',\n",
              "  \"def test(a,b):\\n    if a>b:\\n        return 'a가 더 큼' # 조기 리턴\\n    return 'b가 더 큼'\",\n",
              "  'test(5,3)',\n",
              "  'test(3,5)',\n",
              "  \"# func_reverse를 변경해주세요\\n# list가 아닌 값이 들어오면 'list 자료형을 입력하세요'를 return\\n# list가 들어오면 거꾸로 순서를 바꾸어서 리턴\\n\\ndef fun_reverse(list_):\\n    return list_[::-1]\",\n",
              "  \"fun_reverse('가나다라')\",\n",
              "  \"# func_reverse를 변경해주세요\\n# list가 아닌 값이 들어오면 'list 자료형을 입력하세요'를 return\\n# list가 들어오면 거꾸로 순서를 바꾸어서 리턴\\n\\ndef fun_reverse(list_):\\n    # 조건 - 자료형이 list인지 확인\\n    if type(lists_) == list:\\n        return list_[::-1]\\n    else:\\n        return 'list 자료형을 입력하세요'\",\n",
              "  \"fun_reverse('가나다라')\",\n",
              "  \"# func_reverse를 변경해주세요\\n# list가 아닌 값이 들어오면 'list 자료형을 입력하세요'를 return\\n# list가 들어오면 거꾸로 순서를 바꾸어서 리턴\\n\\ndef fun_reverse(list_):\\n    # 조건 - 자료형이 list인지 확인\\n    if type(list_) == list:\\n        return list_[::-1]\\n    else:\\n        return 'list 자료형을 입력하세요'\",\n",
              "  \"fun_reverse('가나다라')\",\n",
              "  'fun_reverse([1,2,3,4])',\n",
              "  'isinstance(li,list) # isinstance(변수형, 자료형)',\n",
              "  'li = [1,2,3,4]',\n",
              "  'isinstance(li,list) # isinstance(변수형, 자료형)',\n",
              "  'fun_reverse(li)',\n",
              "  'fun_reverse(li)',\n",
              "  'def func0(num) :\\n    return num * 2\\n\\ndef func1(num) :\\n    return func0(num + 2)\\n\\ndef func2(num) :\\n    num = num + 10\\n    return func1(num)\\n\\nc = func2(2)\\nprint(c)',\n",
              "  'def function():\\n    # return이 실행되면 함수는 바로 종료됩니다.\\n    return 1  \\n    return 2  \\n    return 3\\n    return 4',\n",
              "  'function()',\n",
              "  'def function():\\n    # return이 실행되면 함수는 바로 종료됩니다.\\n    return func2(1)  \\n    return 2  \\n    return 3\\n    return 4',\n",
              "  'function()',\n",
              "  'def function():\\n    # return이 실행되면 함수는 바로 종료됩니다.\\n    return func2(1)  # return 될 때 다른 함수를 호출하건 어쩌건 return을 만나는 순간 이 함수는 종료\\n    return 2  \\n    return 3\\n    return 4',\n",
              "  'function()',\n",
              "  \"a = 'hello'\\ndef function(str_):\\n    a = 'Hello'\\n    print(a,str_)\",\n",
              "  \"function('신짱구')\",\n",
              "  'a',\n",
              "  \"a = 'hello' # 전역변수 (Global Variable)\\ndef function(str_):\\n    a = 'Hello' # 지역변수 (Local Variable)\\n    print(a,str_)\",\n",
              "  \"function('신짱구')\",\n",
              "  'a',\n",
              "  \"a = 'hello' # 전역변수 (Global Variable)\\ndef function(str_):\\n    hello = 'Hello' # 지역변수 (Local Variable)\\n    return (a,str_)\",\n",
              "  \"function('신짱구')\",\n",
              "  'hello',\n",
              "  \"a = 'hello' # 전역변수 (Global Variable)\\ndef function(str_):\\n    global hello # a 라는 전역변수를 선언\\n    hello = 'Hello' # 지역변수 (Local Variable)\\n    return (a,str_)\",\n",
              "  'hellp',\n",
              "  'hello',\n",
              "  \"function('신짱구')\",\n",
              "  'hellp',\n",
              "  'hello',\n",
              "  \"a = 'hello' # 전역변수 (Global Variable)\\ndef function(str_):\\n    global hello\\n    hello = 'Hello' # 지역변수 (Local Variable)\\n    return (a,str_)\",\n",
              "  \"function('신짱구') # 한번은 코드를 실행해야 함\",\n",
              "  'hello # 전역변수로 저장이 되어있는 것 확인',\n",
              "  '# 고객 매출 담당 - price : 고객이 사는 가격\\n# def customer_buying():\\n    # price\\n\\n# 매입 관련된 함수 담당 - price : 회사가 사는 가격 \\n# def company_buying():\\n    # price\\n# 하나의 서버에서 두 함수를 쓴다면, 근데 전역변수/지역변수를 나누지 않는다면\\n# 헬게이트가 벌어집니다 \\n\\n# 코드를 동작 단위로 관리하기 위해서 - 각 동작이 꼬이지 않게 하기 위해 \\n# 함수 안의 변수들은 지역변수로 관리하고\\n# 상위 들여쓰기 단위에서 사용하는 변수들은 전역변수로 관리합니다 ',\n",
              "  'locals()'],\n",
              " '_oh': {9: (1, 2, [3, 4]),\n",
              "  13: (1, 2, True, 111, {'hello': 'python', 'bye': 'python2'}),\n",
              "  16: (1, 2, True, 111, {'hello': 'python', 'bye': 'python2'}),\n",
              "  18: 'b가 더 큼',\n",
              "  20: 'a가 더 큼',\n",
              "  22: 'a가 더 큼',\n",
              "  23: 'b가 더 큼',\n",
              "  25: '라다나가',\n",
              "  29: 'list 자료형을 입력하세요',\n",
              "  30: [4, 3, 2, 1],\n",
              "  33: True,\n",
              "  34: [4, 3, 2, 1],\n",
              "  35: [4, 3, 2, 1],\n",
              "  38: 1,\n",
              "  40: 26,\n",
              "  42: 26,\n",
              "  45: 'hello',\n",
              "  48: 'hello',\n",
              "  50: ('hello', '신짱구'),\n",
              "  55: ('hello', '신짱구'),\n",
              "  57: 'Hello',\n",
              "  59: ('hello', '신짱구'),\n",
              "  60: 'Hello'},\n",
              " '_dh': ['/content'],\n",
              " 'In': ['',\n",
              "  'def 함수명(*args, **kwargs): # 파라메터 갯수가 정해져있지 않은 함수\\n    print(*args, **kwargs)',\n",
              "  \"함수(1,2,True, 111, hello='python', bye='p')\",\n",
              "  \"함수(1,2,True, 111, hello='python', bye='p')\",\n",
              "  \"함수명(1,2,True, 111, hello='python', bye='p')\",\n",
              "  \"함수(1,2,True, 111, {hello='python', bye='p'})\",\n",
              "  \"함수(1,2,True, 111, hello='python', bye='p')\",\n",
              "  \"함수명(1,2,True, 111, hello='python', bye='p')\",\n",
              "  'a,b,*c = [1,2,3,4]',\n",
              "  'a,b,c',\n",
              "  'a,b,*c = [1,2,4,5]',\n",
              "  \"함수명(1,2,True, 111, hello='python', bye='python2')\",\n",
              "  'def 함수명(*args, **kwargs): # 파라메터 갯수가 정해져있지 않은 함수\\n    return (*args, kwargs)',\n",
              "  \"함수명(1,2,True, 111, hello='python', bye='python2')\",\n",
              "  'def 함수명(*args, **kwargs): # 파라메터 갯수가 정해져있지 않은 함수\\n    return (*args, kwargs)\\n    return 1\\n    return True',\n",
              "  'def 함수명(*args, **kwargs): # 파라메터 갯수가 정해져있지 않은 함수\\n    return (*args, kwargs)\\n    return 1\\n    return True',\n",
              "  \"함수명(1,2,True, 111, hello='python', bye='python2')\",\n",
              "  \"def test(a,b):\\n    if a>b:\\n        return 'a가 더 큼'\\n    else:\\n        return 'b가 더 큼'\",\n",
              "  'test(2,3)',\n",
              "  \"def test(a,b):\\n    if a>b:\\n        return 'a가 더 큼'\\n    return 'b가 더 큼'\",\n",
              "  'test(5,3)',\n",
              "  \"def test(a,b):\\n    if a>b:\\n        return 'a가 더 큼' # 조기 리턴\\n    return 'b가 더 큼'\",\n",
              "  'test(5,3)',\n",
              "  'test(3,5)',\n",
              "  \"# func_reverse를 변경해주세요\\n# list가 아닌 값이 들어오면 'list 자료형을 입력하세요'를 return\\n# list가 들어오면 거꾸로 순서를 바꾸어서 리턴\\n\\ndef fun_reverse(list_):\\n    return list_[::-1]\",\n",
              "  \"fun_reverse('가나다라')\",\n",
              "  \"# func_reverse를 변경해주세요\\n# list가 아닌 값이 들어오면 'list 자료형을 입력하세요'를 return\\n# list가 들어오면 거꾸로 순서를 바꾸어서 리턴\\n\\ndef fun_reverse(list_):\\n    # 조건 - 자료형이 list인지 확인\\n    if type(lists_) == list:\\n        return list_[::-1]\\n    else:\\n        return 'list 자료형을 입력하세요'\",\n",
              "  \"fun_reverse('가나다라')\",\n",
              "  \"# func_reverse를 변경해주세요\\n# list가 아닌 값이 들어오면 'list 자료형을 입력하세요'를 return\\n# list가 들어오면 거꾸로 순서를 바꾸어서 리턴\\n\\ndef fun_reverse(list_):\\n    # 조건 - 자료형이 list인지 확인\\n    if type(list_) == list:\\n        return list_[::-1]\\n    else:\\n        return 'list 자료형을 입력하세요'\",\n",
              "  \"fun_reverse('가나다라')\",\n",
              "  'fun_reverse([1,2,3,4])',\n",
              "  'isinstance(li,list) # isinstance(변수형, 자료형)',\n",
              "  'li = [1,2,3,4]',\n",
              "  'isinstance(li,list) # isinstance(변수형, 자료형)',\n",
              "  'fun_reverse(li)',\n",
              "  'fun_reverse(li)',\n",
              "  'def func0(num) :\\n    return num * 2\\n\\ndef func1(num) :\\n    return func0(num + 2)\\n\\ndef func2(num) :\\n    num = num + 10\\n    return func1(num)\\n\\nc = func2(2)\\nprint(c)',\n",
              "  'def function():\\n    # return이 실행되면 함수는 바로 종료됩니다.\\n    return 1  \\n    return 2  \\n    return 3\\n    return 4',\n",
              "  'function()',\n",
              "  'def function():\\n    # return이 실행되면 함수는 바로 종료됩니다.\\n    return func2(1)  \\n    return 2  \\n    return 3\\n    return 4',\n",
              "  'function()',\n",
              "  'def function():\\n    # return이 실행되면 함수는 바로 종료됩니다.\\n    return func2(1)  # return 될 때 다른 함수를 호출하건 어쩌건 return을 만나는 순간 이 함수는 종료\\n    return 2  \\n    return 3\\n    return 4',\n",
              "  'function()',\n",
              "  \"a = 'hello'\\ndef function(str_):\\n    a = 'Hello'\\n    print(a,str_)\",\n",
              "  \"function('신짱구')\",\n",
              "  'a',\n",
              "  \"a = 'hello' # 전역변수 (Global Variable)\\ndef function(str_):\\n    a = 'Hello' # 지역변수 (Local Variable)\\n    print(a,str_)\",\n",
              "  \"function('신짱구')\",\n",
              "  'a',\n",
              "  \"a = 'hello' # 전역변수 (Global Variable)\\ndef function(str_):\\n    hello = 'Hello' # 지역변수 (Local Variable)\\n    return (a,str_)\",\n",
              "  \"function('신짱구')\",\n",
              "  'hello',\n",
              "  \"a = 'hello' # 전역변수 (Global Variable)\\ndef function(str_):\\n    global hello # a 라는 전역변수를 선언\\n    hello = 'Hello' # 지역변수 (Local Variable)\\n    return (a,str_)\",\n",
              "  'hellp',\n",
              "  'hello',\n",
              "  \"function('신짱구')\",\n",
              "  'hellp',\n",
              "  'hello',\n",
              "  \"a = 'hello' # 전역변수 (Global Variable)\\ndef function(str_):\\n    global hello\\n    hello = 'Hello' # 지역변수 (Local Variable)\\n    return (a,str_)\",\n",
              "  \"function('신짱구') # 한번은 코드를 실행해야 함\",\n",
              "  'hello # 전역변수로 저장이 되어있는 것 확인',\n",
              "  '# 고객 매출 담당 - price : 고객이 사는 가격\\n# def customer_buying():\\n    # price\\n\\n# 매입 관련된 함수 담당 - price : 회사가 사는 가격 \\n# def company_buying():\\n    # price\\n# 하나의 서버에서 두 함수를 쓴다면, 근데 전역변수/지역변수를 나누지 않는다면\\n# 헬게이트가 벌어집니다 \\n\\n# 코드를 동작 단위로 관리하기 위해서 - 각 동작이 꼬이지 않게 하기 위해 \\n# 함수 안의 변수들은 지역변수로 관리하고\\n# 상위 들여쓰기 단위에서 사용하는 변수들은 전역변수로 관리합니다 ',\n",
              "  'locals()'],\n",
              " 'Out': {9: (1, 2, [3, 4]),\n",
              "  13: (1, 2, True, 111, {'hello': 'python', 'bye': 'python2'}),\n",
              "  16: (1, 2, True, 111, {'hello': 'python', 'bye': 'python2'}),\n",
              "  18: 'b가 더 큼',\n",
              "  20: 'a가 더 큼',\n",
              "  22: 'a가 더 큼',\n",
              "  23: 'b가 더 큼',\n",
              "  25: '라다나가',\n",
              "  29: 'list 자료형을 입력하세요',\n",
              "  30: [4, 3, 2, 1],\n",
              "  33: True,\n",
              "  34: [4, 3, 2, 1],\n",
              "  35: [4, 3, 2, 1],\n",
              "  38: 1,\n",
              "  40: 26,\n",
              "  42: 26,\n",
              "  45: 'hello',\n",
              "  48: 'hello',\n",
              "  50: ('hello', '신짱구'),\n",
              "  55: ('hello', '신짱구'),\n",
              "  57: 'Hello',\n",
              "  59: ('hello', '신짱구'),\n",
              "  60: 'Hello'},\n",
              " 'get_ipython': <bound method InteractiveShell.get_ipython of <google.colab._shell.Shell object at 0x7f212e40a680>>,\n",
              " 'exit': <IPython.core.autocall.ZMQExitAutocall at 0x7f212e40ac20>,\n",
              " 'quit': <IPython.core.autocall.ZMQExitAutocall at 0x7f212e40ac20>,\n",
              " '_': 'Hello',\n",
              " '__': ('hello', '신짱구'),\n",
              " '___': 'Hello',\n",
              " '_i': '# 고객 매출 담당 - price : 고객이 사는 가격\\n# def customer_buying():\\n    # price\\n\\n# 매입 관련된 함수 담당 - price : 회사가 사는 가격 \\n# def company_buying():\\n    # price\\n# 하나의 서버에서 두 함수를 쓴다면, 근데 전역변수/지역변수를 나누지 않는다면\\n# 헬게이트가 벌어집니다 \\n\\n# 코드를 동작 단위로 관리하기 위해서 - 각 동작이 꼬이지 않게 하기 위해 \\n# 함수 안의 변수들은 지역변수로 관리하고\\n# 상위 들여쓰기 단위에서 사용하는 변수들은 전역변수로 관리합니다 ',\n",
              " '_ii': 'hello # 전역변수로 저장이 되어있는 것 확인',\n",
              " '_iii': \"function('신짱구') # 한번은 코드를 실행해야 함\",\n",
              " '_i1': 'def 함수명(*args, **kwargs): # 파라메터 갯수가 정해져있지 않은 함수\\n    print(*args, **kwargs)',\n",
              " '함수명': <function __main__.함수명(*args, **kwargs)>,\n",
              " '_i2': \"함수(1,2,True, 111, hello='python', bye='p')\",\n",
              " '_i3': \"함수(1,2,True, 111, hello='python', bye='p')\",\n",
              " '_i4': \"함수명(1,2,True, 111, hello='python', bye='p')\",\n",
              " '_i5': \"함수(1,2,True, 111, {hello='python', bye='p'})\",\n",
              " '_i6': \"함수(1,2,True, 111, hello='python', bye='p')\",\n",
              " '_i7': \"함수명(1,2,True, 111, hello='python', bye='p')\",\n",
              " '_i8': 'a,b,*c = [1,2,3,4]',\n",
              " 'a': 'hello',\n",
              " 'b': 2,\n",
              " 'c': 28,\n",
              " '_i9': 'a,b,c',\n",
              " '_9': (1, 2, [3, 4]),\n",
              " '_i10': 'a,b,*c = [1,2,4,5]',\n",
              " '_i11': \"함수명(1,2,True, 111, hello='python', bye='python2')\",\n",
              " '_i12': 'def 함수명(*args, **kwargs): # 파라메터 갯수가 정해져있지 않은 함수\\n    return (*args, kwargs)',\n",
              " '_i13': \"함수명(1,2,True, 111, hello='python', bye='python2')\",\n",
              " '_13': (1, 2, True, 111, {'hello': 'python', 'bye': 'python2'}),\n",
              " '_i14': 'def 함수명(*args, **kwargs): # 파라메터 갯수가 정해져있지 않은 함수\\n    return (*args, kwargs)\\n    return 1\\n    return True',\n",
              " '_i15': 'def 함수명(*args, **kwargs): # 파라메터 갯수가 정해져있지 않은 함수\\n    return (*args, kwargs)\\n    return 1\\n    return True',\n",
              " '_i16': \"함수명(1,2,True, 111, hello='python', bye='python2')\",\n",
              " '_16': (1, 2, True, 111, {'hello': 'python', 'bye': 'python2'}),\n",
              " '_i17': \"def test(a,b):\\n    if a>b:\\n        return 'a가 더 큼'\\n    else:\\n        return 'b가 더 큼'\",\n",
              " 'test': <function __main__.test(a, b)>,\n",
              " '_i18': 'test(2,3)',\n",
              " '_18': 'b가 더 큼',\n",
              " '_i19': \"def test(a,b):\\n    if a>b:\\n        return 'a가 더 큼'\\n    return 'b가 더 큼'\",\n",
              " '_i20': 'test(5,3)',\n",
              " '_20': 'a가 더 큼',\n",
              " '_i21': \"def test(a,b):\\n    if a>b:\\n        return 'a가 더 큼' # 조기 리턴\\n    return 'b가 더 큼'\",\n",
              " '_i22': 'test(5,3)',\n",
              " '_22': 'a가 더 큼',\n",
              " '_i23': 'test(3,5)',\n",
              " '_23': 'b가 더 큼',\n",
              " '_i24': \"# func_reverse를 변경해주세요\\n# list가 아닌 값이 들어오면 'list 자료형을 입력하세요'를 return\\n# list가 들어오면 거꾸로 순서를 바꾸어서 리턴\\n\\ndef fun_reverse(list_):\\n    return list_[::-1]\",\n",
              " 'fun_reverse': <function __main__.fun_reverse(list_)>,\n",
              " '_i25': \"fun_reverse('가나다라')\",\n",
              " '_25': '라다나가',\n",
              " '_i26': \"# func_reverse를 변경해주세요\\n# list가 아닌 값이 들어오면 'list 자료형을 입력하세요'를 return\\n# list가 들어오면 거꾸로 순서를 바꾸어서 리턴\\n\\ndef fun_reverse(list_):\\n    # 조건 - 자료형이 list인지 확인\\n    if type(lists_) == list:\\n        return list_[::-1]\\n    else:\\n        return 'list 자료형을 입력하세요'\",\n",
              " '_i27': \"fun_reverse('가나다라')\",\n",
              " '_i28': \"# func_reverse를 변경해주세요\\n# list가 아닌 값이 들어오면 'list 자료형을 입력하세요'를 return\\n# list가 들어오면 거꾸로 순서를 바꾸어서 리턴\\n\\ndef fun_reverse(list_):\\n    # 조건 - 자료형이 list인지 확인\\n    if type(list_) == list:\\n        return list_[::-1]\\n    else:\\n        return 'list 자료형을 입력하세요'\",\n",
              " '_i29': \"fun_reverse('가나다라')\",\n",
              " '_29': 'list 자료형을 입력하세요',\n",
              " '_i30': 'fun_reverse([1,2,3,4])',\n",
              " '_30': [4, 3, 2, 1],\n",
              " '_i31': 'isinstance(li,list) # isinstance(변수형, 자료형)',\n",
              " '_i32': 'li = [1,2,3,4]',\n",
              " 'li': [1, 2, 3, 4],\n",
              " '_i33': 'isinstance(li,list) # isinstance(변수형, 자료형)',\n",
              " '_33': True,\n",
              " '_i34': 'fun_reverse(li)',\n",
              " '_34': [4, 3, 2, 1],\n",
              " '_i35': 'fun_reverse(li)',\n",
              " '_35': [4, 3, 2, 1],\n",
              " '_i36': 'def func0(num) :\\n    return num * 2\\n\\ndef func1(num) :\\n    return func0(num + 2)\\n\\ndef func2(num) :\\n    num = num + 10\\n    return func1(num)\\n\\nc = func2(2)\\nprint(c)',\n",
              " 'func0': <function __main__.func0(num)>,\n",
              " 'func1': <function __main__.func1(num)>,\n",
              " 'func2': <function __main__.func2(num)>,\n",
              " '_i37': 'def function():\\n    # return이 실행되면 함수는 바로 종료됩니다.\\n    return 1  \\n    return 2  \\n    return 3\\n    return 4',\n",
              " 'function': <function __main__.function(str_)>,\n",
              " '_i38': 'function()',\n",
              " '_38': 1,\n",
              " '_i39': 'def function():\\n    # return이 실행되면 함수는 바로 종료됩니다.\\n    return func2(1)  \\n    return 2  \\n    return 3\\n    return 4',\n",
              " '_i40': 'function()',\n",
              " '_40': 26,\n",
              " '_i41': 'def function():\\n    # return이 실행되면 함수는 바로 종료됩니다.\\n    return func2(1)  # return 될 때 다른 함수를 호출하건 어쩌건 return을 만나는 순간 이 함수는 종료\\n    return 2  \\n    return 3\\n    return 4',\n",
              " '_i42': 'function()',\n",
              " '_42': 26,\n",
              " '_i43': \"a = 'hello'\\ndef function(str_):\\n    a = 'Hello'\\n    print(a,str_)\",\n",
              " '_i44': \"function('신짱구')\",\n",
              " '_i45': 'a',\n",
              " '_45': 'hello',\n",
              " '_i46': \"a = 'hello' # 전역변수 (Global Variable)\\ndef function(str_):\\n    a = 'Hello' # 지역변수 (Local Variable)\\n    print(a,str_)\",\n",
              " '_i47': \"function('신짱구')\",\n",
              " '_i48': 'a',\n",
              " '_48': 'hello',\n",
              " '_i49': \"a = 'hello' # 전역변수 (Global Variable)\\ndef function(str_):\\n    hello = 'Hello' # 지역변수 (Local Variable)\\n    return (a,str_)\",\n",
              " '_i50': \"function('신짱구')\",\n",
              " '_50': ('hello', '신짱구'),\n",
              " '_i51': 'hello',\n",
              " '_i52': \"a = 'hello' # 전역변수 (Global Variable)\\ndef function(str_):\\n    global hello # a 라는 전역변수를 선언\\n    hello = 'Hello' # 지역변수 (Local Variable)\\n    return (a,str_)\",\n",
              " '_i53': 'hellp',\n",
              " '_i54': 'hello',\n",
              " '_i55': \"function('신짱구')\",\n",
              " 'hello': 'Hello',\n",
              " '_55': ('hello', '신짱구'),\n",
              " '_i56': 'hellp',\n",
              " '_i57': 'hello',\n",
              " '_57': 'Hello',\n",
              " '_i58': \"a = 'hello' # 전역변수 (Global Variable)\\ndef function(str_):\\n    global hello\\n    hello = 'Hello' # 지역변수 (Local Variable)\\n    return (a,str_)\",\n",
              " '_i59': \"function('신짱구') # 한번은 코드를 실행해야 함\",\n",
              " '_59': ('hello', '신짱구'),\n",
              " '_i60': 'hello # 전역변수로 저장이 되어있는 것 확인',\n",
              " '_60': 'Hello',\n",
              " '_i61': '# 고객 매출 담당 - price : 고객이 사는 가격\\n# def customer_buying():\\n    # price\\n\\n# 매입 관련된 함수 담당 - price : 회사가 사는 가격 \\n# def company_buying():\\n    # price\\n# 하나의 서버에서 두 함수를 쓴다면, 근데 전역변수/지역변수를 나누지 않는다면\\n# 헬게이트가 벌어집니다 \\n\\n# 코드를 동작 단위로 관리하기 위해서 - 각 동작이 꼬이지 않게 하기 위해 \\n# 함수 안의 변수들은 지역변수로 관리하고\\n# 상위 들여쓰기 단위에서 사용하는 변수들은 전역변수로 관리합니다 ',\n",
              " '_i62': 'locals()'}"
            ]
          },
          "metadata": {},
          "execution_count": 62
        }
      ]
    },
    {
      "cell_type": "markdown",
      "source": [
        "실습. 세 개의 숫자를 입력받아 if문을 활용하여 숫자들을 비교하고 가장 작은 수를 리턴하는 minimum 함수를 정의해보세요. 만약에 사용자가 값을 2개만 입력하면 나머지값은 0이 자동으로 들어갑니다.\n",
        "\n",
        "## 양수만 넣는 걸로 가정하죠"
      ],
      "metadata": {
        "id": "Xc-dGDgwFPNJ"
      }
    },
    {
      "cell_type": "code",
      "source": [
        "def minimum(a,b,c=0):\n",
        "    m = 0\n",
        "    if c == 0:\n",
        "        return min(a,b)\n",
        "    else:\n",
        "        return min(a,b,c)\n"
      ],
      "metadata": {
        "id": "2ieHR3aNExoA"
      },
      "execution_count": null,
      "outputs": []
    },
    {
      "cell_type": "code",
      "source": [
        "minimum(1,2,3)"
      ],
      "metadata": {
        "id": "Vy9UB6f2KYRG",
        "colab": {
          "base_uri": "https://localhost:8080/"
        },
        "outputId": "97bc3c84-0999-43d8-f783-042e9944c1e8"
      },
      "execution_count": null,
      "outputs": [
        {
          "output_type": "execute_result",
          "data": {
            "text/plain": [
              "1"
            ]
          },
          "metadata": {},
          "execution_count": 76
        }
      ]
    },
    {
      "cell_type": "code",
      "source": [
        "minimum(1,2)"
      ],
      "metadata": {
        "id": "ctHLenmtKdLv",
        "colab": {
          "base_uri": "https://localhost:8080/"
        },
        "outputId": "23d0e3c5-f001-4a1c-c9d8-544884f3dbf2"
      },
      "execution_count": null,
      "outputs": [
        {
          "output_type": "execute_result",
          "data": {
            "text/plain": [
              "1"
            ]
          },
          "metadata": {},
          "execution_count": 77
        }
      ]
    },
    {
      "cell_type": "code",
      "source": [
        "del a,b,c"
      ],
      "metadata": {
        "id": "rFhHwU_NJA-P"
      },
      "execution_count": null,
      "outputs": []
    },
    {
      "cell_type": "code",
      "source": [
        "# a, b, c를 전역변수로 사용하고 싶어요\n",
        "\n",
        "def minimum(a1,b1,c1=0):\n",
        "    global a,b,c\n",
        "    a = a1\n",
        "    b = b1\n",
        "    c = c1\n",
        "    return min(a1,b1,c1)"
      ],
      "metadata": {
        "id": "nI21LFGcKj_m"
      },
      "execution_count": null,
      "outputs": []
    },
    {
      "cell_type": "code",
      "source": [
        "minimum(3, 5, 6)"
      ],
      "metadata": {
        "id": "8WAk_P9yLeCH",
        "colab": {
          "base_uri": "https://localhost:8080/"
        },
        "outputId": "6ff6b8cc-6ebc-4b1b-94ef-d2f8110eae1f"
      },
      "execution_count": null,
      "outputs": [
        {
          "output_type": "execute_result",
          "data": {
            "text/plain": [
              "3"
            ]
          },
          "metadata": {},
          "execution_count": 84
        }
      ]
    },
    {
      "cell_type": "code",
      "source": [
        "a, b, c"
      ],
      "metadata": {
        "id": "6QHhuZkbLoX_",
        "colab": {
          "base_uri": "https://localhost:8080/"
        },
        "outputId": "797aafba-4d8a-4849-a1da-e38cc7faa00d"
      },
      "execution_count": null,
      "outputs": [
        {
          "output_type": "execute_result",
          "data": {
            "text/plain": [
              "(3, 5, 6)"
            ]
          },
          "metadata": {},
          "execution_count": 85
        }
      ]
    },
    {
      "cell_type": "markdown",
      "source": [
        "# 함수의 다양한 종류\n",
        "\n",
        "- 재귀함수\n",
        "- 익명함수\n",
        "- 함수형 문법\n",
        "\n",
        "\n",
        "## 재귀함수\n",
        "- 정의 단계에서 자신을 재참조하는 함수를 뜻한다. 어떤 사건이 자기 자신을 포함하고 다시 자기 자신을 사용하여 정의될 때 재귀적(recursive)이라고 한다\n",
        "\n",
        "\n",
        "- 자기 자신을 호출하는 함수를 `재귀함수` 혹은 `재귀호출` 이라고 합니다.\n",
        "\n",
        "- 재귀함수의 예시\n",
        "\n",
        "```\n",
        "어느 한 컴퓨터공학과 학생이 유명한 교수님을 찾아가 물었다.\n",
        "-- \"재귀함수가 뭔가요?\"\n",
        "-- \"잘 들어보게. 옛날옛날 한 산 꼭대기에 이세상 모든 지식을 통달한 선인이 있었어.\n",
        "-- 마을 사람들은 모두 그 선인에게 수많은 질문을 했고, 모두 지혜롭게 대답해 주었지. 그의 답은 대부분 옳았다고 하네.\n",
        "-- 그런데 어느 날, 그 선인에게 한 선비가 찾아와서 물었어.\n",
        "-- \"재귀함수가 뭔가요?\"\n",
        "------ \"잘 들어보게. 옛날옛날 한 산 꼭대기에 이세상 모든 지식을 통달한 선인이 있었어.\n",
        "------ 마을 사람들은 모두 그 선인에게 수많은 질문을 했고, 모두 지혜롭게 대답해 주었지. 그의 답은 대부분 옳았다고 하네.\n",
        "------ 그런데 어느 날, 그 선인에게 한 선비가 찾아와서 물었어.\n",
        "------ \"재귀함수가 뭔가요?\"\n",
        "---------- \"잘 들어보게. 옛날옛날 한 산 꼭대기에 이세상 모든 지식을 통달한 선인이 있었어.\n",
        "---------- 마을 사람들은 모두 그 선인에게 수많은 질문을 했고, 모두 지혜롭게 대답해 주었지. 그의 답은 대부분 옳았다고 하네.\n",
        "---------- 그런데 어느 날, 그 선인에게 한 선비가 찾아와서 물었어.\n",
        "---------- \"재귀함수가 뭔가요?\"\n",
        "```"
      ],
      "metadata": {
        "id": "CddSsBqiMN-C"
      }
    },
    {
      "cell_type": "markdown",
      "source": [
        "- 잘못쓰면 끝없이 반복되기 때문에 과거에는 만들지 말라 권장\n",
        "- 요즘에는 잘 쓰면 좋다 라는 쪽으로 이해되고 있음\n",
        "- 알고리즘 문제에서 완전 탐색 등에 자주 사용되기 때문에\n",
        "- 입사전에 한번쯤 거치게 되실 거에요\n",
        "\n",
        "- 최근 언어들은 최대 '재귀호출' 개수를 정해놓고 그 이상 호출되지 않도록 처음부터 방지시키는 경우도 있습니다. (파이썬은 1000개)"
      ],
      "metadata": {
        "id": "bngqHoi0M7vm"
      }
    },
    {
      "cell_type": "code",
      "source": [
        "def recursive(n):\n",
        "    if n > 0:\n",
        "        print('무한히 반복하는 형태')\n",
        "        recursive(n-1)\n",
        "\n",
        "recursive(8) # 기왕이면 아규먼트가 몇 번 해당 함수를 반복시킬 지 직관적으로 확인할 수 있도록 구현하는 것이 좋다."
      ],
      "metadata": {
        "id": "AHB_rX-eL45a",
        "colab": {
          "base_uri": "https://localhost:8080/"
        },
        "outputId": "d755f056-2285-4030-80de-1f37887d39c9"
      },
      "execution_count": null,
      "outputs": [
        {
          "output_type": "stream",
          "name": "stdout",
          "text": [
            "무한히 반복하는 형태\n",
            "무한히 반복하는 형태\n",
            "무한히 반복하는 형태\n",
            "무한히 반복하는 형태\n",
            "무한히 반복하는 형태\n",
            "무한히 반복하는 형태\n",
            "무한히 반복하는 형태\n",
            "무한히 반복하는 형태\n"
          ]
        }
      ]
    },
    {
      "cell_type": "code",
      "source": [
        "def recursive(n):\n",
        "    if n < 10:\n",
        "        print('무한히 반복하는 형태')\n",
        "        recursive(n+1)\n",
        "\n",
        "recursive(0)"
      ],
      "metadata": {
        "colab": {
          "base_uri": "https://localhost:8080/"
        },
        "id": "ZpvI2QFWL21T",
        "outputId": "5088198f-f68f-4140-98b5-96b904145624"
      },
      "execution_count": null,
      "outputs": [
        {
          "output_type": "stream",
          "name": "stdout",
          "text": [
            "무한히 반복하는 형태\n",
            "무한히 반복하는 형태\n",
            "무한히 반복하는 형태\n",
            "무한히 반복하는 형태\n",
            "무한히 반복하는 형태\n",
            "무한히 반복하는 형태\n",
            "무한히 반복하는 형태\n",
            "무한히 반복하는 형태\n",
            "무한히 반복하는 형태\n",
            "무한히 반복하는 형태\n"
          ]
        }
      ]
    },
    {
      "cell_type": "code",
      "source": [
        "{'이름':'김연지', '나이':'20세', '취미':['자전거타기', '책보기'], '가족관계': {'형제':'김연재'}}\n",
        "# str이 아니면 계속 depth 하나 떼어내기"
      ],
      "metadata": {
        "id": "Hj5pIpU4KqWr"
      },
      "execution_count": null,
      "outputs": []
    },
    {
      "cell_type": "code",
      "source": [
        "# 무한 반복으 끝낼 실마리\n",
        "n = 0\n",
        "while True:\n",
        "    print('무한히 반복하는 형태')\n",
        "    n+=1\n",
        "    if n == 8:\n",
        "        break"
      ],
      "metadata": {
        "id": "fF4j9h7cNomm",
        "colab": {
          "base_uri": "https://localhost:8080/"
        },
        "outputId": "981c8088-988c-4529-e105-f6182edfa10f"
      },
      "execution_count": null,
      "outputs": [
        {
          "output_type": "stream",
          "name": "stdout",
          "text": [
            "무한히 반복하는 형태\n",
            "무한히 반복하는 형태\n",
            "무한히 반복하는 형태\n",
            "무한히 반복하는 형태\n",
            "무한히 반복하는 형태\n",
            "무한히 반복하는 형태\n",
            "무한히 반복하는 형태\n",
            "무한히 반복하는 형태\n"
          ]
        }
      ]
    },
    {
      "cell_type": "code",
      "source": [],
      "metadata": {
        "id": "OUkvAQJ4ODCv"
      },
      "execution_count": null,
      "outputs": []
    },
    {
      "cell_type": "code",
      "source": [],
      "metadata": {
        "id": "p1NGT43oOQFm"
      },
      "execution_count": null,
      "outputs": []
    },
    {
      "cell_type": "code",
      "source": [],
      "metadata": {
        "id": "CzOyqXdPOShn"
      },
      "execution_count": null,
      "outputs": []
    },
    {
      "cell_type": "code",
      "source": [],
      "metadata": {
        "id": "aacJvbx9QAfg"
      },
      "execution_count": null,
      "outputs": []
    },
    {
      "cell_type": "markdown",
      "source": [
        "실습. 얘를 재귀함수로 만들어주세요.\n",
        "\n",
        "```\n",
        "-- \"재귀함수가 뭔가요?\"\n",
        "-- \"잘 들어보게. 옛날옛날 한 산 꼭대기에 이세상 모든 지식을 통달한 선인이 있었어.\n",
        "-- 마을 사람들은 모두 그 선인에게 수많은 질문을 했고, 모두 지혜롭게 대답해 주었지. 그의 답은 대부분 옳았다고 하네.\n",
        "-- 그런데 어느 날, 그 선인에게 한 선비가 찾아와서 물었어.\n",
        "------ \"재귀함수가 뭔가요?\"\n",
        "------ \"잘 들어보게. 옛날옛날 한 산 꼭대기에 이세상 모든 지식을 통달한 선인이 있었어.\n",
        "------ 마을 사람들은 모두 그 선인에게 수많은 질문을 했고, 모두 지혜롭게 대답해 주었지. 그의 답은 대부분 옳았다고 하네.\n",
        "------ 그런데 어느 날, 그 선인에게 한 선비가 찾아와서 물었어.\n",
        "---------- \"재귀함수가 뭔가요?\"\n",
        "---------- \"잘 들어보게. 옛날옛날 한 산 꼭대기에 이세상 모든 지식을 통달한 선인이 있었어.\n",
        "---------- 마을 사람들은 모두 그 선인에게 수많은 질문을 했고, 모두 지혜롭게 대답해 주었지. 그의 답은 대부분 옳았다고 하네.\n",
        "---------- 그런데 어느 날, 그 선인에게 한 선비가 찾아와서 물었어.\n",
        "```"
      ],
      "metadata": {
        "id": "1byjh57yRtt9"
      }
    },
    {
      "cell_type": "code",
      "source": [
        "def ask(n):\n",
        "    s = '--'\n",
        "    if n < 3:\n",
        "        print(s*(2*n+1)+\"재귀함수가 뭔가요?\")\n",
        "        print(s*(2*n+1)+ \"잘 들어보게. 옛날옛날 한 산 꼭대기에 이세상 모든 지식을 통달한 선인이 있었어.\")\n",
        "        print(s*(2*n+1)+\"마을 사람들은 모두 그 선인에게 수많은 질문을 했고, 모두 지혜롭게 대답해 주었지. 그의 답은 대부분 옳았다고 하네.\")\n",
        "        print(s*(2*n+1)+\"그런데 어느 날, 그 선인에게 한 선비가 찾아와서 물었어.\")\n",
        "        ask(n+1)\n",
        "ask(0)"
      ],
      "metadata": {
        "id": "QjnabS8yVCH0",
        "colab": {
          "base_uri": "https://localhost:8080/"
        },
        "outputId": "9db95a9f-193c-4aac-e1a0-4d85e45bff76"
      },
      "execution_count": null,
      "outputs": [
        {
          "output_type": "stream",
          "name": "stdout",
          "text": [
            "--재귀함수가 뭔가요?\n",
            "--잘 들어보게. 옛날옛날 한 산 꼭대기에 이세상 모든 지식을 통달한 선인이 있었어.\n",
            "--마을 사람들은 모두 그 선인에게 수많은 질문을 했고, 모두 지혜롭게 대답해 주었지. 그의 답은 대부분 옳았다고 하네.\n",
            "--그런데 어느 날, 그 선인에게 한 선비가 찾아와서 물었어.\n",
            "------재귀함수가 뭔가요?\n",
            "------잘 들어보게. 옛날옛날 한 산 꼭대기에 이세상 모든 지식을 통달한 선인이 있었어.\n",
            "------마을 사람들은 모두 그 선인에게 수많은 질문을 했고, 모두 지혜롭게 대답해 주었지. 그의 답은 대부분 옳았다고 하네.\n",
            "------그런데 어느 날, 그 선인에게 한 선비가 찾아와서 물었어.\n",
            "----------재귀함수가 뭔가요?\n",
            "----------잘 들어보게. 옛날옛날 한 산 꼭대기에 이세상 모든 지식을 통달한 선인이 있었어.\n",
            "----------마을 사람들은 모두 그 선인에게 수많은 질문을 했고, 모두 지혜롭게 대답해 주었지. 그의 답은 대부분 옳았다고 하네.\n",
            "----------그런데 어느 날, 그 선인에게 한 선비가 찾아와서 물었어.\n"
          ]
        }
      ]
    },
    {
      "cell_type": "code",
      "source": [],
      "metadata": {
        "id": "kpvIdgi8Vs5U"
      },
      "execution_count": null,
      "outputs": []
    },
    {
      "cell_type": "code",
      "source": [],
      "metadata": {
        "id": "1-7PIPCwbNJ1"
      },
      "execution_count": null,
      "outputs": []
    },
    {
      "cell_type": "markdown",
      "source": [
        "# 1부터 n까지 합을 구할 때"
      ],
      "metadata": {
        "id": "zBk1YWS8V6f0"
      }
    },
    {
      "cell_type": "code",
      "source": [
        "sum_ = 0\n",
        "\n",
        "for i in range(int(input('값 입력'))+1):\n",
        "    sum_ += i\n",
        "    print(i, sum_)\n"
      ],
      "metadata": {
        "id": "SakKVDtVT9t5",
        "colab": {
          "base_uri": "https://localhost:8080/"
        },
        "outputId": "6158cd3c-91d7-43f8-8590-bb6e9b5a27d1"
      },
      "execution_count": null,
      "outputs": [
        {
          "output_type": "stream",
          "name": "stdout",
          "text": [
            "값 입력10\n",
            "0 0\n",
            "1 1\n",
            "2 3\n",
            "3 6\n",
            "4 10\n",
            "5 15\n",
            "6 21\n",
            "7 28\n",
            "8 36\n",
            "9 45\n",
            "10 55\n"
          ]
        }
      ]
    },
    {
      "cell_type": "markdown",
      "source": [
        "## 얘를 재귀함수로 바꿔볼게요"
      ],
      "metadata": {
        "id": "kxtCalMzWQp7"
      }
    },
    {
      "cell_type": "code",
      "source": [
        "def recursive_sum(n):\n",
        "    if n == 1:\n",
        "        return 1\n",
        "\n",
        "    return n + recursive_sum(n-1)"
      ],
      "metadata": {
        "id": "H-XURgblbcLi"
      },
      "execution_count": null,
      "outputs": []
    },
    {
      "cell_type": "code",
      "source": [
        "recursive_sum(10)"
      ],
      "metadata": {
        "id": "B2jpw7YUcEZZ",
        "colab": {
          "base_uri": "https://localhost:8080/"
        },
        "outputId": "c244ac45-d2ab-4826-f6a2-4919a04ebb90"
      },
      "execution_count": null,
      "outputs": [
        {
          "output_type": "execute_result",
          "data": {
            "text/plain": [
              "55"
            ]
          },
          "metadata": {},
          "execution_count": 101
        }
      ]
    },
    {
      "cell_type": "markdown",
      "source": [
        "# 1에서 n까지 곱한 값을 구할 떄\n",
        "```\n",
        "5! = 5*4*3*2*1\n"
      ],
      "metadata": {
        "id": "mcOxoMlUXsYa"
      }
    },
    {
      "cell_type": "code",
      "source": [
        "def recursive_multiply(n):\n",
        "\n",
        "    if n == 1:\n",
        "        return 1\n",
        "    elif n == 0:\n",
        "        return 0\n",
        "\n",
        "    return n * recursive_multiply(n-1)"
      ],
      "metadata": {
        "id": "VwkL_H-ycjES"
      },
      "execution_count": null,
      "outputs": []
    },
    {
      "cell_type": "code",
      "source": [
        "recursive_multiply(5)"
      ],
      "metadata": {
        "id": "MBK3eJGAcl_V",
        "colab": {
          "base_uri": "https://localhost:8080/"
        },
        "outputId": "6ed1bd1a-eff9-4f7f-f887-5f75c1b0c13a"
      },
      "execution_count": null,
      "outputs": [
        {
          "output_type": "execute_result",
          "data": {
            "text/plain": [
              "120"
            ]
          },
          "metadata": {},
          "execution_count": 103
        }
      ]
    },
    {
      "cell_type": "markdown",
      "source": [
        "재귀함수 도전 - 할 사람만 하세요\n",
        "```\n",
        "example = [[1,2,3], [4,[5,6]],7,[8,[9]]]\n",
        "\n",
        "output = [1,2,3,4,5,6,7,8,9]\n",
        "```\n"
      ],
      "metadata": {
        "id": "I0Sih_emc5g2"
      }
    },
    {
      "cell_type": "code",
      "source": [
        "\n"
      ],
      "metadata": {
        "id": "aVPPVCxZzz9d"
      },
      "execution_count": null,
      "outputs": []
    },
    {
      "cell_type": "code",
      "source": [],
      "metadata": {
        "id": "AGlMs8N-SPUD"
      },
      "execution_count": null,
      "outputs": []
    },
    {
      "cell_type": "markdown",
      "source": [
        "# 익명함수\n",
        "\n",
        "- 파이썬에는 람다(Lambda)를 활용해서 익명함수를 만들 수 있습니다.\n",
        "- 함수 이름이 없기 때문에 '익명함수' 라고 부르는 거에요.\n",
        "- 지금까지 우리가 함수를 만든 이유는 다시 호출하려고 였잖아요.\n",
        "- 한번 사용하고 버리는 (변수명 없어도 되는) 함수를 정의할 때 사용합니다.\n",
        "\n",
        "```\n",
        "lambda 파라메터 : 명령어\n",
        "```"
      ],
      "metadata": {
        "id": "cBiBxa7ydVVa"
      }
    },
    {
      "cell_type": "markdown",
      "source": [
        "\n",
        "활용\n",
        "```\n",
        "방법 1.\n",
        "-   (lambda 매개변수들 : 식)(인수들)\n",
        "방법 2.\n",
        "-   객체명 = lambda 매개변수들 : 식\n",
        "-   객체명(인수들)\n",
        "```\n",
        "- 여러줄에 걸친 복잡한 명령은 사용할 수 없습니다.\n",
        "  - 한 라인에 정의 가능한(간단한)형태를 사용할 때, 유용하게 쓰입니다."
      ],
      "metadata": {
        "id": "otgVrBhbgK4Z"
      }
    },
    {
      "cell_type": "code",
      "source": [
        " (lambda a, b : a+b)(1, 3)"
      ],
      "metadata": {
        "colab": {
          "base_uri": "https://localhost:8080/"
        },
        "outputId": "d54fa631-e0c1-4ce3-d9eb-08de7dcb7df8",
        "id": "vW1Hsw9ATI-b"
      },
      "execution_count": null,
      "outputs": [
        {
          "output_type": "execute_result",
          "data": {
            "text/plain": [
              "4"
            ]
          },
          "metadata": {},
          "execution_count": 112
        }
      ]
    },
    {
      "cell_type": "code",
      "source": [
        "add = lambda a, b : a+b"
      ],
      "metadata": {
        "id": "m5I9yIZ_TI-c"
      },
      "execution_count": null,
      "outputs": []
    },
    {
      "cell_type": "code",
      "source": [
        "add(1, 3)"
      ],
      "metadata": {
        "colab": {
          "base_uri": "https://localhost:8080/"
        },
        "outputId": "a0be008e-07a6-4ef9-b11c-d82200067ed3",
        "id": "GOqglS5zTI-d"
      },
      "execution_count": null,
      "outputs": [
        {
          "output_type": "execute_result",
          "data": {
            "text/plain": [
              "4"
            ]
          },
          "metadata": {},
          "execution_count": 114
        }
      ]
    },
    {
      "cell_type": "code",
      "source": [
        "dir(li)"
      ],
      "metadata": {
        "colab": {
          "base_uri": "https://localhost:8080/"
        },
        "id": "OH-Xz1YaSxZn",
        "outputId": "9e0b470a-abf1-4f9b-f75f-8a79649d3d3f"
      },
      "execution_count": null,
      "outputs": [
        {
          "output_type": "execute_result",
          "data": {
            "text/plain": [
              "['__add__',\n",
              " '__class__',\n",
              " '__class_getitem__',\n",
              " '__contains__',\n",
              " '__delattr__',\n",
              " '__delitem__',\n",
              " '__dir__',\n",
              " '__doc__',\n",
              " '__eq__',\n",
              " '__format__',\n",
              " '__ge__',\n",
              " '__getattribute__',\n",
              " '__getitem__',\n",
              " '__gt__',\n",
              " '__hash__',\n",
              " '__iadd__',\n",
              " '__imul__',\n",
              " '__init__',\n",
              " '__init_subclass__',\n",
              " '__iter__',\n",
              " '__le__',\n",
              " '__len__',\n",
              " '__lt__',\n",
              " '__mul__',\n",
              " '__ne__',\n",
              " '__new__',\n",
              " '__reduce__',\n",
              " '__reduce_ex__',\n",
              " '__repr__',\n",
              " '__reversed__',\n",
              " '__rmul__',\n",
              " '__setattr__',\n",
              " '__setitem__',\n",
              " '__sizeof__',\n",
              " '__str__',\n",
              " '__subclasshook__',\n",
              " 'append',\n",
              " 'clear',\n",
              " 'copy',\n",
              " 'count',\n",
              " 'extend',\n",
              " 'index',\n",
              " 'insert',\n",
              " 'pop',\n",
              " 'remove',\n",
              " 'reverse',\n",
              " 'sort']"
            ]
          },
          "metadata": {},
          "execution_count": 115
        }
      ]
    },
    {
      "cell_type": "code",
      "source": [
        "dir(add)"
      ],
      "metadata": {
        "colab": {
          "base_uri": "https://localhost:8080/"
        },
        "outputId": "d6e7179a-fad9-4397-ba29-c20f5f9064e4",
        "id": "jScHPZ3fTI-d"
      },
      "execution_count": null,
      "outputs": [
        {
          "output_type": "execute_result",
          "data": {
            "text/plain": [
              "['__annotations__',\n",
              " '__builtins__',\n",
              " '__call__',\n",
              " '__class__',\n",
              " '__closure__',\n",
              " '__code__',\n",
              " '__defaults__',\n",
              " '__delattr__',\n",
              " '__dict__',\n",
              " '__dir__',\n",
              " '__doc__',\n",
              " '__eq__',\n",
              " '__format__',\n",
              " '__ge__',\n",
              " '__get__',\n",
              " '__getattribute__',\n",
              " '__globals__',\n",
              " '__gt__',\n",
              " '__hash__',\n",
              " '__init__',\n",
              " '__init_subclass__',\n",
              " '__kwdefaults__',\n",
              " '__le__',\n",
              " '__lt__',\n",
              " '__module__',\n",
              " '__name__',\n",
              " '__ne__',\n",
              " '__new__',\n",
              " '__qualname__',\n",
              " '__reduce__',\n",
              " '__reduce_ex__',\n",
              " '__repr__',\n",
              " '__setattr__',\n",
              " '__sizeof__',\n",
              " '__str__',\n",
              " '__subclasshook__']"
            ]
          },
          "metadata": {},
          "execution_count": 407
        }
      ]
    },
    {
      "cell_type": "code",
      "source": [
        "add = lambda a=1, b=1 : a+b"
      ],
      "metadata": {
        "id": "iJMaOdj5WHOw"
      },
      "execution_count": null,
      "outputs": []
    },
    {
      "cell_type": "code",
      "source": [
        "add()"
      ],
      "metadata": {
        "id": "DJBMw1_bfiXK",
        "colab": {
          "base_uri": "https://localhost:8080/"
        },
        "outputId": "80a38cb9-a636-4a4c-ea4a-d57850b56dd5"
      },
      "execution_count": null,
      "outputs": [
        {
          "output_type": "execute_result",
          "data": {
            "text/plain": [
              "2"
            ]
          },
          "metadata": {},
          "execution_count": 118
        }
      ]
    },
    {
      "cell_type": "code",
      "source": [
        "add(3,5)"
      ],
      "metadata": {
        "id": "JLi2xDUnfv44",
        "colab": {
          "base_uri": "https://localhost:8080/"
        },
        "outputId": "8c6a2b37-6c4d-4166-9e71-49da99834855"
      },
      "execution_count": null,
      "outputs": [
        {
          "output_type": "execute_result",
          "data": {
            "text/plain": [
              "8"
            ]
          },
          "metadata": {},
          "execution_count": 119
        }
      ]
    },
    {
      "cell_type": "markdown",
      "source": [
        "## 실습. plus, minus, multiply, divide라는 네 개의 함수명으로 더하기, 빼기, 곱하기, 나누기 람다식 만들기"
      ],
      "metadata": {
        "id": "xWFZMFqfhA6U"
      }
    },
    {
      "cell_type": "code",
      "source": [
        "plus = lambda a,b : a+b"
      ],
      "metadata": {
        "id": "_JtFY6Eofl4c"
      },
      "execution_count": null,
      "outputs": []
    },
    {
      "cell_type": "code",
      "source": [
        "minus = lambda a, b : a-b"
      ],
      "metadata": {
        "id": "FEznBBmqhUuE"
      },
      "execution_count": null,
      "outputs": []
    },
    {
      "cell_type": "code",
      "source": [
        "multiply = lambda a,b : a*b"
      ],
      "metadata": {
        "id": "HMHB9g3nhUgE"
      },
      "execution_count": null,
      "outputs": []
    },
    {
      "cell_type": "code",
      "source": [
        "divide = lambda a, b : a/b"
      ],
      "metadata": {
        "id": "uyBCTXFejjs7"
      },
      "execution_count": null,
      "outputs": []
    },
    {
      "cell_type": "code",
      "source": [
        "plus(3,5)"
      ],
      "metadata": {
        "id": "bHvCHgu3jojL",
        "colab": {
          "base_uri": "https://localhost:8080/"
        },
        "outputId": "3fb4cfbd-c8c9-4a0c-ff67-a3488d8575df"
      },
      "execution_count": null,
      "outputs": [
        {
          "output_type": "execute_result",
          "data": {
            "text/plain": [
              "8"
            ]
          },
          "metadata": {},
          "execution_count": 125
        }
      ]
    },
    {
      "cell_type": "code",
      "source": [
        "minus(2,5)"
      ],
      "metadata": {
        "colab": {
          "base_uri": "https://localhost:8080/"
        },
        "id": "YUPiqz8TTjSl",
        "outputId": "3491a4dc-bc16-48f7-9caf-274656115fc3"
      },
      "execution_count": null,
      "outputs": [
        {
          "output_type": "execute_result",
          "data": {
            "text/plain": [
              "-3"
            ]
          },
          "metadata": {},
          "execution_count": 126
        }
      ]
    },
    {
      "cell_type": "code",
      "source": [
        "multiply(4,2)"
      ],
      "metadata": {
        "colab": {
          "base_uri": "https://localhost:8080/"
        },
        "id": "HthGyHYwTlKh",
        "outputId": "7901a266-5e02-45d8-da46-d0f4d44f2cd4"
      },
      "execution_count": null,
      "outputs": [
        {
          "output_type": "execute_result",
          "data": {
            "text/plain": [
              "8"
            ]
          },
          "metadata": {},
          "execution_count": 131
        }
      ]
    },
    {
      "cell_type": "code",
      "source": [
        "divide(8,3)"
      ],
      "metadata": {
        "id": "2Xh9YTnGjt33",
        "colab": {
          "base_uri": "https://localhost:8080/"
        },
        "outputId": "ee750f0b-29e2-42a2-a40f-a8c8a28ff906"
      },
      "execution_count": null,
      "outputs": [
        {
          "output_type": "execute_result",
          "data": {
            "text/plain": [
              "2.6666666666666665"
            ]
          },
          "metadata": {},
          "execution_count": 132
        }
      ]
    },
    {
      "cell_type": "markdown",
      "source": [
        "# 함수형 문법\n",
        "\n",
        "- 파이썬은 언어일 뿐, 그 언어를 어떤 스타일로 구현하는지 개발자 몫입니다.\n",
        "- 프로그래밍에도 다양한 스타일이 있는데요\n",
        "\n",
        "\n",
        "### 1. 절차형(Procedure) 프로그래밍\n",
        "    - 내가 원하는 결과를 도출하기 위한 순서(절차) 중심으로 프로그래밍하는 방법\n",
        "    - 소스코드를 함수 단위로 관리합니다\n",
        "        - 언제든 호출할 수 있죠 -> 재사용성이 증가합니다\n",
        "        - 소스코드의 양도 줄어듭니다\n",
        "        - 관리도 편해집니다\n",
        "    - 파이썬은 함수만 이용해서 코딩을 할 수도 있습니다.\n",
        "\n",
        "\n",
        "\n",
        "### 2. 객체지향 프로그래밍\n",
        "    - 함수 단위로 소스코드를 작성해서 해결이 안되는 문제들이 있습니다.\n",
        "    - 함수보다 더 큰 바구니, 비슷한 주제 중심으로 변수나 함수를 묶어서 관리하는 객체지향 프로그래밍이 두각을 나타냈습니다.\n",
        "\n",
        "```\n",
        "TV를 보는 사람\n",
        "  TV - 켜다\n",
        "  사람 - 보다\n",
        "  소파 -  기대게 해줌\n",
        "\n",
        "TV를 옮기는 사람\n",
        " TV - 50KG\n",
        " 사람 - 들다\n",
        " 소파 - 필요없음\n",
        "\n",
        "- TV (객체)\n",
        "   - 켜다\n",
        "   - 끄다\n",
        "   - 소리를 키우다\n",
        "   - 채널을 돌리다\n",
        "   - LED\n",
        "   - 50KG\n",
        "   - 검은색\n",
        "\n",
        "- 사람\n",
        "  - 먹다\n",
        "  - 보다\n",
        "  - 듣다\n",
        "  - 프로그래밍하다\n",
        "  - 성별\n",
        "  - 몸무게 NKG\n",
        "\n",
        "- 소파\n",
        "   - 흰색\n",
        "   - 100KG\n",
        "```\n",
        "    - 해당 객체의 속성, 동작(메소드)를 주제 단위로 묶어놓고 속성/동작을 관리하기 위해서 클래스 라는 개념이 도입됐습니다.\n",
        "\n",
        "### 3. 함수형 프로그래밍\n",
        "\n",
        " <img src=\"http://www.tcpschool.com/lectures/img_codingmath_16.png\">\n",
        "\n",
        "    - 코드를 작성하는 새로운 방법\n",
        "    - 함수형 언어들은 반복문이 없습니다\n",
        "    - 반복이 필요하다면 - 재귀를 이용해서 표현\n",
        "\n",
        "- 기존 문법:\n",
        "  어떤 집합 X에 대해서 Y를 정의할 때 관계를 나타내는 것이 함수\n",
        "  - 프로그래밍 언어로는 완벽하게 표현할 수 없어서 버그가 발생합니다\n",
        "\n",
        "- 기존의 프로그래밍 방법에는 반복문이 반드시 사용되어야 하는데 -> out of range 에러부터....\n",
        "- 불필요한 코드도 생기고\n",
        "- 통계적으로 10줄당 1개의 버그가 있대요\n",
        "\n",
        "- 그래서 파이썬은 함수형 언어의 일부 기능을 제공합니다.\n",
        "- 람다 대표적인 함수형 언어의 기능을 제공하는 방법입니다"
      ],
      "metadata": {
        "id": "bzrte8fJkCi4"
      }
    },
    {
      "cell_type": "code",
      "source": [],
      "metadata": {
        "id": "MsR66rvRhRji"
      },
      "execution_count": null,
      "outputs": []
    },
    {
      "cell_type": "code",
      "source": [],
      "metadata": {
        "id": "W1SvTZYjpmch"
      },
      "execution_count": null,
      "outputs": []
    },
    {
      "cell_type": "code",
      "source": [],
      "metadata": {
        "id": "dP4t0-RmpdTS"
      },
      "execution_count": null,
      "outputs": []
    },
    {
      "cell_type": "markdown",
      "source": [
        "## List Comprehension\n",
        "Comprehension  - 이해력, 포함, 내포\n",
        "\n",
        "- 기존 List를 사용해서 간단히 다른 리스트를 만드는 기법\n",
        "- for + append 보다 속도가 빠릅니다.\n",
        "    - for문은 실행할때마다 메모리 재할당이 발생\n",
        "    - 대부분 프로그램이 느려지는 이유는 재할당 때문입니다.\n",
        "\n",
        "\n",
        "```\n",
        "[(변수에 적용할 수식) for (변수) in (for문이 돌아가는 범위)]\n",
        "```\n",
        "\n"
      ],
      "metadata": {
        "id": "hOj2pxZCp7TJ"
      }
    },
    {
      "cell_type": "code",
      "source": [],
      "metadata": {
        "id": "j7mTRbzWpjwM"
      },
      "execution_count": null,
      "outputs": []
    },
    {
      "cell_type": "code",
      "source": [],
      "metadata": {
        "id": "tZcYFvPYqrX1"
      },
      "execution_count": null,
      "outputs": []
    },
    {
      "cell_type": "code",
      "source": [],
      "metadata": {
        "id": "uq_hlAX8qvcC"
      },
      "execution_count": null,
      "outputs": []
    },
    {
      "cell_type": "markdown",
      "source": [
        "## for 문을 활용해서 0~11 사이에 2의 배수만 들어있는 리스트 result를 만들어주세요."
      ],
      "metadata": {
        "id": "xAj9yTh8q637"
      }
    },
    {
      "cell_type": "code",
      "source": [],
      "metadata": {
        "id": "jDgyiWZ8q6Pq"
      },
      "execution_count": null,
      "outputs": []
    },
    {
      "cell_type": "markdown",
      "source": [
        "## 위의 for문을 List Comprehension으로 만들어주세요"
      ],
      "metadata": {
        "id": "Yf5-mqV8rhfa"
      }
    },
    {
      "cell_type": "code",
      "source": [],
      "metadata": {
        "id": "C74qAYKTq2Mx"
      },
      "execution_count": null,
      "outputs": []
    },
    {
      "cell_type": "code",
      "source": [],
      "metadata": {
        "id": "uRzHmt-ssoeD"
      },
      "execution_count": null,
      "outputs": []
    },
    {
      "cell_type": "code",
      "source": [],
      "metadata": {
        "id": "71gQx-YLspY6"
      },
      "execution_count": null,
      "outputs": []
    },
    {
      "cell_type": "code",
      "source": [],
      "metadata": {
        "id": "6_w6KvAqubq6"
      },
      "execution_count": null,
      "outputs": []
    },
    {
      "cell_type": "markdown",
      "source": [
        "## 실습. 얘를 리스트컴프리헨션 내의 이중 for문으로 바꿔주세요."
      ],
      "metadata": {
        "id": "6URE8Obluw3a"
      }
    },
    {
      "cell_type": "code",
      "source": [],
      "metadata": {
        "id": "YemVKBH_uoK9"
      },
      "execution_count": null,
      "outputs": []
    },
    {
      "cell_type": "markdown",
      "source": [
        "- 초기화된 리스트가 필요한 경우"
      ],
      "metadata": {
        "id": "4gSJumPFxe9X"
      }
    },
    {
      "cell_type": "code",
      "source": [
        "result = [ 0 for _ in range(10)]"
      ],
      "metadata": {
        "id": "so6JaUH8w-BZ"
      },
      "execution_count": null,
      "outputs": []
    },
    {
      "cell_type": "code",
      "source": [
        "result"
      ],
      "metadata": {
        "colab": {
          "base_uri": "https://localhost:8080/"
        },
        "id": "iHMXJ_VbxleL",
        "outputId": "5fc277ce-30c9-417d-fa19-fca2ecf427b4"
      },
      "execution_count": null,
      "outputs": [
        {
          "output_type": "execute_result",
          "data": {
            "text/plain": [
              "[0, 0, 0, 0, 0, 0, 0, 0, 0, 0]"
            ]
          },
          "metadata": {},
          "execution_count": 528
        }
      ]
    },
    {
      "cell_type": "code",
      "source": [
        "[0] * 10"
      ],
      "metadata": {
        "colab": {
          "base_uri": "https://localhost:8080/"
        },
        "id": "6S_PrKa2xpnC",
        "outputId": "d47ff803-b075-4cc6-a17c-f915872a620c"
      },
      "execution_count": null,
      "outputs": [
        {
          "output_type": "execute_result",
          "data": {
            "text/plain": [
              "[0, 0, 0, 0, 0, 0, 0, 0, 0, 0]"
            ]
          },
          "metadata": {},
          "execution_count": 529
        }
      ]
    },
    {
      "cell_type": "markdown",
      "source": [
        "# Map\n",
        "- 시퀀스 자료형 각 요소에 동일한 함수를 적용할 때\n",
        "- 실행시점에 값을 생성하기 때문에 메모리 효율적\n",
        "\n",
        "```\n",
        "map(function_name, list_data)\n",
        "```"
      ],
      "metadata": {
        "id": "C0y89kbmx1jF"
      }
    },
    {
      "cell_type": "code",
      "source": [],
      "metadata": {
        "id": "-XRzOZdCxxhC"
      },
      "execution_count": null,
      "outputs": []
    },
    {
      "cell_type": "code",
      "source": [],
      "metadata": {
        "id": "YslO6BjYyWSH"
      },
      "execution_count": null,
      "outputs": []
    },
    {
      "cell_type": "code",
      "source": [],
      "metadata": {
        "id": "CVyc1sL5ybML"
      },
      "execution_count": null,
      "outputs": []
    },
    {
      "cell_type": "code",
      "source": [],
      "metadata": {
        "id": "Xx83OOiQyiTb"
      },
      "execution_count": null,
      "outputs": []
    },
    {
      "cell_type": "code",
      "source": [],
      "metadata": {
        "id": "8Twg-1ADzKpu"
      },
      "execution_count": null,
      "outputs": []
    },
    {
      "cell_type": "code",
      "source": [],
      "metadata": {
        "id": "aW9gWSxiyngC"
      },
      "execution_count": null,
      "outputs": []
    },
    {
      "cell_type": "code",
      "source": [],
      "metadata": {
        "id": "ZylxzyuwzJva"
      },
      "execution_count": null,
      "outputs": []
    },
    {
      "cell_type": "markdown",
      "source": [
        "## 실습. plus, minus, multiply, divide 함수를 ex라는 List에 각각 적용하기"
      ],
      "metadata": {
        "id": "VWZU4gmNzf7V"
      }
    },
    {
      "cell_type": "code",
      "source": [],
      "metadata": {
        "id": "s2GKgueOzdmK"
      },
      "execution_count": null,
      "outputs": []
    },
    {
      "cell_type": "code",
      "source": [],
      "metadata": {
        "id": "rmUKB9-IzVRz"
      },
      "execution_count": null,
      "outputs": []
    },
    {
      "cell_type": "markdown",
      "source": [
        "# Map\n",
        "- 시퀀스 자료형 각 원소에 동일한 function을 적용하는\n",
        "- 실행시점에 값을 생성하므로 메모리 효율적"
      ],
      "metadata": {
        "id": "_fHHtdQlUQTM"
      }
    },
    {
      "cell_type": "code",
      "source": [
        "ex = [1,2,3,4,5]\n",
        "ex1 = [1,3,5,7,9]"
      ],
      "metadata": {
        "id": "RgDxgIQbUNM0"
      },
      "execution_count": null,
      "outputs": []
    },
    {
      "cell_type": "markdown",
      "source": [
        "## 실습. plus, minus, multiply, divide 함수를 ex라는 List에 각각 적용하기"
      ],
      "metadata": {
        "id": "u44Nhz9DUbDJ"
      }
    },
    {
      "cell_type": "code",
      "source": [],
      "metadata": {
        "id": "IZ9op39tUbdl"
      },
      "execution_count": null,
      "outputs": []
    },
    {
      "cell_type": "code",
      "source": [],
      "metadata": {
        "id": "_e-g2TTaUgcs"
      },
      "execution_count": null,
      "outputs": []
    },
    {
      "cell_type": "code",
      "source": [],
      "metadata": {
        "id": "m201wyDZUkaV"
      },
      "execution_count": null,
      "outputs": []
    },
    {
      "cell_type": "code",
      "source": [],
      "metadata": {
        "id": "qLYqvfhTUnst"
      },
      "execution_count": null,
      "outputs": []
    },
    {
      "cell_type": "code",
      "source": [],
      "metadata": {
        "id": "Aiv362OdUqWB"
      },
      "execution_count": null,
      "outputs": []
    },
    {
      "cell_type": "code",
      "source": [],
      "metadata": {
        "id": "VnJOey5eU1Vl"
      },
      "execution_count": null,
      "outputs": []
    },
    {
      "cell_type": "code",
      "source": [],
      "metadata": {
        "id": "kEHmdM33U6ot"
      },
      "execution_count": null,
      "outputs": []
    },
    {
      "cell_type": "code",
      "source": [],
      "metadata": {
        "id": "eBDMf2qNU8W4"
      },
      "execution_count": null,
      "outputs": []
    },
    {
      "cell_type": "markdown",
      "source": [
        "#  filter\n",
        "- 이터러블의 각 요소에 대해 function이 참인 것만 반환하는 요소의 이터레이터\n",
        "\n",
        "```\n",
        "filter(function, iterable)\n",
        "```"
      ],
      "metadata": {
        "id": "BfcOsIsXVB8K"
      }
    },
    {
      "cell_type": "code",
      "source": [],
      "metadata": {
        "id": "DClsSb1YU_ys"
      },
      "execution_count": null,
      "outputs": []
    },
    {
      "cell_type": "code",
      "source": [],
      "metadata": {
        "id": "iiWGL8Q5VYlV"
      },
      "execution_count": null,
      "outputs": []
    },
    {
      "cell_type": "markdown",
      "source": [
        "## 리스트 컴프리헨션으로 30까지 리스트 만들어주시고\n",
        "## 3의배수만 필터로 걸러내주세요."
      ],
      "metadata": {
        "id": "ubMfuh0AVfKP"
      }
    },
    {
      "cell_type": "code",
      "source": [],
      "metadata": {
        "id": "a1KpI6yHVa7l"
      },
      "execution_count": null,
      "outputs": []
    },
    {
      "cell_type": "code",
      "source": [],
      "metadata": {
        "id": "9Ue-MFejWvgl"
      },
      "execution_count": null,
      "outputs": []
    },
    {
      "cell_type": "code",
      "source": [],
      "metadata": {
        "id": "Sc7sl5ZyW3s-"
      },
      "execution_count": null,
      "outputs": []
    },
    {
      "cell_type": "markdown",
      "source": [
        "# Enumerate & Zip\n",
        "- Enumerate(열거하다)\n",
        "    - 리스트의 요소를 추출할 때 번호를 붙여서 추출해 줍니다\n",
        "```\n",
        "enumerate(변수명)\n",
        "```\n",
        "\n",
        "- Zip (잠그다)\n",
        "    - 두개의 리스트를 병렬적으로 추출함\n",
        "```\n",
        "zip(list, list)\n",
        "```"
      ],
      "metadata": {
        "id": "AX4ToblhXVHg"
      }
    },
    {
      "cell_type": "code",
      "source": [],
      "metadata": {
        "id": "BCSlE3D7XIR1"
      },
      "execution_count": null,
      "outputs": []
    },
    {
      "cell_type": "code",
      "source": [],
      "metadata": {
        "id": "yQcm2fVKX8nt"
      },
      "execution_count": null,
      "outputs": []
    },
    {
      "cell_type": "code",
      "source": [],
      "metadata": {
        "id": "nPq6ggYQYRO9"
      },
      "execution_count": null,
      "outputs": []
    },
    {
      "cell_type": "code",
      "source": [],
      "metadata": {
        "id": "RZQLIiebYjU9"
      },
      "execution_count": null,
      "outputs": []
    },
    {
      "cell_type": "code",
      "source": [
        "list1 = ['사과', '바나나', '딸기', '포도', '키위']"
      ],
      "metadata": {
        "id": "sjX5PJjQY4cW"
      },
      "execution_count": null,
      "outputs": []
    },
    {
      "cell_type": "code",
      "source": [],
      "metadata": {
        "id": "ZaNxdJd1ZATF"
      },
      "execution_count": null,
      "outputs": []
    },
    {
      "cell_type": "code",
      "source": [],
      "metadata": {
        "id": "bvzbEdvBZbuA"
      },
      "execution_count": null,
      "outputs": []
    },
    {
      "cell_type": "code",
      "source": [],
      "metadata": {
        "id": "Xiqi-uVHZML3"
      },
      "execution_count": null,
      "outputs": []
    },
    {
      "cell_type": "code",
      "source": [],
      "metadata": {
        "id": "Vgo8UtEtZQqV"
      },
      "execution_count": null,
      "outputs": []
    },
    {
      "cell_type": "code",
      "source": [],
      "metadata": {
        "id": "wT534WzoZTqN"
      },
      "execution_count": null,
      "outputs": []
    },
    {
      "cell_type": "markdown",
      "source": [
        "- Zip (잠그다)\n",
        "    - 두개 이상의 리스트를 병렬적으로 추출함\n",
        "```\n",
        "zip(list, list)\n",
        "```"
      ],
      "metadata": {
        "id": "akKUSN6bZk6T"
      }
    },
    {
      "cell_type": "code",
      "source": [
        "alist = ['사과', '바나나', '딸기']\n",
        "blist = ['Apple', 'Banana', 'Strawberry']"
      ],
      "metadata": {
        "id": "b3vq-iy9ZXIW"
      },
      "execution_count": null,
      "outputs": []
    },
    {
      "cell_type": "code",
      "source": [],
      "metadata": {
        "id": "fhWVJiuNZrI1"
      },
      "execution_count": null,
      "outputs": []
    },
    {
      "cell_type": "markdown",
      "source": [
        "Output:\n",
        "```\n",
        "0 사과 Apple\n",
        "1 바나나 Banana\n",
        "2 딸기 Strawberry\n",
        "```"
      ],
      "metadata": {
        "id": "iTStfQaUZ792"
      }
    },
    {
      "cell_type": "code",
      "source": [],
      "metadata": {
        "id": "P672A48IdDjS"
      },
      "execution_count": null,
      "outputs": []
    },
    {
      "cell_type": "code",
      "source": [],
      "metadata": {
        "id": "Oy6yysVnccBL"
      },
      "execution_count": null,
      "outputs": []
    },
    {
      "cell_type": "code",
      "source": [],
      "metadata": {
        "id": "EPkSv5QnbtPl"
      },
      "execution_count": null,
      "outputs": []
    },
    {
      "cell_type": "code",
      "source": [],
      "metadata": {
        "id": "v2zHI4iZdlEF"
      },
      "execution_count": null,
      "outputs": []
    },
    {
      "cell_type": "code",
      "source": [],
      "metadata": {
        "id": "ms90j4ZrlZpO"
      },
      "execution_count": null,
      "outputs": []
    },
    {
      "cell_type": "markdown",
      "source": [
        "실습. 아래의 Input이 Output처럼 출력되도록 해 주세요.\n",
        "\n",
        "Input:\n",
        "```\n",
        "subjects = ['math', 'history', 'english', 'computer engineering']\n",
        "scores = [90, 80, 95, 100]\n",
        "```\n",
        "\n",
        "### Output:\n",
        "```\n",
        " {'math': 90, 'history': 80, 'english': 95, 'computer engineering': 100}\n",
        " ```"
      ],
      "metadata": {
        "id": "Bl9YpyI7luC8"
      }
    },
    {
      "cell_type": "code",
      "source": [],
      "metadata": {
        "id": "1tbGge2nlkTR"
      },
      "execution_count": null,
      "outputs": []
    },
    {
      "cell_type": "code",
      "source": [],
      "metadata": {
        "id": "_wImlnrznsdJ"
      },
      "execution_count": null,
      "outputs": []
    },
    {
      "cell_type": "code",
      "source": [],
      "metadata": {
        "id": "hHrnD5LZnuA2"
      },
      "execution_count": null,
      "outputs": []
    },
    {
      "cell_type": "markdown",
      "source": [
        "실습2. 아래의 Input이 Output처럼 출력되도록 해 주세요.\n",
        "\n",
        "Input:\n",
        "```\n",
        "score_tuples = [('math', 90), ('history', 80), ('english', 95), ('computer engineering', 100)]\n",
        "```\n",
        "\n",
        "### Output:\n",
        "```\n",
        " {'math': 90, 'history': 80, 'english': 95, 'computer engineering': 100}\n",
        " ```"
      ],
      "metadata": {
        "id": "Xk5TU638lzk9"
      }
    },
    {
      "cell_type": "code",
      "source": [],
      "metadata": {
        "id": "30FQs7JPnwLj"
      },
      "execution_count": null,
      "outputs": []
    },
    {
      "cell_type": "code",
      "source": [],
      "metadata": {
        "id": "Rk-tLiD6nv1f"
      },
      "execution_count": null,
      "outputs": []
    },
    {
      "cell_type": "markdown",
      "source": [
        "# Reduce\n",
        "\n",
        "- reduce는 반복 가능한 객체의 각 요소를 지정된 함수로 처리한 뒤 이전 결과와 **누적해서 반환**\n",
        "- reduce는 파이썬 3부터 내장 함수가 아님\n",
        "- functools 모듈에서 reduce 함수를 가져와야 함\n",
        "```\n",
        "reduce(function, iterable, initializer=None)\n",
        "```"
      ],
      "metadata": {
        "id": "RG_3yY5ltOKi"
      }
    },
    {
      "cell_type": "code",
      "source": [],
      "metadata": {
        "id": "flf65t_TnmXP"
      },
      "execution_count": null,
      "outputs": []
    },
    {
      "cell_type": "code",
      "source": [],
      "metadata": {
        "id": "YzoBhgWFuBFX"
      },
      "execution_count": null,
      "outputs": []
    },
    {
      "cell_type": "code",
      "source": [],
      "metadata": {
        "id": "NHhJ7mzXuLJg"
      },
      "execution_count": null,
      "outputs": []
    },
    {
      "cell_type": "markdown",
      "source": [
        "## 0에서 10까지를 더하는 for 반복문을 만들어주세요."
      ],
      "metadata": {
        "id": "CwJqVFKFu4pk"
      }
    },
    {
      "cell_type": "code",
      "source": [],
      "metadata": {
        "id": "c0K0GKStudnH"
      },
      "execution_count": null,
      "outputs": []
    },
    {
      "cell_type": "code",
      "source": [],
      "metadata": {
        "id": "CKFBKaO-xBrw"
      },
      "execution_count": null,
      "outputs": []
    },
    {
      "cell_type": "code",
      "source": [],
      "metadata": {
        "id": "Z0b_TV5HxTvc"
      },
      "execution_count": null,
      "outputs": []
    },
    {
      "cell_type": "code",
      "source": [],
      "metadata": {
        "id": "2aDkHWPwyhVO"
      },
      "execution_count": null,
      "outputs": []
    },
    {
      "cell_type": "code",
      "source": [],
      "metadata": {
        "id": "tBUNsqxkyxs6"
      },
      "execution_count": null,
      "outputs": []
    },
    {
      "cell_type": "code",
      "source": [
        "test2 = [{'name' : 'a', 'age' : 1}, {'name' : 'b', 'age' : 2}, {'name' : 'c', 'age' : 3}]"
      ],
      "metadata": {
        "id": "p9Orjc5wybBx"
      },
      "execution_count": null,
      "outputs": []
    },
    {
      "cell_type": "code",
      "source": [],
      "metadata": {
        "id": "a9MgR4X5zxN4"
      },
      "execution_count": null,
      "outputs": []
    },
    {
      "cell_type": "code",
      "source": [],
      "metadata": {
        "id": "E0H6GAXg04ki"
      },
      "execution_count": null,
      "outputs": []
    },
    {
      "cell_type": "code",
      "source": [],
      "metadata": {
        "id": "ukdf4uyP05Qo"
      },
      "execution_count": null,
      "outputs": []
    },
    {
      "cell_type": "markdown",
      "source": [
        "- 파이썬은 함수형 언어가 아닙니다\n",
        "- 함수형 프로그래밍을 파이썬으로 하는 법을 한 번 살펴봤을 뿐이고요"
      ],
      "metadata": {
        "id": "wiSTPh4f1Cw7"
      }
    },
    {
      "cell_type": "code",
      "source": [],
      "metadata": {
        "id": "1Slln4Xm07Ag"
      },
      "execution_count": null,
      "outputs": []
    },
    {
      "cell_type": "code",
      "source": [],
      "metadata": {
        "id": "6b5GZKuVLegx"
      },
      "execution_count": null,
      "outputs": []
    },
    {
      "cell_type": "code",
      "source": [],
      "metadata": {
        "id": "RDoX1i8_0vcE"
      },
      "execution_count": null,
      "outputs": []
    },
    {
      "cell_type": "markdown",
      "source": [
        "# 모듈\n",
        "- 이미 만들어진 파이썬 소스파일(라이브러리)\n",
        "    - 파이썬은 모듈을 만들기 위한 추가 과정은 필요하지 않습니다.\n",
        "    - 파이썬 소스파일은 모듈로 사용할 수 있습니다.\n",
        "    - 재사용성을 위해서 그렇게 쓰고요\n",
        "\n",
        "    - ipynb파일로 저장되는 코랩, 주피터 파일들은 모듈이 될 수 없습니다.\n",
        "    - 모듈은 파이썬 언어로 쓰여진 py 확장자인 소스파일만 가능합니다.\n"
      ],
      "metadata": {
        "id": "-Xp0kmQw1sqp"
      }
    },
    {
      "cell_type": "code",
      "source": [],
      "metadata": {
        "id": "WtOZWm2m1SfI"
      },
      "execution_count": null,
      "outputs": []
    },
    {
      "cell_type": "code",
      "source": [],
      "metadata": {
        "id": "tn3CzdqC2Nd4"
      },
      "execution_count": null,
      "outputs": []
    },
    {
      "cell_type": "code",
      "source": [],
      "metadata": {
        "id": "QYdm4w_s2m0Y"
      },
      "execution_count": null,
      "outputs": []
    },
    {
      "cell_type": "code",
      "source": [],
      "metadata": {
        "id": "_oLq9ais2vah"
      },
      "execution_count": null,
      "outputs": []
    },
    {
      "cell_type": "code",
      "source": [],
      "metadata": {
        "id": "FhEUspcE3YpY"
      },
      "execution_count": null,
      "outputs": []
    },
    {
      "cell_type": "markdown",
      "source": [
        "# 모듈은 어디서 가져오는지??\n",
        "    - 파이썬 소스파일에서 가져옵니다\n",
        "    - 근데 어디있다고 알려는 줘야 합니다.\n",
        "    - 그래서 모듈은 위치를 미리 지정해놓습니다.\n",
        "    - 모듈은 항상 그 위치에서 가져오도록 만들어 놓습니다."
      ],
      "metadata": {
        "id": "dinbgO0V3KKs"
      }
    },
    {
      "cell_type": "code",
      "source": [],
      "metadata": {
        "id": "8BhlvPpb3AvX"
      },
      "execution_count": null,
      "outputs": []
    },
    {
      "cell_type": "code",
      "source": [],
      "metadata": {
        "id": "DYVSJZlI3sDo"
      },
      "execution_count": null,
      "outputs": []
    },
    {
      "cell_type": "code",
      "source": [],
      "metadata": {
        "id": "rO6-L2sS3yIh"
      },
      "execution_count": null,
      "outputs": []
    },
    {
      "cell_type": "code",
      "source": [],
      "metadata": {
        "id": "TAbbmcOj3-Yw"
      },
      "execution_count": null,
      "outputs": []
    },
    {
      "cell_type": "code",
      "source": [],
      "metadata": {
        "id": "M6MtcVFr3__P"
      },
      "execution_count": null,
      "outputs": []
    },
    {
      "cell_type": "code",
      "source": [],
      "metadata": {
        "id": "TtLd8AeU4N2i"
      },
      "execution_count": null,
      "outputs": []
    },
    {
      "cell_type": "markdown",
      "source": [
        "새로운 경로를 path 에 추가\n",
        "- colab에서 사용할 수 있는 모듈, 패키지를 가져오는 방법\n",
        "- 가져오고 싶은 모듈이 들어있는 폴더 경로를 추가해주면 됩니다\n",
        "    - 파일 경로가 아닙니다\n",
        "    - 파일이 들어있는 폴더의 경로입니다"
      ],
      "metadata": {
        "id": "acTUobJvNwH5"
      }
    },
    {
      "cell_type": "code",
      "source": [],
      "metadata": {
        "id": "THaQN6qS495h"
      },
      "execution_count": null,
      "outputs": []
    },
    {
      "cell_type": "code",
      "source": [],
      "metadata": {
        "id": "-ewnmsHF6H7R"
      },
      "execution_count": null,
      "outputs": []
    },
    {
      "cell_type": "code",
      "source": [],
      "metadata": {
        "id": "VheVy4nG6lcB"
      },
      "execution_count": null,
      "outputs": []
    },
    {
      "cell_type": "markdown",
      "source": [
        "# 패키지\n",
        "\n",
        "    - 모듈(여러개 파일)을 하나로 묶어서 관리하는 것\n",
        "    - 파이썬 패키지는 폴더로 관리\n",
        "    - 같은 폴더에 있으면 패키지가 됩니다\n",
        "    - 패키지의 이름은 폴더의 이름이 됩니다.\n",
        "\n",
        "- 버전에 따라서 폴더를 패키지로 인식할 수도 있고 인식하지 않을 수도 있습니다. (3 이하 버전)\n",
        "    - 혹시 몰라서 호환용으로\n",
        "    - __init__.py 가 들어있으면 패키지로 파이썬이 인식을 합니다.\n",
        "    - 파일의 내용은 없어도 됩니다."
      ],
      "metadata": {
        "id": "8bX5PkHcVHeN"
      }
    },
    {
      "cell_type": "code",
      "source": [],
      "metadata": {
        "id": "i-6vDAyHM3--"
      },
      "execution_count": null,
      "outputs": []
    },
    {
      "cell_type": "code",
      "source": [],
      "metadata": {
        "id": "-j9JC3LCPGWr"
      },
      "execution_count": null,
      "outputs": []
    },
    {
      "cell_type": "code",
      "source": [],
      "metadata": {
        "id": "YN9VQEuQPg8r"
      },
      "execution_count": null,
      "outputs": []
    },
    {
      "cell_type": "code",
      "source": [],
      "metadata": {
        "id": "MRo1AZQsRBQE"
      },
      "execution_count": null,
      "outputs": []
    },
    {
      "cell_type": "code",
      "source": [],
      "metadata": {
        "id": "mDvBszs9REvk"
      },
      "execution_count": null,
      "outputs": []
    },
    {
      "cell_type": "code",
      "source": [],
      "metadata": {
        "id": "wyf6Ui7HRLZr"
      },
      "execution_count": null,
      "outputs": []
    },
    {
      "cell_type": "markdown",
      "source": [
        "# 여차저차 모듈을 만들어 쓰지만 이름이 너무 긴 경우"
      ],
      "metadata": {
        "id": "i1En55LmReMl"
      }
    },
    {
      "cell_type": "code",
      "source": [],
      "metadata": {
        "id": "jTE4jPf1ROeS"
      },
      "execution_count": null,
      "outputs": []
    },
    {
      "cell_type": "code",
      "source": [],
      "metadata": {
        "id": "G4M1JLU5RmMs"
      },
      "execution_count": null,
      "outputs": []
    },
    {
      "cell_type": "code",
      "source": [],
      "metadata": {
        "id": "-EqHZVxCSKRv"
      },
      "execution_count": null,
      "outputs": []
    },
    {
      "cell_type": "code",
      "source": [],
      "metadata": {
        "id": "BnrQ2PjQRo5c"
      },
      "execution_count": null,
      "outputs": []
    },
    {
      "cell_type": "code",
      "source": [],
      "metadata": {
        "id": "OgxOoFaCSFlM"
      },
      "execution_count": null,
      "outputs": []
    },
    {
      "cell_type": "code",
      "source": [],
      "metadata": {
        "id": "chp6ho4GSHSs"
      },
      "execution_count": null,
      "outputs": []
    },
    {
      "cell_type": "code",
      "source": [],
      "metadata": {
        "id": "B35rg5VkSc52"
      },
      "execution_count": null,
      "outputs": []
    },
    {
      "cell_type": "code",
      "source": [],
      "metadata": {
        "id": "C_x2M9w-SOyb"
      },
      "execution_count": null,
      "outputs": []
    },
    {
      "cell_type": "code",
      "source": [],
      "metadata": {
        "id": "uCDpFQpFSbyL"
      },
      "execution_count": null,
      "outputs": []
    },
    {
      "cell_type": "code",
      "source": [],
      "metadata": {
        "id": "z1AxZgxqSnAV"
      },
      "execution_count": null,
      "outputs": []
    },
    {
      "cell_type": "markdown",
      "source": [
        "# 파이썬 소스파일의 실행\n",
        "\n",
        "- 파이썬 인터프리터는 모듈도 따로 뭔가 할필요 없이 py이기만 하면 되고, 일반 실행파일도 py이기만 하면 됩니다.\n",
        "- 그럼 이 둘을 구분할 필요가 있지 않을까요??\n",
        "\n",
        "- 그래서 파이썬소스파일을 직접 실행하면\n",
        "- 참조해서 실행할 때랑 자신을 직접 실행할 때랑 구분하는 방법이 있습니다.\n",
        "\n",
        "    1. 자신이 직접 실행할때\n",
        "        __name__ == \"__main__\"\n",
        "\n",
        "    2. 모듈로 쓰여서 실행할때\n",
        "        __name__ == 모듈명\n",
        "\n",
        "출력됩니다\n"
      ],
      "metadata": {
        "id": "QI-7L14VS9Xb"
      }
    },
    {
      "cell_type": "markdown",
      "source": [
        "## 실습. modules 패키지 안에 만들어 주시고   my_area2라는 모듈을 새로 만들어주세요.\n",
        "\n",
        "그 안에는\n",
        "\n",
        " triangle_area() (삼각형 넓이)\n",
        " squre_area2() (직사각형 넓이)\n",
        "\n",
        " 를 구하는 함수를 넣어주세요."
      ],
      "metadata": {
        "id": "uP2bbyZ7V0p4"
      }
    },
    {
      "cell_type": "code",
      "source": [],
      "metadata": {
        "id": "e0fekgHCSohL"
      },
      "execution_count": null,
      "outputs": []
    },
    {
      "cell_type": "code",
      "source": [],
      "metadata": {
        "id": "NB5A17pda3Sb"
      },
      "execution_count": null,
      "outputs": []
    },
    {
      "cell_type": "code",
      "source": [],
      "metadata": {
        "id": "kSYBXOqRYCLs"
      },
      "execution_count": null,
      "outputs": []
    },
    {
      "cell_type": "code",
      "source": [],
      "metadata": {
        "id": "ELHozPm7Y_xW"
      },
      "execution_count": null,
      "outputs": []
    },
    {
      "cell_type": "code",
      "source": [],
      "metadata": {
        "id": "1apoKJEOYfou"
      },
      "execution_count": null,
      "outputs": []
    },
    {
      "cell_type": "code",
      "source": [],
      "metadata": {
        "id": "9kHbQ_lEYH1j"
      },
      "execution_count": null,
      "outputs": []
    },
    {
      "cell_type": "code",
      "source": [],
      "metadata": {
        "id": "SCOLL4xuYXnV"
      },
      "execution_count": null,
      "outputs": []
    }
  ]
}