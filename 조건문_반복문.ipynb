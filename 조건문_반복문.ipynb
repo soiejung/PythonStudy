{
  "nbformat": 4,
  "nbformat_minor": 0,
  "metadata": {
    "colab": {
      "provenance": [],
      "include_colab_link": true
    },
    "kernelspec": {
      "name": "python3",
      "display_name": "Python 3"
    },
    "language_info": {
      "name": "python"
    }
  },
  "cells": [
    {
      "cell_type": "markdown",
      "metadata": {
        "id": "view-in-github",
        "colab_type": "text"
      },
      "source": [
        "<a href=\"https://colab.research.google.com/github/soiejung/PythonStudy/blob/main/%EC%A1%B0%EA%B1%B4%EB%AC%B8_%EB%B0%98%EB%B3%B5%EB%AC%B8.ipynb\" target=\"_parent\"><img src=\"https://colab.research.google.com/assets/colab-badge.svg\" alt=\"Open In Colab\"/></a>"
      ]
    },
    {
      "cell_type": "markdown",
      "source": [
        "# 0. 복습"
      ],
      "metadata": {
        "id": "mxE8zNsHmSwY"
      }
    },
    {
      "cell_type": "markdown",
      "metadata": {
        "id": "d757e092"
      },
      "source": [
        "## 1. 딕셔너리 Dictionary\n",
        "\n",
        "- 키 Key와 값 Value를 한 쌍으로 갖는 자료형\n",
        "- 키는 중복될 수 없음, 값은 중복될 수 있음\n",
        "- 키를 통해 값을 반환 받을 수 있음"
      ]
    },
    {
      "cell_type": "markdown",
      "source": [
        "1. scores라는 이름의 빈 딕셔너리를 만들고 출력 후 타입을 확인주세요."
      ],
      "metadata": {
        "id": "gKKYgampuoTO"
      }
    },
    {
      "cell_type": "code",
      "source": [
        "#  집합자료형 시퀀스형(순서 유 / 배열[], 튜플(), range), 매핑형(고유한 어떤 값을 가지는 / DICTIONARY{}, SET )\n",
        "scores= { }"
      ],
      "metadata": {
        "id": "w2bG7YWj3b-C"
      },
      "execution_count": null,
      "outputs": []
    },
    {
      "cell_type": "code",
      "source": [
        "set1 = {'a', 'e', 'c', 'd', 'e', 'e'}"
      ],
      "metadata": {
        "id": "D62zElPnC7l3"
      },
      "execution_count": null,
      "outputs": []
    },
    {
      "cell_type": "code",
      "source": [
        "sorted(set1) # 오름차순으로 결과를 정렬하는 파이썬의 내장 함수 - 무엇을 넣든 기본적으로는 list로 출력이 된다"
      ],
      "metadata": {
        "colab": {
          "base_uri": "https://localhost:8080/"
        },
        "id": "1vEDp2qDGZjn",
        "outputId": "b512c3e2-ec4f-49fb-a180-c98d0a5d686e"
      },
      "execution_count": null,
      "outputs": [
        {
          "output_type": "execute_result",
          "data": {
            "text/plain": [
              "['a', 'c', 'd', 'e']"
            ]
          },
          "metadata": {},
          "execution_count": 6
        }
      ]
    },
    {
      "cell_type": "code",
      "source": [
        "type(scores)"
      ],
      "metadata": {
        "id": "0CSJTHpk1dB2",
        "colab": {
          "base_uri": "https://localhost:8080/"
        },
        "outputId": "e3199524-d9f4-4f2e-c756-9500da192319"
      },
      "execution_count": null,
      "outputs": [
        {
          "output_type": "execute_result",
          "data": {
            "text/plain": [
              "dict"
            ]
          },
          "metadata": {},
          "execution_count": 8
        }
      ]
    },
    {
      "cell_type": "markdown",
      "source": [
        "2. scores 딕셔너리 안에 아래와 같이 과목과 점수가 대응되도록 값을 넣고 출력해주세요.\n",
        "```\n",
        "영어 | 95\n",
        "수학 | 100\n",
        "국어 | 90\n",
        "과학 | 97\n",
        "사회 | 99\n",
        "```\n"
      ],
      "metadata": {
        "id": "_oeX70t65xXe"
      }
    },
    {
      "cell_type": "code",
      "source": [
        "scores['영어'] = 95"
      ],
      "metadata": {
        "id": "D9qqxC2_Dd4U"
      },
      "execution_count": null,
      "outputs": []
    },
    {
      "cell_type": "code",
      "source": [
        "scores"
      ],
      "metadata": {
        "colab": {
          "base_uri": "https://localhost:8080/"
        },
        "id": "xgnbBySsHJVQ",
        "outputId": "4a6052a1-bc95-4fb3-8db9-b70e1ed81516"
      },
      "execution_count": null,
      "outputs": [
        {
          "output_type": "execute_result",
          "data": {
            "text/plain": [
              "{'영어': 95}"
            ]
          },
          "metadata": {},
          "execution_count": 10
        }
      ]
    },
    {
      "cell_type": "code",
      "source": [
        "scores.setdefault('영어', 80) # 이미 있는 키를 호출하면 이미 있는 값을"
      ],
      "metadata": {
        "colab": {
          "base_uri": "https://localhost:8080/"
        },
        "id": "pvrhTeIeHK-x",
        "outputId": "8908eb18-77ab-4c91-8cc0-d9441991363b"
      },
      "execution_count": null,
      "outputs": [
        {
          "output_type": "execute_result",
          "data": {
            "text/plain": [
              "95"
            ]
          },
          "metadata": {},
          "execution_count": 11
        }
      ]
    },
    {
      "cell_type": "code",
      "source": [
        "scores.setdefault('수학', 100) # 없는 키를 호출하면 키-밸류 순으로 새로 방을 만들어서 넣어주는"
      ],
      "metadata": {
        "colab": {
          "base_uri": "https://localhost:8080/"
        },
        "id": "-esUimr8HWLj",
        "outputId": "bce9d50a-131d-404b-ce92-e93782c95ce1"
      },
      "execution_count": null,
      "outputs": [
        {
          "output_type": "execute_result",
          "data": {
            "text/plain": [
              "100"
            ]
          },
          "metadata": {},
          "execution_count": 12
        }
      ]
    },
    {
      "cell_type": "code",
      "source": [
        "scores = {'영어':'수학'}"
      ],
      "metadata": {
        "id": "1Zd-3WNLHY01"
      },
      "execution_count": null,
      "outputs": []
    },
    {
      "cell_type": "code",
      "source": [
        "scores = {'영어': 95, '수학': 100, '국어': 90, '과학':97, '사회': 99}\n",
        "scores"
      ],
      "metadata": {
        "colab": {
          "base_uri": "https://localhost:8080/"
        },
        "id": "OPTU0gc9HjuE",
        "outputId": "775a10f0-0286-4f6b-cff0-d2f59a7e9dba"
      },
      "execution_count": null,
      "outputs": [
        {
          "output_type": "execute_result",
          "data": {
            "text/plain": [
              "{'영어': 95, '수학': 100, '국어': 90, '과학': 97, '사회': 99}"
            ]
          },
          "metadata": {},
          "execution_count": 18
        }
      ]
    },
    {
      "cell_type": "markdown",
      "source": [
        "3. scores 변수 안에 들어있는 과학 점수와 사회 점수만 따로 각각 확인해보세요."
      ],
      "metadata": {
        "id": "ueZwpAS-66FF"
      }
    },
    {
      "cell_type": "code",
      "source": [
        "scores['과학']"
      ],
      "metadata": {
        "id": "mL-M0BlT6uok",
        "colab": {
          "base_uri": "https://localhost:8080/"
        },
        "outputId": "f39ca259-f9bf-43ae-8972-4a912270be4a"
      },
      "execution_count": null,
      "outputs": [
        {
          "output_type": "execute_result",
          "data": {
            "text/plain": [
              "97"
            ]
          },
          "metadata": {},
          "execution_count": 19
        }
      ]
    },
    {
      "cell_type": "code",
      "source": [
        "scores.setdefault('시회')"
      ],
      "metadata": {
        "id": "cMLuS5GY7ENB"
      },
      "execution_count": null,
      "outputs": []
    },
    {
      "cell_type": "code",
      "source": [
        "scores.get('사회')"
      ],
      "metadata": {
        "colab": {
          "base_uri": "https://localhost:8080/"
        },
        "id": "XWncWsFKH4de",
        "outputId": "7421d8db-085a-464d-8395-728147282872"
      },
      "execution_count": null,
      "outputs": [
        {
          "output_type": "execute_result",
          "data": {
            "text/plain": [
              "99"
            ]
          },
          "metadata": {},
          "execution_count": 23
        }
      ]
    },
    {
      "cell_type": "code",
      "source": [
        "scores = {'영어': 95, '수학': 100, '국어': 90, '과학':97, '사회': 99}\n",
        "scores"
      ],
      "metadata": {
        "colab": {
          "base_uri": "https://localhost:8080/"
        },
        "id": "YPMav36CH_RK",
        "outputId": "45dc3e4c-0f4b-4fc8-a804-513dc8473722"
      },
      "execution_count": null,
      "outputs": [
        {
          "output_type": "execute_result",
          "data": {
            "text/plain": [
              "{'영어': 95, '수학': 100, '국어': 90, '과학': 97, '사회': 99}"
            ]
          },
          "metadata": {},
          "execution_count": 24
        }
      ]
    },
    {
      "cell_type": "markdown",
      "source": [
        "4. scores 변수 안에서 과학 점수를 삭제 후 scores 변수를 출력해주세요."
      ],
      "metadata": {
        "id": "yDHUlV737NU9"
      }
    },
    {
      "cell_type": "code",
      "source": [
        "del scores['과학']"
      ],
      "metadata": {
        "id": "bH0c3i8s7HC7"
      },
      "execution_count": null,
      "outputs": []
    },
    {
      "cell_type": "code",
      "source": [
        "scores"
      ],
      "metadata": {
        "id": "nLSAwJkL7Wzt",
        "colab": {
          "base_uri": "https://localhost:8080/"
        },
        "outputId": "6d42ef1c-b339-4a4a-f852-c19716b3503f"
      },
      "execution_count": null,
      "outputs": [
        {
          "output_type": "execute_result",
          "data": {
            "text/plain": [
              "{'영어': 95, '수학': 100, '국어': 90, '사회': 99}"
            ]
          },
          "metadata": {},
          "execution_count": 27
        }
      ]
    },
    {
      "cell_type": "markdown",
      "source": [
        "5. scores 변수 안에 물리 점수 90점을 추가 후 확인해주세요."
      ],
      "metadata": {
        "id": "gfj8y2rC-gSd"
      }
    },
    {
      "cell_type": "code",
      "source": [
        "scores['물리'] = 90"
      ],
      "metadata": {
        "id": "vkV10-307hdu"
      },
      "execution_count": null,
      "outputs": []
    },
    {
      "cell_type": "code",
      "source": [
        "scores"
      ],
      "metadata": {
        "colab": {
          "base_uri": "https://localhost:8080/"
        },
        "id": "rg21zyzaIQs1",
        "outputId": "c8141731-c366-40cf-ca69-b9d34d34ceb6"
      },
      "execution_count": null,
      "outputs": [
        {
          "output_type": "execute_result",
          "data": {
            "text/plain": [
              "{'영어': 95, '수학': 100, '국어': 90, '사회': 99, '물리': 90}"
            ]
          },
          "metadata": {},
          "execution_count": 29
        }
      ]
    },
    {
      "cell_type": "markdown",
      "source": [
        "6. scores 변수의 국어 과목 점수를 98점으로 변경해주세요."
      ],
      "metadata": {
        "id": "yxb35ram-vyx"
      }
    },
    {
      "cell_type": "code",
      "source": [
        "scores['국어'] = 98"
      ],
      "metadata": {
        "id": "-KIJZjcB-2Ex"
      },
      "execution_count": null,
      "outputs": []
    },
    {
      "cell_type": "code",
      "source": [
        "scores"
      ],
      "metadata": {
        "colab": {
          "base_uri": "https://localhost:8080/"
        },
        "id": "weCYxmdsIWmD",
        "outputId": "9523bc56-7944-4c82-e6e4-7a2ee285df9c"
      },
      "execution_count": null,
      "outputs": [
        {
          "output_type": "execute_result",
          "data": {
            "text/plain": [
              "{'영어': 95, '수학': 100, '국어': 98, '사회': 99, '물리': 90}"
            ]
          },
          "metadata": {},
          "execution_count": 31
        }
      ]
    },
    {
      "cell_type": "markdown",
      "source": [
        "7. 아래의 표에서, 이름을 키값으로, (수학, 영어) 점수 리스트를 딕셔너리의 값으로 저장해주세요. 딕셔너리의 이름은 scores로 합니다.\n",
        "```\n",
        "이름\t수학\t영어\n",
        "짱구\t90\t100\n",
        "짱아\t95\t97\n",
        "훈이\t98\t93\n",
        "```\n"
      ],
      "metadata": {
        "id": "hIUO6EQHBsl7"
      }
    },
    {
      "cell_type": "code",
      "source": [
        "# 데이터에 설명이 같이 와야 할 겁니다. 수학, 영어\n",
        "scores = {'짱구':[90, 100], '짱아':[95, 97], '훈이':[98, 93]}"
      ],
      "metadata": {
        "id": "O3v4H73tCyY6"
      },
      "execution_count": null,
      "outputs": []
    },
    {
      "cell_type": "code",
      "source": [
        "# 데이터에 설명이 같이 와야 할 겁니다. 수학, 영어\n",
        "scores={'짱구':(90,100), '짱아':(95,97), '훈이':(98,83)}"
      ],
      "metadata": {
        "id": "BMlm9BhsEecY"
      },
      "execution_count": null,
      "outputs": []
    },
    {
      "cell_type": "code",
      "source": [
        "# 메타 데이터 - 데이터에 대한 데이터\n",
        "# 2023년 1학기 입학점수\n",
        "# 총 3명의 수험자\n",
        "# 과목: 2개\n",
        "\n",
        "scores = {\"짱구\" : {\"수학\" : 90, \"영어\" : 100} , \"짱아\" :  {\"수학\" : 95, \"영어\" : 97} , \"훈이\" : {\"수학\" : 98, \"영어\" : 93}}"
      ],
      "metadata": {
        "id": "aEnR8bdXEHYs"
      },
      "execution_count": null,
      "outputs": []
    },
    {
      "cell_type": "code",
      "source": [],
      "metadata": {
        "id": "TYZZXxR3EZsa"
      },
      "execution_count": null,
      "outputs": []
    },
    {
      "cell_type": "markdown",
      "source": [
        "8. 아래 내용을 참조하셔서 scores 딕셔너리의 키값(이름)만, values값(수학, 영어점수들)만, 키:값 쌍을 각각 출력해보세요."
      ],
      "metadata": {
        "id": "JCgYws5RDwlW"
      }
    },
    {
      "cell_type": "markdown",
      "metadata": {
        "id": "b5711c8d"
      },
      "source": [
        "- 키 Key 혹은 값 Value 모두 반환하기\n",
        "    - keys() : 딕셔녀리의 키만 dict_keys 객체로 반환\n",
        "    - values() : 딕셔녀리의 값만 dict_values 객체로 반환\n",
        "    - items() : 딕셔너리의 키, 값 쌍으로 dict_items 객체로 반환"
      ]
    },
    {
      "cell_type": "code",
      "source": [
        "scores.keys()"
      ],
      "metadata": {
        "id": "CsP4PogbD-ZL",
        "colab": {
          "base_uri": "https://localhost:8080/"
        },
        "outputId": "36c23838-2a79-462a-d972-399c414b8cee"
      },
      "execution_count": null,
      "outputs": [
        {
          "output_type": "execute_result",
          "data": {
            "text/plain": [
              "dict_keys(['짱구', '짱아', '훈이'])"
            ]
          },
          "metadata": {},
          "execution_count": 34
        }
      ]
    },
    {
      "cell_type": "code",
      "source": [
        "scores.values()"
      ],
      "metadata": {
        "id": "vNjwdahLEBa9",
        "colab": {
          "base_uri": "https://localhost:8080/"
        },
        "outputId": "f2adcf85-6b77-4ab9-932f-e0c7a72b2b8e"
      },
      "execution_count": null,
      "outputs": [
        {
          "output_type": "execute_result",
          "data": {
            "text/plain": [
              "dict_values([[90, 100], [95, 97], [98, 93]])"
            ]
          },
          "metadata": {},
          "execution_count": 35
        }
      ]
    },
    {
      "cell_type": "code",
      "source": [
        "scores.items()"
      ],
      "metadata": {
        "id": "Xz3dGVfDEDmG",
        "colab": {
          "base_uri": "https://localhost:8080/"
        },
        "outputId": "387225b7-917a-4310-b3b2-1f344d989b25"
      },
      "execution_count": null,
      "outputs": [
        {
          "output_type": "execute_result",
          "data": {
            "text/plain": [
              "dict_items([('짱구', [90, 100]), ('짱아', [95, 97]), ('훈이', [98, 93])])"
            ]
          },
          "metadata": {},
          "execution_count": 36
        }
      ]
    },
    {
      "cell_type": "code",
      "source": [
        "scores.keys()[0] # TypeError: 'dict_keys' object is not subscriptable"
      ],
      "metadata": {
        "colab": {
          "base_uri": "https://localhost:8080/",
          "height": 174
        },
        "id": "yFDamdwoKM0e",
        "outputId": "21cf517c-a891-422c-b9cd-882a3d4b88c1"
      },
      "execution_count": null,
      "outputs": [
        {
          "output_type": "error",
          "ename": "TypeError",
          "evalue": "ignored",
          "traceback": [
            "\u001b[0;31m---------------------------------------------------------------------------\u001b[0m",
            "\u001b[0;31mTypeError\u001b[0m                                 Traceback (most recent call last)",
            "\u001b[0;32m<ipython-input-37-49103b2c95b2>\u001b[0m in \u001b[0;36m<cell line: 1>\u001b[0;34m()\u001b[0m\n\u001b[0;32m----> 1\u001b[0;31m \u001b[0mscores\u001b[0m\u001b[0;34m.\u001b[0m\u001b[0mkeys\u001b[0m\u001b[0;34m(\u001b[0m\u001b[0;34m)\u001b[0m\u001b[0;34m[\u001b[0m\u001b[0;36m0\u001b[0m\u001b[0;34m]\u001b[0m\u001b[0;34m\u001b[0m\u001b[0;34m\u001b[0m\u001b[0m\n\u001b[0m",
            "\u001b[0;31mTypeError\u001b[0m: 'dict_keys' object is not subscriptable"
          ]
        }
      ]
    },
    {
      "cell_type": "code",
      "source": [
        "type(scores.keys())"
      ],
      "metadata": {
        "colab": {
          "base_uri": "https://localhost:8080/"
        },
        "id": "ngs2hCMfKRYl",
        "outputId": "b6aa1a43-0281-41db-b660-5b6f2ca51a73"
      },
      "execution_count": null,
      "outputs": [
        {
          "output_type": "execute_result",
          "data": {
            "text/plain": [
              "dict_keys"
            ]
          },
          "metadata": {},
          "execution_count": 38
        }
      ]
    },
    {
      "cell_type": "code",
      "source": [
        "list(scores.keys())"
      ],
      "metadata": {
        "colab": {
          "base_uri": "https://localhost:8080/"
        },
        "id": "x5a1vYZhKUR7",
        "outputId": "bb7ba165-043a-445a-a98d-ba457b4b9f6f"
      },
      "execution_count": null,
      "outputs": [
        {
          "output_type": "execute_result",
          "data": {
            "text/plain": [
              "['짱구', '짱아', '훈이']"
            ]
          },
          "metadata": {},
          "execution_count": 39
        }
      ]
    },
    {
      "cell_type": "markdown",
      "source": [
        "9. 짱구의 수학점수, 훈이의 영어점수를 찾아서 각각 출력해주세요."
      ],
      "metadata": {
        "id": "BPoM9DNsDicX"
      }
    },
    {
      "cell_type": "code",
      "source": [
        "scores = {\"짱구\" : {\"수학\" : 90, \"영어\" : 100} , \"짱아\" :  {\"수학\" : 95, \"영어\" : 97} , \"훈이\" : {\"수학\" : 98, \"영어\" : 93}}"
      ],
      "metadata": {
        "id": "sKEictdMDHvM"
      },
      "execution_count": null,
      "outputs": []
    },
    {
      "cell_type": "code",
      "source": [
        "scores['짱구']['수학']"
      ],
      "metadata": {
        "id": "bcxxehRhDsbM",
        "colab": {
          "base_uri": "https://localhost:8080/"
        },
        "outputId": "04a247de-26eb-414a-9c33-62ff0c495e04"
      },
      "execution_count": null,
      "outputs": [
        {
          "output_type": "execute_result",
          "data": {
            "text/plain": [
              "90"
            ]
          },
          "metadata": {},
          "execution_count": 43
        }
      ]
    },
    {
      "cell_type": "code",
      "source": [
        "scores['훈이']['영어']"
      ],
      "metadata": {
        "colab": {
          "base_uri": "https://localhost:8080/"
        },
        "id": "glgTO8fYKjql",
        "outputId": "3c1da4f8-a2ed-4a7f-b412-17f777d0c6f8"
      },
      "execution_count": null,
      "outputs": [
        {
          "output_type": "execute_result",
          "data": {
            "text/plain": [
              "93"
            ]
          },
          "metadata": {},
          "execution_count": 44
        }
      ]
    },
    {
      "cell_type": "markdown",
      "source": [
        "10. scores 딕셔너리를 활용하여 위 딕셔너리의 학생이름만으로 구성된 students 리스트를 생성해주세요."
      ],
      "metadata": {
        "id": "iPqSP2S-H6ii"
      }
    },
    {
      "cell_type": "code",
      "source": [
        "students = list(scores.keys())"
      ],
      "metadata": {
        "id": "tIAxUtwLFEUP"
      },
      "execution_count": null,
      "outputs": []
    },
    {
      "cell_type": "code",
      "source": [
        "students"
      ],
      "metadata": {
        "id": "UjjAUjCKDubc",
        "colab": {
          "base_uri": "https://localhost:8080/"
        },
        "outputId": "a46bf4f7-c8e9-4c1d-c7bf-204c917bcaf5"
      },
      "execution_count": null,
      "outputs": [
        {
          "output_type": "execute_result",
          "data": {
            "text/plain": [
              "['짱구', '짱아', '훈이']"
            ]
          },
          "metadata": {},
          "execution_count": 47
        }
      ]
    },
    {
      "cell_type": "code",
      "source": [
        "students[0] # list의 인덱스 번호로 해당 원소에 접근할 수 있게됩니다"
      ],
      "metadata": {
        "id": "YdPZVTv4nEnr",
        "colab": {
          "base_uri": "https://localhost:8080/",
          "height": 35
        },
        "outputId": "84efaf9a-79c3-4870-8c96-f5819d7c286d"
      },
      "execution_count": null,
      "outputs": [
        {
          "output_type": "execute_result",
          "data": {
            "text/plain": [
              "'짱구'"
            ],
            "application/vnd.google.colaboratory.intrinsic+json": {
              "type": "string"
            }
          },
          "metadata": {},
          "execution_count": 48
        }
      ]
    },
    {
      "cell_type": "code",
      "source": [],
      "metadata": {
        "id": "btGkCGFmNRnl"
      },
      "execution_count": null,
      "outputs": []
    },
    {
      "cell_type": "markdown",
      "source": [
        "\n",
        "#### 11. 응답하라 1998\n",
        "- 휴대폰 번호 앞자리에 따라 통신사가 아래와 같이 구분되던 시절이 있었습니다. 사용자로부터 input 함수를 통해 휴대전화 번호를 입력 받고, 통신사를 출력하는 프로그램을 작성해보세요. 입력받을 때 '-'기호는 넣거나 말거나 영향을 미치지 않습니다.\n",
        "\n",
        "- 힌트 :\n",
        "\n",
        "휴대전화번호 앞 3개 확인은 str도 배열(튜플)의 속성을 가지고 있다는 것을 활용합니다.\n",
        "\n",
        "\n",
        "~~~\n",
        "번호\t통신사\n",
        "011\tSKT\n",
        "016\tKT\n",
        "019\tLGU\n",
        "010\t알수없음\n"
      ],
      "metadata": {
        "id": "hNlvTfYnEVBX"
      }
    },
    {
      "cell_type": "code",
      "source": [
        "input('내용을 입력하세요: ')"
      ],
      "metadata": {
        "colab": {
          "base_uri": "https://localhost:8080/",
          "height": 54
        },
        "id": "J50kZlQlLFhI",
        "outputId": "460b7e19-e9dd-48ce-a567-f7362c167fb7"
      },
      "execution_count": null,
      "outputs": [
        {
          "name": "stdout",
          "output_type": "stream",
          "text": [
            "내용을 입력하세요: 김연지\n"
          ]
        },
        {
          "output_type": "execute_result",
          "data": {
            "text/plain": [
              "'김연지'"
            ],
            "application/vnd.google.colaboratory.intrinsic+json": {
              "type": "string"
            }
          },
          "metadata": {},
          "execution_count": 49
        }
      ]
    },
    {
      "cell_type": "code",
      "source": [
        "input('내용을 입력하세요: ')"
      ],
      "metadata": {
        "colab": {
          "base_uri": "https://localhost:8080/",
          "height": 54
        },
        "id": "2hAuVIZrLJK9",
        "outputId": "de0b4cee-ca4f-4eda-cfb4-d616e1b45d5e"
      },
      "execution_count": null,
      "outputs": [
        {
          "name": "stdout",
          "output_type": "stream",
          "text": [
            "내용을 입력하세요: 3.14\n"
          ]
        },
        {
          "output_type": "execute_result",
          "data": {
            "text/plain": [
              "'3.14'"
            ],
            "application/vnd.google.colaboratory.intrinsic+json": {
              "type": "string"
            }
          },
          "metadata": {},
          "execution_count": 50
        }
      ]
    },
    {
      "cell_type": "code",
      "source": [
        "input('내용을 입력하세요: ')"
      ],
      "metadata": {
        "colab": {
          "base_uri": "https://localhost:8080/",
          "height": 54
        },
        "id": "M3x22eL4LMMC",
        "outputId": "4bc4d7fe-25cf-4ba8-ac7e-5cc7cc3e6ee3"
      },
      "execution_count": null,
      "outputs": [
        {
          "name": "stdout",
          "output_type": "stream",
          "text": [
            "내용을 입력하세요: 010-1234-5678\n"
          ]
        },
        {
          "output_type": "execute_result",
          "data": {
            "text/plain": [
              "'010-1234-5678'"
            ],
            "application/vnd.google.colaboratory.intrinsic+json": {
              "type": "string"
            }
          },
          "metadata": {},
          "execution_count": 51
        }
      ]
    },
    {
      "cell_type": "code",
      "source": [
        "nums={'011':'SKT', '016':'KT', '019':'LGU', '010':'알수없음'}\n",
        "num = input('내용을 입력하세요: ')\n",
        "nums.get(num[0:3], '잘못 입력하셨습니다') # nums['010']"
      ],
      "metadata": {
        "colab": {
          "base_uri": "https://localhost:8080/",
          "height": 54
        },
        "id": "hV9bBJXILxFK",
        "outputId": "e6594a00-bc0f-4be1-9695-8d74b501387f"
      },
      "execution_count": null,
      "outputs": [
        {
          "name": "stdout",
          "output_type": "stream",
          "text": [
            "내용을 입력하세요: 031-1234-5678\n"
          ]
        },
        {
          "output_type": "execute_result",
          "data": {
            "text/plain": [
              "'잘못 입력하셨습니다'"
            ],
            "application/vnd.google.colaboratory.intrinsic+json": {
              "type": "string"
            }
          },
          "metadata": {},
          "execution_count": 60
        }
      ]
    },
    {
      "cell_type": "code",
      "source": [
        "num = input('내용을 입력하세요: ')\n",
        "num[0:3]"
      ],
      "metadata": {
        "colab": {
          "base_uri": "https://localhost:8080/",
          "height": 54
        },
        "id": "Scb3TaE7LUna",
        "outputId": "4993f9c2-d68d-4c6d-d6d1-fb34c9c40e01"
      },
      "execution_count": null,
      "outputs": [
        {
          "name": "stdout",
          "output_type": "stream",
          "text": [
            "내용을 입력하세요: 010-2345-6789\n"
          ]
        },
        {
          "output_type": "execute_result",
          "data": {
            "text/plain": [
              "'010-'"
            ],
            "application/vnd.google.colaboratory.intrinsic+json": {
              "type": "string"
            }
          },
          "metadata": {},
          "execution_count": 53
        }
      ]
    },
    {
      "cell_type": "code",
      "source": [
        "nums={'011':'SKT', '016':'KT', '019':'LGU', '010':'알수없음'}\n",
        "print(nums[input()[:3]])"
      ],
      "metadata": {
        "id": "_QapzlaaDsJG",
        "colab": {
          "base_uri": "https://localhost:8080/",
          "height": 211
        },
        "outputId": "7b68ae32-1adc-46d0-b145-f786965fa096"
      },
      "execution_count": null,
      "outputs": [
        {
          "name": "stdout",
          "output_type": "stream",
          "text": [
            "031-820-1234\n"
          ]
        },
        {
          "output_type": "error",
          "ename": "KeyError",
          "evalue": "ignored",
          "traceback": [
            "\u001b[0;31m---------------------------------------------------------------------------\u001b[0m",
            "\u001b[0;31mKeyError\u001b[0m                                  Traceback (most recent call last)",
            "\u001b[0;32m<ipython-input-58-d538ca647e3e>\u001b[0m in \u001b[0;36m<cell line: 2>\u001b[0;34m()\u001b[0m\n\u001b[1;32m      1\u001b[0m \u001b[0mnums\u001b[0m\u001b[0;34m=\u001b[0m\u001b[0;34m{\u001b[0m\u001b[0;34m'011'\u001b[0m\u001b[0;34m:\u001b[0m\u001b[0;34m'SKT'\u001b[0m\u001b[0;34m,\u001b[0m \u001b[0;34m'016'\u001b[0m\u001b[0;34m:\u001b[0m\u001b[0;34m'KT'\u001b[0m\u001b[0;34m,\u001b[0m \u001b[0;34m'019'\u001b[0m\u001b[0;34m:\u001b[0m\u001b[0;34m'LGU'\u001b[0m\u001b[0;34m,\u001b[0m \u001b[0;34m'010'\u001b[0m\u001b[0;34m:\u001b[0m\u001b[0;34m'알수없음'\u001b[0m\u001b[0;34m}\u001b[0m\u001b[0;34m\u001b[0m\u001b[0;34m\u001b[0m\u001b[0m\n\u001b[0;32m----> 2\u001b[0;31m \u001b[0mprint\u001b[0m\u001b[0;34m(\u001b[0m\u001b[0mnums\u001b[0m\u001b[0;34m[\u001b[0m\u001b[0minput\u001b[0m\u001b[0;34m(\u001b[0m\u001b[0;34m)\u001b[0m\u001b[0;34m[\u001b[0m\u001b[0;34m:\u001b[0m\u001b[0;36m3\u001b[0m\u001b[0;34m]\u001b[0m\u001b[0;34m]\u001b[0m\u001b[0;34m)\u001b[0m\u001b[0;34m\u001b[0m\u001b[0;34m\u001b[0m\u001b[0m\n\u001b[0m",
            "\u001b[0;31mKeyError\u001b[0m: '031'"
          ]
        }
      ]
    },
    {
      "cell_type": "code",
      "source": [
        "number = input(\"phonenumber : \")\n",
        "n = number[:3]\n",
        "if '011' in n:\n",
        "      print (\"SKT\")\n",
        "elif '016' in n:\n",
        "      print (\"KT\")\n",
        "elif '019' in n:\n",
        "      print (\"LGU\")\n",
        "else:\n",
        "      print(\"알수없음\")"
      ],
      "metadata": {
        "id": "EdmmzFbTLBYZ"
      },
      "execution_count": null,
      "outputs": []
    },
    {
      "cell_type": "markdown",
      "source": [
        "#### 12. 한영사전 만들기\n",
        "\n",
        "아래의 fruits 딕셔너리를 참조하여\n",
        "- 사용자로부터 한글로 과일 이름을 입력받고\n",
        "- 사용자가 입력한 과일이 fruits 딕셔너리의 key값에 있을 경우 해당 key의 value 값을,\n",
        "- 없을 경우 '사전에 없는 단어입니다'를 출력하도록 프로그래밍하세요.\n",
        "```\n",
        "fruits = {'사과': 'Apple', '바나나': 'Banana', '딸기': 'Strawberry'}\n"
      ],
      "metadata": {
        "id": "OXEgavPpC-bd"
      }
    },
    {
      "cell_type": "code",
      "source": [
        "fruits = {'사과': 'Apple', '바나나': 'Banana', '딸기': 'Strawberry'}\n",
        "key_ = input('영어 단어를 알고 싶은 과일명을 입력하세요.')\n",
        "fruits.get(key_, '사전에 없는 단어입니다.')"
      ],
      "metadata": {
        "id": "0u539Oy_C0Xe",
        "colab": {
          "base_uri": "https://localhost:8080/",
          "height": 54
        },
        "outputId": "46606e95-2807-4b4e-c208-8bf6753da9c2"
      },
      "execution_count": null,
      "outputs": [
        {
          "name": "stdout",
          "output_type": "stream",
          "text": [
            "영어 단어를 알고 싶은 과일명을 입력하세요.멜론\n"
          ]
        },
        {
          "output_type": "execute_result",
          "data": {
            "text/plain": [
              "'사전에 없는 단어입니다.'"
            ],
            "application/vnd.google.colaboratory.intrinsic+json": {
              "type": "string"
            }
          },
          "metadata": {},
          "execution_count": 62
        }
      ]
    },
    {
      "cell_type": "code",
      "source": [
        "fruits"
      ],
      "metadata": {
        "id": "y9o_Aaabe6Qr",
        "colab": {
          "base_uri": "https://localhost:8080/"
        },
        "outputId": "61682647-ac76-441c-c070-93b769c2b85c"
      },
      "execution_count": null,
      "outputs": [
        {
          "output_type": "execute_result",
          "data": {
            "text/plain": [
              "{'사과': 'Apple', '바나나': 'Banana', '딸기': 'Strawberry'}"
            ]
          },
          "metadata": {},
          "execution_count": 63
        }
      ]
    },
    {
      "cell_type": "code",
      "source": [
        "fruit = input(\"과일 이름: \")\n",
        "fruits.setdefault(fruit, '사전에 없는 단어입니다')"
      ],
      "metadata": {
        "colab": {
          "base_uri": "https://localhost:8080/",
          "height": 54
        },
        "id": "Lmd7mIa-NAdb",
        "outputId": "07aebae9-e085-469c-b055-88f54cef387d"
      },
      "execution_count": null,
      "outputs": [
        {
          "name": "stdout",
          "output_type": "stream",
          "text": [
            "과일 이름: 딸기\n"
          ]
        },
        {
          "output_type": "execute_result",
          "data": {
            "text/plain": [
              "'Strawberry'"
            ],
            "application/vnd.google.colaboratory.intrinsic+json": {
              "type": "string"
            }
          },
          "metadata": {},
          "execution_count": 64
        }
      ]
    },
    {
      "cell_type": "code",
      "source": [
        "fruit = input(\"과일 이름: \")\n",
        "fruits.setdefault(fruit, '사전에 없는 단어입니다')"
      ],
      "metadata": {
        "colab": {
          "base_uri": "https://localhost:8080/",
          "height": 54
        },
        "id": "wiEluSeeNIDH",
        "outputId": "5f1c7d22-93de-4e88-b621-9e3873c3e3a2"
      },
      "execution_count": null,
      "outputs": [
        {
          "name": "stdout",
          "output_type": "stream",
          "text": [
            "과일 이름: 멜론\n"
          ]
        },
        {
          "output_type": "execute_result",
          "data": {
            "text/plain": [
              "'사전에 없는 단어입니다'"
            ],
            "application/vnd.google.colaboratory.intrinsic+json": {
              "type": "string"
            }
          },
          "metadata": {},
          "execution_count": 65
        }
      ]
    },
    {
      "cell_type": "code",
      "source": [
        "fruits"
      ],
      "metadata": {
        "colab": {
          "base_uri": "https://localhost:8080/"
        },
        "id": "6QcESdZNNLcQ",
        "outputId": "5d62342e-89b4-4784-88bb-b25013fc9066"
      },
      "execution_count": null,
      "outputs": [
        {
          "output_type": "execute_result",
          "data": {
            "text/plain": [
              "{'사과': 'Apple', '바나나': 'Banana', '딸기': 'Strawberry', '멜론': '사전에 없는 단어입니다'}"
            ]
          },
          "metadata": {},
          "execution_count": 66
        }
      ]
    },
    {
      "cell_type": "markdown",
      "source": [
        "### 13. range메소드를 활용하여 101부터 201까지의 정수 중 짝수만 저장된 튜플 evens를 생성해주세요.\n"
      ],
      "metadata": {
        "id": "hdQU_HMK3vXg"
      }
    },
    {
      "cell_type": "code",
      "source": [
        "# range(시작점, 끝점+1, step)\n",
        "test = range(102, 201, 2)\n",
        "evens = tuple(test)\n",
        "evens"
      ],
      "metadata": {
        "id": "1FHJ6C6I3XvY",
        "colab": {
          "base_uri": "https://localhost:8080/"
        },
        "outputId": "7c1dab81-5a6f-45c2-a861-7d0cfddf27ac"
      },
      "execution_count": null,
      "outputs": [
        {
          "output_type": "execute_result",
          "data": {
            "text/plain": [
              "(102,\n",
              " 104,\n",
              " 106,\n",
              " 108,\n",
              " 110,\n",
              " 112,\n",
              " 114,\n",
              " 116,\n",
              " 118,\n",
              " 120,\n",
              " 122,\n",
              " 124,\n",
              " 126,\n",
              " 128,\n",
              " 130,\n",
              " 132,\n",
              " 134,\n",
              " 136,\n",
              " 138,\n",
              " 140,\n",
              " 142,\n",
              " 144,\n",
              " 146,\n",
              " 148,\n",
              " 150,\n",
              " 152,\n",
              " 154,\n",
              " 156,\n",
              " 158,\n",
              " 160,\n",
              " 162,\n",
              " 164,\n",
              " 166,\n",
              " 168,\n",
              " 170,\n",
              " 172,\n",
              " 174,\n",
              " 176,\n",
              " 178,\n",
              " 180,\n",
              " 182,\n",
              " 184,\n",
              " 186,\n",
              " 188,\n",
              " 190,\n",
              " 192,\n",
              " 194,\n",
              " 196,\n",
              " 198,\n",
              " 200)"
            ]
          },
          "metadata": {},
          "execution_count": 70
        }
      ]
    },
    {
      "cell_type": "code",
      "source": [
        "type(evens)\n",
        "# 짝수 : even, 홀수: odd"
      ],
      "metadata": {
        "colab": {
          "base_uri": "https://localhost:8080/"
        },
        "id": "aVGNdL0YN_EN",
        "outputId": "5c85c1df-8dac-4082-d828-e755af56aabf"
      },
      "execution_count": null,
      "outputs": [
        {
          "output_type": "execute_result",
          "data": {
            "text/plain": [
              "tuple"
            ]
          },
          "metadata": {},
          "execution_count": 71
        }
      ]
    },
    {
      "cell_type": "markdown",
      "source": [
        "# 1. 수업"
      ],
      "metadata": {
        "id": "3ag0aKwUmWGQ"
      }
    },
    {
      "cell_type": "code",
      "source": [
        "a = 1\n",
        "id(a)"
      ],
      "metadata": {
        "id": "O6p2NG-UlzRc",
        "colab": {
          "base_uri": "https://localhost:8080/"
        },
        "outputId": "fea0e636-0b97-4fa8-8ff1-438f127665ae"
      },
      "execution_count": null,
      "outputs": [
        {
          "output_type": "execute_result",
          "data": {
            "text/plain": [
              "140702293408048"
            ]
          },
          "metadata": {},
          "execution_count": 74
        }
      ]
    },
    {
      "cell_type": "code",
      "source": [
        "id(1)"
      ],
      "metadata": {
        "colab": {
          "base_uri": "https://localhost:8080/"
        },
        "id": "I2N-Or2DOiCD",
        "outputId": "cbb28402-871e-4b3f-ccaa-03c5dcd61fc8"
      },
      "execution_count": null,
      "outputs": [
        {
          "output_type": "execute_result",
          "data": {
            "text/plain": [
              "140702293408048"
            ]
          },
          "metadata": {},
          "execution_count": 75
        }
      ]
    },
    {
      "cell_type": "code",
      "source": [
        "id('김연지')"
      ],
      "metadata": {
        "colab": {
          "base_uri": "https://localhost:8080/"
        },
        "id": "CNwcJob8OtIj",
        "outputId": "dace4bf6-85dc-4f66-b41b-c3372a0d706e"
      },
      "execution_count": null,
      "outputs": [
        {
          "output_type": "execute_result",
          "data": {
            "text/plain": [
              "140701027281872"
            ]
          },
          "metadata": {},
          "execution_count": 76
        }
      ]
    },
    {
      "cell_type": "code",
      "source": [
        "b = '김연지'\n",
        "id(b)"
      ],
      "metadata": {
        "colab": {
          "base_uri": "https://localhost:8080/"
        },
        "id": "Qhc9dsOLOwIx",
        "outputId": "1c13a4bc-87cc-4634-89a0-18d9c68572a4"
      },
      "execution_count": null,
      "outputs": [
        {
          "output_type": "execute_result",
          "data": {
            "text/plain": [
              "140701027015056"
            ]
          },
          "metadata": {},
          "execution_count": 77
        }
      ]
    },
    {
      "cell_type": "markdown",
      "source": [
        "- 파이썬은 데이터분석에 많이 쓰는 언어이지만 테이터분석을 위해 만들어진 언어는 아닙니다.\n",
        "- 기본 파이썬은 91년에 만들어졌기 때문에 메모리를 절약하는 방식으로 만들어져 있습니다.\n",
        "- 그래서 복사를 할 때 기본적으로 '얕은 복사(Shallow Copy)'를 차용합니다.\n",
        "- 근데 데이터를 다룰 때는 원본이 너무나 중요합니다. 그런 경우에는 직접 copy라는 모듈을 import 해서 사용해야 합니다. deepcopy라는 명령어로 새로 방을 파서 원본과 똑같은 사본을 만드는 작업을 합니다. '깊은 복사(Deep Copy)'라고 부릅니다."
      ],
      "metadata": {
        "id": "ZHVgubSzO3GP"
      }
    },
    {
      "cell_type": "markdown",
      "source": [
        "# 복사\n",
        "- 얕은 복사(shallow copy), 깊은 복사(deep copy)가 있습니다.\n",
        "  - 주소복사, 값 복사라고 표현하기도 합니다."
      ],
      "metadata": {
        "id": "axoY5MsL_3dn"
      }
    },
    {
      "cell_type": "code",
      "source": [
        " arr = [10, 20, 30]\n",
        " # arr의 내용을 copy1이라는 새로운 변수명을 가진 리스트로 복사해주세요"
      ],
      "metadata": {
        "id": "mojCgh799-_j"
      },
      "execution_count": null,
      "outputs": []
    },
    {
      "cell_type": "code",
      "source": [
        "copy1 = arr"
      ],
      "metadata": {
        "id": "9oOMD4ezANTP"
      },
      "execution_count": null,
      "outputs": []
    },
    {
      "cell_type": "code",
      "source": [
        "copy2 = copy1"
      ],
      "metadata": {
        "id": "JnqE1dOTQxjB"
      },
      "execution_count": null,
      "outputs": []
    },
    {
      "cell_type": "code",
      "source": [
        "id(arr), id(copy1), id(copy2)"
      ],
      "metadata": {
        "id": "v_r_4oyuAOQY",
        "colab": {
          "base_uri": "https://localhost:8080/"
        },
        "outputId": "85803356-fc71-48bb-fac5-72341d8aa837"
      },
      "execution_count": null,
      "outputs": [
        {
          "output_type": "execute_result",
          "data": {
            "text/plain": [
              "(140701027339712, 140701027339712, 140701027339712)"
            ]
          },
          "metadata": {},
          "execution_count": 83
        }
      ]
    },
    {
      "cell_type": "code",
      "source": [
        "arr[0] = 100"
      ],
      "metadata": {
        "id": "I6H2wY3DQw_V"
      },
      "execution_count": null,
      "outputs": []
    },
    {
      "cell_type": "code",
      "source": [
        "arr"
      ],
      "metadata": {
        "colab": {
          "base_uri": "https://localhost:8080/"
        },
        "id": "73nbQ1r2RFbL",
        "outputId": "fec34f1c-f9f0-4440-aa98-cd14d16a8ce3"
      },
      "execution_count": null,
      "outputs": [
        {
          "output_type": "execute_result",
          "data": {
            "text/plain": [
              "[100, 20, 30]"
            ]
          },
          "metadata": {},
          "execution_count": 86
        }
      ]
    },
    {
      "cell_type": "code",
      "source": [
        "copy1"
      ],
      "metadata": {
        "colab": {
          "base_uri": "https://localhost:8080/"
        },
        "id": "WwrCslVIRGYx",
        "outputId": "1d65ab28-ed7a-4e64-ac43-3970896b5c6f"
      },
      "execution_count": null,
      "outputs": [
        {
          "output_type": "execute_result",
          "data": {
            "text/plain": [
              "[100, 20, 30]"
            ]
          },
          "metadata": {},
          "execution_count": 87
        }
      ]
    },
    {
      "cell_type": "code",
      "source": [
        "copy2"
      ],
      "metadata": {
        "colab": {
          "base_uri": "https://localhost:8080/"
        },
        "id": "ssrd4PEHRIMI",
        "outputId": "df521921-e5d1-45c5-afa2-834532cacd25"
      },
      "execution_count": null,
      "outputs": [
        {
          "output_type": "execute_result",
          "data": {
            "text/plain": [
              "[100, 20, 30]"
            ]
          },
          "metadata": {},
          "execution_count": 88
        }
      ]
    },
    {
      "cell_type": "markdown",
      "source": [
        "## 얕은복사/ 주소복사\n",
        "- 변수 이름은 다르지만 결국 동일한 주소를 나타내는 경우\n",
        "- 결국 두 변수는 같은 변수나 다름없습니다\n",
        "- 메모리값이 같으니까요 (2개 이상 얼마든지... 메모리값을 참조할 뿐입니다)\n",
        "  - 공간 효율성, 메모리 효율성 때문입니다.\n",
        "  - 전체 값을 항상 메모리에 복사면 그만큼 속도가 느려지고 메모리도 공간이 부족해집니다.\n",
        "  - 파이썬은 주소를 복사해서 사용하는 얕은 복사를 기본 복사로 차용을 하고 있습니다."
      ],
      "metadata": {
        "id": "210tIPrVAnox"
      }
    },
    {
      "cell_type": "code",
      "source": [
        "a = '김연지'"
      ],
      "metadata": {
        "id": "sCEYqwijAiR4"
      },
      "execution_count": null,
      "outputs": []
    },
    {
      "cell_type": "code",
      "source": [
        "b = a"
      ],
      "metadata": {
        "id": "U5pyILtIBKDw"
      },
      "execution_count": null,
      "outputs": []
    },
    {
      "cell_type": "code",
      "source": [],
      "metadata": {
        "id": "EGSNVby_RnGB"
      },
      "execution_count": null,
      "outputs": []
    },
    {
      "cell_type": "code",
      "source": [
        "id(a), id(b)"
      ],
      "metadata": {
        "id": "uBKA9RMoIAF0",
        "colab": {
          "base_uri": "https://localhost:8080/"
        },
        "outputId": "42967b7e-18ee-4c50-93ef-c9c26bc62585"
      },
      "execution_count": null,
      "outputs": [
        {
          "output_type": "execute_result",
          "data": {
            "text/plain": [
              "(140701027186032, 140701027186032)"
            ]
          },
          "metadata": {},
          "execution_count": 91
        }
      ]
    },
    {
      "cell_type": "code",
      "source": [
        "b = '신짱구'"
      ],
      "metadata": {
        "id": "56eAdZgzIDHi"
      },
      "execution_count": null,
      "outputs": []
    },
    {
      "cell_type": "code",
      "source": [
        "id(a), id(b)"
      ],
      "metadata": {
        "id": "1KBOTWjKBMyA",
        "colab": {
          "base_uri": "https://localhost:8080/"
        },
        "outputId": "2941e6d9-dfb2-405c-b48c-2fec0fb93436"
      },
      "execution_count": null,
      "outputs": [
        {
          "output_type": "execute_result",
          "data": {
            "text/plain": [
              "(140701027186032, 140701027222032)"
            ]
          },
          "metadata": {},
          "execution_count": 93
        }
      ]
    },
    {
      "cell_type": "code",
      "source": [
        "a, b"
      ],
      "metadata": {
        "id": "ZwnRqPp5BRi4",
        "colab": {
          "base_uri": "https://localhost:8080/"
        },
        "outputId": "fa091327-eaaf-46b2-e23a-2635db1ca20c"
      },
      "execution_count": null,
      "outputs": [
        {
          "output_type": "execute_result",
          "data": {
            "text/plain": [
              "('김연지', '신짱구')"
            ]
          },
          "metadata": {},
          "execution_count": 94
        }
      ]
    },
    {
      "cell_type": "code",
      "source": [],
      "metadata": {
        "id": "HV0Z3taoBWSp"
      },
      "execution_count": null,
      "outputs": []
    },
    {
      "cell_type": "markdown",
      "source": [
        "# int, float, bool 값 자체가 복사가 됩니다.\n",
        "# 시퀀스 타입은 전부 얕은 복사(메모리주소)가 복사가 되는 게 기본입니다."
      ],
      "metadata": {
        "id": "keST3AGzCalj"
      }
    },
    {
      "cell_type": "code",
      "source": [
        "arr"
      ],
      "metadata": {
        "id": "rO21ajAQB-Ai",
        "colab": {
          "base_uri": "https://localhost:8080/"
        },
        "outputId": "760b6d2d-ba82-4477-e652-cda33d5c2f82"
      },
      "execution_count": null,
      "outputs": [
        {
          "output_type": "execute_result",
          "data": {
            "text/plain": [
              "[100, 20, 30]"
            ]
          },
          "metadata": {},
          "execution_count": 95
        }
      ]
    },
    {
      "cell_type": "code",
      "source": [
        "copy1 = arr[1:]"
      ],
      "metadata": {
        "id": "Cn3PwJBcIS-T"
      },
      "execution_count": null,
      "outputs": []
    },
    {
      "cell_type": "code",
      "source": [
        "id(arr), id(copy1)"
      ],
      "metadata": {
        "id": "x3Ry5-hmCmdJ",
        "colab": {
          "base_uri": "https://localhost:8080/"
        },
        "outputId": "ddb54c1c-d976-4c9f-9e0c-bdfb5eb40fa8"
      },
      "execution_count": null,
      "outputs": [
        {
          "output_type": "execute_result",
          "data": {
            "text/plain": [
              "(140701027339712, 140701027060736)"
            ]
          },
          "metadata": {},
          "execution_count": 97
        }
      ]
    },
    {
      "cell_type": "code",
      "source": [
        "copy1[1] = 200"
      ],
      "metadata": {
        "id": "jcNTjU2YCrmo"
      },
      "execution_count": null,
      "outputs": []
    },
    {
      "cell_type": "code",
      "source": [
        "id(arr), id(copy1)"
      ],
      "metadata": {
        "id": "Kg29GK_PCpXA",
        "colab": {
          "base_uri": "https://localhost:8080/"
        },
        "outputId": "5d3d6730-6b2b-450b-8fe2-541657bae370"
      },
      "execution_count": null,
      "outputs": [
        {
          "output_type": "execute_result",
          "data": {
            "text/plain": [
              "(140701027339712, 140701027060736)"
            ]
          },
          "metadata": {},
          "execution_count": 99
        }
      ]
    },
    {
      "cell_type": "code",
      "source": [
        "arr"
      ],
      "metadata": {
        "id": "QaCOBcswCvM_",
        "colab": {
          "base_uri": "https://localhost:8080/"
        },
        "outputId": "1874f1a7-e85c-42b4-bb92-d31d5e6643d5"
      },
      "execution_count": null,
      "outputs": [
        {
          "output_type": "execute_result",
          "data": {
            "text/plain": [
              "[100, 20, 30]"
            ]
          },
          "metadata": {},
          "execution_count": 100
        }
      ]
    },
    {
      "cell_type": "code",
      "source": [
        "copy1"
      ],
      "metadata": {
        "id": "_03xFGdVC4oJ",
        "colab": {
          "base_uri": "https://localhost:8080/"
        },
        "outputId": "86c5dc2c-3b43-417b-ec94-ef2d8a436411"
      },
      "execution_count": null,
      "outputs": [
        {
          "output_type": "execute_result",
          "data": {
            "text/plain": [
              "[20, 200]"
            ]
          },
          "metadata": {},
          "execution_count": 101
        }
      ]
    },
    {
      "cell_type": "markdown",
      "source": [
        "- 슬라이싱하면 값 제대로 바뀌고 원본도 보존되는 거 같은데 왜 얕은 복사라고 부르는 걸까??\n",
        "- 차원을 하나 더 깊게 들어가면 여전히 메모리 주소를 복사하기 때문입니다."
      ],
      "metadata": {
        "id": "MXhiqK7pDYW3"
      }
    },
    {
      "cell_type": "code",
      "source": [
        "arr2D = ['Hello', 'Bye', 'Hi', ['Goodnight', 'Goodmorning', 'Goodafternoon']]"
      ],
      "metadata": {
        "id": "kSx51EtXDKH4"
      },
      "execution_count": null,
      "outputs": []
    },
    {
      "cell_type": "code",
      "source": [
        "arr2dCopy = arr2D"
      ],
      "metadata": {
        "id": "0Nrubk0rDypC"
      },
      "execution_count": null,
      "outputs": []
    },
    {
      "cell_type": "code",
      "source": [
        "arr2dCopy[2] = 'hi'"
      ],
      "metadata": {
        "id": "0XWC5dQ4D2EP"
      },
      "execution_count": null,
      "outputs": []
    },
    {
      "cell_type": "code",
      "source": [
        "arr2dCopy"
      ],
      "metadata": {
        "id": "QI7P3m3KD9G4",
        "colab": {
          "base_uri": "https://localhost:8080/"
        },
        "outputId": "a27fe874-6188-4bec-f0b9-be7f6a4bc36b"
      },
      "execution_count": null,
      "outputs": [
        {
          "output_type": "execute_result",
          "data": {
            "text/plain": [
              "['Hello', 'Bye', 'hi', ['Goodnight', 'Goodmorning', 'Goodafternoon']]"
            ]
          },
          "metadata": {},
          "execution_count": 105
        }
      ]
    },
    {
      "cell_type": "code",
      "source": [
        "arr2D"
      ],
      "metadata": {
        "id": "zbsyGM0XECwZ",
        "colab": {
          "base_uri": "https://localhost:8080/"
        },
        "outputId": "1ac9ec4d-dad6-4eb9-ef24-0a3d05d416f6"
      },
      "execution_count": null,
      "outputs": [
        {
          "output_type": "execute_result",
          "data": {
            "text/plain": [
              "['Hello', 'Bye', 'hi', ['Goodnight', 'Goodmorning', 'Goodafternoon']]"
            ]
          },
          "metadata": {},
          "execution_count": 108
        }
      ]
    },
    {
      "cell_type": "code",
      "source": [
        "arr2dCopySlice = arr2dCopy[2:5]"
      ],
      "metadata": {
        "id": "ETvMQVntENSJ"
      },
      "execution_count": null,
      "outputs": []
    },
    {
      "cell_type": "code",
      "source": [
        "arr2dCopySlice"
      ],
      "metadata": {
        "id": "u2926_usEUiP",
        "colab": {
          "base_uri": "https://localhost:8080/"
        },
        "outputId": "eca99306-1770-46e9-a573-51824269b1c5"
      },
      "execution_count": null,
      "outputs": [
        {
          "output_type": "execute_result",
          "data": {
            "text/plain": [
              "['hi', ['Goodnight', 'Goodmorning', 'Goodafternoon']]"
            ]
          },
          "metadata": {},
          "execution_count": 110
        }
      ]
    },
    {
      "cell_type": "code",
      "source": [
        "id(arr2D), id(arr2dCopy), id(arr2dCopySlice)"
      ],
      "metadata": {
        "id": "6WnWT_ux3WH9",
        "colab": {
          "base_uri": "https://localhost:8080/"
        },
        "outputId": "b7b19b95-572a-49cd-bda9-5ba941886751"
      },
      "execution_count": null,
      "outputs": [
        {
          "output_type": "execute_result",
          "data": {
            "text/plain": [
              "(140701010145536, 140701010145536, 140701027037120)"
            ]
          },
          "metadata": {},
          "execution_count": 111
        }
      ]
    },
    {
      "cell_type": "code",
      "source": [
        "arr2dCopySlice[0] = 'HI'"
      ],
      "metadata": {
        "id": "xJ-lLvTA3bIu"
      },
      "execution_count": null,
      "outputs": []
    },
    {
      "cell_type": "code",
      "source": [
        "arr2dCopySlice"
      ],
      "metadata": {
        "colab": {
          "base_uri": "https://localhost:8080/"
        },
        "id": "EW5MqXmsWJtU",
        "outputId": "5c9fd2e9-dab9-4bc5-d003-f654edc5f968"
      },
      "execution_count": null,
      "outputs": [
        {
          "output_type": "execute_result",
          "data": {
            "text/plain": [
              "['HI', ['Goodnight', 'Goodmorning', 'Goodafternoon']]"
            ]
          },
          "metadata": {},
          "execution_count": 114
        }
      ]
    },
    {
      "cell_type": "code",
      "source": [
        "arr2dCopy"
      ],
      "metadata": {
        "id": "eTfWQkjJ3eSc",
        "colab": {
          "base_uri": "https://localhost:8080/"
        },
        "outputId": "784fa587-ee33-4053-cd54-bda12b5d79f9"
      },
      "execution_count": null,
      "outputs": [
        {
          "output_type": "execute_result",
          "data": {
            "text/plain": [
              "['Hello', 'Bye', 'hi', ['Goodnight', 'Goodmorning', 'Goodafternoon']]"
            ]
          },
          "metadata": {},
          "execution_count": 115
        }
      ]
    },
    {
      "cell_type": "code",
      "source": [
        "arr2dCopySlice[1][0] = 'night'"
      ],
      "metadata": {
        "id": "Qrl33d0nWOrl"
      },
      "execution_count": null,
      "outputs": []
    },
    {
      "cell_type": "code",
      "source": [
        "arr2dCopySlice"
      ],
      "metadata": {
        "colab": {
          "base_uri": "https://localhost:8080/"
        },
        "id": "13YECiAfWVLH",
        "outputId": "727402b0-0f89-4b18-d24d-0dad509b55d9"
      },
      "execution_count": null,
      "outputs": [
        {
          "output_type": "execute_result",
          "data": {
            "text/plain": [
              "['HI', ['night', 'Goodmorning', 'Goodafternoon']]"
            ]
          },
          "metadata": {},
          "execution_count": 117
        }
      ]
    },
    {
      "cell_type": "code",
      "source": [
        "arr2dCopy"
      ],
      "metadata": {
        "colab": {
          "base_uri": "https://localhost:8080/"
        },
        "id": "-GuEXmK5WWDy",
        "outputId": "833d0641-1933-4fdd-c5e1-038c5e6913bb"
      },
      "execution_count": null,
      "outputs": [
        {
          "output_type": "execute_result",
          "data": {
            "text/plain": [
              "['Hello', 'Bye', 'hi', ['night', 'Goodmorning', 'Goodafternoon']]"
            ]
          },
          "metadata": {},
          "execution_count": 118
        }
      ]
    },
    {
      "cell_type": "code",
      "source": [
        "arr2D"
      ],
      "metadata": {
        "colab": {
          "base_uri": "https://localhost:8080/"
        },
        "id": "RTJ328FgWYMH",
        "outputId": "f4f56831-be68-4cdd-bf5a-569f476cc2cc"
      },
      "execution_count": null,
      "outputs": [
        {
          "output_type": "execute_result",
          "data": {
            "text/plain": [
              "['Hello', 'Bye', 'hi', ['night', 'Goodmorning', 'Goodafternoon']]"
            ]
          },
          "metadata": {},
          "execution_count": 119
        }
      ]
    },
    {
      "cell_type": "markdown",
      "source": [
        "# 깊은복사\n",
        "- 파이썬에서는 깊은 복사라는 다른 방법을 제공해서 시퀀스타입의 깊이가 깊어질 때 메모리주소를 참조해서 원본을 훼손하는 일을 막고 있습니다.\n",
        "\n",
        "- copy라는 모듈의 deepcopy를 사용해야 합니다."
      ],
      "metadata": {
        "id": "IIZ4tKTKEeka"
      }
    },
    {
      "cell_type": "code",
      "source": [
        "import copy # copy.py 파일이 실행(메모리에 올라간다)\n",
        "\n",
        "\n",
        "arr2Ddeep = copy.deepcopy(arr2D)"
      ],
      "metadata": {
        "id": "sGsaqCVZEYGU"
      },
      "execution_count": null,
      "outputs": []
    },
    {
      "cell_type": "code",
      "source": [
        "id(arr2Ddeep), id(arr2D)"
      ],
      "metadata": {
        "id": "urKxC1STE01p",
        "colab": {
          "base_uri": "https://localhost:8080/"
        },
        "outputId": "0f5af13f-2e98-4e7e-9ccf-821e6cd8f92b"
      },
      "execution_count": null,
      "outputs": [
        {
          "output_type": "execute_result",
          "data": {
            "text/plain": [
              "(140701027284800, 140701010145536)"
            ]
          },
          "metadata": {},
          "execution_count": 121
        }
      ]
    },
    {
      "cell_type": "code",
      "source": [
        "arr2D"
      ],
      "metadata": {
        "colab": {
          "base_uri": "https://localhost:8080/"
        },
        "id": "2DrgHWs5Xsk_",
        "outputId": "f77c81ad-ea05-4db5-b874-2354dbd49f37"
      },
      "execution_count": null,
      "outputs": [
        {
          "output_type": "execute_result",
          "data": {
            "text/plain": [
              "['Hello', 'Bye', 'hi', ['night', 'Goodmorning', 'Goodafternoon']]"
            ]
          },
          "metadata": {},
          "execution_count": 126
        }
      ]
    },
    {
      "cell_type": "code",
      "source": [
        "arr2Ddeep[-1][0] = 'Good Night'"
      ],
      "metadata": {
        "id": "n4bzLe4IE8TJ"
      },
      "execution_count": null,
      "outputs": []
    },
    {
      "cell_type": "code",
      "source": [
        "arr2Ddeep"
      ],
      "metadata": {
        "id": "Sf1bNI8-FCdw",
        "colab": {
          "base_uri": "https://localhost:8080/"
        },
        "outputId": "2c7bae7d-48f8-4f05-fef8-67135009d10e"
      },
      "execution_count": null,
      "outputs": [
        {
          "output_type": "execute_result",
          "data": {
            "text/plain": [
              "['Hello', 'Bye', 'hi', ['Good Night', 'Goodmorning', 'Goodafternoon']]"
            ]
          },
          "metadata": {},
          "execution_count": 125
        }
      ]
    },
    {
      "cell_type": "code",
      "source": [
        "from copy import deepcopy\n",
        "\n",
        "arr2D = ['Hello', 'Bye', 'Hi', ['night', 'Goodmorning', 'Goodafternoon']]\n",
        "arr2Ddeep = deepcopy(arr2D)  #  copy 안 붙여도 됨\n",
        "id(arr2Ddeep), id(arr2D)\n",
        "arr2Ddeep[-1][0] = 'Goodnight'\n",
        "arr2Ddeep, arr2D"
      ],
      "metadata": {
        "id": "X8GNtqZUFHh5",
        "colab": {
          "base_uri": "https://localhost:8080/"
        },
        "outputId": "eef47fc1-e1dc-4ca5-ff5d-3a10fd05cd9e"
      },
      "execution_count": null,
      "outputs": [
        {
          "output_type": "execute_result",
          "data": {
            "text/plain": [
              "(['Hello', 'Bye', 'Hi', ['Goodnight', 'Goodmorning', 'Goodafternoon']],\n",
              " ['Hello', 'Bye', 'Hi', ['night', 'Goodmorning', 'Goodafternoon']])"
            ]
          },
          "metadata": {},
          "execution_count": 127
        }
      ]
    },
    {
      "cell_type": "code",
      "source": [
        "# 기본 파이썬에서 깊은 복사를 실행하는 방법입니다\n",
        "# 데이터관련 패키지, 모듈들은 기본적으로 딥카피를 차용하고 있다\n",
        "# 시간 vs 돈\n",
        "# 메모리(효율, 속도) vs 안정성"
      ],
      "metadata": {
        "id": "E4R1rCXsFKBI"
      },
      "execution_count": null,
      "outputs": []
    },
    {
      "cell_type": "markdown",
      "source": [
        "## 실습1 - SHALLOW COPY\n",
        "- 1 ~ 25까지의 정수 중 랜덤한 6개 숫자로 된 배열 c, d를 얕은 복사를 이용해서 2개 생성하고 배열 c의 1번 인덱스 값을 5로 각각 변경 후 출력해 보세요.\n",
        "\n",
        "참고\n",
        "```\n",
        "winner = random.sample(range(1,46), k=7)\n",
        "```"
      ],
      "metadata": {
        "id": "mTuLUCJXLEvY"
      }
    },
    {
      "cell_type": "code",
      "source": [
        "c = [1, 3, 5, 7, 9, 1]\n",
        "c1 = c\n",
        "c1[2] = 1"
      ],
      "metadata": {
        "id": "gtMSgDjuLGkJ"
      },
      "execution_count": null,
      "outputs": []
    },
    {
      "cell_type": "code",
      "source": [
        "print(c)\n",
        "print(c1)"
      ],
      "metadata": {
        "id": "FTWIKCCNQuXg",
        "colab": {
          "base_uri": "https://localhost:8080/"
        },
        "outputId": "65c84e98-58be-40ac-f577-4f0d91b277f5"
      },
      "execution_count": null,
      "outputs": [
        {
          "output_type": "stream",
          "name": "stdout",
          "text": [
            "[1, 3, 1, 7, 9, 1]\n",
            "[1, 3, 1, 7, 9, 1]\n"
          ]
        }
      ]
    },
    {
      "cell_type": "code",
      "source": [],
      "metadata": {
        "id": "pKGkTZopG8AT"
      },
      "execution_count": null,
      "outputs": []
    },
    {
      "cell_type": "markdown",
      "source": [
        "## 실습2 - DEEPCOPY\n",
        "- 1 ~ 25까지의 정수 중 랜덤한 6개 숫자로 a, b를 deepcopy를 이용해서 2개 생성하고 배열 b의 1번 인덱스 값을 5로 각각 변경 후 출력해 보세요."
      ],
      "metadata": {
        "id": "4PYm5aJfLIfa"
      }
    },
    {
      "cell_type": "markdown",
      "source": [
        "```\n",
        "- 기본자료형: 데이터 값 자체를 저장하는 형태\n",
        "    - 원본 혹은 사본이 변형되어도 다른 한쪽이 변형되지 않음\n",
        "    - ex) bool, char, int 등\n",
        "- 참조자료형 : 각자 독자적 값을 갖는 것이 아닌, 참조(reference) 주소를 공유하는 것\n",
        "    - 한 쪽이 변형되면 다른 한 쪽도 변형됨\n",
        "    - ex) list(array), class 등\n",
        "- Shallow Copy\n",
        "    - 기본형이 아닌 자료들은 참조주소값을 복사하는 것\n",
        "    - 2D-list를 얕은 복사 한 경우, 리스트 안의 기본자료형은 한쪽의 변형에 영향받지 않음\n",
        "    - 다만 내장된 list는 참조자료형이므로 같은 주소를 참조함. 따라서 한 쪽의 변형에 영향받음\n",
        "- Deep Copy\n",
        "    - 객체가 가진 모든 멤버를 복사\n",
        "    - 참조자료형을 복사하는 경우, 참조주소(reference)가 아니라 데이터 자체가 복사됨(또다른 주소에 새로 만들어짐)\n",
        "    - 따라서 한 쪽의 변형에 영향받지 않음.\n",
        "```"
      ],
      "metadata": {
        "id": "poSHYILxHci2"
      }
    },
    {
      "cell_type": "code",
      "source": [
        "import copy\n",
        "\n",
        "a = [1, 3, 5, 7, 9, 1]\n",
        "b = copy.deepcopy(a)"
      ],
      "metadata": {
        "id": "x5F5ozieLJP4"
      },
      "execution_count": null,
      "outputs": []
    },
    {
      "cell_type": "code",
      "source": [
        "a, b"
      ],
      "metadata": {
        "id": "RLwEZzvxI3Vz",
        "colab": {
          "base_uri": "https://localhost:8080/"
        },
        "outputId": "115f7874-525c-40c3-b4b6-136ccb808721"
      },
      "execution_count": null,
      "outputs": [
        {
          "output_type": "execute_result",
          "data": {
            "text/plain": [
              "([1, 3, 5, 7, 9, 1], [1, 3, 5, 7, 9, 1])"
            ]
          },
          "metadata": {},
          "execution_count": 133
        }
      ]
    },
    {
      "cell_type": "code",
      "source": [
        "id(a), id(b)"
      ],
      "metadata": {
        "colab": {
          "base_uri": "https://localhost:8080/"
        },
        "id": "Wg9KAvkka6my",
        "outputId": "f3ee338d-777a-4dde-e5c7-ca10a10d960d"
      },
      "execution_count": null,
      "outputs": [
        {
          "output_type": "execute_result",
          "data": {
            "text/plain": [
              "(140701027265152, 140701181657024)"
            ]
          },
          "metadata": {},
          "execution_count": 134
        }
      ]
    },
    {
      "cell_type": "code",
      "source": [
        "b[1] = 5"
      ],
      "metadata": {
        "id": "B--V-eUla_5W"
      },
      "execution_count": null,
      "outputs": []
    },
    {
      "cell_type": "code",
      "source": [
        "a, b"
      ],
      "metadata": {
        "colab": {
          "base_uri": "https://localhost:8080/"
        },
        "id": "kUUEDZCvbBua",
        "outputId": "88605fee-0a45-4d8d-e052-47c5bdae61e6"
      },
      "execution_count": null,
      "outputs": [
        {
          "output_type": "execute_result",
          "data": {
            "text/plain": [
              "([1, 3, 5, 7, 9, 1], [1, 5, 5, 7, 9, 1])"
            ]
          },
          "metadata": {},
          "execution_count": 136
        }
      ]
    },
    {
      "cell_type": "code",
      "source": [
        "import copy\n",
        "\n",
        "b = copy.depcopy()\n",
        "# 기본 파이썬에서 제공하는 함수가 아니기 때문에\n",
        "# 어디출신인지 밝힐 수 있도록 모듈 혹은 패키지명까지만 불러오세요\n",
        "# 권장은 합니다"
      ],
      "metadata": {
        "id": "NKHIBb8IbJDg"
      },
      "execution_count": null,
      "outputs": []
    },
    {
      "cell_type": "code",
      "source": [
        "b"
      ],
      "metadata": {
        "colab": {
          "base_uri": "https://localhost:8080/"
        },
        "id": "s9rlnpzTbkch",
        "outputId": "eef94087-b5b5-4d3f-bc8d-7073302d07f3"
      },
      "execution_count": null,
      "outputs": [
        {
          "output_type": "execute_result",
          "data": {
            "text/plain": [
              "[1, 3, 5, 7, 9, 1]"
            ]
          },
          "metadata": {},
          "execution_count": 138
        }
      ]
    },
    {
      "cell_type": "code",
      "source": [
        "from copy import deepcopy\n",
        "\n",
        "b = deepcopy(a)"
      ],
      "metadata": {
        "id": "UmqREbQSbZ-u"
      },
      "execution_count": null,
      "outputs": []
    },
    {
      "cell_type": "code",
      "source": [
        "b"
      ],
      "metadata": {
        "colab": {
          "base_uri": "https://localhost:8080/"
        },
        "id": "TW7-osSZbnxe",
        "outputId": "b9fe5355-614e-41bc-8423-7e268bfc6ec5"
      },
      "execution_count": null,
      "outputs": [
        {
          "output_type": "execute_result",
          "data": {
            "text/plain": [
              "[1, 3, 5, 7, 9, 1]"
            ]
          },
          "metadata": {},
          "execution_count": 140
        }
      ]
    },
    {
      "cell_type": "code",
      "source": [
        "list(range(1,26))"
      ],
      "metadata": {
        "colab": {
          "base_uri": "https://localhost:8080/"
        },
        "id": "GANIBx4EiIF7",
        "outputId": "a36d8120-9d3a-48f3-ee29-4c1b2d100f98"
      },
      "execution_count": null,
      "outputs": [
        {
          "output_type": "execute_result",
          "data": {
            "text/plain": [
              "[1,\n",
              " 2,\n",
              " 3,\n",
              " 4,\n",
              " 5,\n",
              " 6,\n",
              " 7,\n",
              " 8,\n",
              " 9,\n",
              " 10,\n",
              " 11,\n",
              " 12,\n",
              " 13,\n",
              " 14,\n",
              " 15,\n",
              " 16,\n",
              " 17,\n",
              " 18,\n",
              " 19,\n",
              " 20,\n",
              " 21,\n",
              " 22,\n",
              " 23,\n",
              " 24,\n",
              " 25]"
            ]
          },
          "metadata": {},
          "execution_count": 144
        }
      ]
    },
    {
      "cell_type": "code",
      "source": [
        "import random\n",
        "\n",
        "# 6개의 임의의 1~25 사이의 정수를 뽑아보세요\n",
        "random.sample(range(1,26), k=6)"
      ],
      "metadata": {
        "id": "VN5iTA18bpoi",
        "colab": {
          "base_uri": "https://localhost:8080/"
        },
        "outputId": "a13fbd36-f2ca-43e0-a13b-db74889f8e64"
      },
      "execution_count": null,
      "outputs": [
        {
          "output_type": "execute_result",
          "data": {
            "text/plain": [
              "[11, 17, 18, 8, 12, 3]"
            ]
          },
          "metadata": {},
          "execution_count": 142
        }
      ]
    },
    {
      "cell_type": "markdown",
      "source": [
        "# 제어문\n",
        "- 대부분의 언어가 유사합니다.\n",
        "- 조건문, 반복문\n",
        "- 위의 2가지로 전체 코드의 실행 흐름을 제어합니다.\n",
        "\n",
        "- 프로그래밍은 저 두개가 전부죠. 저 두개를 어떻게 잘 섞고 어떻게 간략하게 만드느냐가 알고리즘\n",
        "- 연습을 많이 하셔야 합니다. 그냥 볼때랑은 많이 다르더라구요.\n",
        "- 울지 마시구요....\n",
        "\n",
        "\n",
        "# 조건문(분기문)\n",
        "- 다른 언어에서는 if문과 switch문 2가지가 있습니다.\n",
        "- 파이썬은 3.9 버전까지는 if문 하나만 제공을 합니다.\n",
        "  - 쉽죠. if문 하나만 있으니까\n",
        "  - 파이썬의 철학 기억나시죠?\n",
        "```\n",
        "if 명제:\n",
        "[들여쓰기]명령어들\n",
        "```\n",
        "- 명제 : 그 내용이 참인지 거짓인지를 명확하게 판별할 수 있는 문장이나 식\n",
        "\n",
        "① 참인 명제 : 내용이 항상 옳은 명제\n",
        "\n",
        "② 거짓인 명제 : 내용에 대하여 한 가지라도 옳지 않은 경우가 있는 명제"
      ],
      "metadata": {
        "id": "H9omkUl7Rqph"
      }
    },
    {
      "cell_type": "code",
      "source": [
        "if False:\n",
        "    print('참입니다')"
      ],
      "metadata": {
        "id": "jbi_aaE_PVX6"
      },
      "execution_count": null,
      "outputs": []
    },
    {
      "cell_type": "markdown",
      "source": [
        "#### 1. 아래 출력결과를 예상해보시고 실제로 출력해보세요. 주석으로 왜 이런 결과가 나오는지도 설명을 달아주세요.\n",
        "\n",
        "```\n",
        "if True :\n",
        "    print (\"1\")\n",
        "    print (\"2\")\n",
        "else :\n",
        "    print(\"3\")\n",
        "print(\"4\")\n",
        "```"
      ],
      "metadata": {
        "id": "mnBMilKpCYuo"
      }
    },
    {
      "cell_type": "code",
      "source": [
        "if True :\n",
        "    print (\"1\")\n",
        "    print (\"2\")\n",
        "else :\n",
        "    print(\"3\")\n",
        "print(\"4\")"
      ],
      "metadata": {
        "colab": {
          "base_uri": "https://localhost:8080/"
        },
        "id": "9NczO5dGj2y_",
        "outputId": "53bd1d4a-bafd-4424-ed0a-d1535104fd2c"
      },
      "execution_count": null,
      "outputs": [
        {
          "output_type": "stream",
          "name": "stdout",
          "text": [
            "1\n",
            "2\n",
            "4\n"
          ]
        }
      ]
    },
    {
      "cell_type": "code",
      "source": [
        "# 숫자를 하나 입력하고\n",
        "# 그 숫자가 3이면 맞았습니다, 3이 아니면 틀렸습니다를\n",
        "# 출력하는 조건문을 만들고 확인해 주세요\n",
        "num = input('숫자를 입력하세요: ')\n",
        "print(num, type(num))\n",
        "if num == '3' : # 항등연산자 ==은 값과 자료형을 함께 비교합니다\n",
        "    print('맞았습니다')\n",
        "else:\n",
        "    print('틀렸습니다')"
      ],
      "metadata": {
        "colab": {
          "base_uri": "https://localhost:8080/"
        },
        "id": "4JwUmTibkPpV",
        "outputId": "8de26185-028f-4469-a0ca-8adcd48c5173"
      },
      "execution_count": null,
      "outputs": [
        {
          "output_type": "stream",
          "name": "stdout",
          "text": [
            "숫자를 입력하세요: 3\n",
            "3 <class 'str'>\n",
            "맞았습니다\n"
          ]
        }
      ]
    },
    {
      "cell_type": "code",
      "source": [
        "# 숫자를 하나 입력하고\n",
        "# 그 숫자가 3이면 맞았습니다, 3이 아니면 틀렸습니다를\n",
        "# 출력하는 조건문을 만들고 확인해 주세요\n",
        "num = input('숫자를 입력하세요: ')\n",
        "print(num, type(num))\n",
        "if int(num) == 3 : # 항등연산자 ==은 값과 자료형을 함께 비교합니다\n",
        "    print('맞았습니다')\n",
        "else:\n",
        "    print('틀렸습니다')"
      ],
      "metadata": {
        "colab": {
          "base_uri": "https://localhost:8080/"
        },
        "id": "w7Skx1YllxyC",
        "outputId": "7c8a47fe-22ab-4da4-bbbc-1e3cd3569d2d"
      },
      "execution_count": null,
      "outputs": [
        {
          "output_type": "stream",
          "name": "stdout",
          "text": [
            "숫자를 입력하세요: 3\n",
            "3 <class 'str'>\n",
            "맞았습니다\n"
          ]
        }
      ]
    },
    {
      "cell_type": "markdown",
      "source": [
        "## Readability counts.\n",
        "- 들여쓰기 얘기를 잠깐 할게요\n",
        "- 파이썬 자체가 귀도 반 로섬 아저씨가 싫은 코드들의 단점을 빼고 만든거라서 가독성을 굉장히 중시합니다.\n",
        "- 그래서 들여쓰기를 일부러 강제하고 있습니다."
      ],
      "metadata": {
        "id": "d5xBkkonTIwJ"
      }
    },
    {
      "cell_type": "code",
      "source": [
        "!python -c 'import this'\n",
        "\n",
        "# if (명제) {명제가 참인경우} else {명제가 거짓인 경우}"
      ],
      "metadata": {
        "id": "vWznEwtVSZM5",
        "colab": {
          "base_uri": "https://localhost:8080/"
        },
        "outputId": "d1ee1734-d8dc-4203-abf7-f5774baa26e0"
      },
      "execution_count": null,
      "outputs": [
        {
          "output_type": "stream",
          "name": "stdout",
          "text": [
            "The Zen of Python, by Tim Peters\n",
            "\n",
            "Beautiful is better than ugly.\n",
            "Explicit is better than implicit.\n",
            "Simple is better than complex.\n",
            "Complex is better than complicated.\n",
            "Flat is better than nested.\n",
            "Sparse is better than dense.\n",
            "Readability counts.\n",
            "Special cases aren't special enough to break the rules.\n",
            "Although practicality beats purity.\n",
            "Errors should never pass silently.\n",
            "Unless explicitly silenced.\n",
            "In the face of ambiguity, refuse the temptation to guess.\n",
            "There should be one-- and preferably only one --obvious way to do it.\n",
            "Although that way may not be obvious at first unless you're Dutch.\n",
            "Now is better than never.\n",
            "Although never is often better than *right* now.\n",
            "If the implementation is hard to explain, it's a bad idea.\n",
            "If the implementation is easy to explain, it may be a good idea.\n",
            "Namespaces are one honking great idea -- let's do more of those!\n"
          ]
        }
      ]
    },
    {
      "cell_type": "code",
      "source": [
        "if (True) : # 항등연산자 ==은 값과 자료형을 함께 비교합니다\n",
        "    print('맞았습니다')\n",
        "else:\n",
        "    print('틀렸습니다')"
      ],
      "metadata": {
        "colab": {
          "base_uri": "https://localhost:8080/"
        },
        "id": "3YDS_Vj_mNGg",
        "outputId": "0e469019-7112-4fa4-9ef8-50f4ea1562ad"
      },
      "execution_count": null,
      "outputs": [
        {
          "output_type": "stream",
          "name": "stdout",
          "text": [
            "맞았습니다\n"
          ]
        }
      ]
    },
    {
      "cell_type": "code",
      "source": [
        "bool([])"
      ],
      "metadata": {
        "colab": {
          "base_uri": "https://localhost:8080/"
        },
        "id": "4EXS7Ow7mUBb",
        "outputId": "7558aa26-1f33-43f5-b435-e561682a60db"
      },
      "execution_count": null,
      "outputs": [
        {
          "output_type": "execute_result",
          "data": {
            "text/plain": [
              "False"
            ]
          },
          "metadata": {},
          "execution_count": 162
        }
      ]
    },
    {
      "cell_type": "code",
      "source": [
        "if [] :\n",
        "    print('맞았습니다')\n",
        "else:\n",
        "    print('틀렸습니다')"
      ],
      "metadata": {
        "colab": {
          "base_uri": "https://localhost:8080/"
        },
        "id": "7xc_V8ZLmZA0",
        "outputId": "f0c0239e-c0d2-4d32-cdb1-8fcae6fbff94"
      },
      "execution_count": null,
      "outputs": [
        {
          "output_type": "stream",
          "name": "stdout",
          "text": [
            "틀렸습니다\n"
          ]
        }
      ]
    },
    {
      "cell_type": "code",
      "source": [
        "# If 블록에는 명제가 참인 경우에 실행하려는 명령어를 넣고\n",
        "# 같은 블록은 같은 들여쓰기 층위를 사용합니다\n",
        "# 명령어의 들여쓰기가 다르면, 다른 블록으로 인식한다\n",
        "arr = [1,2,3,4,5]\n",
        "\n",
        "if 10 in arr:\n",
        "    print('있다') # 명제가 참이라서 출력된 '있다'\n",
        "\n",
        "\n",
        "print('잘했어') # 그냥 무조건 실행될 명령어"
      ],
      "metadata": {
        "id": "tfGVeG91TcvT",
        "colab": {
          "base_uri": "https://localhost:8080/"
        },
        "outputId": "b690a00e-0bd8-4000-97b1-418552669433"
      },
      "execution_count": null,
      "outputs": [
        {
          "output_type": "stream",
          "name": "stdout",
          "text": [
            "잘했어\n"
          ]
        }
      ]
    },
    {
      "cell_type": "code",
      "source": [
        "# a,b,c,d,e,f 가 들어있는 튜플을 만들고 그 안에 a 가 있으면 '있음', 없으면 '없음' 이 출력되도록 조건문을 만들어주세요\n",
        "if 'a' in ('a','b','c','d','e','f'):\n",
        "    print('있음')\n",
        "else:\n",
        "    print('없음')"
      ],
      "metadata": {
        "id": "oMrjUvXMN7fv",
        "colab": {
          "base_uri": "https://localhost:8080/"
        },
        "outputId": "179e92a9-f283-4259-b8c9-fab62321f8bf"
      },
      "execution_count": null,
      "outputs": [
        {
          "output_type": "stream",
          "name": "stdout",
          "text": [
            "있음\n"
          ]
        }
      ]
    },
    {
      "cell_type": "code",
      "source": [
        "# a,b,c,d,e,f 가 들어있는 튜플을 만들고 그 안에 a 가 있으면 '있음', 없으면 '없음' 이 출력되도록 조건문을 만들어주세요\n",
        "# 남들이 알아보기만 좋으면\n",
        "if input('알파벳을 입력하세요: ' ) in ('a','b','c','d','e','f'):\n",
        "    print('있음')\n",
        "else:\n",
        "    print('없음')"
      ],
      "metadata": {
        "id": "2PWONlzNQarp",
        "colab": {
          "base_uri": "https://localhost:8080/"
        },
        "outputId": "5213c39b-33da-4bd2-dc95-7cf327b1b9e9"
      },
      "execution_count": null,
      "outputs": [
        {
          "output_type": "stream",
          "name": "stdout",
          "text": [
            "알파벳을 입력하세요: g\n",
            "없음\n"
          ]
        }
      ]
    },
    {
      "cell_type": "code",
      "source": [
        "print('hello')\n",
        " print('hello') # IndentationError: unexpected indent"
      ],
      "metadata": {
        "id": "r2riYZ4RQMkK",
        "colab": {
          "base_uri": "https://localhost:8080/",
          "height": 136
        },
        "outputId": "58b64c76-c183-4d5c-ccfd-4d7b94d9e4c5"
      },
      "execution_count": null,
      "outputs": [
        {
          "output_type": "error",
          "ename": "IndentationError",
          "evalue": "ignored",
          "traceback": [
            "\u001b[0;36m  File \u001b[0;32m\"<ipython-input-168-ad66f4a30bd1>\"\u001b[0;36m, line \u001b[0;32m2\u001b[0m\n\u001b[0;31m    print('hello')\u001b[0m\n\u001b[0m    ^\u001b[0m\n\u001b[0;31mIndentationError\u001b[0m\u001b[0;31m:\u001b[0m unexpected indent\n"
          ]
        }
      ]
    },
    {
      "cell_type": "code",
      "source": [
        "if True:\n",
        "    # 빈 블록을 절대 허용하지 않기 때문에\n",
        "    # 뭐라도 채워넣어야 합니다 - pass\n",
        "    # IndentationError: expected an indented block\n",
        "    pass\n",
        "else:\n",
        "    pass"
      ],
      "metadata": {
        "id": "aOFPHm9JQDrw"
      },
      "execution_count": null,
      "outputs": []
    },
    {
      "cell_type": "markdown",
      "source": [
        "파이썬은 블록 단위를 표현할 때 들여쓰기로 표현을 합니다.\n",
        "- 들여쓰기를 할 때는 탭과 공백을 구분하기 때문에 반드시 탭 or 공백 하나만 선택해서 같은 크기만큼 들여쓰기 해야 합니다.\n"
      ],
      "metadata": {
        "id": "Q04sM8FVYrXD"
      }
    },
    {
      "cell_type": "markdown",
      "source": [
        "실습. 어깨를 돌리셨습니까 라고 질문을 받고 Y를 입력받으면 '좋군요' 이외 나머지 경우는 전부 '그렇군요' 를 출력해주세요\n",
        "\n"
      ],
      "metadata": {
        "id": "a_rgOMr1aRKV"
      }
    },
    {
      "cell_type": "code",
      "source": [
        "if input('어깨를 돌리셨습니까: ') == 'Y':\n",
        "    print('좋군요')\n",
        "else:\n",
        "    print('그렇군요....')"
      ],
      "metadata": {
        "id": "eE9BwYa9dYVp",
        "colab": {
          "base_uri": "https://localhost:8080/"
        },
        "outputId": "012206c9-8a71-4344-aaba-60e41716df19"
      },
      "execution_count": null,
      "outputs": [
        {
          "output_type": "stream",
          "name": "stdout",
          "text": [
            "어깨를 돌리셨습니까: y\n",
            "그렇군요....\n"
          ]
        }
      ]
    },
    {
      "cell_type": "code",
      "source": [
        "if input('어깨를 돌리셨습니까: ') == 'Y' or input('어깨를 돌리셨습니까: ') == 'y':\n",
        "    print('좋군요')\n",
        "else:\n",
        "    print('그렇군요....')"
      ],
      "metadata": {
        "id": "N6zhO4O8d3yR",
        "colab": {
          "base_uri": "https://localhost:8080/"
        },
        "outputId": "c2b40150-1a01-4508-ae7e-18bae6c0e0e0"
      },
      "execution_count": null,
      "outputs": [
        {
          "output_type": "stream",
          "name": "stdout",
          "text": [
            "어깨를 돌리셨습니까: y\n",
            "어깨를 돌리셨습니까: Y\n",
            "그렇군요....\n"
          ]
        }
      ]
    },
    {
      "cell_type": "code",
      "source": [
        "answer= input('어깨를 돌리셨습니까: ')\n",
        "\n",
        "if answer == 'Y' or answer == 'y':\n",
        "    print('좋군요')\n",
        "else:\n",
        "    print('그렇군요....')"
      ],
      "metadata": {
        "id": "Y1DJXBRkU6v2",
        "colab": {
          "base_uri": "https://localhost:8080/"
        },
        "outputId": "e91d5955-f78e-4723-b7b1-e1d7ecb3f2e6"
      },
      "execution_count": null,
      "outputs": [
        {
          "output_type": "stream",
          "name": "stdout",
          "text": [
            "어깨를 돌리셨습니까: y\n",
            "좋군요\n"
          ]
        }
      ]
    },
    {
      "cell_type": "markdown",
      "source": [
        "- if 블록이랑 else 블록 두개만 있을 때는 한곳으로 반드시 분기가 되어야 합니다.\n",
        "- True이거나 True가 아닌 모든 값 둘중에 하나 여야 하는거죠.\n",
        "\n",
        "- 만약 그렇지 않다?\n",
        "    - 참이면서 거짓인 명제가 있다 라는 말인데요. 이건 불가능하죠.\n",
        "    - 두 블록이 실행이 안 되는 경우 - 참도 거짓도 아닌 경우 이런 경우도 있을 수 없습니다.\n",
        "\n",
        "- 2가지 조건만 존재할 수는 없잖아요.\n",
        "\n",
        "- 세상에 새로운 생각은 없다.... and or not 으로 계속 뻗어나가는 생각의 줄기가 프로그래밍 분기문의 기본 원리가 되었다.\n",
        "\n",
        "# 다중조건문\n",
        "\n",
        "```\n",
        "if 조건1:\n",
        "    조건1이 참일 때 실행문\n",
        "elif 조건2:\n",
        "    조건2가 참일 때 실행문\n",
        "elif 조건3:\n",
        "    조건3가 참일 때 실행문\n",
        "elif 조건4:\n",
        "    조건4가 참일 때 실행문\n",
        "else:\n",
        "    조건1도 2도 아닌 모든 상황에 실행문\n",
        "```"
      ],
      "metadata": {
        "id": "S-is9tyTlzgY"
      }
    },
    {
      "cell_type": "markdown",
      "source": [
        "- 조금더 섬세하게 소문자/대문자 모두 쓸 수 있게"
      ],
      "metadata": {
        "id": "y1A_YKm7lzgY"
      }
    },
    {
      "cell_type": "code",
      "source": [
        "answer= input('어깨를 돌리셨습니까: ')\n",
        "\n",
        "if answer == 'Y':\n",
        "    print('좋군요')\n",
        "elif answer == 'y':\n",
        "    print('좋군요')\n",
        "else:\n",
        "    print('그렇군요....')"
      ],
      "metadata": {
        "colab": {
          "base_uri": "https://localhost:8080/"
        },
        "id": "futNTzX-qUVW",
        "outputId": "0600df59-70fe-491f-b32a-f3bef0e6f315"
      },
      "execution_count": null,
      "outputs": [
        {
          "output_type": "stream",
          "name": "stdout",
          "text": [
            "어깨를 돌리셨습니까: y\n",
            "좋군요\n"
          ]
        }
      ]
    },
    {
      "cell_type": "code",
      "source": [],
      "metadata": {
        "id": "ZtDG5ppMd6CP"
      },
      "execution_count": null,
      "outputs": []
    },
    {
      "cell_type": "markdown",
      "source": [
        "조건문\n",
        "- 무조건 if 조건: 으로 시작...\n",
        "- 나머지는 거들 뿐....\n",
        "- 2개 이상의 조건을 제시하려면 if와 else 사이에 elif를 얼마든지 첨가 가능합니다\n"
      ],
      "metadata": {
        "id": "_Dm8d0StlzgY"
      }
    },
    {
      "cell_type": "code",
      "source": [
        "# 아침에 만들었던 휴대폰 번호 판별기를 조건문으로 만들어보지요\n",
        "# 2시 10분에 같이 볼게요"
      ],
      "metadata": {
        "id": "7VmAIXkOlzgZ"
      },
      "execution_count": null,
      "outputs": []
    },
    {
      "cell_type": "code",
      "source": [
        "nums={'011':'SKT', '016':'KT', '019':'LGU', '010':'알수없음'}\n",
        "num = input('내용을 입력하세요: ')\n",
        "nums.get(num[0:3], '잘못 입력하셨습니다') # nums['010']"
      ],
      "metadata": {
        "colab": {
          "base_uri": "https://localhost:8080/"
        },
        "id": "E_h508LL29e6",
        "outputId": "55ac4e75-a839-45a4-862c-120c8c199276"
      },
      "execution_count": null,
      "outputs": [
        {
          "output_type": "stream",
          "name": "stdout",
          "text": [
            "Python 3.9.16\n"
          ]
        }
      ]
    },
    {
      "cell_type": "code",
      "source": [
        "num = input('전화번호를 입력하세요: ')\n",
        "\n",
        "if num[:3] == '011':\n",
        "    print('skt')\n",
        "elif num[:3] == '016':\n",
        "    print('kt')\n",
        "elif num[:3] == '019':\n",
        "    print('lgu')\n",
        "else:\n",
        "    print('알수없음')"
      ],
      "metadata": {
        "id": "lhvCx6AwlzgZ",
        "colab": {
          "base_uri": "https://localhost:8080/"
        },
        "outputId": "321fcb71-60d7-4c03-be25-e91c41231bf3"
      },
      "execution_count": null,
      "outputs": [
        {
          "output_type": "stream",
          "name": "stdout",
          "text": [
            "전화번호를 입력하세요: 011-1111-1111\n",
            "skt\n"
          ]
        }
      ]
    },
    {
      "cell_type": "code",
      "source": [
        "# 다중조건문을 활용하면 나중에(유지보수) 편해집니다\n",
        "num = input('전화번호를 입력하세요: ')\n",
        "\n",
        "if num[:3] == '011':\n",
        "    print('skt')\n",
        "elif num[:3] == '016':\n",
        "    print('kt')\n",
        "elif num[:3] == '019':\n",
        "    print('lgu')\n",
        "elif num[:3] == '010':\n",
        "    print('알수없음')"
      ],
      "metadata": {
        "id": "56PqkcCHlzgZ",
        "colab": {
          "base_uri": "https://localhost:8080/"
        },
        "outputId": "dff279bb-44ab-44e3-fa21-6f72cdc5a1bc"
      },
      "execution_count": null,
      "outputs": [
        {
          "name": "stdout",
          "output_type": "stream",
          "text": [
            "전화번호를 입력하세요: 031-1111-1111\n"
          ]
        }
      ]
    },
    {
      "cell_type": "markdown",
      "source": [
        "### 이 경우는 다중 조건이 아닙니다"
      ],
      "metadata": {
        "id": "-39vqHJClzgZ"
      }
    },
    {
      "cell_type": "code",
      "source": [
        "num = input('전화번호를 입력하세요: ')\n",
        "\n",
        "if num[:3] == '011':\n",
        "    print('skt')\n",
        "if num[:3] == '016':\n",
        "    print('kt')\n",
        "if num[:3] == '019':\n",
        "    print('lgu')\n",
        "if num[:3] == '010':\n",
        "    print('알수없음')"
      ],
      "metadata": {
        "id": "6dzhDIPflzgZ",
        "colab": {
          "base_uri": "https://localhost:8080/"
        },
        "outputId": "8ea04916-1cfe-437a-acaf-14e7d1f007d6"
      },
      "execution_count": null,
      "outputs": [
        {
          "name": "stdout",
          "output_type": "stream",
          "text": [
            "전화번호를 입력하세요: 031-1111-1111\n"
          ]
        }
      ]
    },
    {
      "cell_type": "markdown",
      "source": [
        "# 실습. 주사위 게임입니다\n",
        "- 두 사람이 1~6까지의 숫자가 있는 주사위를 던져 높은 숫자가 나오면 이기는 게임을 작성해봅니다.\n",
        "- 주사위 숫자는 input으로 받은 값을 a, b라는 변수에 넣어서 비교할게요.\n",
        "- 실행결과는 3가지 : a가 이긴다, a가 진다, a가 비긴다"
      ],
      "metadata": {
        "id": "lCf7US6ZlzgZ"
      }
    },
    {
      "cell_type": "code",
      "source": [],
      "metadata": {
        "id": "68UxUETMlzgZ"
      },
      "execution_count": null,
      "outputs": []
    },
    {
      "cell_type": "code",
      "source": [
        "a=input('a주사위 숫자를 입력하세요: ') # str으로 값이 들어온다\n",
        "b=input('b주사위 숫자를 입력하세요: ')\n",
        "a = int(a)\n",
        "b = int(b)\n",
        "# a, b가 1~6 사이의 숫자인지 확인\n",
        "# a와 b 중에 뭐가 더 큰지 확인\n",
        "\n",
        "if a>b :\n",
        "  print('a가 이긴다')\n",
        "elif a<b :\n",
        "  print('a가 진다')\n",
        "else :\n",
        "  print('a가 비긴다')"
      ],
      "metadata": {
        "colab": {
          "base_uri": "https://localhost:8080/"
        },
        "id": "WBY1tIknAYW2",
        "outputId": "17885106-50b5-48a9-d6c1-6286035e1bc5"
      },
      "execution_count": null,
      "outputs": [
        {
          "output_type": "stream",
          "name": "stdout",
          "text": [
            "a주사위 숫자를 입력하세요: 6\n",
            "b주사위 숫자를 입력하세요: 1\n",
            "a가 이긴다\n"
          ]
        }
      ]
    },
    {
      "cell_type": "code",
      "source": [
        "ord('6')"
      ],
      "metadata": {
        "colab": {
          "base_uri": "https://localhost:8080/"
        },
        "id": "NK4K3FkBCcqI",
        "outputId": "89294b0a-a89f-4941-ab05-3b3079685152"
      },
      "execution_count": null,
      "outputs": [
        {
          "output_type": "execute_result",
          "data": {
            "text/plain": [
              "54"
            ]
          },
          "metadata": {},
          "execution_count": 194
        }
      ]
    },
    {
      "cell_type": "code",
      "source": [
        "ord('1')"
      ],
      "metadata": {
        "colab": {
          "base_uri": "https://localhost:8080/"
        },
        "id": "1rHqowtQCe5B",
        "outputId": "87332290-7322-442a-9b15-b0ac33bffbe0"
      },
      "execution_count": null,
      "outputs": [
        {
          "output_type": "execute_result",
          "data": {
            "text/plain": [
              "49"
            ]
          },
          "metadata": {},
          "execution_count": 195
        }
      ]
    },
    {
      "cell_type": "code",
      "source": [
        "### 문자열이 '숫자'로만 이루어져있는지 확인\n",
        "#  1) str.isdigit(\"판단하고자 하는 문자열\")\n",
        "#  2) \"판단하고자 하는 문자열\".isdigit()\n",
        "\n",
        "a = '1234' # 타입이 str이지만 온전히 숫자만 가지고 있다면 True를 반환\n",
        "b = '1/2'\n",
        "c = '가나다'\n",
        "d = '가나다123'\n",
        "e = '3²'\n",
        "f = '-1'\n",
        "g = '½'\n",
        "\n",
        "print('isdigit()') # 문자열의 모든 문자가 숫자(0-9)이면 True를 출력\n",
        "print(a.isdigit()) # True\n",
        "print(b.isdigit()) # False\n",
        "print(c.isdigit()) # False\n",
        "print(d.isdigit()) # False\n",
        "print(e.isdigit()) # True\n",
        "print(f.isdigit()) # False '-1' 은 '-'가 음수이기 때문에\n",
        "print(g.isdigit()) # False\n",
        "\n",
        "print('isdecimal() - 특수문자는 숫자로 취급하지 않음')\n",
        "print(a.isdecimal()) # True\n",
        "print(b.isdecimal()) # False\n",
        "print(c.isdecimal()) # False\n",
        "print(d.isdecimal()) # False\n",
        "print(e.isdecimal()) # False\n",
        "print(f.isdecimal()) # False\n",
        "print(g.isdecimal()) # False\n",
        "\n",
        "print('isnumeric() -  문자열의 모든 문자가 숫자(분수, 아래 첨자, 위 첨자 등의 다른 숫자도 포함)')\n",
        "print(a.isnumeric()) # True\n",
        "print(b.isnumeric()) # False\n",
        "print(c.isnumeric()) # False\n",
        "print(d.isnumeric()) # False\n",
        "print(e.isnumeric()) # True\n",
        "print(f.isnumeric()) # False\n",
        "print(g.isnumeric()) # True\n",
        "\n",
        "print('isalpha() - 알파벳으로만 이루어진 문자열 판별')\n",
        "print(a.isalpha()) # False\n",
        "print(b.isalpha()) # False\n",
        "print(c.isalpha()) # True\n",
        "print(d.isalpha()) # False\n",
        "print(e.isalpha()) # False\n",
        "print(f.isalpha()) # False\n",
        "print(g.isalpha()) # False"
      ],
      "metadata": {
        "id": "GL4VoQ9aABAv"
      },
      "execution_count": null,
      "outputs": []
    },
    {
      "cell_type": "markdown",
      "source": [
        "### if 안에 if가 들어있다\n",
        "- 조건문 안에서 또 조건문을 만들어서\n",
        "중첩조건문 이라고 부릅니다."
      ],
      "metadata": {
        "id": "FmHbcF-SlzgZ"
      }
    },
    {
      "cell_type": "code",
      "source": [
        "a = input('a주사위 숫자를 입력하세요: ') # str으로 값이 들어온다\n",
        "b = input('b주사위 숫자를 입력하세요: ')\n",
        "\n",
        "\n",
        "# int로 바꿀 수 있는 종류의 문자열인지 확인하는 if을 또 만들어보면 좋을 것 같아요\n",
        "if a.isdigit() and b.isdigit():\n",
        "    a = int(a)\n",
        "    b = int(b)\n",
        "    # a, b가 1~6 사이의 숫자인지 확인\n",
        "    if 1 <= a <= 6 and 1 <= b <= 6:\n",
        "\n",
        "        # a와 b 중에 뭐가 더 큰지 확인\n",
        "        if a>b :\n",
        "            print('a가 이긴다')\n",
        "        elif a<b :\n",
        "            print('a가 진다')\n",
        "        else :\n",
        "            print('a가 비긴다')\n",
        "    else:\n",
        "        print('1~6 사이의 정수가 아닌 다른 값을 입력하셨습니다.')\n",
        "else:\n",
        "    print('정수가 아닌 값을 입력하신 것 같네요.')"
      ],
      "metadata": {
        "id": "wII35DbOlzgZ",
        "colab": {
          "base_uri": "https://localhost:8080/"
        },
        "outputId": "a56976a1-47c1-4d16-b1b1-6555522e7340"
      },
      "execution_count": null,
      "outputs": [
        {
          "output_type": "stream",
          "name": "stdout",
          "text": [
            "a주사위 숫자를 입력하세요: 일\n",
            "b주사위 숫자를 입력하세요: 사\n",
            "정수가 아닌 값을 입력하신 것 같네요.\n"
          ]
        }
      ]
    },
    {
      "cell_type": "code",
      "source": [
        "a = input('주사위를 던져주세요: ')\n",
        "b = input('주사위를 던져주세요: ')\n",
        "\n",
        "if a.isdigit() and b.isdigit():\n",
        "\n",
        "    if (1 > int(a) or int(a) > 6) and (1 >int(b) or int(b) > 6):\n",
        "        print('1~6 사이의 숫자를 입력해주세요.')\n",
        "    else:\n",
        "        if a > b:\n",
        "            print('a 가 이겼습니다.')\n",
        "        elif a < b:\n",
        "            print('a 가 이겼습니다.')\n",
        "        else:\n",
        "            print('a 가 비겼습니다.')\n",
        "else:\n",
        "    print('숫자를 입력해주세요.')"
      ],
      "metadata": {
        "colab": {
          "base_uri": "https://localhost:8080/"
        },
        "id": "Oe_AsS8xEuzx",
        "outputId": "b240454c-a404-4c22-b323-7085f883de9b"
      },
      "execution_count": null,
      "outputs": [
        {
          "output_type": "stream",
          "name": "stdout",
          "text": [
            "주사위를 던져주세요: -1\n",
            "주사위를 던져주세요: -1\n",
            "숫자를 입력해주세요.\n"
          ]
        }
      ]
    },
    {
      "cell_type": "code",
      "source": [
        "bool(a.isdigit())"
      ],
      "metadata": {
        "colab": {
          "base_uri": "https://localhost:8080/"
        },
        "id": "pydxpG4yRRe9",
        "outputId": "af835e2a-8e65-4954-fa24-8e1e95894bdf"
      },
      "execution_count": null,
      "outputs": [
        {
          "output_type": "execute_result",
          "data": {
            "text/plain": [
              "False"
            ]
          },
          "metadata": {},
          "execution_count": 221
        }
      ]
    },
    {
      "cell_type": "code",
      "source": [
        "False == True"
      ],
      "metadata": {
        "colab": {
          "base_uri": "https://localhost:8080/"
        },
        "id": "dgR3sZPFRU3s",
        "outputId": "ad5ff86f-065d-4ce8-d32c-1ed08bb8170f"
      },
      "execution_count": null,
      "outputs": [
        {
          "output_type": "execute_result",
          "data": {
            "text/plain": [
              "False"
            ]
          },
          "metadata": {},
          "execution_count": 223
        }
      ]
    },
    {
      "cell_type": "markdown",
      "source": [
        "arr = [1, 2, 3]\n",
        "#### 지금은 arr의 우리가 뚜껑을 열어봤지만 실제로는 다 DB에서 가져온 자료 혹은 사용자로부터 입력받은 자료이고 속에 뭐가 들어있는지 모른다 라는 설정입니다.\n",
        "\n",
        "- arr 안에 1, 2, 3 중 어느 정수가 들어있으면'참', 그렇지 않으면 '거짓' 을 출력하는 조건문을 만들어보겠습니다."
      ],
      "metadata": {
        "id": "D_NW72C9lzgZ"
      }
    },
    {
      "cell_type": "code",
      "source": [
        "arr = [1, 2, 3]"
      ],
      "metadata": {
        "id": "1Gpgd7dDSooP"
      },
      "execution_count": null,
      "outputs": []
    },
    {
      "cell_type": "code",
      "source": [
        "arr = [1, 2, 3]\n",
        "\n",
        "# if 명제 ~ else\n",
        "if (2 in arr) or (3 in arr) or (5 in arr) :\n",
        "    print('참')\n",
        "else:\n",
        "    print('거짓')"
      ],
      "metadata": {
        "id": "73YBG5o7lzgZ",
        "colab": {
          "base_uri": "https://localhost:8080/"
        },
        "outputId": "7302bf83-c680-41ff-f6dd-b95670f108cf"
      },
      "execution_count": null,
      "outputs": [
        {
          "output_type": "stream",
          "name": "stdout",
          "text": [
            "참\n"
          ]
        }
      ]
    },
    {
      "cell_type": "code",
      "source": [
        "2 or 3 or 5"
      ],
      "metadata": {
        "colab": {
          "base_uri": "https://localhost:8080/"
        },
        "id": "WSo0FTEBX4Jh",
        "outputId": "1df51c43-f72b-4c12-8431-19549df98adb"
      },
      "execution_count": null,
      "outputs": [
        {
          "output_type": "execute_result",
          "data": {
            "text/plain": [
              "2"
            ]
          },
          "metadata": {},
          "execution_count": 235
        }
      ]
    },
    {
      "cell_type": "code",
      "source": [
        "# if ~ elif~ else\n",
        "if 1 in arr:\n",
        "    print('참')\n",
        "elif 2 in arr:\n",
        "    print('참')\n",
        "elif 3 in arr:\n",
        "    print('참')\n",
        "else:\n",
        "    print('거짓')"
      ],
      "metadata": {
        "id": "QN4gc5z4lzgZ",
        "colab": {
          "base_uri": "https://localhost:8080/"
        },
        "outputId": "a4f4497e-f9ef-4024-e38d-09bab45524eb"
      },
      "execution_count": null,
      "outputs": [
        {
          "output_type": "stream",
          "name": "stdout",
          "text": [
            "거짓\n"
          ]
        }
      ]
    },
    {
      "cell_type": "code",
      "source": [],
      "metadata": {
        "id": "RJ6vw8iUlzgZ"
      },
      "execution_count": null,
      "outputs": []
    },
    {
      "cell_type": "markdown",
      "source": [
        "- if 블록이랑 else 블록 두개만 있을 때는 한곳으로 반드시 분기가 되어야 합니다.\n",
        "- True이거나 True가 아닌 모든 값 둘중에 하나 여야 하는거죠.\n",
        "\n",
        "- 만약 그렇지 않다?\n",
        "    - 참이면서 거짓인 명제가 있다 라는 말인데요. 이건 불가능하죠.\n",
        "    - 두 블록이 실행이 안 되는 경우 - 참도 거짓도 아닌 경우 이런 경우도 있을 수 없습니다.\n",
        "\n",
        "- 2가지 조건만 존재할 수는 없잖아요.\n",
        "\n",
        "- 세상에 새로운 생각은 없다.... and or not 으로 계속 뻗어나가는 생각의 줄기가 프로그래밍 분기문의 기본 원리가 되었다.\n"
      ],
      "metadata": {
        "id": "O9tEWkrLd8RM"
      }
    },
    {
      "cell_type": "code",
      "source": [
        "a = [1, 2, 3, 4, 1, 1]"
      ],
      "metadata": {
        "id": "vg51BdkIYzdR"
      },
      "execution_count": null,
      "outputs": []
    },
    {
      "cell_type": "code",
      "source": [
        "a.index(1) # 1이 들어있는 첫 인덱스만 출력하고 나머지 인덱스는 보지도 않음"
      ],
      "metadata": {
        "colab": {
          "base_uri": "https://localhost:8080/"
        },
        "id": "RfM1UpREY2YQ",
        "outputId": "37f283a9-6d00-4de0-dd28-f60c72e4652e"
      },
      "execution_count": null,
      "outputs": [
        {
          "output_type": "execute_result",
          "data": {
            "text/plain": [
              "0"
            ]
          },
          "metadata": {},
          "execution_count": 239
        }
      ]
    },
    {
      "cell_type": "markdown",
      "source": [
        "# 논리연산자\n",
        "- not, and, or 순으로 우선 판단\n",
        "- 단락평가를 한다\n",
        "- 단락평가란? short-circuit evalution\n",
        "- 첫번째 값으로 결과가 확인하면 두번째 값은 평가하지 않는 방법\n",
        "- 참고:\n",
        "    - ~ & | : 비트연산자 - 비트 단위로 논리 연산 (not, and, or 과 다른 방식으로 작동)\n",
        "\n",
        "    - 비트 연산자는 비트(bit) 단위로 논리 연산을 할 때 사용하는 연산자입니다.\n",
        "\n",
        "    - 또한, 비트 단위로 전체 비트를 왼쪽이나 오른쪽으로 이동시킬 때도 사용합니다.\n",
        "```\n",
        "&\t대응되는 비트가 모두 1이면 1을 반환함. (비트 AND 연산)\n",
        "|\t대응되는 비트 중에서 하나라도 1이면 1을 반환함. (비트 OR 연산)\n",
        "^\t대응되는 비트가 서로 다르면 1을 반환함. (비트 XOR 연산)\n",
        "~\t비트를 1이면 0으로, 0이면 1로 반전시킴. (비트 NOT 연산)\n",
        "```\n",
        "\n",
        "연산자 우선순위\n",
        "- https://dojang.io/mod/page/view.php?id=2461"
      ],
      "metadata": {
        "id": "pt0YekWngi9L"
      }
    },
    {
      "cell_type": "code",
      "source": [
        "arr = [1, 2, 7]\n",
        "\n",
        "# if 명제 ~ else\n",
        "if (3 in arr) | (2 in arr) | (5 in arr) :\n",
        "    print('참')\n",
        "else:\n",
        "    print('거짓')"
      ],
      "metadata": {
        "id": "ju8e14_PbvmZ",
        "colab": {
          "base_uri": "https://localhost:8080/"
        },
        "outputId": "9b06be68-9c4d-441c-acf6-5cd98d6620c6"
      },
      "execution_count": null,
      "outputs": [
        {
          "output_type": "stream",
          "name": "stdout",
          "text": [
            "참\n"
          ]
        }
      ]
    },
    {
      "cell_type": "code",
      "source": [
        "3 | 2 | 5\n",
        "# 비트연산자 - 다른 언어에서는 ~, &, |(부호)로 not, and, or를 표기하기도 하지만\n",
        "# 파이썬의 not and or 로직과 다르게 동작하기 때문에\n",
        "# 비트연산자를 잘 쓰시는 분이 아니면 not and or 만을 사용해주세요\n"
      ],
      "metadata": {
        "colab": {
          "base_uri": "https://localhost:8080/"
        },
        "id": "RgAazT2gZX4Z",
        "outputId": "92e0cd5e-ed48-4321-9e26-d1c0c2418a39"
      },
      "execution_count": null,
      "outputs": [
        {
          "output_type": "execute_result",
          "data": {
            "text/plain": [
              "7"
            ]
          },
          "metadata": {},
          "execution_count": 244
        }
      ]
    },
    {
      "cell_type": "code",
      "source": [
        "'''\n",
        " 0  1  1    # binary representation of 3\n",
        "| 0  1  0    # binary representation of 2\n",
        "---------\n",
        "  0  1  1    # result of 3|2\n",
        "| 1  1  1    # binary representation of 7\n",
        "---------\n",
        "  1  1  1    # result of 3|2|7\n",
        "| 1  1  0  1 # binary representation of 13\n",
        "---------\n",
        "  1  1  1  1 # result of 3|2|7|13\n",
        "'''\n",
        "3|2|7|13"
      ],
      "metadata": {
        "id": "qMP_dLeMhbML"
      },
      "execution_count": null,
      "outputs": []
    },
    {
      "cell_type": "code",
      "source": [],
      "metadata": {
        "id": "vxItlxEei4W_"
      },
      "execution_count": null,
      "outputs": []
    },
    {
      "cell_type": "markdown",
      "source": [
        "# 조건문"
      ],
      "metadata": {
        "id": "k8gb5fo_UAI2"
      }
    },
    {
      "cell_type": "markdown",
      "source": [
        "- 조건문의 여러가지 종류를 확인했습니다.\n",
        "```\n",
        "if (명제) :\n",
        "    실행문\n",
        "```\n",
        "만 있으면 무조건 돌아갑니다.\n",
        "\n",
        "- 참, 거짓을 판별하기 위해서 명제자리에는 참, 거짓이 아닌 값들도 넣을 수 있다.\n",
        "- 0이랑 빈 객체(빈문자열이나 빈 리스트, ...) 을 제외한 나머지는 모두 참이 되는 겁니다.\n",
        "- 대부분의 명령어들은 명제 자리에 들어가면 명제로 사용될 수 있습니다.\n"
      ],
      "metadata": {
        "id": "LCUF9uzLTmbQ"
      }
    },
    {
      "cell_type": "code",
      "source": [
        "\n",
        " # 참,  거짓을 구분할 수 없기 때문에 명제로 사용할 수 없는 실행문도 조건문 안에서는 ( ) 명제로 판단하기 때문에 명제처럼 사용이 가능합니다.\n",
        " if 3:\n",
        "     print('hello')"
      ],
      "metadata": {
        "id": "AvvDl2LPT0Dd",
        "colab": {
          "base_uri": "https://localhost:8080/"
        },
        "outputId": "304ddc95-4738-4b1f-c9c6-436e918e2243"
      },
      "execution_count": null,
      "outputs": [
        {
          "output_type": "stream",
          "name": "stdout",
          "text": [
            "hello\n"
          ]
        }
      ]
    },
    {
      "cell_type": "code",
      "source": [
        "bool(3)"
      ],
      "metadata": {
        "id": "lLtb7RwvT1mJ",
        "colab": {
          "base_uri": "https://localhost:8080/"
        },
        "outputId": "5c9243b3-4b2f-49c2-f4bd-d30eb2c24d9f"
      },
      "execution_count": null,
      "outputs": [
        {
          "output_type": "execute_result",
          "data": {
            "text/plain": [
              "True"
            ]
          },
          "metadata": {},
          "execution_count": 247
        }
      ]
    },
    {
      "cell_type": "code",
      "source": [
        "if 1: # True\n",
        "     print('hello')"
      ],
      "metadata": {
        "id": "XPeRcKsyUGwY",
        "colab": {
          "base_uri": "https://localhost:8080/"
        },
        "outputId": "a536d27a-4cda-4af0-d30e-07e61647d144"
      },
      "execution_count": null,
      "outputs": [
        {
          "output_type": "stream",
          "name": "stdout",
          "text": [
            "hello\n"
          ]
        }
      ]
    },
    {
      "cell_type": "code",
      "source": [
        "if 0: # False\n",
        "     print('hello')"
      ],
      "metadata": {
        "id": "StYeCgTFUd5v"
      },
      "execution_count": null,
      "outputs": []
    },
    {
      "cell_type": "code",
      "source": [
        "if []: # False\n",
        "     print('hello')"
      ],
      "metadata": {
        "id": "dA1dkD2LUqBC"
      },
      "execution_count": null,
      "outputs": []
    },
    {
      "cell_type": "code",
      "source": [
        "if '': # False\n",
        "     print('hello')"
      ],
      "metadata": {
        "id": "aIbDYMJWmi-g"
      },
      "execution_count": null,
      "outputs": []
    },
    {
      "cell_type": "code",
      "source": [
        "if None: # False\n",
        "     print('hello')"
      ],
      "metadata": {
        "id": "5g_gs1x6a_M4"
      },
      "execution_count": null,
      "outputs": []
    },
    {
      "cell_type": "markdown",
      "source": [
        "# 조건문이 3개 있는 셈이죠"
      ],
      "metadata": {
        "id": "XkgftDOHVXIl"
      }
    },
    {
      "cell_type": "code",
      "source": [
        "arr =[1,2,3]\n",
        "\n",
        "if 1 in arr :\n",
        "    print(\"있음\")\n",
        "\n",
        "if 2 in arr :\n",
        "    print(\"있음\")\n",
        "\n",
        "if 3 in arr :\n",
        "    print(\"있음\")\n",
        "else :\n",
        "    print(\"없음\")"
      ],
      "metadata": {
        "id": "AZzdpczvUgBQ"
      },
      "execution_count": null,
      "outputs": []
    },
    {
      "cell_type": "markdown",
      "source": [
        "- if\n",
        "- if~else\n",
        "- if ~ elif ~ else\n",
        "- 중첩조건문 (if 안에 if)\n",
        "- 우선순위를 고려해야 하는 조건문(not, and, or)\n",
        "    - 논리연산자를 활용한 조건문\n",
        "    - in연산자, 비트연산자 등을 사용한 조건문\n",
        "- 그냥 if문 여러개 쓰기"
      ],
      "metadata": {
        "id": "SuCHza7_bVg_"
      }
    },
    {
      "cell_type": "markdown",
      "source": [
        "논리연산, 다중조건문을 활용하면 웬만한 조건은 판별할 수 있지만.\n",
        "..\n",
        "\n",
        "우리가 만들어야 하는 분기는 그것보다 훨씬 복잡한 경우들이 많습니다.\n",
        "\n",
        "\n",
        "if 안에 if를 넣어서 해결하는 방법으로 '중첩조건문'이라고 부릅니다.\n",
        "\n",
        "```\n",
        "if 명제1:\n",
        "    # 명제 1이 참인 경우 해야 할 일\n",
        "    if 명제2\n",
        "         # 명제 1이 참인데 명제2도 참일 때 해야 할 일\n",
        "    else:\n",
        "        # 명제1은 참이지만 명제2는 거짓일 때 해야 할 일\n",
        "\n",
        "else:\n",
        "\n",
        "```"
      ],
      "metadata": {
        "id": "11kqEzdMV1fT"
      }
    },
    {
      "cell_type": "markdown",
      "source": [
        "- 분기문이 3개 이상 중첩되지는 않도록 하세요..."
      ],
      "metadata": {
        "id": "OC7QgRtTbxWF"
      }
    },
    {
      "cell_type": "code",
      "source": [],
      "metadata": {
        "id": "4jF4AF24tjlX"
      },
      "execution_count": null,
      "outputs": []
    },
    {
      "cell_type": "markdown",
      "source": [
        "# 중첩 조건문으로 만들어 보겠습니다.\n",
        "나이를 입력받고\n",
        "\n",
        "1번째 층위\n",
        "- 18살보다 어린지만 판단하고 우쭈주 출력 후에\n",
        "    - 18살보다 어린 사람 중에 13살 미만이면 어린이입니다\n",
        "    - 13살 이상이면 청소년입니다 를\n",
        "        더해서 출력하는 중첩 조건문"
      ],
      "metadata": {
        "id": "KGtC2CA4XH_a"
      }
    },
    {
      "cell_type": "code",
      "source": [
        "# if 명제:\n",
        "#     공통된 실행문\n",
        "\n",
        "#     if 명제:\n",
        "\n",
        "age = input('나이를 입력하세요: ')\n",
        "\n",
        "if age < '18': # 18살 미만의 사람이 걸러집니다\n",
        "    print('우쭈쭈')\n",
        "\n",
        "    if age < '13':  # 13보다 어린 사람\n",
        "    # 어린이입니다\n",
        "        print('어린이입니다')\n",
        "    else: # 청소년\n",
        "        print('청소년입니다')\n"
      ],
      "metadata": {
        "id": "fBQEsKqAYTgP",
        "colab": {
          "base_uri": "https://localhost:8080/"
        },
        "outputId": "75a8e115-d328-41fd-c163-71107fcbfdfc"
      },
      "execution_count": null,
      "outputs": [
        {
          "output_type": "stream",
          "name": "stdout",
          "text": [
            "나이를 입력하세요: -4\n",
            "우쭈쭈\n",
            "어린이입니다\n"
          ]
        }
      ]
    },
    {
      "cell_type": "code",
      "source": [
        "# naver - n비밀번호\n",
        "# kakao - k비밀번호\n"
      ],
      "metadata": {
        "id": "ObuD1jPJfehH"
      },
      "execution_count": null,
      "outputs": []
    },
    {
      "cell_type": "markdown",
      "source": [
        "# 기아차 버그 잡기\n",
        "\n",
        "- 차를 처음 사면 자동차 네비게이션을 4년 동안 무료로 온라인 업데이트를 해주더라고요.\n",
        "- 근데 1년 밖에 안 됐는데 매년 11개월 때마다  안내메시지가 뜨더라고요. '업데이트 기간이 끝나갑니다. 빨리 업데이트를 진행하세요' 돈을 내시면 온라인\n",
        "업데이트가 가능합니다. 이 경우에 돈을 안내면 USB 업데이트는 할 수 있습니다.\n",
        "- 매년 말고 3년이 지난 후부터 뜨게 하려면 어떻게 조건문을 짜야 할까요?\n",
        "\n",
        "- 변수명, 로직 등등 반복도 한다고 치면 그걸 고려해서 순서도를 만들어보세요\n",
        "\n"
      ],
      "metadata": {
        "id": "VRIuvf0RjHe5"
      }
    },
    {
      "cell_type": "code",
      "source": [
        "year = 0\n",
        "while True:\n",
        "\n",
        "    if year >= 3:\n",
        "\n",
        "        print('업데이트 기간이 끝나갑니다. 빨리 업데이트를 진행하세요')\n",
        "        pay = input('돈을 지불하시겠습니까? 지불하시면 Y, 아니면 N를 입력해주세요.: ')\n",
        "\n",
        "        if pay == 'Y':\n",
        "            print('온라인 업데이트')\n",
        "\n",
        "        elif pay == 'N':\n",
        "            print('USB 업데이트')\n",
        "\n",
        "        else:\n",
        "            print('Y또는 N를 입력해주세요.')\n",
        "        break\n",
        "\n",
        "    else:\n",
        "        year += 1"
      ],
      "metadata": {
        "id": "rCFw0ezvSEM2",
        "colab": {
          "base_uri": "https://localhost:8080/"
        },
        "outputId": "c5759392-5a03-461f-d342-bee36f39c2f7"
      },
      "execution_count": null,
      "outputs": [
        {
          "output_type": "stream",
          "name": "stdout",
          "text": [
            "업데이트 기간이 끝나갑니다. 빨리 업데이트를 진행하세요\n",
            "돈을 지불하시겠습니까? 지불하시면 Y, 아니면 N를 입력해주세요.: j\n",
            "Y또는 N를 입력해주세요.\n"
          ]
        }
      ]
    },
    {
      "cell_type": "markdown",
      "source": [
        "# 반복문\n",
        "\n",
        "- 반복을 하는 거죠\n",
        "- 파이썬에서는 반복을 위한 2가지 형태의 방법이 있습니다\n",
        "    - while\n",
        "    - for\n",
        "\n",
        "## while\n",
        "\n",
        "    - 기본형태가 if와 유사합니다.\n",
        "    - if가 명제를 한번만 검사하고 분기를 한다면\n",
        "    - while은 명제를 여러번 검사 (틀릴 때 까지)\n",
        "    - 그래서 while을 반복문이라고 부릅니다.\n",
        "\n",
        "```\n",
        "while 명제:\n",
        "    while 블록\n",
        "```"
      ],
      "metadata": {
        "id": "UQKBNXcft24-"
      }
    },
    {
      "cell_type": "code",
      "source": [
        "# n이 1에서 시작해서 10이 될 때까지 정수를 출력하는 반복문을 하나 만들겠습니다.\n",
        "# 조건이 True 일때만 반복문이 수행된다"
      ],
      "metadata": {
        "id": "ZgqhCBqfuWLT"
      },
      "execution_count": null,
      "outputs": []
    },
    {
      "cell_type": "code",
      "source": [],
      "metadata": {
        "id": "IYyRczOQu50B"
      },
      "execution_count": null,
      "outputs": []
    },
    {
      "cell_type": "code",
      "source": [
        "# 1,3,5,7,9를 출력하는 while문을 만들어주세요"
      ],
      "metadata": {
        "id": "jAohBWJ-wFDS"
      },
      "execution_count": null,
      "outputs": []
    },
    {
      "cell_type": "code",
      "source": [],
      "metadata": {
        "id": "Nufu5y_DX0eZ"
      },
      "execution_count": null,
      "outputs": []
    },
    {
      "cell_type": "code",
      "source": [],
      "metadata": {
        "id": "cjGcvvj2ve2R"
      },
      "execution_count": null,
      "outputs": []
    },
    {
      "cell_type": "code",
      "source": [],
      "metadata": {
        "id": "6pNaZBT4vsHq"
      },
      "execution_count": null,
      "outputs": []
    },
    {
      "cell_type": "code",
      "source": [],
      "metadata": {
        "id": "9EE1N_TmwCC4"
      },
      "execution_count": null,
      "outputs": []
    },
    {
      "cell_type": "code",
      "source": [],
      "metadata": {
        "id": "leIC3q4ywxXv"
      },
      "execution_count": null,
      "outputs": []
    },
    {
      "cell_type": "code",
      "source": [],
      "metadata": {
        "id": "iCb17YOqaGyH"
      },
      "execution_count": null,
      "outputs": []
    },
    {
      "cell_type": "markdown",
      "source": [
        "## 실습. input으로 숫자를 입력받고 1부터 그 숫자만큼 하나씩 번호를 더하면서 출력하는 while문을 만들어주세요."
      ],
      "metadata": {
        "id": "BooDz2QXyk6f"
      }
    },
    {
      "cell_type": "code",
      "source": [],
      "metadata": {
        "id": "WrqjGWraHmB0"
      },
      "execution_count": null,
      "outputs": []
    },
    {
      "cell_type": "code",
      "source": [],
      "metadata": {
        "id": "qNUiqBfzH002"
      },
      "execution_count": null,
      "outputs": []
    },
    {
      "cell_type": "markdown",
      "source": [
        "### x를 입력하기 전까지는 계속 무언가를 타이핑해야만 하는 프로그램"
      ],
      "metadata": {
        "id": "k37VW7ndbl3O"
      }
    },
    {
      "cell_type": "markdown",
      "source": [
        "```\n",
        "무언가 입력중입니다\n",
        "종료하려면 x를 입력하세요 : ㄴ\n",
        "무언가 입력중입니다\n",
        "종료하려면 x를 입력하세요 : x\n",
        "무한 반복이 종료되었습니다\n",
        "```"
      ],
      "metadata": {
        "id": "KrisiM8Mbhrv"
      }
    },
    {
      "cell_type": "markdown",
      "source": [
        "```\n",
        "c:\\> 1\n",
        "1\n",
        "c:\\> 2\n",
        "2\n",
        "c:\\> 4\n",
        "4\n",
        "c:\\> x\n",
        "x\n",
        "프로그램이 종료되었습니다\n",
        "```"
      ],
      "metadata": {
        "id": "ePci00pFlxHD"
      }
    },
    {
      "cell_type": "code",
      "source": [],
      "metadata": {
        "id": "m3MJ2VOamTSp"
      },
      "execution_count": null,
      "outputs": []
    },
    {
      "cell_type": "markdown",
      "source": [
        "## 1~10 사이에 짝수만 출력하는 while문을 만들어볼게요."
      ],
      "metadata": {
        "id": "8skQdxM0LL4R"
      }
    },
    {
      "cell_type": "code",
      "source": [],
      "metadata": {
        "id": "UPorKoSbLGaJ"
      },
      "execution_count": null,
      "outputs": []
    },
    {
      "cell_type": "code",
      "source": [],
      "metadata": {
        "id": "AOejKs4Mn3a9"
      },
      "execution_count": null,
      "outputs": []
    },
    {
      "cell_type": "code",
      "source": [],
      "metadata": {
        "id": "HiQKDrGIoRIF"
      },
      "execution_count": null,
      "outputs": []
    },
    {
      "cell_type": "markdown",
      "source": [
        "## 1~20 사이에 3의 배수만 더하는 while문을 만들어주세요."
      ],
      "metadata": {
        "id": "QW9amaqvMO_9"
      }
    },
    {
      "cell_type": "code",
      "source": [
        "# 방법 1 - 거짓이 될 수도 있는 명제 안에 3의 배수일 때만 더하는 if문 사용\n",
        "# 방법 2 - 거짓이 될 수도 있는 명제 안에 3의 배수가 아닐 때만 if문 사용\n",
        "# 방법 3 - 거짓이 될 수도 있는 명제 안에 * 3 사용\n",
        "# 방법 4 - 무한루프 안에 거짓이 될 수도 있는 명제 사용"
      ],
      "metadata": {
        "id": "1RYfkfG4Q3tN"
      },
      "execution_count": null,
      "outputs": []
    },
    {
      "cell_type": "code",
      "source": [],
      "metadata": {
        "id": "_ArORRIqUwY3"
      },
      "execution_count": null,
      "outputs": []
    },
    {
      "cell_type": "code",
      "source": [],
      "metadata": {
        "id": "olTkfA1yVJ15"
      },
      "execution_count": null,
      "outputs": []
    },
    {
      "cell_type": "code",
      "source": [],
      "metadata": {
        "id": "q3fug0QDVw_w"
      },
      "execution_count": null,
      "outputs": []
    },
    {
      "cell_type": "code",
      "source": [],
      "metadata": {
        "id": "msOXEFCpWD_D"
      },
      "execution_count": null,
      "outputs": []
    },
    {
      "cell_type": "code",
      "source": [],
      "metadata": {
        "id": "9189wBjpEyqU"
      },
      "execution_count": null,
      "outputs": []
    },
    {
      "cell_type": "markdown",
      "source": [
        "# for\n",
        "    - 많이 사용하는 문법입니다\n",
        "    - 이터레이블 타입에 굉장히 특화되어있기 때문입니다.\n",
        "\n",
        "    - 이터레이블?\n",
        "        - 반복 가능한 모든 종류의 객체를 의미합니다.\n",
        "        - 첫번재 원소부터 마지막 원소까지 순서대로 접근이 가능하면 이터레이블이라고 부릅니다.\n",
        "        - 시퀀스 타입\n",
        "            - 리스트, 튜플, 문자열\n",
        "       - 매핑형 자료들도 이터레이블화 해서 for문으로 가져올 수 있습니다\n",
        "        - 매핑형\n",
        "            - 딕셔너리 셋 등등등..\n",
        "\n",
        "\n",
        "for의 기본적인 형태는 다음과 같습니다\n",
        "\n",
        "\n",
        "```\n",
        "for 변수 in 이터레이블:\n",
        "    # for 블록\n",
        "```\n",
        "\n",
        "- 이터레이블 원소 개수만큼 반복을 하게 됩니다.\n",
        "- 끝까지 반복하게 할수도, 중간에 끊을수도, 시작점을 다르게 할 수도 있습니다"
      ],
      "metadata": {
        "id": "SgkjvQefXd9q"
      }
    },
    {
      "cell_type": "code",
      "source": [
        "\n"
      ],
      "metadata": {
        "id": "JDni1H0jUdmj"
      },
      "execution_count": null,
      "outputs": []
    },
    {
      "cell_type": "markdown",
      "source": [
        "# for문의 다양한 형태\n",
        "\n",
        "- range와 함께 자주 쓰입니다.\n",
        "- range(시작점, 끝+1, step)"
      ],
      "metadata": {
        "id": "leHqKrc6Y4ei"
      }
    },
    {
      "cell_type": "markdown",
      "source": [
        "#### 실습. 다음 코드를 for문으로 작성해 보세요.\n",
        "~~~\n",
        "a = 10\n",
        "print(a)\n",
        "a = 20\n",
        "print(a)\n",
        "a = 30\n",
        "print(a)\n",
        "~~~"
      ],
      "metadata": {
        "id": "2xl4IvgPFN79"
      }
    },
    {
      "cell_type": "code",
      "source": [],
      "metadata": {
        "id": "8IN8Wv9DE9M_"
      },
      "execution_count": null,
      "outputs": []
    },
    {
      "cell_type": "code",
      "source": [],
      "metadata": {
        "id": "UZqRRDWVf-eE"
      },
      "execution_count": null,
      "outputs": []
    },
    {
      "cell_type": "code",
      "source": [
        "# li1 : 0~4가 담겨있는 list를 하나 만들어주세요 range를 활용합니다 [0,1,2,3,4]"
      ],
      "metadata": {
        "id": "_M9FWo-Avm4x"
      },
      "execution_count": null,
      "outputs": []
    },
    {
      "cell_type": "code",
      "source": [
        "# li2 : 0~4에서 짝수만 담겨있는 list를 하나 만들어주세요 range를 활용합니다 [0,2,4]"
      ],
      "metadata": {
        "id": "rIyKymW_vmMr"
      },
      "execution_count": null,
      "outputs": []
    },
    {
      "cell_type": "markdown",
      "source": [
        "0~4까지 출력하는 for문을 하나 만들어주세요. range를 활용합니다."
      ],
      "metadata": {
        "id": "yJPKcvEDZFbw"
      }
    },
    {
      "cell_type": "code",
      "source": [],
      "metadata": {
        "id": "OX2cUh9JY2NZ"
      },
      "execution_count": null,
      "outputs": []
    },
    {
      "cell_type": "code",
      "source": [],
      "metadata": {
        "id": "7Xkus8qqwCYe"
      },
      "execution_count": null,
      "outputs": []
    },
    {
      "cell_type": "code",
      "source": [],
      "metadata": {
        "id": "v0H9_L7cbMej"
      },
      "execution_count": null,
      "outputs": []
    },
    {
      "cell_type": "code",
      "source": [],
      "metadata": {
        "id": "fBvuiaXsbb67"
      },
      "execution_count": null,
      "outputs": []
    },
    {
      "cell_type": "code",
      "source": [
        "# 시퀀스타입에서는 인덱스를 통해서 리스트의 원소를 하나씩 참조하는 방식으로 for문이 작동합니다."
      ],
      "metadata": {
        "id": "jJl1xm-PbjtK"
      },
      "execution_count": null,
      "outputs": []
    },
    {
      "cell_type": "markdown",
      "source": [
        "실습. 다음 코드를 for문으로 작성해주세요.\n",
        "```\n",
        "print('1번 끝')\n",
        "print(\"-------\")\n",
        "print('2번 끝')\n",
        "print(\"-------\")\n",
        "print('3번 끝')\n",
        "print(\"-------\")\n",
        "```"
      ],
      "metadata": {
        "id": "DZmS_pdoFYHU"
      }
    },
    {
      "cell_type": "code",
      "source": [],
      "metadata": {
        "id": "wnYmZlEqgMBg"
      },
      "execution_count": null,
      "outputs": []
    },
    {
      "cell_type": "code",
      "source": [],
      "metadata": {
        "id": "YDB3pthCFUZ3"
      },
      "execution_count": null,
      "outputs": []
    },
    {
      "cell_type": "code",
      "source": [],
      "metadata": {
        "id": "gQifn-D7hA7m"
      },
      "execution_count": null,
      "outputs": []
    },
    {
      "cell_type": "code",
      "source": [],
      "metadata": {
        "id": "nB74p2FRhIYZ"
      },
      "execution_count": null,
      "outputs": []
    },
    {
      "cell_type": "markdown",
      "source": [
        "## for와 range만 이용해서 해당 list1에 있는 모든 원소를 출력해주세요."
      ],
      "metadata": {
        "id": "L6HBkF7yb5QM"
      }
    },
    {
      "cell_type": "code",
      "source": [
        "list1 = ['a','b','c','d','e','f','g','e','f','g','h']"
      ],
      "metadata": {
        "id": "uXe8gtifbog5"
      },
      "execution_count": null,
      "outputs": []
    },
    {
      "cell_type": "code",
      "source": [],
      "metadata": {
        "id": "PZx5lJ-9domz"
      },
      "execution_count": null,
      "outputs": []
    },
    {
      "cell_type": "code",
      "source": [],
      "metadata": {
        "id": "ldxiQguudp2_"
      },
      "execution_count": null,
      "outputs": []
    },
    {
      "cell_type": "code",
      "source": [],
      "metadata": {
        "id": "VLZdfWzQdseq"
      },
      "execution_count": null,
      "outputs": []
    },
    {
      "cell_type": "code",
      "source": [],
      "metadata": {
        "id": "FbBqpcNUerNp"
      },
      "execution_count": null,
      "outputs": []
    },
    {
      "cell_type": "markdown",
      "source": [
        "## 실습. 1에서 20까지의 정수 중 3의 배수 출력하고 합계 구하기\n",
        "- 아까 while문으로 만든 것을 for문으로 바꿔주시면 됩니다\n",
        "\n"
      ],
      "metadata": {
        "id": "8MujqRgNiKkl"
      }
    },
    {
      "cell_type": "code",
      "source": [],
      "metadata": {
        "id": "thPnjA2hmd49"
      },
      "execution_count": null,
      "outputs": []
    },
    {
      "cell_type": "code",
      "source": [],
      "metadata": {
        "id": "0hvqoaCnOSYR"
      },
      "execution_count": null,
      "outputs": []
    },
    {
      "cell_type": "code",
      "source": [
        "fruits = {'딸기': 'Strawberry', '바나나': 'Banana', '사과': 'Apple', '포도': 'Grape'}"
      ],
      "metadata": {
        "id": "aJzm0lPcO0eU"
      },
      "execution_count": null,
      "outputs": []
    },
    {
      "cell_type": "code",
      "source": [],
      "metadata": {
        "id": "VKmZlK0WO2dl"
      },
      "execution_count": null,
      "outputs": []
    },
    {
      "cell_type": "code",
      "source": [],
      "metadata": {
        "id": "20pEpIdxQzu5"
      },
      "execution_count": null,
      "outputs": []
    },
    {
      "cell_type": "code",
      "source": [],
      "metadata": {
        "id": "ivRLAf6SQ7OE"
      },
      "execution_count": null,
      "outputs": []
    },
    {
      "cell_type": "code",
      "source": [],
      "metadata": {
        "id": "xPzbGWhbW475"
      },
      "execution_count": null,
      "outputs": []
    },
    {
      "cell_type": "code",
      "source": [],
      "metadata": {
        "id": "JM2pZwpfnq7o"
      },
      "execution_count": null,
      "outputs": []
    },
    {
      "cell_type": "code",
      "source": [],
      "metadata": {
        "id": "kMhnKLFImLPu"
      },
      "execution_count": null,
      "outputs": []
    },
    {
      "cell_type": "markdown",
      "source": [
        "## 1~9 사이의 숫자 하나를 입력받아서 해당 단수의 구구단을 출력해주세요"
      ],
      "metadata": {
        "id": "jAOnAy7Zn8td"
      }
    },
    {
      "cell_type": "code",
      "source": [],
      "metadata": {
        "id": "5ThVIMm2ra79"
      },
      "execution_count": null,
      "outputs": []
    },
    {
      "cell_type": "code",
      "source": [],
      "metadata": {
        "id": "RlCwTekNpaXE"
      },
      "execution_count": null,
      "outputs": []
    },
    {
      "cell_type": "markdown",
      "source": [
        "# 파이썬의 반복문을 보고 있습니다.\n",
        "- while, for 밖에 없다 확인했고요\n",
        "- for 문 안에도 for문을 넣어서 반복을 중첩시킬 수 있습니다.\n",
        "\n",
        "```\n",
        "for i in range(숫자):\n",
        "    print('안녕')\n",
        "   for j in range(또다른 숫자):\n",
        "        그 안에 실행문\n",
        "    실행문\n",
        "```\n",
        "\n",
        "#### 반복문에서 사용하는 네이밍 규칙(권장일 뿐)\n",
        "- i 가 의미하는 것은 iterable의 약자입니다. itr로 표현하기도 하는데 결국 같은 표현입니다.\n",
        "\n",
        "- i, j, k, ...... -> 순서나 인덱스를 의미할 때\n",
        "- a, b, 임시변수명(tmp), _(underscore) -> 매개변수를 직접 의미할 때는\n",
        "\n",
        "- count, cnt -> 개수를 의미하는 용도\n",
        "- 여러개 단어를 합쳐서 쓸 때는 스네이크 케이스 snake_case\n",
        "\n"
      ],
      "metadata": {
        "id": "P_8tllDuwvW_"
      }
    },
    {
      "cell_type": "code",
      "source": [],
      "metadata": {
        "id": "ePCBg1zXttp6"
      },
      "execution_count": null,
      "outputs": []
    },
    {
      "cell_type": "code",
      "source": [],
      "metadata": {
        "id": "kyORwSguysQJ"
      },
      "execution_count": null,
      "outputs": []
    },
    {
      "cell_type": "code",
      "source": [],
      "metadata": {
        "id": "Qra5yJE2y4O3"
      },
      "execution_count": null,
      "outputs": []
    },
    {
      "cell_type": "markdown",
      "source": [
        "# 연습해보는 수밖에 없어요 ㅠㅠ\n",
        "## 울지 마시구요....."
      ],
      "metadata": {
        "id": "2uhCr0d511T1"
      }
    },
    {
      "cell_type": "code",
      "source": [],
      "metadata": {
        "id": "6uxoasva1o8z"
      },
      "execution_count": null,
      "outputs": []
    },
    {
      "cell_type": "markdown",
      "source": [
        "# 구구단 1개단 받았죠.input을 지우고\n",
        "# 구구단을 1~9단까지 출력해보겠습니다."
      ],
      "metadata": {
        "id": "0X720oRm2y0j"
      }
    },
    {
      "cell_type": "code",
      "source": [],
      "metadata": {
        "id": "KaPxtGwu4xdN"
      },
      "execution_count": null,
      "outputs": []
    },
    {
      "cell_type": "code",
      "source": [
        "#구구단을 가로로 출력해보세요"
      ],
      "metadata": {
        "colab": {
          "base_uri": "https://localhost:8080/"
        },
        "id": "kIIlxGNC3hlj",
        "outputId": "2e260926-e64b-44ae-f9d5-a7c41b5fee42"
      },
      "execution_count": null,
      "outputs": [
        {
          "output_type": "stream",
          "name": "stdout",
          "text": [
            "2 x 1 = 2\t3 x 1 = 3\t4 x 1 = 4\t5 x 1 = 5\t6 x 1 = 6\t7 x 1 = 7\t8 x 1 = 8\t9 x 1 = 9\t\n",
            "2 x 2 = 4\t3 x 2 = 6\t4 x 2 = 8\t5 x 2 = 10\t6 x 2 = 12\t7 x 2 = 14\t8 x 2 = 16\t9 x 2 = 18\t\n",
            "2 x 3 = 6\t3 x 3 = 9\t4 x 3 = 12\t5 x 3 = 15\t6 x 3 = 18\t7 x 3 = 21\t8 x 3 = 24\t9 x 3 = 27\t\n",
            "2 x 4 = 8\t3 x 4 = 12\t4 x 4 = 16\t5 x 4 = 20\t6 x 4 = 24\t7 x 4 = 28\t8 x 4 = 32\t9 x 4 = 36\t\n",
            "2 x 5 = 10\t3 x 5 = 15\t4 x 5 = 20\t5 x 5 = 25\t6 x 5 = 30\t7 x 5 = 35\t8 x 5 = 40\t9 x 5 = 45\t\n",
            "2 x 6 = 12\t3 x 6 = 18\t4 x 6 = 24\t5 x 6 = 30\t6 x 6 = 36\t7 x 6 = 42\t8 x 6 = 48\t9 x 6 = 54\t\n",
            "2 x 7 = 14\t3 x 7 = 21\t4 x 7 = 28\t5 x 7 = 35\t6 x 7 = 42\t7 x 7 = 49\t8 x 7 = 56\t9 x 7 = 63\t\n",
            "2 x 8 = 16\t3 x 8 = 24\t4 x 8 = 32\t5 x 8 = 40\t6 x 8 = 48\t7 x 8 = 56\t8 x 8 = 64\t9 x 8 = 72\t\n",
            "2 x 9 = 18\t3 x 9 = 27\t4 x 9 = 36\t5 x 9 = 45\t6 x 9 = 54\t7 x 9 = 63\t8 x 9 = 72\t9 x 9 = 81\t\n"
          ]
        }
      ]
    },
    {
      "cell_type": "markdown",
      "source": [
        "# 반복문\n",
        "- 중첩 반복문으로 1~9단을 직접 출력 해보았습니다."
      ],
      "metadata": {
        "id": "EzF3HxugmfvC"
      }
    },
    {
      "cell_type": "code",
      "source": [],
      "metadata": {
        "id": "D7SqC79YkAzu"
      },
      "execution_count": null,
      "outputs": []
    },
    {
      "cell_type": "markdown",
      "source": [
        "## 그러면 while 문으로도 중첩이 가능할까??"
      ],
      "metadata": {
        "id": "LpKssRe7myf4"
      }
    },
    {
      "cell_type": "code",
      "source": [],
      "metadata": {
        "id": "SzscIgnfp9Rm"
      },
      "execution_count": null,
      "outputs": []
    },
    {
      "cell_type": "code",
      "source": [],
      "metadata": {
        "id": "ggoznAt_rc_7"
      },
      "execution_count": null,
      "outputs": []
    },
    {
      "cell_type": "code",
      "source": [],
      "metadata": {
        "id": "vbyAMsJopCtL"
      },
      "execution_count": null,
      "outputs": []
    }
  ]
}