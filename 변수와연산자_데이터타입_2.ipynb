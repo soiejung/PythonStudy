{
  "nbformat": 4,
  "nbformat_minor": 0,
  "metadata": {
    "colab": {
      "provenance": [],
      "toc_visible": true,
      "include_colab_link": true
    },
    "kernelspec": {
      "name": "python3",
      "display_name": "Python 3"
    },
    "language_info": {
      "name": "python"
    }
  },
  "cells": [
    {
      "cell_type": "markdown",
      "metadata": {
        "id": "view-in-github",
        "colab_type": "text"
      },
      "source": [
        "<a href=\"https://colab.research.google.com/github/soiejung/PythonStudy/blob/main/%EB%B3%80%EC%88%98%EC%99%80%EC%97%B0%EC%82%B0%EC%9E%90_%EB%8D%B0%EC%9D%B4%ED%84%B0%ED%83%80%EC%9E%85_2.ipynb\" target=\"_parent\"><img src=\"https://colab.research.google.com/assets/colab-badge.svg\" alt=\"Open In Colab\"/></a>"
      ]
    },
    {
      "cell_type": "markdown",
      "source": [
        "# 0. 복습"
      ],
      "metadata": {
        "id": "tnwjFp_foV6L"
      }
    },
    {
      "cell_type": "markdown",
      "source": [
        "### 1. 화면에 Hello World 문자열을 출력하세요."
      ],
      "metadata": {
        "id": "a4quNkqmXxAu"
      }
    },
    {
      "cell_type": "code",
      "source": [
        "print('Hello World')"
      ],
      "metadata": {
        "id": "NB4dx9aIX7uZ",
        "colab": {
          "base_uri": "https://localhost:8080/"
        },
        "outputId": "a73ee3e7-af1e-405a-d27e-35c3a0121ede"
      },
      "execution_count": null,
      "outputs": [
        {
          "output_type": "stream",
          "name": "stdout",
          "text": [
            "Hello World\n"
          ]
        }
      ]
    },
    {
      "cell_type": "markdown",
      "source": [
        "### 2. 화면에 아래 문장을 출력하세요.\n",
        "\n",
        "연지가 말했다. \"좋은 아침입니다\"."
      ],
      "metadata": {
        "id": "2Tu9k94jYH9q"
      }
    },
    {
      "cell_type": "code",
      "source": [
        "print('연지가 말했다. \\\"좋은 아침입니다.\\\"')"
      ],
      "metadata": {
        "id": "cOYiAhd6YRoM",
        "colab": {
          "base_uri": "https://localhost:8080/"
        },
        "outputId": "8d448b22-e3a1-4d33-c0df-938f58afcd26"
      },
      "execution_count": null,
      "outputs": [
        {
          "output_type": "stream",
          "name": "stdout",
          "text": [
            "연지가 말했다. \"좋은 아침입니다.\"\n"
          ]
        }
      ]
    },
    {
      "cell_type": "markdown",
      "source": [
        "2-1. 이스케이핑 문자를 사용하여 \"좋은 아침입니다\" 부분을 다시 출력해보세요."
      ],
      "metadata": {
        "id": "yw0Aw5aUobjE"
      }
    },
    {
      "cell_type": "code",
      "source": [
        "print('연지가 말했다. \\\"좋은 아침입니다.\\\"')"
      ],
      "metadata": {
        "id": "JOxfb51GOGn9",
        "colab": {
          "base_uri": "https://localhost:8080/"
        },
        "outputId": "c1877ca5-f1de-4b8a-895c-dec458fbf4d6"
      },
      "execution_count": null,
      "outputs": [
        {
          "output_type": "stream",
          "name": "stdout",
          "text": [
            "연지가 말했다. \"좋은 아침입니다.\"\n"
          ]
        }
      ]
    },
    {
      "cell_type": "markdown",
      "source": [
        "### 3. 다음 코드를 실행해보고 \\t와 \\n의 역할을 설명해보세요.\n",
        "\n",
        "\n",
        "print(\"안녕하세요.\\n만나서\\t\\t반갑습니다.\")"
      ],
      "metadata": {
        "id": "lB5OzTrFYjKd"
      }
    },
    {
      "cell_type": "code",
      "source": [
        "print(\"안녕하세요. \\n만나서\\t\\t반갑습니다.\")\n",
        "# \\t는 4칸을 띄워주고 \\n은 행을 바꿔준다."
      ],
      "metadata": {
        "id": "aCIjWhbBYoww",
        "colab": {
          "base_uri": "https://localhost:8080/"
        },
        "outputId": "49299366-b6bb-4a70-d44e-d21776aa9fa0"
      },
      "execution_count": null,
      "outputs": [
        {
          "output_type": "stream",
          "name": "stdout",
          "text": [
            "안녕하세요. \n",
            "만나서\t\t반갑습니다.\n"
          ]
        }
      ]
    },
    {
      "cell_type": "markdown",
      "source": [
        "### 4. 3번의 출력결과를 \\n, \\t 를 사용하지 않고 출력해보세요."
      ],
      "metadata": {
        "id": "PRu6nH61Yq7Z"
      }
    },
    {
      "cell_type": "code",
      "source": [
        "print(\"안녕하세요.\");\n",
        "print(\"만나서        반갑습니다.\")"
      ],
      "metadata": {
        "id": "QYmsDXHJZjU5",
        "colab": {
          "base_uri": "https://localhost:8080/"
        },
        "outputId": "4c34c2ed-3b5a-4848-bd19-70559e22708d"
      },
      "execution_count": null,
      "outputs": [
        {
          "output_type": "stream",
          "name": "stdout",
          "text": [
            "안녕하세요.\n",
            "만나서        반갑습니다.\n"
          ]
        }
      ]
    },
    {
      "cell_type": "markdown",
      "source": [
        "### 5. 5/10의 결과를 화면에 출력하세요."
      ],
      "metadata": {
        "id": "blyX7nxdZprI"
      }
    },
    {
      "cell_type": "code",
      "source": [
        "print(5/10) #함수 안에서 또 다른 연산을 수행시킬 수 있다. 그러면 () 안에 있는 연산이 먼저 수행된다.\n",
        "# int끼리 나눴는데 float으로 결과가 출력되는 것\n",
        "# 파이썬은 기본적으로 자료형을 자동으로 지정해줍니다 - 그 과정에서 손실이 없도록\n",
        "# 나눗셈은 float으로 결과를 출력해 주고 있다."
      ],
      "metadata": {
        "id": "Wb0ItaYVZsB_",
        "colab": {
          "base_uri": "https://localhost:8080/"
        },
        "outputId": "cbb10625-60b2-44cc-fe04-0e291b255e17"
      },
      "execution_count": null,
      "outputs": [
        {
          "output_type": "stream",
          "name": "stdout",
          "text": [
            "0.5\n"
          ]
        }
      ]
    },
    {
      "cell_type": "markdown",
      "source": [
        "6-1. 변수 a에는 'Life is'라는 문자열, b에는 42라는 숫자를 바인딩(할당)하시고, 아래처럼 출력해주세요.\n",
        "```\n",
        "Life is 42 !\n",
        "```"
      ],
      "metadata": {
        "id": "fYMkgxxdvE4o"
      }
    },
    {
      "cell_type": "code",
      "source": [
        "a = 'Life is'"
      ],
      "metadata": {
        "id": "Q-gzzmlXtkh-"
      },
      "execution_count": null,
      "outputs": []
    },
    {
      "cell_type": "code",
      "source": [
        "b = 42"
      ],
      "metadata": {
        "id": "1vtAg-GC6ucW"
      },
      "execution_count": null,
      "outputs": []
    },
    {
      "cell_type": "code",
      "source": [
        "print(a,b,'!') # ,로 출력을 요청했을 때는 3개의 서로 다른 자료를 출력 요청했기 때문에 자료형에 구애받지 않고 출력된다.\n",
        "# 다만 ' '으로 3개의 자료를 분리해서 출력한다."
      ],
      "metadata": {
        "id": "2YpGcKXHPW3i",
        "colab": {
          "base_uri": "https://localhost:8080/"
        },
        "outputId": "f72b1e6e-c64c-406a-806e-1d695b519b7b"
      },
      "execution_count": null,
      "outputs": [
        {
          "output_type": "stream",
          "name": "stdout",
          "text": [
            "Life is 42 !\n"
          ]
        }
      ]
    },
    {
      "cell_type": "markdown",
      "source": [
        "6-2. 위에서 만든 변수 a, b의 타입을 확인하는 함수를 이용하여 각각의 타입을 확인해주세요."
      ],
      "metadata": {
        "id": "E6HMLAmRNOXc"
      }
    },
    {
      "cell_type": "code",
      "source": [
        "type(a)"
      ],
      "metadata": {
        "id": "liJPqWw0MAYF",
        "colab": {
          "base_uri": "https://localhost:8080/"
        },
        "outputId": "7c3eadde-f607-4335-f77b-a61eec846ae7"
      },
      "execution_count": null,
      "outputs": [
        {
          "output_type": "execute_result",
          "data": {
            "text/plain": [
              "str"
            ]
          },
          "metadata": {},
          "execution_count": 14
        }
      ]
    },
    {
      "cell_type": "code",
      "source": [
        "type(b)"
      ],
      "metadata": {
        "id": "vYL6ujwvujou",
        "colab": {
          "base_uri": "https://localhost:8080/"
        },
        "outputId": "f103b5bb-d478-46e6-c807-4beb1e9ed80e"
      },
      "execution_count": null,
      "outputs": [
        {
          "output_type": "execute_result",
          "data": {
            "text/plain": [
              "int"
            ]
          },
          "metadata": {},
          "execution_count": 15
        }
      ]
    },
    {
      "cell_type": "markdown",
      "source": [
        "8. month라는 변수에 문자열 \"2022.08\"를 바인딩하신 후 실수(float)타입으로 변환해보세요.\n",
        "- 파이썬에서 자료형 변환을 위해서는 int(자료, 혹은 자료를 담은 변수명) 처럼 자료형을 나타내는 예약어를 함수로 사용합니다."
      ],
      "metadata": {
        "id": "Py63kOJoNwIE"
      }
    },
    {
      "cell_type": "code",
      "source": [
        "month = '2022.08'"
      ],
      "metadata": {
        "id": "mBDOHV9BN6Bx"
      },
      "execution_count": null,
      "outputs": []
    },
    {
      "cell_type": "code",
      "source": [
        "float(month) # 실수로 바꿔줘 라고 요청한 결과를 변수에 저장하지 않았음\n",
        "# 화면에만 float으로 바꿔서 출력하라 했기 때문에 메모리에는 여전히 str로 저장되어 있음"
      ],
      "metadata": {
        "id": "mcspO2nXQJQt",
        "colab": {
          "base_uri": "https://localhost:8080/"
        },
        "outputId": "0b847520-3919-4963-ec8a-a6f6d8d5cb09"
      },
      "execution_count": null,
      "outputs": [
        {
          "output_type": "execute_result",
          "data": {
            "text/plain": [
              "2022.08"
            ]
          },
          "metadata": {},
          "execution_count": 21
        }
      ]
    },
    {
      "cell_type": "code",
      "source": [
        "month = float(month)\n",
        "type(month)"
      ],
      "metadata": {
        "colab": {
          "base_uri": "https://localhost:8080/"
        },
        "id": "Hlh0g2-P6K99",
        "outputId": "d825ea6c-79f6-4514-f3b7-470d72097db4"
      },
      "execution_count": null,
      "outputs": [
        {
          "output_type": "execute_result",
          "data": {
            "text/plain": [
              "float"
            ]
          },
          "metadata": {},
          "execution_count": 22
        }
      ]
    },
    {
      "cell_type": "markdown",
      "source": [
        "# 1. 수업"
      ],
      "metadata": {
        "id": "x79zTSdapvZB"
      }
    },
    {
      "cell_type": "markdown",
      "source": [
        "# 사칙연산 (+, -, /, *)\n",
        "  - 추가적인 사칙연산 : 지수연산(**) 몫연산 (//) 나머지 연산 (%)로 표기합니다.\n",
        "- 부호 (-)\n"
      ],
      "metadata": {
        "id": "KgKFsegC9fUT"
      }
    },
    {
      "cell_type": "code",
      "source": [
        "2**3 #2의 3승"
      ],
      "metadata": {
        "id": "7t1_kQYhC22r",
        "colab": {
          "base_uri": "https://localhost:8080/"
        },
        "outputId": "7e3d18c8-ae75-44e9-a3eb-06837adf0ede"
      },
      "execution_count": null,
      "outputs": [
        {
          "output_type": "execute_result",
          "data": {
            "text/plain": [
              "8"
            ]
          },
          "metadata": {},
          "execution_count": 23
        }
      ]
    },
    {
      "cell_type": "code",
      "source": [
        "2//3 #몫만"
      ],
      "metadata": {
        "id": "Q6y8nhZRC4vb",
        "colab": {
          "base_uri": "https://localhost:8080/"
        },
        "outputId": "41acc998-2e62-4ba4-c8c1-dc756bd3bd4a"
      },
      "execution_count": null,
      "outputs": [
        {
          "output_type": "execute_result",
          "data": {
            "text/plain": [
              "0"
            ]
          },
          "metadata": {},
          "execution_count": 24
        }
      ]
    },
    {
      "cell_type": "code",
      "source": [
        "2%3 #나머지만"
      ],
      "metadata": {
        "id": "jZsTh82zC6Yi",
        "colab": {
          "base_uri": "https://localhost:8080/"
        },
        "outputId": "5e34edcc-4144-4f8b-e253-2c9f358be201"
      },
      "execution_count": null,
      "outputs": [
        {
          "output_type": "execute_result",
          "data": {
            "text/plain": [
              "2"
            ]
          },
          "metadata": {},
          "execution_count": 25
        }
      ]
    },
    {
      "cell_type": "code",
      "source": [
        "'정소이' * 3 # 곱셈은 됨"
      ],
      "metadata": {
        "id": "Qc2_GXIjB4J4",
        "colab": {
          "base_uri": "https://localhost:8080/",
          "height": 35
        },
        "outputId": "a23ef32a-3c08-4a82-c9f6-e028a2e64867"
      },
      "execution_count": null,
      "outputs": [
        {
          "output_type": "execute_result",
          "data": {
            "text/plain": [
              "'정소이정소이정소이'"
            ],
            "application/vnd.google.colaboratory.intrinsic+json": {
              "type": "string"
            }
          },
          "metadata": {},
          "execution_count": 26
        }
      ]
    },
    {
      "cell_type": "code",
      "source": [
        "1 + 1.2 # int와 float은 다른 자료형이지만 큰 틀에서는 숫자형이기 때문에 사칙연산이 모두 성립된다."
      ],
      "metadata": {
        "id": "Zu3H36Ty9YpA",
        "colab": {
          "base_uri": "https://localhost:8080/"
        },
        "outputId": "6ffec272-6705-4cb1-d231-cf682198f246"
      },
      "execution_count": null,
      "outputs": [
        {
          "output_type": "execute_result",
          "data": {
            "text/plain": [
              "2.2"
            ]
          },
          "metadata": {},
          "execution_count": 28
        }
      ]
    },
    {
      "cell_type": "code",
      "source": [
        "1 + True"
      ],
      "metadata": {
        "id": "GsJJ5fvPCSiI",
        "colab": {
          "base_uri": "https://localhost:8080/"
        },
        "outputId": "be75423c-215d-4556-af16-bd99bdcf85bc"
      },
      "execution_count": null,
      "outputs": [
        {
          "output_type": "execute_result",
          "data": {
            "text/plain": [
              "2"
            ]
          },
          "metadata": {},
          "execution_count": 27
        }
      ]
    },
    {
      "cell_type": "markdown",
      "source": [
        "- 논리연산자 - 불리언 연산자 (and, or, not)\n",
        "- 비교연산자\n",
        "  - `=` 같다라는 뜻 아닙니다 -> 프로그래밍 언어에서는 할당 연산자로 사용을 합니다.\n",
        "  - `==` 같다라는 뜻 -> 항등 연산자, 자료형 타입과 값을 함께 비교\n",
        "  - a = 3 a라는 변수명에 3을 넣겠다\n",
        "  - ==, !=, > < >= <="
      ],
      "metadata": {
        "id": "v5_mGNNF93S_"
      }
    },
    {
      "cell_type": "code",
      "source": [
        "a = 3 # 변수에 자료를 할당할 때 등호기호를 사용합니다."
      ],
      "metadata": {
        "id": "DJuqOx_g9zps"
      },
      "execution_count": null,
      "outputs": []
    },
    {
      "cell_type": "code",
      "source": [
        "a == 3"
      ],
      "metadata": {
        "id": "G0LzEuJDAyMg",
        "colab": {
          "base_uri": "https://localhost:8080/"
        },
        "outputId": "f3d29e96-0ba9-459b-cfaf-4085f21a4a59"
      },
      "execution_count": null,
      "outputs": [
        {
          "output_type": "execute_result",
          "data": {
            "text/plain": [
              "True"
            ]
          },
          "metadata": {},
          "execution_count": 30
        }
      ]
    },
    {
      "cell_type": "code",
      "source": [
        "'3' == 3 # 값은 같지만 자료형이 다르기 때문에"
      ],
      "metadata": {
        "id": "4eUQsJpnDfx8",
        "colab": {
          "base_uri": "https://localhost:8080/"
        },
        "outputId": "1f82b8be-a9fb-4138-a707-ece41a9ccb15"
      },
      "execution_count": null,
      "outputs": [
        {
          "output_type": "execute_result",
          "data": {
            "text/plain": [
              "False"
            ]
          },
          "metadata": {},
          "execution_count": 32
        }
      ]
    },
    {
      "cell_type": "code",
      "source": [
        "int('3') == 3"
      ],
      "metadata": {
        "id": "EszhaXxODbsr",
        "colab": {
          "base_uri": "https://localhost:8080/"
        },
        "outputId": "907ecc40-0c56-4119-b8d8-f1167718237b"
      },
      "execution_count": null,
      "outputs": [
        {
          "output_type": "execute_result",
          "data": {
            "text/plain": [
              "True"
            ]
          },
          "metadata": {},
          "execution_count": 33
        }
      ]
    },
    {
      "cell_type": "code",
      "source": [
        "3 > 1"
      ],
      "metadata": {
        "id": "pTqO0yTzBRXm",
        "colab": {
          "base_uri": "https://localhost:8080/"
        },
        "outputId": "cf93133d-a20b-4ff6-fbfb-ad885554c6df"
      },
      "execution_count": null,
      "outputs": [
        {
          "output_type": "execute_result",
          "data": {
            "text/plain": [
              "True"
            ]
          },
          "metadata": {},
          "execution_count": 36
        }
      ]
    },
    {
      "cell_type": "code",
      "source": [
        "3 < 1"
      ],
      "metadata": {
        "id": "TPok0j40BSR3",
        "colab": {
          "base_uri": "https://localhost:8080/"
        },
        "outputId": "81ecf976-d25e-499a-e9e0-69efe4050d7f"
      },
      "execution_count": null,
      "outputs": [
        {
          "output_type": "execute_result",
          "data": {
            "text/plain": [
              "False"
            ]
          },
          "metadata": {},
          "execution_count": 37
        }
      ]
    },
    {
      "cell_type": "code",
      "source": [
        "3 != '3'"
      ],
      "metadata": {
        "colab": {
          "base_uri": "https://localhost:8080/"
        },
        "id": "054ZwvQQBi0F",
        "outputId": "fa7fa7bb-d2b7-472e-8a9e-1259d1f7de35"
      },
      "execution_count": null,
      "outputs": [
        {
          "output_type": "execute_result",
          "data": {
            "text/plain": [
              "True"
            ]
          },
          "metadata": {},
          "execution_count": 38
        }
      ]
    },
    {
      "cell_type": "code",
      "source": [
        "'A' >= 'a'"
      ],
      "metadata": {
        "colab": {
          "base_uri": "https://localhost:8080/"
        },
        "id": "M7yqAeFxBpTM",
        "outputId": "69e394a3-3a9e-477d-ef69-a2d197b58a00"
      },
      "execution_count": null,
      "outputs": [
        {
          "output_type": "execute_result",
          "data": {
            "text/plain": [
              "False"
            ]
          },
          "metadata": {},
          "execution_count": 39
        }
      ]
    },
    {
      "cell_type": "code",
      "source": [
        "'A' == 'a'"
      ],
      "metadata": {
        "colab": {
          "base_uri": "https://localhost:8080/"
        },
        "id": "K3EQV_qkBwWR",
        "outputId": "b44caa1b-7b0c-47e3-a681-767c8241cc64"
      },
      "execution_count": null,
      "outputs": [
        {
          "output_type": "execute_result",
          "data": {
            "text/plain": [
              "False"
            ]
          },
          "metadata": {},
          "execution_count": 40
        }
      ]
    },
    {
      "cell_type": "code",
      "source": [
        "'A' != 'a'"
      ],
      "metadata": {
        "colab": {
          "base_uri": "https://localhost:8080/"
        },
        "id": "5kFE2O__ByQ3",
        "outputId": "4c6fe0f3-5e32-46bc-8be4-8beb16512256"
      },
      "execution_count": null,
      "outputs": [
        {
          "output_type": "execute_result",
          "data": {
            "text/plain": [
              "True"
            ]
          },
          "metadata": {},
          "execution_count": 41
        }
      ]
    },
    {
      "cell_type": "code",
      "source": [
        "ord('A') # 해당 문자의 아스키코드(혹은 파이썬에서는 utf-8이 기본이니 유니코드)를 보여줌"
      ],
      "metadata": {
        "colab": {
          "base_uri": "https://localhost:8080/"
        },
        "id": "UsPZG_uaB3nt",
        "outputId": "aab943e6-b04f-4af2-9895-a14a06ca3a10"
      },
      "execution_count": null,
      "outputs": [
        {
          "output_type": "execute_result",
          "data": {
            "text/plain": [
              "65"
            ]
          },
          "metadata": {},
          "execution_count": 42
        }
      ]
    },
    {
      "cell_type": "code",
      "source": [
        "ord('a')"
      ],
      "metadata": {
        "colab": {
          "base_uri": "https://localhost:8080/"
        },
        "id": "9b8whFp1B_AI",
        "outputId": "85c2c861-aba7-4d5a-cfcc-64d39594565d"
      },
      "execution_count": null,
      "outputs": [
        {
          "output_type": "execute_result",
          "data": {
            "text/plain": [
              "97"
            ]
          },
          "metadata": {},
          "execution_count": 43
        }
      ]
    },
    {
      "cell_type": "code",
      "source": [
        "'a' > 'A'"
      ],
      "metadata": {
        "colab": {
          "base_uri": "https://localhost:8080/"
        },
        "id": "LRXy_XZ9CG-j",
        "outputId": "72cc23f2-b2c1-4f8d-bb33-0107397022f1"
      },
      "execution_count": null,
      "outputs": [
        {
          "output_type": "execute_result",
          "data": {
            "text/plain": [
              "True"
            ]
          },
          "metadata": {},
          "execution_count": 44
        }
      ]
    },
    {
      "cell_type": "markdown",
      "source": [
        "우선순위\n",
        "```\n",
        " ()  >  **  > -(negative)  >  *, /, //, %  > +, -\n",
        "```\n",
        "\n",
        " - 따로 우선순위를 외우시는 건 추천하지 않습니다.\n",
        " - ( ) 괄호로 우선 연산해야 하는 것들을 꼭 묶어주세요.\n",
        " - 남들이랑 같이 개발할 거잖아요 - 가독성 면에서도 큰 도움이 됩니다."
      ],
      "metadata": {
        "id": "1s7NXg2tCNPH"
      }
    },
    {
      "cell_type": "code",
      "source": [
        "(1+3)/2 # 정수끼리 나눗셈을 할 때도 결과를 실수로 출력한다."
      ],
      "metadata": {
        "id": "829iEC5pCHBw",
        "colab": {
          "base_uri": "https://localhost:8080/"
        },
        "outputId": "804858b0-bd3f-4a22-8848-f62903792305"
      },
      "execution_count": null,
      "outputs": [
        {
          "output_type": "execute_result",
          "data": {
            "text/plain": [
              "2.0"
            ]
          },
          "metadata": {},
          "execution_count": 48
        }
      ]
    },
    {
      "cell_type": "code",
      "source": [
        "round((1+3)/2) # 꼭 정수로 받고 싶다면 round 함수로 감싸준다."
      ],
      "metadata": {
        "id": "1Joy7zFcEklt",
        "colab": {
          "base_uri": "https://localhost:8080/"
        },
        "outputId": "bc820eeb-9ba0-4058-f032-80623fcff896"
      },
      "execution_count": null,
      "outputs": [
        {
          "output_type": "execute_result",
          "data": {
            "text/plain": [
              "2"
            ]
          },
          "metadata": {},
          "execution_count": 50
        }
      ]
    },
    {
      "cell_type": "code",
      "source": [
        "(1+4)/2"
      ],
      "metadata": {
        "id": "C94aK5MEEqX7",
        "colab": {
          "base_uri": "https://localhost:8080/"
        },
        "outputId": "a11908eb-7f93-4ada-c135-24fd6ff719f9"
      },
      "execution_count": null,
      "outputs": [
        {
          "output_type": "execute_result",
          "data": {
            "text/plain": [
              "2.5"
            ]
          },
          "metadata": {},
          "execution_count": 51
        }
      ]
    },
    {
      "cell_type": "code",
      "source": [
        "round((1+4)/2)"
      ],
      "metadata": {
        "id": "9_wALljoEsZh",
        "colab": {
          "base_uri": "https://localhost:8080/"
        },
        "outputId": "08dbe6d7-1380-43c8-c564-2fe7a2ac510d"
      },
      "execution_count": null,
      "outputs": [
        {
          "output_type": "execute_result",
          "data": {
            "text/plain": [
              "2"
            ]
          },
          "metadata": {},
          "execution_count": 52
        }
      ]
    },
    {
      "cell_type": "markdown",
      "source": [
        "## 논리 연산\n",
        "- and, or, not\n",
        "- 명제들간의 연산의 결과를 논리적으로 표현하는 방법입니다.\n",
        "\n",
        "  - 명제? 참/거짓을 구분할 수 있는 모든 문장\n",
        "  - True / False를 실행결과로 반환할 수 있는 모든 명령어를 의미합니다.\n",
        "\n",
        "\n",
        "| A | B |AND | OR | not A | not B |\n",
        "|:---:|:---:|:---:|:---:|:---:|:---:|\n",
        "|T|T|T|T|F|F|\n",
        "|T|F|F|T|F|T|\n",
        "|F|T|F|T|T|F|\n",
        "|F|F|F|F|T|T|\n",
        "\n",
        "\n",
        "- 세상에 완전히 새로운 생각은 없다.\n",
        "- 기존에 했던 생각에 and, or, not 세개를 붙인 생각만이 있을 뿐이다.\n",
        "\n",
        "\n",
        "- 우선순위\n",
        "not > and > or"
      ],
      "metadata": {
        "id": "iTmE2bQVCtJE"
      }
    },
    {
      "cell_type": "code",
      "source": [
        "True and True"
      ],
      "metadata": {
        "id": "DTt5qC6_CaPX",
        "colab": {
          "base_uri": "https://localhost:8080/"
        },
        "outputId": "e265a302-f044-413e-d760-344d2ab8557b"
      },
      "execution_count": null,
      "outputs": [
        {
          "output_type": "execute_result",
          "data": {
            "text/plain": [
              "True"
            ]
          },
          "metadata": {},
          "execution_count": 53
        }
      ]
    },
    {
      "cell_type": "code",
      "source": [
        "True and False"
      ],
      "metadata": {
        "id": "BznmtSyqD1N-",
        "colab": {
          "base_uri": "https://localhost:8080/"
        },
        "outputId": "d53b3792-9420-4573-c885-a9d0ea299839"
      },
      "execution_count": null,
      "outputs": [
        {
          "output_type": "execute_result",
          "data": {
            "text/plain": [
              "False"
            ]
          },
          "metadata": {},
          "execution_count": 54
        }
      ]
    },
    {
      "cell_type": "code",
      "source": [
        "not True"
      ],
      "metadata": {
        "id": "NpFn2NaCD3nX",
        "colab": {
          "base_uri": "https://localhost:8080/"
        },
        "outputId": "6e57cb11-bccd-426f-c4fb-c88d654caa67"
      },
      "execution_count": null,
      "outputs": [
        {
          "output_type": "execute_result",
          "data": {
            "text/plain": [
              "False"
            ]
          },
          "metadata": {},
          "execution_count": 55
        }
      ]
    },
    {
      "cell_type": "code",
      "source": [
        "not False"
      ],
      "metadata": {
        "id": "9zEl29T-D-5o",
        "colab": {
          "base_uri": "https://localhost:8080/"
        },
        "outputId": "1006f7a3-8a38-4219-bdb4-6af08fbb107d"
      },
      "execution_count": null,
      "outputs": [
        {
          "output_type": "execute_result",
          "data": {
            "text/plain": [
              "True"
            ]
          },
          "metadata": {},
          "execution_count": 56
        }
      ]
    },
    {
      "cell_type": "markdown",
      "source": [
        " not > and > or"
      ],
      "metadata": {
        "id": "vaB9HiXLEhlv"
      }
    },
    {
      "cell_type": "code",
      "source": [
        "20 != 10 and 10 == 10"
      ],
      "metadata": {
        "id": "VLR_viTlEQd3",
        "colab": {
          "base_uri": "https://localhost:8080/"
        },
        "outputId": "db4a23cc-5fd1-40cf-e813-a6906764c81c"
      },
      "execution_count": null,
      "outputs": [
        {
          "output_type": "execute_result",
          "data": {
            "text/plain": [
              "True"
            ]
          },
          "metadata": {},
          "execution_count": 57
        }
      ]
    },
    {
      "cell_type": "code",
      "source": [
        "20 != (10 and 10) == 10"
      ],
      "metadata": {
        "id": "qT1bERtJIaIy",
        "colab": {
          "base_uri": "https://localhost:8080/"
        },
        "outputId": "f3af3b6c-cb97-4d02-bbe1-c4f09e0ed382"
      },
      "execution_count": null,
      "outputs": [
        {
          "output_type": "execute_result",
          "data": {
            "text/plain": [
              "True"
            ]
          },
          "metadata": {},
          "execution_count": 58
        }
      ]
    },
    {
      "cell_type": "code",
      "source": [
        "10 and 10"
      ],
      "metadata": {
        "id": "bJXMhRG6Jmdj",
        "colab": {
          "base_uri": "https://localhost:8080/"
        },
        "outputId": "6f5caa44-374b-4241-db40-ac3c4bc5a69d"
      },
      "execution_count": null,
      "outputs": [
        {
          "output_type": "execute_result",
          "data": {
            "text/plain": [
              "10"
            ]
          },
          "metadata": {},
          "execution_count": 60
        }
      ]
    },
    {
      "cell_type": "code",
      "source": [
        "round((1+3)/2) != (1+3)/2 and 'A'>'a'"
      ],
      "metadata": {
        "id": "FgdFCBCPJufC",
        "colab": {
          "base_uri": "https://localhost:8080/"
        },
        "outputId": "e3fdcc6b-26f2-4afa-b9df-0614969dd686"
      },
      "execution_count": null,
      "outputs": [
        {
          "output_type": "execute_result",
          "data": {
            "text/plain": [
              "False"
            ]
          },
          "metadata": {},
          "execution_count": 66
        }
      ]
    },
    {
      "cell_type": "code",
      "source": [
        "'Python' < 'python' # 문자열인 경우 각각의 아스키코드 값을 더해서 비교한다."
      ],
      "metadata": {
        "id": "iREIuYxcJkHw",
        "colab": {
          "base_uri": "https://localhost:8080/"
        },
        "outputId": "f816dca5-4745-4fb4-dda0-1589a9d3dbc8"
      },
      "execution_count": null,
      "outputs": [
        {
          "output_type": "execute_result",
          "data": {
            "text/plain": [
              "True"
            ]
          },
          "metadata": {},
          "execution_count": 68
        }
      ]
    },
    {
      "cell_type": "markdown",
      "source": [
        "# 타입변환\n",
        "\n",
        "- 자료형을 자기가 알아서 지정해준다\n",
        "- 자유롭게 형변환도 허락을 합니다.\n",
        "- str(), int(), float(), bool()"
      ],
      "metadata": {
        "id": "904mzqzEH3Y6"
      }
    },
    {
      "cell_type": "code",
      "source": [
        "a = 1"
      ],
      "metadata": {
        "id": "JoGXDsnqHVG4"
      },
      "execution_count": null,
      "outputs": []
    },
    {
      "cell_type": "code",
      "source": [
        "type(a)"
      ],
      "metadata": {
        "id": "1__Siiy-IJ8q",
        "colab": {
          "base_uri": "https://localhost:8080/"
        },
        "outputId": "ed9a789a-4cb5-43e7-811a-c83da8df5e36"
      },
      "execution_count": null,
      "outputs": [
        {
          "output_type": "execute_result",
          "data": {
            "text/plain": [
              "int"
            ]
          },
          "metadata": {},
          "execution_count": 70
        }
      ]
    },
    {
      "cell_type": "code",
      "source": [
        "int(24.6)"
      ],
      "metadata": {
        "id": "yzFhvHrVIQfu",
        "colab": {
          "base_uri": "https://localhost:8080/"
        },
        "outputId": "22fba1ba-2d87-4ba2-8786-cd1738ac2434"
      },
      "execution_count": null,
      "outputs": [
        {
          "output_type": "execute_result",
          "data": {
            "text/plain": [
              "24"
            ]
          },
          "metadata": {},
          "execution_count": 71
        }
      ]
    },
    {
      "cell_type": "code",
      "source": [
        "float(1)"
      ],
      "metadata": {
        "id": "wmboKCBSITyy",
        "colab": {
          "base_uri": "https://localhost:8080/"
        },
        "outputId": "29e57779-a4d2-4330-c275-30343adab9b5"
      },
      "execution_count": null,
      "outputs": [
        {
          "output_type": "execute_result",
          "data": {
            "text/plain": [
              "1.0"
            ]
          },
          "metadata": {},
          "execution_count": 72
        }
      ]
    },
    {
      "cell_type": "code",
      "source": [
        "bool(1)"
      ],
      "metadata": {
        "id": "1_fIWICi_kTe",
        "colab": {
          "base_uri": "https://localhost:8080/"
        },
        "outputId": "a055c77d-268c-4a44-cdcc-8048a0b2c1d0"
      },
      "execution_count": null,
      "outputs": [
        {
          "output_type": "execute_result",
          "data": {
            "text/plain": [
              "True"
            ]
          },
          "metadata": {},
          "execution_count": 73
        }
      ]
    },
    {
      "cell_type": "code",
      "source": [
        "bool() # 값이 없으면 모두 False로 판단하고, 값이 있으면 모두 True로 판단한다."
      ],
      "metadata": {
        "id": "9iHftEUkIbtn",
        "colab": {
          "base_uri": "https://localhost:8080/"
        },
        "outputId": "18f2ce66-959f-42d9-e652-87bb80586db2"
      },
      "execution_count": null,
      "outputs": [
        {
          "output_type": "execute_result",
          "data": {
            "text/plain": [
              "False"
            ]
          },
          "metadata": {},
          "execution_count": 74
        }
      ]
    },
    {
      "cell_type": "code",
      "source": [
        "bool(-1)"
      ],
      "metadata": {
        "id": "Cmqc0TXRIkyv",
        "colab": {
          "base_uri": "https://localhost:8080/"
        },
        "outputId": "1b33c306-f8a8-4a7d-8a71-df2d8c8d0cf2"
      },
      "execution_count": null,
      "outputs": [
        {
          "output_type": "execute_result",
          "data": {
            "text/plain": [
              "True"
            ]
          },
          "metadata": {},
          "execution_count": 75
        }
      ]
    },
    {
      "cell_type": "code",
      "source": [
        "bool('')"
      ],
      "metadata": {
        "id": "Q7JUTRRSIq6n",
        "colab": {
          "base_uri": "https://localhost:8080/"
        },
        "outputId": "23756734-ab82-4c8f-d21c-2f5c82802b36"
      },
      "execution_count": null,
      "outputs": [
        {
          "output_type": "execute_result",
          "data": {
            "text/plain": [
              "False"
            ]
          },
          "metadata": {},
          "execution_count": 76
        }
      ]
    },
    {
      "cell_type": "code",
      "source": [
        "bool([])"
      ],
      "metadata": {
        "id": "kzM6WTOeIsG_",
        "colab": {
          "base_uri": "https://localhost:8080/"
        },
        "outputId": "13d8b1e3-b80f-4e70-fbd9-18529d778e80"
      },
      "execution_count": null,
      "outputs": [
        {
          "output_type": "execute_result",
          "data": {
            "text/plain": [
              "False"
            ]
          },
          "metadata": {},
          "execution_count": 77
        }
      ]
    },
    {
      "cell_type": "code",
      "source": [
        "bool(0)"
      ],
      "metadata": {
        "id": "u8b93T8mItbv",
        "colab": {
          "base_uri": "https://localhost:8080/"
        },
        "outputId": "7f5e3264-6099-4ed3-eb79-bd7704d5852c"
      },
      "execution_count": null,
      "outputs": [
        {
          "output_type": "execute_result",
          "data": {
            "text/plain": [
              "False"
            ]
          },
          "metadata": {},
          "execution_count": 78
        }
      ]
    },
    {
      "cell_type": "code",
      "source": [
        "bool('정소이')"
      ],
      "metadata": {
        "id": "jbp2K4kPIwku",
        "colab": {
          "base_uri": "https://localhost:8080/"
        },
        "outputId": "5f220544-4eed-471d-a75e-8288eff7f456"
      },
      "execution_count": null,
      "outputs": [
        {
          "output_type": "execute_result",
          "data": {
            "text/plain": [
              "True"
            ]
          },
          "metadata": {},
          "execution_count": 79
        }
      ]
    },
    {
      "cell_type": "code",
      "source": [
        "bool(100)"
      ],
      "metadata": {
        "id": "3UjOWouLIx79",
        "colab": {
          "base_uri": "https://localhost:8080/"
        },
        "outputId": "1da3009d-f0f2-4ca5-848b-38d504100330"
      },
      "execution_count": null,
      "outputs": [
        {
          "output_type": "execute_result",
          "data": {
            "text/plain": [
              "True"
            ]
          },
          "metadata": {},
          "execution_count": 80
        }
      ]
    },
    {
      "cell_type": "markdown",
      "source": [
        "문자열을 정수나 실수로 반환하는 경우\n",
        "- 문자열 내에 문자들이 전부 10진수 정수 형태의 문자만 있어야 합니다."
      ],
      "metadata": {
        "id": "vAGNoudGJHU4"
      }
    },
    {
      "cell_type": "code",
      "source": [
        "int(2231.11)"
      ],
      "metadata": {
        "id": "Y_uEdLnRJA1H",
        "colab": {
          "base_uri": "https://localhost:8080/"
        },
        "outputId": "59e14758-b91b-4c87-ef56-f55438688b88"
      },
      "execution_count": null,
      "outputs": [
        {
          "output_type": "execute_result",
          "data": {
            "text/plain": [
              "2231"
            ]
          },
          "metadata": {},
          "execution_count": 81
        }
      ]
    },
    {
      "cell_type": "code",
      "source": [
        "int('2231.11')"
      ],
      "metadata": {
        "id": "EwAeTgYfeUdm",
        "colab": {
          "base_uri": "https://localhost:8080/",
          "height": 172
        },
        "outputId": "97594872-cb1d-4870-daad-b5ac0f19a1b8"
      },
      "execution_count": null,
      "outputs": [
        {
          "output_type": "error",
          "ename": "ValueError",
          "evalue": "ignored",
          "traceback": [
            "\u001b[0;31m---------------------------------------------------------------------------\u001b[0m",
            "\u001b[0;31mValueError\u001b[0m                                Traceback (most recent call last)",
            "\u001b[0;32m<ipython-input-82-359aa225346b>\u001b[0m in \u001b[0;36m<cell line: 1>\u001b[0;34m()\u001b[0m\n\u001b[0;32m----> 1\u001b[0;31m \u001b[0mint\u001b[0m\u001b[0;34m(\u001b[0m\u001b[0;34m'2231.11'\u001b[0m\u001b[0;34m)\u001b[0m\u001b[0;34m\u001b[0m\u001b[0;34m\u001b[0m\u001b[0m\n\u001b[0m",
            "\u001b[0;31mValueError\u001b[0m: invalid literal for int() with base 10: '2231.11'"
          ]
        }
      ]
    },
    {
      "cell_type": "code",
      "source": [
        "int(float('2231.11'))"
      ],
      "metadata": {
        "id": "JYVIKRDeeZh4",
        "colab": {
          "base_uri": "https://localhost:8080/"
        },
        "outputId": "f86be378-4e4c-453e-ff66-f5fac6c83929"
      },
      "execution_count": null,
      "outputs": [
        {
          "output_type": "execute_result",
          "data": {
            "text/plain": [
              "2231"
            ]
          },
          "metadata": {},
          "execution_count": 83
        }
      ]
    },
    {
      "cell_type": "code",
      "source": [
        "int('2231')"
      ],
      "metadata": {
        "id": "tz32jI-3ecuM",
        "colab": {
          "base_uri": "https://localhost:8080/"
        },
        "outputId": "b8a23f47-5e22-4899-c1fc-9506bdd1b802"
      },
      "execution_count": null,
      "outputs": [
        {
          "output_type": "execute_result",
          "data": {
            "text/plain": [
              "2231"
            ]
          },
          "metadata": {},
          "execution_count": 84
        }
      ]
    },
    {
      "cell_type": "code",
      "source": [
        "a = input('숫자를 입력하세요: ')"
      ],
      "metadata": {
        "id": "tQ27jrnKeyQP",
        "colab": {
          "base_uri": "https://localhost:8080/"
        },
        "outputId": "54c9651b-74c1-4b44-d099-87ffef630195"
      },
      "execution_count": null,
      "outputs": [
        {
          "name": "stdout",
          "output_type": "stream",
          "text": [
            "숫자를 입력하세요: 2231.66\n"
          ]
        }
      ]
    },
    {
      "cell_type": "code",
      "source": [
        "a"
      ],
      "metadata": {
        "id": "LgfYeFYze9xV",
        "colab": {
          "base_uri": "https://localhost:8080/",
          "height": 35
        },
        "outputId": "bbf99101-c0ec-4719-9969-cd9625fdd4e2"
      },
      "execution_count": null,
      "outputs": [
        {
          "output_type": "execute_result",
          "data": {
            "text/plain": [
              "'2231.66'"
            ],
            "application/vnd.google.colaboratory.intrinsic+json": {
              "type": "string"
            }
          },
          "metadata": {},
          "execution_count": 86
        }
      ]
    },
    {
      "cell_type": "code",
      "source": [
        "a = round(float(input('숫자를 입력하세요: '))) # 기본 ndigits 파라미터는 int, 거기에 숫자를 넣으면 소수점 이하 n번째 자리\n",
        "#반올림을 해서 정수로 받고 싶어요\n",
        "a"
      ],
      "metadata": {
        "colab": {
          "base_uri": "https://localhost:8080/"
        },
        "id": "r-OXpAh_OOBL",
        "outputId": "2532ce1c-6f8a-4aa2-dccd-385281579935"
      },
      "execution_count": null,
      "outputs": [
        {
          "name": "stdout",
          "output_type": "stream",
          "text": [
            "숫자를 입력하세요: 2231.66\n"
          ]
        },
        {
          "output_type": "execute_result",
          "data": {
            "text/plain": [
              "2232"
            ]
          },
          "metadata": {},
          "execution_count": 94
        }
      ]
    },
    {
      "cell_type": "markdown",
      "source": [
        "# bool은!\n",
        "- 변환하는데 규칙이 있습니다.\n",
        "  - 어떤 타입이든 다 변환이 가능해요. True/False\n",
        "  - True인 경우 0이 아닌 비어있지 않은 모든 값\n",
        "  - False - 빈문자, 빈객체, 0이 다 거짓이 되겠죠"
      ],
      "metadata": {
        "id": "NGDaI76OJRZH"
      }
    },
    {
      "cell_type": "markdown",
      "source": [
        "# 메모리(Memory)\n",
        "- RAM (Random Access Memory)\n",
        "- 주기억장치 라고 부릅니다.\n",
        "- 보조기억장치에 자료들을 넣어놓고 주기억장치에 있는 프로그램으로 자료들을 불러와서 crud합니다.\n",
        "  - 자료가 보조기억장치에 있을때 '파일'이라고 부릅니다.\n",
        "\n",
        "\n",
        "- 주기억장치\n",
        "  - 프로그램이 실행중인 동안은 반드시 메모리에 있어야 합니다.\n",
        "  - 다루려는 자료도 메모리에 와있어야 합니다.\n",
        "  - 실행중인 프로그램에서 자료를 저장할 수 있는 공간\n",
        "  - 메모리 어딘가에 보조기억장치에서 불러온 파일의 내용을 저장해두고 두고두고 꺼내쓰는 개념입니다.\n",
        "  - 메모리에 저장해두고 불러오기 위해서 이름을 지어주는 것을 '변수'라고 부릅니다.\n",
        "\n",
        "\n",
        "- 주소값이 할당이 됩니다\n",
        "  - 변수명을 입혀줘서 다시 불러올 수 있게 만들면 되는 거죠.\n",
        "  - 파이썬은 변수를 주소 기준으로 식별을 하고요.\n",
        "  - 자료는 비트 형태로 저장이 되고 1바이트(8비트)마다 번호를 부여를 합니다.\n",
        "\n",
        "  - 메모리 크기가 크기 때문에 주소값도 당연히 길겠죠\n",
        "  - 10진수보다 16진수를 컴퓨터 프로그래밍에서 많이 사용하는 이유가 이것때문입니다.\n"
      ],
      "metadata": {
        "id": "l3FaHJiFJwxN"
      }
    },
    {
      "cell_type": "markdown",
      "source": [
        "- 변수 : 긴 숫자로 되어있는 메모리 속 주소에 이름을 달아주는 것"
      ],
      "metadata": {
        "id": "Egx8BPshMCK8"
      }
    },
    {
      "cell_type": "code",
      "source": [
        "a = 3\n",
        "id(a) # 메모리 주소를 확인하는 함수"
      ],
      "metadata": {
        "id": "vEdQMgczJtH_",
        "colab": {
          "base_uri": "https://localhost:8080/"
        },
        "outputId": "38fc7a25-6b7e-4678-af62-e9886e74fca3"
      },
      "execution_count": null,
      "outputs": [
        {
          "output_type": "execute_result",
          "data": {
            "text/plain": [
              "140341416704368"
            ]
          },
          "metadata": {},
          "execution_count": 100
        }
      ]
    },
    {
      "cell_type": "code",
      "source": [
        "id(3)"
      ],
      "metadata": {
        "id": "Xn_REj54PIgz",
        "colab": {
          "base_uri": "https://localhost:8080/"
        },
        "outputId": "d730714c-ba43-4a6e-9d0a-fde112bc2558"
      },
      "execution_count": null,
      "outputs": [
        {
          "output_type": "execute_result",
          "data": {
            "text/plain": [
              "140341416704368"
            ]
          },
          "metadata": {},
          "execution_count": 101
        }
      ]
    },
    {
      "cell_type": "code",
      "source": [
        "b = '정소이'\n",
        "id(b)"
      ],
      "metadata": {
        "id": "ldw_68ngPJhf",
        "colab": {
          "base_uri": "https://localhost:8080/"
        },
        "outputId": "4240e0f5-a29e-436c-d66c-3858db3e658d"
      },
      "execution_count": null,
      "outputs": [
        {
          "output_type": "execute_result",
          "data": {
            "text/plain": [
              "140340151229776"
            ]
          },
          "metadata": {},
          "execution_count": 102
        }
      ]
    },
    {
      "cell_type": "code",
      "source": [
        "id('정소이')"
      ],
      "metadata": {
        "id": "3USWuoX1PMcw",
        "colab": {
          "base_uri": "https://localhost:8080/"
        },
        "outputId": "1feef4a7-ec22-4d73-8901-3ce0cc7aa709"
      },
      "execution_count": null,
      "outputs": [
        {
          "output_type": "execute_result",
          "data": {
            "text/plain": [
              "140340151088976"
            ]
          },
          "metadata": {},
          "execution_count": 103
        }
      ]
    },
    {
      "cell_type": "code",
      "source": [
        "# 메모리에 올라가 있는 게 무엇들인지 상상해보면\n",
        "# 대부분의 기본 파이썬 함수들이 인터프리터와 함께 올라가있다.\n",
        "# 아스키코드로 표현할 수 있는 문자들, 그리고 자주 쓰는 값들(True, False, -1, -2, -3, -4, -5, ...)"
      ],
      "metadata": {
        "id": "f4i3wOD3iGB6"
      },
      "execution_count": null,
      "outputs": []
    },
    {
      "cell_type": "markdown",
      "source": [
        "swap\n",
        "  - 변수의 값을 교환하기 위해서 많이 씁니다."
      ],
      "metadata": {
        "id": "fYrg_uNlRkiq"
      }
    },
    {
      "cell_type": "code",
      "source": [
        "a = 10\n",
        "b = 20\n",
        "# 일 때\n",
        "# b와 a에 있는 자료를 변경해보세요\n",
        "c = a\n",
        "a = b\n",
        "b = c\n",
        "print(a,b)"
      ],
      "metadata": {
        "id": "uEbB6eH9Ro5X",
        "colab": {
          "base_uri": "https://localhost:8080/"
        },
        "outputId": "63f88a73-6ccb-49d7-8b2d-cc3065c70224"
      },
      "execution_count": null,
      "outputs": [
        {
          "output_type": "stream",
          "name": "stdout",
          "text": [
            "20 10\n"
          ]
        }
      ]
    },
    {
      "cell_type": "code",
      "source": [
        "a = 10\n",
        "b = 20\n",
        "# 일 때\n",
        "# b와 a에 있는 자료를 변경해보세요\n",
        "a,b = b,a\n",
        "print(a,b)"
      ],
      "metadata": {
        "id": "5OM3FFk2R3sf",
        "colab": {
          "base_uri": "https://localhost:8080/"
        },
        "outputId": "a194b3e7-b8fa-4db4-a416-2bc73455853e"
      },
      "execution_count": null,
      "outputs": [
        {
          "output_type": "stream",
          "name": "stdout",
          "text": [
            "20 10\n"
          ]
        }
      ]
    },
    {
      "cell_type": "code",
      "source": [
        "a,b,c = 'hei'"
      ],
      "metadata": {
        "id": "iYzywqP9R42f"
      },
      "execution_count": null,
      "outputs": []
    },
    {
      "cell_type": "code",
      "source": [
        "a"
      ],
      "metadata": {
        "id": "ZtXPi2MqR-9H",
        "colab": {
          "base_uri": "https://localhost:8080/",
          "height": 35
        },
        "outputId": "9bde3b9b-e3f2-4688-863b-af7e179c5a43"
      },
      "execution_count": null,
      "outputs": [
        {
          "output_type": "execute_result",
          "data": {
            "text/plain": [
              "'h'"
            ],
            "application/vnd.google.colaboratory.intrinsic+json": {
              "type": "string"
            }
          },
          "metadata": {},
          "execution_count": 112
        }
      ]
    },
    {
      "cell_type": "code",
      "source": [
        "b"
      ],
      "metadata": {
        "colab": {
          "base_uri": "https://localhost:8080/",
          "height": 35
        },
        "id": "b04-2vQEZE1c",
        "outputId": "b6d184fc-48d1-4086-da78-55ab8fbf6638"
      },
      "execution_count": null,
      "outputs": [
        {
          "output_type": "execute_result",
          "data": {
            "text/plain": [
              "'e'"
            ],
            "application/vnd.google.colaboratory.intrinsic+json": {
              "type": "string"
            }
          },
          "metadata": {},
          "execution_count": 113
        }
      ]
    },
    {
      "cell_type": "code",
      "source": [
        "c"
      ],
      "metadata": {
        "colab": {
          "base_uri": "https://localhost:8080/",
          "height": 35
        },
        "id": "Pjnph649ZFLd",
        "outputId": "742d4d51-0f46-4432-8765-03e8e65b8857"
      },
      "execution_count": null,
      "outputs": [
        {
          "output_type": "execute_result",
          "data": {
            "text/plain": [
              "'i'"
            ],
            "application/vnd.google.colaboratory.intrinsic+json": {
              "type": "string"
            }
          },
          "metadata": {},
          "execution_count": 114
        }
      ]
    },
    {
      "cell_type": "markdown",
      "source": [
        "# 변수명명법\n",
        "- 이름은 결국 개발자가 지어주는 거죠\n",
        "- 파이썬은 한글 변수명도 만들 수 있습니다 (UTF-8)\n",
        "- 영문 대/소문자, 숫자, 한글 다 쓸 수 있어요\n",
        "- 특수문자도 쓸 수는 있어요. 쓰지 않는 편입니다. _ 말고는 거의 쓰지 않습니다.\n",
        "- 숫자를 변수명의 앞에는 쓸 수 없습니다.\n",
        "\n",
        "- 파이썬이 권장하는 변수 이름을 짓는 방법이 있겠죠\n",
        "  - 시작은 소문자 , 띄어쓰기 대신 언더바(_)\n",
        "  - 인터프리터가 이미 사용하고 있는 단어는 사용하지 않는 것이 좋습니다. (True, int 이런단어도 변수명으로 쓸 수 있어요)\n",
        "  - 다만 앞으로 저 명령어는 사용하지 못합니다.\n",
        "  - 해당 언어가 이미 사용하고 있는 단어 (예약어, keyword)\n",
        "  - IDE 들은 대부분 예약어나 피해야할 변수명에 색깔을 칠해줍니다.\n",
        "\n",
        "\n"
      ],
      "metadata": {
        "id": "LTFGoNDePnu6"
      }
    },
    {
      "cell_type": "code",
      "source": [
        "int = 3"
      ],
      "metadata": {
        "id": "1OTgoxUbjXwP"
      },
      "execution_count": null,
      "outputs": []
    },
    {
      "cell_type": "code",
      "source": [
        "int"
      ],
      "metadata": {
        "id": "Dz5ZCzPmjdjt",
        "colab": {
          "base_uri": "https://localhost:8080/"
        },
        "outputId": "29d06760-a0e7-4c70-b2ed-43cfabeefa2a"
      },
      "execution_count": null,
      "outputs": [
        {
          "output_type": "execute_result",
          "data": {
            "text/plain": [
              "3"
            ]
          },
          "metadata": {},
          "execution_count": 116
        }
      ]
    },
    {
      "cell_type": "code",
      "source": [
        "int(3.15)"
      ],
      "metadata": {
        "id": "7-U2xq4Jjlh6",
        "colab": {
          "base_uri": "https://localhost:8080/",
          "height": 172
        },
        "outputId": "e2019dc0-26e5-424a-e0d5-465b817de4df"
      },
      "execution_count": null,
      "outputs": [
        {
          "output_type": "error",
          "ename": "TypeError",
          "evalue": "ignored",
          "traceback": [
            "\u001b[0;31m---------------------------------------------------------------------------\u001b[0m",
            "\u001b[0;31mTypeError\u001b[0m                                 Traceback (most recent call last)",
            "\u001b[0;32m<ipython-input-117-e489b634773b>\u001b[0m in \u001b[0;36m<cell line: 1>\u001b[0;34m()\u001b[0m\n\u001b[0;32m----> 1\u001b[0;31m \u001b[0mint\u001b[0m\u001b[0;34m(\u001b[0m\u001b[0;36m3.15\u001b[0m\u001b[0;34m)\u001b[0m\u001b[0;34m\u001b[0m\u001b[0;34m\u001b[0m\u001b[0m\n\u001b[0m",
            "\u001b[0;31mTypeError\u001b[0m: 'int' object is not callable"
          ]
        }
      ]
    },
    {
      "cell_type": "code",
      "source": [
        "del int # 혹시 실수했다면 변수 삭제"
      ],
      "metadata": {
        "id": "uJ7tL1D6jrOC"
      },
      "execution_count": null,
      "outputs": []
    },
    {
      "cell_type": "code",
      "source": [
        "int(3.15)"
      ],
      "metadata": {
        "id": "BLG0wvMcQyIC",
        "colab": {
          "base_uri": "https://localhost:8080/"
        },
        "outputId": "7a9d5bc8-0d37-4b1d-808b-382cb2cb0a38"
      },
      "execution_count": null,
      "outputs": [
        {
          "output_type": "execute_result",
          "data": {
            "text/plain": [
              "3"
            ]
          },
          "metadata": {},
          "execution_count": 119
        }
      ]
    },
    {
      "cell_type": "code",
      "source": [
        "with open('/path/to/some/file/you/want/to/read') as file_1, \\ # 코드가 길어지면 역슬래시(\\)로 다음줄로 넘김 가능\n",
        "     open('/path/to/some/file/being/written', 'w') as file_2:\n",
        "    file_2.write(file_1.read())"
      ],
      "metadata": {
        "id": "-IXjfPEvQ-nv",
        "colab": {
          "base_uri": "https://localhost:8080/",
          "height": 136
        },
        "outputId": "07e7c6db-34b2-4b82-90b0-a185bdc315a8"
      },
      "execution_count": null,
      "outputs": [
        {
          "output_type": "error",
          "ename": "IndentationError",
          "evalue": "ignored",
          "traceback": [
            "\u001b[0;36m  File \u001b[0;32m\"<tokenize>\"\u001b[0;36m, line \u001b[0;32m3\u001b[0m\n\u001b[0;31m    file_2.write(file_1.read())\u001b[0m\n\u001b[0m    ^\u001b[0m\n\u001b[0;31mIndentationError\u001b[0m\u001b[0;31m:\u001b[0m unindent does not match any outer indentation level\n"
          ]
        }
      ]
    },
    {
      "cell_type": "code",
      "source": [
        "income = (gross_wages\n",
        "\t\t  + taxable_interest\n",
        "          + (dividends - qualified_dividends)\n",
        "          - ira_deduction\n",
        "          - student_loan_interest)"
      ],
      "metadata": {
        "id": "-R_rnXAuPSkA"
      },
      "execution_count": null,
      "outputs": []
    },
    {
      "cell_type": "code",
      "source": [
        "income = (gross_wages +\n",
        "          taxable_interest +\n",
        "          (dividends - qualified_dividends)  -\n",
        "          ira_deduction -\n",
        "          student_loan_interest)"
      ],
      "metadata": {
        "id": "GpNvVzcQQBLP"
      },
      "execution_count": null,
      "outputs": []
    },
    {
      "cell_type": "code",
      "source": [
        "class a(): # 클래스 내부의 함수는 한줄 띄어쓰기\n",
        "\n",
        "    def b():\n",
        "        pass\n",
        "\n",
        "    def c():\n",
        "        pass\n",
        "\n",
        "\n",
        "class a(): # 별도 클래스, 함수는 두줄 띄어쓰기\n",
        "    pass\n",
        "\n",
        "\n",
        "class b():\n",
        "    pass\n",
        "\n",
        "\n",
        "def c():\n",
        "    pass\n",
        "# 빈줄\n",
        "# 빈줄\n"
      ],
      "metadata": {
        "id": "-v2j1LV_QCBs"
      },
      "execution_count": null,
      "outputs": []
    },
    {
      "cell_type": "code",
      "source": [
        "import decimal # 패키지를 불러올 때 사용하는 예약어\n",
        "\n",
        "import_ = 'not import' # 뒤에 언더바를 더해서 변수명을 만들어서 예약어를 피한다."
      ],
      "metadata": {
        "id": "BkU6FtO8QFNf"
      },
      "execution_count": null,
      "outputs": []
    },
    {
      "cell_type": "markdown",
      "source": [
        "# 시퀀스 타입 - 순서\n",
        "- 기본 타입(숫자, 문자열)을 여러개 모아서 하나의 자료형으로 관리하기 위한 방법\n",
        "  - '배열'\n",
        "  - 한개 식빵 -> 숫자, 문자열이라면\n",
        "  - 시퀀스 타입 -> 식빵들 ... 자료구조의 종류\n",
        "\n",
        "\n",
        "- 파이선에서 제공하는 시퀀스 타입\n",
        "  - 리스트\n",
        "    - 배열\n",
        "    - 가장 많이 사용하는 자료형입니다\n",
        "    - 선형자료구조 라고 부릅니다\n",
        "\n",
        "  - 튜플(tuple)\n",
        "    - 리스트와 본질적으로 같아요. 자료 값을 변경할 수가 없습니다.\n",
        "    - 튜플로 만들면 - 내부의 자료값을 변하게 하지 않았게 라는 약속입니다.\n",
        "  - 레인지\n",
        "    - 수열을 만든다\n",
        "\n",
        "\n",
        "- 가변형 타입 vs 불가변형 타입\n",
        "  - 튜플 -> 불가변형 타입\n",
        "    - 자료들의 값을 바꿀 수 없고\n",
        "  - 리스트 -> 가변형 타입\n",
        "    - 자료들의 값을 변경할 수 있습니다.\n",
        "\n",
        "  - 가변형 타입에서만 사용할 수 있는 연산자가 띠로 있기 때문입니다.\n",
        "\n",
        "\n",
        "\n",
        "\n",
        "  - 세트\n",
        "  - 딕셔너리\n",
        "\n",
        "\n",
        "\n",
        "\n",
        "\n",
        "\n"
      ],
      "metadata": {
        "id": "YOkS2eUJcBHj"
      }
    },
    {
      "cell_type": "code",
      "source": [
        "# 집합자료형 = 기본자료형을 담는 그릇"
      ],
      "metadata": {
        "id": "7zsRflN7tgeW"
      },
      "execution_count": null,
      "outputs": []
    },
    {
      "cell_type": "code",
      "source": [
        "list_ = [1, 2, 3, 4]\n",
        "list_"
      ],
      "metadata": {
        "id": "2K2KZ4BetmFD",
        "colab": {
          "base_uri": "https://localhost:8080/"
        },
        "outputId": "700ee22f-ed73-45d3-c315-bfa91480b0c6"
      },
      "execution_count": null,
      "outputs": [
        {
          "output_type": "execute_result",
          "data": {
            "text/plain": [
              "[1, 2, 3, 4]"
            ]
          },
          "metadata": {},
          "execution_count": 126
        }
      ]
    },
    {
      "cell_type": "code",
      "source": [
        "list_[0] # 순서(몇번 방, index)를 호출해서 꺼낼 수 있다."
      ],
      "metadata": {
        "id": "7By0yBpicBHj",
        "colab": {
          "base_uri": "https://localhost:8080/"
        },
        "outputId": "eb1d7c0b-63ac-4756-fb20-152848b86d88"
      },
      "execution_count": null,
      "outputs": [
        {
          "output_type": "execute_result",
          "data": {
            "text/plain": [
              "1"
            ]
          },
          "metadata": {},
          "execution_count": 128
        }
      ]
    },
    {
      "cell_type": "code",
      "source": [
        "type(list_)"
      ],
      "metadata": {
        "id": "djboqhS-cBHj",
        "colab": {
          "base_uri": "https://localhost:8080/"
        },
        "outputId": "eda37e47-f7a2-4d51-8a89-e4175f552593"
      },
      "execution_count": null,
      "outputs": [
        {
          "output_type": "execute_result",
          "data": {
            "text/plain": [
              "list"
            ]
          },
          "metadata": {},
          "execution_count": 129
        }
      ]
    },
    {
      "cell_type": "code",
      "source": [
        "type(list_[0])"
      ],
      "metadata": {
        "id": "fl4RqMTwcBHj",
        "colab": {
          "base_uri": "https://localhost:8080/"
        },
        "outputId": "1927fa75-60c1-4768-8379-495ff57ebb5a"
      },
      "execution_count": null,
      "outputs": [
        {
          "output_type": "execute_result",
          "data": {
            "text/plain": [
              "int"
            ]
          },
          "metadata": {},
          "execution_count": 130
        }
      ]
    },
    {
      "cell_type": "code",
      "source": [
        "list_ = [1, 2.1, '가나다', True, '', [1,2,3,4]]"
      ],
      "metadata": {
        "id": "HBkC0hfacBHj"
      },
      "execution_count": null,
      "outputs": []
    },
    {
      "cell_type": "code",
      "source": [
        "type(list_)"
      ],
      "metadata": {
        "id": "qLXNgoNQcBHj",
        "colab": {
          "base_uri": "https://localhost:8080/"
        },
        "outputId": "bc88636c-255b-4ee4-9057-d1744186bd4a"
      },
      "execution_count": null,
      "outputs": [
        {
          "output_type": "execute_result",
          "data": {
            "text/plain": [
              "list"
            ]
          },
          "metadata": {},
          "execution_count": 133
        }
      ]
    },
    {
      "cell_type": "code",
      "source": [
        "type(list_[0])"
      ],
      "metadata": {
        "colab": {
          "base_uri": "https://localhost:8080/"
        },
        "id": "9yGT4MLaeWWp",
        "outputId": "caf09b8b-1438-452a-b0a7-ee04c4cef806"
      },
      "execution_count": null,
      "outputs": [
        {
          "output_type": "execute_result",
          "data": {
            "text/plain": [
              "int"
            ]
          },
          "metadata": {},
          "execution_count": 134
        }
      ]
    },
    {
      "cell_type": "code",
      "source": [
        "type(list_[1])"
      ],
      "metadata": {
        "colab": {
          "base_uri": "https://localhost:8080/"
        },
        "id": "wB4ydDkFeYFB",
        "outputId": "adb5f30c-f0bf-49ed-f420-b3ca18c918bd"
      },
      "execution_count": null,
      "outputs": [
        {
          "output_type": "execute_result",
          "data": {
            "text/plain": [
              "float"
            ]
          },
          "metadata": {},
          "execution_count": 135
        }
      ]
    },
    {
      "cell_type": "code",
      "source": [
        "type(list_[2])"
      ],
      "metadata": {
        "colab": {
          "base_uri": "https://localhost:8080/"
        },
        "id": "hiY-LQCQeZFT",
        "outputId": "5d2b542e-7f23-4c8a-d8d9-06441e3d89a5"
      },
      "execution_count": null,
      "outputs": [
        {
          "output_type": "execute_result",
          "data": {
            "text/plain": [
              "str"
            ]
          },
          "metadata": {},
          "execution_count": 136
        }
      ]
    },
    {
      "cell_type": "code",
      "source": [
        "type(list_[3])"
      ],
      "metadata": {
        "colab": {
          "base_uri": "https://localhost:8080/"
        },
        "id": "mJecg3dZeaWT",
        "outputId": "24cdfb48-9d43-4d34-c244-3522450d92cd"
      },
      "execution_count": null,
      "outputs": [
        {
          "output_type": "execute_result",
          "data": {
            "text/plain": [
              "bool"
            ]
          },
          "metadata": {},
          "execution_count": 137
        }
      ]
    },
    {
      "cell_type": "code",
      "source": [
        "type(list_[4])"
      ],
      "metadata": {
        "colab": {
          "base_uri": "https://localhost:8080/"
        },
        "id": "AmZ2HhQGecMz",
        "outputId": "2edc9c62-6de2-42ff-9a24-b576631e97e7"
      },
      "execution_count": null,
      "outputs": [
        {
          "output_type": "execute_result",
          "data": {
            "text/plain": [
              "str"
            ]
          },
          "metadata": {},
          "execution_count": 138
        }
      ]
    },
    {
      "cell_type": "code",
      "source": [
        "type(list_[5])"
      ],
      "metadata": {
        "colab": {
          "base_uri": "https://localhost:8080/"
        },
        "id": "NU_4L0Cyedrm",
        "outputId": "6062f8b0-fe72-49a6-98b6-10007d9b401d"
      },
      "execution_count": null,
      "outputs": [
        {
          "output_type": "execute_result",
          "data": {
            "text/plain": [
              "list"
            ]
          },
          "metadata": {},
          "execution_count": 139
        }
      ]
    },
    {
      "cell_type": "markdown",
      "source": [
        "type 확인을 해주시고요.\n"
      ],
      "metadata": {
        "id": "AeO-79MJcBHk"
      }
    },
    {
      "cell_type": "code",
      "source": [
        "tuple_ = (1,2,3,4,5)"
      ],
      "metadata": {
        "id": "hh-YzfepcBHk"
      },
      "execution_count": null,
      "outputs": []
    },
    {
      "cell_type": "code",
      "source": [
        "tuple_[0] # 우리가 순서를 정해주지 않아도 자동으로 인덱스를 만들어 준다."
      ],
      "metadata": {
        "id": "5TkVQDeBuoYT",
        "colab": {
          "base_uri": "https://localhost:8080/"
        },
        "outputId": "531e46fb-ddbe-48fd-b56e-7c951d94d19a"
      },
      "execution_count": null,
      "outputs": [
        {
          "output_type": "execute_result",
          "data": {
            "text/plain": [
              "1"
            ]
          },
          "metadata": {},
          "execution_count": 155
        }
      ]
    },
    {
      "cell_type": "code",
      "source": [
        "type(tuple_)"
      ],
      "metadata": {
        "id": "B19gHVJ6uOQI",
        "colab": {
          "base_uri": "https://localhost:8080/"
        },
        "outputId": "132bed55-ba72-45e5-d828-16ea51b6fb6c"
      },
      "execution_count": null,
      "outputs": [
        {
          "output_type": "execute_result",
          "data": {
            "text/plain": [
              "tuple"
            ]
          },
          "metadata": {},
          "execution_count": 156
        }
      ]
    },
    {
      "cell_type": "code",
      "source": [
        "tuple_[0] = 11"
      ],
      "metadata": {
        "id": "oav9WcdIu5XE",
        "colab": {
          "base_uri": "https://localhost:8080/",
          "height": 172
        },
        "outputId": "47acbefc-b7d4-49f9-d7d5-e4fa4a73c643"
      },
      "execution_count": null,
      "outputs": [
        {
          "output_type": "error",
          "ename": "TypeError",
          "evalue": "ignored",
          "traceback": [
            "\u001b[0;31m---------------------------------------------------------------------------\u001b[0m",
            "\u001b[0;31mTypeError\u001b[0m                                 Traceback (most recent call last)",
            "\u001b[0;32m<ipython-input-157-ef08eb20b877>\u001b[0m in \u001b[0;36m<cell line: 1>\u001b[0;34m()\u001b[0m\n\u001b[0;32m----> 1\u001b[0;31m \u001b[0mtuple_\u001b[0m\u001b[0;34m[\u001b[0m\u001b[0;36m0\u001b[0m\u001b[0;34m]\u001b[0m \u001b[0;34m=\u001b[0m \u001b[0;36m11\u001b[0m\u001b[0;34m\u001b[0m\u001b[0;34m\u001b[0m\u001b[0m\n\u001b[0m",
            "\u001b[0;31mTypeError\u001b[0m: 'tuple' object does not support item assignment"
          ]
        }
      ]
    },
    {
      "cell_type": "code",
      "source": [
        "tu1 = (3)"
      ],
      "metadata": {
        "id": "CnJ84_lwvH9Q"
      },
      "execution_count": null,
      "outputs": []
    },
    {
      "cell_type": "code",
      "source": [
        "type(tu1)"
      ],
      "metadata": {
        "id": "8TQnAnJXvPTq",
        "colab": {
          "base_uri": "https://localhost:8080/"
        },
        "outputId": "cecabf8c-5173-4f8d-8ec2-caa3cca9bebd"
      },
      "execution_count": null,
      "outputs": [
        {
          "output_type": "execute_result",
          "data": {
            "text/plain": [
              "int"
            ]
          },
          "metadata": {},
          "execution_count": 159
        }
      ]
    },
    {
      "cell_type": "code",
      "source": [
        "tu2 = (3, ) # 순서가 있는 자료형 - 쉼표가 있다 = 연속된 자료형이다 라고 인터프리터에게 알려주는 역할"
      ],
      "metadata": {
        "id": "jHhgcFmuvWsc"
      },
      "execution_count": null,
      "outputs": []
    },
    {
      "cell_type": "code",
      "source": [
        "type(tu2)"
      ],
      "metadata": {
        "id": "ot3Brx1ovVPY",
        "colab": {
          "base_uri": "https://localhost:8080/"
        },
        "outputId": "180897ea-26d1-4dc9-c67f-beaab41fe1d4"
      },
      "execution_count": null,
      "outputs": [
        {
          "output_type": "execute_result",
          "data": {
            "text/plain": [
              "tuple"
            ]
          },
          "metadata": {},
          "execution_count": 161
        }
      ]
    },
    {
      "cell_type": "code",
      "source": [
        "tuple_ = (1,2,3,4,5)\n",
        "# 0번 인덱스의 값을 11로 바꿔주세요\n",
        "tuple_l = list(tuple_)\n",
        "tuple_l[0] = 11\n",
        "tuple_ = tuple(tuple_l)\n",
        "tuple_"
      ],
      "metadata": {
        "id": "HGv4kL6wvS6O",
        "colab": {
          "base_uri": "https://localhost:8080/"
        },
        "outputId": "405891e2-6c08-407c-b956-66407669d67d"
      },
      "execution_count": null,
      "outputs": [
        {
          "output_type": "execute_result",
          "data": {
            "text/plain": [
              "(11, 2, 3, 4, 5)"
            ]
          },
          "metadata": {},
          "execution_count": 167
        }
      ]
    },
    {
      "cell_type": "code",
      "source": [
        "tuple_[1:3] # 1부터 n+1까지 지정해주면 1부터 n까지 출력"
      ],
      "metadata": {
        "id": "LcprAHf0vZo3",
        "colab": {
          "base_uri": "https://localhost:8080/"
        },
        "outputId": "0cf7dcc1-8b31-4735-8406-0ddccac6554b"
      },
      "execution_count": null,
      "outputs": [
        {
          "output_type": "execute_result",
          "data": {
            "text/plain": [
              "(2, 3)"
            ]
          },
          "metadata": {},
          "execution_count": 168
        }
      ]
    },
    {
      "cell_type": "code",
      "source": [
        "a = range(1,15,2) # 시작점, 끝점+1, step"
      ],
      "metadata": {
        "id": "nL1Gc6XSzkGH"
      },
      "execution_count": null,
      "outputs": []
    },
    {
      "cell_type": "code",
      "source": [
        "list(a)"
      ],
      "metadata": {
        "colab": {
          "base_uri": "https://localhost:8080/"
        },
        "id": "pZTUvKVUzmmM",
        "outputId": "17f7aff0-75dc-4826-9f38-afdba99ef747"
      },
      "execution_count": null,
      "outputs": [
        {
          "output_type": "execute_result",
          "data": {
            "text/plain": [
              "[1, 3, 5, 7, 9, 11, 13]"
            ]
          },
          "metadata": {},
          "execution_count": 176
        }
      ]
    },
    {
      "cell_type": "code",
      "source": [
        "list1 = [1,2,3,[1,2], True, 'string', 3.156]"
      ],
      "metadata": {
        "id": "9lT62oStzn21"
      },
      "execution_count": null,
      "outputs": []
    },
    {
      "cell_type": "code",
      "source": [
        "tuple1 = (1,2,3, [1,2], True, 'string', 3.156) # 각 인덱스에 들어있는 자료형은 달라도 된다."
      ],
      "metadata": {
        "id": "t3csUtTZ0D3H"
      },
      "execution_count": null,
      "outputs": []
    },
    {
      "cell_type": "code",
      "source": [
        "li = []\n",
        "type(li)"
      ],
      "metadata": {
        "colab": {
          "base_uri": "https://localhost:8080/"
        },
        "id": "cna8oXi70Ncy",
        "outputId": "0eaae49b-c633-463e-afa5-58274ff7ce88"
      },
      "execution_count": null,
      "outputs": [
        {
          "output_type": "execute_result",
          "data": {
            "text/plain": [
              "list"
            ]
          },
          "metadata": {},
          "execution_count": 179
        }
      ]
    },
    {
      "cell_type": "code",
      "source": [
        "tu = ()\n",
        "type(tu)"
      ],
      "metadata": {
        "colab": {
          "base_uri": "https://localhost:8080/"
        },
        "id": "xRbqvVqq0QvN",
        "outputId": "280725be-04ad-4d91-a466-9aadfa24b02e"
      },
      "execution_count": null,
      "outputs": [
        {
          "output_type": "execute_result",
          "data": {
            "text/plain": [
              "tuple"
            ]
          },
          "metadata": {},
          "execution_count": 180
        }
      ]
    },
    {
      "cell_type": "code",
      "source": [
        "bool(li)"
      ],
      "metadata": {
        "colab": {
          "base_uri": "https://localhost:8080/"
        },
        "id": "nepW4A3q0UC9",
        "outputId": "8e134a97-c2f7-4b0d-c2bf-4a4cae961c09"
      },
      "execution_count": null,
      "outputs": [
        {
          "output_type": "execute_result",
          "data": {
            "text/plain": [
              "False"
            ]
          },
          "metadata": {},
          "execution_count": 181
        }
      ]
    },
    {
      "cell_type": "code",
      "source": [
        "bool(tu)"
      ],
      "metadata": {
        "colab": {
          "base_uri": "https://localhost:8080/"
        },
        "id": "CfyhOm9-0cgl",
        "outputId": "fda1d4fc-48b9-434d-a401-ea8ea5f50ddd"
      },
      "execution_count": null,
      "outputs": [
        {
          "output_type": "execute_result",
          "data": {
            "text/plain": [
              "False"
            ]
          },
          "metadata": {},
          "execution_count": 182
        }
      ]
    },
    {
      "cell_type": "code",
      "source": [
        "bool('')"
      ],
      "metadata": {
        "colab": {
          "base_uri": "https://localhost:8080/"
        },
        "id": "oCYvqBGV0e2d",
        "outputId": "0d38fe53-99d7-4595-d698-a93831aa13b7"
      },
      "execution_count": null,
      "outputs": [
        {
          "output_type": "execute_result",
          "data": {
            "text/plain": [
              "False"
            ]
          },
          "metadata": {},
          "execution_count": 183
        }
      ]
    },
    {
      "cell_type": "markdown",
      "source": [
        "# 공통 연산자\n",
        "- 가변형 타입과 불가변형 타입 모두에게 동일하게 사용할 수 있는 연산자 몇개"
      ],
      "metadata": {
        "id": "sEcVTlEpcBHk"
      }
    },
    {
      "cell_type": "code",
      "source": [
        "# list에서 쓸 수 있는 함수들 'append','clear','copy', 'count','extend','index','insert','pop','remove','reverse', 'sort'\n",
        "# tuple에서 쓸 수 있는 함수들  'count','index'"
      ],
      "metadata": {
        "id": "wH5jV7I9wRz4"
      },
      "execution_count": null,
      "outputs": []
    },
    {
      "cell_type": "code",
      "source": [
        "list1.pop()"
      ],
      "metadata": {
        "id": "X8g_IbolcBHk",
        "colab": {
          "base_uri": "https://localhost:8080/"
        },
        "outputId": "5dc515dc-aa85-4b17-87f8-bb168fb67fd8"
      },
      "execution_count": null,
      "outputs": [
        {
          "output_type": "execute_result",
          "data": {
            "text/plain": [
              "3.156"
            ]
          },
          "metadata": {},
          "execution_count": 196
        }
      ]
    },
    {
      "cell_type": "code",
      "source": [
        "list1.append(-2)\n",
        "list1"
      ],
      "metadata": {
        "id": "RYGCH9KRcBHk",
        "colab": {
          "base_uri": "https://localhost:8080/"
        },
        "outputId": "04864db3-4106-448b-90c4-88f6c2d9597c"
      },
      "execution_count": null,
      "outputs": [
        {
          "output_type": "execute_result",
          "data": {
            "text/plain": [
              "[1, 2, 3, [1, 2], True, 'string', -2]"
            ]
          },
          "metadata": {},
          "execution_count": 197
        }
      ]
    },
    {
      "cell_type": "code",
      "source": [
        "list1.pop(-1)\n",
        "list1.pop(0)\n",
        "list1.append(1)"
      ],
      "metadata": {
        "id": "VX_7wXfacBHk"
      },
      "execution_count": null,
      "outputs": []
    },
    {
      "cell_type": "code",
      "source": [
        "list1"
      ],
      "metadata": {
        "id": "r2IeDJNmcBHk",
        "colab": {
          "base_uri": "https://localhost:8080/"
        },
        "outputId": "65d1f87f-d0bf-4589-dfe8-27aa59f49da0"
      },
      "execution_count": null,
      "outputs": [
        {
          "output_type": "execute_result",
          "data": {
            "text/plain": [
              "[2, 3, [1, 2], True, 'string', 1]"
            ]
          },
          "metadata": {},
          "execution_count": 199
        }
      ]
    },
    {
      "cell_type": "code",
      "source": [
        "tuple1.count(1) # 전체 튜플 안에 해당 값의 개수를 세어주는 함수"
      ],
      "metadata": {
        "colab": {
          "base_uri": "https://localhost:8080/"
        },
        "id": "bgZHfStg2HBl",
        "outputId": "2e39968a-bb45-48aa-b539-a027037129e2"
      },
      "execution_count": null,
      "outputs": [
        {
          "output_type": "execute_result",
          "data": {
            "text/plain": [
              "2"
            ]
          },
          "metadata": {},
          "execution_count": 202
        }
      ]
    },
    {
      "cell_type": "code",
      "source": [
        "tuple1.count(2)"
      ],
      "metadata": {
        "colab": {
          "base_uri": "https://localhost:8080/"
        },
        "id": "YEZaiU4O2iqV",
        "outputId": "bb9ed1cf-c0cb-456b-a8cf-3fb535ada858"
      },
      "execution_count": null,
      "outputs": [
        {
          "output_type": "execute_result",
          "data": {
            "text/plain": [
              "1"
            ]
          },
          "metadata": {},
          "execution_count": 203
        }
      ]
    },
    {
      "cell_type": "code",
      "source": [
        "tuple1.index([1,2]) # 전체 튜블 안에 해당 값이 들어있는 index 번호"
      ],
      "metadata": {
        "colab": {
          "base_uri": "https://localhost:8080/"
        },
        "id": "VgK_V_1m2kJX",
        "outputId": "9f36d065-fc8a-408e-ac33-9c3d3e6affd8"
      },
      "execution_count": null,
      "outputs": [
        {
          "output_type": "execute_result",
          "data": {
            "text/plain": [
              "3"
            ]
          },
          "metadata": {},
          "execution_count": 206
        }
      ]
    },
    {
      "cell_type": "code",
      "source": [
        "'사과나무'.find('부')"
      ],
      "metadata": {
        "colab": {
          "base_uri": "https://localhost:8080/"
        },
        "id": "SNsxKvIc2t1V",
        "outputId": "d1ed5226-da6c-4761-fb5c-93305cadf0ab"
      },
      "execution_count": null,
      "outputs": [
        {
          "output_type": "execute_result",
          "data": {
            "text/plain": [
              "-1"
            ]
          },
          "metadata": {},
          "execution_count": 208
        }
      ]
    },
    {
      "cell_type": "code",
      "source": [
        "tuple1.index(5) # 없는 애는 에러가 난다."
      ],
      "metadata": {
        "colab": {
          "base_uri": "https://localhost:8080/",
          "height": 172
        },
        "id": "p_KaSlZ228Vh",
        "outputId": "fb7f06f4-90b1-49c7-8ddf-6645b15af6ef"
      },
      "execution_count": null,
      "outputs": [
        {
          "output_type": "error",
          "ename": "ValueError",
          "evalue": "ignored",
          "traceback": [
            "\u001b[0;31m---------------------------------------------------------------------------\u001b[0m",
            "\u001b[0;31mValueError\u001b[0m                                Traceback (most recent call last)",
            "\u001b[0;32m<ipython-input-209-051aaeb07ac9>\u001b[0m in \u001b[0;36m<cell line: 1>\u001b[0;34m()\u001b[0m\n\u001b[0;32m----> 1\u001b[0;31m \u001b[0mtuple1\u001b[0m\u001b[0;34m.\u001b[0m\u001b[0mindex\u001b[0m\u001b[0;34m(\u001b[0m\u001b[0;36m5\u001b[0m\u001b[0;34m)\u001b[0m\u001b[0;34m\u001b[0m\u001b[0;34m\u001b[0m\u001b[0m\n\u001b[0m",
            "\u001b[0;31mValueError\u001b[0m: tuple.index(x): x not in tuple"
          ]
        }
      ]
    },
    {
      "cell_type": "code",
      "source": [
        "# tu1, li1이라고 1,2,3,4,5 가 들어있는 각각의 집합자료를 만들어주세요\n",
        "# dir() 함수로 확인해보세요\n",
        "# 겹치는 것은 무엇이고, 겹치지 않는 것은 무엇인지 확인해세요\n",
        "# 겹치는 것들만 동작시켜 보세요"
      ],
      "metadata": {
        "id": "A1IFjpZscBHk"
      },
      "execution_count": null,
      "outputs": []
    },
    {
      "cell_type": "code",
      "source": [
        "li1 = [1,2,3,4,5]\n",
        "tu1 = (1,2,3,4,5)"
      ],
      "metadata": {
        "id": "Egh1C_86cBHk"
      },
      "execution_count": null,
      "outputs": []
    },
    {
      "cell_type": "code",
      "source": [
        "dir(li1)"
      ],
      "metadata": {
        "id": "9XG9f-9RcBHk",
        "colab": {
          "base_uri": "https://localhost:8080/"
        },
        "outputId": "26c7a53b-b3cb-441d-ee73-943a56a08808"
      },
      "execution_count": null,
      "outputs": [
        {
          "output_type": "execute_result",
          "data": {
            "text/plain": [
              "['__add__',\n",
              " '__class__',\n",
              " '__class_getitem__',\n",
              " '__contains__',\n",
              " '__delattr__',\n",
              " '__delitem__',\n",
              " '__dir__',\n",
              " '__doc__',\n",
              " '__eq__',\n",
              " '__format__',\n",
              " '__ge__',\n",
              " '__getattribute__',\n",
              " '__getitem__',\n",
              " '__gt__',\n",
              " '__hash__',\n",
              " '__iadd__',\n",
              " '__imul__',\n",
              " '__init__',\n",
              " '__init_subclass__',\n",
              " '__iter__',\n",
              " '__le__',\n",
              " '__len__',\n",
              " '__lt__',\n",
              " '__mul__',\n",
              " '__ne__',\n",
              " '__new__',\n",
              " '__reduce__',\n",
              " '__reduce_ex__',\n",
              " '__repr__',\n",
              " '__reversed__',\n",
              " '__rmul__',\n",
              " '__setattr__',\n",
              " '__setitem__',\n",
              " '__sizeof__',\n",
              " '__str__',\n",
              " '__subclasshook__',\n",
              " 'append',\n",
              " 'clear',\n",
              " 'copy',\n",
              " 'count',\n",
              " 'extend',\n",
              " 'index',\n",
              " 'insert',\n",
              " 'pop',\n",
              " 'remove',\n",
              " 'reverse',\n",
              " 'sort']"
            ]
          },
          "metadata": {},
          "execution_count": 216
        }
      ]
    },
    {
      "cell_type": "code",
      "source": [
        "dir(tu1)"
      ],
      "metadata": {
        "id": "sky5odCZxe23",
        "colab": {
          "base_uri": "https://localhost:8080/"
        },
        "outputId": "44e8a6c6-5b7b-4ae0-9e47-3ff765eadca0"
      },
      "execution_count": null,
      "outputs": [
        {
          "output_type": "execute_result",
          "data": {
            "text/plain": [
              "['__add__',\n",
              " '__class__',\n",
              " '__class_getitem__',\n",
              " '__contains__',\n",
              " '__delattr__',\n",
              " '__dir__',\n",
              " '__doc__',\n",
              " '__eq__',\n",
              " '__format__',\n",
              " '__ge__',\n",
              " '__getattribute__',\n",
              " '__getitem__',\n",
              " '__getnewargs__',\n",
              " '__gt__',\n",
              " '__hash__',\n",
              " '__init__',\n",
              " '__init_subclass__',\n",
              " '__iter__',\n",
              " '__le__',\n",
              " '__len__',\n",
              " '__lt__',\n",
              " '__mul__',\n",
              " '__ne__',\n",
              " '__new__',\n",
              " '__reduce__',\n",
              " '__reduce_ex__',\n",
              " '__repr__',\n",
              " '__rmul__',\n",
              " '__setattr__',\n",
              " '__sizeof__',\n",
              " '__str__',\n",
              " '__subclasshook__',\n",
              " 'count',\n",
              " 'index']"
            ]
          },
          "metadata": {},
          "execution_count": 217
        }
      ]
    },
    {
      "cell_type": "code",
      "source": [
        "li1.append(-2)\n",
        "li1"
      ],
      "metadata": {
        "id": "BKhr4qAOx_hy",
        "colab": {
          "base_uri": "https://localhost:8080/"
        },
        "outputId": "b77450d8-defa-4a38-d30d-cc00b59684ea"
      },
      "execution_count": null,
      "outputs": [
        {
          "output_type": "execute_result",
          "data": {
            "text/plain": [
              "[1, 2, 3, 4, 5, -2]"
            ]
          },
          "metadata": {},
          "execution_count": 234
        }
      ]
    },
    {
      "cell_type": "code",
      "source": [
        "li1.insert(3,1)\n",
        "li1"
      ],
      "metadata": {
        "id": "1yuclWDAzI34",
        "colab": {
          "base_uri": "https://localhost:8080/"
        },
        "outputId": "890f5ef9-b94b-4dd7-9459-fe812b3a63ba"
      },
      "execution_count": null,
      "outputs": [
        {
          "output_type": "execute_result",
          "data": {
            "text/plain": [
              "[1, 2, 3, 1, 4, 5, -2]"
            ]
          },
          "metadata": {},
          "execution_count": 235
        }
      ]
    },
    {
      "cell_type": "code",
      "source": [
        "li1.remove(-2)\n",
        "li1"
      ],
      "metadata": {
        "id": "Bmdcp6tYzuen",
        "colab": {
          "base_uri": "https://localhost:8080/"
        },
        "outputId": "97dc111b-d536-412a-dd17-f1a6a8da2891"
      },
      "execution_count": null,
      "outputs": [
        {
          "output_type": "execute_result",
          "data": {
            "text/plain": [
              "[1, 2, 3, 1, 4, 5]"
            ]
          },
          "metadata": {},
          "execution_count": 236
        }
      ]
    },
    {
      "cell_type": "code",
      "source": [
        "li1.reverse()\n",
        "li1"
      ],
      "metadata": {
        "id": "AgM1EQEDzz-C",
        "colab": {
          "base_uri": "https://localhost:8080/"
        },
        "outputId": "1567c674-e773-4ecc-de98-275270864337"
      },
      "execution_count": null,
      "outputs": [
        {
          "output_type": "execute_result",
          "data": {
            "text/plain": [
              "[5, 4, 1, 3, 2, 1]"
            ]
          },
          "metadata": {},
          "execution_count": 237
        }
      ]
    },
    {
      "cell_type": "code",
      "source": [
        "li1.sort()\n",
        "li1"
      ],
      "metadata": {
        "colab": {
          "base_uri": "https://localhost:8080/"
        },
        "id": "9CViaGhl4dLz",
        "outputId": "40ce10d7-0e00-4c12-e6a7-59e62a89ab51"
      },
      "execution_count": null,
      "outputs": [
        {
          "output_type": "execute_result",
          "data": {
            "text/plain": [
              "[1, 1, 2, 3, 4, 5]"
            ]
          },
          "metadata": {},
          "execution_count": 238
        }
      ]
    },
    {
      "cell_type": "code",
      "source": [
        "li2 = []\n",
        "li2 = li1.copy()\n",
        "li2"
      ],
      "metadata": {
        "colab": {
          "base_uri": "https://localhost:8080/"
        },
        "id": "QRul9uxm4hdv",
        "outputId": "e383ac9d-e93e-4cea-eaed-b8332e37d7c5"
      },
      "execution_count": null,
      "outputs": [
        {
          "output_type": "execute_result",
          "data": {
            "text/plain": [
              "[1, 1, 2, 3, 4, 5]"
            ]
          },
          "metadata": {},
          "execution_count": 242
        }
      ]
    },
    {
      "cell_type": "code",
      "source": [
        "li2.clear()\n",
        "li2"
      ],
      "metadata": {
        "id": "H7hPvjpBzWDX",
        "colab": {
          "base_uri": "https://localhost:8080/"
        },
        "outputId": "cfd62871-5421-4da6-867e-dfcb11b94377"
      },
      "execution_count": null,
      "outputs": [
        {
          "output_type": "execute_result",
          "data": {
            "text/plain": [
              "[]"
            ]
          },
          "metadata": {},
          "execution_count": 243
        }
      ]
    },
    {
      "cell_type": "code",
      "source": [
        "tu1.index(3) # 3이라는 값이 몇 번 방에 있어?"
      ],
      "metadata": {
        "colab": {
          "base_uri": "https://localhost:8080/"
        },
        "id": "m7ebQGT75FKt",
        "outputId": "082c2b37-5f50-4e8e-f4c4-61c3b7338475"
      },
      "execution_count": null,
      "outputs": [
        {
          "output_type": "execute_result",
          "data": {
            "text/plain": [
              "2"
            ]
          },
          "metadata": {},
          "execution_count": 244
        }
      ]
    },
    {
      "cell_type": "code",
      "source": [
        "tu1.count(3) # 3이라는 값이 전체 튜플에 몇 개 있어?"
      ],
      "metadata": {
        "colab": {
          "base_uri": "https://localhost:8080/"
        },
        "id": "u_InHNkL5Kjs",
        "outputId": "d883fb89-1a57-4ec1-9108-1c6792cbb67f"
      },
      "execution_count": null,
      "outputs": [
        {
          "output_type": "execute_result",
          "data": {
            "text/plain": [
              "1"
            ]
          },
          "metadata": {},
          "execution_count": 245
        }
      ]
    },
    {
      "cell_type": "code",
      "source": [
        "3 in tu1 # 있으면 True, 없으면 False"
      ],
      "metadata": {
        "colab": {
          "base_uri": "https://localhost:8080/"
        },
        "id": "LvaeEsIo5NpU",
        "outputId": "a6346d9d-6820-4115-bd34-8367fa68f58a"
      },
      "execution_count": null,
      "outputs": [
        {
          "output_type": "execute_result",
          "data": {
            "text/plain": [
              "True"
            ]
          },
          "metadata": {},
          "execution_count": 246
        }
      ]
    },
    {
      "cell_type": "code",
      "source": [
        "3 not in tu1 # tu1에 3이 없니? 있으면 False, 없으면 True"
      ],
      "metadata": {
        "colab": {
          "base_uri": "https://localhost:8080/"
        },
        "id": "97l-ekH05R3H",
        "outputId": "4bd45d19-bf1e-4fa0-e935-db290171e100"
      },
      "execution_count": null,
      "outputs": [
        {
          "output_type": "execute_result",
          "data": {
            "text/plain": [
              "False"
            ]
          },
          "metadata": {},
          "execution_count": 247
        }
      ]
    },
    {
      "cell_type": "code",
      "source": [
        "tu1 + tu1 # 연산만 하고"
      ],
      "metadata": {
        "colab": {
          "base_uri": "https://localhost:8080/"
        },
        "id": "hyksF4Be5XzX",
        "outputId": "e970985f-a4ae-44b6-816a-8ea84f8b933f"
      },
      "execution_count": null,
      "outputs": [
        {
          "output_type": "execute_result",
          "data": {
            "text/plain": [
              "(1, 2, 3, 4, 5, 1, 2, 3, 4, 5)"
            ]
          },
          "metadata": {},
          "execution_count": 249
        }
      ]
    },
    {
      "cell_type": "code",
      "source": [
        "tu1 # 원본은 그대로 있고"
      ],
      "metadata": {
        "colab": {
          "base_uri": "https://localhost:8080/"
        },
        "id": "b_64Zvpq5cmG",
        "outputId": "30dcca99-f324-40c6-c886-f6081736dde8"
      },
      "execution_count": null,
      "outputs": [
        {
          "output_type": "execute_result",
          "data": {
            "text/plain": [
              "(1, 2, 3, 4, 5)"
            ]
          },
          "metadata": {},
          "execution_count": 250
        }
      ]
    },
    {
      "cell_type": "code",
      "source": [
        "tu1 + li1"
      ],
      "metadata": {
        "colab": {
          "base_uri": "https://localhost:8080/",
          "height": 172
        },
        "id": "tN3sQRXW5ktk",
        "outputId": "eace0caf-3eb4-4247-cc4c-86f79a52d931"
      },
      "execution_count": null,
      "outputs": [
        {
          "output_type": "error",
          "ename": "TypeError",
          "evalue": "ignored",
          "traceback": [
            "\u001b[0;31m---------------------------------------------------------------------------\u001b[0m",
            "\u001b[0;31mTypeError\u001b[0m                                 Traceback (most recent call last)",
            "\u001b[0;32m<ipython-input-251-edfd5f7da51b>\u001b[0m in \u001b[0;36m<cell line: 1>\u001b[0;34m()\u001b[0m\n\u001b[0;32m----> 1\u001b[0;31m \u001b[0mtu1\u001b[0m \u001b[0;34m+\u001b[0m \u001b[0mli1\u001b[0m\u001b[0;34m\u001b[0m\u001b[0;34m\u001b[0m\u001b[0m\n\u001b[0m",
            "\u001b[0;31mTypeError\u001b[0m: can only concatenate tuple (not \"list\") to tuple"
          ]
        }
      ]
    },
    {
      "cell_type": "code",
      "source": [
        "tu1 * tu1"
      ],
      "metadata": {
        "colab": {
          "base_uri": "https://localhost:8080/",
          "height": 172
        },
        "id": "aEbaX_Nl5oKQ",
        "outputId": "acaa6667-fb6c-4366-9c01-dfac00de74b0"
      },
      "execution_count": null,
      "outputs": [
        {
          "output_type": "error",
          "ename": "TypeError",
          "evalue": "ignored",
          "traceback": [
            "\u001b[0;31m---------------------------------------------------------------------------\u001b[0m",
            "\u001b[0;31mTypeError\u001b[0m                                 Traceback (most recent call last)",
            "\u001b[0;32m<ipython-input-252-d5b0d457ed75>\u001b[0m in \u001b[0;36m<cell line: 1>\u001b[0;34m()\u001b[0m\n\u001b[0;32m----> 1\u001b[0;31m \u001b[0mtu1\u001b[0m \u001b[0;34m*\u001b[0m \u001b[0mtu1\u001b[0m\u001b[0;34m\u001b[0m\u001b[0;34m\u001b[0m\u001b[0m\n\u001b[0m",
            "\u001b[0;31mTypeError\u001b[0m: can't multiply sequence by non-int of type 'tuple'"
          ]
        }
      ]
    },
    {
      "cell_type": "code",
      "source": [
        "'정소이' * 3"
      ],
      "metadata": {
        "colab": {
          "base_uri": "https://localhost:8080/",
          "height": 35
        },
        "id": "W312Izat5reF",
        "outputId": "923bc022-d7f3-48a7-97fb-d4f960ceeb59"
      },
      "execution_count": null,
      "outputs": [
        {
          "output_type": "execute_result",
          "data": {
            "text/plain": [
              "'정소이정소이정소이'"
            ],
            "application/vnd.google.colaboratory.intrinsic+json": {
              "type": "string"
            }
          },
          "metadata": {},
          "execution_count": 253
        }
      ]
    },
    {
      "cell_type": "code",
      "source": [
        "tu1 * 3"
      ],
      "metadata": {
        "colab": {
          "base_uri": "https://localhost:8080/"
        },
        "id": "Io-Lygp85w0f",
        "outputId": "63d21364-35c3-4905-a4c7-dde8117126e6"
      },
      "execution_count": null,
      "outputs": [
        {
          "output_type": "execute_result",
          "data": {
            "text/plain": [
              "(1, 2, 3, 4, 5, 1, 2, 3, 4, 5, 1, 2, 3, 4, 5)"
            ]
          },
          "metadata": {},
          "execution_count": 254
        }
      ]
    },
    {
      "cell_type": "code",
      "source": [
        "tu1 - tu1"
      ],
      "metadata": {
        "colab": {
          "base_uri": "https://localhost:8080/",
          "height": 172
        },
        "id": "RL18VYIn5yQK",
        "outputId": "26e54769-3bfa-4e89-b8c3-4671068ec348"
      },
      "execution_count": null,
      "outputs": [
        {
          "output_type": "error",
          "ename": "TypeError",
          "evalue": "ignored",
          "traceback": [
            "\u001b[0;31m---------------------------------------------------------------------------\u001b[0m",
            "\u001b[0;31mTypeError\u001b[0m                                 Traceback (most recent call last)",
            "\u001b[0;32m<ipython-input-255-0c16e397dfb5>\u001b[0m in \u001b[0;36m<cell line: 1>\u001b[0;34m()\u001b[0m\n\u001b[0;32m----> 1\u001b[0;31m \u001b[0mtu1\u001b[0m \u001b[0;34m-\u001b[0m \u001b[0mtu1\u001b[0m\u001b[0;34m\u001b[0m\u001b[0;34m\u001b[0m\u001b[0m\n\u001b[0m",
            "\u001b[0;31mTypeError\u001b[0m: unsupported operand type(s) for -: 'tuple' and 'tuple'"
          ]
        }
      ]
    },
    {
      "cell_type": "code",
      "source": [
        "tu1 / tu1"
      ],
      "metadata": {
        "colab": {
          "base_uri": "https://localhost:8080/",
          "height": 172
        },
        "id": "4t6IRz9550LW",
        "outputId": "e92531df-542a-44bd-a491-710350f31bfb"
      },
      "execution_count": null,
      "outputs": [
        {
          "output_type": "error",
          "ename": "TypeError",
          "evalue": "ignored",
          "traceback": [
            "\u001b[0;31m---------------------------------------------------------------------------\u001b[0m",
            "\u001b[0;31mTypeError\u001b[0m                                 Traceback (most recent call last)",
            "\u001b[0;32m<ipython-input-256-271f9c5b6cc9>\u001b[0m in \u001b[0;36m<cell line: 1>\u001b[0;34m()\u001b[0m\n\u001b[0;32m----> 1\u001b[0;31m \u001b[0mtu1\u001b[0m \u001b[0;34m/\u001b[0m \u001b[0mtu1\u001b[0m\u001b[0;34m\u001b[0m\u001b[0;34m\u001b[0m\u001b[0m\n\u001b[0m",
            "\u001b[0;31mTypeError\u001b[0m: unsupported operand type(s) for /: 'tuple' and 'tuple'"
          ]
        }
      ]
    },
    {
      "cell_type": "markdown",
      "source": [
        "- 원본은 변하지 않고\n",
        "- 원본에 새로운 튜플을 합친 새로운 튜플을 반환할 뿐입니다."
      ],
      "metadata": {
        "id": "tuXm8ENRcBHl"
      }
    },
    {
      "cell_type": "markdown",
      "source": [
        "- list에만 가능한 것 - 원본에 무언가를 추가하거나 곱하는 것"
      ],
      "metadata": {
        "id": "VBnbEcNIcBHl"
      }
    },
    {
      "cell_type": "code",
      "source": [
        "li1"
      ],
      "metadata": {
        "colab": {
          "base_uri": "https://localhost:8080/"
        },
        "id": "4PLzS79d5-AT",
        "outputId": "9444b85d-ae86-4d19-b134-7372eeacaa9f"
      },
      "execution_count": null,
      "outputs": [
        {
          "output_type": "execute_result",
          "data": {
            "text/plain": [
              "[1, 1, 2, 3, 4, 5]"
            ]
          },
          "metadata": {},
          "execution_count": 257
        }
      ]
    },
    {
      "cell_type": "code",
      "source": [
        "li1+li1"
      ],
      "metadata": {
        "id": "XHBVeIT5cBHl",
        "colab": {
          "base_uri": "https://localhost:8080/"
        },
        "outputId": "1505a79c-3228-46f9-d51c-05df363e2b1d"
      },
      "execution_count": null,
      "outputs": [
        {
          "output_type": "execute_result",
          "data": {
            "text/plain": [
              "[1, 1, 2, 3, 4, 5, 1, 1, 2, 3, 4, 5]"
            ]
          },
          "metadata": {},
          "execution_count": 258
        }
      ]
    },
    {
      "cell_type": "code",
      "source": [
        "li1*3"
      ],
      "metadata": {
        "colab": {
          "base_uri": "https://localhost:8080/"
        },
        "id": "Yxu6gM5l6DAW",
        "outputId": "56b4ef9c-da64-4aca-c3c9-81ae47e7e848"
      },
      "execution_count": null,
      "outputs": [
        {
          "output_type": "execute_result",
          "data": {
            "text/plain": [
              "[1, 1, 2, 3, 4, 5, 1, 1, 2, 3, 4, 5, 1, 1, 2, 3, 4, 5]"
            ]
          },
          "metadata": {},
          "execution_count": 260
        }
      ]
    },
    {
      "cell_type": "code",
      "source": [
        "li1 * li1"
      ],
      "metadata": {
        "colab": {
          "base_uri": "https://localhost:8080/",
          "height": 172
        },
        "id": "8t8p3-GR6EPB",
        "outputId": "0640c3e8-fbae-4527-e654-e28bfdb783e9"
      },
      "execution_count": null,
      "outputs": [
        {
          "output_type": "error",
          "ename": "TypeError",
          "evalue": "ignored",
          "traceback": [
            "\u001b[0;31m---------------------------------------------------------------------------\u001b[0m",
            "\u001b[0;31mTypeError\u001b[0m                                 Traceback (most recent call last)",
            "\u001b[0;32m<ipython-input-261-67fe0f0ee803>\u001b[0m in \u001b[0;36m<cell line: 1>\u001b[0;34m()\u001b[0m\n\u001b[0;32m----> 1\u001b[0;31m \u001b[0mli1\u001b[0m \u001b[0;34m*\u001b[0m \u001b[0mli1\u001b[0m\u001b[0;34m\u001b[0m\u001b[0;34m\u001b[0m\u001b[0m\n\u001b[0m",
            "\u001b[0;31mTypeError\u001b[0m: can't multiply sequence by non-int of type 'list'"
          ]
        }
      ]
    },
    {
      "cell_type": "code",
      "source": [
        "li1 - li1"
      ],
      "metadata": {
        "id": "UjkBYjX4cBHl",
        "colab": {
          "base_uri": "https://localhost:8080/",
          "height": 172
        },
        "outputId": "3b4f6f29-34e4-4829-c2a1-ababc8e58a29"
      },
      "execution_count": null,
      "outputs": [
        {
          "output_type": "error",
          "ename": "TypeError",
          "evalue": "ignored",
          "traceback": [
            "\u001b[0;31m---------------------------------------------------------------------------\u001b[0m",
            "\u001b[0;31mTypeError\u001b[0m                                 Traceback (most recent call last)",
            "\u001b[0;32m<ipython-input-262-1a18f2dc771c>\u001b[0m in \u001b[0;36m<cell line: 1>\u001b[0;34m()\u001b[0m\n\u001b[0;32m----> 1\u001b[0;31m \u001b[0mli1\u001b[0m \u001b[0;34m-\u001b[0m \u001b[0mli1\u001b[0m\u001b[0;34m\u001b[0m\u001b[0;34m\u001b[0m\u001b[0m\n\u001b[0m",
            "\u001b[0;31mTypeError\u001b[0m: unsupported operand type(s) for -: 'list' and 'list'"
          ]
        }
      ]
    },
    {
      "cell_type": "code",
      "source": [
        "li1 / li1"
      ],
      "metadata": {
        "id": "TbGPEdSfcBHl",
        "colab": {
          "base_uri": "https://localhost:8080/",
          "height": 172
        },
        "outputId": "b091a74b-d626-4d13-9c30-cd36e6caf1bd"
      },
      "execution_count": null,
      "outputs": [
        {
          "output_type": "error",
          "ename": "TypeError",
          "evalue": "ignored",
          "traceback": [
            "\u001b[0;31m---------------------------------------------------------------------------\u001b[0m",
            "\u001b[0;31mTypeError\u001b[0m                                 Traceback (most recent call last)",
            "\u001b[0;32m<ipython-input-263-db5f845c2f61>\u001b[0m in \u001b[0;36m<cell line: 1>\u001b[0;34m()\u001b[0m\n\u001b[0;32m----> 1\u001b[0;31m \u001b[0mli1\u001b[0m \u001b[0;34m/\u001b[0m \u001b[0mli1\u001b[0m\u001b[0;34m\u001b[0m\u001b[0;34m\u001b[0m\u001b[0m\n\u001b[0m",
            "\u001b[0;31mTypeError\u001b[0m: unsupported operand type(s) for /: 'list' and 'list'"
          ]
        }
      ]
    },
    {
      "cell_type": "markdown",
      "source": [
        "# 인덱싱과 슬라이싱\n",
        "  - 파이썬의 시퀀스 타입은 자동으로 인덱스를 생성해줍니다.\n",
        "    - 0부터 순서대로 1씩 증가하면서 자동으로 만들어줍니다.\n",
        "    - 0부터 시작한다라는 겁니다.\n",
        "    - 첫번재 원소 인덱스가 0이고,\n",
        "    - `[ ]` 안에 인덱스 숫자로 참조하길 원하는 원소를 선택을 합니다\n",
        "\n",
        "    - 슬라이스는 시퀀스 내에서 원하는 범위를 잘라서 가져오는 개념입니다.\n",
        "    - 프로그래밍에서는 반복문, 반복문을 활용한 인덱싱/슬라이싱을 많이 하게 됩니다"
      ],
      "metadata": {
        "id": "a30tX7gncBHl"
      }
    },
    {
      "cell_type": "code",
      "source": [
        "li1[3:5] # 슬라이싱 - 시작점 : 끝점 +1 까지"
      ],
      "metadata": {
        "id": "BflgmVD0cBHl",
        "colab": {
          "base_uri": "https://localhost:8080/"
        },
        "outputId": "38a4234d-7846-4d2b-9e4b-c8561a992ff3"
      },
      "execution_count": null,
      "outputs": [
        {
          "output_type": "execute_result",
          "data": {
            "text/plain": [
              "[3, 4]"
            ]
          },
          "metadata": {},
          "execution_count": 265
        }
      ]
    },
    {
      "cell_type": "code",
      "source": [
        "li1[3] # 인덱싱 - 집게손가락, 콕 집어옴"
      ],
      "metadata": {
        "id": "fuB9Z8vS5Qpf",
        "colab": {
          "base_uri": "https://localhost:8080/"
        },
        "outputId": "1c08f112-dde8-4f7f-f3ea-1f022cc6e311"
      },
      "execution_count": null,
      "outputs": [
        {
          "output_type": "execute_result",
          "data": {
            "text/plain": [
              "3"
            ]
          },
          "metadata": {},
          "execution_count": 266
        }
      ]
    },
    {
      "cell_type": "code",
      "source": [
        "li1[0:5:2]"
      ],
      "metadata": {
        "id": "85JK1wy5cBHm",
        "colab": {
          "base_uri": "https://localhost:8080/"
        },
        "outputId": "e3b9d74a-8088-4aae-b1e6-fcfd7f642d30"
      },
      "execution_count": null,
      "outputs": [
        {
          "output_type": "execute_result",
          "data": {
            "text/plain": [
              "[1, 2, 4]"
            ]
          },
          "metadata": {},
          "execution_count": 267
        }
      ]
    },
    {
      "cell_type": "code",
      "source": [
        "li1[:5:2] # 시작점 인덱스를 생략하면 0번부터"
      ],
      "metadata": {
        "id": "iTRqiFMxcBHm",
        "colab": {
          "base_uri": "https://localhost:8080/"
        },
        "outputId": "bc3ae89f-2609-4b9d-8e4d-2053cc5bd2fb"
      },
      "execution_count": null,
      "outputs": [
        {
          "output_type": "execute_result",
          "data": {
            "text/plain": [
              "[1, 2, 4]"
            ]
          },
          "metadata": {},
          "execution_count": 268
        }
      ]
    },
    {
      "cell_type": "code",
      "source": [
        "li1[::2] # 끝점 인덱스를 생략하면 끝까지"
      ],
      "metadata": {
        "id": "_vsUAG21cBHm",
        "colab": {
          "base_uri": "https://localhost:8080/"
        },
        "outputId": "fdd019e8-99a8-4a43-f1e0-8e4d3e748589"
      },
      "execution_count": null,
      "outputs": [
        {
          "output_type": "execute_result",
          "data": {
            "text/plain": [
              "[1, 2, 4]"
            ]
          },
          "metadata": {},
          "execution_count": 269
        }
      ]
    },
    {
      "cell_type": "code",
      "source": [
        "li1[::] # step(몇칸씩 건너뛸지)를 생략하면 1칸씩"
      ],
      "metadata": {
        "id": "_LFGAZYh5tmG",
        "colab": {
          "base_uri": "https://localhost:8080/"
        },
        "outputId": "4b484af6-d166-4346-fbe0-dbf86b20cdf8"
      },
      "execution_count": null,
      "outputs": [
        {
          "output_type": "execute_result",
          "data": {
            "text/plain": [
              "[1, 1, 2, 3, 4, 5]"
            ]
          },
          "metadata": {},
          "execution_count": 270
        }
      ]
    },
    {
      "cell_type": "code",
      "source": [
        "# 음수 인덱싱을 지원한다.\n",
        "li1[-1] # 맨 끝의 인덱스"
      ],
      "metadata": {
        "id": "9AL4obdNcBHm",
        "colab": {
          "base_uri": "https://localhost:8080/"
        },
        "outputId": "f763ecf2-dd3d-494a-dd3d-d72333c262ba"
      },
      "execution_count": null,
      "outputs": [
        {
          "output_type": "execute_result",
          "data": {
            "text/plain": [
              "5"
            ]
          },
          "metadata": {},
          "execution_count": 271
        }
      ]
    },
    {
      "cell_type": "code",
      "source": [
        "li1[-2] # 맨 끝에서 두번째 인덱스"
      ],
      "metadata": {
        "id": "8FphBMNr6ofO",
        "colab": {
          "base_uri": "https://localhost:8080/"
        },
        "outputId": "cde44d0f-6edb-4ed4-e546-1799f0919f43"
      },
      "execution_count": null,
      "outputs": [
        {
          "output_type": "execute_result",
          "data": {
            "text/plain": [
              "4"
            ]
          },
          "metadata": {},
          "execution_count": 272
        }
      ]
    },
    {
      "cell_type": "code",
      "source": [
        "li1[-3] # 맨 끝에서 세번째 인덱스"
      ],
      "metadata": {
        "id": "UHiPfbW-6ksg",
        "colab": {
          "base_uri": "https://localhost:8080/"
        },
        "outputId": "cf9dbc2d-b77e-44c3-d51f-0acd5f467809"
      },
      "execution_count": null,
      "outputs": [
        {
          "output_type": "execute_result",
          "data": {
            "text/plain": [
              "3"
            ]
          },
          "metadata": {},
          "execution_count": 274
        }
      ]
    },
    {
      "cell_type": "code",
      "source": [
        "li1[:-1:2]"
      ],
      "metadata": {
        "id": "VHpX7W7o6g-P",
        "colab": {
          "base_uri": "https://localhost:8080/"
        },
        "outputId": "21c99fb5-fe81-4e1e-a443-e73127bba40a"
      },
      "execution_count": null,
      "outputs": [
        {
          "output_type": "execute_result",
          "data": {
            "text/plain": [
              "[1, 2, 4]"
            ]
          },
          "metadata": {},
          "execution_count": 276
        }
      ]
    },
    {
      "cell_type": "code",
      "source": [
        "li1[::-1]"
      ],
      "metadata": {
        "id": "77K3dxEL5_7k",
        "colab": {
          "base_uri": "https://localhost:8080/"
        },
        "outputId": "a3fb8fc6-098b-4b8e-b925-b1b552bc44df"
      },
      "execution_count": null,
      "outputs": [
        {
          "output_type": "execute_result",
          "data": {
            "text/plain": [
              "[5, 4, 3, 2, 1, 1]"
            ]
          },
          "metadata": {},
          "execution_count": 277
        }
      ]
    },
    {
      "cell_type": "code",
      "source": [
        "li1[0, 2, 4]"
      ],
      "metadata": {
        "id": "S7l8uG4jcBHm",
        "colab": {
          "base_uri": "https://localhost:8080/",
          "height": 172
        },
        "outputId": "916e8c31-b4e3-495f-9c1b-5a01332e9c14"
      },
      "execution_count": null,
      "outputs": [
        {
          "output_type": "error",
          "ename": "TypeError",
          "evalue": "ignored",
          "traceback": [
            "\u001b[0;31m---------------------------------------------------------------------------\u001b[0m",
            "\u001b[0;31mTypeError\u001b[0m                                 Traceback (most recent call last)",
            "\u001b[0;32m<ipython-input-278-4dbc743ec045>\u001b[0m in \u001b[0;36m<cell line: 1>\u001b[0;34m()\u001b[0m\n\u001b[0;32m----> 1\u001b[0;31m \u001b[0mli1\u001b[0m\u001b[0;34m[\u001b[0m\u001b[0;36m0\u001b[0m\u001b[0;34m,\u001b[0m \u001b[0;36m2\u001b[0m\u001b[0;34m,\u001b[0m \u001b[0;36m4\u001b[0m\u001b[0;34m]\u001b[0m\u001b[0;34m\u001b[0m\u001b[0;34m\u001b[0m\u001b[0m\n\u001b[0m",
            "\u001b[0;31mTypeError\u001b[0m: list indices must be integers or slices, not tuple"
          ]
        }
      ]
    },
    {
      "cell_type": "code",
      "source": [
        "li1[8] # 8번 방은 만들어지지도 않았기 때문에"
      ],
      "metadata": {
        "id": "NOkgeVp56RRe",
        "colab": {
          "base_uri": "https://localhost:8080/",
          "height": 172
        },
        "outputId": "99370fca-b8ba-4da4-8463-2ab2b46ff5ab"
      },
      "execution_count": null,
      "outputs": [
        {
          "output_type": "error",
          "ename": "IndexError",
          "evalue": "ignored",
          "traceback": [
            "\u001b[0;31m---------------------------------------------------------------------------\u001b[0m",
            "\u001b[0;31mIndexError\u001b[0m                                Traceback (most recent call last)",
            "\u001b[0;32m<ipython-input-280-6aac0de53e99>\u001b[0m in \u001b[0;36m<cell line: 1>\u001b[0;34m()\u001b[0m\n\u001b[0;32m----> 1\u001b[0;31m \u001b[0mli1\u001b[0m\u001b[0;34m[\u001b[0m\u001b[0;36m8\u001b[0m\u001b[0;34m]\u001b[0m \u001b[0;31m# 8번 방은 만들어지지도 않았기 때문에\u001b[0m\u001b[0;34m\u001b[0m\u001b[0;34m\u001b[0m\u001b[0m\n\u001b[0m",
            "\u001b[0;31mIndexError\u001b[0m: list index out of range"
          ]
        }
      ]
    },
    {
      "cell_type": "markdown",
      "source": [
        "# 정말 중요한 것\n",
        "- 반복문으로 인덱싱/슬라이싱을 하다 보면 주어진 시퀀스타입을 범위를 벗어나는 참조를 굉장히 많이 하게 됩니다.\n"
      ],
      "metadata": {
        "id": "oZDMZsT3cBHm"
      }
    },
    {
      "cell_type": "markdown",
      "source": [
        "- IndexError: list index out of range\n"
      ],
      "metadata": {
        "id": "SrMB2SMhcBHm"
      }
    },
    {
      "cell_type": "code",
      "source": [
        "li1 = [1,2,3,4,5]"
      ],
      "metadata": {
        "id": "WhqxuGCEBbLb"
      },
      "execution_count": null,
      "outputs": []
    },
    {
      "cell_type": "code",
      "source": [
        "li1[:8] # 슬라이싱을 사용하면 범위를 벗어나는 참조도 허용을 한다."
      ],
      "metadata": {
        "id": "k2zlg-4N9qDW",
        "colab": {
          "base_uri": "https://localhost:8080/"
        },
        "outputId": "eff065ba-5a30-4c77-fce9-0423b0ff61df"
      },
      "execution_count": null,
      "outputs": [
        {
          "output_type": "execute_result",
          "data": {
            "text/plain": [
              "[1, 2, 3, 4, 5]"
            ]
          },
          "metadata": {},
          "execution_count": 304
        }
      ]
    },
    {
      "cell_type": "code",
      "source": [
        "li1.index(9)"
      ],
      "metadata": {
        "id": "yTfHhYqbcBHn",
        "colab": {
          "base_uri": "https://localhost:8080/",
          "height": 172
        },
        "outputId": "dda511f1-273b-4201-b604-3b4c9e61e8ae"
      },
      "execution_count": null,
      "outputs": [
        {
          "output_type": "error",
          "ename": "ValueError",
          "evalue": "ignored",
          "traceback": [
            "\u001b[0;31m---------------------------------------------------------------------------\u001b[0m",
            "\u001b[0;31mValueError\u001b[0m                                Traceback (most recent call last)",
            "\u001b[0;32m<ipython-input-305-69850af663d8>\u001b[0m in \u001b[0;36m<cell line: 1>\u001b[0;34m()\u001b[0m\n\u001b[0;32m----> 1\u001b[0;31m \u001b[0mli1\u001b[0m\u001b[0;34m.\u001b[0m\u001b[0mindex\u001b[0m\u001b[0;34m(\u001b[0m\u001b[0;36m9\u001b[0m\u001b[0;34m)\u001b[0m\u001b[0;34m\u001b[0m\u001b[0;34m\u001b[0m\u001b[0m\n\u001b[0m",
            "\u001b[0;31mValueError\u001b[0m: 9 is not in list"
          ]
        }
      ]
    },
    {
      "cell_type": "code",
      "source": [
        "li1[:-1]"
      ],
      "metadata": {
        "id": "noxCH-uJ90Fg",
        "colab": {
          "base_uri": "https://localhost:8080/"
        },
        "outputId": "aaba58a6-1d60-45ae-d44b-b2ecc5841c3a"
      },
      "execution_count": null,
      "outputs": [
        {
          "output_type": "execute_result",
          "data": {
            "text/plain": [
              "[1, 2, 3, 4]"
            ]
          },
          "metadata": {},
          "execution_count": 306
        }
      ]
    },
    {
      "cell_type": "code",
      "source": [
        "# tu1 = (1,2,3,4,5)\n",
        "# ((2,3),5)\n",
        "# (2,4)"
      ],
      "metadata": {
        "id": "byxuZ1xS95zV"
      },
      "execution_count": null,
      "outputs": []
    },
    {
      "cell_type": "code",
      "source": [
        "tu1 = (1,2,3,4,5)\n",
        "tu2 = (tu1[1:3],tu1[-1]) # 한줄에 나란히 두개의 연산 결과를 출력하려면 순서가 나름 중요하기에 tuple 형캐로 결과를 보여주는 것\n",
        "print(tu2)\n",
        "print(tu1[1::2]) # tu1[1]부터 2칸씩 step을 뛰면서 끝까지 출력"
      ],
      "metadata": {
        "id": "qFizQsxZ-JVI",
        "colab": {
          "base_uri": "https://localhost:8080/"
        },
        "outputId": "da7ad998-eda4-4c80-883b-c9d31fb0fb71"
      },
      "execution_count": null,
      "outputs": [
        {
          "output_type": "stream",
          "name": "stdout",
          "text": [
            "((2, 3), 5)\n",
            "(2, 4)\n"
          ]
        }
      ]
    },
    {
      "cell_type": "code",
      "source": [
        "a = li1[-1] # li1의 맨 마지막 인덱스 값을 출력"
      ],
      "metadata": {
        "id": "pPf7kLfMcBHn"
      },
      "execution_count": null,
      "outputs": []
    },
    {
      "cell_type": "code",
      "source": [
        "a"
      ],
      "metadata": {
        "id": "XmYwIj6b-Rmx",
        "colab": {
          "base_uri": "https://localhost:8080/"
        },
        "outputId": "eabbe8e5-fc75-43a4-d23e-3d17f1fc51de"
      },
      "execution_count": null,
      "outputs": [
        {
          "output_type": "execute_result",
          "data": {
            "text/plain": [
              "5"
            ]
          },
          "metadata": {},
          "execution_count": 310
        }
      ]
    },
    {
      "cell_type": "code",
      "source": [
        "print(li1[-1],li1[4])"
      ],
      "metadata": {
        "id": "mh0GrRjz-UIQ",
        "colab": {
          "base_uri": "https://localhost:8080/"
        },
        "outputId": "9b9721fc-60bb-4609-f033-2a7bddd28eb8"
      },
      "execution_count": null,
      "outputs": [
        {
          "output_type": "stream",
          "name": "stdout",
          "text": [
            "5 5\n"
          ]
        }
      ]
    },
    {
      "cell_type": "code",
      "source": [
        "li1.append(6)"
      ],
      "metadata": {
        "id": "oJdJe_NR-jA2"
      },
      "execution_count": null,
      "outputs": []
    },
    {
      "cell_type": "code",
      "source": [
        "print(li1[-1], li1[4])"
      ],
      "metadata": {
        "colab": {
          "base_uri": "https://localhost:8080/"
        },
        "id": "tcw_aGAjBong",
        "outputId": "961d3595-43e5-4ae8-8d6f-d76f465784b8"
      },
      "execution_count": null,
      "outputs": [
        {
          "output_type": "stream",
          "name": "stdout",
          "text": [
            "6 5\n"
          ]
        }
      ]
    },
    {
      "cell_type": "code",
      "source": [
        "li1[-1] # 언제나 해당 list의 맨 마지막 인덱스 값을 출력한다.\n",
        "# 자료가 변함에 따라 연결된 결과도 달라지는 프로그래밍 방법: 소프트 코딩"
      ],
      "metadata": {
        "colab": {
          "base_uri": "https://localhost:8080/"
        },
        "id": "L_7FJMZpBxUu",
        "outputId": "ee0a3482-680d-453b-8b1f-7132d4fe1c21"
      },
      "execution_count": null,
      "outputs": [
        {
          "output_type": "execute_result",
          "data": {
            "text/plain": [
              "6"
            ]
          },
          "metadata": {},
          "execution_count": 321
        }
      ]
    },
    {
      "cell_type": "code",
      "source": [
        "a # 언제나 해당 list의 4번 인덱스 a라는 변수를 만든 시점 값을 출력한다.\n",
        "# 자료가 변하더라도 계속 같은 결과를 나타내도록 하는 종류의 프로그래밍 방법: 하드 코딩"
      ],
      "metadata": {
        "colab": {
          "base_uri": "https://localhost:8080/"
        },
        "id": "aWsh76pxB4nC",
        "outputId": "e93744bb-1325-4527-e3ab-a3920f40b605"
      },
      "execution_count": null,
      "outputs": [
        {
          "output_type": "execute_result",
          "data": {
            "text/plain": [
              "5"
            ]
          },
          "metadata": {},
          "execution_count": 320
        }
      ]
    },
    {
      "cell_type": "code",
      "source": [
        "# 견고하게 만들 때는 하드 코딩을 선호하겠지만, 데이터를 다룰 때는 주로 소프트 코딩을 하도록 권장하는 편"
      ],
      "metadata": {
        "id": "AjXELxX9Bmc3"
      },
      "execution_count": null,
      "outputs": []
    },
    {
      "cell_type": "markdown",
      "source": [
        "# 슬라이스 사용법\n",
        "\n",
        "arr [ 시작인덱스 : 끝인덱스+1 : step(몇칸뛰기)]"
      ],
      "metadata": {
        "id": "A_45DJ4xcBHo"
      }
    },
    {
      "cell_type": "code",
      "source": [
        "tu1[:10] # Out of Range 에러 없이 끝까지 결과를 출력해준다."
      ],
      "metadata": {
        "id": "8a2m1WyacBHo",
        "colab": {
          "base_uri": "https://localhost:8080/"
        },
        "outputId": "514e7824-f188-41ff-e122-c409f53ce6db"
      },
      "execution_count": null,
      "outputs": [
        {
          "output_type": "execute_result",
          "data": {
            "text/plain": [
              "(1, 2, 3, 4, 5)"
            ]
          },
          "metadata": {},
          "execution_count": 323
        }
      ]
    },
    {
      "cell_type": "code",
      "source": [
        "tu1[-6] # 음수 인덱싱도 IndexError: tuple index out of range"
      ],
      "metadata": {
        "id": "1EPmCMhw_VoP",
        "colab": {
          "base_uri": "https://localhost:8080/",
          "height": 172
        },
        "outputId": "782b186c-cf54-46a0-a153-596287ba2200"
      },
      "execution_count": null,
      "outputs": [
        {
          "output_type": "error",
          "ename": "IndexError",
          "evalue": "ignored",
          "traceback": [
            "\u001b[0;31m---------------------------------------------------------------------------\u001b[0m",
            "\u001b[0;31mIndexError\u001b[0m                                Traceback (most recent call last)",
            "\u001b[0;32m<ipython-input-325-1fb1f9e79a25>\u001b[0m in \u001b[0;36m<cell line: 1>\u001b[0;34m()\u001b[0m\n\u001b[0;32m----> 1\u001b[0;31m \u001b[0mtu1\u001b[0m\u001b[0;34m[\u001b[0m\u001b[0;34m-\u001b[0m\u001b[0;36m6\u001b[0m\u001b[0;34m]\u001b[0m\u001b[0;34m\u001b[0m\u001b[0;34m\u001b[0m\u001b[0m\n\u001b[0m",
            "\u001b[0;31mIndexError\u001b[0m: tuple index out of range"
          ]
        }
      ]
    },
    {
      "cell_type": "code",
      "source": [
        "tu1[-6:] # 음수를 활용한 슬라이싱은 IndexError: tuple index out of range 없이 값을 가져올 수 있다."
      ],
      "metadata": {
        "id": "wqcBCAYWcBHp",
        "colab": {
          "base_uri": "https://localhost:8080/"
        },
        "outputId": "fc274d66-b4d5-4529-e6df-09a8176abb21"
      },
      "execution_count": null,
      "outputs": [
        {
          "output_type": "execute_result",
          "data": {
            "text/plain": [
              "(1, 2, 3, 4, 5)"
            ]
          },
          "metadata": {},
          "execution_count": 326
        }
      ]
    },
    {
      "cell_type": "markdown",
      "source": [
        "# 문자열 (String)\n",
        "- 배열의 한 종류\n",
        "- 튜플의 속성을 가지고 있어요"
      ],
      "metadata": {
        "id": "SqBfi3dUcBHp"
      }
    },
    {
      "cell_type": "code",
      "source": [
        "# 문자열은 파이썬의 '기본' 자료형이다. 근데 tuple의 방식으로 동작한다.\n",
        "name = '신짱구'"
      ],
      "metadata": {
        "id": "MUvOADWDcBHq"
      },
      "execution_count": null,
      "outputs": []
    },
    {
      "cell_type": "code",
      "source": [
        "name[1:] # 슬라이싱 가능"
      ],
      "metadata": {
        "id": "GdWKejkMcBHq",
        "colab": {
          "base_uri": "https://localhost:8080/",
          "height": 35
        },
        "outputId": "2cbffad1-6681-4377-c85c-8cd18bfe9133"
      },
      "execution_count": null,
      "outputs": [
        {
          "output_type": "execute_result",
          "data": {
            "text/plain": [
              "'짱구'"
            ],
            "application/vnd.google.colaboratory.intrinsic+json": {
              "type": "string"
            }
          },
          "metadata": {},
          "execution_count": 330
        }
      ]
    },
    {
      "cell_type": "code",
      "source": [
        "name[-1] # 인덱싱 가능"
      ],
      "metadata": {
        "id": "dzHkaDOycBHq",
        "colab": {
          "base_uri": "https://localhost:8080/",
          "height": 35
        },
        "outputId": "574fad41-8fb6-4fb9-a328-2a373de126c9"
      },
      "execution_count": null,
      "outputs": [
        {
          "output_type": "execute_result",
          "data": {
            "text/plain": [
              "'구'"
            ],
            "application/vnd.google.colaboratory.intrinsic+json": {
              "type": "string"
            }
          },
          "metadata": {},
          "execution_count": 332
        }
      ]
    },
    {
      "cell_type": "code",
      "source": [
        "name[-1] = '아' # TypeError: 'str' object does not support item assignment"
      ],
      "metadata": {
        "id": "PyWzVYXpcBHq",
        "colab": {
          "base_uri": "https://localhost:8080/",
          "height": 172
        },
        "outputId": "756cd16c-9655-4be1-9dab-18d2204116e4"
      },
      "execution_count": null,
      "outputs": [
        {
          "output_type": "error",
          "ename": "TypeError",
          "evalue": "ignored",
          "traceback": [
            "\u001b[0;31m---------------------------------------------------------------------------\u001b[0m",
            "\u001b[0;31mTypeError\u001b[0m                                 Traceback (most recent call last)",
            "\u001b[0;32m<ipython-input-333-1a32f27b8d37>\u001b[0m in \u001b[0;36m<cell line: 1>\u001b[0;34m()\u001b[0m\n\u001b[0;32m----> 1\u001b[0;31m \u001b[0mname\u001b[0m\u001b[0;34m[\u001b[0m\u001b[0;34m-\u001b[0m\u001b[0;36m1\u001b[0m\u001b[0;34m]\u001b[0m \u001b[0;34m=\u001b[0m \u001b[0;34m'아'\u001b[0m\u001b[0;34m\u001b[0m\u001b[0;34m\u001b[0m\u001b[0m\n\u001b[0m",
            "\u001b[0;31mTypeError\u001b[0m: 'str' object does not support item assignment"
          ]
        }
      ]
    },
    {
      "cell_type": "code",
      "source": [
        "'신짱구'[0]"
      ],
      "metadata": {
        "id": "8QwYL0MdcBHq",
        "colab": {
          "base_uri": "https://localhost:8080/",
          "height": 35
        },
        "outputId": "e3d1a394-3635-4f9f-b1d0-08eddac6b68a"
      },
      "execution_count": null,
      "outputs": [
        {
          "output_type": "execute_result",
          "data": {
            "text/plain": [
              "'신'"
            ],
            "application/vnd.google.colaboratory.intrinsic+json": {
              "type": "string"
            }
          },
          "metadata": {},
          "execution_count": 334
        }
      ]
    },
    {
      "cell_type": "code",
      "source": [
        "(0,2,4)[0]"
      ],
      "metadata": {
        "id": "pmasz15lcBHq",
        "colab": {
          "base_uri": "https://localhost:8080/"
        },
        "outputId": "46d4434c-3396-41fb-ed38-7356884993b3"
      },
      "execution_count": null,
      "outputs": [
        {
          "output_type": "execute_result",
          "data": {
            "text/plain": [
              "0"
            ]
          },
          "metadata": {},
          "execution_count": 335
        }
      ]
    },
    {
      "cell_type": "code",
      "source": [
        "type(name)"
      ],
      "metadata": {
        "id": "VUzEUsv8GREp",
        "colab": {
          "base_uri": "https://localhost:8080/"
        },
        "outputId": "d319917b-1352-45dc-d8a1-85340740955d"
      },
      "execution_count": null,
      "outputs": [
        {
          "output_type": "execute_result",
          "data": {
            "text/plain": [
              "str"
            ]
          },
          "metadata": {},
          "execution_count": 336
        }
      ]
    },
    {
      "cell_type": "code",
      "source": [
        "dir(name)"
      ],
      "metadata": {
        "id": "wKM2zBEGGO77",
        "colab": {
          "base_uri": "https://localhost:8080/"
        },
        "outputId": "26f931a4-70f5-47a1-c9da-234e6babc36e"
      },
      "execution_count": null,
      "outputs": [
        {
          "output_type": "execute_result",
          "data": {
            "text/plain": [
              "['__add__',\n",
              " '__class__',\n",
              " '__contains__',\n",
              " '__delattr__',\n",
              " '__dir__',\n",
              " '__doc__',\n",
              " '__eq__',\n",
              " '__format__',\n",
              " '__ge__',\n",
              " '__getattribute__',\n",
              " '__getitem__',\n",
              " '__getnewargs__',\n",
              " '__gt__',\n",
              " '__hash__',\n",
              " '__init__',\n",
              " '__init_subclass__',\n",
              " '__iter__',\n",
              " '__le__',\n",
              " '__len__',\n",
              " '__lt__',\n",
              " '__mod__',\n",
              " '__mul__',\n",
              " '__ne__',\n",
              " '__new__',\n",
              " '__reduce__',\n",
              " '__reduce_ex__',\n",
              " '__repr__',\n",
              " '__rmod__',\n",
              " '__rmul__',\n",
              " '__setattr__',\n",
              " '__sizeof__',\n",
              " '__str__',\n",
              " '__subclasshook__',\n",
              " 'capitalize',\n",
              " 'casefold',\n",
              " 'center',\n",
              " 'count',\n",
              " 'encode',\n",
              " 'endswith',\n",
              " 'expandtabs',\n",
              " 'find',\n",
              " 'format',\n",
              " 'format_map',\n",
              " 'index',\n",
              " 'isalnum',\n",
              " 'isalpha',\n",
              " 'isascii',\n",
              " 'isdecimal',\n",
              " 'isdigit',\n",
              " 'isidentifier',\n",
              " 'islower',\n",
              " 'isnumeric',\n",
              " 'isprintable',\n",
              " 'isspace',\n",
              " 'istitle',\n",
              " 'isupper',\n",
              " 'join',\n",
              " 'ljust',\n",
              " 'lower',\n",
              " 'lstrip',\n",
              " 'maketrans',\n",
              " 'partition',\n",
              " 'removeprefix',\n",
              " 'removesuffix',\n",
              " 'replace',\n",
              " 'rfind',\n",
              " 'rindex',\n",
              " 'rjust',\n",
              " 'rpartition',\n",
              " 'rsplit',\n",
              " 'rstrip',\n",
              " 'split',\n",
              " 'splitlines',\n",
              " 'startswith',\n",
              " 'strip',\n",
              " 'swapcase',\n",
              " 'title',\n",
              " 'translate',\n",
              " 'upper',\n",
              " 'zfill']"
            ]
          },
          "metadata": {},
          "execution_count": 337
        }
      ]
    },
    {
      "cell_type": "code",
      "source": [
        "string = 'abcdefg'\n",
        "string[::-1]"
      ],
      "metadata": {
        "id": "JYPSVuddGiyr",
        "colab": {
          "base_uri": "https://localhost:8080/",
          "height": 35
        },
        "outputId": "1cfa4f91-44f4-4d5f-cf73-9ae4b0b1cd16"
      },
      "execution_count": null,
      "outputs": [
        {
          "output_type": "execute_result",
          "data": {
            "text/plain": [
              "'gfedcba'"
            ],
            "application/vnd.google.colaboratory.intrinsic+json": {
              "type": "string"
            }
          },
          "metadata": {},
          "execution_count": 338
        }
      ]
    },
    {
      "cell_type": "code",
      "source": [
        "'a' in string"
      ],
      "metadata": {
        "id": "O1T9HMmFG1Tl",
        "colab": {
          "base_uri": "https://localhost:8080/"
        },
        "outputId": "100a6f46-3872-46d4-b13c-ff823d07a054"
      },
      "execution_count": null,
      "outputs": [
        {
          "output_type": "execute_result",
          "data": {
            "text/plain": [
              "True"
            ]
          },
          "metadata": {},
          "execution_count": 339
        }
      ]
    },
    {
      "cell_type": "code",
      "source": [
        "'a' not in string"
      ],
      "metadata": {
        "id": "j7bZgcWLG47a",
        "colab": {
          "base_uri": "https://localhost:8080/"
        },
        "outputId": "c7f6bc12-c65a-46e9-aa63-c6b4cd5afd5c"
      },
      "execution_count": null,
      "outputs": [
        {
          "output_type": "execute_result",
          "data": {
            "text/plain": [
              "False"
            ]
          },
          "metadata": {},
          "execution_count": 340
        }
      ]
    },
    {
      "cell_type": "code",
      "source": [
        "'무' in '사과나무'"
      ],
      "metadata": {
        "id": "9luEd-HRNpf3",
        "colab": {
          "base_uri": "https://localhost:8080/"
        },
        "outputId": "72edb8d5-a914-4560-bd9b-3cd10124c845"
      },
      "execution_count": null,
      "outputs": [
        {
          "output_type": "execute_result",
          "data": {
            "text/plain": [
              "True"
            ]
          },
          "metadata": {},
          "execution_count": 341
        }
      ]
    },
    {
      "cell_type": "markdown",
      "source": [
        "### 1-1. content라는 변수에 Yeonji's Home이라는 문자열을 넣고 전체를 출력하세요."
      ],
      "metadata": {
        "id": "S7AL33XjQiop"
      }
    },
    {
      "cell_type": "code",
      "source": [
        "content = 'Yeonji\\'s Home'\n",
        "content"
      ],
      "metadata": {
        "id": "vs4Dz8jqQios",
        "colab": {
          "base_uri": "https://localhost:8080/",
          "height": 35
        },
        "outputId": "c457b63c-997a-41e9-f62a-bb9aa9a4bf33"
      },
      "execution_count": null,
      "outputs": [
        {
          "output_type": "execute_result",
          "data": {
            "text/plain": [
              "\"Yeonji's Home\""
            ],
            "application/vnd.google.colaboratory.intrinsic+json": {
              "type": "string"
            }
          },
          "metadata": {},
          "execution_count": 342
        }
      ]
    },
    {
      "cell_type": "markdown",
      "source": [
        "1-2. 해당 변수에서 Home만 출력해보세요"
      ],
      "metadata": {
        "id": "wsFaRVJhPz4D"
      }
    },
    {
      "cell_type": "code",
      "source": [
        "i = content.index('H')\n",
        "content[i:]\n",
        "# content.index('Home') # Home이라는 단어의 시작하는 인덱스를 출력한다."
      ],
      "metadata": {
        "id": "hU4sTFoWPzQ8",
        "colab": {
          "base_uri": "https://localhost:8080/",
          "height": 35
        },
        "outputId": "c9bf250a-0e59-44b9-867c-87917b295f0a"
      },
      "execution_count": null,
      "outputs": [
        {
          "output_type": "execute_result",
          "data": {
            "text/plain": [
              "'Home'"
            ],
            "application/vnd.google.colaboratory.intrinsic+json": {
              "type": "string"
            }
          },
          "metadata": {},
          "execution_count": 344
        }
      ]
    },
    {
      "cell_type": "markdown",
      "source": [
        "1-3. 해당 변수에서 'Yn'He' 이라는 글자들만 출력해보세요.\n"
      ],
      "metadata": {
        "id": "15d0owy6Qow5"
      }
    },
    {
      "cell_type": "code",
      "source": [
        "content[::3]"
      ],
      "metadata": {
        "id": "OcKOpOazHyE6",
        "colab": {
          "base_uri": "https://localhost:8080/",
          "height": 35
        },
        "outputId": "72e6c893-ff0f-4588-8677-6c02f929e384"
      },
      "execution_count": null,
      "outputs": [
        {
          "output_type": "execute_result",
          "data": {
            "text/plain": [
              "\"Yn'He\""
            ],
            "application/vnd.google.colaboratory.intrinsic+json": {
              "type": "string"
            }
          },
          "metadata": {},
          "execution_count": 360
        }
      ]
    },
    {
      "cell_type": "markdown",
      "source": [
        "1-4. 해당 변수에 담긴 문자열을 거꾸로 뒤집은 순서로 출력하세요."
      ],
      "metadata": {
        "id": "PYlmwtQ9SRNF"
      }
    },
    {
      "cell_type": "code",
      "source": [
        "content[::-1]"
      ],
      "metadata": {
        "id": "16eLF4mGSV8-",
        "colab": {
          "base_uri": "https://localhost:8080/",
          "height": 35
        },
        "outputId": "058da222-a5f2-46c7-f674-114e088e6255"
      },
      "execution_count": null,
      "outputs": [
        {
          "output_type": "execute_result",
          "data": {
            "text/plain": [
              "\"emoH s'ijnoeY\""
            ],
            "application/vnd.google.colaboratory.intrinsic+json": {
              "type": "string"
            }
          },
          "metadata": {},
          "execution_count": 349
        }
      ]
    },
    {
      "cell_type": "markdown",
      "source": [
        "1-5. 변수 content 안에 'yEONJI'라는 문자열이 포함되어 있는지 확인해보세요."
      ],
      "metadata": {
        "id": "pBDC77ctP719"
      }
    },
    {
      "cell_type": "code",
      "source": [
        "'yEONJI' in content"
      ],
      "metadata": {
        "id": "k6EGovb6IJED",
        "colab": {
          "base_uri": "https://localhost:8080/"
        },
        "outputId": "ba9da9f6-2b18-4fd5-d707-146cecf38790"
      },
      "execution_count": null,
      "outputs": [
        {
          "output_type": "execute_result",
          "data": {
            "text/plain": [
              "False"
            ]
          },
          "metadata": {},
          "execution_count": 350
        }
      ]
    },
    {
      "cell_type": "markdown",
      "source": [
        "1-6. 변수 content 안에 'Yeonji'라는 문자열이 포함되어 있는지 확인해보세요."
      ],
      "metadata": {
        "id": "q-FEiK3nQcZa"
      }
    },
    {
      "cell_type": "code",
      "source": [
        "'Yeonji' in content"
      ],
      "metadata": {
        "id": "CcPb6m8bQXSS",
        "colab": {
          "base_uri": "https://localhost:8080/"
        },
        "outputId": "1908c74c-0325-4aa5-be42-d00f428a7edf"
      },
      "execution_count": null,
      "outputs": [
        {
          "output_type": "execute_result",
          "data": {
            "text/plain": [
              "True"
            ]
          },
          "metadata": {},
          "execution_count": 351
        }
      ]
    },
    {
      "cell_type": "markdown",
      "source": [
        "# 가변 연산자\n",
        "- 가변형 타입에서만 사용 가능한 명령어(연산)\n",
        "- string, 튜플에서는 사용할 수 없습니다.\n",
        "\n",
        "\n",
        "List\n",
        "- 파이썬에서 가장 많이 사용하는 자료형\n",
        "- 배열\n",
        "- 파이썬에서 자료를 다루는 가장 기본적인 형태입니다.\n"
      ],
      "metadata": {
        "id": "Zlo6RJnScBHs"
      }
    },
    {
      "cell_type": "code",
      "source": [
        "li.insert(1,2) # list.insert(삽입할 인덱스번호, 값)"
      ],
      "metadata": {
        "id": "2DwltkldcBHs"
      },
      "execution_count": null,
      "outputs": []
    },
    {
      "cell_type": "code",
      "source": [
        "li.insert(10,11) # 범위를 벗어난 인덱스에 값을 넣으려고 하면 맨 마지막 순서로 추가된다.\n",
        "# 자바스크립트에서는 건너 뛴 채로 10번 방에만 값이 들어감.\n",
        "li"
      ],
      "metadata": {
        "id": "RkuxKUN1cBHs",
        "colab": {
          "base_uri": "https://localhost:8080/"
        },
        "outputId": "be62da26-4dbc-41ee-f0ae-d6a616748e4a"
      },
      "execution_count": null,
      "outputs": [
        {
          "output_type": "execute_result",
          "data": {
            "text/plain": [
              "[1, 2, 11, 11]"
            ]
          },
          "metadata": {},
          "execution_count": 369
        }
      ]
    },
    {
      "cell_type": "code",
      "source": [
        "li.insert(2,12)"
      ],
      "metadata": {
        "id": "QBxNn0QJcBHs"
      },
      "execution_count": null,
      "outputs": []
    },
    {
      "cell_type": "code",
      "source": [
        "li # li[2]에 12가 들어가고 원래 li[2]에 있던 2는 li[3]으로 밀려남."
      ],
      "metadata": {
        "id": "-Ttdr2Hb2g2j",
        "colab": {
          "base_uri": "https://localhost:8080/"
        },
        "outputId": "dadf0163-78a0-44e9-9fba-2b0a9384e39a"
      },
      "execution_count": null,
      "outputs": [
        {
          "output_type": "execute_result",
          "data": {
            "text/plain": [
              "[1, 2, 12, 11]"
            ]
          },
          "metadata": {},
          "execution_count": 375
        }
      ]
    },
    {
      "cell_type": "code",
      "source": [
        "li.pop() # 아무 값도 넣지 않으면 맨 마지막이 빠져나온다."
      ],
      "metadata": {
        "colab": {
          "base_uri": "https://localhost:8080/"
        },
        "id": "k1QbkgLAI-zB",
        "outputId": "6b8ce840-0618-48f4-a856-74fb9bad11be"
      },
      "execution_count": null,
      "outputs": [
        {
          "output_type": "execute_result",
          "data": {
            "text/plain": [
              "11"
            ]
          },
          "metadata": {},
          "execution_count": 378
        }
      ]
    },
    {
      "cell_type": "code",
      "source": [
        "li.pop(2)"
      ],
      "metadata": {
        "colab": {
          "base_uri": "https://localhost:8080/"
        },
        "id": "mtABQUUuJNhA",
        "outputId": "8220efa9-1325-41a6-ca04-fc61d311802d"
      },
      "execution_count": null,
      "outputs": [
        {
          "output_type": "execute_result",
          "data": {
            "text/plain": [
              "12"
            ]
          },
          "metadata": {},
          "execution_count": 379
        }
      ]
    },
    {
      "cell_type": "code",
      "source": [
        "li # 원본을 변경할 때는 직접 확인하라는 의미에서 원본을 바꾼 결과를 출력하지 않도록 대부분 구현"
      ],
      "metadata": {
        "colab": {
          "base_uri": "https://localhost:8080/"
        },
        "id": "bB9JxoymJQnI",
        "outputId": "6b31255b-f511-4387-fead-7cf995f5ebc1"
      },
      "execution_count": null,
      "outputs": [
        {
          "output_type": "execute_result",
          "data": {
            "text/plain": [
              "[1, 2]"
            ]
          },
          "metadata": {},
          "execution_count": 382
        }
      ]
    },
    {
      "cell_type": "code",
      "source": [
        "tu1 + tu1 # 원본을 바꾸지 않은 결과"
      ],
      "metadata": {
        "colab": {
          "base_uri": "https://localhost:8080/"
        },
        "id": "Y2bWONFPJUBY",
        "outputId": "85afe687-09f4-4f68-a3e8-2ccdadecddca"
      },
      "execution_count": null,
      "outputs": [
        {
          "output_type": "execute_result",
          "data": {
            "text/plain": [
              "(1, 2, 3, 4, 5, 1, 2, 3, 4, 5)"
            ]
          },
          "metadata": {},
          "execution_count": 381
        }
      ]
    },
    {
      "cell_type": "markdown",
      "source": [
        "append / extend라는 명령어\n",
        "- 리스트에 원소를 추가하는 명령어\n",
        "- 리스트에만 사용이 가능합니다.\n",
        "- 하나만 추가할때 여러개를 한께번에 추가할 때\n"
      ],
      "metadata": {
        "id": "47cgK_8QcBHs"
      }
    },
    {
      "cell_type": "code",
      "source": [
        "li1 = [1,2,3,4,5] # [6,7,8] [1,2,3,4,5,6,7,8] or [1,2,3,4,5,[6,7,8]]"
      ],
      "metadata": {
        "id": "o5FpiO50cBHt"
      },
      "execution_count": null,
      "outputs": []
    },
    {
      "cell_type": "code",
      "source": [
        "li1.append([6,7,8]) # 원소 하나를 추가하는 함수\n",
        "li1"
      ],
      "metadata": {
        "id": "veHv9T_ucBHt",
        "colab": {
          "base_uri": "https://localhost:8080/"
        },
        "outputId": "5dfca91a-1d5d-4b25-87d0-0c6c8a42c1da"
      },
      "execution_count": null,
      "outputs": [
        {
          "output_type": "execute_result",
          "data": {
            "text/plain": [
              "[1, 2, 3, 4, 5, [6, 7, 8]]"
            ]
          },
          "metadata": {},
          "execution_count": 386
        }
      ]
    },
    {
      "cell_type": "code",
      "source": [
        "li1.extend([6,7,8]) # 원소 여러개를 한번에 추가하는 함수\n",
        "li1"
      ],
      "metadata": {
        "id": "mZkgYd6wcBHt",
        "colab": {
          "base_uri": "https://localhost:8080/"
        },
        "outputId": "11030dae-a61d-4f11-9088-347ebde28e6b"
      },
      "execution_count": null,
      "outputs": [
        {
          "output_type": "execute_result",
          "data": {
            "text/plain": [
              "[1, 2, 3, 4, 5, 6, 7, 8]"
            ]
          },
          "metadata": {},
          "execution_count": 400
        }
      ]
    },
    {
      "cell_type": "markdown",
      "source": [
        "append vs insert\n",
        "- append는 맨 끝에 원소를 추가하고요\n",
        "- insert 중간에 내가 원하는 위치에 원소를 삽입합니다."
      ],
      "metadata": {
        "id": "bmBRYzwncBHt"
      }
    },
    {
      "cell_type": "code",
      "source": [
        "li1.append(9)\n",
        "li1"
      ],
      "metadata": {
        "id": "UN3MB1FQcBHu",
        "colab": {
          "base_uri": "https://localhost:8080/"
        },
        "outputId": "a2a73b96-613d-4dc6-a249-bb3480c608b1"
      },
      "execution_count": null,
      "outputs": [
        {
          "output_type": "execute_result",
          "data": {
            "text/plain": [
              "[1, 2, 3, 4, 5, 6, 7, 8, 9]"
            ]
          },
          "metadata": {},
          "execution_count": 401
        }
      ]
    },
    {
      "cell_type": "code",
      "source": [
        "li1.insert(0,9) # 0번 자리(인덱스)에 9 라는 값을 삽입\n",
        "li1"
      ],
      "metadata": {
        "id": "bnUgTvpAcBHu",
        "colab": {
          "base_uri": "https://localhost:8080/"
        },
        "outputId": "fde77a65-edf6-421a-d7da-1aa93d04acb0"
      },
      "execution_count": null,
      "outputs": [
        {
          "output_type": "execute_result",
          "data": {
            "text/plain": [
              "[9, 1, 2, 3, 4, 5, 6, 7, 8, 9]"
            ]
          },
          "metadata": {},
          "execution_count": 402
        }
      ]
    },
    {
      "cell_type": "code",
      "source": [
        "li1.pop() # 맨 마지막 값을 뺌\n",
        "li1"
      ],
      "metadata": {
        "id": "yDB4MN8qcBHu",
        "colab": {
          "base_uri": "https://localhost:8080/"
        },
        "outputId": "e506f562-80dc-40e1-d1cd-a500a50d3e5d"
      },
      "execution_count": null,
      "outputs": [
        {
          "output_type": "execute_result",
          "data": {
            "text/plain": [
              "[9, 1, 2, 3, 4, 5, 6, 7, 8]"
            ]
          },
          "metadata": {},
          "execution_count": 403
        }
      ]
    },
    {
      "cell_type": "code",
      "source": [
        "li1.remove(9) # li1.remove(값)\n",
        "li1"
      ],
      "metadata": {
        "id": "W6A2ahI-4lDS",
        "colab": {
          "base_uri": "https://localhost:8080/"
        },
        "outputId": "79d07956-f685-44bc-dfbe-a854887168de"
      },
      "execution_count": null,
      "outputs": [
        {
          "output_type": "execute_result",
          "data": {
            "text/plain": [
              "[1, 2, 3, 4, 5, 6, 7, 8]"
            ]
          },
          "metadata": {},
          "execution_count": 404
        }
      ]
    },
    {
      "cell_type": "markdown",
      "source": [
        "# range\n",
        "  - 범위 내에서 수열을 생성하는 시퀀스 타입입니다.\n",
        "  - 정수만 가능하고요\n",
        "  - 반복문이랑 가장 많이 쓰이는 명령어 중 하나입니다.\n",
        "\n",
        "\n",
        "range(시작점, 끝점+1, step)\n",
        "- 시작점과 step은 생략 가능하다"
      ],
      "metadata": {
        "id": "jWRkFi4ScBHu"
      }
    },
    {
      "cell_type": "code",
      "source": [
        "range(.1, 3., .1) # TypeError: 'float' object cannot be interpreted as an integer"
      ],
      "metadata": {
        "id": "j7u1aQ9DcBHu",
        "colab": {
          "base_uri": "https://localhost:8080/",
          "height": 172
        },
        "outputId": "3000e7ef-b581-4334-ed14-5f0a38665cf7"
      },
      "execution_count": null,
      "outputs": [
        {
          "output_type": "error",
          "ename": "TypeError",
          "evalue": "ignored",
          "traceback": [
            "\u001b[0;31m---------------------------------------------------------------------------\u001b[0m",
            "\u001b[0;31mTypeError\u001b[0m                                 Traceback (most recent call last)",
            "\u001b[0;32m<ipython-input-405-72bc28477e48>\u001b[0m in \u001b[0;36m<cell line: 1>\u001b[0;34m()\u001b[0m\n\u001b[0;32m----> 1\u001b[0;31m \u001b[0mrange\u001b[0m\u001b[0;34m(\u001b[0m\u001b[0;36m.1\u001b[0m\u001b[0;34m,\u001b[0m \u001b[0;36m3.\u001b[0m\u001b[0;34m,\u001b[0m \u001b[0;36m.1\u001b[0m\u001b[0;34m)\u001b[0m\u001b[0;34m\u001b[0m\u001b[0;34m\u001b[0m\u001b[0m\n\u001b[0m",
            "\u001b[0;31mTypeError\u001b[0m: 'float' object cannot be interpreted as an integer"
          ]
        }
      ]
    },
    {
      "cell_type": "code",
      "source": [
        "range(1, 5, 2)"
      ],
      "metadata": {
        "id": "klS-JjiycBHu",
        "colab": {
          "base_uri": "https://localhost:8080/"
        },
        "outputId": "e586cb91-1786-482a-b1c8-75bebaac435e"
      },
      "execution_count": null,
      "outputs": [
        {
          "output_type": "execute_result",
          "data": {
            "text/plain": [
              "range(1, 5, 2)"
            ]
          },
          "metadata": {},
          "execution_count": 406
        }
      ]
    },
    {
      "cell_type": "code",
      "source": [
        "tuple(range(1, 5, 2))"
      ],
      "metadata": {
        "id": "0euAeT3icBHu",
        "colab": {
          "base_uri": "https://localhost:8080/"
        },
        "outputId": "a88a4dde-61c9-4989-8488-30dd91823a21"
      },
      "execution_count": null,
      "outputs": [
        {
          "output_type": "execute_result",
          "data": {
            "text/plain": [
              "(1, 3)"
            ]
          },
          "metadata": {},
          "execution_count": 409
        }
      ]
    },
    {
      "cell_type": "code",
      "source": [
        "tuple(range(5)) # 시작점, step은 생략 가능하다."
      ],
      "metadata": {
        "id": "nDuWGU4rcBHv",
        "colab": {
          "base_uri": "https://localhost:8080/"
        },
        "outputId": "fea8b55d-508f-4612-dd7e-754515365d57"
      },
      "execution_count": null,
      "outputs": [
        {
          "output_type": "execute_result",
          "data": {
            "text/plain": [
              "(0, 1, 2, 3, 4)"
            ]
          },
          "metadata": {},
          "execution_count": 411
        }
      ]
    },
    {
      "cell_type": "code",
      "source": [
        "tuple(range(1, 5, -1))"
      ],
      "metadata": {
        "id": "HXXjTkr3cBHv",
        "colab": {
          "base_uri": "https://localhost:8080/"
        },
        "outputId": "75898181-ac09-4280-c58a-9a9ac9708cd8"
      },
      "execution_count": null,
      "outputs": [
        {
          "output_type": "execute_result",
          "data": {
            "text/plain": [
              "()"
            ]
          },
          "metadata": {},
          "execution_count": 412
        }
      ]
    },
    {
      "cell_type": "code",
      "source": [
        "tuple(range(5, 0, -1))"
      ],
      "metadata": {
        "id": "DC_HOUxrcBHv",
        "colab": {
          "base_uri": "https://localhost:8080/"
        },
        "outputId": "ad00f8f9-8feb-4559-a1dc-12c841e31dd1"
      },
      "execution_count": null,
      "outputs": [
        {
          "output_type": "execute_result",
          "data": {
            "text/plain": [
              "(5, 4, 3, 2, 1)"
            ]
          },
          "metadata": {},
          "execution_count": 414
        }
      ]
    },
    {
      "cell_type": "code",
      "source": [
        "tuple(range(5, -5, -1))"
      ],
      "metadata": {
        "colab": {
          "base_uri": "https://localhost:8080/"
        },
        "id": "F1n8oSY1Pu_0",
        "outputId": "a7338fa5-76a5-447b-9bc4-4b2519430100"
      },
      "execution_count": null,
      "outputs": [
        {
          "output_type": "execute_result",
          "data": {
            "text/plain": [
              "(5, 4, 3, 2, 1, 0, -1, -2, -3, -4)"
            ]
          },
          "metadata": {},
          "execution_count": 415
        }
      ]
    },
    {
      "cell_type": "code",
      "source": [
        "import sys\n",
        "b = range(10000)\n",
        "sys.getsizeof(b)"
      ],
      "metadata": {
        "colab": {
          "base_uri": "https://localhost:8080/"
        },
        "id": "-SfZFceMPw80",
        "outputId": "50489aa7-4691-4616-8c3f-c4ad5e9cbda3"
      },
      "execution_count": null,
      "outputs": [
        {
          "output_type": "execute_result",
          "data": {
            "text/plain": [
              "48"
            ]
          },
          "metadata": {},
          "execution_count": 418
        }
      ]
    },
    {
      "cell_type": "code",
      "source": [
        "import sys\n",
        "b = tuple(range(10000))\n",
        "sys.getsizeof(b)"
      ],
      "metadata": {
        "colab": {
          "base_uri": "https://localhost:8080/"
        },
        "id": "GOzVjhD3P_fG",
        "outputId": "3efd5936-6f22-42c9-b744-3ef40306bc30"
      },
      "execution_count": null,
      "outputs": [
        {
          "output_type": "execute_result",
          "data": {
            "text/plain": [
              "80040"
            ]
          },
          "metadata": {},
          "execution_count": 419
        }
      ]
    },
    {
      "cell_type": "markdown",
      "source": [
        "```\n",
        "[0, 2, 4, 6, 8]\n",
        "[1, 3, 5, 7, 9]\n",
        "```"
      ],
      "metadata": {
        "id": "NBxOiOxxcBHv"
      }
    },
    {
      "cell_type": "code",
      "source": [
        "li = []\n",
        "for i in range(0, 10, 2):\n",
        "    li.append(i)\n",
        "li\n",
        "\n",
        "# list(range(0,10,2))"
      ],
      "metadata": {
        "id": "IEQYJiJ6cBHv",
        "colab": {
          "base_uri": "https://localhost:8080/"
        },
        "outputId": "6e24fb10-8917-4f35-96ce-e4696636558f"
      },
      "execution_count": null,
      "outputs": [
        {
          "output_type": "execute_result",
          "data": {
            "text/plain": [
              "[0, 2, 4, 6, 8]"
            ]
          },
          "metadata": {},
          "execution_count": 421
        }
      ]
    },
    {
      "cell_type": "code",
      "source": [
        "li = []\n",
        "for i in range(1, 10, 2):\n",
        "    li.append(i)\n",
        "li\n",
        "\n",
        "# list(range(1,10,2))"
      ],
      "metadata": {
        "id": "IDC3tkkOcBHv",
        "colab": {
          "base_uri": "https://localhost:8080/"
        },
        "outputId": "865907e7-ed17-49e3-f9e8-668d74e9549d"
      },
      "execution_count": null,
      "outputs": [
        {
          "output_type": "execute_result",
          "data": {
            "text/plain": [
              "[1, 3, 5, 7, 9]"
            ]
          },
          "metadata": {},
          "execution_count": 422
        }
      ]
    },
    {
      "cell_type": "markdown",
      "source": [
        "# 매핑형 타입\n",
        " - tuple, list, range는 시퀀스형 타입이었습니다. 순서가 있고 그 순서에 정해진 인덱스를 바탕으로 자료를 꺼내오거나 삽입하거나 삭제하거나 수정하는 방식으로 동작했습니다.\n",
        " - 매핑형 타입은 key값으로 불러오는 dict가 대표적이고요.\n",
        " - 해시 자료구조 라고 표현하기도 합니다.\n",
        "\n",
        "\n",
        "\n",
        "\n",
        "\n",
        "## 딕셔너리\n",
        "- 형태는 다음과 같습니다.\n",
        "```{ key:value, key:value, key:value ..... }```\n",
        "- key를 직접 정의할 수 있습니다.\n",
        "  - 튜플이나 리스트와의 차이점이죠 (인덱스가 자동 생성되지 않음)\n",
        "  - 반드시 숫자가 아니어도 괜찮음\n",
        "\n",
        "\n",
        "해시 테이블의 장단점\n",
        " - 장점\n",
        "    - 데이터 저장 및 읽기 속도가 빠르다.\n",
        "    - 키에 대한 중복이 있는지 확인하기 쉽다.\n",
        "\n",
        "- 단점\n",
        "    - 일반적으로 다른 자료구조보다 저장공간이 더 필요하다.\n",
        "    - 여러 키에 해당하는 주소가 동일한 경우 충돌(Collision)이 발생하고, 이를 해결하기 위한 별도 자료구조 또는 함수가 필요하다.\n",
        "\n",
        "\n",
        "- 해시 테이블의 주용도\n",
        "    - 검색이 많이 필요할 경우\n",
        "    - 저장, 삭제, 읽기가 빈번하게 일어나는 경우\n",
        "    - 캐시를 구현할 경우 (중복 확인이 쉽기 때문에)\n",
        "\n",
        "<img src=\"https://upload.wikimedia.org/wikipedia/commons/thumb/5/58/Hash_table_4_1_1_0_0_1_0_LL.svg/1280px-Hash_table_4_1_1_0_0_1_0_LL.svg.png\" width=300>\n",
        "\n",
        "![](https://img1.daumcdn.net/thumb/R1280x0/?scode=mtistory2&fname=https%3A%2F%2Fblog.kakaocdn.net%2Fdn%2FbTF67c%2FbtqL7xx3OGw%2FDM8KEKU5x7dx6Nks4JR7K1%2Fimg.png)\n",
        "- 출처: https://mangkyu.tistory.com/102"
      ],
      "metadata": {
        "id": "kZsjBy0vNRxi"
      }
    },
    {
      "cell_type": "code",
      "source": [
        "dict1 = {}\n",
        "type(dict1)"
      ],
      "metadata": {
        "id": "Ecu891pyNbTG",
        "colab": {
          "base_uri": "https://localhost:8080/"
        },
        "outputId": "7e20cafe-f40c-44f5-b69e-bb5d04615073"
      },
      "execution_count": null,
      "outputs": [
        {
          "output_type": "execute_result",
          "data": {
            "text/plain": [
              "dict"
            ]
          },
          "metadata": {},
          "execution_count": 423
        }
      ]
    },
    {
      "cell_type": "code",
      "source": [
        "dict1 = {'key0' : 'value0', 'key1' : 'value1', 'key2' : 'value2'}"
      ],
      "metadata": {
        "id": "Cs7x-YDGMyIn"
      },
      "execution_count": null,
      "outputs": []
    },
    {
      "cell_type": "code",
      "source": [
        "dict1['key0']"
      ],
      "metadata": {
        "id": "ScDrjt5R__ET",
        "colab": {
          "base_uri": "https://localhost:8080/",
          "height": 35
        },
        "outputId": "d67e28db-1b47-4849-de49-2932d3e75807"
      },
      "execution_count": null,
      "outputs": [
        {
          "output_type": "execute_result",
          "data": {
            "text/plain": [
              "'value0'"
            ],
            "application/vnd.google.colaboratory.intrinsic+json": {
              "type": "string"
            }
          },
          "metadata": {},
          "execution_count": 425
        }
      ]
    },
    {
      "cell_type": "code",
      "source": [
        "dict1['key1']"
      ],
      "metadata": {
        "id": "Y3zCVsQ2OVz4",
        "colab": {
          "base_uri": "https://localhost:8080/",
          "height": 35
        },
        "outputId": "410ebbe1-0af8-415c-d325-139ff41cae49"
      },
      "execution_count": null,
      "outputs": [
        {
          "output_type": "execute_result",
          "data": {
            "text/plain": [
              "'value1'"
            ],
            "application/vnd.google.colaboratory.intrinsic+json": {
              "type": "string"
            }
          },
          "metadata": {},
          "execution_count": 426
        }
      ]
    },
    {
      "cell_type": "code",
      "source": [
        "dict1"
      ],
      "metadata": {
        "id": "YJreJs8OOluX",
        "colab": {
          "base_uri": "https://localhost:8080/"
        },
        "outputId": "3b5983a3-c84b-4bdf-b199-8a316ff657f8"
      },
      "execution_count": null,
      "outputs": [
        {
          "output_type": "execute_result",
          "data": {
            "text/plain": [
              "{'key0': 'value0', 'key1': 'value1', 'key2': 'value2'}"
            ]
          },
          "metadata": {},
          "execution_count": 427
        }
      ]
    },
    {
      "cell_type": "code",
      "source": [
        "dict1[0] # KeyError: 0"
      ],
      "metadata": {
        "id": "OUjzcteUO7AQ",
        "colab": {
          "base_uri": "https://localhost:8080/",
          "height": 172
        },
        "outputId": "75e708fa-071c-45cc-d8f4-f2a695f8371d"
      },
      "execution_count": null,
      "outputs": [
        {
          "output_type": "error",
          "ename": "KeyError",
          "evalue": "ignored",
          "traceback": [
            "\u001b[0;31m---------------------------------------------------------------------------\u001b[0m",
            "\u001b[0;31mKeyError\u001b[0m                                  Traceback (most recent call last)",
            "\u001b[0;32m<ipython-input-429-f74b7391f83a>\u001b[0m in \u001b[0;36m<cell line: 1>\u001b[0;34m()\u001b[0m\n\u001b[0;32m----> 1\u001b[0;31m \u001b[0mdict1\u001b[0m\u001b[0;34m[\u001b[0m\u001b[0;36m0\u001b[0m\u001b[0;34m]\u001b[0m \u001b[0;31m# KeyError: 0\u001b[0m\u001b[0;34m\u001b[0m\u001b[0;34m\u001b[0m\u001b[0m\n\u001b[0m",
            "\u001b[0;31mKeyError\u001b[0m: 0"
          ]
        }
      ]
    },
    {
      "cell_type": "code",
      "source": [
        "dict1 = {0: 'zero', 'one':'one', [1,2]:'three', True:'four', 3.14:'five', (1,2,3):'six'}\n",
        "# list는 가변자료형이기 때문에"
      ],
      "metadata": {
        "id": "O1qAspvkPFn3",
        "colab": {
          "base_uri": "https://localhost:8080/",
          "height": 172
        },
        "outputId": "af7f9214-bb0b-41a1-aab3-b7f5c3d7ce13"
      },
      "execution_count": null,
      "outputs": [
        {
          "output_type": "error",
          "ename": "TypeError",
          "evalue": "ignored",
          "traceback": [
            "\u001b[0;31m---------------------------------------------------------------------------\u001b[0m",
            "\u001b[0;31mTypeError\u001b[0m                                 Traceback (most recent call last)",
            "\u001b[0;32m<ipython-input-430-50bb8ca9783a>\u001b[0m in \u001b[0;36m<cell line: 1>\u001b[0;34m()\u001b[0m\n\u001b[0;32m----> 1\u001b[0;31m \u001b[0mdict1\u001b[0m \u001b[0;34m=\u001b[0m \u001b[0;34m{\u001b[0m\u001b[0;36m0\u001b[0m\u001b[0;34m:\u001b[0m \u001b[0;34m'zero'\u001b[0m\u001b[0;34m,\u001b[0m \u001b[0;34m'one'\u001b[0m\u001b[0;34m:\u001b[0m\u001b[0;34m'one'\u001b[0m\u001b[0;34m,\u001b[0m \u001b[0;34m[\u001b[0m\u001b[0;36m1\u001b[0m\u001b[0;34m,\u001b[0m\u001b[0;36m2\u001b[0m\u001b[0;34m]\u001b[0m\u001b[0;34m:\u001b[0m\u001b[0;34m'three'\u001b[0m\u001b[0;34m,\u001b[0m \u001b[0;32mTrue\u001b[0m\u001b[0;34m:\u001b[0m\u001b[0;34m'four'\u001b[0m\u001b[0;34m,\u001b[0m \u001b[0;36m3.14\u001b[0m\u001b[0;34m:\u001b[0m\u001b[0;34m'five'\u001b[0m\u001b[0;34m,\u001b[0m \u001b[0;34m(\u001b[0m\u001b[0;36m1\u001b[0m\u001b[0;34m,\u001b[0m\u001b[0;36m2\u001b[0m\u001b[0;34m,\u001b[0m\u001b[0;36m3\u001b[0m\u001b[0;34m)\u001b[0m\u001b[0;34m:\u001b[0m\u001b[0;34m'six'\u001b[0m\u001b[0;34m}\u001b[0m\u001b[0;34m\u001b[0m\u001b[0;34m\u001b[0m\u001b[0m\n\u001b[0m",
            "\u001b[0;31mTypeError\u001b[0m: unhashable type: 'list'"
          ]
        }
      ]
    },
    {
      "cell_type": "code",
      "source": [
        "dict1 = {0: 'zero', 'one':'one', True:'four', 3.14:'five', (1,2,3):'six'}"
      ],
      "metadata": {
        "id": "uKxoHSLPB-wt"
      },
      "execution_count": null,
      "outputs": []
    },
    {
      "cell_type": "code",
      "source": [
        "dict1[0]"
      ],
      "metadata": {
        "id": "wlsRvm5QPN3e",
        "colab": {
          "base_uri": "https://localhost:8080/",
          "height": 35
        },
        "outputId": "533e4b3e-6992-4ff0-dc41-57566178a86a"
      },
      "execution_count": null,
      "outputs": [
        {
          "output_type": "execute_result",
          "data": {
            "text/plain": [
              "'zero'"
            ],
            "application/vnd.google.colaboratory.intrinsic+json": {
              "type": "string"
            }
          },
          "metadata": {},
          "execution_count": 432
        }
      ]
    },
    {
      "cell_type": "code",
      "source": [
        "dict1['one']"
      ],
      "metadata": {
        "id": "oksGsYzNPfQd",
        "colab": {
          "base_uri": "https://localhost:8080/",
          "height": 35
        },
        "outputId": "56077ba9-1623-4c0e-cfc6-51dee63269b3"
      },
      "execution_count": null,
      "outputs": [
        {
          "output_type": "execute_result",
          "data": {
            "text/plain": [
              "'one'"
            ],
            "application/vnd.google.colaboratory.intrinsic+json": {
              "type": "string"
            }
          },
          "metadata": {},
          "execution_count": 433
        }
      ]
    },
    {
      "cell_type": "code",
      "source": [
        "dict1[True]"
      ],
      "metadata": {
        "id": "ttzdtZw_PmgO",
        "colab": {
          "base_uri": "https://localhost:8080/",
          "height": 35
        },
        "outputId": "259ac532-1fc5-4ab1-90ad-3272dfd4523d"
      },
      "execution_count": null,
      "outputs": [
        {
          "output_type": "execute_result",
          "data": {
            "text/plain": [
              "'four'"
            ],
            "application/vnd.google.colaboratory.intrinsic+json": {
              "type": "string"
            }
          },
          "metadata": {},
          "execution_count": 434
        }
      ]
    },
    {
      "cell_type": "code",
      "source": [
        "dict1[3.14]"
      ],
      "metadata": {
        "id": "rArLDHDAPtyv",
        "colab": {
          "base_uri": "https://localhost:8080/",
          "height": 35
        },
        "outputId": "89c405b0-0f4d-4069-adb1-d5f7fae2e6da"
      },
      "execution_count": null,
      "outputs": [
        {
          "output_type": "execute_result",
          "data": {
            "text/plain": [
              "'five'"
            ],
            "application/vnd.google.colaboratory.intrinsic+json": {
              "type": "string"
            }
          },
          "metadata": {},
          "execution_count": 436
        }
      ]
    },
    {
      "cell_type": "code",
      "source": [
        "dict1[(1,2,3)]"
      ],
      "metadata": {
        "id": "pXcAo2IlQKNB",
        "colab": {
          "base_uri": "https://localhost:8080/",
          "height": 35
        },
        "outputId": "3950f1a7-fe74-4b99-9da5-1e3a3780fc53"
      },
      "execution_count": null,
      "outputs": [
        {
          "output_type": "execute_result",
          "data": {
            "text/plain": [
              "'six'"
            ],
            "application/vnd.google.colaboratory.intrinsic+json": {
              "type": "string"
            }
          },
          "metadata": {},
          "execution_count": 437
        }
      ]
    },
    {
      "cell_type": "code",
      "source": [
        "dict1['one'] = 'six' # 이미 있는 key의 value를 변경\n",
        "dict1"
      ],
      "metadata": {
        "id": "b8hhiMO2DMzt",
        "colab": {
          "base_uri": "https://localhost:8080/"
        },
        "outputId": "31ef86f3-454f-4701-8c10-8344e3bf5861"
      },
      "execution_count": null,
      "outputs": [
        {
          "output_type": "execute_result",
          "data": {
            "text/plain": [
              "{0: 'zero', 'one': 'six', True: 'four', 3.14: 'five', (1, 2, 3): 'six'}"
            ]
          },
          "metadata": {},
          "execution_count": 438
        }
      ]
    },
    {
      "cell_type": "code",
      "source": [
        "dict1['new_key'] = 'new one' # 없는 키에 대입연산자를 사용하면 key-value 쌍이 추가된다.\n",
        "dict1"
      ],
      "metadata": {
        "id": "2lL-Zjo_C8vq",
        "colab": {
          "base_uri": "https://localhost:8080/"
        },
        "outputId": "943e0ea4-de48-437c-d52e-af44558b91d4"
      },
      "execution_count": null,
      "outputs": [
        {
          "output_type": "execute_result",
          "data": {
            "text/plain": [
              "{0: 'zero',\n",
              " 'one': 'six',\n",
              " True: 'four',\n",
              " 3.14: 'five',\n",
              " (1, 2, 3): 'six',\n",
              " 'new_key': 'new one'}"
            ]
          },
          "metadata": {},
          "execution_count": 439
        }
      ]
    },
    {
      "cell_type": "code",
      "source": [
        "dict1['new_key'] = {'inside dict': '딕셔너리 안의 딕셔너리'}\n",
        "dict1"
      ],
      "metadata": {
        "id": "-c8DbOdzC_5M",
        "colab": {
          "base_uri": "https://localhost:8080/"
        },
        "outputId": "ee4ccc60-db4d-4535-9921-ee6186f0de40"
      },
      "execution_count": null,
      "outputs": [
        {
          "output_type": "execute_result",
          "data": {
            "text/plain": [
              "{0: 'zero',\n",
              " 'one': 'six',\n",
              " True: 'four',\n",
              " 3.14: 'five',\n",
              " (1, 2, 3): 'six',\n",
              " 'new_key': {'inside dict': '딕셔너리 안의 딕셔너리'}}"
            ]
          },
          "metadata": {},
          "execution_count": 440
        }
      ]
    },
    {
      "cell_type": "code",
      "source": [
        "dict1['new_key1'] = [1,2,3,4,5]\n",
        "dict1"
      ],
      "metadata": {
        "id": "DM-6JakaDEsv",
        "colab": {
          "base_uri": "https://localhost:8080/"
        },
        "outputId": "5b0dea5f-edce-425c-d89e-a7bc72d1a544"
      },
      "execution_count": null,
      "outputs": [
        {
          "output_type": "execute_result",
          "data": {
            "text/plain": [
              "{0: 'zero',\n",
              " 'one': 'six',\n",
              " True: 'four',\n",
              " 3.14: 'five',\n",
              " (1, 2, 3): 'six',\n",
              " 'new_key': {'inside dict': '딕셔너리 안의 딕셔너리'},\n",
              " 'new_key1': [1, 2, 3, 4, 5]}"
            ]
          },
          "metadata": {},
          "execution_count": 441
        }
      ]
    },
    {
      "cell_type": "code",
      "source": [
        "dir(dict1)"
      ],
      "metadata": {
        "id": "7wCdEhuoFF1V",
        "colab": {
          "base_uri": "https://localhost:8080/"
        },
        "outputId": "3173dee5-5db0-496b-f6f1-ce2e7d623b80"
      },
      "execution_count": null,
      "outputs": [
        {
          "output_type": "execute_result",
          "data": {
            "text/plain": [
              "['__class__',\n",
              " '__class_getitem__',\n",
              " '__contains__',\n",
              " '__delattr__',\n",
              " '__delitem__',\n",
              " '__dir__',\n",
              " '__doc__',\n",
              " '__eq__',\n",
              " '__format__',\n",
              " '__ge__',\n",
              " '__getattribute__',\n",
              " '__getitem__',\n",
              " '__gt__',\n",
              " '__hash__',\n",
              " '__init__',\n",
              " '__init_subclass__',\n",
              " '__ior__',\n",
              " '__iter__',\n",
              " '__le__',\n",
              " '__len__',\n",
              " '__lt__',\n",
              " '__ne__',\n",
              " '__new__',\n",
              " '__or__',\n",
              " '__reduce__',\n",
              " '__reduce_ex__',\n",
              " '__repr__',\n",
              " '__reversed__',\n",
              " '__ror__',\n",
              " '__setattr__',\n",
              " '__setitem__',\n",
              " '__sizeof__',\n",
              " '__str__',\n",
              " '__subclasshook__',\n",
              " 'clear',\n",
              " 'copy',\n",
              " 'fromkeys',\n",
              " 'get',\n",
              " 'items',\n",
              " 'keys',\n",
              " 'pop',\n",
              " 'popitem',\n",
              " 'setdefault',\n",
              " 'update',\n",
              " 'values']"
            ]
          },
          "metadata": {},
          "execution_count": 442
        }
      ]
    },
    {
      "cell_type": "code",
      "source": [
        "dict2 = {'키':'밸류', '키1':'밸류1'}"
      ],
      "metadata": {
        "id": "4OVt-HfqQL8X"
      },
      "execution_count": null,
      "outputs": []
    },
    {
      "cell_type": "code",
      "source": [
        "dict2.clear() # 전체를 삭제해버리는 함수\n",
        "dict2"
      ],
      "metadata": {
        "id": "-ej0UZQWEXAf",
        "colab": {
          "base_uri": "https://localhost:8080/"
        },
        "outputId": "2c8617af-82e8-4496-ee53-2c302c66e48a"
      },
      "execution_count": null,
      "outputs": [
        {
          "output_type": "execute_result",
          "data": {
            "text/plain": [
              "{}"
            ]
          },
          "metadata": {},
          "execution_count": 444
        }
      ]
    },
    {
      "cell_type": "code",
      "source": [
        "dict2 = dict1.copy()\n",
        "dict2"
      ],
      "metadata": {
        "id": "-KAFgm2FEdH7",
        "colab": {
          "base_uri": "https://localhost:8080/"
        },
        "outputId": "5a9ccda1-490f-4088-aaff-e8e158b94808"
      },
      "execution_count": null,
      "outputs": [
        {
          "output_type": "execute_result",
          "data": {
            "text/plain": [
              "{0: 'zero',\n",
              " 'one': 'six',\n",
              " True: 'four',\n",
              " 3.14: 'five',\n",
              " (1, 2, 3): 'six',\n",
              " 'new_key': {'inside dict': '딕셔너리 안의 딕셔너리'},\n",
              " 'new_key1': [1, 2, 3, 4, 5]}"
            ]
          },
          "metadata": {},
          "execution_count": 445
        }
      ]
    },
    {
      "cell_type": "code",
      "source": [
        "dict1.keys() # 키만 가져오기"
      ],
      "metadata": {
        "id": "-Ot7xizYEZgd",
        "colab": {
          "base_uri": "https://localhost:8080/"
        },
        "outputId": "aaee860a-7b4c-4a8f-dbbf-db9e6d1e8a78"
      },
      "execution_count": null,
      "outputs": [
        {
          "output_type": "execute_result",
          "data": {
            "text/plain": [
              "dict_keys([0, 'one', True, 3.14, (1, 2, 3), 'new_key', 'new_key1'])"
            ]
          },
          "metadata": {},
          "execution_count": 449
        }
      ]
    },
    {
      "cell_type": "code",
      "source": [
        "dict1.values() # 값만 가져오기"
      ],
      "metadata": {
        "id": "QqBo1k9vQU82",
        "colab": {
          "base_uri": "https://localhost:8080/"
        },
        "outputId": "7540e5a1-9e54-4030-91be-448cfd2bbd0c"
      },
      "execution_count": null,
      "outputs": [
        {
          "output_type": "execute_result",
          "data": {
            "text/plain": [
              "dict_values(['zero', 'six', 'four', 'five', 'six', {'inside dict': '딕셔너리 안의 딕셔너리'}, [1, 2, 3, 4, 5]])"
            ]
          },
          "metadata": {},
          "execution_count": 450
        }
      ]
    },
    {
      "cell_type": "code",
      "source": [
        "dict1.items() # 키-밸류 순으로 튜플로 반환해준다."
      ],
      "metadata": {
        "id": "MpYq7y4bQdv-",
        "colab": {
          "base_uri": "https://localhost:8080/"
        },
        "outputId": "669aa0dd-61a6-4d5d-9d84-4b6a53a87f31"
      },
      "execution_count": null,
      "outputs": [
        {
          "output_type": "execute_result",
          "data": {
            "text/plain": [
              "dict_items([(0, 'zero'), ('one', 'six'), (True, 'four'), (3.14, 'five'), ((1, 2, 3), 'six'), ('new_key', {'inside dict': '딕셔너리 안의 딕셔너리'}), ('new_key1', [1, 2, 3, 4, 5])])"
            ]
          },
          "metadata": {},
          "execution_count": 452
        }
      ]
    },
    {
      "cell_type": "code",
      "source": [
        "# 탐색부터\n",
        "0 in dict1 # in 이라는 명령어는 딕셔너리에서 key 기준으로 동작한다."
      ],
      "metadata": {
        "id": "jBc1HCbvI73E",
        "colab": {
          "base_uri": "https://localhost:8080/"
        },
        "outputId": "0d49d113-b601-4aa4-90f2-9d7631f62ae5"
      },
      "execution_count": null,
      "outputs": [
        {
          "output_type": "execute_result",
          "data": {
            "text/plain": [
              "True"
            ]
          },
          "metadata": {},
          "execution_count": 466
        }
      ]
    },
    {
      "cell_type": "code",
      "source": [
        "'y' in content # 시퀀스형 자료에서는 인덱스가 아닌 값 기준으로 동작하는 것과 달리"
      ],
      "metadata": {
        "colab": {
          "base_uri": "https://localhost:8080/"
        },
        "id": "PjJRvrzxdZ5h",
        "outputId": "156d1662-a6b0-47e5-c7d7-6fc5089a64fb"
      },
      "execution_count": null,
      "outputs": [
        {
          "output_type": "execute_result",
          "data": {
            "text/plain": [
              "False"
            ]
          },
          "metadata": {},
          "execution_count": 468
        }
      ]
    },
    {
      "cell_type": "code",
      "source": [
        "'zero' in dict1"
      ],
      "metadata": {
        "id": "BZrnga2AE1Yy",
        "colab": {
          "base_uri": "https://localhost:8080/"
        },
        "outputId": "62408d94-dbba-44ef-e03a-0352a125ae58"
      },
      "execution_count": null,
      "outputs": [
        {
          "output_type": "execute_result",
          "data": {
            "text/plain": [
              "False"
            ]
          },
          "metadata": {},
          "execution_count": 467
        }
      ]
    },
    {
      "cell_type": "code",
      "source": [
        "dict1.get(0) # dict1[0]이 처음 특정키를 통해 value를 호출하는 함수"
      ],
      "metadata": {
        "id": "rqkHHFswE4MR",
        "colab": {
          "base_uri": "https://localhost:8080/",
          "height": 35
        },
        "outputId": "4be65518-7f71-4a95-dd34-ec71dedc6035"
      },
      "execution_count": null,
      "outputs": [
        {
          "output_type": "execute_result",
          "data": {
            "text/plain": [
              "'zero'"
            ],
            "application/vnd.google.colaboratory.intrinsic+json": {
              "type": "string"
            }
          },
          "metadata": {},
          "execution_count": 457
        }
      ]
    },
    {
      "cell_type": "code",
      "source": [
        "dict1['no_key'] # KeyError: 'no_key'"
      ],
      "metadata": {
        "id": "Mhj2CHQdFFCP",
        "colab": {
          "base_uri": "https://localhost:8080/",
          "height": 172
        },
        "outputId": "5cae071d-3c3b-45b5-b848-131534859c94"
      },
      "execution_count": null,
      "outputs": [
        {
          "output_type": "error",
          "ename": "KeyError",
          "evalue": "ignored",
          "traceback": [
            "\u001b[0;31m---------------------------------------------------------------------------\u001b[0m",
            "\u001b[0;31mKeyError\u001b[0m                                  Traceback (most recent call last)",
            "\u001b[0;32m<ipython-input-459-327dae6896b4>\u001b[0m in \u001b[0;36m<cell line: 1>\u001b[0;34m()\u001b[0m\n\u001b[0;32m----> 1\u001b[0;31m \u001b[0mdict1\u001b[0m\u001b[0;34m[\u001b[0m\u001b[0;34m'no_key'\u001b[0m\u001b[0;34m]\u001b[0m \u001b[0;31m# KeyError: 'no_key'\u001b[0m\u001b[0;34m\u001b[0m\u001b[0;34m\u001b[0m\u001b[0m\n\u001b[0m",
            "\u001b[0;31mKeyError\u001b[0m: 'no_key'"
          ]
        }
      ]
    },
    {
      "cell_type": "code",
      "source": [
        "dict1.get('no_key') # get 함수를 통해 우회접근하면 에러 없이 결과만 출력하지 않는다."
      ],
      "metadata": {
        "id": "xJnCjfmrFG4K"
      },
      "execution_count": null,
      "outputs": []
    },
    {
      "cell_type": "code",
      "source": [
        "dict1.get('no_key', '그런 키는 없습니다.')"
      ],
      "metadata": {
        "id": "BS-9BE5xFJIQ",
        "colab": {
          "base_uri": "https://localhost:8080/",
          "height": 35
        },
        "outputId": "2f98cc7f-0ca7-4b9b-af98-9255581a2616"
      },
      "execution_count": null,
      "outputs": [
        {
          "output_type": "execute_result",
          "data": {
            "text/plain": [
              "'그런 키는 없습니다.'"
            ],
            "application/vnd.google.colaboratory.intrinsic+json": {
              "type": "string"
            }
          },
          "metadata": {},
          "execution_count": 464
        }
      ]
    },
    {
      "cell_type": "code",
      "source": [
        "dict1"
      ],
      "metadata": {
        "id": "iidlKUrlF2HP",
        "colab": {
          "base_uri": "https://localhost:8080/"
        },
        "outputId": "37ab10d3-9e2f-4d9a-f1a5-e3bfc5d9dc28"
      },
      "execution_count": null,
      "outputs": [
        {
          "output_type": "execute_result",
          "data": {
            "text/plain": [
              "{0: 'zero',\n",
              " 'one': 'six',\n",
              " True: 'four',\n",
              " 3.14: 'five',\n",
              " (1, 2, 3): 'six',\n",
              " 'new_key': {'inside dict': '딕셔너리 안의 딕셔너리'},\n",
              " 'new_key1': [1, 2, 3, 4, 5]}"
            ]
          },
          "metadata": {},
          "execution_count": 465
        }
      ]
    },
    {
      "cell_type": "code",
      "source": [
        "dict1.pop()\n",
        "# pop() 맨 마지막에 있는 인덱스값이 빠져나간 것과 달리\n",
        "# 멀 뺄지 파라미터로 줘야 한다."
      ],
      "metadata": {
        "id": "riEjM1XOQqt4",
        "colab": {
          "base_uri": "https://localhost:8080/",
          "height": 172
        },
        "outputId": "28b602d7-12b6-47f9-f792-c38c060aabf5"
      },
      "execution_count": null,
      "outputs": [
        {
          "output_type": "error",
          "ename": "TypeError",
          "evalue": "ignored",
          "traceback": [
            "\u001b[0;31m---------------------------------------------------------------------------\u001b[0m",
            "\u001b[0;31mTypeError\u001b[0m                                 Traceback (most recent call last)",
            "\u001b[0;32m<ipython-input-469-763ec5282438>\u001b[0m in \u001b[0;36m<cell line: 1>\u001b[0;34m()\u001b[0m\n\u001b[0;32m----> 1\u001b[0;31m \u001b[0mdict1\u001b[0m\u001b[0;34m.\u001b[0m\u001b[0mpop\u001b[0m\u001b[0;34m(\u001b[0m\u001b[0;34m)\u001b[0m\u001b[0;34m\u001b[0m\u001b[0;34m\u001b[0m\u001b[0m\n\u001b[0m",
            "\u001b[0;31mTypeError\u001b[0m: pop expected at least 1 argument, got 0"
          ]
        }
      ]
    },
    {
      "cell_type": "code",
      "source": [
        "dict1.pop('new_key')\n",
        "dict1"
      ],
      "metadata": {
        "id": "1fgzFpIYMoMe",
        "colab": {
          "base_uri": "https://localhost:8080/"
        },
        "outputId": "8e717de7-4f9d-4148-d9d0-10d3979f1357"
      },
      "execution_count": null,
      "outputs": [
        {
          "output_type": "execute_result",
          "data": {
            "text/plain": [
              "{0: 'zero',\n",
              " 'one': 'six',\n",
              " True: 'four',\n",
              " 3.14: 'five',\n",
              " (1, 2, 3): 'six',\n",
              " 'new_key1': [1, 2, 3, 4, 5]}"
            ]
          },
          "metadata": {},
          "execution_count": 470
        }
      ]
    },
    {
      "cell_type": "code",
      "source": [
        "dict1.setdefault('new_key_again') # 해당하는 키가 없으면 dict1에 추가해준다.\n",
        "dict1"
      ],
      "metadata": {
        "id": "7EtSnLa4MtY4",
        "colab": {
          "base_uri": "https://localhost:8080/"
        },
        "outputId": "1c9f4f05-abd9-4099-b044-e60a57a03f1c"
      },
      "execution_count": null,
      "outputs": [
        {
          "output_type": "execute_result",
          "data": {
            "text/plain": [
              "{0: 'zero',\n",
              " 'one': 'six',\n",
              " True: 'four',\n",
              " 3.14: 'five',\n",
              " (1, 2, 3): 'six',\n",
              " 'new_key1': [1, 2, 3, 4, 5],\n",
              " 'new_key_again': None}"
            ]
          },
          "metadata": {},
          "execution_count": 472
        }
      ]
    },
    {
      "cell_type": "code",
      "source": [
        "dict1.setdefault('new_key1') # 해당하는 키가 있으면 그 결과를 출력해준다."
      ],
      "metadata": {
        "id": "gTvKmfFbNMQ1",
        "colab": {
          "base_uri": "https://localhost:8080/"
        },
        "outputId": "df4e8d0f-a370-486f-affd-cdf1a59c1d3a"
      },
      "execution_count": null,
      "outputs": [
        {
          "output_type": "execute_result",
          "data": {
            "text/plain": [
              "[1, 2, 3, 4, 5]"
            ]
          },
          "metadata": {},
          "execution_count": 473
        }
      ]
    },
    {
      "cell_type": "code",
      "source": [
        "dict1.setdefault('new_key1', '밸류') # 있으면 있는 결과를 출력"
      ],
      "metadata": {
        "id": "W8xDbK11NT29",
        "colab": {
          "base_uri": "https://localhost:8080/"
        },
        "outputId": "760423d4-eb14-4931-9840-b1339c5e8aa9"
      },
      "execution_count": null,
      "outputs": [
        {
          "output_type": "execute_result",
          "data": {
            "text/plain": [
              "[1, 2, 3, 4, 5]"
            ]
          },
          "metadata": {},
          "execution_count": 474
        }
      ]
    },
    {
      "cell_type": "code",
      "source": [
        "dict1.setdefault('new_key2', '밸류') # 없으면 키, 밸류를 해당 딕셔너리에 넣어줌\n",
        "dict1"
      ],
      "metadata": {
        "id": "qdL1UrSdNW99",
        "colab": {
          "base_uri": "https://localhost:8080/"
        },
        "outputId": "d3b24ff9-0679-4905-deb4-fd8af85a2fe1"
      },
      "execution_count": null,
      "outputs": [
        {
          "output_type": "execute_result",
          "data": {
            "text/plain": [
              "{0: 'zero',\n",
              " 'one': 'six',\n",
              " True: 'four',\n",
              " 3.14: 'five',\n",
              " (1, 2, 3): 'six',\n",
              " 'new_key1': [1, 2, 3, 4, 5],\n",
              " 'new_key_again': None,\n",
              " 'new_key2': '밸류'}"
            ]
          },
          "metadata": {},
          "execution_count": 476
        }
      ]
    },
    {
      "cell_type": "code",
      "source": [
        "# myPlaylist를 장르:뮤지션 순서로 dict로 만들어주세요!\n",
        "# 5개이상"
      ],
      "metadata": {
        "id": "VytOuUIGL9KT"
      },
      "execution_count": null,
      "outputs": []
    },
    {
      "cell_type": "code",
      "source": [
        "myPlaylist = {'댄스':'아이브', '트로트':'임영웅', '힙합': '나플라', '롹': '하현우', '발라드':'윤하'}\n",
        "# 딕셔너리에서 키는 중복이 불가하다."
      ],
      "metadata": {
        "id": "zPB0A1_CMBKN"
      },
      "execution_count": null,
      "outputs": []
    },
    {
      "cell_type": "code",
      "source": [
        "myPlaylist = {'댄스':['아이브','뉴진스'], '트로트':'임영웅', '힙합': '나플라', '롹': '하현우', '발라드':'윤하'}"
      ],
      "metadata": {
        "id": "ZL8uAvKSK7MG"
      },
      "execution_count": null,
      "outputs": []
    },
    {
      "cell_type": "code",
      "source": [
        "myPlaylist"
      ],
      "metadata": {
        "id": "Bp7Sf3jiKr_6",
        "colab": {
          "base_uri": "https://localhost:8080/"
        },
        "outputId": "bed5c663-f3d7-4ce4-a6e1-5b2a79b6340b"
      },
      "execution_count": null,
      "outputs": [
        {
          "output_type": "execute_result",
          "data": {
            "text/plain": [
              "{'댄스': ['아이브', '뉴진스'], '트로트': '임영웅', '힙합': '나플라', '롹': '하현우', '발라드': '윤하'}"
            ]
          },
          "metadata": {},
          "execution_count": 481
        }
      ]
    },
    {
      "cell_type": "code",
      "source": [
        "not_my_playlist = {'힙합': ['나플라','이센스', '제이콜','나스','찬스더래퍼'], '락':['메탈리카', '너바나', '건즈앤로지스'], '트로트':{'미스터트롯':'임영웅'}}\n",
        "# 이센스, 나스\n",
        "# 너바나\n",
        "# 임영웅"
      ],
      "metadata": {
        "id": "RJKv_EqJKtqv"
      },
      "execution_count": null,
      "outputs": []
    },
    {
      "cell_type": "code",
      "source": [
        "not_my_playlist['힙합'][1:4:2]"
      ],
      "metadata": {
        "id": "MoZR3JmWL_yK",
        "colab": {
          "base_uri": "https://localhost:8080/"
        },
        "outputId": "5122a906-5e10-4a28-e2ca-4cdcd6fa2197"
      },
      "execution_count": null,
      "outputs": [
        {
          "output_type": "execute_result",
          "data": {
            "text/plain": [
              "['이센스', '나스']"
            ]
          },
          "metadata": {},
          "execution_count": 484
        }
      ]
    },
    {
      "cell_type": "code",
      "source": [
        "not_my_playlist['락'][1]"
      ],
      "metadata": {
        "id": "XmwUEjKvMCWA",
        "colab": {
          "base_uri": "https://localhost:8080/",
          "height": 35
        },
        "outputId": "d7c860b2-1112-41c1-dcda-5f1760a7c7df"
      },
      "execution_count": null,
      "outputs": [
        {
          "output_type": "execute_result",
          "data": {
            "text/plain": [
              "'너바나'"
            ],
            "application/vnd.google.colaboratory.intrinsic+json": {
              "type": "string"
            }
          },
          "metadata": {},
          "execution_count": 485
        }
      ]
    },
    {
      "cell_type": "code",
      "source": [
        "not_my_playlist['트로트']['미스터트롯']"
      ],
      "metadata": {
        "id": "UbteEFRPjlR6",
        "colab": {
          "base_uri": "https://localhost:8080/",
          "height": 35
        },
        "outputId": "5131add6-45bf-4168-f6cc-27cad6dfa849"
      },
      "execution_count": null,
      "outputs": [
        {
          "output_type": "execute_result",
          "data": {
            "text/plain": [
              "'임영웅'"
            ],
            "application/vnd.google.colaboratory.intrinsic+json": {
              "type": "string"
            }
          },
          "metadata": {},
          "execution_count": 486
        }
      ]
    },
    {
      "cell_type": "code",
      "source": [
        "not_my_playlist.keys()"
      ],
      "metadata": {
        "id": "gK8_qeHujqMq",
        "colab": {
          "base_uri": "https://localhost:8080/"
        },
        "outputId": "b823d243-0d2e-4d44-d3b3-c52d9c2fb509"
      },
      "execution_count": null,
      "outputs": [
        {
          "output_type": "execute_result",
          "data": {
            "text/plain": [
              "dict_keys(['힙합', '락', '트로트'])"
            ]
          },
          "metadata": {},
          "execution_count": 487
        }
      ]
    },
    {
      "cell_type": "code",
      "source": [
        "not_my_playlist.values()"
      ],
      "metadata": {
        "id": "SiXT1zu1j3mP",
        "colab": {
          "base_uri": "https://localhost:8080/"
        },
        "outputId": "cd869bbd-a476-4483-d3a4-45337b085b54"
      },
      "execution_count": null,
      "outputs": [
        {
          "output_type": "execute_result",
          "data": {
            "text/plain": [
              "dict_values([['나플라', '이센스', '제이콜', '나스', '찬스더래퍼'], ['메탈리카', '너바나', '건즈앤로지스'], {'미스터트롯': '임영웅'}])"
            ]
          },
          "metadata": {},
          "execution_count": 488
        }
      ]
    },
    {
      "cell_type": "code",
      "source": [
        "not_my_playlist.values()[1] # TypeError: 'dict_values' object is not subscriptable\n",
        "# dict_values는 갓ㅂ을 확인하기 위해 내부적으로 만들어진 자료형일 뿐 [] 있다고 리스트가 아니다."
      ],
      "metadata": {
        "id": "fREwHe7FkB8D",
        "colab": {
          "base_uri": "https://localhost:8080/",
          "height": 172
        },
        "outputId": "318ae40b-1a3d-4532-e83d-d09e1be21d34"
      },
      "execution_count": null,
      "outputs": [
        {
          "output_type": "error",
          "ename": "TypeError",
          "evalue": "ignored",
          "traceback": [
            "\u001b[0;31m---------------------------------------------------------------------------\u001b[0m",
            "\u001b[0;31mTypeError\u001b[0m                                 Traceback (most recent call last)",
            "\u001b[0;32m<ipython-input-489-b0dd44f5fe5a>\u001b[0m in \u001b[0;36m<cell line: 1>\u001b[0;34m()\u001b[0m\n\u001b[0;32m----> 1\u001b[0;31m \u001b[0mnot_my_playlist\u001b[0m\u001b[0;34m.\u001b[0m\u001b[0mvalues\u001b[0m\u001b[0;34m(\u001b[0m\u001b[0;34m)\u001b[0m\u001b[0;34m[\u001b[0m\u001b[0;36m1\u001b[0m\u001b[0;34m]\u001b[0m\u001b[0;34m\u001b[0m\u001b[0;34m\u001b[0m\u001b[0m\n\u001b[0m",
            "\u001b[0;31mTypeError\u001b[0m: 'dict_values' object is not subscriptable"
          ]
        }
      ]
    },
    {
      "cell_type": "code",
      "source": [
        "list(not_my_playlist.values())[1] # 꺼낸 값을 형변환해서 인덱스로 호출"
      ],
      "metadata": {
        "id": "QFiyUZS2jxzX",
        "colab": {
          "base_uri": "https://localhost:8080/"
        },
        "outputId": "d66beb18-90a8-4db8-dbf7-69bc03c1b674"
      },
      "execution_count": null,
      "outputs": [
        {
          "output_type": "execute_result",
          "data": {
            "text/plain": [
              "['메탈리카', '너바나', '건즈앤로지스']"
            ]
          },
          "metadata": {},
          "execution_count": 491
        }
      ]
    },
    {
      "cell_type": "markdown",
      "source": [
        "# Set (집합)\n",
        "- 순서가 없는 자료형입니다\n",
        "- 중복이 안된다는 특징이 있습니다.\n"
      ],
      "metadata": {
        "id": "DoM0_GxqWTzO"
      }
    },
    {
      "cell_type": "code",
      "source": [
        "set1 ={1, 2, 3, 4, 2, 5, 5} # 2, 5가 2개씩 있음\n",
        "set2 = {3, 4, 5, 7, 8, 10}\n",
        "set3 = {'a', 'b', 'c', 'b', 'a', 'a'} # a, b가 여러개 있음"
      ],
      "metadata": {
        "id": "6JHriigJWQKn"
      },
      "execution_count": null,
      "outputs": []
    },
    {
      "cell_type": "code",
      "source": [
        "print(set1)\n",
        "print(set2)\n",
        "print(set3)"
      ],
      "metadata": {
        "id": "FF6MImAyP0-o",
        "colab": {
          "base_uri": "https://localhost:8080/"
        },
        "outputId": "911722a4-ce03-4ce5-f7dc-b11c7c678d9b"
      },
      "execution_count": null,
      "outputs": [
        {
          "output_type": "stream",
          "name": "stdout",
          "text": [
            "{1, 2, 3, 4, 5}\n",
            "{3, 4, 5, 7, 8, 10}\n",
            "{'b', 'c', 'a'}\n"
          ]
        }
      ]
    },
    {
      "cell_type": "code",
      "source": [
        "set1 - set2"
      ],
      "metadata": {
        "id": "cViz1jWZRDfw",
        "colab": {
          "base_uri": "https://localhost:8080/"
        },
        "outputId": "22e83161-483d-42ab-e2ec-94ba358d4542"
      },
      "execution_count": null,
      "outputs": [
        {
          "output_type": "execute_result",
          "data": {
            "text/plain": [
              "{1, 2}"
            ]
          },
          "metadata": {},
          "execution_count": 494
        }
      ]
    },
    {
      "cell_type": "code",
      "source": [
        "set2 - set1"
      ],
      "metadata": {
        "id": "KoXksdXsP7TH",
        "colab": {
          "base_uri": "https://localhost:8080/"
        },
        "outputId": "25da56b5-bf41-4778-b9c0-cbc13413cdd8"
      },
      "execution_count": null,
      "outputs": [
        {
          "output_type": "execute_result",
          "data": {
            "text/plain": [
              "{7, 8, 10}"
            ]
          },
          "metadata": {},
          "execution_count": 495
        }
      ]
    },
    {
      "cell_type": "code",
      "source": [
        "dir(set2)"
      ],
      "metadata": {
        "id": "_fLsNa2rRLzR",
        "colab": {
          "base_uri": "https://localhost:8080/"
        },
        "outputId": "a8f72b8b-2b12-46c1-ae7b-a63df3e82896"
      },
      "execution_count": null,
      "outputs": [
        {
          "output_type": "execute_result",
          "data": {
            "text/plain": [
              "['__and__',\n",
              " '__class__',\n",
              " '__class_getitem__',\n",
              " '__contains__',\n",
              " '__delattr__',\n",
              " '__dir__',\n",
              " '__doc__',\n",
              " '__eq__',\n",
              " '__format__',\n",
              " '__ge__',\n",
              " '__getattribute__',\n",
              " '__gt__',\n",
              " '__hash__',\n",
              " '__iand__',\n",
              " '__init__',\n",
              " '__init_subclass__',\n",
              " '__ior__',\n",
              " '__isub__',\n",
              " '__iter__',\n",
              " '__ixor__',\n",
              " '__le__',\n",
              " '__len__',\n",
              " '__lt__',\n",
              " '__ne__',\n",
              " '__new__',\n",
              " '__or__',\n",
              " '__rand__',\n",
              " '__reduce__',\n",
              " '__reduce_ex__',\n",
              " '__repr__',\n",
              " '__ror__',\n",
              " '__rsub__',\n",
              " '__rxor__',\n",
              " '__setattr__',\n",
              " '__sizeof__',\n",
              " '__str__',\n",
              " '__sub__',\n",
              " '__subclasshook__',\n",
              " '__xor__',\n",
              " 'add',\n",
              " 'clear',\n",
              " 'copy',\n",
              " 'difference',\n",
              " 'difference_update',\n",
              " 'discard',\n",
              " 'intersection',\n",
              " 'intersection_update',\n",
              " 'isdisjoint',\n",
              " 'issubset',\n",
              " 'issuperset',\n",
              " 'pop',\n",
              " 'remove',\n",
              " 'symmetric_difference',\n",
              " 'symmetric_difference_update',\n",
              " 'union',\n",
              " 'update']"
            ]
          },
          "metadata": {},
          "execution_count": 496
        }
      ]
    },
    {
      "cell_type": "code",
      "source": [
        "set2.difference(set1) # 여집합 구하는 명령어, -와 같은 결과"
      ],
      "metadata": {
        "id": "PHnxVhAeQhbf",
        "colab": {
          "base_uri": "https://localhost:8080/"
        },
        "outputId": "4474ce45-2b2b-4f1e-8ae7-8e5fff2fc677"
      },
      "execution_count": null,
      "outputs": [
        {
          "output_type": "execute_result",
          "data": {
            "text/plain": [
              "{7, 8, 10}"
            ]
          },
          "metadata": {},
          "execution_count": 497
        }
      ]
    },
    {
      "cell_type": "code",
      "source": [
        "set2 & set1"
      ],
      "metadata": {
        "id": "OMQYsdYSRTz1",
        "colab": {
          "base_uri": "https://localhost:8080/"
        },
        "outputId": "97b36f11-d61c-4530-ff2a-087123f0a5bb"
      },
      "execution_count": null,
      "outputs": [
        {
          "output_type": "execute_result",
          "data": {
            "text/plain": [
              "{3, 4, 5}"
            ]
          },
          "metadata": {},
          "execution_count": 498
        }
      ]
    },
    {
      "cell_type": "code",
      "source": [
        "set2.intersection(set1) # 교집합 구하는 명령어, &와 같은 결과"
      ],
      "metadata": {
        "id": "6fgqb9RsOnQB",
        "colab": {
          "base_uri": "https://localhost:8080/"
        },
        "outputId": "6ca119fe-95b9-4b9e-eb9d-e00d09a4e245"
      },
      "execution_count": null,
      "outputs": [
        {
          "output_type": "execute_result",
          "data": {
            "text/plain": [
              "{3, 4, 5}"
            ]
          },
          "metadata": {},
          "execution_count": 499
        }
      ]
    },
    {
      "cell_type": "code",
      "source": [
        "set2 | set1 # 합집합"
      ],
      "metadata": {
        "id": "ByTJuI1NOolF",
        "colab": {
          "base_uri": "https://localhost:8080/"
        },
        "outputId": "1f4dcc74-38d2-47f1-a7eb-1f985ae528af"
      },
      "execution_count": null,
      "outputs": [
        {
          "output_type": "execute_result",
          "data": {
            "text/plain": [
              "{1, 2, 3, 4, 5, 7, 8, 10}"
            ]
          },
          "metadata": {},
          "execution_count": 501
        }
      ]
    },
    {
      "cell_type": "code",
      "source": [
        "set1.union(set2) # 합집합 구하는 명령어, +와 같은 결과"
      ],
      "metadata": {
        "id": "y9oLt7GYQtzd",
        "colab": {
          "base_uri": "https://localhost:8080/"
        },
        "outputId": "ceb6d1f2-fe0c-4f48-97fa-b008b01f4b01"
      },
      "execution_count": null,
      "outputs": [
        {
          "output_type": "execute_result",
          "data": {
            "text/plain": [
              "{1, 2, 3, 4, 5, 7, 8, 10}"
            ]
          },
          "metadata": {},
          "execution_count": 504
        }
      ]
    },
    {
      "cell_type": "code",
      "source": [
        "set1[2] # TypeError: 'set' object is not subscriptable\n",
        "# 순서가 없는 자료형이라 인덱스를 가지지 않음"
      ],
      "metadata": {
        "id": "ZMvye0LdRQI1",
        "colab": {
          "base_uri": "https://localhost:8080/",
          "height": 172
        },
        "outputId": "de02e7a6-4fe7-4e8a-d8bd-b644fc9b97cf"
      },
      "execution_count": null,
      "outputs": [
        {
          "output_type": "error",
          "ename": "TypeError",
          "evalue": "ignored",
          "traceback": [
            "\u001b[0;31m---------------------------------------------------------------------------\u001b[0m",
            "\u001b[0;31mTypeError\u001b[0m                                 Traceback (most recent call last)",
            "\u001b[0;32m<ipython-input-506-50d42c507828>\u001b[0m in \u001b[0;36m<cell line: 1>\u001b[0;34m()\u001b[0m\n\u001b[0;32m----> 1\u001b[0;31m \u001b[0mset1\u001b[0m\u001b[0;34m[\u001b[0m\u001b[0;36m2\u001b[0m\u001b[0;34m]\u001b[0m \u001b[0;31m# TypeError: 'set' object is not subscriptable\u001b[0m\u001b[0;34m\u001b[0m\u001b[0;34m\u001b[0m\u001b[0m\n\u001b[0m",
            "\u001b[0;31mTypeError\u001b[0m: 'set' object is not subscriptable"
          ]
        }
      ]
    },
    {
      "cell_type": "code",
      "source": [
        "list1 = [ 1, 2, 3, 4, 2, 5, 5]"
      ],
      "metadata": {
        "id": "uKg7w8WZWusx"
      },
      "execution_count": null,
      "outputs": []
    },
    {
      "cell_type": "code",
      "source": [
        "set(list1) # 중복되는 데이터를 거른다."
      ],
      "metadata": {
        "id": "BcAz3IcuRaIG",
        "colab": {
          "base_uri": "https://localhost:8080/"
        },
        "outputId": "c2fac500-199b-4288-8c90-251dd604adf8"
      },
      "execution_count": null,
      "outputs": [
        {
          "output_type": "execute_result",
          "data": {
            "text/plain": [
              "{1, 2, 3, 4, 5}"
            ]
          },
          "metadata": {},
          "execution_count": 508
        }
      ]
    },
    {
      "cell_type": "code",
      "source": [
        "list(list1)[2] # 다시 리스트로 형변환한다."
      ],
      "metadata": {
        "id": "Sd7D4rX6Rgyj",
        "colab": {
          "base_uri": "https://localhost:8080/"
        },
        "outputId": "6aad95d3-8bcd-4882-85eb-f49244de5f1c"
      },
      "execution_count": null,
      "outputs": [
        {
          "output_type": "execute_result",
          "data": {
            "text/plain": [
              "3"
            ]
          },
          "metadata": {},
          "execution_count": 509
        }
      ]
    },
    {
      "cell_type": "code",
      "source": [
        "set1"
      ],
      "metadata": {
        "id": "KLkGffaMW9Ne",
        "colab": {
          "base_uri": "https://localhost:8080/"
        },
        "outputId": "3e546d4b-8968-43d6-b6ae-f24efd825375"
      },
      "execution_count": null,
      "outputs": [
        {
          "output_type": "execute_result",
          "data": {
            "text/plain": [
              "{1, 2, 3, 4, 5}"
            ]
          },
          "metadata": {},
          "execution_count": 511
        }
      ]
    },
    {
      "cell_type": "code",
      "source": [
        "500 in set1"
      ],
      "metadata": {
        "id": "FlB9yVZwSoSC",
        "colab": {
          "base_uri": "https://localhost:8080/"
        },
        "outputId": "36e8cb05-e52c-444f-902d-cfeb62c473e8"
      },
      "execution_count": null,
      "outputs": [
        {
          "output_type": "execute_result",
          "data": {
            "text/plain": [
              "False"
            ]
          },
          "metadata": {},
          "execution_count": 512
        }
      ]
    },
    {
      "cell_type": "code",
      "source": [
        "3 in set1"
      ],
      "metadata": {
        "id": "2AobOmF2VCfw",
        "colab": {
          "base_uri": "https://localhost:8080/"
        },
        "outputId": "8afac783-756b-466d-b52f-5ecc9d1a0b23"
      },
      "execution_count": null,
      "outputs": [
        {
          "output_type": "execute_result",
          "data": {
            "text/plain": [
              "True"
            ]
          },
          "metadata": {},
          "execution_count": 513
        }
      ]
    },
    {
      "cell_type": "code",
      "source": [
        "set4 = {'a', 1, 3} # 들어간 순서대로 자리잡지 않는다. - 인덱스로 자리를 잡는 집합자료형이 아니기 때문에\n",
        "set4"
      ],
      "metadata": {
        "id": "74swGRqOVguY",
        "colab": {
          "base_uri": "https://localhost:8080/"
        },
        "outputId": "2c5ca013-e544-4413-c9cc-8c150e036813"
      },
      "execution_count": null,
      "outputs": [
        {
          "output_type": "execute_result",
          "data": {
            "text/plain": [
              "{1, 3, 'a'}"
            ]
          },
          "metadata": {},
          "execution_count": 517
        }
      ]
    },
    {
      "cell_type": "code",
      "source": [
        "set5 = {[1,2], 1, 3} # TypeError: unhashable type: 'list'"
      ],
      "metadata": {
        "colab": {
          "base_uri": "https://localhost:8080/",
          "height": 172
        },
        "id": "9rt4lvk7kgAk",
        "outputId": "785000fa-968b-4385-9a14-9b40b2ec7e7e"
      },
      "execution_count": null,
      "outputs": [
        {
          "output_type": "error",
          "ename": "TypeError",
          "evalue": "ignored",
          "traceback": [
            "\u001b[0;31m---------------------------------------------------------------------------\u001b[0m",
            "\u001b[0;31mTypeError\u001b[0m                                 Traceback (most recent call last)",
            "\u001b[0;32m<ipython-input-519-78a7e0dd8dee>\u001b[0m in \u001b[0;36m<cell line: 1>\u001b[0;34m()\u001b[0m\n\u001b[0;32m----> 1\u001b[0;31m \u001b[0mset5\u001b[0m \u001b[0;34m=\u001b[0m \u001b[0;34m{\u001b[0m\u001b[0;34m[\u001b[0m\u001b[0;36m1\u001b[0m\u001b[0;34m,\u001b[0m\u001b[0;36m2\u001b[0m\u001b[0;34m]\u001b[0m\u001b[0;34m,\u001b[0m \u001b[0;36m1\u001b[0m\u001b[0;34m,\u001b[0m \u001b[0;36m3\u001b[0m\u001b[0;34m}\u001b[0m \u001b[0;31m# TypeError: unhashable type: 'list'\u001b[0m\u001b[0;34m\u001b[0m\u001b[0;34m\u001b[0m\u001b[0m\n\u001b[0m",
            "\u001b[0;31mTypeError\u001b[0m: unhashable type: 'list'"
          ]
        }
      ]
    },
    {
      "cell_type": "markdown",
      "source": [
        "# 복사\n",
        "- 얕은 복사(shallow copy), 깊은 복사(deep copy)가 있습니다.\n",
        "  - 주소복사, 값 복사라고 표현하기도 합니다."
      ],
      "metadata": {
        "id": "axoY5MsL_3dn"
      }
    },
    {
      "cell_type": "code",
      "source": [
        " arr = [10, 20, 30]\n",
        " # arr의 내용을 copy1이라는 새로운 변수명을 가진 리스트로 복사해주세요"
      ],
      "metadata": {
        "id": "mojCgh799-_j"
      },
      "execution_count": null,
      "outputs": []
    },
    {
      "cell_type": "code",
      "source": [],
      "metadata": {
        "id": "9oOMD4ezANTP"
      },
      "execution_count": null,
      "outputs": []
    },
    {
      "cell_type": "code",
      "source": [],
      "metadata": {
        "id": "v_r_4oyuAOQY"
      },
      "execution_count": null,
      "outputs": []
    },
    {
      "cell_type": "markdown",
      "source": [
        "## 얕은복사/ 주소복사\n",
        "- 변수 이름은 다르지만 결국 동일한 주소를 나타내는 경우\n",
        "- 결국 두 변수는 같은 변수나 다름없습니다\n",
        "- 메모리값이 같으니까요 (2개 이상 얼마든지... 메모리값을 참조할 뿐입니다)\n",
        "  - 공간 효율성, 메모리 효율성 때문입니다.\n",
        "  - 전체 값을 항상 메모리에 복사면 그만큼 속도가 느려지고 메모리도 공간이 부족해집니다.\n",
        "  - 파이썬은 주소를 복사해서 사용하는 얕은 복사를 기본 복사로 차용을 하고 있습니다."
      ],
      "metadata": {
        "id": "210tIPrVAnox"
      }
    },
    {
      "cell_type": "code",
      "source": [],
      "metadata": {
        "id": "sCEYqwijAiR4"
      },
      "execution_count": null,
      "outputs": []
    },
    {
      "cell_type": "code",
      "source": [],
      "metadata": {
        "id": "U5pyILtIBKDw"
      },
      "execution_count": null,
      "outputs": []
    },
    {
      "cell_type": "code",
      "source": [],
      "metadata": {
        "id": "uBKA9RMoIAF0"
      },
      "execution_count": null,
      "outputs": []
    },
    {
      "cell_type": "code",
      "source": [],
      "metadata": {
        "id": "56eAdZgzIDHi"
      },
      "execution_count": null,
      "outputs": []
    },
    {
      "cell_type": "code",
      "source": [],
      "metadata": {
        "id": "1KBOTWjKBMyA"
      },
      "execution_count": null,
      "outputs": []
    },
    {
      "cell_type": "code",
      "source": [],
      "metadata": {
        "id": "ZwnRqPp5BRi4"
      },
      "execution_count": null,
      "outputs": []
    },
    {
      "cell_type": "code",
      "source": [],
      "metadata": {
        "id": "HV0Z3taoBWSp"
      },
      "execution_count": null,
      "outputs": []
    },
    {
      "cell_type": "markdown",
      "source": [
        "# int, float, bool 값 자체가 복사가 됩니다.\n",
        "# 시퀀스 타입은 전부 얕은 복사(메모리주소)가 복사가 되는 게 기본입니다."
      ],
      "metadata": {
        "id": "keST3AGzCalj"
      }
    },
    {
      "cell_type": "code",
      "source": [],
      "metadata": {
        "id": "rO21ajAQB-Ai"
      },
      "execution_count": null,
      "outputs": []
    },
    {
      "cell_type": "code",
      "source": [],
      "metadata": {
        "id": "Cn3PwJBcIS-T"
      },
      "execution_count": null,
      "outputs": []
    },
    {
      "cell_type": "code",
      "source": [],
      "metadata": {
        "id": "x3Ry5-hmCmdJ"
      },
      "execution_count": null,
      "outputs": []
    },
    {
      "cell_type": "code",
      "source": [],
      "metadata": {
        "id": "jcNTjU2YCrmo"
      },
      "execution_count": null,
      "outputs": []
    },
    {
      "cell_type": "code",
      "source": [],
      "metadata": {
        "id": "Kg29GK_PCpXA"
      },
      "execution_count": null,
      "outputs": []
    },
    {
      "cell_type": "code",
      "source": [],
      "metadata": {
        "id": "QaCOBcswCvM_"
      },
      "execution_count": null,
      "outputs": []
    },
    {
      "cell_type": "code",
      "source": [],
      "metadata": {
        "id": "_03xFGdVC4oJ"
      },
      "execution_count": null,
      "outputs": []
    },
    {
      "cell_type": "code",
      "source": [],
      "metadata": {
        "id": "8bIMMMJBDAA4"
      },
      "execution_count": null,
      "outputs": []
    },
    {
      "cell_type": "code",
      "source": [],
      "metadata": {
        "id": "2K10vvvEDG7Y"
      },
      "execution_count": null,
      "outputs": []
    },
    {
      "cell_type": "code",
      "source": [],
      "metadata": {
        "id": "ag2FJ9FV16Zw"
      },
      "execution_count": null,
      "outputs": []
    },
    {
      "cell_type": "code",
      "source": [],
      "metadata": {
        "id": "-UPfPlwU19MZ"
      },
      "execution_count": null,
      "outputs": []
    },
    {
      "cell_type": "code",
      "source": [],
      "metadata": {
        "id": "Upwd4VUZ1-Ng"
      },
      "execution_count": null,
      "outputs": []
    },
    {
      "cell_type": "code",
      "source": [],
      "metadata": {
        "id": "z043tLL91_2C"
      },
      "execution_count": null,
      "outputs": []
    },
    {
      "cell_type": "code",
      "source": [],
      "metadata": {
        "id": "UYWC5YPx2BiD"
      },
      "execution_count": null,
      "outputs": []
    },
    {
      "cell_type": "code",
      "source": [],
      "metadata": {
        "id": "Vl31YKzv2LZX"
      },
      "execution_count": null,
      "outputs": []
    },
    {
      "cell_type": "markdown",
      "source": [
        "- 슬라이싱하면 값 제대로 바뀌고 원본도 보존되는 거 같은데 왜 얕은 복사라고 부르는 걸까??\n",
        "- 차원을 하나 더 깊게 들어가면 여전히 메모리 주소를 복사하기 때문입니다."
      ],
      "metadata": {
        "id": "MXhiqK7pDYW3"
      }
    },
    {
      "cell_type": "code",
      "source": [
        "arr2D = ['Hello', 'Bye', 'Hi', ['Goodnight', 'Goodmorning', 'Goodafternoon']]"
      ],
      "metadata": {
        "id": "kSx51EtXDKH4"
      },
      "execution_count": null,
      "outputs": []
    },
    {
      "cell_type": "code",
      "source": [],
      "metadata": {
        "id": "0Nrubk0rDypC"
      },
      "execution_count": null,
      "outputs": []
    },
    {
      "cell_type": "code",
      "source": [],
      "metadata": {
        "id": "0XWC5dQ4D2EP"
      },
      "execution_count": null,
      "outputs": []
    },
    {
      "cell_type": "code",
      "source": [],
      "metadata": {
        "id": "QI7P3m3KD9G4"
      },
      "execution_count": null,
      "outputs": []
    },
    {
      "cell_type": "code",
      "source": [],
      "metadata": {
        "id": "zbsyGM0XECwZ"
      },
      "execution_count": null,
      "outputs": []
    },
    {
      "cell_type": "code",
      "source": [],
      "metadata": {
        "id": "ETvMQVntENSJ"
      },
      "execution_count": null,
      "outputs": []
    },
    {
      "cell_type": "code",
      "source": [],
      "metadata": {
        "id": "u2926_usEUiP"
      },
      "execution_count": null,
      "outputs": []
    },
    {
      "cell_type": "code",
      "source": [],
      "metadata": {
        "id": "6WnWT_ux3WH9"
      },
      "execution_count": null,
      "outputs": []
    },
    {
      "cell_type": "code",
      "source": [],
      "metadata": {
        "id": "xJ-lLvTA3bIu"
      },
      "execution_count": null,
      "outputs": []
    },
    {
      "cell_type": "code",
      "source": [],
      "metadata": {
        "id": "eTfWQkjJ3eSc"
      },
      "execution_count": null,
      "outputs": []
    },
    {
      "cell_type": "markdown",
      "source": [
        "# 깊은복사\n",
        "- 파이썬에서는 깊은 복사라는 다른 방법을 제공해서 시퀀스타입의 깊이가 깊어질 때 메모리주소를 참조해서 원본을 훼손하는 일을 막고 있습니다.\n",
        "\n",
        "- copy라는 모듈의 deepcopy를 사용해야 합니다."
      ],
      "metadata": {
        "id": "IIZ4tKTKEeka"
      }
    },
    {
      "cell_type": "code",
      "source": [],
      "metadata": {
        "id": "sGsaqCVZEYGU"
      },
      "execution_count": null,
      "outputs": []
    },
    {
      "cell_type": "code",
      "source": [],
      "metadata": {
        "id": "urKxC1STE01p"
      },
      "execution_count": null,
      "outputs": []
    },
    {
      "cell_type": "code",
      "source": [],
      "metadata": {
        "id": "n4bzLe4IE8TJ"
      },
      "execution_count": null,
      "outputs": []
    },
    {
      "cell_type": "code",
      "source": [],
      "metadata": {
        "id": "Sf1bNI8-FCdw"
      },
      "execution_count": null,
      "outputs": []
    },
    {
      "cell_type": "code",
      "source": [],
      "metadata": {
        "id": "X8GNtqZUFHh5"
      },
      "execution_count": null,
      "outputs": []
    },
    {
      "cell_type": "code",
      "source": [],
      "metadata": {
        "id": "E4R1rCXsFKBI"
      },
      "execution_count": null,
      "outputs": []
    },
    {
      "cell_type": "markdown",
      "source": [
        "## 실습1 - SHALLOW COPY\n",
        "- 1 ~ 25까지의 정수 중 랜덤한 6개 숫자로 된 배열 c, d를 얕은 복사를 이용해서 2개 생성하고 배열 c의 1번 인덱스 값을 5로 각각 변경 후 출력해 보세요.\n",
        "\n",
        "참고\n",
        "```\n",
        "winner = random.sample(range(1,46), k=7)\n",
        "```"
      ],
      "metadata": {
        "id": "mTuLUCJXLEvY"
      }
    },
    {
      "cell_type": "code",
      "source": [],
      "metadata": {
        "id": "gtMSgDjuLGkJ"
      },
      "execution_count": null,
      "outputs": []
    },
    {
      "cell_type": "code",
      "source": [],
      "metadata": {
        "id": "FTWIKCCNQuXg"
      },
      "execution_count": null,
      "outputs": []
    },
    {
      "cell_type": "code",
      "source": [],
      "metadata": {
        "id": "pKGkTZopG8AT"
      },
      "execution_count": null,
      "outputs": []
    },
    {
      "cell_type": "markdown",
      "source": [
        "## 실습2 - DEEPCOPY\n",
        "- 1 ~ 25까지의 정수 중 랜덤한 6개 숫자로 a, b를 deepcopy를 이용해서 2개 생성하고 배열 b의 1번 인덱스 값을 5로 각각 변경 후 출력해 보세요."
      ],
      "metadata": {
        "id": "4PYm5aJfLIfa"
      }
    },
    {
      "cell_type": "markdown",
      "source": [
        "```\n",
        "- 기본자료형: 데이터 값 자체를 저장하는 형태\n",
        "    - 원본 혹은 사본이 변형되어도 다른 한쪽이 변형되지 않음\n",
        "    - ex) bool, char, int 등\n",
        "- 참조자료형 : 각자 독자적 값을 갖는 것이 아닌, 참조(reference) 주소를 공유하는 것\n",
        "    - 한 쪽이 변형되면 다른 한 쪽도 변형됨\n",
        "    - ex) list(array), class 등\n",
        "- Shallow Copy\n",
        "    - 기본형이 아닌 자료들은 참조주소값을 복사하는 것\n",
        "    - 2D-list를 얕은 복사 한 경우, 리스트 안의 기본자료형은 한쪽의 변형에 영향받지 않음\n",
        "    - 다만 내장된 list는 참조자료형이므로 같은 주소를 참조함. 따라서 한 쪽의 변형에 영향받음\n",
        "- Deep Copy\n",
        "    - 객체가 가진 모든 멤버를 복사\n",
        "    - 참조자료형을 복사하는 경우, 참조주소(reference)가 아니라 데이터 자체가 복사됨(또다른 주소에 새로 만들어짐)\n",
        "    - 따라서 한 쪽의 변형에 영향받지 않음.\n",
        "```"
      ],
      "metadata": {
        "id": "poSHYILxHci2"
      }
    },
    {
      "cell_type": "code",
      "source": [],
      "metadata": {
        "id": "x5F5ozieLJP4"
      },
      "execution_count": null,
      "outputs": []
    },
    {
      "cell_type": "code",
      "source": [],
      "metadata": {
        "id": "RLwEZzvxI3Vz"
      },
      "execution_count": null,
      "outputs": []
    },
    {
      "cell_type": "markdown",
      "source": [
        "# 제어문\n",
        "- 대부분의 언어가 유사합니다.\n",
        "- 조건문, 반복문\n",
        "- 위의 2가지로 전체 코드의 실행 흐름을 제어합니다.\n",
        "\n",
        "- 프로그래밍은 저 두개가 전부죠. 저 두개를 어떻게 잘 섞고 어떻게 간략하게 만드느냐가 알고리즘\n",
        "- 연습을 많이 하셔야 합니다. 그냥 볼때랑은 많이 다르더라구요.\n",
        "- 울지 마시구요....\n",
        "\n",
        "\n",
        "# 조건문(분기문)\n",
        "- 파이썬은 if문 하나만 제공을 합니다.\n",
        "  - 쉽죠. if문 하나만 있으니까\n",
        "  - 파이썬의 철학 기억나시죠?\n",
        "```\n",
        "if 명제:\n",
        "[들여쓰기]명령어들\n",
        "```"
      ],
      "metadata": {
        "id": "H9omkUl7Rqph"
      }
    },
    {
      "cell_type": "code",
      "source": [],
      "metadata": {
        "id": "jbi_aaE_PVX6"
      },
      "execution_count": null,
      "outputs": []
    },
    {
      "cell_type": "markdown",
      "source": [
        "## Readability counts.\n",
        "- 들여쓰기 얘기를 잠깐 할게요\n",
        "- 파이썬 자체가 귀도 반 로섬 아저씨가 싫은 코드들의 단점을 빼고 만든거라서 가독성을 굉장히 중시합니다.\n",
        "- 그래서 들여쓰기를 일부러 강제하고 있습니다."
      ],
      "metadata": {
        "id": "d5xBkkonTIwJ"
      }
    },
    {
      "cell_type": "code",
      "source": [],
      "metadata": {
        "id": "vWznEwtVSZM5"
      },
      "execution_count": null,
      "outputs": []
    },
    {
      "cell_type": "code",
      "source": [
        "# If 블록에는 명제가 참인 경우에 실행하려는 명령어를 넣고\n",
        "# 같은 블록은 같은 들여쓰기 층위를 사용합니다\n",
        "# 명령어의 들여쓰기가 다르면, 다른 블록으로 인식한다\n",
        "arr = [1,2,3,4,5]\n"
      ],
      "metadata": {
        "id": "tfGVeG91TcvT"
      },
      "execution_count": null,
      "outputs": []
    },
    {
      "cell_type": "code",
      "source": [
        "# a,b,c,d,e,f 가 들어있는 튜플을 만들고 그 안에 a 가 있으면 '있음', 없으면 '없음' 이 출력되도록 조건문을 만들어주세요\n"
      ],
      "metadata": {
        "id": "oMrjUvXMN7fv"
      },
      "execution_count": null,
      "outputs": []
    },
    {
      "cell_type": "code",
      "source": [],
      "metadata": {
        "id": "2PWONlzNQarp"
      },
      "execution_count": null,
      "outputs": []
    },
    {
      "cell_type": "code",
      "source": [],
      "metadata": {
        "id": "r2riYZ4RQMkK"
      },
      "execution_count": null,
      "outputs": []
    },
    {
      "cell_type": "code",
      "source": [],
      "metadata": {
        "id": "aOFPHm9JQDrw"
      },
      "execution_count": null,
      "outputs": []
    },
    {
      "cell_type": "markdown",
      "source": [
        "파이썬은 블록 단위를 표현할 때 들여쓰기로 표현을 합니다.\n",
        "- 들여쓰기를 할 때는 탭과 공백을 구분하기 때문에 반드시 탭 or 공백 하나만 선택해서 같은 크기만큼 들여쓰기 해야 합니다.\n"
      ],
      "metadata": {
        "id": "Q04sM8FVYrXD"
      }
    },
    {
      "cell_type": "code",
      "source": [],
      "metadata": {
        "id": "VKhQajbIUxFx"
      },
      "execution_count": null,
      "outputs": []
    },
    {
      "cell_type": "code",
      "source": [],
      "metadata": {
        "id": "4hpSmbI7Uu55"
      },
      "execution_count": null,
      "outputs": []
    },
    {
      "cell_type": "code",
      "source": [],
      "metadata": {
        "id": "XvkNt9zAaEMJ"
      },
      "execution_count": null,
      "outputs": []
    },
    {
      "cell_type": "code",
      "source": [],
      "metadata": {
        "id": "tzn6oTeISPXZ"
      },
      "execution_count": null,
      "outputs": []
    },
    {
      "cell_type": "markdown",
      "source": [
        "실습. 어깨를 돌리셨습니까 라고 질문을 받고 Y를 입력받으면 '좋군요' 이외 나머지 경우는 전부 '그렇군요' 를 출력해주세요\n",
        "\n"
      ],
      "metadata": {
        "id": "a_rgOMr1aRKV"
      }
    },
    {
      "cell_type": "code",
      "source": [],
      "metadata": {
        "id": "eE9BwYa9dYVp"
      },
      "execution_count": null,
      "outputs": []
    },
    {
      "cell_type": "code",
      "source": [],
      "metadata": {
        "id": "N6zhO4O8d3yR"
      },
      "execution_count": null,
      "outputs": []
    },
    {
      "cell_type": "code",
      "source": [],
      "metadata": {
        "id": "Y1DJXBRkU6v2"
      },
      "execution_count": null,
      "outputs": []
    },
    {
      "cell_type": "code",
      "source": [],
      "metadata": {
        "id": "CuNh4cvJVDos"
      },
      "execution_count": null,
      "outputs": []
    },
    {
      "cell_type": "code",
      "source": [],
      "metadata": {
        "id": "a4pBAFmIVmFT"
      },
      "execution_count": null,
      "outputs": []
    },
    {
      "cell_type": "code",
      "source": [],
      "metadata": {
        "id": "TX5IzusJVnRc"
      },
      "execution_count": null,
      "outputs": []
    },
    {
      "cell_type": "markdown",
      "source": [
        "- if 블록이랑 else 블록 두개만 있을 때는 한곳으로 반드시 분기가 되어야 합니다.\n",
        "- True이거나 True가 아닌 모든 값 둘중에 하나 여야 하는거죠.\n",
        "\n",
        "- 만약 그렇지 않다?\n",
        "    - 참이면서 거짓인 명제가 있다 라는 말인데요. 이건 불가능하죠.\n",
        "    - 두 블록이 실행이 안 되는 경우 - 참도 거짓도 아닌 경우 이런 경우도 있을 수 없습니다.\n",
        "\n",
        "- 2가지 조건만 존재할 수는 없잖아요.\n",
        "\n",
        "- 세상에 새로운 생각은 없다.... and or not 으로 계속 뻗어나가는 생각의 줄기가 프로그래밍 분기문의 기본 원리가 되었다.\n",
        "\n",
        "# 다중조건문\n",
        "\n",
        "```\n",
        "if 조건1:\n",
        "    조건1이 참일 때 실행문\n",
        "elif 조건2:\n",
        "    조건2가 참일 때 실행문\n",
        "elif 조건3:\n",
        "    조건3가 참일 때 실행문\n",
        "elif 조건4:\n",
        "    조건4가 참일 때 실행문\n",
        "else:\n",
        "    조건1도 2도 아닌 모든 상황에 실행문\n",
        "```"
      ],
      "metadata": {
        "id": "O9tEWkrLd8RM"
      }
    },
    {
      "cell_type": "code",
      "source": [],
      "metadata": {
        "id": "ZtDG5ppMd6CP"
      },
      "execution_count": null,
      "outputs": []
    },
    {
      "cell_type": "markdown",
      "source": [
        "조건문\n",
        "- 무조건 if 조건: 으로 시작...\n",
        "- 나머지는 거들 뿐....\n",
        "- 2개 이상의 조건을 제시하려면 if와 else 사이에 elif를 얼마든지 첨가 가능합니다\n"
      ],
      "metadata": {
        "id": "w6ZgnU5vZ5ZP"
      }
    },
    {
      "cell_type": "markdown",
      "source": [
        "- 조금더 섬세하게 소문자/대문자 모두 쓸 수 있게"
      ],
      "metadata": {
        "id": "cYa7ria_PXqK"
      }
    },
    {
      "cell_type": "code",
      "source": [],
      "metadata": {
        "id": "iRr6gc7UXhrF"
      },
      "execution_count": null,
      "outputs": []
    },
    {
      "cell_type": "code",
      "source": [],
      "metadata": {
        "id": "wqigXJGWdOuP"
      },
      "execution_count": null,
      "outputs": []
    },
    {
      "cell_type": "code",
      "source": [],
      "metadata": {
        "id": "WVtWLDCIcthz"
      },
      "execution_count": null,
      "outputs": []
    },
    {
      "cell_type": "code",
      "source": [],
      "metadata": {
        "id": "bwGGVAe7di1A"
      },
      "execution_count": null,
      "outputs": []
    },
    {
      "cell_type": "code",
      "source": [],
      "metadata": {
        "id": "IM9MBRT5dpuc"
      },
      "execution_count": null,
      "outputs": []
    },
    {
      "cell_type": "markdown",
      "source": [
        "### 이 경우는 다중 조건이 아닙니다"
      ],
      "metadata": {
        "id": "78KuSsNpoAXV"
      }
    },
    {
      "cell_type": "code",
      "source": [],
      "metadata": {
        "id": "N-dO7AYNfCuW"
      },
      "execution_count": null,
      "outputs": []
    },
    {
      "cell_type": "code",
      "source": [],
      "metadata": {
        "id": "HK69ZvAOeavf"
      },
      "execution_count": null,
      "outputs": []
    },
    {
      "cell_type": "code",
      "source": [],
      "metadata": {
        "id": "uhDN51inhsuX"
      },
      "execution_count": null,
      "outputs": []
    },
    {
      "cell_type": "markdown",
      "source": [
        "# 실습. 주사위 게임입니다\n",
        "- 두 사람이 주사위를 던져 높은 숫자가 나오면 이기는 게임을 작성해봅니다.\n",
        "- 주사위 숫자는 input으로 받은 값을 a, b라는 변수에 넣어서 비교할게요.\n",
        "- 실행결과는 3가지 : a가 이긴다, a가 진다, a가 비긴다"
      ],
      "metadata": {
        "id": "8ixOeWl7g_Ap"
      }
    },
    {
      "cell_type": "code",
      "source": [],
      "metadata": {
        "id": "F5ifqp_pgY-J"
      },
      "execution_count": null,
      "outputs": []
    },
    {
      "cell_type": "markdown",
      "source": [
        "### if 안에 if가 들어있다\n",
        "- 조건문 안에서 또 조건문을 만들어서\n",
        "중첩조건문 이라고 부릅니다."
      ],
      "metadata": {
        "id": "iEb8Byohploc"
      }
    },
    {
      "cell_type": "code",
      "source": [],
      "metadata": {
        "id": "ANVFK0YBoJwa"
      },
      "execution_count": null,
      "outputs": []
    },
    {
      "cell_type": "markdown",
      "source": [
        "arr = [1, 2, 3]\n",
        "#### 지금은 arr의 우리가 뚜껑을 열어봤지만 실제로는 다 DB에서 가져온 자료 혹은 사용자로부터 입력받은 자료이고 속에 뭐가 들어있는지 모른다 라는 설정입니다.\n",
        "\n",
        "- arr 안에 1, 2, 3 중 어느 정수가 들어있으면'참', 그렇지 않으면 '거짓' 을 출력하는 조건문을 만들어보겠습니다."
      ],
      "metadata": {
        "id": "1cZjqpJmxB_6"
      }
    },
    {
      "cell_type": "code",
      "source": [],
      "metadata": {
        "id": "E1p_jXhPuo8N"
      },
      "execution_count": null,
      "outputs": []
    },
    {
      "cell_type": "code",
      "source": [],
      "metadata": {
        "id": "hdTl1wehvons"
      },
      "execution_count": null,
      "outputs": []
    },
    {
      "cell_type": "code",
      "source": [],
      "metadata": {
        "id": "4dq3YG0Wwuwy"
      },
      "execution_count": null,
      "outputs": []
    }
  ]
}