{
  "nbformat": 4,
  "nbformat_minor": 0,
  "metadata": {
    "colab": {
      "provenance": [],
      "collapsed_sections": [
        "Hf7B_VwSv81e"
      ],
      "include_colab_link": true
    },
    "kernelspec": {
      "display_name": "Python 3",
      "language": "python",
      "name": "python3"
    },
    "language_info": {
      "codemirror_mode": {
        "name": "ipython",
        "version": 3
      },
      "file_extension": ".py",
      "mimetype": "text/x-python",
      "name": "python",
      "nbconvert_exporter": "python",
      "pygments_lexer": "ipython3",
      "version": "3.7.6"
    }
  },
  "cells": [
    {
      "cell_type": "markdown",
      "metadata": {
        "id": "view-in-github",
        "colab_type": "text"
      },
      "source": [
        "<a href=\"https://colab.research.google.com/github/soiejung/PythonStudy/blob/main/%EB%8D%B0%EC%9D%B4%ED%84%B0%EB%B6%84%EC%84%9DI_NumPy.ipynb\" target=\"_parent\"><img src=\"https://colab.research.google.com/assets/colab-badge.svg\" alt=\"Open In Colab\"/></a>"
      ]
    },
    {
      "cell_type": "markdown",
      "metadata": {
        "id": "XOmhYVEwXIcH"
      },
      "source": [
        "![alt text](https://lh3.googleusercontent.com/jS2nj0Ju7rvJJangnpFrnveoLlMAVc-Ee-k38WW3bRT1rpOooDKa8c3Uh2hZs5j6-XNc1ZFry07GtQTX8sYRpyZGgz8TZuBpGw75pAZqSKQRSfKA0Isy3I-222AHDlZa1WNAvFGmQLfeR4S96qK3agRN-br82Od1243W4uVZbFmbkZPykYy4_qDeE2UrbT1nVr8QZccLXjjtjiJRM8WQ_8eZFSRUBP1BMQg5AG6l7tdGXuWlQDmqFOFcDcEQE5ZX30N7TIcDSOiMWjp0gGZgtMfaR983h4NP8dUp-ej-Vo1D4FSpa_zTpjvKRrpbfnVir1LpIw0yC9OjD7aCMtLcul9Npe-voMkiJgz5XNvFatCgq5WmfcoaDDvkkEQZgp7LQoOqqprzvdItdiyWagMtCVQONtypoZhc2kQQkfav2M0sC9kG4AXDJ6nOlpi8iSbJSVVPKHN9wzGzN1gxo2dDtaua9VfHd5MTOWiRV6ArL6pzwzSzAPSAgUFZZhc4RHGzk5ChHsJBaO3gzvn8GF4Cr7P7GahgXEhw98u1Z0VlNqDmp37B4cUHm5dujBm7jQXGTvPqM5zuDHwiviFId6OMjcjW6xZNckM9_KM8opmUYN_RKP-YPs51qrz9NVksS73JOhHpBHtVQMDCFycT6ZSKv-zdwZN7_FW7=w2160-h856-no)"
      ]
    },
    {
      "cell_type": "markdown",
      "metadata": {
        "id": "Hf7B_VwSv81e"
      },
      "source": [
        "## Numpy: Numeric + Python의 약자, 수학 및 과학 연산 라이브러리\n",
        "- 배열이나 행렬 계산에 필요한 함수 제공\n",
        "- 수열 데이터를 다룰 때 용이, 이후에 Pandas에서 DataFrame 형태로 사용함\n",
        "- 다차원 배열(Array)을 다룰 때 주로 사용함 (인공 신경망, 비정형 데이터 처리, 자연어 처리 등)\n",
        "- 코어 부분이 C로 구현되어 동일한 연산을 하더라도 Python에 비해 속도가 빠름\n",
        "- 라이브러리에 구현되어있는 함수들을 활용해 짧고 간결한 코드 작성 가능"
      ]
    },
    {
      "cell_type": "markdown",
      "metadata": {
        "id": "ojfCyAcWzZvz"
      },
      "source": [
        "## 리스트 자료형과의 차이"
      ]
    },
    {
      "cell_type": "code",
      "metadata": {
        "id": "_ExAw_-aFUqZ"
      },
      "source": [
        "test = [15, 20, 25] # 오늘 입학시험을 본 3명의 점수"
      ],
      "execution_count": null,
      "outputs": []
    },
    {
      "cell_type": "code",
      "metadata": {
        "id": "BbQO0ZFmGMwi",
        "colab": {
          "base_uri": "https://localhost:8080/"
        },
        "outputId": "7083a4f4-2d2d-40cc-992f-f51d2d4baa2b"
      },
      "source": [
        "test"
      ],
      "execution_count": null,
      "outputs": [
        {
          "output_type": "execute_result",
          "data": {
            "text/plain": [
              "[15, 20, 25]"
            ]
          },
          "metadata": {},
          "execution_count": 2
        }
      ]
    },
    {
      "cell_type": "code",
      "metadata": {
        "id": "22UxUN7oGV9d",
        "colab": {
          "base_uri": "https://localhost:8080/"
        },
        "outputId": "4693be7b-e087-4945-bd75-b5576767d0fa"
      },
      "source": [
        "type(test)"
      ],
      "execution_count": null,
      "outputs": [
        {
          "output_type": "execute_result",
          "data": {
            "text/plain": [
              "list"
            ]
          },
          "metadata": {},
          "execution_count": 3
        }
      ]
    },
    {
      "cell_type": "code",
      "source": [
        "!pip install numpy # 넘파이 설치 - 코랩은 데이터분석 관련 패키지들을 미리 깔아서 우리에게 제공해줌"
      ],
      "metadata": {
        "id": "ePJi8uSdUGv9",
        "colab": {
          "base_uri": "https://localhost:8080/"
        },
        "outputId": "88b2d6e4-8369-4a6d-dded-61ee7fc1b1dc"
      },
      "execution_count": null,
      "outputs": [
        {
          "output_type": "stream",
          "name": "stdout",
          "text": [
            "Looking in indexes: https://pypi.org/simple, https://us-python.pkg.dev/colab-wheels/public/simple/\n",
            "Requirement already satisfied: numpy in /usr/local/lib/python3.10/dist-packages (1.22.4)\n"
          ]
        }
      ]
    },
    {
      "cell_type": "code",
      "metadata": {
        "id": "0nfV0KGFfU3a"
      },
      "source": [
        "import numpy as np"
      ],
      "execution_count": null,
      "outputs": []
    },
    {
      "cell_type": "markdown",
      "metadata": {
        "id": "arCJlQ3J0RY5"
      },
      "source": [
        "실습1 : test변수에 들어있는 점수들의 합(testTotal)과, 평균(testAvg)을 구하여 출력하세요."
      ]
    },
    {
      "cell_type": "code",
      "source": [
        "testTotal = 0\n",
        "\n",
        "for tes in test:\n",
        "    testTotal += tes\n",
        "\n",
        "testTotal"
      ],
      "metadata": {
        "id": "ex1FdhbZXVp3",
        "colab": {
          "base_uri": "https://localhost:8080/"
        },
        "outputId": "b70096c7-6520-4aa1-8a26-72d5d7b678b8"
      },
      "execution_count": null,
      "outputs": [
        {
          "output_type": "execute_result",
          "data": {
            "text/plain": [
              "60"
            ]
          },
          "metadata": {},
          "execution_count": 10
        }
      ]
    },
    {
      "cell_type": "code",
      "source": [
        "sum(test)"
      ],
      "metadata": {
        "colab": {
          "base_uri": "https://localhost:8080/"
        },
        "id": "qy44f-gOQEk7",
        "outputId": "aec26a69-7224-42fb-fd97-be9dc1453c53"
      },
      "execution_count": null,
      "outputs": [
        {
          "output_type": "execute_result",
          "data": {
            "text/plain": [
              "60"
            ]
          },
          "metadata": {},
          "execution_count": 11
        }
      ]
    },
    {
      "cell_type": "code",
      "source": [
        "len(test)"
      ],
      "metadata": {
        "colab": {
          "base_uri": "https://localhost:8080/"
        },
        "id": "l8KfnN30QNxi",
        "outputId": "34be09ee-3bdc-4437-e451-1d6577a2c2a3"
      },
      "execution_count": null,
      "outputs": [
        {
          "output_type": "execute_result",
          "data": {
            "text/plain": [
              "3"
            ]
          },
          "metadata": {},
          "execution_count": 12
        }
      ]
    },
    {
      "cell_type": "code",
      "source": [
        "testAvg = testTotal / len(test)"
      ],
      "metadata": {
        "id": "uQmUY8yOPlzk"
      },
      "execution_count": null,
      "outputs": []
    },
    {
      "cell_type": "code",
      "source": [
        "testAvg"
      ],
      "metadata": {
        "colab": {
          "base_uri": "https://localhost:8080/"
        },
        "id": "qqPI8EHOQQz8",
        "outputId": "92f5d9fb-4dc1-4e84-f513-b64d1b4ed37b"
      },
      "execution_count": null,
      "outputs": [
        {
          "output_type": "execute_result",
          "data": {
            "text/plain": [
              "20.0"
            ]
          },
          "metadata": {},
          "execution_count": 14
        }
      ]
    },
    {
      "cell_type": "markdown",
      "metadata": {
        "id": "iyULeL49s1o3"
      },
      "source": [
        "빼먹은 30점짜리 시험지를 발견했다!! 이 학생의 성적을 추가한 점수들의 합과 평균을 구하려면 어떻게 해야 할까요?\n",
        "\n",
        "새로운 변수를 추가해야 합니다.\n",
        "\n",
        "실습2. 변수 test에 30을 추가해주세요."
      ]
    },
    {
      "cell_type": "code",
      "metadata": {
        "id": "XLU6-OJO02Pq"
      },
      "source": [
        "test.append(30)"
      ],
      "execution_count": null,
      "outputs": []
    },
    {
      "cell_type": "code",
      "metadata": {
        "id": "svixiJrvHn36"
      },
      "source": [],
      "execution_count": null,
      "outputs": []
    },
    {
      "cell_type": "markdown",
      "metadata": {
        "id": "WwlsHrpO06-B"
      },
      "source": [
        "실습3. 새로운 학생이 본 시험점수를 더해 총합과 평균을 구해주세요."
      ]
    },
    {
      "cell_type": "code",
      "metadata": {
        "id": "hZ9b6Es8fU1Q"
      },
      "source": [
        "testTotal = sum(test)"
      ],
      "execution_count": null,
      "outputs": []
    },
    {
      "cell_type": "code",
      "source": [
        "testAvg = sum(test) / len(test)"
      ],
      "metadata": {
        "id": "Dk9UnRw_Xt0n"
      },
      "execution_count": null,
      "outputs": []
    },
    {
      "cell_type": "markdown",
      "metadata": {
        "id": "HaiPjaN4lgr0"
      },
      "source": [
        "실습4. 그렇다면 시험문제의 오류가 발견되어 모두 정답처리를 해 모든 학생의 점수를 5점씩 올려줘야 하는 상황에서는 어떻게 해야할까요?"
      ]
    },
    {
      "cell_type": "code",
      "metadata": {
        "id": "WYKbvgYnGjDf",
        "colab": {
          "base_uri": "https://localhost:8080/",
          "height": 174
        },
        "outputId": "63663194-ffa2-41fc-bc72-d118a4fbb265"
      },
      "source": [
        "test + 5"
      ],
      "execution_count": null,
      "outputs": [
        {
          "output_type": "error",
          "ename": "TypeError",
          "evalue": "ignored",
          "traceback": [
            "\u001b[0;31m---------------------------------------------------------------------------\u001b[0m",
            "\u001b[0;31mTypeError\u001b[0m                                 Traceback (most recent call last)",
            "\u001b[0;32m<ipython-input-21-8a025d832785>\u001b[0m in \u001b[0;36m<cell line: 1>\u001b[0;34m()\u001b[0m\n\u001b[0;32m----> 1\u001b[0;31m \u001b[0mtest\u001b[0m \u001b[0;34m+\u001b[0m \u001b[0;36m5\u001b[0m\u001b[0;34m\u001b[0m\u001b[0;34m\u001b[0m\u001b[0m\n\u001b[0m",
            "\u001b[0;31mTypeError\u001b[0m: can only concatenate list (not \"int\") to list"
          ]
        }
      ]
    },
    {
      "cell_type": "markdown",
      "metadata": {
        "id": "gwRCBixOvF4R"
      },
      "source": [
        "**반복문**"
      ]
    },
    {
      "cell_type": "code",
      "metadata": {
        "id": "DWLrwbYJvF4J",
        "colab": {
          "base_uri": "https://localhost:8080/"
        },
        "outputId": "e0b4ceb2-03af-4e6d-b42d-e214fe0563c5"
      },
      "source": [
        "test2 = []\n",
        "\n",
        "for tes in test:\n",
        "    print(tes)\n",
        "    test2.append(tes+5)\n",
        "\n",
        "test = test2"
      ],
      "execution_count": null,
      "outputs": [
        {
          "output_type": "stream",
          "name": "stdout",
          "text": [
            "15\n",
            "20\n",
            "25\n",
            "30\n"
          ]
        }
      ]
    },
    {
      "cell_type": "markdown",
      "metadata": {
        "id": "JhKvljj4nxEh"
      },
      "source": [
        "실습(복습) 5. 위의 반복문을 List Comprehension으로 만들어보세요."
      ]
    },
    {
      "cell_type": "code",
      "source": [
        "test = [15, 20, 25]"
      ],
      "metadata": {
        "id": "6urOrSPlRF3C"
      },
      "execution_count": null,
      "outputs": []
    },
    {
      "cell_type": "code",
      "metadata": {
        "id": "5eViBzeRjmxp"
      },
      "source": [
        "test = [x+5 for x in test]"
      ],
      "execution_count": null,
      "outputs": []
    },
    {
      "cell_type": "code",
      "source": [
        "test"
      ],
      "metadata": {
        "colab": {
          "base_uri": "https://localhost:8080/"
        },
        "id": "uu9esB3wRHPN",
        "outputId": "38d4640d-4c56-4ff6-e4d4-8c69ae1b80e3"
      },
      "execution_count": null,
      "outputs": [
        {
          "output_type": "execute_result",
          "data": {
            "text/plain": [
              "[20, 25, 30]"
            ]
          },
          "metadata": {},
          "execution_count": 26
        }
      ]
    },
    {
      "cell_type": "code",
      "source": [
        "test = list(map(lambda x : x+5, test))"
      ],
      "metadata": {
        "id": "YIY54MTwYBS2"
      },
      "execution_count": null,
      "outputs": []
    },
    {
      "cell_type": "code",
      "source": [
        "test"
      ],
      "metadata": {
        "colab": {
          "base_uri": "https://localhost:8080/"
        },
        "id": "P3XEnTL-RR2a",
        "outputId": "1ecc7633-f6c7-4c08-ccb3-8565ffcda6f5"
      },
      "execution_count": null,
      "outputs": [
        {
          "output_type": "execute_result",
          "data": {
            "text/plain": [
              "[20, 25, 30]"
            ]
          },
          "metadata": {},
          "execution_count": 29
        }
      ]
    },
    {
      "cell_type": "markdown",
      "metadata": {
        "id": "W0fnma-qwPaT"
      },
      "source": [
        "## ndarray의 특징\n",
        "- Numpy의 데이터 타입 중 하나로, 리스트와 비슷한 형식의 구조적인 데이터\n",
        "- 이중 구조의 배열이나 행렬(Matrix)처럼 사용이 가능하며, 수학/과학 연산을 모두 지원한다."
      ]
    },
    {
      "cell_type": "markdown",
      "metadata": {
        "id": "VAJJqz6Gx-LD"
      },
      "source": [
        "**NumPy** 모듈을 사용하면 다차원배열을 효율적으로 다룰 수 있습니다.\n",
        "\n",
        "`import numpy as np` 형태로 import합니다.\n",
        "\n",
        "- test = [15, 20, 25, 30]"
      ]
    },
    {
      "cell_type": "code",
      "metadata": {
        "id": "5utnGfs7JpON"
      },
      "source": [
        "import numpy as np # np는 numpy를 의미하는 게 약속처럼 되어있습니다.\n",
        "# from numpy import * -> 이 경우 파이썬의 기본 내장함수와 겹치는 이름들을 numpy가 덮어쓰기 때문에 권장하지는 않습니다"
      ],
      "execution_count": null,
      "outputs": []
    },
    {
      "cell_type": "code",
      "metadata": {
        "id": "43p9YhDiYWiP"
      },
      "source": [
        "# ndarray - numpy가 제공하는 특수 자료타입\n",
        "test = np.array([15, 20, 25, 30])"
      ],
      "execution_count": null,
      "outputs": []
    },
    {
      "cell_type": "code",
      "source": [
        "test = [15, 20, 25, 30]"
      ],
      "metadata": {
        "id": "JUl4GFgCR5cA"
      },
      "execution_count": null,
      "outputs": []
    },
    {
      "cell_type": "code",
      "source": [
        "test2 = np.array(test)"
      ],
      "metadata": {
        "id": "oCIvcpK2R7d2"
      },
      "execution_count": null,
      "outputs": []
    },
    {
      "cell_type": "code",
      "source": [
        "test2"
      ],
      "metadata": {
        "colab": {
          "base_uri": "https://localhost:8080/"
        },
        "id": "vaA3ipm8R9-c",
        "outputId": "950861ca-05a8-435f-fcfc-c4f7ad0fd756"
      },
      "execution_count": null,
      "outputs": [
        {
          "output_type": "execute_result",
          "data": {
            "text/plain": [
              "array([15, 20, 25, 30])"
            ]
          },
          "metadata": {},
          "execution_count": 36
        }
      ]
    },
    {
      "cell_type": "code",
      "metadata": {
        "id": "YSKknXuwYObT",
        "colab": {
          "base_uri": "https://localhost:8080/"
        },
        "outputId": "3111e0c6-9931-44af-81a3-d769d5d6abf0"
      },
      "source": [
        "type(test2)"
      ],
      "execution_count": null,
      "outputs": [
        {
          "output_type": "execute_result",
          "data": {
            "text/plain": [
              "numpy.ndarray"
            ]
          },
          "metadata": {},
          "execution_count": 37
        }
      ]
    },
    {
      "cell_type": "code",
      "metadata": {
        "id": "oWA0-ULoyHe2",
        "colab": {
          "base_uri": "https://localhost:8080/"
        },
        "outputId": "8fd3e40b-580e-41c0-bfd0-64b383ef4ec9"
      },
      "source": [
        "test"
      ],
      "execution_count": null,
      "outputs": [
        {
          "output_type": "execute_result",
          "data": {
            "text/plain": [
              "array([15, 20, 25, 30])"
            ]
          },
          "metadata": {},
          "execution_count": 33
        }
      ]
    },
    {
      "cell_type": "code",
      "source": [
        "range(5,31,5)"
      ],
      "metadata": {
        "colab": {
          "base_uri": "https://localhost:8080/"
        },
        "id": "0fylDkD6SC0c",
        "outputId": "1dfd3e63-871e-4bb7-cd81-20f950e5bbd9"
      },
      "execution_count": null,
      "outputs": [
        {
          "output_type": "execute_result",
          "data": {
            "text/plain": [
              "range(5, 31, 5)"
            ]
          },
          "metadata": {},
          "execution_count": 38
        }
      ]
    },
    {
      "cell_type": "code",
      "source": [
        "test2 = np.array(range(15,31,5))"
      ],
      "metadata": {
        "id": "fkyVxjmNSCIU"
      },
      "execution_count": null,
      "outputs": []
    },
    {
      "cell_type": "code",
      "source": [
        "test2"
      ],
      "metadata": {
        "colab": {
          "base_uri": "https://localhost:8080/"
        },
        "id": "Hyu8dNw7SItK",
        "outputId": "bd5cc754-9790-4c10-dd32-c9660cea24fc"
      },
      "execution_count": null,
      "outputs": [
        {
          "output_type": "execute_result",
          "data": {
            "text/plain": [
              "array([15, 20, 25, 30])"
            ]
          },
          "metadata": {},
          "execution_count": 43
        }
      ]
    },
    {
      "cell_type": "code",
      "metadata": {
        "id": "2j1I-LCwJvKb",
        "colab": {
          "base_uri": "https://localhost:8080/"
        },
        "outputId": "592dc00c-2c8e-43f0-8f68-eb8de0b428a1"
      },
      "source": [
        "# np.arange - ndarray 수열을 만들어주는 메소드\n",
        "test1 = np.arange(15, 31, 5) # 시작점, 끝+1, 스텝, r이 1개!!\n",
        "test1"
      ],
      "execution_count": null,
      "outputs": [
        {
          "output_type": "execute_result",
          "data": {
            "text/plain": [
              "array([15, 20, 25, 30])"
            ]
          },
          "metadata": {},
          "execution_count": 44
        }
      ]
    },
    {
      "cell_type": "code",
      "source": [
        "range(15, 31, 0.1)"
      ],
      "metadata": {
        "colab": {
          "base_uri": "https://localhost:8080/",
          "height": 174
        },
        "id": "Req0n94cScfs",
        "outputId": "824fd678-2c54-4bff-8864-93d76289d022"
      },
      "execution_count": null,
      "outputs": [
        {
          "output_type": "error",
          "ename": "TypeError",
          "evalue": "ignored",
          "traceback": [
            "\u001b[0;31m---------------------------------------------------------------------------\u001b[0m",
            "\u001b[0;31mTypeError\u001b[0m                                 Traceback (most recent call last)",
            "\u001b[0;32m<ipython-input-45-d5cde6a3a912>\u001b[0m in \u001b[0;36m<cell line: 1>\u001b[0;34m()\u001b[0m\n\u001b[0;32m----> 1\u001b[0;31m \u001b[0mrange\u001b[0m\u001b[0;34m(\u001b[0m\u001b[0;36m15\u001b[0m\u001b[0;34m,\u001b[0m \u001b[0;36m31\u001b[0m\u001b[0;34m,\u001b[0m \u001b[0;36m0.1\u001b[0m\u001b[0;34m)\u001b[0m\u001b[0;34m\u001b[0m\u001b[0;34m\u001b[0m\u001b[0m\n\u001b[0m",
            "\u001b[0;31mTypeError\u001b[0m: 'float' object cannot be interpreted as an integer"
          ]
        }
      ]
    },
    {
      "cell_type": "code",
      "metadata": {
        "id": "zNNHs3tbJ5jY",
        "colab": {
          "base_uri": "https://localhost:8080/"
        },
        "outputId": "393e5eab-c35e-4e30-aba7-f7f77f51c46e"
      },
      "source": [
        "np.arange(15, 31, 0.1) # 플레인 파이썬의 range 와는 다르게 float 으로도 수열을 구현할 수 있습니다"
      ],
      "execution_count": null,
      "outputs": [
        {
          "output_type": "execute_result",
          "data": {
            "text/plain": [
              "array([15. , 15.1, 15.2, 15.3, 15.4, 15.5, 15.6, 15.7, 15.8, 15.9, 16. ,\n",
              "       16.1, 16.2, 16.3, 16.4, 16.5, 16.6, 16.7, 16.8, 16.9, 17. , 17.1,\n",
              "       17.2, 17.3, 17.4, 17.5, 17.6, 17.7, 17.8, 17.9, 18. , 18.1, 18.2,\n",
              "       18.3, 18.4, 18.5, 18.6, 18.7, 18.8, 18.9, 19. , 19.1, 19.2, 19.3,\n",
              "       19.4, 19.5, 19.6, 19.7, 19.8, 19.9, 20. , 20.1, 20.2, 20.3, 20.4,\n",
              "       20.5, 20.6, 20.7, 20.8, 20.9, 21. , 21.1, 21.2, 21.3, 21.4, 21.5,\n",
              "       21.6, 21.7, 21.8, 21.9, 22. , 22.1, 22.2, 22.3, 22.4, 22.5, 22.6,\n",
              "       22.7, 22.8, 22.9, 23. , 23.1, 23.2, 23.3, 23.4, 23.5, 23.6, 23.7,\n",
              "       23.8, 23.9, 24. , 24.1, 24.2, 24.3, 24.4, 24.5, 24.6, 24.7, 24.8,\n",
              "       24.9, 25. , 25.1, 25.2, 25.3, 25.4, 25.5, 25.6, 25.7, 25.8, 25.9,\n",
              "       26. , 26.1, 26.2, 26.3, 26.4, 26.5, 26.6, 26.7, 26.8, 26.9, 27. ,\n",
              "       27.1, 27.2, 27.3, 27.4, 27.5, 27.6, 27.7, 27.8, 27.9, 28. , 28.1,\n",
              "       28.2, 28.3, 28.4, 28.5, 28.6, 28.7, 28.8, 28.9, 29. , 29.1, 29.2,\n",
              "       29.3, 29.4, 29.5, 29.6, 29.7, 29.8, 29.9, 30. , 30.1, 30.2, 30.3,\n",
              "       30.4, 30.5, 30.6, 30.7, 30.8, 30.9])"
            ]
          },
          "metadata": {},
          "execution_count": 46
        }
      ]
    },
    {
      "cell_type": "code",
      "metadata": {
        "id": "YGuJpk6VKFqQ"
      },
      "source": [
        "test = np.arange(15, 31, 5)"
      ],
      "execution_count": null,
      "outputs": []
    },
    {
      "cell_type": "code",
      "metadata": {
        "id": "30-sdo1dLbbK",
        "colab": {
          "base_uri": "https://localhost:8080/"
        },
        "outputId": "97f52a63-0380-49f7-b2e1-01546df53d89"
      },
      "source": [
        "test"
      ],
      "execution_count": null,
      "outputs": [
        {
          "output_type": "execute_result",
          "data": {
            "text/plain": [
              "array([15, 20, 25, 30])"
            ]
          },
          "metadata": {},
          "execution_count": 48
        }
      ]
    },
    {
      "cell_type": "code",
      "source": [
        "test1"
      ],
      "metadata": {
        "colab": {
          "base_uri": "https://localhost:8080/"
        },
        "id": "kOluMQfXSxib",
        "outputId": "63703d87-0414-4833-842a-74007b2a84ec"
      },
      "execution_count": null,
      "outputs": [
        {
          "output_type": "execute_result",
          "data": {
            "text/plain": [
              "array([15, 20, 25, 30])"
            ]
          },
          "metadata": {},
          "execution_count": 49
        }
      ]
    },
    {
      "cell_type": "code",
      "source": [
        "test2 = np.array([test, test1])"
      ],
      "metadata": {
        "id": "1NAgmNDSSzA8"
      },
      "execution_count": null,
      "outputs": []
    },
    {
      "cell_type": "code",
      "source": [
        "test2"
      ],
      "metadata": {
        "colab": {
          "base_uri": "https://localhost:8080/"
        },
        "id": "WDAB-SlcS9sF",
        "outputId": "60bb2f14-0643-4e33-8361-fd70d710e934"
      },
      "execution_count": null,
      "outputs": [
        {
          "output_type": "execute_result",
          "data": {
            "text/plain": [
              "array([[15, 20, 25, 30],\n",
              "       [15, 20, 25, 30]])"
            ]
          },
          "metadata": {},
          "execution_count": 52
        }
      ]
    },
    {
      "cell_type": "markdown",
      "metadata": {
        "id": "5sEbZrr8KLG3"
      },
      "source": [
        "numpy 사이즈에 관한 변수들 살펴보기"
      ]
    },
    {
      "cell_type": "code",
      "metadata": {
        "id": "aAfFXnSiZONt",
        "colab": {
          "base_uri": "https://localhost:8080/"
        },
        "outputId": "b29b92c2-f9f5-4878-fb03-fd280454cfed"
      },
      "source": [
        "dir(test2)"
      ],
      "execution_count": null,
      "outputs": [
        {
          "output_type": "execute_result",
          "data": {
            "text/plain": [
              "['T',\n",
              " '__abs__',\n",
              " '__add__',\n",
              " '__and__',\n",
              " '__array__',\n",
              " '__array_finalize__',\n",
              " '__array_function__',\n",
              " '__array_interface__',\n",
              " '__array_prepare__',\n",
              " '__array_priority__',\n",
              " '__array_struct__',\n",
              " '__array_ufunc__',\n",
              " '__array_wrap__',\n",
              " '__bool__',\n",
              " '__class__',\n",
              " '__class_getitem__',\n",
              " '__complex__',\n",
              " '__contains__',\n",
              " '__copy__',\n",
              " '__deepcopy__',\n",
              " '__delattr__',\n",
              " '__delitem__',\n",
              " '__dir__',\n",
              " '__divmod__',\n",
              " '__dlpack__',\n",
              " '__dlpack_device__',\n",
              " '__doc__',\n",
              " '__eq__',\n",
              " '__float__',\n",
              " '__floordiv__',\n",
              " '__format__',\n",
              " '__ge__',\n",
              " '__getattribute__',\n",
              " '__getitem__',\n",
              " '__gt__',\n",
              " '__hash__',\n",
              " '__iadd__',\n",
              " '__iand__',\n",
              " '__ifloordiv__',\n",
              " '__ilshift__',\n",
              " '__imatmul__',\n",
              " '__imod__',\n",
              " '__imul__',\n",
              " '__index__',\n",
              " '__init__',\n",
              " '__init_subclass__',\n",
              " '__int__',\n",
              " '__invert__',\n",
              " '__ior__',\n",
              " '__ipow__',\n",
              " '__irshift__',\n",
              " '__isub__',\n",
              " '__iter__',\n",
              " '__itruediv__',\n",
              " '__ixor__',\n",
              " '__le__',\n",
              " '__len__',\n",
              " '__lshift__',\n",
              " '__lt__',\n",
              " '__matmul__',\n",
              " '__mod__',\n",
              " '__mul__',\n",
              " '__ne__',\n",
              " '__neg__',\n",
              " '__new__',\n",
              " '__or__',\n",
              " '__pos__',\n",
              " '__pow__',\n",
              " '__radd__',\n",
              " '__rand__',\n",
              " '__rdivmod__',\n",
              " '__reduce__',\n",
              " '__reduce_ex__',\n",
              " '__repr__',\n",
              " '__rfloordiv__',\n",
              " '__rlshift__',\n",
              " '__rmatmul__',\n",
              " '__rmod__',\n",
              " '__rmul__',\n",
              " '__ror__',\n",
              " '__rpow__',\n",
              " '__rrshift__',\n",
              " '__rshift__',\n",
              " '__rsub__',\n",
              " '__rtruediv__',\n",
              " '__rxor__',\n",
              " '__setattr__',\n",
              " '__setitem__',\n",
              " '__setstate__',\n",
              " '__sizeof__',\n",
              " '__str__',\n",
              " '__sub__',\n",
              " '__subclasshook__',\n",
              " '__truediv__',\n",
              " '__xor__',\n",
              " 'all',\n",
              " 'any',\n",
              " 'argmax',\n",
              " 'argmin',\n",
              " 'argpartition',\n",
              " 'argsort',\n",
              " 'astype',\n",
              " 'base',\n",
              " 'byteswap',\n",
              " 'choose',\n",
              " 'clip',\n",
              " 'compress',\n",
              " 'conj',\n",
              " 'conjugate',\n",
              " 'copy',\n",
              " 'ctypes',\n",
              " 'cumprod',\n",
              " 'cumsum',\n",
              " 'data',\n",
              " 'diagonal',\n",
              " 'dot',\n",
              " 'dtype',\n",
              " 'dump',\n",
              " 'dumps',\n",
              " 'fill',\n",
              " 'flags',\n",
              " 'flat',\n",
              " 'flatten',\n",
              " 'getfield',\n",
              " 'imag',\n",
              " 'item',\n",
              " 'itemset',\n",
              " 'itemsize',\n",
              " 'max',\n",
              " 'mean',\n",
              " 'min',\n",
              " 'nbytes',\n",
              " 'ndim',\n",
              " 'newbyteorder',\n",
              " 'nonzero',\n",
              " 'partition',\n",
              " 'prod',\n",
              " 'ptp',\n",
              " 'put',\n",
              " 'ravel',\n",
              " 'real',\n",
              " 'repeat',\n",
              " 'reshape',\n",
              " 'resize',\n",
              " 'round',\n",
              " 'searchsorted',\n",
              " 'setfield',\n",
              " 'setflags',\n",
              " 'shape',\n",
              " 'size',\n",
              " 'sort',\n",
              " 'squeeze',\n",
              " 'std',\n",
              " 'strides',\n",
              " 'sum',\n",
              " 'swapaxes',\n",
              " 'take',\n",
              " 'tobytes',\n",
              " 'tofile',\n",
              " 'tolist',\n",
              " 'tostring',\n",
              " 'trace',\n",
              " 'transpose',\n",
              " 'var',\n",
              " 'view']"
            ]
          },
          "metadata": {},
          "execution_count": 56
        }
      ]
    },
    {
      "cell_type": "code",
      "source": [
        "test2"
      ],
      "metadata": {
        "colab": {
          "base_uri": "https://localhost:8080/"
        },
        "id": "6W6XPzOMWuMT",
        "outputId": "0f1a21ba-ed0c-4ab5-fca2-4df9e1d7ce5c"
      },
      "execution_count": null,
      "outputs": [
        {
          "output_type": "execute_result",
          "data": {
            "text/plain": [
              "array([[15, 20, 25, 30],\n",
              "       [15, 20, 25, 30]])"
            ]
          },
          "metadata": {},
          "execution_count": 59
        }
      ]
    },
    {
      "cell_type": "code",
      "source": [
        "test2.shape # (2, 4)  2 행 4 열  - 2차원"
      ],
      "metadata": {
        "colab": {
          "base_uri": "https://localhost:8080/"
        },
        "id": "zhIfm1-7Wqjr",
        "outputId": "b6282ce1-dea7-46b5-f152-c9580685bc87"
      },
      "execution_count": null,
      "outputs": [
        {
          "output_type": "execute_result",
          "data": {
            "text/plain": [
              "(2, 4)"
            ]
          },
          "metadata": {},
          "execution_count": 58
        }
      ]
    },
    {
      "cell_type": "code",
      "source": [
        "test"
      ],
      "metadata": {
        "colab": {
          "base_uri": "https://localhost:8080/"
        },
        "id": "whF8bI22XBbu",
        "outputId": "0126d115-8ef8-4920-8bfe-593364f4ce40"
      },
      "execution_count": null,
      "outputs": [
        {
          "output_type": "execute_result",
          "data": {
            "text/plain": [
              "array([15, 20, 25, 30])"
            ]
          },
          "metadata": {},
          "execution_count": 61
        }
      ]
    },
    {
      "cell_type": "code",
      "metadata": {
        "id": "bHMmN0RwKs46",
        "colab": {
          "base_uri": "https://localhost:8080/"
        },
        "outputId": "75a0ea6c-dea9-494c-f145-f0a046aafcac"
      },
      "source": [
        "test.shape # (4,)   - 1"
      ],
      "execution_count": null,
      "outputs": [
        {
          "output_type": "execute_result",
          "data": {
            "text/plain": [
              "(4,)"
            ]
          },
          "metadata": {},
          "execution_count": 60
        }
      ]
    },
    {
      "cell_type": "code",
      "metadata": {
        "id": "vu4kQg6qKvY3",
        "colab": {
          "base_uri": "https://localhost:8080/"
        },
        "outputId": "8bd7820a-6334-44ca-dbf7-e17e9aba4022"
      },
      "source": [
        "test2.ndim # n-dimension  차원을 알려주는 속성"
      ],
      "execution_count": null,
      "outputs": [
        {
          "output_type": "execute_result",
          "data": {
            "text/plain": [
              "2"
            ]
          },
          "metadata": {},
          "execution_count": 63
        }
      ]
    },
    {
      "cell_type": "code",
      "source": [
        "test2"
      ],
      "metadata": {
        "colab": {
          "base_uri": "https://localhost:8080/"
        },
        "id": "adDsBP2FXaau",
        "outputId": "3ace6c9d-dfdd-4888-8d87-ef53dc3c0df6"
      },
      "execution_count": null,
      "outputs": [
        {
          "output_type": "execute_result",
          "data": {
            "text/plain": [
              "array([[15, 20, 25, 30],\n",
              "       [15, 20, 25, 30]])"
            ]
          },
          "metadata": {},
          "execution_count": 65
        }
      ]
    },
    {
      "cell_type": "code",
      "metadata": {
        "id": "SW9LpYi-IZ0N",
        "colab": {
          "base_uri": "https://localhost:8080/"
        },
        "outputId": "e066fe22-348c-4108-9978-dfd90fb163c9"
      },
      "source": [
        "test2.dtype # dtype('int64') - 데이터타입"
      ],
      "execution_count": null,
      "outputs": [
        {
          "output_type": "execute_result",
          "data": {
            "text/plain": [
              "dtype('int64')"
            ]
          },
          "metadata": {},
          "execution_count": 64
        }
      ]
    },
    {
      "cell_type": "code",
      "metadata": {
        "id": "1eSeNP-cK22J",
        "colab": {
          "base_uri": "https://localhost:8080/"
        },
        "outputId": "c6d82c0a-26da-4489-853d-738aa2c5e9fd"
      },
      "source": [
        "test2.itemsize # 8byte  (64bit) - 방 하나에 몇바이트 용량인지"
      ],
      "execution_count": null,
      "outputs": [
        {
          "output_type": "execute_result",
          "data": {
            "text/plain": [
              "8"
            ]
          },
          "metadata": {},
          "execution_count": 66
        }
      ]
    },
    {
      "cell_type": "code",
      "source": [
        "test.itemsize"
      ],
      "metadata": {
        "colab": {
          "base_uri": "https://localhost:8080/"
        },
        "id": "J7zbxQIlXvlR",
        "outputId": "af35a93d-4a7a-4ee0-b19c-a1de76f02009"
      },
      "execution_count": null,
      "outputs": [
        {
          "output_type": "execute_result",
          "data": {
            "text/plain": [
              "8"
            ]
          },
          "metadata": {},
          "execution_count": 71
        }
      ]
    },
    {
      "cell_type": "code",
      "metadata": {
        "id": "WnxTjKOWK81q",
        "colab": {
          "base_uri": "https://localhost:8080/"
        },
        "outputId": "5246b01c-59cf-44d2-9302-43ddbaa63aba"
      },
      "source": [
        "test2.size # 8 몇개의 원소를 가지고 있는지(방이 몇개)"
      ],
      "execution_count": null,
      "outputs": [
        {
          "output_type": "execute_result",
          "data": {
            "text/plain": [
              "8"
            ]
          },
          "metadata": {},
          "execution_count": 67
        }
      ]
    },
    {
      "cell_type": "code",
      "source": [
        "test.size # 4"
      ],
      "metadata": {
        "id": "Kiq0CcwcbA5N",
        "colab": {
          "base_uri": "https://localhost:8080/"
        },
        "outputId": "ab7ad4b2-31ef-4558-eee5-f982a3bb609b"
      },
      "execution_count": null,
      "outputs": [
        {
          "output_type": "execute_result",
          "data": {
            "text/plain": [
              "4"
            ]
          },
          "metadata": {},
          "execution_count": 68
        }
      ]
    },
    {
      "cell_type": "markdown",
      "metadata": {
        "id": "lgl_tzgkC7Zt"
      },
      "source": [
        "각 원소에 5를 더하려면"
      ]
    },
    {
      "cell_type": "code",
      "metadata": {
        "id": "d3fecKmbyjVJ",
        "colab": {
          "base_uri": "https://localhost:8080/"
        },
        "outputId": "096ba8d2-2f44-4e48-effe-bdde07422da1"
      },
      "source": [
        "test2 + 5 # broadcasting"
      ],
      "execution_count": null,
      "outputs": [
        {
          "output_type": "execute_result",
          "data": {
            "text/plain": [
              "array([[20, 25, 30, 35],\n",
              "       [20, 25, 30, 35]])"
            ]
          },
          "metadata": {},
          "execution_count": 73
        }
      ]
    },
    {
      "cell_type": "code",
      "metadata": {
        "id": "yZtxmjyINRQA",
        "colab": {
          "base_uri": "https://localhost:8080/"
        },
        "outputId": "d38a7787-c8b6-472b-e448-9d14086b6fe3"
      },
      "source": [
        "test2 - 5"
      ],
      "execution_count": null,
      "outputs": [
        {
          "output_type": "execute_result",
          "data": {
            "text/plain": [
              "array([[10, 15, 20, 25],\n",
              "       [10, 15, 20, 25]])"
            ]
          },
          "metadata": {},
          "execution_count": 74
        }
      ]
    },
    {
      "cell_type": "code",
      "metadata": {
        "id": "yuls_cbjNUib",
        "colab": {
          "base_uri": "https://localhost:8080/"
        },
        "outputId": "c4e4dc4e-e6df-47d9-c75b-da233ebeea46"
      },
      "source": [
        "test2 ** 5"
      ],
      "execution_count": null,
      "outputs": [
        {
          "output_type": "execute_result",
          "data": {
            "text/plain": [
              "array([[  759375,  3200000,  9765625, 24300000],\n",
              "       [  759375,  3200000,  9765625, 24300000]])"
            ]
          },
          "metadata": {},
          "execution_count": 75
        }
      ]
    },
    {
      "cell_type": "code",
      "metadata": {
        "id": "XsFxvhPpNXDP",
        "colab": {
          "base_uri": "https://localhost:8080/"
        },
        "outputId": "eec42c83-0c25-4df3-94be-d985a4c4e7e2"
      },
      "source": [
        "test2 / 5"
      ],
      "execution_count": null,
      "outputs": [
        {
          "output_type": "execute_result",
          "data": {
            "text/plain": [
              "array([[3., 4., 5., 6.],\n",
              "       [3., 4., 5., 6.]])"
            ]
          },
          "metadata": {},
          "execution_count": 76
        }
      ]
    },
    {
      "cell_type": "code",
      "source": [
        "test2.append(35)"
      ],
      "metadata": {
        "id": "Rer04mGVe1Ta",
        "colab": {
          "base_uri": "https://localhost:8080/",
          "height": 174
        },
        "outputId": "c210f1fb-5541-464b-c403-10b68908c257"
      },
      "execution_count": null,
      "outputs": [
        {
          "output_type": "error",
          "ename": "AttributeError",
          "evalue": "ignored",
          "traceback": [
            "\u001b[0;31m---------------------------------------------------------------------------\u001b[0m",
            "\u001b[0;31mAttributeError\u001b[0m                            Traceback (most recent call last)",
            "\u001b[0;32m<ipython-input-77-89a012622396>\u001b[0m in \u001b[0;36m<cell line: 1>\u001b[0;34m()\u001b[0m\n\u001b[0;32m----> 1\u001b[0;31m \u001b[0mtest2\u001b[0m\u001b[0;34m.\u001b[0m\u001b[0mappend\u001b[0m\u001b[0;34m(\u001b[0m\u001b[0;36m35\u001b[0m\u001b[0;34m)\u001b[0m\u001b[0;34m\u001b[0m\u001b[0;34m\u001b[0m\u001b[0m\n\u001b[0m",
            "\u001b[0;31mAttributeError\u001b[0m: 'numpy.ndarray' object has no attribute 'append'"
          ]
        }
      ]
    },
    {
      "cell_type": "code",
      "source": [
        "dir(numpy)"
      ],
      "metadata": {
        "id": "oODQePahg8YJ",
        "colab": {
          "base_uri": "https://localhost:8080/"
        },
        "outputId": "e9d8dc71-b730-4ddc-eef3-8ee1ee00c02a"
      },
      "execution_count": null,
      "outputs": [
        {
          "output_type": "execute_result",
          "data": {
            "text/plain": [
              "['ALLOW_THREADS',\n",
              " 'AxisError',\n",
              " 'BUFSIZE',\n",
              " 'CLIP',\n",
              " 'ComplexWarning',\n",
              " 'DataSource',\n",
              " 'ERR_CALL',\n",
              " 'ERR_DEFAULT',\n",
              " 'ERR_IGNORE',\n",
              " 'ERR_LOG',\n",
              " 'ERR_PRINT',\n",
              " 'ERR_RAISE',\n",
              " 'ERR_WARN',\n",
              " 'FLOATING_POINT_SUPPORT',\n",
              " 'FPE_DIVIDEBYZERO',\n",
              " 'FPE_INVALID',\n",
              " 'FPE_OVERFLOW',\n",
              " 'FPE_UNDERFLOW',\n",
              " 'False_',\n",
              " 'Inf',\n",
              " 'Infinity',\n",
              " 'MAXDIMS',\n",
              " 'MAY_SHARE_BOUNDS',\n",
              " 'MAY_SHARE_EXACT',\n",
              " 'ModuleDeprecationWarning',\n",
              " 'NAN',\n",
              " 'NINF',\n",
              " 'NZERO',\n",
              " 'NaN',\n",
              " 'PINF',\n",
              " 'PZERO',\n",
              " 'RAISE',\n",
              " 'RankWarning',\n",
              " 'SHIFT_DIVIDEBYZERO',\n",
              " 'SHIFT_INVALID',\n",
              " 'SHIFT_OVERFLOW',\n",
              " 'SHIFT_UNDERFLOW',\n",
              " 'ScalarType',\n",
              " 'Tester',\n",
              " 'TooHardError',\n",
              " 'True_',\n",
              " 'UFUNC_BUFSIZE_DEFAULT',\n",
              " 'UFUNC_PYVALS_NAME',\n",
              " 'VisibleDeprecationWarning',\n",
              " 'WRAP',\n",
              " '_CopyMode',\n",
              " '_NoValue',\n",
              " '_UFUNC_API',\n",
              " '__NUMPY_SETUP__',\n",
              " '__all__',\n",
              " '__builtins__',\n",
              " '__cached__',\n",
              " '__config__',\n",
              " '__deprecated_attrs__',\n",
              " '__dir__',\n",
              " '__doc__',\n",
              " '__expired_functions__',\n",
              " '__file__',\n",
              " '__getattr__',\n",
              " '__git_version__',\n",
              " '__loader__',\n",
              " '__name__',\n",
              " '__package__',\n",
              " '__path__',\n",
              " '__spec__',\n",
              " '__version__',\n",
              " '_add_newdoc_ufunc',\n",
              " '_distributor_init',\n",
              " '_financial_names',\n",
              " '_from_dlpack',\n",
              " '_globals',\n",
              " '_mat',\n",
              " '_pytesttester',\n",
              " '_version',\n",
              " 'abs',\n",
              " 'absolute',\n",
              " 'add',\n",
              " 'add_docstring',\n",
              " 'add_newdoc',\n",
              " 'add_newdoc_ufunc',\n",
              " 'alen',\n",
              " 'all',\n",
              " 'allclose',\n",
              " 'alltrue',\n",
              " 'amax',\n",
              " 'amin',\n",
              " 'angle',\n",
              " 'any',\n",
              " 'append',\n",
              " 'apply_along_axis',\n",
              " 'apply_over_axes',\n",
              " 'arange',\n",
              " 'arccos',\n",
              " 'arccosh',\n",
              " 'arcsin',\n",
              " 'arcsinh',\n",
              " 'arctan',\n",
              " 'arctan2',\n",
              " 'arctanh',\n",
              " 'argmax',\n",
              " 'argmin',\n",
              " 'argpartition',\n",
              " 'argsort',\n",
              " 'argwhere',\n",
              " 'around',\n",
              " 'array',\n",
              " 'array2string',\n",
              " 'array_equal',\n",
              " 'array_equiv',\n",
              " 'array_repr',\n",
              " 'array_split',\n",
              " 'array_str',\n",
              " 'asanyarray',\n",
              " 'asarray',\n",
              " 'asarray_chkfinite',\n",
              " 'ascontiguousarray',\n",
              " 'asfarray',\n",
              " 'asfortranarray',\n",
              " 'asmatrix',\n",
              " 'asscalar',\n",
              " 'atleast_1d',\n",
              " 'atleast_2d',\n",
              " 'atleast_3d',\n",
              " 'average',\n",
              " 'bartlett',\n",
              " 'base_repr',\n",
              " 'binary_repr',\n",
              " 'bincount',\n",
              " 'bitwise_and',\n",
              " 'bitwise_not',\n",
              " 'bitwise_or',\n",
              " 'bitwise_xor',\n",
              " 'blackman',\n",
              " 'block',\n",
              " 'bmat',\n",
              " 'bool8',\n",
              " 'bool_',\n",
              " 'broadcast',\n",
              " 'broadcast_arrays',\n",
              " 'broadcast_shapes',\n",
              " 'broadcast_to',\n",
              " 'busday_count',\n",
              " 'busday_offset',\n",
              " 'busdaycalendar',\n",
              " 'byte',\n",
              " 'byte_bounds',\n",
              " 'bytes0',\n",
              " 'bytes_',\n",
              " 'c_',\n",
              " 'can_cast',\n",
              " 'cast',\n",
              " 'cbrt',\n",
              " 'cdouble',\n",
              " 'ceil',\n",
              " 'cfloat',\n",
              " 'char',\n",
              " 'character',\n",
              " 'chararray',\n",
              " 'choose',\n",
              " 'clip',\n",
              " 'clongdouble',\n",
              " 'clongfloat',\n",
              " 'column_stack',\n",
              " 'common_type',\n",
              " 'compare_chararrays',\n",
              " 'compat',\n",
              " 'complex128',\n",
              " 'complex256',\n",
              " 'complex64',\n",
              " 'complex_',\n",
              " 'complexfloating',\n",
              " 'compress',\n",
              " 'concatenate',\n",
              " 'conj',\n",
              " 'conjugate',\n",
              " 'convolve',\n",
              " 'copy',\n",
              " 'copysign',\n",
              " 'copyto',\n",
              " 'core',\n",
              " 'corrcoef',\n",
              " 'correlate',\n",
              " 'cos',\n",
              " 'cosh',\n",
              " 'count_nonzero',\n",
              " 'cov',\n",
              " 'cross',\n",
              " 'csingle',\n",
              " 'ctypeslib',\n",
              " 'cumprod',\n",
              " 'cumproduct',\n",
              " 'cumsum',\n",
              " 'datetime64',\n",
              " 'datetime_as_string',\n",
              " 'datetime_data',\n",
              " 'deg2rad',\n",
              " 'degrees',\n",
              " 'delete',\n",
              " 'deprecate',\n",
              " 'deprecate_with_doc',\n",
              " 'diag',\n",
              " 'diag_indices',\n",
              " 'diag_indices_from',\n",
              " 'diagflat',\n",
              " 'diagonal',\n",
              " 'diff',\n",
              " 'digitize',\n",
              " 'disp',\n",
              " 'divide',\n",
              " 'divmod',\n",
              " 'dot',\n",
              " 'double',\n",
              " 'dsplit',\n",
              " 'dstack',\n",
              " 'dtype',\n",
              " 'e',\n",
              " 'ediff1d',\n",
              " 'einsum',\n",
              " 'einsum_path',\n",
              " 'emath',\n",
              " 'empty',\n",
              " 'empty_like',\n",
              " 'equal',\n",
              " 'errstate',\n",
              " 'euler_gamma',\n",
              " 'exp',\n",
              " 'exp2',\n",
              " 'expand_dims',\n",
              " 'expm1',\n",
              " 'extract',\n",
              " 'eye',\n",
              " 'fabs',\n",
              " 'fastCopyAndTranspose',\n",
              " 'fft',\n",
              " 'fill_diagonal',\n",
              " 'find_common_type',\n",
              " 'finfo',\n",
              " 'fix',\n",
              " 'flatiter',\n",
              " 'flatnonzero',\n",
              " 'flexible',\n",
              " 'flip',\n",
              " 'fliplr',\n",
              " 'flipud',\n",
              " 'float128',\n",
              " 'float16',\n",
              " 'float32',\n",
              " 'float64',\n",
              " 'float_',\n",
              " 'float_power',\n",
              " 'floating',\n",
              " 'floor',\n",
              " 'floor_divide',\n",
              " 'fmax',\n",
              " 'fmin',\n",
              " 'fmod',\n",
              " 'format_float_positional',\n",
              " 'format_float_scientific',\n",
              " 'format_parser',\n",
              " 'frexp',\n",
              " 'frombuffer',\n",
              " 'fromfile',\n",
              " 'fromfunction',\n",
              " 'fromiter',\n",
              " 'frompyfunc',\n",
              " 'fromregex',\n",
              " 'fromstring',\n",
              " 'full',\n",
              " 'full_like',\n",
              " 'gcd',\n",
              " 'generic',\n",
              " 'genfromtxt',\n",
              " 'geomspace',\n",
              " 'get_array_wrap',\n",
              " 'get_include',\n",
              " 'get_printoptions',\n",
              " 'getbufsize',\n",
              " 'geterr',\n",
              " 'geterrcall',\n",
              " 'geterrobj',\n",
              " 'gradient',\n",
              " 'greater',\n",
              " 'greater_equal',\n",
              " 'half',\n",
              " 'hamming',\n",
              " 'hanning',\n",
              " 'heaviside',\n",
              " 'histogram',\n",
              " 'histogram2d',\n",
              " 'histogram_bin_edges',\n",
              " 'histogramdd',\n",
              " 'hsplit',\n",
              " 'hstack',\n",
              " 'hypot',\n",
              " 'i0',\n",
              " 'identity',\n",
              " 'iinfo',\n",
              " 'imag',\n",
              " 'in1d',\n",
              " 'index_exp',\n",
              " 'indices',\n",
              " 'inexact',\n",
              " 'inf',\n",
              " 'info',\n",
              " 'infty',\n",
              " 'inner',\n",
              " 'insert',\n",
              " 'int0',\n",
              " 'int16',\n",
              " 'int32',\n",
              " 'int64',\n",
              " 'int8',\n",
              " 'int_',\n",
              " 'intc',\n",
              " 'integer',\n",
              " 'interp',\n",
              " 'intersect1d',\n",
              " 'intp',\n",
              " 'invert',\n",
              " 'is_busday',\n",
              " 'isclose',\n",
              " 'iscomplex',\n",
              " 'iscomplexobj',\n",
              " 'isfinite',\n",
              " 'isfortran',\n",
              " 'isin',\n",
              " 'isinf',\n",
              " 'isnan',\n",
              " 'isnat',\n",
              " 'isneginf',\n",
              " 'isposinf',\n",
              " 'isreal',\n",
              " 'isrealobj',\n",
              " 'isscalar',\n",
              " 'issctype',\n",
              " 'issubclass_',\n",
              " 'issubdtype',\n",
              " 'issubsctype',\n",
              " 'iterable',\n",
              " 'ix_',\n",
              " 'kaiser',\n",
              " 'kernel_version',\n",
              " 'kron',\n",
              " 'lcm',\n",
              " 'ldexp',\n",
              " 'left_shift',\n",
              " 'less',\n",
              " 'less_equal',\n",
              " 'lexsort',\n",
              " 'lib',\n",
              " 'linalg',\n",
              " 'linspace',\n",
              " 'little_endian',\n",
              " 'load',\n",
              " 'loadtxt',\n",
              " 'log',\n",
              " 'log10',\n",
              " 'log1p',\n",
              " 'log2',\n",
              " 'logaddexp',\n",
              " 'logaddexp2',\n",
              " 'logical_and',\n",
              " 'logical_not',\n",
              " 'logical_or',\n",
              " 'logical_xor',\n",
              " 'logspace',\n",
              " 'longcomplex',\n",
              " 'longdouble',\n",
              " 'longfloat',\n",
              " 'longlong',\n",
              " 'lookfor',\n",
              " 'ma',\n",
              " 'mask_indices',\n",
              " 'mat',\n",
              " 'math',\n",
              " 'matmul',\n",
              " 'matrix',\n",
              " 'matrixlib',\n",
              " 'max',\n",
              " 'maximum',\n",
              " 'maximum_sctype',\n",
              " 'may_share_memory',\n",
              " 'mean',\n",
              " 'median',\n",
              " 'memmap',\n",
              " 'meshgrid',\n",
              " 'mgrid',\n",
              " 'min',\n",
              " 'min_scalar_type',\n",
              " 'minimum',\n",
              " 'mintypecode',\n",
              " 'mod',\n",
              " 'modf',\n",
              " 'moveaxis',\n",
              " 'msort',\n",
              " 'multiply',\n",
              " 'nan',\n",
              " 'nan_to_num',\n",
              " 'nanargmax',\n",
              " 'nanargmin',\n",
              " 'nancumprod',\n",
              " 'nancumsum',\n",
              " 'nanmax',\n",
              " 'nanmean',\n",
              " 'nanmedian',\n",
              " 'nanmin',\n",
              " 'nanpercentile',\n",
              " 'nanprod',\n",
              " 'nanquantile',\n",
              " 'nanstd',\n",
              " 'nansum',\n",
              " 'nanvar',\n",
              " 'nbytes',\n",
              " 'ndarray',\n",
              " 'ndenumerate',\n",
              " 'ndim',\n",
              " 'ndindex',\n",
              " 'nditer',\n",
              " 'negative',\n",
              " 'nested_iters',\n",
              " 'newaxis',\n",
              " 'nextafter',\n",
              " 'nonzero',\n",
              " 'not_equal',\n",
              " 'numarray',\n",
              " 'number',\n",
              " 'obj2sctype',\n",
              " 'object0',\n",
              " 'object_',\n",
              " 'ogrid',\n",
              " 'oldnumeric',\n",
              " 'ones',\n",
              " 'ones_like',\n",
              " 'os',\n",
              " 'outer',\n",
              " 'packbits',\n",
              " 'pad',\n",
              " 'partition',\n",
              " 'percentile',\n",
              " 'pi',\n",
              " 'piecewise',\n",
              " 'place',\n",
              " 'poly',\n",
              " 'poly1d',\n",
              " 'polyadd',\n",
              " 'polyder',\n",
              " 'polydiv',\n",
              " 'polyfit',\n",
              " 'polyint',\n",
              " 'polymul',\n",
              " 'polynomial',\n",
              " 'polysub',\n",
              " 'polyval',\n",
              " 'positive',\n",
              " 'power',\n",
              " 'printoptions',\n",
              " 'prod',\n",
              " 'product',\n",
              " 'promote_types',\n",
              " 'ptp',\n",
              " 'put',\n",
              " 'put_along_axis',\n",
              " 'putmask',\n",
              " 'quantile',\n",
              " 'r_',\n",
              " 'rad2deg',\n",
              " 'radians',\n",
              " 'random',\n",
              " 'ravel',\n",
              " 'ravel_multi_index',\n",
              " 'real',\n",
              " 'real_if_close',\n",
              " 'rec',\n",
              " 'recarray',\n",
              " 'recfromcsv',\n",
              " 'recfromtxt',\n",
              " 'reciprocal',\n",
              " 'record',\n",
              " 'remainder',\n",
              " 'repeat',\n",
              " 'require',\n",
              " 'reshape',\n",
              " 'resize',\n",
              " 'result_type',\n",
              " 'right_shift',\n",
              " 'rint',\n",
              " 'roll',\n",
              " 'rollaxis',\n",
              " 'roots',\n",
              " 'rot90',\n",
              " 'round',\n",
              " 'round_',\n",
              " 'row_stack',\n",
              " 's_',\n",
              " 'safe_eval',\n",
              " 'save',\n",
              " 'savetxt',\n",
              " 'savez',\n",
              " 'savez_compressed',\n",
              " 'sctype2char',\n",
              " 'sctypeDict',\n",
              " 'sctypes',\n",
              " 'searchsorted',\n",
              " 'select',\n",
              " 'set_numeric_ops',\n",
              " 'set_printoptions',\n",
              " 'set_string_function',\n",
              " 'setbufsize',\n",
              " 'setdiff1d',\n",
              " 'seterr',\n",
              " 'seterrcall',\n",
              " 'seterrobj',\n",
              " 'setxor1d',\n",
              " 'shape',\n",
              " 'shares_memory',\n",
              " 'short',\n",
              " 'show_config',\n",
              " 'sign',\n",
              " 'signbit',\n",
              " 'signedinteger',\n",
              " 'sin',\n",
              " 'sinc',\n",
              " 'single',\n",
              " 'singlecomplex',\n",
              " 'sinh',\n",
              " 'size',\n",
              " 'sometrue',\n",
              " 'sort',\n",
              " 'sort_complex',\n",
              " 'source',\n",
              " 'spacing',\n",
              " 'split',\n",
              " 'sqrt',\n",
              " 'square',\n",
              " 'squeeze',\n",
              " 'stack',\n",
              " 'std',\n",
              " 'str0',\n",
              " 'str_',\n",
              " 'string_',\n",
              " 'subtract',\n",
              " 'sum',\n",
              " 'swapaxes',\n",
              " 'sys',\n",
              " 'take',\n",
              " 'take_along_axis',\n",
              " 'tan',\n",
              " 'tanh',\n",
              " 'tensordot',\n",
              " 'test',\n",
              " 'testing',\n",
              " 'tile',\n",
              " 'timedelta64',\n",
              " 'trace',\n",
              " 'tracemalloc_domain',\n",
              " 'transpose',\n",
              " 'trapz',\n",
              " 'tri',\n",
              " 'tril',\n",
              " 'tril_indices',\n",
              " 'tril_indices_from',\n",
              " 'trim_zeros',\n",
              " 'triu',\n",
              " 'triu_indices',\n",
              " 'triu_indices_from',\n",
              " 'true_divide',\n",
              " 'trunc',\n",
              " 'typecodes',\n",
              " 'typename',\n",
              " 'ubyte',\n",
              " 'ufunc',\n",
              " 'uint',\n",
              " 'uint0',\n",
              " 'uint16',\n",
              " 'uint32',\n",
              " 'uint64',\n",
              " 'uint8',\n",
              " 'uintc',\n",
              " 'uintp',\n",
              " 'ulonglong',\n",
              " 'unicode_',\n",
              " 'union1d',\n",
              " 'unique',\n",
              " 'unpackbits',\n",
              " 'unravel_index',\n",
              " 'unsignedinteger',\n",
              " 'unwrap',\n",
              " 'use_hugepage',\n",
              " 'ushort',\n",
              " 'vander',\n",
              " 'var',\n",
              " 'vdot',\n",
              " 'vectorize',\n",
              " 'version',\n",
              " 'void',\n",
              " 'void0',\n",
              " 'vsplit',\n",
              " 'vstack',\n",
              " 'warnings',\n",
              " 'where',\n",
              " 'who',\n",
              " 'zeros',\n",
              " 'zeros_like']"
            ]
          },
          "metadata": {},
          "execution_count": 79
        }
      ]
    },
    {
      "cell_type": "code",
      "source": [
        "test3 = np.append(test2, 35)"
      ],
      "metadata": {
        "id": "J5KeUfYkhCV5"
      },
      "execution_count": null,
      "outputs": []
    },
    {
      "cell_type": "code",
      "source": [
        "test2"
      ],
      "metadata": {
        "colab": {
          "base_uri": "https://localhost:8080/"
        },
        "id": "QSdXHhq0ak-9",
        "outputId": "4c9dc6c8-fe40-4f8e-9375-944a18819f2e"
      },
      "execution_count": null,
      "outputs": [
        {
          "output_type": "execute_result",
          "data": {
            "text/plain": [
              "array([[15, 20, 25, 30],\n",
              "       [15, 20, 25, 30]])"
            ]
          },
          "metadata": {},
          "execution_count": 92
        }
      ]
    },
    {
      "cell_type": "code",
      "source": [
        "np.append(test2, [[35], [40]], 1)"
      ],
      "metadata": {
        "colab": {
          "base_uri": "https://localhost:8080/"
        },
        "id": "0iY9YdJudDLz",
        "outputId": "9c867289-a045-4511-a7fa-6df1406a2239"
      },
      "execution_count": null,
      "outputs": [
        {
          "output_type": "execute_result",
          "data": {
            "text/plain": [
              "array([[15, 20, 25, 30, 35],\n",
              "       [15, 20, 25, 30, 40]])"
            ]
          },
          "metadata": {},
          "execution_count": 103
        }
      ]
    },
    {
      "cell_type": "code",
      "source": [
        "np.append(test2, [[35], [40]], axis=1)"
      ],
      "metadata": {
        "colab": {
          "base_uri": "https://localhost:8080/"
        },
        "id": "VfNvX1j1cRWs",
        "outputId": "2f626b32-2551-4123-fb5b-5ba134562654"
      },
      "execution_count": null,
      "outputs": [
        {
          "output_type": "execute_result",
          "data": {
            "text/plain": [
              "array([[15, 20, 25, 30, 35],\n",
              "       [15, 20, 25, 30, 40]])"
            ]
          },
          "metadata": {},
          "execution_count": 100
        }
      ]
    },
    {
      "cell_type": "code",
      "source": [
        "np.append(test2, [[35,40, 45, 50]], axis=0)"
      ],
      "metadata": {
        "colab": {
          "base_uri": "https://localhost:8080/"
        },
        "id": "IXtXULRCc53V",
        "outputId": "9e6046e6-5754-43b8-ce47-dc22bfec9efd"
      },
      "execution_count": null,
      "outputs": [
        {
          "output_type": "execute_result",
          "data": {
            "text/plain": [
              "array([[15, 20, 25, 30],\n",
              "       [15, 20, 25, 30],\n",
              "       [35, 40, 45, 50]])"
            ]
          },
          "metadata": {},
          "execution_count": 102
        }
      ]
    },
    {
      "cell_type": "code",
      "source": [
        "[1,2,3].append(4)"
      ],
      "metadata": {
        "id": "sH_AhXFxantW"
      },
      "execution_count": null,
      "outputs": []
    },
    {
      "cell_type": "code",
      "source": [
        "# 파이썬의 내장함수 append는 리스트를 파괴하고 요청한 원소를 추가하는 파괴적 함수\n",
        "# 91년에 만들어진 언어라서 속도 때문에 원본을 2개 복사할 수 없으니까\n",
        "# append 를 했을 때 원본을 변경하는 방식으로 구현이 되어있었습니다\n",
        "\n",
        "# 데이터 관련 패키지들은 내장 append만큼 메모리를 아낄 필요가 없기 때문에\n",
        "# 원본은 그대로 두고, 비파괴적으로 구현이 된다"
      ],
      "metadata": {
        "id": "UyBfY7t1hP9a",
        "colab": {
          "base_uri": "https://localhost:8080/",
          "height": 174
        },
        "outputId": "4d56d4ba-47bb-4dd6-84d7-b8557711734e"
      },
      "execution_count": null,
      "outputs": [
        {
          "output_type": "error",
          "ename": "AttributeError",
          "evalue": "ignored",
          "traceback": [
            "\u001b[0;31m---------------------------------------------------------------------------\u001b[0m",
            "\u001b[0;31mAttributeError\u001b[0m                            Traceback (most recent call last)",
            "\u001b[0;32m<ipython-input-81-89a012622396>\u001b[0m in \u001b[0;36m<cell line: 1>\u001b[0;34m()\u001b[0m\n\u001b[0;32m----> 1\u001b[0;31m \u001b[0mtest2\u001b[0m\u001b[0;34m.\u001b[0m\u001b[0mappend\u001b[0m\u001b[0;34m(\u001b[0m\u001b[0;36m35\u001b[0m\u001b[0;34m)\u001b[0m\u001b[0;34m\u001b[0m\u001b[0;34m\u001b[0m\u001b[0m\n\u001b[0m",
            "\u001b[0;31mAttributeError\u001b[0m: 'numpy.ndarray' object has no attribute 'append'"
          ]
        }
      ]
    },
    {
      "cell_type": "code",
      "source": [
        "test2"
      ],
      "metadata": {
        "colab": {
          "base_uri": "https://localhost:8080/"
        },
        "id": "-8BQnE_9blYZ",
        "outputId": "32f81df4-269f-4cda-f8b8-fd368f64f2aa"
      },
      "execution_count": null,
      "outputs": [
        {
          "output_type": "execute_result",
          "data": {
            "text/plain": [
              "array([[15, 20, 25, 30],\n",
              "       [15, 20, 25, 30]])"
            ]
          },
          "metadata": {},
          "execution_count": 87
        }
      ]
    },
    {
      "cell_type": "code",
      "source": [
        "np.delete(test2, 0)"
      ],
      "metadata": {
        "id": "bP2ocL1bhqAO",
        "colab": {
          "base_uri": "https://localhost:8080/"
        },
        "outputId": "56a0cde7-a897-469d-ba81-3ba7e4532994"
      },
      "execution_count": null,
      "outputs": [
        {
          "output_type": "execute_result",
          "data": {
            "text/plain": [
              "array([20, 25, 30, 15, 20, 25, 30])"
            ]
          },
          "metadata": {},
          "execution_count": 86
        }
      ]
    },
    {
      "cell_type": "code",
      "source": [
        "np.delete(test2, 0, axis=0) # axis=0 : 행"
      ],
      "metadata": {
        "colab": {
          "base_uri": "https://localhost:8080/"
        },
        "id": "BFnhqx9DbwEF",
        "outputId": "4858ed15-69a8-45d7-df07-21d945f88304"
      },
      "execution_count": null,
      "outputs": [
        {
          "output_type": "execute_result",
          "data": {
            "text/plain": [
              "array([[15, 20, 25, 30]])"
            ]
          },
          "metadata": {},
          "execution_count": 90
        }
      ]
    },
    {
      "cell_type": "code",
      "source": [
        "np.delete(test2, 0, axis=1) # axis=1 : 열"
      ],
      "metadata": {
        "colab": {
          "base_uri": "https://localhost:8080/"
        },
        "id": "M8y-oWh5cFZ-",
        "outputId": "3ce1a41e-ff95-4989-b192-e74d9431de74"
      },
      "execution_count": null,
      "outputs": [
        {
          "output_type": "execute_result",
          "data": {
            "text/plain": [
              "array([[20, 25, 30],\n",
              "       [20, 25, 30]])"
            ]
          },
          "metadata": {},
          "execution_count": 91
        }
      ]
    },
    {
      "cell_type": "code",
      "source": [
        "np.delete(test2, 1)"
      ],
      "metadata": {
        "id": "deN8GXG3hsYx",
        "colab": {
          "base_uri": "https://localhost:8080/"
        },
        "outputId": "ed2d487e-9fb1-49a1-ff1d-4ddcd2c222c6"
      },
      "execution_count": null,
      "outputs": [
        {
          "output_type": "execute_result",
          "data": {
            "text/plain": [
              "array([15, 25, 30, 15, 20, 25, 30])"
            ]
          },
          "metadata": {},
          "execution_count": 88
        }
      ]
    },
    {
      "cell_type": "code",
      "source": [
        "np.delete(test2, -1)"
      ],
      "metadata": {
        "id": "FfWiMy5zgkXB",
        "colab": {
          "base_uri": "https://localhost:8080/"
        },
        "outputId": "8d5284cc-4e73-418c-da9a-43997dffc5a6"
      },
      "execution_count": null,
      "outputs": [
        {
          "output_type": "execute_result",
          "data": {
            "text/plain": [
              "array([15, 20, 25, 30, 15, 20, 25])"
            ]
          },
          "metadata": {},
          "execution_count": 89
        }
      ]
    },
    {
      "cell_type": "markdown",
      "source": [
        "자료의 차원을 확인하는 것은 매주 중요합니다.\n",
        "- 자료의 차원이 다르면, 알고리즘이 동작하지 않게 됩니다.\n",
        "  - 알고리즘을 직접 작성하지는 않고, 잘 만들어진 라이브러리를 이용하게 됩니다.\n",
        "  - 자료의 차원을 고려해서 사용을 해야 합니다.\n",
        "\n",
        "\n",
        "### 2차원 배열\n",
        "- 우리가 주로 다루게 되는 배열은 2차원입니다.\n",
        "  - 자료가 대부분 2차원입니다.\n",
        "  - 수업시간에도 2차원 배열까지만 확인을 합니다.\n",
        "- 리스트와 동일하게, 배열의 원소로 배열을 갖는 배열 정도로 이해"
      ],
      "metadata": {
        "id": "lxBOuv8ubnjI"
      }
    },
    {
      "cell_type": "markdown",
      "metadata": {
        "id": "0tvgQrXOC-U9"
      },
      "source": [
        "NumPy에 구현된 메서드를 활용해 합이나 평균도 쉽게 구할 수 있습니다."
      ]
    },
    {
      "cell_type": "code",
      "source": [
        "test2"
      ],
      "metadata": {
        "colab": {
          "base_uri": "https://localhost:8080/"
        },
        "id": "5yGGpwaoeAPK",
        "outputId": "69eb60a3-c8c2-4a6f-96a2-e0b73d97d744"
      },
      "execution_count": null,
      "outputs": [
        {
          "output_type": "execute_result",
          "data": {
            "text/plain": [
              "array([[15, 20, 25, 30],\n",
              "       [15, 20, 25, 30]])"
            ]
          },
          "metadata": {},
          "execution_count": 108
        }
      ]
    },
    {
      "cell_type": "code",
      "metadata": {
        "id": "ZSoke9ZuGTO9",
        "colab": {
          "base_uri": "https://localhost:8080/"
        },
        "outputId": "e245648b-8710-4d85-cc2b-8d0d53459cc6"
      },
      "source": [
        "test2.T"
      ],
      "execution_count": null,
      "outputs": [
        {
          "output_type": "execute_result",
          "data": {
            "text/plain": [
              "array([[15, 15],\n",
              "       [20, 20],\n",
              "       [25, 25],\n",
              "       [30, 30]])"
            ]
          },
          "metadata": {},
          "execution_count": 107
        }
      ]
    },
    {
      "cell_type": "code",
      "source": [
        "test2.transpose()"
      ],
      "metadata": {
        "id": "u1rkcqSQidJA",
        "colab": {
          "base_uri": "https://localhost:8080/"
        },
        "outputId": "2a0db3d9-3da1-4eab-fc13-538b165d1b6d"
      },
      "execution_count": null,
      "outputs": [
        {
          "output_type": "execute_result",
          "data": {
            "text/plain": [
              "array([[15, 15],\n",
              "       [20, 20],\n",
              "       [25, 25],\n",
              "       [30, 30]])"
            ]
          },
          "metadata": {},
          "execution_count": 109
        }
      ]
    },
    {
      "cell_type": "code",
      "source": [
        "test2"
      ],
      "metadata": {
        "colab": {
          "base_uri": "https://localhost:8080/"
        },
        "id": "Tps6UI8eeSXe",
        "outputId": "7e317db5-52c7-4068-d492-b7d00cfbb653"
      },
      "execution_count": null,
      "outputs": [
        {
          "output_type": "execute_result",
          "data": {
            "text/plain": [
              "array([[15, 20, 25, 30],\n",
              "       [15, 20, 25, 30]])"
            ]
          },
          "metadata": {},
          "execution_count": 111
        }
      ]
    },
    {
      "cell_type": "code",
      "metadata": {
        "id": "io9nIHuLDAYn",
        "colab": {
          "base_uri": "https://localhost:8080/"
        },
        "outputId": "10c5ae81-27da-43e4-a234-1544f9a50856"
      },
      "source": [
        "np.sum(test2, 0)"
      ],
      "execution_count": null,
      "outputs": [
        {
          "output_type": "execute_result",
          "data": {
            "text/plain": [
              "array([30, 40, 50, 60])"
            ]
          },
          "metadata": {},
          "execution_count": 112
        }
      ]
    },
    {
      "cell_type": "code",
      "metadata": {
        "id": "BH6aQH46LSZm",
        "colab": {
          "base_uri": "https://localhost:8080/"
        },
        "outputId": "211a15c9-d7de-45be-f913-41d51ceaea22"
      },
      "source": [
        "np.sum(test2, 1)"
      ],
      "execution_count": null,
      "outputs": [
        {
          "output_type": "execute_result",
          "data": {
            "text/plain": [
              "array([90, 90])"
            ]
          },
          "metadata": {},
          "execution_count": 113
        }
      ]
    },
    {
      "cell_type": "code",
      "metadata": {
        "id": "_N0UYAnMdt5T",
        "colab": {
          "base_uri": "https://localhost:8080/"
        },
        "outputId": "32624949-d534-4284-f526-dbfcb94904f6"
      },
      "source": [
        "test2.sum()"
      ],
      "execution_count": null,
      "outputs": [
        {
          "output_type": "execute_result",
          "data": {
            "text/plain": [
              "180"
            ]
          },
          "metadata": {},
          "execution_count": 114
        }
      ]
    },
    {
      "cell_type": "code",
      "source": [
        "test2.sum(1)"
      ],
      "metadata": {
        "colab": {
          "base_uri": "https://localhost:8080/"
        },
        "id": "JrYgKzhAehgU",
        "outputId": "857765ee-b0b8-4101-e0c7-2d2f925900e3"
      },
      "execution_count": null,
      "outputs": [
        {
          "output_type": "execute_result",
          "data": {
            "text/plain": [
              "array([90, 90])"
            ]
          },
          "metadata": {},
          "execution_count": 115
        }
      ]
    },
    {
      "cell_type": "code",
      "source": [
        "test2.mean()"
      ],
      "metadata": {
        "colab": {
          "base_uri": "https://localhost:8080/"
        },
        "id": "ieMcTiv9ekBy",
        "outputId": "50286041-e5e2-4cf7-a01d-55669f96a90c"
      },
      "execution_count": null,
      "outputs": [
        {
          "output_type": "execute_result",
          "data": {
            "text/plain": [
              "22.5"
            ]
          },
          "metadata": {},
          "execution_count": 116
        }
      ]
    },
    {
      "cell_type": "code",
      "source": [
        "test2.mean(0)"
      ],
      "metadata": {
        "colab": {
          "base_uri": "https://localhost:8080/"
        },
        "id": "P6GMRCiCemYs",
        "outputId": "13af4fed-61b9-492c-d824-3fa74f5824e5"
      },
      "execution_count": null,
      "outputs": [
        {
          "output_type": "execute_result",
          "data": {
            "text/plain": [
              "array([15., 20., 25., 30.])"
            ]
          },
          "metadata": {},
          "execution_count": 117
        }
      ]
    },
    {
      "cell_type": "code",
      "source": [
        "test2.mean(1)"
      ],
      "metadata": {
        "colab": {
          "base_uri": "https://localhost:8080/"
        },
        "id": "zM1XqRBReo9S",
        "outputId": "7e662ca6-42c9-4e91-e51a-4c100e322877"
      },
      "execution_count": null,
      "outputs": [
        {
          "output_type": "execute_result",
          "data": {
            "text/plain": [
              "array([22.5, 22.5])"
            ]
          },
          "metadata": {},
          "execution_count": 118
        }
      ]
    },
    {
      "cell_type": "code",
      "source": [
        "test2.var() # 분산"
      ],
      "metadata": {
        "colab": {
          "base_uri": "https://localhost:8080/"
        },
        "id": "DBG3ehEBerto",
        "outputId": "08c0073c-416b-4053-92d8-4f7a95a7f2af"
      },
      "execution_count": null,
      "outputs": [
        {
          "output_type": "execute_result",
          "data": {
            "text/plain": [
              "31.25"
            ]
          },
          "metadata": {},
          "execution_count": 119
        }
      ]
    },
    {
      "cell_type": "code",
      "source": [
        "test2.std() # 표준편차"
      ],
      "metadata": {
        "colab": {
          "base_uri": "https://localhost:8080/"
        },
        "id": "LL14bQ71et7k",
        "outputId": "c0ceb05d-fa76-4969-b5f9-f5ec74b039a6"
      },
      "execution_count": null,
      "outputs": [
        {
          "output_type": "execute_result",
          "data": {
            "text/plain": [
              "5.5901699437494745"
            ]
          },
          "metadata": {},
          "execution_count": 120
        }
      ]
    },
    {
      "cell_type": "code",
      "source": [
        "test2.max()"
      ],
      "metadata": {
        "colab": {
          "base_uri": "https://localhost:8080/"
        },
        "id": "MnSaT7vYex7E",
        "outputId": "24aae927-9680-4c54-86ce-417b4765a69e"
      },
      "execution_count": null,
      "outputs": [
        {
          "output_type": "execute_result",
          "data": {
            "text/plain": [
              "30"
            ]
          },
          "metadata": {},
          "execution_count": 123
        }
      ]
    },
    {
      "cell_type": "code",
      "source": [
        "test2.min()"
      ],
      "metadata": {
        "colab": {
          "base_uri": "https://localhost:8080/"
        },
        "id": "dAJCQ6Rbe7hI",
        "outputId": "67283180-fbac-4fbd-ca69-94d70cca2104"
      },
      "execution_count": null,
      "outputs": [
        {
          "output_type": "execute_result",
          "data": {
            "text/plain": [
              "15"
            ]
          },
          "metadata": {},
          "execution_count": 125
        }
      ]
    },
    {
      "cell_type": "code",
      "source": [
        "test2"
      ],
      "metadata": {
        "colab": {
          "base_uri": "https://localhost:8080/"
        },
        "id": "MKvfde3kfCJp",
        "outputId": "968fd8bd-5072-4aba-9f49-c7fe846d2f1b"
      },
      "execution_count": null,
      "outputs": [
        {
          "output_type": "execute_result",
          "data": {
            "text/plain": [
              "array([[15, 20, 25, 30],\n",
              "       [15, 20, 25, 30]])"
            ]
          },
          "metadata": {},
          "execution_count": 127
        }
      ]
    },
    {
      "cell_type": "code",
      "source": [
        "test2.argmax(1) # 가장 큰 값이 있는 인덱스번호를 출력"
      ],
      "metadata": {
        "colab": {
          "base_uri": "https://localhost:8080/"
        },
        "id": "r_m-CYLoe_Pk",
        "outputId": "29002d72-512d-4986-9f71-49365b080b21"
      },
      "execution_count": null,
      "outputs": [
        {
          "output_type": "execute_result",
          "data": {
            "text/plain": [
              "array([3, 3])"
            ]
          },
          "metadata": {},
          "execution_count": 131
        }
      ]
    },
    {
      "cell_type": "code",
      "source": [
        "test2.argmin(0)"
      ],
      "metadata": {
        "colab": {
          "base_uri": "https://localhost:8080/"
        },
        "id": "ueY8gQzwfJPz",
        "outputId": "17fe3f47-d82c-433b-d36b-5382caebd222"
      },
      "execution_count": null,
      "outputs": [
        {
          "output_type": "execute_result",
          "data": {
            "text/plain": [
              "array([0, 0, 0, 0])"
            ]
          },
          "metadata": {},
          "execution_count": 133
        }
      ]
    },
    {
      "cell_type": "markdown",
      "metadata": {
        "id": "k_Ha7m_6oaVw"
      },
      "source": [
        "![alt text](https://lh3.googleusercontent.com/zXC7mbgObMUkQoUnkfMvog5wU8Qh2bvLEwINZo7eilDpq_aun8c3D_qCvaCZhQQLnC-iz7XxFP3iWylf3RZWNsKUaw2MFU0c4Oiu3cbZIPM4AsgSSUVYlDzZKVgG-ldbaEt2vty-cqaHNqrIYNPjsN6n8gT5XbJPqEk5GJjjTfL61t5ugfaDtHjbskwoZm45x8xbWJgkilc8fZ70hWGr8tpskk_5P4G3dI9zy0-ZNTDF9R2nGknAjcmCT3cP5nKhL0YM8mhhbWxS7jTotR1A-hKBPRXbu-5tFa1W54F8k4Do17Wvhz_JNaj0EX-5z0BT8ryE6XPvsJd4vlQAAzwYKdy9oIL7KYzTiIy3vi7MicCg7opIc87ueczPBpZUv2vczrUzzOT-6Yczc9Ay2UPvzyS6SmB2QJI2gGXXvdRFZAElecn83X98psuIHAGx7xii7OplLOQLNaDN3o0tCt4v0e2mgnP8zU87MfUGMCgs-zJwCZYeJz-2rt1EHGGk0IuiiDJQ-R_X91KUE1Z76VOHOjBt_saj-UJ40dTB2w_ITArQa1dH2GhPZCz7wC4_UmwYlr1BHUiohA1ByDBHRB2cA8sBF5MU3s7F1KKWPQUcBQqf2NhQgUJTYWnvWUrgqdmvEKRVRiXwqlJiwGVc1_nCFUAOtzXqLtJAvT0mlKso-GUEPy6NPFjR-Yvv4ci_QFfhtUh87MyVYTEphY7xcNwTaswPqw=w652-h341-no)"
      ]
    },
    {
      "cell_type": "markdown",
      "metadata": {
        "id": "qqHi1cKncSLU"
      },
      "source": [
        "### 실습. numpy의 ndarray를 활용하여 위의 실습을 다시 해 볼게요!"
      ]
    },
    {
      "cell_type": "markdown",
      "metadata": {
        "id": "P4gSmCSUcjtU"
      },
      "source": [
        "실습0 : [15, 20, 25]이 들어있는 ndarray를 만들어주세요."
      ]
    },
    {
      "cell_type": "code",
      "metadata": {
        "id": "dVysN2skchNd"
      },
      "source": [
        "a = [15, 20, 25]"
      ],
      "execution_count": null,
      "outputs": []
    },
    {
      "cell_type": "code",
      "source": [
        "test = np.array(a)"
      ],
      "metadata": {
        "id": "Ps4mjd8UmIqa"
      },
      "execution_count": null,
      "outputs": []
    },
    {
      "cell_type": "code",
      "source": [
        "test"
      ],
      "metadata": {
        "id": "VEiyvtJdmJ_3",
        "colab": {
          "base_uri": "https://localhost:8080/"
        },
        "outputId": "50c8880d-a267-4434-a36b-eb03a548f81e"
      },
      "execution_count": null,
      "outputs": [
        {
          "output_type": "execute_result",
          "data": {
            "text/plain": [
              "array([15, 20, 25])"
            ]
          },
          "metadata": {},
          "execution_count": 143
        }
      ]
    },
    {
      "cell_type": "code",
      "source": [
        "type(test)"
      ],
      "metadata": {
        "id": "XJanKfEFmMqu",
        "colab": {
          "base_uri": "https://localhost:8080/"
        },
        "outputId": "75c1cfe8-ac2c-4809-e154-0a5e3535ca7e"
      },
      "execution_count": null,
      "outputs": [
        {
          "output_type": "execute_result",
          "data": {
            "text/plain": [
              "numpy.ndarray"
            ]
          },
          "metadata": {},
          "execution_count": 137
        }
      ]
    },
    {
      "cell_type": "markdown",
      "metadata": {
        "id": "rvyR1ycHcQHe"
      },
      "source": [
        "실습1 : test변수에 들어있는 점수들의 합(testTotal)과, 평균(testAvg)을 구하여 출력하세요."
      ]
    },
    {
      "cell_type": "code",
      "metadata": {
        "id": "IbbAFg8ecQHf"
      },
      "source": [
        "testTotal = np.sum(test)"
      ],
      "execution_count": null,
      "outputs": []
    },
    {
      "cell_type": "code",
      "source": [
        "testTotal = test.sum()"
      ],
      "metadata": {
        "id": "HORstnvcmWIP"
      },
      "execution_count": null,
      "outputs": []
    },
    {
      "cell_type": "code",
      "source": [
        "testTotal"
      ],
      "metadata": {
        "id": "2tv1NoMXmdIF",
        "colab": {
          "base_uri": "https://localhost:8080/"
        },
        "outputId": "e55b991b-0414-4ad4-d43d-140e79c6b101"
      },
      "execution_count": null,
      "outputs": [
        {
          "output_type": "execute_result",
          "data": {
            "text/plain": [
              "60"
            ]
          },
          "metadata": {},
          "execution_count": 146
        }
      ]
    },
    {
      "cell_type": "code",
      "source": [
        "testAvg = test.mean()"
      ],
      "metadata": {
        "id": "ow987rfkyK0J"
      },
      "execution_count": null,
      "outputs": []
    },
    {
      "cell_type": "code",
      "source": [
        "testAvg"
      ],
      "metadata": {
        "colab": {
          "base_uri": "https://localhost:8080/"
        },
        "id": "rI2jQfSgyNol",
        "outputId": "7c74cfd3-24d5-44d1-efa4-a8816e24de05"
      },
      "execution_count": null,
      "outputs": [
        {
          "output_type": "execute_result",
          "data": {
            "text/plain": [
              "20.0"
            ]
          },
          "metadata": {},
          "execution_count": 150
        }
      ]
    },
    {
      "cell_type": "code",
      "source": [
        "'사과나무'.find('무')"
      ],
      "metadata": {
        "colab": {
          "base_uri": "https://localhost:8080/"
        },
        "id": "UoivHlXex_BT",
        "outputId": "9865f621-ea92-405f-b9a5-a00472e7050b"
      },
      "execution_count": null,
      "outputs": [
        {
          "output_type": "execute_result",
          "data": {
            "text/plain": [
              "3"
            ]
          },
          "metadata": {},
          "execution_count": 147
        }
      ]
    },
    {
      "cell_type": "code",
      "source": [
        "str.find('사과나무', '무')"
      ],
      "metadata": {
        "colab": {
          "base_uri": "https://localhost:8080/"
        },
        "id": "vAiXEbTpyB5p",
        "outputId": "d79cf44d-91d0-4009-d748-dc8c9489d28c"
      },
      "execution_count": null,
      "outputs": [
        {
          "output_type": "execute_result",
          "data": {
            "text/plain": [
              "3"
            ]
          },
          "metadata": {},
          "execution_count": 148
        }
      ]
    },
    {
      "cell_type": "markdown",
      "metadata": {
        "id": "lr5FbI3icQHf"
      },
      "source": [
        "빼먹은 30점짜리 시험지를 발견했다!! 이 학생의 성적을 추가한 점수들의 합과 평균을 구하려면 어떻게 해야 할까요?\n",
        "\n",
        "새로운 변수를 추가해야 합니다.\n",
        "\n",
        "실습2. 변수 test에 30을 추가해주세요."
      ]
    },
    {
      "cell_type": "code",
      "metadata": {
        "id": "Re-3bTp7cQHf"
      },
      "source": [
        "test = np.append(test, 30) # 결과를 리턴해준다는 건 -> 원본이 바뀌지 않았다는 의미"
      ],
      "execution_count": null,
      "outputs": []
    },
    {
      "cell_type": "code",
      "source": [],
      "metadata": {
        "id": "OT1Mq-mmnOqM"
      },
      "execution_count": null,
      "outputs": []
    },
    {
      "cell_type": "code",
      "source": [],
      "metadata": {
        "id": "uifmMSPsnOh9"
      },
      "execution_count": null,
      "outputs": []
    },
    {
      "cell_type": "markdown",
      "metadata": {
        "id": "t0f2LjjTcQHg"
      },
      "source": [
        "실습3. 새로운 학생이 본 시험점수를 더해 총합과 평균을 구해주세요."
      ]
    },
    {
      "cell_type": "code",
      "metadata": {
        "id": "Rie-2TeAcQHh",
        "colab": {
          "base_uri": "https://localhost:8080/"
        },
        "outputId": "b0c47722-c049-427f-b050-12cb9efe58f9"
      },
      "source": [
        "test.sum()"
      ],
      "execution_count": null,
      "outputs": [
        {
          "output_type": "execute_result",
          "data": {
            "text/plain": [
              "90"
            ]
          },
          "metadata": {},
          "execution_count": 154
        }
      ]
    },
    {
      "cell_type": "code",
      "source": [
        "test.mean() # ndarray라는 넘파이의 자료형이 가지고 있는 인스턴스메소드들로 웬만한 연산 가능"
      ],
      "metadata": {
        "id": "q--573Jtm_C3",
        "colab": {
          "base_uri": "https://localhost:8080/"
        },
        "outputId": "ada77d34-95cc-4b75-b0eb-2fc0e2fe8a39"
      },
      "execution_count": null,
      "outputs": [
        {
          "output_type": "execute_result",
          "data": {
            "text/plain": [
              "22.5"
            ]
          },
          "metadata": {},
          "execution_count": 155
        }
      ]
    },
    {
      "cell_type": "code",
      "source": [],
      "metadata": {
        "id": "x1la9c--m_C3"
      },
      "execution_count": null,
      "outputs": []
    },
    {
      "cell_type": "markdown",
      "metadata": {
        "id": "hd_jm9dwcQHh"
      },
      "source": [
        "실습4. 그렇다면 시험문제의 오류가 발견되어 모두 정답처리를 해 모든 학생의 점수를 5점씩 올려줘야 하는 상황에서는 어떻게 해야할까요?"
      ]
    },
    {
      "cell_type": "code",
      "metadata": {
        "id": "KL0req2bcQHh",
        "colab": {
          "base_uri": "https://localhost:8080/"
        },
        "outputId": "b8c6240d-64de-412e-8747-31c28e4cfb9f"
      },
      "source": [
        "test + 5 # 브로드캐스팅"
      ],
      "execution_count": null,
      "outputs": [
        {
          "output_type": "execute_result",
          "data": {
            "text/plain": [
              "array([20, 25, 30, 35])"
            ]
          },
          "metadata": {},
          "execution_count": 156
        }
      ]
    },
    {
      "cell_type": "markdown",
      "metadata": {
        "id": "Qf7bKtb5dfhb"
      },
      "source": [
        "완벼크."
      ]
    },
    {
      "cell_type": "markdown",
      "metadata": {
        "id": "UzwJlSsmPtTq"
      },
      "source": [
        "### (참고) ndarray가 list보다 빠른 이유"
      ]
    },
    {
      "cell_type": "markdown",
      "metadata": {
        "id": "gEqzxKWIMXSv"
      },
      "source": [
        "![alt text](https://lh3.googleusercontent.com/JD1ljKEm4S_4hvIu8XqTLUw75AjB6K-ElhXY6oMqBiPVEPIkNpHjlMLKsTbpWMIXOZ1X3Ompb-v3lI5FHqlyWWOFR0Pg3vLsio9_8OSgFoAywjGAC6oY85kCahlx-rJtSqW9M3szyXBVjrnlUYIo3opwX7ch7BYaV6sLReXAOwcJThS4f-E-PQWOzwSsCerL_-QEi_wcEV_4Aef_q0u9lrcjvZX-OwW-AcSILKPIB3yoZar4zTTOPHz-miQ4yq2gOktHY1wR4izuJ5SmIT2feKEdP6sD5So8I24vdt1mKKjro3fQenb9ExtH-zAxlJQarxaDnklts7801rG56sa6sE69ZJBp3ZzJ8qr59SM1xf2t9dU1WHcIvMWM5g39B85aIYHRCFmqfwaAx6Gl8x7To_33nyLpc8hA6gIbPQ46O6N_I3-s2G_t5E1dt9mEr0v9fgnco5ib53RP7myVnH6prsSOP4n0hzSvf_gBvKsYIJ2TJA-631XcIR5K7VgE6kycjbVGtTlfDn5fTbVbjgJyIR2xhjPFQ85rxpLnPD0NLE8LzGzjA7bo3CJiBjd0CUHbjbUbUINtLHm8H8lT9U7vZIEzLSIA4dvO3SujTC8R8F7dPBO5Bc91VTWF1mqUftGeWmIdJ61E-KlKb6lRYnRdNq55scpLa3sX2Y2v3tCFq4uHvUM2VO4gkyi_9WNZciyoq1gQD8e9_Ig3aUsWdU87JJMQNw=w638-h479-no)\n",
        "\n",
        "> (source: https://image.slidesharecdn.com/numpy20160519-160516164831/95/numpy-8-638.jpg)"
      ]
    },
    {
      "cell_type": "markdown",
      "metadata": {
        "id": "H-w7yLTNSuMM"
      },
      "source": [
        "**파이썬 list가 느린 이유**\n",
        "\n",
        "- 파이썬 리스트는 결국 포인터의 배열\n",
        "- 경우에 따라서 각각 객체가 메모리 여기저기 흩어져 있음\n",
        "- 그러므로 캐시 활용이 어려움\n",
        "\n",
        "**NumPy ndarray가 빠른 이유**\n",
        "\n",
        "- ndarray는 타입을 명시하여 원소의 배열로 데이터를 유지\n",
        "- 다차원 데이터도 연속된 메모리 공간이 할당됨\n",
        "- 많은 연산이 dimensions과 strides를 잘 활용하면 효율적으로 가능\n",
        "- ndarray 구현 방식을 떠올리면 어떻게 성능을 낼 수 있는지 상상 가능\n",
        "\n"
      ]
    },
    {
      "cell_type": "markdown",
      "source": [
        "(참고2) strides\n",
        "- '걸음걸이, 보폭'이라는 뜻을 가지고 있는 단어\n",
        "- numpy에서는, 각 dimensions를 건너가는데 몇 bytes나 뛰어넘어야 하는지에 대한 정보\n",
        "\n",
        "    예를들어 [[1,2,3],[4,5,6]] 이라는 2차원의 array가 있다면 strides를 사용하면 (dimensions 간의 간격, 앨리먼트간의 간격) 으로 결과가 출력된다. 각 dimensions 간의 간격은 [1,2,3] 의 용량과 같으므로 4바이트인 int32형 3개 = 12 bytes인 것."
      ],
      "metadata": {
        "id": "NwOl861soy4r"
      }
    },
    {
      "cell_type": "code",
      "source": [
        "test"
      ],
      "metadata": {
        "colab": {
          "base_uri": "https://localhost:8080/"
        },
        "id": "phbXCliSzWFt",
        "outputId": "968ae824-db73-4aa5-cc09-96cdee5346f0"
      },
      "execution_count": null,
      "outputs": [
        {
          "output_type": "execute_result",
          "data": {
            "text/plain": [
              "array([15, 20, 25, 30])"
            ]
          },
          "metadata": {},
          "execution_count": 158
        }
      ]
    },
    {
      "cell_type": "code",
      "source": [
        "test.strides # (8,)"
      ],
      "metadata": {
        "id": "viukxBHppBAg",
        "colab": {
          "base_uri": "https://localhost:8080/"
        },
        "outputId": "4425b61e-e6e9-4a43-878f-ff8d91a15d0a"
      },
      "execution_count": null,
      "outputs": [
        {
          "output_type": "execute_result",
          "data": {
            "text/plain": [
              "(8,)"
            ]
          },
          "metadata": {},
          "execution_count": 157
        }
      ]
    },
    {
      "cell_type": "code",
      "source": [
        "a"
      ],
      "metadata": {
        "colab": {
          "base_uri": "https://localhost:8080/"
        },
        "id": "ikAobtiKz7NH",
        "outputId": "57272afd-c4f5-4c68-c16d-48e513f0fa08"
      },
      "execution_count": null,
      "outputs": [
        {
          "output_type": "execute_result",
          "data": {
            "text/plain": [
              "array([[1, 2, 3, 4],\n",
              "       [5, 6, 7, 8]])"
            ]
          },
          "metadata": {},
          "execution_count": 165
        }
      ]
    },
    {
      "cell_type": "code",
      "source": [
        "a = np.array([[1,2,3,4], [5,6,7,8]])"
      ],
      "metadata": {
        "id": "j69SsLJYqRfS"
      },
      "execution_count": null,
      "outputs": []
    },
    {
      "cell_type": "code",
      "source": [
        "a.ndim # 2차원 데이터"
      ],
      "metadata": {
        "id": "xf_f16OfpU5X",
        "colab": {
          "base_uri": "https://localhost:8080/"
        },
        "outputId": "9b9aad70-45ee-4ec9-92e5-26d7cc59996e"
      },
      "execution_count": null,
      "outputs": [
        {
          "output_type": "execute_result",
          "data": {
            "text/plain": [
              "2"
            ]
          },
          "metadata": {},
          "execution_count": 160
        }
      ]
    },
    {
      "cell_type": "code",
      "source": [
        "a.shape # (2행, 4열로 이루어진"
      ],
      "metadata": {
        "id": "r6zmn6gbpvgP",
        "colab": {
          "base_uri": "https://localhost:8080/"
        },
        "outputId": "7a540f65-0eef-45d7-eefe-1a33994d4b1c"
      },
      "execution_count": null,
      "outputs": [
        {
          "output_type": "execute_result",
          "data": {
            "text/plain": [
              "(2, 4)"
            ]
          },
          "metadata": {},
          "execution_count": 161
        }
      ]
    },
    {
      "cell_type": "code",
      "source": [
        "a.itemsize # 원소 하나당 8byte를 할당합니다"
      ],
      "metadata": {
        "id": "PyrRhlAUpID7",
        "colab": {
          "base_uri": "https://localhost:8080/"
        },
        "outputId": "785b206b-6caf-4be3-a222-0fb630510f00"
      },
      "execution_count": null,
      "outputs": [
        {
          "output_type": "execute_result",
          "data": {
            "text/plain": [
              "8"
            ]
          },
          "metadata": {},
          "execution_count": 162
        }
      ]
    },
    {
      "cell_type": "code",
      "source": [
        "a.size # 총 8개가 들어있습니다"
      ],
      "metadata": {
        "id": "5sBdM0Qk6gky",
        "colab": {
          "base_uri": "https://localhost:8080/"
        },
        "outputId": "574b070b-a084-47ea-e9f9-dda6f67147e5"
      },
      "execution_count": null,
      "outputs": [
        {
          "output_type": "execute_result",
          "data": {
            "text/plain": [
              "8"
            ]
          },
          "metadata": {},
          "execution_count": 163
        }
      ]
    },
    {
      "cell_type": "code",
      "source": [
        "a.strides # (32, 8) (dimension 간의 간격, 엘리먼트 간의 간격) #  [1, 2, 3, 4]"
      ],
      "metadata": {
        "id": "zzbE7dRa6li1",
        "colab": {
          "base_uri": "https://localhost:8080/"
        },
        "outputId": "746e7195-3de7-4c6f-9902-d225538a96c5"
      },
      "execution_count": null,
      "outputs": [
        {
          "output_type": "execute_result",
          "data": {
            "text/plain": [
              "(32, 8)"
            ]
          },
          "metadata": {},
          "execution_count": 164
        }
      ]
    },
    {
      "cell_type": "code",
      "source": [
        "a.T"
      ],
      "metadata": {
        "id": "6GpzUOXM6oyS",
        "colab": {
          "base_uri": "https://localhost:8080/"
        },
        "outputId": "182fde50-f455-4bd1-fcbf-969f9dec8a57"
      },
      "execution_count": null,
      "outputs": [
        {
          "output_type": "execute_result",
          "data": {
            "text/plain": [
              "array([[1, 5],\n",
              "       [2, 6],\n",
              "       [3, 7],\n",
              "       [4, 8]])"
            ]
          },
          "metadata": {},
          "execution_count": 166
        }
      ]
    },
    {
      "cell_type": "code",
      "source": [
        "a.dtype   # dtype('int64')"
      ],
      "metadata": {
        "id": "GRETbVMF6q01",
        "colab": {
          "base_uri": "https://localhost:8080/"
        },
        "outputId": "c2a2e759-4d13-4ea3-91b9-8079efa49755"
      },
      "execution_count": null,
      "outputs": [
        {
          "output_type": "execute_result",
          "data": {
            "text/plain": [
              "dtype('int64')"
            ]
          },
          "metadata": {},
          "execution_count": 167
        }
      ]
    },
    {
      "cell_type": "code",
      "source": [
        "a = np.array([[1,2,3,4], [5,6,7,8]], dtype='int8')"
      ],
      "metadata": {
        "id": "p8aivWxl0Z69"
      },
      "execution_count": null,
      "outputs": []
    },
    {
      "cell_type": "code",
      "source": [
        "a.dtype"
      ],
      "metadata": {
        "colab": {
          "base_uri": "https://localhost:8080/"
        },
        "id": "hxPrDDw505Wj",
        "outputId": "a6a22cc5-6810-4763-ebc0-403e563a1f12"
      },
      "execution_count": null,
      "outputs": [
        {
          "output_type": "execute_result",
          "data": {
            "text/plain": [
              "dtype('int8')"
            ]
          },
          "metadata": {},
          "execution_count": 169
        }
      ]
    },
    {
      "cell_type": "code",
      "source": [],
      "metadata": {
        "id": "sCo0KPpk09UG"
      },
      "execution_count": null,
      "outputs": []
    },
    {
      "cell_type": "code",
      "source": [
        "a.ndim # 2차원 데이터"
      ],
      "metadata": {
        "colab": {
          "base_uri": "https://localhost:8080/"
        },
        "outputId": "41710d40-5207-4d84-dd64-67bd199184c4",
        "id": "4mi-CUbG09cA"
      },
      "execution_count": null,
      "outputs": [
        {
          "output_type": "execute_result",
          "data": {
            "text/plain": [
              "2"
            ]
          },
          "metadata": {},
          "execution_count": 170
        }
      ]
    },
    {
      "cell_type": "code",
      "source": [
        "a.shape # (2행, 4열로 이루어진"
      ],
      "metadata": {
        "colab": {
          "base_uri": "https://localhost:8080/"
        },
        "outputId": "9d457040-e556-4d28-e9ef-e11a59605778",
        "id": "KPahKy7j09cA"
      },
      "execution_count": null,
      "outputs": [
        {
          "output_type": "execute_result",
          "data": {
            "text/plain": [
              "(2, 4)"
            ]
          },
          "metadata": {},
          "execution_count": 171
        }
      ]
    },
    {
      "cell_type": "code",
      "source": [
        "a.itemsize # 원소 하나당 1byte를 할당합니다"
      ],
      "metadata": {
        "colab": {
          "base_uri": "https://localhost:8080/"
        },
        "outputId": "000a576e-c6d7-4f69-cfcf-c40272c67692",
        "id": "VwqQuluC09cB"
      },
      "execution_count": null,
      "outputs": [
        {
          "output_type": "execute_result",
          "data": {
            "text/plain": [
              "1"
            ]
          },
          "metadata": {},
          "execution_count": 172
        }
      ]
    },
    {
      "cell_type": "code",
      "source": [
        "a.size # 총 8개가 들어있습니다"
      ],
      "metadata": {
        "colab": {
          "base_uri": "https://localhost:8080/"
        },
        "outputId": "78f681df-9fd6-4025-85aa-1bd1c79c004b",
        "id": "fH7R_usH09cB"
      },
      "execution_count": null,
      "outputs": [
        {
          "output_type": "execute_result",
          "data": {
            "text/plain": [
              "8"
            ]
          },
          "metadata": {},
          "execution_count": 173
        }
      ]
    },
    {
      "cell_type": "code",
      "source": [
        "a.strides # (4, 1) (dimension 간의 간격, 엘리먼트 간의 간격) #  [1, 2, 3, 4]"
      ],
      "metadata": {
        "colab": {
          "base_uri": "https://localhost:8080/"
        },
        "outputId": "279e14cd-2c85-48ae-a793-47333ca3f769",
        "id": "jbiZeJaY09cB"
      },
      "execution_count": null,
      "outputs": [
        {
          "output_type": "execute_result",
          "data": {
            "text/plain": [
              "(4, 1)"
            ]
          },
          "metadata": {},
          "execution_count": 174
        }
      ]
    },
    {
      "cell_type": "code",
      "source": [
        "b = np.array([1, 2, 3., 4])"
      ],
      "metadata": {
        "id": "WlG3P0XY1WLY"
      },
      "execution_count": null,
      "outputs": []
    },
    {
      "cell_type": "code",
      "source": [
        "b.dtype # dtype('float64')"
      ],
      "metadata": {
        "colab": {
          "base_uri": "https://localhost:8080/"
        },
        "id": "AffycUsW1ePf",
        "outputId": "060fca02-e21f-42b7-ba09-e776bc267088"
      },
      "execution_count": null,
      "outputs": [
        {
          "output_type": "execute_result",
          "data": {
            "text/plain": [
              "dtype('float64')"
            ]
          },
          "metadata": {},
          "execution_count": 177
        }
      ]
    },
    {
      "cell_type": "code",
      "source": [
        "b = np.array([1, '2', 3, 4])"
      ],
      "metadata": {
        "id": "rZv55Qkr1jrB"
      },
      "execution_count": null,
      "outputs": []
    },
    {
      "cell_type": "code",
      "source": [
        "b.dtype # dtype('<U21') - Unicode 문자열임"
      ],
      "metadata": {
        "colab": {
          "base_uri": "https://localhost:8080/"
        },
        "id": "Hi5My-Cs1nR5",
        "outputId": "4fde0efb-3335-47f1-b2c7-c97e00fc811a"
      },
      "execution_count": null,
      "outputs": [
        {
          "output_type": "execute_result",
          "data": {
            "text/plain": [
              "dtype('<U21')"
            ]
          },
          "metadata": {},
          "execution_count": 179
        }
      ]
    },
    {
      "cell_type": "code",
      "source": [
        "b"
      ],
      "metadata": {
        "colab": {
          "base_uri": "https://localhost:8080/"
        },
        "id": "N8kLFd8r1s_R",
        "outputId": "acc926a8-e547-4a76-9a14-53cbc5a0581c"
      },
      "execution_count": null,
      "outputs": [
        {
          "output_type": "execute_result",
          "data": {
            "text/plain": [
              "array(['1', '2', '3', '4'], dtype='<U21')"
            ]
          },
          "metadata": {},
          "execution_count": 180
        }
      ]
    },
    {
      "cell_type": "code",
      "source": [
        "b = np.array([True, 2, 3, 4])"
      ],
      "metadata": {
        "id": "rbwBNi7x1x7w"
      },
      "execution_count": null,
      "outputs": []
    },
    {
      "cell_type": "code",
      "source": [
        "b"
      ],
      "metadata": {
        "colab": {
          "base_uri": "https://localhost:8080/"
        },
        "id": "dxOc3GFW12l7",
        "outputId": "a82cbee5-3ae6-41ed-ea45-3c139fa45576"
      },
      "execution_count": null,
      "outputs": [
        {
          "output_type": "execute_result",
          "data": {
            "text/plain": [
              "array([1, 2, 3, 4])"
            ]
          },
          "metadata": {},
          "execution_count": 182
        }
      ]
    },
    {
      "cell_type": "code",
      "source": [
        "b.dtype"
      ],
      "metadata": {
        "colab": {
          "base_uri": "https://localhost:8080/"
        },
        "id": "Foz6Vjey14O9",
        "outputId": "e159111c-efe6-41d3-f5c6-b688583b9893"
      },
      "execution_count": null,
      "outputs": [
        {
          "output_type": "execute_result",
          "data": {
            "text/plain": [
              "dtype('int64')"
            ]
          },
          "metadata": {},
          "execution_count": 183
        }
      ]
    },
    {
      "cell_type": "code",
      "source": [
        "b = [1., 2.4, 3.5]"
      ],
      "metadata": {
        "id": "-JKjFSZa17Wn"
      },
      "execution_count": null,
      "outputs": []
    },
    {
      "cell_type": "code",
      "source": [
        "np.array(b, dtype='int64')\n",
        "# array([1, 2, 3]) 정수로 형변환은 했으나 소수점 이하 버림\n",
        "# 데이터에 손실 생김"
      ],
      "metadata": {
        "colab": {
          "base_uri": "https://localhost:8080/"
        },
        "id": "1h0aZBue1_mU",
        "outputId": "cc637af2-f67d-479c-8c65-e6fa0c4c8ee9"
      },
      "execution_count": null,
      "outputs": [
        {
          "output_type": "execute_result",
          "data": {
            "text/plain": [
              "array([1, 2, 3])"
            ]
          },
          "metadata": {},
          "execution_count": 185
        }
      ]
    },
    {
      "cell_type": "code",
      "source": [
        "b = [1, 2, 3]\n",
        "b = np.array(b, dtype='float')"
      ],
      "metadata": {
        "id": "l0MIRznE2JlE"
      },
      "execution_count": null,
      "outputs": []
    },
    {
      "cell_type": "code",
      "source": [
        "b"
      ],
      "metadata": {
        "colab": {
          "base_uri": "https://localhost:8080/"
        },
        "id": "EjTT2j0W2Ton",
        "outputId": "1c6efedb-84ca-4615-c60a-bd8723b00acf"
      },
      "execution_count": null,
      "outputs": [
        {
          "output_type": "execute_result",
          "data": {
            "text/plain": [
              "array([1., 2., 3.])"
            ]
          },
          "metadata": {},
          "execution_count": 189
        }
      ]
    },
    {
      "cell_type": "code",
      "source": [
        "b.dtype"
      ],
      "metadata": {
        "colab": {
          "base_uri": "https://localhost:8080/"
        },
        "id": "spbbeSBm2RZ-",
        "outputId": "992d952e-9dda-45ea-88ad-d7693087f229"
      },
      "execution_count": null,
      "outputs": [
        {
          "output_type": "execute_result",
          "data": {
            "text/plain": [
              "dtype('float64')"
            ]
          },
          "metadata": {},
          "execution_count": 188
        }
      ]
    },
    {
      "cell_type": "markdown",
      "source": [
        "실습 : test2의 strides는 얼마인가요"
      ],
      "metadata": {
        "id": "S6aEIAfB64kF"
      }
    },
    {
      "cell_type": "code",
      "source": [
        "test2"
      ],
      "metadata": {
        "id": "2oTW-PEI65gf",
        "colab": {
          "base_uri": "https://localhost:8080/"
        },
        "outputId": "135531d5-8803-4350-b42a-db7ddbdf18a3"
      },
      "execution_count": null,
      "outputs": [
        {
          "output_type": "execute_result",
          "data": {
            "text/plain": [
              "array([[15, 20, 25, 30],\n",
              "       [15, 20, 25, 30]])"
            ]
          },
          "metadata": {},
          "execution_count": 190
        }
      ]
    },
    {
      "cell_type": "code",
      "source": [
        "test2.dtype # 32, 8"
      ],
      "metadata": {
        "id": "cTp-p8Kr8Mt0",
        "colab": {
          "base_uri": "https://localhost:8080/"
        },
        "outputId": "a982e0ab-9ab3-4f62-ff66-969d114658ba"
      },
      "execution_count": null,
      "outputs": [
        {
          "output_type": "execute_result",
          "data": {
            "text/plain": [
              "dtype('int64')"
            ]
          },
          "metadata": {},
          "execution_count": 192
        }
      ]
    },
    {
      "cell_type": "code",
      "source": [
        "test2.strides # (32, 8)"
      ],
      "metadata": {
        "colab": {
          "base_uri": "https://localhost:8080/"
        },
        "id": "nxLkgz6D2rYe",
        "outputId": "b8cd40e2-a355-4dcf-bdf0-ad8f49c7a85d"
      },
      "execution_count": null,
      "outputs": [
        {
          "output_type": "execute_result",
          "data": {
            "text/plain": [
              "(32, 8)"
            ]
          },
          "metadata": {},
          "execution_count": 193
        }
      ]
    },
    {
      "cell_type": "code",
      "source": [
        "test2"
      ],
      "metadata": {
        "colab": {
          "base_uri": "https://localhost:8080/"
        },
        "id": "CbDXDgQU6h0e",
        "outputId": "dfa5b88a-0bd1-414b-a8ae-f13be43df929"
      },
      "execution_count": null,
      "outputs": [
        {
          "output_type": "execute_result",
          "data": {
            "text/plain": [
              "array([[15, 20, 25, 30],\n",
              "       [15, 20, 25, 30]])"
            ]
          },
          "metadata": {},
          "execution_count": 210
        }
      ]
    },
    {
      "cell_type": "code",
      "source": [
        "test3 = test2.T"
      ],
      "metadata": {
        "id": "f_vzVwRm2rTa"
      },
      "execution_count": null,
      "outputs": []
    },
    {
      "cell_type": "code",
      "source": [
        "test2"
      ],
      "metadata": {
        "colab": {
          "base_uri": "https://localhost:8080/"
        },
        "id": "8T91v8k66xh6",
        "outputId": "1f80215c-bea6-4611-dd2e-0cf39d475f03"
      },
      "execution_count": null,
      "outputs": [
        {
          "output_type": "execute_result",
          "data": {
            "text/plain": [
              "array([[15, 20, 25, 30],\n",
              "       [15, 20, 25, 30]])"
            ]
          },
          "metadata": {},
          "execution_count": 215
        }
      ]
    },
    {
      "cell_type": "code",
      "source": [
        "test3.T.strides"
      ],
      "metadata": {
        "colab": {
          "base_uri": "https://localhost:8080/"
        },
        "id": "vJwltEGM6y72",
        "outputId": "77386d48-1408-407a-a725-c6f4321a44e3"
      },
      "execution_count": null,
      "outputs": [
        {
          "output_type": "execute_result",
          "data": {
            "text/plain": [
              "(32, 8)"
            ]
          },
          "metadata": {},
          "execution_count": 218
        }
      ]
    },
    {
      "cell_type": "code",
      "source": [
        "test4.strides"
      ],
      "metadata": {
        "colab": {
          "base_uri": "https://localhost:8080/"
        },
        "id": "YaqDdcus7DTE",
        "outputId": "f0d38b05-3871-452f-f94f-62214edcb85e"
      },
      "execution_count": null,
      "outputs": [
        {
          "output_type": "execute_result",
          "data": {
            "text/plain": [
              "(8, 32)"
            ]
          },
          "metadata": {},
          "execution_count": 220
        }
      ]
    },
    {
      "cell_type": "markdown",
      "metadata": {
        "id": "LdbiXqEKX8yr"
      },
      "source": [
        "# 다차원 배열 기초"
      ]
    },
    {
      "cell_type": "markdown",
      "metadata": {
        "id": "h7VbFRMGYTU3"
      },
      "source": [
        "## 다차원 배열의 자료형"
      ]
    },
    {
      "cell_type": "markdown",
      "metadata": {
        "id": "csIZ1CsL73Vj"
      },
      "source": [
        "![alt text](https://lh3.googleusercontent.com/ZhC-hkgaa_zQggBdbQ8J33aW8b6Ubbccwr4dLOiVlXAuJYgBiZzRR0jcrAe9C6h26h_3xfd1UbMt6vwIpLfDffABXNKDkUT6RUZre4-j7DtYt7CFsQ1b4RdNZwfCQoSkr_BWKACQQ42krqB0Jkri4CDHGMhKgALRRiJJaQCsR0frysFtltqxiX0ScqZleBxMkADkJr8FtFKh34ERS4w3lwIqddpWd9ctgu9bJsDA19yNEmLouiwapSV7NwAXgDko3fqxo_W4CY6NU_vXxx8xoyFtaXxdXRCs2yketYJ66IP8Rv_mADUSnXfcCfgHOPlU_PzkT-cLdnfLftHgitAPrDHOqiH7EpLmgg4bO_HWIhpDwfG7iu2upN_rw-sFl64aGj4XhhbPYfmDZpnIEyrvKE4DjycH6rITqxTbhMSWfkeeUBENLusqELkVnPRikaaxYiDVPRuedOp6hNXo7R4A-TghyLn-k61kV3Ruwc14ytOWhZ0BngaDXVo-KF_ZxJUr5GuaFOZbi4UKhXbvnObRZAb0QgKaCdvkYysxU31oryDHpx526hG6SW6b99CxOWbT0lBTy0RoynGz_WVV_ua_umNcmkBNMkt3u04uCUWk8a-BqMG_oVpyqNmqetASSOhCZNbisBzkEgmo4sDbdqsNlFcY3fa-Og8mB1UNmC2uWl5RefSArRAoKn6KxZpcr6qJdl8YWT98ncW6behEO1wLoNsdBg=w526-h413-no)\n",
        "\n",
        "(source: https://docs.scipy.org/doc/numpy/reference/arrays.scalars.html)"
      ]
    },
    {
      "cell_type": "markdown",
      "metadata": {
        "id": "klF_e3KW9Vpx"
      },
      "source": [
        "다차원 배열의 원소는 위와 같은 데이터 타입을 가질 수 있습니다.\n",
        "\n",
        "다차원 배열의 원소는 동일한 데이터 타입을 가져야 합니다.\n",
        "\n",
        "넘파이가 제공하는 숫자형 자료형은 정수(int), 부호없는 정수(uint), 실수(float), 복소수(complex), 논리(bool)로 총 5가지입니다."
      ]
    },
    {
      "cell_type": "code",
      "metadata": {
        "id": "q89uNKneXVQa"
      },
      "source": [
        "import numpy as np"
      ],
      "execution_count": null,
      "outputs": []
    },
    {
      "cell_type": "code",
      "source": [
        "f1 = np.array([1.0, 1., 0.2, .2])"
      ],
      "metadata": {
        "id": "WfUajRJa9aPc"
      },
      "execution_count": null,
      "outputs": []
    },
    {
      "cell_type": "code",
      "source": [
        "f1.dtype"
      ],
      "metadata": {
        "colab": {
          "base_uri": "https://localhost:8080/"
        },
        "id": "8Py_HFrX4gpV",
        "outputId": "ebb5ab65-2059-4d55-d0da-e09a68865a08"
      },
      "execution_count": null,
      "outputs": [
        {
          "output_type": "execute_result",
          "data": {
            "text/plain": [
              "dtype('float64')"
            ]
          },
          "metadata": {},
          "execution_count": 197
        }
      ]
    },
    {
      "cell_type": "markdown",
      "metadata": {
        "id": "WmHAwO3ucCeJ"
      },
      "source": [
        "### number"
      ]
    },
    {
      "cell_type": "markdown",
      "metadata": {
        "id": "feRfyGsmcCeK"
      },
      "source": [
        "number 데이터를 입력해서 다차원 배열을 생성해봅시다.\n",
        "\n",
        " 정수(int), 부호없는 정수(uint), 실수(float), 복소수(complex)가 있습니다."
      ]
    },
    {
      "cell_type": "markdown",
      "metadata": {
        "id": "0Dftj9KPXiSm"
      },
      "source": [
        "실습 : 0~9의 정수로 구성된 ndarray 배열 a를 만드세요."
      ]
    },
    {
      "cell_type": "code",
      "metadata": {
        "id": "yx-495G_Xfn8"
      },
      "source": [
        "a = np.arange(10)"
      ],
      "execution_count": null,
      "outputs": []
    },
    {
      "cell_type": "code",
      "metadata": {
        "id": "lnvzurrngw-D",
        "colab": {
          "base_uri": "https://localhost:8080/"
        },
        "outputId": "2c4833bf-e95e-4f03-eb05-604ab38c75f5"
      },
      "source": [
        "type(a)"
      ],
      "execution_count": null,
      "outputs": [
        {
          "output_type": "execute_result",
          "data": {
            "text/plain": [
              "numpy.ndarray"
            ]
          },
          "metadata": {},
          "execution_count": 201
        }
      ]
    },
    {
      "cell_type": "code",
      "metadata": {
        "id": "spJIEHJLXd1g"
      },
      "source": [
        "a = np.arange(0, 10, .5) # np.arange는 실수로도 규칙을 가진 배열을 만들 수 있습니다"
      ],
      "execution_count": null,
      "outputs": []
    },
    {
      "cell_type": "code",
      "metadata": {
        "id": "b-kOojkBYwkh",
        "colab": {
          "base_uri": "https://localhost:8080/"
        },
        "outputId": "29ac5518-01d2-4a13-9086-41cd91742811"
      },
      "source": [
        "a"
      ],
      "execution_count": null,
      "outputs": [
        {
          "output_type": "execute_result",
          "data": {
            "text/plain": [
              "array([0. , 0.5, 1. , 1.5, 2. , 2.5, 3. , 3.5, 4. , 4.5, 5. , 5.5, 6. ,\n",
              "       6.5, 7. , 7.5, 8. , 8.5, 9. , 9.5])"
            ]
          },
          "metadata": {},
          "execution_count": 203
        }
      ]
    },
    {
      "cell_type": "markdown",
      "source": [
        "0.0에서 9.0까지 float64 타입의 값이 들어있는 ndarray b를 하나 만들어주세요."
      ],
      "metadata": {
        "id": "iXfuhsFc_YGk"
      }
    },
    {
      "cell_type": "code",
      "metadata": {
        "id": "cvCtWKcXJZvl",
        "colab": {
          "base_uri": "https://localhost:8080/"
        },
        "outputId": "e83d30e1-92d7-488e-cfbf-dad68203beb1"
      },
      "source": [
        "b = np.arange(0., 10.,)\n",
        "b"
      ],
      "execution_count": null,
      "outputs": [
        {
          "output_type": "execute_result",
          "data": {
            "text/plain": [
              "array([0., 1., 2., 3., 4., 5., 6., 7., 8., 9.])"
            ]
          },
          "metadata": {},
          "execution_count": 204
        }
      ]
    },
    {
      "cell_type": "code",
      "metadata": {
        "id": "gnKqxTKOJn8y",
        "colab": {
          "base_uri": "https://localhost:8080/"
        },
        "outputId": "4d9cae61-6f25-4fe4-b045-207e5446af74"
      },
      "source": [
        "np.array([10.1, 20.1, 30.1], 'int64') # .1 씩 소수점 이하 데이터 손실이 일어납니다"
      ],
      "execution_count": null,
      "outputs": [
        {
          "output_type": "execute_result",
          "data": {
            "text/plain": [
              "array([10, 20, 30])"
            ]
          },
          "metadata": {},
          "execution_count": 205
        }
      ]
    },
    {
      "cell_type": "code",
      "source": [
        "np.array([10, 20, 30], 'float64')"
      ],
      "metadata": {
        "id": "Q8OfioDMANNP",
        "colab": {
          "base_uri": "https://localhost:8080/"
        },
        "outputId": "40f4676f-1dfe-49ee-c091-1da2187450e8"
      },
      "execution_count": null,
      "outputs": [
        {
          "output_type": "execute_result",
          "data": {
            "text/plain": [
              "array([10., 20., 30.])"
            ]
          },
          "metadata": {},
          "execution_count": 207
        }
      ]
    },
    {
      "cell_type": "code",
      "source": [
        "c # 실수 -> 정수 형변환 : 데이터 손실이 일어나므로 주의하셔야 합니다"
      ],
      "metadata": {
        "colab": {
          "base_uri": "https://localhost:8080/"
        },
        "id": "21F9YWFvAjH-",
        "outputId": "ea502167-366f-43ec-9f98-18b04a3e1a59"
      },
      "execution_count": null,
      "outputs": [
        {
          "output_type": "execute_result",
          "data": {
            "text/plain": [
              "array([10, 20, 30])"
            ]
          },
          "metadata": {},
          "execution_count": 184
        }
      ]
    },
    {
      "cell_type": "markdown",
      "metadata": {
        "id": "3u4_cvMZjqIR"
      },
      "source": [
        "주의. 정수형에서 실수형으로의 형변환 과정은 데이터 손실이 일어나지 않아 문제될 부분이 없지만 반대의 경우에는 문제가 발생할 수 있습니다."
      ]
    },
    {
      "cell_type": "code",
      "source": [
        "a = np.array([10, '20', 30]) # U21"
      ],
      "metadata": {
        "id": "4LYBkLgR9a-b"
      },
      "execution_count": null,
      "outputs": []
    },
    {
      "cell_type": "code",
      "source": [
        "a + 5"
      ],
      "metadata": {
        "colab": {
          "base_uri": "https://localhost:8080/",
          "height": 192
        },
        "id": "dyJL3YTH9jGf",
        "outputId": "09b88133-f039-4416-a0ec-51bf1649464f"
      },
      "execution_count": null,
      "outputs": [
        {
          "output_type": "error",
          "ename": "UFuncTypeError",
          "evalue": "ignored",
          "traceback": [
            "\u001b[0;31m---------------------------------------------------------------------------\u001b[0m",
            "\u001b[0;31mUFuncTypeError\u001b[0m                            Traceback (most recent call last)",
            "\u001b[0;32m<ipython-input-228-5cd40e0bb6cf>\u001b[0m in \u001b[0;36m<cell line: 1>\u001b[0;34m()\u001b[0m\n\u001b[0;32m----> 1\u001b[0;31m \u001b[0ma\u001b[0m \u001b[0;34m+\u001b[0m \u001b[0;36m5\u001b[0m\u001b[0;34m\u001b[0m\u001b[0;34m\u001b[0m\u001b[0m\n\u001b[0m",
            "\u001b[0;31mUFuncTypeError\u001b[0m: ufunc 'add' did not contain a loop with signature matching types (dtype('<U21'), dtype('int64')) -> None"
          ]
        }
      ]
    },
    {
      "cell_type": "code",
      "source": [
        "a + '가'"
      ],
      "metadata": {
        "colab": {
          "base_uri": "https://localhost:8080/",
          "height": 192
        },
        "id": "71fAhhnv9s62",
        "outputId": "34739c10-5c7c-4238-f71d-e63d292f5faa"
      },
      "execution_count": null,
      "outputs": [
        {
          "output_type": "error",
          "ename": "UFuncTypeError",
          "evalue": "ignored",
          "traceback": [
            "\u001b[0;31m---------------------------------------------------------------------------\u001b[0m",
            "\u001b[0;31mUFuncTypeError\u001b[0m                            Traceback (most recent call last)",
            "\u001b[0;32m<ipython-input-229-c8f477fec576>\u001b[0m in \u001b[0;36m<cell line: 1>\u001b[0;34m()\u001b[0m\n\u001b[0;32m----> 1\u001b[0;31m \u001b[0ma\u001b[0m \u001b[0;34m+\u001b[0m \u001b[0;34m'가'\u001b[0m\u001b[0;34m\u001b[0m\u001b[0;34m\u001b[0m\u001b[0m\n\u001b[0m",
            "\u001b[0;31mUFuncTypeError\u001b[0m: ufunc 'add' did not contain a loop with signature matching types (dtype('<U21'), dtype('<U1')) -> None"
          ]
        }
      ]
    },
    {
      "cell_type": "code",
      "metadata": {
        "id": "4rPAx6hxJoZT"
      },
      "source": [
        "b = np.array([10, '20', 30], 'int') # int"
      ],
      "execution_count": null,
      "outputs": []
    },
    {
      "cell_type": "code",
      "metadata": {
        "id": "rcodeOatJxLB",
        "colab": {
          "base_uri": "https://localhost:8080/"
        },
        "outputId": "26d2ef8e-86f1-4a2d-dcf5-9da15bb4df89"
      },
      "source": [
        "b + 5"
      ],
      "execution_count": null,
      "outputs": [
        {
          "output_type": "execute_result",
          "data": {
            "text/plain": [
              "array([15, 25, 35])"
            ]
          },
          "metadata": {},
          "execution_count": 227
        }
      ]
    },
    {
      "cell_type": "markdown",
      "metadata": {
        "id": "zmET5ifwchV1"
      },
      "source": [
        "연산을 위한 다차원 배열의 원소는 동일한 데이터 타입을 가져야 합니다."
      ]
    },
    {
      "cell_type": "markdown",
      "metadata": {
        "id": "ZulQgEychT8h"
      },
      "source": [
        "[10, 20, 30]"
      ]
    },
    {
      "cell_type": "markdown",
      "metadata": {
        "id": "MWPPYiNFBuJa"
      },
      "source": [
        "#### bool"
      ]
    },
    {
      "cell_type": "markdown",
      "metadata": {
        "id": "ppE0ijaUC6x5"
      },
      "source": [
        "실습. boolean 데이터를 입력해서 boolArray라는 다차원 배열을 생성해봅시다.\n",
        "\n",
        "[True, False, True, True, False]"
      ]
    },
    {
      "cell_type": "code",
      "metadata": {
        "id": "_a7cfM8aBiaf",
        "colab": {
          "base_uri": "https://localhost:8080/"
        },
        "outputId": "001372b4-f792-4af9-d1db-81b47e85ee97"
      },
      "source": [
        "boolArray = np.array([True, False, True, True, False])\n",
        "boolArray"
      ],
      "execution_count": null,
      "outputs": [
        {
          "output_type": "execute_result",
          "data": {
            "text/plain": [
              "array([ True, False,  True,  True, False])"
            ]
          },
          "metadata": {},
          "execution_count": 230
        }
      ]
    },
    {
      "cell_type": "code",
      "metadata": {
        "id": "o8vfhrvL8o4l",
        "colab": {
          "base_uri": "https://localhost:8080/"
        },
        "outputId": "93b926d4-d35e-4be7-bf26-29c2a2b1acbf"
      },
      "source": [
        "boolArray.dtype"
      ],
      "execution_count": null,
      "outputs": [
        {
          "output_type": "execute_result",
          "data": {
            "text/plain": [
              "dtype('bool')"
            ]
          },
          "metadata": {},
          "execution_count": 231
        }
      ]
    },
    {
      "cell_type": "code",
      "metadata": {
        "id": "cakQ3-2HBp54",
        "colab": {
          "base_uri": "https://localhost:8080/"
        },
        "outputId": "d9371313-6f7b-4385-ca22-f3b2694d41cf"
      },
      "source": [
        "boolArray + 1 # 플레인 파이썬처럼 numpy의 ndarray도 bool을 숫자로 바꿔서 연산하는구나\n",
        "# bool도 숫자구나"
      ],
      "execution_count": null,
      "outputs": [
        {
          "output_type": "execute_result",
          "data": {
            "text/plain": [
              "array([2, 1, 2, 2, 1])"
            ]
          },
          "metadata": {},
          "execution_count": 232
        }
      ]
    },
    {
      "cell_type": "markdown",
      "metadata": {
        "id": "6ZENZr82D1jh"
      },
      "source": [
        "#### (참고) 부호없는 정수형"
      ]
    },
    {
      "cell_type": "markdown",
      "metadata": {
        "id": "9-eWQM6JEY48"
      },
      "source": [
        "부호없는 정수형(0을 포함한 양수)의 default data type은 'uint64'입니다."
      ]
    },
    {
      "cell_type": "code",
      "metadata": {
        "id": "9xYaFEmMD39n",
        "colab": {
          "base_uri": "https://localhost:8080/"
        },
        "outputId": "900d1757-101d-4949-ca06-2e9aa7cd7538"
      },
      "source": [
        "uintArray = np.array([[1,2], [3,4]], dtype='uint')\n",
        "uintArray.dtype"
      ],
      "execution_count": null,
      "outputs": [
        {
          "output_type": "execute_result",
          "data": {
            "text/plain": [
              "dtype('uint64')"
            ]
          },
          "metadata": {},
          "execution_count": 234
        }
      ]
    },
    {
      "cell_type": "code",
      "metadata": {
        "id": "COosTXN_EBiR",
        "colab": {
          "base_uri": "https://localhost:8080/"
        },
        "outputId": "abc2ed93-f235-413c-a779-3af617b5095b"
      },
      "source": [
        "uintArray = np.array([[-1,-2], [-3,-4]], dtype='uint')\n",
        "uintArray.dtype"
      ],
      "execution_count": null,
      "outputs": [
        {
          "output_type": "execute_result",
          "data": {
            "text/plain": [
              "dtype('uint64')"
            ]
          },
          "metadata": {},
          "execution_count": 235
        }
      ]
    },
    {
      "cell_type": "code",
      "metadata": {
        "id": "_y00GptXEBOm",
        "colab": {
          "base_uri": "https://localhost:8080/"
        },
        "outputId": "4da7de19-8f3b-4c17-fcbf-a9cc434d0a0b"
      },
      "source": [
        "uintArray"
      ],
      "execution_count": null,
      "outputs": [
        {
          "output_type": "execute_result",
          "data": {
            "text/plain": [
              "array([[18446744073709551615, 18446744073709551614],\n",
              "       [18446744073709551613, 18446744073709551612]], dtype=uint64)"
            ]
          },
          "metadata": {},
          "execution_count": 236
        }
      ]
    },
    {
      "cell_type": "markdown",
      "metadata": {
        "id": "LbE2qHLjB0O9"
      },
      "source": [
        "#### (참고) 복소수형"
      ]
    },
    {
      "cell_type": "markdown",
      "metadata": {
        "id": "wkKPYQREGH40"
      },
      "source": [
        "복소수형의 default data type은 'complex128'입니다."
      ]
    },
    {
      "cell_type": "code",
      "metadata": {
        "id": "8YHs9hemF42o"
      },
      "source": [
        "complexArray = np.array([1+1j, 2+2j, 3+3j, 4+4j, 5+5j])"
      ],
      "execution_count": null,
      "outputs": []
    },
    {
      "cell_type": "code",
      "metadata": {
        "id": "JhWPA4DI53Eq",
        "colab": {
          "base_uri": "https://localhost:8080/"
        },
        "outputId": "c3502336-1fa4-4102-c00d-26fce7cca646"
      },
      "source": [
        "complexArray"
      ],
      "execution_count": null,
      "outputs": [
        {
          "output_type": "execute_result",
          "data": {
            "text/plain": [
              "array([1.+1.j, 2.+2.j, 3.+3.j, 4.+4.j, 5.+5.j])"
            ]
          },
          "metadata": {},
          "execution_count": 238
        }
      ]
    },
    {
      "cell_type": "code",
      "metadata": {
        "id": "OfF1aCfQGCw3",
        "colab": {
          "base_uri": "https://localhost:8080/"
        },
        "outputId": "f5bcde5e-3d02-4ab1-c95d-51035bdfc800"
      },
      "source": [
        "complexArray.dtype # 양자역학, 반도체, 전기회로"
      ],
      "execution_count": null,
      "outputs": [
        {
          "output_type": "execute_result",
          "data": {
            "text/plain": [
              "dtype('complex128')"
            ]
          },
          "metadata": {},
          "execution_count": 239
        }
      ]
    },
    {
      "cell_type": "code",
      "source": [
        "test[0] = 25"
      ],
      "metadata": {
        "id": "24TWrWz-_VkO"
      },
      "execution_count": null,
      "outputs": []
    },
    {
      "cell_type": "code",
      "source": [
        "test"
      ],
      "metadata": {
        "colab": {
          "base_uri": "https://localhost:8080/"
        },
        "id": "wYAFCnhv_bHr",
        "outputId": "0334e5a1-2e86-4a35-cea9-f76213d59609"
      },
      "execution_count": null,
      "outputs": [
        {
          "output_type": "execute_result",
          "data": {
            "text/plain": [
              "array([25, 20, 25, 30])"
            ]
          },
          "metadata": {},
          "execution_count": 243
        }
      ]
    },
    {
      "cell_type": "markdown",
      "metadata": {
        "id": "8tYpRarZMvFc"
      },
      "source": [
        "## 실습. ndarray 탐색하기\n",
        "\n",
        "<img src=\"https://imgconvert.csdnimg.cn/aHR0cHM6Ly93d3cucHl0aG9uaW5mb3JtZXIuY29tL2ltZy9udW1weS8zZC1hcnJheS5wbmc?x-oss-process=image/format,png\">"
      ]
    },
    {
      "cell_type": "markdown",
      "source": [
        "[연결]https://imgconvert.csdnimg.cn/aHR0cHM6Ly93d3cucHl0aG9uaW5mb3JtZXIuY29tL2ltZy9udW1weS8zZC1hcnJheS5wbmc?x-oss-process=image/"
      ],
      "metadata": {
        "id": "RHoY1vHjuB5e"
      }
    },
    {
      "cell_type": "markdown",
      "metadata": {
        "id": "Xa0hGG4VNchZ"
      },
      "source": [
        "실습: 위와 같은 요소로 이루어진 3차원 ndarray를 만들고 a1이라는 이름으로 저장하여 출력하세요."
      ]
    },
    {
      "cell_type": "code",
      "metadata": {
        "id": "RUIpVq5OHwhp"
      },
      "source": [
        "a1 = np.array([\n",
        "    [\n",
        "        [10, 11, 12],\n",
        "        [13, 14, 15],\n",
        "        [16, 17, 18]\n",
        "    ],\n",
        "    [\n",
        "        [20, 21, 22],\n",
        "        [23, 24, 25],\n",
        "        [26, 27, 28]\n",
        "    ],\n",
        "        [\n",
        "        [30, 31, 32],\n",
        "        [33, 34, 35],\n",
        "        [36, 37, 38]\n",
        "    ],\n",
        "])"
      ],
      "execution_count": null,
      "outputs": []
    },
    {
      "cell_type": "code",
      "metadata": {
        "id": "kFbr3dqRJ3we",
        "colab": {
          "base_uri": "https://localhost:8080/"
        },
        "outputId": "d35a56e0-0abb-49db-d3a0-d4b406782d79"
      },
      "source": [
        "type(a1)"
      ],
      "execution_count": null,
      "outputs": [
        {
          "output_type": "execute_result",
          "data": {
            "text/plain": [
              "numpy.ndarray"
            ]
          },
          "metadata": {},
          "execution_count": 248
        }
      ]
    },
    {
      "cell_type": "markdown",
      "metadata": {
        "id": "M4aYCJqsNoFz"
      },
      "source": [
        "실습: a1의 전체 구조를 확인하는 함수, 차원을 확인하는 함수를 통해 구조와 차원을 확인해주세요."
      ]
    },
    {
      "cell_type": "code",
      "metadata": {
        "id": "H7xCdZ8cHzHi",
        "colab": {
          "base_uri": "https://localhost:8080/"
        },
        "outputId": "256a35b5-29dc-4044-f391-9601ded32f35"
      },
      "source": [
        "a1.shape"
      ],
      "execution_count": null,
      "outputs": [
        {
          "output_type": "execute_result",
          "data": {
            "text/plain": [
              "(3, 3, 3)"
            ]
          },
          "metadata": {},
          "execution_count": 249
        }
      ]
    },
    {
      "cell_type": "code",
      "metadata": {
        "id": "H-FN5XnsIBbQ",
        "colab": {
          "base_uri": "https://localhost:8080/"
        },
        "outputId": "f6b56bd0-f579-465b-f469-090024b4ceb3"
      },
      "source": [
        "a1.ndim"
      ],
      "execution_count": null,
      "outputs": [
        {
          "output_type": "execute_result",
          "data": {
            "text/plain": [
              "3"
            ]
          },
          "metadata": {},
          "execution_count": 250
        }
      ]
    },
    {
      "cell_type": "markdown",
      "metadata": {
        "id": "VgmB18BjSW_A"
      },
      "source": [
        "실습. a1에서 원소 14는 어느 위치에 있나요? 인덱싱을 통해 출력해주세요."
      ]
    },
    {
      "cell_type": "code",
      "metadata": {
        "id": "yt69Zk_pSYlp",
        "colab": {
          "base_uri": "https://localhost:8080/"
        },
        "outputId": "ab99f044-b2b9-482c-d6ee-9900ed2edb42"
      },
      "source": [
        "a1[0][1][1]"
      ],
      "execution_count": null,
      "outputs": [
        {
          "output_type": "execute_result",
          "data": {
            "text/plain": [
              "14"
            ]
          },
          "metadata": {},
          "execution_count": 252
        }
      ]
    },
    {
      "cell_type": "markdown",
      "metadata": {
        "id": "VCejwR-hOH_g"
      },
      "source": [
        "실습. a1에서 원소 24는 어느 위치에 있나요? 인덱싱을 통해 출력해주세요."
      ]
    },
    {
      "cell_type": "code",
      "metadata": {
        "id": "3p4Qy-02IG6z",
        "colab": {
          "base_uri": "https://localhost:8080/"
        },
        "outputId": "1fd0b2b4-0d3c-4e37-857b-5ea6300ce931"
      },
      "source": [
        "a1[1][1][1]"
      ],
      "execution_count": null,
      "outputs": [
        {
          "output_type": "execute_result",
          "data": {
            "text/plain": [
              "24"
            ]
          },
          "metadata": {},
          "execution_count": 253
        }
      ]
    },
    {
      "cell_type": "markdown",
      "metadata": {
        "id": "w8MhwMNlSgY6"
      },
      "source": [
        "실습. a1에서 아래의 부분만을 찾아 출력하세요.\n",
        "\n",
        "      [[30, 31, 32],\n",
        "       [33, 34, 35],\n",
        "       [36, 37, 38]]"
      ]
    },
    {
      "cell_type": "code",
      "metadata": {
        "id": "nkGtCxEvSu4I",
        "colab": {
          "base_uri": "https://localhost:8080/"
        },
        "outputId": "535cb3db-4fa1-49a8-c8e0-93b7a74c9a25"
      },
      "source": [
        "a1[2]"
      ],
      "execution_count": null,
      "outputs": [
        {
          "output_type": "execute_result",
          "data": {
            "text/plain": [
              "array([[30, 31, 32],\n",
              "       [33, 34, 35],\n",
              "       [36, 37, 38]])"
            ]
          },
          "metadata": {},
          "execution_count": 254
        }
      ]
    },
    {
      "cell_type": "code",
      "metadata": {
        "id": "XMxeI68vSbrq"
      },
      "source": [],
      "execution_count": null,
      "outputs": []
    },
    {
      "cell_type": "markdown",
      "metadata": {
        "id": "AQKJB51eRtPq"
      },
      "source": [
        "실습. a1에서 아래의 부분만을 출력하세요.\n",
        "\n",
        "      [[[10, 11, 12],\n",
        "        [13, 14, 15]],\n",
        "\n",
        "       [[20, 21, 22],\n",
        "        [23, 24, 25]],\n",
        "\n",
        "       [[30, 31, 32],\n",
        "        [33, 34, 35]]]"
      ]
    },
    {
      "cell_type": "code",
      "metadata": {
        "id": "oLRnQkkqJlfX"
      },
      "source": [
        "a1[시작점:끝점+1]"
      ],
      "execution_count": null,
      "outputs": []
    },
    {
      "cell_type": "code",
      "source": [
        "a1[:, :2, :] # 넘파이에서 슬라이싱 i 차원에서 다 쓰겠음, j 차원에서 0, 1, k차원 다쓰겠음"
      ],
      "metadata": {
        "colab": {
          "base_uri": "https://localhost:8080/"
        },
        "id": "kdhnLhCODpQJ",
        "outputId": "917a73a4-5fef-4c3a-fb1c-af1cc2a2fa20"
      },
      "execution_count": null,
      "outputs": [
        {
          "output_type": "execute_result",
          "data": {
            "text/plain": [
              "array([[[10, 11, 12],\n",
              "        [13, 14, 15]],\n",
              "\n",
              "       [[20, 21, 22],\n",
              "        [23, 24, 25]],\n",
              "\n",
              "       [[30, 31, 32],\n",
              "        [33, 34, 35]]])"
            ]
          },
          "metadata": {},
          "execution_count": 258
        }
      ]
    },
    {
      "cell_type": "markdown",
      "metadata": {
        "id": "6XRUFtISSNGv"
      },
      "source": [
        "실습. a1에서 아래의 부분만을 출력하세요.\n",
        "\n",
        "[20, 23]"
      ]
    },
    {
      "cell_type": "code",
      "metadata": {
        "id": "iOjDjeoCR3j4",
        "colab": {
          "base_uri": "https://localhost:8080/"
        },
        "outputId": "19abe8dc-f6d2-4721-d07e-852722eaf535"
      },
      "source": [
        "a1[1, :2, 0]"
      ],
      "execution_count": null,
      "outputs": [
        {
          "output_type": "execute_result",
          "data": {
            "text/plain": [
              "array([20, 23])"
            ]
          },
          "metadata": {},
          "execution_count": 265
        }
      ]
    },
    {
      "cell_type": "markdown",
      "metadata": {
        "id": "yicUsXpcTNgb"
      },
      "source": [
        "실습. a1에서 아래의 부분만을 출력하세요.\n",
        "\n",
        "      [[14, 17],\n",
        "       [24, 27],\n",
        "       [34, 37]]"
      ]
    },
    {
      "cell_type": "code",
      "metadata": {
        "id": "7Zn41IJ7TPFG"
      },
      "source": [
        "a2 = a1[:, 1:, 1] # i슬라이싱 j슬라이싱 k인덱싱 # 인덱싱 횟수만큼 차원이 벗겨져서 2차원"
      ],
      "execution_count": null,
      "outputs": []
    },
    {
      "cell_type": "code",
      "source": [
        "a3 = a1[:, 1:, 1:2]\n",
        "# i슬라이싱 j슬라이싱 k슬라이싱 - 3차원 모두 활용해서 값 가져옴"
      ],
      "metadata": {
        "id": "gd8lUfxvFcEx"
      },
      "execution_count": null,
      "outputs": []
    },
    {
      "cell_type": "code",
      "source": [
        "c.ndim, a3.ndim"
      ],
      "metadata": {
        "colab": {
          "base_uri": "https://localhost:8080/"
        },
        "id": "JA14g-SKGYsz",
        "outputId": "9f45352e-dff0-4bde-92d3-0df46d14d496"
      },
      "execution_count": null,
      "outputs": [
        {
          "output_type": "execute_result",
          "data": {
            "text/plain": [
              "(2, 3)"
            ]
          },
          "metadata": {},
          "execution_count": 271
        }
      ]
    },
    {
      "cell_type": "code",
      "source": [
        "a2.shape"
      ],
      "metadata": {
        "colab": {
          "base_uri": "https://localhost:8080/"
        },
        "id": "cx-1_GQAGd_o",
        "outputId": "42c58c95-6663-4e5f-86fe-2792f6c04410"
      },
      "execution_count": null,
      "outputs": [
        {
          "output_type": "execute_result",
          "data": {
            "text/plain": [
              "(3, 2)"
            ]
          },
          "metadata": {},
          "execution_count": 273
        }
      ]
    },
    {
      "cell_type": "code",
      "source": [
        "a3.shape"
      ],
      "metadata": {
        "colab": {
          "base_uri": "https://localhost:8080/"
        },
        "id": "KzwMWKL1GbjI",
        "outputId": "48bc07f8-ca80-42bf-d706-36ac921edd0f"
      },
      "execution_count": null,
      "outputs": [
        {
          "output_type": "execute_result",
          "data": {
            "text/plain": [
              "(3, 2, 1)"
            ]
          },
          "metadata": {},
          "execution_count": 272
        }
      ]
    },
    {
      "cell_type": "code",
      "source": [
        "a3"
      ],
      "metadata": {
        "colab": {
          "base_uri": "https://localhost:8080/"
        },
        "id": "6Lg167AnGof8",
        "outputId": "fe9e6b3e-afa2-484f-c8e2-3dce3ffdc627"
      },
      "execution_count": null,
      "outputs": [
        {
          "output_type": "execute_result",
          "data": {
            "text/plain": [
              "array([[[14],\n",
              "        [17]],\n",
              "\n",
              "       [[24],\n",
              "        [27]],\n",
              "\n",
              "       [[34],\n",
              "        [37]]])"
            ]
          },
          "metadata": {},
          "execution_count": 275
        }
      ]
    },
    {
      "cell_type": "code",
      "source": [
        "a4 = a3.reshape(3, 2)"
      ],
      "metadata": {
        "id": "YNP1vqAjGjL_"
      },
      "execution_count": null,
      "outputs": []
    },
    {
      "cell_type": "code",
      "source": [
        "a3.strides"
      ],
      "metadata": {
        "colab": {
          "base_uri": "https://localhost:8080/"
        },
        "id": "WFDvQyUkGyZc",
        "outputId": "744ee4c8-9b35-4127-f43f-6b318656d6c6"
      },
      "execution_count": null,
      "outputs": [
        {
          "output_type": "execute_result",
          "data": {
            "text/plain": [
              "(72, 24, 8)"
            ]
          },
          "metadata": {},
          "execution_count": 278
        }
      ]
    },
    {
      "cell_type": "code",
      "source": [
        "a4.strides"
      ],
      "metadata": {
        "colab": {
          "base_uri": "https://localhost:8080/"
        },
        "id": "8aswBysjG0er",
        "outputId": "542f513f-d909-4c7c-910c-eb30d7c49c79"
      },
      "execution_count": null,
      "outputs": [
        {
          "output_type": "execute_result",
          "data": {
            "text/plain": [
              "(72, 24)"
            ]
          },
          "metadata": {},
          "execution_count": 279
        }
      ]
    },
    {
      "cell_type": "code",
      "source": [
        "a3"
      ],
      "metadata": {
        "colab": {
          "base_uri": "https://localhost:8080/"
        },
        "id": "NHu3dqN_HM_d",
        "outputId": "f76e3596-f30a-47c3-cd49-20b13afa79db"
      },
      "execution_count": null,
      "outputs": [
        {
          "output_type": "execute_result",
          "data": {
            "text/plain": [
              "array([[[14],\n",
              "        [17]],\n",
              "\n",
              "       [[24],\n",
              "        [27]],\n",
              "\n",
              "       [[34],\n",
              "        [37]]])"
            ]
          },
          "metadata": {},
          "execution_count": 282
        }
      ]
    },
    {
      "cell_type": "code",
      "source": [
        "a3.shape"
      ],
      "metadata": {
        "colab": {
          "base_uri": "https://localhost:8080/"
        },
        "id": "BofHHYVmHPSy",
        "outputId": "4e06f667-a2cd-45ce-af23-9b25fc486765"
      },
      "execution_count": null,
      "outputs": [
        {
          "output_type": "execute_result",
          "data": {
            "text/plain": [
              "(3, 2, 1)"
            ]
          },
          "metadata": {},
          "execution_count": 284
        }
      ]
    },
    {
      "cell_type": "code",
      "source": [
        "a4 = a3.reshape(-1, 3) # reshape() 함수를 사용해서 구조를 변경할 때는 말단에 있는 형태는 유지하되 앞부분을 -1로 만들면\n",
        "# 알아서 말단의 구조를 유지하도록 나머지 차원이 만들어집니다."
      ],
      "metadata": {
        "id": "zNPFoY5SHa-0"
      },
      "execution_count": null,
      "outputs": []
    },
    {
      "cell_type": "code",
      "source": [
        "a4"
      ],
      "metadata": {
        "colab": {
          "base_uri": "https://localhost:8080/"
        },
        "id": "QSV8Ll5HHdYY",
        "outputId": "69700b98-8730-4ac1-b74c-5e708b1f1779"
      },
      "execution_count": null,
      "outputs": [
        {
          "output_type": "execute_result",
          "data": {
            "text/plain": [
              "array([[14, 17, 24],\n",
              "       [27, 34, 37]])"
            ]
          },
          "metadata": {},
          "execution_count": 288
        }
      ]
    },
    {
      "cell_type": "code",
      "source": [
        "a4 = a3.reshape(3, 2)"
      ],
      "metadata": {
        "id": "sOJ2MlLtHLSw"
      },
      "execution_count": null,
      "outputs": []
    },
    {
      "cell_type": "code",
      "source": [
        "a4.flatten() # 1차원의 배열로 결과를 만들어준다"
      ],
      "metadata": {
        "colab": {
          "base_uri": "https://localhost:8080/"
        },
        "id": "m5O2uEAUG6M9",
        "outputId": "d5a6093f-3b24-4f81-ca2e-d94c47dae758"
      },
      "execution_count": null,
      "outputs": [
        {
          "output_type": "execute_result",
          "data": {
            "text/plain": [
              "array([14, 17, 24, 27, 34, 37])"
            ]
          },
          "metadata": {},
          "execution_count": 281
        }
      ]
    },
    {
      "cell_type": "code",
      "source": [
        "a5 = a4.flatten()"
      ],
      "metadata": {
        "id": "EAkyq2CZHxCg"
      },
      "execution_count": null,
      "outputs": []
    },
    {
      "cell_type": "code",
      "source": [
        "a5"
      ],
      "metadata": {
        "colab": {
          "base_uri": "https://localhost:8080/"
        },
        "id": "RTa1TA4xHzJ8",
        "outputId": "9fbd063e-7e87-4cf4-ca14-b0b98fa5078a"
      },
      "execution_count": null,
      "outputs": [
        {
          "output_type": "execute_result",
          "data": {
            "text/plain": [
              "array([14, 17, 24, 27, 34, 37])"
            ]
          },
          "metadata": {},
          "execution_count": 290
        }
      ]
    },
    {
      "cell_type": "code",
      "source": [
        "a5.reshape(3,2)"
      ],
      "metadata": {
        "colab": {
          "base_uri": "https://localhost:8080/"
        },
        "id": "jrBqIaZ3H1oS",
        "outputId": "a99b00c0-9738-483e-f2f1-f0dfbb9117e2"
      },
      "execution_count": null,
      "outputs": [
        {
          "output_type": "execute_result",
          "data": {
            "text/plain": [
              "array([[14, 17],\n",
              "       [24, 27],\n",
              "       [34, 37]])"
            ]
          },
          "metadata": {},
          "execution_count": 291
        }
      ]
    },
    {
      "cell_type": "code",
      "source": [
        "a5.reshape(-1, 2)"
      ],
      "metadata": {
        "colab": {
          "base_uri": "https://localhost:8080/"
        },
        "id": "0Zw0rbwuH51a",
        "outputId": "09535840-a8c1-40c8-a14a-f1b902546af4"
      },
      "execution_count": null,
      "outputs": [
        {
          "output_type": "execute_result",
          "data": {
            "text/plain": [
              "array([[14, 17],\n",
              "       [24, 27],\n",
              "       [34, 37]])"
            ]
          },
          "metadata": {},
          "execution_count": 292
        }
      ]
    },
    {
      "cell_type": "code",
      "source": [],
      "metadata": {
        "id": "xzP46vG5LfOu"
      },
      "execution_count": null,
      "outputs": []
    },
    {
      "cell_type": "code",
      "source": [
        "a5.reshape(-1, 4) # ValueError: cannot reshape array of size 6 into shape (4)"
      ],
      "metadata": {
        "colab": {
          "base_uri": "https://localhost:8080/",
          "height": 174
        },
        "id": "gbLabAa7IAWQ",
        "outputId": "e7ec6751-2cd4-4e0a-bf8d-e5638439b5a0"
      },
      "execution_count": null,
      "outputs": [
        {
          "output_type": "error",
          "ename": "ValueError",
          "evalue": "ignored",
          "traceback": [
            "\u001b[0;31m---------------------------------------------------------------------------\u001b[0m",
            "\u001b[0;31mValueError\u001b[0m                                Traceback (most recent call last)",
            "\u001b[0;32m<ipython-input-294-4cff84d5d60a>\u001b[0m in \u001b[0;36m<cell line: 1>\u001b[0;34m()\u001b[0m\n\u001b[0;32m----> 1\u001b[0;31m \u001b[0ma5\u001b[0m\u001b[0;34m.\u001b[0m\u001b[0mreshape\u001b[0m\u001b[0;34m(\u001b[0m\u001b[0;34m-\u001b[0m\u001b[0;36m1\u001b[0m\u001b[0;34m,\u001b[0m \u001b[0;36m4\u001b[0m\u001b[0;34m)\u001b[0m\u001b[0;34m\u001b[0m\u001b[0;34m\u001b[0m\u001b[0m\n\u001b[0m",
            "\u001b[0;31mValueError\u001b[0m: cannot reshape array of size 6 into shape (4)"
          ]
        }
      ]
    },
    {
      "cell_type": "code",
      "source": [
        "a5.shape"
      ],
      "metadata": {
        "colab": {
          "base_uri": "https://localhost:8080/"
        },
        "id": "gK_L8aSELl1A",
        "outputId": "3a9fd887-78ba-4d7e-b071-ffc898bca6ca"
      },
      "execution_count": null,
      "outputs": [
        {
          "output_type": "execute_result",
          "data": {
            "text/plain": [
              "(6,)"
            ]
          },
          "metadata": {},
          "execution_count": 296
        }
      ]
    },
    {
      "cell_type": "code",
      "source": [
        "a5.reshape(2, -1, 1)"
      ],
      "metadata": {
        "colab": {
          "base_uri": "https://localhost:8080/"
        },
        "id": "pZMKAtNnLlBv",
        "outputId": "c486f058-158b-482b-ddd6-a1fea2b0b5d2"
      },
      "execution_count": null,
      "outputs": [
        {
          "output_type": "execute_result",
          "data": {
            "text/plain": [
              "array([[[14],\n",
              "        [17],\n",
              "        [24]],\n",
              "\n",
              "       [[27],\n",
              "        [34],\n",
              "        [37]]])"
            ]
          },
          "metadata": {},
          "execution_count": 299
        }
      ]
    },
    {
      "cell_type": "markdown",
      "source": [
        "# 자료의 형태\n",
        "- Scalar: 점, 수 하나. 방향이 없고 양만 있는 것\n",
        "          파이썬 - 변하지 않는 숫자 (상수) 정도로 이해\n",
        "\n",
        "- Vector: 선, 한 열이나 행으로 이뤄진 수 조합\n",
        "          양과 방향성을 가지고 있는 형태\n",
        "          파이썬 - 행이 n개이고 열이 1인 형태의 배열\n",
        "\n",
        "- Matrix : 면,\n",
        "           여러개의 벡터가 모여서 이룬 하나의 행렬을 의미합니다.\n"
      ],
      "metadata": {
        "id": "tULc495bDEjZ"
      }
    },
    {
      "cell_type": "code",
      "source": [
        "a = 3  # 스칼라"
      ],
      "metadata": {
        "id": "JSeQdL6iEMKB"
      },
      "execution_count": null,
      "outputs": []
    },
    {
      "cell_type": "code",
      "source": [
        "a = [1, 2, 3, 4, 5] # 행벡터"
      ],
      "metadata": {
        "id": "Xbsb-NN3EOn2"
      },
      "execution_count": null,
      "outputs": []
    },
    {
      "cell_type": "code",
      "source": [
        "b = [\n",
        "     [1],\n",
        "     [2],\n",
        "     [3],\n",
        "     [4],\n",
        "     [5],\n",
        "     ]  # 열벡터"
      ],
      "metadata": {
        "id": "N0bV7N7nESm4"
      },
      "execution_count": null,
      "outputs": []
    },
    {
      "cell_type": "code",
      "source": [
        "c = np.array([ [1, 2, 3, 4], [5, 6, 7, 8]])"
      ],
      "metadata": {
        "id": "Mkz12neMEZPV"
      },
      "execution_count": null,
      "outputs": []
    },
    {
      "cell_type": "code",
      "source": [
        "c # Matrix"
      ],
      "metadata": {
        "id": "Rg0a2_qvEgrb",
        "colab": {
          "base_uri": "https://localhost:8080/"
        },
        "outputId": "382c772b-b56f-4fbc-f123-90952100babf"
      },
      "execution_count": null,
      "outputs": [
        {
          "output_type": "execute_result",
          "data": {
            "text/plain": [
              "array([[1, 2, 3, 4],\n",
              "       [5, 6, 7, 8]])"
            ]
          },
          "metadata": {},
          "execution_count": 306
        }
      ]
    },
    {
      "cell_type": "markdown",
      "source": [
        "# 특별한 몇가지 벡터 영백터, 일벡터"
      ],
      "metadata": {
        "id": "IbkodSg5HjRm"
      }
    },
    {
      "cell_type": "code",
      "source": [
        "np.zeros(4) # 0이 4개 있는 행벡터"
      ],
      "metadata": {
        "id": "hLEBvcQfHoJo",
        "colab": {
          "base_uri": "https://localhost:8080/"
        },
        "outputId": "82f87c76-374d-4e7f-8bb7-9906a4345efb"
      },
      "execution_count": null,
      "outputs": [
        {
          "output_type": "execute_result",
          "data": {
            "text/plain": [
              "array([0., 0., 0., 0.])"
            ]
          },
          "metadata": {},
          "execution_count": 308
        }
      ]
    },
    {
      "cell_type": "code",
      "source": [
        "np.zeros((4,1))"
      ],
      "metadata": {
        "colab": {
          "base_uri": "https://localhost:8080/"
        },
        "id": "k34Kewa7WlBu",
        "outputId": "dbfa32b7-d982-4135-a799-a1d66d345fa0"
      },
      "execution_count": null,
      "outputs": [
        {
          "output_type": "execute_result",
          "data": {
            "text/plain": [
              "array([[0.],\n",
              "       [0.],\n",
              "       [0.],\n",
              "       [0.]])"
            ]
          },
          "metadata": {},
          "execution_count": 368
        }
      ]
    },
    {
      "cell_type": "code",
      "source": [
        "np.zeros((4,1)).T"
      ],
      "metadata": {
        "colab": {
          "base_uri": "https://localhost:8080/"
        },
        "id": "13b2eRjUWvyv",
        "outputId": "16c57b9a-51dd-4bd7-9c4c-72087e6455a8"
      },
      "execution_count": null,
      "outputs": [
        {
          "output_type": "execute_result",
          "data": {
            "text/plain": [
              "array([[0., 0., 0., 0.]])"
            ]
          },
          "metadata": {},
          "execution_count": 369
        }
      ]
    },
    {
      "cell_type": "code",
      "source": [
        "np.zeros((2,3))  # 튜플 형식으로 구조를 지정"
      ],
      "metadata": {
        "id": "ywPUZ6wNH7jP",
        "colab": {
          "base_uri": "https://localhost:8080/"
        },
        "outputId": "30c2a502-323c-4ac4-d89c-ee02a9eaebad"
      },
      "execution_count": null,
      "outputs": [
        {
          "output_type": "execute_result",
          "data": {
            "text/plain": [
              "array([[0., 0., 0.],\n",
              "       [0., 0., 0.]])"
            ]
          },
          "metadata": {},
          "execution_count": 310
        }
      ]
    },
    {
      "cell_type": "code",
      "source": [
        "np.zeros((2,3), dtype='int')"
      ],
      "metadata": {
        "id": "ymcI08oTIDWD",
        "colab": {
          "base_uri": "https://localhost:8080/"
        },
        "outputId": "b8a7393b-1222-4be9-fe72-362204d098ab"
      },
      "execution_count": null,
      "outputs": [
        {
          "output_type": "execute_result",
          "data": {
            "text/plain": [
              "array([[0, 0, 0],\n",
              "       [0, 0, 0]])"
            ]
          },
          "metadata": {},
          "execution_count": 311
        }
      ]
    },
    {
      "cell_type": "code",
      "source": [
        "# 0만 4개 들어있는 열벡터를 만들어주세요\n",
        "np.zeros((4,1))"
      ],
      "metadata": {
        "id": "6FDc6ptRIKzK",
        "colab": {
          "base_uri": "https://localhost:8080/"
        },
        "outputId": "88849666-f60b-43e9-b004-9bfafe438f21"
      },
      "execution_count": null,
      "outputs": [
        {
          "output_type": "execute_result",
          "data": {
            "text/plain": [
              "array([[0.],\n",
              "       [0.],\n",
              "       [0.],\n",
              "       [0.]])"
            ]
          },
          "metadata": {},
          "execution_count": 313
        }
      ]
    },
    {
      "cell_type": "code",
      "source": [
        "np.zeros(4, 'int').reshape(-1, 1)"
      ],
      "metadata": {
        "id": "Mwyz9ExlIjVQ",
        "colab": {
          "base_uri": "https://localhost:8080/"
        },
        "outputId": "0184de51-5def-4dbe-dfcb-4655e5dae3ca"
      },
      "execution_count": null,
      "outputs": [
        {
          "output_type": "execute_result",
          "data": {
            "text/plain": [
              "array([[0],\n",
              "       [0],\n",
              "       [0],\n",
              "       [0]])"
            ]
          },
          "metadata": {},
          "execution_count": 315
        }
      ]
    },
    {
      "cell_type": "code",
      "source": [
        "np.ones(4, 'int')"
      ],
      "metadata": {
        "id": "FBgMd6MgImHu",
        "colab": {
          "base_uri": "https://localhost:8080/"
        },
        "outputId": "7fadd20d-3e2d-4159-9700-4d6f8693feef"
      },
      "execution_count": null,
      "outputs": [
        {
          "output_type": "execute_result",
          "data": {
            "text/plain": [
              "array([1, 1, 1, 1])"
            ]
          },
          "metadata": {},
          "execution_count": 316
        }
      ]
    },
    {
      "cell_type": "code",
      "source": [
        "np.ones((4,2,2))"
      ],
      "metadata": {
        "id": "eWquwf6MItdw",
        "colab": {
          "base_uri": "https://localhost:8080/"
        },
        "outputId": "3d3498b5-4ff2-43e2-94e2-9dfe359de9be"
      },
      "execution_count": null,
      "outputs": [
        {
          "output_type": "execute_result",
          "data": {
            "text/plain": [
              "array([[[1., 1.],\n",
              "        [1., 1.]],\n",
              "\n",
              "       [[1., 1.],\n",
              "        [1., 1.]],\n",
              "\n",
              "       [[1., 1.],\n",
              "        [1., 1.]],\n",
              "\n",
              "       [[1., 1.],\n",
              "        [1., 1.]]])"
            ]
          },
          "metadata": {},
          "execution_count": 317
        }
      ]
    },
    {
      "cell_type": "markdown",
      "source": [
        "# 실습.  c를 3행 2열짜리 행렬로 만들어주세요."
      ],
      "metadata": {
        "id": "ZxKcwwQlIvo_"
      }
    },
    {
      "cell_type": "code",
      "source": [
        "c"
      ],
      "metadata": {
        "id": "54QoIW5fI1b8",
        "colab": {
          "base_uri": "https://localhost:8080/"
        },
        "outputId": "ca6df9b0-dffe-4b4b-fe93-7e9219f9f2ad"
      },
      "execution_count": null,
      "outputs": [
        {
          "output_type": "execute_result",
          "data": {
            "text/plain": [
              "array([[1, 2, 3, 4],\n",
              "       [5, 6, 7, 8]])"
            ]
          },
          "metadata": {},
          "execution_count": 318
        }
      ]
    },
    {
      "cell_type": "code",
      "source": [
        "c.reshape(3, 2)"
      ],
      "metadata": {
        "colab": {
          "base_uri": "https://localhost:8080/",
          "height": 174
        },
        "id": "bhNAFqKtQC-w",
        "outputId": "44066939-e1d7-4c2d-81a6-af1b50f84466"
      },
      "execution_count": null,
      "outputs": [
        {
          "output_type": "error",
          "ename": "ValueError",
          "evalue": "ignored",
          "traceback": [
            "\u001b[0;31m---------------------------------------------------------------------------\u001b[0m",
            "\u001b[0;31mValueError\u001b[0m                                Traceback (most recent call last)",
            "\u001b[0;32m<ipython-input-320-1091a4dc8421>\u001b[0m in \u001b[0;36m<cell line: 1>\u001b[0;34m()\u001b[0m\n\u001b[0;32m----> 1\u001b[0;31m \u001b[0mc\u001b[0m\u001b[0;34m.\u001b[0m\u001b[0mreshape\u001b[0m\u001b[0;34m(\u001b[0m\u001b[0;36m3\u001b[0m\u001b[0;34m,\u001b[0m \u001b[0;36m2\u001b[0m\u001b[0;34m)\u001b[0m\u001b[0;34m\u001b[0m\u001b[0;34m\u001b[0m\u001b[0m\n\u001b[0m",
            "\u001b[0;31mValueError\u001b[0m: cannot reshape array of size 8 into shape (3,2)"
          ]
        }
      ]
    },
    {
      "cell_type": "code",
      "source": [
        "c.reshape(-1, 2)"
      ],
      "metadata": {
        "colab": {
          "base_uri": "https://localhost:8080/"
        },
        "id": "cbJtoaN1Qhgo",
        "outputId": "97a4ef57-fc2b-4b4a-82c6-069c1028aa0a"
      },
      "execution_count": null,
      "outputs": [
        {
          "output_type": "execute_result",
          "data": {
            "text/plain": [
              "array([[1, 2],\n",
              "       [3, 4],\n",
              "       [5, 6],\n",
              "       [7, 8]])"
            ]
          },
          "metadata": {},
          "execution_count": 321
        }
      ]
    },
    {
      "cell_type": "code",
      "source": [
        "c.reshape(4, -1)"
      ],
      "metadata": {
        "colab": {
          "base_uri": "https://localhost:8080/"
        },
        "id": "3guo0MppQnB5",
        "outputId": "2f34c0b5-943d-4bc2-9ef7-d31b2c917f8c"
      },
      "execution_count": null,
      "outputs": [
        {
          "output_type": "execute_result",
          "data": {
            "text/plain": [
              "array([[1, 2],\n",
              "       [3, 4],\n",
              "       [5, 6],\n",
              "       [7, 8]])"
            ]
          },
          "metadata": {},
          "execution_count": 322
        }
      ]
    },
    {
      "cell_type": "markdown",
      "source": [
        "# 3행 2열짜리 영벡터를 하나 만들어주세요."
      ],
      "metadata": {
        "id": "T0OTTZcNJaQ7"
      }
    },
    {
      "cell_type": "code",
      "source": [
        "np.zeros((3,2))"
      ],
      "metadata": {
        "id": "d9ul4XbZJfJl",
        "colab": {
          "base_uri": "https://localhost:8080/"
        },
        "outputId": "e16fdf9e-43da-428c-871e-35de9687f6ed"
      },
      "execution_count": null,
      "outputs": [
        {
          "output_type": "execute_result",
          "data": {
            "text/plain": [
              "array([[0., 0.],\n",
              "       [0., 0.],\n",
              "       [0., 0.]])"
            ]
          },
          "metadata": {},
          "execution_count": 324
        }
      ]
    },
    {
      "cell_type": "code",
      "source": [
        "np.zeros((3,2), int)"
      ],
      "metadata": {
        "id": "Xs2dHYQFKyaZ",
        "colab": {
          "base_uri": "https://localhost:8080/"
        },
        "outputId": "d62249ca-e935-4468-b298-43cb93e78a3e"
      },
      "execution_count": null,
      "outputs": [
        {
          "output_type": "execute_result",
          "data": {
            "text/plain": [
              "array([[0, 0],\n",
              "       [0, 0],\n",
              "       [0, 0]])"
            ]
          },
          "metadata": {},
          "execution_count": 325
        }
      ]
    },
    {
      "cell_type": "code",
      "source": [
        "np.zeros((3,2), bool)"
      ],
      "metadata": {
        "id": "LO3DSninKuuK",
        "colab": {
          "base_uri": "https://localhost:8080/"
        },
        "outputId": "02e06015-4805-4d9c-be2d-b0e92fbe41d1"
      },
      "execution_count": null,
      "outputs": [
        {
          "output_type": "execute_result",
          "data": {
            "text/plain": [
              "array([[False, False],\n",
              "       [False, False],\n",
              "       [False, False]])"
            ]
          },
          "metadata": {},
          "execution_count": 326
        }
      ]
    },
    {
      "cell_type": "markdown",
      "metadata": {
        "id": "-x73D9AZcrgj"
      },
      "source": [
        "## 다차원 배열 만들기\n",
        "\n",
        "실습. a라는 ndarray를 만들어 아래의 데이터를 넣고 차원과 모양을 확인해보세요.\n",
        "\n",
        "[10, 20, 30], [40, 50, 60]"
      ]
    },
    {
      "cell_type": "code",
      "metadata": {
        "id": "n9G-72aHLdRU"
      },
      "source": [
        "a = np.array([[10, 20, 30], [40, 50, 60]])"
      ],
      "execution_count": null,
      "outputs": []
    },
    {
      "cell_type": "code",
      "metadata": {
        "id": "VUDVDLeQLlEH",
        "colab": {
          "base_uri": "https://localhost:8080/"
        },
        "outputId": "a58bd448-74a8-470f-9225-cd6bda05118a"
      },
      "source": [
        "a"
      ],
      "execution_count": null,
      "outputs": [
        {
          "output_type": "execute_result",
          "data": {
            "text/plain": [
              "array([[10, 20, 30],\n",
              "       [40, 50, 60]])"
            ]
          },
          "metadata": {},
          "execution_count": 329
        }
      ]
    },
    {
      "cell_type": "code",
      "metadata": {
        "id": "ecS2xIdeLpOZ",
        "colab": {
          "base_uri": "https://localhost:8080/"
        },
        "outputId": "e1181b42-f5cf-490d-a7d4-c98857aa7099"
      },
      "source": [
        "a.shape"
      ],
      "execution_count": null,
      "outputs": [
        {
          "output_type": "execute_result",
          "data": {
            "text/plain": [
              "(2, 3)"
            ]
          },
          "metadata": {},
          "execution_count": 330
        }
      ]
    },
    {
      "cell_type": "code",
      "metadata": {
        "id": "Fby8SgFDLxFH",
        "colab": {
          "base_uri": "https://localhost:8080/"
        },
        "outputId": "fba7a832-1cc0-4fa9-ce09-202875361b48"
      },
      "source": [
        "a.ndim"
      ],
      "execution_count": null,
      "outputs": [
        {
          "output_type": "execute_result",
          "data": {
            "text/plain": [
              "2"
            ]
          },
          "metadata": {},
          "execution_count": 331
        }
      ]
    },
    {
      "cell_type": "markdown",
      "metadata": {
        "id": "9plwkvWPcyv5"
      },
      "source": [
        "실습 : [1, 2], [3, 4], [5, 6]의 원소로 구성된 a라는 3차원 행렬을 만들고 출력해보세요."
      ]
    },
    {
      "cell_type": "code",
      "metadata": {
        "id": "ZWZCpibaL5pX"
      },
      "source": [
        "a = np.array([\n",
        "    [\n",
        "        [1, 2],\n",
        "        [3, 4],\n",
        "        [5, 6]\n",
        "    ]\n",
        "])"
      ],
      "execution_count": null,
      "outputs": []
    },
    {
      "cell_type": "code",
      "metadata": {
        "id": "38UmMPeaMYBe",
        "colab": {
          "base_uri": "https://localhost:8080/"
        },
        "outputId": "43a5d74b-4ce4-4fad-f607-67e86412de72"
      },
      "source": [
        "a.shape"
      ],
      "execution_count": null,
      "outputs": [
        {
          "output_type": "execute_result",
          "data": {
            "text/plain": [
              "(1, 3, 2)"
            ]
          },
          "metadata": {},
          "execution_count": 334
        }
      ]
    },
    {
      "cell_type": "code",
      "metadata": {
        "id": "oh-6XFdlMZEs",
        "colab": {
          "base_uri": "https://localhost:8080/"
        },
        "outputId": "878aa39e-d86e-4448-8cab-85b27ff852a8"
      },
      "source": [
        "a.ndim"
      ],
      "execution_count": null,
      "outputs": [
        {
          "output_type": "execute_result",
          "data": {
            "text/plain": [
              "3"
            ]
          },
          "metadata": {},
          "execution_count": 335
        }
      ]
    },
    {
      "cell_type": "code",
      "source": [
        "a[0]"
      ],
      "metadata": {
        "id": "kBOaZdpSNxI6",
        "colab": {
          "base_uri": "https://localhost:8080/"
        },
        "outputId": "376bf67a-1cb5-4ecf-fadd-2116408e346e"
      },
      "execution_count": null,
      "outputs": [
        {
          "output_type": "execute_result",
          "data": {
            "text/plain": [
              "array([[1, 2],\n",
              "       [3, 4],\n",
              "       [5, 6]])"
            ]
          },
          "metadata": {},
          "execution_count": 336
        }
      ]
    },
    {
      "cell_type": "code",
      "source": [
        "a[0][0]"
      ],
      "metadata": {
        "id": "B1CCSCl8N15t",
        "colab": {
          "base_uri": "https://localhost:8080/"
        },
        "outputId": "7db91696-243b-432f-9d03-9cf403810097"
      },
      "execution_count": null,
      "outputs": [
        {
          "output_type": "execute_result",
          "data": {
            "text/plain": [
              "array([1, 2])"
            ]
          },
          "metadata": {},
          "execution_count": 337
        }
      ]
    },
    {
      "cell_type": "code",
      "source": [
        "a[0][1]"
      ],
      "metadata": {
        "id": "RBrs0rJ5NKxA",
        "colab": {
          "base_uri": "https://localhost:8080/"
        },
        "outputId": "93a0194a-1479-4efa-dded-e90f0d67ce58"
      },
      "execution_count": null,
      "outputs": [
        {
          "output_type": "execute_result",
          "data": {
            "text/plain": [
              "array([3, 4])"
            ]
          },
          "metadata": {},
          "execution_count": 338
        }
      ]
    },
    {
      "cell_type": "code",
      "source": [
        "a[0][2]"
      ],
      "metadata": {
        "id": "YfKM3KzzOOpY",
        "colab": {
          "base_uri": "https://localhost:8080/"
        },
        "outputId": "c0d12ff8-8a36-44fc-b74c-dcc7164067c2"
      },
      "execution_count": null,
      "outputs": [
        {
          "output_type": "execute_result",
          "data": {
            "text/plain": [
              "array([5, 6])"
            ]
          },
          "metadata": {},
          "execution_count": 339
        }
      ]
    },
    {
      "cell_type": "code",
      "source": [
        "a[0][2][0]"
      ],
      "metadata": {
        "colab": {
          "base_uri": "https://localhost:8080/"
        },
        "id": "c-dVKi8dRxSA",
        "outputId": "39c19eb8-710f-48e0-a969-d679ef349bf5"
      },
      "execution_count": null,
      "outputs": [
        {
          "output_type": "execute_result",
          "data": {
            "text/plain": [
              "5"
            ]
          },
          "metadata": {},
          "execution_count": 340
        }
      ]
    },
    {
      "cell_type": "code",
      "source": [
        "a[0, 2, 0]"
      ],
      "metadata": {
        "colab": {
          "base_uri": "https://localhost:8080/"
        },
        "id": "sAXU3SmJSF_m",
        "outputId": "0285cd60-6a3d-4dd1-8301-db04b3598c19"
      },
      "execution_count": null,
      "outputs": [
        {
          "output_type": "execute_result",
          "data": {
            "text/plain": [
              "5"
            ]
          },
          "metadata": {},
          "execution_count": 344
        }
      ]
    },
    {
      "cell_type": "code",
      "source": [
        "a[:, 2:, 0]"
      ],
      "metadata": {
        "colab": {
          "base_uri": "https://localhost:8080/"
        },
        "id": "IfJNOsCQRznf",
        "outputId": "729782c3-5215-4592-9f46-3e1a252db19b"
      },
      "execution_count": null,
      "outputs": [
        {
          "output_type": "execute_result",
          "data": {
            "text/plain": [
              "array([[5]])"
            ]
          },
          "metadata": {},
          "execution_count": 342
        }
      ]
    },
    {
      "cell_type": "code",
      "source": [
        "a[:, 2:, 0].reshape(-1)"
      ],
      "metadata": {
        "colab": {
          "base_uri": "https://localhost:8080/"
        },
        "id": "HwqtKmzrSAqh",
        "outputId": "fabac2dc-755d-48cc-bf5a-1622c05a9416"
      },
      "execution_count": null,
      "outputs": [
        {
          "output_type": "execute_result",
          "data": {
            "text/plain": [
              "array([5])"
            ]
          },
          "metadata": {},
          "execution_count": 345
        }
      ]
    },
    {
      "cell_type": "markdown",
      "metadata": {
        "id": "hLQYS6FbfQp9"
      },
      "source": [
        "## 넘파이가 제공하는 기본 연산"
      ]
    },
    {
      "cell_type": "code",
      "metadata": {
        "id": "BvoZxt_DNuCM",
        "colab": {
          "base_uri": "https://localhost:8080/"
        },
        "outputId": "a597dcdc-bfb7-47bd-ee6d-420f1fcc25e0"
      },
      "source": [
        "np.append(a, 7) # 값을 넣는 메소드"
      ],
      "execution_count": null,
      "outputs": [
        {
          "output_type": "execute_result",
          "data": {
            "text/plain": [
              "array([1, 2, 3, 4, 5, 6, 7])"
            ]
          },
          "metadata": {},
          "execution_count": 348
        }
      ]
    },
    {
      "cell_type": "code",
      "metadata": {
        "id": "ehJc-JNIPt8f",
        "colab": {
          "base_uri": "https://localhost:8080/"
        },
        "outputId": "3039d31e-6ca0-436f-b7ce-e46067132ba4"
      },
      "source": [
        "np.insert(a, 2, 20)  # np.insert(배열이름, 값을넣은인덱스번호, 넣을 값)"
      ],
      "execution_count": null,
      "outputs": [
        {
          "output_type": "execute_result",
          "data": {
            "text/plain": [
              "array([ 1,  2, 20,  3,  4,  5,  6])"
            ]
          },
          "metadata": {},
          "execution_count": 349
        }
      ]
    },
    {
      "cell_type": "code",
      "source": [
        "a"
      ],
      "metadata": {
        "colab": {
          "base_uri": "https://localhost:8080/"
        },
        "id": "eIvgOcyCThIz",
        "outputId": "32f1c4e3-50b7-4417-e567-e6a3420a10c3"
      },
      "execution_count": null,
      "outputs": [
        {
          "output_type": "execute_result",
          "data": {
            "text/plain": [
              "array([[[1, 2],\n",
              "        [3, 4],\n",
              "        [5, 6]]])"
            ]
          },
          "metadata": {},
          "execution_count": 350
        }
      ]
    },
    {
      "cell_type": "code",
      "metadata": {
        "id": "WDIitUQqPzdG",
        "colab": {
          "base_uri": "https://localhost:8080/"
        },
        "outputId": "6e0ec2b6-927a-4de3-f2f6-4a8e7bdbe457"
      },
      "source": [
        "# 4번째 자리에 55라는 값을 넣어주세요\n",
        "np.insert(a, 3, 55)"
      ],
      "execution_count": null,
      "outputs": [
        {
          "output_type": "execute_result",
          "data": {
            "text/plain": [
              "array([ 1,  2,  3, 55,  4,  5,  6])"
            ]
          },
          "metadata": {},
          "execution_count": 351
        }
      ]
    },
    {
      "cell_type": "code",
      "source": [
        "a"
      ],
      "metadata": {
        "colab": {
          "base_uri": "https://localhost:8080/"
        },
        "id": "s0eQTKDIT1As",
        "outputId": "6257cf80-2826-4be8-b699-15d61a1cd281"
      },
      "execution_count": null,
      "outputs": [
        {
          "output_type": "execute_result",
          "data": {
            "text/plain": [
              "array([[[1, 2],\n",
              "        [3, 4],\n",
              "        [5, 6]]])"
            ]
          },
          "metadata": {},
          "execution_count": 352
        }
      ]
    },
    {
      "cell_type": "code",
      "metadata": {
        "id": "agBeT1fvPz_1",
        "colab": {
          "base_uri": "https://localhost:8080/"
        },
        "outputId": "0ced0ac1-66aa-4a77-9d0d-5558e2262ffa"
      },
      "source": [
        "np.insert(a[0], 1, 55, axis=0)"
      ],
      "execution_count": null,
      "outputs": [
        {
          "output_type": "execute_result",
          "data": {
            "text/plain": [
              "array([[ 1,  2],\n",
              "       [55, 55],\n",
              "       [ 3,  4],\n",
              "       [ 5,  6]])"
            ]
          },
          "metadata": {},
          "execution_count": 354
        }
      ]
    },
    {
      "cell_type": "code",
      "metadata": {
        "id": "fKp7dIaCP5-S",
        "colab": {
          "base_uri": "https://localhost:8080/"
        },
        "outputId": "4196926c-ece8-4bd8-9e38-4bfe634bc3ff"
      },
      "source": [
        "np.insert(a[0], 1, [51, 55], axis=0)"
      ],
      "execution_count": null,
      "outputs": [
        {
          "output_type": "execute_result",
          "data": {
            "text/plain": [
              "array([[ 1,  2],\n",
              "       [51, 55],\n",
              "       [ 3,  4],\n",
              "       [ 5,  6]])"
            ]
          },
          "metadata": {},
          "execution_count": 355
        }
      ]
    },
    {
      "cell_type": "code",
      "source": [
        "np.insert(a[0], 1, [51, 55, 56], axis=0)"
      ],
      "metadata": {
        "id": "w-Gy9kFxQMgO",
        "colab": {
          "base_uri": "https://localhost:8080/",
          "height": 345
        },
        "outputId": "cb4c167a-bf1e-4b97-f3bf-8f447b04502a"
      },
      "execution_count": null,
      "outputs": [
        {
          "output_type": "error",
          "ename": "ValueError",
          "evalue": "ignored",
          "traceback": [
            "\u001b[0;31m---------------------------------------------------------------------------\u001b[0m",
            "\u001b[0;31mValueError\u001b[0m                                Traceback (most recent call last)",
            "\u001b[0;32m<ipython-input-356-9d65da0a3bea>\u001b[0m in \u001b[0;36m<cell line: 1>\u001b[0;34m()\u001b[0m\n\u001b[0;32m----> 1\u001b[0;31m \u001b[0mnp\u001b[0m\u001b[0;34m.\u001b[0m\u001b[0minsert\u001b[0m\u001b[0;34m(\u001b[0m\u001b[0ma\u001b[0m\u001b[0;34m[\u001b[0m\u001b[0;36m0\u001b[0m\u001b[0;34m]\u001b[0m\u001b[0;34m,\u001b[0m \u001b[0;36m1\u001b[0m\u001b[0;34m,\u001b[0m \u001b[0;34m[\u001b[0m\u001b[0;36m51\u001b[0m\u001b[0;34m,\u001b[0m \u001b[0;36m55\u001b[0m\u001b[0;34m,\u001b[0m \u001b[0;36m56\u001b[0m\u001b[0;34m]\u001b[0m\u001b[0;34m,\u001b[0m \u001b[0maxis\u001b[0m\u001b[0;34m=\u001b[0m\u001b[0;36m0\u001b[0m\u001b[0;34m)\u001b[0m\u001b[0;34m\u001b[0m\u001b[0;34m\u001b[0m\u001b[0m\n\u001b[0m",
            "\u001b[0;32m/usr/local/lib/python3.10/dist-packages/numpy/core/overrides.py\u001b[0m in \u001b[0;36minsert\u001b[0;34m(*args, **kwargs)\u001b[0m\n",
            "\u001b[0;32m/usr/local/lib/python3.10/dist-packages/numpy/lib/function_base.py\u001b[0m in \u001b[0;36minsert\u001b[0;34m(arr, obj, values, axis)\u001b[0m\n\u001b[1;32m   5297\u001b[0m         \u001b[0mnew\u001b[0m\u001b[0;34m[\u001b[0m\u001b[0mtuple\u001b[0m\u001b[0;34m(\u001b[0m\u001b[0mslobj\u001b[0m\u001b[0;34m)\u001b[0m\u001b[0;34m]\u001b[0m \u001b[0;34m=\u001b[0m \u001b[0marr\u001b[0m\u001b[0;34m[\u001b[0m\u001b[0mtuple\u001b[0m\u001b[0;34m(\u001b[0m\u001b[0mslobj\u001b[0m\u001b[0;34m)\u001b[0m\u001b[0;34m]\u001b[0m\u001b[0;34m\u001b[0m\u001b[0;34m\u001b[0m\u001b[0m\n\u001b[1;32m   5298\u001b[0m         \u001b[0mslobj\u001b[0m\u001b[0;34m[\u001b[0m\u001b[0maxis\u001b[0m\u001b[0;34m]\u001b[0m \u001b[0;34m=\u001b[0m \u001b[0mslice\u001b[0m\u001b[0;34m(\u001b[0m\u001b[0mindex\u001b[0m\u001b[0;34m,\u001b[0m \u001b[0mindex\u001b[0m\u001b[0;34m+\u001b[0m\u001b[0mnumnew\u001b[0m\u001b[0;34m)\u001b[0m\u001b[0;34m\u001b[0m\u001b[0;34m\u001b[0m\u001b[0m\n\u001b[0;32m-> 5299\u001b[0;31m         \u001b[0mnew\u001b[0m\u001b[0;34m[\u001b[0m\u001b[0mtuple\u001b[0m\u001b[0;34m(\u001b[0m\u001b[0mslobj\u001b[0m\u001b[0;34m)\u001b[0m\u001b[0;34m]\u001b[0m \u001b[0;34m=\u001b[0m \u001b[0mvalues\u001b[0m\u001b[0;34m\u001b[0m\u001b[0;34m\u001b[0m\u001b[0m\n\u001b[0m\u001b[1;32m   5300\u001b[0m         \u001b[0mslobj\u001b[0m\u001b[0;34m[\u001b[0m\u001b[0maxis\u001b[0m\u001b[0;34m]\u001b[0m \u001b[0;34m=\u001b[0m \u001b[0mslice\u001b[0m\u001b[0;34m(\u001b[0m\u001b[0mindex\u001b[0m\u001b[0;34m+\u001b[0m\u001b[0mnumnew\u001b[0m\u001b[0;34m,\u001b[0m \u001b[0;32mNone\u001b[0m\u001b[0;34m)\u001b[0m\u001b[0;34m\u001b[0m\u001b[0;34m\u001b[0m\u001b[0m\n\u001b[1;32m   5301\u001b[0m         \u001b[0mslobj2\u001b[0m \u001b[0;34m=\u001b[0m \u001b[0;34m[\u001b[0m\u001b[0mslice\u001b[0m\u001b[0;34m(\u001b[0m\u001b[0;32mNone\u001b[0m\u001b[0;34m)\u001b[0m\u001b[0;34m]\u001b[0m \u001b[0;34m*\u001b[0m \u001b[0mndim\u001b[0m\u001b[0;34m\u001b[0m\u001b[0;34m\u001b[0m\u001b[0m\n",
            "\u001b[0;31mValueError\u001b[0m: could not broadcast input array from shape (1,3) into shape (1,2)"
          ]
        }
      ]
    },
    {
      "cell_type": "code",
      "source": [
        "a[0]"
      ],
      "metadata": {
        "colab": {
          "base_uri": "https://localhost:8080/"
        },
        "id": "qyb7UYHnUTlC",
        "outputId": "f746b53e-bf75-480b-c2c1-7c86b43888d6"
      },
      "execution_count": null,
      "outputs": [
        {
          "output_type": "execute_result",
          "data": {
            "text/plain": [
              "array([[1, 2],\n",
              "       [3, 4],\n",
              "       [5, 6]])"
            ]
          },
          "metadata": {},
          "execution_count": 358
        }
      ]
    },
    {
      "cell_type": "code",
      "metadata": {
        "id": "bEQqVzWGP6gr",
        "colab": {
          "base_uri": "https://localhost:8080/"
        },
        "outputId": "49195ecd-ed2e-487b-eeb6-89d921206819"
      },
      "source": [
        "np.insert(a[0], 1, 55, axis=1)"
      ],
      "execution_count": null,
      "outputs": [
        {
          "output_type": "execute_result",
          "data": {
            "text/plain": [
              "array([[ 1, 55,  2],\n",
              "       [ 3, 55,  4],\n",
              "       [ 5, 55,  6]])"
            ]
          },
          "metadata": {},
          "execution_count": 359
        }
      ]
    },
    {
      "cell_type": "code",
      "metadata": {
        "id": "zhHrDvmeQEBp",
        "colab": {
          "base_uri": "https://localhost:8080/"
        },
        "outputId": "62d55bd1-a29c-48de-e2d1-8df39928253a"
      },
      "source": [
        "np.insert(a[0], 1, [55, 54, 53], axis=1)"
      ],
      "execution_count": null,
      "outputs": [
        {
          "output_type": "execute_result",
          "data": {
            "text/plain": [
              "array([[ 1, 55,  2],\n",
              "       [ 3, 54,  4],\n",
              "       [ 5, 53,  6]])"
            ]
          },
          "metadata": {},
          "execution_count": 361
        }
      ]
    },
    {
      "cell_type": "markdown",
      "source": [
        "# 무작위 배열을 생성하는 방법\n",
        "\n",
        "- 교재 224p ~\n",
        "\n",
        "- 랜덤\n",
        "    - 파이썬/넘파이의 random은 균등분포를 의미합니다."
      ],
      "metadata": {
        "id": "D6c28PNYQgp7"
      }
    },
    {
      "cell_type": "code",
      "metadata": {
        "id": "4NRt0Wwa_pTS",
        "colab": {
          "base_uri": "https://localhost:8080/"
        },
        "outputId": "763610f4-f68a-4747-f1ab-86aebd50e2c3"
      },
      "source": [
        "np.random"
      ],
      "execution_count": null,
      "outputs": [
        {
          "output_type": "execute_result",
          "data": {
            "text/plain": [
              "<module 'numpy.random' from '/usr/local/lib/python3.10/dist-packages/numpy/random/__init__.py'>"
            ]
          },
          "metadata": {},
          "execution_count": 362
        }
      ]
    },
    {
      "cell_type": "code",
      "source": [
        "dir(np.random)"
      ],
      "metadata": {
        "id": "UBT5hKlvRBFX",
        "colab": {
          "base_uri": "https://localhost:8080/"
        },
        "outputId": "deac020c-04f9-4947-a4fe-9b44b5828952"
      },
      "execution_count": null,
      "outputs": [
        {
          "output_type": "execute_result",
          "data": {
            "text/plain": [
              "['BitGenerator',\n",
              " 'Generator',\n",
              " 'MT19937',\n",
              " 'PCG64',\n",
              " 'PCG64DXSM',\n",
              " 'Philox',\n",
              " 'RandomState',\n",
              " 'SFC64',\n",
              " 'SeedSequence',\n",
              " '__RandomState_ctor',\n",
              " '__all__',\n",
              " '__builtins__',\n",
              " '__cached__',\n",
              " '__doc__',\n",
              " '__file__',\n",
              " '__loader__',\n",
              " '__name__',\n",
              " '__package__',\n",
              " '__path__',\n",
              " '__spec__',\n",
              " '_bounded_integers',\n",
              " '_common',\n",
              " '_generator',\n",
              " '_mt19937',\n",
              " '_pcg64',\n",
              " '_philox',\n",
              " '_pickle',\n",
              " '_sfc64',\n",
              " 'beta',\n",
              " 'binomial',\n",
              " 'bit_generator',\n",
              " 'bytes',\n",
              " 'chisquare',\n",
              " 'choice',\n",
              " 'default_rng',\n",
              " 'dirichlet',\n",
              " 'exponential',\n",
              " 'f',\n",
              " 'gamma',\n",
              " 'geometric',\n",
              " 'get_state',\n",
              " 'gumbel',\n",
              " 'hypergeometric',\n",
              " 'laplace',\n",
              " 'logistic',\n",
              " 'lognormal',\n",
              " 'logseries',\n",
              " 'mtrand',\n",
              " 'multinomial',\n",
              " 'multivariate_normal',\n",
              " 'negative_binomial',\n",
              " 'noncentral_chisquare',\n",
              " 'noncentral_f',\n",
              " 'normal',\n",
              " 'pareto',\n",
              " 'permutation',\n",
              " 'poisson',\n",
              " 'power',\n",
              " 'rand',\n",
              " 'randint',\n",
              " 'randn',\n",
              " 'random',\n",
              " 'random_integers',\n",
              " 'random_sample',\n",
              " 'ranf',\n",
              " 'rayleigh',\n",
              " 'sample',\n",
              " 'seed',\n",
              " 'set_state',\n",
              " 'shuffle',\n",
              " 'standard_cauchy',\n",
              " 'standard_exponential',\n",
              " 'standard_gamma',\n",
              " 'standard_normal',\n",
              " 'standard_t',\n",
              " 'test',\n",
              " 'triangular',\n",
              " 'uniform',\n",
              " 'vonmises',\n",
              " 'wald',\n",
              " 'weibull',\n",
              " 'zipf']"
            ]
          },
          "metadata": {},
          "execution_count": 363
        }
      ]
    },
    {
      "cell_type": "code",
      "source": [
        "np.random.rand(10) # 0와 1 사이에서 10개 값을 뽑아줌"
      ],
      "metadata": {
        "colab": {
          "base_uri": "https://localhost:8080/"
        },
        "id": "DVIRSG5AZxKN",
        "outputId": "b06efdf5-6dce-4e12-8299-03aec650ee6a"
      },
      "execution_count": null,
      "outputs": [
        {
          "output_type": "execute_result",
          "data": {
            "text/plain": [
              "array([0.15360512, 0.00775279, 0.39178692, 0.33834633, 0.99907837,\n",
              "       0.53688936, 0.33673072, 0.46745147, 0.08465154, 0.78098866])"
            ]
          },
          "metadata": {},
          "execution_count": 370
        }
      ]
    },
    {
      "cell_type": "code",
      "source": [
        "np.random.randint(10) # 0초과 10 미만 어떤 값 1개"
      ],
      "metadata": {
        "colab": {
          "base_uri": "https://localhost:8080/"
        },
        "id": "kKgdqYVsZ8Yl",
        "outputId": "7354838d-dbe9-458d-ecbb-22038e834561"
      },
      "execution_count": null,
      "outputs": [
        {
          "output_type": "execute_result",
          "data": {
            "text/plain": [
              "9"
            ]
          },
          "metadata": {},
          "execution_count": 374
        }
      ]
    },
    {
      "cell_type": "code",
      "source": [
        "np.random.randint(0, 100, 10, dtype=np.uint8) # a, b 사이에서 특정 값 뽑기"
      ],
      "metadata": {
        "colab": {
          "base_uri": "https://localhost:8080/"
        },
        "id": "5nq03JqsalPR",
        "outputId": "bbbdad86-0362-455d-8098-928ab33ef1de"
      },
      "execution_count": null,
      "outputs": [
        {
          "output_type": "execute_result",
          "data": {
            "text/plain": [
              "array([18, 39, 62, 97, 22, 55, 36, 94, 55, 46], dtype=uint8)"
            ]
          },
          "metadata": {},
          "execution_count": 381
        }
      ]
    },
    {
      "cell_type": "code",
      "source": [
        "dir(np.random)"
      ],
      "metadata": {
        "colab": {
          "base_uri": "https://localhost:8080/"
        },
        "id": "s0hh0oHHbV0q",
        "outputId": "59761e64-c2d2-41ed-9b40-61b0fb7abd03"
      },
      "execution_count": null,
      "outputs": [
        {
          "output_type": "execute_result",
          "data": {
            "text/plain": [
              "['BitGenerator',\n",
              " 'Generator',\n",
              " 'MT19937',\n",
              " 'PCG64',\n",
              " 'PCG64DXSM',\n",
              " 'Philox',\n",
              " 'RandomState',\n",
              " 'SFC64',\n",
              " 'SeedSequence',\n",
              " '__RandomState_ctor',\n",
              " '__all__',\n",
              " '__builtins__',\n",
              " '__cached__',\n",
              " '__doc__',\n",
              " '__file__',\n",
              " '__loader__',\n",
              " '__name__',\n",
              " '__package__',\n",
              " '__path__',\n",
              " '__spec__',\n",
              " '_bounded_integers',\n",
              " '_common',\n",
              " '_generator',\n",
              " '_mt19937',\n",
              " '_pcg64',\n",
              " '_philox',\n",
              " '_pickle',\n",
              " '_sfc64',\n",
              " 'beta',\n",
              " 'binomial',\n",
              " 'bit_generator',\n",
              " 'bytes',\n",
              " 'chisquare',\n",
              " 'choice',\n",
              " 'default_rng',\n",
              " 'dirichlet',\n",
              " 'exponential',\n",
              " 'f',\n",
              " 'gamma',\n",
              " 'geometric',\n",
              " 'get_state',\n",
              " 'gumbel',\n",
              " 'hypergeometric',\n",
              " 'laplace',\n",
              " 'logistic',\n",
              " 'lognormal',\n",
              " 'logseries',\n",
              " 'mtrand',\n",
              " 'multinomial',\n",
              " 'multivariate_normal',\n",
              " 'negative_binomial',\n",
              " 'noncentral_chisquare',\n",
              " 'noncentral_f',\n",
              " 'normal',\n",
              " 'pareto',\n",
              " 'permutation',\n",
              " 'poisson',\n",
              " 'power',\n",
              " 'rand',\n",
              " 'randint',\n",
              " 'randn',\n",
              " 'random',\n",
              " 'random_integers',\n",
              " 'random_sample',\n",
              " 'ranf',\n",
              " 'rayleigh',\n",
              " 'sample',\n",
              " 'seed',\n",
              " 'set_state',\n",
              " 'shuffle',\n",
              " 'standard_cauchy',\n",
              " 'standard_exponential',\n",
              " 'standard_gamma',\n",
              " 'standard_normal',\n",
              " 'standard_t',\n",
              " 'test',\n",
              " 'triangular',\n",
              " 'uniform',\n",
              " 'vonmises',\n",
              " 'wald',\n",
              " 'weibull',\n",
              " 'zipf']"
            ]
          },
          "metadata": {},
          "execution_count": 383
        }
      ]
    },
    {
      "cell_type": "code",
      "source": [
        "# 무작위수 n 개 뽑기  - 복원추출 - 중복 o\n",
        "np.random.choice(5, 3)"
      ],
      "metadata": {
        "colab": {
          "base_uri": "https://localhost:8080/"
        },
        "id": "MfoSMlWMU78q",
        "outputId": "000183c5-6deb-4290-9565-084162575d23"
      },
      "execution_count": null,
      "outputs": [
        {
          "output_type": "execute_result",
          "data": {
            "text/plain": [
              "array([0, 2, 0])"
            ]
          },
          "metadata": {},
          "execution_count": 384
        }
      ]
    },
    {
      "cell_type": "code",
      "source": [],
      "metadata": {
        "colab": {
          "base_uri": "https://localhost:8080/"
        },
        "id": "IYngNcQJbLGf",
        "outputId": "9382008f-c6f6-49f1-fe97-19830da6e2ba"
      },
      "execution_count": null,
      "outputs": [
        {
          "output_type": "execute_result",
          "data": {
            "text/plain": [
              "array([1, 3, 2])"
            ]
          },
          "metadata": {},
          "execution_count": 385
        }
      ]
    },
    {
      "cell_type": "code",
      "source": [
        "np.random.choice(5, 3, p=[0.1, 0, 0.3, 0.6, 0]) # probability\n",
        "# 0 * p[0] + 1 * p[1] + 2 * p[2] ....."
      ],
      "metadata": {
        "colab": {
          "base_uri": "https://localhost:8080/"
        },
        "id": "nzHlQpyVb-Jz",
        "outputId": "0cf2f9af-d28a-4c6c-8ca5-578928b5db19"
      },
      "execution_count": null,
      "outputs": [
        {
          "output_type": "execute_result",
          "data": {
            "text/plain": [
              "array([2, 2, 3])"
            ]
          },
          "metadata": {},
          "execution_count": 391
        }
      ]
    },
    {
      "cell_type": "code",
      "source": [
        "# 랜덤함수들을 실행할 때 최초의 랜덤값(seed)을 똑같이 고정한다면\n",
        "# seed값은 랜덤함수를 실행하기 전에 먼저 줘야 하고\n",
        "# 하나의 코드셀 단위로 seed 값이 먹여집니다\n",
        "np.random.seed(10)\n",
        "np.random.choice(5, 3, p=[0.1, 0, 0.3, 0.6, 0])"
      ],
      "metadata": {
        "colab": {
          "base_uri": "https://localhost:8080/"
        },
        "id": "mqnMhwcvcN_4",
        "outputId": "f3ace629-5f09-4e52-8b0b-be63a35902cf"
      },
      "execution_count": null,
      "outputs": [
        {
          "output_type": "execute_result",
          "data": {
            "text/plain": [
              "array([3, 0, 3])"
            ]
          },
          "metadata": {},
          "execution_count": 392
        }
      ]
    },
    {
      "cell_type": "code",
      "source": [
        "np.random.choice(5, 3, p=[0.1, 0, 0.3, 0.6, 0])"
      ],
      "metadata": {
        "colab": {
          "base_uri": "https://localhost:8080/"
        },
        "id": "C5KjLzDPdhFP",
        "outputId": "8d2f6196-237b-4205-c98d-19da78efcc26"
      },
      "execution_count": null,
      "outputs": [
        {
          "output_type": "execute_result",
          "data": {
            "text/plain": [
              "array([3, 3, 2])"
            ]
          },
          "metadata": {},
          "execution_count": 393
        }
      ]
    },
    {
      "cell_type": "markdown",
      "source": [
        "### 중복이 아쉽다면"
      ],
      "metadata": {
        "id": "ZP9GH_sSRzfw"
      }
    },
    {
      "cell_type": "code",
      "source": [
        "# 무작위수 n 개 뽑기  - 비복원추출 - 중복 x\n",
        "np.random.choice(5, 3, replace=False)"
      ],
      "metadata": {
        "id": "eGlo0_wMR2_B"
      },
      "execution_count": null,
      "outputs": []
    },
    {
      "cell_type": "markdown",
      "metadata": {
        "id": "B9Riwoooi7IO"
      },
      "source": [
        "## 넘파이가 제공하는 통계연산 메소드"
      ]
    },
    {
      "cell_type": "code",
      "metadata": {
        "id": "_TXlGvtISf16"
      },
      "source": [
        "a = np.array([10, 20, 30, 40]) # 국, 영, 수, 사"
      ],
      "execution_count": null,
      "outputs": []
    },
    {
      "cell_type": "code",
      "metadata": {
        "id": "x0GVrdaeShb3",
        "colab": {
          "base_uri": "https://localhost:8080/"
        },
        "outputId": "38f850f6-d469-4c8a-c4a4-26e82c10c54c"
      },
      "source": [
        "a.mean()"
      ],
      "execution_count": null,
      "outputs": [
        {
          "output_type": "execute_result",
          "data": {
            "text/plain": [
              "25.0"
            ]
          },
          "metadata": {},
          "execution_count": 398
        }
      ]
    },
    {
      "cell_type": "code",
      "source": [
        "np.mean(a)"
      ],
      "metadata": {
        "colab": {
          "base_uri": "https://localhost:8080/"
        },
        "id": "LxGESinoeJ0Y",
        "outputId": "a54e5915-e79f-4658-9912-4c7fc0f7f3c2"
      },
      "execution_count": null,
      "outputs": [
        {
          "output_type": "execute_result",
          "data": {
            "text/plain": [
              "25.0"
            ]
          },
          "metadata": {},
          "execution_count": 401
        }
      ]
    },
    {
      "cell_type": "code",
      "metadata": {
        "id": "uht89pr_SoEs",
        "colab": {
          "base_uri": "https://localhost:8080/"
        },
        "outputId": "b12457b0-c078-4a2c-9a7a-3ba9b6e49679"
      },
      "source": [
        "np.average(a, weights=[0.3, 0.3, 0.3, 0.1]) # weights : 가중치"
      ],
      "execution_count": null,
      "outputs": [
        {
          "output_type": "execute_result",
          "data": {
            "text/plain": [
              "22.000000000000004"
            ]
          },
          "metadata": {},
          "execution_count": 403
        }
      ]
    },
    {
      "cell_type": "code",
      "source": [
        "a.mean()"
      ],
      "metadata": {
        "colab": {
          "base_uri": "https://localhost:8080/"
        },
        "id": "zmFuUkFRekLd",
        "outputId": "b233cef3-7641-41cc-ac97-122a66726a0e"
      },
      "execution_count": null,
      "outputs": [
        {
          "output_type": "execute_result",
          "data": {
            "text/plain": [
              "25.0"
            ]
          },
          "metadata": {},
          "execution_count": 406
        }
      ]
    },
    {
      "cell_type": "code",
      "source": [
        "np.average(a, weights=[1, 1, 1, 0]) # weights : 가중치"
      ],
      "metadata": {
        "id": "BOqrmu20Xnfx",
        "colab": {
          "base_uri": "https://localhost:8080/"
        },
        "outputId": "92326810-d59f-4b84-c98b-fd8f6e718316"
      },
      "execution_count": null,
      "outputs": [
        {
          "output_type": "execute_result",
          "data": {
            "text/plain": [
              "20.0"
            ]
          },
          "metadata": {},
          "execution_count": 404
        }
      ]
    },
    {
      "cell_type": "code",
      "source": [
        "a"
      ],
      "metadata": {
        "colab": {
          "base_uri": "https://localhost:8080/"
        },
        "id": "hIqYkCr0e6R2",
        "outputId": "172c10fb-0f57-4b70-eecd-e61f921e0c07"
      },
      "execution_count": null,
      "outputs": [
        {
          "output_type": "execute_result",
          "data": {
            "text/plain": [
              "array([10, 20, 30, 40])"
            ]
          },
          "metadata": {},
          "execution_count": 409
        }
      ]
    },
    {
      "cell_type": "code",
      "metadata": {
        "id": "0cmKAjYJSi_A",
        "colab": {
          "base_uri": "https://localhost:8080/"
        },
        "outputId": "02dd723d-9cd6-43cd-df34-c247888e5ba7"
      },
      "source": [
        "np.median(a) # 중앙값"
      ],
      "execution_count": null,
      "outputs": [
        {
          "output_type": "execute_result",
          "data": {
            "text/plain": [
              "25.0"
            ]
          },
          "metadata": {},
          "execution_count": 408
        }
      ]
    },
    {
      "cell_type": "code",
      "metadata": {
        "id": "xUsyngw6Ss32"
      },
      "source": [
        "b = [11, 20, 11, 20, 35]"
      ],
      "execution_count": null,
      "outputs": []
    },
    {
      "cell_type": "code",
      "metadata": {
        "id": "o6yJA-yiSxtC",
        "colab": {
          "base_uri": "https://localhost:8080/"
        },
        "outputId": "f7668576-553c-4cc6-ffcd-29fc3ef92b44"
      },
      "source": [
        "np.mean(b)"
      ],
      "execution_count": null,
      "outputs": [
        {
          "output_type": "execute_result",
          "data": {
            "text/plain": [
              "19.4"
            ]
          },
          "metadata": {},
          "execution_count": 415
        }
      ]
    },
    {
      "cell_type": "code",
      "metadata": {
        "id": "CnvB9WOxSzJr",
        "colab": {
          "base_uri": "https://localhost:8080/"
        },
        "outputId": "7680c481-2c51-40e3-ace9-3844f74c9575"
      },
      "source": [
        "np.median(b)"
      ],
      "execution_count": null,
      "outputs": [
        {
          "output_type": "execute_result",
          "data": {
            "text/plain": [
              "20.0"
            ]
          },
          "metadata": {},
          "execution_count": 416
        }
      ]
    },
    {
      "cell_type": "code",
      "metadata": {
        "id": "f89wcQp_S2s_"
      },
      "source": [
        "b = [11, 20, 11, 20, 20, 100, 20, 35]\n",
        "# 우리가 '평균'이라고 말할 때\n",
        "# 표본집단의 '대표값'을 의미합니다\n",
        "# 크게 집단의 평균을 의미하는 대표값은 3가지 정도가 있습니다\n",
        "# : mean(평균), median(중앙값), mode(최빈값 - 넘파이에는 없음)"
      ],
      "execution_count": null,
      "outputs": []
    },
    {
      "cell_type": "code",
      "metadata": {
        "id": "3xMZUl7AS8vu",
        "colab": {
          "base_uri": "https://localhost:8080/",
          "height": 302
        },
        "outputId": "82e1b768-2b58-4d5f-d203-887eb902ce4f"
      },
      "source": [
        "np.mode(b) # numpy에는 없음"
      ],
      "execution_count": null,
      "outputs": [
        {
          "output_type": "error",
          "ename": "AttributeError",
          "evalue": "ignored",
          "traceback": [
            "\u001b[0;31m---------------------------------------------------------------------------\u001b[0m",
            "\u001b[0;31mAttributeError\u001b[0m                            Traceback (most recent call last)",
            "\u001b[0;32m<ipython-input-418-133dbd37a3de>\u001b[0m in \u001b[0;36m<cell line: 1>\u001b[0;34m()\u001b[0m\n\u001b[0;32m----> 1\u001b[0;31m \u001b[0mnp\u001b[0m\u001b[0;34m.\u001b[0m\u001b[0mmode\u001b[0m\u001b[0;34m(\u001b[0m\u001b[0mb\u001b[0m\u001b[0;34m)\u001b[0m\u001b[0;34m\u001b[0m\u001b[0;34m\u001b[0m\u001b[0m\n\u001b[0m",
            "\u001b[0;32m/usr/local/lib/python3.10/dist-packages/numpy/__init__.py\u001b[0m in \u001b[0;36m__getattr__\u001b[0;34m(attr)\u001b[0m\n\u001b[1;32m    313\u001b[0m             \u001b[0;32mreturn\u001b[0m \u001b[0mTester\u001b[0m\u001b[0;34m\u001b[0m\u001b[0;34m\u001b[0m\u001b[0m\n\u001b[1;32m    314\u001b[0m \u001b[0;34m\u001b[0m\u001b[0m\n\u001b[0;32m--> 315\u001b[0;31m         raise AttributeError(\"module {!r} has no attribute \"\n\u001b[0m\u001b[1;32m    316\u001b[0m                              \"{!r}\".format(__name__, attr))\n\u001b[1;32m    317\u001b[0m \u001b[0;34m\u001b[0m\u001b[0m\n",
            "\u001b[0;31mAttributeError\u001b[0m: module 'numpy' has no attribute 'mode'"
          ]
        }
      ]
    },
    {
      "cell_type": "code",
      "metadata": {
        "id": "2CX3g_-4S-rS",
        "colab": {
          "base_uri": "https://localhost:8080/"
        },
        "outputId": "8bd70879-34fb-40e5-f11b-7db8fb9ec19e"
      },
      "source": [
        "import statistics as st\n",
        "\n",
        "st.mode(b) # 최빈값을 구할 수 있습니다"
      ],
      "execution_count": null,
      "outputs": [
        {
          "output_type": "execute_result",
          "data": {
            "text/plain": [
              "20"
            ]
          },
          "metadata": {},
          "execution_count": 419
        }
      ]
    },
    {
      "cell_type": "code",
      "metadata": {
        "id": "guSgAk-0PmEw"
      },
      "source": [],
      "execution_count": null,
      "outputs": []
    }
  ]
}