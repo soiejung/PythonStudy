{
  "nbformat": 4,
  "nbformat_minor": 0,
  "metadata": {
    "colab": {
      "provenance": [],
      "include_colab_link": true
    },
    "kernelspec": {
      "name": "python3",
      "display_name": "Python 3"
    },
    "language_info": {
      "name": "python"
    }
  },
  "cells": [
    {
      "cell_type": "markdown",
      "metadata": {
        "id": "view-in-github",
        "colab_type": "text"
      },
      "source": [
        "<a href=\"https://colab.research.google.com/github/soiejung/PythonStudy/blob/main/%ED%95%A8%EC%88%98_%EB%B3%B5%EC%8A%B5.ipynb\" target=\"_parent\"><img src=\"https://colab.research.google.com/assets/colab-badge.svg\" alt=\"Open In Colab\"/></a>"
      ]
    },
    {
      "cell_type": "markdown",
      "source": [
        "# 0501 복습"
      ],
      "metadata": {
        "id": "mbQruNWBUJUJ"
      }
    },
    {
      "cell_type": "markdown",
      "source": [
        "1. 아래 코드의 실행결과를 예측하고 혹 에러가 발생한다면 발생하는 이유에 대해 생각해보세요.\n",
        "\n",
        "1-1.\n",
        "~~~\n",
        "hello()\n",
        "def hello():\n",
        "    print(\"Good Morning!\")\n",
        "~~~"
      ],
      "metadata": {
        "id": "DDCUiaRvN3Zk"
      }
    },
    {
      "cell_type": "code",
      "source": [
        "hello() # 함수를 정의하기도 전에 호출했기 때문에 에러 발생\n",
        "def hello():\n",
        "    print(\"Good Morning!\")"
      ],
      "metadata": {
        "id": "swKK7Sq6N3Zl",
        "colab": {
          "base_uri": "https://localhost:8080/",
          "height": 209
        },
        "outputId": "fa00b654-8492-409f-9f7a-2f1ebfd0d87a"
      },
      "execution_count": null,
      "outputs": [
        {
          "output_type": "error",
          "ename": "NameError",
          "evalue": "ignored",
          "traceback": [
            "\u001b[0;31m---------------------------------------------------------------------------\u001b[0m",
            "\u001b[0;31mNameError\u001b[0m                                 Traceback (most recent call last)",
            "\u001b[0;32m<ipython-input-1-b105986b0b0d>\u001b[0m in \u001b[0;36m<cell line: 1>\u001b[0;34m()\u001b[0m\n\u001b[0;32m----> 1\u001b[0;31m \u001b[0mhello\u001b[0m\u001b[0;34m(\u001b[0m\u001b[0;34m)\u001b[0m\u001b[0;34m\u001b[0m\u001b[0;34m\u001b[0m\u001b[0m\n\u001b[0m\u001b[1;32m      2\u001b[0m \u001b[0;32mdef\u001b[0m \u001b[0mhello\u001b[0m\u001b[0;34m(\u001b[0m\u001b[0;34m)\u001b[0m\u001b[0;34m:\u001b[0m\u001b[0;34m\u001b[0m\u001b[0;34m\u001b[0m\u001b[0m\n\u001b[1;32m      3\u001b[0m     \u001b[0mprint\u001b[0m\u001b[0;34m(\u001b[0m\u001b[0;34m\"Good Morning!\"\u001b[0m\u001b[0;34m)\u001b[0m\u001b[0;34m\u001b[0m\u001b[0;34m\u001b[0m\u001b[0m\n",
            "\u001b[0;31mNameError\u001b[0m: name 'hello' is not defined"
          ]
        }
      ]
    },
    {
      "cell_type": "markdown",
      "source": [
        "1-2.\n",
        "```\n",
        "def func(a) :\n",
        "    print(a)\n",
        "func()\n",
        "```"
      ],
      "metadata": {
        "id": "16AcngP5N3Zl"
      }
    },
    {
      "cell_type": "code",
      "source": [
        "def func(a) :\n",
        "    print(a)\n",
        "func() # 아규먼트를 입력하지 않았기 때문에 에러 발생"
      ],
      "metadata": {
        "id": "JqfLatusN3Zl",
        "colab": {
          "base_uri": "https://localhost:8080/",
          "height": 209
        },
        "outputId": "d7b56b9f-e2c7-4bfb-a22c-d4a97d4db2ca"
      },
      "execution_count": null,
      "outputs": [
        {
          "output_type": "error",
          "ename": "TypeError",
          "evalue": "ignored",
          "traceback": [
            "\u001b[0;31m---------------------------------------------------------------------------\u001b[0m",
            "\u001b[0;31mTypeError\u001b[0m                                 Traceback (most recent call last)",
            "\u001b[0;32m<ipython-input-2-cbbac0c666f0>\u001b[0m in \u001b[0;36m<cell line: 3>\u001b[0;34m()\u001b[0m\n\u001b[1;32m      1\u001b[0m \u001b[0;32mdef\u001b[0m \u001b[0mfunc\u001b[0m\u001b[0;34m(\u001b[0m\u001b[0ma\u001b[0m\u001b[0;34m)\u001b[0m \u001b[0;34m:\u001b[0m\u001b[0;34m\u001b[0m\u001b[0;34m\u001b[0m\u001b[0m\n\u001b[1;32m      2\u001b[0m     \u001b[0mprint\u001b[0m\u001b[0;34m(\u001b[0m\u001b[0ma\u001b[0m\u001b[0;34m)\u001b[0m\u001b[0;34m\u001b[0m\u001b[0;34m\u001b[0m\u001b[0m\n\u001b[0;32m----> 3\u001b[0;31m \u001b[0mfunc\u001b[0m\u001b[0;34m(\u001b[0m\u001b[0;34m)\u001b[0m\u001b[0;34m\u001b[0m\u001b[0;34m\u001b[0m\u001b[0m\n\u001b[0m",
            "\u001b[0;31mTypeError\u001b[0m: func() missing 1 required positional argument: 'a'"
          ]
        }
      ]
    },
    {
      "cell_type": "markdown",
      "source": [
        "1-3.\n",
        "~~~\n",
        "def func(a, b) :\n",
        "    print(a * b / 2)\n",
        "\n",
        "함수(\"a\", 3)\n",
        "~~~"
      ],
      "metadata": {
        "id": "mI6IZmWdN3Zl"
      }
    },
    {
      "cell_type": "code",
      "source": [
        "def func(a, b) :\n",
        "    print(a * b / 2)\n",
        "\n",
        "함수(\"a\", 3) # 문자열에서 나눗셈 연산을 할 수 없기 때문에 에러 발생"
      ],
      "metadata": {
        "id": "kdP50YyuN3Zl",
        "colab": {
          "base_uri": "https://localhost:8080/",
          "height": 209
        },
        "outputId": "15b50c53-a5a7-421b-fd4d-b27753929db9"
      },
      "execution_count": null,
      "outputs": [
        {
          "output_type": "error",
          "ename": "NameError",
          "evalue": "ignored",
          "traceback": [
            "\u001b[0;31m---------------------------------------------------------------------------\u001b[0m",
            "\u001b[0;31mNameError\u001b[0m                                 Traceback (most recent call last)",
            "\u001b[0;32m<ipython-input-3-2882d1ec9f55>\u001b[0m in \u001b[0;36m<cell line: 4>\u001b[0;34m()\u001b[0m\n\u001b[1;32m      2\u001b[0m     \u001b[0mprint\u001b[0m\u001b[0;34m(\u001b[0m\u001b[0ma\u001b[0m \u001b[0;34m*\u001b[0m \u001b[0mb\u001b[0m \u001b[0;34m/\u001b[0m \u001b[0;36m2\u001b[0m\u001b[0;34m)\u001b[0m\u001b[0;34m\u001b[0m\u001b[0;34m\u001b[0m\u001b[0m\n\u001b[1;32m      3\u001b[0m \u001b[0;34m\u001b[0m\u001b[0m\n\u001b[0;32m----> 4\u001b[0;31m \u001b[0m함수\u001b[0m\u001b[0;34m(\u001b[0m\u001b[0;34m\"a\"\u001b[0m\u001b[0;34m,\u001b[0m \u001b[0;36m3\u001b[0m\u001b[0;34m)\u001b[0m\u001b[0;34m\u001b[0m\u001b[0;34m\u001b[0m\u001b[0m\n\u001b[0m",
            "\u001b[0;31mNameError\u001b[0m: name '함수' is not defined"
          ]
        }
      ]
    },
    {
      "cell_type": "markdown",
      "source": [
        "2. if문을 활용하여 사용자로부터 시간을 입력받고 해당 시각이 정각인지를 판별하여 리턴하는 함수 on_time()을 프로그래밍해주세요.\n",
        "```\n",
        ">> 현재시간:02:00\n",
        "정각입니다.\n",
        ">> 현재시간:03:10\n",
        "정각이 아닙니다\n",
        "```"
      ],
      "metadata": {
        "id": "_uahTmKVN3Zl"
      }
    },
    {
      "cell_type": "code",
      "source": [
        "def on_time():\n",
        "    time = input('현재시간:')\n",
        "    if ':00' in time:\n",
        "        print('정각입니다.')\n",
        "    else:\n",
        "        print('정각이 아닙니다.')"
      ],
      "metadata": {
        "id": "nQATvbm2N3Zm"
      },
      "execution_count": null,
      "outputs": []
    },
    {
      "cell_type": "code",
      "source": [
        "on_time()"
      ],
      "metadata": {
        "colab": {
          "base_uri": "https://localhost:8080/"
        },
        "id": "R8POF7ZhYPJk",
        "outputId": "cd3c9bf5-8971-49dd-c586-0799dfa0fb37"
      },
      "execution_count": null,
      "outputs": [
        {
          "output_type": "stream",
          "name": "stdout",
          "text": [
            "현재시간:03:10\n",
            "정각이 아닙니다.\n"
          ]
        }
      ]
    },
    {
      "cell_type": "markdown",
      "source": [
        "3. 다음과 같이 8개의 값이 저장된 myPlaylist 리스트가 있을 때, 언패킹 방식을 사용하여 처음 2개를 제외한 나머지 값을 extra_song 변수에 바인딩해주세요."
      ],
      "metadata": {
        "id": "_atPUtudN3Zm"
      }
    },
    {
      "cell_type": "markdown",
      "source": [
        "~~~\n",
        "myPlaylist = ['나플라', '이센스', '제이콜', '나스', '찬스더래퍼', '세븐틴', 'EXO', 'NCT']\n",
        "~~~"
      ],
      "metadata": {
        "id": "WNEHMpzxN3Zm"
      }
    },
    {
      "cell_type": "code",
      "source": [
        "myPlaylist = ['나플라', '이센스', '제이콜', '나스', '찬스더래퍼', '세븐틴', 'EXO', 'NCT']"
      ],
      "metadata": {
        "id": "g7010jAcN3Zm"
      },
      "execution_count": null,
      "outputs": []
    },
    {
      "cell_type": "code",
      "source": [
        "def play(list_):\n",
        "    extra_song = list_[2::]\n",
        "    print(extra_song)"
      ],
      "metadata": {
        "id": "nnmVL18_N3Zm"
      },
      "execution_count": null,
      "outputs": []
    },
    {
      "cell_type": "code",
      "source": [
        "play(myPlaylist)"
      ],
      "metadata": {
        "id": "Qd9e0SAuN3Zm",
        "colab": {
          "base_uri": "https://localhost:8080/"
        },
        "outputId": "318f7335-b128-43c9-c293-0cef4c6b25b9"
      },
      "execution_count": null,
      "outputs": [
        {
          "output_type": "stream",
          "name": "stdout",
          "text": [
            "['제이콜', '나스', '찬스더래퍼', '세븐틴', 'EXO', 'NCT']\n"
          ]
        }
      ]
    },
    {
      "cell_type": "markdown",
      "metadata": {
        "id": "uoiIFZAFN3Zn"
      },
      "source": [
        "4. 아래 코드의 실행 결과를 예측해보시고 생각했던 것과 결과값이 같은지 확인해보세요.\n",
        "\n",
        "~~~\n",
        "def hello() :\n",
        "    print(\"Good Morning!\")\n",
        "    print(\"Hello\")\n",
        "hello()\n",
        "print(\"Hi\")\n",
        "hello()\n",
        "\n",
        "~~~"
      ]
    },
    {
      "cell_type": "code",
      "execution_count": null,
      "metadata": {
        "id": "p0qj1iTwN3Zn",
        "colab": {
          "base_uri": "https://localhost:8080/"
        },
        "outputId": "baca2c6d-a754-48cd-b430-e853f2d3e674"
      },
      "outputs": [
        {
          "output_type": "stream",
          "name": "stdout",
          "text": [
            "Good Morning!\n",
            "Hello\n",
            "Hi\n",
            "Good Morning!\n",
            "Hello\n"
          ]
        }
      ],
      "source": [
        "def hello() :\n",
        "    print(\"Good Morning!\")\n",
        "    print(\"Hello\")\n",
        "hello()\n",
        "print(\"Hi\")\n",
        "hello()"
      ]
    },
    {
      "cell_type": "markdown",
      "source": [
        "5. 하나의 리스트를 입력받아 짝수만 화면에 출력하는 even 함수를 정의하고 출력해보세요.\n",
        "\n",
        "```\n",
        "예시리스트 : [2,3,4,5,6,7,8,111]\n",
        "```"
      ],
      "metadata": {
        "id": "8Tw7rmYzN3Zn"
      }
    },
    {
      "cell_type": "code",
      "source": [
        "def even(list_):\n",
        "\n",
        "    for l in list_:\n",
        "        if l % 2 == 0:\n",
        "            print(l)"
      ],
      "metadata": {
        "id": "z2GU2DjIN3Zn"
      },
      "execution_count": null,
      "outputs": []
    },
    {
      "cell_type": "code",
      "source": [
        "even([2,3,4,5,6,7,8,111])"
      ],
      "metadata": {
        "id": "y2TRAyD2N3Zn",
        "colab": {
          "base_uri": "https://localhost:8080/"
        },
        "outputId": "20366f48-e17a-403e-f9bd-01d799c0d18e"
      },
      "execution_count": null,
      "outputs": [
        {
          "output_type": "stream",
          "name": "stdout",
          "text": [
            "2\n",
            "4\n",
            "6\n",
            "8\n"
          ]
        }
      ]
    },
    {
      "cell_type": "markdown",
      "source": [
        "6. 입력 문자열을 한 줄에 세글자씩 출력하는 letters(string) 함수를 작성하고 아래 문자열을 넣어 실행해보세요.\n",
        "\n",
        "~~~\n",
        "'신짱구신짱아이센스'\n",
        "~~~"
      ],
      "metadata": {
        "id": "rV7mHrNpN3Zo"
      }
    },
    {
      "cell_type": "code",
      "source": [
        "def letters(str_):\n",
        "\n",
        "    row = int(len(str_)/3)\n",
        "    for k in range(3):\n",
        "        print(str_[k*3:k*3+3])\n"
      ],
      "metadata": {
        "id": "ULeYWP2NN3Zo"
      },
      "execution_count": null,
      "outputs": []
    },
    {
      "cell_type": "code",
      "source": [
        "letters('신짱구신짱아이센스')"
      ],
      "metadata": {
        "id": "VI9Ha2WoN3Zo",
        "colab": {
          "base_uri": "https://localhost:8080/"
        },
        "outputId": "6d9ddd59-6597-4764-dcbc-65b477d4b7eb"
      },
      "execution_count": null,
      "outputs": [
        {
          "output_type": "stream",
          "name": "stdout",
          "text": [
            "신짱구\n",
            "신짱아\n",
            "이센스\n"
          ]
        }
      ]
    },
    {
      "cell_type": "markdown",
      "source": [
        "7. 입력 문자열과 한 줄에 출력할 글자수를 인자로 받는 letters(string, int) 함수를 작성하고 아래 문자열을 넣어 두글자씩 실행해보세요.\n",
        "- 음수는 제외, 0도 제외\n",
        "\n",
        "~~~\n",
        "윈터이즈커밍\n",
        "~~~"
      ],
      "metadata": {
        "id": "EvdlXp5cN3Zp"
      }
    },
    {
      "cell_type": "code",
      "source": [
        "def letters(str_,int_):\n",
        "    for i in range(int_+1):\n",
        "        print(str_[i*int_:i*int_+int_])"
      ],
      "metadata": {
        "id": "BE2HoB6iN3Zp"
      },
      "execution_count": null,
      "outputs": []
    },
    {
      "cell_type": "code",
      "source": [
        "letters('윈터이즈커밍', 2)"
      ],
      "metadata": {
        "id": "1GfNsXrYN3Zp",
        "colab": {
          "base_uri": "https://localhost:8080/"
        },
        "outputId": "1305db2f-7fc6-426d-8d05-8fcd2cd4e287"
      },
      "execution_count": null,
      "outputs": [
        {
          "output_type": "stream",
          "name": "stdout",
          "text": [
            "윈터\n",
            "이즈\n",
            "커밍\n"
          ]
        }
      ]
    },
    {
      "cell_type": "markdown",
      "source": [
        "8. 이름과 나이를 입력받아서 딕셔너리 형식으로 반환하는 함수 person_info()를 만들어주세요.\n",
        "\n",
        "person_info()\n",
        "- input()"
      ],
      "metadata": {
        "id": "0pXzChk9N3Zp"
      }
    },
    {
      "cell_type": "code",
      "source": [
        "def person_info():\n",
        "    name = input('이름을 입력해주세요: ')\n",
        "    age = input('나이를 입력해주세요: ')\n",
        "\n",
        "    return {name:age}"
      ],
      "metadata": {
        "id": "LxSYx2oNN3Zp"
      },
      "execution_count": null,
      "outputs": []
    },
    {
      "cell_type": "code",
      "source": [
        "dic = person_info()\n",
        "print(dic)"
      ],
      "metadata": {
        "id": "16ooXzSCvnHj",
        "colab": {
          "base_uri": "https://localhost:8080/"
        },
        "outputId": "c819bb61-7987-478d-faaa-fba12a3c43d9"
      },
      "execution_count": null,
      "outputs": [
        {
          "output_type": "stream",
          "name": "stdout",
          "text": [
            "이름을 입력해주세요: 정소이\n",
            "나이를 입력해주세요: 23\n",
            "{'정소이': '23'}\n"
          ]
        }
      ]
    },
    {
      "cell_type": "markdown",
      "source": [
        "9. 좋아하는 숫자 (개수제한 없음)와 name, age를 파라메터로 입력받고 딕셔너리 형태로  함수 person_info1()을 만들어주세요.\n",
        "\n",
        "Input:\n",
        "```\n",
        "person_info11(3,7,9, name='kim', age='22')\n",
        "```\n",
        "\n",
        "Output:\n",
        "```\n",
        "{'age': '22', 'favorNums': (3, 7, 9), 'name': 'kim'}\n",
        "```"
      ],
      "metadata": {
        "id": "rV_jhquuN3Zp"
      }
    },
    {
      "cell_type": "code",
      "source": [
        "def person_info1(*num, name, age):\n",
        "\n",
        "    return {'age':age, 'favorNums': num, 'name': name}\n"
      ],
      "metadata": {
        "id": "BnrABE_GN3Zp"
      },
      "execution_count": null,
      "outputs": []
    },
    {
      "cell_type": "code",
      "source": [
        "dic1 = person_info1(3,7,9, name='kim', age = '22')\n",
        "print(dic1)"
      ],
      "metadata": {
        "id": "u5V9nEa8N3Zq",
        "colab": {
          "base_uri": "https://localhost:8080/"
        },
        "outputId": "de5a6a6d-f135-4a21-ddf7-9d3c05cd16f0"
      },
      "execution_count": null,
      "outputs": [
        {
          "output_type": "stream",
          "name": "stdout",
          "text": [
            "{'age': '22', 'favorNums': (3, 7, 9), 'name': 'kim'}\n"
          ]
        }
      ]
    }
  ]
}