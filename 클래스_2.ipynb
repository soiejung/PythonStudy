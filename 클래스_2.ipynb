{
  "nbformat": 4,
  "nbformat_minor": 0,
  "metadata": {
    "colab": {
      "provenance": [],
      "include_colab_link": true
    },
    "kernelspec": {
      "name": "python3",
      "display_name": "Python 3"
    },
    "language_info": {
      "name": "python"
    }
  },
  "cells": [
    {
      "cell_type": "markdown",
      "metadata": {
        "id": "view-in-github",
        "colab_type": "text"
      },
      "source": [
        "<a href=\"https://colab.research.google.com/github/soiejung/PythonStudy/blob/main/%ED%81%B4%EB%9E%98%EC%8A%A4_2.ipynb\" target=\"_parent\"><img src=\"https://colab.research.google.com/assets/colab-badge.svg\" alt=\"Open In Colab\"/></a>"
      ]
    },
    {
      "cell_type": "markdown",
      "source": [
        "# 0. 복습\n",
        "\n",
        "```\n",
        "- 클래스 - 비슷한 빵을 찍어내기 위한 틀\n",
        "- 인스턴스 - 빵틀에서 찍어낸 같지만 조금 다른 빵\n",
        "```\n",
        "\n",
        "1. 내가 본 영화 정보를 기록하는 클래스 Movie를 만들어주세요.\n",
        "\n",
        "- 조건1. 클래스 안에는 name(제목), actor(배우), review(한줄평), score(별점)을 기입합니다.\n",
        "- 조건2. update라는 메소드를 이용하여 추후에 영화 관련 기록을 수정할 수 있습니다.\n",
        "- 조건3. 영화명.all() 메소드를 이용하여 관련 영화의 전체 내용을 출력할 수 있습니다.\n",
        "\n",
        "\n",
        "Movie 클래스의 인스턴스 생성 예시.\n",
        "\n",
        "```\n",
        "패터슨 = Movie('패터슨', '아담 드라이버', '아하!', 4.5)\n",
        "```\n",
        "\n",
        "패터슨.all() 의 출력 예시.\n",
        "```\n",
        "제목: 패터슨\n",
        "배우: 아담 드라이버\n",
        "리뷰: 아하!\n",
        "별점: 4.5\n",
        "```"
      ],
      "metadata": {
        "id": "DLi8wNoHqzlZ"
      }
    },
    {
      "cell_type": "code",
      "source": [
        "class Movie:\n",
        "\n",
        "    movie_list = [] # 클래스 변수 - 인스턴스 전체가 공유하는 변수\n",
        "    total_num = 1\n",
        "    # 인스턴스가 생성될 때 한번 실행되는 함수\n",
        "    def __init__(self, name, actor, review, score):\n",
        "        self.name = name\n",
        "        self.actor = actor\n",
        "        self.review = review\n",
        "        self.score = score\n",
        "        self.movie_num = Movie.total_num\n",
        "        Movie.total_num += 1\n",
        "        Movie.movie_list.append(self)\n",
        "\n",
        "\n",
        "    def all(self):\n",
        "        print(f'제목: {self.name}')\n",
        "        print(f'배우: {self.actor}')\n",
        "        print(f'리뷰: {self.review}')\n",
        "        print(f'별점: {self.score}')\n",
        "\n",
        "    #  update를 뭘바꿀건지(input으로) -> 어떻게 바꿀건지 순으로 input으로\n",
        "    # 변경하실 항목을 입력하세요(name/actor/review/score): name\n",
        "    # 바꿀 내용을 입력하세요: 패터슨2\n",
        "    # 바뀐 결과가 출력되도록\n",
        "    def update(self):\n",
        "        li = input('변경하실 항목을 입력하세요(name/actor/review/score): ')\n",
        "        change = input('바꿀 내용을 입력하세요:')\n",
        "\n",
        "        if li == 'name':\n",
        "            self.name = change\n",
        "\n",
        "        elif li == 'actor':\n",
        "            self.actor = change\n",
        "\n",
        "        elif li == 'review':\n",
        "            self.review = change\n",
        "\n",
        "        elif li == 'score':\n",
        "            self.score = change\n",
        "\n",
        "        self.all()\n"
      ],
      "metadata": {
        "id": "bIJdvy4Lp0BH"
      },
      "execution_count": null,
      "outputs": []
    },
    {
      "cell_type": "markdown",
      "source": [
        "2. 해당 클래스를 활용하여 자신이 좋아하는 3개의 영화를 리뷰한 인스턴스를 만들어주세요.\n",
        "인스턴스.all() 명령어로 호출도 해 보세요."
      ],
      "metadata": {
        "id": "2kDM41iysRMj"
      }
    },
    {
      "cell_type": "code",
      "source": [
        "패터슨 = Movie('패터슨', '아담 드라이버', '아하!', 4.5)"
      ],
      "metadata": {
        "id": "VVjboBaosGVA"
      },
      "execution_count": null,
      "outputs": []
    },
    {
      "cell_type": "code",
      "source": [
        "해리포터 = Movie('해리포터', '엠마 왓슨', '굿', 5.0)"
      ],
      "metadata": {
        "id": "7uVE-EWbCj4G"
      },
      "execution_count": null,
      "outputs": []
    },
    {
      "cell_type": "code",
      "source": [
        "짱구 = Movie('짱구는못말려', '짱구','최고', 4.8)"
      ],
      "metadata": {
        "id": "VBUmm4mQszE_"
      },
      "execution_count": null,
      "outputs": []
    },
    {
      "cell_type": "code",
      "source": [
        "패터슨.all()"
      ],
      "metadata": {
        "id": "ARMI9kmEsMF4",
        "colab": {
          "base_uri": "https://localhost:8080/"
        },
        "outputId": "1e8260c7-c51c-4c05-cf92-414eaa777a3d"
      },
      "execution_count": null,
      "outputs": [
        {
          "output_type": "stream",
          "name": "stdout",
          "text": [
            "제목: 패터슨\n",
            "배우: 아담 드라이버\n",
            "리뷰: 아하!\n",
            "별점: 4.5\n"
          ]
        }
      ]
    },
    {
      "cell_type": "code",
      "source": [
        "해리포터.all()"
      ],
      "metadata": {
        "id": "Qiij_te2EG1P",
        "colab": {
          "base_uri": "https://localhost:8080/"
        },
        "outputId": "49fdd4d2-ff9a-493b-ea32-9df472bd1147"
      },
      "execution_count": null,
      "outputs": [
        {
          "output_type": "stream",
          "name": "stdout",
          "text": [
            "제목: 해리포터\n",
            "배우: 엠마 왓슨\n",
            "리뷰: 굿\n",
            "별점: 5.0\n"
          ]
        }
      ]
    },
    {
      "cell_type": "code",
      "source": [
        "짱구.all()"
      ],
      "metadata": {
        "colab": {
          "base_uri": "https://localhost:8080/"
        },
        "id": "JxQ7VZWQExSU",
        "outputId": "6947d862-6940-49a7-e64a-ea9f2281d3eb"
      },
      "execution_count": null,
      "outputs": [
        {
          "output_type": "stream",
          "name": "stdout",
          "text": [
            "제목: 짱구는못말려\n",
            "배우: 짱구\n",
            "리뷰: 최고\n",
            "별점: 4.8\n"
          ]
        }
      ]
    },
    {
      "cell_type": "markdown",
      "source": [
        "3. for문을 이용하여 위에서 리뷰한 영화 3개를 한꺼번에 출력해보세요."
      ],
      "metadata": {
        "id": "AxcqcjISs5F4"
      }
    },
    {
      "cell_type": "code",
      "source": [
        "# 클래스와 인스턴스는... 어떤 관계를 가지고 있을까요?\n",
        "# 일단 만들어지고 나면 전혀 별개의 메모리에 저장됩니다\n",
        "# 만들어질 때마다 먼가 누적해서 변경해야 할 정보가 있다면\n",
        "# 클래스의 변수로 저장하여 관리합니다."
      ],
      "metadata": {
        "id": "7QXJ_bzEs4QB"
      },
      "execution_count": null,
      "outputs": []
    },
    {
      "cell_type": "code",
      "source": [
        "패터슨 = Movie('패터슨', '아담 드라이버', '아하!', 4.5)\n",
        "해리포터 = Movie('해리포터', '엠마 왓슨', '굿', 5.0)\n",
        "짱구 = Movie('짱구는못말려', '짱구','최고', 4.8)\n",
        "li_ = [패터슨, 해리포터, 짱구]\n",
        "\n",
        "for i in li_:\n",
        "    i.all()\n",
        "    print('\\n')"
      ],
      "metadata": {
        "id": "ZpKxioaiE_Oi",
        "colab": {
          "base_uri": "https://localhost:8080/"
        },
        "outputId": "9a6e3145-206f-437f-9ecd-9e762680dbbf"
      },
      "execution_count": null,
      "outputs": [
        {
          "output_type": "stream",
          "name": "stdout",
          "text": [
            "제목: 패터슨\n",
            "배우: 아담 드라이버\n",
            "리뷰: 아하!\n",
            "별점: 4.5\n",
            "\n",
            "\n",
            "제목: 해리포터\n",
            "배우: 엠마 왓슨\n",
            "리뷰: 굿\n",
            "별점: 5.0\n",
            "\n",
            "\n",
            "제목: 짱구는못말려\n",
            "배우: 짱구\n",
            "리뷰: 최고\n",
            "별점: 4.8\n",
            "\n",
            "\n"
          ]
        }
      ]
    },
    {
      "cell_type": "code",
      "source": [
        "for movie in Movie.movie_list:\n",
        "    print(movie.all())"
      ],
      "metadata": {
        "colab": {
          "base_uri": "https://localhost:8080/"
        },
        "id": "B66IxEx9QGN9",
        "outputId": "7eb0d6c5-f7b6-476f-96f4-5920bf2e9bfc"
      },
      "execution_count": null,
      "outputs": [
        {
          "output_type": "stream",
          "name": "stdout",
          "text": [
            "제목: 패터슨\n",
            "배우: 아담 드라이버\n",
            "리뷰: 아하!\n",
            "별점: 4.5\n",
            "None\n",
            "제목: 해리포터\n",
            "배우: 엠마 왓슨\n",
            "리뷰: 굿\n",
            "별점: 5.0\n",
            "None\n",
            "제목: 짱구는못말려\n",
            "배우: 짱구\n",
            "리뷰: 최고\n",
            "별점: 4.8\n",
            "None\n"
          ]
        }
      ]
    },
    {
      "cell_type": "markdown",
      "source": [
        "4. 위에서 리뷰한 영화 3개의 평균별점을 구해보세요."
      ],
      "metadata": {
        "id": "NrQyF-Intz2I"
      }
    },
    {
      "cell_type": "code",
      "source": [
        "sum_ = 0\n",
        "for movie in Movie.movie_list:\n",
        "    sum_ += movie.score\n",
        "\n",
        "sum_ = sum_/(Movie.total_num-1)"
      ],
      "metadata": {
        "id": "CmkVibf5tv6M"
      },
      "execution_count": null,
      "outputs": []
    },
    {
      "cell_type": "code",
      "source": [
        "sum_"
      ],
      "metadata": {
        "id": "UISWd4rpFm4B",
        "colab": {
          "base_uri": "https://localhost:8080/"
        },
        "outputId": "8569a9d5-cbeb-456f-b782-60b550c8815c"
      },
      "execution_count": null,
      "outputs": [
        {
          "output_type": "execute_result",
          "data": {
            "text/plain": [
              "4.766666666666667"
            ]
          },
          "metadata": {},
          "execution_count": 97
        }
      ]
    },
    {
      "cell_type": "markdown",
      "source": [
        "5. update 메소드를 이용하여 가장 마지막 영화의 영화제목 뒤에 2를 넣어 수정 후 확인해주세요."
      ],
      "metadata": {
        "id": "hsBBw7Qotmxq"
      }
    },
    {
      "cell_type": "code",
      "source": [
        "패터슨.update()"
      ],
      "metadata": {
        "colab": {
          "base_uri": "https://localhost:8080/"
        },
        "id": "3JcwtSptLw5h",
        "outputId": "40eb5de3-4cfd-4dc9-b7a4-a4a291e63875"
      },
      "execution_count": null,
      "outputs": [
        {
          "output_type": "stream",
          "name": "stdout",
          "text": [
            "변경하실 항목을 입력하세요(name/actor/review/score): name\n",
            "바꿀 내용을 입력하세요:패터슨2\n",
            "제목: 패터슨2\n",
            "배우: 아담 드라이버\n",
            "리뷰: 아하!\n",
            "별점: 4.5\n"
          ]
        }
      ]
    },
    {
      "cell_type": "markdown",
      "source": [
        "# 1. 수업"
      ],
      "metadata": {
        "id": "gC09S2PUocR6"
      }
    },
    {
      "cell_type": "markdown",
      "source": [
        "# StaticMethod / ClassMethod\n",
        "- 객체와 상관없이 참조 가능한 변수(클래스 변수)\n",
        "- 객체와 상관없이 참조 가능한 메소드\n",
        "    - 클래스 변수는 객체와 상관없이 참조 가능\n",
        "    - 메소드는 객체를 통해서만 호출 가능합니다\n",
        "        - 메소드를 통해서 클래스 변수를 참조하려면 반드시 객체가 필요한 상황이 발생했죠\n",
        "- 객체가 아닌 클래스를 통해서 호출할 수 있는 메소드"
      ],
      "metadata": {
        "id": "oFE8Hukmw9bu"
      }
    },
    {
      "cell_type": "code",
      "source": [
        "class Movie:\n",
        "    total_num = 1 # 몇개의 인스턴스가 지금까지 찍혀나갔는지 누적 저장하는 변수\n",
        "    movie_list = [] # 클래스변수 - 인스턴스 전체가 공유하는 변수\n",
        "\n",
        "    # 인스턴스가 생성될 때 한번 실행되는 함수\n",
        "    def __init__(self, name, actor, review, score=0):\n",
        "        self.name = name\n",
        "        self.actor = actor\n",
        "        self.review = review\n",
        "        self.score = score\n",
        "        self.movie_num = Movie.total_num # 인스턴스 자체의 일련변호\n",
        "        Movie.total_num += 1\n",
        "        Movie.movie_list.append(self)\n",
        "\n",
        "    #  update를 뭘바꿀건지(input으로) -> 어떻게 바꿀건지 순으로 input으로\n",
        "    # 변경하실 항목을 입력하세요(name/actor/review/score): name\n",
        "    # 바꿀 내용을 입력하세요: 패터슨2\n",
        "    # 바뀐 결과가 출력되도록\n",
        "    # def update(self, name, actor, review, score):\n",
        "    #     self.name = name\n",
        "    #     self.actor = actor\n",
        "    #     self.review = review\n",
        "    #     self.score = score\n",
        "\n",
        "    def update(self):\n",
        "        li = input('변경하실 항목을 입력하세요(name/actor/review/score): ')\n",
        "        change = input('바꿀 내용을 입력하세요:')\n",
        "\n",
        "        if li == 'name':\n",
        "            self.name = change\n",
        "        elif li == 'actor':\n",
        "            self.actor = change\n",
        "        elif li == 'review':\n",
        "            self.review = change\n",
        "        elif li == 'score':\n",
        "            self.score = change\n",
        "        self.all()\n",
        "\n",
        "    def all(self):\n",
        "        print(f'일련번호: {self.movie_num}\\n제목: {self.name}\\n배우: {self.actor}\\n리뷰: {self.review}\\n별점: {self.score}')\n",
        "\n",
        "    # @ : 데코레이터 - 함수의 앞에 달아줍니다 - 해당 데코레이터가 의미하는 바가 실행되고 나서\n",
        "    # 함수가 실행됩니다\n",
        "    @classmethod  # 해당 클래스에 맞게 메서드가 어디서나 동일하게 동작하도록 만들어주는 데코레이터\n",
        "    def method2(cls):\n",
        "        print('클래스메소드: 해당 클래스를 통해 만들어진 총 리뷰 수', cls.total_num)"
      ],
      "metadata": {
        "id": "9LG4KMh2ZSFE"
      },
      "execution_count": null,
      "outputs": []
    },
    {
      "cell_type": "code",
      "source": [
        "지구를지켜라 = Movie('지구를지켜라', '신하균', '7번 봤다 더 말이 필요한가', 5)"
      ],
      "metadata": {
        "id": "xg6feRDgZSFF"
      },
      "execution_count": null,
      "outputs": []
    },
    {
      "cell_type": "code",
      "source": [
        "지구를지켜라.method2()"
      ],
      "metadata": {
        "colab": {
          "base_uri": "https://localhost:8080/"
        },
        "outputId": "f0cb35d5-c29a-434a-e9fb-48fa5b6b1da2",
        "id": "n5XmhMwMZSFF"
      },
      "execution_count": null,
      "outputs": [
        {
          "output_type": "stream",
          "name": "stdout",
          "text": [
            "클래스메소드: 해당 클래스를 통해 만들어진 총 리뷰 수 2\n"
          ]
        }
      ]
    },
    {
      "cell_type": "code",
      "source": [
        "Movie.method2()"
      ],
      "metadata": {
        "colab": {
          "base_uri": "https://localhost:8080/"
        },
        "outputId": "00d24e8e-7570-4bb8-b324-d13510f68a03",
        "id": "qMIIMkkMZSFF"
      },
      "execution_count": null,
      "outputs": [
        {
          "output_type": "stream",
          "name": "stdout",
          "text": [
            "클래스메소드: 해당 클래스를 통해 만들어진 총 리뷰 수 2\n"
          ]
        }
      ]
    },
    {
      "cell_type": "markdown",
      "source": [
        "# 클래스의 특징\n",
        "- 여러개의 변수와 함수를 하나의 타입으로 묶어놓은 것\n",
        "- Person이라는 타입에 name, age, nation, method(), method1(), method2() 까지가 현상태\n",
        "\n",
        "- 비슷한 특징을 가진 애들을 묶어놓으면 관리가 편해지는 장점을 얻을 수 있습니다.\n",
        "\n",
        "\n",
        "- 이렇게 묶어놓으면 발생하는 특징들(객체 지향 프로그래밍의 특징을 얻을 수 있다)\n",
        "    - 은닉성(캡슐화) : 클래스 안에 있어서 인스턴스로는 확인할 수 없게 보호하는 장치\n",
        "    - 상속: 클래스를 재사용할 수 있음\n",
        "    - 다형성\n",
        "        - 붕어빵 : 슈크림, 피자, 팥, 쑥...\n",
        "        - 하나의 타입 안에 다른 타입도 담을 수 있는 것\n",
        "        - 오버로딩, 오버라이딩\n",
        "\n",
        "    - 파이썬은 완벽한 객체지향을 제공하지 못합니다\n",
        "\n",
        "# 은닉성\n",
        "    - 클래스 안에 있어서 인스턴스로는 확인할 수 없게 보호하는 장치\n",
        "        - 외부에서 참조 불가하게 비공개화\n",
        "        - 속성이 정의는 되어있지만 외부에서 확일할 수 없는 메소드로 만드는 방식으로\n",
        "        - 파이썬은 비공개로 할 수 있는 방법이 없습니다\n",
        "        - 공개하고 싶지 않은 속성(기능) 이름 앞에 _를 붙이도록 약속하고 있습니다.\n",
        "        - 이름 앞에 _언더바가 붙어있으면 참조하지 않음. 해당 클래스 안에서만 씀. 이라고 약속할 뿐이에요."
      ],
      "metadata": {
        "id": "CBg4jM-n0GfC"
      }
    },
    {
      "cell_type": "code",
      "source": [
        "class Person:\n",
        "    nation = 'Korea'\n",
        "\n",
        "    def __init__(self, name, age):\n",
        "        self.name = name\n",
        "        self.age = age\n",
        "\n",
        "    # 나이를 조회만 하는 함수\n",
        "    def get_age(self):\n",
        "        return self.age\n",
        "\n",
        "    # 나이를 변경만 하는 함수 - 아주아주 보안을 강화해서\n",
        "    def set_age(self, age):\n",
        "        self.age = age\n",
        "\n",
        "    def method(self, a, b):\n",
        "        return a+b\n",
        "\n",
        "    def method1(): # 클래스 메소드라 인스턴스로 접근 불가\n",
        "        return Person.nation\n",
        "\n",
        "    @classmethod # 해당 클래스에 맞게 메서드가 다른 지점을 참조하여 동작\n",
        "    def method2(cls):\n",
        "        print('cls', cls)\n",
        "        return cls.nation\n"
      ],
      "metadata": {
        "id": "zIvDO9_Xz6lL"
      },
      "execution_count": null,
      "outputs": []
    },
    {
      "cell_type": "code",
      "source": [
        "김연지 = Person('김연지', 20)"
      ],
      "metadata": {
        "id": "IPMUhYjK1Brc"
      },
      "execution_count": null,
      "outputs": []
    },
    {
      "cell_type": "code",
      "source": [
        "김연지.method2()"
      ],
      "metadata": {
        "id": "Yu_cYlcl1HRA",
        "colab": {
          "base_uri": "https://localhost:8080/",
          "height": 54
        },
        "outputId": "16abc9e0-4c88-44c6-ee46-f548cddb0a30"
      },
      "execution_count": null,
      "outputs": [
        {
          "output_type": "stream",
          "name": "stdout",
          "text": [
            "cls <class '__main__.Person'>\n"
          ]
        },
        {
          "output_type": "execute_result",
          "data": {
            "text/plain": [
              "'Korea'"
            ],
            "application/vnd.google.colaboratory.intrinsic+json": {
              "type": "string"
            }
          },
          "metadata": {},
          "execution_count": 137
        }
      ]
    },
    {
      "cell_type": "code",
      "source": [
        "김연지.get_age()"
      ],
      "metadata": {
        "colab": {
          "base_uri": "https://localhost:8080/"
        },
        "id": "wuKeJC6sbt_8",
        "outputId": "6ffe5acd-1c1a-48db-be94-f790baf96dab"
      },
      "execution_count": null,
      "outputs": [
        {
          "output_type": "execute_result",
          "data": {
            "text/plain": [
              "20"
            ]
          },
          "metadata": {},
          "execution_count": 138
        }
      ]
    },
    {
      "cell_type": "code",
      "source": [
        "김연지.set_age(50) # 보안이 엄격해서 김연지외에는 들어갈 수 없다고 생각해봅니다"
      ],
      "metadata": {
        "id": "dvrscu41b0oG"
      },
      "execution_count": null,
      "outputs": []
    },
    {
      "cell_type": "code",
      "source": [
        "김연지.age = 40 # 이거 함수인 걸 보니 속에서 제어하는 변수가 있겠구나..."
      ],
      "metadata": {
        "id": "e-bjN2yeciDK"
      },
      "execution_count": null,
      "outputs": []
    },
    {
      "cell_type": "code",
      "source": [
        "김연지.age  # 조회 (값을 보기만 함) - 를 위한 함수\n",
        "# Person이라는 클래스에서 나이에 함부로 접근 할 수 없게 하는 방법\n",
        "# 나이를 조회하는 변수명을 다른 걸로 바꿉니다"
      ],
      "metadata": {
        "id": "JFDoiSYY2akq",
        "colab": {
          "base_uri": "https://localhost:8080/"
        },
        "outputId": "4dec63a8-06ac-4e30-c881-c40bf6172c27"
      },
      "execution_count": null,
      "outputs": [
        {
          "output_type": "execute_result",
          "data": {
            "text/plain": [
              "40"
            ]
          },
          "metadata": {},
          "execution_count": 141
        }
      ]
    },
    {
      "cell_type": "code",
      "source": [
        "김연지.age = 30 # 변경 (값을 바꿔넣음 ) - 을 위한 함수"
      ],
      "metadata": {
        "id": "cNeLMn3y2f9N"
      },
      "execution_count": null,
      "outputs": []
    },
    {
      "cell_type": "code",
      "source": [
        "# 세상의 모든 함수는 2개로 나뉜다\n",
        "# 1. getter (값을 보여주는, 리턴하는 함수)\n",
        "# 2. setter (값을 변경하는 함수 )"
      ],
      "metadata": {
        "id": "kjyLJBtI2h_j"
      },
      "execution_count": null,
      "outputs": []
    },
    {
      "cell_type": "code",
      "source": [
        "li = [1, 2, 3]"
      ],
      "metadata": {
        "id": "ztfAbVTC2mLq"
      },
      "execution_count": null,
      "outputs": []
    },
    {
      "cell_type": "code",
      "source": [
        "li.append(4) #  setter (값을 변경하는 함수 )"
      ],
      "metadata": {
        "id": "93GqcNsbayhy"
      },
      "execution_count": null,
      "outputs": []
    },
    {
      "cell_type": "code",
      "source": [
        "sorted(li) # getter (값을 조회하는 함수) 원본은 바뀌지 않았습니다"
      ],
      "metadata": {
        "colab": {
          "base_uri": "https://localhost:8080/"
        },
        "id": "QmtPoRt8a64M",
        "outputId": "89e28be4-1a5c-4ba9-82ee-b6b8cd258524"
      },
      "execution_count": null,
      "outputs": [
        {
          "output_type": "execute_result",
          "data": {
            "text/plain": [
              "[1, 2, 3, 4]"
            ]
          },
          "metadata": {},
          "execution_count": 146
        }
      ]
    },
    {
      "cell_type": "markdown",
      "source": [
        "# 은닉성을 약속한 속성에 어떻게 접근을 해야하는가?\n",
        "- 그럼에도 불구하고 공개해야 할 속성들이 있기 때문에\n",
        "    - getter setter를 따로 만들어서\n",
        "    - 메소드의 내부 속성에 대한 참조를 제공\n",
        "    - 메소드가 없으면, 참조하지 않는 것으로 약속합니다.\n",
        "\n",
        "- 파이썬에서 getter, setter 처리하는 방법\n",
        "    - 매직메소드를 다시 정의해서 getter와 setter의 동작을 다시 정의합니다.\n",
        "    - 데코레이터를 통해 getter와 setter를 정의할 수 있습니다.\n",
        "    - 파이썬에서 말하는 은닉성"
      ],
      "metadata": {
        "id": "z_QtVG_K3DRi"
      }
    },
    {
      "cell_type": "code",
      "source": [
        "class Person:\n",
        "    nation = 'Korea'\n",
        "\n",
        "    def __init__(self, name, age):\n",
        "        self.name = name\n",
        "        self.age = age\n",
        "\n",
        "    # 나이를 조회만 하는 함수 를 변수처럼 바깥에서 보이게 하는 데코레이터\n",
        "    @property # __call__\n",
        "    def get_age(self): # 함수(=동작)를 속성처럼 사용할 수 있게 바꿔주는 데코레이터\n",
        "        return self.age\n",
        "\n",
        "    # 나이를 변경만 하는 함수\n",
        "    @get_age.setter  # @함수명.setter 라는 데코레이터로 setter 함수를 변수처럼 사용합니다\n",
        "    def set_age(self, age):\n",
        "        self.age = age\n",
        "\n",
        "    def method(self, a, b):\n",
        "        return a+b\n",
        "\n",
        "    def method1(): # 클래스 메소드라 인스턴스로 접근 불가\n",
        "        return Person.nation\n",
        "\n",
        "    @classmethod # 해당 클래스에 맞게 메서드가 다른 지점을 참조하여 동작\n",
        "    def method2(cls):\n",
        "        print('cls', cls)\n",
        "        return cls.nation\n",
        "\n",
        "\n",
        "김연지 = Person('김연지', 20)"
      ],
      "metadata": {
        "id": "UsupM33YcpQi"
      },
      "execution_count": null,
      "outputs": []
    },
    {
      "cell_type": "code",
      "source": [
        "김연지.get_age() # TypeError: 'int' object is not callable"
      ],
      "metadata": {
        "colab": {
          "base_uri": "https://localhost:8080/",
          "height": 172
        },
        "outputId": "f4b08c69-7047-4c87-d649-affd8b630201",
        "id": "FL5tXHFHc7Y0"
      },
      "execution_count": null,
      "outputs": [
        {
          "output_type": "error",
          "ename": "TypeError",
          "evalue": "ignored",
          "traceback": [
            "\u001b[0;31m---------------------------------------------------------------------------\u001b[0m",
            "\u001b[0;31mTypeError\u001b[0m                                 Traceback (most recent call last)",
            "\u001b[0;32m<ipython-input-154-eaabefb0d829>\u001b[0m in \u001b[0;36m<cell line: 1>\u001b[0;34m()\u001b[0m\n\u001b[0;32m----> 1\u001b[0;31m \u001b[0m김연지\u001b[0m\u001b[0;34m.\u001b[0m\u001b[0mget_age\u001b[0m\u001b[0;34m(\u001b[0m\u001b[0;34m)\u001b[0m \u001b[0;31m# TypeError: 'int' object is not callable\u001b[0m\u001b[0;34m\u001b[0m\u001b[0;34m\u001b[0m\u001b[0m\n\u001b[0m",
            "\u001b[0;31mTypeError\u001b[0m: 'int' object is not callable"
          ]
        }
      ]
    },
    {
      "cell_type": "code",
      "source": [
        "김연지.get_age # 실제로 나이를 제어하는 변수는 age라는 걸 아무도 모를 겁니다\n",
        "# age에 직접 접근을 할 수 없도록 숨겨주는 장치"
      ],
      "metadata": {
        "colab": {
          "base_uri": "https://localhost:8080/"
        },
        "id": "-DKzABeLc5CH",
        "outputId": "65ee87cf-a6b8-405f-d4b6-c0215d4030e8"
      },
      "execution_count": null,
      "outputs": [
        {
          "output_type": "execute_result",
          "data": {
            "text/plain": [
              "20"
            ]
          },
          "metadata": {},
          "execution_count": 155
        }
      ]
    },
    {
      "cell_type": "code",
      "source": [
        "김연지.get_age = 50 # AttributeError: can't set attribute 'get_age'"
      ],
      "metadata": {
        "colab": {
          "base_uri": "https://localhost:8080/",
          "height": 172
        },
        "id": "GqDNGZ_1c4_N",
        "outputId": "0886c6cf-3ec3-4bb4-c864-753f399be7e0"
      },
      "execution_count": null,
      "outputs": [
        {
          "output_type": "error",
          "ename": "AttributeError",
          "evalue": "ignored",
          "traceback": [
            "\u001b[0;31m---------------------------------------------------------------------------\u001b[0m",
            "\u001b[0;31mAttributeError\u001b[0m                            Traceback (most recent call last)",
            "\u001b[0;32m<ipython-input-156-b40526d9634d>\u001b[0m in \u001b[0;36m<cell line: 1>\u001b[0;34m()\u001b[0m\n\u001b[0;32m----> 1\u001b[0;31m \u001b[0m김연지\u001b[0m\u001b[0;34m.\u001b[0m\u001b[0mget_age\u001b[0m \u001b[0;34m=\u001b[0m \u001b[0;36m50\u001b[0m \u001b[0;31m# AttributeError: can't set attribute 'get_age'\u001b[0m\u001b[0;34m\u001b[0m\u001b[0;34m\u001b[0m\u001b[0m\n\u001b[0m",
            "\u001b[0;31mAttributeError\u001b[0m: can't set attribute 'get_age'"
          ]
        }
      ]
    },
    {
      "cell_type": "code",
      "source": [
        "김연지.set_age(30) # TypeError: 'int' object is not callable"
      ],
      "metadata": {
        "colab": {
          "base_uri": "https://localhost:8080/",
          "height": 172
        },
        "id": "yBuoTRs3c42p",
        "outputId": "7e84391e-636e-4de2-8097-ae969fc5bd67"
      },
      "execution_count": null,
      "outputs": [
        {
          "output_type": "error",
          "ename": "TypeError",
          "evalue": "ignored",
          "traceback": [
            "\u001b[0;31m---------------------------------------------------------------------------\u001b[0m",
            "\u001b[0;31mTypeError\u001b[0m                                 Traceback (most recent call last)",
            "\u001b[0;32m<ipython-input-157-c6100118a421>\u001b[0m in \u001b[0;36m<cell line: 1>\u001b[0;34m()\u001b[0m\n\u001b[0;32m----> 1\u001b[0;31m \u001b[0m김연지\u001b[0m\u001b[0;34m.\u001b[0m\u001b[0mset_age\u001b[0m\u001b[0;34m(\u001b[0m\u001b[0;36m30\u001b[0m\u001b[0;34m)\u001b[0m \u001b[0;31m# TypeError: 'int' object is not callable\u001b[0m\u001b[0;34m\u001b[0m\u001b[0;34m\u001b[0m\u001b[0m\n\u001b[0m",
            "\u001b[0;31mTypeError\u001b[0m: 'int' object is not callable"
          ]
        }
      ]
    },
    {
      "cell_type": "code",
      "source": [
        "김연지.set_age = 30"
      ],
      "metadata": {
        "id": "rw5b8T0EeQKM"
      },
      "execution_count": null,
      "outputs": []
    },
    {
      "cell_type": "code",
      "source": [
        "김연지.get_age # 우리가 실제로는 age라는 변수에 나이를 저장하고 있다는 것은 영영 모를 겁니다"
      ],
      "metadata": {
        "colab": {
          "base_uri": "https://localhost:8080/"
        },
        "id": "ejH86KZweSHt",
        "outputId": "b97c1fe4-8453-4f8e-a3d9-6fd4b2ec9049"
      },
      "execution_count": null,
      "outputs": [
        {
          "output_type": "execute_result",
          "data": {
            "text/plain": [
              "30"
            ]
          },
          "metadata": {},
          "execution_count": 159
        }
      ]
    },
    {
      "cell_type": "code",
      "source": [
        "# 내부에서는 특정 변수를 사용하되 외부에서는 보기만,\n",
        "# 변경하기만 가능하게 만들어서 직접 접근을 막게 만드는 경우들이 있습니다\n",
        "# 은행계좌를 만든다 - 계좌번호, 이름, 통장잔고, 비밀번호\n",
        "class BankAccount:\n",
        "    def __init__(self, accont_num, name, balance, password):\n",
        "        self.__accont_num = accont_num\n",
        "        self.__name = name\n",
        "        self.__balance = balance\n",
        "        self.__password = password\n",
        "\n",
        "    # 조회만 할 수 있는 함수(getter)를 변수처럼 사용하는 데코레이터\n",
        "    @property\n",
        "    def get_pw(self):\n",
        "        return self.__password\n",
        "\n",
        "    # 변경만 할 수 있는 함수(setter)를 변수처럼 사용하는 데코레이터\n",
        "    @get_pw.setter\n",
        "    def get_pw(self,pw):\n",
        "        self.__password = pw"
      ],
      "metadata": {
        "id": "rRUfDlP_2vYS"
      },
      "execution_count": null,
      "outputs": []
    },
    {
      "cell_type": "code",
      "source": [
        "김연지 = BankAccount('111-11', '김연지', 30000, '1234')"
      ],
      "metadata": {
        "id": "OkGnvQyz35qz"
      },
      "execution_count": null,
      "outputs": []
    },
    {
      "cell_type": "code",
      "source": [
        "김연지.__password"
      ],
      "metadata": {
        "colab": {
          "base_uri": "https://localhost:8080/",
          "height": 172
        },
        "id": "_eHVAsnFj_4n",
        "outputId": "a779a54a-5b2a-4dd4-e444-adfa5bc4cfa5"
      },
      "execution_count": null,
      "outputs": [
        {
          "output_type": "error",
          "ename": "AttributeError",
          "evalue": "ignored",
          "traceback": [
            "\u001b[0;31m---------------------------------------------------------------------------\u001b[0m",
            "\u001b[0;31mAttributeError\u001b[0m                            Traceback (most recent call last)",
            "\u001b[0;32m<ipython-input-189-50e77fc83ef7>\u001b[0m in \u001b[0;36m<cell line: 1>\u001b[0;34m()\u001b[0m\n\u001b[0;32m----> 1\u001b[0;31m \u001b[0m김연지\u001b[0m\u001b[0;34m.\u001b[0m\u001b[0m__password\u001b[0m\u001b[0;34m\u001b[0m\u001b[0;34m\u001b[0m\u001b[0m\n\u001b[0m",
            "\u001b[0;31mAttributeError\u001b[0m: 'BankAccount' object has no attribute '__password'"
          ]
        }
      ]
    },
    {
      "cell_type": "code",
      "source": [
        "dir(김연지)"
      ],
      "metadata": {
        "id": "RddSHKD03_6y",
        "colab": {
          "base_uri": "https://localhost:8080/"
        },
        "outputId": "af6db24a-c498-4721-a54d-3778e136149c"
      },
      "execution_count": null,
      "outputs": [
        {
          "output_type": "execute_result",
          "data": {
            "text/plain": [
              "['_BankAccount__accont_num',\n",
              " '_BankAccount__balance',\n",
              " '_BankAccount__name',\n",
              " '_BankAccount__password',\n",
              " '__class__',\n",
              " '__delattr__',\n",
              " '__dict__',\n",
              " '__dir__',\n",
              " '__doc__',\n",
              " '__eq__',\n",
              " '__format__',\n",
              " '__ge__',\n",
              " '__getattribute__',\n",
              " '__gt__',\n",
              " '__hash__',\n",
              " '__init__',\n",
              " '__init_subclass__',\n",
              " '__le__',\n",
              " '__lt__',\n",
              " '__module__',\n",
              " '__ne__',\n",
              " '__new__',\n",
              " '__reduce__',\n",
              " '__reduce_ex__',\n",
              " '__repr__',\n",
              " '__setattr__',\n",
              " '__sizeof__',\n",
              " '__str__',\n",
              " '__subclasshook__',\n",
              " '__weakref__',\n",
              " 'get_pw']"
            ]
          },
          "metadata": {},
          "execution_count": 190
        }
      ]
    },
    {
      "cell_type": "code",
      "source": [
        "김연지._BankAccount__password # 직접 변수로 접근하는 것이 가능하다면"
      ],
      "metadata": {
        "id": "mHSYTKyR39pU",
        "colab": {
          "base_uri": "https://localhost:8080/",
          "height": 35
        },
        "outputId": "cc534e96-2111-431d-b3a4-fe246d5831c7"
      },
      "execution_count": null,
      "outputs": [
        {
          "output_type": "execute_result",
          "data": {
            "text/plain": [
              "'1234'"
            ],
            "application/vnd.google.colaboratory.intrinsic+json": {
              "type": "string"
            }
          },
          "metadata": {},
          "execution_count": 191
        }
      ]
    },
    {
      "cell_type": "code",
      "source": [
        "김연지._BankAccount__password ='0000'"
      ],
      "metadata": {
        "id": "Rasj3ySj4Xyl"
      },
      "execution_count": null,
      "outputs": []
    },
    {
      "cell_type": "code",
      "source": [
        "김연지._BankAccount__password"
      ],
      "metadata": {
        "colab": {
          "base_uri": "https://localhost:8080/",
          "height": 35
        },
        "id": "AIiohdBdkPaa",
        "outputId": "4db917e3-8d23-4066-c8ea-403a4622ce59"
      },
      "execution_count": null,
      "outputs": [
        {
          "output_type": "execute_result",
          "data": {
            "text/plain": [
              "'0000'"
            ],
            "application/vnd.google.colaboratory.intrinsic+json": {
              "type": "string"
            }
          },
          "metadata": {},
          "execution_count": 193
        }
      ]
    },
    {
      "cell_type": "code",
      "source": [
        "김연지.get_pw() # _BankAccount__passwordf"
      ],
      "metadata": {
        "colab": {
          "base_uri": "https://localhost:8080/",
          "height": 172
        },
        "id": "JN6UKLM_kmnO",
        "outputId": "138474ab-3af6-4e87-8ba4-5d17eeb0da06"
      },
      "execution_count": null,
      "outputs": [
        {
          "output_type": "error",
          "ename": "TypeError",
          "evalue": "ignored",
          "traceback": [
            "\u001b[0;31m---------------------------------------------------------------------------\u001b[0m",
            "\u001b[0;31mTypeError\u001b[0m                                 Traceback (most recent call last)",
            "\u001b[0;32m<ipython-input-194-9fd29a9865d3>\u001b[0m in \u001b[0;36m<cell line: 1>\u001b[0;34m()\u001b[0m\n\u001b[0;32m----> 1\u001b[0;31m \u001b[0m김연지\u001b[0m\u001b[0;34m.\u001b[0m\u001b[0mget_pw\u001b[0m\u001b[0;34m(\u001b[0m\u001b[0;34m)\u001b[0m \u001b[0;31m# _BankAccount__passwordf\u001b[0m\u001b[0;34m\u001b[0m\u001b[0;34m\u001b[0m\u001b[0m\n\u001b[0m",
            "\u001b[0;31mTypeError\u001b[0m: 'str' object is not callable"
          ]
        }
      ]
    },
    {
      "cell_type": "code",
      "source": [
        "김연지.set_pw()"
      ],
      "metadata": {
        "colab": {
          "base_uri": "https://localhost:8080/",
          "height": 172
        },
        "id": "WOlqJ6KCkuIB",
        "outputId": "24e0b8a9-f56a-48ce-f878-44ab0eeb1af9"
      },
      "execution_count": null,
      "outputs": [
        {
          "output_type": "error",
          "ename": "AttributeError",
          "evalue": "ignored",
          "traceback": [
            "\u001b[0;31m---------------------------------------------------------------------------\u001b[0m",
            "\u001b[0;31mAttributeError\u001b[0m                            Traceback (most recent call last)",
            "\u001b[0;32m<ipython-input-195-ba44a63ecb39>\u001b[0m in \u001b[0;36m<cell line: 1>\u001b[0;34m()\u001b[0m\n\u001b[0;32m----> 1\u001b[0;31m \u001b[0m김연지\u001b[0m\u001b[0;34m.\u001b[0m\u001b[0mset_pw\u001b[0m\u001b[0;34m(\u001b[0m\u001b[0;34m)\u001b[0m\u001b[0;34m\u001b[0m\u001b[0;34m\u001b[0m\u001b[0m\n\u001b[0m",
            "\u001b[0;31mAttributeError\u001b[0m: 'BankAccount' object has no attribute 'set_pw'"
          ]
        }
      ]
    },
    {
      "cell_type": "code",
      "source": [
        "김연지 = BankAccount('111-11', '김연지', 30000, '1234')"
      ],
      "metadata": {
        "id": "3o4HBODqlNsS"
      },
      "execution_count": null,
      "outputs": []
    },
    {
      "cell_type": "code",
      "source": [
        "김연지.get_pw() # TypeError: 'str' object is not callable"
      ],
      "metadata": {
        "colab": {
          "base_uri": "https://localhost:8080/",
          "height": 172
        },
        "id": "XFqEfthblObr",
        "outputId": "3052a00b-7289-44ea-9fd9-7c5906e390a0"
      },
      "execution_count": null,
      "outputs": [
        {
          "output_type": "error",
          "ename": "TypeError",
          "evalue": "ignored",
          "traceback": [
            "\u001b[0;31m---------------------------------------------------------------------------\u001b[0m",
            "\u001b[0;31mTypeError\u001b[0m                                 Traceback (most recent call last)",
            "\u001b[0;32m<ipython-input-197-0b25291148c5>\u001b[0m in \u001b[0;36m<cell line: 1>\u001b[0;34m()\u001b[0m\n\u001b[0;32m----> 1\u001b[0;31m \u001b[0m김연지\u001b[0m\u001b[0;34m.\u001b[0m\u001b[0mget_pw\u001b[0m\u001b[0;34m(\u001b[0m\u001b[0;34m)\u001b[0m \u001b[0;31m# TypeError: 'str' object is not callable\u001b[0m\u001b[0;34m\u001b[0m\u001b[0;34m\u001b[0m\u001b[0m\n\u001b[0m",
            "\u001b[0;31mTypeError\u001b[0m: 'str' object is not callable"
          ]
        }
      ]
    },
    {
      "cell_type": "code",
      "source": [
        "김연지.get_pw"
      ],
      "metadata": {
        "colab": {
          "base_uri": "https://localhost:8080/",
          "height": 35
        },
        "id": "HvOD1SillUF7",
        "outputId": "07301d8f-47c3-4695-c31e-437c39aa7039"
      },
      "execution_count": null,
      "outputs": [
        {
          "output_type": "execute_result",
          "data": {
            "text/plain": [
              "'1234'"
            ],
            "application/vnd.google.colaboratory.intrinsic+json": {
              "type": "string"
            }
          },
          "metadata": {},
          "execution_count": 198
        }
      ]
    },
    {
      "cell_type": "code",
      "source": [
        "김연지.get_pw = '0000'"
      ],
      "metadata": {
        "id": "8pzJs-uilWnt"
      },
      "execution_count": null,
      "outputs": []
    },
    {
      "cell_type": "markdown",
      "source": [
        "### 실습 - balance를 수정은 할 수 없고 볼 수만 있는 메소드를 하나 만들어 주세요. outer_balance"
      ],
      "metadata": {
        "id": "luFmrUqP4_pt"
      }
    },
    {
      "cell_type": "code",
      "source": [
        "# 1. 함수로 만들어서\n",
        "# outer_balance() -> 현재 계좌 잔액 확인\n",
        "# @property 속성을 통해서 변수처럼 변경하셔서\n",
        "# 김연지.outer_balance -> 함수일때와 같은 결과가 나오도록\n",
        "# 김연지.outer_balance = 금액\n",
        "# 이렇게 __balance라는 변수는 외부에 절대 노출될 일 없게"
      ],
      "metadata": {
        "id": "xaXdNjCt4ac-"
      },
      "execution_count": null,
      "outputs": []
    },
    {
      "cell_type": "code",
      "source": [
        "# 내부에서는 특정 변수를 사용하되 외부에서는 보기만,\n",
        "# 변경하기만 가능하게 만들어서 직접 접근을 막게 만드는 경우들이 있습니다\n",
        "# 은행계좌를 만든다 - 계좌번호, 이름, 통장잔고, 비밀번호\n",
        "class BankAccount:\n",
        "    def __init__(self, accont_num, name, balance, password):\n",
        "        self.__accont_num = accont_num\n",
        "        self.__name = name\n",
        "        self.__balance = balance\n",
        "        self.__password = password\n",
        "\n",
        "    # 조회만 할 수 있는 함수(getter)를 변수처럼 사용하는 데코레이터\n",
        "    @property\n",
        "    def get_pw(self):\n",
        "        return self.__password\n",
        "\n",
        "    # 변경만 할 수 있는 함수(setter)를 변수처럼 사용하는 데코레이터\n",
        "    @get_pw.setter\n",
        "    def get_pw(self,pw):\n",
        "        self.__password = pw\n",
        "\n",
        "    @property\n",
        "    def outer_balance(self):\n",
        "        return self.__balance\n",
        "\n",
        "    @outer_balance.setter\n",
        "    def outer_balance(self,balance):\n",
        "        if balance > 0:\n",
        "            self.__balance = balance\n",
        "        else:\n",
        "            print('이 계좌는 마이너스 통장이 아닙니다. 0 이상의 금액을 입력하세요.')"
      ],
      "metadata": {
        "id": "6YKreMRk91Pe"
      },
      "execution_count": null,
      "outputs": []
    },
    {
      "cell_type": "code",
      "source": [
        "김연지 = BankAccount('111-11', '김연지', 30000, '1234')"
      ],
      "metadata": {
        "id": "uKbQtAgMnuyo"
      },
      "execution_count": null,
      "outputs": []
    },
    {
      "cell_type": "code",
      "source": [
        "김연지.outer_balance()"
      ],
      "metadata": {
        "id": "aLpfIRzM94Fl",
        "colab": {
          "base_uri": "https://localhost:8080/"
        },
        "outputId": "ad592f6a-8e09-4b0d-ec66-5529b5ed88a4"
      },
      "execution_count": null,
      "outputs": [
        {
          "output_type": "execute_result",
          "data": {
            "text/plain": [
              "30000"
            ]
          },
          "metadata": {},
          "execution_count": 210
        }
      ]
    },
    {
      "cell_type": "code",
      "source": [
        "김연지.outer_balance"
      ],
      "metadata": {
        "id": "Kztgh-F_98N2",
        "colab": {
          "base_uri": "https://localhost:8080/"
        },
        "outputId": "701d55e6-28ed-4e4c-c68e-16b16ab4a66a"
      },
      "execution_count": null,
      "outputs": [
        {
          "output_type": "execute_result",
          "data": {
            "text/plain": [
              "30000"
            ]
          },
          "metadata": {},
          "execution_count": 239
        }
      ]
    },
    {
      "cell_type": "code",
      "source": [
        "김연지.outer_balance = 40000"
      ],
      "metadata": {
        "id": "SjMvP_aj-5V0"
      },
      "execution_count": null,
      "outputs": []
    },
    {
      "cell_type": "code",
      "source": [
        "김연지.outer_balance"
      ],
      "metadata": {
        "id": "a2KUDNGH-7ja",
        "colab": {
          "base_uri": "https://localhost:8080/"
        },
        "outputId": "5bf3f285-b2ba-4a21-9ba8-ce29b494b490"
      },
      "execution_count": null,
      "outputs": [
        {
          "output_type": "execute_result",
          "data": {
            "text/plain": [
              "40000"
            ]
          },
          "metadata": {},
          "execution_count": 241
        }
      ]
    },
    {
      "cell_type": "code",
      "source": [
        "김연지.outer_balance = -10000"
      ],
      "metadata": {
        "colab": {
          "base_uri": "https://localhost:8080/"
        },
        "id": "dyK5yYISqt-f",
        "outputId": "7a0855ca-bcd2-4f75-c7e7-cca89075e846"
      },
      "execution_count": null,
      "outputs": [
        {
          "output_type": "stream",
          "name": "stdout",
          "text": [
            "이 계좌는 마이너스 통장이 아닙니다. 0 이상의 금액을 입력하세요.\n"
          ]
        }
      ]
    },
    {
      "cell_type": "markdown",
      "source": [
        "#상속"
      ],
      "metadata": {
        "id": "mUOs94pmrd6h"
      }
    },
    {
      "cell_type": "code",
      "source": [
        "김연지 = Person('김연지', 22)"
      ],
      "metadata": {
        "id": "OSsx5D6Oroio"
      },
      "execution_count": null,
      "outputs": []
    },
    {
      "cell_type": "code",
      "source": [
        "dir(김연지)"
      ],
      "metadata": {
        "colab": {
          "base_uri": "https://localhost:8080/"
        },
        "id": "ZK8jFeeBrsh1",
        "outputId": "bd4827b3-0f6f-4591-e1ea-c75fbece6da2"
      },
      "execution_count": null,
      "outputs": [
        {
          "output_type": "execute_result",
          "data": {
            "text/plain": [
              "['__class__',\n",
              " '__delattr__',\n",
              " '__dict__',\n",
              " '__dir__',\n",
              " '__doc__',\n",
              " '__eq__',\n",
              " '__format__',\n",
              " '__ge__',\n",
              " '__getattribute__',\n",
              " '__gt__',\n",
              " '__hash__',\n",
              " '__init__',\n",
              " '__init_subclass__',\n",
              " '__le__',\n",
              " '__lt__',\n",
              " '__module__',\n",
              " '__ne__',\n",
              " '__new__',\n",
              " '__reduce__',\n",
              " '__reduce_ex__',\n",
              " '__repr__',\n",
              " '__setattr__',\n",
              " '__sizeof__',\n",
              " '__str__',\n",
              " '__subclasshook__',\n",
              " '__weakref__',\n",
              " 'age',\n",
              " 'get_age',\n",
              " 'method',\n",
              " 'method1',\n",
              " 'method2',\n",
              " 'name',\n",
              " 'nation',\n",
              " 'set_age']"
            ]
          },
          "metadata": {},
          "execution_count": 244
        }
      ]
    },
    {
      "cell_type": "code",
      "source": [
        "김연지.nation # 클래스 변수"
      ],
      "metadata": {
        "colab": {
          "base_uri": "https://localhost:8080/",
          "height": 35
        },
        "id": "ydNOQI2jrt4O",
        "outputId": "c11984f5-76a6-4009-8f79-3f508074ae15"
      },
      "execution_count": null,
      "outputs": [
        {
          "output_type": "execute_result",
          "data": {
            "text/plain": [
              "'Korea'"
            ],
            "application/vnd.google.colaboratory.intrinsic+json": {
              "type": "string"
            }
          },
          "metadata": {},
          "execution_count": 245
        }
      ]
    },
    {
      "cell_type": "code",
      "source": [
        "김연지.method(1,3)"
      ],
      "metadata": {
        "colab": {
          "base_uri": "https://localhost:8080/"
        },
        "id": "mFIb9AI9rwJg",
        "outputId": "039d8c3e-af58-4467-b65a-9b4f15efbbf6"
      },
      "execution_count": null,
      "outputs": [
        {
          "output_type": "execute_result",
          "data": {
            "text/plain": [
              "4"
            ]
          },
          "metadata": {},
          "execution_count": 247
        }
      ]
    },
    {
      "cell_type": "code",
      "source": [
        "class Student(Person):\n",
        "    def minus(self, a, b):\n",
        "        return a-b"
      ],
      "metadata": {
        "id": "MntXL3rPsH49"
      },
      "execution_count": null,
      "outputs": []
    },
    {
      "cell_type": "code",
      "source": [
        "훈이 = Student('훈이', 4)"
      ],
      "metadata": {
        "id": "5kHlX2u1sfdD"
      },
      "execution_count": null,
      "outputs": []
    },
    {
      "cell_type": "code",
      "source": [
        "dir(훈이)"
      ],
      "metadata": {
        "id": "3X7vqIfbstSW"
      },
      "execution_count": null,
      "outputs": []
    },
    {
      "cell_type": "code",
      "source": [
        "훈이.nation"
      ],
      "metadata": {
        "colab": {
          "base_uri": "https://localhost:8080/",
          "height": 35
        },
        "id": "LdJpRA8jsxR9",
        "outputId": "b1da4015-c5a9-406f-a7a2-95fdd9b62c52"
      },
      "execution_count": null,
      "outputs": [
        {
          "output_type": "execute_result",
          "data": {
            "text/plain": [
              "'Korea'"
            ],
            "application/vnd.google.colaboratory.intrinsic+json": {
              "type": "string"
            }
          },
          "metadata": {},
          "execution_count": 201
        }
      ]
    },
    {
      "cell_type": "code",
      "source": [
        "훈이.method(1,3)"
      ],
      "metadata": {
        "colab": {
          "base_uri": "https://localhost:8080/"
        },
        "id": "5rOIvwi-sz8M",
        "outputId": "13e3a85d-4623-41da-d365-4b3d70d72006"
      },
      "execution_count": null,
      "outputs": [
        {
          "output_type": "execute_result",
          "data": {
            "text/plain": [
              "4"
            ]
          },
          "metadata": {},
          "execution_count": 202
        }
      ]
    },
    {
      "cell_type": "code",
      "source": [
        "훈이.minus(1,3)"
      ],
      "metadata": {
        "colab": {
          "base_uri": "https://localhost:8080/"
        },
        "id": "Olbt54Zys36U",
        "outputId": "51292d63-3752-45ab-80bf-271c3138322b"
      },
      "execution_count": null,
      "outputs": [
        {
          "output_type": "execute_result",
          "data": {
            "text/plain": [
              "-2"
            ]
          },
          "metadata": {},
          "execution_count": 203
        }
      ]
    },
    {
      "cell_type": "code",
      "source": [
        "class UStudent(Student):\n",
        "    nation = '미국'"
      ],
      "metadata": {
        "id": "i4eK0osWyhgr"
      },
      "execution_count": null,
      "outputs": []
    },
    {
      "cell_type": "code",
      "source": [
        "칸예웨스트 = UStudent('칸예', 30)"
      ],
      "metadata": {
        "id": "3Ug7RUDjyuiS"
      },
      "execution_count": null,
      "outputs": []
    },
    {
      "cell_type": "code",
      "source": [
        "칸예웨스트.method(1,3)"
      ],
      "metadata": {
        "colab": {
          "base_uri": "https://localhost:8080/"
        },
        "id": "_9tiQaXiy1qA",
        "outputId": "b1dd7594-39b5-4a30-f52e-961b84de6c75"
      },
      "execution_count": null,
      "outputs": [
        {
          "output_type": "execute_result",
          "data": {
            "text/plain": [
              "4"
            ]
          },
          "metadata": {},
          "execution_count": 252
        }
      ]
    },
    {
      "cell_type": "code",
      "source": [
        "칸예웨스트.minus(1,3)"
      ],
      "metadata": {
        "colab": {
          "base_uri": "https://localhost:8080/"
        },
        "id": "Spu38M_ty5UB",
        "outputId": "74e2b5eb-3a11-4533-a4e6-75e4d9dbd916"
      },
      "execution_count": null,
      "outputs": [
        {
          "output_type": "execute_result",
          "data": {
            "text/plain": [
              "-2"
            ]
          },
          "metadata": {},
          "execution_count": 253
        }
      ]
    },
    {
      "cell_type": "code",
      "source": [
        "칸예웨스트.nation"
      ],
      "metadata": {
        "colab": {
          "base_uri": "https://localhost:8080/",
          "height": 35
        },
        "id": "cjNftMZQy7tN",
        "outputId": "05cc2e6e-680b-4023-febb-02e360564151"
      },
      "execution_count": null,
      "outputs": [
        {
          "output_type": "execute_result",
          "data": {
            "text/plain": [
              "'미국'"
            ],
            "application/vnd.google.colaboratory.intrinsic+json": {
              "type": "string"
            }
          },
          "metadata": {},
          "execution_count": 254
        }
      ]
    },
    {
      "cell_type": "code",
      "source": [
        "칸예웨스트.method2() # 만들 때 Person에서 만든 method, UStudent 클래스로 만든 인스턴스에서 실행한다면"
      ],
      "metadata": {
        "colab": {
          "base_uri": "https://localhost:8080/",
          "height": 54
        },
        "id": "dz7t1H5By9y4",
        "outputId": "c579cd7c-d543-4f6c-aca4-8d79097eb19b"
      },
      "execution_count": null,
      "outputs": [
        {
          "output_type": "stream",
          "name": "stdout",
          "text": [
            "cls <class '__main__.UStudent'>\n"
          ]
        },
        {
          "output_type": "execute_result",
          "data": {
            "text/plain": [
              "'미국'"
            ],
            "application/vnd.google.colaboratory.intrinsic+json": {
              "type": "string"
            }
          },
          "metadata": {},
          "execution_count": 256
        }
      ]
    },
    {
      "cell_type": "code",
      "source": [
        "칸예웨스트.nation"
      ],
      "metadata": {
        "colab": {
          "base_uri": "https://localhost:8080/",
          "height": 35
        },
        "id": "M5LKpKFlzU5I",
        "outputId": "e4953786-4992-4bff-8ad8-a6a047746753"
      },
      "execution_count": null,
      "outputs": [
        {
          "output_type": "execute_result",
          "data": {
            "text/plain": [
              "'미국'"
            ],
            "application/vnd.google.colaboratory.intrinsic+json": {
              "type": "string"
            }
          },
          "metadata": {},
          "execution_count": 257
        }
      ]
    },
    {
      "cell_type": "code",
      "source": [
        "class Person:\n",
        "    nation = 'Korea'\n",
        "\n",
        "    def __init__(self, name, age):\n",
        "        self.name = name\n",
        "        self.age = age\n",
        "\n",
        "    # 나이를 조회만 하는 함수\n",
        "    def get_age(self):\n",
        "        return self.age\n",
        "\n",
        "    # 나이를 변경만 하는 함수 - 아주아주 보안을 강화해서\n",
        "    def set_age(self, age):\n",
        "        self.age = age\n",
        "\n",
        "    def method(self, a, b):\n",
        "        return a+b\n",
        "\n",
        "    @staticmethod\n",
        "    def method1(): # 클래스 메소드라 인스턴스로 접근 불가\n",
        "        return Person.nation\n",
        "\n",
        "    @classmethod # 해당 클래스에 맞게 메서드가 다른 지점을 참조하여 동작\n",
        "    def method2(cls):\n",
        "        print('cls', cls)\n",
        "        return cls.nation"
      ],
      "metadata": {
        "id": "jBMxEVpbzpGJ"
      },
      "execution_count": null,
      "outputs": []
    },
    {
      "cell_type": "code",
      "source": [
        "class Student(Person):\n",
        "    def minus(self, a, b):\n",
        "        return a-b"
      ],
      "metadata": {
        "id": "LxvN0KfK0rbl"
      },
      "execution_count": null,
      "outputs": []
    },
    {
      "cell_type": "code",
      "source": [
        "class UStudent(Student):\n",
        "    nation = '미국'"
      ],
      "metadata": {
        "id": "ZmFyZxeyzT9J"
      },
      "execution_count": null,
      "outputs": []
    },
    {
      "cell_type": "code",
      "source": [
        "칸예웨스트 = UStudent('칸예', 30)"
      ],
      "metadata": {
        "id": "PIdIRgg00Gvv"
      },
      "execution_count": null,
      "outputs": []
    },
    {
      "cell_type": "code",
      "source": [
        "칸예웨스트.method1()\n",
        "# @staticmethod라는 데코레이터로 만들어진 함수이므로\n",
        "# 어디서 부르건(인스턴스건, 클래스건, 상위클래스건, 하위클래스건)\n",
        "# 똑같은 결과를 호출합니다"
      ],
      "metadata": {
        "colab": {
          "base_uri": "https://localhost:8080/",
          "height": 35
        },
        "id": "ya_A4Q500KMG",
        "outputId": "9b2f9fab-abdb-4985-cef0-c14abe6a78b0"
      },
      "execution_count": null,
      "outputs": [
        {
          "output_type": "execute_result",
          "data": {
            "text/plain": [
              "'Korea'"
            ],
            "application/vnd.google.colaboratory.intrinsic+json": {
              "type": "string"
            }
          },
          "metadata": {},
          "execution_count": 270
        }
      ]
    },
    {
      "cell_type": "code",
      "source": [
        "칸예웨스트.method2()\n",
        "# classmethod - 만약에 클래스변수의 이름이 중복된다면\n",
        "# 메소드가 어디서 만들어졌건\n",
        "# 지금 호출하는 인스턴스를 생성한\n",
        "# 클래스에 맞게 메서드가 다른 지점을 참조하여 동작"
      ],
      "metadata": {
        "colab": {
          "base_uri": "https://localhost:8080/",
          "height": 54
        },
        "id": "rC0j62Dl0Obf",
        "outputId": "3998de96-1321-421b-d1d5-5cfdfa7fff43"
      },
      "execution_count": null,
      "outputs": [
        {
          "output_type": "stream",
          "name": "stdout",
          "text": [
            "cls <class '__main__.UStudent'>\n"
          ]
        },
        {
          "output_type": "execute_result",
          "data": {
            "text/plain": [
              "'미국'"
            ],
            "application/vnd.google.colaboratory.intrinsic+json": {
              "type": "string"
            }
          },
          "metadata": {},
          "execution_count": 271
        }
      ]
    },
    {
      "cell_type": "code",
      "source": [
        "UStudent.method1()"
      ],
      "metadata": {
        "colab": {
          "base_uri": "https://localhost:8080/",
          "height": 35
        },
        "id": "uBuilH-w0nST",
        "outputId": "d7d0d76c-986a-46ac-fe19-85a79d2ed133"
      },
      "execution_count": null,
      "outputs": [
        {
          "output_type": "execute_result",
          "data": {
            "text/plain": [
              "'Korea'"
            ],
            "application/vnd.google.colaboratory.intrinsic+json": {
              "type": "string"
            }
          },
          "metadata": {},
          "execution_count": 272
        }
      ]
    },
    {
      "cell_type": "markdown",
      "source": [
        "# 오전 복습에 이어서 실습"
      ],
      "metadata": {
        "id": "GxKLN7lrC5UL"
      }
    },
    {
      "cell_type": "markdown",
      "source": [
        "6. 위에서 만든 Movie 클래스를\n",
        "- update 메소드로 호출하면 **영화이름은 조회만 할 수 있고 수정은 할 수 없도록** Movie 클래스를 수정해주세요.\n",
        "- 또한 class_name이라는 클래스 변수를 만들어 'Movie'라는 값을 넣어주세요.\n",
        "- 이후 호출시 class_name을 출력하는 static method staticMovie() 를 만들어주세요"
      ],
      "metadata": {
        "id": "Lxxg0VK_SDs2"
      }
    },
    {
      "cell_type": "code",
      "source": [
        "class Movie:\n",
        "    total_num = 1 # 몇개의 인스턴스가 지금까지 찍혀나갔는지 누적 저장하는 변수\n",
        "    movie_list = [] # 클래스변수 - 인스턴스 전체가 공유하는 변수\n",
        "    class_name = 'Movie'\n",
        "\n",
        "    # 인스턴스가 생성될 때 한번 실행되는 함수\n",
        "    def __init__(self, name, actor, review, score=0):\n",
        "        self.name = name\n",
        "        self.actor = actor\n",
        "        self.review = review\n",
        "        self.score = score\n",
        "        self.movie_num = Movie.total_num # 인스턴스 자체의 일련변호\n",
        "        Movie.total_num += 1\n",
        "        Movie.movie_list.append(self)\n",
        "\n",
        "    #  update를 뭘바꿀건지(input으로) -> 어떻게 바꿀건지 순으로 input으로\n",
        "    # 변경하실 항목을 입력하세요(name/actor/review/score): name\n",
        "    # 바꿀 내용을 입력하세요: 패터슨2\n",
        "    # 바뀐 결과가 출력되도록\n",
        "    # def update(self, name, actor, review, score):\n",
        "    #     self.name = name\n",
        "    #     self.actor = actor\n",
        "    #     self.review = review\n",
        "    #     self.score = score\n",
        "\n",
        "    @staticmethod\n",
        "    def staticMovie():\n",
        "        print(Movie.class_name)\n",
        "\n",
        "    @property\n",
        "    def update(self):\n",
        "        li = input('변경하실 항목을 입력하세요(actor/review/score): ')\n",
        "\n",
        "        if li == 'name':\n",
        "            print('영화 이름은 수정할 수 없습니다.')\n",
        "\n",
        "        else:\n",
        "\n",
        "            change = input('바꿀 내용을 입력하세요:')\n",
        "            if li == 'actor':\n",
        "                self.actor = change\n",
        "            elif li == 'review':\n",
        "                self.review = change\n",
        "            elif li == 'score':\n",
        "                self.score = change\n",
        "\n",
        "            self.all()\n",
        "\n",
        "    def all(self):\n",
        "        print(f'일련번호: {self.movie_num}\\n제목: {self.name}\\n배우: {self.actor}\\n리뷰: {self.review}\\n별점: {self.score}')\n",
        "\n",
        "    # @ : 데코레이터 - 함수의 앞에 달아줍니다 - 해당 데코레이터가 의미하는 바가 실행되고 나서\n",
        "    # 함수가 실행됩니다\n",
        "    @classmethod  # 해당 클래스에 맞게 메서드가 어디서나 동일하게 동작하도록 만들어주는 데코레이터\n",
        "    def method2(cls):\n",
        "        print('클래스메소드: 해당 클래스를 통해 만들어진 총 리뷰 수', cls.total_num)"
      ],
      "metadata": {
        "id": "iM5reBEspJJt"
      },
      "execution_count": null,
      "outputs": []
    },
    {
      "cell_type": "code",
      "source": [
        "지구를지켜라 = Movie('지구를지켜라', '신하균', '7번 봤다 더 말이 필요한가', 5)"
      ],
      "metadata": {
        "id": "aBUCvvtYpI7O"
      },
      "execution_count": null,
      "outputs": []
    },
    {
      "cell_type": "code",
      "source": [
        "지구를지켜라.staticMovie()"
      ],
      "metadata": {
        "colab": {
          "base_uri": "https://localhost:8080/"
        },
        "id": "aG3k5bPz1yAr",
        "outputId": "fded8bed-eca0-4bc7-c3e2-35b0ccd1670e"
      },
      "execution_count": null,
      "outputs": [
        {
          "output_type": "stream",
          "name": "stdout",
          "text": [
            "Movie\n"
          ]
        }
      ]
    },
    {
      "cell_type": "code",
      "source": [
        "지구를지켜라.update"
      ],
      "metadata": {
        "colab": {
          "base_uri": "https://localhost:8080/"
        },
        "id": "lkdbW3_21_e1",
        "outputId": "714e24d4-cbc9-42f2-9efa-d4d1d5751a3a"
      },
      "execution_count": null,
      "outputs": [
        {
          "output_type": "stream",
          "name": "stdout",
          "text": [
            "변경하실 항목을 입력하세요(actor/review/score): name\n",
            "영화 이름은 수정할 수 없습니다.\n"
          ]
        }
      ]
    },
    {
      "cell_type": "markdown",
      "source": [
        "7. 다시 5번 문항의 코드를 활용하여 update 메소드로 가장 마지막 영화의 영화제목 뒤에 2를 넣어 수정 후 확인해주세요.\n"
      ],
      "metadata": {
        "id": "YEZ0K0sPpK-f"
      }
    },
    {
      "cell_type": "code",
      "source": [],
      "metadata": {
        "id": "EUOOlHvvpUsT"
      },
      "execution_count": null,
      "outputs": []
    },
    {
      "cell_type": "code",
      "source": [],
      "metadata": {
        "id": "BbYUOfEnpVFA"
      },
      "execution_count": null,
      "outputs": []
    },
    {
      "cell_type": "markdown",
      "source": [
        "8. Movie 클래스를 상속받은 KoreanMovie 클래스를 정의하고\n",
        "클래스변수로 class_name = '한국영화'를, 생성시 입력되어야 하는 값으로 director(감독)을 추가해주세요.\n",
        "\n",
        "새 인스턴스를 만들 때에는 아래와 같은 값이 입력되며 속성들을 확인할 수 있어야 합니다.\n",
        "\n",
        "\n",
        "~~~\n",
        "jigu = KoreanMovie('지구를지켜라', '신하균', '장준환', '5', '내리 7번 본 어릴적 최고의 영화')\n",
        "~~~"
      ],
      "metadata": {
        "id": "RKXxy5Rs1k26"
      }
    },
    {
      "cell_type": "code",
      "source": [
        "class Movie:\n",
        "    class_name = 'Movie'  # 클래스변수\n",
        "    total_num = 1 # 몇개의 인스턴스가 지금까지 찍혀나갔는지 누적 저장하는 변수\n",
        "    movie_list = [] # 클래스변수 - 인스턴스 전체가 공유하는 변수\n",
        "\n",
        "    # 인스턴스가 생성될 때 한번 실행되는 함수\n",
        "    def __init__(self, name, actor, director,review,score=0):\n",
        "        self.name = name\n",
        "        self.actor = actor\n",
        "        self.review = review\n",
        "        self.score = score\n",
        "        self.movie_num = Movie.total_num # 인스턴스 자체의 일련변호\n",
        "        Movie.total_num += 1\n",
        "        Movie.movie_list.append(self)\n",
        "\n",
        "    @property # getter\n",
        "    def update(self):\n",
        "        return self.name\n",
        "\n",
        "\n",
        "\n",
        "    def all(self):\n",
        "        print(f'일련번호: {self.movie_num}\\n제목: {self.name}\\n배우: {self.actor}\\n리뷰: {self.review}\\n별점: {self.score}')\n",
        "\n",
        "    @staticmethod\n",
        "    def staticMovie():\n",
        "        return Movie.class_name\n",
        "\n",
        "\n",
        "    # @ : 데코레이터 - 함수의 앞에 달아줍니다 - 해당 데코레이터가 의미하는 바가 실행되고 나서\n",
        "    # 함수가 실행됩니다\n",
        "    @classmethod  # 해당 클래스에 맞게 메서드가 어디서나 동일하게 동작하도록 만들어주는 데코레이터\n",
        "    def method2(cls):\n",
        "        print('클래스메소드: 해당 클래스를 통해 만들어진 총 리뷰 수', cls.total_num-1)"
      ],
      "metadata": {
        "id": "Fi6cGL23LVBk"
      },
      "execution_count": null,
      "outputs": []
    },
    {
      "cell_type": "code",
      "source": [
        "class KoreanMovie(Movie):\n",
        "    class_name = '한국영화'\n",
        "\n",
        "    def __init__(self,name,actor,director,score,review):\n",
        "        super().__init__(name,actor,director,review,score)\n",
        "        self.__director = director"
      ],
      "metadata": {
        "id": "DMWuADVHLX1B"
      },
      "execution_count": null,
      "outputs": []
    },
    {
      "cell_type": "code",
      "source": [
        "jigu = KoreanMovie('지구를지켜라', '신하균', '장준환','5','내리 7번 본 어릴적 최고의 영화')"
      ],
      "metadata": {
        "id": "ouUa28GSLXx7"
      },
      "execution_count": null,
      "outputs": []
    },
    {
      "cell_type": "code",
      "source": [
        "jigu.all()"
      ],
      "metadata": {
        "colab": {
          "base_uri": "https://localhost:8080/"
        },
        "id": "sfyvb9-HLXtE",
        "outputId": "05366f26-e09d-4311-d9ce-9e1ed033a012"
      },
      "execution_count": null,
      "outputs": [
        {
          "output_type": "stream",
          "name": "stdout",
          "text": [
            "일련번호: 1\n",
            "제목: 지구를지켜라\n",
            "배우: 신하균\n",
            "리뷰: 내리 7번 본 어릴적 최고의 영화\n",
            "별점: 5\n"
          ]
        }
      ]
    },
    {
      "cell_type": "code",
      "source": [
        "KoreanMovie.class_name"
      ],
      "metadata": {
        "colab": {
          "base_uri": "https://localhost:8080/",
          "height": 35
        },
        "id": "bwn8LEdvLXqc",
        "outputId": "fa81a559-590e-4889-f062-a3380e446c56"
      },
      "execution_count": null,
      "outputs": [
        {
          "output_type": "execute_result",
          "data": {
            "text/plain": [
              "'한국영화'"
            ],
            "application/vnd.google.colaboratory.intrinsic+json": {
              "type": "string"
            }
          },
          "metadata": {},
          "execution_count": 321
        }
      ]
    },
    {
      "cell_type": "code",
      "source": [
        "Movie.class_name"
      ],
      "metadata": {
        "colab": {
          "base_uri": "https://localhost:8080/",
          "height": 35
        },
        "id": "rWREr4q0NWk_",
        "outputId": "b9523207-2796-4abd-fbd7-3d7ef346c07c"
      },
      "execution_count": null,
      "outputs": [
        {
          "output_type": "execute_result",
          "data": {
            "text/plain": [
              "'Movie'"
            ],
            "application/vnd.google.colaboratory.intrinsic+json": {
              "type": "string"
            }
          },
          "metadata": {},
          "execution_count": 322
        }
      ]
    },
    {
      "cell_type": "code",
      "source": [
        "jigu.staticMovie()"
      ],
      "metadata": {
        "colab": {
          "base_uri": "https://localhost:8080/",
          "height": 35
        },
        "id": "_9hBvSguLXmF",
        "outputId": "e7da21f4-80a7-457c-f256-04169f445b42"
      },
      "execution_count": null,
      "outputs": [
        {
          "output_type": "execute_result",
          "data": {
            "text/plain": [
              "'Movie'"
            ],
            "application/vnd.google.colaboratory.intrinsic+json": {
              "type": "string"
            }
          },
          "metadata": {},
          "execution_count": 323
        }
      ]
    },
    {
      "cell_type": "code",
      "source": [
        "jigu.method2()"
      ],
      "metadata": {
        "colab": {
          "base_uri": "https://localhost:8080/"
        },
        "id": "c4nvPRMROE_D",
        "outputId": "0376073e-f887-45e3-8fed-7f794d50c669"
      },
      "execution_count": null,
      "outputs": [
        {
          "output_type": "stream",
          "name": "stdout",
          "text": [
            "클래스메소드: 해당 클래스를 통해 만들어진 총 리뷰 수 2\n"
          ]
        }
      ]
    },
    {
      "cell_type": "code",
      "source": [
        "class KoreanMovie(Movie):\n",
        "    class_name = '한국영화' # 변수의 오버라이딩\n",
        "    movie_list = [] # 변수의 오버라이딩\n",
        "    total_num = 1\n",
        "    def __init__(self, name, actor, director, score, review): # 함수의 오버라이딩\n",
        "        super().__init__(name, actor, review,  score) # 나머지는 부모클래스에서 물려받겠다\n",
        "        self.director = director\n",
        "        KoreanMovie.total_num += 1\n",
        "        KoreanMovie.movie_list.append(self)\n",
        "\n",
        "# Movie class에서 만들어졌던 인스턴스 주소들만 Movie의 movie_list에 저장되고\n",
        "# KoreanMovie class 에서 만들어졌던 인스턴스 주소들만 KoreanMovie의 movie_list에 저장이 되어야 할 겁니다\n",
        "# __init__함수와 class변수를 '오버라이딩'해주세요\n",
        "# 그리고 다시 method2() 를 통해 각 클래스를 통해 만들어진 인스턴스 개수를 확인해보세요"
      ],
      "metadata": {
        "id": "dFyZnhEDPij1"
      },
      "execution_count": null,
      "outputs": []
    },
    {
      "cell_type": "code",
      "source": [
        "지구를지켜라 = Movie('지구를지켜라', '신하균', '7번 봤다 더 말이 필요한가', 5)\n",
        "헤드윅 = Movie('헤드윅', '존 카메론 미첼', '위키드 리틀 타운', 4)\n",
        "패터슨 = Movie('패터슨', '아담 드라이버', '아하!', 4.5)\n",
        "\n",
        "jigu = KoreanMovie('지구를지켜라', '신하균', '장준환', '5', '내리 7번 본 어릴적 최고의 영화')"
      ],
      "metadata": {
        "id": "LyuZeKDjRYfn"
      },
      "execution_count": null,
      "outputs": []
    },
    {
      "cell_type": "code",
      "source": [
        "Movie.movie_list"
      ],
      "metadata": {
        "colab": {
          "base_uri": "https://localhost:8080/"
        },
        "id": "vbKccl4_RZ4H",
        "outputId": "5a0c75e0-4415-4007-f0d7-8eee332820ea"
      },
      "execution_count": null,
      "outputs": [
        {
          "output_type": "execute_result",
          "data": {
            "text/plain": [
              "[<__main__.Movie at 0x7f57e85948b0>,\n",
              " <__main__.Movie at 0x7f57e85967d0>,\n",
              " <__main__.Movie at 0x7f57e8595ea0>,\n",
              " <__main__.KoreanMovie at 0x7f57e8596e90>]"
            ]
          },
          "metadata": {},
          "execution_count": 348
        }
      ]
    },
    {
      "cell_type": "code",
      "source": [
        "KoreanMovie.movie_list"
      ],
      "metadata": {
        "colab": {
          "base_uri": "https://localhost:8080/"
        },
        "id": "Orve0RqDRc2w",
        "outputId": "18ff7043-e892-404e-f34e-355c93b1ad24"
      },
      "execution_count": null,
      "outputs": [
        {
          "output_type": "execute_result",
          "data": {
            "text/plain": [
              "[<__main__.KoreanMovie at 0x7f57e8596e90>]"
            ]
          },
          "metadata": {},
          "execution_count": 349
        }
      ]
    },
    {
      "cell_type": "code",
      "source": [
        "지구를지켜라.method2()"
      ],
      "metadata": {
        "colab": {
          "base_uri": "https://localhost:8080/"
        },
        "id": "D3tbNskFR6aA",
        "outputId": "5828eba1-58ee-420c-fcc5-33865639d4f7"
      },
      "execution_count": null,
      "outputs": [
        {
          "output_type": "stream",
          "name": "stdout",
          "text": [
            "클래스메소드: 해당 클래스를 통해 만들어진 총 리뷰 수 4\n"
          ]
        }
      ]
    },
    {
      "cell_type": "code",
      "source": [
        "jigu.method2()"
      ],
      "metadata": {
        "colab": {
          "base_uri": "https://localhost:8080/"
        },
        "id": "8myHaCIHSFba",
        "outputId": "dbe153c0-0ee1-4f71-db72-eed6c4539390"
      },
      "execution_count": null,
      "outputs": [
        {
          "output_type": "stream",
          "name": "stdout",
          "text": [
            "클래스메소드: 해당 클래스를 통해 만들어진 총 리뷰 수 1\n"
          ]
        }
      ]
    },
    {
      "cell_type": "code",
      "source": [
        "class KoreanHorrorMovie(KoreanMovie):\n",
        "    movie_list = [] # 저는 호러무비 관려된 한국 영화들만 따로 관리하고 싶었는데\n",
        "                    # 어쩌다 보니 부모 클래스의 변수명이랑 겹쳐버림"
      ],
      "metadata": {
        "id": "I4JAs3hNVR1g"
      },
      "execution_count": null,
      "outputs": []
    },
    {
      "cell_type": "markdown",
      "metadata": {
        "id": "KiH6A5PwaFmB"
      },
      "source": [
        "### 맹글링(Mangling)\n",
        "- 속성(변수)의 이름을 변경하는 기능\n",
        "- 충돌을 방지하고자 나온 기능\n",
        "  - 상속할 때, 여러 클래스에서 정의된 속성 이름들이 같은 이름을 사용하는 경우\n",
        "  - 맹글링을 이용한 충돌을 방지할 수 있는 거죠\n",
        "- 속성 이름앞에 `__`를 붙여주면 됩니다.\n",
        "  - 속성 이름이 자동으로 바뀝니다.\n",
        "  - `_클래스이름__속성이름`의 형태로 바뀝니다."
      ]
    },
    {
      "cell_type": "code",
      "metadata": {
        "id": "XZUUOmJTbPap"
      },
      "source": [
        "class A:\n",
        "    def __init__(self, a):\n",
        "        self.__a = a # _a\n",
        "        # 맹글링이 된다고 해도 완전히 변수명을 숨길 수는 없기 때문에\n",
        "        # __를 쓰거나 _를 쓰거나 어쨌건 (안보이는걸로 해줘)라고 개발자끼리 약속합니다\n",
        "        # getter, setter로 이 _변수명(안 보기로 약속한 변수명) 대신\n",
        "        # 외부 노출용 함수(근데 변수처럼 보이는)를 사용하는 방식으로\n",
        "        # 은닉성을 구현합니다"
      ],
      "execution_count": null,
      "outputs": []
    },
    {
      "cell_type": "code",
      "source": [
        "a = A(123)"
      ],
      "metadata": {
        "id": "08PaDU3CbPaq"
      },
      "execution_count": null,
      "outputs": []
    },
    {
      "cell_type": "code",
      "source": [
        "dir(a)"
      ],
      "metadata": {
        "colab": {
          "base_uri": "https://localhost:8080/"
        },
        "outputId": "dc153c54-804e-4175-c8d9-c135d5dd9065",
        "id": "xZoBPAXsbPaq"
      },
      "execution_count": null,
      "outputs": [
        {
          "output_type": "execute_result",
          "data": {
            "text/plain": [
              "['_A__a',\n",
              " '__class__',\n",
              " '__delattr__',\n",
              " '__dict__',\n",
              " '__dir__',\n",
              " '__doc__',\n",
              " '__eq__',\n",
              " '__format__',\n",
              " '__ge__',\n",
              " '__getattribute__',\n",
              " '__gt__',\n",
              " '__hash__',\n",
              " '__init__',\n",
              " '__init_subclass__',\n",
              " '__le__',\n",
              " '__lt__',\n",
              " '__module__',\n",
              " '__ne__',\n",
              " '__new__',\n",
              " '__reduce__',\n",
              " '__reduce_ex__',\n",
              " '__repr__',\n",
              " '__setattr__',\n",
              " '__sizeof__',\n",
              " '__str__',\n",
              " '__subclasshook__',\n",
              " '__weakref__']"
            ]
          },
          "metadata": {},
          "execution_count": 259
        }
      ]
    },
    {
      "cell_type": "markdown",
      "source": [
        "# 상속 (inherit)\n",
        "- 클래스의 재사용성을 확대한 개념\n",
        "    - 잘 정의된 클래스가 있으면 다시 물려받아서 그대로 재사용\n",
        "\n",
        "- 클래스들의 관계\n",
        " - is-a 관계 (상속)\n",
        " - has-a 관계 (다른 클래스의 객체를 속성으로 갖는 경우)\n",
        "\n",
        "\n",
        "- 상속을 이용하면 클래스가 점점 확장\n",
        "    - 모든 학생은 사람 o\n",
        "    - 모든 사람은 학생 x\n",
        "    - is-a (Student **is a** Person)\n",
        "        - 학생은 사람이니까 사람이 갖는 속성이나 기능을 동일하게 사용할 수 있죠\n",
        "        - 학생 클래스를 만들 때 새로 정의하지 말고 사람 클래스를 물려받아서(상속받아서) 그대로 사용하고 나머지 추가 학생의 속성, 기능만 구현해주면 편합니다.\n",
        "\n",
        "\n"
      ],
      "metadata": {
        "id": "Xcxru7UhBYKx"
      }
    },
    {
      "cell_type": "code",
      "source": [
        "class A:\n",
        "  def __init__(self):\n",
        "    print('A Class')\n",
        "\n",
        "class B(A):\n",
        "  def __init__(self):\n",
        "    print('B Class')\n",
        "    self.__attr = 'B'\n",
        "    super().__init__()\n",
        "\n",
        "class C(A):\n",
        "  def __init__(self):\n",
        "    print('C Class')\n",
        "    self.__attr = 'C'\n",
        "    super().__init__()\n",
        "\n",
        "# 다중상속 - 여러개 클래스의 기능, 속성을 한번에 상속받는 것을 의미합니다\n",
        "class D(C, B):\n",
        "  def __init__(self):\n",
        "    print('D Class')\n",
        "    super().__init__()"
      ],
      "metadata": {
        "id": "dz2mOi7cBr3r"
      },
      "execution_count": null,
      "outputs": []
    },
    {
      "cell_type": "code",
      "source": [
        "d = D()"
      ],
      "metadata": {
        "id": "txZ5rxDuDv1W",
        "colab": {
          "base_uri": "https://localhost:8080/"
        },
        "outputId": "06334a9a-63e4-4793-df38-edf0bbb4a229"
      },
      "execution_count": null,
      "outputs": [
        {
          "output_type": "stream",
          "name": "stdout",
          "text": [
            "D Class\n",
            "C Class\n",
            "B Class\n",
            "A Class\n"
          ]
        }
      ]
    },
    {
      "cell_type": "code",
      "source": [
        "dir(d)"
      ],
      "metadata": {
        "id": "na9ggdI8CwF9",
        "colab": {
          "base_uri": "https://localhost:8080/"
        },
        "outputId": "1cabe0c3-076e-4338-9274-ed889ab17444"
      },
      "execution_count": null,
      "outputs": [
        {
          "output_type": "execute_result",
          "data": {
            "text/plain": [
              "['_B__attr',\n",
              " '_C__attr',\n",
              " '__class__',\n",
              " '__delattr__',\n",
              " '__dict__',\n",
              " '__dir__',\n",
              " '__doc__',\n",
              " '__eq__',\n",
              " '__format__',\n",
              " '__ge__',\n",
              " '__getattribute__',\n",
              " '__gt__',\n",
              " '__hash__',\n",
              " '__init__',\n",
              " '__init_subclass__',\n",
              " '__le__',\n",
              " '__lt__',\n",
              " '__module__',\n",
              " '__ne__',\n",
              " '__new__',\n",
              " '__reduce__',\n",
              " '__reduce_ex__',\n",
              " '__repr__',\n",
              " '__setattr__',\n",
              " '__sizeof__',\n",
              " '__str__',\n",
              " '__subclasshook__',\n",
              " '__weakref__']"
            ]
          },
          "metadata": {},
          "execution_count": 354
        }
      ]
    },
    {
      "cell_type": "markdown",
      "source": [
        "Person - 상위클래스(부모클래스, 기반클래스)\n",
        "Student - 하위클래스(자식클래스, 파생클래스)\n",
        "\n",
        "# 다형성 (Polymorphism)\n",
        "    - 오버로딩\n",
        "        - 클래스 내의 하나의 메소드가 여러개의 기능을 처리\n",
        "        - 파이썬은 오버로딩이 안 됩니다\n",
        "        - 연산자 오버로딩이라고 매직 메소드를 이용해서 눈속임\n",
        "\n",
        "    - 오버라이딩\n",
        "        - 메소드를 재정의(덮어쓴다)\n",
        "            - 메소드 뿐 아니라 속성도 오버라이팅\n",
        "        - 부모한테 물려받은 메소드를 그대로 사용하지 않겠다는 의미\n",
        "            - 자식 클래스에서 부모에게 있던 메소드를 고쳐쓰는 법\n",
        "            - 상속이 되어야만 재정의 할 수 있다\n",
        "            - 상속받은 메소드와 동일한 이름이어야 한다"
      ],
      "metadata": {
        "id": "QSUyteqnEdqq"
      }
    },
    {
      "cell_type": "code",
      "source": [],
      "metadata": {
        "id": "9_KVqm8EEJMd"
      },
      "execution_count": null,
      "outputs": []
    },
    {
      "cell_type": "code",
      "source": [],
      "metadata": {
        "id": "IwJd0LOCFdXl"
      },
      "execution_count": null,
      "outputs": []
    },
    {
      "cell_type": "code",
      "source": [],
      "metadata": {
        "id": "wTNgEL36FhgM"
      },
      "execution_count": null,
      "outputs": []
    },
    {
      "cell_type": "code",
      "source": [],
      "metadata": {
        "id": "PtAtpCPEFiuU"
      },
      "execution_count": null,
      "outputs": []
    },
    {
      "cell_type": "markdown",
      "source": [
        "- 재정의 하는데, 부모 클래스의 메소드를 사용하고 싶다?\n",
        "    - 자식클래스에서 직접 호출하도록 재정의해주시면 됩니다."
      ],
      "metadata": {
        "id": "OcmiuEuDFn9n"
      }
    },
    {
      "cell_type": "code",
      "source": [],
      "metadata": {
        "id": "dWSw3V74FkQu"
      },
      "execution_count": null,
      "outputs": []
    },
    {
      "cell_type": "code",
      "source": [],
      "metadata": {
        "id": "YQ1ccNDHF8T6"
      },
      "execution_count": null,
      "outputs": []
    },
    {
      "cell_type": "code",
      "source": [],
      "metadata": {
        "id": "ydJP0Rl2F9vU"
      },
      "execution_count": null,
      "outputs": []
    },
    {
      "cell_type": "code",
      "source": [],
      "metadata": {
        "id": "7fmStqPbF_ik"
      },
      "execution_count": null,
      "outputs": []
    },
    {
      "cell_type": "code",
      "source": [],
      "metadata": {
        "id": "zQb5kCR4Gk1L"
      },
      "execution_count": null,
      "outputs": []
    },
    {
      "cell_type": "code",
      "source": [],
      "metadata": {
        "id": "Jt_amXZPGm0j"
      },
      "execution_count": null,
      "outputs": []
    },
    {
      "cell_type": "markdown",
      "source": [
        "# 생성자 오버라이딩\n",
        "- 생성자도 상속이 됩니다\n",
        "- 자식클래스에서 추가해야 할 속성이 있어요\n",
        "    - 부모 그대로 사용할 수 없죠"
      ],
      "metadata": {
        "id": "jNRvzRHbG4UZ"
      }
    },
    {
      "cell_type": "code",
      "source": [],
      "metadata": {
        "id": "jqyLdV0QGoTt"
      },
      "execution_count": null,
      "outputs": []
    },
    {
      "cell_type": "code",
      "source": [],
      "metadata": {
        "id": "a5iZldQ6HSHX"
      },
      "execution_count": null,
      "outputs": []
    },
    {
      "cell_type": "code",
      "source": [],
      "metadata": {
        "id": "GQIhTbo3HTu3"
      },
      "execution_count": null,
      "outputs": []
    },
    {
      "cell_type": "markdown",
      "source": [
        "class method와 static method의 차이점"
      ],
      "metadata": {
        "id": "9G5FvpjYHfcG"
      }
    },
    {
      "cell_type": "code",
      "source": [],
      "metadata": {
        "id": "z79CkWwRHW6N"
      },
      "execution_count": null,
      "outputs": []
    },
    {
      "cell_type": "code",
      "source": [],
      "metadata": {
        "id": "XirbM3c5H5e9"
      },
      "execution_count": null,
      "outputs": []
    },
    {
      "cell_type": "code",
      "source": [],
      "metadata": {
        "id": "xuhTCatYH8ps"
      },
      "execution_count": null,
      "outputs": []
    },
    {
      "cell_type": "code",
      "source": [],
      "metadata": {
        "id": "5sgPpFq9IEQU"
      },
      "execution_count": null,
      "outputs": []
    },
    {
      "cell_type": "code",
      "source": [],
      "metadata": {
        "id": "7qOkeDzsIHFm"
      },
      "execution_count": null,
      "outputs": []
    },
    {
      "cell_type": "markdown",
      "source": [
        "### 다중상속\n",
        "- 하나의 클래스가 아닌, 하나 이상의 클래스를 상속하는 것이 가능\n",
        "  - 사실 문제가 아주아주 많은 기능\n",
        "  - C++, python, ...\n",
        "  - Java는 다중상속을 지원하지 않습니다.\n",
        "\n",
        "- 반드시, 다중상속을 해야만 하는 경우는 없다\n",
        "  - 피하려면, 피할 수 있다는 얘기 입니다.\n",
        "  - 만약에, 다중상속이 아니면 안되겠는데? 라는 상황이 발생한다면, 설계가 잘못된 경우\n",
        "\n"
      ],
      "metadata": {
        "id": "0Fy2wKfAITH4"
      }
    },
    {
      "cell_type": "code",
      "source": [],
      "metadata": {
        "id": "Iz4lzKVPIJOD"
      },
      "execution_count": null,
      "outputs": []
    },
    {
      "cell_type": "code",
      "source": [],
      "metadata": {
        "id": "FZhTn1JTIklN"
      },
      "execution_count": null,
      "outputs": []
    },
    {
      "cell_type": "code",
      "source": [],
      "metadata": {
        "id": "H6tKRjzDIs_P"
      },
      "execution_count": null,
      "outputs": []
    },
    {
      "cell_type": "code",
      "source": [],
      "metadata": {
        "id": "6IiirNX3Iz5w"
      },
      "execution_count": null,
      "outputs": []
    },
    {
      "cell_type": "code",
      "source": [],
      "metadata": {
        "id": "qzhZD7jHI9IN"
      },
      "execution_count": null,
      "outputs": []
    },
    {
      "cell_type": "markdown",
      "source": [
        "# 다중상속을 어쩔 수 없이 해야할 때는 맹글링을 사용합니다."
      ],
      "metadata": {
        "id": "qj9fMinbJNmP"
      }
    },
    {
      "cell_type": "code",
      "source": [
        "a = 1"
      ],
      "metadata": {
        "id": "EXlRQ0wOJIsd"
      },
      "execution_count": null,
      "outputs": []
    },
    {
      "cell_type": "code",
      "source": [
        "id(a)"
      ],
      "metadata": {
        "id": "Scf6EBxWJRZM",
        "colab": {
          "base_uri": "https://localhost:8080/"
        },
        "outputId": "4bd6a0fd-388d-4ba4-9e6c-fc437cc3dc34"
      },
      "execution_count": null,
      "outputs": [
        {
          "output_type": "execute_result",
          "data": {
            "text/plain": [
              "11256064"
            ]
          },
          "metadata": {},
          "execution_count": 2
        }
      ]
    },
    {
      "cell_type": "code",
      "source": [
        "a = '가나'"
      ],
      "metadata": {
        "id": "shy869iKJTqg"
      },
      "execution_count": null,
      "outputs": []
    },
    {
      "cell_type": "code",
      "source": [
        "id(a)"
      ],
      "metadata": {
        "id": "ZYtZfftzJVyd",
        "colab": {
          "base_uri": "https://localhost:8080/"
        },
        "outputId": "3dcafc15-02d1-4d9d-9648-e839cfa67b75"
      },
      "execution_count": null,
      "outputs": [
        {
          "output_type": "execute_result",
          "data": {
            "text/plain": [
              "140620132922832"
            ]
          },
          "metadata": {},
          "execution_count": 4
        }
      ]
    },
    {
      "cell_type": "code",
      "source": [
        "b = [1,2]"
      ],
      "metadata": {
        "id": "WNR_2itrbGZD"
      },
      "execution_count": null,
      "outputs": []
    },
    {
      "cell_type": "code",
      "source": [
        "id(b[0]), id(b[1])"
      ],
      "metadata": {
        "colab": {
          "base_uri": "https://localhost:8080/"
        },
        "id": "JLsJhLYUbGOC",
        "outputId": "98594fbe-7fbe-48f7-e6a5-b5f4429ce355"
      },
      "execution_count": null,
      "outputs": [
        {
          "output_type": "execute_result",
          "data": {
            "text/plain": [
              "(11256064, 11256096)"
            ]
          },
          "metadata": {},
          "execution_count": 6
        }
      ]
    },
    {
      "cell_type": "code",
      "source": [
        "b[1] = 3"
      ],
      "metadata": {
        "id": "Vnuv42ZVbLzD"
      },
      "execution_count": null,
      "outputs": []
    },
    {
      "cell_type": "code",
      "source": [
        "id(b[0]), id(b[1])"
      ],
      "metadata": {
        "id": "B7bNQUSlbN77",
        "outputId": "ea077a3a-dacd-4149-ac07-efe39ed1b4d9",
        "colab": {
          "base_uri": "https://localhost:8080/"
        }
      },
      "execution_count": null,
      "outputs": [
        {
          "output_type": "execute_result",
          "data": {
            "text/plain": [
              "(11256064, 11256128)"
            ]
          },
          "metadata": {},
          "execution_count": 8
        }
      ]
    },
    {
      "cell_type": "markdown",
      "source": [
        "파이썬의 다중상속\n",
        "  - 파이썬은 우선순위를 둬서 해결\n",
        "  - 모든 문제가 해결되지는 않습니다.\n",
        "  - 가장 큰 문제는 복잡도에 있습니다.\n",
        "    - 클래스들간의 관계가 매우 복잡해지고\n",
        "    - 복잡해지면, 버그가 발생할 확률이 높아지고, 유지보수도 어렵게 됩니다."
      ],
      "metadata": {
        "id": "cWhGbtXaJblI"
      }
    },
    {
      "cell_type": "code",
      "source": [],
      "metadata": {
        "id": "h9J0IQDIJXxN"
      },
      "execution_count": null,
      "outputs": []
    }
  ]
}