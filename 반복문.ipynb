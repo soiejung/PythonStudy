{
  "nbformat": 4,
  "nbformat_minor": 0,
  "metadata": {
    "colab": {
      "provenance": [],
      "include_colab_link": true
    },
    "kernelspec": {
      "name": "python3",
      "display_name": "Python 3"
    },
    "language_info": {
      "name": "python"
    }
  },
  "cells": [
    {
      "cell_type": "markdown",
      "metadata": {
        "id": "view-in-github",
        "colab_type": "text"
      },
      "source": [
        "<a href=\"https://colab.research.google.com/github/soiejung/PythonStudy/blob/main/%EB%B0%98%EB%B3%B5%EB%AC%B8.ipynb\" target=\"_parent\"><img src=\"https://colab.research.google.com/assets/colab-badge.svg\" alt=\"Open In Colab\"/></a>"
      ]
    },
    {
      "cell_type": "markdown",
      "source": [
        "# 0. 복습"
      ],
      "metadata": {
        "id": "iJh9pX--lLNN"
      }
    },
    {
      "cell_type": "markdown",
      "source": [
        "1. if문을 활용하여 사용자로부터 입력 받은 시간이 정각인지를 판별하도록 만들어보세요.\n",
        "```\n",
        ">> 현재시간:02:00\n",
        "정각입니다.\n",
        ">> 현재시간:03:10\n",
        "정각이 아닙니다\n",
        "```"
      ],
      "metadata": {
        "id": "lbRjMFBxRXmd"
      }
    },
    {
      "cell_type": "code",
      "source": [
        "time = input('현재시간:')\n",
        "i = time.index(':')\n",
        "if time[i+1:] == '00':\n",
        "    print('정각입니다')\n",
        "else:\n",
        "    print('정각이 아닙니다.')"
      ],
      "metadata": {
        "id": "H3rm-vH1bmOg",
        "colab": {
          "base_uri": "https://localhost:8080/"
        },
        "outputId": "27384766-a2ef-436a-8e80-f0043b53c5d7"
      },
      "execution_count": null,
      "outputs": [
        {
          "output_type": "stream",
          "name": "stdout",
          "text": [
            "현재시간:03:10\n",
            "정각이 아닙니다.\n"
          ]
        }
      ]
    },
    {
      "cell_type": "markdown",
      "source": [
        "- 분기문\n",
        "\n",
        "2. 아래 출력결과를 예상해보시고 실제로 출력해보세요.\n",
        "```\n",
        "print(3 == 5)\n",
        "print(3 == '3')\n",
        "```"
      ],
      "metadata": {
        "id": "6TXJ0A5zwfO3"
      }
    },
    {
      "cell_type": "code",
      "source": [
        "print(3 == 5)\n",
        "print(3 == '3')"
      ],
      "metadata": {
        "id": "xZCCzBwIuOvG",
        "colab": {
          "base_uri": "https://localhost:8080/"
        },
        "outputId": "5cf99ab8-7141-48af-90b5-6aa4fb307db3"
      },
      "execution_count": null,
      "outputs": [
        {
          "output_type": "stream",
          "name": "stdout",
          "text": [
            "False\n",
            "False\n"
          ]
        }
      ]
    },
    {
      "cell_type": "markdown",
      "source": [
        "3. 아래 출력결과를 예상해보시고 실제로 출력해보세요.\n",
        "```\n",
        "x = 4\n",
        "print(2 < x < 7)\n",
        "```"
      ],
      "metadata": {
        "id": "5UjSifeZ17Km"
      }
    },
    {
      "cell_type": "code",
      "source": [
        "x = 4\n",
        "print(2 < x < 7)"
      ],
      "metadata": {
        "id": "H17NkQqtz_ul",
        "colab": {
          "base_uri": "https://localhost:8080/"
        },
        "outputId": "044b2c98-af33-4384-9354-c5b44dd30808"
      },
      "execution_count": null,
      "outputs": [
        {
          "output_type": "stream",
          "name": "stdout",
          "text": [
            "True\n"
          ]
        }
      ]
    },
    {
      "cell_type": "markdown",
      "source": [
        "4. 아래 출력결과를 예상해보시고 실제로 출력해보세요. 주석으로 왜 이런 결과가 나오는지도 설명을 달아주세요.\n",
        "~~~\n",
        "if 9 < 5:\n",
        "    print(\"Hello World.\")\n",
        "else:\n",
        "    print(\"Good bye World.\")\n",
        "~~~"
      ],
      "metadata": {
        "id": "RMfPVKciMaDV"
      }
    },
    {
      "cell_type": "code",
      "source": [
        "if 9 < 5:\n",
        " print(\"Hello World.\")\n",
        "else:\n",
        " print(\"Good bye World.\")\n",
        "\n",
        " # 9보다 5가 큰 조건문은 False이기 때문에\n",
        " # if 문은 True일때 실행"
      ],
      "metadata": {
        "id": "jtQPgLL7Mmu7",
        "colab": {
          "base_uri": "https://localhost:8080/"
        },
        "outputId": "93468bf6-f9c2-466d-835c-f0a602404c5d"
      },
      "execution_count": null,
      "outputs": [
        {
          "output_type": "stream",
          "name": "stdout",
          "text": [
            "Good bye World.\n"
          ]
        }
      ]
    },
    {
      "cell_type": "markdown",
      "source": [
        "5. input() 메소드를 사용하여 사용자로부터 하나의 숫자를 입력받고, 입력 받은 숫자에 100을 더해 출력하여 주세요."
      ],
      "metadata": {
        "id": "qblujGmu6fQY"
      }
    },
    {
      "cell_type": "code",
      "source": [
        "a = input('하나의 숫자를 입력해주세요: ')\n",
        "print(100+int(a))"
      ],
      "metadata": {
        "id": "CszBabzLD49s",
        "colab": {
          "base_uri": "https://localhost:8080/"
        },
        "outputId": "74fb6dba-ca63-4fdb-c3cb-07d408006711"
      },
      "execution_count": null,
      "outputs": [
        {
          "output_type": "stream",
          "name": "stdout",
          "text": [
            "하나의 숫자를 입력해주세요: 3\n",
            "103\n"
          ]
        }
      ]
    },
    {
      "cell_type": "markdown",
      "source": [
        "6. 아래 코드를 눈으로 확인하시고 어떤 결과가 출력될지 예상해보세요.\n",
        "*각각의 경우 옆에 왜 출력되거나 출력되지 않았는지 주석처리 해주세요*\n",
        "\n",
        "```\n",
        "if []:\n",
        " print(\"1 - []은 True입니다.\")\n",
        "\n",
        "if [4, 5, 6]:\n",
        " print(\"2 - [4, 5, 6]은 True입니다.\")\n",
        "\n",
        "a = [4,5,6]\n",
        "if (0 or 2 or 4) in a:\n",
        " print(\"3 - (0 or 2 or 4) in a는 True입니다.\")\n",
        "\n",
        "if (0 or 2 or 4):\n",
        " print(\"4 - (0 or 2 or 4)는 True입니다.\")\n",
        "\n",
        "if (0 and 2 and 4):\n",
        "  print(\"5 - (0 and 2 and 4)는 True입니다.\")\n",
        "\n",
        "if {}:\n",
        " print(\"6 - {}은 True입니다.\")\n",
        "\n",
        "if {'abc': 1}:\n",
        " print(\"7 - {'abc':1}은 True입니다.\")\n",
        "\n",
        "if 0:\n",
        " print(\"8 - 0은 True입니다.\")\n",
        "\n",
        "if 1:\n",
        " print(\"9 - 1은 True입니다.\")\n",
        " ```\n"
      ],
      "metadata": {
        "id": "FiEyIRzyfYxm"
      }
    },
    {
      "cell_type": "code",
      "source": [
        "if []: # list 안에 존재하지 않아서 False 이기 때문에 실행 하지 않음\n",
        " print(\"1 - []은 True입니다.\")\n",
        "\n",
        "if [4, 5, 6]: # list 안에 존재하기 때문에 True 여서 실행\n",
        " print(\"2 - [4, 5, 6]은 True입니다.\")\n",
        "\n",
        "a = [4,5,6]\n",
        "if (0 or 2 or 4) in a: # a 안에 4가 존재하기 때문에 True\n",
        " print(\"3 - (0 or 2 or 4) in a는 True입니다.\")\n",
        "\n",
        "if (0 or 2 or 4): # 무엇이 0 또는 2 또는 4 인지 정하지 않아서 False\n",
        " print(\"4 - (0 or 2 or 4)는 True입니다.\")\n",
        "\n",
        "if (0 and 2 and 4): # 무엇이 0 그리고 2 그리고 4 인지 정하지 않아서 False\n",
        "  print(\"5 - (0 and 2 and 4)는 True입니다.\")\n",
        "\n",
        "if {}: # dic 안에 아무것도 존재하지 않아서 False\n",
        " print(\"6 - {}은 True입니다.\")\n",
        "\n",
        "if {'abc': 1}: # dic 안에 존재하기 때문에 True\n",
        " print(\"7 - {'abc':1}은 True입니다.\")\n",
        "\n",
        "if 0: # 0은 False\n",
        " print(\"8 - 0은 True입니다.\")\n",
        "\n",
        "if 1: # 1은 True\n",
        " print(\"9 - 1은 True입니다.\")"
      ],
      "metadata": {
        "id": "bKJivjCR957Z",
        "colab": {
          "base_uri": "https://localhost:8080/"
        },
        "outputId": "85ff0843-ea95-49cb-d481-c602ce0d7146"
      },
      "execution_count": null,
      "outputs": [
        {
          "output_type": "stream",
          "name": "stdout",
          "text": [
            "2 - [4, 5, 6]은 True입니다.\n",
            "4 - (0 or 2 or 4)는 True입니다.\n",
            "7 - {'abc':1}은 True입니다.\n",
            "9 - 1은 True입니다.\n"
          ]
        }
      ]
    },
    {
      "cell_type": "markdown",
      "source": [
        "7. user_id = abcd\n",
        "user_pw = 1234\n",
        "인 경우에\n",
        "\n",
        "id와 pw를 입력받아서\n",
        "둘다 일치하면 '로그인 되셨습니다'\n",
        "일치하지 않으면 '로그인을 다시 시도하세요.\"\n",
        "\n",
        "를 출력하는 조건문을 만들어주세요."
      ],
      "metadata": {
        "id": "USNPfri2emmH"
      }
    },
    {
      "cell_type": "code",
      "source": [
        "user_id = 'abcd'\n",
        "user_pw = '1234'\n",
        "id = input('아이디를 입력해주세요: ')\n",
        "pw = input('패스워드를 입력해주세요: ')\n",
        "\n",
        "if id == user_id and pw == user_pw:\n",
        "    print('로그인 되셨습니다.')\n",
        "else:\n",
        "    print('로그인을 다시 시도하세요.')"
      ],
      "metadata": {
        "id": "LQnNEawMtUTD",
        "colab": {
          "base_uri": "https://localhost:8080/"
        },
        "outputId": "43a0e4c4-16d8-42ea-a7aa-f3b977b4a47e"
      },
      "execution_count": null,
      "outputs": [
        {
          "output_type": "stream",
          "name": "stdout",
          "text": [
            "아이디를 입력해주세요: abcd\n",
            "패스워드를 입력해주세요: 1234\n",
            "로그인 되셨습니다.\n"
          ]
        }
      ]
    },
    {
      "cell_type": "markdown",
      "source": [
        "위 조건문을 아래 3가지 경우로 변경하려면 어떻게 수정해야 할지 고민해보세요.\n",
        "- 1) id가 맞는지 먼저 확인하고, 맞는 경우 '비밀번호를 입력하세요'라는 입력창이 뜹니다. 비밀번호가 맞으면 '로그인 되셨습니다', 비밀번호가 틀리면 '비밀번호가 틀립니다'라는 문장이 출력됩니다.\n",
        "\n",
        "- 2) id와 비밀번호를 같이 입력받고, 둘다 맞으면 '로그인 되셨습니다'라는 문장을, 둘 중 하나가 틀리면 둘중에 뭐가 틀렸는지를 알려줍니다.\n"
      ],
      "metadata": {
        "id": "2vowfVzM-Dty"
      }
    },
    {
      "cell_type": "code",
      "source": [
        "user_id = 'abcd'\n",
        "user_pw = '1234'\n",
        "id = input('아이디를 입력해주세요: ')\n",
        "\n",
        "\n",
        "if id == user_id:\n",
        "    pw = input('비밀번호를 입력하세요: ')\n",
        "    if pw == user_pw:\n",
        "        print('로그인 되셨습니다.')\n",
        "    else:\n",
        "        print('비밀번호가 틀립니다.')\n",
        "\n",
        "else:\n",
        "    print('아이디가 틀립니다.')\n"
      ],
      "metadata": {
        "id": "I3KCQzFB-fHD",
        "colab": {
          "base_uri": "https://localhost:8080/"
        },
        "outputId": "f4664894-fb75-4306-bd15-7ff3d68a76ad"
      },
      "execution_count": null,
      "outputs": [
        {
          "output_type": "stream",
          "name": "stdout",
          "text": [
            "아이디를 입력해주세요: abcd\n",
            "비밀번호를 입력하세요: 1234\n",
            "로그인 되셨습니다.\n"
          ]
        }
      ]
    },
    {
      "cell_type": "code",
      "source": [
        "user_id = 'abcd'\n",
        "user_pw = '1234'\n",
        "id = input('아이디를 입력해주세요: ')\n",
        "\n",
        "\n",
        "if id == user_id:\n",
        "    pw = input('비밀번호를 입력하세요: ')\n",
        "    if pw == user_pw:\n",
        "        print('로그인 되셨습니다.')\n",
        "    else:\n",
        "        print('비밀번호가 틀립니다.')\n",
        "\n",
        "else:\n",
        "    print('아이디가 틀립니다.')\n"
      ],
      "metadata": {
        "id": "K7snABa0WxCr"
      },
      "execution_count": null,
      "outputs": []
    },
    {
      "cell_type": "code",
      "source": [
        "user = {}\n",
        "\n",
        "if not user:\n",
        "    check = input('새로 가입하시겠습니까?(Y/N)')\n",
        "    if check == 'Y':\n",
        "        user['user_id'] = input('아이디를 입력해주세요: ')\n",
        "        user['user_pw'] = input('비밀번호를 입력하세요: ')\n",
        "\n",
        "\n",
        "\n",
        "log = input('로그인 하시겠습니까?(Y/N)')\n",
        "if log == 'Y':\n",
        "    id = input('아이디를 입력해주세요: ')\n",
        "    if id == user['user_id']:\n",
        "        pw = input('비밀번호를 입력하세요: ')\n",
        "        if pw == user['user_pw']:\n",
        "            print('로그인 되셨습니다.')\n",
        "        else:\n",
        "            print('비밀번호가 틀립니다.')\n",
        "    else:\n",
        "        print('아이디가 틀립니다.')\n",
        "\n"
      ],
      "metadata": {
        "colab": {
          "base_uri": "https://localhost:8080/"
        },
        "id": "FydnxSthXhIm",
        "outputId": "07a4f431-4fc5-4d66-94c7-7b30c402a9ca"
      },
      "execution_count": null,
      "outputs": [
        {
          "output_type": "stream",
          "name": "stdout",
          "text": [
            "새로 가입하시겠습니까?(Y/N)Y\n",
            "아이디를 입력해주세요: 1\n",
            "비밀번호를 입력하세요: 1\n",
            "로그인 하시겠습니까?(Y/N)Y\n",
            "아이디를 입력해주세요: 1\n",
            "비밀번호를 입력하세요: 1\n",
            "로그인 되셨습니다.\n"
          ]
        }
      ]
    },
    {
      "cell_type": "markdown",
      "source": [
        "- 다 작성하신 분은 구글드라이브의 PPT 파일의 어제 작성한 기아차 네비 순서도 옆에 코드를 작성해주시고, 다른 분의 코드도 리뷰해주세요!!\n"
      ],
      "metadata": {
        "id": "yXVaBobuynZc"
      }
    },
    {
      "cell_type": "markdown",
      "source": [
        "# 1. 수업\n",
        "# 반복문\n",
        "\n",
        "- 반복을 하는 거죠\n",
        "- 파이썬에서는 반복을 위한 2가지 형태의 방법이 있습니다\n",
        "    - while\n",
        "    - for\n",
        "\n",
        "## while\n",
        "\n",
        "    - 기본형태가 if와 유사합니다.\n",
        "    - if가 명제를 한번만 검사하고 분기를 한다면\n",
        "    - while은 명제를 여러번 검사 (틀릴 때 까지)\n",
        "    - 그래서 while을 반복문이라고 부릅니다.\n",
        "\n",
        "```\n",
        "while 명제:\n",
        "    while 블록\n",
        "```"
      ],
      "metadata": {
        "id": "UQKBNXcft24-"
      }
    },
    {
      "cell_type": "code",
      "source": [
        "# n이 1에서 시작해서 10이 될 때까지 정수를 출력하는 반복문을 하나 만들겠습니다.\n",
        "# 조건이 True 일때만 반복문이 수행된다\n",
        "n = 1\n",
        "while n <=10:\n",
        "    if i % 2 != 0:\n",
        "        print(n)\n",
        "    n+=1"
      ],
      "metadata": {
        "id": "ZgqhCBqfuWLT"
      },
      "execution_count": null,
      "outputs": []
    },
    {
      "cell_type": "code",
      "source": [
        "while False:\n",
        "    print('hello')"
      ],
      "metadata": {
        "id": "IYyRczOQu50B"
      },
      "execution_count": null,
      "outputs": []
    },
    {
      "cell_type": "code",
      "source": [
        "# 1,3,5,7,9를 출력하는 while문을 만들어주세요\n",
        "i = 1\n",
        "while i < 10:\n",
        "    if i%2 != 0:\n",
        "        print(i)\n",
        "    i+=1"
      ],
      "metadata": {
        "id": "jAohBWJ-wFDS",
        "colab": {
          "base_uri": "https://localhost:8080/"
        },
        "outputId": "ae7201b4-ede2-4a2a-d659-84f1772a7e3a"
      },
      "execution_count": null,
      "outputs": [
        {
          "output_type": "stream",
          "name": "stdout",
          "text": [
            "1\n",
            "3\n",
            "5\n",
            "7\n",
            "9\n"
          ]
        }
      ]
    },
    {
      "cell_type": "code",
      "source": [
        "# 10, 8, 6, 4, 2\n",
        "i = 10\n",
        "while i > 0:\n",
        "    if i%2 == 0:\n",
        "        print(i)\n",
        "    i-=1"
      ],
      "metadata": {
        "id": "Nufu5y_DX0eZ",
        "colab": {
          "base_uri": "https://localhost:8080/"
        },
        "outputId": "3c225b1c-5a4b-4c6e-f96f-45318a8d4ebd"
      },
      "execution_count": null,
      "outputs": [
        {
          "output_type": "stream",
          "name": "stdout",
          "text": [
            "10\n",
            "8\n",
            "6\n",
            "4\n",
            "2\n"
          ]
        }
      ]
    },
    {
      "cell_type": "markdown",
      "source": [
        "## 실습. input으로 숫자를 입력받고 1부터 그 숫자만큼 하나씩 번호를 더하면서 출력하는 while문을 만들어주세요."
      ],
      "metadata": {
        "id": "BooDz2QXyk6f"
      }
    },
    {
      "cell_type": "code",
      "source": [
        "i = input('숫자를 입력해주세요: ')\n",
        "n = 1\n",
        "while n <= int(i):\n",
        "    print(n)\n",
        "    n+=1"
      ],
      "metadata": {
        "id": "WrqjGWraHmB0",
        "colab": {
          "base_uri": "https://localhost:8080/"
        },
        "outputId": "151f22f5-5e9c-41c9-89e2-1ee24631fe11"
      },
      "execution_count": null,
      "outputs": [
        {
          "output_type": "stream",
          "name": "stdout",
          "text": [
            "숫자를 입력해주세요: 4\n",
            "1\n",
            "2\n",
            "3\n",
            "4\n"
          ]
        }
      ]
    },
    {
      "cell_type": "code",
      "source": [],
      "metadata": {
        "id": "qNUiqBfzH002"
      },
      "execution_count": null,
      "outputs": []
    },
    {
      "cell_type": "markdown",
      "source": [
        "### x를 입력하기 전까지는 계속 무언가를 타이핑해야만 하는 프로그램"
      ],
      "metadata": {
        "id": "k37VW7ndbl3O"
      }
    },
    {
      "cell_type": "markdown",
      "source": [
        "```\n",
        "무언가 입력중입니다\n",
        "종료하려면 x를 입력하세요 : ㄴ\n",
        "무언가 입력중입니다\n",
        "종료하려면 x를 입력하세요 : x\n",
        "무한 반복이 종료되었습니다\n",
        "```"
      ],
      "metadata": {
        "id": "KrisiM8Mbhrv"
      }
    },
    {
      "cell_type": "markdown",
      "source": [
        "```\n",
        "c:\\> 1\n",
        "1\n",
        "c:\\> 2\n",
        "2\n",
        "c:\\> 4\n",
        "4\n",
        "c:\\> x\n",
        "x\n",
        "프로그램이 종료되었습니다\n",
        "```"
      ],
      "metadata": {
        "id": "ePci00pFlxHD"
      }
    },
    {
      "cell_type": "code",
      "source": [
        "flag = True\n",
        "# flag 라는 변수명을 가진 변수들은 True or False 값을 담고 있다.\n",
        "# 이 값을 변경해서 특정 조건이 성립하는지를 체크해주는 변수\n",
        "# 반복문, 조건문 등 제어문이 길어지거나 복잡해질 때, 중간에서 끊어서 사용하기 위해서도 많이 사용한다.\n",
        "while flag:\n",
        "    a = input('c:\\> ')\n",
        "    print(a)\n",
        "    if a == 'x':\n",
        "        print('프로그램이 종료되었습니다')\n",
        "        flag = False"
      ],
      "metadata": {
        "id": "m3MJ2VOamTSp",
        "colab": {
          "base_uri": "https://localhost:8080/"
        },
        "outputId": "4fa0ed8a-386f-462b-8296-c65e979663ed"
      },
      "execution_count": null,
      "outputs": [
        {
          "output_type": "stream",
          "name": "stdout",
          "text": [
            "c:\\> 1\n",
            "1\n",
            "c:\\> 2\n",
            "2\n",
            "c:\\> x\n",
            "x\n",
            "프로그램이 종료되었습니다\n"
          ]
        }
      ]
    },
    {
      "cell_type": "markdown",
      "source": [
        "22## 1~10 사이에 짝수만 출력하는 while문을 만들어볼게요."
      ],
      "metadata": {
        "id": "8skQdxM0LL4R"
      }
    },
    {
      "cell_type": "code",
      "source": [
        "i = 1\n",
        "while i <= 10:\n",
        "    if i%2 == 0:\n",
        "        print(i)\n",
        "    i+=1"
      ],
      "metadata": {
        "id": "UPorKoSbLGaJ",
        "colab": {
          "base_uri": "https://localhost:8080/"
        },
        "outputId": "479cb04b-e285-4284-db5c-39dd5f884da0"
      },
      "execution_count": null,
      "outputs": [
        {
          "output_type": "stream",
          "name": "stdout",
          "text": [
            "2\n",
            "4\n",
            "6\n",
            "8\n",
            "10\n"
          ]
        }
      ]
    },
    {
      "cell_type": "markdown",
      "source": [
        "## 1~20 사이에 3의 배수만 더하는 while문을 만들어주세요."
      ],
      "metadata": {
        "id": "QW9amaqvMO_9"
      }
    },
    {
      "cell_type": "code",
      "source": [
        "# 방법 1 - 거짓이 될 수도 있는 명제 안에 3의 배수일 때만 더하는 if문 사용\n",
        "# 방법 2 - 거짓이 될 수도 있는 명제 안에 3의 배수가 아닐 때만 if문 사용\n",
        "# 방법 3 - 거짓이 될 수도 있는 명제 안에 * 3 사용\n",
        "# 방법 4 - 무한루프 안에 거짓이 될 수도 있는 명제 사용"
      ],
      "metadata": {
        "id": "1RYfkfG4Q3tN"
      },
      "execution_count": null,
      "outputs": []
    },
    {
      "cell_type": "code",
      "source": [
        "# 방법 1 - 거짓이 될 수도 있는 명제 안에 3의 배수일 때만 더하는 if문 사용\n",
        "i = 1\n",
        "sum = 0\n",
        "while i <= 20:\n",
        "    if i % 3 == 0:\n",
        "        sum += i\n",
        "    i+=1\n",
        "print(sum)"
      ],
      "metadata": {
        "id": "_ArORRIqUwY3",
        "colab": {
          "base_uri": "https://localhost:8080/"
        },
        "outputId": "10e78ee8-63d7-4367-c600-93b8235539de"
      },
      "execution_count": null,
      "outputs": [
        {
          "output_type": "stream",
          "name": "stdout",
          "text": [
            "63\n"
          ]
        }
      ]
    },
    {
      "cell_type": "code",
      "source": [
        "# 방법 2 - 거짓이 될 수도 있는 명제 안에 3의 배수가 아닐 때만 if문 사용\n",
        "i = 1\n",
        "sum = 0\n",
        "while i <= 20:\n",
        "    if i % 3 != 0:\n",
        "        i+=1\n",
        "        continue\n",
        "    else:\n",
        "        sum += i\n",
        "        i+=1\n",
        "\n",
        "print(sum)"
      ],
      "metadata": {
        "id": "olTkfA1yVJ15",
        "colab": {
          "base_uri": "https://localhost:8080/"
        },
        "outputId": "345950f2-0c85-44ca-bd89-968d4135a5ff"
      },
      "execution_count": null,
      "outputs": [
        {
          "output_type": "stream",
          "name": "stdout",
          "text": [
            "63\n"
          ]
        }
      ]
    },
    {
      "cell_type": "code",
      "source": [
        "# 방법 3 - 거짓이 될 수도 있는 명제 안에 * 3 사용\n",
        "i = 1\n",
        "sum = 0\n",
        "while 3 * i <= 20:\n",
        "\n",
        "    sum += (3*i)\n",
        "    i+=1\n",
        "\n",
        "print(sum)"
      ],
      "metadata": {
        "id": "q3fug0QDVw_w",
        "colab": {
          "base_uri": "https://localhost:8080/"
        },
        "outputId": "de1d0d46-69ac-4d58-eb29-c8fbc1d09faf"
      },
      "execution_count": null,
      "outputs": [
        {
          "output_type": "stream",
          "name": "stdout",
          "text": [
            "63\n"
          ]
        }
      ]
    },
    {
      "cell_type": "code",
      "source": [
        "# 방법 4 - 무한루프 안에 거짓이 될 수도 있는 명제 사용\n",
        "i = 1\n",
        "sum = 0\n",
        "while True:\n",
        "\n",
        "    if i <= 20:\n",
        "        if i % 3 == 0:\n",
        "            sum+=i\n",
        "    else:\n",
        "        break\n",
        "    i+=1\n",
        "\n",
        "print(sum)"
      ],
      "metadata": {
        "id": "msOXEFCpWD_D",
        "colab": {
          "base_uri": "https://localhost:8080/"
        },
        "outputId": "3b91ee62-3f41-4545-b491-f7e079b2d2bb"
      },
      "execution_count": null,
      "outputs": [
        {
          "output_type": "stream",
          "name": "stdout",
          "text": [
            "63\n"
          ]
        }
      ]
    },
    {
      "cell_type": "code",
      "source": [],
      "metadata": {
        "id": "9189wBjpEyqU"
      },
      "execution_count": null,
      "outputs": []
    },
    {
      "cell_type": "markdown",
      "source": [
        "# for\n",
        "    - 많이 사용하는 문법입니다\n",
        "    - 이터레이블 타입에 굉장히 특화되어있기 때문입니다.\n",
        "\n",
        "    - 이터레이블?\n",
        "        - 반복 가능한 모든 종류의 객체를 의미합니다.\n",
        "        - 첫번재 원소부터 마지막 원소까지 순서대로 접근이 가능하면 이터레이블이라고 부릅니다.\n",
        "        - 시퀀스 타입\n",
        "            - 리스트, 튜플, 문자열\n",
        "       - 매핑형 자료들도 이터레이블화 해서 for문으로 가져올 수 있습니다\n",
        "        - 매핑형\n",
        "            - 딕셔너리 셋 등등등..\n",
        "\n",
        "\n",
        "for의 기본적인 형태는 다음과 같습니다\n",
        "\n",
        "\n",
        "```\n",
        "for 변수 in 이터레이블:\n",
        "    # for 블록\n",
        "```\n",
        "\n",
        "- 이터레이블 원소 개수만큼 반복을 하게 됩니다.\n",
        "- 끝까지 반복하게 할수도, 중간에 끊을수도, 시작점을 다르게 할 수도 있습니다"
      ],
      "metadata": {
        "id": "SgkjvQefXd9q"
      }
    },
    {
      "cell_type": "code",
      "source": [
        "\n"
      ],
      "metadata": {
        "id": "JDni1H0jUdmj"
      },
      "execution_count": null,
      "outputs": []
    },
    {
      "cell_type": "markdown",
      "source": [
        "# for문의 다양한 형태\n",
        "\n",
        "- range와 함께 자주 쓰입니다.\n",
        "- range(시작점, 끝+1, step)"
      ],
      "metadata": {
        "id": "leHqKrc6Y4ei"
      }
    },
    {
      "cell_type": "markdown",
      "source": [
        "#### 실습. 다음 코드를 for문으로 작성해 보세요.\n",
        "~~~\n",
        "a = 10\n",
        "print(a)\n",
        "a = 20\n",
        "print(a)\n",
        "a = 30\n",
        "print(a)\n",
        "~~~"
      ],
      "metadata": {
        "id": "2xl4IvgPFN79"
      }
    },
    {
      "cell_type": "code",
      "source": [],
      "metadata": {
        "id": "8IN8Wv9DE9M_"
      },
      "execution_count": null,
      "outputs": []
    },
    {
      "cell_type": "code",
      "source": [],
      "metadata": {
        "id": "UZqRRDWVf-eE"
      },
      "execution_count": null,
      "outputs": []
    },
    {
      "cell_type": "code",
      "source": [
        "# li1 : 0~4가 담겨있는 list를 하나 만들어주세요 range를 활용합니다 [0,1,2,3,4]\n",
        "li1 = list(range(0,5))\n",
        "li1"
      ],
      "metadata": {
        "id": "_M9FWo-Avm4x",
        "colab": {
          "base_uri": "https://localhost:8080/"
        },
        "outputId": "43a44816-196c-48be-e916-378953506b18"
      },
      "execution_count": null,
      "outputs": [
        {
          "output_type": "execute_result",
          "data": {
            "text/plain": [
              "[0, 1, 2, 3, 4]"
            ]
          },
          "metadata": {},
          "execution_count": 54
        }
      ]
    },
    {
      "cell_type": "code",
      "source": [
        "# li2 : 0~4에서 짝수만 담겨있는 list를 하나 만들어주세요 range를 활용합니다 [0,2,4]\n",
        "li2 = list(range(0,5,2))\n",
        "li2"
      ],
      "metadata": {
        "id": "rIyKymW_vmMr",
        "colab": {
          "base_uri": "https://localhost:8080/"
        },
        "outputId": "da62b51c-cdf6-4483-eed0-353d4df2b81f"
      },
      "execution_count": null,
      "outputs": [
        {
          "output_type": "execute_result",
          "data": {
            "text/plain": [
              "[0, 2, 4]"
            ]
          },
          "metadata": {},
          "execution_count": 55
        }
      ]
    },
    {
      "cell_type": "markdown",
      "source": [
        "0~4까지 출력하는 for문을 하나 만들어주세요. range를 활용합니다."
      ],
      "metadata": {
        "id": "yJPKcvEDZFbw"
      }
    },
    {
      "cell_type": "code",
      "source": [
        "for i in range(0,5):\n",
        "    print(i)"
      ],
      "metadata": {
        "id": "OX2cUh9JY2NZ",
        "colab": {
          "base_uri": "https://localhost:8080/"
        },
        "outputId": "8cfc3e91-d27d-42f1-d33d-b33853ad0dd6"
      },
      "execution_count": null,
      "outputs": [
        {
          "output_type": "stream",
          "name": "stdout",
          "text": [
            "0\n",
            "1\n",
            "2\n",
            "3\n",
            "4\n"
          ]
        }
      ]
    },
    {
      "cell_type": "code",
      "source": [
        "# 시퀀스타입에서는 인덱스를 통해서 리스트의 원소를 하나씩 참조하는 방식으로 for문이 작동합니다."
      ],
      "metadata": {
        "id": "jJl1xm-PbjtK"
      },
      "execution_count": null,
      "outputs": []
    },
    {
      "cell_type": "code",
      "source": [
        "# 인덱스 번호가 홀수인 값만 꺼내오기\n",
        "\n",
        "arr = [10,20,30,40,50]\n",
        "for i in range(len(arr)):\n",
        "    if i % 2 != 0:\n",
        "        print(arr[i])"
      ],
      "metadata": {
        "colab": {
          "base_uri": "https://localhost:8080/"
        },
        "id": "6EDf7DL8WRCx",
        "outputId": "f1d16e3f-ea94-4bd2-c950-4a31073cd0e6"
      },
      "execution_count": null,
      "outputs": [
        {
          "output_type": "stream",
          "name": "stdout",
          "text": [
            "20\n",
            "40\n"
          ]
        }
      ]
    },
    {
      "cell_type": "markdown",
      "source": [
        "실습. 다음 코드를 for문으로 작성해주세요.\n",
        "```\n",
        "print('1번 끝')\n",
        "print(\"-------\")\n",
        "print('2번 끝')\n",
        "print(\"-------\")\n",
        "print('3번 끝')\n",
        "print(\"-------\")\n",
        "```"
      ],
      "metadata": {
        "id": "DZmS_pdoFYHU"
      }
    },
    {
      "cell_type": "code",
      "source": [
        "for i in range(1,4):\n",
        "    print(str(i)+'번 끝')\n",
        "    print('-------')"
      ],
      "metadata": {
        "colab": {
          "base_uri": "https://localhost:8080/"
        },
        "id": "ZSYirzMpUxey",
        "outputId": "c9f9565f-0b93-4882-ea93-20a7242e498f"
      },
      "execution_count": null,
      "outputs": [
        {
          "output_type": "stream",
          "name": "stdout",
          "text": [
            "1번 끝\n",
            "-------\n",
            "2번 끝\n",
            "-------\n",
            "3번 끝\n",
            "-------\n"
          ]
        }
      ]
    },
    {
      "cell_type": "code",
      "source": [
        "# 이름 님 안녕하세요! 라고 우리반 모두에게 인사해주세요!\n",
        "woori_ai = ('고명재', '공수현', '김시아', '김연지', '김주영', '김태완', '김현수', \\\n",
        "            '김현지', '김형섭', '김혜진', '민채영', '박지용', '박지현', \\\n",
        "            '배주은', '배지원', '신유진', '안수민', '안제현', '오수민', \\\n",
        "            '우미림', '이민희', '이소영', '이신우', '이옥석', '이우윤', \\\n",
        "            '이주혁', '장지우', '정소이', '정윤구', '정진우', '정해정', \\\n",
        "            '최하성', '홍성재')\n",
        "\n",
        "for w in woori_ai:\n",
        "    print(w+' 님 안녕하세요!')"
      ],
      "metadata": {
        "id": "wnYmZlEqgMBg",
        "colab": {
          "base_uri": "https://localhost:8080/"
        },
        "outputId": "9270c4c8-968b-4c62-dec0-ee85766295e0"
      },
      "execution_count": null,
      "outputs": [
        {
          "output_type": "stream",
          "name": "stdout",
          "text": [
            "고명재 님 안녕하세요!\n",
            "공수현 님 안녕하세요!\n",
            "김시아 님 안녕하세요!\n",
            "김연지 님 안녕하세요!\n",
            "김주영 님 안녕하세요!\n",
            "김태완 님 안녕하세요!\n",
            "김현수 님 안녕하세요!\n",
            "김현지 님 안녕하세요!\n",
            "김형섭 님 안녕하세요!\n",
            "김혜진 님 안녕하세요!\n",
            "민채영 님 안녕하세요!\n",
            "박지용 님 안녕하세요!\n",
            "박지현 님 안녕하세요!\n",
            "배주은 님 안녕하세요!\n",
            "배지원 님 안녕하세요!\n",
            "신유진 님 안녕하세요!\n",
            "안수민 님 안녕하세요!\n",
            "안제현 님 안녕하세요!\n",
            "오수민 님 안녕하세요!\n",
            "우미림 님 안녕하세요!\n",
            "이민희 님 안녕하세요!\n",
            "이소영 님 안녕하세요!\n",
            "이신우 님 안녕하세요!\n",
            "이옥석 님 안녕하세요!\n",
            "이우윤 님 안녕하세요!\n",
            "이주혁 님 안녕하세요!\n",
            "장지우 님 안녕하세요!\n",
            "정소이 님 안녕하세요!\n",
            "정윤구 님 안녕하세요!\n",
            "정진우 님 안녕하세요!\n",
            "정해정 님 안녕하세요!\n",
            "최하성 님 안녕하세요!\n",
            "홍성재 님 안녕하세요!\n"
          ]
        }
      ]
    },
    {
      "cell_type": "code",
      "source": [
        "# 1, 이름 님 안녕하세요! 처럼 번호를 매겨서 인사해주세요!\n",
        "\n",
        "for i in range(1, len(woori_ai)+1):\n",
        "\n",
        "    print(str(i)+', '+woori_ai[i-1]+' 님 안녕하세요!')\n",
        ""
      ],
      "metadata": {
        "id": "YDB3pthCFUZ3",
        "colab": {
          "base_uri": "https://localhost:8080/"
        },
        "outputId": "32e8af99-9cab-40d4-a2ed-cc358b5d63de"
      },
      "execution_count": null,
      "outputs": [
        {
          "output_type": "stream",
          "name": "stdout",
          "text": [
            "1, 고명재 님 안녕하세요!\n",
            "2, 공수현 님 안녕하세요!\n",
            "3, 김시아 님 안녕하세요!\n",
            "4, 김연지 님 안녕하세요!\n",
            "5, 김주영 님 안녕하세요!\n",
            "6, 김태완 님 안녕하세요!\n",
            "7, 김현수 님 안녕하세요!\n",
            "8, 김현지 님 안녕하세요!\n",
            "9, 김형섭 님 안녕하세요!\n",
            "10, 김혜진 님 안녕하세요!\n",
            "11, 민채영 님 안녕하세요!\n",
            "12, 박지용 님 안녕하세요!\n",
            "13, 박지현 님 안녕하세요!\n",
            "14, 배주은 님 안녕하세요!\n",
            "15, 배지원 님 안녕하세요!\n",
            "16, 신유진 님 안녕하세요!\n",
            "17, 안수민 님 안녕하세요!\n",
            "18, 안제현 님 안녕하세요!\n",
            "19, 오수민 님 안녕하세요!\n",
            "20, 우미림 님 안녕하세요!\n",
            "21, 이민희 님 안녕하세요!\n",
            "22, 이소영 님 안녕하세요!\n",
            "23, 이신우 님 안녕하세요!\n",
            "24, 이옥석 님 안녕하세요!\n",
            "25, 이우윤 님 안녕하세요!\n",
            "26, 이주혁 님 안녕하세요!\n",
            "27, 장지우 님 안녕하세요!\n",
            "28, 정소이 님 안녕하세요!\n",
            "29, 정윤구 님 안녕하세요!\n",
            "30, 정진우 님 안녕하세요!\n",
            "31, 정해정 님 안녕하세요!\n",
            "32, 최하성 님 안녕하세요!\n",
            "33, 홍성재 님 안녕하세요!\n"
          ]
        }
      ]
    },
    {
      "cell_type": "markdown",
      "source": [
        "## for와 range만 이용해서 해당 list1에 있는 모든 원소를 출력해주세요."
      ],
      "metadata": {
        "id": "L6HBkF7yb5QM"
      }
    },
    {
      "cell_type": "code",
      "source": [
        "list1 = ['a','b','c','d','e','f','g','e','f','g','h']"
      ],
      "metadata": {
        "id": "uXe8gtifbog5"
      },
      "execution_count": null,
      "outputs": []
    },
    {
      "cell_type": "code",
      "source": [
        "for i in range(len(list1)):\n",
        "    print(list1[i])"
      ],
      "metadata": {
        "id": "PZx5lJ-9domz",
        "colab": {
          "base_uri": "https://localhost:8080/"
        },
        "outputId": "cd73c500-8a1c-4d83-edf1-fe81af7b1212"
      },
      "execution_count": null,
      "outputs": [
        {
          "output_type": "stream",
          "name": "stdout",
          "text": [
            "a\n",
            "b\n",
            "c\n",
            "d\n",
            "e\n",
            "f\n",
            "g\n",
            "e\n",
            "f\n",
            "g\n",
            "h\n"
          ]
        }
      ]
    },
    {
      "cell_type": "markdown",
      "source": [
        "## 실습. 1에서 20까지의 정수 중 3의 배수 출력하고 합계 구하기\n",
        "- 아까 while문으로 만든 것을 for문으로 바꿔주시면 됩니다\n",
        "\n"
      ],
      "metadata": {
        "id": "8MujqRgNiKkl"
      }
    },
    {
      "cell_type": "code",
      "source": [
        "sum = 0\n",
        "for i in range(1, 21):\n",
        "    if i %3 == 0:\n",
        "        sum += i\n",
        "\n",
        "print(sum)\n",
        ""
      ],
      "metadata": {
        "id": "thPnjA2hmd49",
        "colab": {
          "base_uri": "https://localhost:8080/"
        },
        "outputId": "e840fb85-e947-48ae-8d47-d1707589fad0"
      },
      "execution_count": null,
      "outputs": [
        {
          "output_type": "stream",
          "name": "stdout",
          "text": [
            "63\n"
          ]
        }
      ]
    },
    {
      "cell_type": "markdown",
      "source": [
        "# 매핑형 + for문\n",
        "- 딕셔너리, Set\n",
        "- 특성상 데이터가 정렬되어 있지 않기 때문에 인덱스로 가져올 수 없습니다\n",
        "- 랜덤한 출력은 가능하지만, 특정 순서대로 출력할 수는 없습니다.(.sort() 등 별도의 명령문을 사용하지 않는 한은)"
      ],
      "metadata": {
        "id": "KgiDVwr5stkX"
      }
    },
    {
      "cell_type": "code",
      "source": [
        "# set + for문\n",
        "# set1에는 'a', 'b', 'c', 'd'가 들어있습니다. 값을 넣으시고 반복문으로 한줄에 한개씩 출력해보세요.\n",
        "set1 = {'a', 'b', 'c', 'd', 'a'}\n",
        "\n",
        "for s in set1:\n",
        "    print(s)"
      ],
      "metadata": {
        "id": "XfTLBM8Ms1oL",
        "colab": {
          "base_uri": "https://localhost:8080/"
        },
        "outputId": "0fbd807a-9f03-4ba3-b39e-c23da2a38446"
      },
      "execution_count": null,
      "outputs": [
        {
          "output_type": "stream",
          "name": "stdout",
          "text": [
            "c\n",
            "d\n",
            "a\n",
            "b\n"
          ]
        }
      ]
    },
    {
      "cell_type": "code",
      "source": [
        "# dict + for문\n",
        "fruits = {'딸기': 'Strawberry', '바나나': 'Banana', '사과': 'Apple', '포도': 'Grape'}\n",
        "\n",
        "for f in fruits:\n",
        "    print(f)"
      ],
      "metadata": {
        "id": "aJzm0lPcO0eU",
        "colab": {
          "base_uri": "https://localhost:8080/"
        },
        "outputId": "989068c4-afec-49b9-da66-93b917c29a3b"
      },
      "execution_count": null,
      "outputs": [
        {
          "output_type": "stream",
          "name": "stdout",
          "text": [
            "딸기\n",
            "바나나\n",
            "사과\n",
            "포도\n"
          ]
        }
      ]
    },
    {
      "cell_type": "code",
      "source": [
        "# 키만 꺼내서 출력해보시고\n",
        "\n",
        "for f in fruits.keys():\n",
        "    print(f)"
      ],
      "metadata": {
        "id": "VKmZlK0WO2dl",
        "colab": {
          "base_uri": "https://localhost:8080/"
        },
        "outputId": "b2d7faa5-7aa1-414c-c311-734ca8aabac7"
      },
      "execution_count": null,
      "outputs": [
        {
          "output_type": "stream",
          "name": "stdout",
          "text": [
            "딸기\n",
            "바나나\n",
            "사과\n",
            "포도\n"
          ]
        }
      ]
    },
    {
      "cell_type": "code",
      "source": [
        "# 밸류만 꺼내서 출력해보시고\n",
        "for f in fruits.values():\n",
        "    print(f)"
      ],
      "metadata": {
        "id": "20pEpIdxQzu5",
        "colab": {
          "base_uri": "https://localhost:8080/"
        },
        "outputId": "b104f7f4-5341-4344-a946-7f5ee5a24fe1"
      },
      "execution_count": null,
      "outputs": [
        {
          "output_type": "stream",
          "name": "stdout",
          "text": [
            "Strawberry\n",
            "Banana\n",
            "Apple\n",
            "Grape\n"
          ]
        }
      ]
    },
    {
      "cell_type": "code",
      "source": [
        "# 키 - 밸류(아이템) 순서로 꺼내서 출력해보세요\n",
        "'''\n",
        "출력결과:\n",
        "딸기 - Strawberry\n",
        "바나나 - Banana\n",
        "사과 - Apple\n",
        "포도 - Grape\n",
        "'''\n",
        "\n",
        "for key, value in fruits.items():\n",
        "    print(key,'-', value)"
      ],
      "metadata": {
        "id": "ivRLAf6SQ7OE",
        "colab": {
          "base_uri": "https://localhost:8080/"
        },
        "outputId": "41788559-71ab-4b08-feb6-a1dadf92d361"
      },
      "execution_count": null,
      "outputs": [
        {
          "output_type": "stream",
          "name": "stdout",
          "text": [
            "딸기 - Strawberry\n",
            "바나나 - Banana\n",
            "사과 - Apple\n",
            "포도 - Grape\n"
          ]
        }
      ]
    },
    {
      "cell_type": "code",
      "source": [
        "a, b, c = (10, 20, 30, 40, 50) # ValueError: too many values to unpack (expected 3)\n",
        "print(a)\n",
        "print(b)\n",
        "print(c)"
      ],
      "metadata": {
        "id": "xPzbGWhbW475",
        "colab": {
          "base_uri": "https://localhost:8080/",
          "height": 227
        },
        "outputId": "50c5ca1c-b3c0-4447-a252-70b666d89f97"
      },
      "execution_count": null,
      "outputs": [
        {
          "output_type": "error",
          "ename": "ValueError",
          "evalue": "ignored",
          "traceback": [
            "\u001b[0;31m---------------------------------------------------------------------------\u001b[0m",
            "\u001b[0;31mValueError\u001b[0m                                Traceback (most recent call last)",
            "\u001b[0;32m<ipython-input-95-520b2c3ffdd8>\u001b[0m in \u001b[0;36m<cell line: 1>\u001b[0;34m()\u001b[0m\n\u001b[0;32m----> 1\u001b[0;31m \u001b[0ma\u001b[0m\u001b[0;34m,\u001b[0m \u001b[0mb\u001b[0m\u001b[0;34m,\u001b[0m \u001b[0mc\u001b[0m \u001b[0;34m=\u001b[0m \u001b[0;34m(\u001b[0m\u001b[0;36m10\u001b[0m\u001b[0;34m,\u001b[0m \u001b[0;36m20\u001b[0m\u001b[0;34m,\u001b[0m \u001b[0;36m30\u001b[0m\u001b[0;34m,\u001b[0m \u001b[0;36m40\u001b[0m\u001b[0;34m,\u001b[0m \u001b[0;36m50\u001b[0m\u001b[0;34m)\u001b[0m\u001b[0;34m\u001b[0m\u001b[0;34m\u001b[0m\u001b[0m\n\u001b[0m\u001b[1;32m      2\u001b[0m \u001b[0mprint\u001b[0m\u001b[0;34m(\u001b[0m\u001b[0ma\u001b[0m\u001b[0;34m)\u001b[0m\u001b[0;34m\u001b[0m\u001b[0;34m\u001b[0m\u001b[0m\n\u001b[1;32m      3\u001b[0m \u001b[0mprint\u001b[0m\u001b[0;34m(\u001b[0m\u001b[0mb\u001b[0m\u001b[0;34m)\u001b[0m\u001b[0;34m\u001b[0m\u001b[0;34m\u001b[0m\u001b[0m\n\u001b[1;32m      4\u001b[0m \u001b[0mprint\u001b[0m\u001b[0;34m(\u001b[0m\u001b[0mc\u001b[0m\u001b[0;34m)\u001b[0m\u001b[0;34m\u001b[0m\u001b[0;34m\u001b[0m\u001b[0m\n",
            "\u001b[0;31mValueError\u001b[0m: too many values to unpack (expected 3)"
          ]
        }
      ]
    },
    {
      "cell_type": "code",
      "source": [
        "a, b, *c = (10, 20, 30, 40, 50)\n",
        "print(a)\n",
        "print(b)\n",
        "print(c)"
      ],
      "metadata": {
        "id": "JM2pZwpfnq7o",
        "colab": {
          "base_uri": "https://localhost:8080/"
        },
        "outputId": "5df9f753-112c-4314-8eeb-25bf93c96cdc"
      },
      "execution_count": null,
      "outputs": [
        {
          "output_type": "stream",
          "name": "stdout",
          "text": [
            "10\n",
            "20\n",
            "[30, 40, 50]\n"
          ]
        }
      ]
    },
    {
      "cell_type": "markdown",
      "source": [
        "실습1.\n",
        "\n",
        "- 연필, 공책, 신발 각 1종씩만 파는 연지상회가 있습니다. 다음과 같이 가격표를 출력해주세요.\n",
        "\n",
        "Input:\n",
        "\n",
        "    sale = { '연필':500, '공책':1200, '신발':58000}'\n",
        "\n",
        "Output:\n",
        "\n",
        "    연필 500\n",
        "    공책 1200\n",
        "    신발 58000\n"
      ],
      "metadata": {
        "id": "s3wW1VcetZq3"
      }
    },
    {
      "cell_type": "code",
      "source": [
        "sale = {'연필':500, '공책':1200, '신발':58000}\n",
        "\n",
        "for key, value in sale.items():\n",
        "    print(key, value)"
      ],
      "metadata": {
        "id": "kMhnKLFImLPu",
        "colab": {
          "base_uri": "https://localhost:8080/"
        },
        "outputId": "8766c2d5-c8f5-4910-b011-56fc78e8f06f"
      },
      "execution_count": null,
      "outputs": [
        {
          "output_type": "stream",
          "name": "stdout",
          "text": [
            "연필 500\n",
            "공책 1200\n",
            "신발 58000\n"
          ]
        }
      ]
    },
    {
      "cell_type": "markdown",
      "source": [
        "실습2.\n",
        "\n",
        "- 장사가 너무 잘 돼서 품목을 늘렸습니다. 연필, 공책, 신발을 각 2종씩 팔기로 했습니다. 가격표를 다시 출력해주세요.\n",
        "\n",
        "Input:\n",
        "\n",
        "    sale1 = { '연필' : [500, 300], '공책': [1200, 2100], '신발':[58000, 2121000]}\n",
        "\n",
        "Output:\n",
        "\n",
        "    연필 500, 연필 300\n",
        "    공책 1200, 공책 2100\n",
        "    신발 58000, 신발 2121000\n"
      ],
      "metadata": {
        "id": "_FRwf1HWvGf5"
      }
    },
    {
      "cell_type": "code",
      "source": [
        "sale1 = { '연필' : [500, 300], '공책': [1200, 2100], '신발':[58000, 2121000]}\n",
        "\n",
        "for key, value in sale1.items():\n",
        "    print(key, value[0],',', key, value[1])"
      ],
      "metadata": {
        "id": "y_BuA_1qvhfz",
        "colab": {
          "base_uri": "https://localhost:8080/"
        },
        "outputId": "c9bd2d47-cb72-438b-ca60-75a1238374ef"
      },
      "execution_count": null,
      "outputs": [
        {
          "output_type": "stream",
          "name": "stdout",
          "text": [
            "연필 500 , 연필 300\n",
            "공책 1200 , 공책 2100\n",
            "신발 58000 , 신발 2121000\n"
          ]
        }
      ]
    },
    {
      "cell_type": "markdown",
      "source": [
        "실습3. 장사가 더더 잘돼서 이제 1000원 미만의 상품은 안 팔기로 했습니다. 1000원 미만인 상품의 가격표만 출력해주세요."
      ],
      "metadata": {
        "id": "ae6ezYhuvgFL"
      }
    },
    {
      "cell_type": "code",
      "source": [
        "sale1 = { '연필' : [500, 300], '공책': [1200, 2100], '신발':[58000, 2121000]}\n",
        "\n",
        "for key, value in sale1.items():\n",
        "\n",
        "    for v in value:\n",
        "        if v < 1000:\n",
        "            print(key, v)"
      ],
      "metadata": {
        "id": "gp2ujRNQvqNN",
        "colab": {
          "base_uri": "https://localhost:8080/"
        },
        "outputId": "651653a3-e1c6-4e5e-ba7d-9706dedb5637"
      },
      "execution_count": null,
      "outputs": [
        {
          "output_type": "stream",
          "name": "stdout",
          "text": [
            "연필 500\n",
            "연필 300\n"
          ]
        }
      ]
    },
    {
      "cell_type": "markdown",
      "source": [
        "실습4. 손님들이 배가 불렀다며 연지상회를 더이상 찾지 않아서 눈물의 이별세일을 합니다.\n",
        "\n",
        "**장부(sale1)에는 그대로 있되 출력결과만 할인된 상태의 값으로 20프로씩 물건값을 할인해서 판매하는 가격표를 출력해주세요.**\n"
      ],
      "metadata": {
        "id": "npPkXMIkvvIK"
      }
    },
    {
      "cell_type": "code",
      "source": [
        "sale1 = { '연필' : [500, 300], '공책': [1200, 2100], '신발':[58000, 2121000]}\n",
        "for key, value in sale1.items():\n",
        "\n",
        "    print(key, int(value[0] * 0.8), key, int(value[1] * 0.8))"
      ],
      "metadata": {
        "id": "FvQJgQv1v78J",
        "colab": {
          "base_uri": "https://localhost:8080/"
        },
        "outputId": "76cf5f7a-8206-4b76-a34a-ec89568bcf64"
      },
      "execution_count": null,
      "outputs": [
        {
          "output_type": "stream",
          "name": "stdout",
          "text": [
            "연필 400 연필 240\n",
            "공책 960 공책 1680\n",
            "신발 46400 신발 1696800\n"
          ]
        }
      ]
    },
    {
      "cell_type": "markdown",
      "source": [
        "실습5. 폐업처리를 하려고 보니 장부의 가격과 틀려서 더 많은 세금을 내게 생겼습니다.\n",
        "\n",
        "**장부 가격(sale1)도 20프로씩 할인된 물건값으로 변경해주세요.**"
      ],
      "metadata": {
        "id": "k-HAbnRzv-rQ"
      }
    },
    {
      "cell_type": "code",
      "source": [
        "sale1 = { '연필' : [500, 300], '공책': [1200, 2100], '신발':[58000, 2121000]}\n",
        "\n",
        "for s in sale1.items():\n",
        "\n",
        "    for i in range(len(s[1])):\n",
        "        s[1][i] = int(s[1][i] * 0.8)\n",
        "sale1"
      ],
      "metadata": {
        "id": "KeVSlhiZ-oxA",
        "colab": {
          "base_uri": "https://localhost:8080/"
        },
        "outputId": "ff6ec999-2eaa-4505-ee25-7180db0d3044"
      },
      "execution_count": null,
      "outputs": [
        {
          "output_type": "execute_result",
          "data": {
            "text/plain": [
              "{'연필': [400, 240], '공책': [960, 1680], '신발': [46400, 1696800]}"
            ]
          },
          "metadata": {},
          "execution_count": 125
        }
      ]
    },
    {
      "cell_type": "markdown",
      "source": [
        "## 1~9 사이의 숫자 하나를 입력받아서 해당 단수의 구구단을 출력해주세요"
      ],
      "metadata": {
        "id": "jAOnAy7Zn8td"
      }
    },
    {
      "cell_type": "code",
      "source": [
        "num = input('구구단 출력을 위해 숫자를 입력하시오: ')\n",
        "for i in range(1, 10):\n",
        "    print(num+'x'+str(i)+'=', int(num)*i)"
      ],
      "metadata": {
        "id": "5ThVIMm2ra79",
        "colab": {
          "base_uri": "https://localhost:8080/"
        },
        "outputId": "0035eccb-996e-4c33-8c55-fa56377dfb61"
      },
      "execution_count": null,
      "outputs": [
        {
          "output_type": "stream",
          "name": "stdout",
          "text": [
            "구구단 출력을 위해 숫자를 입력하시오: 1\n",
            "1x1= 1\n",
            "1x2= 2\n",
            "1x3= 3\n",
            "1x4= 4\n",
            "1x5= 5\n",
            "1x6= 6\n",
            "1x7= 7\n",
            "1x8= 8\n",
            "1x9= 9\n"
          ]
        }
      ]
    },
    {
      "cell_type": "markdown",
      "source": [
        "# 파이썬의 반복문을 보고 있습니다.\n",
        "- while, for 밖에 없다 확인했고요\n",
        "- for 문 안에도 for문을 넣어서 반복을 중첩시킬 수 있습니다.\n",
        "\n",
        "```\n",
        "for i in range(숫자):\n",
        "    print('안녕')\n",
        "   for j in range(또다른 숫자):\n",
        "        그 안에 실행문\n",
        "    실행문\n",
        "```\n",
        "\n",
        "#### 반복문에서 사용하는 네이밍 규칙(권장일 뿐)\n",
        "- i 가 의미하는 것은 iterable의 약자입니다. itr로 표현하기도 하는데 결국 같은 표현입니다.\n",
        "\n",
        "- i, j, k, ...... -> 순서나 인덱스를 의미할 때\n",
        "- a, b, 임시변수명(tmp), _(underscore) -> 매개변수를 직접 의미할 때는\n",
        "\n",
        "- count, cnt -> 개수를 의미하는 용도\n",
        "- 여러개 단어를 합쳐서 쓸 때는 스네이크 케이스 snake_case\n",
        "\n"
      ],
      "metadata": {
        "id": "P_8tllDuwvW_"
      }
    },
    {
      "cell_type": "code",
      "source": [],
      "metadata": {
        "id": "ePCBg1zXttp6"
      },
      "execution_count": null,
      "outputs": []
    },
    {
      "cell_type": "code",
      "source": [],
      "metadata": {
        "id": "kyORwSguysQJ"
      },
      "execution_count": null,
      "outputs": []
    },
    {
      "cell_type": "code",
      "source": [],
      "metadata": {
        "id": "Qra5yJE2y4O3"
      },
      "execution_count": null,
      "outputs": []
    },
    {
      "cell_type": "markdown",
      "source": [
        "# 연습해보는 수밖에 없어요 ㅠㅠ\n",
        "## 울지 마시구요....."
      ],
      "metadata": {
        "id": "2uhCr0d511T1"
      }
    },
    {
      "cell_type": "code",
      "source": [],
      "metadata": {
        "id": "6uxoasva1o8z"
      },
      "execution_count": null,
      "outputs": []
    },
    {
      "cell_type": "markdown",
      "source": [
        "실습. 위에서 구구단을 한 단만 출력한 코드를 수정하여 구구단을 1~9단까지 출력해보세요."
      ],
      "metadata": {
        "id": "0X720oRm2y0j"
      }
    },
    {
      "cell_type": "code",
      "source": [
        "for i in range(2, 10):\n",
        "    print(i,'단')\n",
        "    for k in range(1, 10):\n",
        "        print(i, 'x', k, '=', i*k)\n",
        "    print('끝\\n')"
      ],
      "metadata": {
        "id": "KaPxtGwu4xdN",
        "colab": {
          "base_uri": "https://localhost:8080/"
        },
        "outputId": "b93aac4c-e12b-4bb1-ef24-b4844ef6eb96"
      },
      "execution_count": null,
      "outputs": [
        {
          "output_type": "stream",
          "name": "stdout",
          "text": [
            "2 단\n",
            "2 x 1 = 2\n",
            "2 x 2 = 4\n",
            "2 x 3 = 6\n",
            "2 x 4 = 8\n",
            "2 x 5 = 10\n",
            "2 x 6 = 12\n",
            "2 x 7 = 14\n",
            "2 x 8 = 16\n",
            "2 x 9 = 18\n",
            "끝\n",
            "\n",
            "3 단\n",
            "3 x 1 = 3\n",
            "3 x 2 = 6\n",
            "3 x 3 = 9\n",
            "3 x 4 = 12\n",
            "3 x 5 = 15\n",
            "3 x 6 = 18\n",
            "3 x 7 = 21\n",
            "3 x 8 = 24\n",
            "3 x 9 = 27\n",
            "끝\n",
            "\n",
            "4 단\n",
            "4 x 1 = 4\n",
            "4 x 2 = 8\n",
            "4 x 3 = 12\n",
            "4 x 4 = 16\n",
            "4 x 5 = 20\n",
            "4 x 6 = 24\n",
            "4 x 7 = 28\n",
            "4 x 8 = 32\n",
            "4 x 9 = 36\n",
            "끝\n",
            "\n",
            "5 단\n",
            "5 x 1 = 5\n",
            "5 x 2 = 10\n",
            "5 x 3 = 15\n",
            "5 x 4 = 20\n",
            "5 x 5 = 25\n",
            "5 x 6 = 30\n",
            "5 x 7 = 35\n",
            "5 x 8 = 40\n",
            "5 x 9 = 45\n",
            "끝\n",
            "\n",
            "6 단\n",
            "6 x 1 = 6\n",
            "6 x 2 = 12\n",
            "6 x 3 = 18\n",
            "6 x 4 = 24\n",
            "6 x 5 = 30\n",
            "6 x 6 = 36\n",
            "6 x 7 = 42\n",
            "6 x 8 = 48\n",
            "6 x 9 = 54\n",
            "끝\n",
            "\n",
            "7 단\n",
            "7 x 1 = 7\n",
            "7 x 2 = 14\n",
            "7 x 3 = 21\n",
            "7 x 4 = 28\n",
            "7 x 5 = 35\n",
            "7 x 6 = 42\n",
            "7 x 7 = 49\n",
            "7 x 8 = 56\n",
            "7 x 9 = 63\n",
            "끝\n",
            "\n",
            "8 단\n",
            "8 x 1 = 8\n",
            "8 x 2 = 16\n",
            "8 x 3 = 24\n",
            "8 x 4 = 32\n",
            "8 x 5 = 40\n",
            "8 x 6 = 48\n",
            "8 x 7 = 56\n",
            "8 x 8 = 64\n",
            "8 x 9 = 72\n",
            "끝\n",
            "\n",
            "9 단\n",
            "9 x 1 = 9\n",
            "9 x 2 = 18\n",
            "9 x 3 = 27\n",
            "9 x 4 = 36\n",
            "9 x 5 = 45\n",
            "9 x 6 = 54\n",
            "9 x 7 = 63\n",
            "9 x 8 = 72\n",
            "9 x 9 = 81\n",
            "끝\n",
            "\n"
          ]
        }
      ]
    },
    {
      "cell_type": "markdown",
      "source": [
        "    2 x 1 = 2\t3 x 1 = 3\t4 x 1 = 4\t5 x 1 = 5\t6 x 1 = 6\t7 x 1 = 7\t8 x 1 = 8\t9 x 1 = 9\n",
        "    2 x 2 = 4\t3 x 2 = 6\t4 x 2 = 8\t5 x 2 = 10\t6 x 2 = 12\t7 x 2 = 14\t8 x 2 = 16\t9 x 2 = 18\n",
        "    2 x 3 = 6\t3 x 3 = 9\t4 x 3 = 12\t5 x 3 = 15\t6 x 3 = 18\t7 x 3 = 21\t8 x 3 = 24\t9 x 3 = 27\n",
        "    2 x 4 = 8\t3 x 4 = 12\t4 x 4 = 16\t5 x 4 = 20\t6 x 4 = 24\t7 x 4 = 28\t8 x 4 = 32\t9 x 4 = 36\n",
        "    2 x 5 = 10\t3 x 5 = 15\t4 x 5 = 20\t5 x 5 = 25\t6 x 5 = 30\t7 x 5 = 35\t8 x 5 = 40\t9 x 5 = 45\n",
        "    2 x 6 = 12\t3 x 6 = 18\t4 x 6 = 24\t5 x 6 = 30\t6 x 6 = 36\t7 x 6 = 42\t8 x 6 = 48\t9 x 6 = 54\n",
        "    2 x 7 = 14\t3 x 7 = 21\t4 x 7 = 28\t5 x 7 = 35\t6 x 7 = 42\t7 x 7 = 49\t8 x 7 = 56\t9 x 7 = 63\n",
        "    2 x 8 = 16\t3 x 8 = 24\t4 x 8 = 32\t5 x 8 = 40\t6 x 8 = 48\t7 x 8 = 56\t8 x 8 = 64\t9 x 8 = 72\n",
        "    2 x 9 = 18\t3 x 9 = 27\t4 x 9 = 36\t5 x 9 = 45\t6 x 9 = 54\t7 x 9 = 63\t8 x 9 = 72\t9 x 9 = 81"
      ],
      "metadata": {
        "id": "7I6EZiYiwxra"
      }
    },
    {
      "cell_type": "code",
      "source": [
        "#구구단을 가로로도 출력해보세요\n",
        "for i in range(1, 10):\n",
        "    for k in range(2, 10):\n",
        "        print(k, 'x', i, '=', i*k, end = '\\t')\n",
        "    print()"
      ],
      "metadata": {
        "colab": {
          "base_uri": "https://localhost:8080/"
        },
        "id": "kIIlxGNC3hlj",
        "outputId": "71ac28d1-42b2-458e-cf8a-e1071b91ecff"
      },
      "execution_count": null,
      "outputs": [
        {
          "output_type": "stream",
          "name": "stdout",
          "text": [
            "2 x 1 = 2\t3 x 1 = 3\t4 x 1 = 4\t5 x 1 = 5\t6 x 1 = 6\t7 x 1 = 7\t8 x 1 = 8\t9 x 1 = 9\t\n",
            "2 x 2 = 4\t3 x 2 = 6\t4 x 2 = 8\t5 x 2 = 10\t6 x 2 = 12\t7 x 2 = 14\t8 x 2 = 16\t9 x 2 = 18\t\n",
            "2 x 3 = 6\t3 x 3 = 9\t4 x 3 = 12\t5 x 3 = 15\t6 x 3 = 18\t7 x 3 = 21\t8 x 3 = 24\t9 x 3 = 27\t\n",
            "2 x 4 = 8\t3 x 4 = 12\t4 x 4 = 16\t5 x 4 = 20\t6 x 4 = 24\t7 x 4 = 28\t8 x 4 = 32\t9 x 4 = 36\t\n",
            "2 x 5 = 10\t3 x 5 = 15\t4 x 5 = 20\t5 x 5 = 25\t6 x 5 = 30\t7 x 5 = 35\t8 x 5 = 40\t9 x 5 = 45\t\n",
            "2 x 6 = 12\t3 x 6 = 18\t4 x 6 = 24\t5 x 6 = 30\t6 x 6 = 36\t7 x 6 = 42\t8 x 6 = 48\t9 x 6 = 54\t\n",
            "2 x 7 = 14\t3 x 7 = 21\t4 x 7 = 28\t5 x 7 = 35\t6 x 7 = 42\t7 x 7 = 49\t8 x 7 = 56\t9 x 7 = 63\t\n",
            "2 x 8 = 16\t3 x 8 = 24\t4 x 8 = 32\t5 x 8 = 40\t6 x 8 = 48\t7 x 8 = 56\t8 x 8 = 64\t9 x 8 = 72\t\n",
            "2 x 9 = 18\t3 x 9 = 27\t4 x 9 = 36\t5 x 9 = 45\t6 x 9 = 54\t7 x 9 = 63\t8 x 9 = 72\t9 x 9 = 81\t\n"
          ]
        }
      ]
    },
    {
      "cell_type": "markdown",
      "source": [
        "# 반복문\n",
        "- 중첩 반복문으로 1~9단을 직접 출력 해보았습니다."
      ],
      "metadata": {
        "id": "EzF3HxugmfvC"
      }
    },
    {
      "cell_type": "code",
      "source": [],
      "metadata": {
        "id": "D7SqC79YkAzu"
      },
      "execution_count": null,
      "outputs": []
    },
    {
      "cell_type": "markdown",
      "source": [
        "## 그러면 while 문으로도 중첩이 가능할까??"
      ],
      "metadata": {
        "id": "LpKssRe7myf4"
      }
    },
    {
      "cell_type": "code",
      "source": [
        "i = 1\n",
        "while i <= 9:\n",
        "    k = 2\n",
        "    while k <= 9:\n",
        "        print(k, 'x', i, '=', i*k, end = '\\t')\n",
        "        k += 1\n",
        "    print()\n",
        "    i += 1\n"
      ],
      "metadata": {
        "id": "SzscIgnfp9Rm",
        "colab": {
          "base_uri": "https://localhost:8080/"
        },
        "outputId": "6881ad98-39ae-4b95-fe8e-3e14d2c3bcc0"
      },
      "execution_count": null,
      "outputs": [
        {
          "output_type": "stream",
          "name": "stdout",
          "text": [
            "2 x 1 = 2\t3 x 1 = 3\t4 x 1 = 4\t5 x 1 = 5\t6 x 1 = 6\t7 x 1 = 7\t8 x 1 = 8\t9 x 1 = 9\t\n",
            "2 x 2 = 4\t3 x 2 = 6\t4 x 2 = 8\t5 x 2 = 10\t6 x 2 = 12\t7 x 2 = 14\t8 x 2 = 16\t9 x 2 = 18\t\n",
            "2 x 3 = 6\t3 x 3 = 9\t4 x 3 = 12\t5 x 3 = 15\t6 x 3 = 18\t7 x 3 = 21\t8 x 3 = 24\t9 x 3 = 27\t\n",
            "2 x 4 = 8\t3 x 4 = 12\t4 x 4 = 16\t5 x 4 = 20\t6 x 4 = 24\t7 x 4 = 28\t8 x 4 = 32\t9 x 4 = 36\t\n",
            "2 x 5 = 10\t3 x 5 = 15\t4 x 5 = 20\t5 x 5 = 25\t6 x 5 = 30\t7 x 5 = 35\t8 x 5 = 40\t9 x 5 = 45\t\n",
            "2 x 6 = 12\t3 x 6 = 18\t4 x 6 = 24\t5 x 6 = 30\t6 x 6 = 36\t7 x 6 = 42\t8 x 6 = 48\t9 x 6 = 54\t\n",
            "2 x 7 = 14\t3 x 7 = 21\t4 x 7 = 28\t5 x 7 = 35\t6 x 7 = 42\t7 x 7 = 49\t8 x 7 = 56\t9 x 7 = 63\t\n",
            "2 x 8 = 16\t3 x 8 = 24\t4 x 8 = 32\t5 x 8 = 40\t6 x 8 = 48\t7 x 8 = 56\t8 x 8 = 64\t9 x 8 = 72\t\n",
            "2 x 9 = 18\t3 x 9 = 27\t4 x 9 = 36\t5 x 9 = 45\t6 x 9 = 54\t7 x 9 = 63\t8 x 9 = 72\t9 x 9 = 81\t\n"
          ]
        }
      ]
    },
    {
      "cell_type": "code",
      "source": [],
      "metadata": {
        "id": "ggoznAt_rc_7"
      },
      "execution_count": null,
      "outputs": []
    },
    {
      "cell_type": "code",
      "source": [],
      "metadata": {
        "id": "vbyAMsJopCtL"
      },
      "execution_count": null,
      "outputs": []
    }
  ]
}